{
 "cells": [
  {
   "cell_type": "markdown",
   "id": "15d22b34-dd1f-4f52-9688-8a4b8616e06c",
   "metadata": {
    "editable": true,
    "slideshow": {
     "slide_type": ""
    },
    "tags": []
   },
   "source": [
    "# Upload sortings to dandi\n",
    "\n",
    "author: laquitainesteeve@gmail.com\n",
    "\n",
    "Execution time: < 1 min\n",
    "\n",
    "Special hardware: on CPU, does not require GPU.\n",
    "\n",
    "# Setup \n",
    "\n",
    "Activate demo virtual environment (envs/demo.yml)\n",
    "\n",
    "```bash\n",
    "python -m ipykernel install --user --name demo --display-name \"demo\"\n",
    "```"
   ]
  },
  {
   "cell_type": "code",
   "execution_count": null,
   "id": "73b8f812-1185-4419-ab2d-5e9879786b06",
   "metadata": {},
   "outputs": [
    {
     "name": "stderr",
     "output_type": "stream",
     "text": [
      "/home/steeve/steeve/epfl/code/spikebias/envs/demo/lib/python3.10/site-packages/tqdm/auto.py:21: TqdmWarning: IProgress not found. Please update jupyter and ipywidgets. See https://ipywidgets.readthedocs.io/en/stable/user_install.html\n",
      "  from .autonotebook import tqdm as notebook_tqdm\n"
     ]
    },
    {
     "name": "stdout",
     "output_type": "stream",
     "text": [
      "spikeinterface 0.101.2\n",
      "CPU times: user 3.41 s, sys: 1.77 s, total: 5.18 s\n",
      "Wall time: 626 ms\n"
     ]
    }
   ],
   "source": [
    "%%time \n",
    "\n",
    "# import python packages\n",
    "import os\n",
    "import numpy as np\n",
    "from time import time\n",
    "from dandi.dandiapi import DandiAPIClient\n",
    "import spikeinterface.extractors as se\n",
    "import spikeinterface.sorters as ss\n",
    "import spikeinterface\n",
    "import spikeinterface as si\n",
    "from pynwb.file import NWBFile, Subject\n",
    "from pynwb import NWBHDF5IO\n",
    "import uuid\n",
    "from datetime import datetime\n",
    "from dateutil.tz import tzlocal\n",
    "from neuroconv.tools.spikeinterface import add_recording_to_nwbfile, add_sorting_to_nwbfile\n",
    "print(\"spikeinterface\", spikeinterface.__version__)\n",
    "\n",
    "# setup project\n",
    "proj_path = \"/home/steeve/steeve/epfl/code/spikebias/\"\n",
    "os.chdir(proj_path)\n",
    "\n",
    "# setup pipeline parameters\n",
    "dandiset_id = '001250'\n",
    "\n",
    "# setup nwb files save paths\n",
    "nwb_file_path = os.path.join(proj_path, \"tmp/\")\n"
   ]
  },
  {
   "cell_type": "markdown",
   "id": "f00e78cf",
   "metadata": {},
   "source": [
    "## Custom functions"
   ]
  },
  {
   "cell_type": "code",
   "execution_count": 2,
   "id": "5ad1ee0c",
   "metadata": {},
   "outputs": [],
   "source": [
    "def load_sortings(sorting_folders, sorting_path):\n",
    "    \n",
    "    # load sorting extractors\n",
    "    folder_paths = []\n",
    "    sorting_list = []\n",
    "    for folder_i in sorting_folders:\n",
    "        folder_paths = os.path.join(sorting_path, folder_i)\n",
    "        sorting_list.append(si.load_extractor(folder_paths))\n",
    "    \n",
    "    # unit-test\n",
    "    assert len(sorting_list) == len(sorting_folders), \"sorting files are missing\"\n",
    "    return sorting_list\n",
    "\n",
    "\n",
    "def upload_sorting_nwb_to_dandi(sorting_list, dandiset_id, subject_id, nwb_file_path, session_description, experiment_description):\n",
    "    \"\"\"\n",
    "    IMPORTANT! For Dandi 0.69.3, file_path must follow DANDI convention: {/sub-<subject_id>/sub-<subject_id>_ses-<session_id>.nwb}\n",
    "    \"\"\"\n",
    "    # create nwb files save path\n",
    "    subject_path = os.path.join(nwb_file_path, f\"{dandiset_id}/sub-{subject_id}/\")\n",
    "    os.makedirs(subject_path, exist_ok=True)\n",
    "\n",
    "    # loop over SortingExtractor files\n",
    "    for s_ix, sorter_i in enumerate(sorter_name):\n",
    "        \n",
    "        # file path\n",
    "        file_path = os.path.join(subject_path, f\"sub-{subject_id}_ses-{sorter_i}.nwb\")\n",
    "\n",
    "        # add nwb session metadata (child folder)\n",
    "        nwbfile = NWBFile(\n",
    "            session_description=session_description,\n",
    "            identifier=str(uuid.uuid4()),\n",
    "            session_start_time=datetime.now(tzlocal()),\n",
    "            experimenter=\"Laquitaine, Steeve\",\n",
    "            lab=\"Blue Brain Project\",\n",
    "            institution=\"EPFL\",\n",
    "            experiment_description=experiment_description,\n",
    "            session_id=sorter_i,\n",
    "            related_publications=\"https://doi.org/10.1101/2024.12.04.626805\",\n",
    "            keywords=[\"Biophysical simulation\", \"dense extracellular recordings\", \"spike sorting\"]\n",
    "        )\n",
    "\n",
    "        # add subject metadata (parent folder)\n",
    "        nwbfile.subject = Subject(\n",
    "            subject_id = subject_id,\n",
    "            species = \"Rattus norvegicus\",\n",
    "            age = \"P14D\",\n",
    "            sex = \"M\",\n",
    "            description = \"Wistar Rat\",\n",
    "        )\n",
    "\n",
    "        # add SortingExtractor to nwb\n",
    "        add_sorting_to_nwbfile(sorting = sorting_list[s_ix], nwbfile = nwbfile)\n",
    "\n",
    "        # write nwb file locally\n",
    "        with NWBHDF5IO(path=file_path, mode=\"w\") as io:\n",
    "            io.write(nwbfile)\n",
    "\n",
    "        # WARNINg: check file with nwbinspector <source_folder> --config dandi beforehand\n",
    "\n",
    "    # upload nwb to dandiset\n",
    "    os.system(\n",
    "        f\"\"\"\n",
    "        export DANDI_API_KEY='210e68743286d64e84743bd8980d5771ef82bf4d';\n",
    "        cd {dandiset_id};\n",
    "        dandi organize {subject_path} -f dry;\n",
    "        dandi organize {subject_path};    \n",
    "        dandi upload\n",
    "        \"\"\"\n",
    "    )\n",
    "\n",
    "    # delete temporary datasets\n",
    "    os.system(f\"rm -rf {nwb_file_path}\")\n",
    "    os.system(f\"rm -rf {dandiset_id}\")"
   ]
  },
  {
   "cell_type": "markdown",
   "id": "529bda67",
   "metadata": {},
   "source": [
    "## Initialize dandiset"
   ]
  },
  {
   "cell_type": "code",
   "execution_count": 3,
   "id": "26a2626b",
   "metadata": {},
   "outputs": [
    {
     "name": "stdout",
     "output_type": "stream",
     "text": [
      "PATH                 SIZE DONE    DONE% CHECKSUM STATUS MESSAGE   \n",
      "001250/dandiset.yaml                             done   updated   \n",
      "Summary:                  0 Bytes                1 done 1 updated \n",
      "                          <0.00%                                  \n",
      "CPU times: user 79 μs, sys: 1.36 ms, total: 1.44 ms\n",
      "Wall time: 1.7 s\n"
     ]
    },
    {
     "name": "stderr",
     "output_type": "stream",
     "text": [
      "2025-06-16 14:31:54,534 [    INFO] Logs saved in /home/steeve/.local/state/dandi-cli/log/2025.06.16-12.31.53Z-2294576.log\n"
     ]
    },
    {
     "data": {
      "text/plain": [
       "0"
      ]
     },
     "execution_count": 3,
     "metadata": {},
     "output_type": "execute_result"
    }
   ],
   "source": [
    "%%time \n",
    "\n",
    "# download a local dandiset folder with yaml config\n",
    "os.system(\"dandi download --download dandiset.yaml DANDI:001250\")"
   ]
  },
  {
   "cell_type": "markdown",
   "id": "7e473b78",
   "metadata": {},
   "source": [
    "## NPX_SPONT"
   ]
  },
  {
   "cell_type": "code",
   "execution_count": null,
   "id": "043618bb",
   "metadata": {},
   "outputs": [
    {
     "name": "stderr",
     "output_type": "stream",
     "text": [
      "/home/steeve/steeve/epfl/code/spikebias/envs/demo/lib/python3.10/site-packages/spikeinterface/core/base.py:1129: UserWarning: Versions are not the same. This might lead to compatibility errors. Using spikeinterface==0.100.6 is recommended\n",
      "  warnings.warn(\n",
      "/home/steeve/steeve/epfl/code/spikebias/envs/demo/lib/python3.10/site-packages/spikeinterface/core/base.py:1129: UserWarning: Versions are not the same. This might lead to compatibility errors. Using spikeinterface==0.96.1 is recommended\n",
      "  warnings.warn(\n",
      "/home/steeve/steeve/epfl/code/spikebias/envs/demo/lib/python3.10/site-packages/spikeinterface/core/base.py:1129: UserWarning: Versions are not the same. This might lead to compatibility errors. Using spikeinterface==0.100.5 is recommended\n",
      "  warnings.warn(\n",
      "2025-06-15 19:05:10,847 [    INFO] Loading metadata from 12 files\n",
      "[Parallel(n_jobs=-1)]: Using backend LokyBackend with 32 concurrent workers.\n",
      "[Parallel(n_jobs=-1)]: Done   1 tasks      | elapsed:    0.7s\n",
      "[Parallel(n_jobs=-1)]: Done   3 out of  12 | elapsed:    0.7s remaining:    2.0s\n",
      "[Parallel(n_jobs=-1)]: Done   5 out of  12 | elapsed:    0.7s remaining:    1.0s\n",
      "[Parallel(n_jobs=-1)]: Done   7 out of  12 | elapsed:    0.8s remaining:    0.6s\n",
      "[Parallel(n_jobs=-1)]: Done   9 out of  12 | elapsed:    0.8s remaining:    0.3s\n",
      "[Parallel(n_jobs=-1)]: Done  12 out of  12 | elapsed:    0.9s finished\n"
     ]
    },
    {
     "name": "stdout",
     "output_type": "stream",
     "text": [
      "DRY: /home/steeve/steeve/epfl/code/spikebias/tmp/001250/sub-001-fitted/sub-001-fitted_ses-ks_10m.nwb -> sub-001-fitted/sub-001-fitted_ses-ks-10m.nwb\n",
      "DRY: /home/steeve/steeve/epfl/code/spikebias/tmp/001250/sub-001-fitted/sub-001-fitted_ses-ks4.nwb -> sub-001-fitted/sub-001-fitted_ses-ks4.nwb\n",
      "DRY: /home/steeve/steeve/epfl/code/spikebias/tmp/001250/sub-001-fitted/sub-001-fitted_ses-ks2_10m.nwb -> sub-001-fitted/sub-001-fitted_ses-ks2-10m.nwb\n",
      "DRY: /home/steeve/steeve/epfl/code/spikebias/tmp/001250/sub-001-fitted/sub-001-fitted_ses-ks2.nwb -> sub-001-fitted/sub-001-fitted_ses-ks2.nwb\n",
      "DRY: /home/steeve/steeve/epfl/code/spikebias/tmp/001250/sub-001-fitted/sub-001-fitted_ses-ks.nwb -> sub-001-fitted/sub-001-fitted_ses-ks.nwb\n",
      "DRY: /home/steeve/steeve/epfl/code/spikebias/tmp/001250/sub-001-fitted/sub-001-fitted_ses-ks3_10m.nwb -> sub-001-fitted/sub-001-fitted_ses-ks3-10m.nwb\n",
      "DRY: /home/steeve/steeve/epfl/code/spikebias/tmp/001250/sub-001-fitted/sub-001-fitted_ses-ks3.nwb -> sub-001-fitted/sub-001-fitted_ses-ks3.nwb\n",
      "DRY: /home/steeve/steeve/epfl/code/spikebias/tmp/001250/sub-001-fitted/sub-001-fitted_ses-ks4_10m.nwb -> sub-001-fitted/sub-001-fitted_ses-ks4-10m.nwb\n",
      "DRY: /home/steeve/steeve/epfl/code/spikebias/tmp/001250/sub-001-fitted/sub-001-fitted_ses-ks25_10m.nwb -> sub-001-fitted/sub-001-fitted_ses-ks25-10m.nwb\n",
      "DRY: /home/steeve/steeve/epfl/code/spikebias/tmp/001250/sub-001-fitted/sub-001-fitted_ses-hs_10m.nwb -> sub-001-fitted/sub-001-fitted_ses-hs-10m.nwb\n",
      "DRY: /home/steeve/steeve/epfl/code/spikebias/tmp/001250/sub-001-fitted/sub-001-fitted_ses-ks25.nwb -> sub-001-fitted/sub-001-fitted_ses-ks25.nwb\n",
      "DRY: /home/steeve/steeve/epfl/code/spikebias/tmp/001250/sub-001-fitted/sub-001-fitted_ses-hs.nwb -> sub-001-fitted/sub-001-fitted_ses-hs.nwb\n"
     ]
    },
    {
     "name": "stderr",
     "output_type": "stream",
     "text": [
      "2025-06-15 19:05:11,718 [    INFO] Organized 0 out of 12 paths. Visit /home/steeve/steeve/epfl/code/spikebias/001250/\n",
      "2025-06-15 19:05:11,718 [    INFO] Logs saved in /home/steeve/.local/state/dandi-cli/log/2025.06.15-17.05.10Z-1724577.log\n",
      "2025-06-15 19:05:12,925 [    INFO] Loading metadata from 12 files\n",
      "[Parallel(n_jobs=-1)]: Using backend LokyBackend with 32 concurrent workers.\n",
      "[Parallel(n_jobs=-1)]: Done   1 tasks      | elapsed:    0.6s\n",
      "[Parallel(n_jobs=-1)]: Done   3 out of  12 | elapsed:    0.6s remaining:    1.9s\n",
      "[Parallel(n_jobs=-1)]: Done   5 out of  12 | elapsed:    0.6s remaining:    0.9s\n",
      "[Parallel(n_jobs=-1)]: Done   7 out of  12 | elapsed:    0.6s remaining:    0.5s\n",
      "[Parallel(n_jobs=-1)]: Done   9 out of  12 | elapsed:    0.7s remaining:    0.2s\n",
      "[Parallel(n_jobs=-1)]: Done  12 out of  12 | elapsed:    0.8s finished\n",
      "2025-06-15 19:05:13,732 [    INFO] Symlink support autodetected; setting files_mode='symlink'\n",
      "2025-06-15 19:05:13,737 [    INFO] Organized 12 paths. Visit /home/steeve/steeve/epfl/code/spikebias/001250/\n",
      "2025-06-15 19:05:13,738 [    INFO] Logs saved in /home/steeve/.local/state/dandi-cli/log/2025.06.15-17.05.12Z-1724778.log\n",
      "2025-06-15 19:05:15,701 [    INFO] Found 13 files to consider\n"
     ]
    },
    {
     "name": "stdout",
     "output_type": "stream",
     "text": [
      "PATH                                           SIZE     ERRORS PROGRESS STATUS                MESSAGE                        \n",
      "dandiset.yaml                                  5.6 kB                   skipped               should be edited online        \n",
      "sub-001-fitted/sub-001-fitted_ses-hs-10m.nwb   988.8 kB   0        100% done                  exists (older) - reuploading   \n",
      "sub-001-fitted/sub-001-fitted_ses-hs.nwb       3.1 MB     0        100% done                  exists (older) - reuploading   \n",
      "sub-001-fitted/sub-001-fitted_ses-ks-10m.nwb   4.7 MB     0        100% done                  exists (older) - reuploading   \n",
      "sub-001-fitted/sub-001-fitted_ses-ks.nwb       14.7 MB    0        100% done                  exists (older) - reuploading   \n",
      "sub-001-fitted/sub-001-fitted_ses-ks2-10m.nwb  3.0 MB     0        100% done                  exists (older) - reuploading   \n",
      "sub-001-fitted/sub-001-fitted_ses-ks2.nwb      9.9 MB     0        100% done                  exists (older) - reuploading   \n",
      "sub-001-fitted/sub-001-fitted_ses-ks25-10m.nwb 2.9 MB     0        100% done                  exists (older) - reuploading   \n",
      "sub-001-fitted/sub-001-fitted_ses-ks25.nwb     11.7 MB    0        100% done                  exists (older) - reuploading   \n",
      "sub-001-fitted/sub-001-fitted_ses-ks3-10m.nwb  2.2 MB     0        100% done                  exists (older) - reuploading   \n",
      "sub-001-fitted/sub-001-fitted_ses-ks3.nwb      8.9 MB     0        100% done                  exists (older) - reuploading   \n",
      "sub-001-fitted/sub-001-fitted_ses-ks4-10m.nwb  3.1 MB     0        100% done                  exists (older) - reuploading   \n",
      "sub-001-fitted/sub-001-fitted_ses-ks4.nwb      10.4 MB    0        100% done                  exists (older) - reuploading   \n",
      "Summary:                                       75.6 MB         8.0 MB/s 1 skipped             1 should be edited online      \n",
      "                                                                        12 done               12 exists (older) - reuploading\n",
      "CPU times: user 23.9 s, sys: 70.3 ms, total: 24 s\n",
      "Wall time: 39.2 s\n"
     ]
    },
    {
     "name": "stderr",
     "output_type": "stream",
     "text": [
      "2025-06-15 19:05:25,192 [    INFO] Logs saved in /home/steeve/.local/state/dandi-cli/log/2025.06.15-17.05.14Z-1724963.log\n"
     ]
    }
   ],
   "source": [
    "%%time\n",
    "\n",
    "# setup experiment parameters\n",
    "subject_id = \"001-fitted\"\n",
    "sorting_path = os.path.join(proj_path, \"dataset/01_intermediate/sorting/0_silico/npx_spont/\")\n",
    "sorting_folders = [\"SortingKS4\", \"SortingKS3\", \"SortingKS2_5\", \"SortingKS2\", \"SortingKS\", \"SortingHerdingspikes\", \"SortingKS4_10m\", \"SortingKS3_10m\", \"SortingKS2_5_10m\", \"SortingKS2_10m\", \"SortingKS_10m\", \"SortingHerdingspikes_10m\"]\n",
    "sorter_name = [\"ks4\", \"ks3\", \"ks25\", \"ks2\", \"ks\", \"hs\", \"ks4_10m\", \"ks3_10m\", \"ks25_10m\", \"ks2_10m\", \"ks_10m\", \"hs_10m\"] # full and 10 min sortings\n",
    "\n",
    "# download a local dandiset folder with yaml config\n",
    "os.system(\"dandi download --download dandiset.yaml DANDI:001250\")\n",
    "\n",
    "# load list of sorting extractors\n",
    "sorting_list = load_sortings(sorting_folders, sorting_path)\n",
    "\n",
    "# upload the sorting nwb files to dandi archive\n",
    "upload_sorting_nwb_to_dandi(sorting_list, dandiset_id, subject_id, nwb_file_path, session_description = \"Biophysical simulation of neuropixels in the spontaneous regime. Background noise and gain are fitted to Marques-Smith dataset.\", experiment_description=\"Biophysical simulation of neuropixels in the spontaneous regime. Background noise and gain are fitted to Marques-Smith dataset.\")"
   ]
  },
  {
   "cell_type": "markdown",
   "id": "9fe6c8b0",
   "metadata": {},
   "source": [
    "## NPX_EVOKED"
   ]
  },
  {
   "cell_type": "code",
   "execution_count": null,
   "id": "f3332f89-9106-4c1b-90e7-417df26b6091",
   "metadata": {},
   "outputs": [
    {
     "name": "stderr",
     "output_type": "stream",
     "text": [
      "/home/steeve/steeve/epfl/code/spikebias/envs/demo/lib/python3.10/site-packages/spikeinterface/core/base.py:1129: UserWarning: Versions are not the same. This might lead to compatibility errors. Using spikeinterface==0.100.6 is recommended\n",
      "  warnings.warn(\n",
      "/home/steeve/steeve/epfl/code/spikebias/envs/demo/lib/python3.10/site-packages/spikeinterface/core/base.py:1129: UserWarning: Versions are not the same. This might lead to compatibility errors. Using spikeinterface==0.100.5 is recommended\n",
      "  warnings.warn(\n",
      "2025-06-15 19:07:41,203 [    INFO] Loading metadata from 12 files\n",
      "[Parallel(n_jobs=-1)]: Using backend LokyBackend with 32 concurrent workers.\n",
      "[Parallel(n_jobs=-1)]: Done   1 tasks      | elapsed:    0.7s\n",
      "[Parallel(n_jobs=-1)]: Done   3 out of  12 | elapsed:    0.7s remaining:    2.1s\n",
      "[Parallel(n_jobs=-1)]: Done   5 out of  12 | elapsed:    0.7s remaining:    1.0s\n",
      "[Parallel(n_jobs=-1)]: Done   7 out of  12 | elapsed:    0.7s remaining:    0.5s\n",
      "[Parallel(n_jobs=-1)]: Done   9 out of  12 | elapsed:    0.8s remaining:    0.3s\n",
      "[Parallel(n_jobs=-1)]: Done  12 out of  12 | elapsed:    0.9s finished\n",
      "2025-06-15 19:07:42,092 [    INFO] Organized 0 out of 12 paths. Visit /home/steeve/steeve/epfl/code/spikebias/001250/\n",
      "2025-06-15 19:07:42,092 [    INFO] Logs saved in /home/steeve/.local/state/dandi-cli/log/2025.06.15-17.07.40Z-1728403.log\n"
     ]
    },
    {
     "name": "stdout",
     "output_type": "stream",
     "text": [
      "DRY: /home/steeve/steeve/epfl/code/spikebias/tmp/001250/sub-002-fitted/sub-002-fitted_ses-ks2_10m.nwb -> sub-002-fitted/sub-002-fitted_ses-ks2-10m.nwb\n",
      "DRY: /home/steeve/steeve/epfl/code/spikebias/tmp/001250/sub-002-fitted/sub-002-fitted_ses-ks25_10m.nwb -> sub-002-fitted/sub-002-fitted_ses-ks25-10m.nwb\n",
      "DRY: /home/steeve/steeve/epfl/code/spikebias/tmp/001250/sub-002-fitted/sub-002-fitted_ses-hs.nwb -> sub-002-fitted/sub-002-fitted_ses-hs.nwb\n",
      "DRY: /home/steeve/steeve/epfl/code/spikebias/tmp/001250/sub-002-fitted/sub-002-fitted_ses-ks3_10m.nwb -> sub-002-fitted/sub-002-fitted_ses-ks3-10m.nwb\n",
      "DRY: /home/steeve/steeve/epfl/code/spikebias/tmp/001250/sub-002-fitted/sub-002-fitted_ses-ks_10m.nwb -> sub-002-fitted/sub-002-fitted_ses-ks-10m.nwb\n",
      "DRY: /home/steeve/steeve/epfl/code/spikebias/tmp/001250/sub-002-fitted/sub-002-fitted_ses-ks.nwb -> sub-002-fitted/sub-002-fitted_ses-ks.nwb\n",
      "DRY: /home/steeve/steeve/epfl/code/spikebias/tmp/001250/sub-002-fitted/sub-002-fitted_ses-ks4.nwb -> sub-002-fitted/sub-002-fitted_ses-ks4.nwb\n",
      "DRY: /home/steeve/steeve/epfl/code/spikebias/tmp/001250/sub-002-fitted/sub-002-fitted_ses-hs_10m.nwb -> sub-002-fitted/sub-002-fitted_ses-hs-10m.nwb\n",
      "DRY: /home/steeve/steeve/epfl/code/spikebias/tmp/001250/sub-002-fitted/sub-002-fitted_ses-ks4_10m.nwb -> sub-002-fitted/sub-002-fitted_ses-ks4-10m.nwb\n",
      "DRY: /home/steeve/steeve/epfl/code/spikebias/tmp/001250/sub-002-fitted/sub-002-fitted_ses-ks2.nwb -> sub-002-fitted/sub-002-fitted_ses-ks2.nwb\n",
      "DRY: /home/steeve/steeve/epfl/code/spikebias/tmp/001250/sub-002-fitted/sub-002-fitted_ses-ks3.nwb -> sub-002-fitted/sub-002-fitted_ses-ks3.nwb\n",
      "DRY: /home/steeve/steeve/epfl/code/spikebias/tmp/001250/sub-002-fitted/sub-002-fitted_ses-ks25.nwb -> sub-002-fitted/sub-002-fitted_ses-ks25.nwb\n"
     ]
    },
    {
     "name": "stderr",
     "output_type": "stream",
     "text": [
      "2025-06-15 19:07:43,322 [    INFO] Loading metadata from 12 files\n",
      "[Parallel(n_jobs=-1)]: Using backend LokyBackend with 32 concurrent workers.\n",
      "[Parallel(n_jobs=-1)]: Done   1 tasks      | elapsed:    0.6s\n",
      "[Parallel(n_jobs=-1)]: Done   3 out of  12 | elapsed:    0.6s remaining:    1.8s\n",
      "[Parallel(n_jobs=-1)]: Done   5 out of  12 | elapsed:    0.6s remaining:    0.9s\n",
      "[Parallel(n_jobs=-1)]: Done   7 out of  12 | elapsed:    0.6s remaining:    0.5s\n",
      "[Parallel(n_jobs=-1)]: Done   9 out of  12 | elapsed:    0.7s remaining:    0.2s\n",
      "[Parallel(n_jobs=-1)]: Done  12 out of  12 | elapsed:    0.8s finished\n",
      "2025-06-15 19:07:44,120 [    INFO] Symlink support autodetected; setting files_mode='symlink'\n",
      "2025-06-15 19:07:44,125 [    INFO] Organized 12 paths. Visit /home/steeve/steeve/epfl/code/spikebias/001250/\n",
      "2025-06-15 19:07:44,125 [    INFO] Logs saved in /home/steeve/.local/state/dandi-cli/log/2025.06.15-17.07.42Z-1728586.log\n",
      "2025-06-15 19:07:46,080 [    INFO] Found 25 files to consider\n"
     ]
    },
    {
     "name": "stdout",
     "output_type": "stream",
     "text": [
      "PATH                                           SIZE     ERRORS   PROGRESS STATUS                MESSAGE                  \n",
      "dandiset.yaml                                  5.6 kB                     skipped               should be edited online  \n",
      "sub-001-fitted/sub-001-fitted_ses-hs-10m.nwb                              ERROR                 File not found           \n",
      "sub-001-fitted/sub-001-fitted_ses-hs.nwb                                  ERROR                 File not found           \n",
      "sub-001-fitted/sub-001-fitted_ses-ks-10m.nwb                              ERROR                 File not found           \n",
      "sub-001-fitted/sub-001-fitted_ses-ks.nwb                                  ERROR                 File not found           \n",
      "sub-001-fitted/sub-001-fitted_ses-ks2-10m.nwb                             ERROR                 File not found           \n",
      "sub-001-fitted/sub-001-fitted_ses-ks2.nwb                                 ERROR                 File not found           \n",
      "sub-001-fitted/sub-001-fitted_ses-ks25-10m.nwb                            ERROR                 File not found           \n",
      "sub-001-fitted/sub-001-fitted_ses-ks25.nwb                                ERROR                 File not found           \n",
      "sub-001-fitted/sub-001-fitted_ses-ks3-10m.nwb                             ERROR                 File not found           \n",
      "sub-001-fitted/sub-001-fitted_ses-ks3.nwb                                 ERROR                 File not found           \n",
      "sub-001-fitted/sub-001-fitted_ses-ks4-10m.nwb                             ERROR                 File not found           \n",
      "sub-001-fitted/sub-001-fitted_ses-ks4.nwb                                 ERROR                 File not found           \n",
      "sub-002-fitted/sub-002-fitted_ses-hs-10m.nwb   1.4 MB     0          100% done                                           \n",
      "sub-002-fitted/sub-002-fitted_ses-hs.nwb       7.6 MB     0          100% done                                           \n",
      "sub-002-fitted/sub-002-fitted_ses-ks-10m.nwb   24.3 MB    0          100% done                                           \n",
      "sub-002-fitted/sub-002-fitted_ses-ks.nwb       18.1 MB    0          100% done                                           \n",
      "sub-002-fitted/sub-002-fitted_ses-ks2-10m.nwb  4.9 MB     0          100% done                                           \n",
      "sub-002-fitted/sub-002-fitted_ses-ks2.nwb      17.2 MB    0          100% done                                           \n",
      "sub-002-fitted/sub-002-fitted_ses-ks25-10m.nwb 11.5 MB    0          100% done                                           \n",
      "sub-002-fitted/sub-002-fitted_ses-ks25.nwb     14.3 MB    0          100% done                                           \n",
      "sub-002-fitted/sub-002-fitted_ses-ks3-10m.nwb  22.2 MB    0          100% done                                           \n",
      "sub-002-fitted/sub-002-fitted_ses-ks3.nwb      15.8 MB    0          100% done                                           \n",
      "sub-002-fitted/sub-002-fitted_ses-ks4-10m.nwb  26.6 MB    0          100% done                                           \n",
      "sub-002-fitted/sub-002-fitted_ses-ks4.nwb      21.7 MB    0          100% done                                           \n",
      "Summary:                                       185.7 MB         18.7 MB/s 1 skipped             1 should be edited online\n",
      "                                                                          12 ERROR              12 File not found        \n",
      "                                                                          12 done                                        \n",
      "CPU times: user 1min 56s, sys: 357 ms, total: 1min 56s\n",
      "Wall time: 2min 12s\n"
     ]
    },
    {
     "name": "stderr",
     "output_type": "stream",
     "text": [
      "2025-06-15 19:07:56,230 [    INFO] Logs saved in /home/steeve/.local/state/dandi-cli/log/2025.06.15-17.07.44Z-1728779.log\n",
      "Error: File not found\n"
     ]
    }
   ],
   "source": [
    "%%time\n",
    "\n",
    "# setup experiment parameters\n",
    "subject_id = \"002-fitted\"\n",
    "sorting_path = os.path.join(proj_path, \"dataset/01_intermediate/sorting/0_silico/npx_evoked/\")\n",
    "sorting_folders = [\"SortingKS4_full\", \"SortingKS3_full\", \"SortingKS2_5_full\", \"SortingKS2_full\", \"SortingKS_full\", \"SortingHerdingspikes_full\", \"SortingKS4_10m\", \"SortingKS3_10m\", \"SortingKS2_5_10m\", \"SortingKS2_10m\", \"SortingKS_10m\", \"SortingHerdingspikes_10m\"]\n",
    "sorter_name = [\"ks4\", \"ks3\", \"ks25\", \"ks2\", \"ks\", \"hs\", \"ks4_10m\", \"ks3_10m\", \"ks25_10m\", \"ks2_10m\", \"ks_10m\", \"hs_10m\"] # full and 10 min sortings\n",
    "\n",
    "# download a local dandiset folder with yaml config\n",
    "os.system(\"dandi download --download dandiset.yaml DANDI:001250\")\n",
    "\n",
    "# load list of sorting extractors\n",
    "sorting_list = load_sortings(sorting_folders, sorting_path)\n",
    "\n",
    "# upload the sorting nwb files to dandi archive\n",
    "upload_sorting_nwb_to_dandi(sorting_list, dandiset_id, subject_id, nwb_file_path, session_description = \"Biophysical simulation of neuropixels in the evoked regime. Background noise and gain are fitted to Marques-Smith dataset.\", experiment_description=\"Biophysical simulation of neuropixels in the evoked regime. Background noise and gain are fitted to Marques-Smith dataset.\")"
   ]
  },
  {
   "cell_type": "markdown",
   "id": "f0d73a9d",
   "metadata": {},
   "source": [
    "## Dense probe 1"
   ]
  },
  {
   "cell_type": "code",
   "execution_count": 9,
   "id": "2a2bce62",
   "metadata": {},
   "outputs": [
    {
     "name": "stdout",
     "output_type": "stream",
     "text": [
      "PATH                 SIZE DONE    DONE% CHECKSUM STATUS MESSAGE   \n",
      "001250/dandiset.yaml                             done   updated   \n",
      "Summary:                  0 Bytes                1 done 1 updated \n",
      "                          <0.00%                                  \n"
     ]
    },
    {
     "name": "stderr",
     "output_type": "stream",
     "text": [
      "2025-06-16 14:43:28,034 [    INFO] Logs saved in /home/steeve/.local/state/dandi-cli/log/2025.06.16-12.43.27Z-2302039.log\n",
      "/home/steeve/steeve/epfl/code/spikebias/envs/demo/lib/python3.10/site-packages/spikeinterface/core/base.py:1129: UserWarning: Versions are not the same. This might lead to compatibility errors. Using spikeinterface==0.100.6 is recommended\n",
      "  warnings.warn(\n",
      "/home/steeve/steeve/epfl/code/spikebias/envs/demo/lib/python3.10/site-packages/spikeinterface/core/base.py:1129: UserWarning: Versions are not the same. This might lead to compatibility errors. Using spikeinterface==0.100.5 is recommended\n",
      "  warnings.warn(\n",
      "2025-06-16 14:43:31,504 [    INFO] Loading metadata from 6 files\n",
      "[Parallel(n_jobs=-1)]: Using backend LokyBackend with 32 concurrent workers.\n",
      "[Parallel(n_jobs=-1)]: Done   2 out of   6 | elapsed:    0.7s remaining:    1.4s\n",
      "[Parallel(n_jobs=-1)]: Done   3 out of   6 | elapsed:    0.7s remaining:    0.7s\n",
      "[Parallel(n_jobs=-1)]: Done   4 out of   6 | elapsed:    0.7s remaining:    0.3s\n",
      "[Parallel(n_jobs=-1)]: Done   6 out of   6 | elapsed:    0.7s finished\n",
      "2025-06-16 14:43:32,230 [    INFO] Organized 0 out of 6 paths. Visit /home/steeve/steeve/epfl/code/spikebias/001250/\n",
      "2025-06-16 14:43:32,230 [    INFO] Logs saved in /home/steeve/.local/state/dandi-cli/log/2025.06.16-12.43.30Z-2302082.log\n"
     ]
    },
    {
     "name": "stdout",
     "output_type": "stream",
     "text": [
      "DRY: /home/steeve/steeve/epfl/code/spikebias/tmp/001250/sub-003-fitted/sub-003-fitted_ses-ks3_10m.nwb -> sub-003-fitted/sub-003-fitted_ses-ks3-10m.nwb\n",
      "DRY: /home/steeve/steeve/epfl/code/spikebias/tmp/001250/sub-003-fitted/sub-003-fitted_ses-ks2_10m.nwb -> sub-003-fitted/sub-003-fitted_ses-ks2-10m.nwb\n",
      "DRY: /home/steeve/steeve/epfl/code/spikebias/tmp/001250/sub-003-fitted/sub-003-fitted_ses-hs_10m.nwb -> sub-003-fitted/sub-003-fitted_ses-hs-10m.nwb\n",
      "DRY: /home/steeve/steeve/epfl/code/spikebias/tmp/001250/sub-003-fitted/sub-003-fitted_ses-ks4_10m.nwb -> sub-003-fitted/sub-003-fitted_ses-ks4-10m.nwb\n",
      "DRY: /home/steeve/steeve/epfl/code/spikebias/tmp/001250/sub-003-fitted/sub-003-fitted_ses-ks25_10m.nwb -> sub-003-fitted/sub-003-fitted_ses-ks25-10m.nwb\n",
      "DRY: /home/steeve/steeve/epfl/code/spikebias/tmp/001250/sub-003-fitted/sub-003-fitted_ses-ks_10m.nwb -> sub-003-fitted/sub-003-fitted_ses-ks-10m.nwb\n"
     ]
    },
    {
     "name": "stderr",
     "output_type": "stream",
     "text": [
      "2025-06-16 14:43:33,411 [    INFO] Loading metadata from 6 files\n",
      "[Parallel(n_jobs=-1)]: Using backend LokyBackend with 32 concurrent workers.\n",
      "[Parallel(n_jobs=-1)]: Done   2 out of   6 | elapsed:    0.6s remaining:    1.2s\n",
      "[Parallel(n_jobs=-1)]: Done   3 out of   6 | elapsed:    0.6s remaining:    0.6s\n",
      "[Parallel(n_jobs=-1)]: Done   4 out of   6 | elapsed:    0.6s remaining:    0.3s\n",
      "[Parallel(n_jobs=-1)]: Done   6 out of   6 | elapsed:    0.7s finished\n",
      "2025-06-16 14:43:34,070 [    INFO] Symlink support autodetected; setting files_mode='symlink'\n",
      "2025-06-16 14:43:34,074 [    INFO] Organized 6 paths. Visit /home/steeve/steeve/epfl/code/spikebias/001250/\n",
      "2025-06-16 14:43:34,074 [    INFO] Logs saved in /home/steeve/.local/state/dandi-cli/log/2025.06.16-12.43.32Z-2302248.log\n",
      "2025-06-16 14:43:36,002 [    INFO] Found 7 files to consider\n"
     ]
    },
    {
     "name": "stdout",
     "output_type": "stream",
     "text": [
      "PATH                                           SIZE     ERRORS   PROGRESS STATUS                MESSAGE                  \n",
      "dandiset.yaml                                  5.6 kB                     skipped               should be edited online  \n",
      "sub-003-fitted/sub-003-fitted_ses-hs-10m.nwb   539.3 kB   0          100% done                                           \n",
      "sub-003-fitted/sub-003-fitted_ses-ks-10m.nwb   1.9 MB     0          100% done                                           \n",
      "sub-003-fitted/sub-003-fitted_ses-ks2-10m.nwb  1.2 MB     0          100% done                                           \n",
      "sub-003-fitted/sub-003-fitted_ses-ks25-10m.nwb 1.2 MB     0          100% done                                           \n",
      "sub-003-fitted/sub-003-fitted_ses-ks3-10m.nwb  845.5 kB   0          100% done                                           \n",
      "sub-003-fitted/sub-003-fitted_ses-ks4-10m.nwb  928.4 kB   0          100% done                                           \n",
      "Summary:                                       6.6 MB            1.2 MB/s 1 skipped             1 should be edited online\n",
      "                                                                          6 done                                         \n",
      "CPU times: user 2.64 s, sys: 15 ms, total: 2.65 s\n",
      "Wall time: 14.8 s\n"
     ]
    },
    {
     "name": "stderr",
     "output_type": "stream",
     "text": [
      "2025-06-16 14:43:41,467 [    INFO] Logs saved in /home/steeve/.local/state/dandi-cli/log/2025.06.16-12.43.34Z-2302404.log\n"
     ]
    }
   ],
   "source": [
    "%%time\n",
    "\n",
    "# setup experiment parameters\n",
    "subject_id = \"003-fitted\"\n",
    "sorting_path = os.path.join(proj_path, \"dataset/01_intermediate/sorting/0_silico/dense_probe1/\")\n",
    "sorting_folders = [\"SortingKS4_10m\", \"SortingKS3_10m\", \"SortingKS2_5_10m\", \"SortingKS2_10m\", \"SortingKS_10m\", \"SortingHerdingspikes_10m\"]\n",
    "sorter_name = [\"ks4_10m\", \"ks3_10m\", \"ks25_10m\", \"ks2_10m\", \"ks_10m\", \"hs_10m\"] # 10 min sortings\n",
    "\n",
    "# download a local dandiset folder with yaml config\n",
    "os.system(\"dandi download --download dandiset.yaml DANDI:001250\")\n",
    "\n",
    "# load list of sorting extractors\n",
    "sorting_list = load_sortings(sorting_folders, sorting_path)\n",
    "\n",
    "# upload the sorting nwb files to dandi archive\n",
    "upload_sorting_nwb_to_dandi(sorting_list, dandiset_id, subject_id, nwb_file_path, session_description = \"Biophysical simulation of dense probe 1 in the spontaneous regime. Background noise and gain are fitted to Horvath depth 1 dataset.\", experiment_description=\"Biophysical simulation of dense probe 1 in the spontaneous regime. Background noise and gain are fitted to Horvath depth 1 dataset.\")"
   ]
  },
  {
   "cell_type": "markdown",
   "id": "b37fa201",
   "metadata": {},
   "source": [
    "## Dense probe 2"
   ]
  },
  {
   "cell_type": "code",
   "execution_count": 10,
   "id": "aa7e40af",
   "metadata": {},
   "outputs": [
    {
     "name": "stderr",
     "output_type": "stream",
     "text": [
      "2025-06-16 14:44:05,450 [    INFO] Logs saved in /home/steeve/.local/state/dandi-cli/log/2025.06.16-12.44.04Z-2302746.log\n",
      "/home/steeve/steeve/epfl/code/spikebias/envs/demo/lib/python3.10/site-packages/spikeinterface/core/base.py:1129: UserWarning: Versions are not the same. This might lead to compatibility errors. Using spikeinterface==0.100.6 is recommended\n",
      "  warnings.warn(\n",
      "/home/steeve/steeve/epfl/code/spikebias/envs/demo/lib/python3.10/site-packages/spikeinterface/core/base.py:1129: UserWarning: Versions are not the same. This might lead to compatibility errors. Using spikeinterface==0.100.5 is recommended\n",
      "  warnings.warn(\n"
     ]
    },
    {
     "name": "stdout",
     "output_type": "stream",
     "text": [
      "PATH                 SIZE DONE    DONE% CHECKSUM STATUS MESSAGE   \n",
      "001250/dandiset.yaml                             done   updated   \n",
      "Summary:                  0 Bytes                1 done 1 updated \n",
      "                          <0.00%                                  \n"
     ]
    },
    {
     "name": "stderr",
     "output_type": "stream",
     "text": [
      "2025-06-16 14:44:08,927 [    INFO] Loading metadata from 6 files\n",
      "[Parallel(n_jobs=-1)]: Using backend LokyBackend with 32 concurrent workers.\n",
      "[Parallel(n_jobs=-1)]: Done   2 out of   6 | elapsed:    0.7s remaining:    1.3s\n",
      "[Parallel(n_jobs=-1)]: Done   3 out of   6 | elapsed:    0.7s remaining:    0.7s\n",
      "[Parallel(n_jobs=-1)]: Done   4 out of   6 | elapsed:    0.7s remaining:    0.3s\n",
      "[Parallel(n_jobs=-1)]: Done   6 out of   6 | elapsed:    0.7s finished\n",
      "2025-06-16 14:44:09,638 [    INFO] Organized 0 out of 6 paths. Visit /home/steeve/steeve/epfl/code/spikebias/001250/\n",
      "2025-06-16 14:44:09,638 [    INFO] Logs saved in /home/steeve/.local/state/dandi-cli/log/2025.06.16-12.44.08Z-2302789.log\n"
     ]
    },
    {
     "name": "stdout",
     "output_type": "stream",
     "text": [
      "DRY: /home/steeve/steeve/epfl/code/spikebias/tmp/001250/sub-004-fitted/sub-004-fitted_ses-ks2_10m.nwb -> sub-004-fitted/sub-004-fitted_ses-ks2-10m.nwb\n",
      "DRY: /home/steeve/steeve/epfl/code/spikebias/tmp/001250/sub-004-fitted/sub-004-fitted_ses-hs_10m.nwb -> sub-004-fitted/sub-004-fitted_ses-hs-10m.nwb\n",
      "DRY: /home/steeve/steeve/epfl/code/spikebias/tmp/001250/sub-004-fitted/sub-004-fitted_ses-ks3_10m.nwb -> sub-004-fitted/sub-004-fitted_ses-ks3-10m.nwb\n",
      "DRY: /home/steeve/steeve/epfl/code/spikebias/tmp/001250/sub-004-fitted/sub-004-fitted_ses-ks25_10m.nwb -> sub-004-fitted/sub-004-fitted_ses-ks25-10m.nwb\n",
      "DRY: /home/steeve/steeve/epfl/code/spikebias/tmp/001250/sub-004-fitted/sub-004-fitted_ses-ks_10m.nwb -> sub-004-fitted/sub-004-fitted_ses-ks-10m.nwb\n",
      "DRY: /home/steeve/steeve/epfl/code/spikebias/tmp/001250/sub-004-fitted/sub-004-fitted_ses-ks4_10m.nwb -> sub-004-fitted/sub-004-fitted_ses-ks4-10m.nwb\n"
     ]
    },
    {
     "name": "stderr",
     "output_type": "stream",
     "text": [
      "2025-06-16 14:44:10,837 [    INFO] Loading metadata from 6 files\n",
      "[Parallel(n_jobs=-1)]: Using backend LokyBackend with 32 concurrent workers.\n",
      "[Parallel(n_jobs=-1)]: Done   2 out of   6 | elapsed:    0.6s remaining:    1.3s\n",
      "[Parallel(n_jobs=-1)]: Done   3 out of   6 | elapsed:    0.6s remaining:    0.6s\n",
      "[Parallel(n_jobs=-1)]: Done   4 out of   6 | elapsed:    0.6s remaining:    0.3s\n",
      "[Parallel(n_jobs=-1)]: Done   6 out of   6 | elapsed:    0.6s finished\n",
      "2025-06-16 14:44:11,488 [    INFO] Symlink support autodetected; setting files_mode='symlink'\n",
      "2025-06-16 14:44:11,491 [    INFO] Organized 6 paths. Visit /home/steeve/steeve/epfl/code/spikebias/001250/\n",
      "2025-06-16 14:44:11,491 [    INFO] Logs saved in /home/steeve/.local/state/dandi-cli/log/2025.06.16-12.44.10Z-2302945.log\n",
      "2025-06-16 14:44:13,405 [    INFO] Found 7 files to consider\n"
     ]
    },
    {
     "name": "stdout",
     "output_type": "stream",
     "text": [
      "PATH                                           SIZE     ERRORS   PROGRESS STATUS                MESSAGE                  \n",
      "dandiset.yaml                                  5.6 kB                     skipped               should be edited online  \n",
      "sub-004-fitted/sub-004-fitted_ses-hs-10m.nwb   539.3 kB   0          100% done                                           \n",
      "sub-004-fitted/sub-004-fitted_ses-ks-10m.nwb   1.9 MB     0          100% done                                           \n",
      "sub-004-fitted/sub-004-fitted_ses-ks2-10m.nwb  1.2 MB     0          100% done                                           \n",
      "sub-004-fitted/sub-004-fitted_ses-ks25-10m.nwb 1.2 MB     0          100% done                                           \n",
      "sub-004-fitted/sub-004-fitted_ses-ks3-10m.nwb  845.5 kB   0          100% done                                           \n",
      "sub-004-fitted/sub-004-fitted_ses-ks4-10m.nwb  928.4 kB   0          100% done                                           \n",
      "Summary:                                       6.6 MB            1.2 MB/s 1 skipped             1 should be edited online\n",
      "                                                                          6 done                                         \n",
      "CPU times: user 2.63 s, sys: 15 ms, total: 2.65 s\n",
      "Wall time: 14.7 s\n"
     ]
    },
    {
     "name": "stderr",
     "output_type": "stream",
     "text": [
      "2025-06-16 14:44:18,871 [    INFO] Logs saved in /home/steeve/.local/state/dandi-cli/log/2025.06.16-12.44.12Z-2303104.log\n"
     ]
    }
   ],
   "source": [
    "%%time\n",
    "\n",
    "# setup experiment parameters\n",
    "subject_id = \"004-fitted\"\n",
    "sorting_path = os.path.join(proj_path, \"dataset/01_intermediate/sorting/0_silico/dense_probe2/\")\n",
    "sorting_folders = [\"SortingKS4_10m\", \"SortingKS3_10m\", \"SortingKS2_5_10m\", \"SortingKS2_10m\", \"SortingKS_10m\", \"SortingHerdingspikes_10m\"]\n",
    "sorter_name = [\"ks4_10m\", \"ks3_10m\", \"ks25_10m\", \"ks2_10m\", \"ks_10m\", \"hs_10m\"] # 10 min sortings\n",
    "\n",
    "# download a local dandiset folder with yaml config\n",
    "os.system(\"dandi download --download dandiset.yaml DANDI:001250\")\n",
    "\n",
    "# load list of sorting extractors\n",
    "sorting_list = load_sortings(sorting_folders, sorting_path)\n",
    "\n",
    "# upload the sorting nwb files to dandi archive\n",
    "upload_sorting_nwb_to_dandi(sorting_list, dandiset_id, subject_id, nwb_file_path, session_description = \"Biophysical simulation of dense probe 2 in the spontaneous regime. Background noise and gain are fitted to Horvath depth 2 dataset.\", experiment_description=\"Biophysical simulation of dense probe 2 in the spontaneous regime. Background noise and gain are fitted to Horvath depth 2 dataset.\")"
   ]
  },
  {
   "cell_type": "markdown",
   "id": "f89c2df7",
   "metadata": {},
   "source": [
    "## Dense probe 3"
   ]
  },
  {
   "cell_type": "code",
   "execution_count": 11,
   "id": "38116110",
   "metadata": {},
   "outputs": [
    {
     "name": "stdout",
     "output_type": "stream",
     "text": [
      "PATH                 SIZE DONE    DONE% CHECKSUM STATUS MESSAGE   \n",
      "001250/dandiset.yaml                             done   updated   \n",
      "Summary:                  0 Bytes                1 done 1 updated \n",
      "                          <0.00%                                  \n"
     ]
    },
    {
     "name": "stderr",
     "output_type": "stream",
     "text": [
      "2025-06-16 14:44:20,150 [    INFO] Logs saved in /home/steeve/.local/state/dandi-cli/log/2025.06.16-12.44.19Z-2303237.log\n",
      "/home/steeve/steeve/epfl/code/spikebias/envs/demo/lib/python3.10/site-packages/spikeinterface/core/base.py:1129: UserWarning: Versions are not the same. This might lead to compatibility errors. Using spikeinterface==0.100.6 is recommended\n",
      "  warnings.warn(\n",
      "/home/steeve/steeve/epfl/code/spikebias/envs/demo/lib/python3.10/site-packages/spikeinterface/core/base.py:1129: UserWarning: Versions are not the same. This might lead to compatibility errors. Using spikeinterface==0.100.5 is recommended\n",
      "  warnings.warn(\n",
      "2025-06-16 14:44:25,937 [    INFO] Loading metadata from 6 files\n",
      "[Parallel(n_jobs=-1)]: Using backend LokyBackend with 32 concurrent workers.\n",
      "[Parallel(n_jobs=-1)]: Done   2 out of   6 | elapsed:    0.7s remaining:    1.3s\n",
      "[Parallel(n_jobs=-1)]: Done   3 out of   6 | elapsed:    0.7s remaining:    0.7s\n",
      "[Parallel(n_jobs=-1)]: Done   4 out of   6 | elapsed:    0.7s remaining:    0.3s\n",
      "[Parallel(n_jobs=-1)]: Done   6 out of   6 | elapsed:    0.7s finished\n",
      "2025-06-16 14:44:26,650 [    INFO] Organized 0 out of 6 paths. Visit /home/steeve/steeve/epfl/code/spikebias/001250/\n",
      "2025-06-16 14:44:26,650 [    INFO] Logs saved in /home/steeve/.local/state/dandi-cli/log/2025.06.16-12.44.25Z-2303288.log\n"
     ]
    },
    {
     "name": "stdout",
     "output_type": "stream",
     "text": [
      "DRY: /home/steeve/steeve/epfl/code/spikebias/tmp/001250/sub-005-fitted/sub-005-fitted_ses-ks2_10m.nwb -> sub-005-fitted/sub-005-fitted_ses-ks2-10m.nwb\n",
      "DRY: /home/steeve/steeve/epfl/code/spikebias/tmp/001250/sub-005-fitted/sub-005-fitted_ses-ks25_10m.nwb -> sub-005-fitted/sub-005-fitted_ses-ks25-10m.nwb\n",
      "DRY: /home/steeve/steeve/epfl/code/spikebias/tmp/001250/sub-005-fitted/sub-005-fitted_ses-ks4_10m.nwb -> sub-005-fitted/sub-005-fitted_ses-ks4-10m.nwb\n",
      "DRY: /home/steeve/steeve/epfl/code/spikebias/tmp/001250/sub-005-fitted/sub-005-fitted_ses-ks3_10m.nwb -> sub-005-fitted/sub-005-fitted_ses-ks3-10m.nwb\n",
      "DRY: /home/steeve/steeve/epfl/code/spikebias/tmp/001250/sub-005-fitted/sub-005-fitted_ses-ks_10m.nwb -> sub-005-fitted/sub-005-fitted_ses-ks-10m.nwb\n",
      "DRY: /home/steeve/steeve/epfl/code/spikebias/tmp/001250/sub-005-fitted/sub-005-fitted_ses-hs_10m.nwb -> sub-005-fitted/sub-005-fitted_ses-hs-10m.nwb\n"
     ]
    },
    {
     "name": "stderr",
     "output_type": "stream",
     "text": [
      "2025-06-16 14:44:27,856 [    INFO] Loading metadata from 6 files\n",
      "[Parallel(n_jobs=-1)]: Using backend LokyBackend with 32 concurrent workers.\n",
      "[Parallel(n_jobs=-1)]: Done   2 out of   6 | elapsed:    0.6s remaining:    1.2s\n",
      "[Parallel(n_jobs=-1)]: Done   3 out of   6 | elapsed:    0.6s remaining:    0.6s\n",
      "[Parallel(n_jobs=-1)]: Done   4 out of   6 | elapsed:    0.6s remaining:    0.3s\n",
      "[Parallel(n_jobs=-1)]: Done   6 out of   6 | elapsed:    0.6s finished\n",
      "2025-06-16 14:44:28,506 [    INFO] Symlink support autodetected; setting files_mode='symlink'\n",
      "2025-06-16 14:44:28,509 [    INFO] Organized 6 paths. Visit /home/steeve/steeve/epfl/code/spikebias/001250/\n",
      "2025-06-16 14:44:28,509 [    INFO] Logs saved in /home/steeve/.local/state/dandi-cli/log/2025.06.16-12.44.27Z-2303444.log\n",
      "2025-06-16 14:44:30,441 [    INFO] Found 7 files to consider\n"
     ]
    },
    {
     "name": "stdout",
     "output_type": "stream",
     "text": [
      "PATH                                           SIZE     ERRORS   PROGRESS STATUS                MESSAGE                  \n",
      "dandiset.yaml                                  5.6 kB                     skipped               should be edited online  \n",
      "sub-005-fitted/sub-005-fitted_ses-hs-10m.nwb   566.2 kB   0          100% done                                           \n",
      "sub-005-fitted/sub-005-fitted_ses-ks-10m.nwb   3.1 MB     0          100% done                                           \n",
      "sub-005-fitted/sub-005-fitted_ses-ks2-10m.nwb  2.0 MB     0          100% done                                           \n",
      "sub-005-fitted/sub-005-fitted_ses-ks25-10m.nwb 1.9 MB     0          100% done                                           \n",
      "sub-005-fitted/sub-005-fitted_ses-ks3-10m.nwb  3.1 MB     0          100% done                                           \n",
      "sub-005-fitted/sub-005-fitted_ses-ks4-10m.nwb  3.4 MB     0          100% done                                           \n",
      "Summary:                                       14.0 MB           2.7 MB/s 1 skipped             1 should be edited online\n",
      "                                                                          6 done                                         \n",
      "CPU times: user 4.94 s, sys: 31.9 ms, total: 4.97 s\n",
      "Wall time: 16.8 s\n"
     ]
    },
    {
     "name": "stderr",
     "output_type": "stream",
     "text": [
      "2025-06-16 14:44:35,643 [    INFO] Logs saved in /home/steeve/.local/state/dandi-cli/log/2025.06.16-12.44.29Z-2303606.log\n"
     ]
    }
   ],
   "source": [
    "%%time\n",
    "\n",
    "# setup experiment parameters\n",
    "subject_id = \"005-fitted\"\n",
    "sorting_path = os.path.join(proj_path, \"dataset/01_intermediate/sorting/0_silico/dense_probe3/\")\n",
    "sorting_folders = [\"SortingKS4_10m\", \"SortingKS3_10m\", \"SortingKS2_5_10m\", \"SortingKS2_10m\", \"SortingKS_10m\", \"SortingHerdingspikes_10m\"]\n",
    "sorter_name = [\"ks4_10m\", \"ks3_10m\", \"ks25_10m\", \"ks2_10m\", \"ks_10m\", \"hs_10m\"] # 10 min sortings\n",
    "\n",
    "# download a local dandiset folder with yaml config\n",
    "os.system(\"dandi download --download dandiset.yaml DANDI:001250\")\n",
    "\n",
    "# load list of sorting extractors\n",
    "sorting_list = load_sortings(sorting_folders, sorting_path)\n",
    "\n",
    "# upload the sorting nwb files to dandi archive\n",
    "upload_sorting_nwb_to_dandi(sorting_list, dandiset_id, subject_id, nwb_file_path, session_description = \"Biophysical simulation of dense probe 3 in the spontaneous regime. Background noise and gain are fitted to Horvath depth 3 dataset.\", experiment_description=\"Biophysical simulation of dense probe 3 in the spontaneous regime. Background noise and gain are fitted to Horvath depth 3 dataset.\")"
   ]
  }
 ],
 "metadata": {
  "kernelspec": {
   "display_name": "Python 3",
   "language": "python",
   "name": "python3"
  },
  "language_info": {
   "codemirror_mode": {
    "name": "ipython",
    "version": 3
   },
   "file_extension": ".py",
   "mimetype": "text/x-python",
   "name": "python",
   "nbconvert_exporter": "python",
   "pygments_lexer": "ipython3",
   "version": "3.10.8"
  }
 },
 "nbformat": 4,
 "nbformat_minor": 5
}
