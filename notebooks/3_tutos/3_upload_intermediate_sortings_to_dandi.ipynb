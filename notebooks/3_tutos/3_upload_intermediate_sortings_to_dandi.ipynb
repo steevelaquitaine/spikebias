{
 "cells": [
  {
   "cell_type": "markdown",
   "id": "15d22b34-dd1f-4f52-9688-8a4b8616e06c",
   "metadata": {
    "editable": true,
    "slideshow": {
     "slide_type": ""
    },
    "tags": []
   },
   "source": [
    "# Upload sortings for biophy npx spont\n",
    "\n",
    "author: laquitainesteeve@gmail.com\n",
    "\n",
    "Execution time: < 1 min\n",
    "\n",
    "Special hardware: on CPU, does not require GPU.\n",
    "\n",
    "# Setup \n",
    "\n",
    "Activate demo virtual environment (envs/demo.yml)\n",
    "\n",
    "```bash\n",
    "python -m ipykernel install --user --name demo --display-name \"demo\"\n",
    "```"
   ]
  },
  {
   "cell_type": "code",
   "execution_count": 38,
   "id": "73b8f812-1185-4419-ab2d-5e9879786b06",
   "metadata": {},
   "outputs": [
    {
     "name": "stdout",
     "output_type": "stream",
     "text": [
      "spikeinterface 0.101.2\n",
      "CPU times: user 997 μs, sys: 13 μs, total: 1.01 ms\n",
      "Wall time: 1.03 ms\n"
     ]
    }
   ],
   "source": [
    "%%time \n",
    "\n",
    "# import python packages\n",
    "import os\n",
    "import numpy as np\n",
    "from time import time\n",
    "from dandi.dandiapi import DandiAPIClient\n",
    "import spikeinterface.extractors as se\n",
    "import spikeinterface.sorters as ss\n",
    "import spikeinterface\n",
    "import spikeinterface as si\n",
    "from pynwb.file import NWBFile, Subject\n",
    "from pynwb import NWBHDF5IO\n",
    "import uuid\n",
    "from datetime import datetime\n",
    "from dateutil.tz import tzlocal\n",
    "from neuroconv.tools.spikeinterface import add_recording_to_nwbfile, add_sorting_to_nwbfile\n",
    "print(\"spikeinterface\", spikeinterface.__version__)\n",
    "\n",
    "# setup project\n",
    "proj_path = \"/home/steeve/steeve/epfl/code/spikebias/\"\n",
    "os.chdir(proj_path)\n",
    "\n",
    "# setup pipeline parameters\n",
    "dandiset_id = '001250'\n",
    "\n",
    "# setup nwb files save paths\n",
    "nwb_file_path = os.path.join(proj_path, \"tmp/\")\n",
    "\n",
    "# setup sorters names\n",
    "sorter_name = [\"ks4\", \"ks3\", \"ks25\", \"ks2\", \"ks\", \"hs\", \"ks4_10m\", \"ks3_10m\", \"ks25_10m\", \"ks2_10m\", \"ks_10m\", \"hs_10m\"] # full and 10 min sortings"
   ]
  },
  {
   "cell_type": "markdown",
   "id": "f00e78cf",
   "metadata": {},
   "source": [
    "## Custom functions"
   ]
  },
  {
   "cell_type": "code",
   "execution_count": null,
   "id": "5ad1ee0c",
   "metadata": {},
   "outputs": [],
   "source": [
    "def load_sortings(sorting_folders, sorting_path):\n",
    "    \n",
    "    # load sorting extractors\n",
    "    folder_paths = []\n",
    "    sorting_list = []\n",
    "    for folder_i in sorting_folders:\n",
    "        folder_paths = os.path.join(sorting_path, folder_i)\n",
    "        sorting_list.append(si.load_extractor(folder_paths))\n",
    "    \n",
    "    # unit-test\n",
    "    assert len(sorting_list) == len(sorting_folders), \"sorting files are missing\"\n",
    "    return sorting_list\n",
    "\n",
    "\n",
    "def upload_sorting_nwb_to_dandi(sorting_list, dandiset_id, subject_id, nwb_file_path, session_description, experiment_description):\n",
    "    \"\"\"\n",
    "    IMPORTANT! For Dandi 0.69.3, file_path must follow DANDI convention: {/sub-<subject_id>/sub-<subject_id>_ses-<session_id>.nwb}\n",
    "    \"\"\"\n",
    "    # create nwb files save path\n",
    "    subject_path = os.path.join(nwb_file_path, f\"{dandiset_id}/sub-{subject_id}/\")\n",
    "    os.makedirs(subject_path, exist_ok=True)\n",
    "\n",
    "    # loop over SortingExtractor files\n",
    "    for s_ix, sorter_i in enumerate(sorter_name):\n",
    "        \n",
    "        # file path\n",
    "        file_path = os.path.join(subject_path, f\"sub-{subject_id}_ses-{sorter_i}.nwb\")\n",
    "\n",
    "        # add nwb session metadata (child folder)\n",
    "        nwbfile = NWBFile(\n",
    "            session_description=session_description,\n",
    "            identifier=str(uuid.uuid4()),\n",
    "            session_start_time=datetime.now(tzlocal()),\n",
    "            experimenter=\"Laquitaine, Steeve\",\n",
    "            lab=\"Blue Brain Project\",\n",
    "            institution=\"EPFL\",\n",
    "            experiment_description=experiment_description,\n",
    "            session_id=sorter_i,\n",
    "            related_publications=\"https://doi.org/10.1101/2024.12.04.626805\",\n",
    "            keywords=[\"Biophysical simulation\", \"dense extracellular recordings\", \"spike sorting\"]\n",
    "        )\n",
    "\n",
    "        # add subject metadata (parent folder)\n",
    "        nwbfile.subject = Subject(\n",
    "            subject_id = subject_id,\n",
    "            species = \"Rattus norvegicus\",\n",
    "            age = \"P14D\",\n",
    "            sex = \"M\",\n",
    "            description = \"Wistar Rat\",\n",
    "        )\n",
    "\n",
    "        # add SortingExtractor to nwb\n",
    "        add_sorting_to_nwbfile(sorting = sorting_list[s_ix], nwbfile = nwbfile)\n",
    "\n",
    "        # write nwb file locally\n",
    "        with NWBHDF5IO(path=file_path, mode=\"w\") as io:\n",
    "            io.write(nwbfile)\n",
    "\n",
    "        # WARNINg: check file with nwbinspector <source_folder> --config dandi beforehand\n",
    "\n",
    "    # upload nwb to dandiset\n",
    "    os.system(\n",
    "        f\"\"\"\n",
    "        export DANDI_API_KEY='210e68743286d64e84743bd8980d5771ef82bf4d';\n",
    "        cd {dandiset_id};\n",
    "        dandi organize {subject_path} -f dry;\n",
    "        dandi organize {subject_path};    \n",
    "        dandi upload\n",
    "        \"\"\"\n",
    "    )\n",
    "\n",
    "    # delete temporary datasets\n",
    "    os.system(f\"rm -rf {nwb_file_path}\")\n",
    "    os.system(f\"rm -rf {dandiset_id}\")"
   ]
  },
  {
   "cell_type": "markdown",
   "id": "529bda67",
   "metadata": {},
   "source": [
    "## Initialize dandiset"
   ]
  },
  {
   "cell_type": "code",
   "execution_count": null,
   "id": "26a2626b",
   "metadata": {},
   "outputs": [
    {
     "name": "stdout",
     "output_type": "stream",
     "text": [
      "PATH                 SIZE DONE    DONE% CHECKSUM STATUS    MESSAGE    \n",
      "001250/dandiset.yaml                             skipped   no change  \n",
      "Summary:                  0 Bytes                1 skipped 1 no change\n",
      "                          <0.00%                                      \n"
     ]
    },
    {
     "name": "stderr",
     "output_type": "stream",
     "text": [
      "2025-06-15 19:04:45,932 [    INFO] Logs saved in /home/steeve/.local/state/dandi-cli/log/2025.06.15-17.04.45Z-1723958.log\n"
     ]
    },
    {
     "data": {
      "text/plain": [
       "0"
      ]
     },
     "execution_count": 43,
     "metadata": {},
     "output_type": "execute_result"
    }
   ],
   "source": [
    "%%time \n",
    "\n",
    "# download a local dandiset folder with yaml config\n",
    "os.system(\"dandi download --download dandiset.yaml DANDI:001250\")"
   ]
  },
  {
   "cell_type": "markdown",
   "id": "7e473b78",
   "metadata": {},
   "source": [
    "## NPX_SPONT"
   ]
  },
  {
   "cell_type": "code",
   "execution_count": 44,
   "id": "043618bb",
   "metadata": {},
   "outputs": [
    {
     "name": "stderr",
     "output_type": "stream",
     "text": [
      "/home/steeve/steeve/epfl/code/spikebias/envs/demo/lib/python3.10/site-packages/spikeinterface/core/base.py:1129: UserWarning: Versions are not the same. This might lead to compatibility errors. Using spikeinterface==0.100.6 is recommended\n",
      "  warnings.warn(\n",
      "/home/steeve/steeve/epfl/code/spikebias/envs/demo/lib/python3.10/site-packages/spikeinterface/core/base.py:1129: UserWarning: Versions are not the same. This might lead to compatibility errors. Using spikeinterface==0.96.1 is recommended\n",
      "  warnings.warn(\n",
      "/home/steeve/steeve/epfl/code/spikebias/envs/demo/lib/python3.10/site-packages/spikeinterface/core/base.py:1129: UserWarning: Versions are not the same. This might lead to compatibility errors. Using spikeinterface==0.100.5 is recommended\n",
      "  warnings.warn(\n",
      "2025-06-15 19:05:10,847 [    INFO] Loading metadata from 12 files\n",
      "[Parallel(n_jobs=-1)]: Using backend LokyBackend with 32 concurrent workers.\n",
      "[Parallel(n_jobs=-1)]: Done   1 tasks      | elapsed:    0.7s\n",
      "[Parallel(n_jobs=-1)]: Done   3 out of  12 | elapsed:    0.7s remaining:    2.0s\n",
      "[Parallel(n_jobs=-1)]: Done   5 out of  12 | elapsed:    0.7s remaining:    1.0s\n",
      "[Parallel(n_jobs=-1)]: Done   7 out of  12 | elapsed:    0.8s remaining:    0.6s\n",
      "[Parallel(n_jobs=-1)]: Done   9 out of  12 | elapsed:    0.8s remaining:    0.3s\n",
      "[Parallel(n_jobs=-1)]: Done  12 out of  12 | elapsed:    0.9s finished\n"
     ]
    },
    {
     "name": "stdout",
     "output_type": "stream",
     "text": [
      "DRY: /home/steeve/steeve/epfl/code/spikebias/tmp/001250/sub-001-fitted/sub-001-fitted_ses-ks_10m.nwb -> sub-001-fitted/sub-001-fitted_ses-ks-10m.nwb\n",
      "DRY: /home/steeve/steeve/epfl/code/spikebias/tmp/001250/sub-001-fitted/sub-001-fitted_ses-ks4.nwb -> sub-001-fitted/sub-001-fitted_ses-ks4.nwb\n",
      "DRY: /home/steeve/steeve/epfl/code/spikebias/tmp/001250/sub-001-fitted/sub-001-fitted_ses-ks2_10m.nwb -> sub-001-fitted/sub-001-fitted_ses-ks2-10m.nwb\n",
      "DRY: /home/steeve/steeve/epfl/code/spikebias/tmp/001250/sub-001-fitted/sub-001-fitted_ses-ks2.nwb -> sub-001-fitted/sub-001-fitted_ses-ks2.nwb\n",
      "DRY: /home/steeve/steeve/epfl/code/spikebias/tmp/001250/sub-001-fitted/sub-001-fitted_ses-ks.nwb -> sub-001-fitted/sub-001-fitted_ses-ks.nwb\n",
      "DRY: /home/steeve/steeve/epfl/code/spikebias/tmp/001250/sub-001-fitted/sub-001-fitted_ses-ks3_10m.nwb -> sub-001-fitted/sub-001-fitted_ses-ks3-10m.nwb\n",
      "DRY: /home/steeve/steeve/epfl/code/spikebias/tmp/001250/sub-001-fitted/sub-001-fitted_ses-ks3.nwb -> sub-001-fitted/sub-001-fitted_ses-ks3.nwb\n",
      "DRY: /home/steeve/steeve/epfl/code/spikebias/tmp/001250/sub-001-fitted/sub-001-fitted_ses-ks4_10m.nwb -> sub-001-fitted/sub-001-fitted_ses-ks4-10m.nwb\n",
      "DRY: /home/steeve/steeve/epfl/code/spikebias/tmp/001250/sub-001-fitted/sub-001-fitted_ses-ks25_10m.nwb -> sub-001-fitted/sub-001-fitted_ses-ks25-10m.nwb\n",
      "DRY: /home/steeve/steeve/epfl/code/spikebias/tmp/001250/sub-001-fitted/sub-001-fitted_ses-hs_10m.nwb -> sub-001-fitted/sub-001-fitted_ses-hs-10m.nwb\n",
      "DRY: /home/steeve/steeve/epfl/code/spikebias/tmp/001250/sub-001-fitted/sub-001-fitted_ses-ks25.nwb -> sub-001-fitted/sub-001-fitted_ses-ks25.nwb\n",
      "DRY: /home/steeve/steeve/epfl/code/spikebias/tmp/001250/sub-001-fitted/sub-001-fitted_ses-hs.nwb -> sub-001-fitted/sub-001-fitted_ses-hs.nwb\n"
     ]
    },
    {
     "name": "stderr",
     "output_type": "stream",
     "text": [
      "2025-06-15 19:05:11,718 [    INFO] Organized 0 out of 12 paths. Visit /home/steeve/steeve/epfl/code/spikebias/001250/\n",
      "2025-06-15 19:05:11,718 [    INFO] Logs saved in /home/steeve/.local/state/dandi-cli/log/2025.06.15-17.05.10Z-1724577.log\n",
      "2025-06-15 19:05:12,925 [    INFO] Loading metadata from 12 files\n",
      "[Parallel(n_jobs=-1)]: Using backend LokyBackend with 32 concurrent workers.\n",
      "[Parallel(n_jobs=-1)]: Done   1 tasks      | elapsed:    0.6s\n",
      "[Parallel(n_jobs=-1)]: Done   3 out of  12 | elapsed:    0.6s remaining:    1.9s\n",
      "[Parallel(n_jobs=-1)]: Done   5 out of  12 | elapsed:    0.6s remaining:    0.9s\n",
      "[Parallel(n_jobs=-1)]: Done   7 out of  12 | elapsed:    0.6s remaining:    0.5s\n",
      "[Parallel(n_jobs=-1)]: Done   9 out of  12 | elapsed:    0.7s remaining:    0.2s\n",
      "[Parallel(n_jobs=-1)]: Done  12 out of  12 | elapsed:    0.8s finished\n",
      "2025-06-15 19:05:13,732 [    INFO] Symlink support autodetected; setting files_mode='symlink'\n",
      "2025-06-15 19:05:13,737 [    INFO] Organized 12 paths. Visit /home/steeve/steeve/epfl/code/spikebias/001250/\n",
      "2025-06-15 19:05:13,738 [    INFO] Logs saved in /home/steeve/.local/state/dandi-cli/log/2025.06.15-17.05.12Z-1724778.log\n",
      "2025-06-15 19:05:15,701 [    INFO] Found 13 files to consider\n"
     ]
    },
    {
     "name": "stdout",
     "output_type": "stream",
     "text": [
      "PATH                                           SIZE     ERRORS PROGRESS STATUS                MESSAGE                        \n",
      "dandiset.yaml                                  5.6 kB                   skipped               should be edited online        \n",
      "sub-001-fitted/sub-001-fitted_ses-hs-10m.nwb   988.8 kB   0        100% done                  exists (older) - reuploading   \n",
      "sub-001-fitted/sub-001-fitted_ses-hs.nwb       3.1 MB     0        100% done                  exists (older) - reuploading   \n",
      "sub-001-fitted/sub-001-fitted_ses-ks-10m.nwb   4.7 MB     0        100% done                  exists (older) - reuploading   \n",
      "sub-001-fitted/sub-001-fitted_ses-ks.nwb       14.7 MB    0        100% done                  exists (older) - reuploading   \n",
      "sub-001-fitted/sub-001-fitted_ses-ks2-10m.nwb  3.0 MB     0        100% done                  exists (older) - reuploading   \n",
      "sub-001-fitted/sub-001-fitted_ses-ks2.nwb      9.9 MB     0        100% done                  exists (older) - reuploading   \n",
      "sub-001-fitted/sub-001-fitted_ses-ks25-10m.nwb 2.9 MB     0        100% done                  exists (older) - reuploading   \n",
      "sub-001-fitted/sub-001-fitted_ses-ks25.nwb     11.7 MB    0        100% done                  exists (older) - reuploading   \n",
      "sub-001-fitted/sub-001-fitted_ses-ks3-10m.nwb  2.2 MB     0        100% done                  exists (older) - reuploading   \n",
      "sub-001-fitted/sub-001-fitted_ses-ks3.nwb      8.9 MB     0        100% done                  exists (older) - reuploading   \n",
      "sub-001-fitted/sub-001-fitted_ses-ks4-10m.nwb  3.1 MB     0        100% done                  exists (older) - reuploading   \n",
      "sub-001-fitted/sub-001-fitted_ses-ks4.nwb      10.4 MB    0        100% done                  exists (older) - reuploading   \n",
      "Summary:                                       75.6 MB         8.0 MB/s 1 skipped             1 should be edited online      \n",
      "                                                                        12 done               12 exists (older) - reuploading\n",
      "CPU times: user 23.9 s, sys: 70.3 ms, total: 24 s\n",
      "Wall time: 39.2 s\n"
     ]
    },
    {
     "name": "stderr",
     "output_type": "stream",
     "text": [
      "2025-06-15 19:05:25,192 [    INFO] Logs saved in /home/steeve/.local/state/dandi-cli/log/2025.06.15-17.05.14Z-1724963.log\n"
     ]
    }
   ],
   "source": [
    "%%time\n",
    "\n",
    "# setup experiment parameters\n",
    "subject_id = \"001-fitted\"\n",
    "sorting_path = os.path.join(proj_path, \"dataset/01_intermediate/sorting/0_silico/npx_spont/\")\n",
    "sorting_folders = [\"SortingKS4\", \"SortingKS3\", \"SortingKS2_5\", \"SortingKS2\", \"SortingKS\", \"SortingHerdingspikes\", \"SortingKS4_10m\", \"SortingKS3_10m\", \"SortingKS2_5_10m\", \"SortingKS2_10m\", \"SortingKS_10m\", \"SortingHerdingspikes_10m\"]\n",
    "\n",
    "# load list of sorting extractors\n",
    "sorting_list = load_sortings(sorting_folders, sorting_path)\n",
    "\n",
    "# upload the sorting nwb files to dandi archive\n",
    "upload_sorting_nwb_to_dandi(sorting_list, dandiset_id, subject_id, nwb_file_path, session_description = \"Biophysical simulation of neuropixels in the spontaneous regime. Background noise and gain are fitted to Marques-Smith dataset.\", experiment_description=\"Biophysical simulation of neuropixels in the spontaneous regime. Background noise and gain are fitted to Marques-Smith dataset.\")"
   ]
  },
  {
   "cell_type": "markdown",
   "id": "9fe6c8b0",
   "metadata": {},
   "source": [
    "## NPX_EVOKED"
   ]
  },
  {
   "cell_type": "code",
   "execution_count": 45,
   "id": "f3332f89-9106-4c1b-90e7-417df26b6091",
   "metadata": {},
   "outputs": [
    {
     "name": "stderr",
     "output_type": "stream",
     "text": [
      "/home/steeve/steeve/epfl/code/spikebias/envs/demo/lib/python3.10/site-packages/spikeinterface/core/base.py:1129: UserWarning: Versions are not the same. This might lead to compatibility errors. Using spikeinterface==0.100.6 is recommended\n",
      "  warnings.warn(\n",
      "/home/steeve/steeve/epfl/code/spikebias/envs/demo/lib/python3.10/site-packages/spikeinterface/core/base.py:1129: UserWarning: Versions are not the same. This might lead to compatibility errors. Using spikeinterface==0.100.5 is recommended\n",
      "  warnings.warn(\n",
      "2025-06-15 19:07:41,203 [    INFO] Loading metadata from 12 files\n",
      "[Parallel(n_jobs=-1)]: Using backend LokyBackend with 32 concurrent workers.\n",
      "[Parallel(n_jobs=-1)]: Done   1 tasks      | elapsed:    0.7s\n",
      "[Parallel(n_jobs=-1)]: Done   3 out of  12 | elapsed:    0.7s remaining:    2.1s\n",
      "[Parallel(n_jobs=-1)]: Done   5 out of  12 | elapsed:    0.7s remaining:    1.0s\n",
      "[Parallel(n_jobs=-1)]: Done   7 out of  12 | elapsed:    0.7s remaining:    0.5s\n",
      "[Parallel(n_jobs=-1)]: Done   9 out of  12 | elapsed:    0.8s remaining:    0.3s\n",
      "[Parallel(n_jobs=-1)]: Done  12 out of  12 | elapsed:    0.9s finished\n",
      "2025-06-15 19:07:42,092 [    INFO] Organized 0 out of 12 paths. Visit /home/steeve/steeve/epfl/code/spikebias/001250/\n",
      "2025-06-15 19:07:42,092 [    INFO] Logs saved in /home/steeve/.local/state/dandi-cli/log/2025.06.15-17.07.40Z-1728403.log\n"
     ]
    },
    {
     "name": "stdout",
     "output_type": "stream",
     "text": [
      "DRY: /home/steeve/steeve/epfl/code/spikebias/tmp/001250/sub-002-fitted/sub-002-fitted_ses-ks2_10m.nwb -> sub-002-fitted/sub-002-fitted_ses-ks2-10m.nwb\n",
      "DRY: /home/steeve/steeve/epfl/code/spikebias/tmp/001250/sub-002-fitted/sub-002-fitted_ses-ks25_10m.nwb -> sub-002-fitted/sub-002-fitted_ses-ks25-10m.nwb\n",
      "DRY: /home/steeve/steeve/epfl/code/spikebias/tmp/001250/sub-002-fitted/sub-002-fitted_ses-hs.nwb -> sub-002-fitted/sub-002-fitted_ses-hs.nwb\n",
      "DRY: /home/steeve/steeve/epfl/code/spikebias/tmp/001250/sub-002-fitted/sub-002-fitted_ses-ks3_10m.nwb -> sub-002-fitted/sub-002-fitted_ses-ks3-10m.nwb\n",
      "DRY: /home/steeve/steeve/epfl/code/spikebias/tmp/001250/sub-002-fitted/sub-002-fitted_ses-ks_10m.nwb -> sub-002-fitted/sub-002-fitted_ses-ks-10m.nwb\n",
      "DRY: /home/steeve/steeve/epfl/code/spikebias/tmp/001250/sub-002-fitted/sub-002-fitted_ses-ks.nwb -> sub-002-fitted/sub-002-fitted_ses-ks.nwb\n",
      "DRY: /home/steeve/steeve/epfl/code/spikebias/tmp/001250/sub-002-fitted/sub-002-fitted_ses-ks4.nwb -> sub-002-fitted/sub-002-fitted_ses-ks4.nwb\n",
      "DRY: /home/steeve/steeve/epfl/code/spikebias/tmp/001250/sub-002-fitted/sub-002-fitted_ses-hs_10m.nwb -> sub-002-fitted/sub-002-fitted_ses-hs-10m.nwb\n",
      "DRY: /home/steeve/steeve/epfl/code/spikebias/tmp/001250/sub-002-fitted/sub-002-fitted_ses-ks4_10m.nwb -> sub-002-fitted/sub-002-fitted_ses-ks4-10m.nwb\n",
      "DRY: /home/steeve/steeve/epfl/code/spikebias/tmp/001250/sub-002-fitted/sub-002-fitted_ses-ks2.nwb -> sub-002-fitted/sub-002-fitted_ses-ks2.nwb\n",
      "DRY: /home/steeve/steeve/epfl/code/spikebias/tmp/001250/sub-002-fitted/sub-002-fitted_ses-ks3.nwb -> sub-002-fitted/sub-002-fitted_ses-ks3.nwb\n",
      "DRY: /home/steeve/steeve/epfl/code/spikebias/tmp/001250/sub-002-fitted/sub-002-fitted_ses-ks25.nwb -> sub-002-fitted/sub-002-fitted_ses-ks25.nwb\n"
     ]
    },
    {
     "name": "stderr",
     "output_type": "stream",
     "text": [
      "2025-06-15 19:07:43,322 [    INFO] Loading metadata from 12 files\n",
      "[Parallel(n_jobs=-1)]: Using backend LokyBackend with 32 concurrent workers.\n",
      "[Parallel(n_jobs=-1)]: Done   1 tasks      | elapsed:    0.6s\n",
      "[Parallel(n_jobs=-1)]: Done   3 out of  12 | elapsed:    0.6s remaining:    1.8s\n",
      "[Parallel(n_jobs=-1)]: Done   5 out of  12 | elapsed:    0.6s remaining:    0.9s\n",
      "[Parallel(n_jobs=-1)]: Done   7 out of  12 | elapsed:    0.6s remaining:    0.5s\n",
      "[Parallel(n_jobs=-1)]: Done   9 out of  12 | elapsed:    0.7s remaining:    0.2s\n",
      "[Parallel(n_jobs=-1)]: Done  12 out of  12 | elapsed:    0.8s finished\n",
      "2025-06-15 19:07:44,120 [    INFO] Symlink support autodetected; setting files_mode='symlink'\n",
      "2025-06-15 19:07:44,125 [    INFO] Organized 12 paths. Visit /home/steeve/steeve/epfl/code/spikebias/001250/\n",
      "2025-06-15 19:07:44,125 [    INFO] Logs saved in /home/steeve/.local/state/dandi-cli/log/2025.06.15-17.07.42Z-1728586.log\n",
      "2025-06-15 19:07:46,080 [    INFO] Found 25 files to consider\n"
     ]
    },
    {
     "name": "stdout",
     "output_type": "stream",
     "text": [
      "PATH                                           SIZE     ERRORS   PROGRESS STATUS                MESSAGE                  \n",
      "dandiset.yaml                                  5.6 kB                     skipped               should be edited online  \n",
      "sub-001-fitted/sub-001-fitted_ses-hs-10m.nwb                              ERROR                 File not found           \n",
      "sub-001-fitted/sub-001-fitted_ses-hs.nwb                                  ERROR                 File not found           \n",
      "sub-001-fitted/sub-001-fitted_ses-ks-10m.nwb                              ERROR                 File not found           \n",
      "sub-001-fitted/sub-001-fitted_ses-ks.nwb                                  ERROR                 File not found           \n",
      "sub-001-fitted/sub-001-fitted_ses-ks2-10m.nwb                             ERROR                 File not found           \n",
      "sub-001-fitted/sub-001-fitted_ses-ks2.nwb                                 ERROR                 File not found           \n",
      "sub-001-fitted/sub-001-fitted_ses-ks25-10m.nwb                            ERROR                 File not found           \n",
      "sub-001-fitted/sub-001-fitted_ses-ks25.nwb                                ERROR                 File not found           \n",
      "sub-001-fitted/sub-001-fitted_ses-ks3-10m.nwb                             ERROR                 File not found           \n",
      "sub-001-fitted/sub-001-fitted_ses-ks3.nwb                                 ERROR                 File not found           \n",
      "sub-001-fitted/sub-001-fitted_ses-ks4-10m.nwb                             ERROR                 File not found           \n",
      "sub-001-fitted/sub-001-fitted_ses-ks4.nwb                                 ERROR                 File not found           \n",
      "sub-002-fitted/sub-002-fitted_ses-hs-10m.nwb   1.4 MB     0          100% done                                           \n",
      "sub-002-fitted/sub-002-fitted_ses-hs.nwb       7.6 MB     0          100% done                                           \n",
      "sub-002-fitted/sub-002-fitted_ses-ks-10m.nwb   24.3 MB    0          100% done                                           \n",
      "sub-002-fitted/sub-002-fitted_ses-ks.nwb       18.1 MB    0          100% done                                           \n",
      "sub-002-fitted/sub-002-fitted_ses-ks2-10m.nwb  4.9 MB     0          100% done                                           \n",
      "sub-002-fitted/sub-002-fitted_ses-ks2.nwb      17.2 MB    0          100% done                                           \n",
      "sub-002-fitted/sub-002-fitted_ses-ks25-10m.nwb 11.5 MB    0          100% done                                           \n",
      "sub-002-fitted/sub-002-fitted_ses-ks25.nwb     14.3 MB    0          100% done                                           \n",
      "sub-002-fitted/sub-002-fitted_ses-ks3-10m.nwb  22.2 MB    0          100% done                                           \n",
      "sub-002-fitted/sub-002-fitted_ses-ks3.nwb      15.8 MB    0          100% done                                           \n",
      "sub-002-fitted/sub-002-fitted_ses-ks4-10m.nwb  26.6 MB    0          100% done                                           \n",
      "sub-002-fitted/sub-002-fitted_ses-ks4.nwb      21.7 MB    0          100% done                                           \n",
      "Summary:                                       185.7 MB         18.7 MB/s 1 skipped             1 should be edited online\n",
      "                                                                          12 ERROR              12 File not found        \n",
      "                                                                          12 done                                        \n",
      "CPU times: user 1min 56s, sys: 357 ms, total: 1min 56s\n",
      "Wall time: 2min 12s\n"
     ]
    },
    {
     "name": "stderr",
     "output_type": "stream",
     "text": [
      "2025-06-15 19:07:56,230 [    INFO] Logs saved in /home/steeve/.local/state/dandi-cli/log/2025.06.15-17.07.44Z-1728779.log\n",
      "Error: File not found\n"
     ]
    }
   ],
   "source": [
    "%%time\n",
    "\n",
    "# setup experiment parameters\n",
    "subject_id = \"002-fitted\"\n",
    "sorting_path = os.path.join(proj_path, \"dataset/01_intermediate/sorting/0_silico/npx_evoked/\")\n",
    "sorting_folders = [\"SortingKS4_full\", \"SortingKS3_full\", \"SortingKS2_5_full\", \"SortingKS2_full\", \"SortingKS_full\", \"SortingHerdingspikes_full\", \"SortingKS4_10m\", \"SortingKS3_10m\", \"SortingKS2_5_10m\", \"SortingKS2_10m\", \"SortingKS_10m\", \"SortingHerdingspikes_10m\"]\n",
    "\n",
    "# load list of sorting extractors\n",
    "sorting_list = load_sortings(sorting_folders, sorting_path)\n",
    "\n",
    "# upload the sorting nwb files to dandi archive\n",
    "upload_sorting_nwb_to_dandi(sorting_list, dandiset_id, subject_id, nwb_file_path, session_description = \"Biophysical simulation of neuropixels in the evoked regime. Background noise and gain are fitted to Marques-Smith dataset.\", experiment_description=\"Biophysical simulation of neuropixels in the evoked regime. Background noise and gain are fitted to Marques-Smith dataset.\")"
   ]
  },
  {
   "cell_type": "code",
   "execution_count": null,
   "id": "2a2bce62",
   "metadata": {},
   "outputs": [],
   "source": []
  }
 ],
 "metadata": {
  "kernelspec": {
   "display_name": "demo",
   "language": "python",
   "name": "python3"
  },
  "language_info": {
   "codemirror_mode": {
    "name": "ipython",
    "version": 3
   },
   "file_extension": ".py",
   "mimetype": "text/x-python",
   "name": "python",
   "nbconvert_exporter": "python",
   "pygments_lexer": "ipython3",
   "version": "3.10.8"
  }
 },
 "nbformat": 4,
 "nbformat_minor": 5
}
