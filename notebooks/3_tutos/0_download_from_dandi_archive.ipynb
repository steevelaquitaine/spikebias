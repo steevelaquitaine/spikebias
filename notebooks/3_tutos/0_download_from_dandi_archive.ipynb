{
 "cells": [
  {
   "cell_type": "markdown",
   "metadata": {
    "vscode": {
     "languageId": "plaintext"
    }
   },
   "source": [
    "# Download full recordings\n",
    "\n",
    "author: laquitainesteeve@gmail.com\n",
    "\n",
    "purpose: download all full recordings from Dandi Archive\n",
    "\n",
    "Description:\n",
    "* model: biophysical simulation\n",
    "* duration: 34 min\n",
    "* size: 100 GB\n",
    "* layers: 6 layers: L1, L2/3, L4, L5, L6\n",
    "* noise: background noise fitted to Marques-Smith\n",
    "* network state: spontaneous\n",
    "\n",
    "Execution time: 45 min\n",
    "* note: writing speed: maximize chunk_size, set to n_jobs=20. This maximizes speed while avoiding overhead [1].\n",
    "\n",
    "Hardware: CPU\n",
    "\n",
    "Tested on: 32 cores, 2TB storage, 188GB RAM Ubuntu machine\n",
    "\n",
    "\n",
    "\n",
    "\n",
    "# Setup \n",
    "\n",
    "Activate virtual environment (envs/spikebias.yml)\n",
    "\n",
    "```bash\n",
    "python -m ipykernel install --user --name dandi --display-name \"dandi\"\n",
    "```"
   ]
  },
  {
   "cell_type": "code",
   "execution_count": null,
   "metadata": {},
   "outputs": [
    {
     "name": "stdout",
     "output_type": "stream",
     "text": [
      "spikeinterface 0.101.2\n",
      "CPU times: user 982 ms, sys: 1.91 s, total: 2.89 s\n",
      "Wall time: 286 ms\n"
     ]
    },
    {
     "name": "stderr",
     "output_type": "stream",
     "text": [
      "/home/steeve/steeve/epfl/code/spikebias/envs/dandi/lib/python3.10/site-packages/tqdm/auto.py:21: TqdmWarning: IProgress not found. Please update jupyter and ipywidgets. See https://ipywidgets.readthedocs.io/en/stable/user_install.html\n",
      "  from .autonotebook import tqdm as notebook_tqdm\n"
     ]
    }
   ],
   "source": [
    "%%time \n",
    "\n",
    "# import python packages\n",
    "import os\n",
    "import numpy as np\n",
    "from time import time\n",
    "from dandi.dandiapi import DandiAPIClient\n",
    "import spikeinterface.extractors as se\n",
    "import spikeinterface.sorters as ss\n",
    "import spikeinterface\n",
    "import uuid\n",
    "from datetime import datetime\n",
    "from dateutil.tz import tzlocal\n",
    "from dandi.dandiapi import DandiAPIClient\n",
    "import spikeinterface.extractors as se\n",
    "print(\"spikeinterface\", spikeinterface.__version__)\n",
    "\n",
    "# set the project path\n",
    "PROJ_PATH = \"/home/steeve/steeve/epfl/code/spikebias\"\n",
    "\n",
    "# set the raw dataset path\n",
    "RAW_DATASET = os.path.join(PROJ_PATH, \"dataset/00_raw/\")"
   ]
  },
  {
   "cell_type": "markdown",
   "metadata": {},
   "source": [
    "## Custom functions"
   ]
  },
  {
   "cell_type": "code",
   "execution_count": null,
   "metadata": {},
   "outputs": [],
   "source": [
    "class DataLoader:\n",
    "    \"\"\"Data loader for dandi datasets\n",
    "    \"\"\"\n",
    "    def __init__(self, raw_dataset_path:str, dandiset_id:str, filepath:str):\n",
    "        self.raw_dataset_path = raw_dataset_path\n",
    "        self.dandiset_id = dandiset_id\n",
    "        self.filepath = filepath\n",
    "        self.recording = None\n",
    "        self.sorting = None\n",
    "        self.s3_path = None\n",
    "\n",
    "    def load_data(self):\n",
    "        \n",
    "        # Get the file path on S3\n",
    "        with DandiAPIClient() as client:\n",
    "            asset = client.get_dandiset(self.dandiset_id, 'draft').get_asset_by_path(self.filepath)\n",
    "            self.s3_path = asset.get_content_url(follow_redirects=1, strip_query=True)\n",
    "        print(\"s3_path:\", self.s3_path)\n",
    "\n",
    "        # Get RecordingExtractor and SortingExtractor\n",
    "        self.recording = se.NwbRecordingExtractor(file_path=self.s3_path, stream_mode=\"remfile\")\n",
    "        self.sorting = se.NwbSortingExtractor(file_path=self.s3_path, stream_mode=\"remfile\")\n",
    "\n",
    "        # Report\n",
    "        print('\\n', self.recording)\n",
    "        print('\\n', self.sorting)\n",
    "\n",
    "        # Unit-test\n",
    "        assert \"layers\" in self.recording.get_property_keys(), \"RecordingExtractor should contain layer property\"\n",
    "\n",
    "    def save_data(self, recording_folder:str, sorting_folder:str, n_jobs=30, chunk_size=800000, dtype='float32'):\n",
    "        self.recording.save(folder=recording_folder, n_jobs=n_jobs, verbose=True, progress_bar=True, overwrite=True, dtype=dtype, chunk_size=chunk_size)\n",
    "        self.sorting.save(folder=sorting_folder, progress_bar=True, overwrite=True)"
   ]
  },
  {
   "cell_type": "markdown",
   "metadata": {},
   "source": [
    "### npx_spont_fitted_40Khz_35min_f32"
   ]
  },
  {
   "cell_type": "code",
   "execution_count": null,
   "metadata": {},
   "outputs": [
    {
     "name": "stdout",
     "output_type": "stream",
     "text": [
      "s3_path: https://dandiarchive.s3.amazonaws.com/blobs/9d6/6ed/9d66ed40-af31-43aa-b4ba-246d2206dcad\n",
      "\n",
      " NwbRecordingExtractor: 384 channels - 20.0kHz - 1 segments - 72,359,964 samples \n",
      "                       3,618.00s (1.00 hours) - float32 dtype - 103.51 GiB\n",
      "  file_path: https://dandiarchive.s3.amazonaws.com/blobs/9d6/6ed/9d66ed40-af31-43aa-b4ba-246d2206dcad\n",
      "\n",
      " NwbSortingExtractor: 1836 units - 1 segments - 20.0kHz\n",
      "  file_path: https://dandiarchive.s3.amazonaws.com/blobs/9d6/6ed/9d66ed40-af31-43aa-b4ba-246d2206dcad\n",
      "write_binary_recording \n",
      "n_jobs=30 - samples_per_chunk=800,000 - chunk_memory=1.14 GiB - total_memory=34.33 GiB - chunk_duration=40.00s\n"
     ]
    },
    {
     "name": "stderr",
     "output_type": "stream",
     "text": [
      "write_binary_recording: 100%|██████████| 91/91 [37:49<00:00, 24.93s/it]   \n"
     ]
    }
   ],
   "source": [
    "# set dataset parameters\n",
    "dandiset_id = '001250'\n",
    "filepath = 'sub-001-fitted/sub-001-fitted_ecephys.nwb'\n",
    "recording_folder = os.path.join(RAW_DATASET, \"recording_npx_spont_fitted_40Khz_35min_f32\")\n",
    "sorting_folder = os.path.join(RAW_DATASET, \"sorting_npx_spont_fitted_40Khz_35min_f32\")\n",
    "\n",
    "# download and save dataset\n",
    "data_loader = DataLoader(raw_dataset_path=RAW_DATASET, dandiset_id=dandiset_id, filepath=filepath)\n",
    "data_loader.load_data() # Load the data\n",
    "data_loader.save_data(recording_folder=recording_folder, sorting_folder=sorting_folder, n_jobs=30, chunk_size=800000, dtype='float32') # save"
   ]
  },
  {
   "cell_type": "markdown",
   "metadata": {},
   "source": [
    "### npx_evoked_fitted_20Khz_60min_f32"
   ]
  },
  {
   "cell_type": "code",
   "execution_count": null,
   "metadata": {},
   "outputs": [],
   "source": [
    "# set dataset parameters\n",
    "dandiset_id = '001250'\n",
    "filepath = 'sub-002-fitted/sub-002-fitted_ecephys.nwb'\n",
    "recording_folder = os.path.join(RAW_DATASET, \"recording_npx_evoked_fitted_20Khz_60min_f32\")\n",
    "sorting_folder = os.path.join(RAW_DATASET, \"sorting_npx_evoked_fitted_20Khz_60min_f32\")\n",
    "\n",
    "# download and save dataset\n",
    "data_loader = DataLoader(raw_dataset_path=RAW_DATASET, dandiset_id=dandiset_id, filepath=filepath)\n",
    "data_loader.load_data() # Load the data\n",
    "data_loader.save_data(recording_folder=recording_folder, sorting_folder=sorting_folder, n_jobs=30, chunk_size=800000, dtype='float32') # save"
   ]
  },
  {
   "cell_type": "markdown",
   "metadata": {},
   "source": [
    "### recording_dense_fitted_probe1"
   ]
  },
  {
   "cell_type": "code",
   "execution_count": null,
   "metadata": {},
   "outputs": [
    {
     "name": "stdout",
     "output_type": "stream",
     "text": [
      "s3_path: https://dandiarchive.s3.amazonaws.com/blobs/dec/e65/dece6568-cee4-4ade-80bf-c1166a03fe2a\n",
      "\n",
      " NwbRecordingExtractor: 128 channels - 20.0kHz - 1 segments - 34,299,965 samples \n",
      "                       1,715.00s (28.58 minutes) - float32 dtype - 16.36 GiB\n",
      "  file_path: https://dandiarchive.s3.amazonaws.com/blobs/dec/e65/dece6568-cee4-4ade-80bf-c1166a03fe2a\n",
      "\n",
      " NwbSortingExtractor: 287 units - 1 segments - 20.0kHz\n",
      "  file_path: https://dandiarchive.s3.amazonaws.com/blobs/dec/e65/dece6568-cee4-4ade-80bf-c1166a03fe2a\n",
      "write_binary_recording \n",
      "n_jobs=30 - samples_per_chunk=800,000 - chunk_memory=390.62 MiB - total_memory=11.44 GiB - chunk_duration=40.00s\n"
     ]
    },
    {
     "name": "stderr",
     "output_type": "stream",
     "text": [
      "write_binary_recording: 100%|██████████| 43/43 [07:57<00:00, 11.10s/it]  \n"
     ]
    }
   ],
   "source": [
    "%%time \n",
    "\n",
    "# set dataset parameters\n",
    "dandiset_id = '001250'\n",
    "filepath = 'sub-003-fitted/sub-003-fitted_ecephys.nwb'\n",
    "recording_folder = os.path.join(RAW_DATASET, \"recording_dense_fitted_probe1\")\n",
    "sorting_folder = os.path.join(RAW_DATASET, \"sorting_dense_fitted_probe1\")\n",
    "\n",
    "# download and save dataset\n",
    "data_loader = DataLoader(raw_dataset_path=RAW_DATASET, dandiset_id=dandiset_id, filepath=filepath)\n",
    "data_loader.load_data() # Load the data\n",
    "data_loader.save_data(recording_folder=recording_folder, sorting_folder=sorting_folder, n_jobs=30, chunk_size=800000, dtype='float32') # save"
   ]
  },
  {
   "cell_type": "markdown",
   "metadata": {},
   "source": [
    "### recording_dense_fitted_probe2"
   ]
  },
  {
   "cell_type": "code",
   "execution_count": 25,
   "metadata": {},
   "outputs": [
    {
     "name": "stdout",
     "output_type": "stream",
     "text": [
      "s3_path: https://dandiarchive.s3.amazonaws.com/blobs/eef/9e9/eef9e95c-fb5b-46d2-a24c-878d8170b5e0\n",
      "\n",
      " NwbRecordingExtractor: 128 channels - 20.0kHz - 1 segments - 23,519,976 samples \n",
      "                       1,176.00s (19.60 minutes) - float32 dtype - 11.22 GiB\n",
      "  file_path: https://dandiarchive.s3.amazonaws.com/blobs/eef/9e9/eef9e95c-fb5b-46d2-a24c-878d8170b5e0\n",
      "\n",
      " NwbSortingExtractor: 770 units - 1 segments - 20.0kHz\n",
      "  file_path: https://dandiarchive.s3.amazonaws.com/blobs/eef/9e9/eef9e95c-fb5b-46d2-a24c-878d8170b5e0\n",
      "write_binary_recording \n",
      "n_jobs=30 - samples_per_chunk=800,000 - chunk_memory=390.62 MiB - total_memory=11.44 GiB - chunk_duration=40.00s\n"
     ]
    },
    {
     "name": "stderr",
     "output_type": "stream",
     "text": [
      "write_binary_recording: 100%|██████████| 30/30 [04:30<00:00,  9.02s/it]  \n"
     ]
    },
    {
     "name": "stdout",
     "output_type": "stream",
     "text": [
      "CPU times: user 245 ms, sys: 241 ms, total: 486 ms\n",
      "Wall time: 4min 37s\n"
     ]
    }
   ],
   "source": [
    "%%time \n",
    "\n",
    "# set dataset parameters\n",
    "dandiset_id = '001250'\n",
    "filepath = 'sub-004-fitted/sub-004-fitted_ecephys.nwb'\n",
    "recording_folder = os.path.join(RAW_DATASET, \"recording_dense_fitted_probe2\")\n",
    "sorting_folder = os.path.join(RAW_DATASET, \"sorting_dense_fitted_probe2\")\n",
    "\n",
    "# download and save dataset\n",
    "data_loader = DataLoader(raw_dataset_path=RAW_DATASET, dandiset_id=dandiset_id, filepath=filepath)\n",
    "data_loader.load_data() # Load the data\n",
    "data_loader.save_data(recording_folder=recording_folder, sorting_folder=sorting_folder, n_jobs=30, chunk_size=800000, dtype='float32') # save"
   ]
  },
  {
   "cell_type": "markdown",
   "metadata": {},
   "source": [
    "### recording_dense_fitted_probe3"
   ]
  },
  {
   "cell_type": "code",
   "execution_count": 26,
   "metadata": {},
   "outputs": [
    {
     "name": "stdout",
     "output_type": "stream",
     "text": [
      "s3_path: https://dandiarchive.s3.amazonaws.com/blobs/ee2/816/ee2816de-d861-4b55-9cde-416a52e54049\n",
      "\n",
      " NwbRecordingExtractor: 128 channels - 20.0kHz - 1 segments - 35,279,964 samples \n",
      "                       1,764.00s (29.40 minutes) - float32 dtype - 16.82 GiB\n",
      "  file_path: https://dandiarchive.s3.amazonaws.com/blobs/ee2/816/ee2816de-d861-4b55-9cde-416a52e54049\n",
      "\n",
      " NwbSortingExtractor: 1123 units - 1 segments - 20.0kHz\n",
      "  file_path: https://dandiarchive.s3.amazonaws.com/blobs/ee2/816/ee2816de-d861-4b55-9cde-416a52e54049\n",
      "write_binary_recording \n",
      "n_jobs=30 - samples_per_chunk=800,000 - chunk_memory=390.62 MiB - total_memory=11.44 GiB - chunk_duration=40.00s\n"
     ]
    },
    {
     "name": "stderr",
     "output_type": "stream",
     "text": [
      "write_binary_recording: 100%|██████████| 45/45 [07:44<00:00, 10.32s/it]  \n"
     ]
    },
    {
     "name": "stdout",
     "output_type": "stream",
     "text": [
      "CPU times: user 313 ms, sys: 216 ms, total: 529 ms\n",
      "Wall time: 7min 51s\n"
     ]
    }
   ],
   "source": [
    "%%time \n",
    "\n",
    "# set dataset parameters\n",
    "dandiset_id = '001250'\n",
    "filepath = 'sub-005-fitted/sub-005-fitted_ecephys.nwb'\n",
    "recording_folder = os.path.join(RAW_DATASET, \"recording_dense_fitted_probe3\")\n",
    "sorting_folder = os.path.join(RAW_DATASET, \"sorting_dense_fitted_probe3\")\n",
    "\n",
    "# download and save dataset\n",
    "data_loader = DataLoader(raw_dataset_path=RAW_DATASET, dandiset_id=dandiset_id, filepath=filepath)\n",
    "data_loader.load_data() # Load the data\n",
    "data_loader.save_data(recording_folder=recording_folder, sorting_folder=sorting_folder, n_jobs=30, chunk_size=800000, dtype='float32') # save"
   ]
  },
  {
   "cell_type": "markdown",
   "metadata": {},
   "source": [
    "# References\n",
    "\n",
    "[1] https://github.com/SpikeInterface/spikeinterface/issues/3252\n",
    "* effect of n_jobs and chunk_size on writing speed:"
   ]
  }
 ],
 "metadata": {
  "kernelspec": {
   "display_name": "Python 3",
   "language": "python",
   "name": "python3"
  },
  "language_info": {
   "codemirror_mode": {
    "name": "ipython",
    "version": 3
   },
   "file_extension": ".py",
   "mimetype": "text/x-python",
   "name": "python",
   "nbconvert_exporter": "python",
   "pygments_lexer": "ipython3",
   "version": "3.10.8"
  }
 },
 "nbformat": 4,
 "nbformat_minor": 2
}
