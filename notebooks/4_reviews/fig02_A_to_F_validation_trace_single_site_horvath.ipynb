{
 "cells": [
  {
   "attachments": {},
   "cell_type": "markdown",
   "metadata": {},
   "source": [
    "# Single-site voltage trace\n",
    "\n",
    "author: steeve.laquitaine@epfl.ch; laquitainesteeve@gmail.com  \n",
    "\n",
    "execution time: 10 secs"
   ]
  },
  {
   "attachments": {},
   "cell_type": "markdown",
   "metadata": {},
   "source": [
    "### Setup\n",
    "\n",
    "Activate `spikebias` env kernel"
   ]
  },
  {
   "cell_type": "code",
   "execution_count": 4,
   "metadata": {},
   "outputs": [
    {
     "name": "stdout",
     "output_type": "stream",
     "text": [
      "The autoreload extension is already loaded. To reload it, use:\n",
      "  %reload_ext autoreload\n",
      "spikeinterface 0.100.5\n"
     ]
    }
   ],
   "source": [
    "# SETUP PACKAGESP\n",
    "%load_ext autoreload\n",
    "%autoreload 2\n",
    "import os\n",
    "from os.path import join\n",
    "import numpy as np\n",
    "from matplotlib import pyplot as plt\n",
    "import spikeinterface\n",
    "import spikeinterface as si\n",
    "import yaml\n",
    "import warnings\n",
    "warnings.simplefilter(action='ignore', category=FutureWarning)\n",
    "warnings.filterwarnings(\"ignore\")\n",
    "import spikeinterface.preprocessing as spre\n",
    "print(\"spikeinterface\", spikeinterface.__version__)\n",
    "\n",
    "# move to project path\n",
    "# proj_path = \"/Users/steeve_laquitaine/Desktop/2022_2024_bbp/spikebias/\"\n",
    "proj_path = \"/home/steeve/steeve/epfl/code/spikebias\"\n",
    "os.chdir(proj_path)\n",
    "\n",
    "# custom package\n",
    "from src.nodes.validation import noise\n",
    "\n",
    "# SETUP PARAMETERS\n",
    "LAYER = \"L5\"\n",
    "DURATION = 1.01\n",
    "SF_V = 30000 # sampling frequency\n",
    "SF_S = 40000\n",
    "SF_B = 32000\n",
    "SF_E = 20000\n",
    "SF_dense = 20000\n",
    "ID_PERIOD_SILI = 51  # 10, 7\n",
    "ID_PERIOD_VIVO = 7\n",
    "ID_PERIOD_B = 46  # period near argmax amplitude\n",
    "ID_PERIOD_E = 6\n",
    "L5_SITE_SILI = 0\n",
    "L5_SITE_VIVO = 6\n",
    "YLIM = (-100, 30)\n",
    "SITE_B = 352  # 40  # site of argmax amplitude\n",
    "SITE_E = 232\n",
    "\n",
    "# setup local path\n",
    "REC_PATH = \"dataset/00_raw/recording_horvath_depth_2\"\n",
    "\n",
    "# setup recording parameters (as described in the paper)\n",
    "GAIN_TO_UV = 0.195\n",
    "FREQ_MIN = 300\n",
    "REF = \"global\"\n",
    "OPERATOR = \"median\"\n",
    "\n",
    "# FIGURE SETTINGS\n",
    "FIG_SIZE = (0.9, 0.7)\n",
    "COLOR_HV = [0.3, 0.3, 0.3]\n",
    "\n",
    "# axes\n",
    "plt.rcParams[\"font.family\"] = \"Arial\"\n",
    "plt.rcParams[\"font.size\"] = 6\n",
    "plt.rcParams[\"lines.linewidth\"] = 0.5\n",
    "plt.rcParams[\"axes.linewidth\"] = 0.5\n",
    "plt.rcParams[\"axes.spines.top\"] = False\n",
    "plt.rcParams[\"xtick.major.width\"] = 0.5 \n",
    "plt.rcParams[\"xtick.minor.width\"] = 0.5 \n",
    "plt.rcParams[\"ytick.major.width\"] = 0.5 \n",
    "plt.rcParams[\"ytick.minor.width\"] = 0.5\n",
    "plt.rcParams[\"xtick.major.size\"] = 3.5 * 1.1\n",
    "plt.rcParams[\"xtick.minor.size\"] = 2 * 1.1\n",
    "plt.rcParams[\"ytick.major.size\"] = 3.5 * 1.1\n",
    "plt.rcParams[\"ytick.minor.size\"] = 2 * 1.1\n",
    "\n",
    "# legend\n",
    "savefig_cfg = {\"transparent\":True, \"dpi\":300}\n",
    "legend_cfg = {\"frameon\": False, \"handletextpad\": 0.1}\n",
    "tight_layout_cfg = {\"pad\": 0.5}\n",
    "LG_FRAMEON = False              # no legend frame"
   ]
  },
  {
   "cell_type": "markdown",
   "metadata": {},
   "source": [
    "## Load/prep dataset"
   ]
  },
  {
   "cell_type": "code",
   "execution_count": null,
   "metadata": {},
   "outputs": [],
   "source": [
    "# load recording\n",
    "Recording = si.load_extractor(REC_PATH)\n",
    "\n",
    "# set gain to uV (0.195 described in https://doi.org/10.1038/s41597-021-00970-3)\n",
    "Recording.set_channel_gains(GAIN_TO_UV)\n",
    "\n",
    "# preprocess\n",
    "Recording = spre.highpass_filter(Recording, freq_min=FREQ_MIN)\n",
    "Recording = spre.common_reference(Recording, reference=REF, operator=OPERATOR)"
   ]
  },
  {
   "cell_type": "markdown",
   "metadata": {},
   "source": [
    "## Extract voltage trace"
   ]
  },
  {
   "cell_type": "code",
   "execution_count": null,
   "metadata": {},
   "outputs": [],
   "source": [
    "# get a site in layer 5\n",
    "LAYER = \"L5\"\n",
    "L5_SITE = 79 \n",
    "SAMPLE_START = 15868410\n",
    "\n",
    "# get site id\n",
    "layers = Recording.get_property(\"layers\")\n",
    "L5_site = np.where(layers == LAYER)[0][L5_SITE]\n",
    "\n",
    "# extract a one-second period\n",
    "one_sec_period = np.arange(SAMPLE_START, SAMPLE_START + SF_dense, 1)\n",
    "\n",
    "# extract traces\n",
    "traces = Recording.get_traces()\n",
    "\n",
    "# extract site trace within period\n",
    "fig_data = traces[one_sec_period, L5_site]\n",
    "\n",
    "#np.save(fig_data_paths[\"fig2e_compo_vivo_horv\"], fig_data)"
   ]
  },
  {
   "cell_type": "markdown",
   "metadata": {},
   "source": [
    "## Plot"
   ]
  },
  {
   "cell_type": "code",
   "execution_count": null,
   "metadata": {},
   "outputs": [
    {
     "data": {
      "image/png": "[encoded data removed]",
      "text/plain": [
       "<Figure size 90x70 with 1 Axes>"
      ]
     },
     "metadata": {},
     "output_type": "display_data"
    }
   ],
   "source": [
    "# setup plot\n",
    "fig, ax = plt.subplots(1, 1, figsize=FIG_SIZE)\n",
    "\n",
    "# plot extracted voltage trace\n",
    "ax.plot(fig_data, color=COLOR_HV)\n",
    "\n",
    "# aesthetics\n",
    "ax.spines[[\"right\", \"top\"]].set_visible(False)\n",
    "ax.set_ylabel(\"Voltage (\\u03bcV)\")\n",
    "ax.set_xlabel(\"Time (ms)\")\n",
    "ax.set_xticks([0, SF_dense / 2, SF_dense], [0, 500, 1000])\n",
    "ax.set_xlim([0, SF_dense])\n",
    "ax.set_yticks([-2060, 0, 1015], [-2060, 0, 1015])\n",
    "ax.set_ylim([-2060, 1015])\n",
    "ax.spines[\"bottom\"].set_position((\"axes\", -0.05))\n",
    "ax.yaxis.set_ticks_position(\"left\")\n",
    "ax.spines[\"left\"].set_position((\"axes\", -0.05))\n",
    "\n",
    "# # save\n",
    "# if SAVE_FIG:\n",
    "#     plt.savefig(\"figures/0_validation/1_components/fig2e_compo_vivo_horv.svg\")"
   ]
  }
 ],
 "metadata": {
  "kernelspec": {
   "display_name": "spikebias",
   "language": "python",
   "name": "python3"
  },
  "language_info": {
   "codemirror_mode": {
    "name": "ipython",
    "version": 3
   },
   "file_extension": ".py",
   "mimetype": "text/x-python",
   "name": "python",
   "nbconvert_exporter": "python",
   "pygments_lexer": "ipython3",
   "version": "3.9.7"
  }
 },
 "nbformat": 4,
 "nbformat_minor": 4
}
