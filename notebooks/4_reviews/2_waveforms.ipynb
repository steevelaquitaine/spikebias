{
 "cells": [
  {
   "cell_type": "markdown",
   "id": "2c9d0eb0",
   "metadata": {},
   "source": [
    "# Validation of spike waveforms\n",
    "\n",
    "author: steeve.laquitaine@sorbonne-university.fr  \n",
    "date: 11.06.2025  \n",
    "purpose: validate spike waveforms against in vivo  \n",
    "Tested on: Ubuntu 24.04, 188 RAM, 32 cores (0.8-6GHz)  \n",
    "Execution time: "
   ]
  },
  {
   "cell_type": "markdown",
   "id": "37520100",
   "metadata": {},
   "source": [
    "## Setup\n",
    "\n",
    "Re-run from scratch:\n",
    "\n",
    "0. Preprocess traces\n",
    "\n",
    "1. Apply spike sorting\n",
    "\n",
    "2. Extract spike waveforms\n",
    "\n",
    "3. Setup and activate spikebias environment, run notebook with spikebias kernel\n",
    "\n",
    "If data exists :\n",
    "\n",
    "1. Dowload from dandi archive to datasets/01_intermediate\n",
    "    - SortingExtractor for KS3\n",
    "\n",
    "[TODO]: download intermediate data from GDrive -> upload to dandi archive\n"
   ]
  },
  {
   "cell_type": "code",
   "execution_count": null,
   "id": "780dd038",
   "metadata": {},
   "outputs": [
    {
     "name": "stdout",
     "output_type": "stream",
     "text": [
      "The autoreload extension is already loaded. To reload it, use:\n",
      "  %reload_ext autoreload\n"
     ]
    },
    {
     "ename": "FileNotFoundError",
     "evalue": "[Errno 2] No such file or directory: '/gpfs/bbp.cscs.ch/project/proj85/home/laquitai/spikebias/'",
     "output_type": "error",
     "traceback": [
      "\u001b[0;31m---------------------------------------------------------------------------\u001b[0m",
      "\u001b[0;31mFileNotFoundError\u001b[0m                         Traceback (most recent call last)",
      "File \u001b[0;32m<timed exec>:24\u001b[0m\n",
      "\u001b[0;31mFileNotFoundError\u001b[0m: [Errno 2] No such file or directory: '/gpfs/bbp.cscs.ch/project/proj85/home/laquitai/spikebias/'"
     ]
    }
   ],
   "source": [
    "%%time\n",
    "\n",
    "# import libs\n",
    "%load_ext autoreload\n",
    "%autoreload 2\n",
    "\n",
    "import warnings\n",
    "warnings.simplefilter(action='ignore', category=FutureWarning)\n",
    "\n",
    "import os\n",
    "import pandas as pd\n",
    "import numpy as np\n",
    "import matplotlib\n",
    "from matplotlib import pyplot as plt\n",
    "import spikeinterface as si\n",
    "import spikeinterface.extractors as se\n",
    "from scipy.optimize import minimize\n",
    "import spikeinterface.full as si_full\n",
    "import seaborn as sns\n",
    "import spikeinterface.postprocessing as spost\n",
    "from concurrent.futures import ProcessPoolExecutor\n",
    "from ipywidgets import interactive, widgets\n",
    "\n",
    "# move to PROJECT PATH\n",
    "proj_path = \"/home/steeve/steeve/epfl/code/spikebias\"\n",
    "os.chdir(PROJ_PATH)\n",
    "\n",
    "#from src.nodes.utils import get_config\n",
    "#from src.nodes.postpro import waveform\n",
    "\n",
    "# SETUP PARAMETERS\n",
    "MS_BEFORE = 3           # ms\n",
    "MS_AFTER = 3            # ms\n",
    "\n",
    "# silico\n",
    "#data_conf_sili, param_conf_sili = get_config(\"silico_neuropixels\", \"2023_10_18\").values()\n",
    "RAW_PATH = os.path.join(PROJ_PATH, \"datasets/00_raw/recording_npx_spont/\")\n",
    "PREP_PATH = data_conf_sili[\"preprocessing\"][\"output\"][\"trace_file_path\"]\n",
    "WAVE_PATH = data_conf_sili[\"postprocessing\"][\"waveform\"][\"sorted\"][\"study\"]\n",
    "SORT_PATH = data_conf_sili[\"sorting\"][\"sorters\"][\"kilosort3\"][\"output\"]\n",
    "\n",
    "# set parameters\n",
    "PAULK_PERIOD = 0.55\n",
    "SUN_PERIOD = 4\n",
    "OUR_PERIOD = 6\n",
    "\n",
    "# FIGURE SETTINGS\n",
    "COLOR_VIVO = (0.7, 0.7, 0.7)\n",
    "COLOR_SILI = (0.84, 0.27, 0.2)\n",
    "COLOR_STIM = (0.6, 0.75, 0.1)\n",
    "BOX_ASPECT = 1                  # square fig\n",
    "FIG_SIZE = (4,4)\n",
    "N_MAJOR_TICKS = 6\n",
    "N_MINOR_TICKS = 12\n",
    "plt.rcParams[\"font.family\"] = \"Arial\"\n",
    "plt.rcParams[\"font.size\"] = 24\n",
    "plt.rcParams['lines.linewidth'] = 1\n",
    "plt.rcParams['axes.linewidth'] = 1\n",
    "plt.rcParams['axes.spines.top'] = False\n",
    "plt.rcParams['axes.spines.right'] = False\n",
    "plt.rcParams['xtick.major.width'] = 1\n",
    "plt.rcParams['xtick.minor.size'] = 3\n",
    "plt.rcParams['xtick.major.size'] = 7\n",
    "plt.rcParams['ytick.major.size'] = 7\n",
    "plt.rcParams['ytick.major.width'] = 1\n",
    "legend_cfg = {\"frameon\": False, \"handletextpad\": 0.1}\n",
    "savefig_cfg = {\"transparent\":True}"
   ]
  },
  {
   "cell_type": "markdown",
   "id": "87c5fd4e",
   "metadata": {},
   "source": []
  }
 ],
 "metadata": {
  "kernelspec": {
   "display_name": "Python 3",
   "language": "python",
   "name": "python3"
  },
  "language_info": {
   "codemirror_mode": {
    "name": "ipython",
    "version": 3
   },
   "file_extension": ".py",
   "mimetype": "text/x-python",
   "name": "python",
   "nbconvert_exporter": "python",
   "pygments_lexer": "ipython3",
   "version": "3.9.7"
  }
 },
 "nbformat": 4,
 "nbformat_minor": 5
}
