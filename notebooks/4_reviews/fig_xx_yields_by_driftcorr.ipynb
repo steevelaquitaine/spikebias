{
 "cells": [
  {
   "cell_type": "markdown",
   "metadata": {},
   "source": [
    "## Quality of isolation\n",
    "\n",
    "**author**: steeve.laquitaine@epfl.ch\n",
    "\n",
    "purpose: calculates single-unit and multi-unit w and w/o drift correction\n",
    "\n",
    "## STATUS\n",
    "\n",
    "- ks3 (+/-corr.)\n",
    "    - npx spont: done\n",
    "    - npx evoked: done\n",
    "- ks4 (+/-corr.)\n",
    "    - npx spont (10min - 202 sites - 10K batch): todo\n",
    "    - npx evoked (10min - 202 sites - 10K batch): running ...\n",
    "\n",
    "## Setup\n",
    "\n",
    "Prerequisites:\n",
    "\n",
    "- spike sorting \n",
    "\n",
    "Activate `spikebias`environment kernel\n",
    "\n"
   ]
  },
  {
   "cell_type": "code",
   "execution_count": null,
   "metadata": {},
   "outputs": [
    {
     "name": "stdout",
     "output_type": "stream",
     "text": [
      "The autoreload extension is already loaded. To reload it, use:\n",
      "  %reload_ext autoreload\n"
     ]
    }
   ],
   "source": [
    "%load_ext autoreload\n",
    "%autoreload 2\n",
    "from matplotlib import pyplot as plt\n",
    "import numpy as np\n",
    "import os\n",
    "import pandas as pd\n",
    "import spikeinterface as si\n",
    "from random import choices\n",
    "from scipy import stats\n",
    "\n",
    "# SET PROJECT PATH\n",
    "\n",
    "PROJ_PATH = \"/home/steeve/steeve/epfl/code/spikebias/\"\n",
    "os.chdir(PROJ_PATH)\n",
    "\n",
    "# import custom package\n",
    "#from src.nodes.utils import get_config\n",
    "from src.nodes.validation import firing_rate as fr\n",
    "from src.nodes.analysis.failures import isolation\n",
    "\n",
    "# KS3\n",
    "# v100 GPU drift-corrected\n",
    "SORTED_ns_v100_corr = './dataset/01_intermediate/sorting/npx_spont/SortingKS3_10m'\n",
    "SORTED_ne_v100_corr = './dataset/01_intermediate/sorting/npx_evoked/SortingKS3_10m'\n",
    "SORTED_ds1_v100_corr = './dataset/01_intermediate/sorting/dense_probe1/SortingKS3_10m'\n",
    "#SORTED_PATH_nv = \n",
    "#SORTED_PATH_ns_2X = \n",
    "#SORTED_PATH_nb = \n",
    "\n",
    "# rtx5090 GPU drift-corrected\n",
    "SORTED_ns_rtx_corr = './temp/npx_spont/SortingKS3_10m_RTX5090_DriftCorr'\n",
    "SORTED_ne_rtx_corr = './temp/npx_evoked_20khz/SortingKS3_10m_RTX5090_DriftCorr'\n",
    "SORTED_ds1_rtx_corr = './temp/dense_spont_probe1/SortingKS3_10m_RTX5090_DriftCorr'\n",
    "\n",
    "# rtx5090 GPU not drift-corrected\n",
    "SORTED_ns_rtx_no_corr = './temp/npx_spont/SortingKS3_10m_RTX5090_NoDriftCorr'\n",
    "SORTED_ne_rtx_no_corr = './temp/npx_evoked_20khz/SortingKS3_10m_RTX5090_NoDriftCorr'\n",
    "SORTED_ds1_rtx_no_corr = './temp/dense_spont_probe1/SortingKS3_10m_RTX5090_NoDriftCorr'\n",
    "\n",
    "# KS4\n",
    "\n",
    "# EXPERIMENTS\n",
    "\n",
    "# # Horvath (vivo)\n",
    "# cfg_hv1, _ = get_config(\"vivo_horvath\", \"probe_1\").values()\n",
    "# PRE_HV1 = cfg_hv1[\"preprocessing\"][\"full\"][\"output\"][\"trace_file_path\"]\n",
    "# SORTED_HV1 = cfg_hv1[\"sorting\"][\"sorters\"][\"kilosort4\"][\"10m\"][\"output\"]\n",
    "\n",
    "# cfg_hv2, _ = get_config(\"vivo_horvath\", \"probe_2\").values()\n",
    "# PRE_HV2 = cfg_hv2[\"preprocessing\"][\"full\"][\"output\"][\"trace_file_path\"]\n",
    "# SORTED_HV2 = cfg_hv2[\"sorting\"][\"sorters\"][\"kilosort4\"][\"10m\"][\"output\"]\n",
    "\n",
    "# cfg_hv3, _ = get_config(\"vivo_horvath\", \"probe_3\").values()\n",
    "# PRE_HV3 = cfg_hv3[\"preprocessing\"][\"full\"][\"output\"][\"trace_file_path\"]\n",
    "# SORTED_HV3 = cfg_hv3[\"sorting\"][\"sorters\"][\"kilosort4\"][\"10m\"][\"output\"]\n",
    "\n",
    "# # Biophy spont.\n",
    "# cfg_hs1, _ = get_config(\"silico_horvath\", \"concatenated/probe_1\").values()\n",
    "# PRE_HS1 = cfg_hs1[\"preprocessing\"][\"full\"][\"output\"][\"trace_file_path\"]\n",
    "# SORTED_HS1 = cfg_hs1[\"sorting\"][\"sorters\"][\"kilosort4\"][\"10m\"][\"output\"]\n",
    "\n",
    "# cfg_hs2, _ = get_config(\"silico_horvath\", \"concatenated/probe_2\").values()\n",
    "# PRE_HS2 = cfg_hs2[\"preprocessing\"][\"full\"][\"output\"][\"trace_file_path\"]\n",
    "# SORTED_HS2 = cfg_hs2[\"sorting\"][\"sorters\"][\"kilosort4\"][\"10m\"][\"output\"]\n",
    "\n",
    "# cfg_hs3, _ = get_config(\"silico_horvath\", \"concatenated/probe_3\").values()\n",
    "# PRE_HS3 = cfg_hs3[\"preprocessing\"][\"full\"][\"output\"][\"trace_file_path\"]\n",
    "# SORTED_HS3 = cfg_hs3[\"sorting\"][\"sorters\"][\"kilosort4\"][\"10m\"][\"output\"]\n",
    "\n",
    "# SETUP WAVEFORMS\n",
    "MS_BEFORE = 3\n",
    "MS_AFTER = 3\n",
    "\n",
    "# SETUP PLOT \n",
    "\n",
    "# set lognormal plot parameters\n",
    "log_x_min = -3.0\n",
    "log_x_max = 3.0\n",
    "nbins = 30\n",
    "\n",
    "# IF you don't want to use the feature, set the value to 1E100\n",
    "# t_dec = 3600 # seconds until experimenter decides a cell is silent\n",
    "t_dec = 1^100 # seconds until experimenter decides a cell is silent\n",
    "\n",
    "cl = dict()\n",
    "cl[\"COLOR_NV\"] = [0.6, 0.6, 0.6]\n",
    "cl[\"COLOR_NS\"] = [0.9, 0.14, 0.15]\n",
    "cl[\"COLOR_NB\"] = [0.22, 0.5, 0.72] # blue\n",
    "cl[\"COLOR_NE\"] = [1, 0.49, 0] # orange\n",
    "cl[\"COLOR_HV\"] = \"k\" # black\n",
    "cl[\"COLOR_HS\"] = np.array([26, 152, 80]) / 255 # green\n",
    "\n",
    "# axes\n",
    "plt.rcParams[\"font.family\"] = \"Arial\"\n",
    "plt.rcParams[\"font.size\"] = 6  # 5-7 with Nature neuroscience as reference\n",
    "plt.rcParams[\"lines.linewidth\"] = 0.5 # typically between 0.5 and 1\n",
    "plt.rcParams[\"axes.linewidth\"] = 0.5 #1\n",
    "plt.rcParams[\"axes.spines.top\"] = False\n",
    "plt.rcParams[\"xtick.major.width\"] = 0.5 #0.8 #* 1.3\n",
    "plt.rcParams[\"xtick.minor.width\"] = 0.5 #0.8 #* 1.3\n",
    "plt.rcParams[\"ytick.major.width\"] = 0.5 #0.8 #* 1.3\n",
    "plt.rcParams[\"ytick.minor.width\"] = 0.5 #0.8 #* 1.3\n",
    "plt.rcParams[\"xtick.major.size\"] = 3.5 * 1.1\n",
    "plt.rcParams[\"xtick.minor.size\"] = 2 * 1.1\n",
    "plt.rcParams[\"ytick.major.size\"] = 3.5 * 1.1\n",
    "plt.rcParams[\"ytick.minor.size\"] = 2 * 1.1\n",
    "# legend\n",
    "savefig_cfg = {\"transparent\":True, \"dpi\": 300}\n",
    "legend_cfg = {\"frameon\": False, \"handletextpad\": 0.5}\n",
    "tight_layout_cfg = {\"pad\": 0.001}\n",
    "LG_FRAMEON = False              # no legend frame"
   ]
  },
  {
   "cell_type": "markdown",
   "metadata": {},
   "source": [
    "## Get metadata"
   ]
  },
  {
   "cell_type": "code",
   "execution_count": null,
   "metadata": {},
   "outputs": [],
   "source": [
    "# get unit metadata --------------\n",
    "\n",
    "# rtx5090 GPU drift-corrected\n",
    "#df_nv = fr.get_sorted_unit_meta(SORTED_PATH_nv)\n",
    "ks3_ns_v100_corr = fr.get_sorted_unit_meta(SORTED_ns_v100_corr)\n",
    "ks3_ne_v100_corr = fr.get_sorted_unit_meta(SORTED_ne_v100_corr)\n",
    "\n",
    "# rtx5090 GPU drift-corrected\n",
    "ks3_ns_rtx_corr = fr.get_sorted_unit_meta(SORTED_ns_rtx_corr)    \n",
    "ks3_ne_rtx_corr = fr.get_sorted_unit_meta(SORTED_ne_rtx_corr)\n",
    "\n",
    "# rtx5090 GPU not drift-corrected\n",
    "ks3_ns_rtx_no_corr = fr.get_sorted_unit_meta(SORTED_ns_rtx_no_corr)\n",
    "ks3_ne_rtx_no_corr = fr.get_sorted_unit_meta(SORTED_ne_rtx_no_corr)\n",
    "\n",
    "# keep units in cortex ---------------\n",
    "\n",
    "# rtx5090 GPU drift-corrected\n",
    "#ks3_nv = ks3_nv[np.isin(ks3_nv[\"layer\"], [\"L1\", \"L2/3\", \"L4\", \"L5\", \"L6\"])]\n",
    "ks3_ns_v100_corr = ks3_ns_v100_corr[np.isin(ks3_ns_v100_corr[\"layer\"], [\"L1\", \"L2\", \"L3\", \"L4\", \"L5\", \"L6\"])]\n",
    "ks3_ne_v100_corr = ks3_ne_v100_corr[np.isin(ks3_ne_v100_corr[\"layer\"], [\"L1\", \"L2\", \"L3\", \"L4\", \"L5\", \"L6\"])]\n",
    "\n",
    "# rtx5090 GPU drift-corrected\n",
    "ks3_ns_rtx_corr = ks3_ns_rtx_corr[np.isin(ks3_ns_rtx_corr[\"layer\"], [\"L1\", \"L2\", \"L3\", \"L4\", \"L5\", \"L6\"])]\n",
    "ks3_ne_rtx_corr = ks3_ne_rtx_corr[np.isin(ks3_ne_rtx_corr[\"layer\"], [\"L1\", \"L2\", \"L3\", \"L4\", \"L5\", \"L6\"])]\n",
    "\n",
    "# rtx5090 GPU not drift-corrected\n",
    "ks3_ns_rtx_no_corr = ks3_ns_rtx_no_corr[np.isin(ks3_ns_rtx_no_corr[\"layer\"], [\"L1\", \"L2\", \"L3\", \"L4\", \"L5\", \"L6\"])]\n",
    "ks3_ne_rtx_no_corr = ks3_ne_rtx_no_corr[np.isin(ks3_ne_rtx_no_corr[\"layer\"], [\"L1\", \"L2\", \"L3\", \"L4\", \"L5\", \"L6\"])]\n",
    "\n",
    "\n",
    "# standardize layer 2/3 ------------------\n",
    "\n",
    "# rtx5090 GPU drift-corrected\n",
    "ks3_ns_v100_corr[\"layer\"][(ks3_ns_v100_corr[\"layer\"] == \"L2\") | (ks3_ns_v100_corr[\"layer\"] == \"L3\")] = \"L2/3\"\n",
    "ks3_ne_v100_corr[\"layer\"][(ks3_ne_v100_corr[\"layer\"] == \"L2\") | (ks3_ne_v100_corr[\"layer\"] == \"L3\")] = \"L2/3\"\n",
    "\n",
    "# rtx5090 GPU drift-corrected\n",
    "ks3_ns_rtx_corr[\"layer\"][(ks3_ns_rtx_corr[\"layer\"] == \"L2\") | (ks3_ns_rtx_corr[\"layer\"] == \"L3\")] = \"L2/3\"\n",
    "ks3_ne_rtx_corr[\"layer\"][(ks3_ne_rtx_corr[\"layer\"] == \"L2\") | (ks3_ne_rtx_corr[\"layer\"] == \"L3\")] = \"L2/3\"\n",
    "\n",
    "# rtx5090 GPU not drift-corrected\n",
    "ks3_ns_rtx_no_corr[\"layer\"][(ks3_ns_rtx_no_corr[\"layer\"] == \"L2\") | (ks3_ns_rtx_no_corr[\"layer\"] == \"L3\")] = \"L2/3\"\n",
    "ks3_ne_rtx_no_corr[\"layer\"][(ks3_ne_rtx_no_corr[\"layer\"] == \"L2\") | (ks3_ne_rtx_no_corr[\"layer\"] == \"L3\")] = \"L2/3\"\n",
    "\n",
    "# unit-test: check all in cortex\n",
    "# assert all(\n",
    "#     np.isin(np.sort(df_nv[\"layer\"].unique()), [\"L1\", \"L2/3\", \"L4\", \"L5\", \"L6\"])\n",
    "# ), \"nor all in cortex\"\n",
    "# assert all(\n",
    "#     np.isin(np.sort(df_ns[\"layer\"].unique()), [\"L1\", \"L2/3\", \"L4\", \"L5\", \"L6\"])\n",
    "# ), \"nor all in cortex\"\n",
    "# assert all(\n",
    "#     np.isin(np.sort(df_ns_2X[\"layer\"].unique()), [\"L1\", \"L2/3\", \"L4\", \"L5\", \"L6\"])\n",
    "# ), \"nor all in cortex\"\n",
    "# assert all(\n",
    "#     np.isin(np.sort(df_nv[\"layer\"].unique()), [\"L1\", \"L2/3\", \"L4\", \"L5\", \"L6\"])\n",
    "# ), \"nor all in cortex\""
   ]
  },
  {
   "cell_type": "markdown",
   "metadata": {},
   "source": [
    "## Plot isolation quality NPX"
   ]
  },
  {
   "cell_type": "code",
   "execution_count": 20,
   "metadata": {},
   "outputs": [
    {
     "data": {
      "text/html": [
       "<div>\n",
       "<style scoped>\n",
       "    .dataframe tbody tr th:only-of-type {\n",
       "        vertical-align: middle;\n",
       "    }\n",
       "\n",
       "    .dataframe tbody tr th {\n",
       "        vertical-align: top;\n",
       "    }\n",
       "\n",
       "    .dataframe thead th {\n",
       "        text-align: right;\n",
       "    }\n",
       "</style>\n",
       "<table border=\"1\" class=\"dataframe\">\n",
       "  <thead>\n",
       "    <tr style=\"text-align: right;\">\n",
       "      <th></th>\n",
       "      <th>layer</th>\n",
       "      <th>firing_rate</th>\n",
       "      <th>kslabel</th>\n",
       "      <th>amplitude</th>\n",
       "    </tr>\n",
       "  </thead>\n",
       "  <tbody>\n",
       "    <tr>\n",
       "      <th>0</th>\n",
       "      <td>L5</td>\n",
       "      <td>0.1066666692495346</td>\n",
       "      <td>mua</td>\n",
       "      <td>5153.1</td>\n",
       "    </tr>\n",
       "    <tr>\n",
       "      <th>1</th>\n",
       "      <td>L5</td>\n",
       "      <td>0.06666667014360428</td>\n",
       "      <td>mua</td>\n",
       "      <td>8105.1</td>\n",
       "    </tr>\n",
       "    <tr>\n",
       "      <th>2</th>\n",
       "      <td>L5</td>\n",
       "      <td>0.06833333522081375</td>\n",
       "      <td>mua</td>\n",
       "      <td>3105.7</td>\n",
       "    </tr>\n",
       "    <tr>\n",
       "      <th>3</th>\n",
       "      <td>L5</td>\n",
       "      <td>0.21166667342185974</td>\n",
       "      <td>mua</td>\n",
       "      <td>1998.0</td>\n",
       "    </tr>\n",
       "    <tr>\n",
       "      <th>4</th>\n",
       "      <td>L5</td>\n",
       "      <td>0.20000000298023224</td>\n",
       "      <td>mua</td>\n",
       "      <td>6073.6</td>\n",
       "    </tr>\n",
       "    <tr>\n",
       "      <th>...</th>\n",
       "      <td>...</td>\n",
       "      <td>...</td>\n",
       "      <td>...</td>\n",
       "      <td>...</td>\n",
       "    </tr>\n",
       "    <tr>\n",
       "      <th>830</th>\n",
       "      <td>L5</td>\n",
       "      <td>0.03999999910593033</td>\n",
       "      <td>mua</td>\n",
       "      <td>1628.7</td>\n",
       "    </tr>\n",
       "    <tr>\n",
       "      <th>831</th>\n",
       "      <td>L5</td>\n",
       "      <td>0.10166666656732559</td>\n",
       "      <td>mua</td>\n",
       "      <td>6013.4</td>\n",
       "    </tr>\n",
       "    <tr>\n",
       "      <th>832</th>\n",
       "      <td>L5</td>\n",
       "      <td>0.41499999165534973</td>\n",
       "      <td>mua</td>\n",
       "      <td>1179.0</td>\n",
       "    </tr>\n",
       "    <tr>\n",
       "      <th>833</th>\n",
       "      <td>L5</td>\n",
       "      <td>0.05000000074505806</td>\n",
       "      <td>mua</td>\n",
       "      <td>2557.8</td>\n",
       "    </tr>\n",
       "    <tr>\n",
       "      <th>834</th>\n",
       "      <td>L5</td>\n",
       "      <td>0.08166666328907013</td>\n",
       "      <td>mua</td>\n",
       "      <td>8242.3</td>\n",
       "    </tr>\n",
       "  </tbody>\n",
       "</table>\n",
       "<p>720 rows × 4 columns</p>\n",
       "</div>"
      ],
      "text/plain": [
       "    layer          firing_rate kslabel amplitude\n",
       "0      L5   0.1066666692495346     mua    5153.1\n",
       "1      L5  0.06666667014360428     mua    8105.1\n",
       "2      L5  0.06833333522081375     mua    3105.7\n",
       "3      L5  0.21166667342185974     mua    1998.0\n",
       "4      L5  0.20000000298023224     mua    6073.6\n",
       "..    ...                  ...     ...       ...\n",
       "830    L5  0.03999999910593033     mua    1628.7\n",
       "831    L5  0.10166666656732559     mua    6013.4\n",
       "832    L5  0.41499999165534973     mua    1179.0\n",
       "833    L5  0.05000000074505806     mua    2557.8\n",
       "834    L5  0.08166666328907013     mua    8242.3\n",
       "\n",
       "[720 rows x 4 columns]"
      ]
     },
     "execution_count": 20,
     "metadata": {},
     "output_type": "execute_result"
    }
   ],
   "source": [
    "df_ns_v100_corr"
   ]
  },
  {
   "cell_type": "code",
   "execution_count": 21,
   "metadata": {},
   "outputs": [
    {
     "ename": "NameError",
     "evalue": "name 'ks4_ns_v100_corr' is not defined",
     "output_type": "error",
     "traceback": [
      "\u001b[0;31m---------------------------------------------------------------------------\u001b[0m",
      "\u001b[0;31mNameError\u001b[0m                                 Traceback (most recent call last)",
      "Cell \u001b[0;32mIn[21], line 8\u001b[0m\n\u001b[1;32m      3\u001b[0m _, ax \u001b[38;5;241m=\u001b[39m plt\u001b[38;5;241m.\u001b[39msubplots(\u001b[38;5;241m2\u001b[39m, \u001b[38;5;241m2\u001b[39m, figsize\u001b[38;5;241m=\u001b[39mFIGSIZE)\n\u001b[1;32m      5\u001b[0m \u001b[38;5;66;03m# KILOSORT 4 --------------\u001b[39;00m\n\u001b[1;32m      6\u001b[0m \n\u001b[1;32m      7\u001b[0m \u001b[38;5;66;03m# plot NS\u001b[39;00m\n\u001b[0;32m----> 8\u001b[0m isolation\u001b[38;5;241m.\u001b[39mplot_unit_isolation_by_drift_corr(ax[\u001b[38;5;241m0\u001b[39m], \u001b[43mks4_ns_v100_corr\u001b[49m, ks4_ns_rtx_corr, ks4_ns_rtx_no_corr, legend_cfg);\n\u001b[1;32m      9\u001b[0m ax[\u001b[38;5;241m0\u001b[39m]\u001b[38;5;241m.\u001b[39mset_yticks([\u001b[38;5;241m0\u001b[39m, \u001b[38;5;241m0.25\u001b[39m, \u001b[38;5;241m0.5\u001b[39m, \u001b[38;5;241m0.75\u001b[39m, \u001b[38;5;241m1\u001b[39m], [\u001b[38;5;241m0\u001b[39m, \u001b[38;5;241m0.25\u001b[39m, \u001b[38;5;241m0.5\u001b[39m, \u001b[38;5;241m0.75\u001b[39m, \u001b[38;5;241m1\u001b[39m]);\n\u001b[1;32m     10\u001b[0m ax[\u001b[38;5;241m0\u001b[39m]\u001b[38;5;241m.\u001b[39mset_title(\u001b[38;5;124m'\u001b[39m\u001b[38;5;124mks4 - NS\u001b[39m\u001b[38;5;124m'\u001b[39m)\n",
      "\u001b[0;31mNameError\u001b[0m: name 'ks4_ns_v100_corr' is not defined"
     ]
    },
    {
     "data": {
      "image/png": "[encoded data removed]",
      "text/plain": [
       "<Figure size 450x450 with 4 Axes>"
      ]
     },
     "metadata": {},
     "output_type": "display_data"
    }
   ],
   "source": [
    "# setup\n",
    "FIGSIZE = (4.5, 4.5)\n",
    "_, ax = plt.subplots(2, 2, figsize=FIGSIZE)\n",
    "\n",
    "# KILOSORT 4 --------------\n",
    "\n",
    "# plot NS\n",
    "isolation.plot_unit_isolation_by_drift_corr(ax[0], ks4_ns_v100_corr, ks4_ns_rtx_corr, ks4_ns_rtx_no_corr, legend_cfg);\n",
    "ax[0].set_yticks([0, 0.25, 0.5, 0.75, 1], [0, 0.25, 0.5, 0.75, 1]);\n",
    "ax[0].set_title('ks4 - NS')\n",
    "plt.tight_layout(w_pad=2)\n",
    "\n",
    "# plot NE\n",
    "isolation.plot_unit_isolation_by_drift_corr(ax[1], ks4_ne_v100_corr, ks4_ne_rtx_corr, ks4_ne_rtx_no_corr, legend_cfg);\n",
    "ax[1].set_yticks([0, 0.25, 0.5, 0.75, 1], [0, 0.25, 0.5, 0.75, 1]);\n",
    "ax[1].set_title('ks4 - NE')\n",
    "plt.tight_layout(w_pad=2)\n",
    "\n",
    "# KILOSORT 3 --------------\n",
    "\n",
    "# plot NS\n",
    "isolation.plot_unit_isolation_by_drift_corr(ax[0], ks3_ns_v100_corr, ks3_ns_rtx_corr, ks3_ns_rtx_no_corr, legend_cfg);\n",
    "ax[0].set_yticks([0, 0.25, 0.5, 0.75, 1], [0, 0.25, 0.5, 0.75, 1]);\n",
    "ax[0].set_title('ks3 - NS')\n",
    "plt.tight_layout(w_pad=2)\n",
    "\n",
    "# plot NE\n",
    "isolation.plot_unit_isolation_by_drift_corr(ax[1], ks3_ne_v100_corr, ks3_ne_rtx_corr, ks3_ne_rtx_no_corr, legend_cfg);\n",
    "ax[1].set_yticks([0, 0.25, 0.5, 0.75, 1], [0, 0.25, 0.5, 0.75, 1]);\n",
    "ax[1].set_title('ks3 - NE')\n",
    "plt.tight_layout(w_pad=2)\n",
    "\n",
    "# save figures\n",
    "plt.savefig(\"figures/7_reviews/fig_xx_effect_of_drift_corr.svg\", **savefig_cfg)"
   ]
  },
  {
   "cell_type": "code",
   "execution_count": null,
   "metadata": {},
   "outputs": [
    {
     "data": {
      "image/png": "[encoded data removed]",
      "text/plain": [
       "<Figure size 150x100 with 1 Axes>"
      ]
     },
     "metadata": {},
     "output_type": "display_data"
    }
   ],
   "source": [
    "# setup\n",
    "FIGSIZE = (1.5, 1)\n",
    "_, ax = plt.subplots(1, 1, figsize=FIGSIZE)\n",
    "\n",
    "# plot\n",
    "isolation.plot_unit_isolation(ax, df_nv, df_ns, df_ns_2X, df_ne, df_nb, legend_cfg)\n",
    "ax.set_yticks([0, 0.25, 0.5, 0.75, 1], [0, 0.25, 0.5, 0.75, 1])\n",
    "\n",
    "# save figures\n",
    "# plt.savefig(\n",
    "#     \"figures/1_sorting_quality/yield/assets/fig5A_npx_unit_isolation.svg\",\n",
    "#     **savefig_cfg,\n",
    "# )"
   ]
  },
  {
   "cell_type": "code",
   "execution_count": 7,
   "metadata": {},
   "outputs": [],
   "source": [
    "# number of single-units\n",
    "good_m = sum(df_nv[\"kslabel\"] == \"good\")\n",
    "good_ns = sum(df_ns[\"kslabel\"] == \"good\")\n",
    "good_ns2x = sum(df_ns_2X[\"kslabel\"] == \"good\")\n",
    "good_e = sum(df_ne[\"kslabel\"] == \"good\")\n",
    "good_s = sum(df_nb[\"kslabel\"] == \"good\")\n",
    "\n",
    "# number of total sorted units\n",
    "total_m = len(df_nv[\"kslabel\"])\n",
    "total_ns = len(df_ns[\"kslabel\"])\n",
    "total_ns2x = len(df_ns_2X[\"kslabel\"])\n",
    "total_e = len(df_ne[\"kslabel\"])\n",
    "total_s = len(df_nb[\"kslabel\"])\n",
    "\n",
    "good_npx = np.array([good_m, good_ns, good_ns2x, good_e, good_s])\n",
    "total_npx = np.array([total_m, total_ns, total_ns2x, total_e, total_s])"
   ]
  },
  {
   "cell_type": "markdown",
   "metadata": {},
   "source": [
    "### Hyp. Testing: the proportion of single-units is the same across experiments"
   ]
  },
  {
   "cell_type": "markdown",
   "metadata": {},
   "source": [
    "#### Spontaneous regimes"
   ]
  },
  {
   "cell_type": "code",
   "execution_count": 31,
   "metadata": {},
   "outputs": [
    {
     "name": "stdout",
     "output_type": "stream",
     "text": [
      "\n",
      "NPX:\n",
      "expected sorting accuracy: 41.0 %\n",
      "\\chi^2 (2, 1212)=2.0, p=0.3666237758281437\n"
     ]
    }
   ],
   "source": [
    "# report stats\n",
    "ddof = 0  # default adjustment of the degree of freedom\n",
    "dof = len(good_npx[:3]) - 1 - ddof  # the degree of freedom\n",
    "result = stats.chisquare(f_obs=good_npx[:3] / total_npx[:3] * 100, ddof=0)\n",
    "print(\"\\nNPX:\")\n",
    "print(\n",
    "    \"expected sorting accuracy:\",\n",
    "    np.round(np.mean(good_npx[:3] / total_npx[:3] * 100)),\n",
    "    \"%\",\n",
    ")\n",
    "print(\n",
    "    f\"\\chi^2 ({dof}, {sum(total_npx[:3])})={np.round(result.statistic,1)}, p={result.pvalue}\"\n",
    ")"
   ]
  },
  {
   "cell_type": "markdown",
   "metadata": {},
   "source": [
    "#### Spontaneous vs. evoked"
   ]
  },
  {
   "cell_type": "code",
   "execution_count": 38,
   "metadata": {},
   "outputs": [
    {
     "name": "stdout",
     "output_type": "stream",
     "text": [
      "\n",
      "NPX:\n",
      "expected sorting accuracy: 24.0 %\n",
      "\\chi^2 (1, 3993)=12.8, p=0.0003525852052219466\n"
     ]
    }
   ],
   "source": [
    "# report stats\n",
    "ddof = 0  # default adjustment of the degree of freedom\n",
    "dof = len(good_npx[[1, 3]]) - 1 - ddof  # the degree of freedom\n",
    "result = stats.chisquare(f_obs=good_npx[[1, 3]] / total_npx[[1, 3]] * 100, ddof=0)\n",
    "print(\"\\nNPX:\")\n",
    "print(\n",
    "    \"expected sorting accuracy:\",\n",
    "    np.round(np.mean(good_npx[[1, 3]] / total_npx[[1, 3]] * 100)),\n",
    "    \"%\",\n",
    ")\n",
    "print(\n",
    "    f\"\\chi^2 ({dof}, {sum(total_npx[[1, 3]])})={np.round(result.statistic,1)}, p={result.pvalue}\"\n",
    ")"
   ]
  },
  {
   "cell_type": "markdown",
   "metadata": {},
   "source": [
    "#### Synthetic vs. vivo"
   ]
  },
  {
   "cell_type": "code",
   "execution_count": 40,
   "metadata": {},
   "outputs": [
    {
     "name": "stdout",
     "output_type": "stream",
     "text": [
      "\n",
      "NPX:\n",
      "expected sorting accuracy: 59.0 %\n",
      "\\chi^2 (1, 740)=4.0, p=0.04445298002456542\n"
     ]
    }
   ],
   "source": [
    "# report stats\n",
    "ddof = 0  # default adjustment of the degree of freedom\n",
    "dof = len(good_npx[[0, 4]]) - 1 - ddof  # the degree of freedom\n",
    "result = stats.chisquare(f_obs=good_npx[[0, 4]] / total_npx[[0, 4]] * 100, ddof=0)\n",
    "print(\"\\nNPX:\")\n",
    "print(\n",
    "    \"expected sorting accuracy:\",\n",
    "    np.round(np.mean(good_npx[[0, 4]] / total_npx[[0, 4]] * 100)),\n",
    "    \"%\",\n",
    ")\n",
    "print(\n",
    "    f\"\\chi^2 ({dof}, {sum(total_npx[[0,4]])})={np.round(result.statistic,1)}, p={result.pvalue}\"\n",
    ")"
   ]
  },
  {
   "cell_type": "markdown",
   "metadata": {},
   "source": [
    "## Isolation dense probe"
   ]
  },
  {
   "cell_type": "code",
   "execution_count": 9,
   "metadata": {},
   "outputs": [
    {
     "data": {
      "image/png": "[encoded data removed]",
      "text/plain": [
       "<Figure size 60x100 with 1 Axes>"
      ]
     },
     "metadata": {},
     "output_type": "display_data"
    }
   ],
   "source": [
    "# get metadata\n",
    "df_hv1 = fr.get_sorted_unit_meta(SORTED_HV1)\n",
    "df_hv2 = fr.get_sorted_unit_meta(SORTED_HV2)\n",
    "df_hv3 = fr.get_sorted_unit_meta(SORTED_HV3)\n",
    "df_hs1 = fr.get_sorted_unit_meta(SORTED_HS1)\n",
    "df_hs2 = fr.get_sorted_unit_meta(SORTED_HS2)\n",
    "df_hs3 = fr.get_sorted_unit_meta(SORTED_HS3)\n",
    "\n",
    "# keep units in cortex\n",
    "df_hv1 = df_hv1[np.isin(df_hv1[\"layer\"], [\"L1\", \"L2/3\", \"L4\", \"L5\", \"L6\"])]\n",
    "df_hv2 = df_hv2[np.isin(df_hv2[\"layer\"], [\"L1\", \"L2/3\", \"L4\", \"L5\", \"L6\"])]\n",
    "df_hv3 = df_hv3[np.isin(df_hv3[\"layer\"], [\"L1\", \"L2/3\", \"L4\", \"L5\", \"L6\"])]\n",
    "df_hs1 = df_hs1[np.isin(df_hs1[\"layer\"], [\"L1\", \"L2/3\", \"L4\", \"L5\", \"L6\"])]\n",
    "df_hs2 = df_hs2[np.isin(df_hs2[\"layer\"], [\"L1\", \"L2/3\", \"L4\", \"L5\", \"L6\"])]\n",
    "df_hs3 = df_hs3[np.isin(df_hs3[\"layer\"], [\"L1\", \"L2/3\", \"L4\", \"L5\", \"L6\"])]\n",
    "\n",
    "# unit-test: check all in cortex\n",
    "assert all(\n",
    "    np.isin(np.sort(df_hv1[\"layer\"].unique()), [\"L1\", \"L2/3\", \"L4\", \"L5\", \"L6\"])\n",
    "), \"nor all in cortex\"\n",
    "assert all(\n",
    "    np.isin(np.sort(df_hv2[\"layer\"].unique()), [\"L1\", \"L2/3\", \"L4\", \"L5\", \"L6\"])\n",
    "), \"nor all in cortex\"\n",
    "assert all(\n",
    "    np.isin(np.sort(df_hv3[\"layer\"].unique()), [\"L1\", \"L2/3\", \"L4\", \"L5\", \"L6\"])\n",
    "), \"nor all in cortex\"\n",
    "\n",
    "assert all(\n",
    "    np.isin(np.sort(df_hs1[\"layer\"].unique()), [\"L1\", \"L2/3\", \"L4\", \"L5\", \"L6\"])\n",
    "), \"nor all in cortex\"\n",
    "assert all(\n",
    "    np.isin(np.sort(df_hs2[\"layer\"].unique()), [\"L1\", \"L2/3\", \"L4\", \"L5\", \"L6\"])\n",
    "), \"nor all in cortex\"\n",
    "assert all(\n",
    "    np.isin(np.sort(df_hs3[\"layer\"].unique()), [\"L1\", \"L2/3\", \"L4\", \"L5\", \"L6\"])\n",
    "), \"nor all in cortex\"\n",
    "\n",
    "# setup\n",
    "FIGSIZE = (0.6, 1)\n",
    "_, ax = plt.subplots(1, 1, figsize=FIGSIZE)\n",
    "\n",
    "# plot\n",
    "ax = isolation.plot_unit_isolation_dense_probe(\n",
    "    ax, df_hv1, df_hv2, df_hv3, df_hs1, df_hs2, df_hs3\n",
    ")\n",
    "ax.set_yticks([0, 0.25, 0.5, 0.75, 1], [0, 0.25, 0.5, 0.75, 1])\n",
    "\n",
    "# save figures\n",
    "plt.savefig(\n",
    "    \"figures/1_sorting_quality/yield/assets/fig5B_dense_unit_isolation.svg\",\n",
    "    **savefig_cfg,\n",
    ")"
   ]
  },
  {
   "cell_type": "markdown",
   "metadata": {},
   "source": [
    "### Hyp. Testing: the proportion of single-units is the same across experiments"
   ]
  },
  {
   "cell_type": "code",
   "execution_count": 24,
   "metadata": {},
   "outputs": [
    {
     "data": {
      "text/plain": [
       "array([ 93, 206])"
      ]
     },
     "execution_count": 24,
     "metadata": {},
     "output_type": "execute_result"
    }
   ],
   "source": [
    "good_hv1 = sum(df_hv1[\"kslabel\"] == \"good\")\n",
    "good_hv2 = sum(df_hv2[\"kslabel\"] == \"good\")\n",
    "good_hv3 = sum(df_hv3[\"kslabel\"] == \"good\")\n",
    "good_h = good_hv1 + good_hv2 + good_hv3\n",
    "total_h = len(df_hv1[\"kslabel\"]) + len(df_hv2[\"kslabel\"]) + len(df_hv3[\"kslabel\"])\n",
    "\n",
    "good_hs1 = sum(df_hs1[\"kslabel\"] == \"good\")\n",
    "good_hs2 = sum(df_hs2[\"kslabel\"] == \"good\")\n",
    "good_hs3 = sum(df_hs3[\"kslabel\"] == \"good\")\n",
    "\n",
    "good_ds = good_hs1 + good_hs2 + good_hs3\n",
    "total_ds = len(df_hs1[\"kslabel\"]) + len(df_hs2[\"kslabel\"]) + len(df_hs3[\"kslabel\"])\n",
    "\n",
    "good_dense = np.array([good_h, good_ds])\n",
    "total_dense = np.array([total_h, total_ds])"
   ]
  },
  {
   "cell_type": "code",
   "execution_count": 26,
   "metadata": {},
   "outputs": [
    {
     "name": "stdout",
     "output_type": "stream",
     "text": [
      "\n",
      "dense:\n",
      "expected sorting accuracy: 31.0 %\n",
      "\\chi^2 (1, 920)=1.8, p=0.17729337530535055\n"
     ]
    }
   ],
   "source": [
    "# report stats\n",
    "ddof = 0  # default adjustment of the degree of freedom\n",
    "dof = len(good_dense) - 1 - ddof  # the degree of freedom\n",
    "result = stats.chisquare(f_obs=good_dense / total_dense * 100, ddof=0)\n",
    "print(\"\\ndense:\")\n",
    "print(\n",
    "    \"expected sorting accuracy:\", np.round(np.mean(good_dense / total_dense * 100)), \"%\"\n",
    ")\n",
    "print(\n",
    "    f\"\\chi^2 ({dof}, {sum(total_dense)})={np.round(result.statistic,1)}, p={result.pvalue}\"\n",
    ")"
   ]
  },
  {
   "cell_type": "markdown",
   "metadata": {},
   "source": [
    "### Hyp. testing: single-unit ratio is the same between probe\n",
    "\n",
    "* we compared the average ratios of (M,NS) and (H, DS)"
   ]
  },
  {
   "cell_type": "code",
   "execution_count": 47,
   "metadata": {},
   "outputs": [
    {
     "name": "stdout",
     "output_type": "stream",
     "text": [
      "\n",
      "dense:\n",
      "expected sorting accuracy: 37.0 %\n",
      "\\chi^2 (1, 558)=6.6, p=0.010454200240941174\n"
     ]
    }
   ],
   "source": [
    "good_probes_v = np.array([good_npx[0], good_dense[0]])\n",
    "total_probes_v = np.array([total_npx[0], total_dense[0]])\n",
    "\n",
    "# report stats\n",
    "ddof = 0  # default adjustment of the degree of freedom\n",
    "dof = len(good_probes_v) - 1 - ddof  # the degree of freedom\n",
    "result = stats.chisquare(f_obs=good_probes_v / total_probes_v * 100, ddof=0)\n",
    "print(\"\\ndense:\")\n",
    "print(\n",
    "    \"expected sorting accuracy:\",\n",
    "    np.round(np.mean(good_probes_v / total_probes_v * 100)),\n",
    "    \"%\",\n",
    ")\n",
    "print(\n",
    "    f\"\\chi^2 ({dof}, {sum(total_probes_v)})={np.round(result.statistic,1)}, p={result.pvalue}\"\n",
    ")"
   ]
  },
  {
   "cell_type": "code",
   "execution_count": 56,
   "metadata": {},
   "outputs": [
    {
     "name": "stdout",
     "output_type": "stream",
     "text": [
      "\n",
      "dense:\n",
      "expected sorting accuracy: 36.0 %\n",
      "\\chi^2 (1, 1066)=0.004062372471720449, p=0.9491798471326721\n"
     ]
    }
   ],
   "source": [
    "good_probes_s = np.array([good_npx[1], good_dense[1]])\n",
    "total_probes_s = np.array([total_npx[1], total_dense[1]])\n",
    "\n",
    "# report stats\n",
    "ddof = 0  # default adjustment of the degree of freedom\n",
    "dof = len(good_probes_s) - 1 - ddof  # the degree of freedom\n",
    "result = stats.chisquare(f_obs=good_probes_s / total_probes_s * 100, ddof=0)\n",
    "print(\"\\ndense:\")\n",
    "print(\n",
    "    \"expected sorting accuracy:\",\n",
    "    np.round(np.mean(good_probes_s / total_probes_s * 100)),\n",
    "    \"%\",\n",
    ")\n",
    "print(f\"\\chi^2 ({dof}, {sum(total_probes_s)})={result.statistic}, p={result.pvalue}\")"
   ]
  },
  {
   "cell_type": "code",
   "execution_count": null,
   "metadata": {},
   "outputs": [
    {
     "data": {
      "text/plain": [
       "420"
      ]
     },
     "execution_count": 1,
     "metadata": {},
     "output_type": "execute_result"
    }
   ],
   "source": []
  },
  {
   "cell_type": "code",
   "execution_count": null,
   "metadata": {},
   "outputs": [],
   "source": []
  },
  {
   "cell_type": "code",
   "execution_count": null,
   "metadata": {},
   "outputs": [],
   "source": []
  },
  {
   "cell_type": "code",
   "execution_count": 24,
   "metadata": {},
   "outputs": [
    {
     "name": "stdout",
     "output_type": "stream",
     "text": [
      "10m - total 3529 - good 408\n",
      "10m - total 46 - good 17\n",
      "7m - total 36 - <good 16\n",
      "5m - total 21 - good 8\n",
      "10m - total 44 - good 17\n"
     ]
    }
   ],
   "source": [
    "# evoked testing\n",
    "import spikeinterface as si\n",
    "Sref = si.load_extractor(\"/home/steeve/steeve/epfl/code/spikebias/dataset/01_intermediate/sorting/npx_evoked/SortingKS4_10m\") # 384 sites\n",
    "S10 = si.load_extractor(\"/home/steeve/steeve/epfl/code/spikebias/temp/npx_evoked_20khz/10m/SortingKS4_10m_RTX5090_DriftCorr\") # 202 sites\n",
    "S7 = si.load_extractor(\"/home/steeve/steeve/epfl/code/spikebias/temp/npx_evoked_20khz/7m/SortingKS4_5m_RTX5090_DriftCorr\") # 303 sites\n",
    "S5 = si.load_extractor(\"/home/steeve/steeve/epfl/code/spikebias/temp/npx_evoked_20khz/5m/SortingKS4_5m_RTX5090_DriftCorr\") # 303 sites\n",
    "\n",
    "print('10m - total', len(Sref.unit_ids), '- good' ,sum(Sref.get_property('KSLabel')=='good'))\n",
    "print('10m - total', len(S10.unit_ids), '- good', sum(S10.get_property('KSLabel')=='good'))\n",
    "print('7m - total', len(S7.unit_ids), '- <good', sum(S7.get_property('KSLabel')=='good'))\n",
    "print('5m - total', len(S5.unit_ids), '- good' ,sum(S5.get_property('KSLabel')=='good'))\n",
    "\n",
    "S10no = si.load_extractor(\"/home/steeve/steeve/epfl/code/spikebias/temp/npx_evoked_20khz/10m/SortingKS4_10m_RTX5090_NoDriftCorr\") # 202 sites\n",
    "print('10m - total', len(S10no.unit_ids), '- good', sum(S10.get_property('KSLabel')=='good'))"
   ]
  },
  {
   "cell_type": "code",
   "execution_count": 2,
   "metadata": {},
   "outputs": [
    {
     "name": "stdout",
     "output_type": "stream",
     "text": [
      "10m - total 3529 - good 408\n",
      "10m - total 3540 - good 412\n",
      "7m - total 36 - <good 16\n",
      "5m - total 21 - good 8\n",
      "10m - total 3577 - good 412\n"
     ]
    }
   ],
   "source": [
    "# evoked testing\n",
    "import spikeinterface as si\n",
    "Sref = si.load_extractor(\"/home/steeve/steeve/epfl/code/spikebias/dataset/01_intermediate/sorting/npx_evoked/SortingKS4_10m\") # 384 sites\n",
    "S10 = si.load_extractor(\"/home/steeve/steeve/epfl/code/spikebias/temp/npx_evoked_20khz/10m/SortingKS4_10m_RTX5090_DriftCorr\") # 202 sites\n",
    "S7 = si.load_extractor(\"/home/steeve/steeve/epfl/code/spikebias/temp/npx_evoked_20khz/7m/SortingKS4_5m_RTX5090_DriftCorr\") # 303 sites\n",
    "S5 = si.load_extractor(\"/home/steeve/steeve/epfl/code/spikebias/temp/npx_evoked_20khz/5m/SortingKS4_5m_RTX5090_DriftCorr\") # 303 sites\n",
    "\n",
    "print('10m - total', len(Sref.unit_ids), '- good' ,sum(Sref.get_property('KSLabel')=='good'))\n",
    "print('10m - total', len(S10.unit_ids), '- good', sum(S10.get_property('KSLabel')=='good'))\n",
    "print('7m - total', len(S7.unit_ids), '- <good', sum(S7.get_property('KSLabel')=='good'))\n",
    "print('5m - total', len(S5.unit_ids), '- good' ,sum(S5.get_property('KSLabel')=='good'))\n",
    "\n",
    "S10no = si.load_extractor(\"/home/steeve/steeve/epfl/code/spikebias/temp/npx_evoked_20khz/10m/SortingKS4_10m_RTX5090_NoDriftCorr\") # 202 sites\n",
    "print('10m - total', len(S10no.unit_ids), '- good', sum(S10.get_property('KSLabel')=='good'))"
   ]
  }
 ],
 "metadata": {
  "kernelspec": {
   "display_name": "spikebias",
   "language": "python",
   "name": "python3"
  },
  "language_info": {
   "codemirror_mode": {
    "name": "ipython",
    "version": 3
   },
   "file_extension": ".py",
   "mimetype": "text/x-python",
   "name": "python",
   "nbconvert_exporter": "python",
   "pygments_lexer": "ipython3",
   "version": "3.9.7"
  }
 },
 "nbformat": 4,
 "nbformat_minor": 2
}
