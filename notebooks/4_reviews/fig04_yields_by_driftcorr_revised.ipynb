{
 "cells": [
  {
   "cell_type": "markdown",
   "metadata": {},
   "source": [
    "## Quality of unit isolation\n",
    "\n",
    "**author**: steeve.laquitaine@epfl.ch\n",
    "\n",
    "purpose: count proportions of single vs. multi-units +/- drift correction\n",
    "\n",
    "## NOTES\n",
    "\n",
    "- ks4 (+/-corr.)\n",
    "    - M [DONE]\n",
    "    - NS [DONE]\n",
    "    - E [DONE]\n",
    "- ks3 (+/-corr.)\n",
    "    - M [RUNNING] ...\n",
    "    - NS [RUNNING] ...\n",
    "    - E [RUNNING] ...\n",
    "- ks2_5 (+/-corr.)\n",
    "    - M\n",
    "    - NS\n",
    "    - E\n",
    "- ks2 (+/-corr.): drift is built-in and can't be disabled, so we skipped.\n",
    "\n",
    "- NS-2X sortings were not backed up sor can't show it as reference\n",
    "\n",
    "\n",
    "TROUBLESHOOTING:\n",
    "\n",
    "- why NS results differ?\n",
    "    - re-load and preprocess: high-pass filter [DONE] - NO\n",
    "    - cast to float32 / int16 ? [DONE] - NO.\n",
    "    - waveform extraction (sparse instead of from all sites): CAN'T TEST.\n",
    "    - only site in cortex\n",
    "    - all units in SortingExtractor are in cortex - OK\n",
    "    - **curating sites outside cortex seem to solve this**\n",
    "\n",
    "METHOD:\n",
    "\n",
    "- 1. for sorting, select sites located in L1 to L6 (in ctx)\n",
    "- 2. after sorting, select sorted units which estimated locations are in ctx (not outside) for analysis.\n",
    "\n",
    "## Setup\n",
    "\n",
    "Prerequisites:\n",
    "\n",
    "- spike sort with pipelines in src/pipes/sorting/\n",
    "\n",
    "Activate `spikebias`environment kernel"
   ]
  },
  {
   "cell_type": "code",
   "execution_count": 5,
   "metadata": {},
   "outputs": [
    {
     "name": "stdout",
     "output_type": "stream",
     "text": [
      "The autoreload extension is already loaded. To reload it, use:\n",
      "  %reload_ext autoreload\n"
     ]
    }
   ],
   "source": [
    "%load_ext autoreload\n",
    "%autoreload 2\n",
    "from matplotlib import pyplot as plt\n",
    "import numpy as np\n",
    "import os\n",
    "import pandas as pd\n",
    "import spikeinterface as si\n",
    "from random import choices\n",
    "from scipy import stats\n",
    "\n",
    "# SET PROJECT PATH\n",
    "\n",
    "PROJ_PATH = \"/home/steeve/steeve/epfl/code/spikebias/\"\n",
    "os.chdir(PROJ_PATH)\n",
    "\n",
    "# import custom package\n",
    "#from src.nodes.utils import get_config\n",
    "from src.nodes.validation import firing_rate as fr\n",
    "from src.nodes.analysis.failures import isolation\n",
    "\n",
    "# KS3\n",
    "SORTED_ks3_paths = {\n",
    "    \"ms_v100_corr\": './dataset/01_intermediate/sorting/marques/SortingKS3_10m',\n",
    "    \"ns_v100_corr\": './dataset/01_intermediate/sorting/npx_spont/SortingKS3_10m',\n",
    "    \"ne_v100_corr\": './dataset/01_intermediate/sorting/npx_evoked/SortingKS3_10m',\n",
    "    \"s_v100_corr\": './dataset/01_intermediate/sorting/buccino/SortingKS3',\n",
    "    \"ds1_v100_corr\": './dataset/01_intermediate/sorting/dense_probe1/SortingKS3_10m',\n",
    "    \"ms_rtx_corr\": './temp/drift_correction/npx_vivo/SortingKS3_10m_RTX5090_DriftCorr',\n",
    "    \"ns_rtx_corr\": './temp/drift_correction/npx_spont/SortingKS3_10m_RTX5090_DriftCorr',\n",
    "    \"ne_rtx_corr\": './temp/drift_correction/npx_evoked_20khz/SortingKS3_10m_RTX5090_DriftCorr',\n",
    "    \"s_rtx_corr\": './temp/drift_correction/npx_synth/SortingKS3_10m_RTX5090_DriftCorr',\n",
    "    \"ds1_rtx_corr\": './temp/drift_correction/dense_spont_probe1/SortingKS3_10m_RTX5090_DriftCorr',\n",
    "    \"ms_rtx_no_corr\": './temp/drift_correction/npx_vivo/SortingKS3_10m_RTX5090_NoDriftCorr',\n",
    "    \"ns_rtx_no_corr\": './temp/drift_correction/npx_spont/SortingKS3_10m_RTX5090_NoDriftCorr',\n",
    "    \"ne_rtx_no_corr\": './temp/drift_correction/npx_evoked_20khz/SortingKS3_10m_RTX5090_NoDriftCorr',\n",
    "    \"s_rtx_no_corr\": './temp/drift_correction/npx_synth/SortingKS3_10m_RTX5090_NoDriftCorr',\n",
    "    \"ds1_rtx_no_corr\": './temp/drift_correction/dense_spont_probe1/SortingKS3_10m_RTX5090_NoDriftCorr'\n",
    "}\n",
    "\n",
    "# KS4\n",
    "SORTED_ks4_paths = {\n",
    "    \"ms_v100_corr\": './dataset/01_intermediate/sorting/marques/SortingKS4_10m',\n",
    "    \"ns_v100_corr\": './dataset/01_intermediate/sorting/npx_spont/SortingKS4_10m',\n",
    "    \"ne_v100_corr\": './dataset/01_intermediate/sorting/npx_evoked/SortingKS4_10m',\n",
    "    \"s_v100_corr\": './dataset/01_intermediate/sorting/buccino/SortingKS4',\n",
    "    \"ds1_v100_corr\": './dataset/01_intermediate/sorting/dense_probe1/SortingKS4_10m',\n",
    "    \"ms_rtx_corr\": './temp/drift_correction/npx_vivo/SortingKS4_10m_RTX5090_DriftCorr',\n",
    "    \"ns_rtx_corr\": './temp/drift_correction/npx_spont/SortingKS4_10m_RTX5090_DriftCorr',\n",
    "    \"ne_rtx_corr\": './temp/drift_correction/npx_evoked_20khz/SortingKS4_10m_RTX5090_DriftCorr',\n",
    "    \"s_rtx_corr\": './temp/drift_correction/npx_synth/SortingKS4_10m_RTX5090_DriftCorr',\n",
    "    \"ds1_rtx_corr\": './temp/drift_correction/dense_spont_probe1/SortingKS4_10m_RTX5090_DriftCorr',\n",
    "    \"ms_rtx_no_corr\": './temp/drift_correction/npx_vivo/SortingKS4_10m_RTX5090_NoDriftCorr',\n",
    "    \"ns_rtx_no_corr\": './temp/drift_correction/npx_spont/SortingKS4_10m_RTX5090_NoDriftCorr',\n",
    "    \"ne_rtx_no_corr\": './temp/drift_correction/npx_evoked_20khz/SortingKS4_10m_RTX5090_NoDriftCorr',\n",
    "    \"s_rtx_no_corr\": './temp/drift_correction/npx_synth/SortingKS4_10m_RTX5090_NoDriftCorr',\n",
    "    \"ds1_rtx_no_corr\": './temp/drift_correction/dense_spont_probe1/SortingKS4_10m_RTX5090_NoDriftCorr'\n",
    "}\n",
    "\n",
    "# KS2_5\n",
    "SORTED_ks2_5_paths = {\n",
    "    \"ms_v100_corr\": './dataset/01_intermediate/sorting/marques/SortingKS2_5_10m',\n",
    "    \"ns_v100_corr\": './dataset/01_intermediate/sorting/npx_spont/SortingKS2_5_10m',\n",
    "    \"ne_v100_corr\": './dataset/01_intermediate/sorting/npx_evoked/SortingKS2_5_10m',\n",
    "    \"s_v100_corr\": './dataset/01_intermediate/sorting/buccino/SortingKS2_5',\n",
    "    \"ds1_v100_corr\": './dataset/01_intermediate/sorting/dense_probe1/SortingKS2_5_10m',\n",
    "    \"ms_rtx_corr\": './temp/drift_correction/npx_vivo/SortingKS2_5_10m_RTX5090_DriftCorr',\n",
    "    \"ns_rtx_corr\": './temp/drift_correction/npx_spont/SortingKS2_5_10m_RTX5090_DriftCorr',\n",
    "    \"ne_rtx_corr\": './temp/drift_correction/npx_evoked_20khz/SortingKS2_5_10m_RTX5090_DriftCorr',\n",
    "    \"s_rtx_corr\": './temp/drift_correction/npx_synth/SortingKS2_5_10m_RTX5090_DriftCorr',\n",
    "    \"ds1_rtx_corr\": './temp/drift_correction/dense_spont_probe1/SortingKS2_5_10m_RTX5090_DriftCorr',\n",
    "    \"ms_rtx_no_corr\": './temp/drift_correction/npx_vivo/SortingKS2_5_10m_RTX5090_NoDriftCorr',\n",
    "    \"ns_rtx_no_corr\": './temp/drift_correction/npx_spont/SortingKS2_5_10m_RTX5090_NoDriftCorr',\n",
    "    \"ne_rtx_no_corr\": './temp/drift_correction/npx_evoked_20khz/SortingKS2_5_10m_RTX5090_NoDriftCorr',\n",
    "    \"s_rtx_no_corr\": './temp/drift_correction/npx_synth/SortingKS2_5_10m_RTX5090_NoDriftCorr',\n",
    "    \"ds1_rtx_no_corr\": './temp/drift_correction/dense_spont_probe1/SortingKS2_5_10m_RTX5090_NoDriftCorr'\n",
    "}\n",
    "\n",
    "# EXPERIMENTS\n",
    "\n",
    "# # Horvath (vivo)\n",
    "# cfg_hv1, _ = get_config(\"vivo_horvath\", \"probe_1\").values()\n",
    "# PRE_HV1 = cfg_hv1[\"preprocessing\"][\"full\"][\"output\"][\"trace_file_path\"]\n",
    "# SORTED_HV1 = cfg_hv1[\"sorting\"][\"sorters\"][\"kilosort4\"][\"10m\"][\"output\"]\n",
    "\n",
    "# cfg_hv2, _ = get_config(\"vivo_horvath\", \"probe_2\").values()\n",
    "# PRE_HV2 = cfg_hv2[\"preprocessing\"][\"full\"][\"output\"][\"trace_file_path\"]\n",
    "# SORTED_HV2 = cfg_hv2[\"sorting\"][\"sorters\"][\"kilosort4\"][\"10m\"][\"output\"]\n",
    "\n",
    "# cfg_hv3, _ = get_config(\"vivo_horvath\", \"probe_3\").values()\n",
    "# PRE_HV3 = cfg_hv3[\"preprocessing\"][\"full\"][\"output\"][\"trace_file_path\"]\n",
    "# SORTED_HV3 = cfg_hv3[\"sorting\"][\"sorters\"][\"kilosort4\"][\"10m\"][\"output\"]\n",
    "\n",
    "# # Biophy spont.\n",
    "# cfg_hs1, _ = get_config(\"silico_horvath\", \"concatenated/probe_1\").values()\n",
    "# PRE_HS1 = cfg_hs1[\"preprocessing\"][\"full\"][\"output\"][\"trace_file_path\"]\n",
    "# SORTED_HS1 = cfg_hs1[\"sorting\"][\"sorters\"][\"kilosort4\"][\"10m\"][\"output\"]\n",
    "\n",
    "# cfg_hs2, _ = get_config(\"silico_horvath\", \"concatenated/probe_2\").values()\n",
    "# PRE_HS2 = cfg_hs2[\"preprocessing\"][\"full\"][\"output\"][\"trace_file_path\"]\n",
    "# SORTED_HS2 = cfg_hs2[\"sorting\"][\"sorters\"][\"kilosort4\"][\"10m\"][\"output\"]\n",
    "\n",
    "# cfg_hs3, _ = get_config(\"silico_horvath\", \"concatenated/probe_3\").values()\n",
    "# PRE_HS3 = cfg_hs3[\"preprocessing\"][\"full\"][\"output\"][\"trace_file_path\"]\n",
    "# SORTED_HS3 = cfg_hs3[\"sorting\"][\"sorters\"][\"kilosort4\"][\"10m\"][\"output\"]\n",
    "\n",
    "# SETUP WAVEFORMS\n",
    "MS_BEFORE = 3\n",
    "MS_AFTER = 3\n",
    "\n",
    "# SETUP PLOT \n",
    "\n",
    "# set lognormal plot parameters\n",
    "log_x_min = -3.0\n",
    "log_x_max = 3.0\n",
    "nbins = 30\n",
    "\n",
    "# IF you don't want to use the feature, set the value to 1E100\n",
    "# t_dec = 3600 # seconds until experimenter decides a cell is silent\n",
    "t_dec = 1^100 # seconds until experimenter decides a cell is silent\n",
    "\n",
    "cl = dict()\n",
    "cl[\"COLOR_NV\"] = [0.6, 0.6, 0.6]\n",
    "cl[\"COLOR_NS\"] = [0.9, 0.14, 0.15]\n",
    "cl[\"COLOR_NB\"] = [0.22, 0.5, 0.72] # blue\n",
    "cl[\"COLOR_NE\"] = [1, 0.49, 0] # orange\n",
    "cl[\"COLOR_HV\"] = \"k\" # black\n",
    "cl[\"COLOR_HS\"] = np.array([26, 152, 80]) / 255 # green\n",
    "\n",
    "# axes\n",
    "plt.rcParams[\"font.family\"] = \"Arial\"\n",
    "plt.rcParams[\"font.size\"] = 6  # 5-7 with Nature neuroscience as reference\n",
    "plt.rcParams[\"lines.linewidth\"] = 0.5 # typically between 0.5 and 1\n",
    "plt.rcParams[\"axes.linewidth\"] = 0.5 #1\n",
    "plt.rcParams[\"axes.spines.top\"] = False\n",
    "plt.rcParams[\"xtick.major.width\"] = 0.5 #0.8 #* 1.3\n",
    "plt.rcParams[\"xtick.minor.width\"] = 0.5 #0.8 #* 1.3\n",
    "plt.rcParams[\"ytick.major.width\"] = 0.5 #0.8 #* 1.3\n",
    "plt.rcParams[\"ytick.minor.width\"] = 0.5 #0.8 #* 1.3\n",
    "plt.rcParams[\"xtick.major.size\"] = 3.5 * 1.1\n",
    "plt.rcParams[\"xtick.minor.size\"] = 2 * 1.1\n",
    "plt.rcParams[\"ytick.major.size\"] = 3.5 * 1.1\n",
    "plt.rcParams[\"ytick.minor.size\"] = 2 * 1.1\n",
    "# legend\n",
    "savefig_cfg = {\"transparent\":True, \"dpi\": 300}\n",
    "legend_cfg = {\"frameon\": False, \"handletextpad\": 0.5}\n",
    "tight_layout_cfg = {\"pad\": 0.001}\n",
    "LG_FRAMEON = False              # no legend frame"
   ]
  },
  {
   "cell_type": "markdown",
   "metadata": {},
   "source": [
    "## Custom functions"
   ]
  },
  {
   "cell_type": "code",
   "execution_count": 6,
   "metadata": {},
   "outputs": [],
   "source": [
    "def process_sorting_data(SORTED_ms_v100_corr, SORTED_ns_v100_corr, SORTED_ne_v100_corr,  SORTED_s_v100_corr, \n",
    "                         SORTED_ms_rtx_corr, SORTED_ns_rtx_corr, SORTED_ne_rtx_corr, SORTED_s_rtx_corr, \n",
    "                         SORTED_ms_rtx_no_corr, SORTED_ns_rtx_no_corr, SORTED_ne_rtx_no_corr, SORTED_s_rtx_no_corr):\n",
    "    \"\"\"\n",
    "    Process sorting data by retrieving, filtering, and standardizing unit data.\n",
    "    Keep units in L1 to L6 (in cortex)\n",
    "\n",
    "    Returns:\n",
    "        dict: A dictionary containing processed DataFrames for sorting data.\n",
    "    \"\"\"\n",
    "    # get unit data\n",
    "    sorting_data = {\n",
    "        \"ms_v100_corr\": fr.get_sorted_unit_meta(SORTED_ms_v100_corr),\n",
    "        \"ns_v100_corr\": fr.get_sorted_unit_meta(SORTED_ns_v100_corr),\n",
    "        \"ne_v100_corr\": fr.get_sorted_unit_meta(SORTED_ne_v100_corr),\n",
    "        \"s_v100_corr\": fr.get_sorted_unit_meta(SORTED_s_v100_corr),\n",
    "        \"ms_rtx_corr\": fr.get_sorted_unit_meta(SORTED_ms_rtx_corr),\n",
    "        \"ns_rtx_corr\": fr.get_sorted_unit_meta(SORTED_ns_rtx_corr),\n",
    "        \"ne_rtx_corr\": fr.get_sorted_unit_meta(SORTED_ne_rtx_corr),\n",
    "        \"s_rtx_corr\": fr.get_sorted_unit_meta(SORTED_s_rtx_corr),\n",
    "        \"ms_rtx_no_corr\": fr.get_sorted_unit_meta(SORTED_ms_rtx_no_corr),\n",
    "        \"ns_rtx_no_corr\": fr.get_sorted_unit_meta(SORTED_ns_rtx_no_corr),\n",
    "        \"ne_rtx_no_corr\": fr.get_sorted_unit_meta(SORTED_ne_rtx_no_corr),\n",
    "        \"s_rtx_no_corr\": fr.get_sorted_unit_meta(SORTED_s_rtx_no_corr),\n",
    "    }\n",
    "\n",
    "    # all units from Buccino model were from layer 5\n",
    "    sorting_data['s_v100_corr'].layer='L5'\n",
    "    sorting_data['s_rtx_corr'].layer='L5'\n",
    "    sorting_data['s_rtx_no_corr'].layer='L5'\n",
    "\n",
    "    # standardize layer 2/3\n",
    "    for key in sorting_data:\n",
    "        sorting_data[key][\"layer\"][\n",
    "            (sorting_data[key][\"layer\"] == \"L2\") | (sorting_data[key][\"layer\"] == \"L3\") | (sorting_data[key][\"layer\"] == \"L2_3\")\n",
    "        ] = \"L2/3\"\n",
    "\n",
    "    # keep units in cortex\n",
    "    for key in sorting_data:\n",
    "        sorting_data[key] = sorting_data[key][\n",
    "            np.isin(sorting_data[key][\"layer\"], [\"L1\", \"L2\", \"L2/3\", \"L4\", \"L5\", \"L6\"])\n",
    "        ]\n",
    "    return sorting_data\n",
    "\n",
    "\n",
    "def process_each_experiment(exp, SORTED_ms_v100_corr, SORTED_ms_rtx_corr, SORTED_ms_rtx_no_corr):\n",
    "    \"\"\"\n",
    "    Process sorting data by retrieving, filtering, and standardizing unit data.\n",
    "    Keep units in L1 to L6 (in cortex)\n",
    "\n",
    "    Returns:\n",
    "        dict: A dictionary containing processed DataFrames for sorting data.\n",
    "    \"\"\"\n",
    "    # get unit data\n",
    "    sorting_data = {\n",
    "        f\"{exp}_v100_corr\": fr.get_sorted_unit_meta(SORTED_ms_v100_corr),\n",
    "        f\"{exp}_rtx_corr\": fr.get_sorted_unit_meta(SORTED_ms_rtx_corr),\n",
    "        f\"{exp}_rtx_no_corr\": fr.get_sorted_unit_meta(SORTED_ms_rtx_no_corr),\n",
    "    }\n",
    "\n",
    "    # standardize layer 2/3\n",
    "    for key in sorting_data:\n",
    "        sorting_data[key][\"layer\"][\n",
    "            (sorting_data[key][\"layer\"] == \"L2\") | (sorting_data[key][\"layer\"] == \"L3\") | (sorting_data[key][\"layer\"] == \"L2_3\")\n",
    "        ] = \"L2/3\"\n",
    "\n",
    "    # keep units in cortex\n",
    "    for key in sorting_data:\n",
    "        sorting_data[key] = sorting_data[key][\n",
    "            np.isin(sorting_data[key][\"layer\"], [\"L1\", \"L2\", \"L2/3\", \"L4\", \"L5\", \"L6\"])\n",
    "        ]\n",
    "    return sorting_data"
   ]
  },
  {
   "cell_type": "markdown",
   "metadata": {},
   "source": [
    "## Testing parameters\n",
    "\n",
    "Big -> wrong site mapping to units - more should be outside cortex"
   ]
  },
  {
   "cell_type": "code",
   "execution_count": 4,
   "metadata": {},
   "outputs": [],
   "source": [
    "# import spikeinterface.core.template_tools as ttools\n",
    "# We = si.WaveformExtractor.load_from_folder('temp/npx_spont/study_ks4_10m_RTX5090_DriftCorr/')\n",
    "# max_chids = ttools.get_template_extremum_channel(We, peak_sign=\"both\")\n",
    "# Wired = si.load_extractor('dataset/01_intermediate/preprocessing/recording_npx_spont') \n",
    "# Sorting = si.load_extractor('temp/npx_spont/SortingKS4_10m_RTX5090_DriftCorr/')\n",
    "\n",
    "# unit_sites = pd.DataFrame.from_dict(max_chids, orient=\"index\")\n",
    "# unit_sites.columns = [\"site\"]\n",
    "# site_layers = pd.DataFrame(\n",
    "#     Wired.get_property(\"layers\"), index=Wired.channel_ids, columns=[\"layer\"]\n",
    "# )\n",
    "\n",
    "# # map sorted units to sites and layers\n",
    "# # site_and_layer (index: site, columns: layer and unit)\n",
    "# unit_sites = pd.DataFrame.from_dict(max_chids, orient=\"index\", columns=[\"site\"])\n",
    "# unit_sites[\"unit\"] = unit_sites.index\n",
    "# unit_sites.index = unit_sites[\"site\"].values\n",
    "# unit_sites = unit_sites.drop(columns=[\"site\"])\n",
    "# site_and_layer = pd.merge(site_layers, unit_sites, left_index=True, right_index=True)\n",
    "# site_and_layer = site_and_layer.sort_values(by=\"unit\")\n",
    "\n",
    "# # standardize layer names\n",
    "# site_and_layer[\"layer\"] = site_and_layer[\"layer\"].replace(\n",
    "#     \"Outsideofthecortex\", \"Outside\"\n",
    "# )\n",
    "\n",
    "# # Write metadata to Sorting Extractor\n",
    "# print('layer', site_and_layer[\"layer\"].tolist())\n",
    "# print('contact', site_and_layer.index.tolist())\n",
    "\n",
    "# print(sum(site_and_layer[\"layer\"]=='Outside'))\n",
    "\n",
    "# # Check waveforms\n",
    "# unit = 1\n",
    "\n",
    "# wv = We.get_waveforms(unit_id=We.unit_ids[unit])\n",
    "# print(wv.shape)\n",
    "\n",
    "# print(max_chids)\n",
    "\n",
    "# # get its nearest channel\n",
    "# c_ids = We.sparsity.unit_id_to_channel_ids[We.unit_ids[unit]]\n",
    "# max_chid = max_chids[We.unit_ids[unit]]\n",
    "# max_chid_ix = np.where(c_ids == max_chid)[0][0]\n",
    "# print(max_chid, np.array(Wired.get_property('layers'))[int(max_chid)])\n",
    "# plt.plot(wv[:,:,max_chid_ix].mean(axis=0))\n",
    "\n",
    "# print(site_and_layer.sort_index())"
   ]
  },
  {
   "cell_type": "markdown",
   "metadata": {},
   "source": [
    "## Get metadata"
   ]
  },
  {
   "cell_type": "code",
   "execution_count": 7,
   "metadata": {},
   "outputs": [],
   "source": [
    "# get the unit proportions\n",
    "ks3 = process_sorting_data(SORTED_ks3_paths[\"ms_v100_corr\"], SORTED_ks3_paths[\"ns_v100_corr\"], SORTED_ks3_paths[\"ne_v100_corr\"], SORTED_ks3_paths[\"s_v100_corr\"],\n",
    "                           SORTED_ks3_paths[\"ms_rtx_corr\"], SORTED_ks3_paths[\"ns_rtx_corr\"], SORTED_ks3_paths[\"ne_rtx_corr\"], SORTED_ks3_paths[\"s_rtx_corr\"], \n",
    "                           SORTED_ks3_paths[\"ms_rtx_no_corr\"], SORTED_ks3_paths[\"ns_rtx_no_corr\"], SORTED_ks3_paths[\"ne_rtx_no_corr\"], SORTED_ks3_paths[\"s_rtx_no_corr\"])\n",
    "\n",
    "ks4 = process_sorting_data(SORTED_ks4_paths[\"ms_v100_corr\"], SORTED_ks4_paths[\"ns_v100_corr\"], SORTED_ks4_paths[\"ne_v100_corr\"], SORTED_ks4_paths[\"s_v100_corr\"], \n",
    "                           SORTED_ks4_paths[\"ms_rtx_corr\"], SORTED_ks4_paths[\"ns_rtx_corr\"], SORTED_ks4_paths[\"ne_rtx_corr\"], SORTED_ks4_paths[\"s_rtx_corr\"], \n",
    "                           SORTED_ks4_paths[\"ms_rtx_no_corr\"], SORTED_ks4_paths[\"ns_rtx_no_corr\"], SORTED_ks4_paths[\"ne_rtx_no_corr\"], SORTED_ks4_paths[\"s_rtx_no_corr\"])\n",
    "\n",
    "ks2_5 = process_sorting_data(SORTED_ks2_5_paths[\"ms_v100_corr\"], SORTED_ks2_5_paths[\"ns_v100_corr\"], SORTED_ks2_5_paths[\"ne_v100_corr\"], SORTED_ks2_5_paths[\"s_v100_corr\"], \n",
    "                             SORTED_ks2_5_paths[\"ms_rtx_corr\"], SORTED_ks2_5_paths[\"ns_rtx_corr\"], SORTED_ks2_5_paths[\"ne_rtx_corr\"], SORTED_ks2_5_paths[\"s_rtx_corr\"], \n",
    "                             SORTED_ks2_5_paths[\"ms_rtx_no_corr\"], SORTED_ks2_5_paths[\"ns_rtx_no_corr\"], SORTED_ks2_5_paths[\"ne_rtx_no_corr\"], SORTED_ks2_5_paths[\"s_rtx_no_corr\"])\n",
    "\n",
    "# Unit-test: check all layers in cortex for ks3\n",
    "for key in ks3:\n",
    "    assert all(\n",
    "        np.isin(np.sort(ks3[key][\"layer\"].unique()), [\"L1\", \"L2/3\", \"L4\", \"L5\", \"L6\"])\n",
    "    ), f\"Not all layers in cortex for ks3[{key}]\"\n",
    "\n",
    "# Unit-test: check all layers in cortex for ks4\n",
    "for key in ks4:\n",
    "    assert all(\n",
    "        np.isin(np.sort(ks4[key][\"layer\"].unique()), [\"L1\", \"L2/3\", \"L4\", \"L5\", \"L6\"])\n",
    "    ), f\"Not all layers in cortex for ks4[{key}]\"\n",
    "\n",
    "# Unit-test: check all layers in cortex for ks4\n",
    "for key in ks2_5:\n",
    "    assert all(\n",
    "        np.isin(np.sort(ks2_5[key][\"layer\"].unique()), [\"L1\", \"L2/3\", \"L4\", \"L5\", \"L6\"])\n",
    "    ), f\"Not all layers in cortex for ks4[{key}]\""
   ]
  },
  {
   "cell_type": "markdown",
   "metadata": {},
   "source": [
    "## Plot isolation quality NPX"
   ]
  },
  {
   "cell_type": "code",
   "execution_count": 8,
   "metadata": {},
   "outputs": [
    {
     "data": {
      "text/html": [
       "<div>\n",
       "<style scoped>\n",
       "    .dataframe tbody tr th:only-of-type {\n",
       "        vertical-align: middle;\n",
       "    }\n",
       "\n",
       "    .dataframe tbody tr th {\n",
       "        vertical-align: top;\n",
       "    }\n",
       "\n",
       "    .dataframe thead th {\n",
       "        text-align: right;\n",
       "    }\n",
       "</style>\n",
       "<table border=\"1\" class=\"dataframe\">\n",
       "  <thead>\n",
       "    <tr style=\"text-align: right;\">\n",
       "      <th></th>\n",
       "      <th>layer</th>\n",
       "      <th>firing_rate</th>\n",
       "      <th>kslabel</th>\n",
       "      <th>amplitude</th>\n",
       "    </tr>\n",
       "  </thead>\n",
       "  <tbody>\n",
       "    <tr>\n",
       "      <th>0</th>\n",
       "      <td>L5</td>\n",
       "      <td>3.7816667556762695</td>\n",
       "      <td>good</td>\n",
       "      <td>2637.4</td>\n",
       "    </tr>\n",
       "    <tr>\n",
       "      <th>1</th>\n",
       "      <td>L5</td>\n",
       "      <td>1.3633333444595337</td>\n",
       "      <td>good</td>\n",
       "      <td>1439.2</td>\n",
       "    </tr>\n",
       "    <tr>\n",
       "      <th>2</th>\n",
       "      <td>L5</td>\n",
       "      <td>4.864999771118164</td>\n",
       "      <td>good</td>\n",
       "      <td>1299.5</td>\n",
       "    </tr>\n",
       "    <tr>\n",
       "      <th>3</th>\n",
       "      <td>L5</td>\n",
       "      <td>4.073333263397217</td>\n",
       "      <td>good</td>\n",
       "      <td>1332.0</td>\n",
       "    </tr>\n",
       "    <tr>\n",
       "      <th>4</th>\n",
       "      <td>L5</td>\n",
       "      <td>0.1899999976158142</td>\n",
       "      <td>mua</td>\n",
       "      <td>708.4</td>\n",
       "    </tr>\n",
       "    <tr>\n",
       "      <th>...</th>\n",
       "      <td>...</td>\n",
       "      <td>...</td>\n",
       "      <td>...</td>\n",
       "      <td>...</td>\n",
       "    </tr>\n",
       "    <tr>\n",
       "      <th>574</th>\n",
       "      <td>L5</td>\n",
       "      <td>0.22333332896232605</td>\n",
       "      <td>mua</td>\n",
       "      <td>728.9</td>\n",
       "    </tr>\n",
       "    <tr>\n",
       "      <th>575</th>\n",
       "      <td>L5</td>\n",
       "      <td>4.539999961853027</td>\n",
       "      <td>good</td>\n",
       "      <td>1364.9</td>\n",
       "    </tr>\n",
       "    <tr>\n",
       "      <th>576</th>\n",
       "      <td>L5</td>\n",
       "      <td>6.916666507720947</td>\n",
       "      <td>good</td>\n",
       "      <td>1769.6</td>\n",
       "    </tr>\n",
       "    <tr>\n",
       "      <th>577</th>\n",
       "      <td>L5</td>\n",
       "      <td>11.901666641235352</td>\n",
       "      <td>good</td>\n",
       "      <td>1708.5</td>\n",
       "    </tr>\n",
       "    <tr>\n",
       "      <th>578</th>\n",
       "      <td>L5</td>\n",
       "      <td>1.2233333587646484</td>\n",
       "      <td>good</td>\n",
       "      <td>893.6</td>\n",
       "    </tr>\n",
       "  </tbody>\n",
       "</table>\n",
       "<p>544 rows × 4 columns</p>\n",
       "</div>"
      ],
      "text/plain": [
       "    layer          firing_rate kslabel amplitude\n",
       "0      L5   3.7816667556762695    good    2637.4\n",
       "1      L5   1.3633333444595337    good    1439.2\n",
       "2      L5    4.864999771118164    good    1299.5\n",
       "3      L5    4.073333263397217    good    1332.0\n",
       "4      L5   0.1899999976158142     mua     708.4\n",
       "..    ...                  ...     ...       ...\n",
       "574    L5  0.22333332896232605     mua     728.9\n",
       "575    L5    4.539999961853027    good    1364.9\n",
       "576    L5    6.916666507720947    good    1769.6\n",
       "577    L5   11.901666641235352    good    1708.5\n",
       "578    L5   1.2233333587646484    good     893.6\n",
       "\n",
       "[544 rows x 4 columns]"
      ]
     },
     "execution_count": 8,
     "metadata": {},
     "output_type": "execute_result"
    }
   ],
   "source": [
    "ks3[\"s_rtx_no_corr\"]"
   ]
  },
  {
   "cell_type": "code",
   "execution_count": 31,
   "metadata": {},
   "outputs": [
    {
     "data": {
      "image/png": "[encoded data removed]",
      "text/plain": [
       "<Figure size 600x400 with 9 Axes>"
      ]
     },
     "metadata": {},
     "output_type": "display_data"
    }
   ],
   "source": [
    "# setup\n",
    "SHIFT = 0.3\n",
    "_, ax = plt.subplots(3, 3, figsize=(6,4))\n",
    "\n",
    "# KILOSORT 4 --------------\n",
    "\n",
    "# MS\n",
    "number_pos = {'exp1_x':-0.3 + SHIFT, 'exp1_y_su': 0.01, 'exp1_y_mu': 0.6, \n",
    "              'exp2_x': 0.7 + SHIFT, 'exp2_y_su': 0.01, 'exp2_y_mu': 0.5, \n",
    "              'exp3_x': 1.7 + SHIFT, 'exp3_y_su': 0.01, 'exp3_y_mu': 0.5}\n",
    "isolation.plot_unit_isolation_by_drift_corr(ax[0, 0], ks4[\"ms_v100_corr\"], ks4[\"ms_rtx_corr\"], ks4[\"ms_rtx_no_corr\"], legend_cfg, number_pos)\n",
    "ax[0, 0].set_yticks([0, 0.25, 0.5, 0.75, 1], [0, 0.25, 0.5, 0.75, 1])\n",
    "ax[0, 0].set_title('M')\n",
    "ax[0, 0].set_ylabel('ks4')\n",
    "\n",
    "# NS\n",
    "number_pos = {'exp1_x':-0.3 + SHIFT, 'exp1_y_su': 0.01, 'exp1_y_mu': 0.6, \n",
    "              'exp2_x': 0.7 + SHIFT, 'exp2_y_su': 0.01, 'exp2_y_mu': 0.5, \n",
    "              'exp3_x': 1.7 + SHIFT, 'exp3_y_su': 0.01, 'exp3_y_mu': 0.5}\n",
    "isolation.plot_unit_isolation_by_drift_corr(ax[0, 1], ks4[\"ns_v100_corr\"], ks4[\"ns_rtx_corr\"], ks4[\"ns_rtx_no_corr\"], legend_cfg, number_pos)\n",
    "ax[0, 1].set_yticks([0, 0.25, 0.5, 0.75, 1], [0, 0.25, 0.5, 0.75, 1])\n",
    "ax[0, 1].set_title('NS')\n",
    "ax[0, 1].set_ylabel('ks4')\n",
    "\n",
    "# S\n",
    "number_pos = {'exp1_x':-0.3 + SHIFT, 'exp1_y_su': 0.01, 'exp1_y_mu': 0.7, \n",
    "              'exp2_x': 0.7 + SHIFT, 'exp2_y_su': 0.01, 'exp2_y_mu': 0.7, \n",
    "              'exp3_x': 1.7 + SHIFT, 'exp3_y_su': 0.01, 'exp3_y_mu': 0.7}\n",
    "isolation.plot_unit_isolation_by_drift_corr(ax[0,2], ks4[\"s_v100_corr\"], ks4[\"s_rtx_corr\"], ks4[\"s_rtx_no_corr\"], legend_cfg, number_pos)\n",
    "ax[0, 2].set_title('S')\n",
    "ax[0, 2].set_yticks([0, 0.25, 0.5, 0.75, 1], [0, 0.25, 0.5, 0.75, 1])\n",
    "\n",
    "\n",
    "# KILOSORT 3 --------------\n",
    "\n",
    "# MS\n",
    "number_pos = {'exp1_x':-0.3 + SHIFT, 'exp1_y_su': 0.1, 'exp1_y_mu': 0.6, \n",
    "              'exp2_x': 0.7 + SHIFT, 'exp2_y_su': 0.1, 'exp2_y_mu': 0.6, \n",
    "              'exp3_x': 1.7 + SHIFT, 'exp3_y_su': 0.1, 'exp3_y_mu': 0.6}\n",
    "isolation.plot_unit_isolation_by_drift_corr(ax[1, 0], ks3[\"ms_v100_corr\"], ks3[\"ms_rtx_corr\"], ks3[\"ms_rtx_no_corr\"], legend_cfg, number_pos)\n",
    "ax[1, 0].set_yticks([0, 0.25, 0.5, 0.75, 1], [0, 0.25, 0.5, 0.75, 1])\n",
    "ax[1, 0].set_ylabel('ks3')\n",
    "\n",
    "# NS\n",
    "number_pos = {'exp1_x':-0.3 + SHIFT, 'exp1_y_su': 0.1, 'exp1_y_mu': 0.6, \n",
    "              'exp2_x': 0.7 + SHIFT, 'exp2_y_su': 0.1, 'exp2_y_mu': 0.6, \n",
    "              'exp3_x': 1.7 + SHIFT, 'exp3_y_su': 0.1, 'exp3_y_mu': 0.6}\n",
    "isolation.plot_unit_isolation_by_drift_corr(ax[1, 1], ks3[\"ns_v100_corr\"], ks3[\"ns_rtx_corr\"], ks3[\"ns_rtx_no_corr\"], legend_cfg, number_pos)\n",
    "ax[1, 1].set_yticks([0, 0.25, 0.5, 0.75, 1], [0, 0.25, 0.5, 0.75, 1])\n",
    "ax[1, 1].set_ylabel('ks3')\n",
    "\n",
    "# S\n",
    "number_pos = {'exp1_x':-0.3 + SHIFT, 'exp1_y_su': 0.01, 'exp1_y_mu': 0.7, \n",
    "              'exp2_x': 0.7 + SHIFT, 'exp2_y_su': 0.01, 'exp2_y_mu': 0.7, \n",
    "              'exp3_x': 1.7 + SHIFT, 'exp3_y_su': 0.01, 'exp3_y_mu': 0.7}\n",
    "isolation.plot_unit_isolation_by_drift_corr(ax[1,2], ks3[\"s_v100_corr\"], ks3[\"s_rtx_corr\"], ks3[\"s_rtx_no_corr\"], legend_cfg, number_pos)\n",
    "ax[1,2].set_yticks([0, 0.25, 0.5, 0.75, 1], [0, 0.25, 0.5, 0.75, 1])\n",
    "\n",
    "\n",
    "# # KILOSORT 2.5 --------------\n",
    "\n",
    "# MS\n",
    "number_pos = {'exp1_x':-0.3 + SHIFT, 'exp1_y_su': 0.01, 'exp1_y_mu': 0.6, \n",
    "              'exp2_x': 0.7 + SHIFT, 'exp2_y_su': 0.01, 'exp2_y_mu': 0.6, \n",
    "              'exp3_x': 1.7 + SHIFT, 'exp3_y_su': 0.01, 'exp3_y_mu': 0.6}\n",
    "isolation.plot_unit_isolation_by_drift_corr(ax[2, 0], ks2_5[\"ms_v100_corr\"], ks2_5[\"ms_rtx_corr\"], ks2_5[\"ms_rtx_no_corr\"], legend_cfg, number_pos)\n",
    "ax[2, 0].set_yticks([0, 0.25, 0.5, 0.75, 1], [0, 0.25, 0.5, 0.75, 1])\n",
    "ax[2, 0].set_ylabel('ks2.5')\n",
    "\n",
    "# NS\n",
    "number_pos = {'exp1_x':-0.3 + SHIFT, 'exp1_y_su': 0.1, 'exp1_y_mu': 0.6, \n",
    "              'exp2_x': 0.7 + SHIFT, 'exp2_y_su': 0.1, 'exp2_y_mu': 0.6, \n",
    "              'exp3_x': 1.7 + SHIFT, 'exp3_y_su': 0.1, 'exp3_y_mu': 0.6}\n",
    "isolation.plot_unit_isolation_by_drift_corr(ax[2, 1], ks2_5[\"ns_v100_corr\"], ks2_5[\"ns_rtx_corr\"], ks2_5[\"ns_rtx_no_corr\"], legend_cfg, number_pos)\n",
    "ax[2, 1].set_yticks([0, 0.25, 0.5, 0.75, 1], [0, 0.25, 0.5, 0.75, 1])\n",
    "\n",
    "# S\n",
    "number_pos = {'exp1_x':-0.3 + SHIFT, 'exp1_y_su': 0.01, 'exp1_y_mu': 0.7, \n",
    "              'exp2_x': 0.7 + SHIFT, 'exp2_y_su': 0.01, 'exp2_y_mu': 0.7, \n",
    "              'exp3_x': 1.7 + SHIFT, 'exp3_y_su': 0.01, 'exp3_y_mu': 0.7}\n",
    "isolation.plot_unit_isolation_by_drift_corr(ax[2,2], ks3[\"s_v100_corr\"], ks3[\"s_rtx_corr\"], ks3[\"s_rtx_no_corr\"], legend_cfg, number_pos)\n",
    "ax[2,2].set_yticks([0, 0.25, 0.5, 0.75, 1], [0, 0.25, 0.5, 0.75, 1])\n",
    "\n",
    "plt.tight_layout()\n",
    "\n",
    "# legend\n",
    "plt.legend(['single-unit', 'multi-unit'], frameon=False, bbox_to_anchor=(1, 1), loc=\"upper left\")\n",
    "\n",
    "# save figures\n",
    "plt.savefig(\"figures/7_reviews/figxx_no_drift_corr.svg\", **savefig_cfg, bbox_inches=\"tight\")\n",
    "plt.savefig(\"figures/7_reviews/figxx_no_drift_corr.pdf\", **savefig_cfg, bbox_inches=\"tight\")"
   ]
  },
  {
   "cell_type": "markdown",
   "metadata": {},
   "source": [
    "### For a single recording"
   ]
  },
  {
   "cell_type": "code",
   "execution_count": 8,
   "metadata": {},
   "outputs": [
    {
     "data": {
      "image/png": "[encoded data removed]",
      "text/plain": [
       "<Figure size 200x200 with 1 Axes>"
      ]
     },
     "metadata": {},
     "output_type": "display_data"
    }
   ],
   "source": [
    "# parameters\n",
    "exp = 'ns'\n",
    "sorter = 'ks3'\n",
    "\n",
    "# compute data\n",
    "plot_data = process_each_experiment(exp, SORTED_ks3_paths[f\"{exp}_v100_corr\"], SORTED_ks3_paths[f\"{exp}_rtx_corr\"], SORTED_ks3_paths[f\"{exp}_rtx_no_corr\"])\n",
    "\n",
    "# setup\n",
    "FIGSIZE = (2, 2)\n",
    "SHIFT = 0.3\n",
    "_, ax = plt.subplots(1,1,figsize=FIGSIZE)\n",
    "\n",
    "number_pos = {'exp1_x':-0.3 + SHIFT, 'exp1_y_su': 0.01, 'exp1_y_mu': 0.6, \n",
    "              'exp2_x': 0.7 + SHIFT, 'exp2_y_su': 0.01, 'exp2_y_mu': 0.5, \n",
    "              'exp3_x': 1.7 + SHIFT, 'exp3_y_su': 0.01, 'exp3_y_mu': 0.5}\n",
    "\n",
    "isolation.plot_unit_isolation_by_drift_corr(ax, plot_data[f\"{exp}_v100_corr\"], plot_data[f\"{exp}_rtx_corr\"], plot_data[f\"{exp}_rtx_no_corr\"], legend_cfg, number_pos)\n",
    "ax.set_yticks([0, 0.25, 0.5, 0.75, 1], [0, 0.25, 0.5, 0.75, 1])\n",
    "ax.set_title(exp)\n",
    "ax.set_ylabel(sorter)\n",
    "\n",
    "plt.tight_layout()"
   ]
  },
  {
   "cell_type": "code",
   "execution_count": 7,
   "metadata": {},
   "outputs": [],
   "source": [
    "# number of single-units\n",
    "good_m = sum(df_nv[\"kslabel\"] == \"good\")\n",
    "good_ns = sum(df_ns[\"kslabel\"] == \"good\")\n",
    "good_ns2x = sum(df_ns_2X[\"kslabel\"] == \"good\")\n",
    "good_e = sum(df_ne[\"kslabel\"] == \"good\")\n",
    "good_s = sum(df_nb[\"kslabel\"] == \"good\")\n",
    "\n",
    "# number of total sorted units\n",
    "total_m = len(df_nv[\"kslabel\"])\n",
    "total_ns = len(df_ns[\"kslabel\"])\n",
    "total_ns2x = len(df_ns_2X[\"kslabel\"])\n",
    "total_e = len(df_ne[\"kslabel\"])\n",
    "total_s = len(df_nb[\"kslabel\"])\n",
    "\n",
    "good_npx = np.array([good_m, good_ns, good_ns2x, good_e, good_s])\n",
    "total_npx = np.array([total_m, total_ns, total_ns2x, total_e, total_s])"
   ]
  },
  {
   "cell_type": "markdown",
   "metadata": {},
   "source": [
    "### Hyp. Testing: the proportion of single-units is the same across experiments"
   ]
  },
  {
   "cell_type": "markdown",
   "metadata": {},
   "source": [
    "#### Spontaneous regimes"
   ]
  },
  {
   "cell_type": "code",
   "execution_count": 31,
   "metadata": {},
   "outputs": [
    {
     "name": "stdout",
     "output_type": "stream",
     "text": [
      "\n",
      "NPX:\n",
      "expected sorting accuracy: 41.0 %\n",
      "\\chi^2 (2, 1212)=2.0, p=0.3666237758281437\n"
     ]
    }
   ],
   "source": [
    "# report stats\n",
    "ddof = 0  # default adjustment of the degree of freedom\n",
    "dof = len(good_npx[:3]) - 1 - ddof  # the degree of freedom\n",
    "result = stats.chisquare(f_obs=good_npx[:3] / total_npx[:3] * 100, ddof=0)\n",
    "print(\"\\nNPX:\")\n",
    "print(\n",
    "    \"expected sorting accuracy:\",\n",
    "    np.round(np.mean(good_npx[:3] / total_npx[:3] * 100)),\n",
    "    \"%\",\n",
    ")\n",
    "print(\n",
    "    f\"\\chi^2 ({dof}, {sum(total_npx[:3])})={np.round(result.statistic,1)}, p={result.pvalue}\"\n",
    ")"
   ]
  },
  {
   "cell_type": "markdown",
   "metadata": {},
   "source": [
    "#### Spontaneous vs. evoked"
   ]
  },
  {
   "cell_type": "code",
   "execution_count": 38,
   "metadata": {},
   "outputs": [
    {
     "name": "stdout",
     "output_type": "stream",
     "text": [
      "\n",
      "NPX:\n",
      "expected sorting accuracy: 24.0 %\n",
      "\\chi^2 (1, 3993)=12.8, p=0.0003525852052219466\n"
     ]
    }
   ],
   "source": [
    "# report stats\n",
    "ddof = 0  # default adjustment of the degree of freedom\n",
    "dof = len(good_npx[[1, 3]]) - 1 - ddof  # the degree of freedom\n",
    "result = stats.chisquare(f_obs=good_npx[[1, 3]] / total_npx[[1, 3]] * 100, ddof=0)\n",
    "print(\"\\nNPX:\")\n",
    "print(\n",
    "    \"expected sorting accuracy:\",\n",
    "    np.round(np.mean(good_npx[[1, 3]] / total_npx[[1, 3]] * 100)),\n",
    "    \"%\",\n",
    ")\n",
    "print(\n",
    "    f\"\\chi^2 ({dof}, {sum(total_npx[[1, 3]])})={np.round(result.statistic,1)}, p={result.pvalue}\"\n",
    ")"
   ]
  },
  {
   "cell_type": "markdown",
   "metadata": {},
   "source": [
    "#### Synthetic vs. vivo"
   ]
  },
  {
   "cell_type": "code",
   "execution_count": 40,
   "metadata": {},
   "outputs": [
    {
     "name": "stdout",
     "output_type": "stream",
     "text": [
      "\n",
      "NPX:\n",
      "expected sorting accuracy: 59.0 %\n",
      "\\chi^2 (1, 740)=4.0, p=0.04445298002456542\n"
     ]
    }
   ],
   "source": [
    "# report stats\n",
    "ddof = 0  # default adjustment of the degree of freedom\n",
    "dof = len(good_npx[[0, 4]]) - 1 - ddof  # the degree of freedom\n",
    "result = stats.chisquare(f_obs=good_npx[[0, 4]] / total_npx[[0, 4]] * 100, ddof=0)\n",
    "print(\"\\nNPX:\")\n",
    "print(\n",
    "    \"expected sorting accuracy:\",\n",
    "    np.round(np.mean(good_npx[[0, 4]] / total_npx[[0, 4]] * 100)),\n",
    "    \"%\",\n",
    ")\n",
    "print(\n",
    "    f\"\\chi^2 ({dof}, {sum(total_npx[[0,4]])})={np.round(result.statistic,1)}, p={result.pvalue}\"\n",
    ")"
   ]
  },
  {
   "cell_type": "markdown",
   "metadata": {},
   "source": [
    "## Isolation dense probe"
   ]
  },
  {
   "cell_type": "code",
   "execution_count": 9,
   "metadata": {},
   "outputs": [
    {
     "data": {
      "image/png": "[encoded data removed]",
      "text/plain": [
       "<Figure size 60x100 with 1 Axes>"
      ]
     },
     "metadata": {},
     "output_type": "display_data"
    }
   ],
   "source": [
    "# get metadata\n",
    "df_hv1 = fr.get_sorted_unit_meta(SORTED_HV1)\n",
    "df_hv2 = fr.get_sorted_unit_meta(SORTED_HV2)\n",
    "df_hv3 = fr.get_sorted_unit_meta(SORTED_HV3)\n",
    "df_hs1 = fr.get_sorted_unit_meta(SORTED_HS1)\n",
    "df_hs2 = fr.get_sorted_unit_meta(SORTED_HS2)\n",
    "df_hs3 = fr.get_sorted_unit_meta(SORTED_HS3)\n",
    "\n",
    "# keep units in cortex\n",
    "df_hv1 = df_hv1[np.isin(df_hv1[\"layer\"], [\"L1\", \"L2/3\", \"L4\", \"L5\", \"L6\"])]\n",
    "df_hv2 = df_hv2[np.isin(df_hv2[\"layer\"], [\"L1\", \"L2/3\", \"L4\", \"L5\", \"L6\"])]\n",
    "df_hv3 = df_hv3[np.isin(df_hv3[\"layer\"], [\"L1\", \"L2/3\", \"L4\", \"L5\", \"L6\"])]\n",
    "df_hs1 = df_hs1[np.isin(df_hs1[\"layer\"], [\"L1\", \"L2/3\", \"L4\", \"L5\", \"L6\"])]\n",
    "df_hs2 = df_hs2[np.isin(df_hs2[\"layer\"], [\"L1\", \"L2/3\", \"L4\", \"L5\", \"L6\"])]\n",
    "df_hs3 = df_hs3[np.isin(df_hs3[\"layer\"], [\"L1\", \"L2/3\", \"L4\", \"L5\", \"L6\"])]\n",
    "\n",
    "# unit-test: check all in cortex\n",
    "assert all(\n",
    "    np.isin(np.sort(df_hv1[\"layer\"].unique()), [\"L1\", \"L2/3\", \"L4\", \"L5\", \"L6\"])\n",
    "), \"nor all in cortex\"\n",
    "assert all(\n",
    "    np.isin(np.sort(df_hv2[\"layer\"].unique()), [\"L1\", \"L2/3\", \"L4\", \"L5\", \"L6\"])\n",
    "), \"nor all in cortex\"\n",
    "assert all(\n",
    "    np.isin(np.sort(df_hv3[\"layer\"].unique()), [\"L1\", \"L2/3\", \"L4\", \"L5\", \"L6\"])\n",
    "), \"nor all in cortex\"\n",
    "\n",
    "assert all(\n",
    "    np.isin(np.sort(df_hs1[\"layer\"].unique()), [\"L1\", \"L2/3\", \"L4\", \"L5\", \"L6\"])\n",
    "), \"nor all in cortex\"\n",
    "assert all(\n",
    "    np.isin(np.sort(df_hs2[\"layer\"].unique()), [\"L1\", \"L2/3\", \"L4\", \"L5\", \"L6\"])\n",
    "), \"nor all in cortex\"\n",
    "assert all(\n",
    "    np.isin(np.sort(df_hs3[\"layer\"].unique()), [\"L1\", \"L2/3\", \"L4\", \"L5\", \"L6\"])\n",
    "), \"nor all in cortex\"\n",
    "\n",
    "# setup\n",
    "FIGSIZE = (0.6, 1)\n",
    "_, ax = plt.subplots(1, 1, figsize=FIGSIZE)\n",
    "\n",
    "# plot\n",
    "ax = isolation.plot_unit_isolation_dense_probe(\n",
    "    ax, df_hv1, df_hv2, df_hv3, df_hs1, df_hs2, df_hs3\n",
    ")\n",
    "ax.set_yticks([0, 0.25, 0.5, 0.75, 1], [0, 0.25, 0.5, 0.75, 1])\n",
    "\n",
    "# save figures\n",
    "plt.savefig(\n",
    "    \"figures/1_sorting_quality/yield/assets/fig5B_dense_unit_isolation.svg\",\n",
    "    **savefig_cfg,\n",
    ")"
   ]
  },
  {
   "cell_type": "markdown",
   "metadata": {},
   "source": [
    "### Hyp. Testing: the proportion of single-units is the same across experiments"
   ]
  },
  {
   "cell_type": "code",
   "execution_count": 24,
   "metadata": {},
   "outputs": [
    {
     "data": {
      "text/plain": [
       "array([ 93, 206])"
      ]
     },
     "execution_count": 24,
     "metadata": {},
     "output_type": "execute_result"
    }
   ],
   "source": [
    "good_hv1 = sum(df_hv1[\"kslabel\"] == \"good\")\n",
    "good_hv2 = sum(df_hv2[\"kslabel\"] == \"good\")\n",
    "good_hv3 = sum(df_hv3[\"kslabel\"] == \"good\")\n",
    "good_h = good_hv1 + good_hv2 + good_hv3\n",
    "total_h = len(df_hv1[\"kslabel\"]) + len(df_hv2[\"kslabel\"]) + len(df_hv3[\"kslabel\"])\n",
    "\n",
    "good_hs1 = sum(df_hs1[\"kslabel\"] == \"good\")\n",
    "good_hs2 = sum(df_hs2[\"kslabel\"] == \"good\")\n",
    "good_hs3 = sum(df_hs3[\"kslabel\"] == \"good\")\n",
    "\n",
    "good_ds = good_hs1 + good_hs2 + good_hs3\n",
    "total_ds = len(df_hs1[\"kslabel\"]) + len(df_hs2[\"kslabel\"]) + len(df_hs3[\"kslabel\"])\n",
    "\n",
    "good_dense = np.array([good_h, good_ds])\n",
    "total_dense = np.array([total_h, total_ds])"
   ]
  },
  {
   "cell_type": "code",
   "execution_count": 26,
   "metadata": {},
   "outputs": [
    {
     "name": "stdout",
     "output_type": "stream",
     "text": [
      "\n",
      "dense:\n",
      "expected sorting accuracy: 31.0 %\n",
      "\\chi^2 (1, 920)=1.8, p=0.17729337530535055\n"
     ]
    }
   ],
   "source": [
    "# report stats\n",
    "ddof = 0  # default adjustment of the degree of freedom\n",
    "dof = len(good_dense) - 1 - ddof  # the degree of freedom\n",
    "result = stats.chisquare(f_obs=good_dense / total_dense * 100, ddof=0)\n",
    "print(\"\\ndense:\")\n",
    "print(\n",
    "    \"expected sorting accuracy:\", np.round(np.mean(good_dense / total_dense * 100)), \"%\"\n",
    ")\n",
    "print(\n",
    "    f\"\\chi^2 ({dof}, {sum(total_dense)})={np.round(result.statistic,1)}, p={result.pvalue}\"\n",
    ")"
   ]
  },
  {
   "cell_type": "markdown",
   "metadata": {},
   "source": [
    "### Hyp. testing: single-unit ratio is the same between probe\n",
    "\n",
    "* we compared the average ratios of (M,NS) and (H, DS)"
   ]
  },
  {
   "cell_type": "code",
   "execution_count": 47,
   "metadata": {},
   "outputs": [
    {
     "name": "stdout",
     "output_type": "stream",
     "text": [
      "\n",
      "dense:\n",
      "expected sorting accuracy: 37.0 %\n",
      "\\chi^2 (1, 558)=6.6, p=0.010454200240941174\n"
     ]
    }
   ],
   "source": [
    "good_probes_v = np.array([good_npx[0], good_dense[0]])\n",
    "total_probes_v = np.array([total_npx[0], total_dense[0]])\n",
    "\n",
    "# report stats\n",
    "ddof = 0  # default adjustment of the degree of freedom\n",
    "dof = len(good_probes_v) - 1 - ddof  # the degree of freedom\n",
    "result = stats.chisquare(f_obs=good_probes_v / total_probes_v * 100, ddof=0)\n",
    "print(\"\\ndense:\")\n",
    "print(\n",
    "    \"expected sorting accuracy:\",\n",
    "    np.round(np.mean(good_probes_v / total_probes_v * 100)),\n",
    "    \"%\",\n",
    ")\n",
    "print(\n",
    "    f\"\\chi^2 ({dof}, {sum(total_probes_v)})={np.round(result.statistic,1)}, p={result.pvalue}\"\n",
    ")"
   ]
  },
  {
   "cell_type": "code",
   "execution_count": 56,
   "metadata": {},
   "outputs": [
    {
     "name": "stdout",
     "output_type": "stream",
     "text": [
      "\n",
      "dense:\n",
      "expected sorting accuracy: 36.0 %\n",
      "\\chi^2 (1, 1066)=0.004062372471720449, p=0.9491798471326721\n"
     ]
    }
   ],
   "source": [
    "good_probes_s = np.array([good_npx[1], good_dense[1]])\n",
    "total_probes_s = np.array([total_npx[1], total_dense[1]])\n",
    "\n",
    "# report stats\n",
    "ddof = 0  # default adjustment of the degree of freedom\n",
    "dof = len(good_probes_s) - 1 - ddof  # the degree of freedom\n",
    "result = stats.chisquare(f_obs=good_probes_s / total_probes_s * 100, ddof=0)\n",
    "print(\"\\ndense:\")\n",
    "print(\n",
    "    \"expected sorting accuracy:\",\n",
    "    np.round(np.mean(good_probes_s / total_probes_s * 100)),\n",
    "    \"%\",\n",
    ")\n",
    "print(f\"\\chi^2 ({dof}, {sum(total_probes_s)})={result.statistic}, p={result.pvalue}\")"
   ]
  },
  {
   "cell_type": "code",
   "execution_count": null,
   "metadata": {},
   "outputs": [
    {
     "data": {
      "text/plain": [
       "420"
      ]
     },
     "execution_count": 1,
     "metadata": {},
     "output_type": "execute_result"
    }
   ],
   "source": []
  },
  {
   "cell_type": "code",
   "execution_count": null,
   "metadata": {},
   "outputs": [],
   "source": []
  },
  {
   "cell_type": "code",
   "execution_count": null,
   "metadata": {},
   "outputs": [],
   "source": []
  },
  {
   "cell_type": "code",
   "execution_count": 24,
   "metadata": {},
   "outputs": [
    {
     "name": "stdout",
     "output_type": "stream",
     "text": [
      "10m - total 3529 - good 408\n",
      "10m - total 46 - good 17\n",
      "7m - total 36 - <good 16\n",
      "5m - total 21 - good 8\n",
      "10m - total 44 - good 17\n"
     ]
    }
   ],
   "source": [
    "# evoked testing\n",
    "import spikeinterface as si\n",
    "Sref = si.load_extractor(\"/home/steeve/steeve/epfl/code/spikebias/dataset/01_intermediate/sorting/npx_evoked/SortingKS4_10m\") # 384 sites\n",
    "S10 = si.load_extractor(\"/home/steeve/steeve/epfl/code/spikebias/temp/npx_evoked_20khz/10m/SortingKS4_10m_RTX5090_DriftCorr\") # 202 sites\n",
    "S7 = si.load_extractor(\"/home/steeve/steeve/epfl/code/spikebias/temp/npx_evoked_20khz/7m/SortingKS4_5m_RTX5090_DriftCorr\") # 303 sites\n",
    "S5 = si.load_extractor(\"/home/steeve/steeve/epfl/code/spikebias/temp/npx_evoked_20khz/5m/SortingKS4_5m_RTX5090_DriftCorr\") # 303 sites\n",
    "\n",
    "print('10m - total', len(Sref.unit_ids), '- good' ,sum(Sref.get_property('KSLabel')=='good'))\n",
    "print('10m - total', len(S10.unit_ids), '- good', sum(S10.get_property('KSLabel')=='good'))\n",
    "print('7m - total', len(S7.unit_ids), '- <good', sum(S7.get_property('KSLabel')=='good'))\n",
    "print('5m - total', len(S5.unit_ids), '- good' ,sum(S5.get_property('KSLabel')=='good'))\n",
    "\n",
    "S10no = si.load_extractor(\"/home/steeve/steeve/epfl/code/spikebias/temp/npx_evoked_20khz/10m/SortingKS4_10m_RTX5090_NoDriftCorr\") # 202 sites\n",
    "print('10m - total', len(S10no.unit_ids), '- good', sum(S10.get_property('KSLabel')=='good'))"
   ]
  },
  {
   "cell_type": "code",
   "execution_count": 2,
   "metadata": {},
   "outputs": [
    {
     "name": "stdout",
     "output_type": "stream",
     "text": [
      "10m - total 3529 - good 408\n",
      "10m - total 3540 - good 412\n",
      "7m - total 36 - <good 16\n",
      "5m - total 21 - good 8\n",
      "10m - total 3577 - good 412\n"
     ]
    }
   ],
   "source": [
    "# evoked testing\n",
    "import spikeinterface as si\n",
    "Sref = si.load_extractor(\"/home/steeve/steeve/epfl/code/spikebias/dataset/01_intermediate/sorting/npx_evoked/SortingKS4_10m\") # 384 sites\n",
    "S10 = si.load_extractor(\"/home/steeve/steeve/epfl/code/spikebias/temp/npx_evoked_20khz/10m/SortingKS4_10m_RTX5090_DriftCorr\") # 202 sites\n",
    "S7 = si.load_extractor(\"/home/steeve/steeve/epfl/code/spikebias/temp/npx_evoked_20khz/7m/SortingKS4_5m_RTX5090_DriftCorr\") # 303 sites\n",
    "S5 = si.load_extractor(\"/home/steeve/steeve/epfl/code/spikebias/temp/npx_evoked_20khz/5m/SortingKS4_5m_RTX5090_DriftCorr\") # 303 sites\n",
    "\n",
    "print('10m - total', len(Sref.unit_ids), '- good' ,sum(Sref.get_property('KSLabel')=='good'))\n",
    "print('10m - total', len(S10.unit_ids), '- good', sum(S10.get_property('KSLabel')=='good'))\n",
    "print('7m - total', len(S7.unit_ids), '- <good', sum(S7.get_property('KSLabel')=='good'))\n",
    "print('5m - total', len(S5.unit_ids), '- good' ,sum(S5.get_property('KSLabel')=='good'))\n",
    "\n",
    "S10no = si.load_extractor(\"/home/steeve/steeve/epfl/code/spikebias/temp/npx_evoked_20khz/10m/SortingKS4_10m_RTX5090_NoDriftCorr\") # 202 sites\n",
    "print('10m - total', len(S10no.unit_ids), '- good', sum(S10.get_property('KSLabel')=='good'))"
   ]
  }
 ],
 "metadata": {
  "kernelspec": {
   "display_name": "spikebias",
   "language": "python",
   "name": "python3"
  },
  "language_info": {
   "codemirror_mode": {
    "name": "ipython",
    "version": 3
   },
   "file_extension": ".py",
   "mimetype": "text/x-python",
   "name": "python",
   "nbconvert_exporter": "python",
   "pygments_lexer": "ipython3",
   "version": "3.9.7"
  }
 },
 "nbformat": 4,
 "nbformat_minor": 2
}
