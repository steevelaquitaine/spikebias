{
 "cells": [
  {
   "attachments": {},
   "cell_type": "markdown",
   "metadata": {},
   "source": [
    "# Sorting accuracy\n",
    "\n",
    "author: laquitainesteeve@gmail.com\n",
    "\n",
    "Execution time: 50 secs\n",
    "\n",
    "Tested on Ubuntu 24.04.1 LTS (32 cores, 188 GB RAM, Intel(R) Core(TM) i9-14900K ＠3.2 GHz/5.8 GHz) with RTX 5090 GPU with 40GB VRAM (GPU not needed)\n",
    "\n"
   ]
  },
  {
   "cell_type": "markdown",
   "metadata": {},
   "source": [
    "## Setup\n",
    "\n",
    "activate `spikebias`"
   ]
  },
  {
   "cell_type": "code",
   "execution_count": 43,
   "metadata": {},
   "outputs": [
    {
     "name": "stdout",
     "output_type": "stream",
     "text": [
      "The autoreload extension is already loaded. To reload it, use:\n",
      "  %reload_ext autoreload\n"
     ]
    }
   ],
   "source": [
    "%load_ext autoreload\n",
    "%autoreload 2\n",
    "import os \n",
    "from matplotlib import pyplot as plt\n",
    "import numpy as np\n",
    "import pandas as pd\n",
    "import spikeinterface as si\n",
    "from scipy import stats\n",
    "\n",
    "# set project path\n",
    "proj_path = \"/home/steeve/steeve/epfl/code/spikebias/\"\n",
    "os.chdir(proj_path)\n",
    "\n",
    "from src.nodes import utils\n",
    "from src.nodes.analysis.accuracy import accuracy as acc\n",
    "\n",
    "# PARAMETERS\n",
    "DUR = 600 # 10 minutes recording\n",
    "DT = 1.3 # ms (optimized)\n",
    "THR_GOOD = 0.8\n",
    "\n",
    "# ground truth paths\n",
    "GT_PATH = {\n",
    "    \"Buccino\": 'dataset/00_raw/ground_truth_buccino/',\n",
    "    'Buccino\\nrep': 'dataset/00_raw/ground_truth_buccino_rep/',\n",
    "    's2\\ncell count': 'dataset/00_raw/ground_truth_synth2/',\n",
    "    's3\\nf.rate': 'dataset/00_raw/ground_truth_synth3/',\n",
    "    's4\\nf.range': 'dataset/00_raw/ground_truth_synth4/',\n",
    "    's5:SNR': 'dataset/00_raw/ground_truth_synth5/',\n",
    "    \"NS\": 'dataset/00_raw/ground_truth_npx_spont/',\n",
    "}\n",
    "\n",
    "# sorted data paths\n",
    "SORTED_PATH = {\n",
    "    \"Buccino\": 'dataset/01_intermediate/sorting/buccino/SortingKS4',\n",
    "    'Buccino\\nrep': './temp/pros_of_details/npx_buccino_rep/SortingKS4_10m_RTX5090',\n",
    "    's2\\ncell count': './temp/pros_of_details/npx_synth2/SortingKS4_10m_RTX5090',\n",
    "    's3\\nf.rate': './temp/pros_of_details/npx_synth3/SortingKS4_10m_RTX5090',\n",
    "    's4\\nf.range': './temp/pros_of_details/npx_synth4/SortingKS4_10m_RTX5090',\n",
    "    's5:SNR': './temp/pros_of_details/npx_synth5/SortingKS4_10m_RTX5090',\n",
    "    \"NS\": 'dataset/01_intermediate/sorting/npx_spont/SortingKS4_10m',\n",
    "}\n",
    "\n",
    "# axes\n",
    "plt.rcParams[\"font.family\"] = \"Arial\"\n",
    "plt.rcParams[\"font.size\"] = 6  # 5-7 with Nature neuroscience as reference\n",
    "plt.rcParams[\"lines.linewidth\"] = 0.5 # typically between 0.5 and 1\n",
    "plt.rcParams[\"axes.linewidth\"] = 0.5 #1\n",
    "plt.rcParams[\"axes.spines.top\"] = False\n",
    "plt.rcParams[\"xtick.major.width\"] = 0.5 #0.8 #* 1.3\n",
    "plt.rcParams[\"xtick.minor.width\"] = 0.5 #0.8 #* 1.3\n",
    "plt.rcParams[\"ytick.major.width\"] = 0.5 #0.8 #* 1.3\n",
    "plt.rcParams[\"ytick.minor.width\"] = 0.5 #0.8 #* 1.3\n",
    "plt.rcParams[\"xtick.major.size\"] = 3.5 * 1.1\n",
    "plt.rcParams[\"xtick.minor.size\"] = 2 * 1.1\n",
    "plt.rcParams[\"ytick.major.size\"] = 3.5 * 1.1\n",
    "plt.rcParams[\"ytick.minor.size\"] = 2 * 1.1\n",
    "# legend\n",
    "legend_cfg = {\"frameon\": False, \"handletextpad\": 0.5}\n",
    "tight_layout_cfg = {\"pad\": 0.001}\n",
    "LG_FRAMEON = False              # no legend frame\n",
    "savefig_cfg = {\"transparent\":True, \"dpi\": 400}"
   ]
  },
  {
   "cell_type": "markdown",
   "metadata": {},
   "source": [
    "## Custom function"
   ]
  },
  {
   "cell_type": "code",
   "execution_count": 29,
   "metadata": {},
   "outputs": [],
   "source": [
    "def get_good_unit_yield_and_accuracy(acc_data):\n",
    "    well_detected = sum(acc_data >= 0.8)\n",
    "    acc = well_detected / len(acc_data)\n",
    "    return acc, well_detected"
   ]
  },
  {
   "cell_type": "markdown",
   "metadata": {},
   "source": [
    "## Compute and plot"
   ]
  },
  {
   "cell_type": "code",
   "execution_count": 47,
   "metadata": {},
   "outputs": [
    {
     "name": "stdout",
     "output_type": "stream",
     "text": [
      "CPU times: user 29.8 s, sys: 3.99 s, total: 33.8 s\n",
      "Wall time: 33.6 s\n"
     ]
    },
    {
     "data": {
      "image/png": "[encoded data removed]",
      "text/plain": [
       "<Figure size 300x250 with 1 Axes>"
      ]
     },
     "metadata": {},
     "output_type": "display_data"
    }
   ],
   "source": [
    "%%time \n",
    "\n",
    "# compute accuracies\n",
    "accuracies = []\n",
    "well_detected_units = []\n",
    "for dataset in datasets:\n",
    "    acc_data = acc.get_accuracy_for(SORTED_PATH[dataset], GT_PATH[dataset], DT)\n",
    "    acc_value, well_detected_value = get_good_unit_yield_and_accuracy(acc_data)\n",
    "    accuracies.append(acc_value)\n",
    "    well_detected_units.append(well_detected_value)\n",
    "    #print(f\"{dataset} accuracy: {acc_value}; good unit yield: {well_detected_value}\")\n",
    "\n",
    "# setup plot\n",
    "fig, ax = plt.subplots(figsize=(3, 2.5))\n",
    "ax.bar(datasets, accuracies, color='k')\n",
    "ax.set_ylabel(\"Accuracy\")\n",
    "ax.set_xlabel(\"Simulated datasets\")\n",
    "ax.set_title(\"Sorting accuracy per dataset\")\n",
    "ax.set_ylim(0, 1.1)\n",
    "ax.tick_params(axis='x', rotation=45)\n",
    "plt.tight_layout()\n",
    "\n",
    "# add accuracy values on top of each bar\n",
    "for i, acc_value in enumerate(accuracies):\n",
    "    ax.text(i, acc_value + 0.02, f\"{acc_value:.2f}\", ha='center', va='bottom', fontsize=6)\n",
    "\n",
    "# aesthetics\n",
    "ax.spines['top'].set_visible(False)\n",
    "ax.spines['right'].set_visible(False)\n",
    "\n",
    "# save fig\n",
    "plt.savefig(\"figures/7_reviews/figC_pros_of_details_accuracy.svg\", **savefig_cfg)\n",
    "plt.savefig(\"figures/7_reviews/figC_pros_of_details_accuracy.pdf\", **savefig_cfg)"
   ]
  }
 ],
 "metadata": {
  "kernelspec": {
   "display_name": "spikebias",
   "language": "python",
   "name": "python3"
  },
  "language_info": {
   "codemirror_mode": {
    "name": "ipython",
    "version": 3
   },
   "file_extension": ".py",
   "mimetype": "text/x-python",
   "name": "python",
   "nbconvert_exporter": "python",
   "pygments_lexer": "ipython3",
   "version": "3.9.7"
  },
  "orig_nbformat": 4
 },
 "nbformat": 4,
 "nbformat_minor": 2
}
