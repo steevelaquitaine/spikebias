{
 "cells": [
  {
   "cell_type": "markdown",
   "metadata": {},
   "source": [
    "# Pros of added details\n",
    "\n",
    "author: laquitainesteeve@gmail.com\n",
    "\n",
    "Execution time:\n",
    "\n",
    "Tested on Ubuntu 24.04.1 LTS (32 cores, 188 GB RAM, Intel(R) Core(TM) i9-14900K ＠3.2 GHz/5.8 GHz) with RTX 5090 GPU with 40GB VRAM\n",
    "\n",
    "prerequisites:\n",
    "- 15 MB to store cell models\n",
    "- sorted recordings with kilosort4  \n",
    "    - Buccino [DONE]\n",
    "    - Buccino clone [DONE]\n",
    "\n",
    "Note:\n",
    "- the original Buccino dataset has no metadata about the cells and we have no control on the parameters so we used MEAREC to re-simulate it, then we'll modify one parameter at a time.\n",
    "- intermediate simulations are too heavy to be saved together - they should be reproducible with the seeds used.\n",
    "- monitor disk storage with df -h"
   ]
  },
  {
   "cell_type": "markdown",
   "metadata": {},
   "source": [
    "## Setup \n",
    "\n",
    "Activate mearec virtual environment"
   ]
  },
  {
   "cell_type": "code",
   "execution_count": 22,
   "metadata": {},
   "outputs": [
    {
     "name": "stdout",
     "output_type": "stream",
     "text": [
      "The autoreload extension is already loaded. To reload it, use:\n",
      "  %reload_ext autoreload\n",
      "CPU times: user 1.13 ms, sys: 18 µs, total: 1.15 ms\n",
      "Wall time: 1.04 ms\n"
     ]
    }
   ],
   "source": [
    "%%time\n",
    "%load_ext autoreload\n",
    "%autoreload 2\n",
    "\n",
    "# import packages\n",
    "import os \n",
    "import MEArec as mr\n",
    "import numpy as np\n",
    "import spikeinterface.extractors as se \n",
    "import spikeinterface.sorters as sorters \n",
    "import spikeinterface.comparison as sc  \n",
    "from matplotlib import pyplot as plt;\n",
    "import spikeinterface as si\n",
    "from spikeinterface.curation import remove_excess_spikes\n",
    "from spikeinterface import extract_waveforms\n",
    "import spikeinterface.qualitymetrics as sqm\n",
    "import spikeinterface.core.template_tools as ttools\n",
    "from numpy.linalg import norm as lalgnorm\n",
    "import warnings\n",
    "warnings.filterwarnings('ignore')\n",
    "\n",
    "# SET PROJECT PATH\n",
    "\n",
    "PROJ_PATH = \"/home/steeve/steeve/epfl/code/spikebias/\"\n",
    "os.chdir(PROJ_PATH)\n",
    "\n",
    "# import custom package\n",
    "from src.nodes.validation import firing_rate as fr\n",
    "from src.nodes.analysis.failures import isolation\n",
    "\n",
    "# parameters\n",
    "DURATION_S = 600 # duration of recording period considered in seconds\n",
    "\n",
    "# SET DATA PATHS\n",
    "\n",
    "# original buccino simulation\n",
    "RECORDING_BUCCINO_PATH = 'dataset/01_intermediate/preprocessing/recording_buccino/'\n",
    "GROUND_TRUTH_BUCCINO_PATH = 'dataset/00_raw/ground_truth_buccino/'\n",
    "WAVEFORM_GT_BUCCINO_PATH =  './temp/pros_of_details/waveformextractor_buccino/'\n",
    "\n",
    "# setup simulation common template parameters\n",
    "DATA_PATH = './temp/pros_of_details/'\n",
    "CELLS_PATH = mr.get_default_cell_models_folder()\n",
    "TEMPLATES_PATH = './temp/pros_of_details/templates.h5'\n",
    "\n",
    "# setup synthetic simulation version 2 common parameters\n",
    "RECORDING_CLONE_H5_PATH = './temp/pros_of_details/recordings.h5'\n",
    "RECORDING_CLONE_PATH = 'dataset/00_raw/recording_buccino_clone/'\n",
    "GROUND_TRUTH_CLONE_PATH = 'dataset/00_raw/ground_truth_buccino_clone/'\n",
    "WAVEFORM_GT_CLONE_PATH =  './temp/pros_of_details/waveformextractor_buccino_clone/'\n",
    "\n",
    "# setup synthetic synthetic version 2 parameters\n",
    "RECORDING_S2_H5_PATH = './temp/pros_of_details/recordings_s2.h5'\n",
    "RECORDING_S2_PATH = 'dataset/00_raw/recording_buccino_s2/'\n",
    "GROUND_TRUTH_S2_PATH = 'dataset/00_raw/ground_truth_buccino_s2/'\n",
    "WAVEFORM_GT_S2_PATH =  './temp/pros_of_details/waveformextractor_buccino_s2/'\n",
    "\n",
    "# parallel processing parameters\n",
    "N_JOBS = 20\n",
    "CHUNKS = 50000\n",
    "\n",
    "# npx_spont\n",
    "RECORDING_NS_PATH = 'dataset/01_intermediate/preprocessing/recording_npx_spont/'\n",
    "GROUND_TRUTH_NS_PATH = 'dataset/00_raw/ground_truth_npx_spont/'\n",
    "WAVEFORM_GT_NS_PATH = 'dataset/01_intermediate/waveforms/ground_truth_npx_spont/'\n",
    "\n",
    "# parallel processing parameters \n",
    "job_kwargs = dict(n_jobs=-1, chunk_duration=\"1s\", progress_bar=True)"
   ]
  },
  {
   "cell_type": "code",
   "execution_count": 13,
   "metadata": {},
   "outputs": [],
   "source": [
    "# UTILS \n",
    "\n",
    "def _euclidean_distance(coord_1, coord_2):\n",
    "    return np.sqrt(np.sum((coord_1 - coord_2) ** 2))\n",
    "\n",
    "\n",
    "def mad(data):\n",
    "    mean_data = np.mean(data)\n",
    "    return np.mean(np.absolute(data - mean_data))\n",
    "\n",
    "\n",
    "def get_mad_ratio(spike_amp, noise_amp):\n",
    "    \"\"\"calculate an sd_ratio robust to outliers\n",
    "\n",
    "    Args:\n",
    "        spike_amp (_type_): _description_\n",
    "        noise_amp (_type_): _description_\n",
    "\n",
    "    Returns:\n",
    "        _type_: _description_\n",
    "    \"\"\"\n",
    "    mad_unit = mad(spike_amp)  # twice smaller than std\n",
    "    mad_noise = mad(noise_amp)\n",
    "    return mad_unit / mad_noise\n",
    "\n",
    "\n",
    "def get_best_site_mad_noise(we, max_chids, unit):\n",
    "\n",
    "    # get waveforms\n",
    "    wv, _ = we.get_waveforms(unit_id=unit, with_index=True)\n",
    "\n",
    "    # get channel ids (sparse)\n",
    "    c_ids = we.sparsity.unit_id_to_channel_ids[unit]\n",
    "\n",
    "    # get nearest channel\n",
    "    max_chid = max_chids[unit]\n",
    "    max_chid_ix = np.where(c_ids == max_chid)[0][0]\n",
    "    return wv[:, :, max_chid_ix].flatten()\n",
    "\n",
    "\n",
    "def get_waveform_amplitudes_per_unit(We):\n",
    "    return si.postprocessing.compute_spike_amplitudes(We, peak_sign=\"neg\", outputs=\"by_unit\")[0]\n",
    "\n",
    "\n",
    "# SIMULATE SYNTHETIC RECORDING WITH MEAREC\n",
    "\n",
    "def simulate_synthetic_recording_with_mearec(rec_prms: dict, layer:str, templates_path, recording_clone_h5_path, recording_clone_path, sorting_gt_clone_path, n_jobs, chunks):\n",
    "\n",
    "    # generate simulated recording (takes 22 min)\n",
    "    rec_gen = mr.gen_recordings(params=rec_prms, templates=templates_path)\n",
    "\n",
    "    # save simulated recording\n",
    "    mr.save_recording_generator(rec_gen, recording_clone_h5_path)\n",
    "\n",
    "    # load recording h5 file\n",
    "    RecordingClone = se.MEArecRecordingExtractor(recording_clone_h5_path) \n",
    "    RecordingClone.set_property(\"layers\", np.array([layer]*384)) # add layer metadata\n",
    "\n",
    "    # load ground truth\n",
    "    SortingClone = se.MEArecSortingExtractor(recording_clone_h5_path)\n",
    "\n",
    "    # save recording extractors\n",
    "    RecordingClone.save(folder=recording_clone_path, n_jobs=n_jobs, \n",
    "                verbose=True, progress_bar=True, overwrite=True, \n",
    "                dtype=\"float32\", chunk_size=chunks)\n",
    "    \n",
    "    # save sorting extractors\n",
    "    SortingClone.save(folder=sorting_gt_clone_path, overwrite=True)\n",
    "\n",
    "    # delete intermediate h5 file\n",
    "    os.remove(recording_clone_h5_path)\n",
    "    return RecordingClone, SortingClone, rec_gen\n",
    "\n",
    "\n",
    "def report_simulation_parameters(rec_gen):\n",
    "    \"\"\"\n",
    "    Reports simulation parameters, checks for bursting, and displays example cell metadata.\n",
    "\n",
    "    Args:\n",
    "        rec_gen (RecordingGenerator): The recording generator object.\n",
    "    \"\"\"\n",
    "    # report parameters\n",
    "    display('Simulation parameters:', rec_gen.info)\n",
    "\n",
    "    # check bursting\n",
    "    bursting = []\n",
    "    for ix in range(250):\n",
    "        bursting.append(rec_gen.spiketrains[1].annotations['bursting'])\n",
    "    print('Bursting:', any(bursting))\n",
    "\n",
    "    # example of a cell metadata\n",
    "    CELL_IDX = 0\n",
    "    print('\\nExample cell type:', rec_gen.template_celltypes[CELL_IDX])\n",
    "    display('Its spiking metadata:', rec_gen.spiketrains[CELL_IDX].annotations)\n",
    "    print('Its spike times:', rec_gen.spiketrains[CELL_IDX].times)\n",
    "\n",
    "\n",
    "# QUALITY METRICS FOR A SINGLE UNIT\n",
    "\n",
    "def get_spatial_spread(\n",
    "    We, unit_id: int, max_chids: dict, channel_ids, channel_coord\n",
    "):\n",
    "    \"\"\"measure unit's spatial spread\n",
    "\n",
    "    Args:\n",
    "        unit_id (int): _description_\n",
    "        max_chids (dict): _description_\n",
    "        Recording (_type_): _description_\n",
    "        channel_ids (_type_): _description_\n",
    "        channel_coord (_type_): _description_\n",
    "\n",
    "    Returns:\n",
    "        _type_: _description_\n",
    "    \"\"\"\n",
    "    # get waveforms\n",
    "    wv, _ = We.get_waveforms(unit_id=unit_id, with_index=True)    \n",
    "\n",
    "    # get the site ids (sparse)\n",
    "    c_ids = We.sparsity.unit_id_to_channel_ids[unit_id]\n",
    "\n",
    "    # get the nearest site\n",
    "    max_chid = max_chids[unit_id]\n",
    "    max_chid_ix = np.where(c_ids == max_chid)[0][0]\n",
    "    \n",
    "    # get the average spike on each site\n",
    "    mean_spikes = wv.mean(axis=0)\n",
    "    max_spike = mean_spikes[:, max_chid_ix]\n",
    "    \n",
    "    # measure the average spike's similarity \n",
    "    # of each site to the average spike\n",
    "    # of the nearest site to the unit\n",
    "    # (ratio between 0 and 1)\n",
    "    n_sites = mean_spikes.shape[1]\n",
    "    cosim_weights = []\n",
    "    for s_i in range(n_sites):\n",
    "        cosim_weights.append(\n",
    "            np.dot(max_spike, mean_spikes[:, s_i])\n",
    "            / (lalgnorm(max_spike) * lalgnorm(mean_spikes[:, s_i]))\n",
    "        )\n",
    "    cosim_weights = np.array(cosim_weights)\n",
    "\n",
    "    # threshold the similarity metric to be positive\n",
    "    # we only look at similarity (not inverse similarity (<0))\n",
    "    cosim_weights[cosim_weights < 0] = 0\n",
    "\n",
    "    # measure the distance of the site to the nearest site\n",
    "    # to the unit\n",
    "    channel_coord = channel_coord[np.isin(channel_ids, c_ids), :]\n",
    "    try:\n",
    "        max_chids_coord = channel_coord[max_chid_ix, :]\n",
    "    except:\n",
    "        from ipdb import set_trace; set_trace()\n",
    "        \n",
    "    dist = []\n",
    "    for ix, _ in enumerate(c_ids):\n",
    "        dist.append(_euclidean_distance(max_chids_coord, channel_coord[ix]))\n",
    "    dist = np.array(dist)\n",
    "\n",
    "    # return spatial spread\n",
    "    return {\n",
    "        \"spatial_spread\": np.dot(cosim_weights, dist),\n",
    "        \"channel_distance\": dist,\n",
    "        \"weights\": cosim_weights,\n",
    "    }\n",
    "\n",
    "\n",
    "# QUALITY METRICS / SPIKE FEATURES FOR ALL UNITS\n",
    "\n",
    "def get_firing_rates(sorting, duration_s):\n",
    "    \"\"\"\n",
    "    Plots the firing rate distribution of units in a sorting extractor.\n",
    "\n",
    "    Parameters:\n",
    "    - sorting: spikeinterface SortingExtractor\n",
    "        The sorting extractor containing spike trains.\n",
    "    - duration_s: the total duration\n",
    "    - bins: int, optional\n",
    "        Number of bins for the histogram (default is 20).\n",
    "    \"\"\"\n",
    "    unit_ids = sorting.get_unit_ids()\n",
    "    firing_rates = [\n",
    "        len(sorting.get_unit_spike_train(unit_id)) / duration_s\n",
    "        for unit_id in unit_ids\n",
    "    ]\n",
    "    return firing_rates\n",
    "\n",
    "\n",
    "def get_firing_ranges(waveform_extractor):\n",
    "\n",
    "    firing_range = sqm.compute_firing_ranges(waveform_extractor=waveform_extractor)\n",
    "    return np.array(list(firing_range.values()))\n",
    "\n",
    "\n",
    "def get_waveform_amplitude_medians(waveform_extractor):\n",
    "\n",
    "    amplitude_medians = sqm.compute_amplitude_medians(waveform_extractor=waveform_extractor)\n",
    "    return np.array(list(amplitude_medians.values()))\n",
    "\n",
    "\n",
    "def get_waveform_snr(waveform_extractor):\n",
    "    snrs = sqm.compute_snrs(waveform_extractor=waveform_extractor)\n",
    "    return np.array(list(snrs.values()))\n",
    "\n",
    "\n",
    "def get_spatial_spread_all_units(\n",
    "    recording_path: str, study_path: str, ms_before=3, ms_after=3, peak_sign=\"neg\"\n",
    "):\n",
    "    \"\"\"get all units' spatial extent metrics\n",
    "\n",
    "    Args:\n",
    "        recording_path (str): Path of the Recording Extractor\n",
    "        study_path (str): _description_\n",
    "        ms_before (float): _description_\n",
    "        ms_after (float): _description_\n",
    "\n",
    "    Returns:\n",
    "        (dict): spatial spread of each unit\n",
    "        - key: true unit id\n",
    "        - value: spatial spread\n",
    "    \n",
    "    Prerequisites:\n",
    "        - have extracted ground truth waveforms\n",
    "    \"\"\"\n",
    "    # takes 1:30 min\n",
    "    We = si.WaveformExtractor.load_from_folder(study_path)\n",
    "    \n",
    "    # get sites' distance to the max site\n",
    "    # get 3D coordinates\n",
    "    Rec = si.load_extractor(recording_path)\n",
    "    channel_coord = Rec.get_probe().contact_positions\n",
    "    channel_ids = Rec.get_channel_ids()\n",
    "\n",
    "    # get channels where spike amplitude is maximal\n",
    "    max_chids = ttools.get_template_extremum_channel(\n",
    "        We, peak_sign=peak_sign)\n",
    "\n",
    "    # takes 1:30 min (1310 units)\n",
    "    spatial_spread = dict()\n",
    "    for _, unit in enumerate(We.unit_ids):\n",
    "        spatial_spread[unit] = get_spatial_spread(\n",
    "            We, unit, max_chids, channel_ids, channel_coord\n",
    "        )[\"spatial_spread\"]\n",
    "    return np.array(list(spatial_spread.values()))\n",
    "\n",
    "\n",
    "def get_mad_ratios(WeOriginal):\n",
    "    \"\"\"get mad ratio per unit. Values close to 1 indicate a good isolation of the unit.\n",
    "    i.e., the mean absolute deviation of the spike amplitude is similar to the mean absolute deviation \n",
    "    of the noise amplitude.\n",
    "\n",
    "    Args:\n",
    "        WeOriginal (WaveformExtractor): _description_\n",
    "\n",
    "    Returns:\n",
    "        np.array: mad ratio per unit\n",
    "    \"\"\"\n",
    "    # pre-compute negative spike amplitudes\n",
    "    amplitudes_by_unit = get_waveform_amplitudes_per_unit(WeOriginal)\n",
    "\n",
    "    # get nearest channels\n",
    "    max_chids = ttools.get_template_extremum_channel(WeOriginal, peak_sign=\"both\")\n",
    "\n",
    "    # compute mad ratio per unit\n",
    "    mad_ratio = []\n",
    "    for unit in WeOriginal.unit_ids:\n",
    "        noise_amp = get_best_site_mad_noise(WeOriginal, max_chids, unit)\n",
    "        mad_ratio.append(get_mad_ratio(amplitudes_by_unit[unit], noise_amp))\n",
    "    return np.array(mad_ratio)\n",
    "\n",
    "\n",
    "# PLOTS \n",
    "\n",
    "def plot_firing_rate_distribution(ax, firing_rates, bins=20, title:str='simulation_name', ylim=(0,60), xlim=(0,25)):\n",
    "    \"\"\"\n",
    "    Plots the firing rate distribution of units in a sorting extractor.\n",
    "\n",
    "    Parameters:\n",
    "    - firing rates: firing rates\n",
    "    - bins: int, optional\n",
    "        Number of bins for the histogram (default is 20).\n",
    "    \"\"\"\n",
    "    ax.hist(firing_rates, bins=bins, edgecolor='k')\n",
    "    ax.set_xlabel(\"Firing rate (Hz)\")\n",
    "    ax.set_ylabel(\"Unit count\")\n",
    "    ax.set_ylim(ylim)\n",
    "    ax.set_xlim(xlim)    \n",
    "    ax.set_title(title)\n",
    "\n",
    "\n",
    "def plot_firing_ranges_distribution(ax, firing_ranges, bins=20, title:str='simulation_name', ylim=(0,50), xlim=(0,800)):\n",
    "    \"\"\"\n",
    "    Parameters:\n",
    "    - amplitudes: waveform amplitudes\n",
    "    - bins: int, optional\n",
    "        Number of bins for the histogram (default is 20).\n",
    "    \"\"\"\n",
    "    ax.hist(firing_ranges, bins=bins, edgecolor='k')\n",
    "    ax.set_xlabel(\"Firing range (Hz)\")\n",
    "    ax.set_ylabel(\"Unit count\")\n",
    "    ax.set_ylim(ylim)\n",
    "    ax.set_xlim(xlim)\n",
    "    ax.set_title(title)\n",
    "\n",
    "\n",
    "def plot_waveform_amplitude_median_distribution(ax, amplitudes, bins=20, title:str='simulation_name', ylim=(0,50), xlim=(0,800)):\n",
    "    \"\"\"\n",
    "    Parameters:\n",
    "    - amplitudes: waveform amplitudes\n",
    "    - bins: int, optional\n",
    "        Number of bins for the histogram (default is 20).\n",
    "    \"\"\"\n",
    "    ax.hist(amplitudes, bins=bins, edgecolor='k')\n",
    "    ax.set_xlabel(\"Amplitudes (uV)\")\n",
    "    ax.set_ylabel(\"Unit count\")\n",
    "    ax.set_ylim(ylim)\n",
    "    ax.set_xlim(xlim)\n",
    "    ax.set_title(title)\n",
    "\n",
    "\n",
    "def plot_waveform_snr_distribution(ax, snrs, bins=20, title:str='simulation_name', ylim=(0,50), xlim=(0,800)):\n",
    "    \"\"\"\n",
    "    Parameters:\n",
    "    - snrs: snrs\n",
    "    - bins: int, optional\n",
    "        Number of bins for the histogram (default is 20).\n",
    "    \"\"\"\n",
    "    ax.hist(snrs, bins=bins, edgecolor='k')\n",
    "    ax.set_xlabel(\"SNR\")\n",
    "    ax.set_ylabel(\"Unit count\")\n",
    "    ax.set_ylim(ylim)\n",
    "    ax.set_xlim(xlim)\n",
    "    ax.set_title(title)\n",
    "\n",
    "\n",
    "def plot_spatial_spread_distribution(ax, mad_ratio, bins=20, title:str='simulation_name', ylim=(0,50), xlim=(0,800)):\n",
    "    \"\"\"\n",
    "    Parameters:\n",
    "    - mad_ratio: mad_ratio\n",
    "    - bins: int, optional\n",
    "        Number of bins for the histogram (default is 20).\n",
    "    \"\"\"\n",
    "    ax.hist(mad_ratio, bins=bins, edgecolor='k')\n",
    "    ax.set_xlabel(\"Spatial spread (a.u)\")\n",
    "    ax.set_ylabel(\"Unit count\")\n",
    "    ax.set_ylim(ylim)\n",
    "    ax.set_xlim(xlim)\n",
    "    ax.set_title(title)\n",
    "\n",
    "\n",
    "def plot_mad_ratio_distribution(ax, mad_ratios, bins=20, title:str='simulation_name', ylim=(0,50), xlim=(0,800)):\n",
    "    \"\"\"\n",
    "    Parameters:\n",
    "    - mad_ratios: waveform mean-absolute deviation ratio between spike amplitude and background noise\n",
    "    - bins: int, optional\n",
    "        Number of bins for the histogram (default is 20).\n",
    "    \"\"\"\n",
    "    ax.hist(mad_ratios, bins=bins, edgecolor='k')\n",
    "    ax.set_xlabel(\"MAD ratios (a.u)\")\n",
    "    ax.set_ylabel(\"Unit count\")\n",
    "    ax.set_ylim(ylim)\n",
    "    ax.set_xlim(xlim)\n",
    "    ax.set_title(title)\n",
    "\n",
    "# Quality of unit isolation (single-unit yield)\n",
    "\n",
    "def process_each_experiment(sorted1, sorted2):\n",
    "    \"\"\"\n",
    "    Process sorting data by retrieving, filtering, and standardizing unit data.\n",
    "    Keep units in L1 to L6 (in cortex)\n",
    "\n",
    "    Returns:\n",
    "        dict: A dictionary containing processed DataFrames for sorting data.\n",
    "    \"\"\"\n",
    "    # get unit data\n",
    "    sorting_data = {\n",
    "        f\"s_original\": fr.get_sorted_unit_meta(sorted1),\n",
    "        f\"s_clone\": fr.get_sorted_unit_meta(sorted2),\n",
    "    }\n",
    "\n",
    "    # standardize layer 2/3\n",
    "    for key in sorting_data:\n",
    "        sorting_data[key][\"layer\"][\n",
    "            (sorting_data[key][\"layer\"] == \"L2\") | (sorting_data[key][\"layer\"] == \"L3\") | (sorting_data[key][\"layer\"] == \"L2_3\")\n",
    "        ] = \"L2/3\"\n",
    "\n",
    "    # keep units in cortex\n",
    "    for key in sorting_data:\n",
    "        sorting_data[key] = sorting_data[key][\n",
    "            np.isin(sorting_data[key][\"layer\"], [\"L1\", \"L2\", \"L2/3\", \"L4\", \"L5\", \"L6\"])\n",
    "        ]\n",
    "    return sorting_data"
   ]
  },
  {
   "cell_type": "markdown",
   "metadata": {},
   "source": [
    "## Simulate intermediate synthetic datasets"
   ]
  },
  {
   "cell_type": "code",
   "execution_count": null,
   "metadata": {},
   "outputs": [],
   "source": [
    "# # setup common cell template, probe, seed parameters\n",
    "# tpl_prms = mr.get_default_templates_params()\n",
    "# tpl_prms['probe'] = 'Neuropixels-384'           # neuropixel probe\n",
    "# tpl_prms['n'] = 200                             # number of templates per cell model\n",
    "# tpl_prms['seed'] = 0                            # setup reproducibility\n",
    "\n",
    "# # generate and save the templates (10 min for 200 templates per cell, 15MB)\n",
    "# tpl_gen = mr.gen_templates(cell_models_folder=cells_path, params=tpl_prms)\n",
    "# mr.save_template_generator(tpl_gen, templates_path)\n",
    "# print(\"Cells path:\", cells_path)"
   ]
  },
  {
   "cell_type": "markdown",
   "metadata": {},
   "source": [
    "### Dataset 1"
   ]
  },
  {
   "cell_type": "code",
   "execution_count": null,
   "metadata": {},
   "outputs": [],
   "source": [
    "# setup parameters\n",
    "rec_prms = mr.get_default_recordings_params()\n",
    "rec_prms['spiketrains']['n_exc'] = 200\n",
    "rec_prms['spiketrains']['n_inh'] = 50\n",
    "rec_prms['spiketrains']['duration'] = 600\n",
    "rec_prms['seeds']['spiketrains'] = 0\n",
    "rec_prms['seeds']['templates'] = 1\n",
    "rec_prms['seeds']['noise'] = 2\n",
    "rec_prms['seeds']['convolution'] = 3\n",
    "\n",
    "# simulate synthetic recording with MEArec\n",
    "RecordingClone, SortingClone, RecGen = simulate_synthetic_recording_with_mearec(rec_prms, 'L5', TEMPLATES_PATH, RECORDING_CLONE_H5_PATH, RECORDING_CLONE_PATH, SORTING_GT_CLONE_PATH, N_JOBS, CHUNKS)\n",
    "\n",
    "# report parameters\n",
    "report_simulation_parameters(RecGen)"
   ]
  },
  {
   "cell_type": "markdown",
   "metadata": {},
   "source": [
    "### Dataset 2"
   ]
  },
  {
   "cell_type": "code",
   "execution_count": null,
   "metadata": {},
   "outputs": [
    {
     "name": "stdout",
     "output_type": "stream",
     "text": [
      "Loading templates...\n",
      "Done loading templates...\n",
      "Spiketrains seed:  0\n",
      "dtype float32\n",
      "Noise Level  10\n",
      "Templates selection seed:  1\n",
      "Selecting cells\n",
      "Padding template edges\n",
      "Elapsed pad time: 2.221845865249634\n",
      "Creating time jittering\n",
      "Elapsed jitter time: 4.321073770523071\n",
      "Smoothing templates\n",
      "Computing spike train SNR\n",
      "Adding spiketrain annotations\n",
      "Convolution seed:  3\n",
      "Electrode modulaton\n",
      "Adding noise\n",
      "Noise seed:  2\n",
      "Filtering\n",
      "Band-pass cutoff [ 300. 6000.] Hz\n",
      "Elapsed time:  1367.8804434880149\n",
      "write_binary_recording with n_jobs = 20 and chunk_size = 50000\n"
     ]
    },
    {
     "data": {
      "application/vnd.jupyter.widget-view+json": {
       "model_id": "834fa5ab805447be94deffbe92e6cbed",
       "version_major": 2,
       "version_minor": 0
      },
      "text/plain": [
       "write_binary_recording:   0%|          | 0/384 [00:00<?, ?it/s]"
      ]
     },
     "metadata": {},
     "output_type": "display_data"
    },
    {
     "data": {
      "text/plain": [
       "'Simulation parameters:'"
      ]
     },
     "metadata": {},
     "output_type": "display_data"
    },
    {
     "data": {
      "text/plain": [
       "{'spiketrains': {'n_exc': 200,\n",
       "  'n_inh': 50,\n",
       "  'f_exc': 5,\n",
       "  'f_inh': 15,\n",
       "  'st_exc': 1,\n",
       "  'st_inh': 3,\n",
       "  'min_rate': 0.5,\n",
       "  'ref_per': 2,\n",
       "  'process': 'poisson',\n",
       "  'gamma_shape': 2,\n",
       "  't_start': 0,\n",
       "  'duration': 600},\n",
       " 'cell_types': {'excitatory': ['PC', 'SS', 'SP'],\n",
       "  'inhibitory': ['AC', 'BP', 'BC', 'BTC', 'ChC', 'DBC', 'MC', 'NGC']},\n",
       " 'seeds': {'spiketrains': 0, 'templates': 1, 'convolution': 3, 'noise': 2},\n",
       " 'templates': {'min_dist': 25,\n",
       "  'min_amp': 50,\n",
       "  'max_amp': 300,\n",
       "  'n_overlap_pairs': None,\n",
       "  'xlim': None,\n",
       "  'ylim': None,\n",
       "  'zlim': None,\n",
       "  'overlap_threshold': 0.9,\n",
       "  'n_jitters': 10,\n",
       "  'upsample': 8,\n",
       "  'pad_len': [3, 3],\n",
       "  'smooth_percent': 0.5,\n",
       "  'smooth_strength': 1,\n",
       "  'cut_out': [2, 5],\n",
       "  'overlapping': array([[  0, 201],\n",
       "         [  0, 211],\n",
       "         [  4, 154],\n",
       "         [  5,  16],\n",
       "         [  9, 134],\n",
       "         [ 10, 246],\n",
       "         [ 21,  88],\n",
       "         [ 21, 195],\n",
       "         [ 24, 124],\n",
       "         [ 26, 107],\n",
       "         [ 27, 148],\n",
       "         [ 27, 197],\n",
       "         [ 28,  29],\n",
       "         [ 30,  67],\n",
       "         [ 31, 237],\n",
       "         [ 33,  50],\n",
       "         [ 33,  91],\n",
       "         [ 35, 120],\n",
       "         [ 38, 225],\n",
       "         [ 39, 179],\n",
       "         [ 40, 152],\n",
       "         [ 40, 228],\n",
       "         [  9,  42],\n",
       "         [ 42, 232],\n",
       "         [ 46, 148],\n",
       "         [ 47, 209],\n",
       "         [ 50,  91],\n",
       "         [ 52,  63],\n",
       "         [ 57, 220],\n",
       "         [ 59,  97],\n",
       "         [ 59, 177],\n",
       "         [ 62, 114],\n",
       "         [ 64, 113],\n",
       "         [ 66,  72],\n",
       "         [ 68, 200],\n",
       "         [ 69, 249],\n",
       "         [ 70, 183],\n",
       "         [ 37,  71],\n",
       "         [ 75,  78],\n",
       "         [ 76, 227],\n",
       "         [ 77,  79],\n",
       "         [ 28,  81],\n",
       "         [ 83, 146],\n",
       "         [ 85, 236],\n",
       "         [ 86,  92],\n",
       "         [ 88, 195],\n",
       "         [ 97, 177],\n",
       "         [103, 162],\n",
       "         [105, 106],\n",
       "         [111, 137],\n",
       "         [111, 241],\n",
       "         [ 61, 121],\n",
       "         [ 76, 122],\n",
       "         [123, 132],\n",
       "         [127, 160],\n",
       "         [129, 243],\n",
       "         [135, 170],\n",
       "         [137, 241],\n",
       "         [138, 165],\n",
       "         [140, 219],\n",
       "         [152, 228],\n",
       "         [ 30, 153],\n",
       "         [156, 219],\n",
       "         [151, 159],\n",
       "         [161, 168],\n",
       "         [118, 163],\n",
       "         [163, 172],\n",
       "         [169, 212],\n",
       "         [ 61, 171],\n",
       "         [171, 206],\n",
       "         [118, 172],\n",
       "         [ 68, 173],\n",
       "         [174, 207],\n",
       "         [178, 186],\n",
       "         [181, 203],\n",
       "         [ 85, 184],\n",
       "         [124, 185],\n",
       "         [ 31, 188],\n",
       "         [189, 191],\n",
       "         [165, 192],\n",
       "         [148, 197],\n",
       "         [ 12, 199],\n",
       "         [201, 211],\n",
       "         [186, 204],\n",
       "         [120, 205],\n",
       "         [195, 205],\n",
       "         [ 61, 206],\n",
       "         [215, 244],\n",
       "         [ 40, 217],\n",
       "         [ 99, 218],\n",
       "         [218, 234],\n",
       "         [222, 233],\n",
       "         [  9, 232],\n",
       "         [ 99, 234],\n",
       "         [240, 242]])},\n",
       " 'recordings': {'fs': 32000.0,\n",
       "  'dtype': 'float32',\n",
       "  'adc_bit_depth': None,\n",
       "  'lsb': None,\n",
       "  'gain': None,\n",
       "  'overlap': False,\n",
       "  'extract_waveforms': False,\n",
       "  'sync_rate': None,\n",
       "  'sync_jitt': 1,\n",
       "  'chunk_duration': 10,\n",
       "  'modulation': 'electrode',\n",
       "  'sdrand': 0.05,\n",
       "  'bursting': False,\n",
       "  'bursting_units': None,\n",
       "  'exp_decay': 0.2,\n",
       "  'n_burst_spikes': 10,\n",
       "  'max_burst_duration': 100,\n",
       "  'shape_mod': False,\n",
       "  'shape_stretch': 30.0,\n",
       "  'n_bursting': None,\n",
       "  'noise_level': 10,\n",
       "  'noise_mode': 'uncorrelated',\n",
       "  'noise_color': False,\n",
       "  'noise_half_distance': 30,\n",
       "  'far_neurons_n': 300,\n",
       "  'far_neurons_max_amp': 10,\n",
       "  'far_neurons_noise_floor': 0.5,\n",
       "  'far_neurons_exc_inh_ratio': 0.8,\n",
       "  'color_peak': 300,\n",
       "  'color_q': 2,\n",
       "  'color_noise_floor': 1,\n",
       "  'filter': True,\n",
       "  'filter_cutoff': [300, 6000],\n",
       "  'filter_order': 3,\n",
       "  'drifting': False,\n",
       "  'n_drifting': None,\n",
       "  'preferred_dir': [0, 0, 1],\n",
       "  'angle_tol': 15,\n",
       "  'drift_mode_speed': 'slow',\n",
       "  'drift_mode_probe': 'rigid',\n",
       "  'drift_fs': 100,\n",
       "  'non_rigid_gradient_mode': 'linear',\n",
       "  'slow_drift_velocity': 5,\n",
       "  'slow_drift_amplitude': None,\n",
       "  'slow_drift_waveform': 'triangluar',\n",
       "  'fast_drift_period': 10,\n",
       "  'fast_drift_max_jump': 20,\n",
       "  'fast_drift_min_jump': 5,\n",
       "  't_start_drift': 0,\n",
       "  't_end_drift': None,\n",
       "  'mrand': 1,\n",
       "  'duration': 600.0,\n",
       "  'n_neurons': 250},\n",
       " 'electrodes': {'description': 'Neuropixels probe. 384 square contacts in 4 staggered columns.',\n",
       "  'dim': [96, 4],\n",
       "  'electrode_name': 'Neuropixels-384',\n",
       "  'pitch': [40.0, 16.0],\n",
       "  'plane': 'yz',\n",
       "  'shape': 'square',\n",
       "  'size': 6.0,\n",
       "  'sortlist': None,\n",
       "  'stagger': 20,\n",
       "  'type': 'mea'}}"
      ]
     },
     "metadata": {},
     "output_type": "display_data"
    },
    {
     "name": "stdout",
     "output_type": "stream",
     "text": [
      "Bursting: False\n",
      "\n",
      "Example cell type: L5_TTPC1_cADpyr232_1\n"
     ]
    },
    {
     "data": {
      "text/plain": [
       "'Its spiking metadata:'"
      ]
     },
     "metadata": {},
     "output_type": "display_data"
    },
    {
     "data": {
      "text/plain": [
       "{'fr': array(6.76405235) * Hz,\n",
       " 'cell_type': 'E',\n",
       " 'snr': 6.02367057800293,\n",
       " 'bintype': 'E',\n",
       " 'mtype': 'L5_TTPC1_cADpyr232_1',\n",
       " 'soma_position': array([   63.4268411 ,   -31.49461335, -1384.20106309]),\n",
       " 'bursting': False,\n",
       " 'exp_decay': None,\n",
       " 'max_spikes_per_burst': None,\n",
       " 'max_burst_duration': None}"
      ]
     },
     "metadata": {},
     "output_type": "display_data"
    },
    {
     "name": "stdout",
     "output_type": "stream",
     "text": [
      "Its spike times: [2.95467164e-02 2.59253024e-01 2.67905811e-01 ... 5.99354775e+02\n",
      " 5.99790655e+02 5.99904599e+02] s\n"
     ]
    }
   ],
   "source": [
    "# setup parameters\n",
    "rec_prms = mr.get_default_recordings_params()\n",
    "rec_prms['spiketrains']['n_exc'] = 200  # number of excitatory cells\n",
    "rec_prms['spiketrains']['n_inh'] = 50   # number of inhibitory cells\n",
    "rec_prms['spiketrains']['duration'] = 600\n",
    "rec_prms['seeds']['spiketrains'] = 0\n",
    "rec_prms['seeds']['templates'] = 1\n",
    "rec_prms['seeds']['noise'] = 2\n",
    "rec_prms['seeds']['convolution'] = 3\n",
    "\n",
    "# modified parameters\n",
    "rec_prms['spiketrains']['f_exc'] = 5    # average firing rate of excitatory cells in Hz\n",
    "rec_prms['spiketrains']['f_inh'] = 15   # average firing rate of inhibitory cells in Hz\n",
    "\n",
    "# simulate synthetic recording with MEArec (takes 23 min)\n",
    "RecordingS2, SortingS2, RecGenS2 = simulate_synthetic_recording_with_mearec(rec_prms, 'L5', TEMPLATES_PATH, RECORDING_S2_H5_PATH, RECORDING_S2_PATH, GROUND_TRUTH_S2_PATH, N_JOBS, CHUNKS)\n",
    "\n",
    "# report parameters\n",
    "report_simulation_parameters(RecGenS2)"
   ]
  },
  {
   "cell_type": "markdown",
   "metadata": {},
   "source": [
    "## Load/compute data"
   ]
  },
  {
   "cell_type": "code",
   "execution_count": 23,
   "metadata": {},
   "outputs": [
    {
     "data": {
      "application/vnd.jupyter.widget-view+json": {
       "model_id": "f2f33223ce044e69869a30c119dbea84",
       "version_major": 2,
       "version_minor": 0
      },
      "text/plain": [
       "extract waveforms shared_memory multi buffer:   0%|          | 0/600 [00:00<?, ?it/s]"
      ]
     },
     "metadata": {},
     "output_type": "display_data"
    },
    {
     "data": {
      "application/vnd.jupyter.widget-view+json": {
       "model_id": "8333f0b0dd6f4381821d7ceb23f84d61",
       "version_major": 2,
       "version_minor": 0
      },
      "text/plain": [
       "extract waveforms shared_memory multi buffer:   0%|          | 0/600 [00:00<?, ?it/s]"
      ]
     },
     "metadata": {},
     "output_type": "display_data"
    },
    {
     "data": {
      "application/vnd.jupyter.widget-view+json": {
       "model_id": "2dcd321311a345edae6af5fc219e4625",
       "version_major": 2,
       "version_minor": 0
      },
      "text/plain": [
       "extract waveforms memmap multi buffer:   0%|          | 0/600 [00:00<?, ?it/s]"
      ]
     },
     "metadata": {},
     "output_type": "display_data"
    },
    {
     "data": {
      "application/vnd.jupyter.widget-view+json": {
       "model_id": "66843c75d8e74954b2e3e206f778f094",
       "version_major": 2,
       "version_minor": 0
      },
      "text/plain": [
       "extract waveforms shared_memory multi buffer:   0%|          | 0/600 [00:00<?, ?it/s]"
      ]
     },
     "metadata": {},
     "output_type": "display_data"
    },
    {
     "data": {
      "application/vnd.jupyter.widget-view+json": {
       "model_id": "6d73cd3f792b4f38b6d98e219df56942",
       "version_major": 2,
       "version_minor": 0
      },
      "text/plain": [
       "extract waveforms shared_memory multi buffer:   0%|          | 0/600 [00:00<?, ?it/s]"
      ]
     },
     "metadata": {},
     "output_type": "display_data"
    },
    {
     "data": {
      "application/vnd.jupyter.widget-view+json": {
       "model_id": "ee51015625834fdca8a87975724f3222",
       "version_major": 2,
       "version_minor": 0
      },
      "text/plain": [
       "extract waveforms memmap multi buffer:   0%|          | 0/600 [00:00<?, ?it/s]"
      ]
     },
     "metadata": {},
     "output_type": "display_data"
    },
    {
     "data": {
      "application/vnd.jupyter.widget-view+json": {
       "model_id": "7456f32ba73742339a0609b6cbdcb1b9",
       "version_major": 2,
       "version_minor": 0
      },
      "text/plain": [
       "extract waveforms shared_memory multi buffer:   0%|          | 0/600 [00:00<?, ?it/s]"
      ]
     },
     "metadata": {},
     "output_type": "display_data"
    },
    {
     "data": {
      "application/vnd.jupyter.widget-view+json": {
       "model_id": "6f8e4b0592a344bc83809ba5ff70845f",
       "version_major": 2,
       "version_minor": 0
      },
      "text/plain": [
       "extract waveforms shared_memory multi buffer:   0%|          | 0/600 [00:00<?, ?it/s]"
      ]
     },
     "metadata": {},
     "output_type": "display_data"
    },
    {
     "data": {
      "application/vnd.jupyter.widget-view+json": {
       "model_id": "94f038d68014463ab74256a75ceb5fae",
       "version_major": 2,
       "version_minor": 0
      },
      "text/plain": [
       "extract waveforms memmap multi buffer:   0%|          | 0/600 [00:00<?, ?it/s]"
      ]
     },
     "metadata": {},
     "output_type": "display_data"
    },
    {
     "data": {
      "application/vnd.jupyter.widget-view+json": {
       "model_id": "dfd81ded1e7f4f7ea19dd3081f25d8d1",
       "version_major": 2,
       "version_minor": 0
      },
      "text/plain": [
       "extract waveforms shared_memory multi buffer:   0%|          | 0/600 [00:00<?, ?it/s]"
      ]
     },
     "metadata": {},
     "output_type": "display_data"
    },
    {
     "data": {
      "application/vnd.jupyter.widget-view+json": {
       "model_id": "b141a2b12980499d82fd60627f961eaf",
       "version_major": 2,
       "version_minor": 0
      },
      "text/plain": [
       "extract waveforms shared_memory multi buffer:   0%|          | 0/600 [00:00<?, ?it/s]"
      ]
     },
     "metadata": {},
     "output_type": "display_data"
    },
    {
     "data": {
      "application/vnd.jupyter.widget-view+json": {
       "model_id": "e148048fa127473ebafd93dc6722d9a3",
       "version_major": 2,
       "version_minor": 0
      },
      "text/plain": [
       "extract waveforms shared_memory multi buffer:   0%|          | 0/600 [00:00<?, ?it/s]"
      ]
     },
     "metadata": {},
     "output_type": "display_data"
    },
    {
     "data": {
      "application/vnd.jupyter.widget-view+json": {
       "model_id": "27f87cbee61b43e5bfa6159122aa089c",
       "version_major": 2,
       "version_minor": 0
      },
      "text/plain": [
       "extract waveforms shared_memory multi buffer:   0%|          | 0/600 [00:00<?, ?it/s]"
      ]
     },
     "metadata": {},
     "output_type": "display_data"
    },
    {
     "data": {
      "application/vnd.jupyter.widget-view+json": {
       "model_id": "baa06c468d3845e7b14cde16246fc891",
       "version_major": 2,
       "version_minor": 0
      },
      "text/plain": [
       "extract waveforms shared_memory multi buffer:   0%|          | 0/600 [00:00<?, ?it/s]"
      ]
     },
     "metadata": {},
     "output_type": "display_data"
    },
    {
     "data": {
      "application/vnd.jupyter.widget-view+json": {
       "model_id": "a55e9712021242989b163d99a3f35c4c",
       "version_major": 2,
       "version_minor": 0
      },
      "text/plain": [
       "extract waveforms shared_memory multi buffer:   0%|          | 0/600 [00:00<?, ?it/s]"
      ]
     },
     "metadata": {},
     "output_type": "display_data"
    },
    {
     "data": {
      "application/vnd.jupyter.widget-view+json": {
       "model_id": "324a9296231e44f5822ab87177ba6b0a",
       "version_major": 2,
       "version_minor": 0
      },
      "text/plain": [
       "extract waveforms shared_memory multi buffer:   0%|          | 0/600 [00:00<?, ?it/s]"
      ]
     },
     "metadata": {},
     "output_type": "display_data"
    },
    {
     "data": {
      "application/vnd.jupyter.widget-view+json": {
       "model_id": "cb881ac8f4c6433a8a65bd2bde1e70d7",
       "version_major": 2,
       "version_minor": 0
      },
      "text/plain": [
       "extract waveforms memmap multi buffer:   0%|          | 0/600 [00:00<?, ?it/s]"
      ]
     },
     "metadata": {},
     "output_type": "display_data"
    },
    {
     "name": "stdout",
     "output_type": "stream",
     "text": [
      "CPU times: user 16.8 s, sys: 54.5 s, total: 1min 11s\n",
      "Wall time: 1min 47s\n"
     ]
    }
   ],
   "source": [
    "%%time\n",
    "\n",
    "# load orginal Buccino (already bandpass filtered 300 - 6000 Hz)\n",
    "RecordingBuccino = si.load_extractor(RECORDING_BUCCINO_PATH)\n",
    "SortingGtBuccino = si.load_extractor(GROUND_TRUTH_BUCCINO_PATH)\n",
    "\n",
    "# load Buccino clone (already bandpass filtered 300 - 6000 Hz)\n",
    "RecordingClone = si.load_extractor(RECORDING_CLONE_PATH)\n",
    "SortingGtClone = si.load_extractor(GROUND_TRUTH_CLONE_PATH)\n",
    "\n",
    "# load Buccino S2 (already bandpass filtered 300 - 6000 Hz)\n",
    "RecordingS2 = si.load_extractor(RECORDING_S2_PATH)\n",
    "SortingGtS2 = si.load_extractor(GROUND_TRUTH_S2_PATH)\n",
    "\n",
    "# load npx_spont (preprocessed high-pass filtered >300 Hz)\n",
    "RecordingNS = si.load_extractor(RECORDING_NS_PATH)\n",
    "SortingGtNS = si.load_extractor(GROUND_TRUTH_NS_PATH)\n",
    "SortingGtNS = remove_excess_spikes(SortingGtNS, RecordingNS)\n",
    "SortingGtNS = SortingGtNS.frame_slice(start_frame=0, end_frame=RecordingNS.get_sampling_frequency() * DURATION_S)\n",
    "\n",
    "# extract waveforms (typically takes 20 secs)\n",
    "WeGtOriginal = extract_waveforms(RecordingBuccino, SortingGtBuccino, WAVEFORM_GT_BUCCINO_PATH,\n",
    "    sparse=True, ms_before=3.0, ms_after=3.0, max_spikes_per_unit=500, unit_batch_size=200,\n",
    "    overwrite=True, seed=0, **job_kwargs)\n",
    "\n",
    "WeGtClone = extract_waveforms(RecordingClone, SortingGtClone, WAVEFORM_GT_CLONE_PATH,\n",
    "    sparse=True, ms_before=3.0, ms_after=3.0, max_spikes_per_unit=500, unit_batch_size=200,\n",
    "    overwrite=True, seed=0, **job_kwargs)\n",
    "\n",
    "WeGtS2 = extract_waveforms(RecordingS2, SortingGtS2, WAVEFORM_GT_S2_PATH,\n",
    "    sparse=True, ms_before=3.0, ms_after=3.0, max_spikes_per_unit=500, unit_batch_size=200,\n",
    "    overwrite=True, seed=0, **job_kwargs)\n",
    "\n",
    "WeGtNS = extract_waveforms(RecordingNS, SortingGtNS, WAVEFORM_GT_NS_PATH,\n",
    "    sparse=True, ms_before=3.0, ms_after=3.0, max_spikes_per_unit=500, unit_batch_size=200,\n",
    "    overwrite=True, seed=0, **job_kwargs)"
   ]
  },
  {
   "cell_type": "markdown",
   "metadata": {},
   "source": [
    "## Compute/plot quality features\n",
    "\n",
    "We can match:\n",
    "\n",
    "- nb of cells\n",
    "- ..."
   ]
  },
  {
   "cell_type": "code",
   "execution_count": null,
   "metadata": {},
   "outputs": [
    {
     "data": {
      "application/vnd.jupyter.widget-view+json": {
       "model_id": "7dd9f1cfcaf540f981ecac01a6fbe214",
       "version_major": 2,
       "version_minor": 0
      },
      "text/plain": [
       "extract amplitudes:   0%|          | 0/600 [00:00<?, ?it/s]"
      ]
     },
     "metadata": {},
     "output_type": "display_data"
    },
    {
     "data": {
      "application/vnd.jupyter.widget-view+json": {
       "model_id": "dad086b53e89429a9eaf4cefa6cb07dd",
       "version_major": 2,
       "version_minor": 0
      },
      "text/plain": [
       "extract amplitudes:   0%|          | 0/600 [00:00<?, ?it/s]"
      ]
     },
     "metadata": {},
     "output_type": "display_data"
    },
    {
     "data": {
      "application/vnd.jupyter.widget-view+json": {
       "model_id": "75143471fb3445d2bad812d1edfe664d",
       "version_major": 2,
       "version_minor": 0
      },
      "text/plain": [
       "extract amplitudes:   0%|          | 0/600 [00:00<?, ?it/s]"
      ]
     },
     "metadata": {},
     "output_type": "display_data"
    },
    {
     "data": {
      "application/vnd.jupyter.widget-view+json": {
       "model_id": "c8a737c31f5448d1b6480bbd5b3c24e6",
       "version_major": 2,
       "version_minor": 0
      },
      "text/plain": [
       "extract amplitudes:   0%|          | 0/600 [00:00<?, ?it/s]"
      ]
     },
     "metadata": {},
     "output_type": "display_data"
    }
   ],
   "source": [
    "%%time\n",
    "\n",
    "# setup  plot \n",
    "fig, axes = plt.subplots(6,4, figsize=(5,6))\n",
    "\n",
    "# CELL SPIKING FEATURES ---------------\n",
    "\n",
    "\n",
    "# firing rates\n",
    "firing_rates = get_firing_rates(SortingGtBuccino, duration_s=600) # original Buccino\n",
    "plot_firing_rate_distribution(axes[0,0], firing_rates, title='Original Buccino', ylim=(0,60), xlim=(0,25))\n",
    "\n",
    "firing_rates = get_firing_rates(SortingGtClone, duration_s=600) # our Buccino clone\n",
    "plot_firing_rate_distribution(axes[0,1], firing_rates, title='Buccino clone', ylim=(0,60), xlim=(0,25))\n",
    "\n",
    "firing_rates = get_firing_rates(SortingGtS2, duration_s=600) # our S2\n",
    "plot_firing_rate_distribution(axes[0,2], firing_rates, title='Buccino 2', ylim=(0,60), xlim=(0,25))\n",
    "\n",
    "firing_rates = get_firing_rates(SortingGtNS, duration_s=600) # npx_spont\n",
    "plot_firing_rate_distribution(axes[0,3], firing_rates, title='NS', ylim=(0,1000), xlim=(0,25))\n",
    "\n",
    "\n",
    "# firing range\n",
    "firing_ranges = get_firing_ranges(WeGtOriginal)\n",
    "plot_firing_ranges_distribution(axes[1,0], firing_ranges, title='', ylim=(0,60), xlim=(0,8))\n",
    "\n",
    "firing_ranges = get_firing_ranges(WeGtClone)\n",
    "plot_firing_ranges_distribution(axes[1,1], firing_ranges, title='', ylim=(0,60), xlim=(0,8))\n",
    "\n",
    "firing_ranges = get_firing_ranges(WeGtS2)\n",
    "plot_firing_ranges_distribution(axes[1,2], firing_ranges, title='', ylim=(0,60), xlim=(0,8))\n",
    "\n",
    "firing_ranges = get_firing_ranges(WeGtNS)\n",
    "plot_firing_ranges_distribution(axes[1,3], firing_ranges, title='', ylim=(0,1000), xlim=(0,8))\n",
    "\n",
    "\n",
    "# CELL WAVEFORM FEATURES ---------------\n",
    "\n",
    "# waveform amplitudes\n",
    "amplitudes_o = get_waveform_amplitude_medians(WeGtOriginal)\n",
    "plot_waveform_amplitude_median_distribution(axes[2,0], amplitudes_o, title='', ylim=(0,65), xlim=(0,600))\n",
    "\n",
    "amplitudes_c = get_waveform_amplitude_medians(WeGtClone)\n",
    "plot_waveform_amplitude_median_distribution(axes[2,1], amplitudes_c, title='', ylim=(0,65), xlim=(0,600))\n",
    "\n",
    "amplitudes_c = get_waveform_amplitude_medians(WeGtS2)\n",
    "plot_waveform_amplitude_median_distribution(axes[2,2], amplitudes_c, title='', ylim=(0,65), xlim=(0,600))\n",
    "\n",
    "amplitudes_ns = get_waveform_amplitude_medians(WeGtNS)\n",
    "plot_waveform_amplitude_median_distribution(axes[2,3], amplitudes_ns, title='', ylim=(0,1000), xlim=(0,600))\n",
    "\n",
    "\n",
    "# signal-to-noise ratio (SNR)\n",
    "snrs = get_waveform_snr(WeGtOriginal)\n",
    "plot_waveform_snr_distribution(axes[3,0], snrs, title='', ylim=(0,65), xlim=(0,70))\n",
    "\n",
    "snrs = get_waveform_snr(WeGtClone)\n",
    "plot_waveform_snr_distribution(axes[3,1], snrs, title='', ylim=(0,65), xlim=(0,70))\n",
    "\n",
    "snrs = get_waveform_snr(WeGtS2)\n",
    "plot_waveform_snr_distribution(axes[3,2], snrs, title='', ylim=(0,65), xlim=(0,70))\n",
    "\n",
    "snrs = get_waveform_snr(WeGtNS)\n",
    "plot_waveform_snr_distribution(axes[3,3], snrs[np.isfinite(snrs)], title='', ylim=(0,1000), xlim=(0,70))\n",
    "\n",
    "\n",
    "# spatial spread\n",
    "spreads = get_spatial_spread_all_units(RECORDING_BUCCINO_PATH, WAVEFORM_GT_BUCCINO_PATH, ms_before=3, ms_after=3, peak_sign=\"neg\")\n",
    "plot_spatial_spread_distribution(axes[4,0], spreads, title='', ylim=(0,40), xlim=(0,1200))\n",
    "\n",
    "spreads = get_spatial_spread_all_units(RECORDING_CLONE_PATH, WAVEFORM_GT_CLONE_PATH, ms_before=3, ms_after=3, peak_sign=\"neg\")\n",
    "plot_spatial_spread_distribution(axes[4,1], spreads, title='', ylim=(0,40), xlim=(0,1200))\n",
    "\n",
    "spreads = get_spatial_spread_all_units(RECORDING_S2_PATH, WAVEFORM_GT_S2_PATH, ms_before=3, ms_after=3, peak_sign=\"neg\")\n",
    "plot_spatial_spread_distribution(axes[4,2], spreads, title='', ylim=(0,40), xlim=(0,1200))\n",
    "\n",
    "spreads = get_spatial_spread_all_units(RECORDING_NS_PATH, WAVEFORM_GT_NS_PATH, ms_before=3, ms_after=3, peak_sign=\"neg\")\n",
    "plot_spatial_spread_distribution(axes[4,3], spreads, title='', ylim=(0,300), xlim=(0,1200))\n",
    "\n",
    "\n",
    "# mad ratio\n",
    "mad_ratios = get_mad_ratios(WeGtOriginal)\n",
    "plot_mad_ratio_distribution(axes[5,0], mad_ratios, title='', ylim=(0,40), xlim=(0,15))\n",
    "\n",
    "mad_ratios = get_mad_ratios(WeGtClone)\n",
    "plot_mad_ratio_distribution(axes[5,1], mad_ratios, title='', ylim=(0,40), xlim=(0,15))\n",
    "\n",
    "mad_ratios = get_mad_ratios(WeGtS2)\n",
    "plot_mad_ratio_distribution(axes[5,2], mad_ratios, title='', ylim=(0,40), xlim=(0,15))\n",
    "\n",
    "mad_ratios = get_mad_ratios(WeGtNS)\n",
    "plot_mad_ratio_distribution(axes[5,3], mad_ratios, title='', ylim=(0,800), xlim=(0,15))\n",
    "\n",
    "\n",
    "# CELL POSITIONS -----------------------\n",
    "\n",
    "# distances to electrode\n",
    "\n",
    "fig.tight_layout(pad=0.1)"
   ]
  },
  {
   "cell_type": "markdown",
   "metadata": {},
   "source": [
    "## Yields"
   ]
  },
  {
   "cell_type": "code",
   "execution_count": 7,
   "metadata": {},
   "outputs": [],
   "source": [
    "SORTED_ks4_paths = {\n",
    "    \"s_original\": 'dataset/01_intermediate/sorting/buccino/SortingKS4',\n",
    "    \"s_clone\": './temp/npx_synth_clone/SortingKS4_10m_RTX5090',\n",
    "}"
   ]
  },
  {
   "cell_type": "code",
   "execution_count": 8,
   "metadata": {},
   "outputs": [
    {
     "data": {
      "image/png": "[encoded data removed]",
      "text/plain": [
       "<Figure size 250x200 with 1 Axes>"
      ]
     },
     "metadata": {},
     "output_type": "display_data"
    }
   ],
   "source": [
    "# parameters\n",
    "exp = 'Synthetic'\n",
    "\n",
    "# compute data\n",
    "plot_data = process_each_experiment(SORTED_ks4_paths['s_original'], SORTED_ks4_paths['s_clone'])\n",
    "\n",
    "# setup\n",
    "FIGSIZE = (2.5, 2)\n",
    "SHIFT = 0.3\n",
    "exp_names = ('Original', 'Clone')\n",
    "number_pos = {'exp1_x':-0.3 + SHIFT, 'exp1_y_su': 0.2, 'exp1_y_mu': 0.8, \n",
    "              'exp2_x': 0.7 + SHIFT, 'exp2_y_su': 0.2, 'exp2_y_mu': 0.8}\n",
    "legend_cfg = {\"frameon\": False, \"handletextpad\": 0.1}\n",
    "\n",
    "# plot (white: single-unit; black: multi-units)\n",
    "_, ax = plt.subplots(1,1,figsize=FIGSIZE)\n",
    "isolation.plot_unit_isolation_pros_of_added_detailed(ax, plot_data['s_original'], plot_data['s_clone'], legend_cfg, number_pos, exp_names)\n",
    "\n",
    "# legend\n",
    "ax.set_yticks([0, 0.25, 0.5, 0.75, 1], [0, 0.25, 0.5, 0.75, 1])\n",
    "ax.set_title(exp)\n",
    "plt.tight_layout()"
   ]
  },
  {
   "cell_type": "code",
   "execution_count": null,
   "metadata": {},
   "outputs": [],
   "source": []
  },
  {
   "cell_type": "code",
   "execution_count": null,
   "metadata": {},
   "outputs": [],
   "source": [
    "# # clean up default temporary data - you will need to reinstall mearec afterward with pip intall mearec\n",
    "# import shutil\n",
    "# shutil.rmtree(CELLS_PATH, ignore_errors=True)"
   ]
  },
  {
   "cell_type": "code",
   "execution_count": null,
   "metadata": {},
   "outputs": [],
   "source": []
  }
 ],
 "metadata": {
  "kernelspec": {
   "display_name": "Python 3",
   "language": "python",
   "name": "python3"
  },
  "language_info": {
   "codemirror_mode": {
    "name": "ipython",
    "version": 3
   },
   "file_extension": ".py",
   "mimetype": "text/x-python",
   "name": "python",
   "nbconvert_exporter": "python",
   "pygments_lexer": "ipython3",
   "version": "3.9.7"
  }
 },
 "nbformat": 4,
 "nbformat_minor": 2
}
