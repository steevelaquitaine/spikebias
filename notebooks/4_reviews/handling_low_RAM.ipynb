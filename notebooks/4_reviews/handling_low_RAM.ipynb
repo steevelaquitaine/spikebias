{
 "cells": [
  {
   "cell_type": "code",
   "execution_count": null,
   "metadata": {},
   "outputs": [],
   "source": [
    "# check traces\n",
    "from matplotlib import pyplot as plt;\n",
    "\n",
    "Recording = si.load_extractor('/home/steeve/steeve/epfl/code/spikebias/dataset/01_intermediate/preprocessing/recording_npx_evoked')\n",
    "probe = Recording.get_probe()\n",
    "print(probe.contact_positions)\n",
    "\n",
    "traces = Recording.get_traces()\n",
    "\n",
    "plt.plot(traces[:80000,0])\n",
    "plt.show()\n",
    "plt.plot(traces[:80000,1])\n",
    "plt.show()\n",
    "plt.plot(traces[:80000,20]) # in cortex\n",
    "plt.show()\n",
    "plt.plot(traces[:80000,30]) # in cortex\n",
    "plt.show()\n",
    "plt.plot(traces[:80000,48]) # in cortex\n",
    "plt.show()\n",
    "plt.plot(traces[:80000,383]) # in cortex\n",
    "\n",
    "\n",
    "import numpy as np\n",
    "layers = Recording.get_property(\"layers\")\n",
    "bad_channels = np.zeros(len(layers))\n",
    "bad_channels[np.isin(layers, \"Outside\")] = -1\n",
    "bad_channel_ids = Recording.channel_ids[np.where(bad_channels == -1)[0]]\n",
    "print(bad_channel_ids)\n",
    "\n",
    "import numpy as np \n",
    "bad_channel_ids = np.array(['0', '1', '2', '3', '4', '5', '6', '7', '8', '9', '10', '11', '12', '13', '14', '15', '16', '17', '18', '19', '20', # column 1\n",
    "                            '75', '76', '77', '78', '79', '80', '81', '82', '83', '84', '85', '86', '87', '88', '89', '90', '91', '92', '93', '94', '95',  # column 1\n",
    "                            '96', '97', '98', '99', '100', '101', '102', '103', '104', '105', '106', '107', '108', '109', '110', '111', '112', '113', '114', '115', # column 2\n",
    "                            '171', '172', '173', '174', '175', '176', '177', '178', '179', '180', '181', '182', '183', '184', '185', '186', '187', '188', '189','190', '191', # column 2 \n",
    "                            '192', '193', '194', '195', '196', '197', '198', '199', '200', '201', '202', '203', '204', '205', '206', '207', '208', '209', '210', '211', '212', # column 3\n",
    "                            '267', '268', '269', '270', '271', '272', '273', '274', '275', '276', '277', '278', '279', '280', '281', '282', '283', '284', '285','286', '287', # column 3\n",
    "                            '288', '289', '290', '291', '292', '293', '294', '295', '296','297', '298', '299', '300', '301', '302', '303', '304', '305', '306', '307', # column 4\n",
    "                            '363', '364', '365', '366', '367', '368', '369', '370', '371', '372', '373', '374', '375', '376', '377', '378', '379', '380', '381', '382', '383']) # column 4\n",
    "\n",
    "bad_channel_ids = bad_channel_ids.astype(int)\n",
    "coord = Recording.get_channel_locations()\n",
    "plt.plot(coord[:,0], coord[:,1],\".k\")\n",
    "plt.plot(coord[bad_channel_ids,0], coord[bad_channel_ids,1],\".r\")"
   ]
  }
 ],
 "metadata": {
  "language_info": {
   "name": "python"
  }
 },
 "nbformat": 4,
 "nbformat_minor": 2
}
