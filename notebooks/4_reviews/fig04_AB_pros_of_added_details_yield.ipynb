{
 "cells": [
  {
   "cell_type": "markdown",
   "metadata": {},
   "source": [
    "# Pros of adding details\n",
    "\n"
   ]
  },
  {
   "cell_type": "markdown",
   "metadata": {},
   "source": [
    "## Description"
   ]
  },
  {
   "cell_type": "markdown",
   "metadata": {},
   "source": [
    "author: laquitainesteeve@gmail.com\n",
    "\n",
    "Execution time: 4 hours\n",
    "\n",
    "Tested on Ubuntu 24.04.1 LTS (32 cores, 188 GB RAM, Intel(R) Core(TM) i9-14900K ＠3.2 GHz/5.8 GHz) with RTX 5090 GPU with 40GB VRAM (GPU not needed)\n",
    "\n",
    "Required:\n",
    "- Storage: 300 GB for 1,500 templates (13GB) and Recording & Waveform Extractors (~256GB)\n",
    "- RAM: 187 GB to simulate ~1,388 cells with mearec.\n",
    "- had to restart the kernel for each new simulation to free RAM memory for the next simulation.\n",
    "\n",
    "RESULTS:\n",
    "\n",
    "- **cell density**: \n",
    "    - The Buccino model places neurons sparsely in space, unrealistically so compared to real brain tissue. With fewer neurons, each spike is cleaner, and less overlapping occurs, thus spike sorting is easier. High-cell density should cell density should make spike sorting difficult since many similar waveforms will be picked up by each electrode, due to increased signal overlap, noise, and spike separability.\n",
    "    - Consequence: With low-density cells and high yield, one can easily increase the yield by adding more electrodes, as each electrode would capture distinct spikes and more spatial sampling should increase the number of detected units. But if cell density is high and we only capture 10% of the neurons, adding more probes will not scale the yield linearly. You'll still get many overlapping spikes at each site. You'll hit the same separability limits. To improve yield in this case, you must increase electrode density (more sites per mm, closer spacing), which would produce better spatial resolution for disentangling overlapping spikes.\n",
    "    - Reproducing experimentally-validated cell density and number of cells within 50 micron, allows us to make precise quantitative predictions about the single-unit and multi-unit yields that should be observed in vivo, which are experimentally testable.\n",
    "    - **distribution of cell pairwise distances**: this parameter cannot be controlled to match experimentally validated locations, constrained by cell morphologies. Only the minimum distance can be controlled and the cells are randomly positioned. We position cells based identified in vivo constrains.\n",
    "        - With the default overhang of 30 um, and 250 simulated cells, it is not possible to reproduce the average cell distances and density observed in vivo with mearec. Even a minimum distance of 0 um (min_dist paramer) produces an average cell distance of 29 um which is twice the in vivo distance of 14.8 um. The best match we can obtain is an average distance of 29 um, minimum of 4.8 um and max of 91 um against 15, 1.6 and 44 ums in the biophysical model. The original Buccino model display much larger values with 36, 25 and 66 ums.\n",
    "        - One needs to increase the number of cells to match in vivo count within 50 um and to reduce the overhang to 20 um, in addition a minimum distance of 0 um.\n",
    "\n",
    "`- **exc/inh ratio**: Buccino has twice more inhibitory relative to the inhibitory/excitatory ratio seen in vivo. Because the modeled inhibitory cells \n",
    "have higher firing rates than excitatory cells, this model will predict higher single-unit yield and sorting accuracy.\n",
    "\n",
    "\n",
    "Methods:\n",
    "\n",
    "- Buccino model: we assumed the model uses the default parameters, with each site model with a spatial extent of 10 contacts (ncontacts=10), with an x offset of 0, such that the MEA is not centered in the cell population.\n",
    "    - 250 neurons: \n",
    "    - neuron locations cannot be closer than the min_dist parameter (default 25)\n",
    "    - no cell metadata\n",
    "    - channel location at x are all zero (default, inferred from doing running simulations) \n",
    "\n",
    "- We simulated one intermediate dataset with the same cell counts as npx_spont (100GB, 78 min). Because yield did not decrease to match npx_spont, but rather increased we simulated lower cell counts, we hereafter simulate a lower cell counts with the same exc/inh ratio (25GB, 23) for its efficiency. 10 simulations require take 1 TB storage! This setup is much faster to sort (10 min max)\n",
    "\n",
    "- Buccino's model overhang: 30 (default) # extension in un beyond MEA boundaries for neuron locations (if lim is null)\n",
    "\n",
    "- firing_range: no max_rate parameters so we matched min_rate, and firing exc and inh stds and check the resulting max_rate\n",
    "\n",
    "TODO:\n",
    "\n",
    "- upload the recordings, ground truths & sorting extractors to dandi archive (if possible) [DOING]\n",
    "\n",
    "\n",
    "TIPS TO FREE UP STORAGE\n",
    "\n",
    "0. check storage with df -h\n",
    "1. restart the notebook kernel will free up 100 GB of storage; some large deleted files remain opened and are deleted when the kernel is restarted. \n",
    "2. import os; import glob; for f in glob.glob('temp/pros_of_details/waveformextractor'): os.remove(f) # 100 GB saved\n",
    "3. free up RAM: clear cache with sudo sh -c 'echo 1 >  /proc/sys/vm/drop_caches'"
   ]
  },
  {
   "cell_type": "markdown",
   "metadata": {},
   "source": [
    "## Setup \n",
    "\n",
    "Activate mearec_si_103_0 virtual environment"
   ]
  },
  {
   "cell_type": "code",
   "execution_count": null,
   "metadata": {},
   "outputs": [
    {
     "name": "stdout",
     "output_type": "stream",
     "text": [
      "0.103.0\n",
      "CPU times: user 512 ms, sys: 107 ms, total: 619 ms\n",
      "Wall time: 840 ms\n"
     ]
    }
   ],
   "source": [
    "%%time\n",
    "%load_ext autoreload\n",
    "%autoreload 2\n",
    "\n",
    "# import packages\n",
    "import os\n",
    "import MEArec as mr\n",
    "import numpy as np\n",
    "import spikeinterface.extractors as se\n",
    "import spikeinterface.sorters as sorters \n",
    "import spikeinterface.comparison as sc  \n",
    "from matplotlib import pyplot as plt;\n",
    "from numpy.linalg import norm as lalgnorm\n",
    "import warnings\n",
    "from scipy.spatial.distance import cdist\n",
    "import json \n",
    "import spikeinterface as si\n",
    "from spikeinterface.curation import remove_excess_spikes\n",
    "from spikeinterface import extract_waveforms\n",
    "from spikeinterface.core.sparsity import compute_sparsity\n",
    "import spikeinterface.qualitymetrics as sqm\n",
    "import spikeinterface.core.template_tools as ttools\n",
    "print(si.__version__)\n",
    "\n",
    "warnings.filterwarnings('ignore')\n",
    "\n",
    "# SET PROJECT PATH\n",
    "\n",
    "PROJ_PATH = \"/home/steeve/steeve/epfl/code/spikebias/\"\n",
    "os.chdir(PROJ_PATH)\n",
    "\n",
    "# import custom package\n",
    "from src.nodes.validation import firing_rate as fr\n",
    "from src.nodes.analysis.failures import isolation\n",
    "\n",
    "# parameters\n",
    "DURATION_S = 600 # duration of recording period considered in seconds\n",
    "\n",
    "# SET DATA PATHS\n",
    "\n",
    "# original buccino simulation\n",
    "RECORDING_BUCCINO_PATH = 'dataset/01_intermediate/preprocessing/recording_buccino/'\n",
    "GROUND_TRUTH_BUCCINO_PATH = 'dataset/00_raw/ground_truth_buccino/'\n",
    "WAVEFORM_GT_BUCCINO_PATH =  './temp/pros_of_details/waveformextractor_buccino/'\n",
    "\n",
    "# setup simulation common template parameters\n",
    "DATA_PATH = './temp/pros_of_details/'\n",
    "CELLS_PATH = mr.get_default_cell_models_folder()\n",
    "\n",
    "# parameter Buccino replicate\n",
    "TEMPLATE_PARAMS_PATH = './assets/mearec/global_templates.json' # templates used for all simulations\n",
    "TEMPLATES_PATH = './temp/pros_of_details/templates.h5' # warning initially was not 1500 templates but much less 200 - check if that has an effect\n",
    "INPUT_PARAMS_REP_PATH =  './assets/mearec/buccino_rep/input_params.json'\n",
    "OUTPUT_PARAMS_REP_PATH = './assets/mearec/buccino_rep/output_params.json'\n",
    "RECORDING_REP_H5_PATH = './temp/pros_of_details/recordings.h5'\n",
    "RECORDING_REP_PATH = 'dataset/00_raw/recording_buccino_rep/'\n",
    "GROUND_TRUTH_REP_PATH = 'dataset/00_raw/ground_truth_buccino_rep/'\n",
    "WAVEFORM_GT_REP_PATH =  './temp/pros_of_details/waveformextractor_buccino_rep/'\n",
    "\n",
    "# parameters synthetic 2 (cell density & count)\n",
    "INPUT_PARAMS_S2_PATH =  './assets/mearec/synth2/input_params.json'\n",
    "OUTPUT_PARAMS_S2_PATH = './assets/mearec/synth2/output_params.json'\n",
    "RECORDING_S2_H5_PATH = './temp/pros_of_details/recording_synth2.h5'\n",
    "RECORDING_S2_PATH = 'dataset/00_raw/recording_synth2/'\n",
    "GROUND_TRUTH_S2_PATH = 'dataset/00_raw/ground_truth_synth2/'\n",
    "WAVEFORM_GT_S2_PATH =  './temp/pros_of_details/waveformextractor_synth2/'\n",
    "\n",
    "# parameters synthetic 3\n",
    "INPUT_PARAMS_S3_PATH =  './assets/mearec/synth3/input_params.json'\n",
    "OUTPUT_PARAMS_S3_PATH = './assets/mearec/synth3/output_params.json'\n",
    "RECORDING_S3_H5_PATH = './temp/pros_of_details/recording_synth3.h5'\n",
    "RECORDING_S3_PATH = 'dataset/00_raw/recording_synth3/'\n",
    "GROUND_TRUTH_S3_PATH = 'dataset/00_raw/ground_truth_synth3/'\n",
    "WAVEFORM_GT_S3_PATH =  './temp/pros_of_details/waveformextractor_synth3/'\n",
    "\n",
    "# parameters synthetic 4\n",
    "INPUT_PARAMS_S4_PATH =  './assets/mearec/synth4/input_params.json'\n",
    "OUTPUT_PARAMS_S4_PATH = './assets/mearec/synth4/output_params.json'\n",
    "RECORDING_S4_H5_PATH = './temp/pros_of_details/recording_synth4.h5'\n",
    "RECORDING_S4_PATH = 'dataset/00_raw/recording_synth4/'\n",
    "GROUND_TRUTH_S4_PATH = 'dataset/00_raw/ground_truth_synth4/'\n",
    "WAVEFORM_GT_S4_PATH =  './temp/pros_of_details/waveformextractor_synth4/'\n",
    "\n",
    "# parameters synthetic 5\n",
    "INPUT_PARAMS_S5_PATH =  './assets/mearec/synth5/input_params.json'\n",
    "OUTPUT_PARAMS_S5_PATH = './assets/mearec/synth5/output_params.json'\n",
    "RECORDING_S5_H5_PATH = './temp/pros_of_details/recording_synth5.h5'\n",
    "RECORDING_S5_PATH = 'dataset/00_raw/recording_synth5/'\n",
    "GROUND_TRUTH_S5_PATH = 'dataset/00_raw/ground_truth_synth5/'\n",
    "WAVEFORM_GT_S5_PATH =  './temp/pros_of_details/waveformextractor_synth5/'\n",
    "\n",
    "# npx_spont\n",
    "RECORDING_NS_PATH = 'dataset/01_intermediate/preprocessing/recording_npx_spont/'\n",
    "GROUND_TRUTH_NS_PATH = 'dataset/00_raw/ground_truth_npx_spont/'\n",
    "WAVEFORM_GT_NS_PATH = 'dataset/01_intermediate/waveforms/ground_truth_npx_spont/'\n",
    "SORTING_KS4_NS_PATH = 'dataset/01_intermediate/sorting/npx_spont/SortingKS4_10m'\n",
    "\n",
    "# sorting paths\n",
    "SORTED_ks4_paths = {\n",
    "    \"Buccino\": 'dataset/01_intermediate/sorting/buccino/SortingKS4',\n",
    "    'Buccino\\nrep': './temp/pros_of_details/npx_buccino_rep/SortingKS4_10m_RTX5090',\n",
    "    's2\\ncell count': './temp/pros_of_details/npx_synth2/SortingKS4_10m_RTX5090',\n",
    "    's3\\nf.rate': './temp/pros_of_details/npx_synth3/SortingKS4_10m_RTX5090',\n",
    "    's4\\nf.range': './temp/pros_of_details/npx_synth4/SortingKS4_10m_RTX5090',\n",
    "    's5:SNR': './temp/pros_of_details/npx_synth5/SortingKS4_10m_RTX5090',\n",
    "    \"NS\": SORTING_KS4_NS_PATH,\n",
    "}\n",
    "\n",
    "# parallel processing parameters\n",
    "save_recording_params = {'n_jobs': 20, 'verbose':True, 'progress_bar':True, 'overwrite':True, 'dtype':'float32', 'chunk_size': 50000}\n",
    "waveform_params = {\"sparse\": True, \"ms_before\": 3.0, \"ms_after\": 3.0, \"max_spikes_per_unit\": 500, \"unit_batch_size\": None, \"overwrite\": None, \"seed\": 0}\n",
    "\n",
    "# sorting analyzer extensions\n",
    "extension_params = {'waveforms': {'ms_before': 3.0, 'ms_before': 3.0}, 'spike_amplitudes': {'peak_sign': 'neg'}}\n",
    "\n",
    "# parallel processing parameters \n",
    "job_kwargs = dict(n_jobs=-1, chunk_duration=\"1s\", progress_bar=True)\n",
    "savefig_cfg = {\"transparent\":True, \"dpi\": 400}\n",
    "\n",
    "# figure params\n",
    "plt.rcParams[\"font.family\"] = \"Arial\"\n",
    "plt.rcParams[\"font.size\"] = 6\n",
    "plt.rcParams[\"lines.linewidth\"] = 0.5\n",
    "plt.rcParams[\"axes.linewidth\"] = 0.5\n",
    "plt.rcParams[\"axes.spines.top\"] = False\n",
    "plt.rcParams[\"xtick.major.width\"] = 0.5 \n",
    "plt.rcParams[\"xtick.minor.width\"] = 0.5 \n",
    "plt.rcParams[\"ytick.major.width\"] = 0.5 \n",
    "plt.rcParams[\"ytick.minor.width\"] = 0.5\n",
    "plt.rcParams[\"xtick.major.size\"] = 3.5 * 1.1\n",
    "plt.rcParams[\"xtick.minor.size\"] = 2 * 1.1\n",
    "plt.rcParams[\"ytick.major.size\"] = 3.5 * 1.1\n",
    "plt.rcParams[\"ytick.minor.size\"] = 2 * 1.1"
   ]
  },
  {
   "cell_type": "markdown",
   "metadata": {},
   "source": [
    "velocity_above: https://docs.datajoint.com/elements/element-array-ephys/0.2/tutorials/quality_metrics/"
   ]
  },
  {
   "cell_type": "code",
   "execution_count": 2,
   "metadata": {},
   "outputs": [
    {
     "name": "stdout",
     "output_type": "stream",
     "text": [
      "[sudo] password for steeve: "
     ]
    }
   ],
   "source": [
    "# clear RAM\n",
    "import getpass; password = getpass.getpass(\"Enter your sudo password: \")\n",
    "!sync; echo {password} | sudo -S sh -c 'echo 1 > /proc/sys/vm/drop_caches'"
   ]
  },
  {
   "cell_type": "markdown",
   "metadata": {},
   "source": [
    "## Functions"
   ]
  },
  {
   "cell_type": "code",
   "execution_count": 3,
   "metadata": {},
   "outputs": [],
   "source": [
    "# UTILS \n",
    "\n",
    "def _euclidean_distance(coord_1, coord_2):\n",
    "    return np.sqrt(np.sum((coord_1 - coord_2) ** 2))\n",
    "\n",
    "\n",
    "def mad(data):\n",
    "    mean_data = np.mean(data)\n",
    "    return np.mean(np.absolute(data - mean_data))\n",
    "\n",
    "\n",
    "def get_mad_ratio(spike_amp, noise_amp):\n",
    "    \"\"\"calculate an sd_ratio robust to outliers\n",
    "\n",
    "    Args:\n",
    "        spike_amp (_type_): _description_\n",
    "        noise_amp (_type_): _description_\n",
    "\n",
    "    Returns:\n",
    "        _type_: _description_\n",
    "    \"\"\"\n",
    "    mad_unit = mad(spike_amp)  # twice smaller than std\n",
    "    mad_noise = mad(noise_amp)\n",
    "    return mad_unit / mad_noise\n",
    "\n",
    "\n",
    "def get_best_site_mad_noise(analyzer, max_chids, unit):\n",
    "\n",
    "    # get waveforms\n",
    "    # e.g., (500 spikes, 160 samples, 18 channels)\n",
    "    wv = analyzer.get_extension('waveforms').get_waveforms_one_unit(unit_id=unit)\n",
    "\n",
    "    # get channel ids (sparse)\n",
    "    channel_ids = analyzer.sparsity.unit_id_to_channel_ids[unit]\n",
    "    \n",
    "    # get nearest channel\n",
    "    max_chid = max_chids[unit]\n",
    "    max_chid_ix = np.where(channel_ids == max_chid)[0][0]\n",
    "    return wv[:, :, max_chid_ix].flatten()\n",
    "\n",
    "\n",
    "def get_waveform_amplitudes_per_unit(analyzer):\n",
    "    return analyzer.get_extension(\"spike_amplitudes\").get_data(outputs=\"by_unit\")[0]\n",
    "\n",
    "\n",
    "def get_cell_locations(GroundTruth):\n",
    "\n",
    "    x = GroundTruth.get_property('x')\n",
    "    y = GroundTruth.get_property('y')\n",
    "    z = GroundTruth.get_property('z')\n",
    "    return np.array([x, y, z]).T\n",
    "\n",
    "# SIMULATE SYNTHETIC RECORDING WITH MEAREC\n",
    "\n",
    "def simulate_synthetic_recording_with_mearec(rec_prms: dict, layer:str, templates_path:str, recording_clone_h5_path:str):\n",
    "\n",
    "    # generate simulated recording (takes 22 min)\n",
    "    rec_gen = mr.gen_recordings(params=rec_prms, templates=templates_path)\n",
    "\n",
    "    # save simulated recording\n",
    "    mr.save_recording_generator(rec_gen, recording_clone_h5_path)\n",
    "\n",
    "    # load recording h5 file\n",
    "    RecordingClone = se.MEArecRecordingExtractor(recording_clone_h5_path) \n",
    "    RecordingClone.set_property(\"layers\", np.array([layer]*384)) # add layer metadata\n",
    "\n",
    "    # load ground truth\n",
    "    SortingClone = se.MEArecSortingExtractor(recording_clone_h5_path)\n",
    "\n",
    "    # delete intermediate h5 file\n",
    "    os.remove(recording_clone_h5_path)\n",
    "    return RecordingClone, SortingClone, rec_gen\n",
    "\n",
    "\n",
    "def set_metadata_to_mearec_simulations(recording_generator, Recording, Sorting):\n",
    "    \n",
    "    # set cell features\n",
    "    features = ['cell_type', 'snr', 'mtype', 'soma_position', 'bursting', 'exp_decay', 'max_spikes_per_burst', 'max_burst_duration']\n",
    "    n_cells = len(recording_generator.spiketrains)\n",
    "\n",
    "    # set cell properties in sorting extractor\n",
    "    for feature in features:\n",
    "        feature_data = []\n",
    "        for cell_ix in range(n_cells):\n",
    "            feature_data.append(recording_generator.spiketrains[cell_ix].annotations[feature])\n",
    "        Sorting.set_property(feature, np.array(feature_data))\n",
    "\n",
    "    # set electrode properties in recording extractor\n",
    "    # by default, channel_locations are attached to Recording extractor\n",
    "    Recording.set_property('layer', np.array(['L5']*384)) # layer\n",
    "    return Recording, Sorting\n",
    "\n",
    "\n",
    "def standardize_metadata(GroundTruth):\n",
    "    \"\"\"standardize ground truth extractor metadata\n",
    "    from mearec simulatio\n",
    "\n",
    "    Args:\n",
    "        GroundTruth (_type_): _description_\n",
    "\n",
    "    Returns:\n",
    "        _type_: _description_\n",
    "    \"\"\"\n",
    "    if 'soma_position' in GroundTruth.get_property_keys():\n",
    "        GroundTruth.set_property('x', GroundTruth.get_property('soma_position')[:,0])\n",
    "        GroundTruth.set_property('y', GroundTruth.get_property('soma_position')[:,1])\n",
    "        GroundTruth.set_property('z', GroundTruth.get_property('soma_position')[:,2])\n",
    "        GroundTruth.delete_property('soma_position')\n",
    "\n",
    "    if 'soma_location' in GroundTruth.get_property_keys():\n",
    "        GroundTruth.set_property('x', GroundTruth.get_property('soma_location')[:,0])\n",
    "        GroundTruth.set_property('y', GroundTruth.get_property('soma_location')[:,1])\n",
    "        GroundTruth.set_property('z', GroundTruth.get_property('soma_location')[:,2])\n",
    "        GroundTruth.delete_property('soma_location')\n",
    "\n",
    "    if 'bursting' in GroundTruth.get_property_keys():\n",
    "        GroundTruth.set_property('bursting', GroundTruth.get_property('bursting').astype(int))\n",
    "    \n",
    "    if 'exp_decay' in GroundTruth.get_property_keys():\n",
    "        GroundTruth.set_property('exp_decay', GroundTruth.get_property('exp_decay').astype(str))\n",
    "    \n",
    "    if 'max_burst_duration' in GroundTruth.get_property_keys():\n",
    "        GroundTruth.set_property('max_burst_duration', GroundTruth.get_property('max_burst_duration').astype(str))\n",
    "    \n",
    "    if 'max_spikes_per_burst' in GroundTruth.get_property_keys():\n",
    "        GroundTruth.set_property('max_spikes_per_burst', GroundTruth.get_property('max_spikes_per_burst').astype(str))\n",
    "    return GroundTruth\n",
    "\n",
    "\n",
    "def standardize_site_location_property(Recording, zero_coord=0):\n",
    "    \"\"\"\n",
    "    zero_coord: coordinate with zero values\n",
    "    \"\"\"\n",
    "    site_pos = Recording.get_channel_locations()\n",
    "    site_pos = np.insert(site_pos, zero_coord, 0, axis=1)\n",
    "    Recording.set_property('location3D', site_pos)\n",
    "    return Recording\n",
    "\n",
    "\n",
    "def standardize_biophy_site_location_property(Recording):\n",
    "    \"\"\"\n",
    "    zero_coord: coordinate with zero values\n",
    "    \"\"\"\n",
    "    site_pos = Recording.get_property('location')\n",
    "    Recording.set_property('location3D', site_pos)\n",
    "    return Recording\n",
    "\n",
    "\n",
    "def report_simulation_parameters(rec_gen):\n",
    "    \"\"\"\n",
    "    Reports simulation parameters, checks for bursting, and displays example cell metadata.\n",
    "\n",
    "    Args:\n",
    "        rec_gen (RecordingGenerator): The recording generator object.\n",
    "    \"\"\"\n",
    "    # report parameters\n",
    "    display('Simulation parameters:', rec_gen.info)\n",
    "\n",
    "    # check bursting\n",
    "    bursting = []\n",
    "    for ix in range(250):\n",
    "        bursting.append(rec_gen.spiketrains[1].annotations['bursting'])\n",
    "    print('Bursting:', any(bursting))\n",
    "\n",
    "    # example of a cell metadata\n",
    "    CELL_IDX = 0\n",
    "    print('\\nExample cell type:', rec_gen.template_celltypes[CELL_IDX])\n",
    "    display('Its spiking metadata:', rec_gen.spiketrains[CELL_IDX].annotations)\n",
    "    print('Its spike times:', rec_gen.spiketrains[CELL_IDX].times)\n",
    "\n",
    "\n",
    "def save_simulation_parameters_to_assets(rec_prms:dict, rec_gen, input_params_path:str, output_params_path:str):\n",
    "        \n",
    "    folder_path = os.path.dirname(input_params_path)\n",
    "    os.makedirs(folder_path, exist_ok=True)\n",
    "\n",
    "    # save input simulation parameters to MEAREC\n",
    "    with open(input_params_path, 'w') as f:\n",
    "        json.dump(rec_prms, f, indent=4)\n",
    "\n",
    "    folder_path = os.path.dirname(output_params_path)\n",
    "    os.makedirs(folder_path, exist_ok=True)\n",
    "\n",
    "    # save parameters recorded in recording generator\n",
    "    with open(output_params_path, 'w') as f:\n",
    "        json.dump(rec_gen.params, f, indent=4)\n",
    "\n",
    "        \n",
    "def get_cell_type_property_from_mearec(simulation):\n",
    "    cell_types = []\n",
    "    for ix in range(len(simulation.spiketrains)):\n",
    "        cell_types.append(simulation.spiketrains[ix].annotations['cell_type'])\n",
    "    return np.array(cell_types)\n",
    "\n",
    "\n",
    "# DESCRIPTIVE FEATURES\n",
    "\n",
    "def count_near_cells_within_radius(site_pos, cell_pos, unit_ids, radius=50):\n",
    "    \"\"\"\n",
    "    Counts the number of unique cells within a specified radius from each site.\n",
    "\n",
    "    Args:\n",
    "        recording: SpikeInterface RecordingExtractor object.\n",
    "        sorting: SpikeInterface SortingExtractor object.\n",
    "        radius (int): Distance threshold in micrometers.\n",
    "\n",
    "    Returns:\n",
    "        int: Number of unique cells within the specified radius.\n",
    "    \"\"\"\n",
    "    all_near_cells = []\n",
    "\n",
    "    # for each site, find cells within the specified radius\n",
    "    for pos in site_pos:\n",
    "        tiled = np.tile(pos, (cell_pos.shape[0], 1))\n",
    "        dist = np.linalg.norm(cell_pos - tiled, axis=1)\n",
    "        near_cells = unit_ids[dist < radius]\n",
    "        all_near_cells.extend(near_cells)\n",
    "    all_near_cells = list(set(all_near_cells))\n",
    "    return len(all_near_cells)\n",
    "\n",
    "\n",
    "# QUALITY METRICS FOR A SINGLE UNIT\n",
    "\n",
    "def get_spatial_spread(\n",
    "    analyzer, unit_id: int, max_chids: dict, channel_ids, channel_coord\n",
    "):\n",
    "    \"\"\"measure unit's spatial spread (a.u): the spatial distance of the nearest site to the max site \n",
    "    weighted by the similarity of their waveform to the max waveform.\n",
    "        \n",
    "        cosine_similarity = dot(near_waveform, max_waveform) / ||near_waveform||.||max_waveform||\n",
    "\n",
    "        rectify: if cosine_similarity < 0: cosine_similarity=0\n",
    "\n",
    "        spread = dot(cosine_similarity, site_distance)\n",
    "\n",
    "    note: cosine similarity ranges between 0 and 1 and the site distance is in um.\n",
    "\n",
    "    Args:\n",
    "        unit_id (int): _description_\n",
    "        max_chids (dict): _description_\n",
    "        Recording (_type_): _description_\n",
    "        channel_ids (_type_): _description_\n",
    "        channel_coord (_type_): _description_\n",
    "\n",
    "    Returns:\n",
    "        _type_: _description_\n",
    "    \"\"\"\n",
    "    # get waveforms\n",
    "    wave_extension = analyzer.get_extension('waveforms')\n",
    "    wv = wave_extension.get_waveforms_one_unit(unit_id=unit_id)\n",
    "\n",
    "    # get the site ids (sparse)\n",
    "    c_ids = wave_extension.sparsity.unit_id_to_channel_ids[unit_id]\n",
    "\n",
    "    # get the nearest site\n",
    "    max_chid = max_chids[unit_id]\n",
    "    max_chid_ix = np.where(c_ids == max_chid)[0][0]\n",
    "    \n",
    "    # get the average waveform on each site\n",
    "    mean_spikes = wv.mean(axis=0)\n",
    "    max_spike = mean_spikes[:, max_chid_ix]\n",
    "    \n",
    "    # measure each site's average waveform's cosine similarity \n",
    "    # to the average max site waveform (ratio b/w 0 and 1)\n",
    "    n_sites = mean_spikes.shape[1]\n",
    "    cosim_weights = []\n",
    "    for s_i in range(n_sites):\n",
    "        cosim_weights.append(\n",
    "            np.dot(max_spike, mean_spikes[:, s_i])\n",
    "            / (lalgnorm(max_spike) * lalgnorm(mean_spikes[:, s_i]))\n",
    "        )\n",
    "    cosim_weights = np.array(cosim_weights)\n",
    "\n",
    "    # threshold the similarity metric to be positive\n",
    "    # we only look at similarity (not inverse similarity (<0))\n",
    "    cosim_weights[cosim_weights < 0] = 0\n",
    "\n",
    "    # measure the euclidean distance of the site to the nearest site\n",
    "    channel_coord = channel_coord[np.isin(channel_ids, c_ids), :]\n",
    "    try:\n",
    "        max_chids_coord = channel_coord[max_chid_ix, :]\n",
    "    except:\n",
    "        from ipdb import set_trace; set_trace()\n",
    "        \n",
    "    dist = []\n",
    "    for ix, _ in enumerate(c_ids):\n",
    "        dist.append(_euclidean_distance(max_chids_coord, channel_coord[ix]))\n",
    "    dist = np.array(dist)\n",
    "\n",
    "    # return spatial spread\n",
    "    return {\n",
    "        \"spatial_spread\": np.dot(cosim_weights, dist), # similarity-weighted spatial distance\n",
    "        \"channel_distance\": dist,\n",
    "        \"weights\": cosim_weights,\n",
    "    }\n",
    "\n",
    "\n",
    "# QUALITY METRICS / SPIKE FEATURES FOR ALL UNITS\n",
    "\n",
    "def get_cell_to_site_distance(Recording, Sorting):\n",
    "    site_pos = Recording.get_property('location3D')\n",
    "    cell_pos = np.array([Sorting.get_property('x'), Sorting.get_property('y'), Sorting.get_property('z')]).T    \n",
    "    return cdist(cell_pos, site_pos).min(axis=1)\n",
    "\n",
    "\n",
    "def get_cell_to_cell_distances(ground_truth):\n",
    "    \"\"\"Calculates the minimum cell-to-cell distances \n",
    "    based on soma location or x, y, z coordinates.\n",
    "\n",
    "    Args:\n",
    "        ground_truth: Ground truth extractor containing cell properties.\n",
    "\n",
    "    Returns:\n",
    "        numpy.ndarray: Minimum cell-to-cell distances or pairwise distances.\n",
    "    \"\"\"\n",
    "    # if ground truth has a soma location property\n",
    "    if 'soma_location' in ground_truth.get_property_keys():\n",
    "        cell_loc = ground_truth.get_property('soma_location')\n",
    "        cell_distance = cdist(cell_loc, cell_loc, metric='euclidean')\n",
    "    elif 'x' in ground_truth.get_property_keys():\n",
    "        # if ground truth has a x,y,z coordinates\n",
    "        x = ground_truth.get_property('x')\n",
    "        y = ground_truth.get_property('y')\n",
    "        z = ground_truth.get_property('z')\n",
    "        cell_pos = np.array([x, y, z]).T        \n",
    "        cell_distance = cdist(cell_pos, cell_pos, metric='euclidean')\n",
    "    else: \n",
    "        raise ValueError(\"\"\"ground_truth should have a x, y, z coordinates or be in a 'soma_location' property\"\"\")\n",
    "    \n",
    "    # return distances\n",
    "    np.fill_diagonal(cell_distance, np.nan)\n",
    "    return np.nanmin(cell_distance, axis=0)    \n",
    "\n",
    "\n",
    "def get_firing_rates(sorting, duration_s):\n",
    "    \"\"\"\n",
    "    Plots the firing rate distribution of units in a sorting extractor.\n",
    "\n",
    "    Parameters:\n",
    "    - sorting: spikeinterface SortingExtractor\n",
    "        The sorting extractor containing spike trains.\n",
    "    - duration_s: the total duration\n",
    "    - bins: int, optional\n",
    "        Number of bins for the histogram (default is 20).\n",
    "    \"\"\"\n",
    "    unit_ids = sorting.get_unit_ids()\n",
    "    firing_rates = [\n",
    "        len(sorting.get_unit_spike_train(unit_id)) / duration_s\n",
    "        for unit_id in unit_ids\n",
    "    ]\n",
    "    return firing_rates\n",
    "\n",
    "\n",
    "def get_firing_ranges(analyzer):\n",
    "\n",
    "    firing_range = sqm.compute_firing_ranges(sorting_analyzer=analyzer)\n",
    "    return np.array(list(firing_range.values()))\n",
    "\n",
    "\n",
    "def get_waveform_amplitude_medians(analyzer):\n",
    "    amplitude_medians = sqm.compute_amplitude_medians(sorting_analyzer=analyzer)\n",
    "    return np.array(list(amplitude_medians.values()))\n",
    "\n",
    "\n",
    "def get_waveform_snr(analyzer):\n",
    "    snrs = sqm.compute_snrs(sorting_analyzer=analyzer)\n",
    "    return np.array(list(snrs.values()))\n",
    "\n",
    "\n",
    "def get_spatial_spread_all_units(\n",
    "    recording, analyzer, peak_sign=\"neg\"\n",
    "):\n",
    "    \"\"\"get all units' spatial extent metrics\n",
    "\n",
    "    Args:\n",
    "        recording_path (str): Path of the Recording Extractor\n",
    "        study_path (str): _description_\n",
    "        ms_before (float): _description_\n",
    "        ms_after (float): _description_\n",
    "\n",
    "    Returns:\n",
    "        (dict): spatial spread of each unit\n",
    "        - key: true unit id\n",
    "        - value: spatial spread\n",
    "    \n",
    "    Prerequisites:\n",
    "        - have extracted ground truth waveforms\n",
    "    \"\"\"    \n",
    "    # get sites' distance to the max site\n",
    "    # get 3D coordinates\n",
    "    channel_coord = recording.get_probe().contact_positions\n",
    "    channel_ids = recording.get_channel_ids()\n",
    "\n",
    "    # get channels where spike amplitude is maximal\n",
    "    max_chids = ttools.get_template_extremum_channel(analyzer, peak_sign=peak_sign)\n",
    "\n",
    "    # takes 1:30 min (1310 units)\n",
    "    spatial_spread = dict()\n",
    "    for _, unit in enumerate(analyzer.unit_ids):\n",
    "        spatial_spread[unit] = get_spatial_spread(\n",
    "            analyzer, unit, max_chids, channel_ids, channel_coord\n",
    "        )[\"spatial_spread\"]\n",
    "    return np.array(list(spatial_spread.values()))\n",
    "\n",
    "\n",
    "def get_mad_ratios(analyzer):\n",
    "    \"\"\"get mad ratio per unit. Values close to 1 indicate a good isolation of the unit.\n",
    "    i.e., the mean absolute deviation of the spike amplitude is similar to the mean absolute deviation \n",
    "    of the noise amplitude.\n",
    "\n",
    "    Args:\n",
    "        WeOriginal (WaveformExtractor): _description_\n",
    "\n",
    "    Returns:\n",
    "        np.array: mad ratio per unit\n",
    "    \"\"\"\n",
    "    # pre-compute negative spike amplitudes\n",
    "    amplitudes_by_unit = get_waveform_amplitudes_per_unit(analyzer)\n",
    "\n",
    "    # get nearest channels\n",
    "    max_chids = ttools.get_template_extremum_channel(analyzer, peak_sign=\"both\")\n",
    "\n",
    "    # compute mad ratio per unit\n",
    "    mad_ratio = []\n",
    "    for unit in analyzer.unit_ids:\n",
    "        noise_amp = get_best_site_mad_noise(analyzer, max_chids, unit)\n",
    "        mad_ratio.append(get_mad_ratio(amplitudes_by_unit[unit], noise_amp))\n",
    "    return np.array(mad_ratio)\n",
    "\n",
    "\n",
    "def get_spatial_metrics(analyzer):\n",
    "    return analyzer.compute(input=\"template_metrics\", include_multi_channel_metrics=True).get_data()\n",
    "\n",
    "\n",
    "def compute_features(recording, ground_truth, analyzer):\n",
    "    \"\"\"compute macroscopic spiking and waveform features\n",
    "\n",
    "    Args:\n",
    "        recording (_type_): _description_\n",
    "        ground_truth (_type_): _description_\n",
    "        analyzer (_type_): _description_\n",
    "\n",
    "    Returns:\n",
    "        _type_: _description_\n",
    "    \"\"\"\n",
    "\n",
    "    # calculate waveform spatial features\n",
    "    spatial_metrics = get_spatial_metrics(analyzer)\n",
    "\n",
    "    return {\n",
    "        'cell_to_site_distance': get_cell_to_site_distance(recording, ground_truth),  # cell-to-electrode distance\n",
    "        'cell_distance': get_cell_to_cell_distances(ground_truth),  # cell-to-cell distance\n",
    "        'firing_rates': get_firing_rates(ground_truth, duration_s=600),  # firing rate\n",
    "        'firing_ranges': get_firing_ranges(analyzer),  # firing range\n",
    "        'snrs': get_waveform_snr(analyzer),  # cell waveform SNR\n",
    "        'amplitudes': get_waveform_amplitude_medians(analyzer),  # cell waveform amplitude\n",
    "        'mad_ratios': get_mad_ratios(analyzer),  # cell waveform MAD ratio\n",
    "        'spreads_simi_weighted_distance': get_spatial_spread_all_units(recording, analyzer, peak_sign=\"neg\"),  # cell waveform spatial spread (custom)\n",
    "        'spread': spatial_metrics['velocity_above'],  # spatial metric: velocity above\n",
    "        'repolarization_slope': spatial_metrics['repolarization_slope'],  # repolarization slope\n",
    "        'exp_decay': spatial_metrics['exp_decay'],  # exponential decay\n",
    "        'peak_to_valley': spatial_metrics['peak_to_valley'],  # peak to valley duration\n",
    "        'velocity_above': spatial_metrics['velocity_above'],  # spatial metric: velocity above\n",
    "        'velocity_below': spatial_metrics['velocity_below']  # spatial metric: velocity below\n",
    "    }\n",
    "\n",
    "# PLOTS \n",
    "\n",
    "def plot_cell_to_site_distance(ax, distance, bins=20, title:str=None, ylim=(0,60), xlim=(0,25), edgecolor=(0.22, 0.5, 0.72), facecolor=(0.22, 0.5, 0.72), ylogscale=False, histtype='step'):\n",
    "    \"\"\"\n",
    "    Plots the firing rate distribution of units in a sorting extractor.\n",
    "\n",
    "    Parameters:\n",
    "    - firing rates: firing rates\n",
    "    - bins: int, optional\n",
    "        Number of bins for the histogram (default is 20).\n",
    "    \"\"\"\n",
    "    ax.hist(distance, bins=bins, edgecolor=edgecolor, facecolor=facecolor, histtype=histtype)\n",
    "    ax.set_xlabel(\"Cell-to-site distance (um)\")\n",
    "    ax.set_ylabel(\"Unit count\", labelpad=2)\n",
    "    if title:\n",
    "        ax.set_title(title)\n",
    "    if ylogscale:\n",
    "        ax.set_yscale('log')\n",
    "    ax.set_ylim(ylim)\n",
    "    ax.set_xlim(xlim)    \n",
    "    \n",
    "\n",
    "def plot_firing_rate_distribution(ax, firing_rates, bins=20, title:str=None, ylim=(0,60), xlim=(0,25), edgecolor=(0.22, 0.5, 0.72), facecolor=(0.22, 0.5, 0.72), ylogscale=False, histtype='step'):\n",
    "    \"\"\"\n",
    "    Plots the firing rate distribution of units in a sorting extractor.\n",
    "\n",
    "    Parameters:\n",
    "    - firing rates: firing rates\n",
    "    - bins: int, optional\n",
    "        Number of bins for the histogram (default is 20).\n",
    "    \"\"\"\n",
    "    ax.hist(firing_rates, bins=bins, edgecolor=edgecolor, facecolor=facecolor, histtype=histtype)\n",
    "    ax.set_xlabel(\"Firing rate (Hz)\")\n",
    "    ax.set_ylabel(\"Unit count\")\n",
    "    if title:\n",
    "        ax.set_title(title)\n",
    "    if ylogscale:\n",
    "        ax.set_yscale('log')\n",
    "    ax.set_ylim(ylim)\n",
    "    ax.set_xlim(xlim)    \n",
    "\n",
    "\n",
    "def plot_firing_ranges_distribution(ax, firing_ranges, bins=20, title:str='simulation_name', ylim=(0,50), xlim=(0,800), edgecolor=(0.22, 0.5, 0.72), facecolor=(0.22, 0.5, 0.72), ylogscale=False, histtype='step'):\n",
    "    \"\"\"\n",
    "    Parameters:\n",
    "    - amplitudes: waveform amplitudes\n",
    "    - bins: int, optional\n",
    "        Number of bins for the histogram (default is 20).\n",
    "    \"\"\"\n",
    "    ax.hist(firing_ranges, bins=bins, edgecolor=edgecolor, facecolor=facecolor, histtype=histtype)\n",
    "    ax.set_xlabel(\"Firing range (Hz)\", labelpad=1)\n",
    "    ax.set_ylabel(\"Unit count\")\n",
    "    if title:\n",
    "        ax.set_title(title)\n",
    "    if ylogscale:\n",
    "        ax.set_yscale('log')\n",
    "    ax.set_ylim(ylim)\n",
    "    ax.set_xlim(xlim)\n",
    "\n",
    "\n",
    "def plot_waveform_amplitude_median_distribution(ax, amplitudes, bins=20, title:str='simulation_name', ylim=(0,50), xlim=(0,800), edgecolor=(0.22, 0.5, 0.72), facecolor=(0.22, 0.5, 0.72), ylogscale=False, histtype='step'):\n",
    "    \"\"\"\n",
    "    Parameters:\n",
    "    - amplitudes: waveform amplitudes\n",
    "    - bins: int, optional\n",
    "        Number of bins for the histogram (default is 20).\n",
    "    \"\"\"\n",
    "    ax.hist(amplitudes, bins=bins, edgecolor=edgecolor, facecolor=facecolor, histtype=histtype)\n",
    "    ax.set_xlabel(\"Amplitudes (uV)\")\n",
    "    ax.set_ylabel(\"Unit count\")\n",
    "    if title:\n",
    "        ax.set_title(title)\n",
    "    if ylogscale:\n",
    "        ax.set_yscale('log')\n",
    "    ax.set_ylim(ylim)\n",
    "    ax.set_xlim(xlim)\n",
    "\n",
    "\n",
    "def plot_waveform_snr_distribution(ax, snrs, bins=20, title:str='simulation_name', ylim=(0,50), xlim=(0,800), edgecolor=(0.22, 0.5, 0.72), facecolor=(0.22, 0.5, 0.72), ylogscale=False, histtype='step'):\n",
    "    \"\"\"\n",
    "    Parameters:\n",
    "    - snrs: snrs\n",
    "    - bins: int, optional\n",
    "        Number of bins for the histogram (default is 20).\n",
    "    \"\"\"\n",
    "    ax.hist(snrs, bins=bins, edgecolor=edgecolor, facecolor=facecolor, histtype=histtype)\n",
    "    ax.set_xlabel(\"SNR\")\n",
    "    ax.set_ylabel(\"Unit count\")\n",
    "    if title:\n",
    "        ax.set_title(title)\n",
    "    if ylogscale:\n",
    "        ax.set_yscale('log')\n",
    "    ax.set_ylim(ylim)\n",
    "    ax.set_xlim(xlim)    \n",
    "\n",
    "\n",
    "def plot_spatial_spread_distribution(ax, mad_ratio, bins=20, title:str='simulation_name', ylim=(0,50), xlim=(0,800), edgecolor=(0.22, 0.5, 0.72), facecolor=(0.22, 0.5, 0.72), ylogscale=False, histtype='step'):\n",
    "    \"\"\"\n",
    "    Parameters:\n",
    "    - mad_ratio: mad_ratio\n",
    "    - bins: int, optional\n",
    "        Number of bins for the histogram (default is 20).\n",
    "    \"\"\"\n",
    "    ax.hist(mad_ratio, bins=bins, edgecolor=edgecolor, facecolor=facecolor, histtype=histtype)\n",
    "    ax.set_xlabel(\"Spatial spread (a.u)\")\n",
    "    ax.set_ylabel(\"Unit count\")\n",
    "    if title:\n",
    "        ax.set_title(title)\n",
    "    if ylogscale:\n",
    "        ax.set_yscale('log')\n",
    "    ax.set_ylim(ylim)\n",
    "    ax.set_xlim(xlim)   \n",
    "    return ax \n",
    "\n",
    "\n",
    "def plot_mad_ratio_distribution(ax, mad_ratios, bins=20, title:str='simulation_name', ylim=(0,50), xlim=(0,800), edgecolor=(0.22, 0.5, 0.72), facecolor=(0.22, 0.5, 0.72), ylogscale=False, histtype='step'):\n",
    "    \"\"\"\n",
    "    Values close to 1 indicate a good isolation of the unit.\n",
    "    i.e., the mean absolute deviation of the spike amplitude is similar to the mean absolute deviation \n",
    "    of the noise amplitude.\n",
    "    \n",
    "    Parameters:\n",
    "    - mad_ratios: waveform mean-absolute deviation ratio between spike amplitude and background noise\n",
    "    - bins: int, optional\n",
    "        Number of bins for the histogram (default is 20).\n",
    "    \"\"\"\n",
    "    ax.hist(mad_ratios, bins=bins, edgecolor=edgecolor, facecolor=facecolor, histtype=histtype)\n",
    "    ax.set_xlabel(\"MAD ratios (a.u)\")\n",
    "    ax.set_ylabel(\"Unit count\")\n",
    "    if title:\n",
    "        ax.set_title(title)\n",
    "    if ylogscale:\n",
    "        ax.set_yscale('log')\n",
    "    ax.set_ylim(ylim)\n",
    "    ax.set_xlim(xlim)    \n",
    "\n",
    "\n",
    "def plot_spatial_metric(ax, metric, bins=20, title:str='simulation_name', ylim=(0,50), xlim=(0,800), edgecolor=(0.22, 0.5, 0.72), facecolor=(0.22, 0.5, 0.72), ylogscale=False, histtype='step'):\n",
    "    \"\"\"\n",
    "    Values close to 1 indicate a good isolation of the unit.\n",
    "    i.e., the mean absolute deviation of the spike amplitude is similar to the mean absolute deviation \n",
    "    of the noise amplitude.\n",
    "    \n",
    "    Parameters:\n",
    "    - mad_ratios: waveform mean-absolute deviation ratio between spike amplitude and background noise\n",
    "    - bins: int, optional\n",
    "        Number of bins for the histogram (default is 20).\n",
    "    \"\"\"\n",
    "    ax.hist(metric, bins=bins, edgecolor=edgecolor, facecolor=facecolor, histtype=histtype)\n",
    "    ax.set_ylabel(\"Unit count\")\n",
    "    if title:\n",
    "        ax.set_title(title)\n",
    "    if ylogscale:\n",
    "        ax.set_yscale('log')\n",
    "    ax.set_ylim(ylim)\n",
    "    ax.set_xlim(xlim)    \n",
    "    return ax\n",
    "\n",
    "\n",
    "def plot_cell_to_cell_distances(ax, cell_distance, bins=20, title:str='simulation_name', ylim=(0,50), xlim=(0,800), edgecolor=(0.22, 0.5, 0.72), facecolor=(0.22, 0.5, 0.72), ylogscale=False, histtype='step'):\n",
    "    \"\"\"\n",
    "    Parameters:\n",
    "    - cell_distance: all cell-to-cell euclidean distances\n",
    "    - bins: int, optional\n",
    "        Number of bins for the histogram (default is 20).\n",
    "    \"\"\"    \n",
    "    ax.hist(cell_distance, bins=bins, edgecolor=edgecolor, facecolor=facecolor, histtype=histtype)\n",
    "    ax.set_xlabel(\"Cell distances (um)\")\n",
    "    ax.set_ylabel(\"Unit count\")\n",
    "    if title:\n",
    "        ax.set_title(title)\n",
    "    if ylogscale:\n",
    "        ax.set_yscale('log')\n",
    "    ax.set_ylim(ylim)\n",
    "    ax.set_xlim(xlim)    \n",
    "\n",
    "\n",
    "def plot_features(axes, col_ix, features, features_ns, title: str, ylim=2000):\n",
    "\n",
    "    # cell-to-electrode distance\n",
    "    ax = axes[0,col_ix]\n",
    "    plot_cell_to_site_distance(ax, features['cell_to_site_distance'], title=title, ylim=(0,210), xlim=(0,100))\n",
    "    plot_cell_to_site_distance(ax, features_ns['cell_to_site_distance_ns'], title='', ylim=(0,210), xlim=(0,100), edgecolor='r', facecolor='None', ylogscale=True)\n",
    "    ax.spines['top'].set_visible(False)\n",
    "    ax.spines['right'].set_visible(False)\n",
    "    if col_ix!=0: ax.set_xlabel('')\n",
    "\n",
    "    # cell-to-cell distance\n",
    "    ax = axes[1,col_ix]\n",
    "    plot_cell_to_cell_distances(ax, features['cell_distance'], title='', ylim=(0,210), xlim=(0,100))\n",
    "    plot_cell_to_cell_distances(ax, features_ns['cell_distance_ns'], title='', ylim=(0,210), xlim=(0,100), edgecolor='r', facecolor='None', ylogscale=True)\n",
    "    ax.spines['top'].set_visible(False)\n",
    "    ax.spines['right'].set_visible(False)\n",
    "    if col_ix!=0: ax.set_xlabel('')\n",
    "\n",
    "    # firing rate\n",
    "    ax = axes[2,col_ix]\n",
    "    plot_firing_rate_distribution(ax, features['firing_rates'], title='', ylim=(0,ylim), xlim=(0,25))\n",
    "    plot_firing_rate_distribution(ax, features_ns['firing_rates_ns'], title='', ylim=(0,ylim), xlim=(0,25), edgecolor='r', facecolor='None', ylogscale=True)\n",
    "    ax.spines['top'].set_visible(False)\n",
    "    ax.spines['right'].set_visible(False)\n",
    "    if col_ix!=0: ax.set_xlabel('')\n",
    "\n",
    "    # firing range\n",
    "    ax = axes[3,col_ix]\n",
    "    plot_firing_ranges_distribution(ax, features['firing_ranges'], title='', ylim=(0,ylim), xlim=(0,8))\n",
    "    plot_firing_ranges_distribution(ax, features_ns['firing_ranges_ns'], title='', ylim=(0,ylim), xlim=(0,8), edgecolor='r', facecolor='None', ylogscale=True)\n",
    "    ax.spines['top'].set_visible(False)\n",
    "    ax.spines['right'].set_visible(False)\n",
    "    if col_ix!=0: ax.set_xlabel('')\n",
    "    \n",
    "    # cell waveform SNR\n",
    "    ax = axes[4,col_ix]\n",
    "    plot_waveform_snr_distribution(ax, features['snrs'], title='', ylim=(0,ylim), xlim=(0,80))\n",
    "    plot_waveform_snr_distribution(ax, features_ns['snrs_ns'][np.isfinite(features_ns['snrs_ns'])], title='', ylim=(0,ylim), xlim=(0,80), edgecolor='r', facecolor='None', ylogscale=True)\n",
    "    ax.spines['top'].set_visible(False)\n",
    "    ax.spines['right'].set_visible(False)\n",
    "    if col_ix!=0: ax.set_xlabel('')\n",
    "\n",
    "    # cell waveform amplitude\n",
    "    ax = axes[5,col_ix]\n",
    "    plot_waveform_amplitude_median_distribution(ax, features['amplitudes'], title='', ylim=(0,ylim), xlim=(-400, 40))\n",
    "    plot_waveform_amplitude_median_distribution(ax, features_ns['amplitudes_ns'][np.isfinite(features_ns['amplitudes_ns'])], title='', ylim=(0,ylim), xlim=(-400,40), edgecolor='r', facecolor='None', ylogscale=True)\n",
    "    ax.spines['top'].set_visible(False)\n",
    "    ax.spines['right'].set_visible(False)\n",
    "    if col_ix!=0: ax.set_xlabel('')\n",
    "\n",
    "    # cell waveform MAD ratio\n",
    "    ax = axes[6,col_ix]\n",
    "    plot_mad_ratio_distribution(ax, features['mad_ratios'], title='', ylim=(0,ylim), xlim=(0,15))\n",
    "    plot_mad_ratio_distribution(ax, features_ns['mad_ratios_ns'][np.isfinite(features_ns['mad_ratios_ns'])], title='', ylim=(0,ylim), xlim=(0,15), edgecolor='r', facecolor='None', ylogscale=True)\n",
    "    ax.spines['top'].set_visible(False)\n",
    "    ax.spines['right'].set_visible(False)\n",
    "    if col_ix!=0: ax.set_xlabel('')\n",
    "\n",
    "    # cell waveform peak_to_valley\n",
    "    ax = axes[7,col_ix]\n",
    "    ax = plot_spatial_metric(ax, np.array(features['peak_to_valley'])*1000, bins=20, title='', ylim=(0,ylim), xlim=(0,10))\n",
    "    ax = plot_spatial_metric(ax, np.array(features_ns['peak_to_valley_ns'])*1000, bins=20, title='', ylim=(0,ylim), xlim=(0,10), edgecolor='r', facecolor='None', ylogscale=True, histtype='step')\n",
    "    ax.set_xlabel('Peak-to-valley (ms)')\n",
    "    ax.spines['top'].set_visible(False)\n",
    "    ax.spines['right'].set_visible(False)    \n",
    "    if col_ix!=0: ax.set_xlabel('')\n",
    "\n",
    "    # cell waveform repolarization_slope\n",
    "    ax = axes[8, col_ix]\n",
    "    ax = plot_spatial_metric(ax, np.array(features['repolarization_slope']), bins=20, title='', ylim=(0,3000), xlim=(0,4000000))\n",
    "    ax = plot_spatial_metric(ax, np.array(features_ns['repolarization_slope_ns']), bins=20, title='', ylim=(0,3000), xlim=(0, 4000000), edgecolor='r', facecolor='None', ylogscale=True, histtype='step')\n",
    "    ax.set_xlabel('Repolarization slope (uV/s)')\n",
    "    ax.spines['top'].set_visible(False)\n",
    "    ax.spines['right'].set_visible(False)\n",
    "    if col_ix!=0: ax.set_xlabel('')\n",
    "\n",
    "    # cell waveform repolarization_slope\n",
    "    ax = axes[9, col_ix]\n",
    "    ax = plot_spatial_metric(ax, np.array(features['exp_decay']), bins=20, title='', ylim=(0,ylim), xlim=(0,0.4))\n",
    "    ax = plot_spatial_metric(ax, np.array(features_ns['exp_decay_ns']), bins=20, title='', ylim=(0,ylim), xlim=(0, 0.4), edgecolor='r', facecolor='None', ylogscale=True, histtype='step')\n",
    "    ax.set_xlabel('Exponential decay (um)')\n",
    "    ax.spines['top'].set_visible(False)\n",
    "    ax.spines['right'].set_visible(False)    \n",
    "    if col_ix!=0: ax.set_xlabel('')\n",
    "\n",
    "    # cell waveform spatial spread (custom)\n",
    "    ax = axes[10,col_ix]\n",
    "    plot_spatial_spread_distribution(ax, features['spreads_simi_weighted_distance'], title='', ylim=(0,ylim), xlim=(0,1200))\n",
    "    plot_spatial_spread_distribution(ax, features_ns['spreads_simi_weighted_distance_ns'], title='', ylim=(0,ylim), xlim=(0,1200), edgecolor='r', facecolor='None', ylogscale=True)\n",
    "    ax.spines['top'].set_visible(False)\n",
    "    ax.spines['right'].set_visible(False)    \n",
    "    ax.set_xlabel('Similarity-weighted spread (a.u)')\n",
    "    if col_ix!=0: ax.set_xlabel('')\n",
    "\n",
    "    # cell waveform spatial spread (spikeinterface)\n",
    "    ax = axes[11,col_ix]\n",
    "    ax = plot_spatial_metric(ax, np.array(features['spread']), bins=20, title='', ylim=(0,3000), xlim=(0,200))\n",
    "    ax = plot_spatial_metric(ax, np.array(features_ns['si_spread_ns']), bins=20, title='', ylim=(0, 3000), xlim=(0, 200), edgecolor='r', facecolor='None', ylogscale=True, histtype='step')\n",
    "    ax.set_xlabel('Spread (um)')\n",
    "    ax.spines['top'].set_visible(False)\n",
    "    ax.spines['right'].set_visible(False)      \n",
    "    if col_ix!=0: ax.set_xlabel('')\n",
    "\n",
    "    # cell waveform velocity above\n",
    "    ax = axes[12, col_ix]\n",
    "    ax = plot_spatial_metric(ax, np.array(features['velocity_above']), bins=20, title='', ylim=(0,ylim), xlim=(-500,500))\n",
    "    ax = plot_spatial_metric(ax, np.array(features_ns['velocity_above_ns']), bins=20, title='', ylim=(0,ylim), xlim=(-500,500), edgecolor='r', facecolor='None', ylogscale=True, histtype='step')\n",
    "    ax.set_xlabel('Velocity above (um/s)')\n",
    "    ax.spines['top'].set_visible(False)\n",
    "    ax.spines['right'].set_visible(False)    \n",
    "    if col_ix!=0: ax.set_xlabel('')\n",
    "\n",
    "    # cell waveform velocity below\n",
    "    ax = axes[13, col_ix]\n",
    "    ax = plot_spatial_metric(ax, np.array(features['velocity_below']), bins=20, title='', ylim=(0,ylim), xlim=(-500,500))\n",
    "    ax = plot_spatial_metric(ax, np.array(features_ns['velocity_below_ns']), bins=20, title='', ylim=(0,ylim), xlim=(-500,500), edgecolor='r', facecolor='None', ylogscale=True, histtype='step')\n",
    "    ax.set_xlabel('Velocity below (um/s)')\n",
    "    ax.spines['top'].set_visible(False)\n",
    "    ax.spines['right'].set_visible(False)    \n",
    "    if col_ix!=0: ax.set_xlabel('')    \n",
    "    return axes\n",
    "\n",
    "    \n",
    "# Quality of unit isolation (single-unit yield)\n",
    "\n",
    "def process_each_experiment(sorted1, sorted2, sorted3, sorted4, sorted5, sorted6, sorted7, exp_names):\n",
    "    \"\"\"\n",
    "    Process sorting data by retrieving, filtering, and standardizing unit data.\n",
    "    Keep units in L1 to L6 (in cortex)\n",
    "\n",
    "    Returns:\n",
    "        dict: A dictionary containing processed DataFrames for sorting data.\n",
    "    \"\"\"\n",
    "    # get unit data\n",
    "    sorting_data = {\n",
    "        exp_names[0]: fr.get_sorted_unit_meta(sorted1),\n",
    "        exp_names[1]: fr.get_sorted_unit_meta(sorted2),\n",
    "        exp_names[2]: fr.get_sorted_unit_meta(sorted3),\n",
    "        exp_names[3]: fr.get_sorted_unit_meta(sorted4),\n",
    "        exp_names[4]: fr.get_sorted_unit_meta(sorted5),\n",
    "        exp_names[5]: fr.get_sorted_unit_meta(sorted6),\n",
    "        exp_names[6]: fr.get_sorted_unit_meta(sorted7)\n",
    "    }\n",
    "\n",
    "    # standardize layer 2/3\n",
    "    for key in sorting_data:\n",
    "        sorting_data[key][\"layer\"][\n",
    "            (sorting_data[key][\"layer\"] == \"L2\") | (sorting_data[key][\"layer\"] == \"L3\") | (sorting_data[key][\"layer\"] == \"L2_3\")\n",
    "        ] = \"L2/3\"\n",
    "\n",
    "    # keep units in cortex\n",
    "    for key in sorting_data:\n",
    "        sorting_data[key] = sorting_data[key][\n",
    "            np.isin(sorting_data[key][\"layer\"], [\"L1\", \"L2\", \"L2/3\", \"L4\", \"L5\", \"L6\"])\n",
    "        ]\n",
    "    return sorting_data"
   ]
  },
  {
   "cell_type": "markdown",
   "metadata": {},
   "source": [
    "## Load/simulate datasets"
   ]
  },
  {
   "cell_type": "markdown",
   "metadata": {},
   "source": [
    "### NS"
   ]
  },
  {
   "cell_type": "code",
   "execution_count": 202,
   "metadata": {},
   "outputs": [
    {
     "name": "stdout",
     "output_type": "stream",
     "text": [
      "write_binary_recording \n",
      "engine=process - n_jobs=20 - samples_per_chunk=50,000 - chunk_memory=73.24 MiB - total_memory=1.43 GiB - chunk_duration=1.25s\n"
     ]
    },
    {
     "data": {
      "application/vnd.jupyter.widget-view+json": {
       "model_id": "a943b58161224e3e93063f4da6d20d02",
       "version_major": 2,
       "version_minor": 0
      },
      "text/plain": [
       "write_binary_recording (workers: 20 processes):   0%|          | 0/480 [00:00<?, ?it/s]"
      ]
     },
     "metadata": {},
     "output_type": "display_data"
    },
    {
     "name": "stdout",
     "output_type": "stream",
     "text": [
      "['gain_to_uV', 'offset_to_uV', 'location3D', 'group', 'brain_area', 'layers', 'location']\n",
      "['z', 'layer', 'orientation_w', 'dynamics_resting_potential', 'orientation_z', 'layers', 'exc_mini_frequency', 'morph_class', 'y', 'inh_mini_frequency', 'region', 'me_combo', 'synapse_class', 'dynamics_input_resistance', 'morphology', 'etype', 'model_type', 'mtype', 'x', 'dynamics_threshold_current', 'orientation_y', 'model_template', 'dynamics_holding_current', 'orientation_x']\n",
      "CPU times: user 304 ms, sys: 4.76 s, total: 5.07 s\n",
      "Wall time: 42.1 s\n"
     ]
    }
   ],
   "source": [
    "%%time\n",
    "\n",
    "# load orginal Buccino\n",
    "RecordingNS = si.load_extractor(RECORDING_NS_PATH)\n",
    "GtNS = si.load_extractor(GROUND_TRUTH_NS_PATH)\n",
    "\n",
    "# standardize properties\n",
    "RecordingNS = standardize_biophy_site_location_property(RecordingNS)\n",
    "GtnS = standardize_metadata(GtNS)\n",
    "\n",
    "# save extractors\n",
    "RecordingNS.save(folder=RECORDING_NS_PATH, **save_recording_params)\n",
    "GtNS.save(folder=GROUND_TRUTH_NS_PATH, overwrite=True)\n",
    "\n",
    "print(RecordingNS.get_property_keys())\n",
    "print(GtNS.get_property_keys())"
   ]
  },
  {
   "cell_type": "markdown",
   "metadata": {},
   "source": [
    "### Buccino"
   ]
  },
  {
   "cell_type": "code",
   "execution_count": 203,
   "metadata": {},
   "outputs": [
    {
     "name": "stdout",
     "output_type": "stream",
     "text": [
      "write_binary_recording \n",
      "engine=process - n_jobs=20 - samples_per_chunk=50,000 - chunk_memory=73.24 MiB - total_memory=1.43 GiB - chunk_duration=1.56s\n"
     ]
    },
    {
     "data": {
      "application/vnd.jupyter.widget-view+json": {
       "model_id": "0f3bbb5f931e49d89e1943590b831791",
       "version_major": 2,
       "version_minor": 0
      },
      "text/plain": [
       "write_binary_recording (workers: 20 processes):   0%|          | 0/384 [00:00<?, ?it/s]"
      ]
     },
     "metadata": {},
     "output_type": "display_data"
    },
    {
     "name": "stdout",
     "output_type": "stream",
     "text": [
      "['gain_to_uV', 'offset_to_uV', 'z', 'location3D', 'group', 'brain_area', 'imp', 'y', 'filtering', 'x', 'location']\n",
      "['z', 'y', 'x']\n",
      "CPU times: user 397 ms, sys: 5.09 s, total: 5.49 s\n",
      "Wall time: 34.2 s\n"
     ]
    }
   ],
   "source": [
    "%%time\n",
    "\n",
    "# load orginal Buccino\n",
    "RecordingBucci = si.load_extractor(RECORDING_BUCCINO_PATH)\n",
    "GtBucci = si.load_extractor(GROUND_TRUTH_BUCCINO_PATH)\n",
    "\n",
    "# standardize properties\n",
    "RecordingBucci = standardize_site_location_property(RecordingBucci)\n",
    "GtBucci = standardize_metadata(GtBucci)\n",
    "\n",
    "# save extractors\n",
    "RecordingBucci.save(folder=RECORDING_BUCCINO_PATH, **save_recording_params)\n",
    "GtBucci.save(folder=GROUND_TRUTH_BUCCINO_PATH, overwrite=True)\n",
    "\n",
    "print(RecordingBucci.get_property_keys())\n",
    "print(GtBucci.get_property_keys())"
   ]
  },
  {
   "cell_type": "markdown",
   "metadata": {},
   "source": [
    "### Intermediate datasets\n",
    "\n",
    "We simulate intermediate datasets with increasing amounts of details and accuracy to match the biophysical simulation (npx_spont) to quantify the effect of the added details on the single-unit yield."
   ]
  },
  {
   "cell_type": "code",
   "execution_count": 204,
   "metadata": {},
   "outputs": [
    {
     "data": {
      "text/plain": [
       "{'sim_time': 1,\n",
       " 'target_spikes': [3, 50],\n",
       " 'cut_out': [2, 5],\n",
       " 'dt': 0.03125,\n",
       " 'delay': 10,\n",
       " 'weights': [0.25, 1.75],\n",
       " 'rot': 'physrot',\n",
       " 'probe': 'Neuropixels-384',\n",
       " 'ncontacts': 1,\n",
       " 'overhang': 50,\n",
       " 'offset': 0,\n",
       " 'xlim': [-50, 50],\n",
       " 'ylim': None,\n",
       " 'zlim': [-1001, 1001],\n",
       " 'x_distr': 'uniform',\n",
       " 'beta_distr_params': [1.5, 5],\n",
       " 'min_amp': 30,\n",
       " 'check_eap_shape': True,\n",
       " 'n': 1500,\n",
       " 'seed': 0,\n",
       " 'drifting': False,\n",
       " 'max_drift': 100,\n",
       " 'min_drift': 30,\n",
       " 'drift_steps': 31,\n",
       " 'drift_xlim': [-10, 10],\n",
       " 'drift_ylim': [-10, 10],\n",
       " 'drift_zlim': [30, 80],\n",
       " 'check_for_drift_amp': False,\n",
       " 'drift_within_bounds': False,\n",
       " 'timeout': None,\n",
       " 'max_iterations': 1000}"
      ]
     },
     "execution_count": 204,
     "metadata": {},
     "output_type": "execute_result"
    }
   ],
   "source": [
    "# setup common cell templates, probe, and seed parameters (takes 4,531 secs)\n",
    "tpl_prms = mr.get_default_templates_params()\n",
    "tpl_prms['probe'] = 'Neuropixels-384'           # probe\n",
    "tpl_prms['n'] = 1500                            # (default = 50) number of templates per cell model (minimum that worked to match npx_spont cell counts), I use 1500.\n",
    "tpl_prms['seed'] = 0                            # setup reproducibility\n",
    "tpl_prms['overhang'] = 50                       # (default = 30) extension in um beyond MEA boundaries for neuron locations\n",
    "tpl_prms['ncontacts'] = 1                       # (default = 10) number of contacts per recording site, spatial extent of the electrode over which to average potential\n",
    "tpl_prms['offset'] = 0                          # (default = 0) x offset; MEA is in the yz plane with x 0 by default. One can center the MEA in cell population by setting x offset.\n",
    "tpl_prms['xlim'] = [-50, 50]                    # (default = [10,80]) limits ( low high ) for neuron locations in the x-axis (depth)\n",
    "tpl_prms['ylim'] = None                         # (default = None) limits ( low high ) for neuron locations in the y-axis\n",
    "tpl_prms['zlim'] = [-1001, 1001]                # (default = None) limits ( low high ) for neuron locations in the z-axis\n",
    "\n",
    "# # create and save waveform templates (10 min for 200 templates per cell, 15 MB) - uncomment to run (1h20min)\n",
    "# tpl_gen = mr.gen_templates(cell_models_folder = CELLS_PATH, params = tpl_prms)\n",
    "# mr.save_template_generator(tpl_gen, TEMPLATES_PATH)\n",
    "\n",
    "tpl_prms"
   ]
  },
  {
   "cell_type": "code",
   "execution_count": 205,
   "metadata": {},
   "outputs": [],
   "source": [
    "# setup common recording parameters\n",
    "rec_prms = mr.get_default_recordings_params()\n",
    "rec_prms['spiketrains']['duration'] = 600          # (default=600) recording duration\n",
    "rec_prms['spiketrains']['min_rate'] = 0.5          # default value\n",
    "rec_prms['seeds']['spiketrains'] = 0               # seeds for reproducibility \n",
    "rec_prms['seeds']['templates'] = 1\n",
    "rec_prms['seeds']['noise'] = 2\n",
    "rec_prms['seeds']['convolution'] = 3\n",
    "\n",
    "# save common template parameters\n",
    "with open(TEMPLATE_PARAMS_PATH, 'w') as f:\n",
    "    json.dump(tpl_prms, f, indent=4)"
   ]
  },
  {
   "cell_type": "markdown",
   "metadata": {},
   "source": [
    "#### Buccino replicate\n",
    "\n",
    "- This replicates Buccino et al., simulation with MEAREC as described in the Spikeinterface paper.\n",
    "- Execution time: 23 min\n"
   ]
  },
  {
   "cell_type": "code",
   "execution_count": null,
   "metadata": {},
   "outputs": [
    {
     "name": "stdout",
     "output_type": "stream",
     "text": [
      "Sorting metadata: ['z', 'y', 'bursting', 'mtype', 'exp_decay', 'x', 'max_burst_duration', 'max_spikes_per_burst', 'cell_type', 'snr']\n",
      "Recording metadata: ['gain_to_uV', 'offset_to_uV', 'contact_vector', 'location', 'group', 'location3D', 'layer', 'channel_name', 'layers']\n"
     ]
    },
    {
     "name": "stderr",
     "output_type": "stream",
     "text": [
      "/home/steeve/steeve/epfl/code/spikebias/envs/mearec_si_0_100_3/lib/python3.9/site-packages/spikeinterface/core/base.py:1117: UserWarning: Versions are not the same. This might lead to compatibility errors. Using spikeinterface==0.100.5 is recommended\n",
      "  warnings.warn(\n"
     ]
    }
   ],
   "source": [
    "%%time\n",
    "\n",
    "# setup parameters\n",
    "rec_prms['spiketrains']['n_exc'] = 200\n",
    "rec_prms['spiketrains']['n_inh'] = 50\n",
    "\n",
    "# simulate recording (23 min)\n",
    "RecordingRep, GtRep, RecGen = simulate_synthetic_recording_with_mearec(rec_prms, 'L5', TEMPLATES_PATH, RECORDING_REP_H5_PATH)\n",
    "\n",
    "# setup metadata\n",
    "RecordingRep, GtRep = set_metadata_to_mearec_simulations(RecGen, RecordingRep, GtRep)\n",
    "RecordingRep = standardize_site_location_property(RecordingRep)\n",
    "GtRep = standardize_metadata(GtRep)\n",
    "\n",
    "# save extractors\n",
    "RecordingRep.save(folder=RECORDING_REP_PATH, **save_recording_params)\n",
    "GtRep.save(folder=GROUND_TRUTH_REP_PATH, overwrite=True)\n",
    "\n",
    "# save parameters\n",
    "save_simulation_parameters_to_assets(rec_prms, RecGen, INPUT_PARAMS_REP_PATH, OUTPUT_PARAMS_REP_PATH)\n",
    "\n",
    "# report parameters\n",
    "# report_simulation_parameters(RecGen)\n",
    "print('Sorting metadata:', si.load_extractor(GROUND_TRUTH_REP_PATH).get_property_keys())\n",
    "print('Recording metadata:', si.load_extractor(RECORDING_REP_PATH).get_property_keys())"
   ]
  },
  {
   "cell_type": "code",
   "execution_count": null,
   "metadata": {},
   "outputs": [
    {
     "name": "stdout",
     "output_type": "stream",
     "text": [
      "[sudo] password for steeve: "
     ]
    }
   ],
   "source": [
    "# clear RAM\n",
    "import getpass; password = getpass.getpass(\"Enter your sudo password: \")\n",
    "!sync; echo {password} | sudo -S sh -c 'echo 1 > /proc/sys/vm/drop_caches'"
   ]
  },
  {
   "cell_type": "markdown",
   "metadata": {},
   "source": [
    "#### S2 - match biophy cell density & count\n",
    "\n",
    "- This matches cell count & density to the npx_spont model (validated against _in vivo_)\n",
    "- Execution time: 1h10\n",
    "- 5x more exc. cells\n",
    "- 2x more inh.\n",
    "- constrains: the large cell count requires more templates (at least 1,500) than Buccino's original else error: \"Decrease number of spiketrains, decrease 'min_dist', or use more templates\".\n"
   ]
  },
  {
   "cell_type": "code",
   "execution_count": null,
   "metadata": {},
   "outputs": [
    {
     "name": "stdout",
     "output_type": "stream",
     "text": [
      "write_binary_recording with n_jobs = 20 and chunk_size = 50000\n"
     ]
    },
    {
     "data": {
      "application/vnd.jupyter.widget-view+json": {
       "model_id": "61e7be09af914eb8b9d1659d0dcdeb1d",
       "version_major": 2,
       "version_minor": 0
      },
      "text/plain": [
       "write_binary_recording:   0%|          | 0/384 [00:00<?, ?it/s]"
      ]
     },
     "metadata": {},
     "output_type": "display_data"
    },
    {
     "name": "stdout",
     "output_type": "stream",
     "text": [
      "['z', 'y', 'bursting', 'mtype', 'exp_decay', 'x', 'max_burst_duration', 'max_spikes_per_burst', 'cell_type', 'snr']\n",
      "['gain_to_uV', 'offset_to_uV', 'contact_vector', 'location', 'group', 'location3D', 'layer', 'channel_name', 'layers']\n"
     ]
    }
   ],
   "source": [
    "# setup parameters\n",
    "rec_prms['spiketrains']['n_exc'] = 1279       # (default = 200)\n",
    "rec_prms['spiketrains']['n_inh'] = 109        # (default = 50)\n",
    "rec_prms['templates']['min_dist'] = 0         # (default = 25), reduced to match mean cell-to-cell distance\n",
    "\n",
    "# simulate recording (83 min)\n",
    "RecordingS2, GtS2, RecGenS2 = simulate_synthetic_recording_with_mearec(rec_prms, 'L5', TEMPLATES_PATH, RECORDING_S2_H5_PATH)\n",
    "\n",
    "# setup metadata\n",
    "RecordingS2, GtS2 = set_metadata_to_mearec_simulations(RecGenS2, RecordingS2, GtS2)\n",
    "RecordingS2 = standardize_site_location_property(RecordingS2)\n",
    "GtS2 = standardize_metadata(GtS2)\n",
    "\n",
    "# save extractors\n",
    "RecordingS2.save(folder=RECORDING_S2_PATH, **save_recording_params)\n",
    "GtS2.save(folder=GROUND_TRUTH_S2_PATH, overwrite=True)\n",
    "\n",
    "# save parameters\n",
    "save_simulation_parameters_to_assets(rec_prms, RecGenS2, INPUT_PARAMS_S2_PATH, OUTPUT_PARAMS_S2_PATH)\n",
    "\n",
    "# # report parameters\n",
    "# # report_simulation_parameters(RecGen)\n",
    "print(si.load_extractor(GROUND_TRUTH_S2_PATH).get_property_keys())\n",
    "print(si.load_extractor(RECORDING_S2_PATH).get_property_keys())"
   ]
  },
  {
   "cell_type": "code",
   "execution_count": null,
   "metadata": {},
   "outputs": [],
   "source": [
    "# clear RAM\n",
    "import getpass; password = getpass.getpass(\"Enter your sudo password: \")\n",
    "!sync; echo {password} | sudo -S sh -c 'echo 1 > /proc/sys/vm/drop_caches'"
   ]
  },
  {
   "cell_type": "markdown",
   "metadata": {},
   "source": [
    "#### S3 - match biophy firing rate\n",
    "\n",
    "- Execution time: 24 min\n",
    "- Storage: 24 GB on dandi"
   ]
  },
  {
   "cell_type": "code",
   "execution_count": null,
   "metadata": {},
   "outputs": [
    {
     "name": "stdout",
     "output_type": "stream",
     "text": [
      "write_binary_recording with n_jobs = 20 and chunk_size = 50000\n"
     ]
    },
    {
     "data": {
      "application/vnd.jupyter.widget-view+json": {
       "model_id": "33fbd3e5a26946168d66fd881be17774",
       "version_major": 2,
       "version_minor": 0
      },
      "text/plain": [
       "write_binary_recording:   0%|          | 0/384 [00:00<?, ?it/s]"
      ]
     },
     "metadata": {},
     "output_type": "display_data"
    },
    {
     "name": "stdout",
     "output_type": "stream",
     "text": [
      "['z', 'y', 'bursting', 'mtype', 'exp_decay', 'x', 'max_burst_duration', 'max_spikes_per_burst', 'cell_type', 'snr']\n",
      "['gain_to_uV', 'offset_to_uV', 'contact_vector', 'location', 'group', 'location3D', 'layer', 'channel_name', 'layers']\n",
      "CPU times: user 146 ms, sys: 1.08 s, total: 1.23 s\n",
      "Wall time: 27.1 s\n"
     ]
    }
   ],
   "source": [
    "%%time\n",
    "\n",
    "# change firing rates parameters, keep exc/inh ratio the same (sim too heavy to match the cells counts for all sims.)\n",
    "rec_prms['spiketrains']['n_exc'] = 1279       # (default = 200)\n",
    "rec_prms['spiketrains']['n_inh'] = 109        # (default = 50)\n",
    "rec_prms['templates']['min_dist'] = 0         # (default = 25), reduced to match mean cell-to-cell distance\n",
    "\n",
    "rec_prms['spiketrains']['f_exc'] = 0.3        # mean firing rate of excitatory cells in Hz (15 x lower)\n",
    "rec_prms['spiketrains']['f_inh'] = 1          # mean firing rate of inhibitory cells in Hz (10 x lower)\n",
    "rec_prms['spiketrains']['min_rate'] = 0       # same as npx_spont for 10 min recording (all cells fired for the entire recording)\n",
    "\n",
    "# simulate recording with MEArec (23 min)\n",
    "RecordingS3, GtS3, RecGenS3 = simulate_synthetic_recording_with_mearec(rec_prms, 'L5', TEMPLATES_PATH, RECORDING_S3_H5_PATH)\n",
    "\n",
    "# get extractor properties (metadata)\n",
    "RecordingS3, GtS3 = set_metadata_to_mearec_simulations(RecGenS3, RecordingS3, GtS3)\n",
    "RecordingS3 = standardize_site_location_property(RecordingS3)\n",
    "GtS3 = standardize_metadata(GtS3)\n",
    "\n",
    "# save extractors\n",
    "RecordingS3.save(folder=RECORDING_S3_PATH, **save_recording_params)\n",
    "GtS3.save(folder=GROUND_TRUTH_S3_PATH, overwrite=True)\n",
    "\n",
    "# save simulation global parameters (reproducibility)\n",
    "save_simulation_parameters_to_assets(rec_prms, RecGenS3, INPUT_PARAMS_S3_PATH, OUTPUT_PARAMS_S3_PATH)\n",
    "\n",
    "# report parameters\n",
    "# report_simulation_parameters(RecGen)\n",
    "print(si.load_extractor(GROUND_TRUTH_S3_PATH).get_property_keys())\n",
    "print(si.load_extractor(RECORDING_S3_PATH).get_property_keys())"
   ]
  },
  {
   "cell_type": "code",
   "execution_count": null,
   "metadata": {},
   "outputs": [],
   "source": [
    "# clear RAM\n",
    "import getpass; password = getpass.getpass(\"Enter your sudo password: \")\n",
    "!sync; echo {password} | sudo -S sh -c 'echo 1 > /proc/sys/vm/drop_caches'"
   ]
  },
  {
   "cell_type": "markdown",
   "metadata": {},
   "source": [
    "#### S4 - FR range\n",
    "\n",
    "- Execution time: 24 min\n",
    "- Storage: 24 GB on dandi"
   ]
  },
  {
   "cell_type": "code",
   "execution_count": null,
   "metadata": {},
   "outputs": [
    {
     "name": "stdout",
     "output_type": "stream",
     "text": [
      "write_binary_recording with n_jobs = 20 and chunk_size = 50000\n"
     ]
    },
    {
     "data": {
      "application/vnd.jupyter.widget-view+json": {
       "model_id": "44c41382e65042b78ab9f2c27e3474aa",
       "version_major": 2,
       "version_minor": 0
      },
      "text/plain": [
       "write_binary_recording:   0%|          | 0/384 [00:00<?, ?it/s]"
      ]
     },
     "metadata": {},
     "output_type": "display_data"
    },
    {
     "name": "stdout",
     "output_type": "stream",
     "text": [
      "['z', 'y', 'bursting', 'mtype', 'exp_decay', 'x', 'max_burst_duration', 'max_spikes_per_burst', 'cell_type', 'snr']\n",
      "['gain_to_uV', 'offset_to_uV', 'contact_vector', 'location', 'group', 'location3D', 'layer', 'channel_name', 'layers']\n"
     ]
    }
   ],
   "source": [
    "%%time\n",
    "\n",
    "# change firing range (by adjusting st_exc and st_inh)\n",
    "# check with:\n",
    "#   firing_ranges = get_firing_ranges(WeGtNS)\n",
    "#   display(firing_ranges.max())\n",
    "#   display(firing_ranges[SortingGtNS.get_property('synapse_class')=='EXC'].std())\n",
    "#   display(firing_ranges[SortingGtNS.get_property('synapse_class')=='INH'].std())\n",
    "rec_prms['spiketrains']['n_exc'] = 1279       # (default = 200)\n",
    "rec_prms['spiketrains']['n_inh'] = 109        # (default = 50)\n",
    "rec_prms['templates']['min_dist'] = 0         # (default = 25), reduced to match mean cell-to-cell distance\n",
    "\n",
    "rec_prms['spiketrains']['f_exc'] = 0.3    # mean firing rate of excitatory cells in Hz (15 x lower)\n",
    "rec_prms['spiketrains']['f_inh'] = 1      # mean firing rate of inhibitory cells in Hz (10 x lower)\n",
    "rec_prms['spiketrains']['min_rate'] = 0   # same as npx_spont for 10 min recording (all cells fired for the entire recording)\n",
    "\n",
    "rec_prms['spiketrains']['st_exc'] = 0.20  # firing rate standard deviation of excitatory cells in Hz (produces empirically 0.34)\n",
    "rec_prms['spiketrains']['st_inh'] = 0.45  # firing rate standard deviation of inhibitory cells in Hz (produces empirically 0.30)\n",
    "\n",
    "# simulate recording with MEArec (23 min)\n",
    "RecordingS4, GtS4, RecGenS4 = simulate_synthetic_recording_with_mearec(rec_prms, 'L5', TEMPLATES_PATH, RECORDING_S4_H5_PATH)\n",
    "\n",
    "# set extractor properties (metadata)\n",
    "RecordingS4, GtS4 = set_metadata_to_mearec_simulations(RecGenS4, RecordingS4, GtS4)\n",
    "RecordingS4 = standardize_site_location_property(RecordingS4)\n",
    "GtS4 = standardize_metadata(GtS4)\n",
    "\n",
    "# save extractors\n",
    "RecordingS4.save(folder=RECORDING_S4_PATH, **save_recording_params)\n",
    "GtS4.save(folder=GROUND_TRUTH_S4_PATH, overwrite=True)\n",
    "\n",
    "# save simulation global parameters (reproducibility)\n",
    "save_simulation_parameters_to_assets(rec_prms, RecGenS4, INPUT_PARAMS_S4_PATH, OUTPUT_PARAMS_S4_PATH)\n",
    "\n",
    "# report parameters\n",
    "# report_simulation_parameters(RecGen)\n",
    "print(si.load_extractor(GROUND_TRUTH_S4_PATH).get_property_keys())\n",
    "print(si.load_extractor(RECORDING_S4_PATH).get_property_keys())"
   ]
  },
  {
   "cell_type": "code",
   "execution_count": null,
   "metadata": {},
   "outputs": [],
   "source": [
    "# clear RAM\n",
    "import getpass; password = getpass.getpass(\"Enter your sudo password: \")\n",
    "!sync; echo {password} | sudo -S sh -c 'echo 1 > /proc/sys/vm/drop_caches'"
   ]
  },
  {
   "cell_type": "markdown",
   "metadata": {},
   "source": [
    "#### S5 - SNR\n",
    "\n",
    "Loading templates...\n",
    "Done loading templates...\n",
    "Spiketrains seed:  0\n",
    "dtype float32\n",
    "Noise Level  10\n",
    "Templates selection seed:  1\n",
    "Selecting cells\n",
    "Padding template edges\n",
    "Elapsed pad time: 8.1138436794281\n",
    "Creating time jittering\n",
    "Elapsed jitter time: 22.88872528076172\n",
    "Smoothing templates\n",
    "Computing spike train SNR\n",
    "Adding spiketrain annotations\n",
    "Convolution seed:  3\n",
    "Electrode modulaton\n",
    "Adding noise\n",
    "Noise seed:  2\n",
    "Filtering\n",
    "Band-pass cutoff [ 300. 6000.] Hz\n",
    "Elapsed time:  1371.254752793"
   ]
  },
  {
   "cell_type": "code",
   "execution_count": null,
   "metadata": {},
   "outputs": [
    {
     "name": "stdout",
     "output_type": "stream",
     "text": [
      "write_binary_recording with n_jobs = 20 and chunk_size = 50000\n"
     ]
    },
    {
     "data": {
      "application/vnd.jupyter.widget-view+json": {
       "model_id": "54715a1c056e4c0d8b64d00c4e9b9db3",
       "version_major": 2,
       "version_minor": 0
      },
      "text/plain": [
       "write_binary_recording:   0%|          | 0/384 [00:00<?, ?it/s]"
      ]
     },
     "metadata": {},
     "output_type": "display_data"
    },
    {
     "name": "stdout",
     "output_type": "stream",
     "text": [
      "['z', 'y', 'bursting', 'mtype', 'exp_decay', 'x', 'max_burst_duration', 'max_spikes_per_burst', 'cell_type', 'snr']\n",
      "['gain_to_uV', 'offset_to_uV', 'contact_vector', 'location', 'group', 'location3D', 'layer', 'channel_name', 'layers']\n"
     ]
    }
   ],
   "source": [
    "%%time\n",
    "\n",
    "# change spike amplitudes\n",
    "# change firing rates parameters, keep exc/inh ratio the same (sim too heavy to match the cells counts for all sims.)\n",
    "rec_prms['spiketrains']['n_exc'] = 1279       # (default = 200)\n",
    "rec_prms['spiketrains']['n_inh'] = 109        # (default = 50)\n",
    "rec_prms['templates']['min_dist'] = 0         # (default = 25), reduced to match mean cell-to-cell distance\n",
    "\n",
    "rec_prms['spiketrains']['f_exc'] = 0.3        # mean firing rate of excitatory cells in Hz (15 x lower)\n",
    "rec_prms['spiketrains']['f_inh'] = 1          # mean firing rate of inhibitory cells in Hz (10 x lower)\n",
    "rec_prms['spiketrains']['min_rate'] = 0       # same as npx_spont for 10 min recording (all cells fired for the entire recording)\n",
    "\n",
    "rec_prms['spiketrains']['st_exc'] = 0.20      # firing rate standard deviation of excitatory cells in Hz (produces empirically 0.34)\n",
    "rec_prms['spiketrains']['st_inh'] = 0.45      # firing rate standard deviation of inhibitory cells in Hz (produces empirically 0.30)\n",
    "\n",
    "rec_prms['templates']['min_amp'] = 0          # minimum spike amplitude in uV\n",
    "rec_prms['templates']['max_amp'] = 630        # maximum spike amplitude in uV\n",
    "\n",
    "# simulate recording with MEArec (23 min)\n",
    "RecordingS5, GtS5, RecGenS5 = simulate_synthetic_recording_with_mearec(rec_prms, 'L5', TEMPLATES_PATH, RECORDING_S5_H5_PATH)\n",
    "\n",
    "# set extractor properties (metadata)\n",
    "RecordingS5, GtS5 = set_metadata_to_mearec_simulations(RecGenS5, RecordingS5, GtS5)\n",
    "RecordingS5 = standardize_site_location_property(RecordingS5)\n",
    "GtS5 = standardize_metadata(GtS5)\n",
    "\n",
    "# save extractors\n",
    "RecordingS5.save(folder=RECORDING_S5_PATH, **save_recording_params)\n",
    "GtS5.save(folder=GROUND_TRUTH_S5_PATH, overwrite=True)\n",
    "\n",
    "# save simulation global parameters (reproducibility)\n",
    "save_simulation_parameters_to_assets(rec_prms, RecGenS5, INPUT_PARAMS_S5_PATH, OUTPUT_PARAMS_S5_PATH)\n",
    "\n",
    "# report parameters\n",
    "# report_simulation_parameters(RecGen)\n",
    "print(si.load_extractor(GROUND_TRUTH_S5_PATH).get_property_keys())\n",
    "print(si.load_extractor(RECORDING_S5_PATH).get_property_keys())"
   ]
  },
  {
   "cell_type": "code",
   "execution_count": null,
   "metadata": {},
   "outputs": [],
   "source": [
    "# clear RAM\n",
    "import getpass; password = getpass.getpass(\"Enter your sudo password: \")\n",
    "!sync; echo {password} | sudo -S sh -c 'echo 1 > /proc/sys/vm/drop_caches'"
   ]
  },
  {
   "cell_type": "markdown",
   "metadata": {},
   "source": [
    "## Load/compute data\n",
    "\n",
    "- Execution time: 7 min\n",
    "- storage: 26 GB of waveform extractors and 283 GB of Recording and ground truth extractors"
   ]
  },
  {
   "cell_type": "code",
   "execution_count": 5,
   "metadata": {},
   "outputs": [
    {
     "data": {
      "application/vnd.jupyter.widget-view+json": {
       "model_id": "31b04137e30845ec8b558baaf4ad6ab7",
       "version_major": 2,
       "version_minor": 0
      },
      "text/plain": [
       "estimate_sparsity (no parallelization):   0%|          | 0/600 [00:00<?, ?it/s]"
      ]
     },
     "metadata": {},
     "output_type": "display_data"
    },
    {
     "data": {
      "application/vnd.jupyter.widget-view+json": {
       "model_id": "4ef9f7b52fdb487287f62d9597b93226",
       "version_major": 2,
       "version_minor": 0
      },
      "text/plain": [
       "compute_waveforms (no parallelization):   0%|          | 0/600 [00:00<?, ?it/s]"
      ]
     },
     "metadata": {},
     "output_type": "display_data"
    },
    {
     "data": {
      "application/vnd.jupyter.widget-view+json": {
       "model_id": "fa038dc16332464d9737e61f40415aa1",
       "version_major": 2,
       "version_minor": 0
      },
      "text/plain": [
       "noise_level (no parallelization):   0%|          | 0/20 [00:00<?, ?it/s]"
      ]
     },
     "metadata": {},
     "output_type": "display_data"
    },
    {
     "data": {
      "application/vnd.jupyter.widget-view+json": {
       "model_id": "d31a6e308bac4052bec1cef7f19e713c",
       "version_major": 2,
       "version_minor": 0
      },
      "text/plain": [
       "Compute : spike_amplitudes (no parallelization):   0%|          | 0/600 [00:00<?, ?it/s]"
      ]
     },
     "metadata": {},
     "output_type": "display_data"
    },
    {
     "data": {
      "application/vnd.jupyter.widget-view+json": {
       "model_id": "8d4ffd3559c54774a8cf70ac85aa3fc1",
       "version_major": 2,
       "version_minor": 0
      },
      "text/plain": [
       "estimate_sparsity (no parallelization):   0%|          | 0/600 [00:00<?, ?it/s]"
      ]
     },
     "metadata": {},
     "output_type": "display_data"
    },
    {
     "data": {
      "application/vnd.jupyter.widget-view+json": {
       "model_id": "ecd11675729f4e44a9bd856e735c6ce7",
       "version_major": 2,
       "version_minor": 0
      },
      "text/plain": [
       "compute_waveforms (no parallelization):   0%|          | 0/600 [00:00<?, ?it/s]"
      ]
     },
     "metadata": {},
     "output_type": "display_data"
    },
    {
     "data": {
      "application/vnd.jupyter.widget-view+json": {
       "model_id": "c25ed1e57f9b4c0ca44caf5f2c52e175",
       "version_major": 2,
       "version_minor": 0
      },
      "text/plain": [
       "noise_level (no parallelization):   0%|          | 0/20 [00:00<?, ?it/s]"
      ]
     },
     "metadata": {},
     "output_type": "display_data"
    },
    {
     "data": {
      "application/vnd.jupyter.widget-view+json": {
       "model_id": "23090af7caab46bb983726a998975f47",
       "version_major": 2,
       "version_minor": 0
      },
      "text/plain": [
       "Compute : spike_amplitudes (no parallelization):   0%|          | 0/600 [00:00<?, ?it/s]"
      ]
     },
     "metadata": {},
     "output_type": "display_data"
    },
    {
     "data": {
      "application/vnd.jupyter.widget-view+json": {
       "model_id": "f7cbb55d84da4fcb9bad93968714ab6f",
       "version_major": 2,
       "version_minor": 0
      },
      "text/plain": [
       "estimate_sparsity (no parallelization):   0%|          | 0/600 [00:00<?, ?it/s]"
      ]
     },
     "metadata": {},
     "output_type": "display_data"
    },
    {
     "data": {
      "application/vnd.jupyter.widget-view+json": {
       "model_id": "41d1dfde281a4331be2890ed810e67cb",
       "version_major": 2,
       "version_minor": 0
      },
      "text/plain": [
       "compute_waveforms (no parallelization):   0%|          | 0/600 [00:00<?, ?it/s]"
      ]
     },
     "metadata": {},
     "output_type": "display_data"
    },
    {
     "data": {
      "application/vnd.jupyter.widget-view+json": {
       "model_id": "9b9e37231fa04382b30d50e656b2c509",
       "version_major": 2,
       "version_minor": 0
      },
      "text/plain": [
       "noise_level (no parallelization):   0%|          | 0/20 [00:00<?, ?it/s]"
      ]
     },
     "metadata": {},
     "output_type": "display_data"
    },
    {
     "data": {
      "application/vnd.jupyter.widget-view+json": {
       "model_id": "9ead0cd1280c41b7a554bae9ac83380c",
       "version_major": 2,
       "version_minor": 0
      },
      "text/plain": [
       "Compute : spike_amplitudes (no parallelization):   0%|          | 0/600 [00:00<?, ?it/s]"
      ]
     },
     "metadata": {},
     "output_type": "display_data"
    },
    {
     "data": {
      "application/vnd.jupyter.widget-view+json": {
       "model_id": "77bb4bab8eb64adfa34c83ffecf3ca41",
       "version_major": 2,
       "version_minor": 0
      },
      "text/plain": [
       "estimate_sparsity (no parallelization):   0%|          | 0/600 [00:00<?, ?it/s]"
      ]
     },
     "metadata": {},
     "output_type": "display_data"
    },
    {
     "data": {
      "application/vnd.jupyter.widget-view+json": {
       "model_id": "2a21e3e71d7748dfbced4f782412ded3",
       "version_major": 2,
       "version_minor": 0
      },
      "text/plain": [
       "compute_waveforms (no parallelization):   0%|          | 0/600 [00:00<?, ?it/s]"
      ]
     },
     "metadata": {},
     "output_type": "display_data"
    },
    {
     "data": {
      "application/vnd.jupyter.widget-view+json": {
       "model_id": "93342e5756fb42fb9be44b16f506d85f",
       "version_major": 2,
       "version_minor": 0
      },
      "text/plain": [
       "noise_level (no parallelization):   0%|          | 0/20 [00:00<?, ?it/s]"
      ]
     },
     "metadata": {},
     "output_type": "display_data"
    },
    {
     "data": {
      "application/vnd.jupyter.widget-view+json": {
       "model_id": "8c53170a5c114c46bc4c50aba3dfab0b",
       "version_major": 2,
       "version_minor": 0
      },
      "text/plain": [
       "Compute : spike_amplitudes (no parallelization):   0%|          | 0/600 [00:00<?, ?it/s]"
      ]
     },
     "metadata": {},
     "output_type": "display_data"
    },
    {
     "data": {
      "application/vnd.jupyter.widget-view+json": {
       "model_id": "40c1bb8b26d742ef805815d136151235",
       "version_major": 2,
       "version_minor": 0
      },
      "text/plain": [
       "estimate_sparsity (no parallelization):   0%|          | 0/600 [00:00<?, ?it/s]"
      ]
     },
     "metadata": {},
     "output_type": "display_data"
    },
    {
     "data": {
      "application/vnd.jupyter.widget-view+json": {
       "model_id": "7426f759171b4708a6b2d4fe43c11623",
       "version_major": 2,
       "version_minor": 0
      },
      "text/plain": [
       "compute_waveforms (no parallelization):   0%|          | 0/600 [00:00<?, ?it/s]"
      ]
     },
     "metadata": {},
     "output_type": "display_data"
    },
    {
     "data": {
      "application/vnd.jupyter.widget-view+json": {
       "model_id": "87f8b9dd6cda4f1c9c5eea8e3ca03404",
       "version_major": 2,
       "version_minor": 0
      },
      "text/plain": [
       "noise_level (no parallelization):   0%|          | 0/20 [00:00<?, ?it/s]"
      ]
     },
     "metadata": {},
     "output_type": "display_data"
    },
    {
     "data": {
      "application/vnd.jupyter.widget-view+json": {
       "model_id": "4648c235291b4b069a38afe49b286b3b",
       "version_major": 2,
       "version_minor": 0
      },
      "text/plain": [
       "Compute : spike_amplitudes (no parallelization):   0%|          | 0/600 [00:00<?, ?it/s]"
      ]
     },
     "metadata": {},
     "output_type": "display_data"
    },
    {
     "data": {
      "application/vnd.jupyter.widget-view+json": {
       "model_id": "85a51ce88dc34c3f9a488275b7e712cb",
       "version_major": 2,
       "version_minor": 0
      },
      "text/plain": [
       "estimate_sparsity (no parallelization):   0%|          | 0/600 [00:00<?, ?it/s]"
      ]
     },
     "metadata": {},
     "output_type": "display_data"
    },
    {
     "data": {
      "application/vnd.jupyter.widget-view+json": {
       "model_id": "14b1d1af69d044b49054602a746bb3de",
       "version_major": 2,
       "version_minor": 0
      },
      "text/plain": [
       "compute_waveforms (no parallelization):   0%|          | 0/600 [00:00<?, ?it/s]"
      ]
     },
     "metadata": {},
     "output_type": "display_data"
    },
    {
     "data": {
      "application/vnd.jupyter.widget-view+json": {
       "model_id": "255b4f29aed94ed69e950fcfdd603c10",
       "version_major": 2,
       "version_minor": 0
      },
      "text/plain": [
       "noise_level (no parallelization):   0%|          | 0/20 [00:00<?, ?it/s]"
      ]
     },
     "metadata": {},
     "output_type": "display_data"
    },
    {
     "data": {
      "application/vnd.jupyter.widget-view+json": {
       "model_id": "b6bfbb545a974b81af998e3463fee123",
       "version_major": 2,
       "version_minor": 0
      },
      "text/plain": [
       "Compute : spike_amplitudes (no parallelization):   0%|          | 0/600 [00:00<?, ?it/s]"
      ]
     },
     "metadata": {},
     "output_type": "display_data"
    },
    {
     "data": {
      "application/vnd.jupyter.widget-view+json": {
       "model_id": "660940c77bf84feb8cf343dd7f5afa84",
       "version_major": 2,
       "version_minor": 0
      },
      "text/plain": [
       "estimate_sparsity (no parallelization):   0%|          | 0/600 [00:00<?, ?it/s]"
      ]
     },
     "metadata": {},
     "output_type": "display_data"
    },
    {
     "data": {
      "application/vnd.jupyter.widget-view+json": {
       "model_id": "faaf80472cea40ddb12d3267d6c351b0",
       "version_major": 2,
       "version_minor": 0
      },
      "text/plain": [
       "compute_waveforms (no parallelization):   0%|          | 0/600 [00:00<?, ?it/s]"
      ]
     },
     "metadata": {},
     "output_type": "display_data"
    },
    {
     "data": {
      "application/vnd.jupyter.widget-view+json": {
       "model_id": "9c2971b3cf3642a0b24f379377deef12",
       "version_major": 2,
       "version_minor": 0
      },
      "text/plain": [
       "noise_level (no parallelization):   0%|          | 0/20 [00:00<?, ?it/s]"
      ]
     },
     "metadata": {},
     "output_type": "display_data"
    },
    {
     "data": {
      "application/vnd.jupyter.widget-view+json": {
       "model_id": "bbdecaa7e50747ee9da1bde9935c344d",
       "version_major": 2,
       "version_minor": 0
      },
      "text/plain": [
       "Compute : spike_amplitudes (no parallelization):   0%|          | 0/600 [00:00<?, ?it/s]"
      ]
     },
     "metadata": {},
     "output_type": "display_data"
    },
    {
     "name": "stdout",
     "output_type": "stream",
     "text": [
      "CPU times: user 3min 30s, sys: 3min 41s, total: 7min 12s\n",
      "Wall time: 9min 16s\n"
     ]
    }
   ],
   "source": [
    "%%time\n",
    "\n",
    "# load orginal Buccino (already bandpass filtered 300 - 6000 Hz)\n",
    "RecordingBucci = si.load_extractor(RECORDING_BUCCINO_PATH)\n",
    "RecordingBucci.set_property('location', RecordingBucci.get_property('location')[:,:2]) # set 2D channel location for spatial metrics\n",
    "GtBucci = si.load_extractor(GROUND_TRUTH_BUCCINO_PATH)\n",
    "\n",
    "# load Buccino clone (already bandpass filtered 300 - 6000 Hz)\n",
    "RecordingRep = si.load_extractor(RECORDING_REP_PATH)\n",
    "RecordingRep.set_property('location', RecordingRep.get_property('location')[:,:2])\n",
    "GtRep = si.load_extractor(GROUND_TRUTH_REP_PATH)\n",
    "\n",
    "# load Buccino S2 (already bandpass filtered 300 - 6000 Hz)\n",
    "RecordingS2 = si.load_extractor(RECORDING_S2_PATH)\n",
    "RecordingS2.set_property('location', RecordingS2.get_property('location')[:,:2])\n",
    "GtS2 = si.load_extractor(GROUND_TRUTH_S2_PATH)\n",
    "\n",
    "# load Buccino S3 (already bandpass filtered 300 - 6000 Hz)\n",
    "RecordingS3 = si.load_extractor(RECORDING_S3_PATH)\n",
    "RecordingS3.set_property('location', RecordingS3.get_property('location')[:,:2])\n",
    "GtS3 = si.load_extractor(GROUND_TRUTH_S3_PATH)\n",
    "\n",
    "# load Buccino S4 (already bandpass filtered 300 - 6000 Hz)\n",
    "RecordingS4 = si.load_extractor(RECORDING_S4_PATH)\n",
    "RecordingS4.set_property('location', RecordingS4.get_property('location')[:,:2])\n",
    "GtS4 = si.load_extractor(GROUND_TRUTH_S4_PATH)\n",
    "\n",
    "# load Buccino S4 (already bandpass filtered 300 - 6000 Hz)\n",
    "RecordingS5 = si.load_extractor(RECORDING_S5_PATH)\n",
    "RecordingS5.set_property('location', RecordingS5.get_property('location')[:,:2])\n",
    "GtS5 = si.load_extractor(GROUND_TRUTH_S5_PATH)\n",
    "\n",
    "# load npx_spont (preprocessed high-pass filtered >300 Hz)\n",
    "RecordingNS = si.load_extractor(RECORDING_NS_PATH)\n",
    "RecordingNS.set_property('location', RecordingNS.get_property('location')[:,:2])\n",
    "GtNS = si.load_extractor(GROUND_TRUTH_NS_PATH)\n",
    "GtNS = remove_excess_spikes(GtNS, RecordingNS)\n",
    "GtNS = GtNS.frame_slice(start_frame=0, end_frame=RecordingNS.get_sampling_frequency() * DURATION_S)\n",
    "\n",
    "# create Sorting Analyzers (to analyse waveforms)\n",
    "# to check parameters: analyzer_bucci.get_default_extension_params(\"waveforms\")\n",
    "\n",
    "# create sorting analyzers\n",
    "analyzer_ns = si.create_sorting_analyzer(sorting=GtNS, recording=RecordingNS, format=\"memory\")\n",
    "analyzer_ns.compute(['random_spikes', 'waveforms', 'templates', 'noise_levels', 'spike_amplitudes'], extension_params=extension_params, save=False)\n",
    "analyzer_ns.sparsity = compute_sparsity(templates_or_sorting_analyzer=analyzer_ns, method=\"radius\", radius_um=100)\n",
    "\n",
    "analyzer_bucci = si.create_sorting_analyzer(sorting=GtBucci, recording=RecordingBucci, format=\"memory\")\n",
    "analyzer_bucci.compute(['random_spikes', 'waveforms', 'templates', 'noise_levels', 'spike_amplitudes'], extension_params=extension_params, save=False)\n",
    "analyzer_bucci.sparsity = compute_sparsity(templates_or_sorting_analyzer=analyzer_bucci, method=\"radius\", radius_um=100)\n",
    "\n",
    "analyzer_rep = si.create_sorting_analyzer(sorting=GtRep, recording=RecordingRep, format=\"memory\")\n",
    "analyzer_rep.compute(['random_spikes', 'waveforms', 'templates', 'noise_levels', 'spike_amplitudes'], extension_params=extension_params, save=False)\n",
    "analyzer_rep.sparsity = compute_sparsity(templates_or_sorting_analyzer=analyzer_rep, method=\"radius\", radius_um=100)\n",
    "analyzer_s2 = si.create_sorting_analyzer(sorting=GtS2, recording=RecordingS2, format=\"memory\")\n",
    "analyzer_s2.compute(['random_spikes', 'waveforms', 'templates', 'noise_levels', 'spike_amplitudes'], extension_params=extension_params, save=False)\n",
    "analyzer_s2.sparsity = compute_sparsity(templates_or_sorting_analyzer=analyzer_s2, method=\"radius\", radius_um=100)\n",
    "\n",
    "analyzer_s3 = si.create_sorting_analyzer(sorting=GtS3, recording=RecordingS3, format=\"memory\")\n",
    "analyzer_s3.compute(['random_spikes', 'waveforms', 'templates', 'noise_levels', 'spike_amplitudes'], extension_params=extension_params, save=False)\n",
    "analyzer_s3.sparsity = compute_sparsity(templates_or_sorting_analyzer=analyzer_s3, method=\"radius\", radius_um=100)\n",
    "\n",
    "analyzer_s4 = si.create_sorting_analyzer(sorting=GtS4, recording=RecordingS4, format=\"memory\")\n",
    "analyzer_s4.compute(['random_spikes', 'waveforms', 'templates', 'noise_levels', 'spike_amplitudes'], extension_params=extension_params, save=False)\n",
    "analyzer_s4.sparsity = compute_sparsity(templates_or_sorting_analyzer=analyzer_s4, method=\"radius\", radius_um=100)\n",
    "\n",
    "analyzer_s5 = si.create_sorting_analyzer(sorting=GtS5, recording=RecordingS5, format=\"memory\")\n",
    "analyzer_s5.compute(['random_spikes', 'waveforms', 'templates', 'noise_levels', 'spike_amplitudes'], extension_params=extension_params, save=False)\n",
    "analyzer_s5.sparsity = compute_sparsity(templates_or_sorting_analyzer=analyzer_s5, method=\"radius\", radius_um=100)"
   ]
  },
  {
   "cell_type": "markdown",
   "metadata": {},
   "source": [
    "## Compute features\n",
    "\n",
    "- Execution time: 3 min\n",
    "\n",
    "- **amplitude**: serves to verify that it does not depends on firing rate and range. Any change in the measured SNR would be induced by change in the measured level of background noise.\n",
    "- **MAD ratio**: Values close to 1 indicate a good isolation of the unit. i.e., the mean absolute deviation of the spike amplitude is similar to the mean absolute deviation of the noise amplitude.\n",
    "- **exp_decay**: the exponential decay in um of the template amplitude over distance.\n",
    "- **spread**:  the spread in um of the template amplitude over distance\n",
    "- **velocity above**: the velocity in um/s above the max channel of the template\n",
    "- **velocity below**: the velocity in um/s below the max channel of the template"
   ]
  },
  {
   "cell_type": "code",
   "execution_count": 6,
   "metadata": {},
   "outputs": [
    {
     "name": "stdout",
     "output_type": "stream",
     "text": [
      "CPU times: user 1min 32s, sys: 20.9 ms, total: 1min 32s\n",
      "Wall time: 1min 32s\n"
     ]
    }
   ],
   "source": [
    "%%time\n",
    "\n",
    "# compute feature dataset for each experiment\n",
    "features_bucci = compute_features(RecordingBucci, GtBucci, analyzer_bucci) # Buccino\n",
    "features_rep = compute_features(RecordingRep, GtRep, analyzer_rep) # Buccino replicates\n",
    "features_s2 = compute_features(RecordingS2, GtS2, analyzer_s2) # matched cell-to-cell, -to-site distances, density, count\n",
    "features_s3 = compute_features(RecordingS3, GtS3, analyzer_s3) # matched firing rate\n",
    "features_s4 = compute_features(RecordingS4, GtS4, analyzer_s4) # matched firing range\n",
    "features_s5 = compute_features(RecordingS5, GtS5, analyzer_s5) # matched SNR\n",
    "\n",
    "# compute feature dataset for biophysical model\n",
    "spatial_metrics = get_spatial_metrics(analyzer_ns)\n",
    "features_ns = {\n",
    "    'cell_to_site_distance_ns': get_cell_to_site_distance(RecordingNS, GtNS),\n",
    "    'cell_distance_ns': get_cell_to_cell_distances(GtNS),\n",
    "    'firing_rates_ns': get_firing_rates(GtNS, duration_s=600),\n",
    "    'firing_ranges_ns': get_firing_ranges(analyzer_ns),\n",
    "    'snrs_ns': get_waveform_snr(analyzer_ns),\n",
    "    'amplitudes_ns': get_waveform_amplitude_medians(analyzer_ns),\n",
    "    'spreads_simi_weighted_distance_ns': get_spatial_spread_all_units(RecordingNS, analyzer_ns, peak_sign=\"neg\"),\n",
    "    'si_spread_ns': spatial_metrics['spread'],\n",
    "    'mad_ratios_ns': get_mad_ratios(analyzer_ns),\n",
    "    'peak_to_valley_ns': spatial_metrics['peak_to_valley'],\n",
    "    'repolarization_slope_ns': spatial_metrics['repolarization_slope'],\n",
    "    'exp_decay_ns': spatial_metrics['exp_decay'],\n",
    "    'velocity_above_ns': spatial_metrics['velocity_above'],\n",
    "    'velocity_below_ns': spatial_metrics['velocity_below']\n",
    "}"
   ]
  },
  {
   "cell_type": "markdown",
   "metadata": {},
   "source": [
    "## Plot features"
   ]
  },
  {
   "cell_type": "code",
   "execution_count": 8,
   "metadata": {},
   "outputs": [
    {
     "name": "stdout",
     "output_type": "stream",
     "text": [
      "CPU times: user 4.11 s, sys: 0 ns, total: 4.11 s\n",
      "Wall time: 4.11 s\n"
     ]
    },
    {
     "data": {
      "image/png": "[encoded data removed]",
      "text/plain": [
       "<Figure size 1000x1000 with 84 Axes>"
      ]
     },
     "metadata": {},
     "output_type": "display_data"
    }
   ],
   "source": [
    "%%time\n",
    "\n",
    "# setup plot\n",
    "fig, axes = plt.subplots(14, 6, figsize=(10,10))\n",
    "text_params = {'s':'Matched', 'ha':'right', 'va':'top', 'fontsize':8, 'color':'red'}\n",
    "\n",
    "# Buccino\n",
    "col = 0\n",
    "ax = plot_features(axes, col, features_bucci, features_ns, title='Buccino')\n",
    "\n",
    "# Buccino replicates\n",
    "col = 1\n",
    "ax = plot_features(axes, col, features_rep, features_ns, title='Buccino replicate')\n",
    "for axi in ax[:, col]: axi.set_ylabel(None) \n",
    "\n",
    "# Intermediate mearec with matched cell-to-cell, -to-site distances, density, count\n",
    "col = 2\n",
    "ax = plot_features(axes, col, features_s2, features_ns, title='Synthetic 2')\n",
    "for row in range(2): ax[row, col].text(ax[row,col].get_xlim()[1], 100, **text_params)\n",
    "for axi in ax[:, col]: axi.set_ylabel(None) \n",
    "\n",
    "# Intermediate mearec with matched firing rate\n",
    "col = 3\n",
    "ax = plot_features(axes, col, features_s3, features_ns, title='Synthetic 3')\n",
    "for row in range(3): ax[row, col].text(ax[row,col].get_xlim()[1], 100, **text_params)\n",
    "for axi in ax[:, col]: axi.set_ylabel(None) \n",
    "\n",
    "# Intermediate mearec with matched firing range\n",
    "col = 4\n",
    "ax = plot_features(axes, col, features_s4, features_ns, title='Synthetic 4')\n",
    "for row in range(4): ax[row, col].text(ax[row,col].get_xlim()[1], 100, **text_params)\n",
    "for axi in ax[:, col]: axi.set_ylabel(None) \n",
    "\n",
    "# Intermediate mearec with matched SNR\n",
    "col = 5\n",
    "ax = plot_features(axes, col, features_s5, features_ns, title='Synthetic 5')\n",
    "for row in range(5): ax[row, col].text(ax[row,col].get_xlim()[1], 100, **text_params)\n",
    "for axi in ax[:, col]: axi.set_ylabel(None) \n",
    "\n",
    "# Identify Macroscopic features and waveform spatio-temporal features with super title\n",
    "fig.text(0.5, 1, \"Macroscopic spiking features\", ha=\"center\", va=\"bottom\", fontsize=8)\n",
    "fig.text(0.5, 0.705, \"Waveform spatial & temporal features\", ha=\"center\", va=\"bottom\", fontsize=8)\n",
    "\n",
    "# aesthetics\n",
    "fig.tight_layout(pad=0.2)\n",
    "\n",
    "# save fig\n",
    "plt.savefig(\"figures/7_reviews/figA_pros_of_details_matching_features.svg\", **savefig_cfg)\n",
    "plt.savefig(\"figures/7_reviews/figA_pros_of_details_matching_features.pdf\", **savefig_cfg)"
   ]
  },
  {
   "cell_type": "markdown",
   "metadata": {},
   "source": [
    "## Compute/plot yields"
   ]
  },
  {
   "cell_type": "code",
   "execution_count": null,
   "metadata": {},
   "outputs": [],
   "source": [
    "# plot parameters\n",
    "FIGSIZE = (5.5, 2.2)\n",
    "SHIFT = 0.3\n",
    "exp_names = ('Buccino', 'Buccino\\nrep', 's2\\ncell count', 's3\\nf.rate', 's4\\nf.range', 's5:SNR', 'NS')\n",
    "number_pos = {'exp1_x':-0.3 + SHIFT, 'exp1_y_su': 0.2, 'exp1_y_mu': 0.8,\n",
    "              'exp2_x': 0.7 + SHIFT, 'exp2_y_su': 0.2, 'exp2_y_mu': 0.8,\n",
    "              'exp3_x': 1.7 + SHIFT, 'exp3_y_su': 0.2, 'exp3_y_mu': 0.87,\n",
    "              'exp4_x': 2.7 + SHIFT, 'exp4_y_su': 0.2, 'exp4_y_mu': 0.87,\n",
    "              'exp5_x': 3.7 + SHIFT, 'exp5_y_su': 0.2, 'exp5_y_mu': 0.87,\n",
    "              'exp6_x': 4.7 + SHIFT, 'exp6_y_su': 0.2, 'exp6_y_mu': 0.87,\n",
    "              'exp7_x': 5.7 + SHIFT, 'exp7_y_su': 0.2, 'exp7_y_mu': 0.87}\n",
    "legend_cfg = {\"frameon\": False, \"handletextpad\": 0.1}"
   ]
  },
  {
   "cell_type": "code",
   "execution_count": null,
   "metadata": {},
   "outputs": [
    {
     "data": {
      "image/png": "[encoded data removed]",
      "text/plain": [
       "<Figure size 550x220 with 1 Axes>"
      ]
     },
     "metadata": {},
     "output_type": "display_data"
    }
   ],
   "source": [
    "# compute data\n",
    "plot_data = process_each_experiment(SORTED_ks4_paths['Buccino'], SORTED_ks4_paths['Buccino\\nrep'], \n",
    "                                    SORTED_ks4_paths['s2\\ncell count'], SORTED_ks4_paths['s3\\nf.rate'], SORTED_ks4_paths['s4\\nf.range'], \n",
    "                                    SORTED_ks4_paths['s5:SNR'], SORTED_ks4_paths['NS'], exp_names)\n",
    "\n",
    "# setup plot\n",
    "_, ax = plt.subplots(1,1,figsize=FIGSIZE)\n",
    "\n",
    "# plot (white: single-unit; black: multi-units)\n",
    "isolation.plot_unit_isolation_pros_of_added_detailed(ax, plot_data['Buccino'], \n",
    "                                                     plot_data['Buccino\\nrep'], plot_data['s2\\ncell count'], plot_data['s3\\nf.rate'], \n",
    "                                                     plot_data['s4\\nf.range'], plot_data['s5:SNR'], plot_data['NS'], \n",
    "                                                     legend_cfg, number_pos, exp_names)\n",
    "\n",
    "# legend\n",
    "ax.set_yticks([0, 0.25, 0.5, 0.75, 1], [0, 0.25, 0.5, 0.75, 1])\n",
    "ax.set_title('Linking the Buccino model with the biophysical model')\n",
    "plt.tight_layout()\n",
    "\n",
    "# save figures\n",
    "plt.savefig(\"figures/7_reviews/figB_pros_of_details_yield.svg\", **savefig_cfg)\n",
    "plt.savefig(\"figures/7_reviews/figB_pros_of_details_yield.pdf\", **savefig_cfg)"
   ]
  },
  {
   "cell_type": "markdown",
   "metadata": {},
   "source": [
    "## Supplementary methods"
   ]
  },
  {
   "cell_type": "markdown",
   "metadata": {},
   "source": [
    "TODO:\n",
    "- number of single-units should increase by f^3 (upper bound)\n",
    "- conclusion: it is important to use biological cell densities, which we use."
   ]
  },
  {
   "cell_type": "markdown",
   "metadata": {},
   "source": [
    "### Cell locations\n",
    "\n",
    "- The MEA probes are located on the yz plane, with an adjustable x-offset (offset) set to 0  by default."
   ]
  },
  {
   "cell_type": "code",
   "execution_count": null,
   "metadata": {},
   "outputs": [
    {
     "name": "stdout",
     "output_type": "stream",
     "text": [
      "x (depth):\n",
      "-min: -49.928803122976774\n",
      "-max: 49.8361459345757\n",
      "\n",
      "y:\n",
      "-min: -73.96579222038521\n",
      "-max: 73.79318388072528\n",
      "\n",
      "z:\n",
      "-min: -1000.5337516271763\n",
      "-max: 1000.807144455734\n",
      "\n",
      "x (depth):\n",
      "-min: 3263.91095188888\n",
      "-max: 4562.37147835935\n",
      "\n",
      "y:\n",
      "-min: -1485.1126678433502\n",
      "-max: -987.4235813424148\n",
      "\n",
      "z:\n",
      "-min: -3233.206345506907\n",
      "-max: -1723.7586189692386\n",
      "S2 sites x-pitch:  40.0\n",
      "S2 sites y-pitch:  25.612496949731394\n",
      "S2 sites x-pitch: 39.99999999999982\n",
      "S2 sites x-pitch: 25.612496949731355\n",
      "max cell to cell distance: 2004.5641900203805\n",
      "max cell to cell distance: 2002.312123185693\n"
     ]
    },
    {
     "data": {
      "image/png": "[encoded data removed]",
      "text/plain": [
       "<Figure size 800x250 with 3 Axes>"
      ]
     },
     "metadata": {},
     "output_type": "display_data"
    }
   ],
   "source": [
    "# get S2 cell locations\n",
    "GtS2 = si.load_extractor(GROUND_TRUTH_S2_PATH)\n",
    "locS2 = GtS2.get_property('soma_position')\n",
    "\n",
    "print('x (depth):')\n",
    "print('-min:', locS2[:,0].min())\n",
    "print('-max:', locS2[:,0].max())\n",
    "print('\\ny:')\n",
    "print('-min:', locS2[:,1].min())\n",
    "print('-max:', locS2[:,1].max())\n",
    "print('\\nz:')\n",
    "print('-min:', locS2[:,2].min())\n",
    "print('-max:', locS2[:,2].max())\n",
    "\n",
    "# get NS cell locations\n",
    "GtNS = si.load_extractor(GROUND_TRUTH_NS_PATH)\n",
    "loc = get_cell_locations(GtNS)\n",
    "\n",
    "print('\\nx (depth):')\n",
    "print('-min:', loc[:,0].min())\n",
    "print('-max:', loc[:,0].max())\n",
    "print('\\ny:')\n",
    "print('-min:', loc[:,1].min())\n",
    "print('-max:', loc[:,1].max())\n",
    "print('\\nz:')\n",
    "print('-min:', loc[:,2].min())\n",
    "print('-max:', loc[:,2].max())\n",
    "\n",
    "# setup plot\n",
    "fig, ax = plt.subplots(1,3, figsize=(8,2.5))\n",
    "\n",
    "# plot synthetic model with matched cell count, density and cell-to-cell distances, and electrodes\n",
    "GtS2 = si.load_extractor(GROUND_TRUTH_S2_PATH)\n",
    "locS2 = GtS2.get_property('soma_position')\n",
    "\n",
    "recS2 = si.load_extractor(RECORDING_S2_PATH)\n",
    "site_locS2 = recS2.get_property('location')\n",
    "site_locS2 = np.insert(site_locS2, 0, 0, axis=1)\n",
    "print('S2 sites x-pitch: ', _euclidean_distance(site_locS2[0,:], site_locS2[1,:]))\n",
    "print('S2 sites y-pitch: ', _euclidean_distance(site_locS2[0,:], site_locS2[96,:]))\n",
    "\n",
    "# yz plane\n",
    "ax[0].plot(locS2[:,1], locS2[:,2],'.')\n",
    "ax[0].plot(site_locS2[:,1], site_locS2[:,2],'.')\n",
    "ax[0].set_xlabel('y')\n",
    "ax[0].set_ylabel('z')\n",
    "ax[0].set_title('S2 yz plane')\n",
    "\n",
    "# xy plane\n",
    "ax[1].plot(locS2[:,0], locS2[:,1],'.')\n",
    "ax[1].plot(site_locS2[:,0], site_locS2[:,1],'.')\n",
    "ax[1].set_xlabel('x')\n",
    "ax[1].set_ylabel('y')\n",
    "ax[1].set_title('S2 xy plane')\n",
    "\n",
    "#plt.tight_layout()\n",
    "\n",
    "# plot npx_spont cells and electrodes\n",
    "GtNS = si.load_extractor(GROUND_TRUTH_NS_PATH)\n",
    "locNS = get_cell_locations(GtNS)\n",
    "\n",
    "recNS = si.load_extractor(RECORDING_NS_PATH)\n",
    "site_locNS = recNS.get_property('location')\n",
    "print('S2 sites x-pitch:', _euclidean_distance(site_locNS[0,:], site_locNS[1,:]))\n",
    "print('S2 sites x-pitch:', _euclidean_distance(site_locNS[0,:], site_locNS[96,:]))\n",
    "\n",
    "ax[2].plot(locNS[:,0], locNS[:,1],'.')\n",
    "ax[2].plot(site_locNS[:,0], site_locNS[:,1],'.')\n",
    "ax[2].set_xlabel('x')\n",
    "ax[2].set_ylabel('y')\n",
    "ax[2].set_title('NS xy plane')\n",
    "\n",
    "# print max cell distance\n",
    "d = cdist(locNS, locNS)\n",
    "np.fill_diagonal(d, np.nan)\n",
    "print('max cell to cell distance:', np.nanmax(d))\n",
    "\n",
    "# print max cell distance\n",
    "d = cdist(locS2, locS2)\n",
    "np.fill_diagonal(d, np.nan)\n",
    "print('max cell to cell distance:', np.nanmax(d))\n",
    "\n",
    "plt.tight_layout()\n"
   ]
  },
  {
   "cell_type": "markdown",
   "metadata": {},
   "source": [
    "### Cell pairwise distances"
   ]
  },
  {
   "cell_type": "code",
   "execution_count": null,
   "metadata": {},
   "outputs": [
    {
     "name": "stdout",
     "output_type": "stream",
     "text": [
      "Mean cell distance:\n",
      "Buccino: 36.16760719122846 um\n",
      "S1: 35.56426540656586 um\n",
      "S2: 15.64415297126333 um\n",
      "NS: 14.802049129567246 um\n",
      "\n",
      "Minimum cell distance:\n",
      "Buccino: 25.13684631204283 um\n",
      "S1: 25.03584769039252 um\n",
      "S2: 1.2471938050173546 um\n",
      "NS: 1.648893994466453 um\n",
      "\n",
      "Maximum cell distance:\n",
      "Buccino: 66.31955554043584 um\n",
      "S1: 64.09897230197934 um\n",
      "S2: 44.079076800718525 um\n",
      "NS: 44.11195332754986 um\n"
     ]
    },
    {
     "data": {
      "image/png": "[encoded data removed]",
      "text/plain": [
       "<Figure size 250x250 with 1 Axes>"
      ]
     },
     "metadata": {},
     "output_type": "display_data"
    }
   ],
   "source": [
    "# plot\n",
    "fig, ax = plt.subplots(1,1, figsize=(2.5, 2.5))\n",
    "\n",
    "# cell pairwise distances Buccino\n",
    "GtBuccino = si.load_extractor(GROUND_TRUTH_BUCCINO_PATH)\n",
    "loc = GtBuccino.get_property('soma_location')\n",
    "d_buccino = cdist(loc, loc, metric='euclidean')\n",
    "np.fill_diagonal(d_buccino, np.nan)\n",
    "d_buccino = np.nanmin(d_buccino, axis=0)\n",
    "ax.hist(d_buccino, facecolor='None', edgecolor='b')\n",
    "\n",
    "# cell pairwise distances S1\n",
    "GtS1 = si.load_extractor(GROUND_TRUTH_REP_PATH)\n",
    "d_s1 = get_cell_to_cell_distances(GtS1)\n",
    "ax.hist(d_s1, facecolor='None', edgecolor='k')\n",
    "\n",
    "# cell pairwise distances S2\n",
    "GtS2 = si.load_extractor(GROUND_TRUTH_S2_PATH)\n",
    "d_s2 = get_cell_to_cell_distances(GtS2)\n",
    "ax.hist(d_s2, facecolor='None', edgecolor='g')\n",
    "\n",
    "# cell pairwise distances NS\n",
    "GtNS = si.load_extractor(GROUND_TRUTH_NS_PATH)\n",
    "d_ns = get_cell_to_cell_distances(GtNS)\n",
    "ax.hist(d_ns, facecolor='None', edgecolor='r');\n",
    "ax.set_xlabel('Cell-to-cell distance (um)');\n",
    "ax.set_ylabel('Number of cells (count)');\n",
    "ax.legend(['Buccino', 'S1','S2', 'NS'])\n",
    "\n",
    "print('Mean cell distance:')\n",
    "print('Buccino:', d_buccino.mean(), 'um')\n",
    "print('S1:', d_s1.mean(), 'um')\n",
    "print('S2:', d_s2.mean(), 'um')\n",
    "print('NS:', d_ns.mean(), 'um')\n",
    "\n",
    "print('\\nMinimum cell distance:')\n",
    "print('Buccino:', d_buccino.min(), 'um')\n",
    "print('S1:', d_s1.min(), 'um')\n",
    "print('S2:', d_s2.min(), 'um')\n",
    "print('NS:', d_ns.min(), 'um')\n",
    "\n",
    "print('\\nMaximum cell distance:')\n",
    "print('Buccino:', d_buccino.max(), 'um')\n",
    "print('S1:', d_s1.max(), 'um')\n",
    "print('S2:', d_s2.max(), 'um')\n",
    "print('NS:', d_ns.max(), 'um')"
   ]
  },
  {
   "cell_type": "markdown",
   "metadata": {},
   "source": [
    "### Nb of cells w/n 50 um"
   ]
  },
  {
   "cell_type": "code",
   "execution_count": null,
   "metadata": {},
   "outputs": [
    {
     "name": "stdout",
     "output_type": "stream",
     "text": [
      "S1 - number of cells: 214\n",
      "S2 -  number of cells: 1189\n",
      "NS - number of cells: 1388\n",
      "CPU times: user 42.1 ms, sys: 0 ns, total: 42.1 ms\n",
      "Wall time: 41.8 ms\n"
     ]
    }
   ],
   "source": [
    "%%time\n",
    "# load dataset\n",
    "RecordingS1 = si.load_extractor(RECORDING_REP_PATH)\n",
    "SortingGtS1 = si.load_extractor(GROUND_TRUTH_REP_PATH)\n",
    "\n",
    "# get cell and site positions\n",
    "site_pos = RecordingS1.get_channel_locations()\n",
    "site_pos = np.hstack((np.zeros((site_pos.shape[0], 1)), site_pos))\n",
    "cell_pos = np.array([SortingGtS1.get_property('x'), SortingGtS1.get_property('y'), SortingGtS1.get_property('z')]).T\n",
    "unit_ids = SortingGtS1.unit_ids\n",
    "\n",
    "num_cells = count_near_cells_within_radius(site_pos, cell_pos, unit_ids, radius=50)\n",
    "print('S1 - number of cells:', num_cells)\n",
    "\n",
    "# load dataset\n",
    "RecordingS2 = si.load_extractor(RECORDING_S2_PATH)\n",
    "SortingGtS2 = si.load_extractor(GROUND_TRUTH_S2_PATH)\n",
    "\n",
    "# get cell and site positions\n",
    "site_pos = RecordingS2.get_channel_locations()\n",
    "site_pos = np.hstack((np.zeros((site_pos.shape[0], 1)), site_pos))\n",
    "cell_pos = np.array([SortingGtS2.get_property('x'), SortingGtS2.get_property('y'), SortingGtS2.get_property('z')]).T\n",
    "unit_ids = SortingGtS2.unit_ids\n",
    "\n",
    "num_cells = count_near_cells_within_radius(site_pos, cell_pos, unit_ids, radius=50)\n",
    "print('S2 -  number of cells:', num_cells)\n",
    "\n",
    "# load dataset\n",
    "RecordingNS = si.load_extractor(RECORDING_NS_PATH)\n",
    "SortingGtNS = si.load_extractor(GROUND_TRUTH_NS_PATH)\n",
    "\n",
    "# get cell and site positions\n",
    "cell_pos_ns = np.array([SortingGtNS.get_property('x'), SortingGtNS.get_property('y'), SortingGtNS.get_property('z')]).T\n",
    "site_pos_ns = RecordingNS.get_property('location')\n",
    "unit_ids = SortingGtNS.unit_ids\n",
    "\n",
    "# count cells w/n radius of the electrodes\n",
    "num_cells = count_near_cells_within_radius(site_pos_ns, cell_pos_ns, unit_ids, radius=50)\n",
    "print('NS - number of cells:', num_cells)"
   ]
  },
  {
   "cell_type": "markdown",
   "metadata": {},
   "source": [
    "### Exc and inh cell counts"
   ]
  },
  {
   "cell_type": "code",
   "execution_count": null,
   "metadata": {},
   "outputs": [],
   "source": [
    "# SortingGtNS = si.load_extractor(GROUND_TRUTH_NS_PATH)\n",
    "# print('inh count', len(np.array(firing_rates)[SortingGtNS.get_property('synapse_class')=='INH']))\n",
    "# print('exc count', len(np.array(firing_rates)[SortingGtNS.get_property('synapse_class')=='EXC']))"
   ]
  },
  {
   "cell_type": "markdown",
   "metadata": {},
   "source": [
    "# References\n",
    "\n",
    "see https://spikeinterface.github.io/blog/collision-paper-generate-recordings/"
   ]
  }
 ],
 "metadata": {
  "kernelspec": {
   "display_name": "mearec_si_0_100_3",
   "language": "python",
   "name": "python3"
  },
  "language_info": {
   "codemirror_mode": {
    "name": "ipython",
    "version": 3
   },
   "file_extension": ".py",
   "mimetype": "text/x-python",
   "name": "python",
   "nbconvert_exporter": "python",
   "pygments_lexer": "ipython3",
   "version": "3.9.7"
  }
 },
 "nbformat": 4,
 "nbformat_minor": 2
}
