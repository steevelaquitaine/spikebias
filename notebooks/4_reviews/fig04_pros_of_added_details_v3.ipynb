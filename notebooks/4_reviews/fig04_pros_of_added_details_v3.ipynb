{
 "cells": [
  {
   "cell_type": "markdown",
   "metadata": {},
   "source": [
    "# Pros of adding details\n",
    "\n"
   ]
  },
  {
   "cell_type": "markdown",
   "metadata": {},
   "source": [
    "## Description"
   ]
  },
  {
   "cell_type": "markdown",
   "metadata": {},
   "source": [
    "author: laquitainesteeve@gmail.com\n",
    "\n",
    "Execution time:\n",
    "\n",
    "Tested on Ubuntu 24.04.1 LTS (32 cores, 188 GB RAM, Intel(R) Core(TM) i9-14900K ＠3.2 GHz/5.8 GHz) with RTX 5090 GPU with 40GB VRAM (GPU not needed)\n",
    "\n",
    "Prerequisites:\n",
    "- storage: 13 GB for 1,500 templates\n",
    "- RAM: 187 GB to simulate synthetic model with matched cell count & density to npx_spont.\n",
    "\n",
    "RESULTS:\n",
    "\n",
    "- **cell density**: \n",
    "    - The Buccino model places neurons sparsely in space, unrealistically so compared to real brain tissue. With fewer neurons, each spike is cleaner, and less overlapping occurs, thus spike sorting is easier. High-cell density should cell density should make spike sorting difficult since many similar waveforms will be picked up by each electrode, due to increased signal overlap, noise, and spike separability.\n",
    "    - Consequence: With low-density cells and high yield, one can easily increase the yield by adding more electrodes, as each electrode would capture distinct spikes and more spatial sampling should increase the number of detected units. But if cell density is high and we only capture 10% of the neurons, adding more probes will not scale the yield linearly. You'll still get many overlapping spikes at each site. You'll hit the same separability limits. To improve yield in this case, you must increase electrode density (more sites per mm, closer spacing), which would produce better spatial resolution for disentangling overlapping spikes.\n",
    "    - Reproducing experimentally-validated cell density and number of cells within 50 micron, allows us to make precise quantitative predictions about the single-unit and multi-unit yields that should be observed in vivo, which are experimentally testable.\n",
    "    - **distribution of cell pairwise distances**: this parameter cannot be controlled to match experimentally validated locations, constrained by cell morphologies. Only the minimum distance can be controlled and the cells are randomly positioned. We position cells based identified in vivo constrains.\n",
    "        - With the default overhang of 30 um, and 250 simulated cells, it is not possible to reproduce the average cell distances and density observed in vivo with mearec. Even a minimum distance of 0 um (min_dist paramer) produces an average cell distance of 29 um which is twice the in vivo distance of 14.8 um. The best match we can obtain is an average distance of 29 um, minimum of 4.8 um and max of 91 um against 15, 1.6 and 44 ums in the biophysical model. The original Buccino model display much larger values with 36, 25 and 66 ums.\n",
    "        - One needs to increase the number of cells to match in vivo count within 50 um and to reduce the overhang to 20 um, in addition a minimum distance of 0 um.\n",
    "\n",
    "`- **exc/inh ratio**: Buccino has twice more inhibitory relative to the inhibitory/excitatory ratio seen in vivo. Because the modeled inhibitory cells \n",
    "have higher firing rates than excitatory cells, this model will predict higher single-unit yield and sorting accuracy.\n",
    "\n",
    "\n",
    "Methods:\n",
    "\n",
    "- Buccino model: we assumed the model uses the default parameters, with each site model with a spatial extent of 10 contacts (ncontacts=10), with an x offset of 0, such that the MEA is not centered in the cell population.\n",
    "    - 250 neurons: \n",
    "    - neuron locations cannot be closer than the min_dist parameter (default 25)\n",
    "    - no cell metadata\n",
    "    - channel location at x are all zero (default, inferred from doing running simulations) \n",
    "\n",
    "- We simulated one intermediate dataset with the same cell counts as npx_spont (100GB, 78 min). Because yield did not decrease to match npx_spont, but rather increased we simulated lower cell counts, we hereafter simulate a lower cell counts with the same exc/inh ratio (25GB, 23) for its efficiency. 10 simulations require take 1 TB storage! This setup is much faster to sort (10 min max)\n",
    "\n",
    "- Buccino's model overhang: 30 (default) # extension in un beyond MEA boundaries for neuron locations (if lim is null)\n",
    "\n",
    "- firing_range: no max_rate parameters so we matched min_rate, and firing exc and inh stds and check the resulting max_rate\n",
    "\n",
    "DONE: \n",
    "\n",
    "- created 1,500 templates common to all simulations\n",
    "- sort buccino rep\n",
    "- sort synth2 - cell density|count \n",
    "\n",
    "DOING:\n",
    "\n",
    "- simulate synth3 - firing rates (running) ...\n",
    "\n",
    "TODO:\n",
    "\n",
    "- sort synth3 - firing rates ...\n",
    "- upload the recordings, ground truths & sorting extractors to dandi archive (if possible) [DOING]\n"
   ]
  },
  {
   "cell_type": "markdown",
   "metadata": {},
   "source": [
    "## Setup \n",
    "\n",
    "Activate mearec virtual environment"
   ]
  },
  {
   "cell_type": "code",
   "execution_count": 226,
   "metadata": {},
   "outputs": [
    {
     "name": "stdout",
     "output_type": "stream",
     "text": [
      "The autoreload extension is already loaded. To reload it, use:\n",
      "  %reload_ext autoreload\n",
      "CPU times: user 1.25 ms, sys: 0 ns, total: 1.25 ms\n",
      "Wall time: 1.18 ms\n"
     ]
    }
   ],
   "source": [
    "%%time\n",
    "%load_ext autoreload\n",
    "%autoreload 2\n",
    "\n",
    "# import packages\n",
    "import os \n",
    "import MEArec as mr\n",
    "import numpy as np\n",
    "import spikeinterface.extractors as se \n",
    "import spikeinterface.sorters as sorters \n",
    "import spikeinterface.comparison as sc  \n",
    "from matplotlib import pyplot as plt;\n",
    "import spikeinterface as si\n",
    "from spikeinterface.curation import remove_excess_spikes\n",
    "from spikeinterface import extract_waveforms\n",
    "import spikeinterface.qualitymetrics as sqm\n",
    "import spikeinterface.core.template_tools as ttools\n",
    "from numpy.linalg import norm as lalgnorm\n",
    "import warnings\n",
    "from scipy.spatial.distance import cdist\n",
    "import json \n",
    "\n",
    "warnings.filterwarnings('ignore')\n",
    "\n",
    "# SET PROJECT PATH\n",
    "\n",
    "PROJ_PATH = \"/home/steeve/steeve/epfl/code/spikebias/\"\n",
    "os.chdir(PROJ_PATH)\n",
    "\n",
    "# import custom package\n",
    "from src.nodes.validation import firing_rate as fr\n",
    "from src.nodes.analysis.failures import isolation\n",
    "\n",
    "# parameters\n",
    "DURATION_S = 600 # duration of recording period considered in seconds\n",
    "\n",
    "# SET DATA PATHS\n",
    "\n",
    "# original buccino simulation\n",
    "RECORDING_BUCCINO_PATH = 'dataset/01_intermediate/preprocessing/recording_buccino/'\n",
    "GROUND_TRUTH_BUCCINO_PATH = 'dataset/00_raw/ground_truth_buccino/'\n",
    "WAVEFORM_GT_BUCCINO_PATH =  './temp/pros_of_details/waveformextractor_buccino/'\n",
    "\n",
    "# setup simulation common template parameters\n",
    "DATA_PATH = './temp/pros_of_details/'\n",
    "CELLS_PATH = mr.get_default_cell_models_folder()\n",
    "\n",
    "# parameter Buccino replicate\n",
    "TEMPLATE_PARAMS_PATH = './assets/mearec/global_templates.json' # templates used for all simulations\n",
    "TEMPLATES_PATH = './temp/pros_of_details/templates.h5' # warning initially was not 1500 templates but much less 200 - check if that has an effect\n",
    "INPUT_PARAMS_REP_PATH =  './assets/mearec/buccino_rep/input_params.json'\n",
    "OUTPUT_PARAMS_REP_PATH = './assets/mearec/buccino_rep/output_params.json'\n",
    "RECORDING_REP_H5_PATH = './temp/pros_of_details/recordings.h5'\n",
    "RECORDING_REP_PATH = 'dataset/00_raw/recording_buccino_rep/'\n",
    "GROUND_TRUTH_REP_PATH = 'dataset/00_raw/ground_truth_buccino_rep/'\n",
    "WAVEFORM_GT_REP_PATH =  './temp/pros_of_details/waveformextractor_buccino_rep/'\n",
    "\n",
    "# parameters synthetic 2 (cell density & count)\n",
    "INPUT_PARAMS_S2_PATH =  './assets/mearec/synth2/input_params.json'\n",
    "OUTPUT_PARAMS_S2_PATH = './assets/mearec/synth2/output_params.json'\n",
    "RECORDING_S2_H5_PATH = './temp/pros_of_details/recording_synth2.h5'\n",
    "RECORDING_S2_PATH = 'dataset/00_raw/recording_synth2/'\n",
    "GROUND_TRUTH_S2_PATH = 'dataset/00_raw/ground_truth_synth2/'\n",
    "WAVEFORM_GT_S2_PATH =  './temp/pros_of_details/waveformextractor_synth2/'\n",
    "\n",
    "# parameters synthetic 3\n",
    "INPUT_PARAMS_S3_PATH =  './assets/mearec/synth3/input_params.json'\n",
    "OUTPUT_PARAMS_S3_PATH = './assets/mearec/synth3/output_params.json'\n",
    "RECORDING_S3_H5_PATH = './temp/pros_of_details/recordings_s3.h5'\n",
    "RECORDING_S3_PATH = 'dataset/00_raw/recording_synth3/'\n",
    "GROUND_TRUTH_S3_PATH = 'dataset/00_raw/ground_truth_synth3/'\n",
    "WAVEFORM_GT_S3_PATH =  './temp/pros_of_details/waveformextractor_synth3/'\n",
    "\n",
    "# parameters synthetic 4\n",
    "INPUT_PARAMS_S4_PATH =  './assets/mearec/buccino_s4/input_params.json'\n",
    "OUTPUT_PARAMS_S4_PATH = './assets/mearec/buccino_s4/output_params.json'\n",
    "RECORDING_S4_H5_PATH = './temp/pros_of_details/recordings_s4.h5'\n",
    "RECORDING_S4_PATH = 'dataset/00_raw/recording_buccino_s4/'\n",
    "GROUND_TRUTH_S4_PATH = 'dataset/00_raw/ground_truth_buccino_s4/'\n",
    "WAVEFORM_GT_S4_PATH =  './temp/pros_of_details/waveformextractor_buccino_s4/'\n",
    "\n",
    "# npx_spont\n",
    "RECORDING_NS_PATH = 'dataset/01_intermediate/preprocessing/recording_npx_spont/'\n",
    "GROUND_TRUTH_NS_PATH = 'dataset/00_raw/ground_truth_npx_spont/'\n",
    "WAVEFORM_GT_NS_PATH = 'dataset/01_intermediate/waveforms/ground_truth_npx_spont/'\n",
    "SORTING_KS4_NS_PATH = 'dataset/01_intermediate/sorting/npx_spont/SortingKS4_10m'\n",
    "\n",
    "# parallel processing parameters\n",
    "save_recording_params = {'n_jobs':20, 'verbose':True, 'progress_bar':True, 'overwrite':True, 'dtype':'float32', 'chunk_size': 50000}\n",
    "\n",
    "# parallel processing parameters \n",
    "job_kwargs = dict(n_jobs=-1, chunk_duration=\"1s\", progress_bar=True)\n",
    "savefig_cfg = {\"transparent\":True, \"dpi\": 300}"
   ]
  },
  {
   "cell_type": "markdown",
   "metadata": {},
   "source": [
    "## Custom functions"
   ]
  },
  {
   "cell_type": "code",
   "execution_count": 224,
   "metadata": {},
   "outputs": [],
   "source": [
    "# UTILS \n",
    "\n",
    "def _euclidean_distance(coord_1, coord_2):\n",
    "    return np.sqrt(np.sum((coord_1 - coord_2) ** 2))\n",
    "\n",
    "\n",
    "def mad(data):\n",
    "    mean_data = np.mean(data)\n",
    "    return np.mean(np.absolute(data - mean_data))\n",
    "\n",
    "\n",
    "def get_mad_ratio(spike_amp, noise_amp):\n",
    "    \"\"\"calculate an sd_ratio robust to outliers\n",
    "\n",
    "    Args:\n",
    "        spike_amp (_type_): _description_\n",
    "        noise_amp (_type_): _description_\n",
    "\n",
    "    Returns:\n",
    "        _type_: _description_\n",
    "    \"\"\"\n",
    "    mad_unit = mad(spike_amp)  # twice smaller than std\n",
    "    mad_noise = mad(noise_amp)\n",
    "    return mad_unit / mad_noise\n",
    "\n",
    "\n",
    "def get_best_site_mad_noise(we, max_chids, unit):\n",
    "\n",
    "    # get waveforms\n",
    "    wv, _ = we.get_waveforms(unit_id=unit, with_index=True)\n",
    "\n",
    "    # get channel ids (sparse)\n",
    "    c_ids = we.sparsity.unit_id_to_channel_ids[unit]\n",
    "\n",
    "    # get nearest channel\n",
    "    max_chid = max_chids[unit]\n",
    "    max_chid_ix = np.where(c_ids == max_chid)[0][0]\n",
    "    return wv[:, :, max_chid_ix].flatten()\n",
    "\n",
    "\n",
    "def get_waveform_amplitudes_per_unit(We):\n",
    "    return si.postprocessing.compute_spike_amplitudes(We, peak_sign=\"neg\", outputs=\"by_unit\")[0]\n",
    "\n",
    "\n",
    "def get_cell_locations(GroundTruth):\n",
    "\n",
    "    x = GroundTruth.get_property('x')\n",
    "    y = GroundTruth.get_property('y')\n",
    "    z = GroundTruth.get_property('z')\n",
    "    return np.array([x, y, z]).T\n",
    "\n",
    "\n",
    "# SIMULATE SYNTHETIC RECORDING WITH MEAREC\n",
    "\n",
    "def simulate_synthetic_recording_with_mearec(rec_prms: dict, layer:str, templates_path:str, recording_clone_h5_path:str):\n",
    "\n",
    "    # generate simulated recording (takes 22 min)\n",
    "    rec_gen = mr.gen_recordings(params=rec_prms, templates=templates_path)\n",
    "\n",
    "    # save simulated recording\n",
    "    mr.save_recording_generator(rec_gen, recording_clone_h5_path)\n",
    "\n",
    "    # load recording h5 file\n",
    "    RecordingClone = se.MEArecRecordingExtractor(recording_clone_h5_path) \n",
    "    RecordingClone.set_property(\"layers\", np.array([layer]*384)) # add layer metadata\n",
    "\n",
    "    # load ground truth\n",
    "    SortingClone = se.MEArecSortingExtractor(recording_clone_h5_path)\n",
    "\n",
    "    # delete intermediate h5 file\n",
    "    os.remove(recording_clone_h5_path)\n",
    "    return RecordingClone, SortingClone, rec_gen\n",
    "\n",
    "\n",
    "def set_metadata_to_mearec_simulations(recording_generator, Recording, Sorting):\n",
    "    \n",
    "    # set cell features\n",
    "    features = ['cell_type', 'snr', 'mtype', 'soma_position', 'bursting', 'exp_decay', 'max_spikes_per_burst', 'max_burst_duration']\n",
    "    n_cells = len(recording_generator.spiketrains)\n",
    "\n",
    "    # set cell properties in sorting extractor\n",
    "    for feature in features:\n",
    "        feature_data = []\n",
    "        for cell_ix in range(n_cells):\n",
    "            feature_data.append(recording_generator.spiketrains[cell_ix].annotations[feature])\n",
    "        Sorting.set_property(feature, np.array(feature_data))\n",
    "\n",
    "    # set electrode properties in recording extractor\n",
    "    # by default, channel_locations are attached to Recording extractor\n",
    "    Recording.set_property('layer', np.array(['L5']*384)) # layer\n",
    "    return Recording, Sorting\n",
    "\n",
    "\n",
    "def standardize_metadata(GroundTruth):\n",
    "    \"\"\"standardize ground truth extractor metadata\n",
    "    from mearec simulatio\n",
    "\n",
    "    Args:\n",
    "        GroundTruth (_type_): _description_\n",
    "\n",
    "    Returns:\n",
    "        _type_: _description_\n",
    "    \"\"\"\n",
    "    GroundTruth.set_property('x', GroundTruth.get_property('soma_position')[:,0])\n",
    "    GroundTruth.set_property('y', GroundTruth.get_property('soma_position')[:,1])\n",
    "    GroundTruth.set_property('z', GroundTruth.get_property('soma_position')[:,2])\n",
    "    GroundTruth.delete_property('soma_position')\n",
    "\n",
    "    GroundTruth.set_property('bursting', GroundTruth.get_property('bursting').astype(int))\n",
    "    GroundTruth.set_property('exp_decay', GroundTruth.get_property('exp_decay').astype(str))\n",
    "    GroundTruth.set_property('max_burst_duration', GroundTruth.get_property('max_burst_duration').astype(str))\n",
    "    GroundTruth.set_property('max_spikes_per_burst', GroundTruth.get_property('max_spikes_per_burst').astype(str))\n",
    "    return GroundTruth\n",
    "\n",
    "\n",
    "def report_simulation_parameters(rec_gen):\n",
    "    \"\"\"\n",
    "    Reports simulation parameters, checks for bursting, and displays example cell metadata.\n",
    "\n",
    "    Args:\n",
    "        rec_gen (RecordingGenerator): The recording generator object.\n",
    "    \"\"\"\n",
    "    # report parameters\n",
    "    display('Simulation parameters:', rec_gen.info)\n",
    "\n",
    "    # check bursting\n",
    "    bursting = []\n",
    "    for ix in range(250):\n",
    "        bursting.append(rec_gen.spiketrains[1].annotations['bursting'])\n",
    "    print('Bursting:', any(bursting))\n",
    "\n",
    "    # example of a cell metadata\n",
    "    CELL_IDX = 0\n",
    "    print('\\nExample cell type:', rec_gen.template_celltypes[CELL_IDX])\n",
    "    display('Its spiking metadata:', rec_gen.spiketrains[CELL_IDX].annotations)\n",
    "    print('Its spike times:', rec_gen.spiketrains[CELL_IDX].times)\n",
    "\n",
    "\n",
    "def save_simulation_parameters_to_assets(rec_prms:dict, rec_gen, input_params_path:str, output_params_path:str):\n",
    "        \n",
    "    folder_path = os.path.dirname(input_params_path)\n",
    "    os.makedirs(folder_path, exist_ok=True)\n",
    "\n",
    "    # save input simulation parameters to MEAREC\n",
    "    with open(input_params_path, 'w') as f:\n",
    "        json.dump(rec_prms, f, indent=4)\n",
    "\n",
    "    folder_path = os.path.dirname(output_params_path)\n",
    "    os.makedirs(folder_path, exist_ok=True)\n",
    "\n",
    "    # save parameters recorded in recording generator\n",
    "    with open(output_params_path, 'w') as f:\n",
    "        json.dump(rec_gen.params, f, indent=4)\n",
    "\n",
    "        \n",
    "def get_cell_type_property_from_mearec(simulation):\n",
    "    cell_types = []\n",
    "    for ix in range(len(simulation.spiketrains)):\n",
    "        cell_types.append(simulation.spiketrains[ix].annotations['cell_type'])\n",
    "    return np.array(cell_types)\n",
    "\n",
    "\n",
    "# DESCRIPTIVE FEATURES\n",
    "\n",
    "def count_near_cells_within_radius(site_pos, cell_pos, unit_ids, radius=50):\n",
    "    \"\"\"\n",
    "    Counts the number of unique cells within a specified radius from each site.\n",
    "\n",
    "    Args:\n",
    "        recording: SpikeInterface RecordingExtractor object.\n",
    "        sorting: SpikeInterface SortingExtractor object.\n",
    "        radius (int): Distance threshold in micrometers.\n",
    "\n",
    "    Returns:\n",
    "        int: Number of unique cells within the specified radius.\n",
    "    \"\"\"\n",
    "    all_near_cells = []\n",
    "\n",
    "    # for each site, find cells within the specified radius\n",
    "    for pos in site_pos:\n",
    "        tiled = np.tile(pos, (cell_pos.shape[0], 1))\n",
    "        dist = np.linalg.norm(cell_pos - tiled, axis=1)\n",
    "        near_cells = unit_ids[dist < radius]\n",
    "        all_near_cells.extend(near_cells)\n",
    "    all_near_cells = list(set(all_near_cells))\n",
    "    return len(all_near_cells)\n",
    "\n",
    "\n",
    "# QUALITY METRICS FOR A SINGLE UNIT\n",
    "\n",
    "def get_spatial_spread(\n",
    "    We, unit_id: int, max_chids: dict, channel_ids, channel_coord\n",
    "):\n",
    "    \"\"\"measure unit's spatial spread\n",
    "\n",
    "    Args:\n",
    "        unit_id (int): _description_\n",
    "        max_chids (dict): _description_\n",
    "        Recording (_type_): _description_\n",
    "        channel_ids (_type_): _description_\n",
    "        channel_coord (_type_): _description_\n",
    "\n",
    "    Returns:\n",
    "        _type_: _description_\n",
    "    \"\"\"\n",
    "    # get waveforms\n",
    "    wv, _ = We.get_waveforms(unit_id=unit_id, with_index=True)    \n",
    "\n",
    "    # get the site ids (sparse)\n",
    "    c_ids = We.sparsity.unit_id_to_channel_ids[unit_id]\n",
    "\n",
    "    # get the nearest site\n",
    "    max_chid = max_chids[unit_id]\n",
    "    max_chid_ix = np.where(c_ids == max_chid)[0][0]\n",
    "    \n",
    "    # get the average spike on each site\n",
    "    mean_spikes = wv.mean(axis=0)\n",
    "    max_spike = mean_spikes[:, max_chid_ix]\n",
    "    \n",
    "    # measure the average spike's similarity \n",
    "    # of each site to the average spike\n",
    "    # of the nearest site to the unit\n",
    "    # (ratio between 0 and 1)\n",
    "    n_sites = mean_spikes.shape[1]\n",
    "    cosim_weights = []\n",
    "    for s_i in range(n_sites):\n",
    "        cosim_weights.append(\n",
    "            np.dot(max_spike, mean_spikes[:, s_i])\n",
    "            / (lalgnorm(max_spike) * lalgnorm(mean_spikes[:, s_i]))\n",
    "        )\n",
    "    cosim_weights = np.array(cosim_weights)\n",
    "\n",
    "    # threshold the similarity metric to be positive\n",
    "    # we only look at similarity (not inverse similarity (<0))\n",
    "    cosim_weights[cosim_weights < 0] = 0\n",
    "\n",
    "    # measure the distance of the site to the nearest site\n",
    "    # to the unit\n",
    "    channel_coord = channel_coord[np.isin(channel_ids, c_ids), :]\n",
    "    try:\n",
    "        max_chids_coord = channel_coord[max_chid_ix, :]\n",
    "    except:\n",
    "        from ipdb import set_trace; set_trace()\n",
    "        \n",
    "    dist = []\n",
    "    for ix, _ in enumerate(c_ids):\n",
    "        dist.append(_euclidean_distance(max_chids_coord, channel_coord[ix]))\n",
    "    dist = np.array(dist)\n",
    "\n",
    "    # return spatial spread\n",
    "    return {\n",
    "        \"spatial_spread\": np.dot(cosim_weights, dist),\n",
    "        \"channel_distance\": dist,\n",
    "        \"weights\": cosim_weights,\n",
    "    }\n",
    "\n",
    "\n",
    "# QUALITY METRICS / SPIKE FEATURES FOR ALL UNITS\n",
    "\n",
    "def get_cell_to_cell_distances(ground_truth):\n",
    "    \"\"\"Calculates the minimum cell-to-cell distances \n",
    "    based on soma location or x, y, z coordinates.\n",
    "\n",
    "    Args:\n",
    "        ground_truth: Ground truth extractor containing cell properties.\n",
    "\n",
    "    Returns:\n",
    "        numpy.ndarray: Minimum cell-to-cell distances or pairwise distances.\n",
    "    \"\"\"\n",
    "    # if ground truth has a soma location property\n",
    "    if 'soma_location' in ground_truth.get_property_keys():\n",
    "        cell_loc = ground_truth.get_property('soma_location')\n",
    "        cell_distance = cdist(cell_loc, cell_loc, metric='euclidean')\n",
    "    elif 'x' in ground_truth.get_property_keys():\n",
    "        # if ground truth has a x,y,z coordinates\n",
    "        x = ground_truth.get_property('x')\n",
    "        y = ground_truth.get_property('y')\n",
    "        z = ground_truth.get_property('z')\n",
    "        cell_pos = np.array([x, y, z]).T        \n",
    "        cell_distance = cdist(cell_pos, cell_pos, metric='euclidean')\n",
    "    else: \n",
    "        raise ValueError(\"\"\"ground_truth should have a x, y, z coordinates or be in a 'soma_location' property\"\"\")\n",
    "    \n",
    "    # return distances\n",
    "    np.fill_diagonal(cell_distance, np.nan)\n",
    "    return np.nanmin(cell_distance, axis=0)    \n",
    "\n",
    "\n",
    "def get_firing_rates(sorting, duration_s):\n",
    "    \"\"\"\n",
    "    Plots the firing rate distribution of units in a sorting extractor.\n",
    "\n",
    "    Parameters:\n",
    "    - sorting: spikeinterface SortingExtractor\n",
    "        The sorting extractor containing spike trains.\n",
    "    - duration_s: the total duration\n",
    "    - bins: int, optional\n",
    "        Number of bins for the histogram (default is 20).\n",
    "    \"\"\"\n",
    "    unit_ids = sorting.get_unit_ids()\n",
    "    firing_rates = [\n",
    "        len(sorting.get_unit_spike_train(unit_id)) / duration_s\n",
    "        for unit_id in unit_ids\n",
    "    ]\n",
    "    return firing_rates\n",
    "\n",
    "\n",
    "def get_firing_ranges(waveform_extractor):\n",
    "\n",
    "    firing_range = sqm.compute_firing_ranges(waveform_extractor=waveform_extractor)\n",
    "    return np.array(list(firing_range.values()))\n",
    "\n",
    "\n",
    "def get_waveform_amplitude_medians(waveform_extractor):\n",
    "\n",
    "    amplitude_medians = sqm.compute_amplitude_medians(waveform_extractor=waveform_extractor)\n",
    "    return np.array(list(amplitude_medians.values()))\n",
    "\n",
    "\n",
    "def get_waveform_snr(waveform_extractor):\n",
    "    snrs = sqm.compute_snrs(waveform_extractor=waveform_extractor)\n",
    "    return np.array(list(snrs.values()))\n",
    "\n",
    "\n",
    "def get_spatial_spread_all_units(\n",
    "    recording_path: str, study_path: str, ms_before=3, ms_after=3, peak_sign=\"neg\"\n",
    "):\n",
    "    \"\"\"get all units' spatial extent metrics\n",
    "\n",
    "    Args:\n",
    "        recording_path (str): Path of the Recording Extractor\n",
    "        study_path (str): _description_\n",
    "        ms_before (float): _description_\n",
    "        ms_after (float): _description_\n",
    "\n",
    "    Returns:\n",
    "        (dict): spatial spread of each unit\n",
    "        - key: true unit id\n",
    "        - value: spatial spread\n",
    "    \n",
    "    Prerequisites:\n",
    "        - have extracted ground truth waveforms\n",
    "    \"\"\"\n",
    "    # takes 1:30 min\n",
    "    We = si.WaveformExtractor.load_from_folder(study_path)\n",
    "    \n",
    "    # get sites' distance to the max site\n",
    "    # get 3D coordinates\n",
    "    Rec = si.load_extractor(recording_path)\n",
    "    channel_coord = Rec.get_probe().contact_positions\n",
    "    channel_ids = Rec.get_channel_ids()\n",
    "\n",
    "    # get channels where spike amplitude is maximal\n",
    "    max_chids = ttools.get_template_extremum_channel(\n",
    "        We, peak_sign=peak_sign)\n",
    "\n",
    "    # takes 1:30 min (1310 units)\n",
    "    spatial_spread = dict()\n",
    "    for _, unit in enumerate(We.unit_ids):\n",
    "        spatial_spread[unit] = get_spatial_spread(\n",
    "            We, unit, max_chids, channel_ids, channel_coord\n",
    "        )[\"spatial_spread\"]\n",
    "    return np.array(list(spatial_spread.values()))\n",
    "\n",
    "\n",
    "def get_mad_ratios(WeOriginal):\n",
    "    \"\"\"get mad ratio per unit. Values close to 1 indicate a good isolation of the unit.\n",
    "    i.e., the mean absolute deviation of the spike amplitude is similar to the mean absolute deviation \n",
    "    of the noise amplitude.\n",
    "\n",
    "    Args:\n",
    "        WeOriginal (WaveformExtractor): _description_\n",
    "\n",
    "    Returns:\n",
    "        np.array: mad ratio per unit\n",
    "    \"\"\"\n",
    "    # pre-compute negative spike amplitudes\n",
    "    amplitudes_by_unit = get_waveform_amplitudes_per_unit(WeOriginal)\n",
    "\n",
    "    # get nearest channels\n",
    "    max_chids = ttools.get_template_extremum_channel(WeOriginal, peak_sign=\"both\")\n",
    "\n",
    "    # compute mad ratio per unit\n",
    "    mad_ratio = []\n",
    "    for unit in WeOriginal.unit_ids:\n",
    "        noise_amp = get_best_site_mad_noise(WeOriginal, max_chids, unit)\n",
    "        mad_ratio.append(get_mad_ratio(amplitudes_by_unit[unit], noise_amp))\n",
    "    return np.array(mad_ratio)\n",
    "\n",
    "\n",
    "# PLOTS \n",
    "\n",
    "def plot_firing_rate_distribution(ax, firing_rates, bins=20, title:str=None, ylim=(0,60), xlim=(0,25), edgecolor=(0.22, 0.5, 0.72), facecolor=(0.22, 0.5, 0.72), ylogscale=False, histtype='step'):\n",
    "    \"\"\"\n",
    "    Plots the firing rate distribution of units in a sorting extractor.\n",
    "\n",
    "    Parameters:\n",
    "    - firing rates: firing rates\n",
    "    - bins: int, optional\n",
    "        Number of bins for the histogram (default is 20).\n",
    "    \"\"\"\n",
    "    ax.hist(firing_rates, bins=bins, edgecolor=edgecolor, facecolor=facecolor, histtype=histtype)\n",
    "    ax.set_xlabel(\"Firing rate (Hz)\")\n",
    "    ax.set_ylabel(\"Unit count\")\n",
    "    if title:\n",
    "        ax.set_title(title)\n",
    "    if ylogscale:\n",
    "        ax.set_yscale('log')\n",
    "    ax.set_ylim(ylim)\n",
    "    ax.set_xlim(xlim)    \n",
    "\n",
    "\n",
    "def plot_firing_ranges_distribution(ax, firing_ranges, bins=20, title:str='simulation_name', ylim=(0,50), xlim=(0,800), edgecolor=(0.22, 0.5, 0.72), facecolor=(0.22, 0.5, 0.72), ylogscale=False, histtype='step'):\n",
    "    \"\"\"\n",
    "    Parameters:\n",
    "    - amplitudes: waveform amplitudes\n",
    "    - bins: int, optional\n",
    "        Number of bins for the histogram (default is 20).\n",
    "    \"\"\"\n",
    "    ax.hist(firing_ranges, bins=bins, edgecolor=edgecolor, facecolor=facecolor, histtype=histtype)\n",
    "    ax.set_xlabel(\"Firing range (Hz)\")\n",
    "    ax.set_ylabel(\"Unit count\")\n",
    "    if title:\n",
    "        ax.set_title(title)\n",
    "    if ylogscale:\n",
    "        ax.set_yscale('log')\n",
    "    ax.set_ylim(ylim)\n",
    "    ax.set_xlim(xlim)\n",
    "\n",
    "\n",
    "def plot_waveform_amplitude_median_distribution(ax, amplitudes, bins=20, title:str='simulation_name', ylim=(0,50), xlim=(0,800), edgecolor=(0.22, 0.5, 0.72), facecolor=(0.22, 0.5, 0.72), ylogscale=False, histtype='step'):\n",
    "    \"\"\"\n",
    "    Parameters:\n",
    "    - amplitudes: waveform amplitudes\n",
    "    - bins: int, optional\n",
    "        Number of bins for the histogram (default is 20).\n",
    "    \"\"\"\n",
    "    ax.hist(amplitudes, bins=bins, edgecolor=edgecolor, facecolor=facecolor, histtype=histtype)\n",
    "    ax.set_xlabel(\"Amplitudes (uV)\")\n",
    "    ax.set_ylabel(\"Unit count\")\n",
    "    if title:\n",
    "        ax.set_title(title)\n",
    "    if ylogscale:\n",
    "        ax.set_yscale('log')\n",
    "    ax.set_ylim(ylim)\n",
    "    ax.set_xlim(xlim)\n",
    "\n",
    "\n",
    "def plot_waveform_snr_distribution(ax, snrs, bins=20, title:str='simulation_name', ylim=(0,50), xlim=(0,800), edgecolor=(0.22, 0.5, 0.72), facecolor=(0.22, 0.5, 0.72), ylogscale=False, histtype='step'):\n",
    "    \"\"\"\n",
    "    Parameters:\n",
    "    - snrs: snrs\n",
    "    - bins: int, optional\n",
    "        Number of bins for the histogram (default is 20).\n",
    "    \"\"\"\n",
    "    ax.hist(snrs, bins=bins, edgecolor=edgecolor, facecolor=facecolor, histtype=histtype)\n",
    "    ax.set_xlabel(\"SNR\")\n",
    "    ax.set_ylabel(\"Unit count\")\n",
    "    if title:\n",
    "        ax.set_title(title)\n",
    "    if ylogscale:\n",
    "        ax.set_yscale('log')\n",
    "    ax.set_ylim(ylim)\n",
    "    ax.set_xlim(xlim)    \n",
    "\n",
    "\n",
    "def plot_spatial_spread_distribution(ax, mad_ratio, bins=20, title:str='simulation_name', ylim=(0,50), xlim=(0,800), edgecolor=(0.22, 0.5, 0.72), facecolor=(0.22, 0.5, 0.72), ylogscale=False, histtype='step'):\n",
    "    \"\"\"\n",
    "    Parameters:\n",
    "    - mad_ratio: mad_ratio\n",
    "    - bins: int, optional\n",
    "        Number of bins for the histogram (default is 20).\n",
    "    \"\"\"\n",
    "    ax.hist(mad_ratio, bins=bins, edgecolor=edgecolor, facecolor=facecolor, histtype=histtype)\n",
    "    ax.set_xlabel(\"Spatial spread (a.u)\")\n",
    "    ax.set_ylabel(\"Unit count\")\n",
    "    if title:\n",
    "        ax.set_title(title)\n",
    "    if ylogscale:\n",
    "        ax.set_yscale('log')\n",
    "    ax.set_ylim(ylim)\n",
    "    ax.set_xlim(xlim)    \n",
    "\n",
    "\n",
    "def plot_mad_ratio_distribution(ax, mad_ratios, bins=20, title:str='simulation_name', ylim=(0,50), xlim=(0,800), edgecolor=(0.22, 0.5, 0.72), facecolor=(0.22, 0.5, 0.72), ylogscale=False, histtype='step'):\n",
    "    \"\"\"\n",
    "    Values close to 1 indicate a good isolation of the unit.\n",
    "    i.e., the mean absolute deviation of the spike amplitude is similar to the mean absolute deviation \n",
    "    of the noise amplitude.\n",
    "    \n",
    "    Parameters:\n",
    "    - mad_ratios: waveform mean-absolute deviation ratio between spike amplitude and background noise\n",
    "    - bins: int, optional\n",
    "        Number of bins for the histogram (default is 20).\n",
    "    \"\"\"\n",
    "    ax.hist(mad_ratios, bins=bins, edgecolor=edgecolor, facecolor=facecolor, histtype=histtype)\n",
    "    ax.set_xlabel(\"MAD ratios (a.u)\")\n",
    "    ax.set_ylabel(\"Unit count\")\n",
    "    if title:\n",
    "        ax.set_title(title)\n",
    "    if ylogscale:\n",
    "        ax.set_yscale('log')\n",
    "    ax.set_ylim(ylim)\n",
    "    ax.set_xlim(xlim)    \n",
    "\n",
    "\n",
    "def plot_cell_to_cell_distances(ax, cell_distance, bins=20, title:str='simulation_name', ylim=(0,50), xlim=(0,800), edgecolor=(0.22, 0.5, 0.72), facecolor=(0.22, 0.5, 0.72), ylogscale=False, histtype='step'):\n",
    "    \"\"\"\n",
    "    Parameters:\n",
    "    - cell_distance: all cell-to-cell euclidean distances\n",
    "    - bins: int, optional\n",
    "        Number of bins for the histogram (default is 20).\n",
    "    \"\"\"    \n",
    "    ax.hist(cell_distance, bins=bins, edgecolor=edgecolor, facecolor=facecolor, histtype=histtype)\n",
    "    ax.set_xlabel(\"Cell distances (um)\")\n",
    "    ax.set_ylabel(\"Unit count\")\n",
    "    if title:\n",
    "        ax.set_title(title)\n",
    "    if ylogscale:\n",
    "        ax.set_yscale('log')\n",
    "    ax.set_ylim(ylim)\n",
    "    ax.set_xlim(xlim)    \n",
    "\n",
    "# Quality of unit isolation (single-unit yield)\n",
    "\n",
    "def process_each_experiment(sorted1, sorted2, sorted3, sorted4, sorted5, sorted6, exp_names):\n",
    "    \"\"\"\n",
    "    Process sorting data by retrieving, filtering, and standardizing unit data.\n",
    "    Keep units in L1 to L6 (in cortex)\n",
    "\n",
    "    Returns:\n",
    "        dict: A dictionary containing processed DataFrames for sorting data.\n",
    "    \"\"\"\n",
    "    # get unit data\n",
    "    sorting_data = {\n",
    "        exp_names[0]: fr.get_sorted_unit_meta(sorted1),\n",
    "        exp_names[1]: fr.get_sorted_unit_meta(sorted2),\n",
    "        exp_names[2]: fr.get_sorted_unit_meta(sorted3),\n",
    "        exp_names[3]: fr.get_sorted_unit_meta(sorted4),\n",
    "        exp_names[4]: fr.get_sorted_unit_meta(sorted5),\n",
    "        exp_names[5]: fr.get_sorted_unit_meta(sorted6)\n",
    "    }\n",
    "\n",
    "    # standardize layer 2/3\n",
    "    for key in sorting_data:\n",
    "        sorting_data[key][\"layer\"][\n",
    "            (sorting_data[key][\"layer\"] == \"L2\") | (sorting_data[key][\"layer\"] == \"L3\") | (sorting_data[key][\"layer\"] == \"L2_3\")\n",
    "        ] = \"L2/3\"\n",
    "\n",
    "    # keep units in cortex\n",
    "    for key in sorting_data:\n",
    "        sorting_data[key] = sorting_data[key][\n",
    "            np.isin(sorting_data[key][\"layer\"], [\"L1\", \"L2\", \"L2/3\", \"L4\", \"L5\", \"L6\"])\n",
    "        ]\n",
    "    return sorting_data"
   ]
  },
  {
   "cell_type": "markdown",
   "metadata": {},
   "source": [
    "## Simulate synthetic datasets\n",
    "\n",
    "- We simulate intermediate datasets with increasing levels of details and _in vivo_ accuracy to match the biophysical simulation (npx_spont) to assess the benefits of the added details."
   ]
  },
  {
   "cell_type": "code",
   "execution_count": 215,
   "metadata": {},
   "outputs": [],
   "source": [
    "# setup common cell templates, probe, and seed parameters (takes 4,531 secs)\n",
    "tpl_prms = mr.get_default_templates_params()\n",
    "tpl_prms['probe'] = 'Neuropixels-384'           # probe\n",
    "tpl_prms['n'] = 1500                            # (default = 50) number of templates per cell model (minimum that worked to match npx_spont cell counts), I use 1500.\n",
    "tpl_prms['seed'] = 0                            # setup reproducibility\n",
    "tpl_prms['overhang'] = 50                       # (default = 30) extension in um beyond MEA boundaries for neuron locations\n",
    "tpl_prms['ncontacts'] = 1                       # (default = 10) number of contacts per recording site, spatial extent of the electrode over which to average potential\n",
    "tpl_prms['offset'] = 0                          # (default = 0) x offset; MEA is in the yz plane with x 0 by default. One can center the MEA in cell population by setting x offset.\n",
    "tpl_prms['xlim'] = [-50, 50]                    # (default = [10,80]) limits ( low high ) for neuron locations in the x-axis (depth)\n",
    "tpl_prms['ylim'] = None                         # (default = None) limits ( low high ) for neuron locations in the y-axis\n",
    "tpl_prms['zlim'] = [-1001, 1001]                # (default = None) limits ( low high ) for neuron locations in the z-axis\n",
    "\n",
    "# # create and save waveform templates (10 min for 200 templates per cell, 15 MB) - uncomment to run (1h20min)\n",
    "# tpl_gen = mr.gen_templates(cell_models_folder = CELLS_PATH, params = tpl_prms)\n",
    "# mr.save_template_generator(tpl_gen, TEMPLATES_PATH)"
   ]
  },
  {
   "cell_type": "code",
   "execution_count": 216,
   "metadata": {},
   "outputs": [],
   "source": [
    "# setup common recording parameters\n",
    "rec_prms = mr.get_default_recordings_params()\n",
    "rec_prms['spiketrains']['duration'] = 600          # (default=600) recording duration\n",
    "rec_prms['spiketrains']['min_rate'] = 0.5          # default value\n",
    "rec_prms['seeds']['spiketrains'] = 0               # seeds for reproducibility \n",
    "rec_prms['seeds']['templates'] = 1\n",
    "rec_prms['seeds']['noise'] = 2\n",
    "rec_prms['seeds']['convolution'] = 3\n",
    "\n",
    "# save common template parameters\n",
    "with open(TEMPLATE_PARAMS_PATH, 'w') as f:\n",
    "    json.dump(tpl_prms, f, indent=4)"
   ]
  },
  {
   "cell_type": "markdown",
   "metadata": {},
   "source": [
    "### Buccino replicate\n",
    "\n",
    "- This replicates Buccino et al., simulation with MEAREC as described in the Spikeinterface paper.\n",
    "- Execution time: 23 min\n"
   ]
  },
  {
   "cell_type": "code",
   "execution_count": 11,
   "metadata": {},
   "outputs": [
    {
     "name": "stdout",
     "output_type": "stream",
     "text": [
      "write_binary_recording with n_jobs = 20 and chunk_size = 50000\n"
     ]
    },
    {
     "data": {
      "application/vnd.jupyter.widget-view+json": {
       "model_id": "e1cf66b0211344eca9f65b080b8f2421",
       "version_major": 2,
       "version_minor": 0
      },
      "text/plain": [
       "write_binary_recording:   0%|          | 0/384 [00:00<?, ?it/s]"
      ]
     },
     "metadata": {},
     "output_type": "display_data"
    },
    {
     "name": "stdout",
     "output_type": "stream",
     "text": [
      "Sorting metadata: ['z', 'y', 'bursting', 'mtype', 'exp_decay', 'x', 'max_burst_duration', 'max_spikes_per_burst', 'cell_type', 'snr']\n",
      "Recording metadata: ['gain_to_uV', 'offset_to_uV', 'contact_vector', 'location', 'group', 'layer', 'channel_name', 'layers']\n"
     ]
    }
   ],
   "source": [
    "%%time\n",
    "\n",
    "# setup parameters\n",
    "rec_prms['spiketrains']['n_exc'] = 200\n",
    "rec_prms['spiketrains']['n_inh'] = 50\n",
    "\n",
    "# simulate recording (23 min)\n",
    "RecordingRep, SortingRep, RecGen = simulate_synthetic_recording_with_mearec(rec_prms, 'L5', TEMPLATES_PATH, RECORDING_REP_H5_PATH)\n",
    "\n",
    "# setup metadata\n",
    "RecordingRep, SortingRep = set_metadata_to_mearec_simulations(RecGen, RecordingRep, SortingRep)\n",
    "SortingRep = standardize_metadata(SortingRep)\n",
    "\n",
    "# save extractors\n",
    "RecordingRep.save(folder=RECORDING_REP_PATH, **save_recording_params)\n",
    "SortingRep.save(folder=GROUND_TRUTH_REP_PATH, overwrite=True)\n",
    "\n",
    "# save parameters\n",
    "save_simulation_parameters_to_assets(rec_prms, RecGen, INPUT_PARAMS_REP_PATH, OUTPUT_PARAMS_REP_PATH)\n",
    "\n",
    "# report parameters\n",
    "# report_simulation_parameters(RecGen)\n",
    "print('Sorting metadata:', si.load_extractor(GROUND_TRUTH_REP_PATH).get_property_keys())\n",
    "print('Recording metadata:', si.load_extractor(RECORDING_REP_PATH).get_property_keys())"
   ]
  },
  {
   "cell_type": "markdown",
   "metadata": {},
   "source": [
    "### S2 - _in vivo_ cell density & count\n",
    "\n",
    "- This matches cell count & density to the npx_spont model (validated against _in vivo_)\n",
    "- Execution time: 1h10\n",
    "- 5x more exc. cells\n",
    "- 2x more inh.\n",
    "- constrains: the large cell count requires more templates (at least 1,500) than Buccino's original else error: \"Decrease number of spiketrains, decrease 'min_dist', or use more templates\".\n"
   ]
  },
  {
   "cell_type": "code",
   "execution_count": null,
   "metadata": {},
   "outputs": [
    {
     "name": "stdout",
     "output_type": "stream",
     "text": [
      "Loading templates...\n",
      "Done loading templates...\n",
      "Spiketrains seed:  0\n",
      "dtype float32\n",
      "Noise Level  10\n",
      "Templates selection seed:  1\n",
      "Selecting cells\n",
      "Padding template edges\n",
      "Elapsed pad time: 8.170446634292603\n",
      "Creating time jittering\n",
      "Elapsed jitter time: 22.648691415786743\n",
      "Smoothing templates\n",
      "Computing spike train SNR\n",
      "Adding spiketrain annotations\n",
      "Convolution seed:  3\n",
      "Electrode modulaton\n",
      "Adding noise\n",
      "Noise seed:  2\n",
      "Filtering\n",
      "Band-pass cutoff [ 300. 6000.] Hz\n",
      "Elapsed time:  4480.859813356999\n",
      "write_binary_recording with n_jobs = 20 and chunk_size = 50000\n"
     ]
    },
    {
     "data": {
      "application/vnd.jupyter.widget-view+json": {
       "model_id": "860fb9e86e384d06bad0573d48715481",
       "version_major": 2,
       "version_minor": 0
      },
      "text/plain": [
       "write_binary_recording:   0%|          | 0/384 [00:00<?, ?it/s]"
      ]
     },
     "metadata": {},
     "output_type": "display_data"
    },
    {
     "name": "stdout",
     "output_type": "stream",
     "text": [
      "['soma_position', 'bursting', 'mtype', 'exp_decay', 'max_burst_duration', 'max_spikes_per_burst', 'cell_type', 'snr']\n",
      "['gain_to_uV', 'offset_to_uV', 'contact_vector', 'location', 'group', 'layer', 'channel_name', 'layers']\n"
     ]
    }
   ],
   "source": [
    "# setup parameters\n",
    "rec_prms['spiketrains']['n_exc'] = 1279       # (default = 200)\n",
    "rec_prms['spiketrains']['n_inh'] = 109        # (default = 50)\n",
    "rec_prms['templates']['min_dist'] = 0         # (default = 25), reduced to match mean cell-to-cell distance\n",
    "\n",
    "# simulate recording (83 min)\n",
    "RecordingS2, SortingS2, RecGenS2 = simulate_synthetic_recording_with_mearec(rec_prms, 'L5', TEMPLATES_PATH, RECORDING_S2_H5_PATH)\n",
    "\n",
    "# setup metadata\n",
    "RecordingS2, SortingS2 = set_metadata_to_mearec_simulations(RecGenS2, RecordingS2, SortingS2)\n",
    "SortingS2 = standardize_metadata(SortingS2)\n",
    "\n",
    "# save extractors\n",
    "RecordingS2.save(folder=RECORDING_S2_PATH, **save_recording_params)\n",
    "SortingS2.save(folder=GROUND_TRUTH_S2_PATH, overwrite=True)\n",
    "\n",
    "# save parameters\n",
    "save_simulation_parameters_to_assets(rec_prms, RecGenS2, INPUT_PARAMS_S2_PATH, OUTPUT_PARAMS_S2_PATH)\n",
    "\n",
    "# report parameters\n",
    "# report_simulation_parameters(RecGen)\n",
    "print(si.load_extractor(GROUND_TRUTH_S2_PATH).get_property_keys())\n",
    "print(si.load_extractor(RECORDING_S2_PATH).get_property_keys())"
   ]
  },
  {
   "cell_type": "markdown",
   "metadata": {},
   "source": [
    "### S3 - _in vivo_ firing rate"
   ]
  },
  {
   "cell_type": "code",
   "execution_count": null,
   "metadata": {},
   "outputs": [
    {
     "name": "stdout",
     "output_type": "stream",
     "text": [
      "['z', 'y', 'bursting', 'mtype', 'exp_decay', 'x', 'max_burst_duration', 'max_spikes_per_burst', 'cell_type', 'snr']\n",
      "['gain_to_uV', 'offset_to_uV', 'contact_vector', 'location', 'group', 'layer', 'channel_name', 'layers']\n"
     ]
    }
   ],
   "source": [
    "%%time\n",
    "\n",
    "# change firing rates parameters, keep exc/inh ratio the same (sim too heavy to match the cells counts for all sims.)\n",
    "rec_prms['spiketrains']['n_exc'] = 1279       # (default = 200)\n",
    "rec_prms['spiketrains']['n_inh'] = 109        # (default = 50)\n",
    "rec_prms['templates']['min_dist'] = 0         # (default = 25), reduced to match mean cell-to-cell distance\n",
    "\n",
    "rec_prms['spiketrains']['f_exc'] = 0.3    # mean firing rate of excitatory cells in Hz (15 x lower)\n",
    "rec_prms['spiketrains']['f_inh'] = 1      # mean firing rate of inhibitory cells in Hz (10 x lower)\n",
    "rec_prms['spiketrains']['min_rate'] = 0   # same as npx_spont for 10 min recording (all cells fired for the entire recording)\n",
    "\n",
    "# simulate recording with MEArec (23 min)\n",
    "RecordingS3, SortingS3, RecGenS3 = simulate_synthetic_recording_with_mearec(rec_prms, 'L5', TEMPLATES_PATH, RECORDING_S3_H5_PATH)\n",
    "\n",
    "# set extractor properties (metadata)\n",
    "RecordingS3, SortingS3 = set_metadata_to_mearec_simulations(RecGenS3, RecordingS3, SortingS3)\n",
    "SortingS3 = standardize_metadata(SortingS3)\n",
    "\n",
    "# save extractors\n",
    "RecordingS3.save(folder=RECORDING_S3_PATH, **save_recording_params)\n",
    "SortingS3.save(folder=GROUND_TRUTH_S3_PATH, overwrite=True)\n",
    "\n",
    "# save simulation global parameters (reproducibility)\n",
    "save_simulation_parameters_to_assets(rec_prms, RecGenS3, INPUT_PARAMS_S3_PATH, OUTPUT_PARAMS_S3_PATH)\n",
    "\n",
    "# report parameters\n",
    "# report_simulation_parameters(RecGen)\n",
    "# report parameters\n",
    "# report_simulation_parameters(RecGen)\n",
    "print(si.load_extractor(GROUND_TRUTH_S3_PATH).get_property_keys())\n",
    "print(si.load_extractor(RECORDING_S3_PATH).get_property_keys())"
   ]
  },
  {
   "cell_type": "markdown",
   "metadata": {},
   "source": [
    "### S4 - FR range"
   ]
  },
  {
   "cell_type": "code",
   "execution_count": null,
   "metadata": {},
   "outputs": [],
   "source": [
    "%%time\n",
    "\n",
    "# change firing range (by adjusting st_exc and st_inh)\n",
    "# check with:\n",
    "#   firing_ranges = get_firing_ranges(WeGtNS)\n",
    "#   display(firing_ranges.max())\n",
    "#   display(firing_ranges[SortingGtNS.get_property('synapse_class')=='EXC'].std())\n",
    "#   display(firing_ranges[SortingGtNS.get_property('synapse_class')=='INH'].std())\n",
    "rec_prms['spiketrains']['n_exc'] = 200\n",
    "rec_prms['spiketrains']['n_inh'] = 17\n",
    "rec_prms['templates']['min_dist'] = 1.6\n",
    "rec_prms['spiketrains']['f_exc'] = 0.3    # mean firing rate of exc cells in Hz (15 x lower)\n",
    "rec_prms['spiketrains']['f_inh'] = 1      # mean firing rate of inh cells in Hz (10 x lower)\n",
    "rec_prms['spiketrains']['min_rate'] = 0   # same as npx_spont for 10 min recording (all cells fired for the entire recording)\n",
    "\n",
    "rec_prms['spiketrains']['st_exc'] = 0.20  # firing rate standard deviation of excitatory cells in Hz (produces empirically 0.34)\n",
    "rec_prms['spiketrains']['st_inh'] = 0.45  # firing rate standard deviation of inhibitory cells in Hz (produces empirically 0.30)\n",
    "\n",
    "# simulate recording with MEArec (23 min)\n",
    "RecordingS4, SortingS4, RecGenS4 = simulate_synthetic_recording_with_mearec(rec_prms, 'L5', TEMPLATES_PATH, RECORDING_S4_H5_PATH)\n",
    "\n",
    "# set extractor properties (metadata)\n",
    "RecordingS4, SortingS4 = set_metadata_to_mearec_simulations(RecGenS4, RecordingS4, SortingS4)\n",
    "\n",
    "# save extractors\n",
    "RecordingS4.save(folder=RECORDING_S4_PATH, **save_recording_params)\n",
    "SortingS4.save(folder=GROUND_TRUTH_S4_PATH, overwrite=True)\n",
    "\n",
    "# save simulation global parameters (reproducibility)\n",
    "save_simulation_parameters_to_assets(rec_prms, RecGenS4, INPUT_PARAMS_S4_PATH, OUTPUT_PARAMS_S4_PATH)\n",
    "\n",
    "# report parameters\n",
    "# report_simulation_parameters(RecGen)"
   ]
  },
  {
   "cell_type": "markdown",
   "metadata": {},
   "source": [
    "### S5 - SNR"
   ]
  },
  {
   "cell_type": "code",
   "execution_count": null,
   "metadata": {},
   "outputs": [],
   "source": [
    "%%time\n",
    "\n",
    "# change spike amplitudes\n",
    "rec_prms['spiketrains']['n_exc'] = 200\n",
    "rec_prms['spiketrains']['n_inh'] = 17\n",
    "rec_prms['templates']['min_dist'] = 1.6\n",
    "rec_prms['spiketrains']['f_exc'] = 0.3    # mean firing rate of exc cells in Hz (15 x lower)\n",
    "rec_prms['spiketrains']['f_inh'] = 1      # mean firing rate of inh cells in Hz (10 x lower)\n",
    "rec_prms['spiketrains']['min_rate'] = 0   # same as npx_spont for 10 min recording (all cells fired for the entire recording)\n",
    "rec_prms['spiketrains']['st_exc'] = 0.30  # firing rate standard deviation of excitatory cells in Hz ()\n",
    "rec_prms['spiketrains']['st_inh'] = 0.35  # firing rate standard deviation of inhibitory cells in Hz (produces empirically 0.26)\n",
    "\n",
    "rec_prms['templates']['min_amp'] = 100    # minimum spike amplitude in uV\n",
    "rec_prms['templates']['max_amp'] = 600    # maximum spike amplitude in uV\n",
    "\n",
    "# simulate synthetic recording with MEArec (takes 78 min)\n",
    "RecordingS4, SortingS4, RecGenS4 = simulate_synthetic_recording_with_mearec(rec_prms, 'L5', TEMPLATES_PATH, RECORDING_S4_H5_PATH, RECORDING_S4_PATH, GROUND_TRUTH_S4_PATH, N_JOBS, CHUNKS)\n",
    "\n",
    "# report parameters\n",
    "report_simulation_parameters(RecGenS4)"
   ]
  },
  {
   "cell_type": "markdown",
   "metadata": {},
   "source": [
    "## Load/compute data\n",
    "\n",
    "- Execution time: "
   ]
  },
  {
   "cell_type": "code",
   "execution_count": 229,
   "metadata": {},
   "outputs": [
    {
     "data": {
      "application/vnd.jupyter.widget-view+json": {
       "model_id": "19eadf28b2dc489d98b82b3688f81b71",
       "version_major": 2,
       "version_minor": 0
      },
      "text/plain": [
       "extract waveforms shared_memory multi buffer:   0%|          | 0/600 [00:00<?, ?it/s]"
      ]
     },
     "metadata": {},
     "output_type": "display_data"
    },
    {
     "data": {
      "application/vnd.jupyter.widget-view+json": {
       "model_id": "cf5242b7bcc14f6d836444670ce60908",
       "version_major": 2,
       "version_minor": 0
      },
      "text/plain": [
       "extract waveforms shared_memory multi buffer:   0%|          | 0/600 [00:00<?, ?it/s]"
      ]
     },
     "metadata": {},
     "output_type": "display_data"
    },
    {
     "data": {
      "application/vnd.jupyter.widget-view+json": {
       "model_id": "10017229cd2a43f68c7698880f8e2d48",
       "version_major": 2,
       "version_minor": 0
      },
      "text/plain": [
       "extract waveforms memmap multi buffer:   0%|          | 0/600 [00:00<?, ?it/s]"
      ]
     },
     "metadata": {},
     "output_type": "display_data"
    },
    {
     "data": {
      "application/vnd.jupyter.widget-view+json": {
       "model_id": "c66b7c350cdc46a3a5fab73be3319090",
       "version_major": 2,
       "version_minor": 0
      },
      "text/plain": [
       "extract waveforms shared_memory multi buffer:   0%|          | 0/600 [00:00<?, ?it/s]"
      ]
     },
     "metadata": {},
     "output_type": "display_data"
    },
    {
     "data": {
      "application/vnd.jupyter.widget-view+json": {
       "model_id": "0933095b6e72452c87e5f2d18103f0ec",
       "version_major": 2,
       "version_minor": 0
      },
      "text/plain": [
       "extract waveforms shared_memory multi buffer:   0%|          | 0/600 [00:00<?, ?it/s]"
      ]
     },
     "metadata": {},
     "output_type": "display_data"
    },
    {
     "data": {
      "application/vnd.jupyter.widget-view+json": {
       "model_id": "bbdbe81ca4a64798afbafc585148ceaf",
       "version_major": 2,
       "version_minor": 0
      },
      "text/plain": [
       "extract waveforms memmap multi buffer:   0%|          | 0/600 [00:00<?, ?it/s]"
      ]
     },
     "metadata": {},
     "output_type": "display_data"
    },
    {
     "data": {
      "application/vnd.jupyter.widget-view+json": {
       "model_id": "cf91007175994edd9d78361d1f6070cd",
       "version_major": 2,
       "version_minor": 0
      },
      "text/plain": [
       "extract waveforms shared_memory multi buffer:   0%|          | 0/600 [00:00<?, ?it/s]"
      ]
     },
     "metadata": {},
     "output_type": "display_data"
    },
    {
     "data": {
      "application/vnd.jupyter.widget-view+json": {
       "model_id": "757bde412e3f48efb6f10d50dc17ca5f",
       "version_major": 2,
       "version_minor": 0
      },
      "text/plain": [
       "extract waveforms shared_memory multi buffer:   0%|          | 0/600 [00:00<?, ?it/s]"
      ]
     },
     "metadata": {},
     "output_type": "display_data"
    },
    {
     "data": {
      "application/vnd.jupyter.widget-view+json": {
       "model_id": "feb7da76bc514f4cb6af6baa9829b2bc",
       "version_major": 2,
       "version_minor": 0
      },
      "text/plain": [
       "extract waveforms shared_memory multi buffer:   0%|          | 0/600 [00:00<?, ?it/s]"
      ]
     },
     "metadata": {},
     "output_type": "display_data"
    },
    {
     "data": {
      "application/vnd.jupyter.widget-view+json": {
       "model_id": "185be7abf6fb444cb6ddf4fb920be2c4",
       "version_major": 2,
       "version_minor": 0
      },
      "text/plain": [
       "extract waveforms shared_memory multi buffer:   0%|          | 0/600 [00:00<?, ?it/s]"
      ]
     },
     "metadata": {},
     "output_type": "display_data"
    },
    {
     "data": {
      "application/vnd.jupyter.widget-view+json": {
       "model_id": "1555a986f0b24b319581c55ed4262c8b",
       "version_major": 2,
       "version_minor": 0
      },
      "text/plain": [
       "extract waveforms shared_memory multi buffer:   0%|          | 0/600 [00:00<?, ?it/s]"
      ]
     },
     "metadata": {},
     "output_type": "display_data"
    },
    {
     "data": {
      "application/vnd.jupyter.widget-view+json": {
       "model_id": "742cddcdb0dc486e85c219afd0454b6d",
       "version_major": 2,
       "version_minor": 0
      },
      "text/plain": [
       "extract waveforms shared_memory multi buffer:   0%|          | 0/600 [00:00<?, ?it/s]"
      ]
     },
     "metadata": {},
     "output_type": "display_data"
    },
    {
     "data": {
      "application/vnd.jupyter.widget-view+json": {
       "model_id": "152364e6983b49c7991be229d4a8c163",
       "version_major": 2,
       "version_minor": 0
      },
      "text/plain": [
       "extract waveforms shared_memory multi buffer:   0%|          | 0/600 [00:00<?, ?it/s]"
      ]
     },
     "metadata": {},
     "output_type": "display_data"
    },
    {
     "data": {
      "application/vnd.jupyter.widget-view+json": {
       "model_id": "1272316eb2c94056a4b3dbf2b203c46e",
       "version_major": 2,
       "version_minor": 0
      },
      "text/plain": [
       "extract waveforms memmap multi buffer:   0%|          | 0/600 [00:00<?, ?it/s]"
      ]
     },
     "metadata": {},
     "output_type": "display_data"
    },
    {
     "data": {
      "application/vnd.jupyter.widget-view+json": {
       "model_id": "095d437ea1954378a340290b5dafb3a1",
       "version_major": 2,
       "version_minor": 0
      },
      "text/plain": [
       "extract waveforms shared_memory multi buffer:   0%|          | 0/600 [00:00<?, ?it/s]"
      ]
     },
     "metadata": {},
     "output_type": "display_data"
    },
    {
     "data": {
      "application/vnd.jupyter.widget-view+json": {
       "model_id": "6b72b54434e242ef97be5c447d259c22",
       "version_major": 2,
       "version_minor": 0
      },
      "text/plain": [
       "extract waveforms shared_memory multi buffer:   0%|          | 0/600 [00:00<?, ?it/s]"
      ]
     },
     "metadata": {},
     "output_type": "display_data"
    },
    {
     "data": {
      "application/vnd.jupyter.widget-view+json": {
       "model_id": "7ad65b55a862484887576b2ef5c14270",
       "version_major": 2,
       "version_minor": 0
      },
      "text/plain": [
       "extract waveforms shared_memory multi buffer:   0%|          | 0/600 [00:00<?, ?it/s]"
      ]
     },
     "metadata": {},
     "output_type": "display_data"
    },
    {
     "data": {
      "application/vnd.jupyter.widget-view+json": {
       "model_id": "67b7ac0fc6d3466381873a2ee09c8797",
       "version_major": 2,
       "version_minor": 0
      },
      "text/plain": [
       "extract waveforms shared_memory multi buffer:   0%|          | 0/600 [00:00<?, ?it/s]"
      ]
     },
     "metadata": {},
     "output_type": "display_data"
    },
    {
     "data": {
      "application/vnd.jupyter.widget-view+json": {
       "model_id": "23c18a57bb2e4f4da0d6df9c619d6890",
       "version_major": 2,
       "version_minor": 0
      },
      "text/plain": [
       "extract waveforms shared_memory multi buffer:   0%|          | 0/600 [00:00<?, ?it/s]"
      ]
     },
     "metadata": {},
     "output_type": "display_data"
    },
    {
     "data": {
      "application/vnd.jupyter.widget-view+json": {
       "model_id": "a9e4eb992749487e9e6d9a77b5446744",
       "version_major": 2,
       "version_minor": 0
      },
      "text/plain": [
       "extract waveforms shared_memory multi buffer:   0%|          | 0/600 [00:00<?, ?it/s]"
      ]
     },
     "metadata": {},
     "output_type": "display_data"
    },
    {
     "data": {
      "application/vnd.jupyter.widget-view+json": {
       "model_id": "5099f4a32c944fbfa3216d11a289f5af",
       "version_major": 2,
       "version_minor": 0
      },
      "text/plain": [
       "extract waveforms shared_memory multi buffer:   0%|          | 0/600 [00:00<?, ?it/s]"
      ]
     },
     "metadata": {},
     "output_type": "display_data"
    },
    {
     "data": {
      "application/vnd.jupyter.widget-view+json": {
       "model_id": "a301a4ef8f4d4084aff37a4f493d4783",
       "version_major": 2,
       "version_minor": 0
      },
      "text/plain": [
       "extract waveforms memmap multi buffer:   0%|          | 0/600 [00:00<?, ?it/s]"
      ]
     },
     "metadata": {},
     "output_type": "display_data"
    },
    {
     "data": {
      "application/vnd.jupyter.widget-view+json": {
       "model_id": "28de9e40e89f42718e1809c186a6ee2e",
       "version_major": 2,
       "version_minor": 0
      },
      "text/plain": [
       "extract waveforms shared_memory multi buffer:   0%|          | 0/600 [00:00<?, ?it/s]"
      ]
     },
     "metadata": {},
     "output_type": "display_data"
    },
    {
     "data": {
      "application/vnd.jupyter.widget-view+json": {
       "model_id": "22f3059be9544499a8226ac3c1e8623a",
       "version_major": 2,
       "version_minor": 0
      },
      "text/plain": [
       "extract waveforms shared_memory multi buffer:   0%|          | 0/600 [00:00<?, ?it/s]"
      ]
     },
     "metadata": {},
     "output_type": "display_data"
    },
    {
     "data": {
      "application/vnd.jupyter.widget-view+json": {
       "model_id": "ff4c16f3a02f439ba2ceb7d7f04b008c",
       "version_major": 2,
       "version_minor": 0
      },
      "text/plain": [
       "extract waveforms shared_memory multi buffer:   0%|          | 0/600 [00:00<?, ?it/s]"
      ]
     },
     "metadata": {},
     "output_type": "display_data"
    },
    {
     "data": {
      "application/vnd.jupyter.widget-view+json": {
       "model_id": "7a86771df8cc4fd7b88e8b9c3121206f",
       "version_major": 2,
       "version_minor": 0
      },
      "text/plain": [
       "extract waveforms shared_memory multi buffer:   0%|          | 0/600 [00:00<?, ?it/s]"
      ]
     },
     "metadata": {},
     "output_type": "display_data"
    },
    {
     "data": {
      "application/vnd.jupyter.widget-view+json": {
       "model_id": "2f34f7d6ee604bd08b3d0924922e21ba",
       "version_major": 2,
       "version_minor": 0
      },
      "text/plain": [
       "extract waveforms shared_memory multi buffer:   0%|          | 0/600 [00:00<?, ?it/s]"
      ]
     },
     "metadata": {},
     "output_type": "display_data"
    },
    {
     "data": {
      "application/vnd.jupyter.widget-view+json": {
       "model_id": "81359ad8f59b44db9bce2c8b830980b8",
       "version_major": 2,
       "version_minor": 0
      },
      "text/plain": [
       "extract waveforms shared_memory multi buffer:   0%|          | 0/600 [00:00<?, ?it/s]"
      ]
     },
     "metadata": {},
     "output_type": "display_data"
    },
    {
     "data": {
      "application/vnd.jupyter.widget-view+json": {
       "model_id": "39c9ee1f94cc43549e1ebe7272f602f9",
       "version_major": 2,
       "version_minor": 0
      },
      "text/plain": [
       "extract waveforms shared_memory multi buffer:   0%|          | 0/600 [00:00<?, ?it/s]"
      ]
     },
     "metadata": {},
     "output_type": "display_data"
    },
    {
     "data": {
      "application/vnd.jupyter.widget-view+json": {
       "model_id": "2824401572284767b59febd5c08d5106",
       "version_major": 2,
       "version_minor": 0
      },
      "text/plain": [
       "extract waveforms memmap multi buffer:   0%|          | 0/600 [00:00<?, ?it/s]"
      ]
     },
     "metadata": {},
     "output_type": "display_data"
    },
    {
     "name": "stdout",
     "output_type": "stream",
     "text": [
      "CPU times: user 1min 5s, sys: 3min 23s, total: 4min 29s\n",
      "Wall time: 5min 46s\n"
     ]
    }
   ],
   "source": [
    "%%time\n",
    "\n",
    "# load orginal Buccino (already bandpass filtered 300 - 6000 Hz)\n",
    "RecordingBucci = si.load_extractor(RECORDING_BUCCINO_PATH)\n",
    "GtBucci = si.load_extractor(GROUND_TRUTH_BUCCINO_PATH)\n",
    "\n",
    "# load Buccino clone (already bandpass filtered 300 - 6000 Hz)\n",
    "RecordingRep = si.load_extractor(RECORDING_REP_PATH)\n",
    "GtRep = si.load_extractor(GROUND_TRUTH_REP_PATH)\n",
    "\n",
    "# load Buccino S2 (already bandpass filtered 300 - 6000 Hz)\n",
    "RecordingS2 = si.load_extractor(RECORDING_S2_PATH)\n",
    "GtS2 = si.load_extractor(GROUND_TRUTH_S2_PATH)\n",
    "\n",
    "# load Buccino S3 (already bandpass filtered 300 - 6000 Hz)\n",
    "RecordingS3 = si.load_extractor(RECORDING_S3_PATH)\n",
    "GtS3 = si.load_extractor(GROUND_TRUTH_S3_PATH)\n",
    "\n",
    "# # load Buccino S4 (already bandpass filtered 300 - 6000 Hz)\n",
    "# RecordingS4 = si.load_extractor(RECORDING_S4_PATH)\n",
    "# SortingGtS4 = si.load_extractor(GROUND_TRUTH_S4_PATH)\n",
    "\n",
    "# load npx_spont (preprocessed high-pass filtered >300 Hz)\n",
    "RecordingNS = si.load_extractor(RECORDING_NS_PATH)\n",
    "GtNS = si.load_extractor(GROUND_TRUTH_NS_PATH)\n",
    "GtNS = remove_excess_spikes(GtNS, RecordingNS)\n",
    "GtNS = GtNS.frame_slice(start_frame=0, end_frame=RecordingNS.get_sampling_frequency() * DURATION_S)\n",
    "\n",
    "# extract waveforms (typically takes 20 secs)\n",
    "WeGtBucci = extract_waveforms(RecordingBucci, GtBucci, WAVEFORM_GT_BUCCINO_PATH,\n",
    "    sparse=True, ms_before=3.0, ms_after=3.0, max_spikes_per_unit=500, unit_batch_size=200,\n",
    "    overwrite=True, seed=0, **job_kwargs)\n",
    "\n",
    "WeGtRep = extract_waveforms(RecordingRep, GtRep, WAVEFORM_GT_REP_PATH,\n",
    "    sparse=True, ms_before=3.0, ms_after=3.0, max_spikes_per_unit=500, unit_batch_size=200,\n",
    "    overwrite=True, seed=0, **job_kwargs)\n",
    "\n",
    "WeGtS2 = extract_waveforms(RecordingS2, GtS2, WAVEFORM_GT_S2_PATH,\n",
    "    sparse=True, ms_before=3.0, ms_after=3.0, max_spikes_per_unit=500, unit_batch_size=200,\n",
    "    overwrite=True, seed=0, **job_kwargs)\n",
    "\n",
    "WeGtS3 = extract_waveforms(RecordingS3, GtS3, WAVEFORM_GT_S3_PATH,\n",
    "    sparse=True, ms_before=3.0, ms_after=3.0, max_spikes_per_unit=500, unit_batch_size=200,\n",
    "    overwrite=True, seed=0, **job_kwargs)\n",
    "\n",
    "# WeGtS4 = extract_waveforms(RecordingS4, SortingGtS4, WAVEFORM_GT_S4_PATH,\n",
    "#     sparse=True, ms_before=3.0, ms_after=3.0, max_spikes_per_unit=500, unit_batch_size=200,\n",
    "#     overwrite=True, seed=0, **job_kwargs)\n",
    "\n",
    "WeGtNS = extract_waveforms(RecordingNS, GtNS, WAVEFORM_GT_NS_PATH,\n",
    "    sparse=True, ms_before=3.0, ms_after=3.0, max_spikes_per_unit=500, unit_batch_size=200,\n",
    "    overwrite=True, seed=0, **job_kwargs)"
   ]
  },
  {
   "cell_type": "markdown",
   "metadata": {},
   "source": [
    "## Compute/plot spiking features\n",
    "\n",
    "- Execution time: 3 min\n",
    "\n",
    "- **MAD ratio**: Values close to 1 indicate a good isolation of the unit. i.e., the mean absolute deviation of the spike amplitude is similar to the mean absolute deviation of the noise amplitude.\n",
    "    "
   ]
  },
  {
   "cell_type": "code",
   "execution_count": 231,
   "metadata": {},
   "outputs": [
    {
     "data": {
      "application/vnd.jupyter.widget-view+json": {
       "model_id": "87b65afedf2a4aaca61853d1bd35f2f8",
       "version_major": 2,
       "version_minor": 0
      },
      "text/plain": [
       "extract amplitudes:   0%|          | 0/600 [00:00<?, ?it/s]"
      ]
     },
     "metadata": {},
     "output_type": "display_data"
    },
    {
     "data": {
      "application/vnd.jupyter.widget-view+json": {
       "model_id": "d22768b694154b43bcea935fb732e046",
       "version_major": 2,
       "version_minor": 0
      },
      "text/plain": [
       "extract amplitudes:   0%|          | 0/600 [00:00<?, ?it/s]"
      ]
     },
     "metadata": {},
     "output_type": "display_data"
    },
    {
     "data": {
      "application/vnd.jupyter.widget-view+json": {
       "model_id": "a7326983c2c641e8b6c2bd12a76fe326",
       "version_major": 2,
       "version_minor": 0
      },
      "text/plain": [
       "extract amplitudes:   0%|          | 0/600 [00:00<?, ?it/s]"
      ]
     },
     "metadata": {},
     "output_type": "display_data"
    },
    {
     "data": {
      "application/vnd.jupyter.widget-view+json": {
       "model_id": "83b33aa481574fd8b548ddfeac1cffa8",
       "version_major": 2,
       "version_minor": 0
      },
      "text/plain": [
       "extract amplitudes:   0%|          | 0/600 [00:00<?, ?it/s]"
      ]
     },
     "metadata": {},
     "output_type": "display_data"
    },
    {
     "data": {
      "application/vnd.jupyter.widget-view+json": {
       "model_id": "833deffa00944dd980f983d3f634494f",
       "version_major": 2,
       "version_minor": 0
      },
      "text/plain": [
       "extract amplitudes:   0%|          | 0/600 [00:00<?, ?it/s]"
      ]
     },
     "metadata": {},
     "output_type": "display_data"
    },
    {
     "name": "stdout",
     "output_type": "stream",
     "text": [
      "CPU times: user 1min 18s, sys: 21.6 s, total: 1min 40s\n",
      "Wall time: 2min 12s\n"
     ]
    },
    {
     "data": {
      "image/png": "[encoded data removed]",
      "text/plain": [
       "<Figure size 1000x800 with 42 Axes>"
      ]
     },
     "metadata": {},
     "output_type": "display_data"
    }
   ],
   "source": [
    "%%time\n",
    "\n",
    "# setup  plot \n",
    "fig, axes = plt.subplots(7,6, figsize=(10,8))\n",
    "YLIM = 2000 # works for log scale\n",
    "\n",
    "# NS ---------------------\n",
    "\n",
    "cell_distance_ns = get_cell_to_cell_distances(GtNS)\n",
    "firing_rates_ns = get_firing_rates(GtNS, duration_s=600)\n",
    "firing_ranges_ns = get_firing_ranges(WeGtNS)\n",
    "amplitudes_ns = get_waveform_amplitude_medians(WeGtNS)\n",
    "snrs_ns = get_waveform_snr(WeGtNS)\n",
    "spreads_ns = get_spatial_spread_all_units(RECORDING_NS_PATH, WAVEFORM_GT_NS_PATH, ms_before=3, ms_after=3, peak_sign=\"neg\")\n",
    "mad_ratios_ns = get_mad_ratios(WeGtNS)\n",
    "\n",
    "# BUCCINO  ----------------------\n",
    "\n",
    "# cell-to-cell distances\n",
    "cell_distance = get_cell_to_cell_distances(GtBucci)\n",
    "plot_cell_to_cell_distances(axes[0,0], cell_distance, title='Buccino', ylim=(0,210), xlim=(0,100))\n",
    "plot_cell_to_cell_distances(axes[0,0], cell_distance_ns, title='', ylim=(0,210), xlim=(0,100), edgecolor='r', facecolor='None', ylogscale=True)\n",
    "\n",
    "# firing rates\n",
    "firing_rates = get_firing_rates(GtBucci, duration_s=600) \n",
    "plot_firing_rate_distribution(axes[1,0], firing_rates, title='', ylim=(0,YLIM), xlim=(0,25))\n",
    "plot_firing_rate_distribution(axes[1,0], firing_rates_ns, title='', ylim=(0,YLIM), xlim=(0,25), edgecolor='r', facecolor='None', ylogscale=True)\n",
    "\n",
    "# firing range\n",
    "firing_ranges = get_firing_ranges(WeGtBucci)\n",
    "plot_firing_ranges_distribution(axes[2,0], firing_ranges, title='', ylim=(0,YLIM), xlim=(0,8))\n",
    "plot_firing_ranges_distribution(axes[2,0], firing_ranges_ns, title='', ylim=(0,YLIM), xlim=(0,8), edgecolor='r', facecolor='None', ylogscale=True)\n",
    "\n",
    "# waveform amplitudes\n",
    "amplitudes_o = get_waveform_amplitude_medians(WeGtBucci)\n",
    "plot_waveform_amplitude_median_distribution(axes[3,0], amplitudes_o, title='', ylim=(0,YLIM), xlim=(0,600))\n",
    "plot_waveform_amplitude_median_distribution(axes[3,0], amplitudes_ns, title='', ylim=(0,YLIM), xlim=(0,600), edgecolor='r', facecolor='None', ylogscale=True)\n",
    "\n",
    "# waveform signal-to-noise ratio (SNR)\n",
    "snrs = get_waveform_snr(WeGtBucci)\n",
    "plot_waveform_snr_distribution(axes[4,0], snrs, title='', ylim=(0,65), xlim=(0,YLIM))\n",
    "plot_waveform_snr_distribution(axes[4,0], snrs_ns[np.isfinite(snrs_ns)], title='', ylim=(0,YLIM), xlim=(0,70), edgecolor='r', facecolor='None', ylogscale=True)\n",
    "\n",
    "# waveform spatial spread\n",
    "spreads = get_spatial_spread_all_units(RECORDING_BUCCINO_PATH, WAVEFORM_GT_BUCCINO_PATH, ms_before=3, ms_after=3, peak_sign=\"neg\")\n",
    "plot_spatial_spread_distribution(axes[5,0], spreads, title='', ylim=(0,YLIM), xlim=(0,1200))\n",
    "plot_spatial_spread_distribution(axes[5,0], spreads_ns, title='', ylim=(0,YLIM), xlim=(0,1200), edgecolor='r', facecolor='None', ylogscale=True)\n",
    "\n",
    "# waveform mad ratio\n",
    "mad_ratios = get_mad_ratios(WeGtBucci)\n",
    "plot_mad_ratio_distribution(axes[6,0], mad_ratios, title='', ylim=(0,YLIM), xlim=(0,15))\n",
    "plot_mad_ratio_distribution(axes[6,0], mad_ratios_ns, title='', ylim=(0,YLIM), xlim=(0,15), edgecolor='r', facecolor='None', ylogscale=True)\n",
    "\n",
    "# BUCCINO REPLICATE ---------------------\n",
    "\n",
    "cell_distance = get_cell_to_cell_distances(GtRep)\n",
    "plot_cell_to_cell_distances(axes[0,1], cell_distance, title='Buccino rep.', ylim=(0,210), xlim=(0,100))\n",
    "plot_cell_to_cell_distances(axes[0,1], cell_distance_ns, title='', ylim=(0,210), xlim=(0,100), edgecolor='r', facecolor='None', ylogscale=True)\n",
    "\n",
    "firing_rates = get_firing_rates(GtRep, duration_s=600)\n",
    "plot_firing_rate_distribution(axes[1,1], firing_rates, title='', ylim=(0,YLIM), xlim=(0,25))\n",
    "plot_firing_rate_distribution(axes[1,1], firing_rates_ns, title='', ylim=(0,YLIM), xlim=(0,25), edgecolor='r', facecolor='None', ylogscale=True)\n",
    "\n",
    "firing_ranges = get_firing_ranges(WeGtRep)\n",
    "plot_firing_ranges_distribution(axes[2,1], firing_ranges, title='', ylim=(0,YLIM), xlim=(0,8))\n",
    "plot_firing_ranges_distribution(axes[2,1], firing_ranges_ns, title='', ylim=(0,YLIM), xlim=(0,8), edgecolor='r', facecolor='None', ylogscale=True)\n",
    "\n",
    "amplitudes_c = get_waveform_amplitude_medians(WeGtRep)\n",
    "plot_waveform_amplitude_median_distribution(axes[3,1], amplitudes_c, title='', ylim=(0,YLIM), xlim=(0,600))\n",
    "plot_waveform_amplitude_median_distribution(axes[3,1], amplitudes_ns, title='', ylim=(0,YLIM), xlim=(0,600), edgecolor='r', facecolor='None', ylogscale=True)\n",
    "\n",
    "snrs = get_waveform_snr(WeGtRep)\n",
    "plot_waveform_snr_distribution(axes[4,1], snrs, title='', ylim=(0,YLIM), xlim=(0,70))\n",
    "plot_waveform_snr_distribution(axes[4,1], snrs_ns[np.isfinite(snrs_ns)], title='', ylim=(0,YLIM), xlim=(0,70), edgecolor='r', facecolor='None', ylogscale=True)\n",
    "\n",
    "spreads = get_spatial_spread_all_units(RECORDING_REP_PATH, WAVEFORM_GT_REP_PATH, ms_before=3, ms_after=3, peak_sign=\"neg\")\n",
    "plot_spatial_spread_distribution(axes[5,1], spreads, title='', ylim=(0,YLIM), xlim=(0,1200))\n",
    "plot_spatial_spread_distribution(axes[5,1], spreads_ns, title='', ylim=(0,YLIM), xlim=(0,1200), edgecolor='r', facecolor='None', ylogscale=True)\n",
    "\n",
    "mad_ratios = get_mad_ratios(WeGtRep)\n",
    "plot_mad_ratio_distribution(axes[6,1], mad_ratios, title='', ylim=(0,YLIM), xlim=(0,15))\n",
    "plot_mad_ratio_distribution(axes[6,1], mad_ratios_ns, title='', ylim=(0,YLIM), xlim=(0,15), edgecolor='r', facecolor='None', ylogscale=True)\n",
    "\n",
    "# S2 ---------------------\n",
    "\n",
    "cell_distance = get_cell_to_cell_distances(GtS2)\n",
    "plot_cell_to_cell_distances(axes[0,2], cell_distance, title='S2:same \\n# cell & density', ylim=(0,210), xlim=(0,100))\n",
    "plot_cell_to_cell_distances(axes[0,2], cell_distance_ns, title='', ylim=(0,210), xlim=(0,100), edgecolor='r', facecolor='None', ylogscale=True)\n",
    "axes[0,2].text(100,100, 'Matched', ha='right', va='top', fontsize=8, color='red')\n",
    "    \n",
    "firing_rates = get_firing_rates(GtS2, duration_s=600) # our S2\n",
    "plot_firing_rate_distribution(axes[1,2], firing_rates, title='', ylim=(0,YLIM), xlim=(0,25))\n",
    "plot_firing_rate_distribution(axes[1,2], firing_rates_ns, title='', ylim=(0,YLIM), xlim=(0,25), edgecolor='r', facecolor='None', ylogscale=True)\n",
    "\n",
    "firing_ranges = get_firing_ranges(WeGtS2)\n",
    "plot_firing_ranges_distribution(axes[2,2], firing_ranges, title='', ylim=(0,YLIM), xlim=(0,8))\n",
    "plot_firing_ranges_distribution(axes[2,2], firing_ranges_ns, title='', ylim=(0,YLIM), xlim=(0,8), edgecolor='r', facecolor='None', ylogscale=True)\n",
    "\n",
    "amplitudes_c = get_waveform_amplitude_medians(WeGtS2)\n",
    "plot_waveform_amplitude_median_distribution(axes[3,2], amplitudes_c, title='', ylim=(0,YLIM), xlim=(0,600))\n",
    "plot_waveform_amplitude_median_distribution(axes[3,2], amplitudes_ns, title='', ylim=(0,YLIM), xlim=(0,600), edgecolor='r', facecolor='None', ylogscale=True)\n",
    "\n",
    "snrs = get_waveform_snr(WeGtS2)\n",
    "plot_waveform_snr_distribution(axes[4,2], snrs, title='', ylim=(0,YLIM), xlim=(0,70))\n",
    "plot_waveform_snr_distribution(axes[4,2], snrs_ns[np.isfinite(snrs_ns)], title='', ylim=(0,YLIM), xlim=(0,70), edgecolor='r', facecolor='None', ylogscale=True)\n",
    "\n",
    "spreads = get_spatial_spread_all_units(RECORDING_S2_PATH, WAVEFORM_GT_S2_PATH, ms_before=3, ms_after=3, peak_sign=\"neg\")\n",
    "plot_spatial_spread_distribution(axes[5,2], spreads, title='', ylim=(0,YLIM), xlim=(0,1200))\n",
    "plot_spatial_spread_distribution(axes[5,2], spreads_ns, title='', ylim=(0,YLIM), xlim=(0,1200), edgecolor='r', facecolor='None', ylogscale=True)\n",
    "\n",
    "mad_ratios = get_mad_ratios(WeGtS2)\n",
    "plot_mad_ratio_distribution(axes[6,2], mad_ratios, title='', ylim=(0,YLIM), xlim=(0,15))\n",
    "plot_mad_ratio_distribution(axes[6,2], mad_ratios_ns, title='', ylim=(0,YLIM), xlim=(0,15), edgecolor='r', facecolor='None', ylogscale=True)\n",
    "\n",
    "# S3 ---------------------\n",
    "\n",
    "cell_distance = get_cell_to_cell_distances(GtS3)\n",
    "plot_cell_to_cell_distances(axes[0,3], cell_distance, title='S3: ..and same \\nfiring rate)', ylim=(0,210), xlim=(0,100))\n",
    "plot_cell_to_cell_distances(axes[0,3], cell_distance_ns, title='', ylim=(0,210), xlim=(0,100), edgecolor='r', facecolor='None', ylogscale=True)\n",
    "\n",
    "firing_rates = get_firing_rates(GtS3, duration_s=600)\n",
    "plot_firing_rate_distribution(axes[1,3], firing_rates, title='', ylim=(0,YLIM), xlim=(0,25))\n",
    "plot_firing_rate_distribution(axes[1,3], firing_rates_ns, title='', ylim=(0,YLIM), xlim=(0,25), edgecolor='r', facecolor='None', ylogscale=True)\n",
    "axes[1,3].text(100, 100, 'Matched', ha='right', va='top', fontsize=8, color='red')\n",
    "\n",
    "firing_ranges = get_firing_ranges(WeGtS3)\n",
    "plot_firing_ranges_distribution(axes[2,3], firing_ranges, title='', ylim=(0,YLIM), xlim=(0,8))\n",
    "plot_firing_ranges_distribution(axes[2,3], firing_ranges_ns, title='', ylim=(0,YLIM), xlim=(0,8), edgecolor='r', facecolor='None', ylogscale=True)\n",
    "\n",
    "amplitudes_c = get_waveform_amplitude_medians(WeGtS3)\n",
    "plot_waveform_amplitude_median_distribution(axes[3,3], amplitudes_c, title='', ylim=(0,YLIM), xlim=(0,600))\n",
    "plot_waveform_amplitude_median_distribution(axes[3,3], amplitudes_ns, title='', ylim=(0,YLIM), xlim=(0,600), edgecolor='r', facecolor='None', ylogscale=True)\n",
    "\n",
    "snrs = get_waveform_snr(WeGtS3)\n",
    "plot_waveform_snr_distribution(axes[4,3], snrs, title='', ylim=(0,65), xlim=(0,YLIM))\n",
    "plot_waveform_snr_distribution(axes[4,3], snrs_ns[np.isfinite(snrs_ns)], title='', ylim=(0,YLIM), xlim=(0,70), edgecolor='r', facecolor='None', ylogscale=True)\n",
    "\n",
    "spreads = get_spatial_spread_all_units(RECORDING_S3_PATH, WAVEFORM_GT_S3_PATH, ms_before=3, ms_after=3, peak_sign=\"neg\")\n",
    "plot_spatial_spread_distribution(axes[5,3], spreads, title='', ylim=(0,YLIM), xlim=(0,1200))\n",
    "plot_spatial_spread_distribution(axes[5,3], spreads_ns, title='', ylim=(0,YLIM), xlim=(0,1200), edgecolor='r', facecolor='None', ylogscale=True)\n",
    "\n",
    "mad_ratios = get_mad_ratios(WeGtS3)\n",
    "plot_mad_ratio_distribution(axes[6,3], mad_ratios, title='', ylim=(0,YLIM), xlim=(0,15))\n",
    "plot_mad_ratio_distribution(axes[6,3], mad_ratios_ns, title='', ylim=(0,YLIM), xlim=(0,15), edgecolor='r', facecolor='None', ylogscale=True)\n",
    "\n",
    "# S4 ---------------------\n",
    "\n",
    "#cell_distance = get_cell_to_cell_distances(GtS4)\n",
    "#plot_cell_to_cell_distances(axes[0,4], cell_distance, title='Synthetic 3', ylim=(0,210), xlim=(0,100))\n",
    "plot_cell_to_cell_distances(axes[0,4], cell_distance_ns, title='', ylim=(0,210), xlim=(0,100), edgecolor='r', facecolor='None', ylogscale=True)\n",
    "\n",
    "# firing_rates = get_firing_rates(GtS4, duration_s=600)\n",
    "# plot_firing_rate_distribution(axes[1,4], firing_rates, title='', ylim=(0,YLIM), xlim=(0,8))\n",
    "plot_firing_rate_distribution(axes[1,4], firing_rates_ns, title='', ylim=(0,YLIM), xlim=(0,25), edgecolor='r', facecolor='None', ylogscale=True)\n",
    "\n",
    "# firing_ranges = get_firing_ranges(WeGtS4)\n",
    "# plot_firing_ranges_distribution(axes[1,5], firing_ranges, title='', ylim=(0,YLIM), xlim=(0,8))\n",
    "plot_firing_ranges_distribution(axes[1,5], firing_ranges_ns, title='', ylim=(0,YLIM), xlim=(0,8), edgecolor='r', facecolor='None', ylogscale=True)\n",
    "\n",
    "# amplitudes_c = get_waveform_amplitude_medians(WeGtS4)\n",
    "# plot_waveform_amplitude_median_distribution(axes[2,4], amplitudes_c, title='', ylim=(0,YLIM), xlim=(0,600))\n",
    "plot_waveform_amplitude_median_distribution(axes[2,4], amplitudes_ns, title='', ylim=(0,YLIM), xlim=(0,600), edgecolor='r', facecolor='None', ylogscale=True)\n",
    "\n",
    "# snrs = get_waveform_snr(WeGtS4)\n",
    "# plot_waveform_snr_distribution(axes[3,4], snrs, title='', ylim=(0,YLIM), xlim=(0,2000))\n",
    "plot_waveform_snr_distribution(axes[3,4], snrs_ns[np.isfinite(snrs_ns)], title='', ylim=(0,YLIM), xlim=(0,70), edgecolor='r', facecolor='None', ylogscale=True)\n",
    "\n",
    "# firing_rates = get_firing_rates(GtS4, duration_s=600)\n",
    "# plot_firing_rate_distribution(axes[0,4], firing_rates, title='Buccino 4', ylim=(0,YLIM), xlim=(0,25))\n",
    "plot_firing_rate_distribution(axes[0,4], firing_rates_ns, title='Buccino 4', ylim=(0,YLIM), xlim=(0,25), edgecolor='r', facecolor='None', ylogscale=True)\n",
    "\n",
    "# spreads = get_spatial_spread_all_units(RECORDING_S4_PATH, WAVEFORM_GT_S4_PATH, ms_before=3, ms_after=3, peak_sign=\"neg\")\n",
    "# plot_spatial_spread_distribution(axes[4,4], spreads, title='', ylim=(0,YLIM), xlim=(0,1200))\n",
    "plot_spatial_spread_distribution(axes[4,4], spreads_ns, title='', ylim=(0,YLIM), xlim=(0,1200), edgecolor='r', facecolor='None', ylogscale=True)\n",
    "\n",
    "# mad_ratios = get_mad_ratios(WeGtS4)\n",
    "# plot_mad_ratio_distribution(axes[5,4], mad_ratios, title='', ylim=(0,YLIM), xlim=(0,15))\n",
    "plot_mad_ratio_distribution(axes[5,4], mad_ratios, title='', ylim=(0,YLIM), xlim=(0,15), edgecolor='r', facecolor='None', ylogscale=True)\n",
    "\n",
    "\n",
    "# CELL POSITIONS -----------------------\n",
    "\n",
    "# distribution of distances to electrode [TODO]\n",
    "\n",
    "fig.tight_layout(pad=0.1)\n",
    "\n",
    "# save fig\n",
    "plt.savefig(\"figures/7_reviews/figA_pros_of_details_matching_features.svg\", **savefig_cfg)"
   ]
  },
  {
   "cell_type": "markdown",
   "metadata": {},
   "source": [
    "## Yields"
   ]
  },
  {
   "cell_type": "code",
   "execution_count": 237,
   "metadata": {},
   "outputs": [],
   "source": [
    "# SORTED_ks4_paths = {\n",
    "#     \"Buccino\": 'dataset/01_intermediate/sorting/buccino/SortingKS4',\n",
    "#     's_1\\ncopy': './temp/npx_synth_clone/SortingKS4_10m_RTX5090',\n",
    "#     's2\\ncell count': './temp/npx_synth2/SortingKS4_10m_RTX5090',\n",
    "#     's3\\nrate': './temp/npx_synth3/SortingKS4_10m_RTX5090',\n",
    "#     's4\\nrange': './temp/npx_synth4/SortingKS4_10m_RTX5090',\n",
    "#     \"NS\": SORTING_KS4_NS_PATH,\n",
    "# }\n",
    "SORTED_ks4_paths = {\n",
    "    \"Buccino\": 'dataset/01_intermediate/sorting/buccino/SortingKS4',\n",
    "    'Buccino\\nrep': './temp/pros_of_details/npx_buccino_rep/SortingKS4_10m_RTX5090',\n",
    "    's2\\ncell count': './temp/pros_of_details/npx_synth2/SortingKS4_10m_RTX5090',\n",
    "    's3\\nf.rate': './temp/pros_of_details/npx_synth3/SortingKS4_10m_RTX5090',\n",
    "    's4\\nrange': './temp/pros_of_details/npx_synth3/SortingKS4_10m_RTX5090',\n",
    "    \"NS\": SORTING_KS4_NS_PATH,\n",
    "}\n",
    "\n",
    "# plot parameters\n",
    "FIGSIZE = (5.5, 2.2)\n",
    "SHIFT = 0.3\n",
    "exp_names = ('Buccino', 'Buccino\\nrep', 's2\\ncell count', 's3\\nf.rate', 's4\\nrange', 'NS')\n",
    "number_pos = {'exp1_x':-0.3 + SHIFT, 'exp1_y_su': 0.2, 'exp1_y_mu': 0.8,\n",
    "              'exp2_x': 0.7 + SHIFT, 'exp2_y_su': 0.2, 'exp2_y_mu': 0.8,\n",
    "              'exp3_x': 1.7 + SHIFT, 'exp3_y_su': 0.2, 'exp3_y_mu': 0.87,\n",
    "              'exp4_x': 2.7 + SHIFT, 'exp4_y_su': 0.2, 'exp4_y_mu': 0.87,\n",
    "              'exp5_x': 3.7 + SHIFT, 'exp5_y_su': 0.2, 'exp5_y_mu': 0.87,\n",
    "              'exp6_x': 4.7 + SHIFT, 'exp6_y_su': 0.2, 'exp6_y_mu': 0.87}\n",
    "legend_cfg = {\"frameon\": False, \"handletextpad\": 0.1}"
   ]
  },
  {
   "cell_type": "code",
   "execution_count": 238,
   "metadata": {},
   "outputs": [
    {
     "data": {
      "image/png": "[encoded data removed]",
      "text/plain": [
       "<Figure size 550x220 with 1 Axes>"
      ]
     },
     "metadata": {},
     "output_type": "display_data"
    }
   ],
   "source": [
    "# compute data\n",
    "plot_data = process_each_experiment(SORTED_ks4_paths['Buccino'], SORTED_ks4_paths['Buccino\\nrep'], \n",
    "                                    SORTED_ks4_paths['s2\\ncell count'], SORTED_ks4_paths['s3\\nf.rate'], SORTED_ks4_paths['s4\\nrange'], \n",
    "                                    SORTED_ks4_paths['NS'], exp_names)\n",
    "\n",
    "# setup plot\n",
    "_, ax = plt.subplots(1,1,figsize=FIGSIZE)\n",
    "\n",
    "# plot (white: single-unit; black: multi-units)\n",
    "isolation.plot_unit_isolation_pros_of_added_detailed(ax, plot_data['Buccino'], \n",
    "                                                     plot_data['Buccino\\nrep'], plot_data['s2\\ncell count'], plot_data['s3\\nf.rate'], \n",
    "                                                     plot_data['s4\\nrange'], plot_data['NS'], \n",
    "                                                     legend_cfg, number_pos, exp_names)\n",
    "\n",
    "# legend\n",
    "ax.set_yticks([0, 0.25, 0.5, 0.75, 1], [0, 0.25, 0.5, 0.75, 1])\n",
    "ax.set_title('Linking the Buccino model with the biophysical model')\n",
    "plt.tight_layout()\n",
    "\n",
    "# save figures\n",
    "plt.savefig(\"figures/7_reviews/figB_pros_of_details_yield.svg\", **savefig_cfg)"
   ]
  },
  {
   "cell_type": "markdown",
   "metadata": {},
   "source": [
    "## Supplementary methods"
   ]
  },
  {
   "cell_type": "markdown",
   "metadata": {},
   "source": [
    "TODO:\n",
    "- store our cell positions and use them in buccino's simulation to get the exact same cell locations.\n",
    "- number of single-units should increase by f^3 (upper bound)\n",
    "- conclusion: it is important to use biological cell densities, which we use."
   ]
  },
  {
   "cell_type": "markdown",
   "metadata": {},
   "source": [
    "### Cell locations\n",
    "\n",
    "- The MEA probes are located on the yz plane, with an adjustable x-offset (offset) set to 0  by default."
   ]
  },
  {
   "cell_type": "code",
   "execution_count": 31,
   "metadata": {},
   "outputs": [
    {
     "name": "stdout",
     "output_type": "stream",
     "text": [
      "x (depth):\n",
      "-min: -49.928803122976774\n",
      "-max: 49.8361459345757\n",
      "\n",
      "y:\n",
      "-min: -73.96579222038521\n",
      "-max: 73.79318388072528\n",
      "\n",
      "z:\n",
      "-min: -1000.5337516271763\n",
      "-max: 1000.807144455734\n",
      "\n",
      "x (depth):\n",
      "-min: 3263.91095188888\n",
      "-max: 4562.37147835935\n",
      "\n",
      "y:\n",
      "-min: -1485.1126678433502\n",
      "-max: -987.4235813424148\n",
      "\n",
      "z:\n",
      "-min: -3233.206345506907\n",
      "-max: -1723.7586189692386\n",
      "S2 sites x-pitch:  40.0\n",
      "S2 sites y-pitch:  25.612496949731394\n",
      "S2 sites x-pitch: 39.99999999999982\n",
      "S2 sites x-pitch: 25.612496949731355\n",
      "max cell to cell distance: 2004.5641900203805\n",
      "max cell to cell distance: 2002.312123185693\n"
     ]
    },
    {
     "data": {
      "image/png": "[encoded data removed]",
      "text/plain": [
       "<Figure size 800x250 with 3 Axes>"
      ]
     },
     "metadata": {},
     "output_type": "display_data"
    }
   ],
   "source": [
    "# get S2 cell locations\n",
    "GtS2 = si.load_extractor(GROUND_TRUTH_S2_PATH)\n",
    "locS2 = GtS2.get_property('soma_position')\n",
    "\n",
    "print('x (depth):')\n",
    "print('-min:', locS2[:,0].min())\n",
    "print('-max:', locS2[:,0].max())\n",
    "print('\\ny:')\n",
    "print('-min:', locS2[:,1].min())\n",
    "print('-max:', locS2[:,1].max())\n",
    "print('\\nz:')\n",
    "print('-min:', locS2[:,2].min())\n",
    "print('-max:', locS2[:,2].max())\n",
    "\n",
    "# get NS cell locations\n",
    "GtNS = si.load_extractor(GROUND_TRUTH_NS_PATH)\n",
    "loc = get_cell_locations(GtNS)\n",
    "\n",
    "print('\\nx (depth):')\n",
    "print('-min:', loc[:,0].min())\n",
    "print('-max:', loc[:,0].max())\n",
    "print('\\ny:')\n",
    "print('-min:', loc[:,1].min())\n",
    "print('-max:', loc[:,1].max())\n",
    "print('\\nz:')\n",
    "print('-min:', loc[:,2].min())\n",
    "print('-max:', loc[:,2].max())\n",
    "\n",
    "# setup plot\n",
    "fig, ax = plt.subplots(1,3, figsize=(8,2.5))\n",
    "\n",
    "# plot synthetic model with matched cell count, density and cell-to-cell distances, and electrodes\n",
    "GtS2 = si.load_extractor(GROUND_TRUTH_S2_PATH)\n",
    "locS2 = GtS2.get_property('soma_position')\n",
    "\n",
    "recS2 = si.load_extractor(RECORDING_S2_PATH)\n",
    "site_locS2 = recS2.get_property('location')\n",
    "site_locS2 = np.insert(site_locS2, 0, 0, axis=1)\n",
    "print('S2 sites x-pitch: ', _euclidean_distance(site_locS2[0,:], site_locS2[1,:]))\n",
    "print('S2 sites y-pitch: ', _euclidean_distance(site_locS2[0,:], site_locS2[96,:]))\n",
    "\n",
    "# yz plane\n",
    "ax[0].plot(locS2[:,1], locS2[:,2],'.')\n",
    "ax[0].plot(site_locS2[:,1], site_locS2[:,2],'.')\n",
    "ax[0].set_xlabel('y')\n",
    "ax[0].set_ylabel('z')\n",
    "ax[0].set_title('S2 yz plane')\n",
    "\n",
    "# xy plane\n",
    "ax[1].plot(locS2[:,0], locS2[:,1],'.')\n",
    "ax[1].plot(site_locS2[:,0], site_locS2[:,1],'.')\n",
    "ax[1].set_xlabel('x')\n",
    "ax[1].set_ylabel('y')\n",
    "ax[1].set_title('S2 xy plane')\n",
    "\n",
    "#plt.tight_layout()\n",
    "\n",
    "# plot npx_spont cells and electrodes\n",
    "GtNS = si.load_extractor(GROUND_TRUTH_NS_PATH)\n",
    "locNS = get_cell_locations(GtNS)\n",
    "\n",
    "recNS = si.load_extractor(RECORDING_NS_PATH)\n",
    "site_locNS = recNS.get_property('location')\n",
    "print('S2 sites x-pitch:', _euclidean_distance(site_locNS[0,:], site_locNS[1,:]))\n",
    "print('S2 sites x-pitch:', _euclidean_distance(site_locNS[0,:], site_locNS[96,:]))\n",
    "\n",
    "ax[2].plot(locNS[:,0], locNS[:,1],'.')\n",
    "ax[2].plot(site_locNS[:,0], site_locNS[:,1],'.')\n",
    "ax[2].set_xlabel('x')\n",
    "ax[2].set_ylabel('y')\n",
    "ax[2].set_title('NS xy plane')\n",
    "\n",
    "# print max cell distance\n",
    "d = cdist(locNS, locNS)\n",
    "np.fill_diagonal(d, np.nan)\n",
    "print('max cell to cell distance:', np.nanmax(d))\n",
    "\n",
    "# print max cell distance\n",
    "d = cdist(locS2, locS2)\n",
    "np.fill_diagonal(d, np.nan)\n",
    "print('max cell to cell distance:', np.nanmax(d))\n",
    "\n",
    "plt.tight_layout()\n"
   ]
  },
  {
   "cell_type": "markdown",
   "metadata": {},
   "source": [
    "### Cell pairwise distances"
   ]
  },
  {
   "cell_type": "code",
   "execution_count": 38,
   "metadata": {},
   "outputs": [
    {
     "name": "stdout",
     "output_type": "stream",
     "text": [
      "Mean cell distance:\n",
      "Buccino: 36.16760719122846 um\n",
      "S1: 29.431237656752366 um\n",
      "S2: 15.64415297126333 um\n",
      "NS: 14.802049129567246 um\n",
      "\n",
      "Minimum cell distance:\n",
      "Buccino: 25.13684631204283 um\n",
      "S1: 4.805265972690439 um\n",
      "S2: 1.2471938050173546 um\n",
      "NS: 1.648893994466453 um\n",
      "\n",
      "Maximum cell distance:\n",
      "Buccino: 66.31955554043584 um\n",
      "S1: 91.31513646014825 um\n",
      "S2: 44.079076800718525 um\n",
      "NS: 44.11195332754986 um\n"
     ]
    },
    {
     "data": {
      "image/png": "[encoded data removed]",
      "text/plain": [
       "<Figure size 250x250 with 1 Axes>"
      ]
     },
     "metadata": {},
     "output_type": "display_data"
    }
   ],
   "source": [
    "# plot\n",
    "fig, ax = plt.subplots(1,1, figsize=(2.5, 2.5))\n",
    "\n",
    "# cell pairwise distances Buccino\n",
    "GtBuccino = si.load_extractor(GROUND_TRUTH_BUCCINO_PATH)\n",
    "loc = GtBuccino.get_property('soma_location')\n",
    "d_buccino = cdist(loc, loc, metric='euclidean')\n",
    "np.fill_diagonal(d_buccino, np.nan)\n",
    "d_buccino = np.nanmin(d_buccino, axis=0)\n",
    "ax.hist(d_buccino, facecolor='None', edgecolor='b')\n",
    "\n",
    "# cell pairwise distances S1\n",
    "GtS1 = si.load_extractor(GROUND_TRUTH_S1_PATH)\n",
    "loc = GtS1.get_property('soma_position')\n",
    "d_s1 = cdist(loc, loc, metric='euclidean')\n",
    "np.fill_diagonal(d_s1, np.nan)\n",
    "d_s1 = np.nanmin(d_s1, axis=0)\n",
    "ax.hist(d_s1, facecolor='None', edgecolor='k')\n",
    "\n",
    "# cell pairwise distances S2\n",
    "GtS2 = si.load_extractor(GROUND_TRUTH_S2_PATH)\n",
    "loc = GtS2.get_property('soma_position')\n",
    "d_s2 = cdist(loc, loc, metric='euclidean')\n",
    "np.fill_diagonal(d_s2, np.nan)\n",
    "d_s2 = np.nanmin(d_s2, axis=0)\n",
    "ax.hist(d_s2, facecolor='None', edgecolor='g')\n",
    "\n",
    "# cell pairwise distances NS\n",
    "GtNS = si.load_extractor(GROUND_TRUTH_NS_PATH)\n",
    "d_ns = get_cell_to_cell_distances(GtNS)\n",
    "np.fill_diagonal(d_ns, np.nan)\n",
    "d_ns = np.nanmin(d_ns, axis=0)\n",
    "\n",
    "ax.hist(d_ns, facecolor='None', edgecolor='r');\n",
    "ax.set_xlabel('Cell-to-cell distance (um)');\n",
    "ax.set_ylabel('Number of cells (count)');\n",
    "ax.legend(['Buccino', 'S1','S2', 'NS'])\n",
    "\n",
    "print('Mean cell distance:')\n",
    "print('Buccino:', d_buccino.mean(), 'um')\n",
    "print('S1:', d_s1.mean(), 'um')\n",
    "print('S2:', d_s2.mean(), 'um')\n",
    "print('NS:', d_ns.mean(), 'um')\n",
    "\n",
    "print('\\nMinimum cell distance:')\n",
    "print('Buccino:', d_buccino.min(), 'um')\n",
    "print('S1:', d_s1.min(), 'um')\n",
    "print('S2:', d_s2.min(), 'um')\n",
    "print('NS:', d_ns.min(), 'um')\n",
    "\n",
    "print('\\nMaximum cell distance:')\n",
    "print('Buccino:', d_buccino.max(), 'um')\n",
    "print('S1:', d_s1.max(), 'um')\n",
    "print('S2:', d_s2.max(), 'um')\n",
    "print('NS:', d_ns.max(), 'um')"
   ]
  },
  {
   "cell_type": "markdown",
   "metadata": {},
   "source": [
    "### Nb of cells w/n 50 um"
   ]
  },
  {
   "cell_type": "code",
   "execution_count": 34,
   "metadata": {},
   "outputs": [
    {
     "name": "stdout",
     "output_type": "stream",
     "text": [
      "S1 - number of cells: 168\n",
      "S2 -  number of cells: 1189\n",
      "NS - number of cells: 1388\n"
     ]
    }
   ],
   "source": [
    "# load dataset\n",
    "RecordingS1 = si.load_extractor(RECORDING_S1_PATH)\n",
    "SortingGtS1 = si.load_extractor(GROUND_TRUTH_S1_PATH)\n",
    "\n",
    "# get cell and site positions\n",
    "site_pos = RecordingS1.get_channel_locations()\n",
    "site_pos = np.hstack((np.zeros((site_pos.shape[0], 1)), site_pos))\n",
    "cell_pos = SortingGtS1.get_property('soma_position')\n",
    "unit_ids = SortingGtS1.unit_ids\n",
    "\n",
    "num_cells = count_near_cells_within_radius(site_pos, cell_pos, unit_ids, radius=50)\n",
    "print('S1 - number of cells:', num_cells)\n",
    "\n",
    "# load dataset\n",
    "RecordingS2 = si.load_extractor(RECORDING_S2_PATH)\n",
    "SortingGtS2 = si.load_extractor(GROUND_TRUTH_S2_PATH)\n",
    "\n",
    "# get cell and site positions\n",
    "site_pos = RecordingS2.get_channel_locations()\n",
    "site_pos = np.hstack((np.zeros((site_pos.shape[0], 1)), site_pos))\n",
    "cell_pos = SortingGtS2.get_property('soma_position')\n",
    "unit_ids = SortingGtS2.unit_ids\n",
    "\n",
    "num_cells = count_near_cells_within_radius(site_pos, cell_pos, unit_ids, radius=50)\n",
    "print('S2 -  number of cells:', num_cells)\n",
    "\n",
    "# load dataset\n",
    "RecordingNS = si.load_extractor(RECORDING_NS_PATH)\n",
    "SortingGtNS = si.load_extractor(GROUND_TRUTH_NS_PATH)\n",
    "\n",
    "# get cell and site positions\n",
    "cell_pos = np.array([SortingGtNS.get_property('x'), SortingGtNS.get_property('y'), SortingGtNS.get_property('z')]).T\n",
    "site_pos = RecordingNS.get_property('location')\n",
    "unit_ids = SortingGtNS.unit_ids\n",
    "\n",
    "# count cells w/n radius of the electrodes\n",
    "num_cells = count_near_cells_within_radius(site_pos, cell_pos, unit_ids, radius=50)\n",
    "print('NS - number of cells:', num_cells)"
   ]
  },
  {
   "cell_type": "markdown",
   "metadata": {},
   "source": [
    "### Cell densities"
   ]
  },
  {
   "cell_type": "code",
   "execution_count": null,
   "metadata": {},
   "outputs": [
    {
     "data": {
      "text/plain": [
       "array([  0,   1,   2,   3,   4,   5,   6,   7,   8,   9,  10,  11,  12,\n",
       "        13,  14,  15,  16,  17,  18,  19,  20,  21,  22,  73,  74,  75,\n",
       "        76,  77,  78,  79,  80,  81,  82,  83,  84,  85,  86,  87,  88,\n",
       "        89,  90,  91,  92,  93,  94,  95,  96,  97,  98,  99, 100, 101,\n",
       "       102, 103, 104, 105, 106, 107, 108, 109, 110, 111, 112, 113, 114,\n",
       "       115, 116, 117, 169, 170, 171, 172, 173, 174, 175, 176, 177, 178,\n",
       "       179, 180, 181, 182, 183, 184, 185, 186, 187, 188, 189, 190, 191,\n",
       "       192, 193, 194, 195, 196, 197, 198, 199, 200, 201, 202, 203, 204,\n",
       "       205, 206, 207, 208, 209, 210, 211, 212, 213, 214, 265, 266, 267,\n",
       "       268, 269, 270, 271, 272, 273, 274, 275, 276, 277, 278, 279, 280,\n",
       "       281, 282, 283, 284, 285, 286, 287, 288, 289, 290, 291, 292, 293,\n",
       "       294, 295, 296, 297, 298, 299, 300, 301, 302, 303, 304, 305, 306,\n",
       "       307, 308, 309, 361, 362, 363, 364, 365, 366, 367, 368, 369, 370,\n",
       "       371, 372, 373, 374, 375, 376, 377, 378, 379, 380, 381, 382, 383])"
      ]
     },
     "execution_count": 27,
     "metadata": {},
     "output_type": "execute_result"
    }
   ],
   "source": []
  },
  {
   "cell_type": "markdown",
   "metadata": {},
   "source": [
    "### Exc and inh cell counts"
   ]
  },
  {
   "cell_type": "code",
   "execution_count": 15,
   "metadata": {},
   "outputs": [],
   "source": [
    "# SortingGtNS = si.load_extractor(GROUND_TRUTH_NS_PATH)\n",
    "# print('inh count', len(np.array(firing_rates)[SortingGtNS.get_property('synapse_class')=='INH']))\n",
    "# print('exc count', len(np.array(firing_rates)[SortingGtNS.get_property('synapse_class')=='EXC']))"
   ]
  },
  {
   "cell_type": "markdown",
   "metadata": {},
   "source": [
    "# References\n",
    "\n",
    "see https://spikeinterface.github.io/blog/collision-paper-generate-recordings/"
   ]
  }
 ],
 "metadata": {
  "kernelspec": {
   "display_name": "Python 3",
   "language": "python",
   "name": "python3"
  },
  "language_info": {
   "codemirror_mode": {
    "name": "ipython",
    "version": 3
   },
   "file_extension": ".py",
   "mimetype": "text/x-python",
   "name": "python",
   "nbconvert_exporter": "python",
   "pygments_lexer": "ipython3",
   "version": "3.9.7"
  }
 },
 "nbformat": 4,
 "nbformat_minor": 2
}
