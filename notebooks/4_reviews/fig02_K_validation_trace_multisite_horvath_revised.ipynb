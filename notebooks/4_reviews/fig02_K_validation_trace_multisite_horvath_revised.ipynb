{
 "cells": [
  {
   "attachments": {},
   "cell_type": "markdown",
   "metadata": {},
   "source": [
    "# Multi-sites\n",
    "\n",
    "\n",
    "author: steeve.laquitaine@epfl.ch  \n",
    "\n",
    "Purpose: describe multi-channel spatio-temporal dynamics of action potentials, in vivo."
   ]
  },
  {
   "attachments": {},
   "cell_type": "markdown",
   "metadata": {},
   "source": [
    "## Setup\n",
    "\n",
    "create and activate env from `spikebias`"
   ]
  },
  {
   "cell_type": "code",
   "execution_count": null,
   "metadata": {},
   "outputs": [
    {
     "name": "stdout",
     "output_type": "stream",
     "text": [
      "The autoreload extension is already loaded. To reload it, use:\n",
      "  %reload_ext autoreload\n",
      "0.100.5\n"
     ]
    }
   ],
   "source": [
    "# listen to changes\n",
    "%load_ext autoreload\n",
    "%autoreload 2\n",
    "\n",
    "import os\n",
    "from matplotlib import pyplot as plt\n",
    "import pandas as pd\n",
    "import numpy as np \n",
    "import spikeinterface\n",
    "import spikeinterface as si\n",
    "import yaml\n",
    "import warnings\n",
    "import spikeinterface.preprocessing as spre\n",
    "warnings.simplefilter(action='ignore', category=FutureWarning)\n",
    "warnings.filterwarnings(\"ignore\")\n",
    "print(spikeinterface.__version__)\n",
    "\n",
    "# set project path\n",
    "PROJ_PATH = \"/home/steeve/steeve/epfl/code/spikebias\"\n",
    "os.chdir(PROJ_PATH)\n",
    "\n",
    "# SETUP PARAMETERS\n",
    "SAMPFREQ = 20000  # hz\n",
    "\n",
    "# figure parameters\n",
    "SAVE_FIG = True\n",
    "SAVE_FIG_DATA = False\n",
    "LOAD_FIG_DATA = True\n",
    "\n",
    "with open(\"./conf/figures.yml\", \"r\", encoding=\"utf-8\") as yaml_file:\n",
    "    fig_data_paths = yaml.load(yaml_file, Loader=yaml.FullLoader)\n",
    "    \n",
    "SAMPLE_START = 15868410\n",
    "\n",
    "PLOT_Y_PITCH = 100          # fixed distance between electrodes on plot for visibility\n",
    "ylim = [-2012, 755]         # common ylim to set all voltage traces to\n",
    "GAIN_TO_UV = 0.195     \n",
    "\n",
    "DURATION = 10  # 20  # in ms, 46\n",
    "n_timepoints = int(DURATION * SAMPFREQ / 1000)\n",
    "PERIOD = np.arange(SAMPLE_START, SAMPLE_START + n_timepoints, 1)    \n",
    "\n",
    "# FIGURE SETTINGS\n",
    "# colors\n",
    "COLOR_V = [0.4, 0.4, 0.4]\n",
    "LINEWIDTH = 0.5\n",
    "LINEWIDTH_BORD = 0.25\n",
    "\n",
    "# axes\n",
    "plt.rcParams[\"font.family\"] = \"Arial\"\n",
    "plt.rcParams[\"font.size\"] = 6  # 5-7 with Nature neuroscience as reference\n",
    "plt.rcParams[\"lines.linewidth\"] = 0.5\n",
    "plt.rcParams[\"axes.linewidth\"] = 0.5  # 1\n",
    "plt.rcParams[\"axes.spines.top\"] = False\n",
    "plt.rcParams[\"xtick.major.width\"] = 0.5  # 0.8 #* 1.3\n",
    "plt.rcParams[\"xtick.minor.width\"] = 0.5  # 0.8 #* 1.3\n",
    "plt.rcParams[\"ytick.major.width\"] = 0.5  # 0.8 #* 1.3\n",
    "plt.rcParams[\"ytick.minor.width\"] = 0.5  # 0.8 #* 1.3\n",
    "plt.rcParams[\"xtick.major.size\"] = 3.5 * 1.1\n",
    "plt.rcParams[\"xtick.minor.size\"] = 2 * 1.1\n",
    "plt.rcParams[\"ytick.major.size\"] = 3.5 * 1.1\n",
    "plt.rcParams[\"ytick.minor.size\"] = 2 * 1.1\n",
    "# legend\n",
    "savefig_cfg = {\"transparent\": True, \"dpi\": 300}\n",
    "legend_cfg = {\"frameon\": False, \"handletextpad\": 0.1}\n",
    "tight_layout_cfg = {\"pad\": 0.5}\n",
    "LG_FRAMEON = False  # no legend frame"
   ]
  },
  {
   "cell_type": "markdown",
   "metadata": {},
   "source": [
    "## L1,2/3"
   ]
  },
  {
   "cell_type": "markdown",
   "metadata": {},
   "source": [
    "### Load dataset"
   ]
  },
  {
   "cell_type": "code",
   "execution_count": 128,
   "metadata": {},
   "outputs": [
    {
     "name": "stdout",
     "output_type": "stream",
     "text": [
      "dataset/02_figure_dataset/fig2k_spacetime_vivo_horv_l1_2_3.npy\n"
     ]
    }
   ],
   "source": [
    "if SAVE_FIG_DATA:\n",
    "\n",
    "    # get preprocessed voltage traces and electrode layers\n",
    "    Recording = si.load_extractor('dataset/00_raw/recording_horvath_probe1')\n",
    "    Recording = spre.highpass_filter(Recording, freq_min=300)\n",
    "    Recording = spre.common_reference(Recording, reference='global', operator='median')\n",
    "    layers = Recording.get_property(\"layers\")\n",
    "    prep_traces = Recording.get_traces()\n",
    "    fig_data = {\"trace\": prep_traces[PERIOD, :], \"layers\": layers}    \n",
    "    \n",
    "    # save figure data\n",
    "    np.save(fig_data_paths[\"fig2k_spacetime_vivo_horv_l1_2_3\"], fig_data)\n",
    "\n",
    "elif LOAD_FIG_DATA:\n",
    "    \n",
    "    fig_data = np.load(fig_data_paths[\"fig2k_spacetime_vivo_horv_l1_2_3\"], allow_pickle=True).item()        \n",
    "    print(fig_data_paths[\"fig2k_spacetime_vivo_horv_l1_2_3\"])"
   ]
  },
  {
   "cell_type": "code",
   "execution_count": 129,
   "metadata": {},
   "outputs": [
    {
     "name": "stdout",
     "output_type": "stream",
     "text": [
      "76.480194 -83.331375\n",
      "gain to uV: [-392.34   147.225]\n",
      "the voltage scale of all plotted axes is: 540.0 uV\n"
     ]
    }
   ],
   "source": [
    "# from bottom to top on the plot\n",
    "col1_site_ix = np.arange(0, len(fig_data[\"layers\"]), 4)\n",
    "col1_site_layers = fig_data[\"layers\"][col1_site_ix]\n",
    "col1_site_layers = np.flip(col1_site_layers)\n",
    "col1_site_l1 = np.where(col1_site_layers == \"L1\")[0]\n",
    "col1_site_l2_3 = np.where((col1_site_layers == \"L2_3\"))[0]\n",
    "\n",
    "# find common ylim to set all voltage traces to\n",
    "ymax = fig_data[\"trace\"][:,col1_site_ix].max()\n",
    "ymin = fig_data[\"trace\"][:,col1_site_ix].min()\n",
    "print(ymax, ymin)\n",
    "\n",
    "scaled = np.array(ylim)*GAIN_TO_UV\n",
    "print(\"gain to uV:\", scaled)\n",
    "print(\"the voltage scale of all plotted axes is:\", np.round(scaled[1] - scaled[0]), \"uV\")"
   ]
  },
  {
   "cell_type": "markdown",
   "metadata": {},
   "source": [
    "### plot\n",
    "\n",
    "* 32 sites in a column"
   ]
  },
  {
   "cell_type": "code",
   "execution_count": 130,
   "metadata": {},
   "outputs": [
    {
     "name": "stdout",
     "output_type": "stream",
     "text": [
      "number of sites shown: 24\n"
     ]
    },
    {
     "data": {
      "text/plain": [
       "([], [])"
      ]
     },
     "execution_count": 130,
     "metadata": {},
     "output_type": "execute_result"
    },
    {
     "data": {
      "image/png": "[encoded data removed]",
      "text/plain": [
       "<Figure size 105x160 with 1 Axes>"
      ]
     },
     "metadata": {},
     "output_type": "display_data"
    }
   ],
   "source": [
    "# scale figure vertical axis\n",
    "n_sites_l123 = len(col1_site_l1) + len(col1_site_l2_3)\n",
    "fig_vert_size_l123 = 1.6\n",
    "\n",
    "FIGSIZE = (1.05, fig_vert_size_l123)\n",
    "\n",
    "nsite_per_col = len(col1_site_layers)\n",
    "Y_MAX = PLOT_Y_PITCH * (nsite_per_col - 1)\n",
    "\n",
    "# plot (0: bottom 96:top)\n",
    "fig, ax = plt.subplots(1, 1, figsize=FIGSIZE)\n",
    "pos_up = 0 # next voltage trace translation up in the axis\n",
    "row = 0\n",
    "c_site = 0\n",
    "\n",
    "# record plotted traces\n",
    "save_trace_data = []\n",
    "\n",
    "for contact_i, contact in enumerate(col1_site_ix):\n",
    "\n",
    "    # layer 2/3\n",
    "    if contact_i == col1_site_l2_3[0]:\n",
    "        ax.hlines(\n",
    "            y=0.99 * pos_up,\n",
    "            xmin=0,\n",
    "            xmax=n_timepoints,\n",
    "            color=\"black\",\n",
    "            linewidth=LINEWIDTH_BORD,\n",
    "        )\n",
    "        # label layer\n",
    "        ax.text(\n",
    "            -120,\n",
    "            0.99 * pos_up,\n",
    "            \"%s\" % (\"L2/3\"),\n",
    "            size=plt.rcParams[\"font.size\"],\n",
    "            zorder=100,\n",
    "            color=\"k\",\n",
    "            ha=\"left\",\n",
    "        )\n",
    "\n",
    "    # layer 1\n",
    "    if contact_i == col1_site_l1[0]:\n",
    "        ax.hlines(\n",
    "            y=0.99 * pos_up,\n",
    "            xmin=0,\n",
    "            xmax=n_timepoints,\n",
    "            color=\"black\",\n",
    "            linewidth=LINEWIDTH_BORD,\n",
    "        )\n",
    "        # label layer\n",
    "        ax.text(\n",
    "            -120,\n",
    "            0.99 * pos_up,\n",
    "            \"%s\" % (\"L1\"),\n",
    "            size=plt.rcParams[\"font.size\"],\n",
    "            zorder=100,\n",
    "            color=\"k\",\n",
    "            ha=\"left\",\n",
    "        )\n",
    "\n",
    "    # all other traces\n",
    "    if contact_i in col1_site_l1:\n",
    "        c_site += 1\n",
    "        ax.plot(\n",
    "            fig_data[\"trace\"][:, col1_site_ix[contact_i]] + pos_up,\n",
    "            linewidth=LINEWIDTH,\n",
    "            color=COLOR_V,\n",
    "        )\n",
    "        pos_up += PLOT_Y_PITCH\n",
    "        ax.set_ylim(ylim)\n",
    "\n",
    "        # record plotted traces\n",
    "        save_trace_data.append(fig_data[\"trace\"][:, col1_site_ix[contact_i]])\n",
    "\n",
    "\n",
    "    if contact_i in col1_site_l2_3:\n",
    "        c_site += 1\n",
    "        ax.plot(\n",
    "            fig_data[\"trace\"][:, col1_site_ix[contact_i]] + pos_up,\n",
    "            linewidth=LINEWIDTH,\n",
    "            color=COLOR_V,\n",
    "        )\n",
    "        pos_up += PLOT_Y_PITCH\n",
    "        ax.set_ylim(ylim)\n",
    "        \n",
    "        # record plotted traces\n",
    "        save_trace_data.append(fig_data[\"trace\"][:, col1_site_ix[contact_i]])\n",
    "\n",
    "\n",
    "print(\"number of sites shown:\", c_site)\n",
    "\n",
    "ax.spines[[\"left\", \"right\", \"top\"]].set_visible(False)\n",
    "ax.set_xticks([0, n_timepoints])\n",
    "ax.set_xticklabels([0, DURATION])\n",
    "ax.set_xlabel(\"Time (ms)\")\n",
    "ax.set_ylim([-90, Y_MAX + 600])\n",
    "plt.yticks([])"
   ]
  },
  {
   "cell_type": "code",
   "execution_count": 131,
   "metadata": {},
   "outputs": [
    {
     "name": "stdout",
     "output_type": "stream",
     "text": [
      "number of sites shown: 24\n"
     ]
    },
    {
     "data": {
      "image/png": "[encoded data removed]",
      "text/plain": [
       "<Figure size 105x160 with 24 Axes>"
      ]
     },
     "metadata": {},
     "output_type": "display_data"
    }
   ],
   "source": [
    "# setup plot\n",
    "n_sites = len(col1_site_l1) + len(col1_site_l2_3)\n",
    "fig, ax = plt.subplots(n_sites, 1, figsize=FIGSIZE)\n",
    "\n",
    "# allow  vertical overlap of trace axes\n",
    "fig.subplots_adjust(hspace=-0.9)                        \n",
    "\n",
    "# delimit layer 4 and 5\n",
    "sites = np.hstack([col1_site_l1, col1_site_l2_3])\n",
    "l23_ix = np.where(sites == col1_site_l2_3[0])[0]\n",
    "\n",
    "# plot electrode site voltage traces\n",
    "for site in range(n_sites):\n",
    "    flipped_site = n_sites-site-1\n",
    "    ax[flipped_site].plot(save_trace_data[site], linewidth=LINEWIDTH, color=COLOR_V)\n",
    "    ax[flipped_site].set_ylim(ylim)\n",
    "    ax[flipped_site].spines[[\"left\", \"right\", \"top\",\"bottom\"]].set_visible(False)\n",
    "    ax[flipped_site].set_yticks([])\n",
    "    ax[flipped_site].set_xticks([])\n",
    "    ax[flipped_site].set_facecolor(\"none\")   # transparent background\n",
    "\n",
    "    # delimit sites from layer 4 and 5\n",
    "    if site==l23_ix:\n",
    "        ax[site].hlines(\n",
    "            y=10,\n",
    "            xmin=0,\n",
    "            xmax=n_timepoints,\n",
    "            color=\"black\",\n",
    "            linewidth=LINEWIDTH_BORD,\n",
    "        )\n",
    "print(\"number of sites shown:\", n_sites)\n",
    "\n",
    "# show voltage scale\n",
    "ax[0].spines[[\"left\"]].set_visible(True)\n",
    "\n",
    "# label\n",
    "#ax[n_sites-1].set_xlabel(\"Time (ms)\");\n",
    "\n",
    "# save figures\n",
    "if SAVE_FIG:\n",
    "    plt.savefig(\n",
    "        \"figures/0_validation/2_dynamics/fig2e_spacetime_vivo_horv_l1_2_3.svg\",\n",
    "        **savefig_cfg\n",
    "    )"
   ]
  },
  {
   "cell_type": "markdown",
   "metadata": {},
   "source": [
    "## L4 and 5"
   ]
  },
  {
   "cell_type": "markdown",
   "metadata": {},
   "source": [
    "### Load dataset"
   ]
  },
  {
   "cell_type": "code",
   "execution_count": 132,
   "metadata": {},
   "outputs": [
    {
     "name": "stdout",
     "output_type": "stream",
     "text": [
      "dataset/02_figure_dataset/fig2k_spacetime_vivo_horv_l4_5.npy\n"
     ]
    }
   ],
   "source": [
    "if SAVE_FIG_DATA:\n",
    "\n",
    "    Recording = si.load_extractor(PRE_PATH_2)\n",
    "    layers = Recording.get_property(\"layers\")\n",
    "    prep_traces = Recording.get_traces()\n",
    "    \n",
    "    fig_data = {\n",
    "        \"trace\": prep_traces[PERIOD, :],\n",
    "        \"layers\": layers\n",
    "    }\n",
    "    \n",
    "    # save figure data\n",
    "    np.save(fig_data_paths[\"fig2k_spacetime_vivo_horv_l4_5\"], fig_data)    \n",
    "\n",
    "elif LOAD_FIG_DATA:\n",
    "    fig_data = np.load(fig_data_paths[\"fig2k_spacetime_vivo_horv_l4_5\"], allow_pickle=True).item()        \n",
    "    print(fig_data_paths[\"fig2k_spacetime_vivo_horv_l4_5\"])"
   ]
  },
  {
   "cell_type": "code",
   "execution_count": 133,
   "metadata": {},
   "outputs": [
    {
     "name": "stdout",
     "output_type": "stream",
     "text": [
      "755 -2012\n"
     ]
    }
   ],
   "source": [
    "# from bottom to top on the plot    \n",
    "col1_site_ix = np.arange(0, len(fig_data[\"layers\"]), 4)\n",
    "col1_site_layers = fig_data[\"layers\"][col1_site_ix]\n",
    "col1_site_layers = np.flip(col1_site_layers)\n",
    "col1_site_l4 = np.where(col1_site_layers == \"L4\")[0]\n",
    "col1_site_l5 = np.where(col1_site_layers == \"L5\")[0]\n",
    "\n",
    "ymax = fig_data[\"trace\"][:,col1_site_ix].max()\n",
    "ymin = fig_data[\"trace\"][:,col1_site_ix].min()\n",
    "print(ymax, ymin)"
   ]
  },
  {
   "cell_type": "code",
   "execution_count": 134,
   "metadata": {},
   "outputs": [
    {
     "name": "stdout",
     "output_type": "stream",
     "text": [
      "number of sites shown: 27\n"
     ]
    },
    {
     "data": {
      "text/plain": [
       "([], [])"
      ]
     },
     "execution_count": 134,
     "metadata": {},
     "output_type": "execute_result"
    },
    {
     "data": {
      "image/png": "[encoded data removed]",
      "text/plain": [
       "<Figure size 105x180 with 1 Axes>"
      ]
     },
     "metadata": {},
     "output_type": "display_data"
    }
   ],
   "source": [
    "n_sites_l4_5 = len(col1_site_l4) + len(col1_site_l5)\n",
    "keep_size_ratio = (n_sites_l4_5 * fig_vert_size_l123)/n_sites_l123\n",
    "\n",
    "FIGSIZE = (1.05, keep_size_ratio)  # DO NOT CHANGE!! Calibrated for figure\n",
    "\n",
    "DURATION = 10  # 20  # in ms, 46\n",
    "nsite_per_col = len(col1_site_layers)\n",
    "Y_MAX = PLOT_Y_PITCH * (nsite_per_col - 1)\n",
    "\n",
    "# plot *************************\n",
    "\n",
    "# plot 384 contacts x 5 ms (like Trautmann et al 2023)\n",
    "\n",
    "# plot (0: bottom 96:top)\n",
    "fig, ax = plt.subplots(1, 1, figsize=FIGSIZE)\n",
    "pos_up = 0\n",
    "row = 0\n",
    "c_site = 0\n",
    "layer5_ix = 0\n",
    "\n",
    "save_trace_data = []\n",
    "\n",
    "for contact_i, contact in enumerate(col1_site_ix):\n",
    "\n",
    "    # layer 5\n",
    "    if contact_i == col1_site_l5[0]:\n",
    "        ax.hlines(\n",
    "            y=0.99 * pos_up,\n",
    "            xmin=0,\n",
    "            xmax=n_timepoints,\n",
    "            color=\"black\",\n",
    "            linewidth=LINEWIDTH_BORD,\n",
    "        )\n",
    "        # label layer\n",
    "        ax.text(\n",
    "            -120,\n",
    "            0.99 * pos_up,\n",
    "            \"%s\" % (\"L5\"),\n",
    "            size=plt.rcParams[\"font.size\"],\n",
    "            zorder=100,\n",
    "            color=\"k\",\n",
    "            ha=\"left\",\n",
    "        )\n",
    "\n",
    "    # layer 4\n",
    "    if contact_i == col1_site_l4[0]:\n",
    "        ax.hlines(\n",
    "            y=0.99 * pos_up,\n",
    "            xmin=0,\n",
    "            xmax=n_timepoints,\n",
    "            color=\"black\",\n",
    "            linewidth=LINEWIDTH_BORD,\n",
    "        )\n",
    "        # label layer\n",
    "        ax.text(\n",
    "            -120,\n",
    "            0.99 * pos_up,\n",
    "            \"%s\" % (\"L4\"),\n",
    "            size=plt.rcParams[\"font.size\"],\n",
    "            zorder=100,\n",
    "            color=\"k\",\n",
    "            ha=\"left\",\n",
    "        )\n",
    "\n",
    "    # all other traces\n",
    "    if contact_i in col1_site_l4:\n",
    "        c_site += 1\n",
    "        ax.plot(\n",
    "            fig_data[\"trace\"][:, col1_site_ix[contact_i]] + pos_up,\n",
    "            linewidth=LINEWIDTH,\n",
    "            color=COLOR_V,\n",
    "        )\n",
    "        pos_up += PLOT_Y_PITCH\n",
    "        ax.set_ylim(ylim)\n",
    "        \n",
    "        # record plotted traces\n",
    "        save_trace_data.append(fig_data[\"trace\"][:, col1_site_ix[contact_i]])\n",
    "\n",
    "    elif contact_i in col1_site_l5:\n",
    "        c_site += 1\n",
    "        ax.plot(\n",
    "            fig_data[\"trace\"][:, col1_site_ix[contact_i]] + pos_up,\n",
    "            linewidth=LINEWIDTH,\n",
    "            color=COLOR_V,\n",
    "        )\n",
    "        pos_up += PLOT_Y_PITCH\n",
    "        ax.set_ylim(ylim)\n",
    "\n",
    "        # record plotted traces\n",
    "        save_trace_data.append(fig_data[\"trace\"][:, col1_site_ix[contact_i]])\n",
    "\n",
    "print(\"number of sites shown:\", c_site)\n",
    "\n",
    "ax.spines[[\"left\", \"right\", \"top\"]].set_visible(False)\n",
    "ax.set_xticks([0, n_timepoints])\n",
    "ax.set_xticklabels([0, DURATION])\n",
    "ax.set_xlabel(\"Time (ms)\")\n",
    "ax.set_ylim([-90, Y_MAX + 600])\n",
    "plt.yticks([])"
   ]
  },
  {
   "cell_type": "code",
   "execution_count": 135,
   "metadata": {},
   "outputs": [
    {
     "name": "stdout",
     "output_type": "stream",
     "text": [
      "number of sites shown: 27\n"
     ]
    },
    {
     "data": {
      "image/png": "[encoded data removed]",
      "text/plain": [
       "<Figure size 105x180 with 27 Axes>"
      ]
     },
     "metadata": {},
     "output_type": "display_data"
    }
   ],
   "source": [
    "# setup plot\n",
    "n_sites = len(col1_site_l4) + len(col1_site_l5)\n",
    "fig, ax = plt.subplots(n_sites, 1, figsize=FIGSIZE)\n",
    "\n",
    "# allow  vertical overlap of trace axes\n",
    "fig.subplots_adjust(hspace=-0.9)                        \n",
    "\n",
    "# delimit layer 4 and 5\n",
    "sites = np.hstack([col1_site_l4, col1_site_l5])\n",
    "l5_ix = np.where(sites == col1_site_l5[0])[0]\n",
    "\n",
    "# plot electrode site voltage traces\n",
    "for site in range(n_sites):\n",
    "    flipped_site = n_sites-site-1\n",
    "    ax[flipped_site].plot(save_trace_data[site], linewidth=LINEWIDTH, color=COLOR_V)\n",
    "    ax[flipped_site].set_ylim(ylim)\n",
    "    ax[flipped_site].set_yticks([])\n",
    "    ax[flipped_site].set_xticks([])\n",
    "    ax[flipped_site].set_facecolor(\"none\")   # transparent background\n",
    "    ax[flipped_site].spines[[\"left\", \"right\", \"top\",\"bottom\"]].set_visible(False)\n",
    "\n",
    "    # delimit sites from layer 4 and 5\n",
    "    if site==l5_ix:\n",
    "        ax[site].hlines(\n",
    "            y=10,\n",
    "            xmin=0,\n",
    "            xmax=n_timepoints,\n",
    "            color=\"black\",\n",
    "            linewidth=LINEWIDTH_BORD,\n",
    "        )\n",
    "print(\"number of sites shown:\", n_sites)\n",
    "\n",
    "# show voltage scale (ymin and ymax voltage)\n",
    "ax[0].spines[[\"left\"]].set_visible(True)\n",
    "\n",
    "# label\n",
    "#ax[n_sites-1].set_xlabel(\"Time (ms)\");\n",
    "\n",
    "# save figures\n",
    "if SAVE_FIG:\n",
    "    plt.savefig(\n",
    "        \"figures/0_validation/2_dynamics/fig2e_spacetime_vivo_horv_l4_5.svg\", **savefig_cfg\n",
    "    )"
   ]
  },
  {
   "cell_type": "markdown",
   "metadata": {},
   "source": [
    "## L6"
   ]
  },
  {
   "cell_type": "code",
   "execution_count": 136,
   "metadata": {},
   "outputs": [
    {
     "name": "stdout",
     "output_type": "stream",
     "text": [
      "dataset/02_figure_dataset/fig2k_spacetime_vivo_horv_l6.npy\n"
     ]
    }
   ],
   "source": [
    "if SAVE_FIG_DATA:\n",
    "\n",
    "    Recording = si.load_extractor(PRE_PATH_3)\n",
    "    layers = Recording.get_property(\"layers\")\n",
    "    prep_traces = Recording.get_traces()\n",
    "    \n",
    "    fig_data = {\n",
    "        \"trace\": prep_traces[PERIOD, :],\n",
    "        \"layers\": layers\n",
    "    }\n",
    "    # save figure data\n",
    "    np.save(fig_data_paths[\"fig2k_spacetime_vivo_horv_l6\"], fig_data)\n",
    "elif LOAD_FIG_DATA:\n",
    "    fig_data = np.load(fig_data_paths[\"fig2k_spacetime_vivo_horv_l6\"], allow_pickle=True).item()    \n",
    "    print(fig_data_paths[\"fig2k_spacetime_vivo_horv_l6\"])"
   ]
  },
  {
   "cell_type": "code",
   "execution_count": 137,
   "metadata": {},
   "outputs": [
    {
     "name": "stdout",
     "output_type": "stream",
     "text": [
      "199 -173\n"
     ]
    }
   ],
   "source": [
    "# from bottom to top on the plot\n",
    "col1_site_ix = np.arange(0, len(fig_data[\"layers\"]), 4)\n",
    "col1_site_layers = fig_data[\"layers\"][col1_site_ix]\n",
    "col1_site_layers = np.flip(col1_site_layers)\n",
    "col1_site_l6 = np.where(col1_site_layers == \"L6\")[0]\n",
    "\n",
    "ymax = fig_data[\"trace\"][:,col1_site_ix].max()\n",
    "ymin = fig_data[\"trace\"][:,col1_site_ix].min()\n",
    "print(ymax, ymin)"
   ]
  },
  {
   "cell_type": "code",
   "execution_count": 138,
   "metadata": {},
   "outputs": [
    {
     "name": "stdout",
     "output_type": "stream",
     "text": [
      "number of sites shown: 17\n"
     ]
    },
    {
     "data": {
      "text/plain": [
       "([], [])"
      ]
     },
     "execution_count": 138,
     "metadata": {},
     "output_type": "execute_result"
    },
    {
     "data": {
      "image/png": "[encoded data removed]",
      "text/plain": [
       "<Figure size 105x113.333 with 1 Axes>"
      ]
     },
     "metadata": {},
     "output_type": "display_data"
    }
   ],
   "source": [
    "n_sites_l6 = len(col1_site_l6)\n",
    "keep_size_ratio = (n_sites_l6 * fig_vert_size_l123)/n_sites_l123\n",
    "FIGSIZE = (1.05, keep_size_ratio)  # DO NOT CHANGE!! Calibrated for figure\n",
    "\n",
    "DURATION = 10  # 20  # in ms, 46\n",
    "nsite_per_col = len(col1_site_layers)\n",
    "Y_MAX = PLOT_Y_PITCH * (nsite_per_col - 1)\n",
    "N_SITES = 16\n",
    "\n",
    "# plot (0: bottom 96:top)\n",
    "fig, ax = plt.subplots(1, 1, figsize=FIGSIZE)\n",
    "pos_up = 0\n",
    "row = 0\n",
    "c_site = 0\n",
    "\n",
    "save_trace_data = []\n",
    "\n",
    "for contact_i, contact in enumerate(col1_site_ix):\n",
    "    # mark the first trace of each layer\n",
    "    # layer 6\n",
    "    if contact_i == col1_site_l6[0]:\n",
    "        ax.hlines(\n",
    "            y=0.99 * pos_up,\n",
    "            xmin=0,\n",
    "            xmax=n_timepoints,\n",
    "            color=\"black\",\n",
    "            linewidth=LINEWIDTH_BORD,\n",
    "        )\n",
    "        # label layer\n",
    "        ax.text(\n",
    "            # 610,\n",
    "            -120,\n",
    "            0.99 * pos_up,\n",
    "            \"%s\" % (\"L6\"),\n",
    "            size=plt.rcParams[\"font.size\"],\n",
    "            zorder=100,\n",
    "            color=\"k\",\n",
    "            ha=\"left\",\n",
    "        )\n",
    "\n",
    "    # all other traces\n",
    "    if contact_i in col1_site_l6:\n",
    "        c_site += 1\n",
    "        ax.plot(\n",
    "            fig_data[\"trace\"][:, col1_site_ix[contact_i]] + pos_up,\n",
    "            linewidth=LINEWIDTH,\n",
    "            color=COLOR_V,\n",
    "        )        \n",
    "        pos_up += PLOT_Y_PITCH\n",
    "        ax.set_ylim(ylim)\n",
    "\n",
    "        # record plotted traces\n",
    "        save_trace_data.append(fig_data[\"trace\"][:, col1_site_ix[contact_i]])\n",
    "\n",
    "\n",
    "print(\"number of sites shown:\", c_site)\n",
    "\n",
    "ax.spines[[\"left\", \"right\", \"top\"]].set_visible(False)\n",
    "ax.set_xticks([0, n_timepoints])\n",
    "ax.set_xticklabels([0, DURATION])\n",
    "ax.set_xlabel(\"Time (ms)\")\n",
    "ax.set_ylim([-90, Y_MAX + 600])\n",
    "plt.yticks([])"
   ]
  },
  {
   "cell_type": "code",
   "execution_count": 139,
   "metadata": {},
   "outputs": [
    {
     "name": "stdout",
     "output_type": "stream",
     "text": [
      "number of sites shown: 17\n"
     ]
    },
    {
     "data": {
      "image/png": "[encoded data removed]",
      "text/plain": [
       "<Figure size 105x113.333 with 17 Axes>"
      ]
     },
     "metadata": {},
     "output_type": "display_data"
    }
   ],
   "source": [
    "# make sure all voltage traces are on the same voltage scale\n",
    "# setup plot\n",
    "n_sites = len(col1_site_l6)\n",
    "fig, ax = plt.subplots(n_sites, 1, figsize=FIGSIZE)\n",
    "\n",
    "# allow  vertical overlap of trace axes\n",
    "fig.subplots_adjust(hspace=-0.9)                        \n",
    "\n",
    "# plot electrode site voltage traces\n",
    "for site in range(n_sites):\n",
    "    flipped_site = n_sites-site-1\n",
    "    ax[flipped_site].plot(save_trace_data[site], linewidth=LINEWIDTH, color=COLOR_V)\n",
    "    ax[flipped_site].set_ylim(ylim)\n",
    "    ax[flipped_site].set_yticks([])\n",
    "    ax[flipped_site].set_xticks([])\n",
    "    ax[flipped_site].set_facecolor(\"none\")   # transparent background\n",
    "    ax[flipped_site].spines[[\"left\", \"right\", \"top\", \"bottom\"]].set_visible(False)\n",
    "\n",
    "# # add labels\n",
    "# ax[site].set_xticks([0, n_timepoints])\n",
    "# ax[site].set_xticklabels([0, DURATION])\n",
    "# ax[site].set_xlabel(\"Time (ms)\")\n",
    "# ax[site].spines[[\"bottom\"]].set_visible(True)\n",
    "\n",
    "# show voltage scale\n",
    "ax[0].spines[[\"left\"]].set_visible(True)\n",
    "\n",
    "print(\"number of sites shown:\", n_sites)\n",
    "\n",
    "# save figures\n",
    "if SAVE_FIG:\n",
    "    plt.savefig(\n",
    "        \"figures/0_validation/2_dynamics/fig2e_spacetime_vivo_horv_l6.svg\", **savefig_cfg\n",
    "    )"
   ]
  },
  {
   "cell_type": "code",
   "execution_count": null,
   "metadata": {},
   "outputs": [],
   "source": []
  }
 ],
 "metadata": {
  "kernelspec": {
   "display_name": "spikebias",
   "language": "python",
   "name": "python3"
  },
  "language_info": {
   "codemirror_mode": {
    "name": "ipython",
    "version": 3
   },
   "file_extension": ".py",
   "mimetype": "text/x-python",
   "name": "python",
   "nbconvert_exporter": "python",
   "pygments_lexer": "ipython3",
   "version": "3.9.7"
  },
  "orig_nbformat": 4
 },
 "nbformat": 4,
 "nbformat_minor": 2
}
