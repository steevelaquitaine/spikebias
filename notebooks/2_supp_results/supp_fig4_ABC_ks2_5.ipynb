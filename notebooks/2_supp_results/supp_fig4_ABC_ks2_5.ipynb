{
 "cells": [
  {
   "cell_type": "markdown",
   "metadata": {},
   "source": [
    "# Firing rates (KS2.5)\n",
    "\n",
    "author: steeve.laquitaine@epfl.ch    \n",
    "date: 17.01.2023  \n",
    "last modified: 15.08.2024\n",
    "\n",
    "* 10 minutes of recordings (as sorting accurac and yield likely change with duration). 10 minutes is a duration common to all recordings."
   ]
  },
  {
   "cell_type": "markdown",
   "metadata": {},
   "source": [
    "**Prerequisites**:\n",
    "\n",
    "- processing: engineer recordings, fits noise and amplification, wires probe, records metadata, preprocesses, writes\n",
    "- sorting: sorts and records metadata to SortingExtractors"
   ]
  },
  {
   "cell_type": "markdown",
   "metadata": {},
   "source": [
    "### Setup\n",
    "\n",
    "Activate `spikeinterf..` python3.9 virtual environment (select interpreter - find envs/ path - add kernel)"
   ]
  },
  {
   "cell_type": "code",
   "execution_count": 1,
   "metadata": {},
   "outputs": [
    {
     "name": "stdout",
     "output_type": "stream",
     "text": [
      "2024-08-19 20:40:20,007 - root - utils.py - get_config - INFO - Reading experiment config.\n",
      "2024-08-19 20:40:20,039 - root - utils.py - get_config - INFO - Reading experiment config. - done\n",
      "2024-08-19 20:40:20,040 - root - utils.py - get_config - INFO - Reading experiment config.\n",
      "2024-08-19 20:40:20,071 - root - utils.py - get_config - INFO - Reading experiment config. - done\n",
      "2024-08-19 20:40:20,072 - root - utils.py - get_config - INFO - Reading experiment config.\n",
      "2024-08-19 20:40:20,121 - root - utils.py - get_config - INFO - Reading experiment config. - done\n",
      "2024-08-19 20:40:20,122 - root - utils.py - get_config - INFO - Reading experiment config.\n",
      "2024-08-19 20:40:20,144 - root - utils.py - get_config - INFO - Reading experiment config. - done\n"
     ]
    }
   ],
   "source": [
    "%load_ext autoreload\n",
    "%autoreload 2\n",
    "from matplotlib import pyplot as plt\n",
    "import numpy as np\n",
    "import os\n",
    "import warnings\n",
    "warnings.simplefilter(action='ignore', category=FutureWarning)\n",
    "warnings.filterwarnings(\"ignore\")\n",
    "\n",
    "# SET PROJECT PATH\n",
    "\n",
    "PROJ_PATH = \"/gpfs/bbp.cscs.ch/project/proj85/home/laquitai/preprint_2023\"\n",
    "os.chdir(PROJ_PATH)\n",
    "from src.nodes.utils import get_config, savefig\n",
    "from src.nodes.validation import firing_rate as fr\n",
    "from src.nodes.validation.npx_probe import firing_rate as fr_npx\n",
    "from src.nodes.validation import firing_rate as fr\n",
    "\n",
    "# SETUP EXPERIMENTS\n",
    "\n",
    "# data [done]\n",
    "cfg_nv, _ = get_config(\"vivo_marques\", \"c26\").values()\n",
    "SORTED_PATH_nv = cfg_nv[\"sorting\"][\"sorters\"][\"kilosort2_5\"][\"10m\"][\"output\"]\n",
    "\n",
    "# model biophy. spontaneous [done]\n",
    "cfg_ns, _ = get_config(\"silico_neuropixels\", \"concatenated\").values()\n",
    "SORTED_PATH_ns = cfg_ns[\"sorting\"][\"sorters\"][\"kilosort2_5\"][\"10m\"][\"output\"]\n",
    "\n",
    "# model biophy. evoked (40m)\n",
    "cfg_ne, _ = get_config(\"silico_neuropixels\", \"stimulus\").values()\n",
    "SORTED_PATH_ne = cfg_ne[\"sorting\"][\"sorters\"][\"kilosort2_5\"][\"10m\"][\"output\"]\n",
    "\n",
    "# Buccino with best fitted gain for layer 5 [done]\n",
    "cfg_nb, _ = get_config(\"buccino_2020\", \"2020\").values()\n",
    "SORTED_PATH_nb = cfg_nb[\"sorting\"][\"sorters\"][\"kilosort2_5\"][\"10m\"][\"output\"]\n",
    "\n",
    "# PARAMETERS\n",
    "SINGLE_UNIT = True\n",
    "layers = [\"L1\", \"L2/3\", \"L4\", \"L5\", \"L6\"]\n",
    "\n",
    "# SETUP PLOT \n",
    "\n",
    "# set lognormal plot parameters\n",
    "log_x_min = -3.0\n",
    "log_x_max = 3.0\n",
    "nbins = 30\n",
    "\n",
    "# IF you don't want to use the feature, set the value to 1E100\n",
    "# t_dec = 3600 # seconds until experimenter decides a cell is silent\n",
    "t_dec = 1^100 # seconds until experimenter decides a cell is silent\n",
    "\n",
    "cl = dict()\n",
    "cl[\"COLOR_NV\"] = [0.6, 0.6, 0.6]\n",
    "cl[\"COLOR_NS\"] = [0.9, 0.14, 0.15]\n",
    "cl[\"COLOR_NB\"] = [0.22, 0.5, 0.72] # blue\n",
    "cl[\"COLOR_NE\"] = [1, 0.49, 0] # orange\n",
    "cl[\"COLOR_HV\"] = \"k\" # black\n",
    "cl[\"COLOR_HS\"] = np.array([26, 152, 80]) / 255 # green\n",
    "\n",
    "# axes\n",
    "plt.rcParams[\"font.family\"] = \"Arial\"\n",
    "plt.rcParams[\"font.size\"] = 6  # 5-7 with Nature neuroscience as reference\n",
    "plt.rcParams[\"lines.linewidth\"] = 0.5 # typically between 0.5 and 1\n",
    "plt.rcParams[\"axes.linewidth\"] = 0.5\n",
    "plt.rcParams[\"axes.spines.top\"] = False\n",
    "plt.rcParams[\"xtick.major.width\"] = 0.5\n",
    "plt.rcParams[\"xtick.minor.width\"] = 0.5\n",
    "plt.rcParams[\"ytick.major.width\"] = 0.5\n",
    "plt.rcParams[\"ytick.minor.width\"] = 0.5\n",
    "plt.rcParams[\"xtick.major.size\"] = 3.5 * 1.1\n",
    "plt.rcParams[\"xtick.minor.size\"] = 2 * 1.1\n",
    "plt.rcParams[\"ytick.major.size\"] = 3.5 * 1.1\n",
    "plt.rcParams[\"ytick.minor.size\"] = 2 * 1.1\n",
    "# legend\n",
    "legend_cfg = {\"frameon\": False, \"handletextpad\": 0.5}\n",
    "tight_layout_cfg = {\"pad\": 0.001}\n",
    "LG_FRAMEON = False              # no legend frame"
   ]
  },
  {
   "cell_type": "markdown",
   "metadata": {},
   "source": [
    "## Get metadata"
   ]
  },
  {
   "cell_type": "code",
   "execution_count": 2,
   "metadata": {},
   "outputs": [],
   "source": [
    "# get unit metadata\n",
    "df_nv = fr.get_sorted_unit_meta(SORTED_PATH_nv)\n",
    "df_ns = fr.get_sorted_unit_meta(SORTED_PATH_ns)\n",
    "df_ne = fr.get_sorted_unit_meta(SORTED_PATH_ne)\n",
    "df_nb = fr.get_synth_unit_meta(SORTED_PATH_nb)\n",
    "\n",
    "# keep units in cortex\n",
    "df_nv = df_nv[np.isin(df_nv[\"layer\"], [\"L1\", \"L2/3\", \"L4\", \"L5\", \"L6\"])]\n",
    "df_ns = df_ns[np.isin(df_ns[\"layer\"], [\"L1\", \"L2/3\", \"L4\", \"L5\", \"L6\"])]\n",
    "df_ne = df_ne[np.isin(df_ne[\"layer\"], [\"L1\", \"L2/3\", \"L4\", \"L5\", \"L6\"])]\n",
    "\n",
    "# unit-test: check all in cortex\n",
    "assert all(\n",
    "    np.isin(np.sort(df_nv[\"layer\"].unique()), [\"L1\", \"L2/3\", \"L4\", \"L5\", \"L6\"])\n",
    "), \"nor all in cortex\"\n",
    "assert all(\n",
    "    np.isin(np.sort(df_ns[\"layer\"].unique()), [\"L1\", \"L2/3\", \"L4\", \"L5\", \"L6\"])\n",
    "), \"nor all in cortex\"\n",
    "assert all(\n",
    "    np.isin(np.sort(df_nv[\"layer\"].unique()), [\"L1\", \"L2/3\", \"L4\", \"L5\", \"L6\"])\n",
    "), \"nor all in cortex\""
   ]
  },
  {
   "cell_type": "markdown",
   "metadata": {},
   "source": [
    "## Curate/or not"
   ]
  },
  {
   "cell_type": "markdown",
   "metadata": {},
   "source": [
    "- evidence that false positives are low amplitude sorted spikes\n",
    "- evidence that L1 silico best matches L1 vivo when selecting higher amplitude spikes\n",
    "- evidence that other layers best match when selecting all spikes"
   ]
  },
  {
   "cell_type": "code",
   "execution_count": 3,
   "metadata": {},
   "outputs": [],
   "source": [
    "if SINGLE_UNIT:\n",
    "    df_nv = df_nv[df_nv[\"kslabel\"] == \"good\"]\n",
    "    df_ns = df_ns[df_ns[\"kslabel\"] == \"good\"]\n",
    "    df_ne = df_ne[df_ne[\"kslabel\"] == \"good\"]\n",
    "    df_nb = df_nb[df_nb[\"kslabel\"] == \"good\"]"
   ]
  },
  {
   "cell_type": "markdown",
   "metadata": {},
   "source": [
    "## Sorted units total"
   ]
  },
  {
   "cell_type": "code",
   "execution_count": 4,
   "metadata": {},
   "outputs": [
    {
     "name": "stdout",
     "output_type": "stream",
     "text": [
      "M: total sorted unit: 186\n",
      "NS: total sorted unit: 578\n",
      "E: total sorted unit: 632\n",
      "S: total sorted unit: 413\n"
     ]
    }
   ],
   "source": [
    "print(\"M: total sorted unit:\", df_nv.shape[0])\n",
    "print(\"NS: total sorted unit:\", df_ns.shape[0])\n",
    "print(\"E: total sorted unit:\", df_ne.shape[0])\n",
    "print(\"S: total sorted unit:\", df_nb.shape[0])"
   ]
  },
  {
   "cell_type": "markdown",
   "metadata": {},
   "source": [
    "### (3m) Fr. stats"
   ]
  },
  {
   "cell_type": "code",
   "execution_count": 5,
   "metadata": {},
   "outputs": [],
   "source": [
    "layers = [\"L1\", \"L2/3\", \"L4\", \"L5\", \"L6\"]\n",
    "exps = [\"M\", \"NS\", \"E\", \"S\"]"
   ]
  },
  {
   "cell_type": "code",
   "execution_count": 31,
   "metadata": {},
   "outputs": [
    {
     "name": "stdout",
     "output_type": "stream",
     "text": [
      "L1 - M vs. NS, z=\"nan\", p=\"nan\", N_m=0, N_target=3\n",
      "L1 - M vs. E, z=\"nan\", p=\"nan\", N_m=0, N_target=2\n",
      "L1 - M vs. S, z=\"nan\", p=\"nan\", N_m=0, N_target=0\n",
      "L2/3 - M vs. NS, z=\"nan\", p=\"nan\", N_m=0, N_target=89\n",
      "L2/3 - M vs. E, z=\"nan\", p=\"nan\", N_m=0, N_target=37\n",
      "L2/3 - M vs. S, z=\"nan\", p=\"nan\", N_m=0, N_target=0\n",
      "L4 - M vs. NS, z=32.0, p=0.9428571428571431, N_m=1, N_target=69\n",
      "L4 - M vs. E, z=16.0, p=0.8500000000000002, N_m=1, N_target=39\n",
      "L4 - M vs. S, z=\"nan\", p=\"nan\", N_m=1, N_target=0\n",
      "L5 - M vs. NS, z=7832.0, p=0.003679059592294207, N_m=39, N_target=313\n",
      "L5 - M vs. E, z=13281.5, p=6.957839664376101e-05, N_m=39, N_target=495\n",
      "L5 - M vs. S, z=3676.5, p=4.678923888061168e-09, N_m=39, N_target=413\n",
      "L6 - M vs. NS, z=7008.5, p=0.30190373362216105, N_m=146, N_target=104\n",
      "L6 - M vs. E, z=3627.0, p=0.07718865783801905, N_m=146, N_target=59\n",
      "L6 - M vs. S, z=\"nan\", p=\"nan\", N_m=146, N_target=0\n"
     ]
    },
    {
     "data": {
      "image/png": "[encoded data removed]",
      "text/plain": [
       "<Figure size 60x300 with 1 Axes>"
      ]
     },
     "metadata": {},
     "output_type": "display_data"
    }
   ],
   "source": [
    "FIGSIZE = (0.6, 3)\n",
    "\n",
    "# plot\n",
    "fig, ax = plt.subplots(1, figsize=FIGSIZE)\n",
    "ax, df_fr = fr_npx.plot_fr_stats_by_layer_vert(\n",
    "    ax, df_nv, df_ns, df_ne, df_nb, layers, cl\n",
    ")\n",
    "\n",
    "# annotate stats\n",
    "ax, stats_hash = fr_npx.annotate_stats(ax, df_fr, \"firing rate\", layers, exps, xadj=2)\n",
    "\n",
    "# aesthetics\n",
    "ax.set_xticks([-3, -2, -1, 0, 1, 2], [-3, -2, -1, 0, 1, 2])\n",
    "ax.set_xlim([-3, 3])\n",
    "ax.set_ylim([4.2, -0.3])\n",
    "\n",
    "# save fig\n",
    "savefig(\n",
    "    \"figures/0_validation/6_firing_rate/assets/fig4G_logfr_stats_ks2_5.svg\",\n",
    ")"
   ]
  },
  {
   "cell_type": "markdown",
   "metadata": {},
   "source": [
    "### Var. stats"
   ]
  },
  {
   "cell_type": "code",
   "execution_count": 43,
   "metadata": {},
   "outputs": [
    {
     "name": "stdout",
     "output_type": "stream",
     "text": [
      "L1 - M vs. NS, z=nan, p=nan, N_m=100, N_target=100\n",
      "L1 - M vs. E, z=nan, p=nan, N_m=100, N_target=100\n",
      "L1 - M vs. S, z=\"nan\", p=\"nan\", N_m=100, N_target=0\n",
      "L2/3 - M vs. NS, z=nan, p=nan, N_m=100, N_target=100\n",
      "L2/3 - M vs. E, z=nan, p=nan, N_m=100, N_target=100\n",
      "L2/3 - M vs. S, z=\"nan\", p=\"nan\", N_m=100, N_target=0\n",
      "L4 - M vs. NS, z=0.0, p=2.2087606931992335e-59, N_m=100, N_target=100\n",
      "L4 - M vs. E, z=0.0, p=2.2087606931992335e-59, N_m=100, N_target=100\n",
      "L4 - M vs. S, z=\"nan\", p=\"nan\", N_m=100, N_target=0\n",
      "L5 - M vs. NS, z=9411.0, p=9.787948460812282e-35, N_m=100, N_target=100\n",
      "L5 - M vs. E, z=10000.0, p=2.2087606931992335e-59, N_m=100, N_target=100\n",
      "L5 - M vs. S, z=4213.0, p=0.05451318069644463, N_m=100, N_target=100\n",
      "L6 - M vs. NS, z=10000.0, p=2.2087606931992335e-59, N_m=100, N_target=100\n",
      "L6 - M vs. E, z=9835.0, p=4.1254127405344016e-47, N_m=100, N_target=100\n",
      "L6 - M vs. S, z=\"nan\", p=\"nan\", N_m=100, N_target=0\n"
     ]
    },
    {
     "data": {
      "image/png": "[encoded data removed]",
      "text/plain": [
       "<Figure size 50x300 with 1 Axes>"
      ]
     },
     "metadata": {},
     "output_type": "display_data"
    }
   ],
   "source": [
    "FIGSIZE = (0.5, 3)\n",
    "\n",
    "# plot\n",
    "fig, ax = plt.subplots(1, figsize=FIGSIZE)\n",
    "ax, df_var = fr_npx.plot_fr_std_stats_by_layer_vert(\n",
    "    ax, df_nv, df_ns, df_ne, df_nb, layers, cl\n",
    ")\n",
    "\n",
    "# annotate stats\n",
    "ax, stats_hash_var = fr_npx.annotate_stats(\n",
    "    ax, df_var, \"Var(log(firing rate))\", layers, exps, xadj=1\n",
    ")\n",
    "\n",
    "# aesthetics\n",
    "ax.set_xticks([0, 1, 2], [0, 1, 2])\n",
    "ax.set_xlim([0, 2.5])\n",
    "ax.set_ylim((4.2, -0.3))\n",
    "\n",
    "# save fig\n",
    "savefig(\n",
    "    \"figures/0_validation/6_firing_rate/assets/fig4H_std_logfr_stats_ks2_5.svg\",\n",
    ")"
   ]
  },
  {
   "cell_type": "markdown",
   "metadata": {},
   "source": [
    "#### Plot FR by layer"
   ]
  },
  {
   "cell_type": "code",
   "execution_count": 22,
   "metadata": {},
   "outputs": [
    {
     "data": {
      "image/png": "[encoded data removed]",
      "text/plain": [
       "<Figure size 100x500 with 6 Axes>"
      ]
     },
     "metadata": {},
     "output_type": "display_data"
    }
   ],
   "source": [
    "# FIGSIZE = (1.8, 6)\n",
    "FIGSIZE = (1, 5)\n",
    "\n",
    "fig, axes = plt.subplots(len(layers) + 1, 1, figsize=FIGSIZE)\n",
    "fr_npx.plot_fr_by_layer(\n",
    "    axes, df_nv, df_ns, df_ne, df_nb, layers, log_x_min, log_x_max, nbins, t_dec, cl\n",
    ")\n",
    "savefig(\n",
    "    \"figures/0_validation/6_firing_rate/assets/fig4I_npx_fr_ks2_5.svg\",\n",
    ")"
   ]
  },
  {
   "cell_type": "code",
   "execution_count": null,
   "metadata": {},
   "outputs": [],
   "source": []
  }
 ],
 "metadata": {
  "kernelspec": {
   "display_name": "firing_rate",
   "language": "python",
   "name": "python3"
  },
  "language_info": {
   "codemirror_mode": {
    "name": "ipython",
    "version": 3
   },
   "file_extension": ".py",
   "mimetype": "text/x-python",
   "name": "python",
   "nbconvert_exporter": "python",
   "pygments_lexer": "ipython3",
   "version": "3.9.7"
  },
  "orig_nbformat": 4
 },
 "nbformat": 4,
 "nbformat_minor": 2
}
