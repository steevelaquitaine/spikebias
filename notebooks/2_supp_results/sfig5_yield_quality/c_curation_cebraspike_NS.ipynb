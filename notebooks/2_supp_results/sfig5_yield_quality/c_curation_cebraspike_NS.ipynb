{
 "cells": [
  {
   "cell_type": "markdown",
   "metadata": {},
   "source": [
    "# Model selection\n",
    "\n",
    "\n",
    "* TODO:\n",
    "    * evaluate training goodness of fit with loss functions plot\n",
    "    * identify best model with precision and recalls plot\n",
    "\n",
    "* TODO:\n",
    "    * use model object to make new predictions (e.g., on evoked dataset)\n",
    "\n",
    "\n",
    "* CebraSpike parameter optimization:\n",
    "\n",
    "    * run 1: 25 spikes - 40 iter: 0.6132478632478633 - 0.7058823529411765 (182 units; full batch)\n",
    "    * run 2: 50 spikes - 40 iter: 0.59 - 0.76 (182 units; batch_size: 1024 due to GPU memory constrains) -> no need to have more than 25 spikes\n",
    "    * run 3: 25 spikes - 40 iter - 3 dims: 0.60 - 0.76 (182 units; full batch) -> no need to have more than 3 dimensions\n",
    "    * run 4: 25 spikes - 40 iter - 3 dims - 1 k-neighbors : 0.6 - 0.76\n",
    "    * run 5: 25 spikes - 40 iter - 3 dims - 10 k-neighbors : 0.61 - 0.82 (best so far)\n",
    "    * run 6: 25 spikes - 40 iter - 3 dims - 20 k-neighbors: 0.61 - 0.82\n",
    "    "
   ]
  },
  {
   "cell_type": "markdown",
   "metadata": {},
   "source": [
    "### Setup\n",
    "\n",
    "setup cebraspike3 virtual environment."
   ]
  },
  {
   "cell_type": "code",
   "execution_count": 1,
   "metadata": {},
   "outputs": [
    {
     "name": "stdout",
     "output_type": "stream",
     "text": [
      "2024-09-20 16:08:08,049 - root - utils.py - get_config - INFO - Reading experiment config.\n",
      "2024-09-20 16:08:08,099 - root - utils.py - get_config - INFO - Reading experiment config. - done\n",
      "2024-09-20 16:08:08,100 - root - utils.py - get_config - INFO - Reading experiment config.\n",
      "2024-09-20 16:08:08,141 - root - utils.py - get_config - INFO - Reading experiment config. - done\n"
     ]
    }
   ],
   "source": [
    "%load_ext autoreload\n",
    "%autoreload 2\n",
    "import os\n",
    "import torch\n",
    "import numpy as np\n",
    "from matplotlib import pyplot as plt\n",
    "\n",
    "# set project path\n",
    "proj_path = \"/gpfs/bbp.cscs.ch/project/proj85/home/laquitai/spikebias/\"\n",
    "os.chdir(proj_path)\n",
    "\n",
    "from src.nodes.utils import get_config\n",
    "from src.nodes import utils \n",
    "from src.nodes.models.Flc import dataloader as flc_dataloader\n",
    "from src.nodes.models.CebraSpike import dataloader as cs_dataloader\n",
    "from src.nodes.models.Flc.models import FlcModel # FLC model\n",
    "from src.nodes.models.CebraSpike.models import CebraSpike # FLC model\n",
    "from src.nodes.models.CebraSpike import plotutils\n",
    "\n",
    "# npx spont. biophy.\n",
    "cfg_ns, _ = get_config(\"silico_neuropixels\", \"concatenated\").values()\n",
    "KS4_ns_10m = cfg_ns[\"sorting\"][\"sorters\"][\"kilosort4\"][\"10m\"][\n",
    "    \"output\"\n",
    "]  # sorting with KS4\n",
    "GT_ns_10m = cfg_ns[\"sorting\"][\"simulation\"][\"ground_truth\"][\"10m\"][\"output\"] # KS4 sorting\n",
    "STUDY_ns = cfg_ns[\"postprocessing\"][\"waveform\"][\"sorted\"][\"study\"][\"kilosort4\"][\n",
    "    \"10m\"\n",
    "]  # WaveformExtractor\n",
    "STUDY_ns_su = '/gpfs/bbp.cscs.ch/project/proj85/laquitai/spikebias_paper/0_silico/neuropixels/concatenated_campaigns/postpro/realism/spike/sorted/study_ks4_10m_single_units'\n",
    "\n",
    "# npx evoked biophy.\n",
    "cfg_ne, _ = get_config(\"silico_neuropixels\", \"stimulus\").values()\n",
    "KS4_ne_10m = cfg_ne[\"sorting\"][\"sorters\"][\"kilosort4\"][\"10m\"][\"output\"]\n",
    "GT_ne_10m = cfg_ne[\"sorting\"][\"simulation\"][\"ground_truth\"][\"10m\"][\"output\"]\n",
    "STUDY_ne = cfg_ne[\"postprocessing\"][\"waveform\"][\"sorted\"][\"study\"][\"kilosort4\"][\n",
    "    \"10m\"\n",
    "]  # WaveformExtractor\n",
    "STUDY_ne_su = '/gpfs/bbp.cscs.ch/project/proj85/laquitai/spikebias_paper/postprocessing/biophy/4_spikesorting_stimulus_test_neuropixels_8-1-24__8slc_80f_360r_50t_200ms_1_smallest_fiber_gids/sorted/study_ks4_10m_single_units'\n",
    "\n",
    "\n",
    "# PATHS\n",
    "\n",
    "# pre-computed sorted unit quality\n",
    "quality_path = \"/gpfs/bbp.cscs.ch/project/proj85/laquitai/spikebias_paper/analysis/sorting_quality/sorting_quality.csv\"\n",
    "\n",
    "# model save path\n",
    "flc_model_path = \"/gpfs/bbp.cscs.ch/project/proj85/laquitai/spikebias_paper/analysis/sorting_quality/models/flc/sf_40Khz/crossval_data\"\n",
    "cs_model_path = \"/gpfs/bbp.cscs.ch/project/proj85/laquitai/spikebias_paper/analysis/sorting_quality/models/cebra/sf_40Khz/crossval_data\"\n",
    "\n",
    "# axes\n",
    "plt.rcParams[\"font.family\"] = \"Arial\"\n",
    "plt.rcParams[\"font.size\"] = 6  # 5-7 with Nature neuroscience as reference\n",
    "plt.rcParams[\"lines.linewidth\"] = 0.5 # typically between 0.5 and 1\n",
    "plt.rcParams[\"axes.linewidth\"] = 0.5 #1\n",
    "plt.rcParams[\"axes.spines.top\"] = False\n",
    "plt.rcParams[\"xtick.major.width\"] = 0.5 #0.8 #* 1.3\n",
    "plt.rcParams[\"xtick.minor.width\"] = 0.5 #0.8 #* 1.3\n",
    "plt.rcParams[\"ytick.major.width\"] = 0.5 #0.8 #* 1.3\n",
    "plt.rcParams[\"ytick.minor.width\"] = 0.5 #0.8 #* 1.3\n",
    "plt.rcParams[\"xtick.major.size\"] = 3.5 * 1.1\n",
    "plt.rcParams[\"xtick.minor.size\"] = 2 * 1.1\n",
    "plt.rcParams[\"ytick.major.size\"] = 3.5 * 1.1\n",
    "plt.rcParams[\"ytick.minor.size\"] = 2 * 1.1\n",
    "# legend\n",
    "legend_cfg = {\"frameon\": False, \"handletextpad\": 0.5}\n",
    "tight_layout_cfg = {\"pad\": 0.001}\n",
    "LG_FRAMEON = False              # no legend frame"
   ]
  },
  {
   "cell_type": "markdown",
   "metadata": {},
   "source": [
    "## Specs"
   ]
  },
  {
   "cell_type": "code",
   "execution_count": 2,
   "metadata": {},
   "outputs": [
    {
     "name": "stdout",
     "output_type": "stream",
     "text": [
      "__CUDNN VERSION: 90100\n",
      "__Number CUDA Devices: 4\n",
      "__CUDA Device Name: Tesla V100-SXM2-16GB\n",
      "__CUDA Device Total Memory [GB]: 16.935419904\n"
     ]
    }
   ],
   "source": [
    "# check for GPU\n",
    "use_cuda = torch.cuda.is_available()\n",
    "if use_cuda:\n",
    "    print(\"__CUDNN VERSION:\", torch.backends.cudnn.version())\n",
    "    print(\"__Number CUDA Devices:\", torch.cuda.device_count())\n",
    "    print(\"__CUDA Device Name:\", torch.cuda.get_device_name(0))\n",
    "    print(\n",
    "        \"__CUDA Device Total Memory [GB]:\",\n",
    "        torch.cuda.get_device_properties(0).total_memory / 1e9,\n",
    "    )"
   ]
  },
  {
   "cell_type": "markdown",
   "metadata": {},
   "source": [
    "## (1m) FLC model \n",
    "\n",
    "* dataset:\n",
    "    * 182 units: they need to have all their metrics (discard those with missing metrics (np.nan) to be included\n",
    "    * 10 metrics: amplitude_cutoff', 'firing_range', 'firing_rate',\n",
    "       'isi_violations_ratio', 'presence_ratio', 'rp_contamination',\n",
    "       'rp_violations', 'sd_ratio', 'snr', 'silhouette, 'mad_ratio'\n",
    "* evaluation:\n",
    "    * 75/25 cross-validation scheme with 100 seeds"
   ]
  },
  {
   "cell_type": "code",
   "execution_count": 3,
   "metadata": {},
   "outputs": [
    {
     "name": "stderr",
     "output_type": "stream",
     "text": [
      "/gpfs/bbp.cscs.ch/project/proj85/laquitai/spikebias_paper/envs/cebraspike3/lib/python3.9/site-packages/numpy/core/_methods.py:206: RuntimeWarning: Degrees of freedom <= 0 for slice\n",
      "  ret = _var(a, axis=axis, dtype=dtype, out=out, ddof=ddof,\n",
      "/gpfs/bbp.cscs.ch/project/proj85/laquitai/spikebias_paper/envs/cebraspike3/lib/python3.9/site-packages/numpy/core/_methods.py:163: RuntimeWarning: invalid value encountered in divide\n",
      "  arrmean = um.true_divide(arrmean, div, out=arrmean,\n",
      "/gpfs/bbp.cscs.ch/project/proj85/laquitai/spikebias_paper/envs/cebraspike3/lib/python3.9/site-packages/numpy/core/_methods.py:198: RuntimeWarning: invalid value encountered in scalar divide\n",
      "  ret = ret.dtype.type(ret / rcount)\n",
      "/gpfs/bbp.cscs.ch/project/proj85/laquitai/spikebias_paper/envs/cebraspike3/lib/python3.9/site-packages/sklearn/base.py:376: InconsistentVersionWarning: Trying to unpickle estimator IncrementalPCA from version 1.4.2 when using version 1.5.2. This might lead to breaking code or invalid results. Use at your own risk. For more info please refer to:\n",
      "https://scikit-learn.org/stable/model_persistence.html#security-maintainability-limitations\n",
      "  warnings.warn(\n"
     ]
    },
    {
     "data": {
      "application/vnd.jupyter.widget-view+json": {
       "model_id": "361e15159fba4f30a556569629e16980",
       "version_major": 2,
       "version_minor": 0
      },
      "text/plain": [
       "  0%|          | 0/184 [00:00<?, ?it/s]"
      ]
     },
     "metadata": {},
     "output_type": "display_data"
    },
    {
     "name": "stdout",
     "output_type": "stream",
     "text": [
      "****************** Analysing data completion ***************\n",
      "Data completion: amplitude_cutoff        184\n",
      "firing_range            184\n",
      "firing_rate             184\n",
      "isi_violations_ratio    184\n",
      "presence_ratio          184\n",
      "rp_contamination        184\n",
      "rp_violations           184\n",
      "sd_ratio                184\n",
      "snr                     184\n",
      "silhouette              182\n",
      "dtype: int64\n",
      "quality metrics are: Index(['amplitude_cutoff', 'firing_range', 'firing_rate',\n",
      "       'isi_violations_ratio', 'presence_ratio', 'rp_contamination',\n",
      "       'rp_violations', 'sd_ratio', 'snr', 'silhouette'],\n",
      "      dtype='object')\n"
     ]
    },
    {
     "data": {
      "text/plain": [
       "{'precision_median': 0.8856209150326797,\n",
       " 'precision_std': 0.08616897126454853,\n",
       " 'precision_ci95': 0.016889118367851515,\n",
       " 'recall_median': 0.631578947368421,\n",
       " 'recall_std': 0.10248083503608878,\n",
       " 'recall_ci95': 0.0200862436670734}"
      ]
     },
     "metadata": {},
     "output_type": "display_data"
    }
   ],
   "source": [
    "# load the dataset formatted for the model\n",
    "data_flc = flc_dataloader.load_dataset(\n",
    "    quality_path, \"NS\", \"KS4\", KS4_ns_10m, STUDY_ns, STUDY_ns_su, GT_ns_10m\n",
    ")\n",
    "\n",
    "# instantiate the model\n",
    "flcmodel = FlcModel(data_flc[\"predictors\"])\n",
    "\n",
    "# train and evaluate with cross-validation\n",
    "flc_results = flcmodel.evaluate(\n",
    "    data_flc[\"dataset\"], seeds=np.arange(0, 100, 1), scale_data=False\n",
    ")\n",
    "display(flc_results[\"metric_stats\"])"
   ]
  },
  {
   "cell_type": "markdown",
   "metadata": {},
   "source": [
    "## (12m)CebraSpike model\n",
    "\n",
    "* TODO: add layer L1 and 2/3 back\n",
    "* the model needs at least 40 iterations for convergence (takes 11 minutes for 100 seeds)\n",
    "* Dataset:\n",
    "    * units need to have at least 25 spikes during the 10 minutes of recording (0.016 sp/s)\n",
    "    * units need to have all their metrics (discard those with missing metrics (np.nan))\n",
    "* Note: you might encounter CUDA memory issue. Restart the kernel."
   ]
  },
  {
   "cell_type": "code",
   "execution_count": 8,
   "metadata": {},
   "outputs": [
    {
     "name": "stderr",
     "output_type": "stream",
     "text": [
      "pos: -1.0221 neg:  9.1551 total:  8.1329 temperature:  0.9684: 100%|██████████| 40/40 [00:06<00:00,  5.99it/s]\n",
      "pos: -1.0262 neg:  9.1596 total:  8.1334 temperature:  0.9683: 100%|██████████| 40/40 [00:06<00:00,  6.03it/s]\n",
      "pos: -1.0330 neg:  9.1635 total:  8.1305 temperature:  0.9638: 100%|██████████| 40/40 [00:06<00:00,  6.04it/s]\n",
      "pos: -1.0323 neg:  9.1641 total:  8.1318 temperature:  0.9648: 100%|██████████| 40/40 [00:06<00:00,  6.03it/s]\n",
      "pos: -1.0278 neg:  9.1579 total:  8.1301 temperature:  0.9687: 100%|██████████| 40/40 [00:06<00:00,  6.04it/s]\n",
      "pos: -1.0132 neg:  9.1495 total:  8.1364 temperature:  0.9744: 100%|██████████| 40/40 [00:06<00:00,  6.04it/s]\n",
      "pos: -0.9883 neg:  9.1393 total:  8.1510 temperature:  0.9862: 100%|██████████| 40/40 [00:06<00:00,  6.03it/s]\n",
      "pos: -1.0346 neg:  9.1644 total:  8.1298 temperature:  0.9627: 100%|██████████| 40/40 [00:06<00:00,  6.03it/s]\n",
      "pos: -1.0259 neg:  9.1584 total:  8.1326 temperature:  0.9664: 100%|██████████| 40/40 [00:06<00:00,  6.05it/s]\n",
      "pos: -1.0267 neg:  9.1589 total:  8.1322 temperature:  0.9682: 100%|██████████| 40/40 [00:06<00:00,  6.03it/s]\n",
      "pos: -1.0291 neg:  9.1604 total:  8.1312 temperature:  0.9666: 100%|██████████| 40/40 [00:06<00:00,  6.05it/s]\n",
      "pos: -1.0132 neg:  9.1512 total:  8.1380 temperature:  0.9791: 100%|██████████| 40/40 [00:06<00:00,  6.04it/s]\n",
      "pos: -1.0361 neg:  9.1658 total:  8.1297 temperature:  0.9625: 100%|██████████| 40/40 [00:06<00:00,  6.05it/s]\n",
      "pos: -1.0312 neg:  9.1620 total:  8.1308 temperature:  0.9653: 100%|██████████| 40/40 [00:06<00:00,  6.04it/s]\n",
      "pos: -1.0336 neg:  9.1646 total:  8.1310 temperature:  0.9634: 100%|██████████| 40/40 [00:06<00:00,  6.04it/s]\n",
      "pos: -1.0353 neg:  9.1646 total:  8.1293 temperature:  0.9631: 100%|██████████| 40/40 [00:06<00:00,  6.05it/s]\n",
      "pos: -1.0309 neg:  9.1606 total:  8.1297 temperature:  0.9646: 100%|██████████| 40/40 [00:06<00:00,  6.04it/s]\n",
      "pos: -1.0229 neg:  9.1541 total:  8.1313 temperature:  0.9718: 100%|██████████| 40/40 [00:06<00:00,  6.04it/s]\n",
      "pos: -1.0325 neg:  9.1632 total:  8.1307 temperature:  0.9639: 100%|██████████| 40/40 [00:06<00:00,  6.05it/s]\n",
      "pos: -1.0280 neg:  9.1584 total:  8.1304 temperature:  0.9680: 100%|██████████| 40/40 [00:06<00:00,  6.04it/s]\n",
      "pos: -1.0255 neg:  9.1596 total:  8.1341 temperature:  0.9682: 100%|██████████| 40/40 [00:06<00:00,  6.03it/s]\n",
      "pos: -1.0319 neg:  9.1625 total:  8.1306 temperature:  0.9654: 100%|██████████| 40/40 [00:06<00:00,  6.04it/s]\n",
      "pos: -1.0285 neg:  9.1613 total:  8.1328 temperature:  0.9671: 100%|██████████| 40/40 [00:06<00:00,  6.04it/s]\n",
      "pos: -1.0222 neg:  9.1566 total:  8.1344 temperature:  0.9722: 100%|██████████| 40/40 [00:06<00:00,  6.04it/s]\n",
      "pos: -1.0257 neg:  9.1582 total:  8.1325 temperature:  0.9680: 100%|██████████| 40/40 [00:06<00:00,  6.04it/s]\n",
      "pos: -1.0319 neg:  9.1627 total:  8.1308 temperature:  0.9652: 100%|██████████| 40/40 [00:06<00:00,  6.05it/s]\n",
      "pos: -1.0330 neg:  9.1633 total:  8.1303 temperature:  0.9641: 100%|██████████| 40/40 [00:06<00:00,  6.05it/s]\n",
      "pos: -1.0324 neg:  9.1622 total:  8.1298 temperature:  0.9648: 100%|██████████| 40/40 [00:06<00:00,  6.03it/s]\n",
      "pos: -1.0329 neg:  9.1638 total:  8.1309 temperature:  0.9629: 100%|██████████| 40/40 [00:06<00:00,  6.04it/s]\n",
      "pos: -0.9333 neg:  9.6108 total:  8.6775 temperature:  1.0045: 100%|██████████| 40/40 [00:06<00:00,  6.03it/s]\n",
      "pos: -1.0186 neg:  9.1535 total:  8.1349 temperature:  0.9720: 100%|██████████| 40/40 [00:06<00:00,  6.04it/s]\n",
      "pos: -1.0283 neg:  9.1620 total:  8.1338 temperature:  0.9672: 100%|██████████| 40/40 [00:06<00:00,  6.04it/s]\n",
      "pos: -1.0344 neg:  9.1644 total:  8.1299 temperature:  0.9628: 100%|██████████| 40/40 [00:06<00:00,  6.04it/s]\n",
      "pos: -1.0072 neg:  9.1434 total:  8.1362 temperature:  0.9794: 100%|██████████| 40/40 [00:06<00:00,  5.99it/s]\n",
      "pos: -1.0155 neg:  9.1507 total:  8.1352 temperature:  0.9778: 100%|██████████| 40/40 [00:06<00:00,  6.04it/s]\n",
      "pos: -1.0314 neg:  9.1642 total:  8.1328 temperature:  0.9648: 100%|██████████| 40/40 [00:06<00:00,  6.04it/s]\n",
      "pos: -1.0265 neg:  9.1582 total:  8.1317 temperature:  0.9702: 100%|██████████| 40/40 [00:06<00:00,  6.04it/s]\n",
      "pos: -1.0310 neg:  9.1610 total:  8.1300 temperature:  0.9658: 100%|██████████| 40/40 [00:06<00:00,  6.05it/s]\n",
      "pos: -1.0378 neg:  9.1664 total:  8.1286 temperature:  0.9604: 100%|██████████| 40/40 [00:06<00:00,  6.05it/s]\n",
      "pos: -1.0276 neg:  9.1582 total:  8.1306 temperature:  0.9673: 100%|██████████| 40/40 [00:06<00:00,  6.03it/s]\n",
      "pos: -1.0331 neg:  9.1654 total:  8.1324 temperature:  0.9636: 100%|██████████| 40/40 [00:06<00:00,  6.04it/s]\n",
      "pos: -1.0157 neg:  9.1497 total:  8.1340 temperature:  0.9764: 100%|██████████| 40/40 [00:06<00:00,  6.05it/s]\n",
      "pos: -1.0239 neg:  9.1565 total:  8.1327 temperature:  0.9708: 100%|██████████| 40/40 [00:06<00:00,  6.04it/s]\n",
      "pos: -1.0336 neg:  9.1623 total:  8.1286 temperature:  0.9642: 100%|██████████| 40/40 [00:06<00:00,  6.02it/s]\n",
      "pos: -1.0092 neg:  9.1518 total:  8.1426 temperature:  0.9805: 100%|██████████| 40/40 [00:06<00:00,  6.03it/s]\n",
      "pos: -1.0258 neg:  9.1581 total:  8.1323 temperature:  0.9683: 100%|██████████| 40/40 [00:06<00:00,  6.03it/s]\n",
      "pos: -1.0354 neg:  9.1641 total:  8.1288 temperature:  0.9628: 100%|██████████| 40/40 [00:06<00:00,  6.03it/s]\n",
      "pos: -1.0160 neg:  9.1528 total:  8.1368 temperature:  0.9763: 100%|██████████| 40/40 [00:06<00:00,  6.03it/s]\n",
      "pos: -1.0351 neg:  9.1654 total:  8.1303 temperature:  0.9626: 100%|██████████| 40/40 [00:06<00:00,  6.03it/s]\n",
      "pos: -1.0300 neg:  9.1614 total:  8.1314 temperature:  0.9664: 100%|██████████| 40/40 [00:06<00:00,  5.98it/s]\n",
      "pos: -1.0340 neg:  9.1628 total:  8.1288 temperature:  0.9630: 100%|██████████| 40/40 [00:06<00:00,  6.04it/s]\n",
      "pos: -1.0280 neg:  9.1598 total:  8.1318 temperature:  0.9656: 100%|██████████| 40/40 [00:06<00:00,  6.04it/s]\n",
      "pos: -1.0241 neg:  9.1581 total:  8.1340 temperature:  0.9672: 100%|██████████| 40/40 [00:06<00:00,  6.04it/s]\n",
      "pos: -1.0306 neg:  9.1633 total:  8.1327 temperature:  0.9653: 100%|██████████| 40/40 [00:06<00:00,  6.04it/s]\n",
      "pos: -1.0342 neg:  9.1638 total:  8.1295 temperature:  0.9636: 100%|██████████| 40/40 [00:06<00:00,  6.03it/s]\n",
      "pos: -1.0248 neg:  9.1572 total:  8.1324 temperature:  0.9702: 100%|██████████| 40/40 [00:06<00:00,  6.04it/s]\n",
      "pos: -1.0311 neg:  9.1607 total:  8.1296 temperature:  0.9654: 100%|██████████| 40/40 [00:06<00:00,  6.04it/s]\n",
      "pos: -1.0123 neg:  9.1488 total:  8.1365 temperature:  0.9754: 100%|██████████| 40/40 [00:06<00:00,  6.04it/s]\n",
      "pos: -1.0362 neg:  9.1659 total:  8.1298 temperature:  0.9625: 100%|██████████| 40/40 [00:06<00:00,  6.04it/s]\n",
      "pos: -1.0318 neg:  9.1604 total:  8.1286 temperature:  0.9643: 100%|██████████| 40/40 [00:06<00:00,  6.03it/s]\n",
      "pos: -1.0250 neg:  9.1561 total:  8.1311 temperature:  0.9685: 100%|██████████| 40/40 [00:06<00:00,  6.03it/s]\n",
      "pos: -1.0184 neg:  9.1533 total:  8.1350 temperature:  0.9701: 100%|██████████| 40/40 [00:06<00:00,  6.03it/s]\n",
      "pos: -1.0329 neg:  9.1637 total:  8.1308 temperature:  0.9635: 100%|██████████| 40/40 [00:06<00:00,  6.03it/s]\n",
      "pos: -1.0228 neg:  9.1568 total:  8.1340 temperature:  0.9721: 100%|██████████| 40/40 [00:06<00:00,  6.04it/s]\n",
      "pos: -1.0284 neg:  9.1592 total:  8.1308 temperature:  0.9659: 100%|██████████| 40/40 [00:06<00:00,  6.03it/s]\n",
      "pos: -1.0252 neg:  9.1578 total:  8.1326 temperature:  0.9682: 100%|██████████| 40/40 [00:06<00:00,  6.03it/s]\n",
      "pos: -1.0316 neg:  9.1635 total:  8.1318 temperature:  0.9651: 100%|██████████| 40/40 [00:07<00:00,  5.65it/s]\n",
      "pos: -1.0203 neg:  9.1542 total:  8.1338 temperature:  0.9717: 100%|██████████| 40/40 [00:06<00:00,  6.03it/s]\n",
      "pos: -1.0358 neg:  9.1650 total:  8.1292 temperature:  0.9630: 100%|██████████| 40/40 [00:06<00:00,  6.04it/s]\n",
      "pos: -0.9989 neg:  9.1421 total:  8.1432 temperature:  0.9812: 100%|██████████| 40/40 [00:06<00:00,  6.04it/s]\n",
      "pos: -1.0346 neg:  9.1634 total:  8.1287 temperature:  0.9638: 100%|██████████| 40/40 [00:06<00:00,  6.03it/s]\n",
      "pos: -1.0136 neg:  9.1497 total:  8.1361 temperature:  0.9770: 100%|██████████| 40/40 [00:06<00:00,  6.04it/s]\n",
      "pos: -1.0356 neg:  9.1627 total:  8.1271 temperature:  0.9629: 100%|██████████| 40/40 [00:06<00:00,  5.97it/s]\n",
      "pos: -1.0310 neg:  9.1610 total:  8.1300 temperature:  0.9656: 100%|██████████| 40/40 [00:06<00:00,  6.04it/s]\n",
      "pos: -1.0284 neg:  9.1595 total:  8.1311 temperature:  0.9662: 100%|██████████| 40/40 [00:06<00:00,  5.94it/s]\n",
      "pos: -1.0226 neg:  9.1558 total:  8.1332 temperature:  0.9711: 100%|██████████| 40/40 [00:06<00:00,  5.98it/s]\n",
      "pos: -1.0336 neg:  9.1643 total:  8.1307 temperature:  0.9641: 100%|██████████| 40/40 [00:06<00:00,  6.04it/s]\n",
      "pos: -1.0282 neg:  9.1623 total:  8.1341 temperature:  0.9668: 100%|██████████| 40/40 [00:06<00:00,  6.03it/s]\n",
      "pos: -1.0302 neg:  9.1600 total:  8.1298 temperature:  0.9665: 100%|██████████| 40/40 [00:06<00:00,  5.88it/s]\n",
      "pos: -1.0089 neg:  9.1460 total:  8.1371 temperature:  0.9767: 100%|██████████| 40/40 [00:06<00:00,  5.99it/s]\n",
      "pos: -1.0134 neg:  9.1538 total:  8.1404 temperature:  0.9778: 100%|██████████| 40/40 [00:06<00:00,  5.81it/s]\n",
      "pos: -1.0007 neg:  9.1391 total:  8.1384 temperature:  0.9792: 100%|██████████| 40/40 [00:07<00:00,  5.67it/s]\n",
      "pos: -1.0262 neg:  9.1575 total:  8.1313 temperature:  0.9687: 100%|██████████| 40/40 [00:06<00:00,  5.95it/s]\n",
      "pos: -1.0259 neg:  9.1585 total:  8.1326 temperature:  0.9670: 100%|██████████| 40/40 [00:06<00:00,  6.00it/s]\n",
      "pos: -1.0305 neg:  9.1607 total:  8.1302 temperature:  0.9646: 100%|██████████| 40/40 [00:06<00:00,  5.85it/s]\n",
      "pos: -1.0013 neg:  9.1399 total:  8.1386 temperature:  0.9829: 100%|██████████| 40/40 [00:06<00:00,  5.78it/s]\n",
      "pos: -1.0354 neg:  9.1646 total:  8.1292 temperature:  0.9625: 100%|██████████| 40/40 [00:06<00:00,  5.95it/s]\n",
      "pos: -1.0148 neg:  9.1512 total:  8.1365 temperature:  0.9754: 100%|██████████| 40/40 [00:06<00:00,  6.01it/s]\n",
      "pos: -1.0334 neg:  9.1632 total:  8.1298 temperature:  0.9633: 100%|██████████| 40/40 [00:06<00:00,  5.86it/s]\n",
      "pos: -1.0330 neg:  9.1643 total:  8.1313 temperature:  0.9647: 100%|██████████| 40/40 [00:06<00:00,  6.01it/s]\n",
      "pos: -0.9459 neg:  9.6353 total:  8.6895 temperature:  1.0046: 100%|██████████| 40/40 [00:06<00:00,  6.04it/s]\n",
      "pos: -1.0320 neg:  9.1625 total:  8.1304 temperature:  0.9638: 100%|██████████| 40/40 [00:06<00:00,  6.03it/s]\n",
      "pos: -1.0338 neg:  9.1633 total:  8.1295 temperature:  0.9639: 100%|██████████| 40/40 [00:06<00:00,  6.02it/s]\n",
      "pos: -1.0339 neg:  9.1636 total:  8.1296 temperature:  0.9641: 100%|██████████| 40/40 [00:06<00:00,  5.89it/s]\n",
      "pos: -1.0261 neg:  9.1584 total:  8.1324 temperature:  0.9703: 100%|██████████| 40/40 [00:06<00:00,  6.04it/s]\n",
      "pos: -1.0334 neg:  9.1638 total:  8.1304 temperature:  0.9649: 100%|██████████| 40/40 [00:06<00:00,  6.05it/s]\n",
      "pos: -1.0261 neg:  9.1601 total:  8.1340 temperature:  0.9683: 100%|██████████| 40/40 [00:06<00:00,  6.03it/s]\n",
      "pos: -1.0245 neg:  9.1580 total:  8.1335 temperature:  0.9693: 100%|██████████| 40/40 [00:06<00:00,  6.02it/s]\n",
      "pos: -1.0101 neg:  9.1545 total:  8.1444 temperature:  0.9794: 100%|██████████| 40/40 [00:06<00:00,  6.04it/s]\n",
      "pos: -1.0253 neg:  9.1575 total:  8.1322 temperature:  0.9692: 100%|██████████| 40/40 [00:06<00:00,  5.99it/s]\n"
     ]
    },
    {
     "data": {
      "text/plain": [
       "{'precision_median': 0.6086956521739131,\n",
       " 'precision_std': 0.1371968673023259,\n",
       " 'precision_ci95': 0.02689058599125587,\n",
       " 'recall_median': 0.8235294117647058,\n",
       " 'recall_std': 0.1702623662363512,\n",
       " 'recall_ci95': 0.033371423782324834}"
      ]
     },
     "metadata": {},
     "output_type": "display_data"
    }
   ],
   "source": [
    "# set parameters\n",
    "torch.manual_seed(0)  # ensure reproducibility\n",
    "\n",
    "# load the dataset formatted for the model\n",
    "data_cs = cs_dataloader.load_dataset(\n",
    "    qpath=quality_path,\n",
    "    sorting_path=KS4_ns_10m,\n",
    "    sortingtrue_path=GT_ns_10m,\n",
    "    study_path=STUDY_ns,\n",
    "    study_singleu_path=STUDY_ns_su,\n",
    "    exp=\"NS\",\n",
    "    sorter=\"KS4\",\n",
    "    n_site=384,\n",
    "    num_spikes=25,\n",
    "    interval_ms=3,\n",
    "    downsampling=1,\n",
    "    load_we_if_exists=True,\n",
    "    load_amp_if_exists=True,\n",
    "    load_qmetrics_if_exists=False,\n",
    ")\n",
    "\n",
    "# instantiate the model\n",
    "csmodel = CebraSpike(\n",
    "    cfg={\n",
    "        \"model_architecture\": \"offset10-model\",  # receptive field of size 10\n",
    "        \"distance\": \"cosine\",  # adapted to contrastive learning\n",
    "        \"batch_size\": data_cs[\"dataset\"][\"data\"].shape[1],  # full dataset\n",
    "        \"temperature_mode\": \"auto\",\n",
    "        \"learning_rate\": 0.001,\n",
    "        \"max_iterations\": 40,\n",
    "        \"conditional\": \"time_delta\",\n",
    "        \"time_offsets\": 10,  # 10 timesteps (should be >= size of receptve fields)\n",
    "        \"output_dimension\": 3,  # number of dimensions of the embedding\n",
    "        \"device\": \"cuda_if_available\",\n",
    "        \"verbose\": True,\n",
    "    }\n",
    ")\n",
    "\n",
    "# train and evaluate with cross-validation\n",
    "cs_results = csmodel.evaluate(\n",
    "    data_cs[\"dataset\"],\n",
    "    cs_model_path,\n",
    "    is_train=True,\n",
    "    seeds=np.arange(0, 100, 1),\n",
    "    n_neighbors=20,\n",
    ")\n",
    "display(cs_results[\"metric_stats\"])"
   ]
  },
  {
   "cell_type": "markdown",
   "metadata": {},
   "source": [
    "### Decoding performance"
   ]
  },
  {
   "cell_type": "code",
   "execution_count": 9,
   "metadata": {},
   "outputs": [
    {
     "data": {
      "image/png": "[encoded data removed]",
      "text/plain": [
       "<Figure size 250x150 with 2 Axes>"
      ]
     },
     "metadata": {},
     "output_type": "display_data"
    }
   ],
   "source": [
    "fig, ax = plt.subplots(1, 2, figsize=(2.5, 1.5))\n",
    "ax[0] = plotutils.plot(ax[0], flc_results[\"metric_data\"])\n",
    "ax[0].set_xlabel(\"flc model\")\n",
    "ax[1] = plotutils.plot(ax[1], cs_results[\"metric_data\"])\n",
    "ax[1].set_xlabel(\"cebraspike model\")\n",
    "\n",
    "plt.tight_layout()\n",
    "\n",
    "# save\n",
    "utils.savefig(\n",
    "    \"figures/1_sorting_quality/cebraspike/assets/fig5D_decoding_performance.svg\"\n",
    ")"
   ]
  }
 ],
 "metadata": {
  "kernelspec": {
   "display_name": "cebraspike3",
   "language": "python",
   "name": "python3"
  },
  "language_info": {
   "codemirror_mode": {
    "name": "ipython",
    "version": 3
   },
   "file_extension": ".py",
   "mimetype": "text/x-python",
   "name": "python",
   "nbconvert_exporter": "python",
   "pygments_lexer": "ipython3",
   "version": "3.9.7"
  }
 },
 "nbformat": 4,
 "nbformat_minor": 2
}
