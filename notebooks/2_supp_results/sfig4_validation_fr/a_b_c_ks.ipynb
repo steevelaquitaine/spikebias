{
 "cells": [
  {
   "cell_type": "markdown",
   "metadata": {},
   "source": [
    "# Firing rates (KS)\n",
    "\n",
    "author: steeve.laquitaine@epfl.ch    \n",
    "date: 17.01.2023  \n",
    "last modified: 15.08.2024\n",
    "\n",
    "* 10 minutes of recordings (as sorting accurac and yield likely change with duration). 10 minutes is a duration common to all recordings."
   ]
  },
  {
   "cell_type": "markdown",
   "metadata": {},
   "source": [
    "**Prerequisites**:\n",
    "\n",
    "- processing: engineer recordings, fits noise and amplification, wires probe, records metadata, preprocesses, writes\n",
    "- sorting: sorts and records metadata to SortingExtractors\n",
    "\n",
    "**Notes**:\n",
    "\n",
    "- Kilosort has no postprocessing step that isolates single units from multi-units, contrary to later sorters."
   ]
  },
  {
   "cell_type": "markdown",
   "metadata": {},
   "source": [
    "### Setup\n",
    "\n",
    "Activate `spikeinterf..` python3.9 virtual environment (select interpreter - find envs/ path - add kernel)"
   ]
  },
  {
   "cell_type": "code",
   "execution_count": 1,
   "metadata": {},
   "outputs": [
    {
     "name": "stdout",
     "output_type": "stream",
     "text": [
      "2024-08-20 13:07:10,944 - root - utils.py - get_config - INFO - Reading experiment config.\n",
      "2024-08-20 13:07:10,991 - root - utils.py - get_config - INFO - Reading experiment config. - done\n",
      "2024-08-20 13:07:10,992 - root - utils.py - get_config - INFO - Reading experiment config.\n",
      "2024-08-20 13:07:11,042 - root - utils.py - get_config - INFO - Reading experiment config. - done\n",
      "2024-08-20 13:07:11,043 - root - utils.py - get_config - INFO - Reading experiment config.\n",
      "2024-08-20 13:07:11,089 - root - utils.py - get_config - INFO - Reading experiment config. - done\n",
      "2024-08-20 13:07:11,090 - root - utils.py - get_config - INFO - Reading experiment config.\n",
      "2024-08-20 13:07:11,111 - root - utils.py - get_config - INFO - Reading experiment config. - done\n"
     ]
    }
   ],
   "source": [
    "%load_ext autoreload\n",
    "%autoreload 2\n",
    "from matplotlib import pyplot as plt\n",
    "import numpy as np\n",
    "import os\n",
    "import warnings\n",
    "warnings.simplefilter(action='ignore', category=FutureWarning)\n",
    "warnings.filterwarnings(\"ignore\")\n",
    "\n",
    "# SET PROJECT PATH\n",
    "\n",
    "PROJ_PATH = \"/gpfs/bbp.cscs.ch/project/proj85/home/laquitai/preprint_2023\"\n",
    "os.chdir(PROJ_PATH)\n",
    "from src.nodes.utils import get_config, savefig\n",
    "from src.nodes.validation import firing_rate as fr\n",
    "from src.nodes.validation.npx_probe import firing_rate as fr_npx\n",
    "from src.nodes.validation import firing_rate as fr\n",
    "\n",
    "# SETUP EXPERIMENTS\n",
    "\n",
    "# data [done]\n",
    "cfg_nv, _ = get_config(\"vivo_marques\", \"c26\").values()\n",
    "SORTED_PATH_nv = cfg_nv[\"sorting\"][\"sorters\"][\"kilosort\"][\"10m\"][\"output\"]\n",
    "\n",
    "# model biophy. spontaneous [done]\n",
    "cfg_ns, _ = get_config(\"silico_neuropixels\", \"concatenated\").values()\n",
    "SORTED_PATH_ns = cfg_ns[\"sorting\"][\"sorters\"][\"kilosort\"][\"10m\"][\"output\"]\n",
    "\n",
    "# model biophy. evoked (40m)\n",
    "cfg_ne, _ = get_config(\"silico_neuropixels\", \"stimulus\").values()\n",
    "SORTED_PATH_ne = cfg_ne[\"sorting\"][\"sorters\"][\"kilosort\"][\"10m\"][\"output\"]\n",
    "\n",
    "# Buccino with best fitted gain for layer 5 [done]\n",
    "cfg_nb, _ = get_config(\"buccino_2020\", \"2020\").values()\n",
    "SORTED_PATH_nb = cfg_nb[\"sorting\"][\"sorters\"][\"kilosort\"][\"10m\"][\"output\"]\n",
    "\n",
    "# PARAMETERS\n",
    "layers = [\"L1\", \"L2/3\", \"L4\", \"L5\", \"L6\"]\n",
    "\n",
    "# SETUP PLOT \n",
    "\n",
    "# set lognormal plot parameters\n",
    "log_x_min = -3.0\n",
    "log_x_max = 3.0\n",
    "nbins = 30\n",
    "\n",
    "# IF you don't want to use the feature, set the value to 1E100\n",
    "# t_dec = 3600 # seconds until experimenter decides a cell is silent\n",
    "t_dec = 1^100 # seconds until experimenter decides a cell is silent\n",
    "\n",
    "cl = dict()\n",
    "cl[\"COLOR_NV\"] = [0.6, 0.6, 0.6]\n",
    "cl[\"COLOR_NS\"] = [0.9, 0.14, 0.15]\n",
    "cl[\"COLOR_NB\"] = [0.22, 0.5, 0.72] # blue\n",
    "cl[\"COLOR_NE\"] = [1, 0.49, 0] # orange\n",
    "cl[\"COLOR_HV\"] = \"k\" # black\n",
    "cl[\"COLOR_HS\"] = np.array([26, 152, 80]) / 255 # green\n",
    "\n",
    "# axes\n",
    "plt.rcParams[\"font.family\"] = \"Arial\"\n",
    "plt.rcParams[\"font.size\"] = 6  # 5-7 with Nature neuroscience as reference\n",
    "plt.rcParams[\"lines.linewidth\"] = 0.5 # typically between 0.5 and 1\n",
    "plt.rcParams[\"axes.linewidth\"] = 0.5\n",
    "plt.rcParams[\"axes.spines.top\"] = False\n",
    "plt.rcParams[\"xtick.major.width\"] = 0.5\n",
    "plt.rcParams[\"xtick.minor.width\"] = 0.5\n",
    "plt.rcParams[\"ytick.major.width\"] = 0.5\n",
    "plt.rcParams[\"ytick.minor.width\"] = 0.5\n",
    "plt.rcParams[\"xtick.major.size\"] = 3.5 * 1.1\n",
    "plt.rcParams[\"xtick.minor.size\"] = 2 * 1.1\n",
    "plt.rcParams[\"ytick.major.size\"] = 3.5 * 1.1\n",
    "plt.rcParams[\"ytick.minor.size\"] = 2 * 1.1\n",
    "# legend\n",
    "legend_cfg = {\"frameon\": False, \"handletextpad\": 0.5}\n",
    "tight_layout_cfg = {\"pad\": 0.001}\n",
    "LG_FRAMEON = False              # no legend frame"
   ]
  },
  {
   "cell_type": "markdown",
   "metadata": {},
   "source": [
    "## Get metadata"
   ]
  },
  {
   "cell_type": "code",
   "execution_count": 2,
   "metadata": {},
   "outputs": [
    {
     "name": "stdout",
     "output_type": "stream",
     "text": [
      "2024-08-20 13:07:11,251 - root - firing_rate.py - get_kslabel - INFO - No KSLabel property in SortingExtractor\n",
      "2024-08-20 13:07:11,252 - root - firing_rate.py - get_amplitude - INFO - No Amplitude property in SortingExtractor\n",
      "2024-08-20 13:07:11,272 - root - firing_rate.py - get_kslabel - INFO - No KSLabel property in SortingExtractor\n",
      "2024-08-20 13:07:11,273 - root - firing_rate.py - get_amplitude - INFO - No Amplitude property in SortingExtractor\n",
      "2024-08-20 13:07:11,295 - root - firing_rate.py - get_kslabel - INFO - No KSLabel property in SortingExtractor\n",
      "2024-08-20 13:07:11,296 - root - firing_rate.py - get_amplitude - INFO - No Amplitude property in SortingExtractor\n"
     ]
    },
    {
     "name": "stdout",
     "output_type": "stream",
     "text": [
      "2024-08-20 13:07:11,316 - root - firing_rate.py - get_kslabel - INFO - No KSLabel property in SortingExtractor\n",
      "2024-08-20 13:07:11,317 - root - firing_rate.py - get_amplitude - INFO - No Amplitude property in SortingExtractor\n"
     ]
    }
   ],
   "source": [
    "# get unit metadata\n",
    "df_nv = fr.get_sorted_unit_meta(SORTED_PATH_nv)\n",
    "df_ns = fr.get_sorted_unit_meta(SORTED_PATH_ns)\n",
    "df_ne = fr.get_sorted_unit_meta(SORTED_PATH_ne)\n",
    "df_nb = fr.get_synth_unit_meta(SORTED_PATH_nb)\n",
    "\n",
    "# keep units in cortex\n",
    "df_nv = df_nv[np.isin(df_nv[\"layer\"], [\"L1\", \"L2/3\", \"L4\", \"L5\", \"L6\"])]\n",
    "df_ns = df_ns[np.isin(df_ns[\"layer\"], [\"L1\", \"L2/3\", \"L4\", \"L5\", \"L6\"])]\n",
    "df_ne = df_ne[np.isin(df_ne[\"layer\"], [\"L1\", \"L2/3\", \"L4\", \"L5\", \"L6\"])]\n",
    "\n",
    "# unit-test: check all in cortex\n",
    "assert all(\n",
    "    np.isin(np.sort(df_nv[\"layer\"].unique()), [\"L1\", \"L2/3\", \"L4\", \"L5\", \"L6\"])\n",
    "), \"nor all in cortex\"\n",
    "assert all(\n",
    "    np.isin(np.sort(df_ns[\"layer\"].unique()), [\"L1\", \"L2/3\", \"L4\", \"L5\", \"L6\"])\n",
    "), \"nor all in cortex\"\n",
    "assert all(\n",
    "    np.isin(np.sort(df_nv[\"layer\"].unique()), [\"L1\", \"L2/3\", \"L4\", \"L5\", \"L6\"])\n",
    "), \"nor all in cortex\""
   ]
  },
  {
   "cell_type": "markdown",
   "metadata": {},
   "source": [
    "- evidence that false positives are low amplitude sorted spikes\n",
    "- evidence that L1 silico best matches L1 vivo when selecting higher amplitude spikes\n",
    "- evidence that other layers best match when selecting all spikes"
   ]
  },
  {
   "cell_type": "markdown",
   "metadata": {},
   "source": [
    "## Sorted units total"
   ]
  },
  {
   "cell_type": "code",
   "execution_count": 3,
   "metadata": {},
   "outputs": [
    {
     "name": "stdout",
     "output_type": "stream",
     "text": [
      "M: total sorted unit: 1457\n",
      "NS: total sorted unit: 1806\n",
      "E: total sorted unit: 2642\n",
      "S: total sorted unit: 1254\n"
     ]
    }
   ],
   "source": [
    "print(\"M: total sorted unit:\", df_nv.shape[0])\n",
    "print(\"NS: total sorted unit:\", df_ns.shape[0])\n",
    "print(\"E: total sorted unit:\", df_ne.shape[0])\n",
    "print(\"S: total sorted unit:\", df_nb.shape[0])"
   ]
  },
  {
   "cell_type": "markdown",
   "metadata": {},
   "source": [
    "### Fr. stats\n",
    "\n",
    "* note: Mann-Whitney on L5 is slow because of the large number of units."
   ]
  },
  {
   "cell_type": "code",
   "execution_count": 4,
   "metadata": {},
   "outputs": [],
   "source": [
    "layers = [\"L1\", \"L2/3\", \"L4\", \"L5\", \"L6\"]\n",
    "exps = [\"M\", \"NS\", \"E\", \"S\"]"
   ]
  },
  {
   "cell_type": "code",
   "execution_count": 12,
   "metadata": {},
   "outputs": [
    {
     "name": "stdout",
     "output_type": "stream",
     "text": [
      "L1 - M vs. NS, z=\"nan\", p=\"nan\", N_m=0, N_target=10\n",
      "L1 - M vs. E, z=\"nan\", p=\"nan\", N_m=0, N_target=7\n",
      "L1 - M vs. S, z=\"nan\", p=\"nan\", N_m=0, N_target=0\n",
      "L2/3 - M vs. NS, z=\"nan\", p=\"nan\", N_m=0, N_target=271\n",
      "L2/3 - M vs. E, z=\"nan\", p=\"nan\", N_m=0, N_target=82\n",
      "L2/3 - M vs. S, z=\"nan\", p=\"nan\", N_m=0, N_target=0\n",
      "L4 - M vs. NS, z=933.5, p=0.11155084025881007, N_m=7, N_target=197\n",
      "L4 - M vs. E, z=456.5, p=0.6736478950285217, N_m=7, N_target=119\n",
      "L4 - M vs. S, z=\"nan\", p=\"nan\", N_m=7, N_target=0\n",
      "L5 - M vs. NS, z=259073.0, p=2.4975190252952233e-24, N_m=414, N_target=929\n",
      "L5 - M vs. E, z=291261.0, p=2.8556597197062925e-34, N_m=414, N_target=2258\n",
      "L5 - M vs. S, z=339423.0, p=1.671939663330306e-21, N_m=414, N_target=1254\n",
      "L6 - M vs. NS, z=237376.0, p=1.2653285825601611e-05, N_m=1036, N_target=399\n",
      "L6 - M vs. E, z=80595.5, p=0.013757583691786115, N_m=1036, N_target=176\n",
      "L6 - M vs. S, z=\"nan\", p=\"nan\", N_m=1036, N_target=0\n"
     ]
    },
    {
     "data": {
      "image/png": "[encoded data removed]",
      "text/plain": [
       "<Figure size 60x300 with 1 Axes>"
      ]
     },
     "metadata": {},
     "output_type": "display_data"
    }
   ],
   "source": [
    "FIGSIZE = (0.6, 3)\n",
    "\n",
    "# plot\n",
    "fig, ax = plt.subplots(1, figsize=FIGSIZE)\n",
    "ax, df_fr = fr_npx.plot_fr_stats_by_layer_vert(\n",
    "    ax, df_nv, df_ns, df_ne, df_nb, layers, cl\n",
    ")\n",
    "\n",
    "# annotate stats\n",
    "ax, stats_hash = fr_npx.annotate_stats(ax, df_fr, \"firing rate\", layers, exps, xadj=1)\n",
    "\n",
    "# aesthetics\n",
    "ax.set_xticks([-3, -2, -1, 0, 1, 2, 3], [-3, -2, -1, 0, 1, 2, 3])\n",
    "ax.set_xlim([-3, 4])\n",
    "ax.set_ylim([4.2, -0.3])\n",
    "\n",
    "# save fig\n",
    "savefig(\n",
    "    \"figures/0_validation/6_firing_rate/assets/fig4M_logfr_stats_ks.svg\",\n",
    ")"
   ]
  },
  {
   "cell_type": "markdown",
   "metadata": {},
   "source": [
    "### Var. stats"
   ]
  },
  {
   "cell_type": "code",
   "execution_count": 17,
   "metadata": {},
   "outputs": [
    {
     "name": "stdout",
     "output_type": "stream",
     "text": [
      "L1 - M vs. NS, z=nan, p=nan, N_m=100, N_target=100\n",
      "L1 - M vs. E, z=nan, p=nan, N_m=100, N_target=100\n",
      "L1 - M vs. S, z=\"nan\", p=\"nan\", N_m=100, N_target=0\n",
      "L2/3 - M vs. NS, z=nan, p=nan, N_m=100, N_target=100\n",
      "L2/3 - M vs. E, z=nan, p=nan, N_m=100, N_target=100\n",
      "L2/3 - M vs. S, z=\"nan\", p=\"nan\", N_m=100, N_target=0\n",
      "L4 - M vs. NS, z=0.0, p=2.5607007965000746e-34, N_m=100, N_target=100\n",
      "L4 - M vs. E, z=0.0, p=2.5607007965000746e-34, N_m=100, N_target=100\n",
      "L4 - M vs. S, z=\"nan\", p=\"nan\", N_m=100, N_target=0\n",
      "L5 - M vs. NS, z=0.0, p=2.562143669163401e-34, N_m=100, N_target=100\n",
      "L5 - M vs. E, z=0.0, p=2.562143669163401e-34, N_m=100, N_target=100\n",
      "L5 - M vs. S, z=0.0, p=2.562143669163401e-34, N_m=100, N_target=100\n",
      "L6 - M vs. NS, z=10000.0, p=2.562143669163401e-34, N_m=100, N_target=100\n",
      "L6 - M vs. E, z=6010.0, p=0.013640222354593499, N_m=100, N_target=100\n",
      "L6 - M vs. S, z=\"nan\", p=\"nan\", N_m=100, N_target=0\n"
     ]
    },
    {
     "data": {
      "image/png": "[encoded data removed]",
      "text/plain": [
       "<Figure size 50x300 with 1 Axes>"
      ]
     },
     "metadata": {},
     "output_type": "display_data"
    }
   ],
   "source": [
    "FIGSIZE = (0.5, 3)\n",
    "\n",
    "# plot\n",
    "fig, ax = plt.subplots(1, figsize=FIGSIZE)\n",
    "ax, df_var = fr_npx.plot_fr_std_stats_by_layer_vert(\n",
    "    ax, df_nv, df_ns, df_ne, df_nb, layers, cl\n",
    ")\n",
    "\n",
    "# annotate stats\n",
    "ax, stats_hash_var = fr_npx.annotate_stats(\n",
    "    ax, df_var, \"Var(log(firing rate))\", layers, exps, xadj=0.9\n",
    ")\n",
    "\n",
    "# aesthetics\n",
    "ax.set_xticks([0, 1, 2, 3, 4], [0, 1, 2, 3, 4])\n",
    "ax.set_xlim([0, 3.5])\n",
    "ax.set_ylim((4.2, -0.3))\n",
    "\n",
    "# save fig\n",
    "savefig(\n",
    "    \"figures/0_validation/6_firing_rate/assets/fig4N_std_logfr_stats_ks.svg\",\n",
    ")"
   ]
  },
  {
   "cell_type": "markdown",
   "metadata": {},
   "source": [
    "#### Plot FR by layer"
   ]
  },
  {
   "cell_type": "code",
   "execution_count": 8,
   "metadata": {},
   "outputs": [
    {
     "data": {
      "image/png": "[encoded data removed]",
      "text/plain": [
       "<Figure size 100x500 with 6 Axes>"
      ]
     },
     "metadata": {},
     "output_type": "display_data"
    }
   ],
   "source": [
    "FIGSIZE = (1, 5)\n",
    "\n",
    "fig, axes = plt.subplots(len(layers) + 1, 1, figsize=FIGSIZE)\n",
    "fr_npx.plot_fr_by_layer(\n",
    "    axes, df_nv, df_ns, df_ne, df_nb, layers, log_x_min, log_x_max, nbins, t_dec, cl\n",
    ")\n",
    "savefig(\n",
    "    \"figures/0_validation/6_firing_rate/assets/fig4O_npx_fr_ks.svg\",\n",
    ")"
   ]
  },
  {
   "cell_type": "markdown",
   "metadata": {},
   "source": [
    "## Hyp. testing"
   ]
  },
  {
   "cell_type": "code",
   "execution_count": 12,
   "metadata": {},
   "outputs": [
    {
     "data": {
      "text/html": [
       "<div>\n",
       "<style scoped>\n",
       "    .dataframe tbody tr th:only-of-type {\n",
       "        vertical-align: middle;\n",
       "    }\n",
       "\n",
       "    .dataframe tbody tr th {\n",
       "        vertical-align: top;\n",
       "    }\n",
       "\n",
       "    .dataframe thead th {\n",
       "        text-align: right;\n",
       "    }\n",
       "</style>\n",
       "<table border=\"1\" class=\"dataframe\">\n",
       "  <thead>\n",
       "    <tr style=\"text-align: right;\">\n",
       "      <th></th>\n",
       "      <th>firing rate</th>\n",
       "      <th>experiment</th>\n",
       "      <th>layer</th>\n",
       "    </tr>\n",
       "  </thead>\n",
       "  <tbody>\n",
       "    <tr>\n",
       "      <th>1457</th>\n",
       "      <td>-2.778151</td>\n",
       "      <td>NS</td>\n",
       "      <td>L1</td>\n",
       "    </tr>\n",
       "    <tr>\n",
       "      <th>3267</th>\n",
       "      <td>0.194052</td>\n",
       "      <td>E</td>\n",
       "      <td>L1</td>\n",
       "    </tr>\n",
       "    <tr>\n",
       "      <th>3268</th>\n",
       "      <td>0.051153</td>\n",
       "      <td>E</td>\n",
       "      <td>L1</td>\n",
       "    </tr>\n",
       "    <tr>\n",
       "      <th>3269</th>\n",
       "      <td>-1.522879</td>\n",
       "      <td>E</td>\n",
       "      <td>L1</td>\n",
       "    </tr>\n",
       "    <tr>\n",
       "      <th>3264</th>\n",
       "      <td>-2.301030</td>\n",
       "      <td>E</td>\n",
       "      <td>L1</td>\n",
       "    </tr>\n",
       "    <tr>\n",
       "      <th>...</th>\n",
       "      <td>...</td>\n",
       "      <td>...</td>\n",
       "      <td>...</td>\n",
       "    </tr>\n",
       "    <tr>\n",
       "      <th>5887</th>\n",
       "      <td>-2.477121</td>\n",
       "      <td>E</td>\n",
       "      <td>L6</td>\n",
       "    </tr>\n",
       "    <tr>\n",
       "      <th>5886</th>\n",
       "      <td>-2.778151</td>\n",
       "      <td>E</td>\n",
       "      <td>L6</td>\n",
       "    </tr>\n",
       "    <tr>\n",
       "      <th>5885</th>\n",
       "      <td>-1.736759</td>\n",
       "      <td>E</td>\n",
       "      <td>L6</td>\n",
       "    </tr>\n",
       "    <tr>\n",
       "      <th>5897</th>\n",
       "      <td>-2.477121</td>\n",
       "      <td>E</td>\n",
       "      <td>L6</td>\n",
       "    </tr>\n",
       "    <tr>\n",
       "      <th>1138</th>\n",
       "      <td>-1.664208</td>\n",
       "      <td>M</td>\n",
       "      <td>L6</td>\n",
       "    </tr>\n",
       "  </tbody>\n",
       "</table>\n",
       "<p>7159 rows × 3 columns</p>\n",
       "</div>"
      ],
      "text/plain": [
       "      firing rate experiment layer\n",
       "1457    -2.778151         NS    L1\n",
       "3267     0.194052          E    L1\n",
       "3268     0.051153          E    L1\n",
       "3269    -1.522879          E    L1\n",
       "3264    -2.301030          E    L1\n",
       "...           ...        ...   ...\n",
       "5887    -2.477121          E    L6\n",
       "5886    -2.778151          E    L6\n",
       "5885    -1.736759          E    L6\n",
       "5897    -2.477121          E    L6\n",
       "1138    -1.664208          M    L6\n",
       "\n",
       "[7159 rows x 3 columns]"
      ]
     },
     "execution_count": 12,
     "metadata": {},
     "output_type": "execute_result"
    }
   ],
   "source": [
    "df_fr"
   ]
  }
 ],
 "metadata": {
  "kernelspec": {
   "display_name": "firing_rate",
   "language": "python",
   "name": "python3"
  },
  "language_info": {
   "codemirror_mode": {
    "name": "ipython",
    "version": 3
   },
   "file_extension": ".py",
   "mimetype": "text/x-python",
   "name": "python",
   "nbconvert_exporter": "python",
   "pygments_lexer": "ipython3",
   "version": "3.9.7"
  },
  "orig_nbformat": 4
 },
 "nbformat": 4,
 "nbformat_minor": 2
}
