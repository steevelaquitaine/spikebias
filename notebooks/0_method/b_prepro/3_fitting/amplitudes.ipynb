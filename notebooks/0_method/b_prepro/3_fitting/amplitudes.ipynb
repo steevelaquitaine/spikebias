{
 "cells": [
  {
   "cell_type": "markdown",
   "metadata": {},
   "source": [
    "# Amplitudes"
   ]
  },
  {
   "cell_type": "markdown",
   "metadata": {},
   "source": [
    "Results:\n",
    "\n",
    "- no noise gain fitd crashes.\n",
    "- best gain from initial fit: 338\n",
    "- fitted gain - 10% is the best fit"
   ]
  },
  {
   "cell_type": "markdown",
   "metadata": {},
   "source": [
    "### Setup\n",
    "\n",
    "activate spikeinterf"
   ]
  },
  {
   "cell_type": "code",
   "execution_count": 2,
   "metadata": {},
   "outputs": [
    {
     "name": "stdout",
     "output_type": "stream",
     "text": [
      "2024-06-05 12:15:50,618 - root - utils.py - get_config - INFO - Reading experiment config.\n",
      "2024-06-05 12:15:50,746 - root - utils.py - get_config - INFO - Reading experiment config. - done\n",
      "2024-06-05 12:15:50,748 - root - utils.py - get_config - INFO - Reading experiment config.\n",
      "2024-06-05 12:15:50,769 - root - utils.py - get_config - INFO - Reading experiment config. - done\n",
      "2024-06-05 12:15:50,773 - root - utils.py - get_config - INFO - Reading experiment config.\n",
      "2024-06-05 12:15:50,794 - root - utils.py - get_config - INFO - Reading experiment config. - done\n"
     ]
    }
   ],
   "source": [
    "# SETUP PACKAGES \n",
    "%load_ext autoreload\n",
    "%autoreload 2\n",
    "import os\n",
    "import numpy as np\n",
    "\n",
    "# SET PROJECT PATH\n",
    "PROJ_PATH = \"/gpfs/bbp.cscs.ch/project/proj85/home/laquitai/preprint_2023\"\n",
    "os.chdir(PROJ_PATH)\n",
    "from src.nodes.utils import get_config\n",
    "import spikeinterface as si \n",
    "import spikeinterface.preprocessing as spre\n",
    "# DATASETS\n",
    "\n",
    "# SILICO MARQUES --------------------------------\n",
    "# raw\n",
    "data_conf_sili, _ = get_config(\"silico_neuropixels\", \"concatenated\").values()\n",
    "SILI_RAW_PATH = data_conf_sili[\"probe_wiring\"][\"40m\"][\"output_noise_none_gain_none_int16\"]\n",
    "SILI_PREP_PATH = data_conf_sili[\"preprocessing\"][\"output\"][\"40m\"][\"trace_file_path_noise_none_gain_none_int16\"]\n",
    "\n",
    "# ftd\n",
    "SILI_RAW_PATH_ftd = data_conf_sili[\"probe_wiring\"][\"40m\"][\"output_noise_fitd_gain_fitd_int16\"]\n",
    "SILI_PREP_PATH_ftd = data_conf_sili[\"preprocessing\"][\"output\"][\"40m\"][\"trace_file_path_gain_fitd_noise_fitd_int16\"]\n",
    "\n",
    "# ftd - 5percles\n",
    "SILI_RAW_PATH_ftd5pl = data_conf_sili[\"probe_wiring\"][\"40m\"][\"output_noise_fitd_gain_fitd_adj05perc_less_int16\"]\n",
    "SILI_PREP_PATH_ftd5pl = data_conf_sili[\"preprocessing\"][\"output\"][\"40m\"][\"trace_file_path_gain_fitd_adj05perc_less_noise_fitd_int16\"]\n",
    "\n",
    "# ftd - 10percles\n",
    "SILI_RAW_PATH_ftd10pl = data_conf_sili[\"probe_wiring\"][\"40m\"][\"output_noise_fitd_gain_fitd_adj10perc_less_int16\"]\n",
    "SILI_PREP_PATH_ftd10pl = data_conf_sili[\"preprocessing\"][\"output\"][\"40m\"][\"trace_file_path_gain_fitd_adj10perc_less_noise_fitd_int16\"]\n",
    "\n",
    "# ftd - 20percles\n",
    "SILI_RAW_PATH_ftd20pl = data_conf_sili[\"probe_wiring\"][\"40m\"][\"output_noise_fitd_gain_fitd_adj20perc_less_int16\"]\n",
    "SILI_PREP_PATH_ftd20pl = data_conf_sili[\"preprocessing\"][\"output\"][\"40m\"][\"trace_file_path_gain_fitd_adj20perc_less_noise_fitd_int16\"]\n",
    "\n",
    "# IN VIVO --------------------------------\n",
    "data_conf_vivo, _ = get_config(\"vivo_marques\", \"c26\").values()\n",
    "VIVO_RAW_PATH = data_conf_vivo[\"probe_wiring\"][\"output\"]\n",
    "VIVO_PREP_PATH = data_conf_vivo[\"preprocessing\"][\"output\"][\"trace_file_path\"]\n",
    "\n",
    "# BUCCINO --------------------------------\n",
    "data_conf_bucci, _ = get_config(\"buccino_2020\", \"2020\").values()\n",
    "BUCCI_RAW_PATH = data_conf_bucci[\"probe_wiring\"][\"output\"]\n",
    "BUCCI_PATH = data_conf_bucci[\"preprocessing\"][\"output\"][\"trace_file_path\"]\n",
    "BUCCI_FTD_PATH = data_conf_bucci[\"probe_wiring\"][\"10m\"][\"output_gain_fitd_int16\"]\n",
    "BUCCI_PREP_FTD_PATH = data_conf_bucci[\"preprocessing\"][\"output\"][\"trace_file_path_gain_ftd\"]"
   ]
  },
  {
   "cell_type": "markdown",
   "metadata": {},
   "source": [
    "### (11s)Load traces"
   ]
  },
  {
   "cell_type": "code",
   "execution_count": 3,
   "metadata": {},
   "outputs": [
    {
     "name": "stderr",
     "output_type": "stream",
     "text": [
      "/gpfs/bbp.cscs.ch/project/proj85/scratch/laquitai/4_preprint_2023/envs/spikinterf0_100_5/lib/python3.9/site-packages/spikeinterface/core/base.py:1079: UserWarning: Versions are not the same. This might lead to compatibility errors. Using spikeinterface==0.96.1 is recommended\n",
      "  warnings.warn(\n",
      "/gpfs/bbp.cscs.ch/project/proj85/scratch/laquitai/4_preprint_2023/envs/spikinterf0_100_5/lib/python3.9/site-packages/spikeinterface/core/binaryrecordingextractor.py:78: UserWarning: `num_chan` is to be deprecated in version 0.100, please use `num_channels` instead\n",
      "  warnings.warn(\"`num_chan` is to be deprecated in version 0.100, please use `num_channels` instead\")\n"
     ]
    }
   ],
   "source": [
    "# raw\n",
    "RawSili = si.load_extractor(SILI_RAW_PATH).get_traces()\n",
    "RawSiliFtd = si.load_extractor(SILI_RAW_PATH_ftd).get_traces()\n",
    "RawSiliFtd5pl = si.load_extractor(SILI_RAW_PATH_ftd5pl).get_traces()\n",
    "RawSiliFtd10pl = si.load_extractor(SILI_RAW_PATH_ftd10pl).get_traces()\n",
    "RawSiliFtd20pl = si.load_extractor(SILI_RAW_PATH_ftd20pl).get_traces()\n",
    "RawVivo = si.load_extractor(VIVO_RAW_PATH).get_traces()\n",
    "RawBucci = si.load_extractor(BUCCI_RAW_PATH).get_traces()\n",
    "BucciFtd = si.load_extractor(BUCCI_FTD_PATH).get_traces()\n",
    "\n",
    "# preprocessed\n",
    "PrepSili = si.load_extractor(SILI_PREP_PATH).get_traces()\n",
    "PrepSiliFtd = si.load_extractor(SILI_PREP_PATH_ftd).get_traces()\n",
    "PrepSiliFtd5pl = si.load_extractor(SILI_PREP_PATH_ftd5pl).get_traces()\n",
    "PrepSiliFtd10pl = si.load_extractor(SILI_PREP_PATH_ftd10pl).get_traces()\n",
    "PrepSiliFtd20pl = si.load_extractor(SILI_PREP_PATH_ftd20pl).get_traces()\n",
    "PrepVivo = si.load_extractor(VIVO_PREP_PATH).get_traces()\n",
    "PrepBucci = si.load_extractor(BUCCI_PATH).get_traces()\n",
    "PrepBucciFtd = si.load_extractor(BUCCI_PREP_FTD_PATH).get_traces()"
   ]
  },
  {
   "cell_type": "markdown",
   "metadata": {},
   "source": [
    "### All layers\n",
    "\n",
    "Max raw amplitudes\n",
    "\n",
    "- biophy abs amplitude fitted: 424\n",
    "- vivo abs amplitide: 374\n"
   ]
  },
  {
   "cell_type": "code",
   "execution_count": 16,
   "metadata": {},
   "outputs": [],
   "source": [
    "# (8m) get traces' max amplitude\n",
    "max_sili_raw = np.max(np.absolute(RawSili))\n",
    "max_sili_raw_ftd = np.max(np.absolute(RawSiliFtd))\n",
    "max_sili_raw_ftd5pl = np.max(np.absolute(RawSiliFtd5pl))\n",
    "max_sili_raw_ftd10pl = np.max(np.absolute(RawSiliFtd10pl))\n",
    "max_vivo_raw = np.max(np.absolute(RawVivo))\n",
    "max_bucci_raw = np.max(np.absolute(RawBucci))\n",
    "\n",
    "print(\"raw:\", max_sili_raw)\n",
    "print(\"gain fitted:\", max_sili_raw_ftd)\n",
    "print(\"gain fitted - 5%:\", max_sili_raw_ftd5pl, \"adjusted gain:\", 338 * 0.95)\n",
    "print(\"gain fitted - 10%:\", max_sili_raw_ftd5pl, \"adjusted gain:\", 338 * 0.90)\n",
    "print(\"vivo:\", max_vivo_raw)\n",
    "print(\"raw Buccino:\", max_bucci_raw)"
   ]
  },
  {
   "cell_type": "markdown",
   "metadata": {},
   "source": [
    "Max preprocessed amplitudes"
   ]
  },
  {
   "cell_type": "code",
   "execution_count": 6,
   "metadata": {},
   "outputs": [
    {
     "name": "stdout",
     "output_type": "stream",
     "text": [
      "prepro: 1\n",
      "prep. gain fitted: 401\n",
      "prep. gain fitted - 5%: 381\n",
      "prep. gain fitted - 10%: 361\n",
      "prep. vivo: 362\n",
      "prep. Buccino: 648.35223\n"
     ]
    }
   ],
   "source": [
    "# (5m) get traces' max amplitude\n",
    "max_silico = np.max(np.absolute(PrepSili))\n",
    "max_silico_ftd = np.max(np.absolute(PrepSiliFtd))\n",
    "max_sili_ftd5pl = np.max(np.absolute(PrepSiliFtd5pl))  # 381\n",
    "max_sili_ftd10pl = np.max(np.absolute(PrepSiliFtd10pl))  # 361\n",
    "max_vivo = np.max(np.absolute(PrepVivo))\n",
    "max_bucci = np.max(np.absolute(PrepBucci))\n",
    "max_bucci_fd = np.max(np.absolute(PrepBucciFtd))\n",
    "\n",
    "print(\"prepro:\", max_silico)\n",
    "print(\"prep. gain fitted:\", max_silico_ftd)\n",
    "print(\"prep. gain fitted - 5%:\", max_sili_ftd5pl)\n",
    "print(\"prep. gain fitted - 10%:\", max_sili_ftd10pl)\n",
    "print(\"prep. vivo:\", max_vivo)\n",
    "print(\"prep. Buccino:\", max_bucci)"
   ]
  },
  {
   "cell_type": "markdown",
   "metadata": {},
   "source": [
    "### Buccino (layer 5)\n",
    "\n",
    "Well fitted"
   ]
  },
  {
   "cell_type": "code",
   "execution_count": 43,
   "metadata": {},
   "outputs": [
    {
     "name": "stdout",
     "output_type": "stream",
     "text": [
      "max abs amp. in vivo L5: 203\n",
      "max abs amp. bucci L5: 203\n"
     ]
    }
   ],
   "source": [
    "# (3m) max absolute amplitude in layer 5 for raw vivo\n",
    "raw_vivo = si.load_extractor(VIVO_RAW_PATH)\n",
    "raw_vivo = spre.astype(raw_vivo, \"int16\")\n",
    "l5 = raw_vivo.get_property(\"layers\") == \"L5\"\n",
    "max_vivo = np.max(np.absolute(raw_vivo.get_traces(channel_ids=l5)))\n",
    "\n",
    "# buccino\n",
    "max_bucci_ftd = np.max(np.absolute(BucciFtd))\n",
    "\n",
    "print(\"max abs amp. in vivo L5:\", max_vivo)\n",
    "print(\"max abs amp. bucci L5:\", max_bucci_ftd)"
   ]
  },
  {
   "cell_type": "code",
   "execution_count": 42,
   "metadata": {},
   "outputs": [
    {
     "name": "stderr",
     "output_type": "stream",
     "text": [
      "/gpfs/bbp.cscs.ch/project/proj85/scratch/laquitai/4_preprint_2023/envs/spikinterf0_100_5/lib/python3.9/site-packages/spikeinterface/core/base.py:1079: UserWarning: Versions are not the same. This might lead to compatibility errors. Using spikeinterface==0.96.1 is recommended\n",
      "  warnings.warn(\n",
      "/gpfs/bbp.cscs.ch/project/proj85/scratch/laquitai/4_preprint_2023/envs/spikinterf0_100_5/lib/python3.9/site-packages/spikeinterface/core/binaryrecordingextractor.py:78: UserWarning: `num_chan` is to be deprecated in version 0.100, please use `num_channels` instead\n",
      "  warnings.warn(\"`num_chan` is to be deprecated in version 0.100, please use `num_channels` instead\")\n"
     ]
    },
    {
     "name": "stdout",
     "output_type": "stream",
     "text": [
      "max abs amp. in vivo L5: 205\n",
      "max abs amp. bucci L5: 172\n"
     ]
    }
   ],
   "source": [
    "# preprocessed\n",
    "PrepVivo = si.load_extractor(VIVO_PREP_PATH)\n",
    "max_vivo_prep = np.max(np.absolute(PrepVivo.get_traces(channel_ids=l5)))\n",
    "\n",
    "# buccino\n",
    "max_bucci_ftd_prep = np.max(np.absolute(PrepBucciFtd))\n",
    "\n",
    "print(\"max abs amp. in vivo L5:\", max_vivo_prep)\n",
    "print(\"max abs amp. bucci L5:\", max_bucci_ftd_prep)"
   ]
  }
 ],
 "metadata": {
  "kernelspec": {
   "display_name": "spikinterf0_100_5",
   "language": "python",
   "name": "python3"
  },
  "language_info": {
   "codemirror_mode": {
    "name": "ipython",
    "version": 3
   },
   "file_extension": ".py",
   "mimetype": "text/x-python",
   "name": "python",
   "nbconvert_exporter": "python",
   "pygments_lexer": "ipython3",
   "version": "3.9.7"
  }
 },
 "nbformat": 4,
 "nbformat_minor": 2
}
