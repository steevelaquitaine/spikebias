{
 "cells": [
  {
   "cell_type": "markdown",
   "metadata": {},
   "source": [
    "# fit probe 3"
   ]
  },
  {
   "cell_type": "markdown",
   "metadata": {},
   "source": [
    "activate npx"
   ]
  },
  {
   "cell_type": "code",
   "execution_count": 7,
   "metadata": {},
   "outputs": [
    {
     "name": "stdout",
     "output_type": "stream",
     "text": [
      "The autoreload extension is already loaded. To reload it, use:\n",
      "  %reload_ext autoreload\n",
      "2023-12-20 11:48:15,849 - root - utils.py - get_config - INFO - Reading experiment config.\n",
      "2023-12-20 11:48:15,858 - root - utils.py - get_config - INFO - Reading experiment config. - done\n",
      "2023-12-20 11:48:15,859 - root - utils.py - get_config - INFO - Reading experiment config.\n",
      "2023-12-20 11:48:15,870 - root - utils.py - get_config - INFO - Reading experiment config. - done\n"
     ]
    }
   ],
   "source": [
    "# import libs\n",
    "%load_ext autoreload\n",
    "%autoreload 2\n",
    "\n",
    "import warnings\n",
    "warnings.simplefilter(action='ignore', category=FutureWarning)\n",
    "\n",
    "\n",
    "import matplotlib\n",
    "from matplotlib import pyplot as plt\n",
    "import numpy as np\n",
    "import scipy\n",
    "import spikeinterface.extractors as se \n",
    "import os\n",
    "import spikeinterface as si\n",
    "import spikeinterface.full as si_full\n",
    "import spikeinterface.preprocessing as spre\n",
    "import pandas as pd\n",
    "from scipy.optimize import minimize\n",
    "import numpy as np\n",
    "from concurrent.futures import ProcessPoolExecutor\n",
    "import copy\n",
    "\n",
    "# move to PROJECT PATH\n",
    "PROJ_PATH = \"/gpfs/bbp.cscs.ch/project/proj85/home/laquitai/spikebias/\"\n",
    "os.chdir(PROJ_PATH)\n",
    "\n",
    "from src.nodes.utils import get_config\n",
    "from src.nodes.study import amplitude\n",
    "from src.nodes.prepro import preprocess, trace_fitting\n",
    "from src.nodes.dataeng.silico import recording\n",
    "\n",
    "\n",
    "\n",
    "# SETUP PARAMETERS\n",
    "RND_SEED = 0                # random seed\n",
    "SFREQ_VIVO = 20000          # sampling frequency\n",
    "SFREQ_SILICO = 20000        # sampling frequency\n",
    "WIND_END = 3700             # last segment to calculate mad\n",
    "\n",
    "\n",
    "# HORVATH (vivo)\n",
    "# horvath (vivo)\n",
    "EXPERIMENT_h_vivo = \"vivo_horvath\"\n",
    "SIMULATION_h_vivo = \"probe_3\"\n",
    "data_conf_h_vivo, param_conf_h_vivo = get_config(\n",
    "    EXPERIMENT_h_vivo, SIMULATION_h_vivo\n",
    ").values() \n",
    "RAW_PATH_h_vivo = data_conf_h_vivo[\"raw\"]\n",
    "PREP_PATH_h_vivo = data_conf_h_vivo[\"preprocessing\"][\"output\"][\"trace_file_path\"]\n",
    "CONTACTS_h = np.arange(0,128,1)\n",
    "\n",
    "\n",
    "# HORVATH (silico)\n",
    "EXPERIMENT_h_silico = \"silico_horvath\"\n",
    "SIMULATION_h_silico = \"concatenated/probe_3\"\n",
    "data_conf_h_silico, param_conf_h_silico = get_config(\n",
    "    EXPERIMENT_h_silico, SIMULATION_h_silico\n",
    ").values()\n",
    "RAW_PATH_h_silico = data_conf_h_silico[\"dataeng\"][\"campaign\"][\"output\"][\"trace_file_path\"]\n",
    "PREP_PATH_h_silico = data_conf_h_silico[\"preprocessing\"][\"output\"][\"trace_file_path\"]\n",
    "# MISSING_NOISE_PATH = data_conf_h_silico[\"preprocessing\"][\"fitting\"][\"missing_noise_path\"]"
   ]
  },
  {
   "cell_type": "markdown",
   "metadata": {},
   "source": [
    "### If data already exists"
   ]
  },
  {
   "cell_type": "code",
   "execution_count": null,
   "metadata": {},
   "outputs": [],
   "source": [
    "# # if already fitted results exist\n",
    "# missing_noise_L1 = np.load(MISSING_NOISE_PATH + \"L1.npy\", allow_pickle=True).item()\n",
    "# missing_noise_L2_3 = np.load(MISSING_NOISE_PATH + \"L2_3.npy\", allow_pickle=True).item()\n",
    "# missing_noise_L4 = np.load(MISSING_NOISE_PATH + \"L4.npy\", allow_pickle=True).item()\n",
    "# missing_noise_L5 = np.load(MISSING_NOISE_PATH + \"L5.npy\", allow_pickle=True).item()\n",
    "# missing_noise_L6 = np.load(MISSING_NOISE_PATH + \"L6.npy\", allow_pickle=True).item()\n",
    "\n",
    "# # store missing noises\n",
    "# layers_missing_noise = (\n",
    "#     missing_noise_L1,\n",
    "#     missing_noise_L2_3,\n",
    "#     missing_noise_L4,\n",
    "#     missing_noise_L5,\n",
    "#     missing_noise_L6,\n",
    "# )\n",
    "\n",
    "# # print\n",
    "# print(layers_missing_noise)"
   ]
  },
  {
   "cell_type": "markdown",
   "metadata": {},
   "source": [
    "### Custom functions"
   ]
  },
  {
   "cell_type": "code",
   "execution_count": 3,
   "metadata": {},
   "outputs": [],
   "source": [
    "def get_layer_sites(silico_layers, layer: str = \"L1\"):\n",
    "    if layer == \"L2_3\":\n",
    "        return np.hstack(\n",
    "            [np.where(silico_layers == \"L2\")[0], np.where(silico_layers == \"L3\")[0]]\n",
    "        )\n",
    "    else:\n",
    "        return np.where(silico_layers == layer)[0]\n",
    "\n",
    "\n",
    "def plot_example_one_sec_segments(traces, target_site=0, sfreq: int = 20000):\n",
    "    \"\"\"plot trace consecutive segments of one second\n",
    "    Args:\n",
    "        traces (np.ndarray): ntimepoints x n site traces\n",
    "        target_site (np.ndarray): column index of a recording site\n",
    "        sfreq (int): trace acquisition sampling frequency\n",
    "    Return:\n",
    "        plot\n",
    "    \"\"\"\n",
    "    fig, axes = plt.subplots(1, 10, figsize=(20, 2))\n",
    "    winds = np.arange(0, 10, 1)\n",
    "    for wind_i in winds:\n",
    "        axes[wind_i].plot(traces[wind_i * sfreq : (wind_i + 1) * sfreq, target_site])\n",
    "        axes[wind_i].set_ylim([-200, 200])\n",
    "    return fig, axes\n",
    "\n",
    "\n",
    "def measure_noise_at_consecutive_segs(traces, site, sfreq, wind_end):\n",
    "    \"\"\"measure noise (mean absolute deviation)\n",
    "    at consecutive segments of 1 second\n",
    "    \"\"\"\n",
    "    winds = np.arange(0, wind_end, 1)\n",
    "    mads = []\n",
    "    for wind_i in winds:\n",
    "        segment = traces[wind_i * sfreq : (wind_i + 1) * sfreq, site]\n",
    "        mads.append(pd.DataFrame(segment).mad().values[0])\n",
    "    return mads\n",
    "\n",
    "\n",
    "def measure_trace_noise(traces, sfreq, wind_end):\n",
    "    \"\"\"measure noise (mean absolute deviation)\n",
    "    at consecutive segments of 1 second\n",
    "\n",
    "    Args:\n",
    "        traces: 2D array\n",
    "    \"\"\"\n",
    "    winds = np.arange(0, wind_end, 1)\n",
    "    mads = []\n",
    "    for wind_i in winds:\n",
    "        segment = traces[wind_i * sfreq : (wind_i + 1) * sfreq]\n",
    "        mads.append(pd.DataFrame(segment).mad().values[0])\n",
    "    return mads\n",
    "\n",
    "\n",
    "def measure_vivo_trace_noise_parallel(traces_vivo, site):\n",
    "    \"\"\"Measure the minimum absolute deviation of a single trace\n",
    "    over contiguous segments of one second\n",
    "    \"Site\" is only used implicitly to pass each row of the\n",
    "    traces_vivo matrix (the original timepoints x site matrix was transposed\n",
    "    such that sites are in rows) to this function.\n",
    "\n",
    "    Args:\n",
    "        traces_vivo (np.array): a 1D trace array of site x timepoints\n",
    "        site (int): the row used to implicitely extract that row from traces_vivo\n",
    "\n",
    "    Returns:\n",
    "        _type_: _description_\n",
    "    \"\"\"\n",
    "    # each site row of the array is passed to a worker\n",
    "    return min(measure_trace_noise(traces_vivo, SFREQ_VIVO, WIND_END))\n",
    "\n",
    "\n",
    "def measure_silico_trace_noise_parallel(traces_silico, site):\n",
    "    \"\"\"Measure the minimum absolute deviation of a single trace\n",
    "    over contiguous segments of one second\n",
    "    \"Site\" is only used implicitly to pass each row of the\n",
    "    traces_vivo matrix (the original timepoints x site matrix was transposed\n",
    "    such that sites are in rows) to this function.\n",
    "\n",
    "    Args:\n",
    "        traces_silico (np.array): a 1D trace array of site x timepoints\n",
    "        site (int): the row used to implicitely extract that row from traces_vivo\n",
    "\n",
    "    Returns:\n",
    "        _type_: _description_\n",
    "    \"\"\"\n",
    "    # each site row of the array is passed to a worker\n",
    "    return min(measure_trace_noise(traces_silico, SFREQ_SILICO, WIND_END))\n",
    "\n",
    "\n",
    "Nfeval = 1\n",
    "\n",
    "\n",
    "def myfun(missing_mad_std, *args):\n",
    "    # get arguments\n",
    "    trace_silico = args[0]\n",
    "    mad_vivo = args[1]\n",
    "    site_silico = args[2]\n",
    "\n",
    "    # calculate missing noise for this x\n",
    "    missing_noise = np.random.normal(0, missing_mad_std, [trace_silico.shape[0], 1])\n",
    "\n",
    "    # return objective function abs(mad_vivo - mad_silico) to minimize\n",
    "    mad_silico = (\n",
    "        pd.DataFrame(trace_silico[:, site_silico] + missing_noise.squeeze())\n",
    "        .mad()\n",
    "        .values\n",
    "    )\n",
    "    return abs(mad_vivo - mad_silico)\n",
    "\n",
    "\n",
    "def myfun_layer(missing_noise, *args):\n",
    "    # get args\n",
    "    # - get in silico target site traces\n",
    "    # - get in vivo layer noise\n",
    "    traces = args[0]\n",
    "    vivo_noise = args[1]\n",
    "    ntimepoints = traces.shape[1]\n",
    "    nsites = traces.shape[0]\n",
    "\n",
    "    # try with this amount of missing uncorrelated noise in silico\n",
    "    missing_noise_traces = np.random.normal(0, missing_noise, [nsites, ntimepoints])\n",
    "    with_noise = traces + missing_noise_traces\n",
    "\n",
    "    # measure site noises in that in silico layer\n",
    "    with ProcessPoolExecutor() as executor:\n",
    "        sites_noise = executor.map(\n",
    "            measure_silico_trace_noise_parallel,\n",
    "            with_noise,\n",
    "            np.arange(0, nsites, 1),\n",
    "        )\n",
    "\n",
    "    # minimize noise difference between vivo and silico\n",
    "    silico_noise = np.mean(np.array(list(sites_noise)))\n",
    "    objfun = abs(vivo_noise - silico_noise)\n",
    "    print(\"silico noise:\", silico_noise)\n",
    "    print(\"objfun:\", objfun)\n",
    "    return objfun\n",
    "\n",
    "\n",
    "def callback(Xi):\n",
    "    \"\"\"callback function to print iterations_summary\n",
    "\n",
    "    Args:\n",
    "        Xi (_type_): missing noise (mad) parameter to solve\n",
    "    \"\"\"\n",
    "    global Nfeval  # function evaluation\n",
    "    print(Xi)\n",
    "    print(\"{0:4d}   {1: 3.6f}\".format(Nfeval, Xi[0]))\n",
    "    Nfeval += 1\n",
    "\n",
    "\n",
    "def sem(data):\n",
    "    return np.std(data) / np.sqrt(len(data))\n",
    "\n",
    "\n",
    "def conf_interv95(data):\n",
    "    return 1.96 * sem(data)"
   ]
  },
  {
   "cell_type": "code",
   "execution_count": 8,
   "metadata": {},
   "outputs": [],
   "source": [
    "# takes 1-2 mins\n",
    "\n",
    "# - get max in vivo trace\n",
    "PreRecording_h_vivo = si.load_extractor(PREP_PATH_h_vivo)\n",
    "traces_vivo = PreRecording_h_vivo.get_traces()\n",
    "\n",
    "# - get max in silico trace\n",
    "PreRecording_h_silico = si.load_extractor(PREP_PATH_h_silico)\n",
    "traces_silico = PreRecording_h_silico.get_traces()"
   ]
  },
  {
   "cell_type": "code",
   "execution_count": 5,
   "metadata": {},
   "outputs": [],
   "source": [
    "# takes 6 min (instead of 2 hours)\n",
    "\n",
    "# measure sites' noise in vivo (parallelized, )\n",
    "with ProcessPoolExecutor() as executor:\n",
    "    noise_by_trace = executor.map(\n",
    "        measure_vivo_trace_noise_parallel,\n",
    "        traces_vivo.T,\n",
    "        np.arange(0, traces_vivo.shape[1], 1),\n",
    "    )\n",
    "vivo_noise_by_trace = list(noise_by_trace)"
   ]
  },
  {
   "cell_type": "code",
   "execution_count": 6,
   "metadata": {},
   "outputs": [
    {
     "name": "stdout",
     "output_type": "stream",
     "text": [
      "max noise difference factor between sites: 2.141754078836378\n"
     ]
    }
   ],
   "source": [
    "print(\n",
    "    \"max noise difference factor between sites:\",\n",
    "    np.max(vivo_noise_by_trace) / np.min(vivo_noise_by_trace),\n",
    ")"
   ]
  },
  {
   "cell_type": "code",
   "execution_count": 7,
   "metadata": {},
   "outputs": [
    {
     "data": {
      "image/png": "[encoded data removed]",
      "text/plain": [
       "<Figure size 400x400 with 1 Axes>"
      ]
     },
     "metadata": {},
     "output_type": "display_data"
    }
   ],
   "source": [
    "# PLOT\n",
    "fig, ax = plt.subplots(1, 1, figsize=(4, 4))\n",
    "\n",
    "# hist vivo\n",
    "ax.hist(\n",
    "    vivo_noise_by_trace, color=(0.7, 0.7, 0.7), label=\"vivo\", bins=np.arange(0, 30, 1)\n",
    ")\n",
    "\n",
    "# legend\n",
    "ax.set_ylabel(\"Site (count)\")\n",
    "ax.set_xlabel(\"noise (minimal mean absolute deviation, uV)\")\n",
    "ax.spines[[\"right\", \"top\"]].set_visible(False)\n",
    "ax.legend(frameon=False)\n",
    "ax.set_box_aspect(1)  # square axis"
   ]
  },
  {
   "cell_type": "code",
   "execution_count": 9,
   "metadata": {},
   "outputs": [],
   "source": [
    "# sanity check that our sites are in layer 1 of the cortex\n",
    "# - get layers\n",
    "silico_layers = PreRecording_h_silico.get_property(\"layers\")\n",
    "vivo_layers = PreRecording_h_vivo.get_property(\"layers\")"
   ]
  },
  {
   "cell_type": "code",
   "execution_count": 10,
   "metadata": {},
   "outputs": [
    {
     "name": "stdout",
     "output_type": "stream",
     "text": [
      "['L6' 'Outside']\n",
      "['L6' 'Outside']\n"
     ]
    }
   ],
   "source": [
    "print(np.unique(vivo_layers))\n",
    "print(np.unique(silico_layers))"
   ]
  },
  {
   "cell_type": "code",
   "execution_count": 9,
   "metadata": {},
   "outputs": [
    {
     "name": "stderr",
     "output_type": "stream",
     "text": [
      "/gpfs/bbp.cscs.ch/project/proj85/scratch/laquitai/preprint_2024/envs/npx_10m_384ch_unit_classes/lib/python3.9/site-packages/numpy/core/fromnumeric.py:3504: RuntimeWarning: Mean of empty slice.\n",
      "  return _methods._mean(a, axis=axis, dtype=dtype,\n",
      "/gpfs/bbp.cscs.ch/project/proj85/scratch/laquitai/preprint_2024/envs/npx_10m_384ch_unit_classes/lib/python3.9/site-packages/numpy/core/_methods.py:129: RuntimeWarning: invalid value encountered in scalar divide\n",
      "  ret = ret.dtype.type(ret / rcount)\n",
      "/gpfs/bbp.cscs.ch/project/proj85/scratch/laquitai/preprint_2024/envs/npx_10m_384ch_unit_classes/lib/python3.9/site-packages/numpy/core/_methods.py:206: RuntimeWarning: Degrees of freedom <= 0 for slice\n",
      "  ret = _var(a, axis=axis, dtype=dtype, out=out, ddof=ddof,\n",
      "/gpfs/bbp.cscs.ch/project/proj85/scratch/laquitai/preprint_2024/envs/npx_10m_384ch_unit_classes/lib/python3.9/site-packages/numpy/core/_methods.py:163: RuntimeWarning: invalid value encountered in divide\n",
      "  arrmean = um.true_divide(arrmean, div, out=arrmean,\n",
      "/gpfs/bbp.cscs.ch/project/proj85/scratch/laquitai/preprint_2024/envs/npx_10m_384ch_unit_classes/lib/python3.9/site-packages/numpy/core/_methods.py:198: RuntimeWarning: invalid value encountered in scalar divide\n",
      "  ret = ret.dtype.type(ret / rcount)\n"
     ]
    },
    {
     "data": {
      "image/png": "[encoded data removed]",
      "text/plain": [
       "<Figure size 300x300 with 1 Axes>"
      ]
     },
     "metadata": {},
     "output_type": "display_data"
    },
    {
     "data": {
      "image/png": "[encoded data removed]",
      "text/plain": [
       "<Figure size 300x300 with 1 Axes>"
      ]
     },
     "metadata": {},
     "output_type": "display_data"
    }
   ],
   "source": [
    "# plot noise distibution by layer\n",
    "\n",
    "fig, ax = plt.subplots(1, 1, figsize=(3, 3))\n",
    "\n",
    "X_MAX = 30\n",
    "\n",
    "# hist vivo\n",
    "ax.hist(\n",
    "    np.array(vivo_noise_by_trace)[vivo_layers == \"L1\"],\n",
    "    edgecolor=(0.7, 0.7, 0.7),\n",
    "    facecolor=\"None\",\n",
    "    label=\"vivo\",\n",
    "    bins=np.arange(0, X_MAX, 1),\n",
    ")\n",
    "\n",
    "\n",
    "# hist vivo\n",
    "ax.hist(\n",
    "    np.array(vivo_noise_by_trace)[vivo_layers == \"L2_3\"],\n",
    "    edgecolor=(1, 0, 0),\n",
    "    facecolor=\"None\",\n",
    "    label=\"vivo\",\n",
    "    bins=np.arange(0, X_MAX, 1),\n",
    ")\n",
    "\n",
    "\n",
    "# hist vivo\n",
    "ax.hist(\n",
    "    np.array(vivo_noise_by_trace)[vivo_layers == \"L4\"],\n",
    "    edgecolor=(0, 1, 0),\n",
    "    facecolor=\"None\",\n",
    "    label=\"vivo\",\n",
    "    bins=np.arange(0, X_MAX, 1),\n",
    ")\n",
    "\n",
    "# hist vivo\n",
    "ax.hist(\n",
    "    np.array(vivo_noise_by_trace)[vivo_layers == \"L5\"],\n",
    "    edgecolor=(0, 0, 1),\n",
    "    facecolor=\"None\",\n",
    "    label=\"L5\",\n",
    "    bins=np.arange(0, X_MAX, 1),\n",
    ")\n",
    "\n",
    "\n",
    "# hist vivo\n",
    "ax.hist(\n",
    "    np.array(vivo_noise_by_trace)[vivo_layers == \"L6\"],\n",
    "    edgecolor=(1, 0, 1),\n",
    "    facecolor=\"None\",\n",
    "    label=\"L6\",\n",
    "    bins=np.arange(0, X_MAX, 1),\n",
    ")\n",
    "ax.set_box_aspect(1)  # square axis\n",
    "\n",
    "# plot noise stats by layer\n",
    "\n",
    "fig, ax = plt.subplots(1, 1, figsize=(3, 3))\n",
    "\n",
    "layers = [\"L1\", \"L2_3\", \"L4\", \"L5\", \"L6\"]\n",
    "mean_noise_by_layer_vivo = []\n",
    "ci95_noise_by_layer_vivo = []\n",
    "\n",
    "for l_i in range(len(layers)):\n",
    "    # mean noise by layer\n",
    "    mean_noise_by_layer_vivo.append(\n",
    "        np.mean(np.array(vivo_noise_by_trace)[vivo_layers == layers[l_i]])\n",
    "    )\n",
    "    # confidence interval 95 of noise by layer\n",
    "    ci95_noise_by_layer_vivo.append(\n",
    "        conf_interv95(np.array(vivo_noise_by_trace)[vivo_layers == layers[l_i]])\n",
    "    )\n",
    "\n",
    "ax.errorbar(\n",
    "    x=[1, 2, 3, 4, 5], y=mean_noise_by_layer_vivo, yerr=ci95_noise_by_layer_vivo\n",
    ")\n",
    "ax.set_xticks([1, 2, 3, 4, 5])\n",
    "ax.set_xticklabels([\"L1\", \"L2/3\", \"L4\", \"L5\", \"L6\"])\n",
    "ax.set_box_aspect(1)  # square axis"
   ]
  },
  {
   "cell_type": "markdown",
   "metadata": {},
   "source": [
    "### 3. Fit silico's max amplitude over traces to in vivo's (find gain)"
   ]
  },
  {
   "cell_type": "code",
   "execution_count": 8,
   "metadata": {},
   "outputs": [
    {
     "name": "stdout",
     "output_type": "stream",
     "text": [
      "max amplitude (vivo, uV): 1467\n",
      "max amplitude (silico, uV): 0.35220349925290534\n",
      "vivo/silico gain ratio: 4165.205635695849\n"
     ]
    }
   ],
   "source": [
    "# takes 1 min\n",
    "\n",
    "# get max amplitudes\n",
    "max_traces_vivo = traces_vivo.max()\n",
    "max_traces_silico = traces_silico.max()\n",
    "\n",
    "# fit in silico's max amplitude to in vivo's (calculate gain ratio)\n",
    "scale = max_traces_vivo / max_traces_silico\n",
    "fitted_traces_silico = traces_silico * scale\n",
    "\n",
    "print(\"max amplitude (vivo, uV):\", max_traces_vivo)\n",
    "print(\"max amplitude (silico, uV):\", max_traces_silico)\n",
    "print(\"vivo/silico gain ratio:\", scale)"
   ]
  }
 ],
 "metadata": {
  "kernelspec": {
   "display_name": "npx_10m_384ch_unit_classes",
   "language": "python",
   "name": "python3"
  },
  "language_info": {
   "codemirror_mode": {
    "name": "ipython",
    "version": 3
   },
   "file_extension": ".py",
   "mimetype": "text/x-python",
   "name": "python",
   "nbconvert_exporter": "python",
   "pygments_lexer": "ipython3",
   "version": "3.9.7"
  }
 },
 "nbformat": 4,
 "nbformat_minor": 2
}
