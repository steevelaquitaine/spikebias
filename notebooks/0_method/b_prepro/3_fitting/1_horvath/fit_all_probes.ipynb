{
 "cells": [
  {
   "cell_type": "markdown",
   "metadata": {},
   "source": [
    "# fit silico Horvath probes"
   ]
  },
  {
   "cell_type": "markdown",
   "metadata": {},
   "source": [
    "Run pipelines\n",
    "\n",
    "```bash\n",
    "sbatch cluster/processing/fitting/horvath/fit_horvath_silico_probe1_noise_layer1.sbatch\n",
    "sbatch cluster/processing/fitting/horvath/fit_horvath_silico_probe1_noise_layer2_3.sbatch\n",
    "sbatch cluster/processing/fitting/horvath/fit_horvath_silico_probe2_noise_layer2_3.sbatch\n",
    "sbatch cluster/processing/fitting/horvath/fit_horvath_silico_probe2_noise_layer4.sbatch\n",
    "sbatch cluster/processing/fitting/horvath/fit_horvath_silico_probe2_noise_layer5.sbatch\n",
    "sbatch cluster/processing/fitting/horvath/fit_horvath_silico_probe3_noise_layer6.sbatch # 2 hours\n",
    "````"
   ]
  },
  {
   "cell_type": "code",
   "execution_count": 30,
   "metadata": {},
   "outputs": [
    {
     "name": "stdout",
     "output_type": "stream",
     "text": [
      "The autoreload extension is already loaded. To reload it, use:\n",
      "  %reload_ext autoreload\n",
      "2023-12-20 16:05:10,361 - root - utils.py - get_config - INFO - Reading experiment config.\n",
      "2023-12-20 16:05:10,384 - root - utils.py - get_config - INFO - Reading experiment config. - done\n",
      "2023-12-20 16:05:10,396 - root - utils.py - get_config - INFO - Reading experiment config.\n",
      "2023-12-20 16:05:10,403 - root - utils.py - get_config - INFO - Reading experiment config. - done\n",
      "2023-12-20 16:05:10,404 - root - utils.py - get_config - INFO - Reading experiment config.\n",
      "2023-12-20 16:05:10,411 - root - utils.py - get_config - INFO - Reading experiment config. - done\n",
      "2023-12-20 16:05:10,412 - root - utils.py - get_config - INFO - Reading experiment config.\n",
      "2023-12-20 16:05:10,423 - root - utils.py - get_config - INFO - Reading experiment config. - done\n",
      "2023-12-20 16:05:10,424 - root - utils.py - get_config - INFO - Reading experiment config.\n",
      "2023-12-20 16:05:10,435 - root - utils.py - get_config - INFO - Reading experiment config. - done\n",
      "2023-12-20 16:05:10,436 - root - utils.py - get_config - INFO - Reading experiment config.\n",
      "2023-12-20 16:05:10,447 - root - utils.py - get_config - INFO - Reading experiment config. - done\n"
     ]
    }
   ],
   "source": [
    "# import libs\n",
    "%load_ext autoreload\n",
    "%autoreload 2\n",
    "\n",
    "import warnings\n",
    "warnings.simplefilter(action='ignore', category=FutureWarning)\n",
    "\n",
    "from matplotlib import pyplot as plt\n",
    "import numpy as np\n",
    "import scipy\n",
    "import spikeinterface.extractors as se \n",
    "import os\n",
    "import spikeinterface as si\n",
    "import spikeinterface.full as si_full\n",
    "import spikeinterface.preprocessing as spre\n",
    "import pandas as pd\n",
    "from scipy.optimize import minimize\n",
    "import numpy as np\n",
    "from concurrent.futures import ProcessPoolExecutor\n",
    "import copy\n",
    "\n",
    "# move to PROJECT PATH\n",
    "PROJ_PATH = \"/gpfs/bbp.cscs.ch/project/proj85/home/laquitai/spikebias/\"\n",
    "os.chdir(PROJ_PATH)\n",
    "\n",
    "from src.nodes.utils import get_config\n",
    "from src.nodes.study import amplitude\n",
    "from src.nodes.prepro import preprocess, trace_fitting\n",
    "from src.nodes.dataeng.silico import recording\n",
    "\n",
    "\n",
    "# SETUP PARAMETERS\n",
    "RND_SEED = 0                # random seed\n",
    "SFREQ_VIVO = 20000          # sampling frequency\n",
    "SFREQ_SILICO = 20000        # sampling frequency\n",
    "WIND_END = 3700             # last segment to calculate mad\n",
    "\n",
    "\n",
    "# VIVO -------------------\n",
    "# probe 1\n",
    "data_conf_vivo_probe_1, param_conf_vivo_probe_1 = get_config(\n",
    "    \"vivo_horvath\", \"probe_1\"\n",
    ").values() \n",
    "RAW_PATH_VIVO_PROBE_1 = data_conf_vivo_probe_1[\"raw\"]\n",
    "PREP_PATH_VIVO_PROBE_1 = data_conf_vivo_probe_1[\"preprocessing\"][\"output\"][\"trace_file_path\"]\n",
    "CONTACTS_VIVO = np.arange(0,128,1)\n",
    "\n",
    "# probe 2\n",
    "data_conf_vivo_probe_2, param_conf_vivo_probe_2 = get_config(\n",
    "    \"vivo_horvath\", \"probe_1\"\n",
    ").values() \n",
    "RAW_PATH_VIVO_PROBE_2 = data_conf_vivo_probe_2[\"raw\"]\n",
    "PREP_PATH_VIVO_PROBE_2 = data_conf_vivo_probe_2[\"preprocessing\"][\"output\"][\"trace_file_path\"]\n",
    "CONTACTS_SILICO = np.arange(0,128,1)\n",
    "\n",
    "# probe 3\n",
    "data_conf_vivo_probe_3, param_conf_vivo_probe_3 = get_config(\n",
    "    \"vivo_horvath\", \"probe_2\"\n",
    ").values() \n",
    "RAW_PATH_VIVO_PROBE_3 = data_conf_vivo_probe_3[\"raw\"]\n",
    "PREP_PATH_VIVO_PROBE_3 = data_conf_vivo_probe_3[\"preprocessing\"][\"output\"][\"trace_file_path\"]\n",
    "CONTACTS_SILICO = np.arange(0,128,1)\n",
    "\n",
    "\n",
    "# SILICO -------------------\n",
    "# probe 1\n",
    "data_conf_silico_probe_1, param_conf_silico_probe_1 = get_config(\n",
    "    \"silico_horvath\", \"concatenated/probe_1\"\n",
    ").values()\n",
    "RAW_PATH_SILICO_PROBE_1 = data_conf_silico_probe_1[\"dataeng\"][\"campaign\"][\"output\"][\"trace_file_path\"]\n",
    "PREP_PATH_SILICO_PROBE_1 = data_conf_silico_probe_1[\"preprocessing\"][\"output\"][\"trace_file_path\"]\n",
    "MISSING_NOISE_PATH_PROBE_1 = data_conf_silico_probe_1[\"preprocessing\"][\"fitting\"][\"missing_noise_path\"]\n",
    "\n",
    "# probe 2\n",
    "data_conf_silico_probe_2, param_conf_silico_probe_2 = get_config(\n",
    "    \"silico_horvath\", \"concatenated/probe_2\"\n",
    ").values()\n",
    "RAW_PATH_SILICO_PROBE_2 = data_conf_silico_probe_2[\"dataeng\"][\"campaign\"][\"output\"][\"trace_file_path\"]\n",
    "PREP_PATH_SILICO_PROBE_2 = data_conf_silico_probe_2[\"preprocessing\"][\"output\"][\"trace_file_path\"]\n",
    "MISSING_NOISE_PATH_PROBE_2 = data_conf_silico_probe_2[\"preprocessing\"][\"fitting\"][\"missing_noise_path\"]\n",
    "\n",
    "# probe 3\n",
    "data_conf_silico_probe_3, param_conf_silico_probe_3 = get_config(\n",
    "    \"silico_horvath\", \"concatenated/probe_3\"\n",
    ").values()\n",
    "RAW_PATH_SILICO_PROBE_3 = data_conf_silico_probe_3[\"dataeng\"][\"campaign\"][\"output\"][\"trace_file_path\"]\n",
    "PREP_PATH_SILICO_PROBE_3 = data_conf_silico_probe_3[\"preprocessing\"][\"output\"][\"trace_file_path\"]\n",
    "MISSING_NOISE_PATH_PROBE_3 = data_conf_silico_probe_3[\"preprocessing\"][\"fitting\"][\"missing_noise_path\"]"
   ]
  },
  {
   "cell_type": "markdown",
   "metadata": {},
   "source": [
    "### If data already exists"
   ]
  },
  {
   "cell_type": "code",
   "execution_count": 31,
   "metadata": {},
   "outputs": [
    {
     "name": "stdout",
     "output_type": "stream",
     "text": [
      "({'missing_noise_rms': 26.34375, 'layer_sites_ix': [15, 16, 17, 18, 19, 20, 21, 22, 23, 24, 25, 48, 49, 50, 51, 52, 53, 54, 55, 56, 57, 80, 81, 82, 83, 84, 85, 86, 87, 88, 113, 114, 115, 116, 117, 118, 119], 'seed': 0}, {'missing_noise_rms': 29.28125, 'layer_sites_ix': [8, 9, 10, 11, 12, 13, 14, 40, 41, 42, 43, 44, 45, 46, 47, 73, 74, 75, 76, 77, 78, 79, 104, 105, 106, 107, 108, 109, 110, 111, 112, 0, 1, 2, 3, 4, 5, 6, 7, 32, 33, 34, 35, 36, 37, 38, 39, 64, 65, 66, 67, 68, 69, 70, 71, 72, 96, 97, 98, 99, 100, 101, 102, 103], 'seed': 0}, {'missing_noise_rms': 31.5625, 'layer_sites_ix': [31, 62, 63, 94, 95, 125, 126, 127], 'seed': 0}, {'missing_noise_rms': 32.21875, 'layer_sites_ix': [22, 23, 24, 25, 26, 27, 28, 29, 30, 54, 55, 56, 57, 58, 59, 60, 61, 86, 87, 88, 89, 90, 91, 92, 93, 118, 119, 120, 121, 122, 123, 124], 'seed': 0}, {'missing_noise_rms': 32.6875, 'layer_sites_ix': [0, 1, 2, 3, 4, 5, 6, 7, 8, 9, 10, 11, 12, 13, 14, 15, 16, 17, 18, 19, 20, 21, 32, 33, 34, 35, 36, 37, 38, 39, 40, 41, 42, 43, 44, 45, 46, 47, 48, 49, 50, 51, 52, 53, 64, 65, 66, 67, 68, 69, 70, 71, 72, 73, 74, 75, 76, 77, 78, 79, 80, 81, 82, 83, 84, 85, 96, 97, 98, 99, 100, 101, 102, 103, 104, 105, 106, 107, 108, 109, 110, 111, 112, 113, 114, 115, 116, 117], 'seed': 0}, {'missing_noise_rms': 33.75, 'layer_sites_ix': [13, 14, 15, 16, 17, 18, 19, 20, 21, 22, 23, 24, 25, 26, 27, 28, 29, 30, 31, 45, 46, 47, 48, 49, 50, 51, 52, 53, 54, 55, 56, 57, 58, 59, 60, 61, 62, 63, 77, 78, 79, 80, 81, 82, 83, 84, 85, 86, 87, 88, 89, 90, 91, 92, 93, 94, 95, 109, 110, 111, 112, 113, 114, 115, 116, 117, 118, 119, 120, 121, 122, 123, 124, 125, 126, 127], 'seed': 0})\n",
      "26.34375\n",
      "29.28125\n",
      "31.5625\n",
      "32.21875\n",
      "32.6875\n",
      "33.75\n"
     ]
    }
   ],
   "source": [
    "# if already fitted results exist\n",
    "missing_noise_probe_1_L1 = np.load(\n",
    "    MISSING_NOISE_PATH_PROBE_1 + \"L1.npy\", allow_pickle=True\n",
    ").item()\n",
    "missing_noise_probe_1_L2_3 = np.load(\n",
    "    MISSING_NOISE_PATH_PROBE_1 + \"L2_3.npy\", allow_pickle=True\n",
    ").item()\n",
    "missing_noise_probe_2_L2_3 = np.load(\n",
    "    MISSING_NOISE_PATH_PROBE_2 + \"L2_3.npy\", allow_pickle=True\n",
    ").item()\n",
    "missing_noise_probe_2_L4 = np.load(\n",
    "    MISSING_NOISE_PATH_PROBE_2 + \"L4.npy\", allow_pickle=True\n",
    ").item()\n",
    "missing_noise_probe_2_L5 = np.load(\n",
    "    MISSING_NOISE_PATH_PROBE_2 + \"L5.npy\", allow_pickle=True\n",
    ").item()\n",
    "missing_noise_probe_3_L6 = np.load(\n",
    "    MISSING_NOISE_PATH_PROBE_3 + \"L6.npy\", allow_pickle=True\n",
    ").item()\n",
    "\n",
    "# store missing noises\n",
    "layers_missing_noise = (\n",
    "    missing_noise_probe_1_L1,\n",
    "    missing_noise_probe_1_L2_3,\n",
    "    missing_noise_probe_2_L2_3,\n",
    "    missing_noise_probe_2_L4,\n",
    "    missing_noise_probe_2_L5,\n",
    "    missing_noise_probe_3_L6,\n",
    ")\n",
    "\n",
    "# print\n",
    "print(layers_missing_noise)\n",
    "\n",
    "# sanity check fitted noises\n",
    "print(missing_noise_probe_1_L1[\"missing_noise_rms\"])\n",
    "print(missing_noise_probe_1_L2_3[\"missing_noise_rms\"])\n",
    "print(missing_noise_probe_2_L2_3[\"missing_noise_rms\"])\n",
    "print(missing_noise_probe_2_L4[\"missing_noise_rms\"])\n",
    "print(missing_noise_probe_2_L5[\"missing_noise_rms\"])\n",
    "print(missing_noise_probe_3_L6[\"missing_noise_rms\"])"
   ]
  },
  {
   "cell_type": "code",
   "execution_count": null,
   "metadata": {},
   "outputs": [],
   "source": [
    "# takes 1-2 mins\n",
    "\n",
    "# - get max in vivo trace\n",
    "PreRecording_h_vivo = si.load_extractor(PREP_PATH_h_vivo)\n",
    "traces_vivo = PreRecording_h_vivo.get_traces()\n",
    "\n",
    "# - get max in silico trace\n",
    "PreRecording_h_silico = si.load_extractor(PREP_PATH_h_silico)\n",
    "traces_silico = PreRecording_h_silico.get_traces()"
   ]
  },
  {
   "cell_type": "code",
   "execution_count": null,
   "metadata": {},
   "outputs": [],
   "source": [
    "# takes 6 min\n",
    "\n",
    "# scale and adjust background noise to match in vivo\n",
    "ntimepoints = traces_silico.shape[0]\n",
    "\n",
    "# scale traces\n",
    "scaled_traces_silico = traces_silico * scale\n",
    "scaled_with_noise = copy.copy(scaled_traces_silico)\n",
    "\n",
    "for ix in range(len(layers_missing_noise)):\n",
    "    # add missing noise\n",
    "    sites = layers_missing_noise[ix][\"layer_sites_ix\"]\n",
    "    nsites = len(sites)\n",
    "    missing_noise_traces = np.random.normal(\n",
    "        0, layers_missing_noise[ix][\"missing_noise_rms\"], [ntimepoints, nsites]\n",
    "    )\n",
    "    scaled_with_noise[:, sites] = scaled_traces_silico[:, sites] + missing_noise_traces"
   ]
  },
  {
   "cell_type": "code",
   "execution_count": null,
   "metadata": {},
   "outputs": [],
   "source": []
  },
  {
   "cell_type": "code",
   "execution_count": 47,
   "metadata": {},
   "outputs": [
    {
     "name": "stdout",
     "output_type": "stream",
     "text": [
      "data9\n",
      "data9\n",
      "data9\n",
      "\n"
     ]
    }
   ],
   "source": []
  },
  {
   "cell_type": "code",
   "execution_count": 46,
   "metadata": {},
   "outputs": [
    {
     "data": {
      "text/plain": [
       "'data9\\ndata9\\n'"
      ]
     },
     "execution_count": 46,
     "metadata": {},
     "output_type": "execute_result"
    }
   ],
   "source": [
    "contents"
   ]
  },
  {
   "cell_type": "code",
   "execution_count": null,
   "metadata": {},
   "outputs": [],
   "source": []
  }
 ],
 "metadata": {
  "kernelspec": {
   "display_name": "npx_10m_384ch_unit_classes",
   "language": "python",
   "name": "python3"
  },
  "language_info": {
   "codemirror_mode": {
    "name": "ipython",
    "version": 3
   },
   "file_extension": ".py",
   "mimetype": "text/x-python",
   "name": "python",
   "nbconvert_exporter": "python",
   "pygments_lexer": "ipython3",
   "version": "3.9.7"
  }
 },
 "nbformat": 4,
 "nbformat_minor": 2
}
