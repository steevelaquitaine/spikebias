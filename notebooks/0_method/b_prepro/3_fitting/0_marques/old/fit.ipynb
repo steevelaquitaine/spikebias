{
 "cells": [
  {
   "attachments": {},
   "cell_type": "markdown",
   "metadata": {},
   "source": [
    "# Fitting in silico Marques to in vivo\n",
    "\n",
    "purpose: high background noise degrades spike sorting. We characterized in vivo background noise and validated ours against in vivo's.\n",
    "\n",
    "method:\n",
    "\n",
    "* In vivo traces' mean were removed and the traces were centered around 0, so we removed the mean from each recording site.\n",
    "* find a recording site from layer 1 (mean absolute deviation estimation of noise is the least biased in L1, because L1 has the lowest firing rate across layers) in Marques dataset and in silico.\n",
    "* We fitted in silico preprocessed traces to in vivo preprocessed traces to match their 1) max signal and 2) background noises (minimum mean absolute deviation) \n",
    "* Missing background noise was modelled as independent noise on each recording sites (a different noise process was added to each site), this matters for spike sorting whitening step.\n",
    "* Raw silico traces will be scaled and the fitted missing noise will be added to for all subsequent analyses.\n"
   ]
  },
  {
   "attachments": {},
   "cell_type": "markdown",
   "metadata": {},
   "source": [
    "**in-vivo**:\n",
    "\n",
    "* `Marques` (aligned with cortical column)\n",
    "    * rat cortex S1\n",
    "    * 384ch \n",
    "    * 30.0kHz\n",
    "    * 20.25 min\n",
    "    * \"Spontaneous activity\" (Only anesthetized condition)\n",
    "    \n",
    "**in-silico**:\n",
    "\n",
    "* `Neuropixels` (aligned with cortical column)\n",
    "    * rat cortex S1\n",
    "    * 384ch \n",
    "    * 40.0kHz\n",
    "    * 10 min\n",
    "    * \"Spontaneous activity\" (Only anesthetized condition)"
   ]
  },
  {
   "cell_type": "markdown",
   "metadata": {},
   "source": [
    "The pipelines:\n",
    "\n",
    "```bash\n",
    "sbatch cluster/processing/fitting/marques/fit_marques_silico_l1.sbatch\n",
    "sbatch cluster/processing/fitting/marques/fit_marques_silico_l2_3.sbatch\n",
    "sbatch cluster/processing/fitting/marques/fit_marques_silico_l4.sbatch\n",
    "sbatch cluster/processing/fitting/marques/fit_marques_silico_l5.sbatch\n",
    "sbatch cluster/processing/fitting/marques/fit_marques_silico_l6.sbatch\n",
    "```"
   ]
  },
  {
   "attachments": {},
   "cell_type": "markdown",
   "metadata": {},
   "source": [
    "### Setup libs\n",
    "\n",
    "Activate `npx_10m_384ch_unit_classes` venv"
   ]
  },
  {
   "cell_type": "code",
   "execution_count": 9,
   "metadata": {},
   "outputs": [
    {
     "name": "stdout",
     "output_type": "stream",
     "text": [
      "The autoreload extension is already loaded. To reload it, use:\n",
      "  %reload_ext autoreload\n",
      "2024-01-03 15:45:07,591 - root - utils.py - get_config - INFO - Reading experiment config.\n",
      "2024-01-03 15:45:07,601 - root - utils.py - get_config - INFO - Reading experiment config. - done\n",
      "2024-01-03 15:45:07,603 - root - utils.py - get_config - INFO - Reading experiment config.\n",
      "2024-01-03 15:45:07,615 - root - utils.py - get_config - INFO - Reading experiment config. - done\n"
     ]
    }
   ],
   "source": [
    "# import libs\n",
    "%load_ext autoreload\n",
    "%autoreload 2\n",
    "\n",
    "import warnings\n",
    "warnings.simplefilter(action='ignore', category=FutureWarning)\n",
    "\n",
    "\n",
    "import matplotlib\n",
    "from matplotlib import pyplot as plt\n",
    "import numpy as np\n",
    "import scipy\n",
    "import spikeinterface.extractors as se \n",
    "import os\n",
    "import spikeinterface as si\n",
    "import spikeinterface.full as si_full\n",
    "import spikeinterface.preprocessing as spre\n",
    "import pandas as pd\n",
    "from scipy.optimize import minimize\n",
    "import numpy as np\n",
    "from concurrent.futures import ProcessPoolExecutor\n",
    "import copy\n",
    "\n",
    "# move to PROJECT PATH\n",
    "PROJ_PATH = \"/gpfs/bbp.cscs.ch/project/proj85/home/laquitai/preprint_2023/\"\n",
    "os.chdir(PROJ_PATH)\n",
    "\n",
    "from src.nodes.utils import get_config\n",
    "from src.nodes.study import amplitude\n",
    "from src.nodes.prepro import preprocess, trace_fitting\n",
    "from src.nodes.dataeng.silico import recording\n",
    "\n",
    "\n",
    "\n",
    "# SETUP PARAMETERS\n",
    "RND_SEED = 0                # random seed\n",
    "SFREQ_VIVO = 30000          # sampling frequency\n",
    "SFREQ_SILICO = 40000        # sampling frequency\n",
    "WIND_END = 3700             # last segment to calculate mad\n",
    "SITE_VIVO = 383             # set a site in layer 1 (unbiased estimate of background noise because low activity?)\n",
    "SITE_SILICO = 360           # set a site in layer 1 (unbiased estimate of background noise because low activity?)\n",
    "\n",
    "\n",
    "# HORVATH (vivo)\n",
    "EXPERIMENT_h_vivo = \"vivo_marques\"\n",
    "SIMULATION_h_vivo = \"c26\"\n",
    "data_conf_h_vivo, param_conf_h_vivo = get_config(\n",
    "    EXPERIMENT_h_vivo, SIMULATION_h_vivo\n",
    ").values() \n",
    "RAW_PATH_h_vivo = data_conf_h_vivo[\"raw\"]\n",
    "PREP_PATH_h_vivo = data_conf_h_vivo[\"preprocessing\"][\"output\"][\"trace_file_path\"]\n",
    "CONTACTS_h = np.arange(0,128,1)\n",
    "\n",
    "\n",
    "# HORVATH (silico)\n",
    "EXPERIMENT_h_silico = \"silico_neuropixels\"\n",
    "SIMULATION_h_silico = \"2023_10_18\"\n",
    "data_conf_h_silico, param_conf_h_silico = get_config(\n",
    "    EXPERIMENT_h_silico, SIMULATION_h_silico\n",
    ").values()\n",
    "RAW_PATH_h_silico = data_conf_h_silico[\"dataeng\"][\"campaign\"][\"output\"][\"trace_file_path\"]\n",
    "PREP_PATH_h_silico = data_conf_h_silico[\"preprocessing\"][\"output\"][\"trace_file_path\"]\n",
    "MISSING_NOISE_PATH = data_conf_h_silico[\"preprocessing\"][\"fitting\"][\"missing_noise_path\"]"
   ]
  },
  {
   "cell_type": "markdown",
   "metadata": {},
   "source": [
    "### If data already exists"
   ]
  },
  {
   "cell_type": "code",
   "execution_count": 10,
   "metadata": {},
   "outputs": [
    {
     "name": "stdout",
     "output_type": "stream",
     "text": [
      "({'scale': 448.0834123444957, 'missing_noise_rms': 2.5, 'layer_sites_ix': [69, 70, 71, 72, 165, 166, 167, 168, 261, 262, 263, 264, 357, 358, 359, 360], 'layer': 'L1', 'fit_history': 'silico noise: 3.9757798520971708\\nvivo noise: 2.027459498703704\\nobjfun: 1.9483203533934668\\n----------------\\nsilico noise: 4.168026535401452\\nvivo noise: 2.027459498703704\\nobjfun: 2.1405670366977483\\n----------------\\nsilico noise: 3.778730689296564\\nvivo noise: 2.027459498703704\\nobjfun: 1.7512711905928602\\n----------------\\nsilico noise: 3.5817010743248847\\nvivo noise: 2.027459498703704\\nobjfun: 1.5542415756211807\\n----------------\\nsilico noise: 3.192209284539624\\nvivo noise: 2.027459498703704\\nobjfun: 1.16474978583592\\n----------------\\nsilico noise: 2.804390526117767\\nvivo noise: 2.027459498703704\\nobjfun: 0.7769310274140628\\n----------------\\nsilico noise: 2.0285475191276463\\nvivo noise: 2.027459498703704\\nobjfun: 0.001088020423942293\\n----------------\\nsilico noise: 1.2755511815822325\\nvivo noise: 2.027459498703704\\nobjfun: 0.7519083171214715\\n----------------\\nsilico noise: 1.2745898509992946\\nvivo noise: 2.027459498703704\\nobjfun: 0.7528696477044095\\n----------------\\nsilico noise: 1.6481232242272954\\nvivo noise: 2.027459498703704\\nobjfun: 0.3793362744764086\\n----------------\\nsilico noise: 2.4141593264745955\\nvivo noise: 2.027459498703704\\nobjfun: 0.3866998277708915\\n----------------\\nsilico noise: 1.8394532906971657\\nvivo noise: 2.027459498703704\\nobjfun: 0.18800620800653833\\n----------------\\nsilico noise: 2.2221763132788155\\nvivo noise: 2.027459498703704\\nobjfun: 0.19471681457511147\\n----------------\\nsilico noise: 1.9345425576878335\\nvivo noise: 2.027459498703704\\nobjfun: 0.09291694101587056\\n----------------\\nsilico noise: 2.12419030922991\\nvivo noise: 2.027459498703704\\nobjfun: 0.09673081052620613\\n----------------\\nsilico noise: 1.9819905012923282\\nvivo noise: 2.027459498703704\\nobjfun: 0.04546899741137578\\n----------------\\nsilico noise: 2.077280146135651\\nvivo noise: 2.027459498703704\\nobjfun: 0.04982064743194714\\n----------------\\nsilico noise: 2.006072392981334\\nvivo noise: 2.027459498703704\\nobjfun: 0.021387105722369792\\n----------------\\nsilico noise: 2.0540609839175037\\nvivo noise: 2.027459498703704\\nobjfun: 0.02660148521379968\\n----------------\\nsilico noise: 2.017384742335633\\nvivo noise: 2.027459498703704\\nobjfun: 0.010074756368071203\\n----------------\\nsilico noise: 2.04226403193564\\nvivo noise: 2.027459498703704\\nobjfun: 0.014804533231936201\\n----------------\\nsilico noise: 2.0247698753696914\\nvivo noise: 2.027459498703704\\nobjfun: 0.0026896233340125697\\n----------------\\n', 'seed': 0}, {'scale': 448.0834123444957, 'missing_noise_rms': 2.796875, 'layer_sites_ix': [67, 68, 162, 163, 164, 259, 260, 354, 355, 356, 58, 59, 60, 61, 62, 63, 64, 65, 66, 153, 154, 155, 156, 157, 158, 159, 160, 161, 249, 250, 251, 252, 253, 254, 255, 256, 257, 258, 345, 346, 347, 348, 349, 350, 351, 352, 353], 'layer': 'L2_3', 'fit_history': 'silico noise: 4.0342991006186315\\nvivo noise: 2.3578597496480844\\nobjfun: 1.676439350970547\\n----------------\\nsilico noise: 4.2262828371278784\\nvivo noise: 2.3578597496480844\\nobjfun: 1.868423087479794\\n----------------\\nsilico noise: 3.8399086875102024\\nvivo noise: 2.3578597496480844\\nobjfun: 1.482048937862118\\n----------------\\nsilico noise: 3.649246813175888\\nvivo noise: 2.3578597496480844\\nobjfun: 1.2913870635278037\\n----------------\\nsilico noise: 3.265778423809787\\nvivo noise: 2.3578597496480844\\nobjfun: 0.9079186741617025\\n----------------\\nsilico noise: 2.8854022681858584\\nvivo noise: 2.3578597496480844\\nobjfun: 0.527542518537774\\n----------------\\nsilico noise: 2.141873057252043\\nvivo noise: 2.3578597496480844\\nobjfun: 0.2159866923960414\\n----------------\\nsilico noise: 1.4468846338267585\\nvivo noise: 2.3578597496480844\\nobjfun: 0.910975115821326\\n----------------\\nsilico noise: 1.446798673829814\\nvivo noise: 2.3578597496480844\\nobjfun: 0.9110610758182704\\n----------------\\nsilico noise: 2.511205962511014\\nvivo noise: 2.3578597496480844\\nobjfun: 0.1533462128629295\\n----------------\\nsilico noise: 2.886322636952383\\nvivo noise: 2.3578597496480844\\nobjfun: 0.5284628873042987\\n----------------\\nsilico noise: 2.325256438534567\\nvivo noise: 2.3578597496480844\\nobjfun: 0.03260331111351755\\n----------------\\nsilico noise: 2.1423589300796206\\nvivo noise: 2.3578597496480844\\nobjfun: 0.2155008195684638\\n----------------\\nsilico noise: 2.418503010546133\\nvivo noise: 2.3578597496480844\\nobjfun: 0.06064326089804872\\n----------------\\nsilico noise: 2.233681080290025\\nvivo noise: 2.3578597496480844\\nobjfun: 0.12417866935805932\\n----------------\\nsilico noise: 2.3717833973416904\\nvivo noise: 2.3578597496480844\\nobjfun: 0.01392364769360599\\n----------------\\nsilico noise: 2.417991490480414\\nvivo noise: 2.3578597496480844\\nobjfun: 0.06013174083232942\\n----------------\\nsilico noise: 2.3487340928886504\\nvivo noise: 2.3578597496480844\\nobjfun: 0.009125656759433998\\n----------------\\nsilico noise: 2.325865227736408\\nvivo noise: 2.3578597496480844\\nobjfun: 0.03199452191167662\\n----------------\\nsilico noise: 2.3603192457725823\\nvivo noise: 2.3578597496480844\\nobjfun: 0.0024594961244979174\\n----------------\\nsilico noise: 2.371484542393786\\nvivo noise: 2.3578597496480844\\nobjfun: 0.013624792745701608\\n----------------\\nsilico noise: 2.3541125716858273\\nvivo noise: 2.3578597496480844\\nobjfun: 0.0037471779622570978\\n----------------\\n', 'seed': 0}, {'scale': 448.0834123444957, 'missing_noise_rms': 2.9453125, 'layer_sites_ix': [53, 54, 55, 56, 57, 148, 149, 150, 151, 152, 245, 246, 247, 248, 340, 341, 342, 343, 344], 'layer': 'L4', 'fit_history': 'silico noise: 4.255881010893844\\nvivo noise: 2.7881723363496267\\nobjfun: 1.467708674544217\\n----------------\\nsilico noise: 4.441853942017906\\nvivo noise: 2.7881723363496267\\nobjfun: 1.6536816056682797\\n----------------\\nsilico noise: 4.070877317774074\\nvivo noise: 2.7881723363496267\\nobjfun: 1.2827049814244473\\n----------------\\nsilico noise: 3.886753195540376\\nvivo noise: 2.7881723363496267\\nobjfun: 1.0985808591907493\\n----------------\\nsilico noise: 3.5248689973082366\\nvivo noise: 2.7881723363496267\\nobjfun: 0.7366966609586099\\n----------------\\nsilico noise: 3.171113726029008\\nvivo noise: 2.7881723363496267\\nobjfun: 0.3829413896793814\\n----------------\\nsilico noise: 2.498089026860033\\nvivo noise: 2.7881723363496267\\nobjfun: 0.2900833094895936\\n----------------\\nsilico noise: 1.908478213035379\\nvivo noise: 2.7881723363496267\\nobjfun: 0.8796941233142477\\n----------------\\nsilico noise: 1.9092555243774827\\nvivo noise: 2.7881723363496267\\nobjfun: 0.878916811972144\\n----------------\\nsilico noise: 2.8272971168467445\\nvivo noise: 2.7881723363496267\\nobjfun: 0.03912478049711776\\n----------------\\nsilico noise: 3.1720911360582424\\nvivo noise: 2.7881723363496267\\nobjfun: 0.38391879970861575\\n----------------\\nsilico noise: 2.6568876115033846\\nvivo noise: 2.7881723363496267\\nobjfun: 0.1312847248462421\\n----------------\\nsilico noise: 2.9976212869003094\\nvivo noise: 2.7881723363496267\\nobjfun: 0.2094489505506827\\n----------------\\nsilico noise: 2.740561630166024\\nvivo noise: 2.7881723363496267\\nobjfun: 0.04761070618360286\\n----------------\\nsilico noise: 2.91227573126443\\nvivo noise: 2.7881723363496267\\nobjfun: 0.12410339491480338\\n----------------\\nsilico noise: 2.7848975912447393\\nvivo noise: 2.7881723363496267\\nobjfun: 0.0032747451048873444\\n----------------\\nsilico noise: 2.7422039822742357\\nvivo noise: 2.7881723363496267\\nobjfun: 0.045968354075391016\\n----------------\\nsilico noise: 2.8056790217625363\\nvivo noise: 2.7881723363496267\\nobjfun: 0.01750668541290956\\n----------------\\nsilico noise: 2.7653970310036526\\nvivo noise: 2.7881723363496267\\nobjfun: 0.02277530534597405\\n----------------\\nsilico noise: 2.7956127769161228\\nvivo noise: 2.7881723363496267\\nobjfun: 0.007440440566496065\\n----------------\\nsilico noise: 2.773033872625408\\nvivo noise: 2.7881723363496267\\nobjfun: 0.015138463724218898\\n----------------\\nsilico noise: 2.7870335381632465\\nvivo noise: 2.7881723363496267\\nobjfun: 0.0011387981863801855\\n----------------\\n', 'seed': 0}, {'scale': 448.0834123444957, 'missing_noise_rms': 2.765625, 'layer_sites_ix': [40, 41, 42, 43, 44, 45, 46, 47, 48, 49, 50, 51, 52, 135, 136, 137, 138, 139, 140, 141, 142, 143, 144, 145, 146, 147, 232, 233, 234, 235, 236, 237, 238, 239, 240, 241, 242, 243, 244, 327, 328, 329, 330, 331, 332, 333, 334, 335, 336, 337, 338, 339], 'layer': 'L5', 'fit_history': 'silico noise: 4.366109037434527\\nvivo noise: 2.819465725755704\\nobjfun: 1.5466433116788232\\n----------------\\nsilico noise: 4.547855692931703\\nvivo noise: 2.819465725755704\\nobjfun: 1.7283899671759992\\n----------------\\nsilico noise: 4.182511127360861\\nvivo noise: 2.819465725755704\\nobjfun: 1.3630454016051572\\n----------------\\nsilico noise: 4.004506536302868\\nvivo noise: 2.819465725755704\\nobjfun: 1.185040810547164\\n----------------\\nsilico noise: 3.6507789963357546\\nvivo noise: 2.819465725755704\\nobjfun: 0.8313132705800506\\n----------------\\nsilico noise: 3.3061187227226685\\nvivo noise: 2.819465725755704\\nobjfun: 0.4866529969669644\\n----------------\\nsilico noise: 2.6544423234024084\\nvivo noise: 2.819465725755704\\nobjfun: 0.1650234023532957\\n----------------\\nsilico noise: 2.098274482896414\\nvivo noise: 2.819465725755704\\nobjfun: 0.7211912428592901\\n----------------\\nsilico noise: 2.100040600955293\\nvivo noise: 2.819465725755704\\nobjfun: 0.7194251248004111\\n----------------\\nsilico noise: 2.9715461949983455\\nvivo noise: 2.819465725755704\\nobjfun: 0.1520804692426414\\n----------------\\nsilico noise: 3.304449040105901\\nvivo noise: 2.819465725755704\\nobjfun: 0.4849833143501967\\n----------------\\nsilico noise: 2.8082386886838293\\nvivo noise: 2.819465725755704\\nobjfun: 0.01122703707187478\\n----------------\\nsilico noise: 2.655460580286907\\nvivo noise: 2.819465725755704\\nobjfun: 0.16400514546879696\\n----------------\\nsilico noise: 2.8911168322425174\\nvivo noise: 2.819465725755704\\nobjfun: 0.07165110648681328\\n----------------\\nsilico noise: 2.732475293760333\\nvivo noise: 2.819465725755704\\nobjfun: 0.08699043199537115\\n----------------\\nsilico noise: 2.8505251290609794\\nvivo noise: 2.819465725755704\\nobjfun: 0.031059403305275346\\n----------------\\nsilico noise: 2.771211643190448\\nvivo noise: 2.819465725755704\\nobjfun: 0.048254082565255985\\n----------------\\nsilico noise: 2.830216959241013\\nvivo noise: 2.819465725755704\\nobjfun: 0.01075123348530882\\n----------------\\nsilico noise: 2.8506283826176495\\nvivo noise: 2.819465725755704\\nobjfun: 0.031162656861945415\\n----------------\\nsilico noise: 2.8192005885305993\\nvivo noise: 2.819465725755704\\nobjfun: 0.00026513722510479454\\n----------------\\nsilico noise: 2.8081232453025353\\nvivo noise: 2.819465725755704\\nobjfun: 0.011342480453168768\\n----------------\\nsilico noise: 2.82515338818044\\nvivo noise: 2.819465725755704\\nobjfun: 0.005687662424735951\\n----------------\\n', 'seed': 0}, {'scale': 448.0834123444957, 'missing_noise_rms': 3.2578125, 'layer_sites_ix': [23, 24, 25, 26, 27, 28, 29, 30, 31, 32, 33, 34, 35, 36, 37, 38, 39, 118, 119, 120, 121, 122, 123, 124, 125, 126, 127, 128, 129, 130, 131, 132, 133, 134, 215, 216, 217, 218, 219, 220, 221, 222, 223, 224, 225, 226, 227, 228, 229, 230, 231, 310, 311, 312, 313, 314, 315, 316, 317, 318, 319, 320, 321, 322, 323, 324, 325, 326], 'layer': 'L6', 'fit_history': 'silico noise: 4.003282525288535\\nvivo noise: 2.656651407849309\\nobjfun: 1.3466311174392258\\n----------------\\nsilico noise: 4.198954309925719\\nvivo noise: 2.656651407849309\\nobjfun: 1.5423029020764103\\n----------------\\nsilico noise: 3.8089462951635937\\nvivo noise: 2.656651407849309\\nobjfun: 1.1522948873142846\\n----------------\\nsilico noise: 3.6142567731988864\\nvivo noise: 2.656651407849309\\nobjfun: 0.9576053653495773\\n----------------\\nsilico noise: 3.22670487935752\\nvivo noise: 2.656651407849309\\nobjfun: 0.5700534715082108\\n----------------\\nsilico noise: 2.841042805563365\\nvivo noise: 2.656651407849309\\nobjfun: 0.1843913977140561\\n----------------\\nsilico noise: 2.0746536951077665\\nvivo noise: 2.656651407849309\\nobjfun: 0.5819977127415425\\n----------------\\nsilico noise: 2.455504576589676\\nvivo noise: 2.656651407849309\\nobjfun: 0.20114683125963317\\n----------------\\nsilico noise: 3.226217835803878\\nvivo noise: 2.656651407849309\\nobjfun: 0.5695664279545691\\n----------------\\nsilico noise: 2.647707963171524\\nvivo noise: 2.656651407849309\\nobjfun: 0.008943444677785184\\n----------------\\nsilico noise: 2.455870698079779\\nvivo noise: 2.656651407849309\\nobjfun: 0.20078070976953022\\n----------------\\nsilico noise: 2.7431705828004183\\nvivo noise: 2.656651407849309\\nobjfun: 0.08651917495110917\\n----------------\\nsilico noise: 2.5514668162440968\\nvivo noise: 2.656651407849309\\nobjfun: 0.10518459160521232\\n----------------\\nsilico noise: 2.6965546564314224\\nvivo noise: 2.656651407849309\\nobjfun: 0.03990324858211336\\n----------------\\nsilico noise: 2.599208497805181\\nvivo noise: 2.656651407849309\\nobjfun: 0.05744291004412805\\n----------------\\nsilico noise: 2.671426976576187\\nvivo noise: 2.656651407849309\\nobjfun: 0.014775568726877797\\n----------------\\nsilico noise: 2.6230170705095217\\nvivo noise: 2.656651407849309\\nobjfun: 0.03363433733978738\\n----------------\\nsilico noise: 2.65913262354601\\nvivo noise: 2.656651407849309\\nobjfun: 0.0024812156967009003\\n----------------\\nsilico noise: 2.6718969028396873\\nvivo noise: 2.656651407849309\\nobjfun: 0.015245494990378194\\n----------------\\nsilico noise: 2.6543739833360123\\nvivo noise: 2.656651407849309\\nobjfun: 0.002277424513296822\\n----------------\\n', 'seed': 0})\n"
     ]
    }
   ],
   "source": [
    "# if already fitted results exist\n",
    "missing_noise_L1 = np.load(MISSING_NOISE_PATH + \"L1.npy\", allow_pickle=True).item()\n",
    "missing_noise_L2_3 = np.load(MISSING_NOISE_PATH + \"L2_3.npy\", allow_pickle=True).item()\n",
    "missing_noise_L4 = np.load(MISSING_NOISE_PATH + \"L4.npy\", allow_pickle=True).item()\n",
    "missing_noise_L5 = np.load(MISSING_NOISE_PATH + \"L5.npy\", allow_pickle=True).item()\n",
    "missing_noise_L6 = np.load(MISSING_NOISE_PATH + \"L6.npy\", allow_pickle=True).item()\n",
    "\n",
    "# store missing noises\n",
    "layers_missing_noise = (\n",
    "    missing_noise_L1,\n",
    "    missing_noise_L2_3,\n",
    "    missing_noise_L4,\n",
    "    missing_noise_L5,\n",
    "    missing_noise_L6,\n",
    ")\n",
    "\n",
    "# print\n",
    "print(layers_missing_noise)"
   ]
  },
  {
   "cell_type": "code",
   "execution_count": 11,
   "metadata": {},
   "outputs": [
    {
     "name": "stdout",
     "output_type": "stream",
     "text": [
      "{'scale': 448.0834123444957, 'missing_noise_rms': 2.5, 'layer_sites_ix': [69, 70, 71, 72, 165, 166, 167, 168, 261, 262, 263, 264, 357, 358, 359, 360], 'layer': 'L1', 'fit_history': 'silico noise: 3.9757798520971708\\nvivo noise: 2.027459498703704\\nobjfun: 1.9483203533934668\\n----------------\\nsilico noise: 4.168026535401452\\nvivo noise: 2.027459498703704\\nobjfun: 2.1405670366977483\\n----------------\\nsilico noise: 3.778730689296564\\nvivo noise: 2.027459498703704\\nobjfun: 1.7512711905928602\\n----------------\\nsilico noise: 3.5817010743248847\\nvivo noise: 2.027459498703704\\nobjfun: 1.5542415756211807\\n----------------\\nsilico noise: 3.192209284539624\\nvivo noise: 2.027459498703704\\nobjfun: 1.16474978583592\\n----------------\\nsilico noise: 2.804390526117767\\nvivo noise: 2.027459498703704\\nobjfun: 0.7769310274140628\\n----------------\\nsilico noise: 2.0285475191276463\\nvivo noise: 2.027459498703704\\nobjfun: 0.001088020423942293\\n----------------\\nsilico noise: 1.2755511815822325\\nvivo noise: 2.027459498703704\\nobjfun: 0.7519083171214715\\n----------------\\nsilico noise: 1.2745898509992946\\nvivo noise: 2.027459498703704\\nobjfun: 0.7528696477044095\\n----------------\\nsilico noise: 1.6481232242272954\\nvivo noise: 2.027459498703704\\nobjfun: 0.3793362744764086\\n----------------\\nsilico noise: 2.4141593264745955\\nvivo noise: 2.027459498703704\\nobjfun: 0.3866998277708915\\n----------------\\nsilico noise: 1.8394532906971657\\nvivo noise: 2.027459498703704\\nobjfun: 0.18800620800653833\\n----------------\\nsilico noise: 2.2221763132788155\\nvivo noise: 2.027459498703704\\nobjfun: 0.19471681457511147\\n----------------\\nsilico noise: 1.9345425576878335\\nvivo noise: 2.027459498703704\\nobjfun: 0.09291694101587056\\n----------------\\nsilico noise: 2.12419030922991\\nvivo noise: 2.027459498703704\\nobjfun: 0.09673081052620613\\n----------------\\nsilico noise: 1.9819905012923282\\nvivo noise: 2.027459498703704\\nobjfun: 0.04546899741137578\\n----------------\\nsilico noise: 2.077280146135651\\nvivo noise: 2.027459498703704\\nobjfun: 0.04982064743194714\\n----------------\\nsilico noise: 2.006072392981334\\nvivo noise: 2.027459498703704\\nobjfun: 0.021387105722369792\\n----------------\\nsilico noise: 2.0540609839175037\\nvivo noise: 2.027459498703704\\nobjfun: 0.02660148521379968\\n----------------\\nsilico noise: 2.017384742335633\\nvivo noise: 2.027459498703704\\nobjfun: 0.010074756368071203\\n----------------\\nsilico noise: 2.04226403193564\\nvivo noise: 2.027459498703704\\nobjfun: 0.014804533231936201\\n----------------\\nsilico noise: 2.0247698753696914\\nvivo noise: 2.027459498703704\\nobjfun: 0.0026896233340125697\\n----------------\\n', 'seed': 0}\n"
     ]
    }
   ],
   "source": [
    "print(layers_missing_noise[0])"
   ]
  },
  {
   "cell_type": "markdown",
   "metadata": {},
   "source": [
    "### Custom functions"
   ]
  },
  {
   "cell_type": "code",
   "execution_count": 12,
   "metadata": {},
   "outputs": [],
   "source": [
    "def get_layer_sites(silico_layers, layer: str = \"L1\"):\n",
    "    if layer == \"L2_3\":\n",
    "        return np.hstack(\n",
    "            [np.where(silico_layers == \"L2\")[0], np.where(silico_layers == \"L3\")[0]]\n",
    "        )\n",
    "    else:\n",
    "        return np.where(silico_layers == layer)[0]\n",
    "\n",
    "\n",
    "def plot_example_one_sec_segments(traces, target_site=0, sfreq: int = 30000):\n",
    "    \"\"\"plot trace consecutive segments of one second\n",
    "    Args:\n",
    "        traces (np.ndarray): ntimepoints x n site traces\n",
    "        target_site (np.ndarray): column index of a recording site\n",
    "        sfreq (int): trace acquisition sampling frequency\n",
    "    Return:\n",
    "        plot\n",
    "    \"\"\"\n",
    "    fig, axes = plt.subplots(1, 10, figsize=(20, 2))\n",
    "    winds = np.arange(0, 10, 1)\n",
    "    for wind_i in winds:\n",
    "        axes[wind_i].plot(traces[wind_i * sfreq : (wind_i + 1) * sfreq, target_site])\n",
    "        axes[wind_i].set_ylim([-200, 200])\n",
    "    return fig, axes\n",
    "\n",
    "\n",
    "def measure_noise_at_consecutive_segs(traces, site, sfreq, wind_end):\n",
    "    \"\"\"measure noise (mean absolute deviation)\n",
    "    at consecutive segments of 1 second\n",
    "    \"\"\"\n",
    "    winds = np.arange(0, wind_end, 1)\n",
    "    mads = []\n",
    "    for wind_i in winds:\n",
    "        segment = traces[wind_i * sfreq : (wind_i + 1) * sfreq, site]\n",
    "        mads.append(pd.DataFrame(segment).mad().values[0])\n",
    "    return mads\n",
    "\n",
    "\n",
    "def measure_trace_noise(traces, sfreq, wind_end):\n",
    "    \"\"\"measure noise (mean absolute deviation)\n",
    "    at consecutive segments of 1 second\n",
    "\n",
    "    Args:\n",
    "        traces: 2D array\n",
    "    \"\"\"\n",
    "    winds = np.arange(0, wind_end, 1)\n",
    "    mads = []\n",
    "    for wind_i in winds:\n",
    "        segment = traces[wind_i * sfreq : (wind_i + 1) * sfreq]\n",
    "        mads.append(pd.DataFrame(segment).mad().values[0])\n",
    "    return mads\n",
    "\n",
    "\n",
    "def measure_vivo_trace_noise_parallel(traces_vivo, site):\n",
    "    \"\"\"Measure the minimum absolute deviation of a single trace\n",
    "    over contiguous segments of one second\n",
    "    \"Site\" is only used implicitly to pass each row of the\n",
    "    traces_vivo matrix (the original timepoints x site matrix was transposed\n",
    "    such that sites are in rows) to this function.\n",
    "\n",
    "    Args:\n",
    "        traces_vivo (np.array): a 1D trace array of site x timepoints\n",
    "        site (int): the row used to implicitely extract that row from traces_vivo\n",
    "\n",
    "    Returns:\n",
    "        _type_: _description_\n",
    "    \"\"\"\n",
    "    # each site row of the array is passed to a worker\n",
    "    return min(measure_trace_noise(traces_vivo, SFREQ_VIVO, WIND_END))\n",
    "\n",
    "\n",
    "def measure_silico_trace_noise_parallel(traces_silico, site):\n",
    "    \"\"\"Measure the minimum absolute deviation of a single trace\n",
    "    over contiguous segments of one second\n",
    "    \"Site\" is only used implicitly to pass each row of the\n",
    "    traces_vivo matrix (the original timepoints x site matrix was transposed\n",
    "    such that sites are in rows) to this function.\n",
    "\n",
    "    Args:\n",
    "        traces_silico (np.array): a 1D trace array of site x timepoints\n",
    "        site (int): the row used to implicitely extract that row from traces_vivo\n",
    "\n",
    "    Returns:\n",
    "        _type_: _description_\n",
    "    \"\"\"\n",
    "    # each site row of the array is passed to a worker\n",
    "    return min(measure_trace_noise(traces_silico, SFREQ_SILICO, WIND_END))\n",
    "\n",
    "\n",
    "Nfeval = 1\n",
    "\n",
    "\n",
    "def myfun(missing_mad_std, *args):\n",
    "    # get arguments\n",
    "    trace_silico = args[0]\n",
    "    mad_vivo = args[1]\n",
    "    site_silico = args[2]\n",
    "\n",
    "    # calculate missing noise for this x\n",
    "    missing_noise = np.random.normal(0, missing_mad_std, [trace_silico.shape[0], 1])\n",
    "\n",
    "    # return objective function abs(mad_vivo - mad_silico) to minimize\n",
    "    mad_silico = (\n",
    "        pd.DataFrame(trace_silico[:, site_silico] + missing_noise.squeeze())\n",
    "        .mad()\n",
    "        .values\n",
    "    )\n",
    "    return abs(mad_vivo - mad_silico)\n",
    "\n",
    "\n",
    "def myfun_layer(missing_noise, *args):\n",
    "    # get args\n",
    "    # - get in silico target site traces\n",
    "    # - get in vivo layer noise\n",
    "    traces = args[0]\n",
    "    vivo_noise = args[1]\n",
    "    ntimepoints = traces.shape[1]\n",
    "    nsites = traces.shape[0]\n",
    "\n",
    "    np.random.seed(RND_SEED)\n",
    "\n",
    "    # try with this amount of missing uncorrelated noise in silico\n",
    "    missing_noise_traces = np.random.normal(0, missing_noise, [nsites, ntimepoints])\n",
    "    with_noise = traces + missing_noise_traces\n",
    "\n",
    "    # measure site noises in that in silico layer\n",
    "    with ProcessPoolExecutor() as executor:\n",
    "        sites_noise = executor.map(\n",
    "            measure_silico_trace_noise_parallel,\n",
    "            with_noise,\n",
    "            np.arange(0, nsites, 1),\n",
    "        )\n",
    "\n",
    "    # minimize noise difference between vivo and silico\n",
    "    silico_noise = np.mean(np.array(list(sites_noise)))\n",
    "    objfun = abs(vivo_noise - silico_noise)\n",
    "    print(\"silico noise:\", silico_noise)\n",
    "    print(\"objfun:\", objfun)\n",
    "    return objfun\n",
    "\n",
    "\n",
    "def callback(Xi):\n",
    "    \"\"\"callback function to print iterations_summary\n",
    "\n",
    "    Args:\n",
    "        Xi (_type_): missing noise (mad) parameter to solve\n",
    "    \"\"\"\n",
    "    global Nfeval  # function evaluation\n",
    "    print(Xi)\n",
    "    print(\"{0:4d}   {1: 3.6f}\".format(Nfeval, Xi[0]))\n",
    "    Nfeval += 1\n",
    "\n",
    "\n",
    "def sem(data):\n",
    "    return np.std(data) / np.sqrt(len(data))\n",
    "\n",
    "\n",
    "def conf_interv95(data):\n",
    "    return 1.96 * sem(data)"
   ]
  },
  {
   "cell_type": "markdown",
   "metadata": {},
   "source": [
    "“sources of electrical activity that might contribute to the noise power spec- trum, like electronic noise, axons, dendrites or synapse currents (Llinas, 1988; Farrant et al., 1994), was simulated by adding Gaus- sian noise” (Martinez et al., 2009, p. 287)"
   ]
  },
  {
   "cell_type": "markdown",
   "metadata": {},
   "source": [
    "### 1. Load preprocessed traces"
   ]
  },
  {
   "cell_type": "code",
   "execution_count": 13,
   "metadata": {},
   "outputs": [],
   "source": [
    "# takes 1-2 mins\n",
    "\n",
    "# - get max in vivo trace\n",
    "PreRecording_h_vivo = si.load_extractor(PREP_PATH_h_vivo)\n",
    "traces_vivo = PreRecording_h_vivo.get_traces()\n",
    "\n",
    "# - get max in silico trace\n",
    "PreRecording_h_silico = si.load_extractor(PREP_PATH_h_silico)\n",
    "traces_silico = PreRecording_h_silico.get_traces()"
   ]
  },
  {
   "cell_type": "markdown",
   "metadata": {},
   "source": [
    "### 2. Site noise is higher in deeper layers"
   ]
  },
  {
   "cell_type": "code",
   "execution_count": 14,
   "metadata": {},
   "outputs": [],
   "source": [
    "# takes 6 min (instead of 2 hours)\n",
    "\n",
    "# measure sites' noise in vivo (parallelized, )\n",
    "with ProcessPoolExecutor() as executor:\n",
    "    noise_by_trace = executor.map(\n",
    "        measure_vivo_trace_noise_parallel,\n",
    "        traces_vivo.T,\n",
    "        np.arange(0, traces_vivo.shape[1], 1),\n",
    "    )\n",
    "vivo_noise_by_trace = list(noise_by_trace)"
   ]
  },
  {
   "cell_type": "markdown",
   "metadata": {},
   "source": [
    "#### noise over sites\n",
    "\n",
    "The noisiest site has twice the noise of the least noisy site. Estimating the missing noise in silico by fitting the least noisy site from silico L1 to vivo L1 (low spiking activity thus robust mean absolute deviation estimation of noise), then adding that missing noise to all silico sites could result in signal-to-noise ratios in silico that are twice that of in vivo. As we cannot match noise by site between vivo and silico as in vivo and silico site locations in the cortex differ, we will estimate the average missing noise on each site by layers and add the estimated noise to a site according to its layer.\n",
    "\n",
    "Noise are clearly statistically significantly higher on sites in deeper layers (non-overlapping 95% confidence intervals)."
   ]
  },
  {
   "cell_type": "code",
   "execution_count": 15,
   "metadata": {},
   "outputs": [
    {
     "data": {
      "text/plain": [
       "2.0196253585244617"
      ]
     },
     "execution_count": 15,
     "metadata": {},
     "output_type": "execute_result"
    }
   ],
   "source": [
    "np.max(vivo_noise_by_trace) / np.min(vivo_noise_by_trace)"
   ]
  },
  {
   "cell_type": "code",
   "execution_count": 16,
   "metadata": {},
   "outputs": [
    {
     "data": {
      "image/png": "[encoded data removed]",
      "text/plain": [
       "<Figure size 400x400 with 1 Axes>"
      ]
     },
     "metadata": {},
     "output_type": "display_data"
    }
   ],
   "source": [
    "# PLOT\n",
    "\n",
    "fig, ax = plt.subplots(1, 1, figsize=(4, 4))\n",
    "\n",
    "# hist vivo\n",
    "ax.hist(\n",
    "    vivo_noise_by_trace, color=(0.7, 0.7, 0.7), label=\"vivo\", bins=np.arange(0, 5, 0.1)\n",
    ")\n",
    "\n",
    "# legend\n",
    "ax.set_ylabel(\"Site (count)\")\n",
    "ax.set_xlabel(\"Lowest mean absolute deviation (uV)\")\n",
    "ax.spines[[\"right\", \"top\"]].set_visible(False)\n",
    "ax.legend(frameon=False)\n",
    "ax.set_box_aspect(1)  # square axis"
   ]
  },
  {
   "cell_type": "code",
   "execution_count": 17,
   "metadata": {},
   "outputs": [],
   "source": [
    "# sanity check that our sites are in layer 1 of the cortex\n",
    "# - get layers\n",
    "silico_layers = PreRecording_h_silico.get_property(\"layers\")\n",
    "vivo_layers = PreRecording_h_vivo.get_property(\"layers\")\n",
    "\n",
    "assert vivo_layers[SITE_VIVO] == \"L1\", \"the chosen in vivo site is not in L1\"\n",
    "assert silico_layers[SITE_SILICO] == \"L1\", \"the chosen in silico site is not in L1\""
   ]
  },
  {
   "cell_type": "code",
   "execution_count": 15,
   "metadata": {},
   "outputs": [
    {
     "data": {
      "image/png": "[encoded data removed]",
      "text/plain": [
       "<Figure size 300x300 with 1 Axes>"
      ]
     },
     "metadata": {},
     "output_type": "display_data"
    },
    {
     "data": {
      "image/png": "[encoded data removed]",
      "text/plain": [
       "<Figure size 300x300 with 1 Axes>"
      ]
     },
     "metadata": {},
     "output_type": "display_data"
    }
   ],
   "source": [
    "# plot noise distibution by layer\n",
    "\n",
    "fig, ax = plt.subplots(1, 1, figsize=(3, 3))\n",
    "\n",
    "# hist vivo\n",
    "ax.hist(\n",
    "    np.array(vivo_noise_by_trace)[vivo_layers == \"L1\"],\n",
    "    edgecolor=(0.7, 0.7, 0.7),\n",
    "    facecolor=\"None\",\n",
    "    label=\"vivo\",\n",
    "    bins=np.arange(0, 5, 0.1),\n",
    ")\n",
    "\n",
    "\n",
    "# hist vivo\n",
    "ax.hist(\n",
    "    np.array(vivo_noise_by_trace)[vivo_layers == \"L2_3\"],\n",
    "    edgecolor=(1, 0, 0),\n",
    "    facecolor=\"None\",\n",
    "    label=\"vivo\",\n",
    "    bins=np.arange(0, 5, 0.1),\n",
    ")\n",
    "\n",
    "\n",
    "# hist vivo\n",
    "ax.hist(\n",
    "    np.array(vivo_noise_by_trace)[vivo_layers == \"L4\"],\n",
    "    edgecolor=(0, 1, 0),\n",
    "    facecolor=\"None\",\n",
    "    label=\"vivo\",\n",
    "    bins=np.arange(0, 5, 0.1),\n",
    ")\n",
    "\n",
    "# hist vivo\n",
    "ax.hist(\n",
    "    np.array(vivo_noise_by_trace)[vivo_layers == \"L5\"],\n",
    "    edgecolor=(0, 0, 1),\n",
    "    facecolor=\"None\",\n",
    "    label=\"vivo\",\n",
    "    bins=np.arange(0, 5, 0.1),\n",
    ")\n",
    "\n",
    "\n",
    "# hist vivo\n",
    "ax.hist(\n",
    "    np.array(vivo_noise_by_trace)[vivo_layers == \"L6\"],\n",
    "    edgecolor=(1, 0, 1),\n",
    "    facecolor=\"None\",\n",
    "    label=\"vivo\",\n",
    "    bins=np.arange(0, 5, 0.1),\n",
    ")\n",
    "ax.set_box_aspect(1)  # square axis\n",
    "\n",
    "# plot noise stats by layer\n",
    "\n",
    "fig, ax = plt.subplots(1, 1, figsize=(3, 3))\n",
    "\n",
    "layers = [\"L1\", \"L2_3\", \"L4\", \"L5\", \"L6\"]\n",
    "mean_noise_by_layer_vivo = []\n",
    "ci95_noise_by_layer_vivo = []\n",
    "\n",
    "for l_i in range(len(layers)):\n",
    "    # mean noise by layer\n",
    "    mean_noise_by_layer_vivo.append(\n",
    "        np.mean(np.array(vivo_noise_by_trace)[vivo_layers == layers[l_i]])\n",
    "    )\n",
    "    # confidence interval 95 of noise by layer\n",
    "    ci95_noise_by_layer_vivo.append(\n",
    "        conf_interv95(np.array(vivo_noise_by_trace)[vivo_layers == layers[l_i]])\n",
    "    )\n",
    "\n",
    "ax.errorbar(\n",
    "    x=[1, 2, 3, 4, 5], y=mean_noise_by_layer_vivo, yerr=ci95_noise_by_layer_vivo\n",
    ")\n",
    "ax.set_xticks([1, 2, 3, 4, 5])\n",
    "ax.set_xticklabels([\"L1\", \"L2/3\", \"L4\", \"L5\", \"L6\"])\n",
    "ax.set_box_aspect(1)  # square axis"
   ]
  },
  {
   "cell_type": "markdown",
   "metadata": {},
   "source": [
    "### 3. Fit silico's max amplitude over traces to in vivo's (find gain)"
   ]
  },
  {
   "cell_type": "code",
   "execution_count": 18,
   "metadata": {},
   "outputs": [
    {
     "name": "stdout",
     "output_type": "stream",
     "text": [
      "max amplitude (vivo, uV): 175\n",
      "max amplitude (silico, uV): 0.3905522837463495\n",
      "vivo/silico gain ratio: 448.0834123444957\n"
     ]
    }
   ],
   "source": [
    "# takes 1 min\n",
    "\n",
    "# get max amplitudes\n",
    "max_traces_vivo = traces_vivo.max()\n",
    "max_traces_silico = traces_silico.max()\n",
    "\n",
    "# fit in silico's max amplitude to in vivo's (calculate gain ratio)\n",
    "scale = max_traces_vivo / max_traces_silico\n",
    "fitted_traces_silico = traces_silico * scale\n",
    "\n",
    "print(\"max amplitude (vivo, uV):\", max_traces_vivo)\n",
    "print(\"max amplitude (silico, uV):\", max_traces_silico)\n",
    "print(\"vivo/silico gain ratio:\", scale)"
   ]
  },
  {
   "cell_type": "markdown",
   "metadata": {},
   "source": [
    "### 3. Fit layer noises"
   ]
  },
  {
   "cell_type": "code",
   "execution_count": 19,
   "metadata": {},
   "outputs": [],
   "source": [
    "def fit_noise_by_layer(\n",
    "    traces_vivo, fitted_traces_silico, vivo_layers, silico_layers, layer: str = \"L1\"\n",
    "):\n",
    "    # set seed for reproducibility\n",
    "    np.random.seed(RND_SEED)\n",
    "\n",
    "    ## VIVO NOISE -------------\n",
    "\n",
    "    # measure the average layer sites noise\n",
    "    vivo_traces = traces_vivo[:, np.where(vivo_layers == layer)[0]].T\n",
    "    nsites = vivo_traces.shape[0]\n",
    "    with ProcessPoolExecutor() as executor:\n",
    "        traces_noise = executor.map(\n",
    "            measure_vivo_trace_noise_parallel,\n",
    "            vivo_traces,\n",
    "            np.arange(0, nsites, 1),\n",
    "        )\n",
    "    vivo_traces_noise = list(traces_noise)\n",
    "    vivo_layer_noise = np.mean(np.array(vivo_traces_noise))\n",
    "    print(\"measured noise (in vivo):\", vivo_layer_noise)\n",
    "\n",
    "    ## RAW SILICO NOISE -------------\n",
    "\n",
    "    # measure the average layer sites noise\n",
    "    loc_L2_3 = np.hstack(\n",
    "        [np.where(silico_layers == \"L2\")[0], np.where(silico_layers == \"L3\")[0]]\n",
    "    )\n",
    "    silico_traces = fitted_traces_silico[:, loc_L2_3].T\n",
    "    nsites = silico_traces.shape[0]\n",
    "    with ProcessPoolExecutor() as executor:\n",
    "        traces_noise = executor.map(\n",
    "            measure_silico_trace_noise_parallel,\n",
    "            silico_traces,\n",
    "            np.arange(0, nsites, 1),\n",
    "        )\n",
    "    silico_traces_noise = list(traces_noise)\n",
    "    silico_layer_noise = np.mean(np.array(silico_traces_noise))\n",
    "    print(\"measured noise (in silico):\", silico_layer_noise)\n",
    "\n",
    "    ## FIT --------\n",
    "\n",
    "    x0 = 5\n",
    "    MAX_ITER = 15\n",
    "    TOL = 0.01\n",
    "\n",
    "    print(\" iter     x \")\n",
    "    results = minimize(\n",
    "        myfun_layer,\n",
    "        x0,\n",
    "        args=(silico_traces, vivo_layer_noise),\n",
    "        method=\"Nelder-Mead\",\n",
    "        tol=TOL,\n",
    "        callback=callback,\n",
    "        options={\"maxiter\": MAX_ITER, \"disp\": True},\n",
    "    )\n",
    "    print(results)\n",
    "    missing_noise = results.x[0]\n",
    "    print(dir(results))\n",
    "    print(\"fit done\")\n",
    "\n",
    "    return missing_noise"
   ]
  },
  {
   "cell_type": "code",
   "execution_count": 20,
   "metadata": {},
   "outputs": [
    {
     "name": "stdout",
     "output_type": "stream",
     "text": [
      "measured noise (in vivo): 2.3578597496480844\n"
     ]
    }
   ],
   "source": [
    "# takes 1 min\n",
    "\n",
    "# measure the average layer sites noise\n",
    "vivo_traces = traces_vivo[:, np.where(vivo_layers == \"L2_3\")[0]].T\n",
    "nsites = vivo_traces.shape[0]\n",
    "with ProcessPoolExecutor() as executor:\n",
    "    traces_noise = executor.map(\n",
    "        measure_vivo_trace_noise_parallel,\n",
    "        vivo_traces,\n",
    "        np.arange(0, nsites, 1),\n",
    "    )\n",
    "vivo_traces_noise = list(traces_noise)\n",
    "vivo_layer_noise = np.mean(np.array(vivo_traces_noise))\n",
    "print(\"measured noise (in vivo):\", vivo_layer_noise)"
   ]
  },
  {
   "cell_type": "code",
   "execution_count": 172,
   "metadata": {},
   "outputs": [
    {
     "name": "stdout",
     "output_type": "stream",
     "text": [
      "measured noise (in silico): 0.8449964083720719\n"
     ]
    }
   ],
   "source": [
    "# measure the average layer sites noise\n",
    "loc_L2_3 = np.hstack(\n",
    "    [np.where(silico_layers == \"L2\")[0], np.where(silico_layers == \"L3\")[0]]\n",
    ")\n",
    "silico_traces = fitted_traces_silico[:, loc_L2_3].T\n",
    "nsites = silico_traces.shape[0]\n",
    "with ProcessPoolExecutor() as executor:\n",
    "    traces_noise = executor.map(\n",
    "        measure_silico_trace_noise_parallel,\n",
    "        silico_traces,\n",
    "        np.arange(0, nsites, 1),\n",
    "    )\n",
    "silico_traces_noise = list(traces_noise)\n",
    "silico_layer_noise = np.mean(np.array(silico_traces_noise))\n",
    "print(\"measured noise (in silico):\", silico_layer_noise)"
   ]
  },
  {
   "cell_type": "code",
   "execution_count": 21,
   "metadata": {},
   "outputs": [
    {
     "name": "stdout",
     "output_type": "stream",
     "text": [
      "measured noise (in vivo): 2.027459498703704\n",
      "measured noise (in silico): 0.8449964083720719\n",
      " iter     x \n",
      "silico noise: 4.0342991006186315\n",
      "objfun: 2.0068396019149275\n",
      "silico noise: 4.2262828371278784\n",
      "objfun: 2.1988233384241744\n",
      "silico noise: 3.8399086875102024\n",
      "objfun: 1.8124491888064984\n",
      "silico noise: 3.649246813175888\n",
      "objfun: 1.6217873144721842\n",
      "[4.5]\n",
      "   1    4.500000\n",
      "silico noise: 3.265778423809787\n",
      "objfun: 1.2383189251060829\n",
      "silico noise: 2.8854022681858584\n",
      "objfun: 0.8579427694821544\n",
      "[3.5]\n",
      "   2    3.500000\n",
      "silico noise: 2.141873057252043\n",
      "objfun: 0.11441355854833901\n",
      "silico noise: 1.4468846338267585\n",
      "objfun: 0.5805748648769455\n",
      "[2.5]\n",
      "   3    2.500000\n",
      "silico noise: 1.446798673829814\n",
      "objfun: 0.58066082487389\n",
      "silico noise: 1.7850845618730713\n",
      "objfun: 0.24237493683063271\n",
      "[2.5]\n",
      "   4    2.500000\n",
      "silico noise: 2.511065059846654\n",
      "objfun: 0.48360556114295017\n",
      "silico noise: 1.961634325888429\n",
      "objfun: 0.065825172815275\n",
      "[2.25]\n",
      "   5    2.250000\n",
      "silico noise: 1.7853159473378983\n",
      "objfun: 0.24214355136580568\n",
      "silico noise: 2.052176371154889\n",
      "objfun: 0.024716872451184813\n",
      "[2.375]\n",
      "   6    2.375000\n",
      "silico noise: 2.1422862293441844\n",
      "objfun: 0.11482673064048043\n",
      "silico noise: 2.006544006272722\n",
      "objfun: 0.02091549243098223\n",
      "[2.3125]\n",
      "   7    2.312500\n",
      "silico noise: 1.9619245484487406\n",
      "objfun: 0.06553495025496336\n",
      "silico noise: 2.0294691461343346\n",
      "objfun: 0.00200964743063059\n",
      "[2.34375]\n",
      "   8    2.343750\n",
      "silico noise: 2.0519294918805113\n",
      "objfun: 0.024469993176807314\n",
      "silico noise: 2.017953185568141\n",
      "objfun: 0.009506313135562827\n",
      "[2.34375]\n",
      "   9    2.343750\n",
      "silico noise: 2.0399407537414773\n",
      "objfun: 0.012481255037773309\n",
      "silico noise: 2.023508894144711\n",
      "objfun: 0.003950604558993209\n",
      "[2.34375]\n",
      "  10    2.343750\n",
      "[2.34375]\n",
      "  11    2.343750\n",
      "Optimization terminated successfully.\n",
      "         Current function value: 0.002010\n",
      "         Iterations: 11\n",
      "         Function evaluations: 22\n",
      "       message: Optimization terminated successfully.\n",
      "       success: True\n",
      "        status: 0\n",
      "           fun: 0.00200964743063059\n",
      "             x: [ 2.344e+00]\n",
      "           nit: 11\n",
      "          nfev: 22\n",
      " final_simplex: (array([[ 2.344e+00],\n",
      "                       [ 2.336e+00]]), array([ 2.010e-03,  3.951e-03]))\n",
      "['final_simplex', 'fun', 'message', 'nfev', 'nit', 'status', 'success', 'x']\n",
      "fit done\n"
     ]
    }
   ],
   "source": [
    "# takes 15 min per layer\n",
    "missing_noise_L1 = fit_noise_by_layer(\n",
    "    traces_vivo, fitted_traces_silico, vivo_layers, silico_layers, layer=\"L1\"\n",
    ")"
   ]
  },
  {
   "cell_type": "code",
   "execution_count": 22,
   "metadata": {},
   "outputs": [
    {
     "data": {
      "text/plain": [
       "2.34375"
      ]
     },
     "execution_count": 22,
     "metadata": {},
     "output_type": "execute_result"
    }
   ],
   "source": [
    "missing_noise_L1"
   ]
  },
  {
   "cell_type": "code",
   "execution_count": 135,
   "metadata": {},
   "outputs": [
    {
     "name": "stdout",
     "output_type": "stream",
     "text": [
      "noise (vivo): 2.027459498703704\n",
      "fitted noise (silico): 2.0314823764117804\n"
     ]
    }
   ],
   "source": [
    "# # takes 30 secs\n",
    "\n",
    "# # check fit result\n",
    "# nsites = scaled_traces_silico_target_this_layer.shape[0]\n",
    "# ntimepoints = scaled_traces_silico_target_this_layer.shape[1]\n",
    "\n",
    "# # - adjust silico traces with missing noise\n",
    "# missing_noise_traces = np.random.normal(0, missing_noise, [nsites, ntimepoints])\n",
    "# with_noise = scaled_traces_silico_target_this_layer + missing_noise_traces\n",
    "\n",
    "# # measure the each site's noise in that vivo layer\n",
    "# with ProcessPoolExecutor() as executor:\n",
    "#     traces_noise = executor.map(\n",
    "#         measure_silico_trace_noise_parallel,\n",
    "#         with_noise,\n",
    "#         np.arange(0, nsites, 1),\n",
    "#     )\n",
    "\n",
    "# # measure the noise from this vivo layer\n",
    "# silico_traces_noise = list(traces_noise)\n",
    "# silico_layer_noise = np.mean(np.array(silico_traces_noise))\n",
    "\n",
    "# # check that noises are close\n",
    "# print(\"noise (vivo):\", vivo_layer_noise)\n",
    "# print(\"fitted noise (silico):\", silico_layer_noise)"
   ]
  },
  {
   "cell_type": "code",
   "execution_count": 23,
   "metadata": {},
   "outputs": [
    {
     "name": "stdout",
     "output_type": "stream",
     "text": [
      "scaling factor: 448.0834123444957\n",
      "vivo noise (mad in uV): 2.3578597496480844\n"
     ]
    },
    {
     "ename": "NameError",
     "evalue": "name 'silico_layer_noise' is not defined",
     "output_type": "error",
     "traceback": [
      "\u001b[0;31m---------------------------------------------------------------------------\u001b[0m",
      "\u001b[0;31mNameError\u001b[0m                                 Traceback (most recent call last)",
      "\u001b[1;32m/gpfs/bbp.cscs.ch/project/proj85/home/laquitai/preprint_2023/notebooks/0_method/2_fitting/0_marques/fit.ipynb Cell 30\u001b[0m line \u001b[0;36m4\n\u001b[1;32m      <a href='vscode-notebook-cell://ssh-remote%2Br2i3n4/gpfs/bbp.cscs.ch/project/proj85/home/laquitai/preprint_2023/notebooks/0_method/2_fitting/0_marques/fit.ipynb#X36sdnNjb2RlLXJlbW90ZQ%3D%3D?line=1'>2</a>\u001b[0m \u001b[39mprint\u001b[39m(\u001b[39m\"\u001b[39m\u001b[39mscaling factor:\u001b[39m\u001b[39m\"\u001b[39m, scale)\n\u001b[1;32m      <a href='vscode-notebook-cell://ssh-remote%2Br2i3n4/gpfs/bbp.cscs.ch/project/proj85/home/laquitai/preprint_2023/notebooks/0_method/2_fitting/0_marques/fit.ipynb#X36sdnNjb2RlLXJlbW90ZQ%3D%3D?line=2'>3</a>\u001b[0m \u001b[39mprint\u001b[39m(\u001b[39m\"\u001b[39m\u001b[39mvivo noise (mad in uV):\u001b[39m\u001b[39m\"\u001b[39m, vivo_layer_noise)\n\u001b[0;32m----> <a href='vscode-notebook-cell://ssh-remote%2Br2i3n4/gpfs/bbp.cscs.ch/project/proj85/home/laquitai/preprint_2023/notebooks/0_method/2_fitting/0_marques/fit.ipynb#X36sdnNjb2RlLXJlbW90ZQ%3D%3D?line=3'>4</a>\u001b[0m \u001b[39mprint\u001b[39m(\u001b[39m\"\u001b[39m\u001b[39msilico noise after scaling (mad in uV):\u001b[39m\u001b[39m\"\u001b[39m, silico_layer_noise)\n\u001b[1;32m      <a href='vscode-notebook-cell://ssh-remote%2Br2i3n4/gpfs/bbp.cscs.ch/project/proj85/home/laquitai/preprint_2023/notebooks/0_method/2_fitting/0_marques/fit.ipynb#X36sdnNjb2RlLXJlbW90ZQ%3D%3D?line=4'>5</a>\u001b[0m \u001b[39mprint\u001b[39m(\u001b[39m\"\u001b[39m\u001b[39mmissing additive noise (RMS in uV):\u001b[39m\u001b[39m\"\u001b[39m, missing_noise)\n",
      "\u001b[0;31mNameError\u001b[0m: name 'silico_layer_noise' is not defined"
     ]
    }
   ],
   "source": [
    "# report 1) scaling factor and 2) missing additive noise (RMS or STD)\n",
    "print(\"scaling factor:\", scale)\n",
    "print(\"vivo noise (mad in uV):\", vivo_layer_noise)\n",
    "print(\"silico noise after scaling (mad in uV):\", silico_layer_noise)\n",
    "print(\"missing additive noise (RMS in uV):\", missing_noise)"
   ]
  },
  {
   "cell_type": "markdown",
   "metadata": {},
   "source": [
    "#### plot vivo vs. fitted silico noise by layer"
   ]
  },
  {
   "cell_type": "code",
   "execution_count": 28,
   "metadata": {},
   "outputs": [],
   "source": [
    "# takes 6 min\n",
    "\n",
    "# scale and adjust background noise to match in vivo\n",
    "ntimepoints = traces_silico.shape[0]\n",
    "\n",
    "# scale traces\n",
    "scaled_traces_silico = traces_silico * scale\n",
    "scaled_with_noise = copy.copy(scaled_traces_silico)\n",
    "\n",
    "for ix in range(len(layers_missing_noise)):\n",
    "    # add missing noise\n",
    "    sites = layers_missing_noise[ix][\"layer_sites_ix\"]\n",
    "    nsites = len(sites)\n",
    "    missing_noise_traces = np.random.normal(\n",
    "        0, layers_missing_noise[ix][\"missing_noise_rms\"], [ntimepoints, nsites]\n",
    "    )\n",
    "    scaled_with_noise[:, sites] = scaled_traces_silico[:, sites] + missing_noise_traces"
   ]
  },
  {
   "cell_type": "code",
   "execution_count": 29,
   "metadata": {},
   "outputs": [],
   "source": [
    "# takes 5 min\n",
    "\n",
    "# measure sites' adjusted noise in silico (parallelized, )\n",
    "with ProcessPoolExecutor() as executor:\n",
    "    silico_noise_by_trace = executor.map(\n",
    "        measure_silico_trace_noise_parallel,\n",
    "        scaled_with_noise.T,\n",
    "        np.arange(0, scaled_with_noise.shape[1], 1),\n",
    "    )\n",
    "silico_noise_by_trace = list(silico_noise_by_trace)"
   ]
  },
  {
   "cell_type": "code",
   "execution_count": 44,
   "metadata": {},
   "outputs": [
    {
     "data": {
      "text/plain": [
       "array([2.32737882, 2.32206373, 2.32976684, 2.32042769, 2.3110215 ,\n",
       "       2.33053908, 2.32237684, 2.33813595, 2.3372565 , 2.30771732,\n",
       "       2.45172737, 2.4066951 , 2.38005772, 2.36401748, 2.34988777,\n",
       "       2.33562573, 2.32883504, 2.32754117, 2.33528073, 2.4714012 ,\n",
       "       2.41828214, 2.38777008, 2.36420843, 2.3584971 , 2.34262189,\n",
       "       2.33527981, 2.32489438, 2.32886024, 2.50335433, 2.44085254,\n",
       "       2.40216657, 2.38108112, 2.36047043, 2.3516371 , 2.33754501,\n",
       "       2.33161958, 2.32320988, 2.32487371, 2.46234164, 2.41239789,\n",
       "       2.3859032 , 2.36848133, 2.36220165, 2.34697989, 2.33323597,\n",
       "       2.3331593 , 2.33407023])"
      ]
     },
     "execution_count": 44,
     "metadata": {},
     "output_type": "execute_result"
    }
   ],
   "source": [
    "np.array(silico_noise_by_trace)[sites]"
   ]
  },
  {
   "cell_type": "code",
   "execution_count": 82,
   "metadata": {},
   "outputs": [
    {
     "data": {
      "image/png": "[encoded data removed]",
      "text/plain": [
       "<Figure size 500x500 with 1 Axes>"
      ]
     },
     "metadata": {},
     "output_type": "display_data"
    }
   ],
   "source": [
    "# plot in vivo vs. in silico noise statistics by layer\n",
    "\n",
    "fig, ax = plt.subplots(1, 1, figsize=(5, 5))\n",
    "\n",
    "layers = [\"L1\", \"L2_3\", \"L4\", \"L5\", \"L6\"]\n",
    "mean_noise_by_layer_vivo = []\n",
    "ci95_noise_by_layer_vivo = []\n",
    "mean_noise_by_layer_silico = []\n",
    "ci95_noise_by_layer_silico = []\n",
    "\n",
    "for l_i in range(len(layers)):\n",
    "    # VIVO\n",
    "\n",
    "    # mean noise by layer\n",
    "    mean_noise_by_layer_vivo.append(\n",
    "        np.mean(np.array(vivo_noise_by_trace)[vivo_layers == layers[l_i]])\n",
    "    )\n",
    "    # confidence interval 95 of noise by layer\n",
    "    ci95_noise_by_layer_vivo.append(\n",
    "        conf_interv95(np.array(vivo_noise_by_trace)[vivo_layers == layers[l_i]])\n",
    "    )\n",
    "\n",
    "    # SILICO\n",
    "\n",
    "    sites = get_layer_sites(silico_layers, layer=layers[l_i])\n",
    "\n",
    "    # mean noise by layer\n",
    "    mean_noise_by_layer_silico.append(np.mean(np.array(silico_noise_by_trace)[sites]))\n",
    "    # confidence interval 95 of noise by layer\n",
    "    ci95_noise_by_layer_silico.append(\n",
    "        conf_interv95(np.array(silico_noise_by_trace)[sites])\n",
    "    )\n",
    "\n",
    "\n",
    "# vivo\n",
    "ax.errorbar(\n",
    "    x=[1, 2, 3, 4, 5],\n",
    "    y=mean_noise_by_layer_vivo,\n",
    "    yerr=ci95_noise_by_layer_vivo,\n",
    "    linestyle=\"None\",\n",
    "    color=[0.7, 0.7, 0.7],\n",
    ")\n",
    "ax.bar(\n",
    "    x=[1, 2, 3, 4, 5],\n",
    "    height=mean_noise_by_layer_vivo,\n",
    "    width=0.4,\n",
    "    facecolor=[0.7, 0.7, 0.7],\n",
    ")\n",
    "ax.set_xticks([1, 2, 3, 4, 5])\n",
    "\n",
    "# silico\n",
    "ax.errorbar(\n",
    "    x=[1.5, 2.5, 3.5, 4.5, 5.5],\n",
    "    y=mean_noise_by_layer_silico,\n",
    "    yerr=ci95_noise_by_layer_silico,\n",
    "    linestyle=\"None\",\n",
    "    color=(0.84, 0.27, 0.2),\n",
    ")\n",
    "ax.bar(\n",
    "    x=[1.5, 2.5, 3.5, 4.5, 5.5],\n",
    "    height=mean_noise_by_layer_silico,\n",
    "    width=0.4,\n",
    "    facecolor=(0.84, 0.27, 0.2),\n",
    ")\n",
    "\n",
    "ax.set_xticks([1.25, 2.25, 3.25, 4.25, 5.25])\n",
    "ax.set_xticklabels([\"L1\", \"L2/3\", \"L4\", \"L5\", \"L6\"])\n",
    "ax.set_ylim([1.8, 3])\n",
    "ax.set_box_aspect(1)  # square axis\n",
    "ax.spines[[\"top\", \"right\"]].set_visible(False)\n",
    "ax.set_xlabel(\"Layers\")\n",
    "ax.set_ylabel(\"Background noise (uV)\")\n",
    "\n",
    "# save figures\n",
    "plt.savefig(\"figures/2_realism/2_noise/pdf/layerwise_noise_stats_marques.pdf\")\n",
    "plt.savefig(\"figures/2_realism/2_noise/svg/layerwise_noise_stats_marques.svg\")"
   ]
  }
 ],
 "metadata": {
  "kernelspec": {
   "display_name": "env_kilosort_silico",
   "language": "python",
   "name": "python3"
  },
  "language_info": {
   "codemirror_mode": {
    "name": "ipython",
    "version": 3
   },
   "file_extension": ".py",
   "mimetype": "text/x-python",
   "name": "python",
   "nbconvert_exporter": "python",
   "pygments_lexer": "ipython3",
   "version": "3.9.7"
  },
  "orig_nbformat": 4
 },
 "nbformat": 4,
 "nbformat_minor": 2
}
