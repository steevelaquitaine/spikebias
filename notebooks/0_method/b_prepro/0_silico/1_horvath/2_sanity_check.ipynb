{
 "cells": [
  {
   "attachments": {},
   "cell_type": "markdown",
   "metadata": {},
   "source": [
    "# Sanity check\n",
    "\n",
    "author: steeve.laquitaine@epfl.ch  "
   ]
  },
  {
   "cell_type": "code",
   "execution_count": 5,
   "metadata": {},
   "outputs": [
    {
     "name": "stdout",
     "output_type": "stream",
     "text": [
      "2023-12-07 09:03:38,812 - root - utils.py - get_config - INFO - Reading experiment config.\n",
      "2023-12-07 09:03:38,824 - root - utils.py - get_config - INFO - Reading experiment config. - done\n"
     ]
    }
   ],
   "source": [
    "import os\n",
    "import pandas as pd\n",
    "\n",
    "# SET PROJECT PATH\n",
    "PROJ_PATH = \"/gpfs/bbp.cscs.ch/project/proj85/home/laquitai/spikebias/\"\n",
    "os.chdir(PROJ_PATH)\n",
    "\n",
    "from src.nodes.utils import get_config\n",
    "\n",
    "# SETUP PARAMETERS\n",
    "EXPERIMENT = \"silico_horvath\"\n",
    "SIMULATION_DATE = \"concatenated/probe_1\"\n",
    "data_conf, param_conf = get_config(EXPERIMENT, SIMULATION_DATE).values()\n",
    "\n",
    "# read traces and spikes\n",
    "recording = pd.read_pickle(data_conf[\"dataeng\"][\"campaign\"][\"output\"][\"trace_file_path\"])\n",
    "spikes = pd.read_pickle(data_conf[\"dataeng\"][\"campaign\"][\"output\"][\"spike_file_path\"])"
   ]
  },
  {
   "cell_type": "code",
   "execution_count": 6,
   "metadata": {},
   "outputs": [
    {
     "name": "stdout",
     "output_type": "stream",
     "text": [
      "28.583330833722087\n",
      "28.58289583371098\n"
     ]
    }
   ],
   "source": [
    "# check duration in minutes\n",
    "duration_min = (recording.index[-1]/1000)/3600 * 60\n",
    "print(duration_min)\n",
    "\n",
    "# check last spike\n",
    "last_spike = (spikes.index[-1]/1000)/3600 * 60\n",
    "print(last_spike)"
   ]
  }
 ],
 "metadata": {
  "kernelspec": {
   "display_name": "npx_10m_384ch_unit_classes",
   "language": "python",
   "name": "python3"
  },
  "language_info": {
   "codemirror_mode": {
    "name": "ipython",
    "version": 3
   },
   "file_extension": ".py",
   "mimetype": "text/x-python",
   "name": "python",
   "nbconvert_exporter": "python",
   "pygments_lexer": "ipython3",
   "version": "3.9.7"
  },
  "orig_nbformat": 4
 },
 "nbformat": 4,
 "nbformat_minor": 2
}
