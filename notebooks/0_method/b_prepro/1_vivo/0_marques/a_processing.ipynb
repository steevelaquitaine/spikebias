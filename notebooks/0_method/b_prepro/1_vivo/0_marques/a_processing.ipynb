{
 "cells": [
  {
   "cell_type": "markdown",
   "metadata": {},
   "source": [
    "# Data processing\n",
    "\n",
    "\n",
    "author: steeve.laquitaine@epfl.ch  \n",
    "date: 2023.12.11  \n",
    "last modified: 19.01.2024\n",
    "status: OK   \n",
    "display-status: OK  \n",
    "regression: None\n"
   ]
  },
  {
   "cell_type": "markdown",
   "metadata": {},
   "source": [
    "```bash\n",
    "# run in terminal\n",
    "sbatch cluster/processing/marques_vivo/process.sbatch\n",
    "````"
   ]
  }
 ],
 "metadata": {
  "language_info": {
   "name": "python"
  }
 },
 "nbformat": 4,
 "nbformat_minor": 2
}
