{
 "cells": [
  {
   "cell_type": "markdown",
   "metadata": {},
   "source": [
    "# Data processing\n",
    "\n",
    "\n",
    "author: steeve.laquitaine@epfl.ch  \n",
    "date: 2023.12.11  \n",
    "last modified: 2023.12.11\n",
    "status: OK   \n",
    "display-status: OK  \n",
    "regression: None\n"
   ]
  },
  {
   "cell_type": "markdown",
   "metadata": {},
   "source": [
    "```bash\n",
    "# run in terminal\n",
    "sbatch cluster/processing/process_marques_c26.sbatch\n",
    "````"
   ]
  }
 ],
 "metadata": {
  "language_info": {
   "name": "python"
  }
 },
 "nbformat": 4,
 "nbformat_minor": 2
}
