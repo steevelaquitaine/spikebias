{
 "cells": [
  {
   "cell_type": "markdown",
   "metadata": {},
   "source": [
    "# Wavelet filtering 10m Marques silico\n",
    "\n",
    "* **Approach**:\n",
    "    * We compared sorting on wavelet-filtered traces and butterworth-filtered traces for the silico marques experiment, on a 5 min sample, for speed.\n",
    "        * their single unit and multi-unit yields.\n",
    "        * their unit sorting accuracies curves\n",
    "\n",
    "* **Method**\n",
    "    * <u>no KS3 butterworth filtering</u>: skip_preprocessing=False, comment the filter commands in Kilosort3's `gpufilter.m` file\n",
    "    * <u>no drift correction</u>:\n",
    "    * <u>detection_threshold=138</u> calibrated to maximize spike detection (w/o mexWtW2 max variable size crash):\n",
    "    * notes:\n",
    "        * KS3 crashes with default parameters because the number of spikes detected is beyond the Maximum variable size allowed on the device (in mexWtW2).\n",
    "        * we skip drift correction (drift_correction=False), else \"Error using histcounts - Expected input number 2, edges, to be monotonically increasing\".\n",
    "\n",
    "* to skip preprocessing, we need to comment the filter commands in Kilosort3's `gpufilter.m` file (skip_preprocessing=True crashes because the whitening commands in preprocessDataSub are needed, and it skips them)\n",
    "\n",
    "* **Tests:**\n",
    "    * det_thresh = 50 - lower acc\n",
    "    * det_thresh = 80 - lower acc\n",
    "    * det_thresh = 138 -> acc = 4%\n",
    "    * det_thresh = 100 - lower acc\n",
    "    * det_thresh = 140 ... running (2159976)   \n",
    "    * det_thresh = 150 ...crashed (2159971) \n",
    "    * allprojthresh = 4 - lower (2159974)\n",
    "    * allprojthresh = 1 ....running (2160053)\n",
    "    * allprojthresh = [4,4] and \"preclust_threshold\": 1 - lower (2160062)    \n",
    "    * allprojthresh = [4,4] and lam=10 ....running (2160065)    \n",
    "    \n",
    "* **Obs:**\n",
    "    * sort 10m wf-recording produces 3.8% acc vs. 5% for butt-"
   ]
  },
  {
   "cell_type": "markdown",
   "metadata": {},
   "source": [
    "### Setup \n",
    "\n",
    "activate spikeinterface0_100"
   ]
  },
  {
   "cell_type": "code",
   "execution_count": 17,
   "metadata": {},
   "outputs": [
    {
     "name": "stdout",
     "output_type": "stream",
     "text": [
      "The autoreload extension is already loaded. To reload it, use:\n",
      "  %reload_ext autoreload\n",
      "2024-05-02 13:35:07,633 - root - utils.py - get_config - INFO - Reading experiment config.\n",
      "2024-05-02 13:35:07,671 - root - utils.py - get_config - INFO - Reading experiment config. - done\n"
     ]
    }
   ],
   "source": [
    "# import libs\n",
    "%load_ext autoreload\n",
    "%autoreload 2\n",
    "\n",
    "import warnings\n",
    "warnings.simplefilter(action='ignore', category=FutureWarning)\n",
    "\n",
    "import os\n",
    "import numpy as np\n",
    "from matplotlib import pyplot as plt\n",
    "import spikeinterface as si\n",
    "from matplotlib import pyplot as plt\n",
    "import spikeinterface.full as si\n",
    "import spikeinterface.extractors as se \n",
    "from spikeinterface import comparison\n",
    "import spikeinterface.preprocessing as spre\n",
    "\n",
    "# move to PROJECT PATH\n",
    "PROJ_PATH = \"/gpfs/bbp.cscs.ch/project/proj85/home/laquitai/spikebias/\"\n",
    "os.chdir(PROJ_PATH)\n",
    "\n",
    "from src.nodes.utils import get_config\n",
    "\n",
    "# SETUP DATASET COMFIG\n",
    "# full 40 min recording \n",
    "data_conf, param_conf = get_config(\"silico_neuropixels\", \"concatenated\").values()\n",
    "RAW_PATH = data_conf[\"probe_wiring\"][\"output\"]\n",
    "PREP_PATH = data_conf[\"preprocessing\"][\"output\"][\"trace_file_path\"]\n",
    "PREP_PATH_W = data_conf[\"preprocessing\"][\"output\"][\"wavelet_trace_file_path\"]\n",
    "SORTING_TRUE_PATH = data_conf['sorting']['simulation']['ground_truth']['output']\n",
    "SORTING_PATH_BUTT = data_conf['sorting']['sorters']['kilosort3']['output']"
   ]
  },
  {
   "cell_type": "markdown",
   "metadata": {},
   "source": [
    "### (16m) Save 10m wavelet-filtered recording\n",
    "\n",
    "* traces data type should be int16 (faster, cheaper)\n",
    "* load entire recording, copy first 10 min and save for sorting"
   ]
  },
  {
   "cell_type": "code",
   "execution_count": 11,
   "metadata": {},
   "outputs": [
    {
     "name": "stdout",
     "output_type": "stream",
     "text": [
      "write_binary_recording with n_jobs = 2 and chunk_size = 52083333\n"
     ]
    },
    {
     "data": {
      "application/vnd.jupyter.widget-view+json": {
       "model_id": "eb18f5a8727a48fa88e10ed5f8dbaa2b",
       "version_major": 2,
       "version_minor": 0
      },
      "text/plain": [
       "write_binary_recording:   0%|          | 0/1 [00:00<?, ?it/s]"
      ]
     },
     "metadata": {},
     "output_type": "display_data"
    },
    {
     "data": {
      "text/plain": [
       "BinaryFolderRecording: 384 channels - 40.0kHz - 1 segments - 24,000,000 samples \n",
       "                       600.00s (10.00 minutes) - int16 dtype - 17.17 GiB"
      ]
     },
     "execution_count": 11,
     "metadata": {},
     "output_type": "execute_result"
    }
   ],
   "source": [
    "# get Recording extractors (as int16)\n",
    "Prepro_w_full = si.load_extractor(PREP_PATH_W)\n",
    "\n",
    "# copy 10 min and save\n",
    "end_frame_for_10_min = 40000 * 60 * 10\n",
    "Prepro_w_10m = Prepro_w_full.frame_slice(start_frame=0, end_frame=end_frame_for_10_min)\n",
    "Prepro_w_10m.save(\n",
    "    folder=\"/gpfs/bbp.cscs.ch/project/proj85/scratch/laquitai/4_preprint_2023/dataeng/0_silico/neuropixels_lfp_10m_384ch_hex0_40Khz_2023_10_18/be011315-9555-493e-a59c-27f42d1058ed/campaign/preprocessed/traces_wavelet\",\n",
    "    format=\"binary\",\n",
    "    overwrite=True,\n",
    "    n_jobs=2,\n",
    "    chunk_memory=\"40G\",\n",
    "    progress_bar=True,\n",
    ")"
   ]
  },
  {
   "cell_type": "code",
   "execution_count": null,
   "metadata": {},
   "outputs": [],
   "source": [
    "# Ground truth\n",
    "SortingTrue = si.load_extractor(SORTING_TRUE_PATH)\n",
    "SortingTrue = SortingTrue.frame_slice(start_frame=0, end_frame=end_frame_for_10_min)"
   ]
  },
  {
   "cell_type": "markdown",
   "metadata": {},
   "source": [
    "### Detection thresh 140"
   ]
  },
  {
   "cell_type": "code",
   "execution_count": 34,
   "metadata": {},
   "outputs": [
    {
     "name": "stdout",
     "output_type": "stream",
     "text": [
      "sorting accuracy:  0.037463976945244955\n",
      "# of well detected:  52\n",
      "# sua:  177\n",
      "# mua:  1188\n",
      "number of true units:  1388\n"
     ]
    }
   ],
   "source": [
    "sorting_path = \"/gpfs/bbp.cscs.ch/project/proj85/scratch/laquitai/4_preprint_2023/sorting/0_silico/neuropixels_lfp_10m_384ch_hex0_40Khz_2023_10_18/be011315-9555-493e-a59c-27f42d1058ed/SortingKS3_wavlt_detth140/\"\n",
    "\n",
    "# sorting result\n",
    "Sorting = si.load_extractor(sorting_path)\n",
    "\n",
    "# accuracy\n",
    "matching = comparison.compare_sorter_to_ground_truth(\n",
    "    SortingTrue, Sorting, exhaustive_gt=True\n",
    ")\n",
    "acc = matching.agreement_scores.max(axis=1).sort_values(ascending=False)\n",
    "print(\"sorting accuracy: \", sum(acc.values >= 0.8) / len(acc.values))\n",
    "print(\"# of well detected: \", sum(acc.values >= 0.8))\n",
    "print(\"# sua: \", sum(Sorting.get_property(\"KSLabel\") == \"good\"))\n",
    "print(\"# mua: \", sum(Sorting.get_property(\"KSLabel\") == \"mua\"))\n",
    "print(\"number of true units: \", len(SortingTrue.unit_ids))"
   ]
  },
  {
   "cell_type": "markdown",
   "metadata": {},
   "source": [
    "### Detection thresh 138"
   ]
  },
  {
   "cell_type": "code",
   "execution_count": 29,
   "metadata": {},
   "outputs": [
    {
     "name": "stdout",
     "output_type": "stream",
     "text": [
      "sorting accuracy:  0.03818443804034582\n",
      "# of well detected:  53\n",
      "# sua:  190\n",
      "# mua:  1102\n",
      "number of true units:  1388\n"
     ]
    }
   ],
   "source": [
    "sorting_path = \"/gpfs/bbp.cscs.ch/project/proj85/scratch/laquitai/4_preprint_2023/sorting/0_silico/neuropixels_lfp_10m_384ch_hex0_40Khz_2023_10_18/be011315-9555-493e-a59c-27f42d1058ed/SortingKS3_wavlt/\"\n",
    "\n",
    "# sorting result\n",
    "Sorting = si.load_extractor(sorting_path)\n",
    "\n",
    "# accuracy\n",
    "matching = comparison.compare_sorter_to_ground_truth(\n",
    "    SortingTrue, Sorting, exhaustive_gt=True\n",
    ")\n",
    "acc = matching.agreement_scores.max(axis=1).sort_values(ascending=False)\n",
    "print(\"sorting accuracy: \", sum(acc.values >= 0.8) / len(acc.values))\n",
    "print(\"# of well detected: \", sum(acc.values >= 0.8))\n",
    "print(\"# sua: \", sum(Sorting.get_property(\"KSLabel\") == \"good\"))\n",
    "print(\"# mua: \", sum(Sorting.get_property(\"KSLabel\") == \"mua\"))\n",
    "print(\"number of true units: \", len(SortingTrue.unit_ids))"
   ]
  },
  {
   "cell_type": "markdown",
   "metadata": {},
   "source": [
    "### Detection threshold 100"
   ]
  },
  {
   "cell_type": "code",
   "execution_count": 30,
   "metadata": {},
   "outputs": [
    {
     "name": "stdout",
     "output_type": "stream",
     "text": [
      "sorting accuracy:  0.032420749279538905\n",
      "# of well detected:  45\n",
      "# sua:  211\n",
      "# mua:  1115\n",
      "number of true units:  1388\n"
     ]
    }
   ],
   "source": [
    "sorting_path = \"/gpfs/bbp.cscs.ch/project/proj85/scratch/laquitai/4_preprint_2023/sorting/0_silico/neuropixels_lfp_10m_384ch_hex0_40Khz_2023_10_18/be011315-9555-493e-a59c-27f42d1058ed/SortingKS3_wavlt_detth100/\"\n",
    "\n",
    "# sorting result\n",
    "Sorting = si.load_extractor(sorting_path)\n",
    "\n",
    "# accuracy\n",
    "matching = comparison.compare_sorter_to_ground_truth(\n",
    "    SortingTrue, Sorting, exhaustive_gt=True\n",
    ")\n",
    "acc = matching.agreement_scores.max(axis=1).sort_values(ascending=False)\n",
    "print(\"sorting accuracy: \", sum(acc.values >= 0.8) / len(acc.values))\n",
    "print(\"# of well detected: \", sum(acc.values >= 0.8))\n",
    "print(\"# sua: \", sum(Sorting.get_property(\"KSLabel\") == \"good\"))\n",
    "print(\"# mua: \", sum(Sorting.get_property(\"KSLabel\") == \"mua\"))\n",
    "\n",
    "print(\"number of true units: \", len(SortingTrue.unit_ids))"
   ]
  },
  {
   "cell_type": "markdown",
   "metadata": {},
   "source": [
    "### Detection thresh 80"
   ]
  },
  {
   "cell_type": "code",
   "execution_count": 31,
   "metadata": {},
   "outputs": [
    {
     "name": "stdout",
     "output_type": "stream",
     "text": [
      "sorting accuracy:  0.0345821325648415\n",
      "# of well detected:  48\n",
      "# sua:  185\n",
      "# mua:  1005\n",
      "number of true units:  1388\n"
     ]
    }
   ],
   "source": [
    "sorting_path = \"/gpfs/bbp.cscs.ch/project/proj85/scratch/laquitai/4_preprint_2023/sorting/0_silico/neuropixels_lfp_10m_384ch_hex0_40Khz_2023_10_18/be011315-9555-493e-a59c-27f42d1058ed/SortingKS3_wavlt_detth80/\"\n",
    "\n",
    "# sorting result\n",
    "Sorting = si.load_extractor(sorting_path)\n",
    "\n",
    "# accuracy\n",
    "matching = comparison.compare_sorter_to_ground_truth(\n",
    "    SortingTrue, Sorting, exhaustive_gt=True\n",
    ")\n",
    "acc = matching.agreement_scores.max(axis=1).sort_values(ascending=False)\n",
    "print(\"sorting accuracy: \", sum(acc.values >= 0.8) / len(acc.values))\n",
    "print(\"# of well detected: \", sum(acc.values >= 0.8))\n",
    "print(\"# sua: \", sum(Sorting.get_property(\"KSLabel\") == \"good\"))\n",
    "print(\"# mua: \", sum(Sorting.get_property(\"KSLabel\") == \"mua\"))\n",
    "print(\"number of true units: \", len(SortingTrue.unit_ids))"
   ]
  },
  {
   "cell_type": "markdown",
   "metadata": {},
   "source": [
    "### Detection thresh 50"
   ]
  },
  {
   "cell_type": "code",
   "execution_count": 32,
   "metadata": {},
   "outputs": [
    {
     "name": "stdout",
     "output_type": "stream",
     "text": [
      "sorting accuracy:  0.029538904899135448\n",
      "# of well detected:  41\n",
      "# sua:  178\n",
      "# mua:  1047\n",
      "number of true units:  1388\n"
     ]
    }
   ],
   "source": [
    "sorting_path = \"/gpfs/bbp.cscs.ch/project/proj85/scratch/laquitai/4_preprint_2023/sorting/0_silico/neuropixels_lfp_10m_384ch_hex0_40Khz_2023_10_18/be011315-9555-493e-a59c-27f42d1058ed/SortingKS3_wavlt_detth50/\"\n",
    "\n",
    "# sorting result\n",
    "Sorting = si.load_extractor(sorting_path)\n",
    "\n",
    "# accuracy\n",
    "matching = comparison.compare_sorter_to_ground_truth(\n",
    "    SortingTrue, Sorting, exhaustive_gt=True\n",
    ")\n",
    "acc = matching.agreement_scores.max(axis=1).sort_values(ascending=False)\n",
    "print(\"sorting accuracy: \", sum(acc.values >= 0.8) / len(acc.values))\n",
    "print(\"# of well detected: \", sum(acc.values >= 0.8))\n",
    "print(\"# sua: \", sum(Sorting.get_property(\"KSLabel\") == \"good\"))\n",
    "print(\"# mua: \", sum(Sorting.get_property(\"KSLabel\") == \"mua\"))\n",
    "print(\"number of true units: \", len(SortingTrue.unit_ids))"
   ]
  },
  {
   "cell_type": "markdown",
   "metadata": {},
   "source": [
    "### Allproj = 4"
   ]
  },
  {
   "cell_type": "code",
   "execution_count": 35,
   "metadata": {},
   "outputs": [
    {
     "name": "stdout",
     "output_type": "stream",
     "text": [
      "sorting accuracy:  0.03025936599423631\n",
      "# of well detected:  42\n",
      "# sua:  317\n",
      "# mua:  2213\n",
      "number of true units:  1388\n"
     ]
    }
   ],
   "source": [
    "sorting_path = \"/gpfs/bbp.cscs.ch/project/proj85/scratch/laquitai/4_preprint_2023/sorting/0_silico/neuropixels_lfp_10m_384ch_hex0_40Khz_2023_10_18/be011315-9555-493e-a59c-27f42d1058ed/SortingKS3_wavlt_allproj4/\"\n",
    "\n",
    "# sorting result\n",
    "Sorting = si.load_extractor(sorting_path)\n",
    "\n",
    "# accuracy\n",
    "matching = comparison.compare_sorter_to_ground_truth(\n",
    "    SortingTrue, Sorting, exhaustive_gt=True\n",
    ")\n",
    "acc = matching.agreement_scores.max(axis=1).sort_values(ascending=False)\n",
    "print(\"sorting accuracy: \", sum(acc.values >= 0.8) / len(acc.values))\n",
    "print(\"# of well detected: \", sum(acc.values >= 0.8))\n",
    "print(\"# sua: \", sum(Sorting.get_property(\"KSLabel\") == \"good\"))\n",
    "print(\"# mua: \", sum(Sorting.get_property(\"KSLabel\") == \"mua\"))\n",
    "print(\"number of true units: \", len(SortingTrue.unit_ids))"
   ]
  },
  {
   "cell_type": "markdown",
   "metadata": {},
   "source": [
    "#### allprojthresh = [4,4] and \"preclust_threshold\": 1"
   ]
  },
  {
   "cell_type": "code",
   "execution_count": 36,
   "metadata": {},
   "outputs": [
    {
     "name": "stdout",
     "output_type": "stream",
     "text": [
      "sorting accuracy:  0.02881844380403458\n",
      "# of well detected:  40\n",
      "# sua:  322\n",
      "# mua:  2228\n",
      "number of true units:  1388\n"
     ]
    }
   ],
   "source": [
    "sorting_path = \"/gpfs/bbp.cscs.ch/project/proj85/scratch/laquitai/4_preprint_2023/sorting/0_silico/neuropixels_lfp_10m_384ch_hex0_40Khz_2023_10_18/be011315-9555-493e-a59c-27f42d1058ed/SortingKS3_wavlt_allproj4_precl1/\"\n",
    "\n",
    "# sorting result\n",
    "Sorting = si.load_extractor(sorting_path)\n",
    "\n",
    "# accuracy\n",
    "matching = comparison.compare_sorter_to_ground_truth(\n",
    "    SortingTrue, Sorting, exhaustive_gt=True\n",
    ")\n",
    "acc = matching.agreement_scores.max(axis=1).sort_values(ascending=False)\n",
    "print(\"sorting accuracy: \", sum(acc.values >= 0.8) / len(acc.values))\n",
    "print(\"# of well detected: \", sum(acc.values >= 0.8))\n",
    "print(\"# sua: \", sum(Sorting.get_property(\"KSLabel\") == \"good\"))\n",
    "print(\"# mua: \", sum(Sorting.get_property(\"KSLabel\") == \"mua\"))\n",
    "print(\"number of true units: \", len(SortingTrue.unit_ids))"
   ]
  },
  {
   "cell_type": "markdown",
   "metadata": {},
   "source": [
    "### allprojthres=4, lam=10"
   ]
  },
  {
   "cell_type": "code",
   "execution_count": 37,
   "metadata": {},
   "outputs": [],
   "source": [
    "sorting_path = \"/gpfs/bbp.cscs.ch/project/proj85/scratch/laquitai/4_preprint_2023/sorting/0_silico/neuropixels_lfp_10m_384ch_hex0_40Khz_2023_10_18/be011315-9555-493e-a59c-27f42d1058ed/SortingKS3_wavlt_allproj4_lam10/\"\n",
    "\n",
    "# sorting result\n",
    "Sorting = si.load_extractor(sorting_path)\n",
    "\n",
    "# accuracy\n",
    "matching = comparison.compare_sorter_to_ground_truth(\n",
    "    SortingTrue, Sorting, exhaustive_gt=True\n",
    ")\n",
    "acc = matching.agreement_scores.max(axis=1).sort_values(ascending=False)\n",
    "print(\"sorting accuracy: \", sum(acc.values >= 0.8) / len(acc.values))\n",
    "print(\"# of well detected: \", sum(acc.values >= 0.8))\n",
    "print(\"# sua: \", sum(Sorting.get_property(\"KSLabel\") == \"good\"))\n",
    "print(\"# mua: \", sum(Sorting.get_property(\"KSLabel\") == \"mua\"))\n",
    "print(\"number of true units: \", len(SortingTrue.unit_ids))"
   ]
  },
  {
   "cell_type": "markdown",
   "metadata": {},
   "source": [
    "### Load SortingExtractor\n",
    "\n",
    "* observations:\n",
    "    * 5 times more single units are isolated.\n",
    "    * a lot more multi-units too\n",
    "\n",
    "* detection_threshold: 6\n",
    "    * single unit count: 610\n",
    "    * mua count: 1795\n",
    "* detection_threshold: 12\n",
    "    * single unit count: 574\n",
    "    * mua count: 1655\n",
    "* detection_threshold: 138\n",
    "    * prediction: x2 -> -6% thus -> -70% (184) requires increasing the threshold 23X, thus 138.\n",
    "    * actual: \n",
    "        * single unit count: 175 (174 for int16)\n",
    "        * mua count: 639 (657 for int16)"
   ]
  },
  {
   "cell_type": "code",
   "execution_count": 5,
   "metadata": {},
   "outputs": [
    {
     "name": "stdout",
     "output_type": "stream",
     "text": [
      "single unit count: 174\n",
      "mua count: 657\n"
     ]
    }
   ],
   "source": [
    "SortingW = si.load_extractor(\n",
    "    \"/gpfs/bbp.cscs.ch/project/proj85/scratch/laquitai/4_preprint_2023/0_silico/neuropixels/concatenated_campaigns/SortingKS3_sample_wvlt/\"\n",
    ")\n",
    "print(\"single unit count:\", sum(SortingW.get_property(\"KSLabel\") == \"good\"))\n",
    "print(\"mua count:\", sum(SortingW.get_property(\"KSLabel\") == \"mua\"))"
   ]
  },
  {
   "cell_type": "markdown",
   "metadata": {},
   "source": [
    "### Compare accuracies Butter. vs Wavelet\n",
    "\n",
    "* Accuracies are not exact, as the ground truth is for the entire recording not the 5 first minutes.\n",
    "* we plot butterworth-filtered vs. wavelet-filtered sortings with `detection_threshold=6`."
   ]
  },
  {
   "cell_type": "code",
   "execution_count": 38,
   "metadata": {},
   "outputs": [
    {
     "name": "stderr",
     "output_type": "stream",
     "text": [
      "/gpfs/bbp.cscs.ch/project/proj85/scratch/laquitai/4_preprint_2023/envs/spikinterf0_100_5/lib/python3.9/site-packages/spikeinterface/core/base.py:1079: UserWarning: Versions are not the same. This might lead to compatibility errors. Using spikeinterface==0.96.1 is recommended\n",
      "  warnings.warn(\n"
     ]
    },
    {
     "data": {
      "text/plain": [
       "[<matplotlib.lines.Line2D at 0x7ffee51052e0>]"
      ]
     },
     "execution_count": 38,
     "metadata": {},
     "output_type": "execute_result"
    },
    {
     "data": {
      "image/png": "[encoded data removed]",
      "text/plain": [
       "<Figure size 640x480 with 1 Axes>"
      ]
     },
     "metadata": {},
     "output_type": "display_data"
    }
   ],
   "source": [
    "# load ground truth spikes and units\n",
    "SortingTrue = si.load_extractor(SORTING_TRUE_PATH)\n",
    "\n",
    "# Butterworth-filtered\n",
    "# agreement score between sorted and true units\n",
    "matching = comparison.compare_sorter_to_ground_truth(\n",
    "    SortingTrue, SortingB, exhaustive_gt=True\n",
    ")\n",
    "accuracy_b = matching.agreement_scores.max(axis=1).sort_values(ascending=False)\n",
    "\n",
    "# Wavelet-filtered\n",
    "matching = comparison.compare_sorter_to_ground_truth(\n",
    "    SortingTrue, SortingW, exhaustive_gt=True\n",
    ")\n",
    "accuracy_w = matching.agreement_scores.max(axis=1).sort_values(ascending=False)\n",
    "\n",
    "# plot\n",
    "plt.plot(accuracy_b.values)\n",
    "plt.plot(accuracy_w.values, \"r\")"
   ]
  },
  {
   "cell_type": "code",
   "execution_count": 8,
   "metadata": {},
   "outputs": [
    {
     "data": {
      "text/plain": [
       "[<matplotlib.lines.Line2D at 0x7ffee8534d90>]"
      ]
     },
     "execution_count": 8,
     "metadata": {},
     "output_type": "execute_result"
    },
    {
     "data": {
      "image/png": "[encoded data removed]",
      "text/plain": [
       "<Figure size 640x480 with 1 Axes>"
      ]
     },
     "metadata": {},
     "output_type": "display_data"
    }
   ],
   "source": [
    "# load ground truth spikes and units\n",
    "SortingTrue = si.load_extractor(SORTING_TRUE_PATH)\n",
    "\n",
    "# Butterworth-filtered\n",
    "# agreement score between sorted and true units\n",
    "matching = comparison.compare_sorter_to_ground_truth(\n",
    "    SortingTrue, SortingB, exhaustive_gt=True\n",
    ")\n",
    "accuracy_b = matching.agreement_scores.max(axis=1).sort_values(ascending=False)\n",
    "\n",
    "# Wavelet-filtered\n",
    "matching = comparison.compare_sorter_to_ground_truth(\n",
    "    SortingTrue, SortingW, exhaustive_gt=True\n",
    ")\n",
    "accuracy_w = matching.agreement_scores.max(axis=1).sort_values(ascending=False)\n",
    "\n",
    "# plot\n",
    "plt.plot(accuracy_b.values)\n",
    "plt.plot(accuracy_w.values, \"r\")"
   ]
  },
  {
   "cell_type": "markdown",
   "metadata": {},
   "source": [
    "### (10m) Compare KS3 on butter vs. wavelet on the entire recording (40m)\n",
    "\n",
    "* We disable the filtering commands in the KS3 repository, and set `skip_preprocessing` args to `False` (else it does not find any spike). Note: all other preprocessing steps are enabled (whitening, mean subtraction, common referencing...).\n",
    "* We feed the waveleted-filtered recording to the KS3 sorter.\n",
    "\n",
    "* KS3 trace is int16\n",
    "* Sorting takes 1h\n",
    "\n",
    "* detection_threshold: 138\n",
    "    * single unit count: 316\n",
    "    * mua count: 3149\n",
    "\n",
    "* note: we had 5% accuracy with old KS3 on 10 min recording with Butterworth. What changed?\n"
   ]
  },
  {
   "cell_type": "code",
   "execution_count": 22,
   "metadata": {},
   "outputs": [
    {
     "name": "stderr",
     "output_type": "stream",
     "text": [
      "/gpfs/bbp.cscs.ch/project/proj85/scratch/laquitai/4_preprint_2023/envs/spikinterf0_100_5/lib/python3.9/site-packages/spikeinterface/core/base.py:1079: UserWarning: Versions are not the same. This might lead to compatibility errors. Using spikeinterface==0.96.1 is recommended\n",
      "  warnings.warn(\n"
     ]
    },
    {
     "name": "stdout",
     "output_type": "stream",
     "text": [
      "single unit count: 335\n",
      "mua count: 1349\n",
      "single unit count: 316\n",
      "mua count: 3149\n",
      "\n",
      "WAVELET\n",
      "sorting accuracy:  0.0007204610951008645\n",
      "# of well detected:  1\n",
      "number of true units:  1388\n",
      "\n",
      "BUTTERWORTH\n",
      "sorting accuracy:  0.0007204610951008645\n",
      "# of well detected:  1\n",
      "number of true units:  1388\n"
     ]
    },
    {
     "data": {
      "image/png": "[encoded data removed]",
      "text/plain": [
       "<Figure size 640x480 with 1 Axes>"
      ]
     },
     "metadata": {},
     "output_type": "display_data"
    }
   ],
   "source": [
    "# get sorting extractors *****\n",
    "SortingB = si.load_extractor(\n",
    "    \"/gpfs/bbp.cscs.ch/project/proj85/scratch/laquitai/4_preprint_2023/0_silico/neuropixels/concatenated_campaigns/SortingKS3/\"\n",
    ")\n",
    "print(\"single unit count:\", sum(SortingB.get_property(\"KSLabel\") == \"good\"))\n",
    "print(\"mua count:\", sum(SortingB.get_property(\"KSLabel\") == \"mua\"))\n",
    "\n",
    "SortingW = si.load_extractor(\n",
    "    \"/gpfs/bbp.cscs.ch/project/proj85/scratch/laquitai/4_preprint_2023/0_silico/neuropixels/concatenated_campaigns/SortingKS3_wavlt/\"\n",
    ")\n",
    "print(\"single unit count:\", sum(SortingW.get_property(\"KSLabel\") == \"good\"))\n",
    "print(\"mua count:\", sum(SortingW.get_property(\"KSLabel\") == \"mua\"))\n",
    "\n",
    "\n",
    "# Get accuracies *****\n",
    "# load ground truth spikes and units\n",
    "SortingTrue = si.load_extractor(SORTING_TRUE_PATH)\n",
    "\n",
    "# butterworth-filtered\n",
    "matching = comparison.compare_sorter_to_ground_truth(\n",
    "    SortingTrue, SortingB, exhaustive_gt=True\n",
    ")\n",
    "accuracy_b = matching.agreement_scores.max(axis=1).sort_values(ascending=False)\n",
    "\n",
    "# Wavelet-filtered\n",
    "matching = comparison.compare_sorter_to_ground_truth(\n",
    "    SortingTrue, SortingW, exhaustive_gt=True\n",
    ")\n",
    "accuracy_w = matching.agreement_scores.max(axis=1).sort_values(ascending=False)\n",
    "\n",
    "# plot\n",
    "plt.plot(accuracy_b.values, \"b\")\n",
    "plt.plot(accuracy_w.values, \"r\")\n",
    "\n",
    "# report sorting accuracy\n",
    "print(\"\\nWAVELET\")\n",
    "print(\"sorting accuracy: \", sum(accuracy_b.values >= 0.8) / len(accuracy_b.values))\n",
    "print(\"# of well detected: \", sum(accuracy_b.values >= 0.8))\n",
    "print(\"number of true units: \", len(SortingTrue.unit_ids))\n",
    "\n",
    "print(\"\\nBUTTERWORTH\")\n",
    "print(\"sorting accuracy: \", sum(accuracy_w.values >= 0.8) / len(accuracy_w.values))\n",
    "print(\"# of well detected: \", sum(accuracy_w.values >= 0.8))\n",
    "print(\"number of true units: \", len(SortingTrue.unit_ids))"
   ]
  },
  {
   "cell_type": "code",
   "execution_count": 28,
   "metadata": {},
   "outputs": [
    {
     "name": "stderr",
     "output_type": "stream",
     "text": [
      "/gpfs/bbp.cscs.ch/project/proj85/scratch/laquitai/4_preprint_2023/envs/spikinterf0_100_5/lib/python3.9/site-packages/spikeinterface/core/base.py:1079: UserWarning: Versions are not the same. This might lead to compatibility errors. Using spikeinterface==0.96.1 is recommended\n",
      "  warnings.warn(\n"
     ]
    },
    {
     "name": "stdout",
     "output_type": "stream",
     "text": [
      "single unit count: 228\n",
      "mua count: 631\n",
      "single unit count: 335\n",
      "mua count: 1349\n",
      "single unit count: 316\n",
      "mua count: 3149\n",
      "\n",
      "WAVELET\n",
      "sorting accuracy:  0.0007204610951008645\n",
      "# of well detected:  1\n",
      "number of true units:  1388\n",
      "\n",
      "BUTTERWORTH 10m\n",
      "sorting accuracy:  0.0\n",
      "# of well detected:  0\n",
      "number of true units:  1388\n",
      "\n",
      "BUTTERWORTH\n",
      "sorting accuracy:  0.0007204610951008645\n",
      "# of well detected:  1\n",
      "number of true units:  1388\n"
     ]
    },
    {
     "data": {
      "image/png": "[encoded data removed]",
      "text/plain": [
       "<Figure size 640x480 with 1 Axes>"
      ]
     },
     "metadata": {},
     "output_type": "display_data"
    }
   ],
   "source": [
    "# get sorting extractors *****\n",
    "\n",
    "# Butterworth 10 min\n",
    "SortingB10m = si.load_extractor(\n",
    "    \"/gpfs/bbp.cscs.ch/project/proj85/scratch/laquitai/4_preprint_2023/sorting/0_silico/neuropixels_lfp_10m_384ch_hex0_40Khz_2023_10_18/be011315-9555-493e-a59c-27f42d1058ed/SortingKS3/\"\n",
    ")\n",
    "print(\"single unit count:\", sum(SortingB10m.get_property(\"KSLabel\") == \"good\"))\n",
    "print(\"mua count:\", sum(SortingB10m.get_property(\"KSLabel\") == \"mua\"))\n",
    "\n",
    "# Butter. entire\n",
    "SortingB = si.load_extractor(\n",
    "    \"/gpfs/bbp.cscs.ch/project/proj85/scratch/laquitai/4_preprint_2023/0_silico/neuropixels/concatenated_campaigns/SortingKS3/\"\n",
    ")\n",
    "print(\"single unit count:\", sum(SortingB.get_property(\"KSLabel\") == \"good\"))\n",
    "print(\"mua count:\", sum(SortingB.get_property(\"KSLabel\") == \"mua\"))\n",
    "\n",
    "# wavelet\n",
    "SortingW = si.load_extractor(\n",
    "    \"/gpfs/bbp.cscs.ch/project/proj85/scratch/laquitai/4_preprint_2023/0_silico/neuropixels/concatenated_campaigns/SortingKS3_wavlt/\"\n",
    ")\n",
    "print(\"single unit count:\", sum(SortingW.get_property(\"KSLabel\") == \"good\"))\n",
    "print(\"mua count:\", sum(SortingW.get_property(\"KSLabel\") == \"mua\"))\n",
    "\n",
    "\n",
    "# Get accuracies *****\n",
    "# load ground truth spikes and units\n",
    "SortingTrue = si.load_extractor(SORTING_TRUE_PATH)\n",
    "\n",
    "# butterworth 10m\n",
    "matching = comparison.compare_sorter_to_ground_truth(\n",
    "    SortingTrue, SortingB10m, exhaustive_gt=True\n",
    ")\n",
    "accuracy_b10m = matching.agreement_scores.max(axis=1).sort_values(ascending=False)\n",
    "\n",
    "# butterworth entire\n",
    "matching = comparison.compare_sorter_to_ground_truth(\n",
    "    SortingTrue, SortingB, exhaustive_gt=True\n",
    ")\n",
    "accuracy_b = matching.agreement_scores.max(axis=1).sort_values(ascending=False)\n",
    "\n",
    "# Wavelet-filtered\n",
    "matching = comparison.compare_sorter_to_ground_truth(\n",
    "    SortingTrue, SortingW, exhaustive_gt=True\n",
    ")\n",
    "accuracy_w = matching.agreement_scores.max(axis=1).sort_values(ascending=False)\n",
    "\n",
    "# plot\n",
    "plt.plot(accuracy_b10m.values, \"k\")\n",
    "plt.plot(accuracy_b.values, \"b\")\n",
    "plt.plot(accuracy_w.values, \"r\")\n",
    "\n",
    "# report sorting accuracy\n",
    "print(\"\\nWAVELET\")\n",
    "print(\"sorting accuracy: \", sum(accuracy_b.values >= 0.8) / len(accuracy_b.values))\n",
    "print(\"# of well detected: \", sum(accuracy_b.values >= 0.8))\n",
    "print(\"number of true units: \", len(SortingTrue.unit_ids))\n",
    "\n",
    "print(\"\\nBUTTERWORTH 10m\")\n",
    "print(\n",
    "    \"sorting accuracy: \", sum(accuracy_b10m.values >= 0.8) / len(accuracy_b10m.values)\n",
    ")\n",
    "print(\"# of well detected: \", sum(accuracy_b10m.values >= 0.8))\n",
    "print(\"number of true units: \", len(SortingTrue.unit_ids))\n",
    "\n",
    "print(\"\\nBUTTERWORTH\")\n",
    "print(\"sorting accuracy: \", sum(accuracy_w.values >= 0.8) / len(accuracy_w.values))\n",
    "print(\"# of well detected: \", sum(accuracy_w.values >= 0.8))\n",
    "print(\"number of true units: \", len(SortingTrue.unit_ids))"
   ]
  },
  {
   "cell_type": "code",
   "execution_count": 32,
   "metadata": {},
   "outputs": [
    {
     "name": "stderr",
     "output_type": "stream",
     "text": [
      "/gpfs/bbp.cscs.ch/project/proj85/scratch/laquitai/4_preprint_2023/envs/spikinterf0_100_5/lib/python3.9/site-packages/spikeinterface/core/base.py:1079: UserWarning: Versions are not the same. This might lead to compatibility errors. Using spikeinterface==0.96.1 is recommended\n",
      "  warnings.warn(\n"
     ]
    },
    {
     "name": "stdout",
     "output_type": "stream",
     "text": [
      "single unit count: 228\n",
      "mua count: 631\n",
      "single unit count: 228\n",
      "mua count: 613\n",
      "single unit count: 335\n",
      "mua count: 1349\n",
      "\n",
      "BUTTERWORTH\n",
      "sorting accuracy:  0.0007204610951008645\n",
      "# of well detected:  1\n",
      "number of true units:  1388\n",
      "\n",
      "BUTTERWORTH 10m\n",
      "sorting accuracy:  0.05343511450381679\n",
      "# of well detected:  70\n",
      "number of true units:  1388\n",
      "\n",
      "BUTTERWORTH 10m01005\n",
      "sorting accuracy:  0.05267175572519084\n",
      "# of well detected:  69\n"
     ]
    },
    {
     "ename": "AttributeError",
     "evalue": "'Series' object has no attribute 'unit_ids'",
     "output_type": "error",
     "traceback": [
      "\u001b[0;31m---------------------------------------------------------------------------\u001b[0m",
      "\u001b[0;31mAttributeError\u001b[0m                            Traceback (most recent call last)",
      "\u001b[0;32m/tmp/ipykernel_197956/1637767564.py\u001b[0m in \u001b[0;36m?\u001b[0;34m()\u001b[0m\n\u001b[0;32m---> 88\u001b[0;31m \u001b[0;31m# get sorting extractors *****\u001b[0m\u001b[0;34m\u001b[0m\u001b[0;34m\u001b[0m\u001b[0m\n\u001b[0m\u001b[1;32m     89\u001b[0m \u001b[0;34m\u001b[0m\u001b[0m\n\u001b[1;32m     90\u001b[0m \u001b[0;31m# Butterworth 10 min (done with si0961)\u001b[0m\u001b[0;34m\u001b[0m\u001b[0;34m\u001b[0m\u001b[0m\n\u001b[1;32m     91\u001b[0m SortingB10m = si.load_extractor(\n",
      "\u001b[0;32m/gpfs/bbp.cscs.ch/project/proj85/scratch/laquitai/4_preprint_2023/envs/spikinterf0_100_5/lib/python3.9/site-packages/pandas/core/generic.py\u001b[0m in \u001b[0;36m?\u001b[0;34m(self, name)\u001b[0m\n\u001b[1;32m   5898\u001b[0m             \u001b[0;32mand\u001b[0m \u001b[0mname\u001b[0m \u001b[0;32mnot\u001b[0m \u001b[0;32min\u001b[0m \u001b[0mself\u001b[0m\u001b[0;34m.\u001b[0m\u001b[0m_accessors\u001b[0m\u001b[0;34m\u001b[0m\u001b[0;34m\u001b[0m\u001b[0m\n\u001b[1;32m   5899\u001b[0m             \u001b[0;32mand\u001b[0m \u001b[0mself\u001b[0m\u001b[0;34m.\u001b[0m\u001b[0m_info_axis\u001b[0m\u001b[0;34m.\u001b[0m\u001b[0m_can_hold_identifiers_and_holds_name\u001b[0m\u001b[0;34m(\u001b[0m\u001b[0mname\u001b[0m\u001b[0;34m)\u001b[0m\u001b[0;34m\u001b[0m\u001b[0;34m\u001b[0m\u001b[0m\n\u001b[1;32m   5900\u001b[0m         ):\n\u001b[1;32m   5901\u001b[0m             \u001b[0;32mreturn\u001b[0m \u001b[0mself\u001b[0m\u001b[0;34m[\u001b[0m\u001b[0mname\u001b[0m\u001b[0;34m]\u001b[0m\u001b[0;34m\u001b[0m\u001b[0;34m\u001b[0m\u001b[0m\n\u001b[0;32m-> 5902\u001b[0;31m         \u001b[0;32mreturn\u001b[0m \u001b[0mobject\u001b[0m\u001b[0;34m.\u001b[0m\u001b[0m__getattribute__\u001b[0m\u001b[0;34m(\u001b[0m\u001b[0mself\u001b[0m\u001b[0;34m,\u001b[0m \u001b[0mname\u001b[0m\u001b[0;34m)\u001b[0m\u001b[0;34m\u001b[0m\u001b[0;34m\u001b[0m\u001b[0m\n\u001b[0m",
      "\u001b[0;31mAttributeError\u001b[0m: 'Series' object has no attribute 'unit_ids'"
     ]
    },
    {
     "data": {
      "image/png": "[encoded data removed]",
      "text/plain": [
       "<Figure size 640x480 with 1 Axes>"
      ]
     },
     "metadata": {},
     "output_type": "display_data"
    }
   ],
   "source": [
    "# get sorting extractors *****\n",
    "\n",
    "# Butterworth 10 min (done with si0961)\n",
    "SortingB10m = si.load_extractor(\n",
    "    \"/gpfs/bbp.cscs.ch/project/proj85/scratch/laquitai/4_preprint_2023/sorting/0_silico/neuropixels_lfp_10m_384ch_hex0_40Khz_2023_10_18/be011315-9555-493e-a59c-27f42d1058ed/SortingKS3/\"\n",
    ")\n",
    "print(\"single unit count:\", sum(SortingB10m.get_property(\"KSLabel\") == \"good\"))\n",
    "print(\"mua count:\", sum(SortingB10m.get_property(\"KSLabel\") == \"mua\"))\n",
    "\n",
    "# Butterworth 10 min (done with si01005)\n",
    "SortingB10m01005 = si.load_extractor(\n",
    "    \"/gpfs/bbp.cscs.ch/project/proj85/scratch/laquitai/4_preprint_2023/sorting/0_silico/neuropixels_lfp_10m_384ch_hex0_40Khz_2023_10_18/be011315-9555-493e-a59c-27f42d1058ed/SortingKS3_si01005/\"\n",
    ")\n",
    "print(\"single unit count:\", sum(SortingB10m01005.get_property(\"KSLabel\") == \"good\"))\n",
    "print(\"mua count:\", sum(SortingB10m01005.get_property(\"KSLabel\") == \"mua\"))\n",
    "\n",
    "# Butter. entire (done with si0961)\n",
    "SortingB = si.load_extractor(\n",
    "    \"/gpfs/bbp.cscs.ch/project/proj85/scratch/laquitai/4_preprint_2023/0_silico/neuropixels/concatenated_campaigns/SortingKS3/\"\n",
    ")\n",
    "print(\"single unit count:\", sum(SortingB.get_property(\"KSLabel\") == \"good\"))\n",
    "print(\"mua count:\", sum(SortingB.get_property(\"KSLabel\") == \"mua\"))\n",
    "\n",
    "# wavelet (done with si01005 - incompatbility)\n",
    "# SortingW = si.load_extractor(\n",
    "#     \"/gpfs/bbp.cscs.ch/project/proj85/scratch/laquitai/4_preprint_2023/0_silico/neuropixels/concatenated_campaigns/SortingKS3_wavlt/\"\n",
    "# )\n",
    "# print(\"single unit count:\", sum(SortingW.get_property(\"KSLabel\") == \"good\"))\n",
    "# print(\"mua count:\", sum(SortingW.get_property(\"KSLabel\") == \"mua\"))\n",
    "\n",
    "\n",
    "# Get accuracies *****\n",
    "# load ground truth spikes and units (done with si0961)\n",
    "SortingTrue = si.load_extractor(SORTING_TRUE_PATH)\n",
    "\n",
    "# butterworth 10m\n",
    "SortingTrue10m = si.load_extractor(SORTING_TRUE_PATH_10m)\n",
    "matching = comparison.compare_sorter_to_ground_truth(\n",
    "    SortingTrue10m, SortingB10m, exhaustive_gt=True\n",
    ")\n",
    "accuracy_b10m = matching.agreement_scores.max(axis=1).sort_values(ascending=False)\n",
    "\n",
    "# butterworth 10m01005\n",
    "matching = comparison.compare_sorter_to_ground_truth(\n",
    "    SortingTrue10m, SortingB10m01005, exhaustive_gt=True\n",
    ")\n",
    "accuracy_b10m01005 = matching.agreement_scores.max(axis=1).sort_values(ascending=False)\n",
    "\n",
    "# butterworth entire\n",
    "matching = comparison.compare_sorter_to_ground_truth(\n",
    "    SortingTrue, SortingB, exhaustive_gt=True\n",
    ")\n",
    "accuracy_b = matching.agreement_scores.max(axis=1).sort_values(ascending=False)\n",
    "\n",
    "# Wavelet-filtered\n",
    "# matching = comparison.compare_sorter_to_ground_truth(\n",
    "#     SortingTrue, SortingW, exhaustive_gt=True\n",
    "# )\n",
    "# accuracy_w = matching.agreement_scores.max(axis=1).sort_values(ascending=False)\n",
    "\n",
    "# plot\n",
    "plt.plot(accuracy_b10m.values, \"k\")\n",
    "plt.plot(accuracy_b.values, \"b\")\n",
    "plt.plot(accuracy_b10m01005.values, \"r\")\n",
    "\n",
    "# plt.plot(accuracy_w.values, \"r\")\n",
    "\n",
    "# report sorting accuracy\n",
    "print(\"\\nBUTTERWORTH\")\n",
    "print(\"sorting accuracy: \", sum(accuracy_b.values >= 0.8) / len(accuracy_b.values))\n",
    "print(\"# of well detected: \", sum(accuracy_b.values >= 0.8))\n",
    "print(\"number of true units: \", len(SortingTrue.unit_ids))\n",
    "\n",
    "\n",
    "print(\"\\nBUTTERWORTH 10m\")\n",
    "print(\n",
    "    \"sorting accuracy: \", sum(accuracy_b10m.values >= 0.8) / len(accuracy_b10m.values)\n",
    ")\n",
    "print(\"# of well detected: \", sum(accuracy_b10m.values >= 0.8))\n",
    "print(\"number of true units: \", len(SortingTrue.unit_ids))\n",
    "\n",
    "print(\"\\nBUTTERWORTH 10m01005\")\n",
    "print(\n",
    "    \"sorting accuracy: \",\n",
    "    sum(accuracy_b10m01005.values >= 0.8) / len(accuracy_b10m01005.values),\n",
    ")\n",
    "print(\"# of well detected: \", sum(accuracy_b10m01005.values >= 0.8))\n",
    "print(\"number of true units: \", len(accuracy_b10m01005.unit_ids))\n",
    "\n",
    "# print(\"\\nWAVELET\")\n",
    "# print(\"sorting accuracy: \", sum(accuracy_w.values >= 0.8) / len(accuracy_w.values))\n",
    "# print(\"# of well detected: \", sum(accuracy_w.values >= 0.8))\n",
    "# print(\"number of true units: \", len(SortingTrue.unit_ids))"
   ]
  },
  {
   "cell_type": "code",
   "execution_count": 2,
   "metadata": {},
   "outputs": [
    {
     "name": "stdout",
     "output_type": "stream",
     "text": [
      "single unit count 354\n",
      "mua count: 1058\n",
      "single unit count 227\n",
      "mua count: 437\n"
     ]
    },
    {
     "name": "stderr",
     "output_type": "stream",
     "text": [
      "/gpfs/bbp.cscs.ch/project/proj85/scratch/laquitai/4_preprint_2023/envs/spikinterf0_100_5/lib/python3.9/site-packages/spikeinterface/core/base.py:1079: UserWarning: Versions are not the same. This might lead to compatibility errors. Using spikeinterface==0.96.1 is recommended\n",
      "  warnings.warn(\n",
      "/gpfs/bbp.cscs.ch/project/proj85/scratch/laquitai/4_preprint_2023/envs/spikinterf0_100_5/lib/python3.9/site-packages/spikeinterface/core/base.py:1079: UserWarning: Versions are not the same. This might lead to compatibility errors. Using spikeinterface==0.96.1 is recommended\n",
      "  warnings.warn(\n",
      "/gpfs/bbp.cscs.ch/project/proj85/scratch/laquitai/4_preprint_2023/envs/spikinterf0_100_5/lib/python3.9/site-packages/spikeinterface/core/base.py:1079: UserWarning: Versions are not the same. This might lead to compatibility errors. Using spikeinterface==0.96.1 is recommended\n",
      "  warnings.warn(\n"
     ]
    },
    {
     "name": "stdout",
     "output_type": "stream",
     "text": [
      "\n",
      "BUTTERWORTH 10m\n",
      "sorting accuracy:  0.05343511450381679\n",
      "# of well detected:  70\n",
      "number of true units:  1310\n",
      "\n",
      "BUTTERWORTH 10m rotd 10m....\n",
      "sorting accuracy:  0.04122137404580153\n",
      "# of well detected:  54\n",
      "number of true units:  1310\n",
      "\n",
      "BUTTERWORTH rotd full\n",
      "sorting accuracy:  0.0\n",
      "# of well detected:  0\n",
      "number of true units:  1388\n"
     ]
    }
   ],
   "source": [
    "# butterworth 10m\n",
    "SortingB10m = si.load_extractor(\n",
    "    \"/gpfs/bbp.cscs.ch/project/proj85/scratch/laquitai/4_preprint_2023/sorting/0_silico/neuropixels_lfp_10m_384ch_hex0_40Khz_2023_10_18/be011315-9555-493e-a59c-27f42d1058ed/SortingKS3/\"\n",
    ")\n",
    "matching = comparison.compare_sorter_to_ground_truth(\n",
    "    SortingTrue10m, SortingB10m, exhaustive_gt=True\n",
    ")\n",
    "accuracy_b10m = matching.agreement_scores.max(axis=1).sort_values(ascending=False)\n",
    "\n",
    "\n",
    "print(\"\\nBUTTERWORTH 10m\")\n",
    "print(\n",
    "    \"sorting accuracy: \",\n",
    "    sum(accuracy_b10m.values >= 0.8) / len(accuracy_b10m.values),\n",
    ")\n",
    "print(\"# of well detected: \", sum(accuracy_b10m.values >= 0.8))\n",
    "print(\"number of true units: \", len(SortingTrue10m.unit_ids))"
   ]
  },
  {
   "cell_type": "markdown",
   "metadata": {},
   "source": [
    "### (6m) Save as int16 to speed up sorting"
   ]
  },
  {
   "cell_type": "code",
   "execution_count": 5,
   "metadata": {},
   "outputs": [
    {
     "name": "stderr",
     "output_type": "stream",
     "text": [
      "/gpfs/bbp.cscs.ch/project/proj85/scratch/laquitai/4_preprint_2023/envs/spikinterf0_100_5/lib/python3.9/site-packages/spikeinterface/core/base.py:1079: UserWarning: Versions are not the same. This might lead to compatibility errors. Using spikeinterface==0.96.1 is recommended\n",
      "  warnings.warn(\n",
      "/gpfs/bbp.cscs.ch/project/proj85/scratch/laquitai/4_preprint_2023/envs/spikinterf0_100_5/lib/python3.9/site-packages/spikeinterface/core/binaryrecordingextractor.py:78: UserWarning: `num_chan` is to be deprecated in version 0.100, please use `num_channels` instead\n",
      "  warnings.warn(\"`num_chan` is to be deprecated in version 0.100, please use `num_channels` instead\")\n"
     ]
    },
    {
     "name": "stdout",
     "output_type": "stream",
     "text": [
      "write_binary_recording with n_jobs = 4 and chunk_size = 52083333\n"
     ]
    },
    {
     "data": {
      "application/vnd.jupyter.widget-view+json": {
       "model_id": "5fe455480b6a4666bd480d2a83d7134a",
       "version_major": 2,
       "version_minor": 0
      },
      "text/plain": [
       "write_binary_recording:   0%|          | 0/1 [00:00<?, ?it/s]"
      ]
     },
     "metadata": {},
     "output_type": "display_data"
    },
    {
     "data": {
      "text/plain": [
       "BinaryFolderRecording: 384 channels - 40.0kHz - 1 segments - 23,519,988 samples \n",
       "                       588.00s (9.80 minutes) - int16 dtype - 16.82 GiB"
      ]
     },
     "execution_count": 5,
     "metadata": {},
     "output_type": "execute_result"
    }
   ],
   "source": [
    "Wired = si.load_extractor(WIRED_PATH_10m)\n",
    "\n",
    "# convert to int16\n",
    "Wired = spre.astype(Wired, \"int16\")\n",
    "\n",
    "# save\n",
    "Wired.save(\n",
    "    folder=WIRED_PATH_10m_int16,\n",
    "    format=\"binary\",\n",
    "    n_jobs=4,\n",
    "    chunk_memory=\"40G\",\n",
    "    overwrite=True,\n",
    ")"
   ]
  },
  {
   "cell_type": "code",
   "execution_count": null,
   "metadata": {},
   "outputs": [],
   "source": []
  }
 ],
 "metadata": {
  "kernelspec": {
   "display_name": "spikinterf0_100_5",
   "language": "python",
   "name": "python3"
  },
  "language_info": {
   "codemirror_mode": {
    "name": "ipython",
    "version": 3
   },
   "file_extension": ".py",
   "mimetype": "text/x-python",
   "name": "python",
   "nbconvert_exporter": "python",
   "pygments_lexer": "ipython3",
   "version": "3.9.7"
  }
 },
 "nbformat": 4,
 "nbformat_minor": 2
}
