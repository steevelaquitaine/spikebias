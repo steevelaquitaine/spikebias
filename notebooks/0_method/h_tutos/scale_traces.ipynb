{
 "cells": [
  {
   "cell_type": "markdown",
   "metadata": {},
   "source": [
    "setup `npx_10_384ch_unit_classes`"
   ]
  },
  {
   "cell_type": "code",
   "execution_count": null,
   "metadata": {},
   "outputs": [],
   "source": [
    "import spikeinterface.extractors as se\n",
    "import numpy as np\n",
    "from matplotlib import pyplot as plt"
   ]
  },
  {
   "cell_type": "code",
   "execution_count": null,
   "metadata": {},
   "outputs": [],
   "source": [
    "# create mock recording\n",
    "sampling_frequency = 30000\n",
    "traces = 512 + 50 * np.random.randn(4, 10*sampling_frequency)\n",
    "traces = traces.astype(\"int16\")\n",
    "\n",
    "recording = se.NumpyRecording(traces, sampling_frequency=sampling_frequency)\n",
    "print(f\"Traces dtype: {recording.get_dtype()}\")\n",
    "\n",
    "# set gain and offset\n",
    "gain = 0.1\n",
    "offset = -2**(10 - 1) * gain\n",
    "recording.set_channel_gains(gain)\n",
    "recording.set_channel_offsets(offset)\n",
    "recording.has_unscaled = True\n",
    "print(recording.get_property('gain_to_uV'))\n",
    "print(recording.get_property('offset_to_uV'))\n",
    "\n",
    "# get unscaled and scalewd traces\n",
    "traces_unscaled = recording.get_traces(return_scaled=False)\n",
    "traces_scaled = recording.get_traces(return_scaled=True)  # return_scaled is True by default\n",
    "\n",
    "print(f\"Traces dtype after scaling: {traces_scaled.dtype}\")\n",
    "\n",
    "# plot\n",
    "fig, axes = plt.subplots(1,2)\n",
    "axes[0].plot(traces_unscaled[:, 0], label=\"unscaled\")\n",
    "axes[1].plot(traces_scaled[:, 0], label=\"scaled\")\n",
    "plt.legend()"
   ]
  },
  {
   "cell_type": "markdown",
   "metadata": {},
   "source": [
    "# references\n",
    "\n",
    "https://spikeinterface.readthedocs.io/en/0.96.1/modules/extractors/plot_2_working_with_unscaled_traces.html#working-with-unscaled-traces"
   ]
  }
 ],
 "metadata": {
  "language_info": {
   "name": "python"
  },
  "orig_nbformat": 4
 },
 "nbformat": 4,
 "nbformat_minor": 2
}
