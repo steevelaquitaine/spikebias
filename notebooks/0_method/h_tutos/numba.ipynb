{
 "cells": [
  {
   "cell_type": "markdown",
   "metadata": {},
   "source": [
    "# Numba \n",
    "\n",
    "steeve.laquitaine@epfl.ch\n",
    "* setup spikinterf.. env"
   ]
  },
  {
   "cell_type": "code",
   "execution_count": 4,
   "metadata": {},
   "outputs": [],
   "source": [
    "import numpy as np\n",
    "from numba import njit, prange\n",
    "from time import time\n",
    "\n",
    "\n",
    "@njit(parallel=True)\n",
    "def parallel_sum(A):\n",
    "    sum = 0.0\n",
    "    for i in prange(A.shape[0]):\n",
    "        for j in prange(A.shape[1]):\n",
    "            sum += A[i, j]\n",
    "\n",
    "    return sum\n",
    "\n",
    "\n",
    "def parallel_sum2(A):\n",
    "    sum = 0.0\n",
    "    for i in range(A.shape[0]):\n",
    "        for j in range(A.shape[1]):\n",
    "            sum += A[i, j]\n",
    "    return sum"
   ]
  },
  {
   "cell_type": "markdown",
   "metadata": {},
   "source": [
    "Without numba"
   ]
  },
  {
   "cell_type": "code",
   "execution_count": 5,
   "metadata": {},
   "outputs": [
    {
     "name": "stdout",
     "output_type": "stream",
     "text": [
      "2.4260871410369873\n"
     ]
    }
   ],
   "source": [
    "t0 = time()\n",
    "parallel_sum2(np.random.rand(10000, 1000))\n",
    "print(time() - t0)"
   ]
  },
  {
   "cell_type": "markdown",
   "metadata": {},
   "source": [
    "With Numba"
   ]
  },
  {
   "cell_type": "code",
   "execution_count": 6,
   "metadata": {},
   "outputs": [
    {
     "name": "stdout",
     "output_type": "stream",
     "text": [
      "0.5476267337799072\n"
     ]
    }
   ],
   "source": [
    "t0 = time()\n",
    "parallel_sum(np.random.rand(10000, 1000))\n",
    "print(time() - t0)"
   ]
  }
 ],
 "metadata": {
  "kernelspec": {
   "display_name": "spikinterf0_100_5",
   "language": "python",
   "name": "python3"
  },
  "language_info": {
   "codemirror_mode": {
    "name": "ipython",
    "version": 3
   },
   "file_extension": ".py",
   "mimetype": "text/x-python",
   "name": "python",
   "nbconvert_exporter": "python",
   "pygments_lexer": "ipython3",
   "version": "3.9.7"
  }
 },
 "nbformat": 4,
 "nbformat_minor": 2
}
