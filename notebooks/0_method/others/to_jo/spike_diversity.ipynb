{
 "cells": [
  {
   "cell_type": "markdown",
   "metadata": {},
   "source": [
    "# Spike diversity"
   ]
  },
  {
   "cell_type": "code",
   "execution_count": null,
   "metadata": {},
   "outputs": [],
   "source": [
    "# SETUP PACKAGES \n",
    "%load_ext autoreload\n",
    "%autoreload 2\n",
    "import os\n",
    "import numpy as np\n",
    "\n",
    "# SET PROJECT PATH\n",
    "PROJ_PATH = \"/gpfs/bbp.cscs.ch/project/proj85/home/laquitai/preprint_2023\"\n",
    "os.chdir(PROJ_PATH)\n",
    "from src.nodes.utils import get_config\n",
    "import spikeinterface as si \n",
    "\n",
    "# SILICO MARQUES\n",
    "data_conf_marques, _ = get_config(\"silico_neuropixels\", \"2023_10_18\").values()\n",
    "GT_SORTING_PATH_marques = data_conf_marques[\"sorting\"][\"simulation\"][\"ground_truth\"][\"output\"]"
   ]
  },
  {
   "cell_type": "code",
   "execution_count": null,
   "metadata": {},
   "outputs": [],
   "source": [
    "# simulation campaign to analyse\n",
    "simulation_campaign = \"/gpfs/bbp.cscs.ch/project/proj85/scratch/laquitai/raw/neuropixels_lfp_10m_384ch_hex0_40Khz_2023_10_18/be011315-9555-493e-a59c-27f42d1058ed/\"\n",
    "\n",
    "# list of unit ids within 50 microns\n",
    "TrueSorting = si.load_extractor(GT_SORTING_PATH_marques)\n",
    "np.save(\n",
    "    \"/gpfs/bbp.cscs.ch/project/proj85/scratch/laquitai/4_preprint_2023/0_silico/neuropixels/concatenated_campaigns/preprocessed/ground_truth/unit_ids.npy\",\n",
    "    TrueSorting.unit_ids,\n",
    ")"
   ]
  }
 ],
 "metadata": {
  "language_info": {
   "name": "python"
  }
 },
 "nbformat": 4,
 "nbformat_minor": 2
}
