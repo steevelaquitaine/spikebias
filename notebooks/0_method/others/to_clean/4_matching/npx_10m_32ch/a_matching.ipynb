{
 "cells": [
  {
   "attachments": {},
   "cell_type": "markdown",
   "metadata": {},
   "source": [
    "# Match ground truth to sorted units"
   ]
  },
  {
   "attachments": {},
   "cell_type": "markdown",
   "metadata": {},
   "source": [
    "Setup python environment `env_kilosort_silico`\n",
    "\n",
    "see related pipeline \"match_sorted_to_true_neuropixels_2023_02_19.py\""
   ]
  },
  {
   "cell_type": "code",
   "execution_count": 1,
   "metadata": {},
   "outputs": [],
   "source": [
    "import logging\n",
    "import logging.config\n",
    "import os\n",
    "from time import time\n",
    "\n",
    "import numpy as np\n",
    "import pandas as pd\n",
    "import spikeinterface as si\n",
    "import yaml\n",
    "from spikeinterface import comparison\n",
    "\n",
    "# SET PROJECT PATH\n",
    "PROJ_PATH = \"/gpfs/bbp.cscs.ch/project/proj68/home/laquitai/spike-sorting\"\n",
    "os.chdir(PROJ_PATH)\n",
    "\n",
    "# import custom package\n",
    "from src.nodes.utils import get_config_silico_neuropixels\n",
    "\n",
    "# SETUP RUN CONFIG\n",
    "SIMULATION_DATE = \"2023_02_19\"\n",
    "WRITE = True\n",
    "\n",
    "# setup logging\n",
    "with open(\"conf/logging.yml\", \"r\", encoding=\"utf-8\") as logging_conf:\n",
    "    LOG_CONF = yaml.load(logging_conf, Loader=yaml.FullLoader)\n",
    "logging.config.dictConfig(LOG_CONF)\n",
    "logger = logging.getLogger(\"root\")\n",
    "\n",
    "# get config\n",
    "data_conf, param_conf = get_config_silico_neuropixels(SIMULATION_DATE).values()\n",
    "\n",
    "# SET PATHS\n",
    "# set Kilosort sorted spikes and cells path\n",
    "KS3_SORTING_PATH = data_conf[\"sorting\"][\"sorters\"][\"kilosort3\"][\"output\"]\n",
    "\n",
    "# set ground truth spikes and cells path\n",
    "GT_SORTING_PATH = data_conf[\"sorting\"][\"simulation\"][\"ground_truth\"][\"output\"]\n",
    "\n",
    "# set ground truth spikes and cells path\n",
    "CELL_MATCHING_PATH = data_conf[\"postprocessing\"][\"cell_matching\"]"
   ]
  },
  {
   "attachments": {},
   "cell_type": "markdown",
   "metadata": {},
   "source": [
    "## Get spikeinterface comparison object"
   ]
  },
  {
   "cell_type": "code",
   "execution_count": 2,
   "metadata": {},
   "outputs": [],
   "source": [
    "# load Kilosort3 Sorted spikes and cells\n",
    "SortingExtractorKS3 = si.load_extractor(KS3_SORTING_PATH)\n",
    "\n",
    "# load ground truth spikes and cells\n",
    "GTSortingExtractor = si.load_extractor(GT_SORTING_PATH)\n",
    "\n",
    "# agreement score between sorted and true cells\n",
    "MatchingObject = comparison.compare_sorter_to_ground_truth(\n",
    "    GTSortingExtractor, SortingExtractorKS3, exhaustive_gt=True\n",
    ")"
   ]
  },
  {
   "attachments": {},
   "cell_type": "markdown",
   "metadata": {},
   "source": [
    "## Get true unit's sorted match via \"Hungarian Method\""
   ]
  },
  {
   "cell_type": "code",
   "execution_count": 3,
   "metadata": {},
   "outputs": [],
   "source": [
    "# get true cell best matches based on max accuracy (Hungarian Method)\n",
    "cell_matching = MatchingObject.agreement_scores.idxmax().to_frame()"
   ]
  },
  {
   "cell_type": "code",
   "execution_count": 19,
   "metadata": {},
   "outputs": [
    {
     "data": {
      "text/plain": [
       "0      1981516\n",
       "1      3427256\n",
       "2      2145865\n",
       "3      1931679\n",
       "4      1816718\n",
       "        ...   \n",
       "298     499827\n",
       "299     281388\n",
       "300     141668\n",
       "301     394076\n",
       "302     355657\n",
       "Length: 303, dtype: int64"
      ]
     },
     "execution_count": 19,
     "metadata": {},
     "output_type": "execute_result"
    }
   ],
   "source": [
    "MatchingObject.agreement_scores.idxmax()"
   ]
  },
  {
   "attachments": {},
   "cell_type": "markdown",
   "metadata": {},
   "source": [
    "TODO: Why doesn' 165135 have any match, while my analysis show some of its spikes were detected? Check its agreement scores with sorted cells"
   ]
  },
  {
   "cell_type": "code",
   "execution_count": 4,
   "metadata": {},
   "outputs": [
    {
     "data": {
      "text/plain": [
       "False"
      ]
     },
     "execution_count": 4,
     "metadata": {},
     "output_type": "execute_result"
    }
   ],
   "source": [
    "any(cell_matching==165135)"
   ]
  },
  {
   "attachments": {},
   "cell_type": "markdown",
   "metadata": {},
   "source": [
    "Why doesn't the Hungarian methid find a match while it has non-null agreement scores with many sorted units. Somethin's wrong with the \"Hungarian Method\"....!!\n",
    "\n",
    "- issue found ! : \"Hit score near chance levels are set to zero\" https://spikeinterface.readthedocs.io/en/0.96.1/module_comparison.html#more-information-about-hungarian-or-best-match-methods"
   ]
  },
  {
   "cell_type": "code",
   "execution_count": 8,
   "metadata": {},
   "outputs": [
    {
     "data": {
      "text/plain": [
       "14     0.001401\n",
       "16     0.001908\n",
       "38     0.000417\n",
       "54     0.003448\n",
       "96     0.001650\n",
       "115    0.000552\n",
       "197    0.000956\n",
       "204    0.002611\n",
       "274    0.001190\n",
       "295    0.002632\n",
       "Name: 165135, dtype: float64"
      ]
     },
     "execution_count": 8,
     "metadata": {},
     "output_type": "execute_result"
    }
   ],
   "source": [
    "# sorted units that match the test true unit\n",
    "agreement_scores_165135 = MatchingObject.agreement_scores.loc[165135]\n",
    "agreement_scores_165135[agreement_scores_165135!=0]"
   ]
  },
  {
   "cell_type": "code",
   "execution_count": 3,
   "metadata": {},
   "outputs": [
    {
     "name": "stdout",
     "output_type": "stream",
     "text": [
      "2023-05-26 15:15:23,148 - root - 3666794839.py - <module> - INFO - loading kilosort3 Sorting Extractor\n",
      "2023-05-26 15:15:23,166 - root - 3666794839.py - <module> - INFO - loading kilosort3 Sorting Extractor - done: 0.0\n",
      "2023-05-26 15:15:23,167 - root - 3666794839.py - <module> - INFO - loading Ground truth Sorting Extractor\n",
      "2023-05-26 15:15:23,177 - root - 3666794839.py - <module> - INFO - loading Ground truth Sorting Extractor - done: 0.0\n",
      "2023-05-26 15:15:40,504 - root - 3666794839.py - <module> - INFO - Detecting true cell oversplit - done\n",
      "2023-05-26 15:15:40,511 - root - 3666794839.py - <module> - INFO - Detecting true cell misses - done\n"
     ]
    },
    {
     "name": "stderr",
     "output_type": "stream",
     "text": [
      "/tmp/ipykernel_17037/3666794839.py:38: SettingWithCopyWarning: \n",
      "A value is trying to be set on a copy of a slice from a DataFrame\n",
      "\n",
      "See the caveats in the documentation: https://pandas.pydata.org/pandas-docs/stable/user_guide/indexing.html#returning-a-view-versus-a-copy\n",
      "  cell_matching[\"oversplit_true_cell\"].iloc[oversplit.index] = True\n"
     ]
    }
   ],
   "source": [
    "# get true cell best matches based on max accuracy (Hungarian Method)\n",
    "cell_matching = MatchingObject.agreement_scores.idxmax().to_frame()\n",
    "cell_matching.columns = [\"true_cell_match\"]\n",
    "cell_matching.index.name = \"sorted_cell\"\n",
    "cell_matching = cell_matching.reset_index()\n",
    "\n",
    "# DETECT SORTING ERRORS:\n",
    "# ---------------------\n",
    "\n",
    "# detect cases of \"oversplit\": when a true cell is matched with many sorted cells\n",
    "cell_matching[\"oversplit_true_cell\"] = False\n",
    "oversplit = cell_matching[\n",
    "    cell_matching[\"true_cell_match\"].duplicated(keep=False)\n",
    "]\n",
    "cell_matching[\"oversplit_true_cell\"].iloc[oversplit.index] = True\n",
    "logger.info(\"Detecting true cell oversplit - done\")\n",
    "\n",
    "# detect cases of \"cell misses\": when a true cell is not matched with any sorted cell\n",
    "true_cells = MatchingObject.agreement_scores.index\n",
    "matched_true_cells = np.unique(cell_matching[\"true_cell_match\"])\n",
    "missed_true_cells = set(true_cells) - set(matched_true_cells)\n",
    "missed_true_cells = pd.DataFrame(\n",
    "    tuple(missed_true_cells), columns=[\"true_cell_match\"]\n",
    ")\n",
    "# record missed cells into dataset\n",
    "if not len(missed_true_cells) == 0:\n",
    "    cell_matching = cell_matching.merge(\n",
    "        missed_true_cells, on=\"true_cell_match\", how=\"outer\"\n",
    "    )\n",
    "    logger.info(\"Detecting true cell misses - done\")\n",
    "\n",
    "# Add agreement scores\n",
    "# --------------------\n",
    "# add max agreement score to dataframe\n",
    "sorted_cells = cell_matching[\"sorted_cell\"].dropna().astype(\"int\")\n",
    "max_agreement_scores = []\n",
    "\n",
    "# get the agreement scores of the matched sorted-true pairs\n",
    "for s_i in sorted_cells:\n",
    "    max_agreement_scores.append(\n",
    "        MatchingObject.agreement_scores.loc[\n",
    "            cell_matching[\"true_cell_match\"][s_i], s_i\n",
    "        ]\n",
    "    )\n",
    "\n",
    "# add agreement scores to dataset\n",
    "max_agreement_scores = pd.DataFrame(\n",
    "    max_agreement_scores, columns=[\"agreement_score\"]\n",
    ")\n",
    "cell_matching = cell_matching.join(max_agreement_scores, how=\"outer\")\n",
    "\n",
    "# write to .parquet\n",
    "if WRITE;\n",
    "    parent_path = os.path.dirname(CELL_MATCHING_PATH)\n",
    "    if not os.path.isdir(parent_path):\n",
    "        os.makedirs(parent_path)\n",
    "    cell_matching.to_parquet(CELL_MATCHING_PATH)"
   ]
  },
  {
   "cell_type": "code",
   "execution_count": 6,
   "metadata": {},
   "outputs": [
    {
     "data": {
      "text/html": [
       "<div>\n",
       "<style scoped>\n",
       "    .dataframe tbody tr th:only-of-type {\n",
       "        vertical-align: middle;\n",
       "    }\n",
       "\n",
       "    .dataframe tbody tr th {\n",
       "        vertical-align: top;\n",
       "    }\n",
       "\n",
       "    .dataframe thead th {\n",
       "        text-align: right;\n",
       "    }\n",
       "</style>\n",
       "<table border=\"1\" class=\"dataframe\">\n",
       "  <thead>\n",
       "    <tr style=\"text-align: right;\">\n",
       "      <th></th>\n",
       "      <th>sorted_cell</th>\n",
       "      <th>true_cell_match</th>\n",
       "      <th>oversplit_true_cell</th>\n",
       "      <th>agreement_score</th>\n",
       "    </tr>\n",
       "  </thead>\n",
       "  <tbody>\n",
       "    <tr>\n",
       "      <th>517</th>\n",
       "      <td>NaN</td>\n",
       "      <td>165135</td>\n",
       "      <td>NaN</td>\n",
       "      <td>NaN</td>\n",
       "    </tr>\n",
       "  </tbody>\n",
       "</table>\n",
       "</div>"
      ],
      "text/plain": [
       "     sorted_cell  true_cell_match oversplit_true_cell  agreement_score\n",
       "517          NaN           165135                 NaN              NaN"
      ]
     },
     "execution_count": 6,
     "metadata": {},
     "output_type": "execute_result"
    }
   ],
   "source": [
    "cell_matching[cell_matching[\"true_cell_match\"]==165135]"
   ]
  }
 ],
 "metadata": {
  "kernelspec": {
   "display_name": "env_kilosort_silico",
   "language": "python",
   "name": "python3"
  },
  "language_info": {
   "codemirror_mode": {
    "name": "ipython",
    "version": 3
   },
   "file_extension": ".py",
   "mimetype": "text/x-python",
   "name": "python",
   "nbconvert_exporter": "python",
   "pygments_lexer": "ipython3",
   "version": "3.9.7"
  },
  "orig_nbformat": 4
 },
 "nbformat": 4,
 "nbformat_minor": 2
}
