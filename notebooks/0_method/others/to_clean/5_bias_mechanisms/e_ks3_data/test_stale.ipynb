{
 "cells": [
  {
   "cell_type": "code",
   "execution_count": 1,
   "metadata": {},
   "outputs": [
    {
     "name": "stdout",
     "output_type": "stream",
     "text": [
      "RUNNING SHELL SCRIPT: /tmp/tmp_shellscript_oowd2w_/script.sh\n",
      "RUNNING SHELL SCRIPT: /tmp/tmp_shellscriptgy2rukcj/script.sh\n",
      "RUNNING SHELL SCRIPT: /tmp/tmp_shellscript48snqrb0/script.sh\n",
      "RUNNING SHELL SCRIPT: /tmp/tmp_shellscript85aqkz6n/script.sh\n",
      "RUNNING SHELL SCRIPT: /tmp/tmp_shellscriptt6j7e0ib/script.sh\n",
      "RUNNING SHELL SCRIPT: /tmp/tmp_shellscript6ynzelu3/script.sh\n",
      "RUNNING SHELL SCRIPT: /tmp/tmp_shellscriptjf8wz7jn/script.sh\n",
      "RUNNING SHELL SCRIPT: /tmp/tmp_shellscriptwc7yezr2/script.sh\n",
      "RUNNING SHELL SCRIPT: /tmp/tmp_shellscript_314qrcc/script.sh\n",
      "RUNNING SHELL SCRIPT: /tmp/tmp_shellscriptgut709ws/script.sh\n",
      "RUNNING SHELL SCRIPT: /tmp/tmp_shellscriptaee28s7p/script.sh\n",
      "RUNNING SHELL SCRIPT: /tmp/tmp_shellscriptu9yb5a_3/script.sh\n",
      "RUNNING SHELL SCRIPT: /tmp/tmp_shellscriptjst73czk/script.sh\n",
      "RUNNING SHELL SCRIPT: /tmp/tmp_shellscripta_owgb5w/script.sh\n",
      "RUNNING SHELL SCRIPT: /tmp/tmp_shellscriptt9lu4ywr/script.sh\n",
      "RUNNING SHELL SCRIPT: /tmp/tmp_shellscriptcspwnogb/script.sh\n",
      "spykingcircus2: 2.0\n",
      "tridesclous2: 2.0\n"
     ]
    }
   ],
   "source": [
    "import os\n",
    "\n",
    "# Matlab sorter paths:\n",
    "# change these to match your environment\n",
    "os.environ[\"IRONCLUST_PATH\"] = \"/gpfs/bbp.cscs.ch/project/proj68/home/laquitai/spike-sorting/sorters_package/ironclust/\"\n",
    "os.environ[\"HDSORT_PATH\"] = \"/gpfs/bbp.cscs.ch/project/proj68/home/laquitai/spike-sorting/sorters_package/HDsort/\"\n",
    "os.environ[\"KILOSORT2_PATH\"] = \"/gpfs/bbp.cscs.ch/project/proj68/home/laquitai/spike-sorting/sorters_package/Kilosort/\"\n",
    "\n",
    "import matplotlib.pyplot as plt\n",
    "import numpy as np\n",
    "from pathlib import Path\n",
    "import pandas as pd\n",
    "import seaborn as sns\n",
    "from collections import defaultdict\n",
    "from matplotlib_venn import venn3\n",
    "\n",
    "import spikeinterface as si\n",
    "import spikeinterface.full as si_full\n",
    "import spikeinterface.extractors as se\n",
    "# import spiketoolkit as st\n",
    "import spikeinterface.sorters as ss\n",
    "import spikeinterface.comparison as sc\n",
    "from spikeinterface.comparison import GroundTruthStudy\n",
    "import spikeinterface.widgets as sw\n",
    "\n",
    "%matplotlib inline\n",
    "\n",
    "def clear_axes(ax):\n",
    "    ax.spines['top'].set_visible(False)\n",
    "    ax.spines['right'].set_visible(False)\n",
    "\n",
    "# print version information\n",
    "# si.print_spikeinterface_version()\n",
    "si.sorters.installed_sorters()\n",
    "si.sorters.print_sorter_versions()\n",
    "\n",
    "MS_BEFORE = 3\n",
    "MS_AFTER = 3"
   ]
  },
  {
   "cell_type": "code",
   "execution_count": 6,
   "metadata": {},
   "outputs": [
    {
     "name": "stdout",
     "output_type": "stream",
     "text": [
      "RUNNING SHELL SCRIPT: /tmp/tmp_shellscriptxl2nwi_7/script.sh\n"
     ]
    },
    {
     "ename": "Exception",
     "evalue": "The sorter kilosort2 is not installed.Please install it with:  \n\nTo use Kilosort2 run:\n\n        >>> git clone https://github.com/MouseLand/Kilosort2\n    and provide the installation path by setting the KILOSORT2_PATH\n    environment variables or using Kilosort2Sorter.set_kilosort2_path().\n\n\n\n    More information on Kilosort2 at:\n        https://github.com/MouseLand/Kilosort2\n     ",
     "output_type": "error",
     "traceback": [
      "\u001b[0;31m---------------------------------------------------------------------------\u001b[0m",
      "\u001b[0;31mException\u001b[0m                                 Traceback (most recent call last)",
      "Cell \u001b[0;32mIn[6], line 26\u001b[0m\n\u001b[1;32m     23\u001b[0m sorter_names \u001b[39m=\u001b[39m [\u001b[39m'\u001b[39m\u001b[39mKilosort2\u001b[39m\u001b[39m'\u001b[39m]\n\u001b[1;32m     24\u001b[0m sorter_names_short \u001b[39m=\u001b[39m [\u001b[39m'\u001b[39m\u001b[39mKS\u001b[39m\u001b[39m'\u001b[39m]\n\u001b[0;32m---> 26\u001b[0m study\u001b[39m.\u001b[39;49mrun_sorters(sorter_list, mode_if_folder_exists\u001b[39m=\u001b[39;49m\u001b[39m'\u001b[39;49m\u001b[39mkeep\u001b[39;49m\u001b[39m'\u001b[39;49m, remove_sorter_folders\u001b[39m=\u001b[39;49m\u001b[39mFalse\u001b[39;49;00m, engine\u001b[39m=\u001b[39;49m\u001b[39m'\u001b[39;49m\u001b[39mloop\u001b[39;49m\u001b[39m'\u001b[39;49m, verbose\u001b[39m=\u001b[39;49m\u001b[39mTrue\u001b[39;49;00m)\n\u001b[1;32m     27\u001b[0m study\u001b[39m.\u001b[39mcopy_sortings()\n",
      "File \u001b[0;32m/gpfs/bbp.cscs.ch/project/proj68/home/laquitai/spike-sorting/buccino_env/lib/python3.9/site-packages/spikeinterface/comparison/groundtruthstudy.py:60\u001b[0m, in \u001b[0;36mGroundTruthStudy.run_sorters\u001b[0;34m(self, sorter_list, mode_if_folder_exists, remove_sorter_folders, **kwargs)\u001b[0m\n\u001b[1;32m     57\u001b[0m sorter_folders \u001b[39m=\u001b[39m \u001b[39mself\u001b[39m\u001b[39m.\u001b[39mstudy_folder \u001b[39m/\u001b[39m \u001b[39m'\u001b[39m\u001b[39msorter_folders\u001b[39m\u001b[39m'\u001b[39m\n\u001b[1;32m     58\u001b[0m recording_dict \u001b[39m=\u001b[39m get_recordings(\u001b[39mself\u001b[39m\u001b[39m.\u001b[39mstudy_folder)\n\u001b[0;32m---> 60\u001b[0m run_sorters(sorter_list, recording_dict, sorter_folders,\n\u001b[1;32m     61\u001b[0m             with_output\u001b[39m=\u001b[39;49m\u001b[39mFalse\u001b[39;49;00m, mode_if_folder_exists\u001b[39m=\u001b[39;49mmode_if_folder_exists, \u001b[39m*\u001b[39;49m\u001b[39m*\u001b[39;49mkwargs)\n\u001b[1;32m     63\u001b[0m \u001b[39m# results are copied so the heavy sorter_folders can be removed\u001b[39;00m\n\u001b[1;32m     64\u001b[0m \u001b[39mself\u001b[39m\u001b[39m.\u001b[39mcopy_sortings()\n",
      "File \u001b[0;32m/gpfs/bbp.cscs.ch/project/proj68/home/laquitai/spike-sorting/buccino_env/lib/python3.9/site-packages/spikeinterface/sorters/launcher.py:321\u001b[0m, in \u001b[0;36mrun_sorters\u001b[0;34m(sorter_list, recording_dict_or_list, working_folder, sorter_params, mode_if_folder_exists, engine, engine_kwargs, verbose, with_output, docker_images, singularity_images)\u001b[0m\n\u001b[1;32m    318\u001b[0m \u001b[39mif\u001b[39;00m engine \u001b[39m==\u001b[39m \u001b[39m\"\u001b[39m\u001b[39mloop\u001b[39m\u001b[39m\"\u001b[39m:\n\u001b[1;32m    319\u001b[0m     \u001b[39m# simple loop in main process\u001b[39;00m\n\u001b[1;32m    320\u001b[0m     \u001b[39mfor\u001b[39;00m task_args \u001b[39min\u001b[39;00m task_args_list:\n\u001b[0;32m--> 321\u001b[0m         _run_one(task_args)\n\u001b[1;32m    323\u001b[0m \u001b[39melif\u001b[39;00m engine \u001b[39m==\u001b[39m \u001b[39m\"\u001b[39m\u001b[39mjoblib\u001b[39m\u001b[39m\"\u001b[39m:\n\u001b[1;32m    324\u001b[0m     \u001b[39mfrom\u001b[39;00m \u001b[39mjoblib\u001b[39;00m \u001b[39mimport\u001b[39;00m Parallel, delayed\n",
      "File \u001b[0;32m/gpfs/bbp.cscs.ch/project/proj68/home/laquitai/spike-sorting/buccino_env/lib/python3.9/site-packages/spikeinterface/sorters/launcher.py:46\u001b[0m, in \u001b[0;36m_run_one\u001b[0;34m(arg_list)\u001b[0m\n\u001b[1;32m     43\u001b[0m \u001b[39m# because we won't want the loop/worker to break\u001b[39;00m\n\u001b[1;32m     44\u001b[0m raise_error \u001b[39m=\u001b[39m \u001b[39mFalse\u001b[39;00m\n\u001b[0;32m---> 46\u001b[0m run_sorter(\n\u001b[1;32m     47\u001b[0m     sorter_name,\n\u001b[1;32m     48\u001b[0m     recording,\n\u001b[1;32m     49\u001b[0m     output_folder\u001b[39m=\u001b[39;49moutput_folder,\n\u001b[1;32m     50\u001b[0m     remove_existing_folder\u001b[39m=\u001b[39;49mremove_existing_folder,\n\u001b[1;32m     51\u001b[0m     delete_output_folder\u001b[39m=\u001b[39;49mdelete_output_folder,\n\u001b[1;32m     52\u001b[0m     verbose\u001b[39m=\u001b[39;49mverbose,\n\u001b[1;32m     53\u001b[0m     raise_error\u001b[39m=\u001b[39;49mraise_error,\n\u001b[1;32m     54\u001b[0m     docker_image\u001b[39m=\u001b[39;49mdocker_image,\n\u001b[1;32m     55\u001b[0m     singularity_image\u001b[39m=\u001b[39;49msingularity_image,\n\u001b[1;32m     56\u001b[0m     with_output\u001b[39m=\u001b[39;49mwith_output,\n\u001b[1;32m     57\u001b[0m     \u001b[39m*\u001b[39;49m\u001b[39m*\u001b[39;49msorter_params,\n\u001b[1;32m     58\u001b[0m )\n",
      "File \u001b[0;32m/gpfs/bbp.cscs.ch/project/proj68/home/laquitai/spike-sorting/buccino_env/lib/python3.9/site-packages/spikeinterface/sorters/runsorter.py:143\u001b[0m, in \u001b[0;36mrun_sorter\u001b[0;34m(sorter_name, recording, output_folder, remove_existing_folder, delete_output_folder, verbose, raise_error, docker_image, singularity_image, with_output, **sorter_params)\u001b[0m\n\u001b[1;32m    136\u001b[0m             container_image \u001b[39m=\u001b[39m singularity_image\n\u001b[1;32m    137\u001b[0m     \u001b[39mreturn\u001b[39;00m run_sorter_container(\n\u001b[1;32m    138\u001b[0m         container_image\u001b[39m=\u001b[39mcontainer_image,\n\u001b[1;32m    139\u001b[0m         mode\u001b[39m=\u001b[39mmode,\n\u001b[1;32m    140\u001b[0m         \u001b[39m*\u001b[39m\u001b[39m*\u001b[39mcommon_kwargs,\n\u001b[1;32m    141\u001b[0m     )\n\u001b[0;32m--> 143\u001b[0m \u001b[39mreturn\u001b[39;00m run_sorter_local(\u001b[39m*\u001b[39;49m\u001b[39m*\u001b[39;49mcommon_kwargs)\n",
      "File \u001b[0;32m/gpfs/bbp.cscs.ch/project/proj68/home/laquitai/spike-sorting/buccino_env/lib/python3.9/site-packages/spikeinterface/sorters/runsorter.py:158\u001b[0m, in \u001b[0;36mrun_sorter_local\u001b[0;34m(sorter_name, recording, output_folder, remove_existing_folder, delete_output_folder, verbose, raise_error, with_output, **sorter_params)\u001b[0m\n\u001b[1;32m    155\u001b[0m SorterClass \u001b[39m=\u001b[39m sorter_dict[sorter_name]\n\u001b[1;32m    157\u001b[0m \u001b[39m# only classmethod call not instance (stateless at instance level but state is in folder)\u001b[39;00m\n\u001b[0;32m--> 158\u001b[0m output_folder \u001b[39m=\u001b[39m SorterClass\u001b[39m.\u001b[39;49minitialize_folder(\n\u001b[1;32m    159\u001b[0m     recording, output_folder, verbose, remove_existing_folder)\n\u001b[1;32m    160\u001b[0m SorterClass\u001b[39m.\u001b[39mset_params_to_folder(\n\u001b[1;32m    161\u001b[0m     recording, output_folder, sorter_params, verbose)\n\u001b[1;32m    162\u001b[0m SorterClass\u001b[39m.\u001b[39msetup_recording(recording, output_folder, verbose\u001b[39m=\u001b[39mverbose)\n",
      "File \u001b[0;32m/gpfs/bbp.cscs.ch/project/proj68/home/laquitai/spike-sorting/buccino_env/lib/python3.9/site-packages/spikeinterface/sorters/basesorter.py:102\u001b[0m, in \u001b[0;36mBaseSorter.initialize_folder\u001b[0;34m(cls, recording, output_folder, verbose, remove_existing_folder)\u001b[0m\n\u001b[1;32m     97\u001b[0m \u001b[39m@classmethod\u001b[39m\n\u001b[1;32m     98\u001b[0m \u001b[39mdef\u001b[39;00m \u001b[39minitialize_folder\u001b[39m(\u001b[39mcls\u001b[39m, recording, output_folder, verbose, remove_existing_folder):\n\u001b[1;32m     99\u001b[0m \n\u001b[1;32m    100\u001b[0m     \u001b[39m# installed ?\u001b[39;00m\n\u001b[1;32m    101\u001b[0m     \u001b[39mif\u001b[39;00m \u001b[39mnot\u001b[39;00m \u001b[39mcls\u001b[39m\u001b[39m.\u001b[39mis_installed():\n\u001b[0;32m--> 102\u001b[0m         \u001b[39mraise\u001b[39;00m \u001b[39mException\u001b[39;00m(\u001b[39mf\u001b[39m\u001b[39m\"\u001b[39m\u001b[39mThe sorter \u001b[39m\u001b[39m{\u001b[39;00m\u001b[39mcls\u001b[39m\u001b[39m.\u001b[39msorter_name\u001b[39m}\u001b[39;00m\u001b[39m is not installed.\u001b[39m\u001b[39m\"\u001b[39m\n\u001b[1;32m    103\u001b[0m                         \u001b[39mf\u001b[39m\u001b[39m\"\u001b[39m\u001b[39mPlease install it with:  \u001b[39m\u001b[39m\\n\u001b[39;00m\u001b[39m{\u001b[39;00m\u001b[39mcls\u001b[39m\u001b[39m.\u001b[39minstallation_mesg\u001b[39m}\u001b[39;00m\u001b[39m \u001b[39m\u001b[39m\"\u001b[39m)\n\u001b[1;32m    105\u001b[0m     \u001b[39mif\u001b[39;00m \u001b[39mnot\u001b[39;00m \u001b[39misinstance\u001b[39m(recording, BaseRecordingSnippets):\n\u001b[1;32m    106\u001b[0m         \u001b[39mraise\u001b[39;00m \u001b[39mValueError\u001b[39;00m(\u001b[39m'\u001b[39m\u001b[39mrecording must be a Recording or Snippets!!\u001b[39m\u001b[39m'\u001b[39m)\n",
      "\u001b[0;31mException\u001b[0m: The sorter kilosort2 is not installed.Please install it with:  \n\nTo use Kilosort2 run:\n\n        >>> git clone https://github.com/MouseLand/Kilosort2\n    and provide the installation path by setting the KILOSORT2_PATH\n    environment variables or using Kilosort2Sorter.set_kilosort2_path().\n\n\n\n    More information on Kilosort2 at:\n        https://github.com/MouseLand/Kilosort2\n     "
     ]
    }
   ],
   "source": [
    "# WARNING !! (takes 50ish min the first time !)\n",
    "study_path = Path('/gpfs/bbp.cscs.ch/project/proj68/scratch/laquitai/raw/')\n",
    "data_path = Path('/gpfs/bbp.cscs.ch/project/proj68/scratch/laquitai/raw/')\n",
    "study_folder = study_path / 'study_mearec_250cells_Neuropixels-384chans_duration600s_noise10uV_2020-02-28/'\n",
    "\n",
    "si.load_extractor()\n",
    "\n",
    "\n",
    "# compute or load SNR for the ground truth units\n",
    "snr_file = study_folder / 'snr.npy'\n",
    "if os.path.isfile(snr_file):\n",
    "    snr = np.load(snr_file, allow_pickle=True)\n",
    "else:\n",
    "    print('computing snr')\n",
    "    # note this is quite slow for a NWB file as the data is arranged as channels:time\n",
    "    # it is faster to first write out a binary file in time:channels order\n",
    "    # snr = st.validation.compute_snrs(SX_gt, RX, apply_filter=False, verbose=False, \n",
    "                                    #  memmap=True, max_spikes_per_unit_for_snr=500)\n",
    "    snr = si.qualitymetrics.misc_metrics.compute_snrs(WaveformExtractor)\n",
    "    np.save(snr_file, snr)"
   ]
  },
  {
   "cell_type": "code",
   "execution_count": null,
   "metadata": {},
   "outputs": [],
   "source": [
    "\n",
    "\n"
   ]
  }
 ],
 "metadata": {
  "kernelspec": {
   "display_name": "env_silico",
   "language": "python",
   "name": "python3"
  },
  "language_info": {
   "codemirror_mode": {
    "name": "ipython",
    "version": 3
   },
   "file_extension": ".py",
   "mimetype": "text/x-python",
   "name": "python",
   "nbconvert_exporter": "python",
   "pygments_lexer": "ipython3",
   "version": "3.9.7 (default, Jan 10 2022, 21:17:49) \n[GCC 11.2.0]"
  },
  "orig_nbformat": 4,
  "vscode": {
   "interpreter": {
    "hash": "b73fd26bae2910668a6be88f948a34bfaf2ecd970df62c41a60ee29bb0e725b3"
   }
  }
 },
 "nbformat": 4,
 "nbformat_minor": 2
}
