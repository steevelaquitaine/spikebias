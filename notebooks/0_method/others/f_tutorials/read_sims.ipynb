{
 "cells": [
  {
   "cell_type": "markdown",
   "metadata": {},
   "source": [
    "Activate npx ..."
   ]
  },
  {
   "cell_type": "code",
   "execution_count": 1,
   "metadata": {},
   "outputs": [],
   "source": [
    "import bluepy as bp\n",
    "\n",
    "simulation = bp.Simulation(\"/gpfs/bbp.cscs.ch/project/proj85/scratch/laquitai/raw/silico_horvath_probe1_lfp_10m_128ch_hex0_rou04_pfr03_20Khz_2023_10_28/990e5634-412f-4f84-ae65-dc364ae590c3/0/BlueConfig\")"
   ]
  },
  {
   "cell_type": "code",
   "execution_count": 8,
   "metadata": {},
   "outputs": [
    {
     "name": "stderr",
     "output_type": "stream",
     "text": [
      "Have keys ({'desired_connected_fr_L6E', 'desired_unconnected_fr_L23E', 'desired_unconnected_fr_L6E', 'desired_connected_fr_L1I', 'desired_unconnected_fr_L23I', 'desired_connected_fr_L6I', 'desired_unconnected_fr_L5I', 'desired_unconnected_fr_L5E', 'desired_unconnected_fr_L4E', 'LFPWeightsPath', 'desired_unconnected_fr_L6I', 'desired_connected_fr_L5E', 'desired_connected_fr_L5I', 'desired_connected_fr_L23I', 'desired_connected_fr_L23E', 'depol_stdev_mean_ratio', 'desired_connected_fr_L4E', 'desired_unconnected_fr_L4I', 'desired_connected_fr_L4I', 'desired_unconnected_fr_L1I', 'desired_connected_proportion_of_invivo_frs'}) that are not defined for section: Run\n"
     ]
    },
    {
     "data": {
      "text/plain": [
       "<bluepy.simulation.Simulation at 0x7fff48bd7460>"
      ]
     },
     "execution_count": 8,
     "metadata": {},
     "output_type": "execute_result"
    }
   ],
   "source": [
    "circuit = simulation.circuit"
   ]
  },
  {
   "cell_type": "code",
   "execution_count": 12,
   "metadata": {},
   "outputs": [],
   "source": [
    "soma_location = circuit.cells.get(\n",
    "    {\"$target\": \"hex_O1\"}, properties=[bp.Cell.X, bp.Cell.Y, bp.Cell.Z]\n",
    ")"
   ]
  },
  {
   "cell_type": "code",
   "execution_count": 13,
   "metadata": {},
   "outputs": [
    {
     "data": {
      "text/html": [
       "<div>\n",
       "<style scoped>\n",
       "    .dataframe tbody tr th:only-of-type {\n",
       "        vertical-align: middle;\n",
       "    }\n",
       "\n",
       "    .dataframe tbody tr th {\n",
       "        vertical-align: top;\n",
       "    }\n",
       "\n",
       "    .dataframe thead th {\n",
       "        text-align: right;\n",
       "    }\n",
       "</style>\n",
       "<table border=\"1\" class=\"dataframe\">\n",
       "  <thead>\n",
       "    <tr style=\"text-align: right;\">\n",
       "      <th></th>\n",
       "      <th>x</th>\n",
       "      <th>y</th>\n",
       "      <th>z</th>\n",
       "    </tr>\n",
       "  </thead>\n",
       "  <tbody>\n",
       "    <tr>\n",
       "      <th>23</th>\n",
       "      <td>4652.171846</td>\n",
       "      <td>-1930.525524</td>\n",
       "      <td>-1836.395782</td>\n",
       "    </tr>\n",
       "    <tr>\n",
       "      <th>102</th>\n",
       "      <td>4977.735899</td>\n",
       "      <td>-1641.041348</td>\n",
       "      <td>-2140.579908</td>\n",
       "    </tr>\n",
       "    <tr>\n",
       "      <th>119</th>\n",
       "      <td>5011.718764</td>\n",
       "      <td>-1565.779688</td>\n",
       "      <td>-2212.599874</td>\n",
       "    </tr>\n",
       "    <tr>\n",
       "      <th>159</th>\n",
       "      <td>4266.789018</td>\n",
       "      <td>-1804.711830</td>\n",
       "      <td>-1531.716011</td>\n",
       "    </tr>\n",
       "    <tr>\n",
       "      <th>220</th>\n",
       "      <td>4779.539653</td>\n",
       "      <td>-1259.558916</td>\n",
       "      <td>-1996.720501</td>\n",
       "    </tr>\n",
       "    <tr>\n",
       "      <th>...</th>\n",
       "      <td>...</td>\n",
       "      <td>...</td>\n",
       "      <td>...</td>\n",
       "    </tr>\n",
       "    <tr>\n",
       "      <th>4234780</th>\n",
       "      <td>4053.191307</td>\n",
       "      <td>-663.722760</td>\n",
       "      <td>-2140.027223</td>\n",
       "    </tr>\n",
       "    <tr>\n",
       "      <th>4234804</th>\n",
       "      <td>4002.636889</td>\n",
       "      <td>-1382.419711</td>\n",
       "      <td>-2641.743271</td>\n",
       "    </tr>\n",
       "    <tr>\n",
       "      <th>4234817</th>\n",
       "      <td>4228.866737</td>\n",
       "      <td>-909.053724</td>\n",
       "      <td>-2608.261691</td>\n",
       "    </tr>\n",
       "    <tr>\n",
       "      <th>4234850</th>\n",
       "      <td>3961.170919</td>\n",
       "      <td>-1813.695181</td>\n",
       "      <td>-2399.488534</td>\n",
       "    </tr>\n",
       "    <tr>\n",
       "      <th>4234897</th>\n",
       "      <td>3856.704544</td>\n",
       "      <td>-853.672616</td>\n",
       "      <td>-2301.961282</td>\n",
       "    </tr>\n",
       "  </tbody>\n",
       "</table>\n",
       "<p>211712 rows × 3 columns</p>\n",
       "</div>"
      ],
      "text/plain": [
       "                   x            y            z\n",
       "23       4652.171846 -1930.525524 -1836.395782\n",
       "102      4977.735899 -1641.041348 -2140.579908\n",
       "119      5011.718764 -1565.779688 -2212.599874\n",
       "159      4266.789018 -1804.711830 -1531.716011\n",
       "220      4779.539653 -1259.558916 -1996.720501\n",
       "...              ...          ...          ...\n",
       "4234780  4053.191307  -663.722760 -2140.027223\n",
       "4234804  4002.636889 -1382.419711 -2641.743271\n",
       "4234817  4228.866737  -909.053724 -2608.261691\n",
       "4234850  3961.170919 -1813.695181 -2399.488534\n",
       "4234897  3856.704544  -853.672616 -2301.961282\n",
       "\n",
       "[211712 rows x 3 columns]"
      ]
     },
     "execution_count": 13,
     "metadata": {},
     "output_type": "execute_result"
    }
   ],
   "source": [
    "soma_location"
   ]
  },
  {
   "cell_type": "code",
   "execution_count": null,
   "metadata": {},
   "outputs": [],
   "source": []
  }
 ],
 "metadata": {
  "kernelspec": {
   "display_name": "npx_10m_384ch_unit_classes",
   "language": "python",
   "name": "python3"
  },
  "language_info": {
   "codemirror_mode": {
    "name": "ipython",
    "version": 3
   },
   "file_extension": ".py",
   "mimetype": "text/x-python",
   "name": "python",
   "nbconvert_exporter": "python",
   "pygments_lexer": "ipython3",
   "version": "3.9.7"
  }
 },
 "nbformat": 4,
 "nbformat_minor": 2
}
