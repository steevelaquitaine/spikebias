{
 "cells": [
  {
   "cell_type": "markdown",
   "metadata": {},
   "source": [
    "# Silico Marques"
   ]
  },
  {
   "cell_type": "markdown",
   "metadata": {},
   "source": [
    "### Concatenate and process\n",
    "\n",
    "```bash\n",
    "sbatch cluster/processing/marques_silico/process_concat.sbatch\n",
    "````"
   ]
  },
  {
   "cell_type": "markdown",
   "metadata": {},
   "source": [
    "### Sorting"
   ]
  },
  {
   "cell_type": "markdown",
   "metadata": {},
   "source": [
    "```bash\n",
    "sbatch cluster/sorting/marques_silico/sort_ks3.sbatch\n",
    "sbatch cluster/sorting/marques_silico/sort_ks2_5.sbatch\n",
    "sbatch cluster/sorting/marques_silico/sort_ks2.sbatch\n",
    "sbatch cluster/sorting/marques_silico/sort_ks.sbatch\n",
    "sbatch cluster/sorting/marques_silico/sort_herdingspikes.sbatch\n",
    "```"
   ]
  }
 ],
 "metadata": {
  "language_info": {
   "name": "python"
  }
 },
 "nbformat": 4,
 "nbformat_minor": 2
}
