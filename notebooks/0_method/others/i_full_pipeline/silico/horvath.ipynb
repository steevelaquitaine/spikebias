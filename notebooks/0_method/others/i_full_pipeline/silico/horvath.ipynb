{
 "cells": [
  {
   "cell_type": "markdown",
   "metadata": {},
   "source": [
    "### Concatenate and process recordings (1 h each)\n",
    "\n",
    "```bash\n",
    "# concat. all sims and campaigns/experiments into a single recording\n",
    "# process probes\n",
    "sbatch cluster/processing/process_silico_concat_horvath_probe1.sbatch\n",
    "sbatch cluster/processing/process_silico_concat_horvath_probe2.sbatch\n",
    "sbatch cluster/processing/process_silico_concat_horvath_probe3.sbatch\n",
    "```"
   ]
  },
  {
   "cell_type": "markdown",
   "metadata": {},
   "source": [
    "### Sort (20 min each)"
   ]
  },
  {
   "cell_type": "markdown",
   "metadata": {},
   "source": [
    "```bash\n",
    "sbatch cluster/sorting/sort_concat_silico_horvath_1.sbatch\n",
    "sbatch cluster/sorting/sort_concat_silico_horvath_2.sbatch\n",
    "sbatch cluster/sorting/sort_concat_silico_horvath_3.sbatch\n",
    "```"
   ]
  },
  {
   "cell_type": "markdown",
   "metadata": {},
   "source": [
    "### Postprocess"
   ]
  },
  {
   "cell_type": "markdown",
   "metadata": {},
   "source": [
    "```bash\n",
    "sbatch cluster/sorting/sort_concat_silico_horvath_1.sbatch\n",
    "sbatch cluster/sorting/sort_concat_silico_horvath_2.sbatch\n",
    "sbatch cluster/sorting/sort_concat_silico_horvath_3.sbatch\n",
    "```"
   ]
  }
 ],
 "metadata": {
  "language_info": {
   "name": "python"
  }
 },
 "nbformat": 4,
 "nbformat_minor": 2
}
