{
 "cells": [
  {
   "cell_type": "markdown",
   "metadata": {},
   "source": [
    "# Study Welch meth."
   ]
  },
  {
   "cell_type": "markdown",
   "metadata": {},
   "source": [
    "### Setup"
   ]
  },
  {
   "cell_type": "code",
   "execution_count": 52,
   "metadata": {},
   "outputs": [
    {
     "name": "stdout",
     "output_type": "stream",
     "text": [
      "2024-05-14 14:40:45,090 - root - utils.py - get_config - INFO - Reading experiment config.\n",
      "2024-05-14 14:40:45,114 - root - utils.py - get_config - INFO - Reading experiment config. - done\n",
      "2024-05-14 14:40:45,116 - root - utils.py - get_config - INFO - Reading experiment config.\n",
      "2024-05-14 14:40:45,158 - root - utils.py - get_config - INFO - Reading experiment config. - done\n"
     ]
    }
   ],
   "source": [
    "from scipy import signal\n",
    "import os\n",
    "import spikeinterface as si\n",
    "import numpy as np\n",
    "from matplotlib import pyplot as plt\n",
    "import warnings\n",
    "\n",
    "warnings.simplefilter(action=\"ignore\", category=FutureWarning)\n",
    "warnings.filterwarnings(\"ignore\")\n",
    "\n",
    "# move to PROJECT PATH\n",
    "PROJ_PATH = \"/gpfs/bbp.cscs.ch/project/proj85/home/laquitai/preprint_2023/\"\n",
    "os.chdir(PROJ_PATH)\n",
    "\n",
    "from src.nodes.utils import get_config\n",
    "\n",
    "# config\n",
    "data_conf_vivo, _ = get_config(\"vivo_marques\", \"c26\").values()\n",
    "RAW_PATH_vivo = data_conf_vivo[\"probe_wiring\"][\"output\"]\n",
    "\n",
    "# silico\n",
    "data_conf_sili, _ = get_config(\"silico_neuropixels\", \"concatenated\").values()\n",
    "RAW_PATH_sili = data_conf_sili[\"probe_wiring\"][\"output\"]\n",
    "\n",
    "# parameters\n",
    "DURATION = 10 * 60  # 10 min\n",
    "\n",
    "L5_SITE = 259  # site in layer 5\n",
    "\n",
    "SFREQ_vivo = 30000  # sampling frequency\n",
    "SFREQ_sili = 40000  # sampling frequency\n",
    "\n",
    "# Welch PSD\n",
    "FILT_WINDOW = \"hann\"\n",
    "FILT_WIND_SIZE_vivo = 30000  # 5125*6   #2300  # tuned to get a freq. resol. of 0.1 Hz\n",
    "FILT_WIND_OVERLAP_vivo = int(FILT_WIND_SIZE_vivo // 1.5)\n",
    "FILT_WIND_SIZE_sili = 40000  # 5125*6   #2300  # tuned to get a freq. resol. of 0.1 Hz\n",
    "FILT_WIND_OVERLAP_sili = int(FILT_WIND_SIZE_sili // 1.5)"
   ]
  },
  {
   "cell_type": "markdown",
   "metadata": {},
   "source": [
    "### Load dataset"
   ]
  },
  {
   "cell_type": "code",
   "execution_count": 53,
   "metadata": {},
   "outputs": [],
   "source": [
    "# load raw traces\n",
    "RawVivo = si.load_extractor(RAW_PATH_vivo)\n",
    "trace_vivo = RawVivo.get_traces(channel_ids=[L5_SITE], end_frame=SFREQ_vivo * DURATION)\n",
    "trace_vivo = np.array(trace_vivo).flatten()\n",
    "\n",
    "# load raw traces\n",
    "RawSili = si.load_extractor(RAW_PATH_sili)\n",
    "trace_sili = RawSili.get_traces(channel_ids=[L5_SITE], end_frame=SFREQ_sili * DURATION)\n",
    "trace_sili = np.array(trace_sili).flatten()"
   ]
  },
  {
   "cell_type": "markdown",
   "metadata": {},
   "source": [
    "### Plot"
   ]
  },
  {
   "cell_type": "code",
   "execution_count": 54,
   "metadata": {},
   "outputs": [
    {
     "name": "stdout",
     "output_type": "stream",
     "text": [
      "Welch freq. resolution: 1.0\n",
      "Welch freq. resolution: 1.0\n",
      "The upper bound freq. resolution (Fourier's): 0.0016666666666666668\n"
     ]
    },
    {
     "data": {
      "text/plain": [
       "(0.0, 0.15)"
      ]
     },
     "execution_count": 54,
     "metadata": {},
     "output_type": "execute_result"
    },
    {
     "data": {
      "image/png": "[encoded data removed]",
      "text/plain": [
       "<Figure size 1000x200 with 1 Axes>"
      ]
     },
     "metadata": {},
     "output_type": "display_data"
    }
   ],
   "source": [
    "# plot\n",
    "# VIVO ********************************\n",
    "# resolution\n",
    "freqs, powers = signal.welch(\n",
    "    trace_vivo,\n",
    "    SFREQ_vivo,\n",
    "    window=FILT_WINDOW,\n",
    "    nperseg=FILT_WIND_SIZE_vivo,\n",
    "    noverlap=FILT_WIND_OVERLAP_vivo,\n",
    ")\n",
    "print(\"Welch freq. resolution:\", np.sort(freqs)[1] - np.sort(freqs)[0])\n",
    "\n",
    "# plot\n",
    "fig, ax = plt.subplots(1, 1, figsize=(10, 2))\n",
    "ax.plot(\n",
    "    freqs,\n",
    "    powers,\n",
    "    color=\"gray\",\n",
    "    label=\"vivo\",\n",
    ")\n",
    "ax.set_xscale(\"log\")\n",
    "ax.set_xlim([-1, SFREQ_vivo / 2])\n",
    "\n",
    "# SILICO ********************************\n",
    "# resolution\n",
    "freqs, powers = signal.welch(\n",
    "    trace_sili,\n",
    "    SFREQ_sili,\n",
    "    window=FILT_WINDOW,\n",
    "    nperseg=FILT_WIND_SIZE_sili,\n",
    "    noverlap=FILT_WIND_OVERLAP_sili,\n",
    ")\n",
    "print(\"Welch freq. resolution:\", np.sort(freqs)[1] - np.sort(freqs)[0])\n",
    "print(\"The upper bound freq. resolution (Fourier's):\", SFREQ_sili / trace_sili.shape[0])\n",
    "\n",
    "# plot\n",
    "ax.plot(\n",
    "    freqs,\n",
    "    powers,\n",
    "    color=\"r\",\n",
    "    label=\"sili\",\n",
    ")\n",
    "ax.set_xscale(\"log\")\n",
    "ax.set_xlim([-1, SFREQ_sili / 2])\n",
    "ax.set_ylim([0, 0.15])"
   ]
  }
 ],
 "metadata": {
  "kernelspec": {
   "display_name": "spikinterf0_100_5",
   "language": "python",
   "name": "python3"
  },
  "language_info": {
   "codemirror_mode": {
    "name": "ipython",
    "version": 3
   },
   "file_extension": ".py",
   "mimetype": "text/x-python",
   "name": "python",
   "nbconvert_exporter": "python",
   "pygments_lexer": "ipython3",
   "version": "3.9.7"
  }
 },
 "nbformat": 4,
 "nbformat_minor": 2
}
