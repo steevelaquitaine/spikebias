{
 "cells": [
  {
   "cell_type": "markdown",
   "metadata": {},
   "source": [
    "# Fine tune noise"
   ]
  },
  {
   "cell_type": "markdown",
   "metadata": {},
   "source": [
    "### Setup\n",
    "\n",
    "activate spikeinterf."
   ]
  },
  {
   "cell_type": "code",
   "execution_count": 9,
   "metadata": {},
   "outputs": [
    {
     "name": "stdout",
     "output_type": "stream",
     "text": [
      "2024-07-05 15:27:35,090 - root - utils.py - get_config - INFO - Reading experiment config.\n",
      "2024-07-05 15:27:35,175 - root - utils.py - get_config - INFO - Reading experiment config. - done\n"
     ]
    }
   ],
   "source": [
    "import os\n",
    "import numpy as np\n",
    "\n",
    "PROJ_PATH = \"/gpfs/bbp.cscs.ch/project/proj85/home/laquitai/preprint_2023/\"\n",
    "os.chdir(PROJ_PATH)\n",
    "\n",
    "from src.nodes.utils import get_config\n",
    "\n",
    "cfg = get_config(\"silico_neuropixels\", \"concatenated\")\n",
    "# FIT_NOISE_PATH = cfg[\"dataset_conf\"][\"preprocessing\"][\"fitting\"][\"missing_noise_path\"]\n",
    "# fitted noise\n",
    "FIT_NOISE_PATH = \"/gpfs/bbp.cscs.ch/project/proj85/scratch/laquitai/4_preprint_2023/dataeng/0_silico/neuropixels_lfp_10m_384ch_hex0_40Khz_2023_10_18/be011315-9555-493e-a59c-27f42d1058ed/campaign/preprocessed/vers_04072024/missing_noise_\"\n",
    "# fine tuned noise\n",
    "TUNED_NOISE_PATH = \"/gpfs/bbp.cscs.ch/project/proj85/scratch/laquitai/4_preprint_2023/dataeng/0_silico/neuropixels_lfp_10m_384ch_hex0_40Khz_2023_10_18/be011315-9555-493e-a59c-27f42d1058ed/campaign/preprocessed/missing_noise_\""
   ]
  },
  {
   "cell_type": "markdown",
   "metadata": {},
   "source": [
    "### Add 0.3 microVolt\n",
    "\n",
    "* reducing by 20% the best fit value seems to provide the best match to the in vivo noise values"
   ]
  },
  {
   "cell_type": "code",
   "execution_count": 10,
   "metadata": {},
   "outputs": [],
   "source": [
    "# load fitted noises\n",
    "l1_out = np.load(FIT_NOISE_PATH + \"L1.npy\", allow_pickle=True).item()\n",
    "l23_out = np.load(FIT_NOISE_PATH + \"L2_3.npy\", allow_pickle=True).item()\n",
    "l4_out = np.load(FIT_NOISE_PATH + \"L4.npy\", allow_pickle=True).item()\n",
    "l5_out = np.load(FIT_NOISE_PATH + \"L5.npy\", allow_pickle=True).item()\n",
    "l6_out = np.load(FIT_NOISE_PATH + \"L6.npy\", allow_pickle=True).item()\n",
    "\n",
    "# add 0.1 microVolt\n",
    "l1_out[\"missing_noise_rms\"] = l1_out[\"missing_noise_rms\"] + 0.3\n",
    "l23_out[\"missing_noise_rms\"] = l23_out[\"missing_noise_rms\"] + 0.3\n",
    "l4_out[\"missing_noise_rms\"] = l4_out[\"missing_noise_rms\"] + 0.3  # add 0.3 uV\n",
    "l5_out[\"missing_noise_rms\"] = l5_out[\"missing_noise_rms\"] + 0.3\n",
    "l6_out[\"missing_noise_rms\"] = l6_out[\"missing_noise_rms\"] + 0.3\n",
    "\n",
    "# # save\n",
    "np.save(TUNED_NOISE_PATH + \"L1.npy\", l1_out)\n",
    "np.save(TUNED_NOISE_PATH + \"L2_3.npy\", l23_out)\n",
    "np.save(TUNED_NOISE_PATH + \"L4.npy\", l4_out)\n",
    "np.save(TUNED_NOISE_PATH + \"L5.npy\", l5_out)\n",
    "np.save(TUNED_NOISE_PATH + \"L6.npy\", l6_out)"
   ]
  }
 ],
 "metadata": {
  "kernelspec": {
   "display_name": "spikinterf0_100_5",
   "language": "python",
   "name": "python3"
  },
  "language_info": {
   "codemirror_mode": {
    "name": "ipython",
    "version": 3
   },
   "file_extension": ".py",
   "mimetype": "text/x-python",
   "name": "python",
   "nbconvert_exporter": "python",
   "pygments_lexer": "ipython3",
   "version": "3.9.7"
  }
 },
 "nbformat": 4,
 "nbformat_minor": 2
}
