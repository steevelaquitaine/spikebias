{
 "cells": [
  {
   "cell_type": "markdown",
   "metadata": {},
   "source": [
    "# Ground truth unit biological features\n",
    "\n",
    "* author: steeve.laquitaine@epfl.ch"
   ]
  },
  {
   "cell_type": "code",
   "execution_count": 1,
   "metadata": {},
   "outputs": [
    {
     "name": "stdout",
     "output_type": "stream",
     "text": [
      "2024-09-25 18:39:06,797 - root - utils.py - get_config - INFO - Reading experiment config.\n",
      "2024-09-25 18:39:06,856 - root - utils.py - get_config - INFO - Reading experiment config. - done\n"
     ]
    }
   ],
   "source": [
    "import os\n",
    "from tqdm import tqdm\n",
    "import numpy as np\n",
    "import pandas as pd\n",
    "import neurom as nm  # ground truth circuit details\n",
    "import bluepy as bp  # ground truth circuit details\n",
    "import spikeinterface as si\n",
    "from neurom.view import plotly_impl\n",
    "\n",
    "# move to PROJECT PATH\n",
    "PROJ_PATH = \"/gpfs/bbp.cscs.ch/project/proj85/home/laquitai/spikebias/\"\n",
    "os.chdir(PROJ_PATH)\n",
    "from src.nodes.utils import get_config\n",
    "from src.nodes.load import load_campaign_params\n",
    "\n",
    "cfg, param_conf = get_config(\"silico_neuropixels\", \"concatenated\").values()\n",
    "SORTING_TRUE_PATH = cfg[\"sorting\"][\"simulation\"][\"ground_truth\"][\"output\"]\n",
    "BLUECFG = cfg[\"dataeng\"][\"blueconfig\"]\n",
    "\n",
    "# PARAMETERS\n",
    "\n",
    "# SOMA\n",
    "SOMA = {\n",
    "    \"soma\": nm.core.types.NeuriteType.soma,\n",
    "}\n",
    "SOMA_FEATURES = [\n",
    "    \"radius\",\n",
    "    \"volume\",\n",
    "]\n",
    "\n",
    "# OTHER NEURITES\n",
    "NEURITES_FEATURES = [\n",
    "    \"total_length\",\n",
    "    \"total_height\",\n",
    "    \"total_area\",\n",
    "    \"number_of_sections\",\n",
    "    \"section_lengths\",\n",
    "]\n",
    "NEURITES = {\n",
    "    \"apical\": nm.core.types.NeuriteType.apical_dendrite,\n",
    "    \"basal\": nm.core.types.NeuriteType.basal_dendrite,\n",
    "    \"axon\": nm.core.types.NeuriteType.axon,\n",
    "}"
   ]
  },
  {
   "cell_type": "markdown",
   "metadata": {},
   "source": [
    "### Custom functions"
   ]
  },
  {
   "cell_type": "code",
   "execution_count": 95,
   "metadata": {},
   "outputs": [],
   "source": [
    "def get_features(morph_paths, feature_set, neurite_set):\n",
    "    \"\"\"Get morphometric features for all morphologies passed\"\"\"\n",
    "    features = {\"mtype\": [], \"feature_name\": [], \"feature_val\": [], \"loc\": []}\n",
    "    for mtype, paths in tqdm(morph_paths.items(), desc=\"mtypes\"):\n",
    "        for path in tqdm(\n",
    "            paths, desc=\"morphologies\", miniters=len(paths) / 100, leave=False\n",
    "        ):\n",
    "            morph = nm.load_morphology(path)\n",
    "            for neurite_name, neurite_id in neurite_set.items():\n",
    "                for feature in feature_set:\n",
    "                    features[\"mtype\"].append(mtype)\n",
    "                    feature_name = (\n",
    "                        \"avg_section_length\"\n",
    "                        if feature == \"section_lengths\"\n",
    "                        else feature\n",
    "                    )\n",
    "                    features[\"feature_name\"].append(feature_name)\n",
    "                    feature_val = nm.get(feature, morph, neurite_type=neurite_id)\n",
    "                    feature_val = (\n",
    "                        np.mean(feature_val)\n",
    "                        if feature == \"section_lengths\"\n",
    "                        else feature_val\n",
    "                    )\n",
    "                    features[\"feature_val\"].append(feature_val)\n",
    "                    features[\"loc\"].append(neurite_name)\n",
    "    df = pd.DataFrame.from_dict(features)\n",
    "    df.drop(\n",
    "        df.loc[(df[\"mtype\"] == \"L4_SSC\") & (df[\"loc\"] == \"apical\")].index, inplace=True\n",
    "    )  # clear L4_SSC apicals...\n",
    "    return df\n",
    "\n",
    "\n",
    "def get_morph_paths(circuit, unit_ids: list):\n",
    "\n",
    "    # get the units' mtypes and morphologies\n",
    "    df = circuit.cells.get(unit_ids, properties=[\"mtype\", \"morphology\"])\n",
    "\n",
    "    # this creates the morphology path\n",
    "    # for each unit by prefixing with the\n",
    "    # common path of all morphologies\n",
    "    # circuit.config[\"morphologies\"]\n",
    "    # to the morphology of the\n",
    "    # units retrieved above\n",
    "    # e.g., ../fixed_ais_L23PC_20201210/ascii/dend-C220797A-P3_axon-sm110131a1-3_IN.. for unit 12165\n",
    "    # e.g., ../fixed_ais_L23PC_20201210/ascii/dend-rat_20160908_E3_LH2_cell2_axon-mt for unit 16652\n",
    "    df[\"morph_path\"] = (\n",
    "        df[\"morphology\"]\n",
    "        .apply(lambda row: os.path.join(circuit.config[\"morphologies\"], \"%s.asc\" % row))\n",
    "        .astype(str)\n",
    "    )\n",
    "    df = df.drop(columns=[\"mtype\", \"morphology\"])\n",
    "    return df\n",
    "\n",
    "\n",
    "def get_radius(circuit, unit_ids):\n",
    "\n",
    "    # get the file paths of the morphology\n",
    "    morph_paths = get_morph_paths(circuit, unit_ids)\n",
    "    morph_paths = morph_paths.values.flatten()\n",
    "\n",
    "    # get unit soma radius\n",
    "    soma_radius = []\n",
    "    for m_i in morph_paths:\n",
    "        soma_radius.append(nm.load_morphology(m_i).soma.radius)\n",
    "    return soma_radius"
   ]
  },
  {
   "cell_type": "markdown",
   "metadata": {},
   "source": [
    "### Soma radius"
   ]
  },
  {
   "cell_type": "code",
   "execution_count": 96,
   "metadata": {},
   "outputs": [],
   "source": [
    "# load once\n",
    "circuit = bp.Simulation(BLUECFG).circuit\n",
    "\n",
    "# get ground truth unit ids\n",
    "SortingTrue = si.load_extractor(SORTING_TRUE_PATH)"
   ]
  },
  {
   "cell_type": "code",
   "execution_count": 97,
   "metadata": {},
   "outputs": [
    {
     "data": {
      "text/plain": [
       "1388"
      ]
     },
     "execution_count": 97,
     "metadata": {},
     "output_type": "execute_result"
    }
   ],
   "source": [
    "# get radius\n",
    "radius = get_radius(circuit, SortingTrue.unit_ids)\n",
    "\n",
    "# unit-test\n",
    "assert len(radius) == len(SortingTrue.unit_ids)\n",
    "print(radius)"
   ]
  },
  {
   "cell_type": "markdown",
   "metadata": {},
   "source": [
    "### Neurites features"
   ]
  },
  {
   "cell_type": "code",
   "execution_count": 99,
   "metadata": {},
   "outputs": [
    {
     "name": "stdout",
     "output_type": "stream",
     "text": [
      "unit: 18371\n"
     ]
    },
    {
     "name": "stderr",
     "output_type": "stream",
     "text": [
      "mtypes: 1it [00:00,  6.56it/s]\n"
     ]
    },
    {
     "data": {
      "text/html": [
       "<div>\n",
       "<style scoped>\n",
       "    .dataframe tbody tr th:only-of-type {\n",
       "        vertical-align: middle;\n",
       "    }\n",
       "\n",
       "    .dataframe tbody tr th {\n",
       "        vertical-align: top;\n",
       "    }\n",
       "\n",
       "    .dataframe thead th {\n",
       "        text-align: right;\n",
       "    }\n",
       "</style>\n",
       "<table border=\"1\" class=\"dataframe\">\n",
       "  <thead>\n",
       "    <tr style=\"text-align: right;\">\n",
       "      <th></th>\n",
       "      <th>mtype</th>\n",
       "      <th>feature_name</th>\n",
       "      <th>feature_val</th>\n",
       "      <th>loc</th>\n",
       "    </tr>\n",
       "  </thead>\n",
       "  <tbody>\n",
       "    <tr>\n",
       "      <th>0</th>\n",
       "      <td>morph_path</td>\n",
       "      <td>total_length</td>\n",
       "      <td>2677.573020</td>\n",
       "      <td>apical</td>\n",
       "    </tr>\n",
       "    <tr>\n",
       "      <th>1</th>\n",
       "      <td>morph_path</td>\n",
       "      <td>total_height</td>\n",
       "      <td>394.709137</td>\n",
       "      <td>apical</td>\n",
       "    </tr>\n",
       "    <tr>\n",
       "      <th>2</th>\n",
       "      <td>morph_path</td>\n",
       "      <td>total_area</td>\n",
       "      <td>5807.601221</td>\n",
       "      <td>apical</td>\n",
       "    </tr>\n",
       "    <tr>\n",
       "      <th>3</th>\n",
       "      <td>morph_path</td>\n",
       "      <td>number_of_sections</td>\n",
       "      <td>45.000000</td>\n",
       "      <td>apical</td>\n",
       "    </tr>\n",
       "    <tr>\n",
       "      <th>4</th>\n",
       "      <td>morph_path</td>\n",
       "      <td>avg_section_length</td>\n",
       "      <td>59.501621</td>\n",
       "      <td>apical</td>\n",
       "    </tr>\n",
       "    <tr>\n",
       "      <th>5</th>\n",
       "      <td>morph_path</td>\n",
       "      <td>total_length</td>\n",
       "      <td>2154.512926</td>\n",
       "      <td>basal</td>\n",
       "    </tr>\n",
       "    <tr>\n",
       "      <th>6</th>\n",
       "      <td>morph_path</td>\n",
       "      <td>total_height</td>\n",
       "      <td>265.234863</td>\n",
       "      <td>basal</td>\n",
       "    </tr>\n",
       "    <tr>\n",
       "      <th>7</th>\n",
       "      <td>morph_path</td>\n",
       "      <td>total_area</td>\n",
       "      <td>3809.369709</td>\n",
       "      <td>basal</td>\n",
       "    </tr>\n",
       "    <tr>\n",
       "      <th>8</th>\n",
       "      <td>morph_path</td>\n",
       "      <td>number_of_sections</td>\n",
       "      <td>32.000000</td>\n",
       "      <td>basal</td>\n",
       "    </tr>\n",
       "    <tr>\n",
       "      <th>9</th>\n",
       "      <td>morph_path</td>\n",
       "      <td>avg_section_length</td>\n",
       "      <td>67.328537</td>\n",
       "      <td>basal</td>\n",
       "    </tr>\n",
       "    <tr>\n",
       "      <th>10</th>\n",
       "      <td>morph_path</td>\n",
       "      <td>total_length</td>\n",
       "      <td>14433.711509</td>\n",
       "      <td>axon</td>\n",
       "    </tr>\n",
       "    <tr>\n",
       "      <th>11</th>\n",
       "      <td>morph_path</td>\n",
       "      <td>total_height</td>\n",
       "      <td>1163.632690</td>\n",
       "      <td>axon</td>\n",
       "    </tr>\n",
       "    <tr>\n",
       "      <th>12</th>\n",
       "      <td>morph_path</td>\n",
       "      <td>total_area</td>\n",
       "      <td>7222.867499</td>\n",
       "      <td>axon</td>\n",
       "    </tr>\n",
       "    <tr>\n",
       "      <th>13</th>\n",
       "      <td>morph_path</td>\n",
       "      <td>number_of_sections</td>\n",
       "      <td>91.000000</td>\n",
       "      <td>axon</td>\n",
       "    </tr>\n",
       "    <tr>\n",
       "      <th>14</th>\n",
       "      <td>morph_path</td>\n",
       "      <td>avg_section_length</td>\n",
       "      <td>158.612213</td>\n",
       "      <td>axon</td>\n",
       "    </tr>\n",
       "  </tbody>\n",
       "</table>\n",
       "</div>"
      ],
      "text/plain": [
       "         mtype        feature_name   feature_val     loc\n",
       "0   morph_path        total_length   2677.573020  apical\n",
       "1   morph_path        total_height    394.709137  apical\n",
       "2   morph_path          total_area   5807.601221  apical\n",
       "3   morph_path  number_of_sections     45.000000  apical\n",
       "4   morph_path  avg_section_length     59.501621  apical\n",
       "5   morph_path        total_length   2154.512926   basal\n",
       "6   morph_path        total_height    265.234863   basal\n",
       "7   morph_path          total_area   3809.369709   basal\n",
       "8   morph_path  number_of_sections     32.000000   basal\n",
       "9   morph_path  avg_section_length     67.328537   basal\n",
       "10  morph_path        total_length  14433.711509    axon\n",
       "11  morph_path        total_height   1163.632690    axon\n",
       "12  morph_path          total_area   7222.867499    axon\n",
       "13  morph_path  number_of_sections     91.000000    axon\n",
       "14  morph_path  avg_section_length    158.612213    axon"
      ]
     },
     "execution_count": 99,
     "metadata": {},
     "output_type": "execute_result"
    }
   ],
   "source": [
    "unit_id = SortingTrue.unit_ids[2]\n",
    "print(\"unit:\", unit_id)\n",
    "morph_paths = get_morph_paths(circuit, [unit_id])\n",
    "df = get_features(morph_paths, feature_set=NEURITES_FEATURES, neurite_set=NEURITES)\n",
    "df"
   ]
  },
  {
   "cell_type": "markdown",
   "metadata": {},
   "source": [
    "# References\n",
    "\n",
    "https://neurom.readthedocs.io/en/latest/features.html#"
   ]
  }
 ],
 "metadata": {
  "kernelspec": {
   "display_name": "spikinterf0_100_5",
   "language": "python",
   "name": "python3"
  },
  "language_info": {
   "codemirror_mode": {
    "name": "ipython",
    "version": 3
   },
   "file_extension": ".py",
   "mimetype": "text/x-python",
   "name": "python",
   "nbconvert_exporter": "python",
   "pygments_lexer": "ipython3",
   "version": "3.9.7"
  }
 },
 "nbformat": 4,
 "nbformat_minor": 2
}
