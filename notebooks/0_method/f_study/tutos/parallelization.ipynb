{
 "cells": [
  {
   "cell_type": "code",
   "execution_count": 1,
   "metadata": {},
   "outputs": [],
   "source": [
    "from numba import cuda\n",
    "\n",
    "\n",
    "@cuda.jit\n",
    "def add_gpu(x, out):\n",
    "    idx = cuda.grid(1)\n",
    "    out[idx] = x[idx] + 2"
   ]
  },
  {
   "cell_type": "code",
   "execution_count": 4,
   "metadata": {},
   "outputs": [
    {
     "name": "stdout",
     "output_type": "stream",
     "text": [
      "Help on _Intrinsic in module numba.cuda.intrinsics:\n",
      "\n",
      "grid = <intrinsic grid>\n",
      "    grid(ndim)\n",
      "    \n",
      "    Return the absolute position of the current thread in the entire grid of\n",
      "    blocks.  *ndim* should correspond to the number of dimensions declared when\n",
      "    instantiating the kernel. If *ndim* is 1, a single integer is returned.\n",
      "    If *ndim* is 2 or 3, a tuple of the given number of integers is returned.\n",
      "    \n",
      "    Computation of the first integer is as follows::\n",
      "    \n",
      "        cuda.threadIdx.x + cuda.blockIdx.x * cuda.blockDim.x\n",
      "    \n",
      "    and is similar for the other two indices, but using the ``y`` and ``z``\n",
      "    attributes.\n",
      "\n"
     ]
    }
   ],
   "source": [
    "help(cuda.grid)"
   ]
  }
 ],
 "metadata": {
  "kernelspec": {
   "display_name": "spikinterf0_100_5",
   "language": "python",
   "name": "python3"
  },
  "language_info": {
   "codemirror_mode": {
    "name": "ipython",
    "version": 3
   },
   "file_extension": ".py",
   "mimetype": "text/x-python",
   "name": "python",
   "nbconvert_exporter": "python",
   "pygments_lexer": "ipython3",
   "version": "3.9.7"
  }
 },
 "nbformat": 4,
 "nbformat_minor": 2
}
