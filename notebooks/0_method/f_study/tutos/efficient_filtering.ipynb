{
 "cells": [
  {
   "cell_type": "code",
   "execution_count": 1,
   "metadata": {},
   "outputs": [],
   "source": []
  },
  {
   "cell_type": "code",
   "execution_count": 1,
   "metadata": {},
   "outputs": [],
   "source": [
    "import torch\n",
    "from torch.fft import fft, ifft, fftshift  # use torch instead of scipy for speed\n",
    "from scipy.signal import butter, filtfilt\n",
    "import numpy as np"
   ]
  },
  {
   "cell_type": "code",
   "execution_count": 2,
   "metadata": {},
   "outputs": [
    {
     "name": "stdout",
     "output_type": "stream",
     "text": [
      "Fri Jul  5 17:05:06 2024       \n",
      "+-----------------------------------------------------------------------------+\n",
      "| NVIDIA-SMI 525.85.12    Driver Version: 525.85.12    CUDA Version: 12.0     |\n",
      "|-------------------------------+----------------------+----------------------+\n",
      "| GPU  Name        Persistence-M| Bus-Id        Disp.A | Volatile Uncorr. ECC |\n",
      "| Fan  Temp  Perf  Pwr:Usage/Cap|         Memory-Usage | GPU-Util  Compute M. |\n",
      "|                               |                      |               MIG M. |\n",
      "|===============================+======================+======================|\n",
      "|   0  Tesla V100-SXM2...  Off  | 00000000:1A:00.0 Off |                  Off |\n",
      "| N/A   33C    P0    41W / 300W |      3MiB / 16384MiB |      0%      Default |\n",
      "|                               |                      |                  N/A |\n",
      "+-------------------------------+----------------------+----------------------+\n",
      "|   1  Tesla V100-SXM2...  Off  | 00000000:1C:00.0 Off |                  Off |\n",
      "| N/A   32C    P0    40W / 300W |      3MiB / 16384MiB |      0%      Default |\n",
      "|                               |                      |                  N/A |\n",
      "+-------------------------------+----------------------+----------------------+\n",
      "|   2  Tesla V100-SXM2...  Off  | 00000000:88:00.0 Off |                  Off |\n",
      "| N/A   32C    P0    39W / 300W |      3MiB / 16384MiB |      0%      Default |\n",
      "|                               |                      |                  N/A |\n",
      "+-------------------------------+----------------------+----------------------+\n",
      "|   3  Tesla V100-SXM2...  Off  | 00000000:8A:00.0 Off |                  Off |\n",
      "| N/A   32C    P0    41W / 300W |      3MiB / 16384MiB |      0%      Default |\n",
      "|                               |                      |                  N/A |\n",
      "+-------------------------------+----------------------+----------------------+\n",
      "                                                                               \n",
      "+-----------------------------------------------------------------------------+\n",
      "| Processes:                                                                  |\n",
      "|  GPU   GI   CI        PID   Type   Process name                  GPU Memory |\n",
      "|        ID   ID                                                   Usage      |\n",
      "|=============================================================================|\n",
      "|  No running processes found                                                 |\n",
      "+-----------------------------------------------------------------------------+\n"
     ]
    }
   ],
   "source": [
    "!nvidia-smi"
   ]
  },
  {
   "cell_type": "code",
   "execution_count": 3,
   "metadata": {},
   "outputs": [],
   "source": [
    "def get_highpass_filter(fs=30000, cutoff=300, device=torch.device(\"cuda\")):\n",
    "    \"\"\"Filter to use for high-pass filtering.\"\"\"\n",
    "    NT = 30122\n",
    "\n",
    "    # a butterworth filter is specified in scipy\n",
    "    b, a = butter(3, cutoff, fs=fs, btype=\"high\")\n",
    "\n",
    "    # a signal with a single entry is used to compute the impulse response\n",
    "    x = np.zeros(NT)\n",
    "    x[NT // 2] = 1\n",
    "\n",
    "    # symmetric filter from scipy\n",
    "    hp_filter = filtfilt(b, a, x).copy()\n",
    "\n",
    "    hp_filter = torch.from_numpy(hp_filter).to(device).float()\n",
    "    return hp_filter\n",
    "\n",
    "\n",
    "def get_fwav(NT=30122, fs=30000, device=torch.device(\"cuda\")):\n",
    "    \"\"\"Precomputes a filter to use for high-pass filtering.\n",
    "\n",
    "    To be used with fft in pytorch. Currently depends on NT,\n",
    "    but it could get padded for larger NT.\n",
    "\n",
    "    \"\"\"\n",
    "\n",
    "    # a butterworth filter is specified in scipy\n",
    "    b, a = butter(3, 300, fs=fs, btype=\"high\")\n",
    "\n",
    "    # a signal with a single entry is used to compute the impulse response\n",
    "    x = np.zeros(NT)\n",
    "    x[NT // 2] = 1\n",
    "\n",
    "    # symmetric filter from scipy\n",
    "    wav = filtfilt(b, a, x).copy()\n",
    "    wav = torch.from_numpy(wav).to(device).float()\n",
    "\n",
    "    # the filter will be used directly in the Fourier domain\n",
    "    fwav = fft(wav)\n",
    "\n",
    "    return fwav\n",
    "\n",
    "\n",
    "def fft_highpass(hp_filter, NT=30122):\n",
    "    \"\"\"Convert filter to fourier domain. (from Pachitariu's Kilosort4)\"\"\"\n",
    "    device = hp_filter.device\n",
    "    ft = hp_filter.shape[0]\n",
    "\n",
    "    # the filter is padded or cropped depending on the size of NT\n",
    "    if ft < NT:\n",
    "        pad = (NT - ft) // 2\n",
    "        fhp = fft(\n",
    "            torch.cat(\n",
    "                (\n",
    "                    torch.zeros(pad, device=device),\n",
    "                    hp_filter,\n",
    "                    torch.zeros(pad + (NT - pad * 2 - ft), device=device),\n",
    "                )\n",
    "            )\n",
    "        )\n",
    "    elif ft > NT:\n",
    "        crop = (ft - NT) // 2\n",
    "        fhp = fft(hp_filter[crop : crop + NT])\n",
    "    else:\n",
    "        fhp = fft(hp_filter)\n",
    "\n",
    "    return fhp"
   ]
  },
  {
   "cell_type": "code",
   "execution_count": 23,
   "metadata": {},
   "outputs": [],
   "source": [
    "torch.cuda.empty_cache()"
   ]
  },
  {
   "cell_type": "code",
   "execution_count": 26,
   "metadata": {},
   "outputs": [],
   "source": [
    "# (7s)\n",
    "n_sites = 384\n",
    "sfreq = 40000\n",
    "t_secs = 10\n",
    "n_samples = t_secs * sfreq\n",
    "gain = 1000\n",
    "\n",
    "# simulate toy voltage signal (sites x samples)\n",
    "# int16 to reduce memory load\n",
    "device = torch.device(\"cuda:0\")\n",
    "signal = torch.normal(0, 3, size=(n_sites, n_samples), device=device) * gain"
   ]
  },
  {
   "cell_type": "code",
   "execution_count": 19,
   "metadata": {},
   "outputs": [],
   "source": [
    "# remove the mean of each channel (row), and the median across channels\n",
    "signal -= signal.mean(1).unsqueeze(1)\n",
    "signal -= torch.median(signal, 0)[0]"
   ]
  },
  {
   "cell_type": "code",
   "execution_count": 20,
   "metadata": {},
   "outputs": [],
   "source": [
    "hp_filter = get_highpass_filter(fs=sfreq, cutoff=300, device=torch.device(\"cuda\"))\n",
    "\n",
    "fwav = get_fwav(NT=signal.shape[1], fs=sfreq, device=torch.device(\"cuda\"))\n",
    "\n",
    "signal = torch.real(ifft(fft(signal) * torch.conj(fwav)))\n",
    "signal = fftshift(signal, dim=-1)"
   ]
  },
  {
   "cell_type": "code",
   "execution_count": 21,
   "metadata": {},
   "outputs": [
    {
     "data": {
      "text/plain": [
       "tensor([[-1136.5408,  2438.9475, -1039.4617,  ..., -1049.9680, -1091.5852,\n",
       "           551.5223],\n",
       "        [ 3074.2878, -2892.0371,   147.3754,  ...,  2721.6379,  2855.7241,\n",
       "          5758.3999],\n",
       "        [ 5091.6714,  4180.6211,   533.6821,  ...,  1287.2253,  2321.1328,\n",
       "         -4523.5352],\n",
       "        ...,\n",
       "        [-1775.0090,   954.2173, -1634.2181,  ...,  3620.5918,  -777.2347,\n",
       "          4115.3276],\n",
       "        [ 2659.4995,   525.9730,  1112.8335,  ...,  -509.4645,   114.5115,\n",
       "          1000.7498],\n",
       "        [ -259.1798, -2103.2576, -5756.4375,  ..., -6795.0771,  3380.0742,\n",
       "         -2601.6870]], device='cuda:0')"
      ]
     },
     "execution_count": 21,
     "metadata": {},
     "output_type": "execute_result"
    }
   ],
   "source": [
    "signal"
   ]
  },
  {
   "cell_type": "code",
   "execution_count": 8,
   "metadata": {},
   "outputs": [
    {
     "data": {
      "text/plain": [
       "torch.Size([384, 2400000])"
      ]
     },
     "execution_count": 8,
     "metadata": {},
     "output_type": "execute_result"
    }
   ],
   "source": [
    "signal.shape"
   ]
  },
  {
   "cell_type": "code",
   "execution_count": null,
   "metadata": {},
   "outputs": [],
   "source": []
  }
 ],
 "metadata": {
  "kernelspec": {
   "display_name": "spikinterf0_100_5",
   "language": "python",
   "name": "python3"
  },
  "language_info": {
   "codemirror_mode": {
    "name": "ipython",
    "version": 3
   },
   "file_extension": ".py",
   "mimetype": "text/x-python",
   "name": "python",
   "nbconvert_exporter": "python",
   "pygments_lexer": "ipython3",
   "version": "3.9.7"
  }
 },
 "nbformat": 4,
 "nbformat_minor": 2
}
