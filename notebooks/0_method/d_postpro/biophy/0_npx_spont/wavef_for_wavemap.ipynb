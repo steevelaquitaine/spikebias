{
 "cells": [
  {
   "cell_type": "markdown",
   "metadata": {},
   "source": [
    "# Extract Waveforms for wavemap"
   ]
  },
  {
   "cell_type": "markdown",
   "metadata": {},
   "source": [
    "25 mins\n",
    "\n",
    "Run on a compute node:\n",
    "\n",
    "```bash\n",
    "sbatch cluster/postpro/marques_silico/extract_waveform_sorted_for_wavemap.sbatch # sorted\n",
    "```\n"
   ]
  }
 ],
 "metadata": {
  "language_info": {
   "name": "python"
  }
 },
 "nbformat": 4,
 "nbformat_minor": 2
}
