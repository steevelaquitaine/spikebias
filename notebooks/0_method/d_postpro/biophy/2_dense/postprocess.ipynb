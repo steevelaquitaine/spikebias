{
 "cells": [
  {
   "cell_type": "markdown",
   "metadata": {},
   "source": [
    "# Postprocess\n",
    "\n",
    "author: steeve.laquitaine@epfl.ch  \n",
    "last modified: 01.12.2023  "
   ]
  },
  {
   "cell_type": "markdown",
   "metadata": {},
   "source": [
    "activate npx... from `/gpfs/bbp.cscs.ch/project/proj85/scratch/laquitai/preprint_2024/envs/npx_10m_384ch_unit_classes/bin/python3.9`"
   ]
  },
  {
   "cell_type": "code",
   "execution_count": 1,
   "metadata": {},
   "outputs": [
    {
     "name": "stdout",
     "output_type": "stream",
     "text": [
      "2023-12-07 10:35:33,689 - root - utils.py - get_config - INFO - Reading experiment config.\n",
      "2023-12-07 10:35:33,701 - root - utils.py - get_config - INFO - Reading experiment config. - done\n",
      "2023-12-07 10:35:33,702 - root - utils.py - get_config - INFO - Reading experiment config.\n",
      "2023-12-07 10:35:33,713 - root - utils.py - get_config - INFO - Reading experiment config. - done\n",
      "2023-12-07 10:35:33,714 - root - utils.py - get_config - INFO - Reading experiment config.\n",
      "2023-12-07 10:35:33,725 - root - utils.py - get_config - INFO - Reading experiment config. - done\n"
     ]
    }
   ],
   "source": [
    "%load_ext autoreload\n",
    "%autoreload 2\n",
    "\n",
    "import os\n",
    "import spikeinterface as si\n",
    "\n",
    "PROJ_PATH = \"/gpfs/bbp.cscs.ch/project/proj85/home/laquitai/preprint_2023\"\n",
    "os.chdir(PROJ_PATH)\n",
    "\n",
    "from src.nodes.utils import get_config\n",
    "from src.nodes.postpro import biases, layer, spikestats, cell_type, accuracy\n",
    "\n",
    "EXPERIMENT = \"silico_horvath\"\n",
    "DATE = \"concatenated/probe_1\"\n",
    "data_conf, _ = get_config(EXPERIMENT, DATE).values()\n",
    "SORTING_PATH_1 = data_conf[\"sorting\"][\"sorters\"][\"kilosort3\"][\"output\"]\n",
    "GT_SORTING_PATH_1 = data_conf[\"sorting\"][\"simulation\"][\"ground_truth\"][\"output\"]\n",
    "RECORDING_PATH_1 = data_conf[\"probe_wiring\"][\"input\"]\n",
    "BLUECONFIG_PATH_1 = data_conf[\"dataeng\"][\"blueconfig\"]\n",
    "\n",
    "DATE = \"concatenated/probe_2\"\n",
    "data_conf, _ = get_config(EXPERIMENT, DATE).values()\n",
    "SORTING_PATH_2 = data_conf[\"sorting\"][\"sorters\"][\"kilosort3\"][\"output\"]\n",
    "GT_SORTING_PATH_2 = data_conf[\"sorting\"][\"simulation\"][\"ground_truth\"][\"output\"]\n",
    "RECORDING_PATH_2 = data_conf[\"probe_wiring\"][\"input\"]\n",
    "BLUECONFIG_PATH_2 = data_conf[\"dataeng\"][\"blueconfig\"]\n",
    "\n",
    "DATE = \"concatenated/probe_3\"\n",
    "data_conf, _ = get_config(EXPERIMENT, DATE).values()\n",
    "SORTING_PATH_3 = data_conf[\"sorting\"][\"sorters\"][\"kilosort3\"][\"output\"]\n",
    "GT_SORTING_PATH_3 = data_conf[\"sorting\"][\"simulation\"][\"ground_truth\"][\"output\"]\n",
    "RECORDING_PATH_3 = data_conf[\"probe_wiring\"][\"input\"]\n",
    "BLUECONFIG_PATH_3 = data_conf[\"dataeng\"][\"blueconfig\"]"
   ]
  },
  {
   "cell_type": "markdown",
   "metadata": {},
   "source": [
    "## Sorted units"
   ]
  },
  {
   "cell_type": "markdown",
   "metadata": {},
   "source": [
    "##### `false positive` (2m)"
   ]
  },
  {
   "cell_type": "code",
   "execution_count": 2,
   "metadata": {},
   "outputs": [],
   "source": [
    "# takes 2 min\n",
    "biases.label_false_positives(GT_SORTING_PATH_1, SORTING_PATH_1)\n",
    "biases.label_false_positives(GT_SORTING_PATH_2, SORTING_PATH_2)\n",
    "biases.label_false_positives(GT_SORTING_PATH_3, SORTING_PATH_3)"
   ]
  },
  {
   "cell_type": "markdown",
   "metadata": {},
   "source": [
    "##### `firing rate` (5s)"
   ]
  },
  {
   "cell_type": "code",
   "execution_count": 3,
   "metadata": {},
   "outputs": [],
   "source": [
    "# sorted\n",
    "spikestats.label_firing_rates(RECORDING_PATH_1, SORTING_PATH_1)\n",
    "spikestats.label_firing_rates(RECORDING_PATH_2, SORTING_PATH_2)\n",
    "spikestats.label_firing_rates(RECORDING_PATH_3, SORTING_PATH_3)"
   ]
  },
  {
   "cell_type": "markdown",
   "metadata": {},
   "source": [
    "#### `layer and sites` (1 h)\n",
    "\n",
    "```bash\n",
    "sbatch cluster/postpro/label_sorted_unit_layer_silico_concat_horvath.sbatch\n",
    "```"
   ]
  },
  {
   "cell_type": "markdown",
   "metadata": {},
   "source": [
    "## True units"
   ]
  },
  {
   "cell_type": "markdown",
   "metadata": {},
   "source": [
    "##### `Cell type` (1m)"
   ]
  },
  {
   "cell_type": "code",
   "execution_count": 4,
   "metadata": {},
   "outputs": [],
   "source": [
    "cell_type.label_true_cell_properties(BLUECONFIG_PATH_1, GT_SORTING_PATH_1)\n",
    "cell_type.label_true_cell_properties(BLUECONFIG_PATH_2, GT_SORTING_PATH_2)\n",
    "cell_type.label_true_cell_properties(BLUECONFIG_PATH_3, GT_SORTING_PATH_3)"
   ]
  },
  {
   "cell_type": "markdown",
   "metadata": {},
   "source": [
    "##### `Firing rate` (5s)"
   ]
  },
  {
   "cell_type": "code",
   "execution_count": 5,
   "metadata": {},
   "outputs": [],
   "source": [
    "# true\n",
    "spikestats.label_firing_rates(RECORDING_PATH_1, GT_SORTING_PATH_1)\n",
    "spikestats.label_firing_rates(RECORDING_PATH_2, GT_SORTING_PATH_2)\n",
    "spikestats.label_firing_rates(RECORDING_PATH_3, GT_SORTING_PATH_3)"
   ]
  },
  {
   "cell_type": "markdown",
   "metadata": {},
   "source": [
    "#### `Sorting accuracy` (1m)"
   ]
  },
  {
   "cell_type": "code",
   "execution_count": 6,
   "metadata": {},
   "outputs": [],
   "source": [
    "accuracy.label_sorting_accuracies(GT_SORTING_PATH_1, SORTING_PATH_1)\n",
    "accuracy.label_sorting_accuracies(GT_SORTING_PATH_2, SORTING_PATH_2)\n",
    "accuracy.label_sorting_accuracies(GT_SORTING_PATH_3, SORTING_PATH_3)"
   ]
  }
 ],
 "metadata": {
  "kernelspec": {
   "display_name": "npx_10m_384ch_unit_classes",
   "language": "python",
   "name": "python3"
  },
  "language_info": {
   "codemirror_mode": {
    "name": "ipython",
    "version": 3
   },
   "file_extension": ".py",
   "mimetype": "text/x-python",
   "name": "python",
   "nbconvert_exporter": "python",
   "pygments_lexer": "ipython3",
   "version": "3.9.7"
  }
 },
 "nbformat": 4,
 "nbformat_minor": 2
}
