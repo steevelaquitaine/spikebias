{
 "cells": [
  {
   "cell_type": "markdown",
   "metadata": {},
   "source": [
    "# Save Metadata\n",
    "\n",
    "Saves to SpikeInterface's Ground truth Sorting extractor:\n",
    "- etype\n",
    "- mtype\n",
    "- etc...\n",
    "\n",
    "```bash\n",
    "sbatch cluster/postpro/marques_stimulus/save_metadata.sbatch\n",
    "````"
   ]
  }
 ],
 "metadata": {
  "language_info": {
   "name": "python"
  }
 },
 "nbformat": 4,
 "nbformat_minor": 2
}
