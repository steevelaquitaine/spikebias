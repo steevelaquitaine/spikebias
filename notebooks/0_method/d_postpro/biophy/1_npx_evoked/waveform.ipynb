{
 "cells": [
  {
   "cell_type": "markdown",
   "metadata": {},
   "source": [
    "# Extract and save waveforms\n",
    "\n",
    "author: steeve.laquitaine@epfl.ch  \n",
    "date: 30.01.2024"
   ]
  },
  {
   "cell_type": "markdown",
   "metadata": {},
   "source": [
    "### Compute waveforms \n",
    "\n",
    "```bash\n",
    "# submit to cluster\n",
    "sbatch cluster/postpro/marques_silico/extract_waveform_ground_truth.sbatch # ground truth\n",
    "sbatch cluster/postpro/marques_silico/extract_waveform_sorted.sbatch # sorted\n",
    "```"
   ]
  },
  {
   "cell_type": "markdown",
   "metadata": {},
   "source": [
    "### Load waveforms \n",
    "\n",
    "Activate `npx10m_384ch...`"
   ]
  },
  {
   "cell_type": "code",
   "execution_count": 2,
   "metadata": {},
   "outputs": [
    {
     "name": "stdout",
     "output_type": "stream",
     "text": [
      "The autoreload extension is already loaded. To reload it, use:\n",
      "  %reload_ext autoreload\n",
      "2024-01-15 14:05:40,176 - root - utils.py - get_config - INFO - Reading experiment config.\n",
      "2024-01-15 14:05:40,191 - root - utils.py - get_config - INFO - Reading experiment config. - done\n"
     ]
    },
    {
     "data": {
      "text/plain": [
       "WaveformExtractor: 384 channels - 852 units - 1 segments\n",
       "  before:120 after:120 n_per_units:500"
      ]
     },
     "execution_count": 2,
     "metadata": {},
     "output_type": "execute_result"
    }
   ],
   "source": [
    "# import libs\n",
    "%load_ext autoreload\n",
    "%autoreload 2\n",
    "\n",
    "import os\n",
    "import spikeinterface as si\n",
    "\n",
    "# move to PROJECT PATH\n",
    "PROJ_PATH = \"/gpfs/bbp.cscs.ch/project/proj85/home/laquitai/preprint_2023/\"\n",
    "os.chdir(PROJ_PATH)\n",
    "from src.nodes.utils import get_config\n",
    "from src.nodes.postpro import waveform\n",
    "\n",
    "# get experiment config\n",
    "data_conf, param_conf = get_config(\"silico_neuropixels\", \"stimulus\").values()\n",
    "STUDY_FOLDER = data_conf[\"postprocessing\"][\"waveform\"][\"ground_truth\"][\"study\"]\n",
    "REC_FOLDER = data_conf[\"preprocessing\"][\"output\"][\"trace_file_path\"]\n",
    "\n",
    "# load \n",
    "recording = si.load_extractor(REC_FOLDER)\n",
    "we = waveform.load(recording, STUDY_FOLDER, ms_before=3, ms_after=3)\n",
    "we"
   ]
  }
 ],
 "metadata": {
  "kernelspec": {
   "display_name": "npx_10m_384ch_unit_classes",
   "language": "python",
   "name": "python3"
  },
  "language_info": {
   "codemirror_mode": {
    "name": "ipython",
    "version": 3
   },
   "file_extension": ".py",
   "mimetype": "text/x-python",
   "name": "python",
   "nbconvert_exporter": "python",
   "pygments_lexer": "ipython3",
   "version": "3.9.7"
  },
  "orig_nbformat": 4
 },
 "nbformat": 4,
 "nbformat_minor": 2
}
