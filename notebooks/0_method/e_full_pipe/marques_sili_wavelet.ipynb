{
 "cells": [
  {
   "cell_type": "markdown",
   "metadata": {},
   "source": [
    "# Pipeline"
   ]
  },
  {
   "cell_type": "markdown",
   "metadata": {},
   "source": [
    "```bash\n",
    "# preprocess (select Butterworth or wavelet)\n",
    "sbatch cluster/processing/marques_silico/process_concat.sbatch\n",
    "\n",
    "# sort with e.g., ks3\n",
    "sbatch cluster/sorting/marques_silico/sort_ks3.sbatch\n",
    "```"
   ]
  }
 ],
 "metadata": {
  "language_info": {
   "name": "python"
  }
 },
 "nbformat": 4,
 "nbformat_minor": 2
}
