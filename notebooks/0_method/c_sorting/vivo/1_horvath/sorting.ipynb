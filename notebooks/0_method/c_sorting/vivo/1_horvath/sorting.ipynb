{
 "cells": [
  {
   "attachments": {},
   "cell_type": "markdown",
   "metadata": {},
   "source": [
    "# Sorting \n",
    "\n",
    "Submit to cluster:\n",
    "\n",
    "```bash\n",
    "`sbatch sbatch/sort_horvath_file_1.sbatch` \n",
    "`sbatch sbatch/sort_horvath_file_2.sbatch` \n",
    "`sbatch sbatch/sort_horvath_file_3.sbatch`\n",
    "``````"
   ]
  }
 ],
 "metadata": {
  "language_info": {
   "name": "python"
  },
  "orig_nbformat": 4
 },
 "nbformat": 4,
 "nbformat_minor": 2
}
