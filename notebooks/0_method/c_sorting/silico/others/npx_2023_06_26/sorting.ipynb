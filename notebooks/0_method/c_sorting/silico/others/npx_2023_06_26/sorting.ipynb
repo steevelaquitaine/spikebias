{
 "cells": [
  {
   "cell_type": "markdown",
   "metadata": {},
   "source": [
    "# Sorting \n",
    "\n",
    "Edit `sbatch cluster/sorting/sort_npx_2023_06_16_.sbatch` and submit to cluster"
   ]
  }
 ],
 "metadata": {
  "language_info": {
   "name": "python"
  },
  "orig_nbformat": 4
 },
 "nbformat": 4,
 "nbformat_minor": 2
}
