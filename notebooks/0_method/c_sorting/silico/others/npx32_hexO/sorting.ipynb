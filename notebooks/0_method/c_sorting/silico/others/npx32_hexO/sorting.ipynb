{
 "cells": [
  {
   "cell_type": "markdown",
   "metadata": {},
   "source": [
    "# Sorting \n",
    "\n",
    "Edit `sbatch cluster/sorting/sort_npx_2023_02_19.sbatch` and submit to cluster"
   ]
  }
 ],
 "metadata": {
  "language_info": {
   "name": "python"
  },
  "orig_nbformat": 4
 },
 "nbformat": 4,
 "nbformat_minor": 2
}
