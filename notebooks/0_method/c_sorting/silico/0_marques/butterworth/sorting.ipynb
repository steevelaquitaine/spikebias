{
 "cells": [
  {
   "cell_type": "markdown",
   "metadata": {},
   "source": [
    "# Sorting \n",
    "\n",
    "\n",
    "### dur: 10 min - filter: Butterworth - noise: fitted\n",
    "\n",
    "```bash\n",
    "$ sbatch cluster/sorting/marques_silico/sort_herdingspikes.sbatch # herdingspikes  \n",
    "$ sbatch cluster/sorting/marques_silico/sort_ks.sbatch # kilosort  \n",
    "$ sbatch cluster/sorting/marques_silico/sort_ks2.sbatch # kilosort 2.0  \n",
    "$ sbatch cluster/sorting/marques_silico/sort_ks2_5.sbatch # kilosort 2.5    \n",
    "$ sbatch cluster/sorting/marques_silico/sort_ks3.sbatch # kilosort 3.0  \n",
    "$ sbatch cluster/sorting/marques_silico/sort_ks4.sbatch # kilosort 4.0  \n",
    "```\n",
    "### dur: 40 min - filter: Butterworth - noise: 0uV\n",
    "\n",
    "$ sbatch cluster/sorting/marques_silico/40m/sort_ks3_buttw_noise_0uV.sbatch\n",
    "\n",
    "\n",
    "### dur: 40 min - filter: Butterworth - noise: 20 perc lower\n",
    "\n",
    "$ sbatch cluster/sorting/marques_silico/40m/sort_ks3_buttw_noise_20_perc_lower.sbatch\n"
   ]
  }
 ],
 "metadata": {
  "language_info": {
   "name": "python"
  },
  "orig_nbformat": 4
 },
 "nbformat": 4,
 "nbformat_minor": 2
}
