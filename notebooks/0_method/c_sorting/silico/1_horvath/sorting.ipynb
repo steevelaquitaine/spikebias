{
 "cells": [
  {
   "attachments": {},
   "cell_type": "markdown",
   "metadata": {},
   "source": [
    "# Sorting "
   ]
  },
  {
   "cell_type": "markdown",
   "metadata": {},
   "source": [
    "```bash\n",
    "sbatch cluster/sorting/horvath_silico/sort_probe1_ks3.sbatch\n",
    "sbatch cluster/sorting/horvath_silico/sort_probe2_ks3.sbatch\n",
    "sbatch cluster/sorting/horvath_silico/sort_probe3_ks3.sbatch\n",
    "```"
   ]
  }
 ],
 "metadata": {
  "language_info": {
   "name": "python"
  },
  "orig_nbformat": 4
 },
 "nbformat": 4,
 "nbformat_minor": 2
}
