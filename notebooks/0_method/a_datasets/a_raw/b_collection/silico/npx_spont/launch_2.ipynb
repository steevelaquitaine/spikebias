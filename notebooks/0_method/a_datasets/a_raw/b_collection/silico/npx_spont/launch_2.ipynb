{
 "cells": [
  {
   "attachments": {},
   "cell_type": "markdown",
   "metadata": {},
   "source": [
    "# Launch campaign 2\n",
    "\n",
    "author: steeve.laquitaine@epfl.ch  \n",
    "date: 30-01-2024  \n",
    "campaign takes 10 hours max to complete "
   ]
  },
  {
   "attachments": {},
   "cell_type": "markdown",
   "metadata": {},
   "source": [
    "# Installation\n",
    "\n",
    "Load bbp-worflow\n",
    "\n",
    "```bash\n",
    "module load unstable py-bbp-workflow-cli;\n",
    "bbp-workflow prepare-for-upgrade\n",
    "bbp-workflow version \n",
    "# Username: laquitai\n",
    "# Password: \n",
    "# Version tag: latest\n",
    "# New release found under latest tag!\n",
    "# Restarting...\n",
    "# Waiting for the bbp-workflow to become alive.....\n",
    "# Client version: 3.1.1\n",
    "# Server version: 3.1.31\n",
    "```\n",
    "\n",
    "* see (1), official documentation (2)\n"
   ]
  },
  {
   "attachments": {},
   "cell_type": "markdown",
   "metadata": {},
   "source": [
    "# Configuration\n",
    "\n",
    "0 - copy edited workflow configs and code to data destination path:\n",
    "\n",
    "```bash\n",
    "\n",
    "rsync -r /gpfs/bbp.cscs.ch/project/proj85/home/laquitai/spikebias/conf/silico_neuropixels/2024_01_30/bbp_workflow/workflows /gpfs/bbp.cscs.ch/project/proj85/scratch/laquitai/raw/neuropixels_lfp_10m_384ch_hex0_rou04_pfr03_40Khz_2024_01_30_campaign02/workflows/\n",
    "```"
   ]
  },
  {
   "attachments": {},
   "cell_type": "markdown",
   "metadata": {},
   "source": [
    "# Initialize campaign\n",
    "\n",
    "```bash\n",
    "bbp-workflow launch-bb5 --follow --config workflows/GenerateCampaign__GroupwiseConductanceDepolarisation__SSCx-O1_NoStim.cfg bbp_workflow.simulation GenerateSimulationCampaign   \n",
    "```"
   ]
  },
  {
   "attachments": {},
   "cell_type": "markdown",
   "metadata": {},
   "source": [
    "# Launch campaign\n",
    "\n",
    "Update sim-config-url with simulation campaign url printed by previous command and launch\n",
    "\n",
    "```bash\n",
    "bbp-workflow launch --follow --config workflows/LaunchCampaign__GroupwiseConductanceDepolarisation__SSCx-O1.cfg bbp_workflow.simulation SimCampaign sim-config-url=https://bbp.epfl.ch/nexus/v1/resources/bbp/somatosensorycortex/_/https:%2F%2Fbbp.epfl.ch%2Fneurosciencegraph%2Fdata%2F6284fc61-cc73-4a86-a123-2b8047a7d688 parallel-jobs=8\n",
    "# ...\n",
    "# Submitted batch job 1994096\n",
    "# ...\n",
    "```"
   ]
  },
  {
   "attachments": {},
   "cell_type": "markdown",
   "metadata": {},
   "source": [
    "# Track\n",
    "\n",
    "Track on luigi at https://bbp-workflow-laquitai.kcp.bbp.epfl.ch/static/visualiser/index.html#order=4%2Cdesc\n",
    "    a. Click on running then on the \"eye\" icon next to your simulation among the listed ones."
   ]
  },
  {
   "cell_type": "markdown",
   "metadata": {
    "vscode": {
     "languageId": "plaintext"
    }
   },
   "source": [
    "## Migrate data to another path\n",
    "\n",
    "status: successful!\n",
    "\n",
    "sim-config-url is nexus' endpoint\n",
    "\n",
    "```bash\n",
    "mkdir -p /gpfs/bbp.cscs.ch/project/proj85/laquitai/spikebias_paper/raw/neuropixels_lfp_10m_384ch_hex0_rou04_pfr03_40Khz_2024_01_30_campaign02/\n",
    "\n",
    "bbp-workflow launch --follow \\\n",
    "    bbp_workflow.simulation MoveSimCampaign \\\n",
    "        sim-config-url=https://bbp.epfl.ch/nexus/v1/resources/bbp/somatosensorycortex/_/https:%2F%2Fbbp.epfl.ch%2Fneurosciencegraph%2Fdata%2F6284fc61-cc73-4a86-a123-2b8047a7d688 \\\n",
    "        path-prefix=/gpfs/bbp.cscs.ch/project/proj85/laquitai/spikebias_paper/raw/neuropixels_lfp_10m_384ch_hex0_rou04_pfr03_40Khz_2024_01_30_campaign02/\n",
    "```"
   ]
  }
 ],
 "metadata": {
  "language_info": {
   "name": "python"
  },
  "orig_nbformat": 4
 },
 "nbformat": 4,
 "nbformat_minor": 2
}
