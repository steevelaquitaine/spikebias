{
 "cells": [
  {
   "attachments": {},
   "cell_type": "markdown",
   "metadata": {},
   "source": [
    "# Launch disconnected\n",
    "\n",
    "author: steeve.laquitaine@epfl.ch  \n",
    "date: 30-01-2024  \n",
    "campaign takes 10 hours max to complete "
   ]
  },
  {
   "attachments": {},
   "cell_type": "markdown",
   "metadata": {},
   "source": [
    "# Installation\n",
    "\n",
    "Load bbp-worflow\n",
    "\n",
    "```bash\n",
    "module load unstable py-bbp-workflow-cli;\n",
    "bbp-workflow prepare-for-upgrade\n",
    "bbp-workflow version \n",
    "# Username: laquitai\n",
    "# Password: \n",
    "# Version tag: latest\n",
    "# New release found under latest tag!\n",
    "# Restarting...\n",
    "# Waiting for the bbp-workflow to become alive.....\n",
    "# Client version: 3.1.1\n",
    "# Server version: 3.1.31\n",
    "```\n",
    "\n",
    "* see (1), official documentation (2)\n"
   ]
  },
  {
   "attachments": {},
   "cell_type": "markdown",
   "metadata": {},
   "source": [
    "# Configuration\n",
    "\n",
    "0 - copy edited workflow configs and code to data destination path:\n",
    "\n",
    "```bash\n",
    "\n",
    "rsync -r /gpfs/bbp.cscs.ch/project/proj85/home/laquitai/spikebias/conf/silico_neuropixels/npx_spont/sims/2024_11_16_disconnected_campaign2/bbp_workflow/workflows/ /gpfs/bbp.cscs.ch/project/proj85/scratch/laquitai/raw/neuropixels_lfp_10m_384ch_hex01_rou04_pfr03_40Khz_2024_11_16_disconnected_campaign2/workflows/\n",
    "```"
   ]
  },
  {
   "attachments": {},
   "cell_type": "markdown",
   "metadata": {},
   "source": [
    "# Initialize campaign\n",
    "\n",
    "The circuit should never get connected:\n",
    "\n",
    "* set \"reconn_delay\": 100000, \n",
    "* set \"data_for_connected_adjustment_fit_name\": \"\" to ensure firing rate remains the same \n",
    "\n",
    "```bash\n",
    "bbp-workflow launch-bb5 --follow --config workflows/GenerateCampaign__GroupwiseConductanceDepolarisation__SSCx-O1_NoStim.cfg bbp_workflow.simulation GenerateSimulationCampaign   \n",
    "```"
   ]
  },
  {
   "attachments": {},
   "cell_type": "markdown",
   "metadata": {},
   "source": [
    "# Launch campaign\n",
    "\n",
    "- Update sim-config-url with \"simulation campaign\" url printed by previous command and launch\n",
    "- note: the launch has been updated to fix a libsonata bug/update.\n",
    "\n",
    "```bash\n",
    "bbp-workflow launch --follow --config workflows/LaunchCampaign__GroupwiseConductanceDepolarisation__SSCx-O1.cfg bbp_workflow.simulation SimCampaign sim-config-url=https://bbp.epfl.ch/nexus/v1/resources/bbp/somatosensorycortex/_/https:%2F%2Fbbp.epfl.ch%2Fneurosciencegraph%2Fdata%2F6196211a-f976-4610-b3da-701903e378a8 parallel-jobs=6\n",
    "# ...\n",
    "# Submitted batch job 1994096\n",
    "# ...\n",
    "```\n",
    "\n",
    "\n",
    "* to scale down the job to less nodes:\n",
    "\n",
    "```bash\n",
    "bbp-workflow launch --follow bbp_workflow.simulation SimCampaignThrottle sim-config-url=https://bbp.epfl.ch/nexus/v1/resources/bbp/somatosensorycortex/_/https:%2F%2Fbbp.epfl.ch%2Fneurosciencegraph%2Fdata%2F6196211a-f976-4610-b3da-701903e378a8 parallel-jobs=1\n",
    "```\n",
    "\n",
    "or \n",
    "\n",
    "```\n",
    "scontrol update ArrayTaskThrottle=1 JobID=<main_job_id>\n",
    "```"
   ]
  },
  {
   "cell_type": "markdown",
   "metadata": {
    "vscode": {
     "languageId": "plaintext"
    }
   },
   "source": [
    "## Migrate data to another path\n",
    "\n",
    "status: successful\n",
    "\n",
    "```bash\n",
    "mkdir -p /gpfs/bbp.cscs.ch/project/proj85/laquitai/spikebias_paper/raw/neuropixels_lfp_10m_384ch_hex01_rou04_pfr03_40Khz_2024_11_16_disconnected_campaign2/\n",
    "\n",
    "bbp-workflow launch --follow \\\n",
    "    bbp_workflow.simulation MoveSimCampaign \\\n",
    "        sim-config-url=https://bbp.epfl.ch/nexus/v1/resources/bbp/somatosensorycortex/_/https:%2F%2Fbbp.epfl.ch%2Fneurosciencegraph%2Fdata%2F6196211a-f976-4610-b3da-701903e378a8 \\\n",
    "        path-prefix=/gpfs/bbp.cscs.ch/project/proj85/laquitai/spikebias_paper/raw/neuropixels_lfp_10m_384ch_hex01_rou04_pfr03_40Khz_2024_11_16_disconnected_campaign2/\n",
    "\n",
    "```"
   ]
  },
  {
   "attachments": {},
   "cell_type": "markdown",
   "metadata": {},
   "source": [
    "# Track\n",
    "\n",
    "Track on luigi at https://bbp-workflow-laquitai.kcp.bbp.epfl.ch/static/visualiser/index.html#order=4%2Cdesc\n",
    "    a. Click on running then on the \"eye\" icon next to your simulation among the listed ones."
   ]
  }
 ],
 "metadata": {
  "language_info": {
   "name": "python"
  },
  "orig_nbformat": 4
 },
 "nbformat": 4,
 "nbformat_minor": 2
}
