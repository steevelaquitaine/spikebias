{
 "cells": [
  {
   "cell_type": "code",
   "execution_count": 5,
   "metadata": {},
   "outputs": [
    {
     "name": "stdout",
     "output_type": "stream",
     "text": [
      "The autoreload extension is already loaded. To reload it, use:\n",
      "  %reload_ext autoreload\n",
      "2024-01-18 14:00:31,423 - root - utils.py - get_config - INFO - Reading experiment config.\n",
      "2024-01-18 14:00:31,432 - root - utils.py - get_config - INFO - Reading experiment config. - done\n"
     ]
    }
   ],
   "source": [
    "# SET PACKAGES\n",
    "%load_ext autoreload\n",
    "%autoreload 2\n",
    "import os\n",
    "import pandas as pd\n",
    "import numpy as np\n",
    "from matplotlib import pyplot as plt\n",
    "import pandas as pd\n",
    "import spikeinterface as si\n",
    "pd.set_option('display.max_colwidth', None)\n",
    "\n",
    "# SET PATHS\n",
    "PROJ_PATH = \"/gpfs/bbp.cscs.ch/project/proj85/home/laquitai/preprint_2023/\"\n",
    "\n",
    "os.chdir(PROJ_PATH)\n",
    "from src.nodes.load import load_campaign_params\n",
    "from src.nodes.truth.silico import ground_truth\n",
    "from src.nodes.utils import get_config\n",
    "from src.nodes.utils import write_metadata\n",
    "from src.nodes.dataeng.silico import probe_wiring\n",
    "from src.nodes import viz \n",
    "\n",
    "# SETUP CONFIG\n",
    "data_conf, param_conf = get_config(\"buccino_2020\", \"2020\").values()"
   ]
  },
  {
   "cell_type": "code",
   "execution_count": 12,
   "metadata": {},
   "outputs": [
    {
     "name": "stderr",
     "output_type": "stream",
     "text": [
      "/gpfs/bbp.cscs.ch/project/proj85/scratch/laquitai/4_preprint_2023/envs/npx_10m_384ch_unit_classes/lib/python3.9/site-packages/hdmf/spec/namespace.py:531: UserWarning: Ignoring cached namespace 'hdmf-common' version 1.1.3 because version 1.8.0 is already loaded.\n",
      "  warn(\"Ignoring cached namespace '%s' version %s because version %s is already loaded.\"\n",
      "/gpfs/bbp.cscs.ch/project/proj85/scratch/laquitai/4_preprint_2023/envs/npx_10m_384ch_unit_classes/lib/python3.9/site-packages/hdmf/spec/namespace.py:531: UserWarning: Ignoring cached namespace 'core' version 2.2.5 because version 2.6.0-alpha is already loaded.\n",
      "  warn(\"Ignoring cached namespace '%s' version %s because version %s is already loaded.\"\n",
      "/gpfs/bbp.cscs.ch/project/proj85/scratch/laquitai/4_preprint_2023/envs/npx_10m_384ch_unit_classes/lib/python3.9/site-packages/pynwb/ecephys.py:90: UserWarning: ElectricalSeries 'ElectricalSeries': The second dimension of data does not match the length of electrodes. Your data may be transposed.\n",
      "  warnings.warn(\"%s '%s': The second dimension of data does not match the length of electrodes. \"\n"
     ]
    },
    {
     "name": "stdout",
     "output_type": "stream",
     "text": [
      "Probe - 384ch - 1shanks\n"
     ]
    }
   ],
   "source": [
    "# load raw dataset\n",
    "Recording = si.extractors.read_nwb(data_conf[\"raw_data\"][\"input\"])\n",
    "\n",
    "# check is probe\n",
    "try:\n",
    "    print(Recording.get_probe())\n",
    "except:\n",
    "    print(\"There is no probe attached\")"
   ]
  }
 ],
 "metadata": {
  "kernelspec": {
   "display_name": "npx_10m_384ch_unit_classes",
   "language": "python",
   "name": "python3"
  },
  "language_info": {
   "codemirror_mode": {
    "name": "ipython",
    "version": 3
   },
   "file_extension": ".py",
   "mimetype": "text/x-python",
   "name": "python",
   "nbconvert_exporter": "python",
   "pygments_lexer": "ipython3",
   "version": "3.9.7"
  }
 },
 "nbformat": 4,
 "nbformat_minor": 2
}
