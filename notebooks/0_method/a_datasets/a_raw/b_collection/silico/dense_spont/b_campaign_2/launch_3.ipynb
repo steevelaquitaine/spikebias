{
 "cells": [
  {
   "attachments": {},
   "cell_type": "markdown",
   "metadata": {},
   "source": [
    "# Setup and launch probe 3 campaign 2\n",
    "\n",
    "author: steeve.laquitaine@epfl.ch  \n",
    "date: 28-11-2023  \n",
    "campaign takes 5 hours max to complete "
   ]
  },
  {
   "attachments": {},
   "cell_type": "markdown",
   "metadata": {},
   "source": [
    "# Installation\n",
    "\n",
    "Load bbp-worflow\n",
    "\n",
    "```bash\n",
    "module load unstable py-bbp-workflow-cli;\n",
    "bbp-workflow prepare-for-upgrade\n",
    "bbp-workflow version \n",
    "# Username: laquitai\n",
    "# Password: \n",
    "# Version tag: latest\n",
    "# New release found under latest tag!\n",
    "# Restarting...\n",
    "# Waiting for the bbp-workflow to become alive.....\n",
    "# Client version: 3.1.1\n",
    "# Server version: 3.1.31\n",
    "```\n",
    "\n",
    "* see (1), official documentation (2)\n"
   ]
  },
  {
   "attachments": {},
   "cell_type": "markdown",
   "metadata": {},
   "source": [
    "# Configuration\n",
    "\n",
    "copy configs to data path:\n",
    "\n",
    "```bash\n",
    "rsync -rv /gpfs/bbp.cscs.ch/project/proj68/home/laquitai/spikebias/conf/silico_horvath/campaign_2/probe_3/bbp_workflow/workflows/ /gpfs/bbp.cscs.ch/project/proj68/scratch/laquitai/raw/silico_horvath_probe3_lfp_10m_128ch_hex0_rou04_pfr03_20Khz_2023_11_28_campaign02/workflows/\n",
    "```"
   ]
  },
  {
   "attachments": {},
   "cell_type": "markdown",
   "metadata": {},
   "source": [
    "# Initialize campaign\n",
    "\n",
    "Creates folders, BlueConfigs., etc..., run this from workflows' parent directory, runs the `MODULE` bbp_workflow.simulation and `TASK` specified under the [GenerateSimulationCampaign] section.\n",
    "\n",
    "```bash\n",
    "cd /gpfs/bbp.cscs.ch/project/proj68/scratch/laquitai/raw/silico_horvath_probe3_lfp_10m_128ch_hex0_rou04_pfr03_20Khz_2023_11_28_campaign02\n",
    "bbp-workflow launch-bb5 --follow --config workflows/GenerateCampaign__GroupwiseConductanceDepolarisation__SSCx-O1_NoStim.cfg bbp_workflow.simulation GenerateSimulationCampaign\n",
    "# Submitted batch job 1669245\n",
    "```"
   ]
  },
  {
   "attachments": {},
   "cell_type": "markdown",
   "metadata": {},
   "source": [
    "# Launch campaign\n",
    "\n",
    "Copy `Simulation campaign:` rul (printed in terminal from previous command) to launch command (like this https://bbp.epfl.ch/nexus/v1/resources/bbp/somatosensorycortex/_/3f543462-7a6f-4742-b62e-f03412769dbd)  \n",
    "\n",
    "```bash\n",
    "bbp-workflow launch --follow --config workflows/LaunchCampaign__GroupwiseConductanceDepolarisation__SSCx-O1.cfg bbp_workflow.simulation SimCampaign sim-config-url=https://bbp.epfl.ch/nexus/v1/resources/bbp/somatosensorycortex/_/https:%2F%2Fbbp.epfl.ch%2Fneurosciencegraph%2Fdata%2F93b9ab3c-1789-40f3-8830-50c321cf367e parallel-jobs=8\n",
    "```\n",
    "\n"
   ]
  },
  {
   "cell_type": "markdown",
   "metadata": {
    "vscode": {
     "languageId": "plaintext"
    }
   },
   "source": [
    "# Move to another path (optional)\n",
    "\n",
    "```bash\n",
    "mkdir -p /gpfs/bbp.cscs.ch/project/proj85/laquitai/preprint_2024/raw/silico_horvath_probe3_lfp_10m_128ch_hex0_rou04_pfr03_20Khz_2023_11_28_campaign02/\n",
    "\n",
    "bbp-workflow launch --follow \\\n",
    "    bbp_workflow.simulation MoveSimCampaign \\\n",
    "        sim-config-url=https://bbp.epfl.ch/nexus/v1/resources/bbp/somatosensorycortex/_/https:%2F%2Fbbp.epfl.ch%2Fneurosciencegraph%2Fdata%2F93b9ab3c-1789-40f3-8830-50c321cf367e \\\n",
    "        path-prefix=/gpfs/bbp.cscs.ch/project/proj85/laquitai/preprint_2024/raw/silico_horvath_probe3_lfp_10m_128ch_hex0_rou04_pfr03_20Khz_2023_11_28_campaign02/\n",
    "```"
   ]
  },
  {
   "attachments": {},
   "cell_type": "markdown",
   "metadata": {},
   "source": [
    "# Track\n",
    "\n",
    "Track on luigi at https://bbp-workflow-laquitai.kcp.bbp.epfl.ch/static/visualiser/index.html#order=4%2Cdesc\n",
    "    a. Click on running then on the \"eye\" icon next to your simulation among the listed ones."
   ]
  }
 ],
 "metadata": {
  "language_info": {
   "name": "python"
  },
  "orig_nbformat": 4
 },
 "nbformat": 4,
 "nbformat_minor": 2
}
