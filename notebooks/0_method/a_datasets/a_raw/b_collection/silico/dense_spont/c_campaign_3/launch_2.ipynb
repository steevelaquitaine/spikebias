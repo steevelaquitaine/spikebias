{
 "cells": [
  {
   "attachments": {},
   "cell_type": "markdown",
   "metadata": {},
   "source": [
    "# Launch probe 2 campaign 2\n",
    "\n",
    "author: steeve.laquitaine@epfl.ch  \n",
    "date: 23-10-2023  \n",
    "campaign takes 5 hours max to complete "
   ]
  },
  {
   "attachments": {},
   "cell_type": "markdown",
   "metadata": {},
   "source": [
    "# Installation\n",
    "\n",
    "Load bbp-worflow\n",
    "\n",
    "```bash\n",
    "module load unstable py-bbp-workflow-cli;\n",
    "bbp-workflow prepare-for-upgrade\n",
    "bbp-workflow version \n",
    "# Username: laquitai\n",
    "# Password: \n",
    "# Version tag: latest\n",
    "# New release found under latest tag!\n",
    "# Restarting...\n",
    "# Waiting for the bbp-workflow to become alive.....\n",
    "# Client version: 3.1.1\n",
    "# Server version: 3.1.31\n",
    "```\n",
    "\n",
    "* see (1), official documentation (2)\n"
   ]
  },
  {
   "attachments": {},
   "cell_type": "markdown",
   "metadata": {},
   "source": [
    "# Configuration\n",
    "\n",
    "0 - copy edited workflow configs and code to data destination path:\n",
    "\n",
    "```bash\n",
    "\n",
    "rsync -r /gpfs/bbp.cscs.ch/project/proj85/home/laquitai/spikebias/conf/silico_horvath/campaign_3/probe_2/bbp_workflow/workflows/ /gpfs/bbp.cscs.ch/project/proj85/scratch/laquitai/raw/silico_horvath_probe2_lfp_10m_128ch_hex0_rou04_pfr03_20Khz_2023_12_01_campaign03/workflows/\n",
    "```"
   ]
  },
  {
   "attachments": {},
   "cell_type": "markdown",
   "metadata": {},
   "source": [
    "# Initialize campaign\n",
    "\n",
    "In experiment path, run that single command: \n",
    "\n",
    "```bash\n",
    "bbp-workflow launch-bb5 --follow --config workflows/GenerateCampaign__GroupwiseConductanceDepolarisation__SSCx-O1_NoStim.cfg bbp_workflow.simulation GenerateSimulationCampaign   \n",
    "# ...\n",
    "# Submitted batch job 1669245\n",
    "# ...\n",
    "```\n",
    "\n",
    "It creates folders, BlueConfigs., etc..., run this from workflows' parent directory, runs the `MODULE` bbp_workflow.simulation and `TASK` specified under the [GenerateSimulationCampaign] section.\n"
   ]
  },
  {
   "attachments": {},
   "cell_type": "markdown",
   "metadata": {},
   "source": [
    "# Launch campaign\n",
    "\n",
    "```bash\n",
    "bbp-workflow launch --follow --config workflows/LaunchCampaign__GroupwiseConductanceDepolarisation__SSCx-O1.cfg bbp_workflow.simulation SimCampaign sim-config-url=https://bbp.epfl.ch/nexus/v1/resources/bbp/somatosensorycortex/_/https:%2F%2Fbbp.epfl.ch%2Fneurosciencegraph%2Fdata%2F44898961-76c8-4c19-b22b-2c23755eaa8b parallel-jobs=8\n",
    "```"
   ]
  },
  {
   "cell_type": "markdown",
   "metadata": {
    "vscode": {
     "languageId": "plaintext"
    }
   },
   "source": [
    "# Move to another path (optional)\n",
    "\n",
    "```bash\n",
    "mkdir -p /gpfs/bbp.cscs.ch/project/proj85/laquitai/preprint_2024/raw/silico_horvath_probe2_lfp_10m_128ch_hex0_rou04_pfr03_20Khz_2023_12_01_campaign03/\n",
    "\n",
    "bbp-workflow launch --follow \\\n",
    "    bbp_workflow.simulation MoveSimCampaign \\\n",
    "        sim-config-url=https://bbp.epfl.ch/nexus/v1/resources/bbp/somatosensorycortex/_/https:%2F%2Fbbp.epfl.ch%2Fneurosciencegraph%2Fdata%2F44898961-76c8-4c19-b22b-2c23755eaa8b \\\n",
    "        path-prefix=/gpfs/bbp.cscs.ch/project/proj85/laquitai/preprint_2024/raw/silico_horvath_probe2_lfp_10m_128ch_hex0_rou04_pfr03_20Khz_2023_12_01_campaign03/\n",
    "```"
   ]
  },
  {
   "attachments": {},
   "cell_type": "markdown",
   "metadata": {},
   "source": [
    "# Track\n",
    "\n",
    "Track on luigi at https://bbp-workflow-laquitai.kcp.bbp.epfl.ch/static/visualiser/index.html#order=4%2Cdesc\n",
    "    a. Click on running then on the \"eye\" icon next to your simulation among the listed ones."
   ]
  }
 ],
 "metadata": {
  "language_info": {
   "name": "python"
  },
  "orig_nbformat": 4
 },
 "nbformat": 4,
 "nbformat_minor": 2
}
