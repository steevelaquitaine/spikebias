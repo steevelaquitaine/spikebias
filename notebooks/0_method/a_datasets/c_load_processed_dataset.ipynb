{
 "cells": [
  {
   "cell_type": "code",
   "execution_count": null,
   "id": "b4a2f401-e434-48c1-800e-ea1096334825",
   "metadata": {},
   "outputs": [],
   "source": [
    "# install google drive api\n",
    "!pip install gdown\n",
    "\n",
    "gdown --id  \n",
    "\n"
   ]
  }
 ],
 "metadata": {
  "kernelspec": {
   "display_name": "Python 3 (ipykernel)",
   "language": "python",
   "name": "python3"
  },
  "language_info": {
   "codemirror_mode": {
    "name": "ipython",
    "version": 3
   },
   "file_extension": ".py",
   "mimetype": "text/x-python",
   "name": "python",
   "nbconvert_exporter": "python",
   "pygments_lexer": "ipython3",
   "version": "3.11.10"
  }
 },
 "nbformat": 4,
 "nbformat_minor": 5
}
