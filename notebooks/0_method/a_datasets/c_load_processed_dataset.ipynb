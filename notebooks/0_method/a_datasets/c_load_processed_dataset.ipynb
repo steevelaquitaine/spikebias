{
 "cells": [
  {
   "cell_type": "markdown",
   "id": "6f8cd6a1-f22b-43de-b2e9-80d0364bbd82",
   "metadata": {},
   "source": [
    "# Load processed dataset\n",
    "\n",
    "author: laquitainesteeve@gmail.com\n",
    "\n",
    "* **Purpose**: Load (1m) and unzip (10m) compressed processed dataset (6GB) stored in my google drive\n",
    "* **Duration**: 11 minutes"
   ]
  },
  {
   "cell_type": "code",
   "execution_count": 13,
   "id": "27390faa-68af-480a-83ea-e4fd3536b7b0",
   "metadata": {},
   "outputs": [],
   "source": [
    "import os \n",
    "\n",
    "# project path on dandihub\n",
    "proj_path = \"/home/jovyan/steevelaquitaine/spikebias/\"\n",
    "os.chdir(proj_path)"
   ]
  },
  {
   "cell_type": "code",
   "execution_count": 14,
   "id": "b4a2f401-e434-48c1-800e-ea1096334825",
   "metadata": {},
   "outputs": [
    {
     "name": "stdout",
     "output_type": "stream",
     "text": [
      "Requirement already satisfied: gdown in /opt/conda/lib/python3.11/site-packages (5.2.0)\n",
      "Requirement already satisfied: beautifulsoup4 in /opt/conda/lib/python3.11/site-packages (from gdown) (4.12.3)\n",
      "Requirement already satisfied: filelock in /opt/conda/lib/python3.11/site-packages (from gdown) (3.16.1)\n",
      "Requirement already satisfied: requests[socks] in /opt/conda/lib/python3.11/site-packages (from gdown) (2.32.3)\n",
      "Requirement already satisfied: tqdm in /opt/conda/lib/python3.11/site-packages (from gdown) (4.66.5)\n",
      "Requirement already satisfied: soupsieve>1.2 in /opt/conda/lib/python3.11/site-packages (from beautifulsoup4->gdown) (2.5)\n",
      "Requirement already satisfied: charset-normalizer<4,>=2 in /opt/conda/lib/python3.11/site-packages (from requests[socks]->gdown) (3.4.0)\n",
      "Requirement already satisfied: idna<4,>=2.5 in /opt/conda/lib/python3.11/site-packages (from requests[socks]->gdown) (3.10)\n",
      "Requirement already satisfied: urllib3<3,>=1.21.1 in /opt/conda/lib/python3.11/site-packages (from requests[socks]->gdown) (2.2.3)\n",
      "Requirement already satisfied: certifi>=2017.4.17 in /opt/conda/lib/python3.11/site-packages (from requests[socks]->gdown) (2024.12.14)\n",
      "Requirement already satisfied: PySocks!=1.5.7,>=1.5.6 in /opt/conda/lib/python3.11/site-packages (from requests[socks]->gdown) (1.7.1)\n"
     ]
    }
   ],
   "source": [
    "# install google drive api\n",
    "!pip install gdown \n",
    "!gdown \"19_8nLTGT-FyCscBjzp13qbzLjWVQ4aNT\""
   ]
  },
  {
   "cell_type": "code",
   "execution_count": 24,
   "id": "a9bbcd52-f30b-4fa7-ac3b-73b9b643adfb",
   "metadata": {},
   "outputs": [
    {
     "name": "stdout",
     "output_type": "stream",
     "text": [
      "14567it [10:04, 24.09it/s]\n"
     ]
    }
   ],
   "source": [
    "# unzip and overwrite\n",
    "!unzip -o dataset.zip | tqdm > /dev/null"
   ]
  },
  {
   "cell_type": "code",
   "execution_count": null,
   "id": "8ddbbddc-7cd3-4575-a7aa-12451c81c8dd",
   "metadata": {},
   "outputs": [],
   "source": [
    "!rm -f dataset.zip"
   ]
  },
  {
   "cell_type": "markdown",
   "id": "476337e6-4124-4d5f-ad4b-8247c74e98c2",
   "metadata": {},
   "source": [
    "done"
   ]
  }
 ],
 "metadata": {
  "kernelspec": {
   "display_name": "Python 3 (ipykernel)",
   "language": "python",
   "name": "python3"
  },
  "language_info": {
   "codemirror_mode": {
    "name": "ipython",
    "version": 3
   },
   "file_extension": ".py",
   "mimetype": "text/x-python",
   "name": "python",
   "nbconvert_exporter": "python",
   "pygments_lexer": "ipython3",
   "version": "3.11.10"
  }
 },
 "nbformat": 4,
 "nbformat_minor": 5
}
