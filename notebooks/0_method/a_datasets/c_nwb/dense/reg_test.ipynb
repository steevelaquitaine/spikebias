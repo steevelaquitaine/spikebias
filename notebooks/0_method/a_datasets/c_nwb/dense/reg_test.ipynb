{
 "cells": [
  {
   "cell_type": "markdown",
   "metadata": {},
   "source": [
    "### Regression testing after NWB downloaded from dandiarchive\n",
    "\n",
    "OK!"
   ]
  },
  {
   "cell_type": "code",
   "execution_count": 1,
   "metadata": {},
   "outputs": [
    {
     "name": "stdout",
     "output_type": "stream",
     "text": [
      "2024-11-11 18:24:27,958 - root - utils.py - get_config - INFO - Reading experiment config.\n",
      "2024-11-11 18:24:27,966 - root - utils.py - get_config_dense_spont_from_nwb - INFO - conf/dense_spont/probe_3 config\n",
      "2024-11-11 18:24:27,992 - root - utils.py - get_config - INFO - Reading experiment config. - done\n"
     ]
    }
   ],
   "source": [
    "# SETUP PACKAGES \n",
    "%load_ext autoreload\n",
    "%autoreload 2\n",
    "import os\n",
    "import spikeinterface as si\n",
    "\n",
    "# SET PROJECT PATH\n",
    "PROJ_PATH = \"/gpfs/bbp.cscs.ch/project/proj85/home/laquitai/spikebias\"\n",
    "os.chdir(PROJ_PATH)\n",
    "from src.nodes.utils import get_config\n",
    "\n",
    "# SETUP CONFIG\n",
    "data_conf, param_conf = get_config(\"dense_spont_from_nwb\", \"probe_3\").values()\n",
    "NWB_PATH = data_conf[\"nwb\"]"
   ]
  },
  {
   "cell_type": "code",
   "execution_count": 2,
   "metadata": {},
   "outputs": [],
   "source": [
    "# NWB way\n",
    "RecNWB = si.load_extractor(data_conf[\"probe_wiring\"][\"full\"][\"output\"])\n",
    "\n",
    "# old way\n",
    "RecOld = si.load_extractor(\n",
    "    \"/gpfs/bbp.cscs.ch/project/proj85/scratch/laquitai/4_preprint_2023/0_silico/horvath/concatenated_campaigns/probe3_hex0_rou04_pfr03_20Khz/dataeng/recording/traces_wired\"\n",
    ")"
   ]
  },
  {
   "cell_type": "code",
   "execution_count": 3,
   "metadata": {},
   "outputs": [
    {
     "data": {
      "text/plain": [
       "True"
      ]
     },
     "execution_count": 3,
     "metadata": {},
     "output_type": "execute_result"
    }
   ],
   "source": [
    "# unit-test\n",
    "tracenwb = RecNWB.get_traces()\n",
    "traceold = RecOld.get_traces()\n",
    "(tracenwb == traceold).all()"
   ]
  },
  {
   "cell_type": "code",
   "execution_count": 4,
   "metadata": {},
   "outputs": [
    {
     "data": {
      "text/plain": [
       "'/gpfs/bbp.cscs.ch/project/proj85/scratch/laquitai/4_preprint_2023/0_silico/horvath/concatenated_campaigns/probe3_hex0_rou04_pfr03_20Khz/dataeng/recording/traces_nwb'"
      ]
     },
     "execution_count": 4,
     "metadata": {},
     "output_type": "execute_result"
    }
   ],
   "source": [
    "data_conf[\"probe_wiring\"][\"full\"][\"output\"]"
   ]
  }
 ],
 "metadata": {
  "kernelspec": {
   "display_name": "spikinterf0_100_5",
   "language": "python",
   "name": "python3"
  },
  "language_info": {
   "codemirror_mode": {
    "name": "ipython",
    "version": 3
   },
   "file_extension": ".py",
   "mimetype": "text/x-python",
   "name": "python",
   "nbconvert_exporter": "python",
   "pygments_lexer": "ipython3",
   "version": "3.9.7"
  }
 },
 "nbformat": 4,
 "nbformat_minor": 2
}
