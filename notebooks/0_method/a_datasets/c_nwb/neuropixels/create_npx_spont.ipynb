{
 "cells": [
  {
   "cell_type": "markdown",
   "metadata": {},
   "source": [
    "## NPX - spont\n",
    "\n",
    "spikeinterf0_100_5"
   ]
  },
  {
   "cell_type": "code",
   "execution_count": 1,
   "metadata": {},
   "outputs": [
    {
     "name": "stdout",
     "output_type": "stream",
     "text": [
      "2024-11-06 11:11:38,412 - root - utils.py - get_config - INFO - Reading experiment config.\n",
      "2024-11-06 11:11:38,480 - root - utils.py - get_config - INFO - Reading experiment config. - done\n"
     ]
    }
   ],
   "source": [
    "# SETUP PACKAGES \n",
    "%load_ext autoreload\n",
    "%autoreload 2\n",
    "import os\n",
    "import spikeinterface as si\n",
    "import numpy as np\n",
    "import warnings\n",
    "from pynwb.file import NWBFile, Subject\n",
    "from pynwb import NWBHDF5IO\n",
    "from datetime import datetime\n",
    "from pathlib import Path\n",
    "from pynwb import NWBHDF5IO\n",
    "import uuid\n",
    "from datetime import datetime\n",
    "from dateutil.tz import tzlocal\n",
    "import spikeinterface.extractors as se\n",
    "from neuroconv.tools.spikeinterface import add_recording, add_sorting\n",
    "\n",
    "warnings.filterwarnings(\"ignore\", category=DeprecationWarning) \n",
    "warnings.filterwarnings(\"ignore\", category=UserWarning) \n",
    "\n",
    "\n",
    "# SET PROJECT PATH\n",
    "PROJ_PATH = \"/gpfs/bbp.cscs.ch/project/proj85/home/laquitai/preprint_2023\"\n",
    "os.chdir(PROJ_PATH)\n",
    "from src.nodes.utils import get_config\n",
    "from src.nodes import utils\n",
    "from src.nodes.dataeng.silico import probe_wiring\n",
    "\n",
    "# SETUP CONFIG\n",
    "data_conf, param_conf = get_config(\"silico_neuropixels\", \"concatenated\").values()\n",
    "REC_PATH = data_conf[\"probe_wiring\"][\"full\"][\"output\"]\n",
    "GT_PATH = data_conf[\"sorting\"][\"simulation\"][\"ground_truth\"][\"output\"]\n",
    "NWB_PATH = data_conf[\"nwb\"]\n",
    "\n",
    "# SET PARAMETERS\n",
    "subject_id = \"001\"\n",
    "nwbfile_path = Path.cwd() / \"spikeinterface_to_nwb.nwb\""
   ]
  },
  {
   "cell_type": "code",
   "execution_count": 2,
   "metadata": {},
   "outputs": [],
   "source": [
    "def init_nwbfile(\n",
    "    subject_id=\"001\",\n",
    "    session_description=\"Biophysical simulation in the spontaneous regime\",\n",
    "    identifier=str(uuid.uuid4()),\n",
    "    session_start_time=datetime.now(tzlocal()),\n",
    "    experimenter=\"Steeve Laquitaine\",\n",
    "    lab=\"Blue Brain Project\",\n",
    "    institution=\"EPFL\",\n",
    "    experiment_description=\"Biophysical simulation\",\n",
    "    session_id=\"001\",\n",
    "    related_publications=\"doi:\",\n",
    "):\n",
    "\n",
    "    # parmaetrize session file\n",
    "    nwbfile = NWBFile(\n",
    "        session_description=session_description,\n",
    "        identifier=identifier,\n",
    "        session_start_time=session_start_time,\n",
    "        experimenter=experimenter,\n",
    "        lab=lab,\n",
    "        institution=institution,\n",
    "        experiment_description=experiment_description,\n",
    "        session_id=session_id,\n",
    "        related_publications=related_publications,\n",
    "    )\n",
    "\n",
    "    # subject metadata\n",
    "    nwbfile.subject = Subject(subject_id=subject_id, species=\"Rat\", age=\"P14D\")\n",
    "    return nwbfile\n",
    "\n",
    "\n",
    "def create_dataset():\n",
    "    from spikeinterface.core import generate_ground_truth_recording\n",
    "\n",
    "    recording, sorting = generate_ground_truth_recording(\n",
    "        num_channels=8,\n",
    "        num_units=3,\n",
    "        durations=[60 * 10.0],\n",
    "        seed=0,\n",
    "    )\n",
    "\n",
    "    recording = recording.rename_channels(\n",
    "        new_channel_ids=[\"A\", \"B\", \"C\", \"D\", \"E\", \"F\", \"G\", \"H\"]\n",
    "    )\n",
    "    sorting = sorting.rename_units(new_unit_ids=[\"Unit A\", \"Unit B\", \"Unit C\"])\n",
    "\n",
    "    # Add new properties to the recording and sorting\n",
    "    recording.set_property(\n",
    "        key=\"a_channel_property\",\n",
    "        values=[f\"property {channel}\" for channel in recording.get_channel_ids()],\n",
    "    )\n",
    "    recording.set_property(\n",
    "        key=\"brain_area\",\n",
    "        values=[f\"Area {channel}\" for channel in recording.get_channel_ids()],\n",
    "    )\n",
    "    sorting.set_property(\n",
    "        key=\"a_unit_property\",\n",
    "        values=[\"property Unit A\", \"property Unit B\", \"property Unit C\"],\n",
    "    )\n",
    "    sorting.delete_property(\"gt_unit_locations\")\n",
    "    return recording, sorting"
   ]
  },
  {
   "cell_type": "code",
   "execution_count": 3,
   "metadata": {},
   "outputs": [],
   "source": [
    "# get raw wired RecordingExtractor\n",
    "Recording = si.load_extractor(REC_PATH)\n",
    "Recording = probe_wiring.run(Recording, data_conf, param_conf)\n",
    "\n",
    "# get SortingExtractor\n",
    "# remove features that are not handeled because 3D\n",
    "Sorting = si.load_extractor(GT_PATH)\n",
    "Sorting.delete_property(\"orientation\")"
   ]
  },
  {
   "cell_type": "code",
   "execution_count": null,
   "metadata": {},
   "outputs": [
    {
     "name": "stdout",
     "output_type": "stream",
     "text": [
      "2024-11-05 21:48:21,281 - root - utils.py - create_if_not_exists - INFO - The following path has been created /gpfs/bbp.cscs.ch/project/proj85/scratch/laquitai/4_preprint_2023/0_silico/neuropixels/concatenated_campaigns/nwb\n"
     ]
    }
   ],
   "source": [
    "# create NWB file and add extractors\n",
    "nwbfile = init_nwbfile()\n",
    "add_recording(recording=Recording, nwbfile=nwbfile)\n",
    "add_sorting(sorting=Sorting, nwbfile=nwbfile)\n",
    "\n",
    "# save this to a NWB file\n",
    "utils.create_if_not_exists(os.path.dirname(NWB_PATH))\n",
    "with NWBHDF5IO(path=NWB_PATH, mode=\"w\") as io:\n",
    "    io.write(nwbfile)"
   ]
  },
  {
   "cell_type": "code",
   "execution_count": 6,
   "metadata": {},
   "outputs": [],
   "source": [
    "# load NWB file to check\n",
    "Recording = se.NwbRecordingExtractor(NWB_PATH)\n",
    "Sorting = se.NwbSortingExtractor(NWB_PATH)"
   ]
  }
 ],
 "metadata": {
  "kernelspec": {
   "display_name": "spikinterf0_100_5",
   "language": "python",
   "name": "python3"
  },
  "language_info": {
   "codemirror_mode": {
    "name": "ipython",
    "version": 3
   },
   "file_extension": ".py",
   "mimetype": "text/x-python",
   "name": "python",
   "nbconvert_exporter": "python",
   "pygments_lexer": "ipython3",
   "version": "3.9.7"
  }
 },
 "nbformat": 4,
 "nbformat_minor": 2
}
