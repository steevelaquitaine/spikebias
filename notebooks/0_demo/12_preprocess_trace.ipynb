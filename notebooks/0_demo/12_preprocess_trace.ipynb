{
 "cells": [
  {
   "cell_type": "markdown",
   "metadata": {
    "vscode": {
     "languageId": "plaintext"
    }
   },
   "source": [
    "# Preprocess 10m recording\n",
    "\n",
    "author: laquitainesteeve@gmail.com\n",
    "\n",
    "Tested on Ubuntu 24 with RTX5090 GPU\n",
    "\n",
    "Execution time: 40 secs"
   ]
  },
  {
   "cell_type": "markdown",
   "metadata": {},
   "source": [
    "## Setup\n",
    "\n",
    "1. activate spikebias environment kernel\n",
    "\n",
    "    ```bash\n",
    "    python -m ipykernel install --user --name spikebias --display-name \"spikebias\"\n",
    "    ```\n"
   ]
  },
  {
   "cell_type": "code",
   "execution_count": 1,
   "metadata": {},
   "outputs": [
    {
     "name": "stdout",
     "output_type": "stream",
     "text": [
      "CPU times: user 2.03 s, sys: 2.17 s, total: 4.2 s\n",
      "Wall time: 2.12 s\n"
     ]
    }
   ],
   "source": [
    "%%time \n",
    "%load_ext autoreload\n",
    "%autoreload 2\n",
    "\n",
    "import os\n",
    "import spikeinterface.preprocessing as spre\n",
    "import spikeinterface as si\n",
    "\n",
    "# move to PROJECT PATH\n",
    "PROJ_PATH = \"/home/steeve/steeve/epfl/code/spikebias/\"\n",
    "os.chdir(PROJ_PATH)\n",
    "\n",
    "# import custom package\n",
    "from src.nodes.postpro import waveform\n",
    "from src.nodes.prepro.run import run as prep\n",
    "\n",
    "# setup paths and parameters\n",
    "REC_SECS = 600             # recording duration in seconds\n",
    "FREQ_MIN = 300             # lower cutoff of bandpass filtering\n",
    "RAW_PATH = os.path.join(PROJ_PATH, \"dataset/00_raw/recording_npx_spont\")\n",
    "PREP_PATH = os.path.join(PROJ_PATH, \"dataset/01_intermediate/preprocessing/recording_npx_spont\")\n",
    "\n",
    "# parallel processing parameters\n",
    "N_JOBS = 20                # (default = 20) number of parallel processes for waveform extraction (20/32)\n",
    "CHUNKS = 50000             # (default = 800000) use smaller chunks to use less RAM"
   ]
  },
  {
   "cell_type": "code",
   "execution_count": 2,
   "metadata": {},
   "outputs": [
    {
     "name": "stderr",
     "output_type": "stream",
     "text": [
      "/home/steeve/steeve/epfl/code/spikebias/envs/spikebias/lib/python3.9/site-packages/spikeinterface/core/base.py:1079: UserWarning: Versions are not the same. This might lead to compatibility errors. Using spikeinterface==0.101.2 is recommended\n",
      "  warnings.warn(\n"
     ]
    }
   ],
   "source": [
    "# load recording\n",
    "Recording = si.load_extractor(RAW_PATH)\n",
    "Recording = spre.astype(Recording, \"int16\")\n",
    "\n",
    "# sample first 10 min of recording\n",
    "sfreq = Recording.sampling_frequency\n",
    "\n",
    "# nyquist frequency for high-pass filtering\n",
    "FREQ_MAX = sfreq/2 - 1 # Nyquist frequency"
   ]
  },
  {
   "cell_type": "code",
   "execution_count": 3,
   "metadata": {},
   "outputs": [
    {
     "name": "stdout",
     "output_type": "stream",
     "text": [
      "2025-07-23 14:07:24,295 - root - run.py - run - INFO - Band-pass filtered in 0.0 secs\n",
      "2025-07-23 14:07:24,295 - root - run.py - run - INFO - Pipeline completed in 0.0 secs\n",
      "write_binary_recording with n_jobs = 20 and chunk_size = 50000\n"
     ]
    },
    {
     "data": {
      "application/vnd.jupyter.widget-view+json": {
       "model_id": "760be42d4e1141d49cfb439196299d4e",
       "version_major": 2,
       "version_minor": 0
      },
      "text/plain": [
       "write_binary_recording:   0%|          | 0/480 [00:00<?, ?it/s]"
      ]
     },
     "metadata": {},
     "output_type": "display_data"
    },
    {
     "name": "stdout",
     "output_type": "stream",
     "text": [
      "CPU times: user 283 ms, sys: 346 ms, total: 629 ms\n",
      "Wall time: 1min 6s\n"
     ]
    },
    {
     "data": {
      "text/plain": [
       "BinaryFolderRecording: 384 channels - 40.0kHz - 1 segments - 24,000,000 samples \n",
       "                       600.00s (10.00 minutes) - float32 dtype - 34.33 GiB"
      ]
     },
     "execution_count": 3,
     "metadata": {},
     "output_type": "execute_result"
    }
   ],
   "source": [
    "%%time \n",
    "\n",
    "# load recording\n",
    "Recording = si.load_extractor(RAW_PATH)\n",
    "Recording = spre.astype(Recording, \"int16\")\n",
    "\n",
    "# sample first 10 min of recording\n",
    "sfreq = Recording.sampling_frequency\n",
    "Recording = Recording.frame_slice(start_frame=0, end_frame=Recording.sampling_frequency*REC_SECS)\n",
    "\n",
    "# preprocess recording\n",
    "Recording = prep(Recording, freq_min=FREQ_MIN, freq_max=FREQ_MAX)\n",
    "\n",
    "# save recording\n",
    "Recording.save(folder=PREP_PATH, n_jobs=N_JOBS, \n",
    "            verbose=True, progress_bar=True, overwrite=True, \n",
    "            dtype=\"float32\", chunk_size=CHUNKS)"
   ]
  }
 ],
 "metadata": {
  "kernelspec": {
   "display_name": "spikebias",
   "language": "python",
   "name": "python3"
  },
  "language_info": {
   "codemirror_mode": {
    "name": "ipython",
    "version": 3
   },
   "file_extension": ".py",
   "mimetype": "text/x-python",
   "name": "python",
   "nbconvert_exporter": "python",
   "pygments_lexer": "ipython3",
   "version": "3.9.7"
  }
 },
 "nbformat": 4,
 "nbformat_minor": 2
}
