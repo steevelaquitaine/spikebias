{
 "cells": [
  {
   "cell_type": "markdown",
   "metadata": {},
   "source": [
    "# Spike sorting on RTX 5090\n",
    "\n",
    "10 min recording |\n",
    "\n",
    "author: laquitainesteeve@gmail.com\n",
    "\n",
    "Tested on an Ubuntu 24 with a 32GB VRAM Nvidia RTX 5090\n",
    "\n",
    "Execution time: 16 min"
   ]
  },
  {
   "cell_type": "markdown",
   "metadata": {},
   "source": [
    "## Setup \n",
    "\n",
    "1. Enable forward compatibility if your GPU and CUDA libraries are more recent and not supported by editing your matlab `startup.m` file to contain \"parallel.gpu.enableCUDAForwardCompatibility(true)\" and:\n",
    "\n",
    "    ```bash\n",
    "    # manually compile Kilosort3 with CUDA support for forward compatibility\n",
    "    sudo apt install gcc-11 g++-11 # install gcc 11 compiler\n",
    "    sudo update-alternatives --install /usr/bin/gcc gcc /usr/bin/gcc-11 100 # enable temporary\n",
    "    cd /home/steeve/steeve/epfl/code/spikebias/dataset/01_intermediate/sorters/Kilosort3_buttw_forwcomp/CUDA/\n",
    "    matlab -batch mexGPUall  # compile matlab mex files\n",
    "    ```\n",
    "\n",
    "2. Activate `spikesort_rtx5090` environment and select kernel\n",
    "\n",
    "    ```bash\n",
    "    python -m ipykernel install --user --name spikesort_rtx5090 --display-name \"spikesort_rtx5090\"\n",
    "    ```\n",
    "\n",
    "3. Run notebook.\n",
    "\n"
   ]
  },
  {
   "cell_type": "code",
   "execution_count": 19,
   "metadata": {},
   "outputs": [
    {
     "name": "stdout",
     "output_type": "stream",
     "text": [
      "The autoreload extension is already loaded. To reload it, use:\n",
      "  %reload_ext autoreload\n",
      "spikeinterface 0.100.5\n",
      "Setting KILOSORT3_PATH environment variable for subprocess calls to: /home/steeve/steeve/epfl/code/spikebias/dataset/01_intermediate/sorters/Kilosort3_buttw_forwcomp\n",
      "CPU times: user 382 µs, sys: 0 ns, total: 382 µs\n",
      "Wall time: 363 µs\n"
     ]
    }
   ],
   "source": [
    "%%time \n",
    "%load_ext autoreload\n",
    "%autoreload 2\n",
    "\n",
    "# import python packages\n",
    "import os\n",
    "import spikeinterface.extractors as se\n",
    "import spikeinterface.sorters as ss\n",
    "import spikeinterface as si\n",
    "print(\"spikeinterface\", si.__version__)\n",
    "\n",
    "# project path\n",
    "PROJ_PATH = \"/home/steeve/steeve/epfl/code/spikebias/\"\n",
    "os.chdir(PROJ_PATH)\n",
    "\n",
    "# import spikebias package\n",
    "from src.nodes.sorting import sort_and_postprocess_10m\n",
    "\n",
    "# recording parameters\n",
    "REC_SECS = 600 \n",
    "RECORDING_PATH = \"./dataset/00_raw/recording_npx_spont/\"\n",
    "\n",
    "# sorting parameters\n",
    "SORTER = \"kilosort3\"\n",
    "SORTER_PATH = \"/home/steeve/steeve/epfl/code/spikebias/dataset/01_intermediate/sorters/Kilosort3_buttw_forwcomp\"\n",
    "SORTING_OUTPUT = \"./temp/SortingKS3/\" \n",
    "SORTER_PARAMS = {\n",
    "    \"detect_threshold\": 6,\n",
    "    \"projection_threshold\": [9, 9],\n",
    "    \"preclust_threshold\": 8,\n",
    "    \"car\": True,\n",
    "    \"minFR\": 0, # modified\n",
    "    \"minfr_goodchannels\": 0, # modified\n",
    "    \"nblocks\": 5,\n",
    "    \"sig\": 20,\n",
    "    \"freq_min\": 300,\n",
    "    \"sigmaMask\": 30,\n",
    "    \"lam\": 20.0,\n",
    "    \"nPCs\": 3,\n",
    "    \"ntbuff\": 64,\n",
    "    \"nfilt_factor\": 4,\n",
    "    \"do_correction\": True,\n",
    "    \"NT\": 65792, # modified    \n",
    "    \"AUCsplit\": 0.8,\n",
    "    \"wave_length\": 61,\n",
    "    \"keep_good_only\": False,\n",
    "    \"skip_kilosort_preprocessing\": False,\n",
    "    \"scaleproc\": None,\n",
    "    \"save_rez_to_mat\": False,\n",
    "    \"delete_tmp_files\": (\"matlab_files\",),\n",
    "    \"delete_recording_dat\": False,\n",
    "}\n",
    "\n",
    "# SET KS3 software environment variable\n",
    "ss.Kilosort3Sorter.set_kilosort3_path(SORTER_PATH)"
   ]
  },
  {
   "cell_type": "markdown",
   "metadata": {},
   "source": [
    "## Minimal spike sorting"
   ]
  },
  {
   "cell_type": "code",
   "execution_count": null,
   "metadata": {},
   "outputs": [],
   "source": [
    "%%time\n",
    "\n",
    "# load recording\n",
    "Recording = si.load_extractor(RECORDING_PATH).frame_slice(start_frame=0, end_frame=Recording.sampling_frequency*REC_SECS)\n",
    "\n",
    "\n",
    "# spike sort\n",
    "Sorting = ss.run_sorter(sorter_name = SORTER,\n",
    "                        recording = Recording,\n",
    "                        folder=\"./temp/SortingKS3\",\n",
    "                        remove_existing_folder = True,\n",
    "                        verbose = True,\n",
    "                        **SORTER_PARAMS)\n",
    "\n",
    "print('\\nRecording', Recording)\n",
    "print('\\nSorted units:', Sorting.unit_ids)"
   ]
  },
  {
   "cell_type": "markdown",
   "metadata": {},
   "source": [
    "## Full pipeline"
   ]
  }
 ],
 "metadata": {
  "kernelspec": {
   "display_name": "Python 3",
   "language": "python",
   "name": "python3"
  },
  "language_info": {
   "codemirror_mode": {
    "name": "ipython",
    "version": 3
   },
   "file_extension": ".py",
   "mimetype": "text/x-python",
   "name": "python",
   "nbconvert_exporter": "python",
   "pygments_lexer": "ipython3",
   "version": "3.9.7"
  }
 },
 "nbformat": 4,
 "nbformat_minor": 2
}
