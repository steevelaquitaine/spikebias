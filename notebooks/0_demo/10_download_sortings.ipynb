{
 "cells": [
  {
   "cell_type": "markdown",
   "id": "15d22b34-dd1f-4f52-9688-8a4b8616e06c",
   "metadata": {
    "editable": true,
    "slideshow": {
     "slide_type": ""
    },
    "tags": []
   },
   "source": [
    "# Download sortings\n",
    "\n",
    "author: laquitainesteeve@gmail.com\n",
    "\n",
    "purpose: download sortings from dandi archive\n",
    "\n",
    "Execution time: 3 secs\n",
    "\n",
    "Special hardware: on CPU, does not require GPU.\n",
    "\n",
    "# Setup \n",
    "\n",
    "Activate dandi virtual environment (envs/dandi.yml)\n",
    "\n",
    "```bash\n",
    "python -m ipykernel install --user --name demo --display-name \"demo\"\n",
    "```"
   ]
  },
  {
   "cell_type": "code",
   "execution_count": null,
   "id": "73b8f812-1185-4419-ab2d-5e9879786b06",
   "metadata": {},
   "outputs": [
    {
     "name": "stdout",
     "output_type": "stream",
     "text": [
      "The autoreload extension is already loaded. To reload it, use:\n",
      "  %reload_ext autoreload\n",
      "spikeinterface 0.101.2\n",
      "CPU times: user 1.13 ms, sys: 0 ns, total: 1.13 ms\n",
      "Wall time: 1.1 ms\n"
     ]
    }
   ],
   "source": [
    "%%time \n",
    "%load_ext autoreload\n",
    "%autoreload 2\n",
    "\n",
    "# import python packages\n",
    "import os\n",
    "import numpy as np\n",
    "from time import time\n",
    "from dandi.dandiapi import DandiAPIClient\n",
    "import spikeinterface.extractors as se\n",
    "import spikeinterface.sorters as ss\n",
    "import spikeinterface\n",
    "from pynwb.file import NWBFile, Subject\n",
    "from pynwb import NWBHDF5IO\n",
    "import uuid\n",
    "from datetime import datetime\n",
    "from dateutil.tz import tzlocal\n",
    "from neuroconv.tools.spikeinterface import add_recording_to_nwbfile, add_sorting_to_nwbfile\n",
    "import spikeinterface as si\n",
    "import os\n",
    "\n",
    "print(\"spikeinterface\", spikeinterface.__version__)\n",
    "\n",
    "proj_path = \"/home/steeve/steeve/epfl/code/spikebias\"\n",
    "os.chdir(proj_path)\n",
    "\n",
    "# custom package\n",
    "from src.nodes.dataloader.dataloader import SortingLoader"
   ]
  },
  {
   "cell_type": "markdown",
   "id": "f9f4059b-ad1f-4583-b619-64a5016ac027",
   "metadata": {},
   "source": [
    "## Load sorting"
   ]
  },
  {
   "cell_type": "code",
   "execution_count": null,
   "id": "8b76324a-355f-4c91-9b27-3d9f89b9ae5f",
   "metadata": {},
   "outputs": [
    {
     "name": "stdout",
     "output_type": "stream",
     "text": [
      "\n",
      " NwbSortingExtractor: 1684 units - 1 segments - 40.0kHz\n",
      "  file_path: https://dandiarchive.s3.amazonaws.com/blobs/3ab/1f4/3ab1f409-beec-4bfe-8fe1-01e747b4fa76\n",
      "CPU times: user 161 ms, sys: 962 μs, total: 162 ms\n",
      "Wall time: 2.61 s\n"
     ]
    },
    {
     "data": {
      "text/html": [
       "<div style='border:1px solid #ddd; padding:10px;'><strong>NwbSortingExtractor: 1684 units - 1 segments - 40.0kHz\n",
       "  file_path: https://dandiarchive.s3.amazonaws.com/blobs/3ab/1f4/3ab1f409-beec-4bfe-8fe1-01e747b4fa76</strong></div><details style='margin-left: 10px;'>  <summary><strong>Unit IDs</strong></summary><ul>['0' '1' '2' ... '1815' '1816' '1817'] </details><details style='margin-left: 10px;'>  <summary><strong>Annotations</strong></summary><ul></details><details style='margin-left: 10px;'><summary><strong>Unit Properties</strong></summary><ul><details><summary><strong>KSLabel</strong></summary>['mua' 'mua' 'mua' ... 'mua' 'mua' 'mua']</details><details><summary><strong>ContamPct</strong></summary>[100. 100. 100. ... 100. 100. 100.]</details><details><summary><strong>Amplitude</strong></summary>[2941.2 3085.6 2360.5 ...  979.6 1007.   690.2]</details><details><summary><strong>KSLabel_repeat</strong></summary>['mua' 'mua' 'mua' ... 'mua' 'mua' 'mua']</details></ul></details>"
      ],
      "text/plain": [
       "NwbSortingExtractor: 1684 units - 1 segments - 40.0kHz\n",
       "  file_path: https://dandiarchive.s3.amazonaws.com/blobs/3ab/1f4/3ab1f409-beec-4bfe-8fe1-01e747b4fa76"
      ]
     },
     "execution_count": 106,
     "metadata": {},
     "output_type": "execute_result"
    }
   ],
   "source": [
    "%%time\n",
    "\n",
    "# load dandiset (npx, spontaneous, 40Khz)\n",
    "dandiset_id = '001250'\n",
    "filepath = 'sub-001-fitted/sub-001-fitted_ses-ks3.nwb' # Kilosort3 sorting of biophy npx spontaneous\n",
    "SFREQ = 40000 # sampling frequency\n",
    "TSTART = 0 # default - these are timestamps\n",
    "\n",
    "# Instantiate and load sorting\n",
    "loader = SortingLoader(dandiset_id, filepath, SFREQ, TSTART)\n",
    "Sorting = loader.load_sorting()\n",
    "\n",
    "# report\n",
    "print('\\n', Sorting)\n",
    "Sorting"
   ]
  },
  {
   "cell_type": "code",
   "execution_count": null,
   "id": "8ced58b1",
   "metadata": {},
   "outputs": [],
   "source": []
  }
 ],
 "metadata": {
  "kernelspec": {
   "display_name": "Python 3",
   "language": "python",
   "name": "python3"
  },
  "language_info": {
   "codemirror_mode": {
    "name": "ipython",
    "version": 3
   },
   "file_extension": ".py",
   "mimetype": "text/x-python",
   "name": "python",
   "nbconvert_exporter": "python",
   "pygments_lexer": "ipython3",
   "version": "3.10.8"
  }
 },
 "nbformat": 4,
 "nbformat_minor": 5
}
