{
 "cells": [
  {
   "cell_type": "markdown",
   "metadata": {},
   "source": [
    "# Spike sorting on RTX 5090\n",
    "\n",
    "10 min recording |\n",
    "\n",
    "author: laquitainesteeve@gmail.com\n",
    "\n",
    "Tested on an Ubuntu 24 with a 32GB VRAM Nvidia RTX 5090\n",
    "\n",
    "Execution time: 16 min"
   ]
  },
  {
   "cell_type": "markdown",
   "metadata": {},
   "source": [
    "## Setup \n",
    "\n",
    "2. Activate `spikesort_rtx5090` environment and select kernel\n",
    "\n",
    "    ```bash\n",
    "    python -m ipykernel install --user --name spikesort_rtx5090 --display-name \"spikesort_rtx5090\"\n",
    "    ```\n",
    "\n",
    "3. Run notebook.\n",
    "\n"
   ]
  },
  {
   "cell_type": "code",
   "execution_count": 2,
   "metadata": {},
   "outputs": [
    {
     "name": "stdout",
     "output_type": "stream",
     "text": [
      "The autoreload extension is already loaded. To reload it, use:\n",
      "  %reload_ext autoreload\n",
      "spikeinterface 0.100.5\n",
      "CPU times: user 341 µs, sys: 11 µs, total: 352 µs\n",
      "Wall time: 313 µs\n"
     ]
    }
   ],
   "source": [
    "%%time \n",
    "%load_ext autoreload\n",
    "%autoreload 2\n",
    "\n",
    "# import python packages\n",
    "import os\n",
    "import spikeinterface.extractors as se\n",
    "import spikeinterface.sorters as ss\n",
    "import spikeinterface as si\n",
    "print(\"spikeinterface\", si.__version__)\n",
    "\n",
    "# project path\n",
    "PROJ_PATH = \"/home/steeve/steeve/epfl/code/spikebias/\"\n",
    "os.chdir(PROJ_PATH)\n",
    "\n",
    "# import spikebias package\n",
    "from src.nodes.sorting import sort_and_postprocess_10m\n",
    "\n",
    "# recording parameters\n",
    "REC_SECS = 600 \n",
    "RECORDING_PATH = \"./dataset/00_raw/recording_npx_spont/\"\n",
    "\n",
    "# setup sorting parameters\n",
    "SORTER = \"kilosort4\"\n",
    "\n",
    "# these are the default parameters\n",
    "# for spikeinterface 0.100.5\n",
    "# note that there are no minFR and minFR_channels in ks4\n",
    "# - we set batch_size to 10,000 instead of 60,0000 due to memory constrains\n",
    "# - we set dminx to 25.6 um instead of None\n",
    "SORTER_PARAMS = {\n",
    "    \"batch_size\": 10000,\n",
    "    \"nblocks\": 1,\n",
    "    \"Th_universal\": 9,\n",
    "    \"Th_learned\": 8,\n",
    "    \"do_CAR\": True,\n",
    "    \"invert_sign\": False,\n",
    "    \"nt\": 61,\n",
    "    \"artifact_threshold\": None,\n",
    "    \"nskip\": 25,\n",
    "    \"whitening_range\": 32,\n",
    "    \"binning_depth\": 5,\n",
    "    \"sig_interp\": 20,\n",
    "    \"nt0min\": None,\n",
    "    \"dmin\": None,\n",
    "    \"dminx\": 25.6,\n",
    "    \"min_template_size\": 10,\n",
    "    \"template_sizes\": 5,\n",
    "    \"nearest_chans\": 10,\n",
    "    \"nearest_templates\": 100,\n",
    "    \"templates_from_data\": True,\n",
    "    \"n_templates\": 6,\n",
    "    \"n_pcs\": 6,\n",
    "    \"Th_single_ch\": 6,\n",
    "    \"acg_threshold\": 0.2,\n",
    "    \"ccg_threshold\": 0.25,\n",
    "    \"cluster_downsampling\": 20,\n",
    "    \"cluster_pcs\": 64,\n",
    "    \"duplicate_spike_bins\": 15,\n",
    "    \"do_correction\": True,\n",
    "    \"keep_good_only\": False,\n",
    "    \"save_extra_kwargs\": False,\n",
    "    \"skip_kilosort_preprocessing\": False,\n",
    "    \"scaleproc\": None,\n",
    "}\n",
    "\n",
    "# sorting output \n",
    "KS4_OUTPUT_PATH = \"./temp/SortingKS4\""
   ]
  },
  {
   "cell_type": "markdown",
   "metadata": {},
   "source": [
    "## Minimal spike sorting\n",
    "\n",
    "kilosort==4.0"
   ]
  },
  {
   "cell_type": "code",
   "execution_count": null,
   "metadata": {},
   "outputs": [
    {
     "name": "stderr",
     "output_type": "stream",
     "text": [
      "/home/steeve/steeve/epfl/code/spikebias/envs/spikesort_rtx5090/lib/python3.9/site-packages/spikeinterface/core/base.py:1079: UserWarning: Versions are not the same. This might lead to compatibility errors. Using spikeinterface==0.101.2 is recommended\n",
      "  warnings.warn(\n"
     ]
    },
    {
     "name": "stdout",
     "output_type": "stream",
     "text": [
      "2025-07-12 18:13:35,853 - faiss.loader - loader.py - <module> - INFO - Loading faiss with AVX2 support.\n",
      "2025-07-12 18:13:35,863 - faiss.loader - loader.py - <module> - INFO - Successfully loaded faiss with AVX2 support.\n",
      "2025-07-12 18:13:35,865 - faiss - __init__.py - <module> - INFO - Failed to load GPU Faiss: name 'GpuIndexIVFFlat' is not defined. Will not load constructor refs for GPU indexes. This is only an error if you're trying to use GPU Faiss.\n"
     ]
    },
    {
     "name": "stderr",
     "output_type": "stream",
     "text": [
      "/home/steeve/steeve/epfl/code/spikebias/envs/spikesort_rtx5090/lib/python3.9/site-packages/spikeinterface/core/baserecordingsnippets.py:244: UserWarning: There is no Probe attached to this recording. Creating a dummy one with contact positions\n",
      "  warn(\"There is no Probe attached to this recording. Creating a dummy one with contact positions\")\n",
      "/home/steeve/steeve/epfl/code/spikebias/envs/spikesort_rtx5090/lib/python3.9/site-packages/torch/cuda/__init__.py:230: UserWarning: \n",
      "NVIDIA GeForce RTX 5090 with CUDA capability sm_120 is not compatible with the current PyTorch installation.\n",
      "The current PyTorch install supports CUDA capabilities sm_50 sm_60 sm_61 sm_70 sm_75 sm_80 sm_86 sm_89 sm_90 compute_90.\n",
      "If you want to use the NVIDIA GeForce RTX 5090 GPU with PyTorch, please check the instructions at https://pytorch.org/get-started/locally/\n",
      "\n",
      "  warnings.warn(\n",
      "/home/steeve/steeve/epfl/code/spikebias/envs/spikesort_rtx5090/lib/python3.9/site-packages/kilosort/io.py:497: UserWarning: The given NumPy array is not writable, and PyTorch does not support non-writable tensors. This means writing to this tensor will result in undefined behavior. You may want to copy the array to protect its data or make it writable before converting it to a tensor. This type of warning will be suppressed for the rest of this program. (Triggered internally at /home/conda/feedstock_root/build_artifacts/libtorch_1724898583682/work/torch/csrc/utils/tensor_numpy.cpp:206.)\n",
      "  X[:, self.nt : self.nt+nsamp] = torch.from_numpy(data).to(self.device).float()\n"
     ]
    },
    {
     "name": "stdout",
     "output_type": "stream",
     "text": [
      "========================================\n",
      "Loading recording with SpikeInterface...\n",
      "number of samples: 2400000\n",
      "number of channels: 384\n",
      "numbef of segments: 1\n",
      "sampling rate: 40000.0\n",
      "dtype: float32\n",
      "========================================\n",
      "Preprocessing filters computed in  0.68s; total  0.68s\n",
      "\n",
      "computing drift\n",
      "Re-computing universal templates from data.\n"
     ]
    }
   ],
   "source": [
    "%%time\n",
    "\n",
    "# load 10 min of recording\n",
    "Recording = si.load_extractor(RECORDING_PATH)\n",
    "#Recording = Recording.frame_slice(start_frame=0, end_frame=Recording.sampling_frequency*REC_SECS)\n",
    "Recording = Recording.frame_slice(start_frame=0, end_frame=Recording.sampling_frequency*60)\n",
    "\n",
    "\n",
    "# spike sort\n",
    "Sorting = ss.run_sorter(sorter_name = SORTER,\n",
    "                        recording = Recording,\n",
    "                        output_folder = KS4_OUTPUT_PATH,\n",
    "                        remove_existing_folder = True,\n",
    "                        verbose = True,\n",
    "                        **SORTER_PARAMS)\n",
    "\n",
    "print('\\nRecording', Recording)\n",
    "print('\\nSorted units:', Sorting.unit_ids)"
   ]
  },
  {
   "cell_type": "markdown",
   "metadata": {},
   "source": [
    "## Full pipeline"
   ]
  }
 ],
 "metadata": {
  "kernelspec": {
   "display_name": "Python 3",
   "language": "python",
   "name": "python3"
  },
  "language_info": {
   "codemirror_mode": {
    "name": "ipython",
    "version": 3
   },
   "file_extension": ".py",
   "mimetype": "text/x-python",
   "name": "python",
   "nbconvert_exporter": "python",
   "pygments_lexer": "ipython3",
   "version": "3.9.7"
  }
 },
 "nbformat": 4,
 "nbformat_minor": 2
}
