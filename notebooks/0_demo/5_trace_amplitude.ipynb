{
 "cells": [
  {
   "cell_type": "markdown",
   "metadata": {},
   "source": [
    "# Demo trace amplitude\n",
    "\n",
    "author: laquitainesteeve@gmail.com\n",
    "\n",
    "Purpose: describe trace amplitudes\n",
    "\n",
    "Execution time: 2 min"
   ]
  },
  {
   "cell_type": "markdown",
   "metadata": {},
   "source": [
    "## Setup"
   ]
  },
  {
   "cell_type": "code",
   "execution_count": 20,
   "metadata": {},
   "outputs": [
    {
     "name": "stdout",
     "output_type": "stream",
     "text": [
      "The autoreload extension is already loaded. To reload it, use:\n",
      "  %reload_ext autoreload\n",
      "spikeinterface version: 0.101.2\n",
      "2025-04-05 12:46:54,537 - root - utils.py - get_config - INFO - Reading experiment config.\n",
      "2025-04-05 12:46:54,642 - root - utils.py - get_config - INFO - Reading experiment config. - done\n"
     ]
    }
   ],
   "source": [
    "%load_ext autoreload\n",
    "%autoreload 2\n",
    "\n",
    "import warnings\n",
    "warnings.simplefilter(action='ignore', category=FutureWarning)\n",
    "warnings.filterwarnings(\"ignore\")\n",
    "\n",
    "# import packages\n",
    "import os\n",
    "import numpy as np\n",
    "from dandi.dandiapi import DandiAPIClient\n",
    "import spikeinterface.extractors as se\n",
    "import spikeinterface.preprocessing as spre\n",
    "import spikeinterface as si\n",
    "from matplotlib import pyplot as plt;\n",
    "import multiprocessing\n",
    "import torch\n",
    "import pandas as pd\n",
    "import seaborn as sns\n",
    "import matplotlib\n",
    "print(\"spikeinterface version:\", si.__version__)\n",
    "\n",
    "# dandiset parameters\n",
    "dandiset_id = '001250'\n",
    "filepath = 'sub-demo-dataset/sub-demo-dataset_ecephys.nwb'\n",
    "\n",
    "# project path\n",
    "proj_path = \"/Users/steeve_laquitaine/Desktop/EPFL/2022_2024_bbp/spikebias/\"\n",
    "# proj_path = \"/home/jovyan/steevelaquitaine/spikebias/\"\n",
    "os.chdir(proj_path)\n",
    "\n",
    "# import spikebias package\n",
    "from src.nodes.utils import get_config, get_stats_config, standardize_layers\n",
    "from src.nodes.validation import amplitude as amp\n",
    "\n",
    "# configuration of the evoked biophy. simulation at 20 kHz\n",
    "cfg, param_cfg = get_config(\"silico_neuropixels\", \"npx_evoked\").values()\n",
    "\n",
    "# preprocessing parameters\n",
    "FREQ_MIN = param_cfg[\"run\"][\"preprocessing\"][\"min_filter_freq\"]\n",
    "FREQ_MAX = param_cfg[\"run\"][\"preprocessing\"][\"max_filter_freq\"]\n",
    "\n",
    "# compute parameters\n",
    "STIM_START = 30000        # arbitrary start of a stimulus (example)\n",
    "START_AFTER_STIM_MS = 10  # start to plot 10 ms after the stimulus to capture most of its effect which seems delayed\n",
    "DURATION = 10             # plotted recording duration in ms\n",
    "\n",
    "# plot parameters\n",
    "LINEWIDTH_BORD = 0.25\n",
    "FIGSIZE = (1.3, 5.9)\n",
    "PLOT_Y_PITCH = 20\n",
    "LINEWIDTH = 0.5\n",
    "Y_MAX = PLOT_Y_PITCH * 95\n",
    "\n",
    "FIG_SIZE = (1.5, 1)\n",
    "COLOR_NE = [1, 0.49, 0]\n",
    "cl = dict()\n",
    "cl[\"COLOR_NE\"] = [1, 0.49, 0] # orange\n",
    "\n",
    "plt.rcParams[\"font.family\"] = \"Arial\"\n",
    "plt.rcParams[\"font.size\"] = 6  # 5-7 with Nature neuroscience as reference\n",
    "plt.rcParams[\"lines.linewidth\"] = 0.5\n",
    "plt.rcParams[\"axes.linewidth\"] = 0.5 #1\n",
    "plt.rcParams[\"axes.spines.top\"] = False\n",
    "plt.rcParams[\"xtick.major.width\"] = 0.5 #0.8 #* 1.3\n",
    "plt.rcParams[\"xtick.minor.width\"] = 0.5 #0.8 #* 1.3\n",
    "plt.rcParams[\"ytick.major.width\"] = 0.5 #0.8 #* 1.3\n",
    "plt.rcParams[\"ytick.minor.width\"] = 0.5 #0.8 #* 1.3\n",
    "plt.rcParams[\"xtick.major.size\"] = 3.5 * 1.1\n",
    "plt.rcParams[\"xtick.minor.size\"] = 2 * 1.1\n",
    "plt.rcParams[\"ytick.major.size\"] = 3.5 * 1.1\n",
    "plt.rcParams[\"ytick.minor.size\"] = 2 * 1.1\n",
    "# legend\n",
    "savefig_cfg = {\"transparent\":True, \"dpi\":300}\n",
    "legend_cfg = {\"frameon\": False, \"handletextpad\": 0.1}\n",
    "tight_layout_cfg = {\"pad\": 0.5}\n",
    "LG_FRAMEON = False              # no legend frame\n",
    "savefig_cfg = {\"transparent\":True, \"dpi\": 300}"
   ]
  },
  {
   "cell_type": "markdown",
   "metadata": {},
   "source": [
    "## Specs"
   ]
  },
  {
   "cell_type": "code",
   "execution_count": 7,
   "metadata": {},
   "outputs": [
    {
     "name": "stdout",
     "output_type": "stream",
     "text": [
      "available cpus: 8\n",
      "available gpus: False\n"
     ]
    },
    {
     "data": {
      "text/plain": [
       "['/bin/bash: free: command not found']"
      ]
     },
     "execution_count": 7,
     "metadata": {},
     "output_type": "execute_result"
    }
   ],
   "source": [
    "# cpus, gpu and current memory usage\n",
    "print(\"available cpus:\", multiprocessing.cpu_count())\n",
    "print(\"available gpus:\", torch.cuda.is_available())\n",
    "%system free -m"
   ]
  },
  {
   "cell_type": "markdown",
   "metadata": {},
   "source": [
    "## (.3s)Load datasets\n",
    "\n",
    "* first 10 minutes of recordings for speed"
   ]
  },
  {
   "cell_type": "code",
   "execution_count": null,
   "metadata": {},
   "outputs": [
    {
     "name": "stdout",
     "output_type": "stream",
     "text": [
      "s3_path: https://dandiarchive.s3.amazonaws.com/blobs/df4/087/df4087b5-6898-469e-8261-1dcf1413bde3\n",
      "\n",
      " Recording extractor: NwbRecordingExtractor: 120 channels - 20.0kHz - 1 segments - 1,200,000 samples \n",
      "                       60.00s (1.00 minutes) - float32 dtype - 549.32 MiB\n",
      "  file_path: https://dandiarchive.s3.amazonaws.com/blobs/df4/087/df4087b5-6898-469e-8261-1dcf1413bde3\n",
      "\n",
      " Layers in demo: ['L5' 'L6']\n",
      "\n",
      " Trace data shape: (1200000, 120)\n",
      "\n",
      " Sorting extractor: NwbSortingExtractor: 1836 units - 1 segments - 20.0kHz\n",
      "  file_path: https://dandiarchive.s3.amazonaws.com/blobs/df4/087/df4087b5-6898-469e-8261-1dcf1413bde3\n",
      "CPU times: user 16.5 s, sys: 2.56 s, total: 19 s\n",
      "Wall time: 1min 3s\n"
     ]
    }
   ],
   "source": [
    "%%time\n",
    "\n",
    "# download the extractors from Dandi archive\n",
    "with DandiAPIClient() as client:\n",
    "    asset = client.get_dandiset(dandiset_id, 'draft').get_asset_by_path(filepath)\n",
    "    s3_path = asset.get_content_url(follow_redirects=1, strip_query=True)\n",
    "Recording = se.NwbRecordingExtractor(file_path=s3_path, stream_mode=\"remfile\")\n",
    "\n",
    "# load the voltage traces \n",
    "traces = Recording.get_traces()\n",
    "\n",
    "# report info\n",
    "print(\"s3_path:\", s3_path)\n",
    "print('\\n Recording extractor:', Recording)\n",
    "print('\\n Layers in demo:', np.unique(Recording.get_property('layers')))\n",
    "print(\"\\n Trace data shape:\", traces.shape)\n",
    "\n",
    "# preprocess\n",
    "# - compress to int16 (like the Kilosort sorters)\n",
    "# - apply band-pass filter and common referencing\n",
    "Recording = spre.astype(Recording, \"int16\")\n",
    "Recording = spre.bandpass_filter(\n",
    "    Recording, freq_min=FREQ_MIN, freq_max=FREQ_MAX\n",
    ")\n",
    "Recording = spre.common_reference(\n",
    "    Recording, reference=\"global\", operator=\"median\"\n",
    ")\n",
    "\n",
    "# get traces\n",
    "traces_ne = Recording.get_traces()\n",
    "\n",
    "# get sites in cortex\n",
    "lyrs = [\"L5\", \"L6\"]\n",
    "\n",
    "# get standardized site layer names\n",
    "site_ly_ne = Recording.get_property(\"layers\")\n",
    "site_ly_ne = standardize_layers(site_ly_ne)\n",
    "sites_ne = np.where(np.isin(site_ly_ne, lyrs))[0]"
   ]
  },
  {
   "cell_type": "markdown",
   "metadata": {},
   "source": [
    "## Compute\n",
    "\n",
    "The expected max absolute amplitude is about 387 uV in the full 1-hour trace."
   ]
  },
  {
   "cell_type": "code",
   "execution_count": 18,
   "metadata": {},
   "outputs": [
    {
     "data": {
      "text/html": [
       "<div>\n",
       "<style scoped>\n",
       "    .dataframe tbody tr th:only-of-type {\n",
       "        vertical-align: middle;\n",
       "    }\n",
       "\n",
       "    .dataframe tbody tr th {\n",
       "        vertical-align: top;\n",
       "    }\n",
       "\n",
       "    .dataframe thead th {\n",
       "        text-align: right;\n",
       "    }\n",
       "</style>\n",
       "<table border=\"1\" class=\"dataframe\">\n",
       "  <thead>\n",
       "    <tr style=\"text-align: right;\">\n",
       "      <th></th>\n",
       "      <th>amplitude</th>\n",
       "      <th>layer</th>\n",
       "      <th>experiment</th>\n",
       "    </tr>\n",
       "  </thead>\n",
       "  <tbody>\n",
       "    <tr>\n",
       "      <th>59</th>\n",
       "      <td>78</td>\n",
       "      <td>L5</td>\n",
       "      <td>Biophy. evoked</td>\n",
       "    </tr>\n",
       "    <tr>\n",
       "      <th>80</th>\n",
       "      <td>80</td>\n",
       "      <td>L5</td>\n",
       "      <td>Biophy. evoked</td>\n",
       "    </tr>\n",
       "    <tr>\n",
       "      <th>79</th>\n",
       "      <td>47</td>\n",
       "      <td>L5</td>\n",
       "      <td>Biophy. evoked</td>\n",
       "    </tr>\n",
       "    <tr>\n",
       "      <th>78</th>\n",
       "      <td>87</td>\n",
       "      <td>L5</td>\n",
       "      <td>Biophy. evoked</td>\n",
       "    </tr>\n",
       "    <tr>\n",
       "      <th>77</th>\n",
       "      <td>350</td>\n",
       "      <td>L5</td>\n",
       "      <td>Biophy. evoked</td>\n",
       "    </tr>\n",
       "    <tr>\n",
       "      <th>...</th>\n",
       "      <td>...</td>\n",
       "      <td>...</td>\n",
       "      <td>...</td>\n",
       "    </tr>\n",
       "    <tr>\n",
       "      <th>64</th>\n",
       "      <td>50</td>\n",
       "      <td>L6</td>\n",
       "      <td>Biophy. evoked</td>\n",
       "    </tr>\n",
       "    <tr>\n",
       "      <th>63</th>\n",
       "      <td>19</td>\n",
       "      <td>L6</td>\n",
       "      <td>Biophy. evoked</td>\n",
       "    </tr>\n",
       "    <tr>\n",
       "      <th>62</th>\n",
       "      <td>32</td>\n",
       "      <td>L6</td>\n",
       "      <td>Biophy. evoked</td>\n",
       "    </tr>\n",
       "    <tr>\n",
       "      <th>68</th>\n",
       "      <td>21</td>\n",
       "      <td>L6</td>\n",
       "      <td>Biophy. evoked</td>\n",
       "    </tr>\n",
       "    <tr>\n",
       "      <th>0</th>\n",
       "      <td>17</td>\n",
       "      <td>L6</td>\n",
       "      <td>Biophy. evoked</td>\n",
       "    </tr>\n",
       "  </tbody>\n",
       "</table>\n",
       "<p>120 rows × 3 columns</p>\n",
       "</div>"
      ],
      "text/plain": [
       "    amplitude layer      experiment\n",
       "59         78    L5  Biophy. evoked\n",
       "80         80    L5  Biophy. evoked\n",
       "79         47    L5  Biophy. evoked\n",
       "78         87    L5  Biophy. evoked\n",
       "77        350    L5  Biophy. evoked\n",
       "..        ...   ...             ...\n",
       "64         50    L6  Biophy. evoked\n",
       "63         19    L6  Biophy. evoked\n",
       "62         32    L6  Biophy. evoked\n",
       "68         21    L6  Biophy. evoked\n",
       "0          17    L6  Biophy. evoked\n",
       "\n",
       "[120 rows x 3 columns]"
      ]
     },
     "metadata": {},
     "output_type": "display_data"
    },
    {
     "name": "stdout",
     "output_type": "stream",
     "text": [
      "Max absolute amplitude: 350\n"
     ]
    }
   ],
   "source": [
    "# maximum per site\n",
    "maxs_ne = np.absolute(traces_ne[:, sites_ne]).max(axis=0)\n",
    "\n",
    "df3 = pd.DataFrame()\n",
    "df3[\"amplitude\"] = maxs_ne\n",
    "df3[\"layer\"] = np.array(site_ly_ne)[sites_ne]\n",
    "df3[\"experiment\"] = \"Biophy. evoked\"\n",
    "df3 = df3.sort_values(by=[\"layer\"])\n",
    "\n",
    "# stack\n",
    "plot_data = df3\n",
    "plot_data = plot_data.sort_values(by=[\"experiment\", \"layer\"])\n",
    "display(plot_data)\n",
    "\n",
    "# report info \n",
    "print(\"Max absolute amplitude:\", np.max(np.absolute(traces_ne)))\n",
    "\n",
    "# unit-test\n",
    "layers = [\"L5\", \"L6\"]\n",
    "assert df3[\"layer\"].unique().tolist() == layers, \"wrong layers\""
   ]
  },
  {
   "cell_type": "markdown",
   "metadata": {},
   "source": [
    "## Plot"
   ]
  },
  {
   "cell_type": "code",
   "execution_count": 26,
   "metadata": {},
   "outputs": [
    {
     "data": {
      "image/png": "[encoded data removed]",
      "text/plain": [
       "<Figure size 180x100 with 1 Axes>"
      ]
     },
     "metadata": {},
     "output_type": "display_data"
    }
   ],
   "source": [
    "fig, ax = plt.subplots(1, 1, figsize=(1.8, 1));\n",
    "\n",
    "ax = sns.boxplot(\n",
    "    ax=ax,\n",
    "    data=plot_data,\n",
    "    x=\"layer\",\n",
    "    y=\"amplitude\",\n",
    "    hue=\"experiment\",\n",
    "    notch=True,\n",
    "    hue_order=[\n",
    "        \"Biophy. evoked\",\n",
    "    ],\n",
    "    palette=[cl[\"COLOR_NE\"]],\n",
    "    width=0.6,\n",
    "    linewidth=0.5,\n",
    "    flierprops={\n",
    "        \"marker\": \".\",\n",
    "        \"markersize\": 3,\n",
    "    },\n",
    ");\n",
    "\n",
    "ax.set_yscale(\"log\");\n",
    "\n",
    "# minor ticks\n",
    "locmin = matplotlib.ticker.LogLocator(\n",
    "    base=10.0,\n",
    "    subs=np.arange(0, 1.1, 0.1),\n",
    "    numticks=10,\n",
    ");\n",
    "ax.tick_params(which=\"both\");\n",
    "ax.yaxis.set_minor_locator(locmin);\n",
    "\n",
    "# axes\n",
    "ax.spines[[\"top\", \"right\"]].set_visible(False);\n",
    "ax.legend(\"\", frameon=False);\n",
    "\n",
    "# disconnect axes (R style)\n",
    "ax.spines[\"bottom\"].set_position((\"axes\", -0.05));\n",
    "ax.yaxis.set_ticks_position(\"left\");\n",
    "ax.spines[\"left\"].set_position((\"axes\", -0.05));\n",
    "\n",
    "# ax.legend(\"\", frameon=False)\n",
    "ax.set_ylabel(\"Amplitude (\\u03bcV)\");\n",
    "ax.set_xlabel(\"Layer\");\n",
    "ax.set_ylim([0, 400]);"
   ]
  },
  {
   "cell_type": "markdown",
   "metadata": {},
   "source": [
    "## Statistics"
   ]
  },
  {
   "cell_type": "markdown",
   "metadata": {},
   "source": [
    "### Peak amplitude changes across layers?"
   ]
  },
  {
   "cell_type": "markdown",
   "metadata": {},
   "source": [
    "kruskal-Wallis H statistic corresponds to the $\\chi^2$ value\n",
    "\n",
    "Dunn's test"
   ]
  },
  {
   "cell_type": "code",
   "execution_count": 30,
   "metadata": {},
   "outputs": [
    {
     "name": "stdout",
     "output_type": "stream",
     "text": [
      "\n",
      "--------------------E--------------------\n",
      "\n",
      "H=73.6686553149469, p=9.239447967353078e-18\n",
      "N_L5 = 52 sites\n",
      "N_L6 = 68 sites\n",
      "87.0 $\\pm$ 16.245451, 33.5 $\\pm$ 4.728365, \n"
     ]
    }
   ],
   "source": [
    "def ci95(data):\n",
    "    return 1.96 * np.nanstd(data) / np.sqrt(np.sum(~np.isnan(data)))\n",
    "\n",
    "def get_medians_and_ci95(plot_data, exp, feature: str):\n",
    "    layers = [\"L5\", \"L6\"]\n",
    "    stats = \"\"\n",
    "    record = []\n",
    "    for layer in layers:\n",
    "        feature_data = plot_data[(plot_data.experiment==exp) & (plot_data.layer==layer)][feature]\n",
    "        stats += f\"{np.round(feature_data.median()*10000)/10000} $\\pm$ {np.round(ci95(feature_data),6)}, \"\n",
    "        record.append(np.round(feature_data.median()*10000)/10000)\n",
    "    print(stats)\n",
    "    return record\n",
    "    \n",
    "\n",
    "# kruskall-wallis\n",
    "# perform Dunn's posthoc test using a holm-sidak correction for the p-values\n",
    "# to identify the layer amplitudes that significantly deviate from others\n",
    "print(\"\\n--------------------E--------------------\\n\")\n",
    "amp.get_kk_demo(plot_data, \"Biophy. evoked\")\n",
    "amp.get_posthoc_dunn_holm_sidak_demo(plot_data, \"Biophy. evoked\")\n",
    "m_e = get_medians_and_ci95(plot_data, \"Biophy. evoked\", \"amplitude\")  "
   ]
  },
  {
   "cell_type": "markdown",
   "metadata": {},
   "source": [
    "# Are Models and in vivo data the same?"
   ]
  },
  {
   "cell_type": "code",
   "execution_count": 6,
   "metadata": {},
   "outputs": [],
   "source": [
    "from scipy.stats import kruskal\n",
    "import scikit_posthocs as sp\n",
    "\n",
    "\n",
    "def count_sites(df, exp, layer):\n",
    "    return len(df[(df[\"experiment\"] == exp) & (df[\"layer\"] == layer)])\n",
    "\n",
    "\n",
    "def get_amplitude(df, exp, layer):\n",
    "    return df[(df[\"experiment\"] == exp) & (df[\"layer\"] == layer)][\"amplitude\"].values\n",
    "\n",
    "\n",
    "def get_kk_compare_exps(df, layer):\n",
    "    \"\"\"kruskall wallis test\n",
    "    \"\"\"\n",
    "    h, p = kruskal(\n",
    "        get_amplitude(df, \"npx (Marques-Smith)\", layer),\n",
    "        get_amplitude(df, \"Biophy. spont.\", layer),\n",
    "        get_amplitude(df, \"Biophy. evoked\", layer),\n",
    "    )\n",
    "    print(f\"H={h}, p={p}\")\n",
    "    print(f\"\"\"N_L1 = {count_sites(df, \"Biophy. spont.\", layer)} sites\"\"\")\n",
    "    print(f\"\"\"N_L23 = {count_sites(df, \"Biophy. evoked\", layer)} sites\"\"\")\n",
    "    print(f\"\"\"N_L4 = {count_sites(df, \"npx (Marques-Smith)\", layer)} sites\"\"\")\n",
    "    \n",
    "    \n",
    "def get_posthoc_dunn_holm_sidak_compare_exps(plot_data, layer):\n",
    "    \"\"\"posthoc test after kruskall wallis with Dunn and holm_sidak\n",
    "    multiple comparison correction of p-values\n",
    "\n",
    "    Args:\n",
    "        plot_data (_type_): _description_\n",
    "        exp (_type_): _description_\n",
    "\n",
    "    Returns:\n",
    "        _type_: _description_\n",
    "    \"\"\"\n",
    "    data = [\n",
    "        get_amplitude(plot_data, \"npx (Marques-Smith)\", layer),\n",
    "        get_amplitude(plot_data, \"Biophy. spont.\", layer),\n",
    "        get_amplitude(plot_data, \"Biophy. evoked\", layer),\n",
    "    ]\n",
    "    # holm sidak method has more power than Bonferroni which is more conservative\n",
    "    # Non-significance can indicate subtle differences, power issues, samll sample size,\n",
    "    # or the balancing be due to how the Holm-Sidak correction controls Type I errors\n",
    "    # while retaining power.\n",
    "    # we can still look at the p-values to identify trends.\n",
    "    df = sp.posthoc_dunn(data, p_adjust=\"holm-sidak\")\n",
    "    df.columns = [\"npx (Marques-Smith)\", \"Biophy. spont.\", \"Biophy. evoked\"]\n",
    "    df.index = [\"npx (Marques-Smith)\", \"Biophy. spont.\", \"Biophy. evoked\"]\n",
    "    return df\n",
    "\n",
    "def get_posthoc_dunn_holm_sidak_compare_exps_l5(plot_data, layer):\n",
    "    \"\"\"posthoc test after kruskall wallis with Dunn and holm_sidak\n",
    "    multiple comparison correction of p-values\n",
    "\n",
    "    Args:\n",
    "        plot_data (_type_): _description_\n",
    "        exp (_type_): _description_\n",
    "\n",
    "    Returns:\n",
    "        _type_: _description_\n",
    "    \"\"\"\n",
    "    data = [\n",
    "        get_amplitude(plot_data, \"npx (Marques-Smith)\", layer),\n",
    "        get_amplitude(plot_data, \"Biophy. spont.\", layer),\n",
    "        get_amplitude(plot_data, \"Biophy. evoked\", layer),\n",
    "        get_amplitude(plot_data, \"Synth. (Buccino)\", layer),\n",
    "    ]\n",
    "    # holm sidak method has more power than Bonferroni which is more conservative\n",
    "    # Non-significance can indicate subtle differences, power issues, samll sample size,\n",
    "    # or the balancing be due to how the Holm-Sidak correction controls Type I errors\n",
    "    # while retaining power.\n",
    "    # we can still look at the p-values to identify trends.\n",
    "    df = sp.posthoc_dunn(data, p_adjust=\"holm-sidak\")\n",
    "    df.columns = [\"npx (Marques-Smith)\", \"Biophy. spont.\", \"Biophy. evoked\", \"Synth. (Buccino)\"]\n",
    "    df.index = [\"npx (Marques-Smith)\", \"Biophy. spont.\", \"Biophy. evoked\", \"Synth. (Buccino)\"]\n",
    "    return df"
   ]
  },
  {
   "cell_type": "code",
   "execution_count": null,
   "metadata": {},
   "outputs": [
    {
     "name": "stdout",
     "output_type": "stream",
     "text": [
      "------LAYER 1:------\n",
      "\n",
      "H=12.515296039199686, p=0.0019157462997591108\n",
      "N_L1 = 16 sites\n",
      "N_L23 = 16 sites\n",
      "N_L4 = 10 sites\n"
     ]
    },
    {
     "data": {
      "text/html": [
       "<div>\n",
       "<style scoped>\n",
       "    .dataframe tbody tr th:only-of-type {\n",
       "        vertical-align: middle;\n",
       "    }\n",
       "\n",
       "    .dataframe tbody tr th {\n",
       "        vertical-align: top;\n",
       "    }\n",
       "\n",
       "    .dataframe thead th {\n",
       "        text-align: right;\n",
       "    }\n",
       "</style>\n",
       "<table border=\"1\" class=\"dataframe\">\n",
       "  <thead>\n",
       "    <tr style=\"text-align: right;\">\n",
       "      <th></th>\n",
       "      <th>npx (Marques-Smith)</th>\n",
       "      <th>Biophy. spont.</th>\n",
       "      <th>Biophy. evoked</th>\n",
       "    </tr>\n",
       "  </thead>\n",
       "  <tbody>\n",
       "    <tr>\n",
       "      <th>npx (Marques-Smith)</th>\n",
       "      <td>1.000000</td>\n",
       "      <td>0.052431</td>\n",
       "      <td>0.001212</td>\n",
       "    </tr>\n",
       "    <tr>\n",
       "      <th>Biophy. spont.</th>\n",
       "      <td>0.052431</td>\n",
       "      <td>1.000000</td>\n",
       "      <td>0.132458</td>\n",
       "    </tr>\n",
       "    <tr>\n",
       "      <th>Biophy. evoked</th>\n",
       "      <td>0.001212</td>\n",
       "      <td>0.132458</td>\n",
       "      <td>1.000000</td>\n",
       "    </tr>\n",
       "  </tbody>\n",
       "</table>\n",
       "</div>"
      ],
      "text/plain": [
       "                     npx (Marques-Smith)  Biophy. spont.  Biophy. evoked\n",
       "npx (Marques-Smith)             1.000000        0.052431        0.001212\n",
       "Biophy. spont.                  0.052431        1.000000        0.132458\n",
       "Biophy. evoked                  0.001212        0.132458        1.000000"
      ]
     },
     "metadata": {},
     "output_type": "display_data"
    },
    {
     "name": "stdout",
     "output_type": "stream",
     "text": [
      "\n",
      "------LAYER 2/3:------\n",
      "\n",
      "H=85.91033419958124, p=2.212116317618949e-19\n",
      "N_L1 = 47 sites\n",
      "N_L23 = 47 sites\n",
      "N_L4 = 42 sites\n"
     ]
    },
    {
     "data": {
      "text/html": [
       "<div>\n",
       "<style scoped>\n",
       "    .dataframe tbody tr th:only-of-type {\n",
       "        vertical-align: middle;\n",
       "    }\n",
       "\n",
       "    .dataframe tbody tr th {\n",
       "        vertical-align: top;\n",
       "    }\n",
       "\n",
       "    .dataframe thead th {\n",
       "        text-align: right;\n",
       "    }\n",
       "</style>\n",
       "<table border=\"1\" class=\"dataframe\">\n",
       "  <thead>\n",
       "    <tr style=\"text-align: right;\">\n",
       "      <th></th>\n",
       "      <th>npx (Marques-Smith)</th>\n",
       "      <th>Biophy. spont.</th>\n",
       "      <th>Biophy. evoked</th>\n",
       "    </tr>\n",
       "  </thead>\n",
       "  <tbody>\n",
       "    <tr>\n",
       "      <th>npx (Marques-Smith)</th>\n",
       "      <td>1.000000e+00</td>\n",
       "      <td>2.453787e-12</td>\n",
       "      <td>3.823039e-18</td>\n",
       "    </tr>\n",
       "    <tr>\n",
       "      <th>Biophy. spont.</th>\n",
       "      <td>2.453787e-12</td>\n",
       "      <td>1.000000e+00</td>\n",
       "      <td>7.914154e-02</td>\n",
       "    </tr>\n",
       "    <tr>\n",
       "      <th>Biophy. evoked</th>\n",
       "      <td>3.823039e-18</td>\n",
       "      <td>7.914154e-02</td>\n",
       "      <td>1.000000e+00</td>\n",
       "    </tr>\n",
       "  </tbody>\n",
       "</table>\n",
       "</div>"
      ],
      "text/plain": [
       "                     npx (Marques-Smith)  Biophy. spont.  Biophy. evoked\n",
       "npx (Marques-Smith)         1.000000e+00    2.453787e-12    3.823039e-18\n",
       "Biophy. spont.              2.453787e-12    1.000000e+00    7.914154e-02\n",
       "Biophy. evoked              3.823039e-18    7.914154e-02    1.000000e+00"
      ]
     },
     "metadata": {},
     "output_type": "display_data"
    },
    {
     "name": "stdout",
     "output_type": "stream",
     "text": [
      "\n",
      "------LAYER 4:------\n",
      "\n",
      "H=47.92536738298209, p=3.9186700820012786e-11\n",
      "N_L1 = 19 sites\n",
      "N_L23 = 19 sites\n",
      "N_L4 = 34 sites\n"
     ]
    },
    {
     "data": {
      "text/html": [
       "<div>\n",
       "<style scoped>\n",
       "    .dataframe tbody tr th:only-of-type {\n",
       "        vertical-align: middle;\n",
       "    }\n",
       "\n",
       "    .dataframe tbody tr th {\n",
       "        vertical-align: top;\n",
       "    }\n",
       "\n",
       "    .dataframe thead th {\n",
       "        text-align: right;\n",
       "    }\n",
       "</style>\n",
       "<table border=\"1\" class=\"dataframe\">\n",
       "  <thead>\n",
       "    <tr style=\"text-align: right;\">\n",
       "      <th></th>\n",
       "      <th>npx (Marques-Smith)</th>\n",
       "      <th>Biophy. spont.</th>\n",
       "      <th>Biophy. evoked</th>\n",
       "    </tr>\n",
       "  </thead>\n",
       "  <tbody>\n",
       "    <tr>\n",
       "      <th>npx (Marques-Smith)</th>\n",
       "      <td>1.000000e+00</td>\n",
       "      <td>0.000050</td>\n",
       "      <td>9.601794e-11</td>\n",
       "    </tr>\n",
       "    <tr>\n",
       "      <th>Biophy. spont.</th>\n",
       "      <td>4.951118e-05</td>\n",
       "      <td>1.000000</td>\n",
       "      <td>3.263891e-02</td>\n",
       "    </tr>\n",
       "    <tr>\n",
       "      <th>Biophy. evoked</th>\n",
       "      <td>9.601794e-11</td>\n",
       "      <td>0.032639</td>\n",
       "      <td>1.000000e+00</td>\n",
       "    </tr>\n",
       "  </tbody>\n",
       "</table>\n",
       "</div>"
      ],
      "text/plain": [
       "                     npx (Marques-Smith)  Biophy. spont.  Biophy. evoked\n",
       "npx (Marques-Smith)         1.000000e+00        0.000050    9.601794e-11\n",
       "Biophy. spont.              4.951118e-05        1.000000    3.263891e-02\n",
       "Biophy. evoked              9.601794e-11        0.032639    1.000000e+00"
      ]
     },
     "metadata": {},
     "output_type": "display_data"
    },
    {
     "name": "stdout",
     "output_type": "stream",
     "text": [
      "\n",
      "------LAYER 5:------\n",
      "\n",
      "H=20.627688036454504, p=3.3170686187525775e-05\n",
      "N_L1 = 52 sites\n",
      "N_L23 = 52 sites\n",
      "N_L4 = 42 sites\n"
     ]
    },
    {
     "data": {
      "text/html": [
       "<div>\n",
       "<style scoped>\n",
       "    .dataframe tbody tr th:only-of-type {\n",
       "        vertical-align: middle;\n",
       "    }\n",
       "\n",
       "    .dataframe tbody tr th {\n",
       "        vertical-align: top;\n",
       "    }\n",
       "\n",
       "    .dataframe thead th {\n",
       "        text-align: right;\n",
       "    }\n",
       "</style>\n",
       "<table border=\"1\" class=\"dataframe\">\n",
       "  <thead>\n",
       "    <tr style=\"text-align: right;\">\n",
       "      <th></th>\n",
       "      <th>npx (Marques-Smith)</th>\n",
       "      <th>Biophy. spont.</th>\n",
       "      <th>Biophy. evoked</th>\n",
       "      <th>Synth. (Buccino)</th>\n",
       "    </tr>\n",
       "  </thead>\n",
       "  <tbody>\n",
       "    <tr>\n",
       "      <th>npx (Marques-Smith)</th>\n",
       "      <td>1.000000</td>\n",
       "      <td>0.152261</td>\n",
       "      <td>1.531374e-04</td>\n",
       "      <td>4.194302e-01</td>\n",
       "    </tr>\n",
       "    <tr>\n",
       "      <th>Biophy. spont.</th>\n",
       "      <td>0.152261</td>\n",
       "      <td>1.000000</td>\n",
       "      <td>3.165815e-02</td>\n",
       "      <td>3.206240e-03</td>\n",
       "    </tr>\n",
       "    <tr>\n",
       "      <th>Biophy. evoked</th>\n",
       "      <td>0.000153</td>\n",
       "      <td>0.031658</td>\n",
       "      <td>1.000000e+00</td>\n",
       "      <td>9.446307e-11</td>\n",
       "    </tr>\n",
       "    <tr>\n",
       "      <th>Synth. (Buccino)</th>\n",
       "      <td>0.419430</td>\n",
       "      <td>0.003206</td>\n",
       "      <td>9.446307e-11</td>\n",
       "      <td>1.000000e+00</td>\n",
       "    </tr>\n",
       "  </tbody>\n",
       "</table>\n",
       "</div>"
      ],
      "text/plain": [
       "                     npx (Marques-Smith)  Biophy. spont.  Biophy. evoked  \\\n",
       "npx (Marques-Smith)             1.000000        0.152261    1.531374e-04   \n",
       "Biophy. spont.                  0.152261        1.000000    3.165815e-02   \n",
       "Biophy. evoked                  0.000153        0.031658    1.000000e+00   \n",
       "Synth. (Buccino)                0.419430        0.003206    9.446307e-11   \n",
       "\n",
       "                     Synth. (Buccino)  \n",
       "npx (Marques-Smith)      4.194302e-01  \n",
       "Biophy. spont.           3.206240e-03  \n",
       "Biophy. evoked           9.446307e-11  \n",
       "Synth. (Buccino)         1.000000e+00  "
      ]
     },
     "metadata": {},
     "output_type": "display_data"
    },
    {
     "name": "stdout",
     "output_type": "stream",
     "text": [
      "\n",
      "------LAYER 6:------\n",
      "\n",
      "H=72.44257662980218, p=1.859064070171466e-16\n",
      "N_L1 = 68 sites\n",
      "N_L23 = 68 sites\n",
      "N_L4 = 98 sites\n"
     ]
    },
    {
     "data": {
      "text/html": [
       "<div>\n",
       "<style scoped>\n",
       "    .dataframe tbody tr th:only-of-type {\n",
       "        vertical-align: middle;\n",
       "    }\n",
       "\n",
       "    .dataframe tbody tr th {\n",
       "        vertical-align: top;\n",
       "    }\n",
       "\n",
       "    .dataframe thead th {\n",
       "        text-align: right;\n",
       "    }\n",
       "</style>\n",
       "<table border=\"1\" class=\"dataframe\">\n",
       "  <thead>\n",
       "    <tr style=\"text-align: right;\">\n",
       "      <th></th>\n",
       "      <th>npx (Marques-Smith)</th>\n",
       "      <th>Biophy. spont.</th>\n",
       "      <th>Biophy. evoked</th>\n",
       "    </tr>\n",
       "  </thead>\n",
       "  <tbody>\n",
       "    <tr>\n",
       "      <th>npx (Marques-Smith)</th>\n",
       "      <td>1.000000e+00</td>\n",
       "      <td>5.470375e-15</td>\n",
       "      <td>3.401204e-09</td>\n",
       "    </tr>\n",
       "    <tr>\n",
       "      <th>Biophy. spont.</th>\n",
       "      <td>5.470375e-15</td>\n",
       "      <td>1.000000e+00</td>\n",
       "      <td>7.590239e-02</td>\n",
       "    </tr>\n",
       "    <tr>\n",
       "      <th>Biophy. evoked</th>\n",
       "      <td>3.401204e-09</td>\n",
       "      <td>7.590239e-02</td>\n",
       "      <td>1.000000e+00</td>\n",
       "    </tr>\n",
       "  </tbody>\n",
       "</table>\n",
       "</div>"
      ],
      "text/plain": [
       "                     npx (Marques-Smith)  Biophy. spont.  Biophy. evoked\n",
       "npx (Marques-Smith)         1.000000e+00    5.470375e-15    3.401204e-09\n",
       "Biophy. spont.              5.470375e-15    1.000000e+00    7.590239e-02\n",
       "Biophy. evoked              3.401204e-09    7.590239e-02    1.000000e+00"
      ]
     },
     "metadata": {},
     "output_type": "display_data"
    }
   ],
   "source": [
    "print(\"------LAYER 1:------\\n\")\n",
    "\n",
    "# kruskall-wallis\n",
    "# perform Dunn's posthoc test using a holm-sidak correction for the p-values\n",
    "# to identify the amplitudes that significantly deviate from others\n",
    "get_kk_compare_exps(plot_data, \"L1\")\n",
    "display(get_posthoc_dunn_holm_sidak_compare_exps(plot_data, \"L1\"))\n",
    "\n",
    "\n",
    "print(\"\\n------LAYER 2/3:------\\n\")\n",
    "\n",
    "get_kk_compare_exps(plot_data, \"L2/3\")\n",
    "display(get_posthoc_dunn_holm_sidak_compare_exps(plot_data, \"L2/3\"))\n",
    "\n",
    "print(\"\\n------LAYER 4:------\\n\")\n",
    "\n",
    "get_kk_compare_exps(plot_data, \"L4\")\n",
    "display(get_posthoc_dunn_holm_sidak_compare_exps(plot_data, \"L4\"))\n",
    "\n",
    "print(\"\\n------LAYER 5:------\\n\")\n",
    "\n",
    "get_kk_compare_exps(plot_data, \"L5\")\n",
    "display(get_posthoc_dunn_holm_sidak_compare_exps_l5(plot_data, \"L5\"))\n",
    "\n",
    "print(\"\\n------LAYER 6:------\\n\")\n",
    "\n",
    "get_kk_compare_exps(plot_data, \"L6\")\n",
    "display(get_posthoc_dunn_holm_sidak_compare_exps(plot_data, \"L6\"))"
   ]
  },
  {
   "cell_type": "code",
   "execution_count": 7,
   "metadata": {},
   "outputs": [
    {
     "data": {
      "text/plain": [
       "10"
      ]
     },
     "execution_count": 7,
     "metadata": {},
     "output_type": "execute_result"
    }
   ],
   "source": [
    "len(plot_data[(plot_data[\"experiment\"] == \"npx (Marques-Smith)\") & (plot_data[\"layer\"] == \"L1\")])"
   ]
  },
  {
   "cell_type": "markdown",
   "metadata": {},
   "source": [
    "### H3: Do the spont. model and M-S amplitudes differ? OFTEN."
   ]
  },
  {
   "cell_type": "code",
   "execution_count": null,
   "metadata": {},
   "outputs": [
    {
     "name": "stdout",
     "output_type": "stream",
     "text": [
      "\n",
      "layer 1\n",
      "\n",
      "1 vs. 2, z=132.5, p=0.0050175695888443235, N_1=10, N_2=16\n",
      "\n",
      "layer 2/3\n",
      "\n",
      "1 vs. 2, z=27.5, p=8.126699062006951e-22, N_1=42, N_2=47\n",
      "\n",
      "layer 4\n",
      "\n",
      "1 vs. 2, z=51.5, p=2.6828587253456053e-08, N_1=34, N_2=19\n",
      "\n",
      "layer 5\n",
      "\n",
      "1 vs. 2, z=865.0, p=0.08498806738109696, N_1=42, N_2=52\n"
     ]
    }
   ],
   "source": [
    "print(\"\\nlayer 1\\n\")\n",
    "amp.get_mwu(plot_data, \"npx (Marques-Smith)\", \"Biophy. spont.\", \"L1\")\n",
    "\n",
    "print(\"\\nlayer 2/3\\n\")\n",
    "amp.get_mwu(plot_data, \"npx (Marques-Smith)\", \"Biophy. spont.\", \"L2/3\")\n",
    "\n",
    "print(\"\\nlayer 4\\n\")\n",
    "amp.get_mwu(plot_data, \"npx (Marques-Smith)\", \"Biophy. spont.\", \"L4\")\n",
    "\n",
    "print(\"\\nlayer 5\\n\")\n",
    "amp.get_mwu(plot_data, \"npx (Marques-Smith)\", \"Biophy. spont.\", \"L5\")\n",
    "amp.get_mwu(plot_data, \"npx (Marques-Smith)\", \"Synth. (Buccino)\", \"L5\")\n",
    "\n",
    "print(\"\\nlayer 6\\n\")\n",
    "amp.get_mwu(plot_data, \"npx (Marques-Smith)\", \"Biophy. spont.\", \"L6\")"
   ]
  },
  {
   "cell_type": "markdown",
   "metadata": {},
   "source": [
    "### H4: Do evoked model and M-S amplitudes differ? YES?"
   ]
  },
  {
   "cell_type": "code",
   "execution_count": 19,
   "metadata": {},
   "outputs": [
    {
     "name": "stdout",
     "output_type": "stream",
     "text": [
      "\n",
      "layer 1\n",
      "\n",
      "1 vs. 2, z=135.5, p=0.002765951238154765, N_1=10, N_2=16\n",
      "\n",
      "layer 2/3\n",
      "\n",
      "1 vs. 2, z=15.0, p=3.0111929352181764e-23, N_1=42, N_2=47\n",
      "\n",
      "layer 4\n",
      "\n",
      "1 vs. 2, z=11.0, p=3.2764200161103315e-12, N_1=34, N_2=19\n",
      "\n",
      "layer 5\n",
      "\n",
      "1 vs. 2, z=503.5, p=4.042023180805806e-06, N_1=42, N_2=52\n",
      "\n",
      "layer 6\n",
      "\n",
      "1 vs. 2, z=5223.0, p=1.1067832770163676e-10, N_1=98, N_2=68\n"
     ]
    }
   ],
   "source": [
    "print(\"\\nlayer 1\\n\")\n",
    "amp.get_mwu(plot_data, \"npx (Marques-Smith)\", \"Biophy. evoked\", \"L1\")\n",
    "\n",
    "print(\"\\nlayer 2/3\\n\")\n",
    "amp.get_mwu(plot_data, \"npx (Marques-Smith)\", \"Biophy. evoked\", \"L2/3\")\n",
    "\n",
    "print(\"\\nlayer 4\\n\")\n",
    "amp.get_mwu(plot_data, \"npx (Marques-Smith)\", \"Biophy. evoked\", \"L4\")\n",
    "\n",
    "print(\"\\nlayer 5\\n\")\n",
    "amp.get_mwu(plot_data, \"npx (Marques-Smith)\", \"Biophy. evoked\", \"L5\")\n",
    "\n",
    "print(\"\\nlayer 6\\n\")\n",
    "amp.get_mwu(plot_data, \"npx (Marques-Smith)\", \"Biophy. evoked\", \"L6\")"
   ]
  },
  {
   "cell_type": "markdown",
   "metadata": {},
   "source": [
    "## Summary stats"
   ]
  },
  {
   "cell_type": "code",
   "execution_count": 10,
   "metadata": {},
   "outputs": [
    {
     "name": "stdout",
     "output_type": "stream",
     "text": [
      "Models median peak amplitude are on average  38.4 % lower than Marques-SMith data\n",
      "Models median peak amplitude are on average  122.8 % higher than Marques-SMith data\n"
     ]
    }
   ],
   "source": [
    "L1_ns = (24-19)/24 * 100\n",
    "L1_e = (24-17)/24 * 100\n",
    "\n",
    "L6_ns = (82-36)/82 * 100\n",
    "L6_e = (82-43)/82 * 100\n",
    "\n",
    "print(\"Models median peak amplitude are on average \", np.round(np.mean([L1_ns, L1_e, L6_ns, L6_e]),1), \"% lower than Marques-SMith data\")\n",
    "\n",
    "\n",
    "L23_ns = (23-48)/23 * 100\n",
    "L23_e = (23-65)/23 * 100\n",
    "\n",
    "L4_ns = (27-62)/27 * 100\n",
    "L4_e = (27-94)/27 * 100\n",
    "\n",
    "L5_ns = (87-106)/87 * 100\n",
    "L5_e = (87-127)/87 * 100\n",
    "L5_s = (87-89)/87 * 100\n",
    "\n",
    "print(\"Models median peak amplitude are on average \", - np.round(np.mean([L23_ns, L23_e, L4_ns, L4_e, L5_ns, L5_e]),1), \"% higher than Marques-SMith data\")"
   ]
  },
  {
   "cell_type": "code",
   "execution_count": 6,
   "metadata": {},
   "outputs": [],
   "source": [
    "def pc(x1, x2):\n",
    "    return (x1-x2)/x1 * 100"
   ]
  },
  {
   "cell_type": "code",
   "execution_count": 8,
   "metadata": {},
   "outputs": [
    {
     "name": "stdout",
     "output_type": "stream",
     "text": [
      "Models median noise are on average  34.1 % Marques-Smith data\n",
      "Models median noise are on average  -39.6 % Marques-Smith data across L1, L6\n",
      "Models median noise are on average  113.3 % Marques-Smith data, across L4 and L5\n"
     ]
    }
   ],
   "source": [
    "# NEUROPIXELS  ------------------\n",
    "\n",
    "L1_ns = pc(m_m[0], m_ns[0])\n",
    "L1_e = pc(m_m[0], m_e[0])\n",
    "\n",
    "L23_ns = pc(m_m[1], m_ns[1])\n",
    "L23_e = pc(m_m[1], m_e[1])\n",
    "\n",
    "L4_ns = pc(m_m[2], m_ns[2])\n",
    "L4_e = pc(m_m[2], m_e[2])\n",
    "\n",
    "L5_ns = pc(m_m[3], m_ns[3])\n",
    "L5_e = pc(m_m[3], m_e[3])\n",
    "\n",
    "L6_ns = pc(m_m[4], m_ns[4])\n",
    "L6_e = pc(m_m[4], m_e[4])\n",
    "\n",
    "# NPX average --------\n",
    "\n",
    "print(\"Models median noise are on average \", - np.round(np.median([L1_ns, L1_e, L23_ns, L23_e, L4_ns, L4_e, L5_ns, L5_e, L6_ns, L6_e]),1),  \"% Marques-Smith data\")\n",
    "\n",
    "# NPX detailed pattern\n",
    "print(\"Models median noise are on average \", - np.round(np.median([L1_ns, L1_e, L6_ns, L6_e]),1), \"% Marques-Smith data across L1, L6\")\n",
    "\n",
    "print(\"Models median noise are on average \", - np.round(np.median([L23_ns, L23_ns, L4_ns, L4_e, L5_ns, L5_e]),1), \"% Marques-Smith data, across L4 and L5\")"
   ]
  }
 ],
 "metadata": {
  "kernelspec": {
   "display_name": "demo",
   "language": "python",
   "name": "python3"
  },
  "language_info": {
   "codemirror_mode": {
    "name": "ipython",
    "version": 3
   },
   "file_extension": ".py",
   "mimetype": "text/x-python",
   "name": "python",
   "nbconvert_exporter": "python",
   "pygments_lexer": "ipython3",
   "version": "3.10.8"
  }
 },
 "nbformat": 4,
 "nbformat_minor": 2
}
