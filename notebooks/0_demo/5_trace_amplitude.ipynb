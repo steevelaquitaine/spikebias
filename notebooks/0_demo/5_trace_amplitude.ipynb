{
 "cells": [
  {
   "cell_type": "markdown",
   "metadata": {},
   "source": [
    "# Demo trace amplitude\n",
    "\n",
    "author: laquitainesteeve@gmail.com\n",
    "\n",
    "Purpose: describe trace amplitudes\n",
    "\n",
    "Execution time: 2 min"
   ]
  },
  {
   "cell_type": "markdown",
   "metadata": {},
   "source": [
    "## Setup"
   ]
  },
  {
   "cell_type": "code",
   "execution_count": null,
   "metadata": {},
   "outputs": [
    {
     "name": "stdout",
     "output_type": "stream",
     "text": [
      "The autoreload extension is already loaded. To reload it, use:\n",
      "  %reload_ext autoreload\n",
      "spikeinterface version: 0.101.2\n",
      "2025-04-05 14:53:38,594 - root - utils.py - get_config - INFO - Reading experiment config.\n",
      "2025-04-05 14:53:38,880 - root - utils.py - get_config - INFO - Reading experiment config. - done\n",
      "2025-04-05 14:53:39,086 - root - utils.py - get_config - INFO - Reading experiment config.\n",
      "2025-04-05 14:53:39,272 - root - utils.py - get_config - INFO - Reading experiment config. - done\n"
     ]
    }
   ],
   "source": [
    "%load_ext autoreload\n",
    "%autoreload 2\n",
    "\n",
    "import warnings\n",
    "warnings.simplefilter(action='ignore', category=FutureWarning)\n",
    "warnings.filterwarnings(\"ignore\")\n",
    "\n",
    "# import packages\n",
    "import os\n",
    "import numpy as np\n",
    "from dandi.dandiapi import DandiAPIClient\n",
    "import spikeinterface.extractors as se\n",
    "import spikeinterface.preprocessing as spre\n",
    "import spikeinterface as si\n",
    "from matplotlib import pyplot as plt;\n",
    "import multiprocessing\n",
    "import torch\n",
    "import pandas as pd\n",
    "import seaborn as sns\n",
    "import matplotlib\n",
    "print(\"spikeinterface version:\", si.__version__)\n",
    "\n",
    "# dandiset parameters\n",
    "dandiset_id = '001250'\n",
    "filepath_evoked = 'sub-demo-npx-bio-evoked/sub-demo-npx-bio-evoked_ecephys.nwb'\n",
    "filepath_spont = 'sub-demo-npx-bio-spont/sub-demo-npx-bio-spont_ecephys.nwb'\n",
    "\n",
    "# project path\n",
    "proj_path = \"/Users/steeve_laquitaine/Desktop/EPFL/2022_2024_bbp/spikebias/\"\n",
    "# proj_path = \"/home/jovyan/steevelaquitaine/spikebias/\"\n",
    "os.chdir(proj_path)\n",
    "\n",
    "# import spikebias package\n",
    "from src.nodes.utils import get_config, get_stats_config, standardize_layers\n",
    "from src.nodes.validation import amplitude as amp\n",
    "\n",
    "# evoked demo\n",
    "cfg_e, param_cfg_e = get_config(\"silico_neuropixels\", \"npx_evoked\").values() # config\n",
    "FREQ_MIN_E = param_cfg_e[\"run\"][\"preprocessing\"][\"min_filter_freq\"] # preprocessing parameters\n",
    "FREQ_MAX_E = param_cfg_e[\"run\"][\"preprocessing\"][\"max_filter_freq\"]\n",
    "\n",
    "# spontaneous demo\n",
    "cfg_s, param_cfg_s = get_config(\"silico_neuropixels\", \"npx_spont\").values() # config\n",
    "FREQ_MIN_S = param_cfg_s[\"run\"][\"preprocessing\"][\"min_filter_freq\"] # preprocessing parameters\n",
    "FREQ_MAX_S = param_cfg_s[\"run\"][\"preprocessing\"][\"max_filter_freq\"]\n",
    "\n",
    "# plot parameters\n",
    "FIG_SIZE = (1.5, 1)\n",
    "COLOR_NE = [1, 0.49, 0]\n",
    "cl = dict()\n",
    "cl[\"COLOR_NS\"] = [0.9, 0.14, 0.15]\n",
    "cl[\"COLOR_NE\"] = [1, 0.49, 0] # orange\n",
    "\n",
    "plt.rcParams[\"font.family\"] = \"Arial\"\n",
    "plt.rcParams[\"font.size\"] = 6  # 5-7 with Nature neuroscience as reference\n",
    "plt.rcParams[\"lines.linewidth\"] = 0.5\n",
    "plt.rcParams[\"axes.linewidth\"] = 0.5 #1\n",
    "plt.rcParams[\"axes.spines.top\"] = False\n",
    "plt.rcParams[\"xtick.major.width\"] = 0.5 #0.8 #* 1.3\n",
    "plt.rcParams[\"xtick.minor.width\"] = 0.5 #0.8 #* 1.3\n",
    "plt.rcParams[\"ytick.major.width\"] = 0.5 #0.8 #* 1.3\n",
    "plt.rcParams[\"ytick.minor.width\"] = 0.5 #0.8 #* 1.3\n",
    "plt.rcParams[\"xtick.major.size\"] = 3.5 * 1.1\n",
    "plt.rcParams[\"xtick.minor.size\"] = 2 * 1.1\n",
    "plt.rcParams[\"ytick.major.size\"] = 3.5 * 1.1\n",
    "plt.rcParams[\"ytick.minor.size\"] = 2 * 1.1\n",
    "# legend\n",
    "savefig_cfg = {\"transparent\":True, \"dpi\":300}\n",
    "legend_cfg = {\"frameon\": False, \"handletextpad\": 0.1}\n",
    "tight_layout_cfg = {\"pad\": 0.5}\n",
    "LG_FRAMEON = False              # no legend frame\n",
    "savefig_cfg = {\"transparent\":True, \"dpi\": 300}"
   ]
  },
  {
   "cell_type": "markdown",
   "metadata": {},
   "source": [
    "## Specs"
   ]
  },
  {
   "cell_type": "code",
   "execution_count": 2,
   "metadata": {},
   "outputs": [
    {
     "name": "stdout",
     "output_type": "stream",
     "text": [
      "available cpus: 8\n",
      "available gpus: False\n"
     ]
    },
    {
     "data": {
      "text/plain": [
       "['/bin/bash: free: command not found']"
      ]
     },
     "execution_count": 2,
     "metadata": {},
     "output_type": "execute_result"
    }
   ],
   "source": [
    "# cpus, gpu and current memory usage\n",
    "print(\"available cpus:\", multiprocessing.cpu_count())\n",
    "print(\"available gpus:\", torch.cuda.is_available())\n",
    "%system free -m"
   ]
  },
  {
   "cell_type": "markdown",
   "metadata": {},
   "source": [
    "## (.3s)Load demos\n",
    "\n",
    "* first 10 minutes of recordings for speed"
   ]
  },
  {
   "cell_type": "code",
   "execution_count": 29,
   "metadata": {},
   "outputs": [
    {
     "name": "stdout",
     "output_type": "stream",
     "text": [
      "CPU times: user 1min 20s, sys: 27.9 s, total: 1min 48s\n",
      "Wall time: 4min 43s\n"
     ]
    }
   ],
   "source": [
    "%%time\n",
    "\n",
    "# parameters\n",
    "LYRS = [\"L5\", \"L6\"]\n",
    "\n",
    "# EVOKED DEMO ---------------------------------------------\n",
    "\n",
    "# download the extractors from Dandi archive\n",
    "with DandiAPIClient() as client:\n",
    "    asset = client.get_dandiset(dandiset_id, 'draft').get_asset_by_path(filepath_evoked)\n",
    "    s3_path = asset.get_content_url(follow_redirects=1, strip_query=True)\n",
    "RecordingE = se.NwbRecordingExtractor(file_path=s3_path, stream_mode=\"remfile\")\n",
    "\n",
    "# preprocess\n",
    "# - compress to int16 (like the Kilosort sorters)\n",
    "# - apply band-pass filter and common referencing\n",
    "RecordingE = spre.astype(RecordingE, \"int16\")\n",
    "RecordingE = spre.bandpass_filter(RecordingE, freq_min=FREQ_MIN_E, freq_max=FREQ_MAX_E)\n",
    "RecordingE = spre.common_reference(RecordingE, reference=\"global\", operator=\"median\")\n",
    "\n",
    "# get traces and standardized layer names\n",
    "traces_ne = RecordingE.get_traces()\n",
    "site_ly_ne = RecordingE.get_property(\"layers\")\n",
    "site_ly_ne = standardize_layers(site_ly_ne)\n",
    "sites_ne = np.where(np.isin(site_ly_ne, LYRS))[0]\n",
    "\n",
    "# SPONTANEOUS DEMO ---------------------------------------------\n",
    "\n",
    "# download the extractors from Dandi archive\n",
    "with DandiAPIClient() as client:\n",
    "    asset = client.get_dandiset(dandiset_id, 'draft').get_asset_by_path(filepath_spont)\n",
    "    s3_path = asset.get_content_url(follow_redirects=1, strip_query=True)\n",
    "RecordingS = se.NwbRecordingExtractor(file_path=s3_path, stream_mode=\"remfile\")\n",
    "\n",
    "# preprocess\n",
    "# - compress to int16 (like the Kilosort sorters)\n",
    "# - apply band-pass filter and common referencing\n",
    "RecordingS = spre.astype(RecordingS, \"int16\")\n",
    "RecordingS = spre.bandpass_filter(RecordingS, freq_min=FREQ_MIN_S, freq_max=FREQ_MAX_S)\n",
    "RecordingS = spre.common_reference(RecordingS, reference=\"global\", operator=\"median\")\n",
    "\n",
    "# get traces and standardized layer names\n",
    "traces_ns = RecordingS.get_traces()\n",
    "site_ly_ns = RecordingS.get_property(\"layers\")\n",
    "site_ly_ns = standardize_layers(site_ly_ns)\n",
    "sites_ns = np.where(np.isin(site_ly_ns, LYRS))[0]"
   ]
  },
  {
   "cell_type": "markdown",
   "metadata": {},
   "source": [
    "## Compute\n",
    "\n",
    "The expected max absolute amplitude is about 387 uV in the full 1-hour trace."
   ]
  },
  {
   "cell_type": "code",
   "execution_count": null,
   "metadata": {},
   "outputs": [
    {
     "data": {
      "text/html": [
       "<div>\n",
       "<style scoped>\n",
       "    .dataframe tbody tr th:only-of-type {\n",
       "        vertical-align: middle;\n",
       "    }\n",
       "\n",
       "    .dataframe tbody tr th {\n",
       "        vertical-align: top;\n",
       "    }\n",
       "\n",
       "    .dataframe thead th {\n",
       "        text-align: right;\n",
       "    }\n",
       "</style>\n",
       "<table border=\"1\" class=\"dataframe\">\n",
       "  <thead>\n",
       "    <tr style=\"text-align: right;\">\n",
       "      <th></th>\n",
       "      <th>amplitude</th>\n",
       "      <th>layer</th>\n",
       "      <th>experiment</th>\n",
       "    </tr>\n",
       "  </thead>\n",
       "  <tbody>\n",
       "    <tr>\n",
       "      <th>59</th>\n",
       "      <td>81</td>\n",
       "      <td>L5</td>\n",
       "      <td>evoked</td>\n",
       "    </tr>\n",
       "    <tr>\n",
       "      <th>80</th>\n",
       "      <td>83</td>\n",
       "      <td>L5</td>\n",
       "      <td>evoked</td>\n",
       "    </tr>\n",
       "    <tr>\n",
       "      <th>79</th>\n",
       "      <td>48</td>\n",
       "      <td>L5</td>\n",
       "      <td>evoked</td>\n",
       "    </tr>\n",
       "    <tr>\n",
       "      <th>78</th>\n",
       "      <td>91</td>\n",
       "      <td>L5</td>\n",
       "      <td>evoked</td>\n",
       "    </tr>\n",
       "    <tr>\n",
       "      <th>77</th>\n",
       "      <td>361</td>\n",
       "      <td>L5</td>\n",
       "      <td>evoked</td>\n",
       "    </tr>\n",
       "    <tr>\n",
       "      <th>...</th>\n",
       "      <td>...</td>\n",
       "      <td>...</td>\n",
       "      <td>...</td>\n",
       "    </tr>\n",
       "    <tr>\n",
       "      <th>64</th>\n",
       "      <td>17</td>\n",
       "      <td>L6</td>\n",
       "      <td>spont</td>\n",
       "    </tr>\n",
       "    <tr>\n",
       "      <th>63</th>\n",
       "      <td>25</td>\n",
       "      <td>L6</td>\n",
       "      <td>spont</td>\n",
       "    </tr>\n",
       "    <tr>\n",
       "      <th>62</th>\n",
       "      <td>31</td>\n",
       "      <td>L6</td>\n",
       "      <td>spont</td>\n",
       "    </tr>\n",
       "    <tr>\n",
       "      <th>68</th>\n",
       "      <td>23</td>\n",
       "      <td>L6</td>\n",
       "      <td>spont</td>\n",
       "    </tr>\n",
       "    <tr>\n",
       "      <th>0</th>\n",
       "      <td>17</td>\n",
       "      <td>L6</td>\n",
       "      <td>spont</td>\n",
       "    </tr>\n",
       "  </tbody>\n",
       "</table>\n",
       "<p>240 rows × 3 columns</p>\n",
       "</div>"
      ],
      "text/plain": [
       "    amplitude layer experiment\n",
       "59         81    L5     evoked\n",
       "80         83    L5     evoked\n",
       "79         48    L5     evoked\n",
       "78         91    L5     evoked\n",
       "77        361    L5     evoked\n",
       "..        ...   ...        ...\n",
       "64         17    L6      spont\n",
       "63         25    L6      spont\n",
       "62         31    L6      spont\n",
       "68         23    L6      spont\n",
       "0          17    L6      spont\n",
       "\n",
       "[240 rows x 3 columns]"
      ]
     },
     "metadata": {},
     "output_type": "display_data"
    },
    {
     "name": "stdout",
     "output_type": "stream",
     "text": [
      "Spont extremum: 324\n",
      "Evoked extremum: 361\n"
     ]
    }
   ],
   "source": [
    "%%time \n",
    "\n",
    "# maximum per site\n",
    "maxs_ns = np.absolute(traces_ns[:, sites_ns]).max(axis=0)\n",
    "maxs_ne = np.absolute(traces_ne[:, sites_ne]).max(axis=0)\n",
    "\n",
    "# make dataframe\n",
    "df2 = pd.DataFrame()\n",
    "df2[\"amplitude\"] = maxs_ns\n",
    "df2[\"layer\"] = np.array(site_ly_ns)[sites_ns]\n",
    "df2[\"experiment\"] = \"spont\"\n",
    "df2 = df2.sort_values(by=[\"layer\"])\n",
    "\n",
    "df3 = pd.DataFrame()\n",
    "df3[\"amplitude\"] = maxs_ne\n",
    "df3[\"layer\"] = np.array(site_ly_ne)[sites_ne]\n",
    "df3[\"experiment\"] = \"evoked\"\n",
    "df3 = df3.sort_values(by=[\"layer\"])\n",
    "\n",
    "# stack\n",
    "plot_data = pd.concat([df2, df3])\n",
    "plot_data = plot_data.sort_values(by=[\"experiment\", \"layer\"])\n",
    "display(plot_data)\n",
    "\n",
    "# report info \n",
    "print(\"Spont extremum:\", np.max(np.absolute(traces_ns)))\n",
    "print(\"Evoked extremum:\", np.max(np.absolute(traces_ne)))\n",
    "\n",
    "# unit-test\n",
    "layers = [\"L5\", \"L6\"]\n",
    "assert df2[\"layer\"].unique().tolist() == layers, \"wrong layers\"\n",
    "assert df3[\"layer\"].unique().tolist() == layers, \"wrong layers\""
   ]
  },
  {
   "cell_type": "markdown",
   "metadata": {},
   "source": [
    "## Plot"
   ]
  },
  {
   "cell_type": "code",
   "execution_count": 14,
   "metadata": {},
   "outputs": [
    {
     "data": {
      "image/png": "[encoded data removed]",
      "text/plain": [
       "<Figure size 180x100 with 1 Axes>"
      ]
     },
     "metadata": {},
     "output_type": "display_data"
    }
   ],
   "source": [
    "fig, ax = plt.subplots(1, 1, figsize=(1.8, 1));\n",
    "\n",
    "ax = sns.boxplot(\n",
    "    ax=ax,\n",
    "    data=plot_data,\n",
    "    x=\"layer\",\n",
    "    y=\"amplitude\",\n",
    "    hue=\"experiment\",\n",
    "    notch=True,\n",
    "    hue_order=[\n",
    "        \"spont\", \"evoked\",\n",
    "    ],\n",
    "    palette=[cl[\"COLOR_NS\"], cl[\"COLOR_NE\"]],\n",
    "    width=0.4,\n",
    "    linewidth=0.5,\n",
    "    flierprops={\n",
    "        \"marker\": \".\",\n",
    "        \"markersize\": 3,\n",
    "    },\n",
    ");\n",
    "\n",
    "ax.set_yscale(\"log\");\n",
    "\n",
    "# minor ticks\n",
    "locmin = matplotlib.ticker.LogLocator(\n",
    "    base=10.0,\n",
    "    subs=np.arange(0, 1.1, 0.1),\n",
    "    numticks=10,\n",
    ");\n",
    "ax.tick_params(which=\"both\");\n",
    "ax.yaxis.set_minor_locator(locmin);\n",
    "\n",
    "# axes\n",
    "ax.spines[[\"top\", \"right\"]].set_visible(False);\n",
    "ax.legend(\"\", frameon=False);\n",
    "\n",
    "# disconnect axes (R style)\n",
    "ax.spines[\"bottom\"].set_position((\"axes\", -0.05));\n",
    "ax.yaxis.set_ticks_position(\"left\");\n",
    "ax.spines[\"left\"].set_position((\"axes\", -0.05));\n",
    "\n",
    "# ax.legend(\"\", frameon=False)\n",
    "ax.set_ylabel(\"Amplitude (\\u03bcV)\");\n",
    "ax.set_xlabel(\"Layer\");\n",
    "ax.set_ylim([0, 400]);"
   ]
  },
  {
   "cell_type": "markdown",
   "metadata": {},
   "source": [
    "## Statistics"
   ]
  },
  {
   "cell_type": "markdown",
   "metadata": {},
   "source": [
    "### Peak amplitude changes across layers?"
   ]
  },
  {
   "cell_type": "markdown",
   "metadata": {},
   "source": [
    "kruskal-Wallis H statistic corresponds to the $\\chi^2$ value\n",
    "\n",
    "Dunn's test"
   ]
  },
  {
   "cell_type": "code",
   "execution_count": 15,
   "metadata": {},
   "outputs": [
    {
     "name": "stdout",
     "output_type": "stream",
     "text": [
      "\n",
      "--------------------E--------------------\n",
      "\n",
      "H=73.85343096181766, p=8.413803677307674e-18\n",
      "N_L5 = 52 sites\n",
      "N_L6 = 68 sites\n",
      "91.0 $\\pm$ 16.72112, 34.0 $\\pm$ 4.901311, \n"
     ]
    }
   ],
   "source": [
    "def ci95(data):\n",
    "    return 1.96 * np.nanstd(data) / np.sqrt(np.sum(~np.isnan(data)))\n",
    "\n",
    "def get_medians_and_ci95(plot_data, exp, feature: str):\n",
    "    layers = [\"L5\", \"L6\"]\n",
    "    stats = \"\"\n",
    "    record = []\n",
    "    for layer in layers:\n",
    "        feature_data = plot_data[(plot_data.experiment==exp) & (plot_data.layer==layer)][feature]\n",
    "        stats += f\"{np.round(feature_data.median()*10000)/10000} $\\pm$ {np.round(ci95(feature_data),6)}, \"\n",
    "        record.append(np.round(feature_data.median()*10000)/10000)\n",
    "    print(stats)\n",
    "    return record\n",
    "    \n",
    "\n",
    "# kruskall-wallis\n",
    "# perform Dunn's posthoc test using a holm-sidak correction for the p-values\n",
    "# to identify the layer amplitudes that significantly deviate from others\n",
    "print(\"\\n--------------------E--------------------\\n\")\n",
    "amp.get_kk_demo(plot_data, \"evoked\")\n",
    "amp.get_posthoc_dunn_holm_sidak_demo(plot_data, \"evoked\")\n",
    "m_e = get_medians_and_ci95(plot_data, \"evoked\", \"amplitude\")  "
   ]
  },
  {
   "cell_type": "markdown",
   "metadata": {},
   "source": [
    "# Are Models and in vivo data the same?"
   ]
  },
  {
   "cell_type": "code",
   "execution_count": 22,
   "metadata": {},
   "outputs": [],
   "source": [
    "from scipy.stats import kruskal\n",
    "import scikit_posthocs as sp\n",
    "\n",
    "\n",
    "def count_sites(df, exp, layer):\n",
    "    return len(df[(df[\"experiment\"] == exp) & (df[\"layer\"] == layer)])\n",
    "\n",
    "\n",
    "def get_amplitude(df, exp, layer):\n",
    "    return df[(df[\"experiment\"] == exp) & (df[\"layer\"] == layer)][\"amplitude\"].values\n",
    "\n",
    "\n",
    "def get_kk_compare_exps(df, layer):\n",
    "    \"\"\"kruskall wallis test\n",
    "    \"\"\"\n",
    "    h, p = kruskal(\n",
    "        get_amplitude(df, \"spont\", layer),\n",
    "        get_amplitude(df, \"evoked\", layer),\n",
    "    )\n",
    "    print(f\"H={h}, p={p}\")\n",
    "    print(f\"\"\"N= {count_sites(df, \"spont\", layer)} sites\"\"\")\n",
    "    print(f\"\"\"N = {count_sites(df, \"evoked\", layer)} sites\"\"\")\n",
    "    \n",
    "    \n",
    "def get_posthoc_dunn_holm_sidak_compare_exps(plot_data, layer):\n",
    "    \"\"\"posthoc test after kruskall wallis with Dunn and holm_sidak\n",
    "    multiple comparison correction of p-values\n",
    "\n",
    "    Args:\n",
    "        plot_data (_type_): _description_\n",
    "        exp (_type_): _description_\n",
    "\n",
    "    Returns:\n",
    "        _type_: _description_\n",
    "    \"\"\"\n",
    "    data = [\n",
    "        get_amplitude(plot_data, \"spont\", layer),\n",
    "        get_amplitude(plot_data, \"evoked\", layer),\n",
    "    ]\n",
    "    # holm sidak method has more power than Bonferroni which is more conservative\n",
    "    # Non-significance can indicate subtle differences, power issues, samll sample size,\n",
    "    # or the balancing be due to how the Holm-Sidak correction controls Type I errors\n",
    "    # while retaining power.\n",
    "    # we can still look at the p-values to identify trends.\n",
    "    df = sp.posthoc_dunn(data, p_adjust=\"holm-sidak\")\n",
    "    df.columns = [\"spont\", \"evoked\"]\n",
    "    df.index = [\"spont\", \"evoked\"]\n",
    "    return df\n",
    "\n",
    "def get_posthoc_dunn_holm_sidak_compare_exps_l5(plot_data, layer):\n",
    "    \"\"\"posthoc test after kruskall wallis with Dunn and holm_sidak\n",
    "    multiple comparison correction of p-values\n",
    "\n",
    "    Args:\n",
    "        plot_data (_type_): _description_\n",
    "        exp (_type_): _description_\n",
    "\n",
    "    Returns:\n",
    "        _type_: _description_\n",
    "    \"\"\"\n",
    "    data = [\n",
    "        get_amplitude(plot_data, \"spont\", layer),\n",
    "        get_amplitude(plot_data, \"evoked\", layer),\n",
    "    ]\n",
    "    # holm sidak method has more power than Bonferroni which is more conservative\n",
    "    # Non-significance can indicate subtle differences, power issues, samll sample size,\n",
    "    # or the balancing be due to how the Holm-Sidak correction controls Type I errors\n",
    "    # while retaining power.\n",
    "    # we can still look at the p-values to identify trends.\n",
    "    df = sp.posthoc_dunn(data, p_adjust=\"holm-sidak\")\n",
    "    df.columns = [\"spont\", \"evoked\"]\n",
    "    df.index = [\"spont\", \"evoked\"]\n",
    "    return df"
   ]
  },
  {
   "cell_type": "code",
   "execution_count": 23,
   "metadata": {},
   "outputs": [
    {
     "name": "stdout",
     "output_type": "stream",
     "text": [
      "\n",
      "------LAYER 5:------\n",
      "\n",
      "H=1.123621446555255, p=0.28913999707252735\n",
      "N= 52 sites\n",
      "N = 52 sites\n"
     ]
    },
    {
     "data": {
      "text/html": [
       "<div>\n",
       "<style scoped>\n",
       "    .dataframe tbody tr th:only-of-type {\n",
       "        vertical-align: middle;\n",
       "    }\n",
       "\n",
       "    .dataframe tbody tr th {\n",
       "        vertical-align: top;\n",
       "    }\n",
       "\n",
       "    .dataframe thead th {\n",
       "        text-align: right;\n",
       "    }\n",
       "</style>\n",
       "<table border=\"1\" class=\"dataframe\">\n",
       "  <thead>\n",
       "    <tr style=\"text-align: right;\">\n",
       "      <th></th>\n",
       "      <th>spont</th>\n",
       "      <th>evoked</th>\n",
       "    </tr>\n",
       "  </thead>\n",
       "  <tbody>\n",
       "    <tr>\n",
       "      <th>spont</th>\n",
       "      <td>1.00000</td>\n",
       "      <td>0.28914</td>\n",
       "    </tr>\n",
       "    <tr>\n",
       "      <th>evoked</th>\n",
       "      <td>0.28914</td>\n",
       "      <td>1.00000</td>\n",
       "    </tr>\n",
       "  </tbody>\n",
       "</table>\n",
       "</div>"
      ],
      "text/plain": [
       "          spont   evoked\n",
       "spont   1.00000  0.28914\n",
       "evoked  0.28914  1.00000"
      ]
     },
     "metadata": {},
     "output_type": "display_data"
    },
    {
     "name": "stdout",
     "output_type": "stream",
     "text": [
      "\n",
      "------LAYER 6:------\n",
      "\n",
      "H=7.279522411047727, p=0.006974507669614558\n",
      "N= 68 sites\n",
      "N = 68 sites\n"
     ]
    },
    {
     "data": {
      "text/html": [
       "<div>\n",
       "<style scoped>\n",
       "    .dataframe tbody tr th:only-of-type {\n",
       "        vertical-align: middle;\n",
       "    }\n",
       "\n",
       "    .dataframe tbody tr th {\n",
       "        vertical-align: top;\n",
       "    }\n",
       "\n",
       "    .dataframe thead th {\n",
       "        text-align: right;\n",
       "    }\n",
       "</style>\n",
       "<table border=\"1\" class=\"dataframe\">\n",
       "  <thead>\n",
       "    <tr style=\"text-align: right;\">\n",
       "      <th></th>\n",
       "      <th>spont</th>\n",
       "      <th>evoked</th>\n",
       "    </tr>\n",
       "  </thead>\n",
       "  <tbody>\n",
       "    <tr>\n",
       "      <th>spont</th>\n",
       "      <td>1.000000</td>\n",
       "      <td>0.006975</td>\n",
       "    </tr>\n",
       "    <tr>\n",
       "      <th>evoked</th>\n",
       "      <td>0.006975</td>\n",
       "      <td>1.000000</td>\n",
       "    </tr>\n",
       "  </tbody>\n",
       "</table>\n",
       "</div>"
      ],
      "text/plain": [
       "           spont    evoked\n",
       "spont   1.000000  0.006975\n",
       "evoked  0.006975  1.000000"
      ]
     },
     "metadata": {},
     "output_type": "display_data"
    }
   ],
   "source": [
    "# kruskall-wallis\n",
    "# perform Dunn's posthoc test using a holm-sidak correction for the p-values\n",
    "# to identify the amplitudes that significantly deviate from others\n",
    "print(\"\\n------LAYER 5:------\\n\")\n",
    "get_kk_compare_exps(plot_data, \"L5\")\n",
    "display(get_posthoc_dunn_holm_sidak_compare_exps_l5(plot_data, \"L5\"))\n",
    "\n",
    "print(\"\\n------LAYER 6:------\\n\")\n",
    "get_kk_compare_exps(plot_data, \"L6\")\n",
    "display(get_posthoc_dunn_holm_sidak_compare_exps(plot_data, \"L6\"))"
   ]
  },
  {
   "cell_type": "markdown",
   "metadata": {},
   "source": [
    "### H3: Do the spont. model and M-S amplitudes differ? OFTEN."
   ]
  },
  {
   "cell_type": "code",
   "execution_count": 26,
   "metadata": {},
   "outputs": [
    {
     "name": "stdout",
     "output_type": "stream",
     "text": [
      "\n",
      "layer 5\n",
      "\n",
      "1 vs. 2, z=1515.0, p=0.2920934571238412, N_1=52, N_2=52\n",
      "\n",
      "layer 6\n",
      "\n",
      "1 vs. 2, z=2931.5, p=0.006831355266259868, N_1=68, N_2=68\n"
     ]
    }
   ],
   "source": [
    "print(\"\\nlayer 5\\n\")\n",
    "amp.get_mwu(plot_data, \"evoked\", \"spont\", \"L5\")\n",
    "\n",
    "print(\"\\nlayer 6\\n\")\n",
    "amp.get_mwu(plot_data, \"evoked\", \"spont\", \"L6\")"
   ]
  },
  {
   "cell_type": "markdown",
   "metadata": {},
   "source": [
    "### H4: Do evoked model and M-S amplitudes differ? YES?"
   ]
  },
  {
   "cell_type": "code",
   "execution_count": 28,
   "metadata": {},
   "outputs": [
    {
     "name": "stdout",
     "output_type": "stream",
     "text": [
      "\n",
      "layer 5\n",
      "\n",
      "1 vs. 2, z=1189.0, p=0.2920934571238412, N_1=52, N_2=52\n",
      "\n",
      "layer 6\n",
      "\n",
      "1 vs. 2, z=1692.5, p=0.006831355266259868, N_1=68, N_2=68\n"
     ]
    }
   ],
   "source": [
    "print(\"\\nlayer 5\\n\")\n",
    "amp.get_mwu(plot_data, \"spont\", \"evoked\", \"L5\")\n",
    "\n",
    "print(\"\\nlayer 6\\n\")\n",
    "amp.get_mwu(plot_data, \"spont\", \"evoked\", \"L6\")"
   ]
  }
 ],
 "metadata": {
  "kernelspec": {
   "display_name": "demo",
   "language": "python",
   "name": "python3"
  },
  "language_info": {
   "codemirror_mode": {
    "name": "ipython",
    "version": 3
   },
   "file_extension": ".py",
   "mimetype": "text/x-python",
   "name": "python",
   "nbconvert_exporter": "python",
   "pygments_lexer": "ipython3",
   "version": "3.10.8"
  }
 },
 "nbformat": 4,
 "nbformat_minor": 4
}
