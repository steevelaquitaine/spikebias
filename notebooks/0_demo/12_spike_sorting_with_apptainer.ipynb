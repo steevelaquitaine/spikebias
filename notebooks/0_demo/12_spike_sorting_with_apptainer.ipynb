{
 "cells": [
  {
   "cell_type": "code",
   "execution_count": 3,
   "id": "b6d961e9-c61c-47f9-80de-afe6f8316c4b",
   "metadata": {},
   "outputs": [
    {
     "name": "stdout",
     "output_type": "stream",
     "text": [
      "The autoreload extension is already loaded. To reload it, use:\n",
      "  %reload_ext autoreload\n"
     ]
    }
   ],
   "source": [
    "%load_ext autoreload\n",
    "%autoreload 2\n",
    "    \n",
    "import spikeinterface.sorters as ss\n",
    "from dandi.dandiapi import DandiAPIClient\n",
    "import spikeinterface.extractors as se"
   ]
  },
  {
   "cell_type": "code",
   "execution_count": 5,
   "id": "44468da5-2911-4a06-b822-85a7dbfc5c21",
   "metadata": {},
   "outputs": [],
   "source": [
    "import torch\n",
    "print(torch.cuda.is_available())  # check if CUDA is available\n",
    "print(torch.cuda.get_device_name(0))  # get the name of the GPU"
   ]
  },
  {
   "cell_type": "code",
   "execution_count": 6,
   "id": "b8e55b44-232b-436d-ba33-10278ec5d83c",
   "metadata": {},
   "outputs": [],
   "source": [
    "%%time\n",
    "# load RecordingExtractor\n",
    "\n",
    "# load dandiset (npx, evoked, 20Khz)\n",
    "dandiset_id = '001250'\n",
    "filepath = 'sub-002-fitted/sub-002-fitted_ecephys.nwb'\n",
    "\n",
    "# get the file path on S3\n",
    "with DandiAPIClient() as client:\n",
    "    asset = client.get_dandiset(dandiset_id, 'draft').get_asset_by_path(filepath)\n",
    "    s3_path = asset.get_content_url(follow_redirects=1, strip_query=True)\n",
    "print(\"s3_path:\", s3_path)\n",
    "\n",
    "# get RecordingExtractor\n",
    "Recording = se.NwbRecordingExtractor(file_path=s3_path, stream_mode=\"remfile\")\n",
    "\n",
    "# report\n",
    "print('\\n', Recording)\n",
    "\n",
    "# spike sort\n",
    "sorting_KS3 = ss.run_sorter(sorter_name=\"kilosort3\", singularity_image=True, recording=Recording)"
   ]
  }
 ],
 "metadata": {
  "kernelspec": {
   "display_name": "demo",
   "language": "python",
   "name": "demo"
  },
  "language_info": {
   "codemirror_mode": {
    "name": "ipython",
    "version": 3
   },
   "file_extension": ".py",
   "mimetype": "text/x-python",
   "name": "python",
   "nbconvert_exporter": "python",
   "pygments_lexer": "ipython3",
   "version": "3.10.8"
  }
 },
 "nbformat": 4,
 "nbformat_minor": 5
}
