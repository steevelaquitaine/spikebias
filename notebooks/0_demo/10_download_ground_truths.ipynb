{
 "cells": [
  {
   "cell_type": "markdown",
   "id": "15d22b34-dd1f-4f52-9688-8a4b8616e06c",
   "metadata": {
    "editable": true,
    "slideshow": {
     "slide_type": ""
    },
    "tags": []
   },
   "source": [
    "# Download ground truths\n",
    "\n",
    "author: laquitainesteeve@gmail.com\n",
    "\n",
    "purpose: download ground truths from dandi archive\n",
    "\n",
    "Execution time: 3 secs\n",
    "\n",
    "Special hardware: on CPU, does not require GPU.\n",
    "\n",
    "# Setup \n",
    "\n",
    "Activate dandi virtual environment (envs/dandi.yml)\n",
    "\n",
    "```bash\n",
    "python -m ipykernel install --user --name ground_truth --display-name \"ground_truth\"\n",
    "```"
   ]
  },
  {
   "cell_type": "code",
   "execution_count": 6,
   "id": "73b8f812-1185-4419-ab2d-5e9879786b06",
   "metadata": {},
   "outputs": [
    {
     "name": "stdout",
     "output_type": "stream",
     "text": [
      "The autoreload extension is already loaded. To reload it, use:\n",
      "  %reload_ext autoreload\n",
      "spikeinterface 0.101.2\n",
      "CPU times: user 783 μs, sys: 0 ns, total: 783 μs\n",
      "Wall time: 696 μs\n"
     ]
    }
   ],
   "source": [
    "%%time \n",
    "%load_ext autoreload\n",
    "%autoreload 2\n",
    "\n",
    "# import python packages\n",
    "import os\n",
    "import numpy as np\n",
    "from time import time\n",
    "from dandi.dandiapi import DandiAPIClient\n",
    "import spikeinterface.extractors as se\n",
    "import spikeinterface.sorters as ss\n",
    "import spikeinterface\n",
    "from pynwb.file import NWBFile, Subject\n",
    "from pynwb import NWBHDF5IO\n",
    "import uuid\n",
    "from datetime import datetime\n",
    "from dateutil.tz import tzlocal\n",
    "import spikeinterface as si\n",
    "import os\n",
    "import shutil \n",
    "import pandas as pd\n",
    "\n",
    "print(\"spikeinterface\", spikeinterface.__version__)\n",
    "\n",
    "proj_path = \"/home/steeve/steeve/epfl/code/spikebias\"\n",
    "os.chdir(proj_path)\n",
    "\n",
    "# custom package\n",
    "from src.nodes.dataloader.dataloader import SortingLoader\n",
    "\n",
    "# setup parameters\n",
    "SAVE = True # save sorting extractor"
   ]
  },
  {
   "cell_type": "markdown",
   "id": "a9b8e3f9",
   "metadata": {},
   "source": [
    "## Functions"
   ]
  },
  {
   "cell_type": "code",
   "execution_count": 9,
   "id": "1ec7557d",
   "metadata": {},
   "outputs": [],
   "source": [
    "def save_ground_truth_metadata(property_data_path:str, Sorting, ground_truth_path:str, save:bool):\n",
    "    \"\"\"add cells properties to Ground truth extractor\n",
    "\n",
    "    Args:\n",
    "        property_data_path: path of cell properties h5 file (e.g., assets/metadata/silico_neuropixels/npx_evoked/cell_properties.h5)\n",
    "        Sorting: Ground truth Sorting Extractor\n",
    "        ground_truth_path (None): ground truth saving path\n",
    "        save (bool): whether to save the Sorting Extractor\n",
    "    \n",
    "    Returns:\n",
    "        Sorting Extractor\n",
    "    \"\"\"\n",
    "    # cell properties to h5 file in the local project path\n",
    "    df = pd.read_hdf(property_data_path, key=\"cell_properties\")\n",
    "    \n",
    "    # add as property to Sorting Extractor\n",
    "    for prop in df.columns:\n",
    "        Sorting.set_property(prop, df[prop].values.tolist())\n",
    "    \n",
    "    # make a \"layers\" copy of \"layer\"\n",
    "    # for convenience\n",
    "    Sorting.set_property(\"layers\", df[\"layer\"].values.tolist())\n",
    "\n",
    "    # save Sorting Extractor\n",
    "    if save:\n",
    "        shutil.rmtree(ground_truth_path, ignore_errors=True)\n",
    "        Sorting.save(folder=ground_truth_path)\n",
    "    return Sorting"
   ]
  },
  {
   "cell_type": "markdown",
   "id": "f9f4059b-ad1f-4583-b619-64a5016ac027",
   "metadata": {},
   "source": [
    "## Load ground truth"
   ]
  },
  {
   "cell_type": "markdown",
   "id": "5e8a7782",
   "metadata": {},
   "source": [
    "### npx_spont\n",
    "\n",
    "note: Sorting extractor already contains cell metadata"
   ]
  },
  {
   "cell_type": "code",
   "execution_count": null,
   "id": "8b76324a-355f-4c91-9b27-3d9f89b9ae5f",
   "metadata": {},
   "outputs": [],
   "source": [
    "%%time\n",
    "\n",
    "# load dandiset (npx, spontaneous, 40Khz)\n",
    "dandiset_id = '001250'\n",
    "filepath = 'sub-001/sub-001_ecephys.nwb' # ground truth spikes and unit metadata of biophy npx spontaneous\n",
    "SFREQ = 40000 # sampling frequency\n",
    "TSTART = 0 # default - these are timestamps\n",
    "\n",
    "# Instantiate and load sorting\n",
    "loader = SortingLoader(dandiset_id, filepath, SFREQ, TSTART)\n",
    "GroundTruth = loader.load_sorting()\n",
    "\n",
    "# write\n",
    "if SAVE:\n",
    "    GroundTruth.save(folder = os.path.join(proj_path, \"dataset/00_raw/ground_truth_npx_spont\"))\n",
    "\n",
    "# report\n",
    "print('\\n', GroundTruth)\n",
    "GroundTruth"
   ]
  },
  {
   "cell_type": "markdown",
   "id": "ad859609",
   "metadata": {},
   "source": [
    "### npx_evoked\n",
    "\n",
    "- note: here we add metadata that were not saved in the dandi dataset"
   ]
  },
  {
   "cell_type": "code",
   "execution_count": 5,
   "id": "54e233c1",
   "metadata": {},
   "outputs": [
    {
     "name": "stdout",
     "output_type": "stream",
     "text": [
      "\n",
      " NwbSortingExtractor: 1836 units - 1 segments - 20.0kHz\n",
      "  file_path: https://dandiarchive.s3.amazonaws.com/blobs/9d6/6ed/9d66ed40-af31-43aa-b4ba-246d2206dcad\n",
      "CPU times: user 1.22 s, sys: 270 ms, total: 1.5 s\n",
      "Wall time: 24.3 s\n"
     ]
    },
    {
     "data": {
      "text/html": [
       "<div style='border:1px solid #ddd; padding:10px;'><strong>NwbSortingExtractor: 1836 units - 1 segments - 20.0kHz\n",
       "  file_path: https://dandiarchive.s3.amazonaws.com/blobs/9d6/6ed/9d66ed40-af31-43aa-b4ba-246d2206dcad</strong></div><details style='margin-left: 10px;'>  <summary><strong>Unit IDs</strong></summary><ul>['12165' '15894' '16652' ... '4228700' '4229218' '4229506'] </details><details style='margin-left: 10px;'>  <summary><strong>Annotations</strong></summary><ul></details><details style='margin-left: 10px;'><summary><strong>Unit Properties</strong></summary><ul><details><summary><strong>region</strong></summary>['S1FL' 'S1FL' 'S1FL' ... 'S1FL' 'S1FL' 'S1FL']</details><details><summary><strong>x</strong></summary>[4390.68958743 4278.57136561 4212.211907   ... 3868.22520407 3855.42159682\n",
       " 4071.21220736]</details><details><summary><strong>morphology</strong></summary>['dend-C220797A-P3_axon-sm110131a1-3_INT_idA_-_Scale_x1.000_y0.975_z1.000'\n",
       " 'dend-rat_20150323_E2_LH3_cell3_axon-rat_20141016_LH3_cell2_-_Scale_x1.000_y1.050_z1.000'\n",
       " 'dend-rat_20160908_E3_LH2_cell2_axon-mtC221001B_idE_-_Clone_0' ...\n",
       " 'C210301C1_cor_-_Clone_1'\n",
       " 'C040601_-_Scale_x1.000_y0.975_z1.000_-_Clone_1' 'rp110125_L5-1_idH']</details><details><summary><strong>model_template</strong></summary>['hoc:cADpyr_L2TPC' 'hoc:cADpyr_L2TPC' 'hoc:cADpyr_L2TPC' ...\n",
       " 'hoc:cACint_L23MC' 'hoc:cACint_L23MC' 'hoc:cACint_L23MC']</details><details><summary><strong>dynamics_holding_current</strong></summary>[-0.01543491 -0.00879758 -0.01220789 ... -0.04743771 -0.03117019\n",
       " -0.04745462]</details><details><summary><strong>orientation</strong></summary>['[[ 0.61724075  0.60658987  0.50106147]\\n [ 0.70631627 -0.14666171 -0.69253713]\\n [-0.34659947  0.78137    -0.51896987]]'\n",
       " '[[ 0.41615368  0.58890894  0.69282203]\\n [ 0.89727124 -0.14246592 -0.41786095]\\n [-0.14737852  0.79554366 -0.58769878]]'\n",
       " '[[ 0.78863739  0.58890894  0.17674085]\\n [ 0.31655797 -0.14246592 -0.93781369]\\n [-0.52710732  0.79554366 -0.29877777]]'\n",
       " ...\n",
       " '[[ 0.68457588  0.58987311  0.42825878]\\n [ 0.60430986 -0.13071332 -0.78595395]\\n [-0.40763397  0.79684613 -0.44594932]]'\n",
       " '[[-0.6425116   0.60658987 -0.46821745]\\n [-0.66926984 -0.14666171  0.72840114]\\n [ 0.37317118  0.78137     0.50020415]]'\n",
       " '[[-0.50398794  0.58890894 -0.63180884]\\n [-0.83424265 -0.14246592  0.532675  ]\\n [ 0.22368584  0.79554366  0.56309407]]']</details><details><summary><strong>orientation_z</strong></summary>[ 0.05111529  0.18615415 -0.1173145  ...  0.00685783  0.75653444\n",
       "  0.74322741]</details><details><summary><strong>me_combo</strong></summary>['cADpyr_L2TPC_L3_TPC:A_3_dend-C220797A-P3_axon-sm110131a1-3_INT_idA_-_Scale_x1.000_y0.975_z1.000'\n",
       " 'cADpyr_L2TPC_L3_TPC:A_3_dend-rat_20150323_E2_LH3_cell3_axon-rat_20141016_LH3_cell2_-_Scale_x1.000_y1.050_z1.000'\n",
       " 'cADpyr_L2TPC_L3_TPC:A_3_dend-rat_20160908_E3_LH2_cell2_axon-mtC221001B_idE_-_Clone_0'\n",
       " ... 'cACint_L23MC_L5_MC_5_C210301C1_cor_-_Clone_1'\n",
       " 'cACint_L23MC_L5_MC_5_C040601_-_Scale_x1.000_y0.975_z1.000_-_Clone_1'\n",
       " 'cACint_L23MC_L5_MC_5_rp110125_L5-1_idH']</details><details><summary><strong>layer</strong></summary>['3' '3' '3' ... '5' '5' '5']</details><details><summary><strong>orientation_y</strong></summary>[0.43447308 0.5072177  0.30318083 ... 0.39707056 0.49891025 0.44677398]</details><details><summary><strong>dynamics_input_resistance</strong></summary>[174.26235962 281.59408569 229.94476318 ... 243.7686615  347.37185669\n",
       " 244.9480896 ]</details><details><summary><strong>dynamics_threshold_current</strong></summary>[0.084875   0.06744531 0.06971875 ... 0.05266797 0.03789062 0.0545625 ]</details><details><summary><strong>z</strong></summary>[-1973.52809022 -2011.21979031 -2068.27900489 ... -2528.26543234\n",
       " -2641.68138692 -2338.88869816]</details><details><summary><strong>morph_class</strong></summary>['PYR' 'PYR' 'PYR' ... 'INT' 'INT' 'INT']</details><details><summary><strong>inh_mini_frequency</strong></summary>[0.233243 0.233243 0.233243 ... 0.233243 0.233243 0.233243]</details><details><summary><strong>exc_mini_frequency</strong></summary>[0.013875   0.013875   0.013875   ... 0.01010775 0.01010775 0.01010775]</details><details><summary><strong>orientation_x</strong></summary>[ 0.75545886  0.73251594  0.74663932 ...  0.75187075 -0.03140844\n",
       " -0.13728066]</details><details><summary><strong>orientation_w</strong></summary>[ 0.48775228  0.41412226  0.58038644 ...  0.52628729 -0.42161322\n",
       " -0.47870664]</details><details><summary><strong>synapse_class</strong></summary>['EXC' 'EXC' 'EXC' ... 'INH' 'INH' 'INH']</details><details><summary><strong>y</strong></summary>[-1426.65278302 -1400.8144095  -1373.74407573 ... -1278.18504354\n",
       " -1177.26968383 -1273.45186683]</details><details><summary><strong>dynamics_resting_potential</strong></summary>[-81.16769409 -81.62494659 -81.2625885  ... -70.74760437 -71.56725311\n",
       " -70.67480469]</details><details><summary><strong>mtype</strong></summary>['L3_TPC:A' 'L3_TPC:A' 'L3_TPC:A' ... 'L5_MC' 'L5_MC' 'L5_MC']</details><details><summary><strong>model_type</strong></summary>['biophysical' 'biophysical' 'biophysical' ... 'biophysical' 'biophysical'\n",
       " 'biophysical']</details><details><summary><strong>etype</strong></summary>['cADpyr' 'cADpyr' 'cADpyr' ... 'cACint' 'cACint' 'cACint']</details><details><summary><strong>layers</strong></summary>['3' '3' '3' ... '5' '5' '5']</details></ul></details>"
      ],
      "text/plain": [
       "NwbSortingExtractor: 1836 units - 1 segments - 20.0kHz\n",
       "  file_path: https://dandiarchive.s3.amazonaws.com/blobs/9d6/6ed/9d66ed40-af31-43aa-b4ba-246d2206dcad"
      ]
     },
     "execution_count": 5,
     "metadata": {},
     "output_type": "execute_result"
    }
   ],
   "source": [
    "%%time\n",
    "\n",
    "# load dandiset (npx, evoked, 20Khz)\n",
    "DANDISET_ID = '001250'\n",
    "FILEPATH = 'sub-002-fitted/sub-002-fitted_ecephys.nwb' # ground truth spikes and unit metadata\n",
    "CELL_PROPERTIES_PATH = \"assets/metadata/silico_neuropixels/npx_evoked/cell_properties.h5\"\n",
    "SAVE_PATH = \"dataset/00_raw/ground_truth_npx_evoked\"\n",
    "SFREQ = 20000 # sampling frequency\n",
    "TSTART = 0    # default - these are timestamps\n",
    "\n",
    "# load ground truth cells and timestamps\n",
    "loader = SortingLoader(DANDISET_ID, FILEPATH, SFREQ, TSTART)\n",
    "GroundTruth = loader.load_sorting()\n",
    "\n",
    "# add cells metadata\n",
    "GroundTruth = save_ground_truth_metadata(CELL_PROPERTIES_PATH, GroundTruth, SAVE_PATH, save=False)\n",
    "\n",
    "# write\n",
    "if SAVE:\n",
    "    GroundTruth.save(folder = os.path.join(proj_path, \"dataset/00_raw/ground_truth_npx_evoked\"), overwrite=True)\n",
    "\n",
    "# report\n",
    "print('\\n', GroundTruth)\n",
    "GroundTruth"
   ]
  }
 ],
 "metadata": {
  "kernelspec": {
   "display_name": "Python 3",
   "language": "python",
   "name": "python3"
  },
  "language_info": {
   "codemirror_mode": {
    "name": "ipython",
    "version": 3
   },
   "file_extension": ".py",
   "mimetype": "text/x-python",
   "name": "python",
   "nbconvert_exporter": "python",
   "pygments_lexer": "ipython3",
   "version": "3.10.18"
  }
 },
 "nbformat": 4,
 "nbformat_minor": 5
}
