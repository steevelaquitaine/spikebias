{
 "cells": [
  {
   "attachments": {},
   "cell_type": "markdown",
   "metadata": {},
   "source": [
    "# Demo single-site trace\n",
    "\n",
    "author: laquitainesteeve@gmail.com  \n",
    "\n",
    "execution time: 1 min"
   ]
  },
  {
   "attachments": {},
   "cell_type": "markdown",
   "metadata": {},
   "source": [
    "## Setup\n",
    "\n",
    "Create and activate `demo` virtual environment kernel `demo` from (envs/demo.yml)"
   ]
  },
  {
   "cell_type": "code",
   "execution_count": 1,
   "metadata": {},
   "outputs": [
    {
     "name": "stdout",
     "output_type": "stream",
     "text": [
      "The autoreload extension is already loaded. To reload it, use:\n",
      "  %reload_ext autoreload\n"
     ]
    },
    {
     "name": "stderr",
     "output_type": "stream",
     "text": [
      "/Users/steeve_laquitaine/Desktop/EPFL/2022_2024_bbp/spikebias/envs/demo/lib/python3.10/site-packages/tqdm/auto.py:21: TqdmWarning: IProgress not found. Please update jupyter and ipywidgets. See https://ipywidgets.readthedocs.io/en/stable/user_install.html\n",
      "  from .autonotebook import tqdm as notebook_tqdm\n"
     ]
    },
    {
     "name": "stdout",
     "output_type": "stream",
     "text": [
      "spikeinterface 0.101.2\n"
     ]
    }
   ],
   "source": [
    "%load_ext autoreload\n",
    "%autoreload 2\n",
    "\n",
    "import os\n",
    "import numpy as np\n",
    "from dandi.dandiapi import DandiAPIClient\n",
    "import spikeinterface.extractors as se\n",
    "import spikeinterface\n",
    "from matplotlib import pyplot as plt;\n",
    "print(\"spikeinterface\", spikeinterface.__version__)\n",
    "\n",
    "# dandiset parameters\n",
    "dandiset_id = '001250'\n",
    "filepath = 'sub-demo-npx-bio-evoked/sub-demo-npx-bio-evoked_ecephys.nwb'\n",
    "\n",
    "# project path\n",
    "proj_path = \"/Users/steeve_laquitaine/Desktop/EPFL/2022_2024_bbp/spikebias/\"\n",
    "# proj_path = \"/home/jovyan/steevelaquitaine/spikebias/\"\n",
    "os.chdir(proj_path)\n",
    "\n",
    "# import spikebias\n",
    "from src.nodes.validation import noise"
   ]
  },
  {
   "cell_type": "markdown",
   "metadata": {},
   "source": [
    "## Load demo"
   ]
  },
  {
   "cell_type": "code",
   "execution_count": null,
   "metadata": {},
   "outputs": [
    {
     "name": "stdout",
     "output_type": "stream",
     "text": [
      "s3_path: https://dandiarchive.s3.amazonaws.com/blobs/df4/087/df4087b5-6898-469e-8261-1dcf1413bde3\n",
      "\n",
      " Recording extractor: NwbRecordingExtractor: 120 channels - 20.0kHz - 1 segments - 1,200,000 samples \n",
      "                       60.00s (1.00 minutes) - float32 dtype - 549.32 MiB\n",
      "  file_path: https://dandiarchive.s3.amazonaws.com/blobs/df4/087/df4087b5-6898-469e-8261-1dcf1413bde3\n",
      "trace data shape: (1200000, 120)\n",
      "\n",
      " Sorting extractor: NwbSortingExtractor: 1836 units - 1 segments - 20.0kHz\n",
      "  file_path: https://dandiarchive.s3.amazonaws.com/blobs/df4/087/df4087b5-6898-469e-8261-1dcf1413bde3\n",
      "CPU times: user 19.7 s, sys: 2.83 s, total: 22.5 s\n",
      "Wall time: 1min 23s\n"
     ]
    }
   ],
   "source": [
    "%%time\n",
    "\n",
    "# get the extractors from Dandi archive\n",
    "with DandiAPIClient() as client:\n",
    "    asset = client.get_dandiset(dandiset_id, 'draft').get_asset_by_path(filepath)\n",
    "    s3_path = asset.get_content_url(follow_redirects=1, strip_query=True)\n",
    "Recording = se.NwbRecordingExtractor(file_path=s3_path, stream_mode=\"remfile\")\n",
    "\n",
    "# load voltage traces \n",
    "traces = Recording.get_traces()\n",
    "\n",
    "# report info\n",
    "print(\"s3_path:\", s3_path)\n",
    "print('\\n Recording extractor:', Recording)\n",
    "print(\"trace data shape:\", traces.shape)"
   ]
  },
  {
   "cell_type": "markdown",
   "metadata": {},
   "source": [
    "* from stimulus start (STIM_START= 20110000 at the 5000th stimulus epoch, t=0 ms) to 1000 ms after.\n",
    "* plot trace from site 143 in layer 5, same as for the spontaneous model."
   ]
  },
  {
   "cell_type": "markdown",
   "metadata": {},
   "source": [
    "## Plot single-trace and calculate noise (MAD)"
   ]
  },
  {
   "cell_type": "code",
   "execution_count": 22,
   "metadata": {},
   "outputs": [
    {
     "name": "stdout",
     "output_type": "stream",
     "text": [
      "nb of 1-sec windows: 60\n",
      "Background noise level in uV (min MAD over windows): 5.744417\n",
      "CPU times: user 38.2 ms, sys: 22.6 ms, total: 60.8 ms\n",
      "Wall time: 62.8 ms\n"
     ]
    },
    {
     "data": {
      "image/png": "[encoded data removed]",
      "text/plain": [
       "<Figure size 200x200 with 1 Axes>"
      ]
     },
     "metadata": {},
     "output_type": "display_data"
    }
   ],
   "source": [
    "%%time \n",
    "\n",
    "# parameters\n",
    "LAYER = 'L5'\n",
    "STIM_START = 0\n",
    "SITE_IX = 21\n",
    "SFREQ = int(Recording.get_sampling_frequency())\n",
    "\n",
    "# get one second trace to plot\n",
    "onesecond = np.arange(STIM_START, STIM_START + SFREQ, 1).astype(int)\n",
    "layers = Recording.get_property(\"layers\")\n",
    "L5_site = np.where(layers == LAYER)[0][SITE_IX]\n",
    "fig_data = traces[onesecond, L5_site]\n",
    "\n",
    "# plot\n",
    "YMAX = 60\n",
    "fig, ax = plt.subplots(1, 1, figsize=(2,2))\n",
    "\n",
    "# plot figure\n",
    "ax.plot(fig_data, color=\"k\")\n",
    "\n",
    "# legend\n",
    "ax.spines[[\"right\", \"top\"]].set_visible(False)\n",
    "ax.set_ylabel(\"Voltage (\\u03bcV)\")\n",
    "ax.set_xlabel(\"Time after stimulus (ms)\")\n",
    "ax.set_yticks([-120, 0, YMAX], [-120, 0, YMAX])\n",
    "ax.set_ylim([-120, YMAX])\n",
    "ax.set_xticks([0, SFREQ / 2, SFREQ], [0, 500, 1000])\n",
    "ax.set_xlim([0, SFREQ])\n",
    "\n",
    "# disconnected\n",
    "ax.spines[\"bottom\"].set_position((\"axes\", -0.05))\n",
    "ax.yaxis.set_ticks_position(\"left\")\n",
    "ax.spines[\"left\"].set_position((\"axes\", -0.05))\n",
    "\n",
    "# print background noise (min(MAD) over segments of 1 sec) here\n",
    "wind_end = int(np.floor(len(traces)/SFREQ))\n",
    "bkg_noise = noise.measure_trace_noise(traces[onesecond, L5_site], SFREQ, wind_end)\n",
    "\n",
    "# report\n",
    "print(\"nb of 1-sec windows:\", len(bkg_noise))\n",
    "print(\"Background noise level in uV (min MAD over windows):\", min(bkg_noise))"
   ]
  }
 ],
 "metadata": {
  "kernelspec": {
   "display_name": "Python 3 (ipykernel)",
   "language": "python",
   "name": "python3"
  },
  "language_info": {
   "codemirror_mode": {
    "name": "ipython",
    "version": 3
   },
   "file_extension": ".py",
   "mimetype": "text/x-python",
   "name": "python",
   "nbconvert_exporter": "python",
   "pygments_lexer": "ipython3",
   "version": "3.11.10"
  }
 },
 "nbformat": 4,
 "nbformat_minor": 4
}
