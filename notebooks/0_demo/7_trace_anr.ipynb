{
 "cells": [
  {
   "attachments": {},
   "cell_type": "markdown",
   "metadata": {},
   "source": [
    "# Amplitude-to-noise ratio\n",
    "\n",
    "author: laquitainesteeve@gmail.com\n",
    "\n",
    "Purpose: describe trace amplitude-to-noise ratio\n",
    "\n",
    "Execution time: "
   ]
  },
  {
   "cell_type": "markdown",
   "metadata": {},
   "source": [
    "## Setup\n",
    "\n",
    "Create, activate and select virtual environment kernel `demo` from (envs/demo.yml):\n",
    "\n",
    "```bash\n",
    "python -m ipykernel install --user --name demo --display-name \"demo\" # create kernel\n",
    "```"
   ]
  },
  {
   "cell_type": "code",
   "execution_count": null,
   "metadata": {},
   "outputs": [
    {
     "name": "stdout",
     "output_type": "stream",
     "text": [
      "The autoreload extension is already loaded. To reload it, use:\n",
      "  %reload_ext autoreload\n",
      "spikeinterface version: 0.101.2\n",
      "2025-04-06 10:42:36,339 - root - utils.py - get_config - INFO - Reading experiment config.\n",
      "2025-04-06 10:42:36,460 - root - utils.py - get_config - INFO - Reading experiment config. - done\n",
      "2025-04-06 10:42:36,462 - root - utils.py - get_config - INFO - Reading experiment config.\n",
      "2025-04-06 10:42:36,552 - root - utils.py - get_config - INFO - Reading experiment config. - done\n"
     ]
    }
   ],
   "source": [
    "%load_ext autoreload\n",
    "%autoreload 2\n",
    "\n",
    "import warnings\n",
    "warnings.simplefilter(action='ignore', category=FutureWarning)\n",
    "\n",
    "# import packages\n",
    "import os\n",
    "import numpy as np\n",
    "from dandi.dandiapi import DandiAPIClient\n",
    "import spikeinterface.extractors as se\n",
    "import spikeinterface.preprocessing as spre\n",
    "import spikeinterface as si\n",
    "from matplotlib import pyplot as plt;\n",
    "import multiprocessing\n",
    "import torch\n",
    "import pandas as pd\n",
    "import seaborn as sns\n",
    "import matplotlib\n",
    "import sys\n",
    "print(\"spikeinterface version:\", si.__version__)\n",
    "\n",
    "# dandiset parameters\n",
    "dandiset_id = '001250'\n",
    "filepath_evoked = 'sub-demo-npx-bio-evoked/sub-demo-npx-bio-evoked_ecephys.nwb'\n",
    "filepath_spont = 'sub-demo-npx-bio-spont/sub-demo-npx-bio-spont_ecephys.nwb'\n",
    "\n",
    "# project path\n",
    "proj_path = \"/Users/steeve_laquitaine/Desktop/EPFL/2022_2024_bbp/spikebias/\"\n",
    "#proj_path = \"/home/jovyan/steevelaquitaine/spikebias/\"\n",
    "os.chdir(proj_path)\n",
    "\n",
    "# enable spike bias import\n",
    "sys.path.insert(0, proj_path)\n",
    "\n",
    "from src.nodes.utils import get_config\n",
    "from src.nodes.validation import snr\n",
    "from src.nodes.validation import amplitude\n",
    "\n",
    "# evoked demo\n",
    "cfg_e, param_cfg_e = get_config(\"silico_neuropixels\", \"npx_evoked\").values() # config\n",
    "FREQ_MIN_E = param_cfg_e[\"run\"][\"preprocessing\"][\"min_filter_freq\"] # preprocessing parameters\n",
    "FREQ_MAX_E = param_cfg_e[\"run\"][\"preprocessing\"][\"max_filter_freq\"]\n",
    "\n",
    "# spontaneous demo\n",
    "cfg_s, param_cfg_s = get_config(\"silico_neuropixels\", \"npx_spont\").values() # config\n",
    "FREQ_MIN_S = param_cfg_s[\"run\"][\"preprocessing\"][\"min_filter_freq\"] # preprocessing parameters\n",
    "FREQ_MAX_S = param_cfg_s[\"run\"][\"preprocessing\"][\"max_filter_freq\"]\n",
    "\n",
    "# layer parameter\n",
    "lyrs = [\"L5\"]\n",
    "\n",
    "# plot parameters\n",
    "FIG_SIZE = (1.8, 1.6)\n",
    "COLOR_NS = [0.9, 0.14, 0.15]\n",
    "COLOR_NE = [1, 0.49, 0]\n",
    "N_BINS = 100 # bins for snr histogram\n",
    "pm = {\n",
    "    \"linestyle\": \"-\",\n",
    "    \"linewidth\": 1,\n",
    "    \"marker\": \"None\",\n",
    "}\n",
    "\n",
    "# axes\n",
    "plt.rcParams[\"font.family\"] = \"Arial\"\n",
    "plt.rcParams[\"font.size\"] = 6  # 5-7 with Nature neuroscience as reference\n",
    "plt.rcParams[\"lines.linewidth\"] = 0.5 # typically between 0.5 and 1\n",
    "plt.rcParams[\"axes.linewidth\"] = 0.5 #1\n",
    "plt.rcParams[\"axes.spines.top\"] = False\n",
    "plt.rcParams[\"xtick.major.width\"] = 0.5 #0.8 #* 1.3\n",
    "plt.rcParams[\"xtick.minor.width\"] = 0.5 #0.8 #* 1.3\n",
    "plt.rcParams[\"ytick.major.width\"] = 0.5 #0.8 #* 1.3\n",
    "plt.rcParams[\"ytick.minor.width\"] = 0.5 #0.8 #* 1.3\n",
    "plt.rcParams[\"xtick.major.size\"] = 3.5 * 1.1\n",
    "plt.rcParams[\"xtick.minor.size\"] = 2 * 1.1\n",
    "plt.rcParams[\"ytick.major.size\"] = 3.5 * 1.1\n",
    "plt.rcParams[\"ytick.minor.size\"] = 2 * 1.1\n",
    "# legend\n",
    "savefig_cfg = {\"transparent\":True, \"dpi\": 300}\n",
    "legend_cfg = {\"frameon\": False, \"handletextpad\": 0.5}\n",
    "tight_layout_cfg = {\"pad\": 0.5}\n",
    "LG_FRAMEON = False              # no legend frame"
   ]
  },
  {
   "cell_type": "markdown",
   "metadata": {},
   "source": [
    "## Load demo"
   ]
  },
  {
   "cell_type": "code",
   "execution_count": null,
   "metadata": {},
   "outputs": [
    {
     "name": "stdout",
     "output_type": "stream",
     "text": [
      "CPU times: user 32.2 s, sys: 13.9 s, total: 46.1 s\n",
      "Wall time: 17min 57s\n"
     ]
    }
   ],
   "source": [
    "%%time\n",
    "\n",
    "# EVOKED DEMO\n",
    "\n",
    "with DandiAPIClient() as client: # download the extractors from Dandi archive\n",
    "    asset = client.get_dandiset(dandiset_id, 'draft').get_asset_by_path(filepath_evoked)\n",
    "    s3_path = asset.get_content_url(follow_redirects=1, strip_query=True)\n",
    "RecordingE = se.NwbRecordingExtractor(file_path=s3_path, stream_mode=\"remfile\") # get extractor\n",
    "#RecordingE = spre.astype(RecordingE, \"int16\") # compress to int16 (like kilosorts)\n",
    "RecordingE = spre.bandpass_filter(RecordingE, freq_min=FREQ_MIN_E, freq_max=FREQ_MAX_E)  # band-pass filter\n",
    "RecordingE = spre.common_reference(RecordingE, reference=\"global\", operator=\"median\") # common reference\n",
    "traces_ne = RecordingE.get_traces() # get trace array\n",
    "\n",
    "# SPONTANEOUS DEMO\n",
    "\n",
    "with DandiAPIClient() as client:\n",
    "    asset = client.get_dandiset(dandiset_id, 'draft').get_asset_by_path(filepath_spont)\n",
    "    s3_path = asset.get_content_url(follow_redirects=1, strip_query=True)\n",
    "RecordingS = se.NwbRecordingExtractor(file_path=s3_path, stream_mode=\"remfile\")\n",
    "RecordingS = spre.astype(RecordingS, \"int16\")\n",
    "RecordingS = spre.bandpass_filter(RecordingS, freq_min=FREQ_MIN_S, freq_max=FREQ_MAX_S)\n",
    "RecordingS = spre.common_reference(RecordingS, reference=\"global\", operator=\"median\")\n",
    "traces_ns = RecordingS.get_traces()"
   ]
  },
  {
   "cell_type": "markdown",
   "metadata": {},
   "source": [
    "## Compute"
   ]
  },
  {
   "cell_type": "code",
   "execution_count": null,
   "metadata": {},
   "outputs": [],
   "source": [
    "%%time \n",
    "\n",
    "# evoked\n",
    "traces_ne = RecordingE.get_traces() # get trace array\n",
    "site_ly_ne = RecordingE.get_property(\"layers\") # get layers\n",
    "sites_ne = np.where(np.isin(site_ly_ne, lyrs))[0]\n",
    "\n",
    "# spontaneous\n",
    "traces_ns = RecordingS.get_traces() # get trace array\n",
    "site_ly_ns = RecordingS.get_property(\"layers\") # get layers\n",
    "sites_ns = np.where(np.isin(site_ly_ns, lyrs))[0]\n",
    "\n",
    "# compute snrs\n",
    "snr_ne = snr.get_snrs_parallel(traces_ne[:, sites_ne]).astype(np.float32)\n",
    "max_anr_e = np.max(snr_ne)\n",
    "min_anr_e = np.min(snr_ne)\n",
    "snr_ns = snr.get_snrs_parallel(traces_ns[:, sites_ns]).astype(np.float32)\n",
    "max_anr_s = np.max(snr_ns)\n",
    "min_anr_s = np.min(snr_ns)\n",
    "\n",
    "# get the common bins across all experiments\n",
    "# gather the mins and maxs computed from all nodes and \n",
    "# compute the common bins on node 0\n",
    "anr_max = np.max([max_anr_e, max_anr_s])\n",
    "anr_min = np.min([min_anr_e, min_anr_s])\n",
    "step = (anr_max - anr_min) / N_BINS\n",
    "bins = np.arange(anr_min, anr_max + step / 2, step)\n",
    "\n",
    "# compute summary statistics\n",
    "mean_ne, ci_ne, _ = amplitude.get_snr_pdfs(snr_ne, bins)\n",
    "mean_ne, ci_ne, _ = amplitude.get_snr_pdfs(snr_ns, bins)"
   ]
  },
  {
   "cell_type": "markdown",
   "metadata": {},
   "source": [
    "## Plot"
   ]
  },
  {
   "cell_type": "code",
   "execution_count": 19,
   "metadata": {},
   "outputs": [
    {
     "data": {
      "image/png": "[encoded data removed]",
      "text/plain": [
       "<Figure size 180x160 with 1 Axes>"
      ]
     },
     "metadata": {},
     "output_type": "display_data"
    }
   ],
   "source": [
    "# plot\n",
    "fig, ax = plt.subplots(1, 1, figsize=FIG_SIZE)\n",
    "\n",
    "# plot\n",
    "ax = amplitude.plot_anr_pdf_l5_demo(\n",
    "    ax,\n",
    "    mean_ne,\n",
    "    mean_ne,\n",
    "    ci_ne,\n",
    "    ci_ne,\n",
    "    bins,\n",
    "    COLOR_NS,\n",
    "    COLOR_NE,\n",
    "    pm,\n",
    ")\n",
    "\n",
    "xmin, xmax = ax.get_xlim()\n",
    "ax.set_xticks([np.floor(xmin).astype(int), 0, np.ceil(xmax).astype(int)], [np.floor(xmin).astype(int), 0, np.ceil(xmax).astype(int)])\n",
    "ax.set_xlim([np.floor(xmin), np.ceil(xmax)])\n",
    "\n",
    "# tighten\n",
    "fig.tight_layout(**tight_layout_cfg)"
   ]
  },
  {
   "cell_type": "code",
   "execution_count": null,
   "metadata": {},
   "outputs": [],
   "source": []
  }
 ],
 "metadata": {
  "kernelspec": {
   "display_name": "demo",
   "language": "python",
   "name": "demo"
  },
  "language_info": {
   "codemirror_mode": {
    "name": "ipython",
    "version": 3
   },
   "file_extension": ".py",
   "mimetype": "text/x-python",
   "name": "python",
   "nbconvert_exporter": "python",
   "pygments_lexer": "ipython3",
   "version": "3.10.8"
  }
 },
 "nbformat": 4,
 "nbformat_minor": 4
}
