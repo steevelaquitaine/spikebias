{
 "cells": [
  {
   "cell_type": "code",
   "execution_count": null,
   "id": "4b54c1bd-80c5-4101-b757-871160339ed7",
   "metadata": {},
   "outputs": [],
   "source": [
    "from neuroconv.tools.spikeinterface import add_recording, add_sorting [TODO]: "
   ]
  },
  {
   "cell_type": "code",
   "execution_count": null,
   "id": "19f11aff-08f4-43d1-ba5e-d98b45a5146f",
   "metadata": {},
   "outputs": [],
   "source": [
    "nwb_path = \"./demo_dataset.nwb\"\n",
    "\n",
    "# parametrize session file\n",
    "nwbfile = NWBFile(\n",
    "    session_description=\"Biophysical simulation of neuropixels in the evoked regime. Background noise and gain are fitted to Marques-Smith dataset.\",\n",
    "    identifier=str(uuid.uuid4()),\n",
    "    session_start_time=datetime.now(tzlocal()),\n",
    "    experimenter=\"Laquitaine Steeve\",\n",
    "    lab=\"Blue Brain Project\",\n",
    "    institution=\"EPFL\",\n",
    "    experiment_description=\"Biophysical simulation of neuropixels in the evoked regime. Background noise and gain are fitted to Marques-Smith dataset.\",\n",
    "    session_id=\"demo\",\n",
    "    related_publications=\"https://doi.org/10.1101/2024.12.04.626805\",\n",
    "    keywords=[\"Biophysical simulation\", \"dense extracellular recordings\", \"spike sorting\"]\n",
    ")\n",
    "\n",
    "# subject metadata\n",
    "nwbfile.subject = Subject(\n",
    "    subject_id=\"demo-dataset\",\n",
    "    species=\"Rattus norvegicus\",\n",
    "    age=\"P14D\",\n",
    "    sex=\"M\",\n",
    "    description=\"Wistar Rat\",\n",
    ")\n",
    "\n",
    "# bundle Extractors into nwb\n",
    "add_recording(recording=SmallRecording, nwbfile=nwbfile)\n",
    "add_sorting(sorting=SmallSorting, nwbfile=nwbfile)\n",
    "\n",
    "# write nwb to disk\n",
    "with NWBHDF5IO(path=nwb_path, mode=\"w\") as io:\n",
    "    io.write(nwbfile)\n",
    "\n",
    "# os.system(\n",
    "#     f\"\"\"\n",
    "#     export DANDI_API_KEY='210e68743286d64e84743bd8980d5771ef82bf4d';\n",
    "#     dandi download 'https://dandiarchive.org/dandiset/001250/draft';\n",
    "#     cd 001250;\n",
    "    \n",
    "#     dandi organize {SMALL_DANDISET} -f dry;\n",
    "#     dandi organize {SMALL_DANDISET};\n",
    "#     dandi upload\n",
    "\n",
    "\n",
    "# )"
   ]
  }
 ],
 "metadata": {
  "kernelspec": {
   "display_name": "Python 3 (ipykernel)",
   "language": "python",
   "name": "python3"
  },
  "language_info": {
   "codemirror_mode": {
    "name": "ipython",
    "version": 3
   },
   "file_extension": ".py",
   "mimetype": "text/x-python",
   "name": "python",
   "nbconvert_exporter": "python",
   "pygments_lexer": "ipython3",
   "version": "3.11.10"
  }
 },
 "nbformat": 4,
 "nbformat_minor": 5
}
