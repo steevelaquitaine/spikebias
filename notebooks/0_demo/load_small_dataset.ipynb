{
 "cells": [
  {
   "cell_type": "markdown",
   "id": "15d22b34-dd1f-4f52-9688-8a4b8616e06c",
   "metadata": {},
   "source": [
    "# Load small dandiset\n",
    "\n",
    "author: laquitainesteeve@gmail.com\n",
    "\n",
    "purpose: create small demo dataset (neuropixels evoked 20 KHz)\n",
    "\n",
    "# Setup \n",
    "\n",
    "Activate dandi virtual environment (envs/dandi.yml)\n",
    "\n",
    "```bash\n",
    "python -m ipykernel install --user --name dandi --display-name \"dandi\"\n",
    "```"
   ]
  },
  {
   "cell_type": "code",
   "execution_count": 4,
   "id": "73b8f812-1185-4419-ab2d-5e9879786b06",
   "metadata": {},
   "outputs": [
    {
     "name": "stdout",
     "output_type": "stream",
     "text": [
      "CPU times: user 17 μs, sys: 0 ns, total: 17 μs\n",
      "Wall time: 19.1 μs\n"
     ]
    }
   ],
   "source": [
    "%%time \n",
    "\n",
    "# import python packages\n",
    "from dandi.dandiapi import DandiAPIClient\n",
    "import spikeinterface.extractors as se\n",
    "import spikeinterface.sorters as ss\n",
    "import spikeinterface\n",
    "spikeinterface.__version__\n",
    "from time import time"
   ]
  },
  {
   "cell_type": "markdown",
   "id": "f9f4059b-ad1f-4583-b619-64a5016ac027",
   "metadata": {},
   "source": [
    "## Load dandiset"
   ]
  },
  {
   "cell_type": "code",
   "execution_count": 7,
   "id": "8b76324a-355f-4c91-9b27-3d9f89b9ae5f",
   "metadata": {},
   "outputs": [
    {
     "name": "stdout",
     "output_type": "stream",
     "text": [
      "s3_path: https://dandiarchive.s3.amazonaws.com/blobs/9d6/6ed/9d66ed40-af31-43aa-b4ba-246d2206dcad\n",
      "\n",
      "Recording: NwbRecordingExtractor: 384 channels - 20.0kHz - 1 segments - 72,359,964 samples \n",
      "                       3,618.00s (1.00 hours) - float32 dtype - 103.51 GiB\n",
      "  file_path: https://dandiarchive.s3.amazonaws.com/blobs/9d6/6ed/9d66ed40-af31-43aa-b4ba-246d2206dcad\n",
      "CPU times: user 36.5 ms, sys: 5.21 ms, total: 41.7 ms\n",
      "Wall time: 627 ms\n"
     ]
    }
   ],
   "source": [
    "%%time\n",
    "\n",
    "# load dandiset (npx, evoked, 20Khz)\n",
    "dandiset_id = '001250'\n",
    "filepath = 'sub-002-fitted/sub-002-fitted_ecephys.nwb'\n",
    "\n",
    "# get tthe file path on S3\n",
    "with DandiAPIClient() as client:\n",
    "    asset = client.get_dandiset(dandiset_id, 'draft').get_asset_by_path(filepath)\n",
    "    s3_path = asset.get_content_url(follow_redirects=1, strip_query=True)\n",
    "print(\"s3_path:\", s3_path)\n",
    "\n",
    "# get RecordingExtractor\n",
    "recording = se.NwbRecordingExtractor(file_path=s3_path, stream_mode=\"remfile\")\n",
    "print(\"\\nRecording:\", recording)"
   ]
  },
  {
   "cell_type": "code",
   "execution_count": 21,
   "id": "803fbc08-fd36-4290-b828-a8ca46226367",
   "metadata": {},
   "outputs": [],
   "source": [
    "%%time \n",
    "\n",
    "# Re-wire probe because it is not always recognized by kilosort4\n",
    "# and unit-test\n",
    "probe = recording.get_probe()\n",
    "recording.set_probe(probe)\n",
    "# assert recording.get_probe(), \"A probe should be attached to this recording\"\n",
    "assert \"layers\" in recording.get_property_keys(), \"RecordingExtractor should contain layer property\""
   ]
  },
  {
   "cell_type": "markdown",
   "id": "d6f098c7-ee73-4688-adfa-8e7c2d1bfe66",
   "metadata": {},
   "source": [
    "## Make the small dataset"
   ]
  },
  {
   "cell_type": "code",
   "execution_count": null,
   "id": "7924863a-9fca-4641-92df-48feb1b0a563",
   "metadata": {},
   "outputs": [],
   "source": []
  },
  {
   "cell_type": "code",
   "execution_count": null,
   "id": "0be909b9-55e6-4081-a9f1-93e0a4dbaa3c",
   "metadata": {},
   "outputs": [],
   "source": []
  }
 ],
 "metadata": {
  "kernelspec": {
   "display_name": "dandi",
   "language": "python",
   "name": "dandi"
  },
  "language_info": {
   "codemirror_mode": {
    "name": "ipython",
    "version": 3
   },
   "file_extension": ".py",
   "mimetype": "text/x-python",
   "name": "python",
   "nbconvert_exporter": "python",
   "pygments_lexer": "ipython3",
   "version": "3.10.8"
  }
 },
 "nbformat": 4,
 "nbformat_minor": 5
}
