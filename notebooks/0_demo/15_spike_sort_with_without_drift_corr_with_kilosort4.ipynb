{
 "cells": [
  {
   "cell_type": "markdown",
   "metadata": {},
   "source": [
    "# Spike sorting w/o drift corr\n",
    "\n",
    "10 min recording | +/- drift correction | high-pass filt.| - bad channels\n",
    "\n",
    "author: laquitainesteeve@gmail.com\n",
    "\n",
    "Tested on an Ubuntu 24 with a 32GB VRAM Nvidia RTX 5090, takes 25GB of VRAM.\n",
    "\n",
    "Execution time: 16 min"
   ]
  },
  {
   "cell_type": "markdown",
   "metadata": {},
   "source": [
    "## Setup \n",
    "\n",
    "2. Activate `spikesort_rtx5090` environment and select kernel\n",
    "\n",
    "    ```bash\n",
    "    python -m ipykernel install --user --name spikesort_rtx5090 --display-name \"spikesort_rtx5090\"\n",
    "    ```\n",
    "\n",
    "3. Run notebook or pipeline:\n",
    "    ```bash\n",
    "    # ks4 - npx spontaneous\n",
    "    nohup python -m src.pipes.sorting.test_params.driftcorr.npx_spont.10m.ks4 \\\n",
    "        --recording-path dataset/00_raw/recording_npx_spont \\\n",
    "            --preprocess-path dataset/01_intermediate/preprocessing/recording_npx_spont \\\n",
    "                --sorting-path-corrected ./temp/npx_spont/SortingKS3_10m_RTX5090_DriftCorr \\\n",
    "                    --sorting-output-path-corrected ./temp/npx_spont/KS3_output_10m_RTX5090_DriftCorr/ \\\n",
    "                        --study-path-corrected ./temp/npx_spont/study_ks3_10m_RTX5090_DriftCorr/ \\\n",
    "                            --sorting-path-not-corrected ./temp/npx_spont/SortingKS3_10m_RTX5090_NoDriftCorr \\\n",
    "                                --sorting-output-path-not-corrected ./temp/npx_spont/KS3_output_10m_RTX5090_NoDriftCorr/ \\\n",
    "                                    --study-path-not-corrected ./temp/npx_spont/study_ks3_10m_RTX5090_NoDriftCorr/\n",
    "    ```"
   ]
  },
  {
   "cell_type": "code",
   "execution_count": 1,
   "metadata": {},
   "outputs": [
    {
     "name": "stdout",
     "output_type": "stream",
     "text": [
      "spikeinterface 0.100.5\n",
      "CPU times: user 3.52 s, sys: 220 ms, total: 3.74 s\n",
      "Wall time: 1.5 s\n"
     ]
    }
   ],
   "source": [
    "%%time \n",
    "%load_ext autoreload\n",
    "%autoreload 2\n",
    "\n",
    "# import python packages\n",
    "import os\n",
    "import torch\n",
    "import spikeinterface.extractors as se\n",
    "import spikeinterface.sorters as ss\n",
    "import spikeinterface as si\n",
    "print(\"spikeinterface\", si.__version__)\n",
    "torch.cuda.empty_cache()\n",
    "\n",
    "# project path\n",
    "PROJ_PATH = \"/home/steeve/steeve/epfl/code/spikebias/\"\n",
    "os.chdir(PROJ_PATH)\n",
    "\n",
    "# import spikebias package\n",
    "from src.nodes.sorting import sort_and_postprocess_10m\n",
    "\n",
    "# recording parameters\n",
    "REC_SECS = 600 \n",
    "RECORDING_PATH = \"./dataset/00_raw/recording_npx_spont/\"\n",
    "\n",
    "# setup sorting parameters\n",
    "SORTER = \"kilosort4\"\n",
    "\n",
    "# these are the default parameters\n",
    "# for spikeinterface 0.100.5\n",
    "# note that there are no minFR and minFR_channels in ks4\n",
    "# - we set batch_size to 10,000 instead of 60,0000 due to memory constrains\n",
    "# - we set dminx to 25.6 um instead of None\n",
    "SORTER_PARAMS = {\n",
    "    \"batch_size\": 10000,\n",
    "    \"nblocks\": 1,\n",
    "    \"Th_universal\": 9,\n",
    "    \"Th_learned\": 8,\n",
    "    \"do_CAR\": True,\n",
    "    \"invert_sign\": False,\n",
    "    \"nt\": 61,\n",
    "    \"artifact_threshold\": None,\n",
    "    \"nskip\": 25,\n",
    "    \"whitening_range\": 32,\n",
    "    \"binning_depth\": 5,\n",
    "    \"sig_interp\": 20,\n",
    "    \"nt0min\": None,\n",
    "    \"dmin\": None,\n",
    "    \"dminx\": 25.6,\n",
    "    \"min_template_size\": 10,\n",
    "    \"template_sizes\": 5,\n",
    "    \"nearest_chans\": 10,\n",
    "    \"nearest_templates\": 100,\n",
    "    \"templates_from_data\": True,\n",
    "    \"n_templates\": 6,\n",
    "    \"n_pcs\": 6,\n",
    "    \"Th_single_ch\": 6,\n",
    "    \"acg_threshold\": 0.2,\n",
    "    \"ccg_threshold\": 0.25,\n",
    "    \"cluster_downsampling\": 20,\n",
    "    \"cluster_pcs\": 64,\n",
    "    \"duplicate_spike_bins\": 15,\n",
    "    \"do_correction\": True,\n",
    "    \"keep_good_only\": False,\n",
    "    \"save_extra_kwargs\": False,\n",
    "    \"skip_kilosort_preprocessing\": False,\n",
    "    \"scaleproc\": None,\n",
    "}"
   ]
  },
  {
   "cell_type": "markdown",
   "metadata": {},
   "source": [
    "## npx spont w/ drift corr."
   ]
  },
  {
   "cell_type": "code",
   "execution_count": 2,
   "metadata": {},
   "outputs": [
    {
     "name": "stdout",
     "output_type": "stream",
     "text": [
      "2025-07-12 18:50:20,595 - root - sorting.py - sort_and_postprocess_10m - INFO - Started sorting 10 minutes recording.\n",
      "2025-07-12 18:50:20,597 - root - sorting.py - sort - INFO - Removing bad channels...\n",
      "2025-07-12 18:50:20,600 - root - sorting.py - sort - INFO - Done removing bad channels in: 0.0\n",
      "2025-07-12 18:50:20,600 - root - sorting.py - sort - INFO - Selected first 10.0 minutes in: 0.0\n",
      "2025-07-12 18:50:20,600 - root - sorting.py - sort - INFO - Done converting recording as int16 in: 0.0\n",
      "2025-07-12 18:50:20,601 - root - sorting.py - sort - INFO - Saving int16 binary recording...\n"
     ]
    },
    {
     "name": "stderr",
     "output_type": "stream",
     "text": [
      "/home/steeve/steeve/epfl/code/spikebias/envs/spikesort_rtx5090/lib/python3.9/site-packages/spikeinterface/core/base.py:1079: UserWarning: Versions are not the same. This might lead to compatibility errors. Using spikeinterface==0.101.2 is recommended\n",
      "  warnings.warn(\n"
     ]
    },
    {
     "name": "stdout",
     "output_type": "stream",
     "text": [
      "write_binary_recording with n_jobs = 32 and chunk_size = 400000\n"
     ]
    },
    {
     "data": {
      "application/vnd.jupyter.widget-view+json": {
       "model_id": "9289e8028039422d809e98572cdffa47",
       "version_major": 2,
       "version_minor": 0
      },
      "text/plain": [
       "write_binary_recording:   0%|          | 0/60 [00:00<?, ?it/s]"
      ]
     },
     "metadata": {},
     "output_type": "display_data"
    },
    {
     "name": "stdout",
     "output_type": "stream",
     "text": [
      "2025-07-12 18:50:34,735 - root - sorting.py - sort - INFO - Done copying int16 binary recording in: 14.1\n",
      "2025-07-12 18:50:34,737 - root - sorting.py - sort - INFO - Start sorting...\n",
      "2025-07-12 18:50:35,033 - faiss.loader - loader.py - <module> - INFO - Loading faiss with AVX2 support.\n",
      "2025-07-12 18:50:35,042 - faiss.loader - loader.py - <module> - INFO - Successfully loaded faiss with AVX2 support.\n",
      "2025-07-12 18:50:35,044 - faiss - __init__.py - <module> - INFO - Failed to load GPU Faiss: name 'GpuIndexIVFFlat' is not defined. Will not load constructor refs for GPU indexes. This is only an error if you're trying to use GPU Faiss.\n"
     ]
    },
    {
     "name": "stderr",
     "output_type": "stream",
     "text": [
      "/home/steeve/steeve/epfl/code/spikebias/envs/spikesort_rtx5090/lib/python3.9/site-packages/spikeinterface/core/baserecordingsnippets.py:244: UserWarning: There is no Probe attached to this recording. Creating a dummy one with contact positions\n",
      "  warn(\"There is no Probe attached to this recording. Creating a dummy one with contact positions\")\n",
      "/home/steeve/steeve/epfl/code/spikebias/envs/spikesort_rtx5090/lib/python3.9/site-packages/torch/cuda/__init__.py:230: UserWarning: \n",
      "NVIDIA GeForce RTX 5090 with CUDA capability sm_120 is not compatible with the current PyTorch installation.\n",
      "The current PyTorch install supports CUDA capabilities sm_50 sm_60 sm_61 sm_70 sm_75 sm_80 sm_86 sm_89 sm_90 compute_90.\n",
      "If you want to use the NVIDIA GeForce RTX 5090 GPU with PyTorch, please check the instructions at https://pytorch.org/get-started/locally/\n",
      "\n",
      "  warnings.warn(\n",
      "/home/steeve/steeve/epfl/code/spikebias/envs/spikesort_rtx5090/lib/python3.9/site-packages/kilosort/io.py:497: UserWarning: The given NumPy array is not writable, and PyTorch does not support non-writable tensors. This means writing to this tensor will result in undefined behavior. You may want to copy the array to protect its data or make it writable before converting it to a tensor. This type of warning will be suppressed for the rest of this program. (Triggered internally at /home/conda/feedstock_root/build_artifacts/libtorch_1724898583682/work/torch/csrc/utils/tensor_numpy.cpp:206.)\n",
      "  X[:, self.nt : self.nt+nsamp] = torch.from_numpy(data).to(self.device).float()\n"
     ]
    },
    {
     "name": "stdout",
     "output_type": "stream",
     "text": [
      "========================================\n",
      "Loading recording with SpikeInterface...\n",
      "number of samples: 24000000\n",
      "number of channels: 202\n",
      "numbef of segments: 1\n",
      "sampling rate: 40000.0\n",
      "dtype: int16\n",
      "========================================\n",
      "Preprocessing filters computed in  0.57s; total  0.57s\n",
      "\n",
      "computing drift\n",
      "Re-computing universal templates from data.\n"
     ]
    },
    {
     "name": "stderr",
     "output_type": "stream",
     "text": [
      "100%|██████████| 2400/2400 [35:24<00:00,  1.13it/s]\n"
     ]
    },
    {
     "name": "stdout",
     "output_type": "stream",
     "text": [
      "drift computed in  2245.97s; total  2246.54s\n",
      "\n",
      "Extracting spikes using templates\n",
      "Re-computing universal templates from data.\n"
     ]
    },
    {
     "name": "stderr",
     "output_type": "stream",
     "text": [
      "100%|██████████| 2400/2400 [35:24<00:00,  1.13it/s]\n"
     ]
    },
    {
     "name": "stdout",
     "output_type": "stream",
     "text": [
      "393204 spikes extracted in  2246.36s; total  4492.91s\n",
      "\n",
      "First clustering\n"
     ]
    },
    {
     "name": "stderr",
     "output_type": "stream",
     "text": [
      "100%|██████████| 93/93 [00:02<00:00, 35.47it/s]  \n"
     ]
    },
    {
     "name": "stdout",
     "output_type": "stream",
     "text": [
      "95 clusters found, in  2.65s; total  4495.56s\n",
      "\n",
      "Extracting spikes using cluster waveforms\n"
     ]
    },
    {
     "name": "stderr",
     "output_type": "stream",
     "text": [
      "100%|██████████| 2400/2400 [00:12<00:00, 192.21it/s]\n"
     ]
    },
    {
     "name": "stdout",
     "output_type": "stream",
     "text": [
      "109968 spikes extracted in  12.51s; total  4508.07s\n",
      "\n",
      "Final clustering\n"
     ]
    },
    {
     "name": "stderr",
     "output_type": "stream",
     "text": [
      "100%|██████████| 93/93 [00:03<00:00, 29.55it/s]  "
     ]
    },
    {
     "name": "stdout",
     "output_type": "stream",
     "text": [
      "112 clusters found, in  3.15s; total  4511.22s\n",
      "\n",
      "Merging clusters\n",
      "100 units found, in  0.05s; total  4511.27s\n",
      "\n",
      "Saving to phy and computing refractory periods\n",
      "27 units found with good refractory periods\n",
      "\n",
      "Total runtime: 4511.32s = 01:75:11 h:m:s\n",
      "kilosort4 run time 4511.39s\n",
      "2025-07-12 20:05:47,028 - root - sorting.py - sort - INFO - Removing empty units...\n",
      "2025-07-12 20:05:47,033 - root - sorting.py - sort - INFO - Done removing empty units.\n",
      "2025-07-12 20:05:47,033 - root - sorting.py - sort - INFO - Done sorting: took 4512.3\n",
      "2025-07-12 20:05:47,033 - root - sorting.py - sort - INFO - Done running kilosort4 in: 4512.3\n",
      "2025-07-12 20:05:47,034 - root - sorting.py - sort - INFO - Saved sorting metadata.\n",
      "2025-07-12 20:05:47,041 - root - sorting.py - sort - INFO - Done saving kilosort4 in: 0.0\n",
      "2025-07-12 20:05:47,041 - root - sorting.py - sort_and_postprocess_10m - INFO - Done sorting with kilosort4 in: 4526.4\n",
      "2025-07-12 20:05:47,041 - root - sorting.py - sort_and_postprocess_10m - INFO - Skipped postprocessing for kilosort4 in 4526.4\n"
     ]
    },
    {
     "name": "stderr",
     "output_type": "stream",
     "text": [
      "\n",
      "/home/steeve/steeve/epfl/code/spikebias/envs/spikesort_rtx5090/lib/python3.9/site-packages/spikeinterface/core/basesorting.py:239: UserWarning: The registered recording will not be persistent on disk, but only available in memory\n",
      "  warnings.warn(\"The registered recording will not be persistent on disk, but only available in memory\")\n"
     ]
    }
   ],
   "source": [
    "# setup configuration\n",
    "\n",
    "# WITH CORR.\n",
    "CFG_CORR = {\n",
    "    'probe_wiring': {\n",
    "        'full': {\n",
    "            'output': 'dataset/00_raw/recording_npx_spont'\n",
    "        }\n",
    "    },\n",
    "    'preprocessing': {\n",
    "        'full': {\n",
    "            'output': {\n",
    "                'trace_file_path': 'dataset/01_intermediate/preprocessing/recording_npx_spont'\n",
    "            }\n",
    "        }\n",
    "    },\n",
    "    'sorting': {\n",
    "        'sorters': {\n",
    "            f\"{SORTER}\": {\n",
    "                '10m': {\n",
    "                    'output': './temp/npx_spont/SortingKS4_10m_RTX5090_DriftCorr', #'path/to/sorting/output',\n",
    "                    'sort_output':'./temp/npx_spont/KS4_output/KS4_output_10m_RTX5090_DriftCorr' #'path/to/sorting/sort_output'\n",
    "                }\n",
    "            }\n",
    "        }\n",
    "    },\n",
    "    'postprocessing': {\n",
    "        'waveform': {\n",
    "            'sorted': {\n",
    "                'study': {\n",
    "                    f\"{SORTER}\": {  # sorter name\n",
    "                        '10m': './temp/npx_spont/study_ks4_10m_RTX5090_DriftCorr' #'path/to/postprocessing/study'\n",
    "                    }\n",
    "                }\n",
    "            }\n",
    "        }\n",
    "    }\n",
    "}\n",
    "\n",
    "# WITHOUT CORR.\n",
    "\n",
    "CFG_NO_CORR = {\n",
    "    'probe_wiring': {\n",
    "        'full': {\n",
    "            'output': 'dataset/00_raw/recording_npx_spont'\n",
    "        }\n",
    "    },\n",
    "    'preprocessing': {\n",
    "        'full': {\n",
    "            'output': {\n",
    "                'trace_file_path': 'dataset/01_intermediate/preprocessing/recording_npx_spont'\n",
    "            }\n",
    "        }\n",
    "    },\n",
    "    'sorting': {\n",
    "        'sorters': {\n",
    "            f\"{SORTER}\": {\n",
    "                '10m': {\n",
    "                    'output': './temp/npx_spont/SortingKS4_10m_RTX5090_NoDriftCorr', #'path/to/sorting/output',\n",
    "                    'sort_output':'./temp/npx_spont/KS4_output/KS4_output_10m_RTX5090_NoDriftCorr' #'path/to/sorting/sort_output'\n",
    "                }\n",
    "            }\n",
    "        }\n",
    "    },\n",
    "    'postprocessing': {\n",
    "        'waveform': {\n",
    "            'sorted': {\n",
    "                'study': {\n",
    "                    f\"{SORTER}\": {  # sorter name\n",
    "                        '10m': './temp/npx_spont/study_ks4_10m_RTX5090_NoDriftCorr' #'path/to/postprocessing/study'\n",
    "                    }\n",
    "                }\n",
    "            }\n",
    "        }\n",
    "    }\n",
    "}\n",
    "\n",
    "# + DRIFT CORRECTION\n",
    "# spike sort\n",
    "sort_and_postprocess_10m(CFG_CORR, SORTER, SORTER_PARAMS, duration_sec=REC_SECS, \n",
    "                         is_sort=True, is_postpro=False, extract_wvf=False, copy_binary_recording=True,\n",
    "                         remove_bad_channels=True)\n",
    "# # post-process\n",
    "# sort_and_postprocess_10m(CFG_CORR, SORTER, SORTER_PARAMS, duration_sec=REC_SECS,\n",
    "#                          is_sort=False, is_postpro=True, extract_wvf=True, copy_binary_recording=True,\n",
    "#                          remove_bad_channels=False)\n",
    "\n",
    "# - DRIFT CORRECTION\n",
    "\n",
    "# SORTER_PARAMS['do_correction'] = False\n",
    "\n",
    "# # spike sort\n",
    "# sort_and_postprocess_10m(CFG_NO_CORR, SORTER, SORTER_PARAMS, duration_sec=REC_SECS,\n",
    "#                          is_sort=True, is_postpro=False, extract_wvf=False, copy_binary_recording=True,\n",
    "#                          remove_bad_channels=True)\n",
    "# # post-process\n",
    "# sort_and_postprocess_10m(CFG_NO_CORR, SORTER, SORTER_PARAMS, duration_sec=REC_SECS,\n",
    "#                          is_sort=False, is_postpro=True, extract_wvf=True, copy_binary_recording=True,\n",
    "#                          remove_bad_channels=False)"
   ]
  },
  {
   "cell_type": "code",
   "execution_count": 7,
   "metadata": {},
   "outputs": [
    {
     "name": "stdout",
     "output_type": "stream",
     "text": [
      "total units:\n",
      "520\n",
      "70\n",
      "62\n",
      "\n",
      "single units:\n",
      "184\n",
      "17\n",
      "20\n"
     ]
    }
   ],
   "source": [
    "# Compare sorting results\n",
    "SortingRef = si.load_extractor(\"./dataset/01_intermediate/sorting/npx_spont/SortingKS4_10m\")\n",
    "SortingCorr = si.load_extractor(\"./temp/npx_spont/5min/SortingKS4_10m_RTX5090_DriftCorr\")\n",
    "SortingNoCorr = si.load_extractor(\"./temp/npx_spont/5min/SortingKS4_10m_RTX5090_NoDriftCorr\")\n",
    "\n",
    "# total units\n",
    "print(\"total units:\")\n",
    "print(len(SortingRef.unit_ids))\n",
    "print(len(SortingCorr.unit_ids))\n",
    "print(len(SortingNoCorr.unit_ids))\n",
    "\n",
    "# total units\n",
    "print(\"\\nsingle units:\")\n",
    "print(sum(SortingRef.get_property('KSLabel')=='good'))\n",
    "print(sum(SortingCorr.get_property('KSLabel')=='good'))\n",
    "print(sum(SortingNoCorr.get_property('KSLabel')=='good'))"
   ]
  },
  {
   "cell_type": "code",
   "execution_count": 8,
   "metadata": {},
   "outputs": [],
   "source": [
    "torch.cuda.empty_cache()"
   ]
  },
  {
   "cell_type": "code",
   "execution_count": null,
   "metadata": {},
   "outputs": [],
   "source": []
  }
 ],
 "metadata": {
  "kernelspec": {
   "display_name": "Python 3",
   "language": "python",
   "name": "python3"
  },
  "language_info": {
   "codemirror_mode": {
    "name": "ipython",
    "version": 3
   },
   "file_extension": ".py",
   "mimetype": "text/x-python",
   "name": "python",
   "nbconvert_exporter": "python",
   "pygments_lexer": "ipython3",
   "version": "3.9.7"
  }
 },
 "nbformat": 4,
 "nbformat_minor": 2
}
