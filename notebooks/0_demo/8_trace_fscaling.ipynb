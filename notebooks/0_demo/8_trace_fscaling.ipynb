{
 "cells": [
  {
   "attachments": {},
   "cell_type": "markdown",
   "metadata": {},
   "source": [
    "# Frequency scaling\n",
    "\n",
    "author: laquitainesteeve@gmail.com\n",
    "\n",
    "Purpose: describe trace frequency scaling\n",
    " \n",
    "Execution time: 3 min"
   ]
  },
  {
   "attachments": {},
   "cell_type": "markdown",
   "metadata": {},
   "source": [
    "## Setup\n",
    "\n",
    "Create, activate and select virtual environment kernel `demo` from (envs/demo.yml):\n",
    "\n",
    "```bash\n",
    "python -m ipykernel install --user --name demo --display-name \"demo\" # create kernel\n",
    "```"
   ]
  },
  {
   "cell_type": "code",
   "execution_count": null,
   "metadata": {},
   "outputs": [
    {
     "name": "stdout",
     "output_type": "stream",
     "text": [
      "The autoreload extension is already loaded. To reload it, use:\n",
      "  %reload_ext autoreload\n",
      "spikeinterface version: 0.101.2\n",
      "2025-04-06 14:06:38,228 - root - utils.py - get_config - INFO - Reading experiment config.\n",
      "2025-04-06 14:06:38,307 - root - utils.py - get_config - INFO - Reading experiment config. - done\n",
      "2025-04-06 14:06:38,309 - root - utils.py - get_config - INFO - Reading experiment config.\n",
      "2025-04-06 14:06:38,348 - root - utils.py - get_config - INFO - Reading experiment config. - done\n",
      "CPU times: user 111 ms, sys: 18.7 ms, total: 130 ms\n",
      "Wall time: 135 ms\n"
     ]
    }
   ],
   "source": [
    "%%time\n",
    "%load_ext autoreload\n",
    "%autoreload 2\n",
    "\n",
    "import warnings\n",
    "warnings.simplefilter(action='ignore', category=FutureWarning)\n",
    "\n",
    "# import packages\n",
    "import os\n",
    "import numpy as np\n",
    "from dandi.dandiapi import DandiAPIClient\n",
    "import spikeinterface.extractors as se\n",
    "import spikeinterface.preprocessing as spre\n",
    "import spikeinterface as si\n",
    "from matplotlib import pyplot as plt;\n",
    "import multiprocessing\n",
    "import torch\n",
    "import pandas as pd\n",
    "import seaborn as sns\n",
    "import matplotlib\n",
    "import sys\n",
    "from scipy.stats import kruskal\n",
    "import scikit_posthocs as sp\n",
    "\n",
    "print(\"spikeinterface version:\", si.__version__)\n",
    "\n",
    "# dandiset parameters\n",
    "dandiset_id = '001250'\n",
    "filepath_evoked = 'sub-demo-npx-bio-evoked/sub-demo-npx-bio-evoked_ecephys.nwb'\n",
    "filepath_spont = 'sub-demo-npx-bio-spont/sub-demo-npx-bio-spont_ecephys.nwb'\n",
    "\n",
    "# project path\n",
    "proj_path = \"/Users/steeve_laquitaine/Desktop/EPFL/2022_2024_bbp/spikebias/\"\n",
    "#proj_path = \"/home/jovyan/steevelaquitaine/spikebias/\"\n",
    "os.chdir(proj_path)\n",
    "\n",
    "# enable spike bias import\n",
    "sys.path.insert(0, proj_path)\n",
    "\n",
    "from src.nodes.utils import get_config, demean\n",
    "from src.nodes.validation import snr\n",
    "from src.nodes.validation import amplitude, power_demo\n",
    "\n",
    "# evoked demo\n",
    "cfg_e, param_cfg_e = get_config(\"silico_neuropixels\", \"npx_evoked\").values() # config\n",
    "FREQ_MIN_E = param_cfg_e[\"run\"][\"preprocessing\"][\"min_filter_freq\"] # preprocessing parameters\n",
    "FREQ_MAX_E = param_cfg_e[\"run\"][\"preprocessing\"][\"max_filter_freq\"]\n",
    "\n",
    "# spontaneous demo\n",
    "cfg_s, param_cfg_s = get_config(\"silico_neuropixels\", \"npx_spont\").values() # config\n",
    "FREQ_MIN_S = param_cfg_s[\"run\"][\"preprocessing\"][\"min_filter_freq\"] # preprocessing parameters\n",
    "FREQ_MAX_S = param_cfg_s[\"run\"][\"preprocessing\"][\"max_filter_freq\"]\n",
    "\n",
    "# layer parameter\n",
    "lyrs = [\"L5\"]\n",
    "prm = dict()\n",
    "prm[\"SFREQ_NS\"] = 40000  # sampling frequency\n",
    "prm[\"SFREQ_NE\"] = 20000\n",
    "\n",
    "# plot parameters\n",
    "FIG_SIZE = (1.5, 1.5)\n",
    "cl = dict()\n",
    "cl[\"COLOR_NS\"] = [0.9, 0.14, 0.15]\n",
    "cl[\"COLOR_NE\"] = [1, 0.49, 0] # orange\n",
    "cl[\"COLOR_MEDIAN\"] = (1, 0.76, 0)\n",
    "\n",
    "plt.rcParams[\"font.family\"] = \"Arial\"\n",
    "plt.rcParams[\"font.size\"] = 14  # 5-7 with Nature neuroscience as reference\n",
    "plt.rcParams[\"lines.linewidth\"] = 0.5 # typically 0.5 - 1 pt\n",
    "plt.rcParams[\"axes.linewidth\"] = 0.5 # typically 0.5 - 1 pt\n",
    "plt.rcParams[\"axes.spines.top\"] = False\n",
    "plt.rcParams[\"xtick.major.width\"] = 0.5 #0.8 #* 1.3\n",
    "plt.rcParams[\"xtick.minor.width\"] = 0.5 #0.8 #* 1.3\n",
    "plt.rcParams[\"ytick.major.width\"] = 0.5 #0.8 #* 1.3\n",
    "plt.rcParams[\"ytick.minor.width\"] = 0.5 #0.8 #* 1.3\n",
    "plt.rcParams[\"xtick.major.size\"] = 3.5 * 1.1\n",
    "plt.rcParams[\"xtick.minor.size\"] = 2 * 1.1\n",
    "plt.rcParams[\"ytick.major.size\"] = 3.5 * 1.1\n",
    "plt.rcParams[\"ytick.minor.size\"] = 2 * 1.1\n",
    "N_MAJOR_TICKS = 4\n",
    "N_MINOR_TICKS = 12\n",
    "savefig_cfg = {\"transparent\":True, \"dpi\":300}\n",
    "legend_cfg = {\"frameon\": False, \"handletextpad\": 0.1}\n",
    "tight_layout_cfg = {\"pad\": 0.5}\n",
    "LG_FRAMEON = False              # no legend frame\n",
    "\n",
    "FIG_SIZE = (1, 1)\n",
    "pm = {\n",
    "    \"linestyle\": \"None\",\n",
    "    \"marker\": \"o\",\n",
    "    \"markersize\": 1.5,\n",
    "    \"rasterized\": True,\n",
    "    \"markeredgecolor\": \"w\",\n",
    "    \"markeredgewidth\": 0.06,\n",
    "}\n",
    "pm_fit1 = {\n",
    "    \"linestyle\": \"-\",\n",
    "    \"linewidth\": 0.5,\n",
    "    \"color\": \"k\",\n",
    "}\n",
    "pm_fit2 = {\n",
    "    \"linestyle\": \"-\",\n",
    "    \"linewidth\": 0.5,\n",
    "    \"color\": \"k\",\n",
    "}"
   ]
  },
  {
   "cell_type": "markdown",
   "metadata": {},
   "source": [
    "### Specs"
   ]
  },
  {
   "cell_type": "code",
   "execution_count": 3,
   "metadata": {},
   "outputs": [
    {
     "name": "stdout",
     "output_type": "stream",
     "text": [
      "available cpus: 8\n",
      "available gpus: False\n"
     ]
    },
    {
     "data": {
      "text/plain": [
       "['/bin/bash: free: command not found']"
      ]
     },
     "execution_count": 3,
     "metadata": {},
     "output_type": "execute_result"
    }
   ],
   "source": [
    "# cpus, gpu and current memory usage\n",
    "print(\"available cpus:\", multiprocessing.cpu_count())\n",
    "print(\"available gpus:\", torch.cuda.is_available())\n",
    "%system free -m"
   ]
  },
  {
   "cell_type": "markdown",
   "metadata": {},
   "source": [
    "### Custom functions"
   ]
  },
  {
   "cell_type": "code",
   "execution_count": 67,
   "metadata": {},
   "outputs": [],
   "source": [
    "def print_slope(alpha):\n",
    "    print(f\"\\u03B1={np.round(np.mean(alpha),1)}\\u00B1{np.round(np.std(alpha),1)}\")\n",
    "\n",
    "\n",
    "def get_slope_df(data: list, exp, layer):\n",
    "    df = pd.DataFrame()\n",
    "    df[\"Alpha\"] = np.negative(data)\n",
    "    df[\"Experiment\"] = exp\n",
    "    df[\"Layer\"] = layer\n",
    "    return df"
   ]
  },
  {
   "cell_type": "markdown",
   "metadata": {},
   "source": [
    "### (1s)Load dataset\n",
    "\n",
    "* select first 10 min for speed"
   ]
  },
  {
   "cell_type": "code",
   "execution_count": null,
   "metadata": {},
   "outputs": [
    {
     "name": "stdout",
     "output_type": "stream",
     "text": [
      "CommonReferenceRecording: 120 channels - 20.0kHz - 1 segments - 1,200,000 samples \n",
      "                          60.00s (1.00 minutes) - int16 dtype - 274.66 MiB\n",
      "CPU times: user 28.1 s, sys: 7.99 s, total: 36.1 s\n",
      "Wall time: 1min 44s\n"
     ]
    }
   ],
   "source": [
    "%%time\n",
    "\n",
    "# EVOKED DEMO\n",
    "\n",
    "with DandiAPIClient() as client: # download the extractors from Dandi archive\n",
    "    asset = client.get_dandiset(dandiset_id, 'draft').get_asset_by_path(filepath_evoked)\n",
    "    s3_path = asset.get_content_url(follow_redirects=1, strip_query=True)\n",
    "RecordingE = se.NwbRecordingExtractor(file_path=s3_path, stream_mode=\"remfile\") # get extractor\n",
    "RecordingE = spre.astype(RecordingE, \"int16\") # compress to int16 (like kilosorts)\n",
    "RecordingE = spre.bandpass_filter(RecordingE, freq_min=FREQ_MIN_E, freq_max=FREQ_MAX_E)  # band-pass filter\n",
    "RecordingE = spre.common_reference(RecordingE, reference=\"global\", operator=\"median\") # common reference\n",
    "traces_ne = RecordingE.get_traces() # get trace array\n",
    "\n",
    "# # SPONTANEOUS DEMO\n",
    "\n",
    "# with DandiAPIClient() as client:\n",
    "#     asset = client.get_dandiset(dandiset_id, 'draft').get_asset_by_path(filepath_spont)\n",
    "#     s3_path = asset.get_content_url(follow_redirects=1, strip_query=True)\n",
    "# RecordingS = se.NwbRecordingExtractor(file_path=s3_path, stream_mode=\"remfile\")\n",
    "# RecordingS = spre.astype(RecordingS, \"int16\")\n",
    "# RecordingS = spre.bandpass_filter(RecordingS, freq_min=FREQ_MIN_S, freq_max=FREQ_MAX_S)\n",
    "# RecordingS = spre.common_reference(RecordingS, reference=\"global\", operator=\"median\")\n",
    "# traces_ns = RecordingS.get_traces()\n",
    "\n",
    "# report\n",
    "print(RecordingE)\n",
    "print(RecordingS)"
   ]
  },
  {
   "cell_type": "markdown",
   "metadata": {},
   "source": [
    "## Compute"
   ]
  },
  {
   "cell_type": "code",
   "execution_count": 18,
   "metadata": {},
   "outputs": [
    {
     "name": "stdout",
     "output_type": "stream",
     "text": [
      "CPU times: user 3.4 s, sys: 4.96 s, total: 8.36 s\n",
      "Wall time: 35.3 s\n"
     ]
    }
   ],
   "source": [
    "%%time \n",
    "\n",
    "# Spontaneous\n",
    "demeaned = demean(traces_ns) # remove the DC component by subtracting the means\n",
    "psd_ns = npx_demo.get_welch_psd_marques_silico_parallelized(demeaned) # calculate psd\n",
    "\n",
    "# Evoked\n",
    "demeaned = demean(traces_ne)\n",
    "psd_ne = npx_demo.get_welch_psd_ne_parallelized(demeaned)\n",
    "\n",
    "# unit-test\n",
    "assert psd_ns[\"freq\"][1] == 1.0, \"frequency resolution should be 1Hz\"\n",
    "assert psd_ne[\"freq\"][1] == 1.0, \"frequency resolution should be 1Hz\""
   ]
  },
  {
   "cell_type": "markdown",
   "metadata": {},
   "source": [
    "# Plot"
   ]
  },
  {
   "cell_type": "code",
   "execution_count": null,
   "metadata": {},
   "outputs": [
    {
     "name": "stdout",
     "output_type": "stream",
     "text": [
      "\n",
      "LFP band\n",
      "α=-0.0±0.0\n",
      "α=-0.0±0.0\n",
      "\n",
      "Spiking band\n",
      "α=-0.1±0.3\n",
      "α=-0.6±0.3\n",
      "\n",
      " # sites\n",
      "n=120 sites\n",
      "n=120 sites\n",
      "\n",
      "Power SNR\n",
      "SNR: 40.69854946819896\n",
      "SNR: 30.524032685975776\n"
     ]
    },
    {
     "data": {
      "image/png": "[encoded data removed]",
      "text/plain": [
       "<Figure size 250x250 with 1 Axes>"
      ]
     },
     "metadata": {},
     "output_type": "display_data"
    }
   ],
   "source": [
    "FIG_SIZE = (2.5,2.5)\n",
    "\n",
    "# we rasterize, else dots increase file size by\n",
    "# 6MB per plot\n",
    "# takes 2 mins\n",
    "YLIM_AX1 = [0, 0.02]\n",
    "YLIM_AX2 = [0, 0.08]\n",
    "N_MAJOR_TICKS = 4\n",
    "ALPHA = 0.7\n",
    "\n",
    "fig, ax1 = plt.subplots(1, 1, figsize=FIG_SIZE)\n",
    "\n",
    "# fitting\n",
    "ax1, alphas_lfp_ns, alphas_spiking_ns = power_demo.plot_fits_all(\n",
    "    ax1, psd_ns, prm[\"SFREQ_NS\"], cl[\"COLOR_NS\"], pm, pm_fit1, pm_fit2\n",
    ")\n",
    "ax1, alphas_lfp_ne, alphas_spiking_ne = power_demo.plot_fits_all(\n",
    "    ax1, psd_ne, prm[\"SFREQ_NE\"], cl[\"COLOR_NE\"], pm, pm_fit1, pm_fit2\n",
    ")\n",
    "\n",
    "# axes legend\n",
    "ax1.set_xscale(\"log\")\n",
    "ax1.set_yscale(\"log\")\n",
    "ax1.spines[[\"top\", \"right\"]].set_visible(False)\n",
    "\n",
    "# minor ticks\n",
    "locmaj = matplotlib.ticker.LogLocator(base=10, numticks=N_MAJOR_TICKS)\n",
    "locmin = matplotlib.ticker.LogLocator(\n",
    "    base=10.0,\n",
    "    subs=(0.2, 0.4, 0.6, 0.8),\n",
    "    numticks=N_MINOR_TICKS,\n",
    ")\n",
    "ax1.tick_params(which=\"both\")\n",
    "ax1.xaxis.set_major_locator(locmaj)\n",
    "ax1.xaxis.set_minor_locator(locmin)\n",
    "ax1.xaxis.set_minor_formatter(matplotlib.ticker.NullFormatter())\n",
    "\n",
    "# disconnect axes (R style)\n",
    "ax1.spines[\"bottom\"].set_position((\"axes\", -0.05))\n",
    "ax1.yaxis.set_ticks_position(\"left\")\n",
    "ax1.spines[\"left\"].set_position((\"axes\", -0.05))\n",
    "ax1.set_xlabel(\"Frequency (Hz)\")    \n",
    "ax1.set_ylabel(\"Power\")    \n",
    "plt.title(\"PSD - spont (red), \\n evoked (orange),\\n power law fits (black)\")\n",
    "\n",
    "# report slopes\n",
    "# lfp band\n",
    "print(\"\\nLFP band\")\n",
    "print_slope(alphas_lfp_ns)\n",
    "print_slope(alphas_lfp_ne)\n",
    "\n",
    "# spiking band\n",
    "print(\"\\nSpiking band\")\n",
    "print_slope(alphas_spiking_ns)\n",
    "print_slope(alphas_spiking_ne)\n",
    "\n",
    "# report\n",
    "print(\"\\n # sites\")\n",
    "print(f\"\"\"n={psd_ns[\"power\"].shape[0]} sites\"\"\")\n",
    "print(f\"\"\"n={psd_ne[\"power\"].shape[0]} sites\"\"\")\n",
    "\n",
    "print(\"\\nPower SNR\")\n",
    "out_ns = power_demo.get_power_snr(psd_ns[\"power\"], psd_ns[\"freq\"], 300, 6000, 90)\n",
    "out_ne = power_demo.get_power_snr(psd_ne[\"power\"], psd_ne[\"freq\"], 300, 6000, 90)"
   ]
  },
  {
   "cell_type": "markdown",
   "metadata": {},
   "source": [
    "## Plot per layer"
   ]
  },
  {
   "cell_type": "code",
   "execution_count": null,
   "metadata": {},
   "outputs": [
    {
     "name": "stdout",
     "output_type": "stream",
     "text": [
      "\n",
      "LFP band\n",
      "α=-0.0±0.0\n",
      "α=-0.0±0.0\n",
      "\n",
      "Spiking band\n",
      "α=-0.4±0.1\n",
      "α=-0.9±0.2\n",
      "\n",
      "Power SNR\n",
      "SNR: 71.72934695610081\n",
      "SNR: 50.366680993971634\n",
      "\n",
      "LFP band\n",
      "ns: α=-0.0±0.0\n",
      "ne: α=-0.0±0.0\n",
      "\n",
      "Spiking band\n",
      "ns: α=0.1±0.1\n",
      "ne: α=-0.3±0.2\n"
     ]
    },
    {
     "data": {
      "image/png": "[encoded data removed]",
      "text/plain": [
       "<Figure size 300x500 with 2 Axes>"
      ]
     },
     "metadata": {},
     "output_type": "display_data"
    }
   ],
   "source": [
    "# parameters\n",
    "FIG_SIZE = (3,5)\n",
    "\n",
    "\n",
    "# compute\n",
    "# layer 5\n",
    "d5 = power_demo.get_psd_data_prepro_layer_5_demo(\n",
    "    \"L5\",\n",
    "    psd_ns,\n",
    "    psd_ne,\n",
    "    RecordingS.get_property('layers'),\n",
    "    RecordingE.get_property('layers'),\n",
    ")\n",
    "\n",
    "# layer 6\n",
    "d6 = power_demo.get_psd_data_prepro_demo(\n",
    "    \"L6\",\n",
    "    psd_ns,\n",
    "    psd_ne,\n",
    "    RecordingS.get_property('layers'),\n",
    "    RecordingE.get_property('layers'),\n",
    ")\n",
    "\n",
    "# setup plpt\n",
    "fig, axes = plt.subplots(2,1, figsize=FIG_SIZE)\n",
    "\n",
    "# plot layer 5 and 6\n",
    "axes[0], dd5 = power_demo.plot_power_law_fits_layer_5_demo(axes[0], d5, prm, cl, pm, pm_fit1, pm_fit2)\n",
    "axes[0].set_title('Layer 5')\n",
    "axes[0].set_ylabel('Power')\n",
    "axes[1], dd6 = power_demo.plot_power_law_fits_demo(axes[1], d6, prm, cl, pm, pm_fit1, pm_fit2)\n",
    "axes[1].set_title('Layer 6')\n",
    "axes[1].set_ylabel('Power')\n",
    "axes[1].set_xlabel('Frequency (Hz)')\n",
    "\n",
    "# aesthetics\n",
    "fig.tight_layout(**tight_layout_cfg)"
   ]
  },
  {
   "cell_type": "markdown",
   "metadata": {},
   "source": [
    "## Plot frequency scaling slope in spiking band"
   ]
  },
  {
   "cell_type": "code",
   "execution_count": 72,
   "metadata": {},
   "outputs": [
    {
     "data": {
      "image/png": "[encoded data removed]",
      "text/plain": [
       "<Figure size 200x200 with 1 Axes>"
      ]
     },
     "metadata": {},
     "output_type": "display_data"
    }
   ],
   "source": [
    "FIG_SIZE = (2, 2)\n",
    "\n",
    "# layer 5\n",
    "df11 = get_slope_df(dd5[\"alphas_spiking_ns\"], \"NS\", \"L5\")\n",
    "df12 = get_slope_df(dd5[\"alphas_spiking_ne\"], \"NE\", \"L5\")\n",
    "\n",
    "# layer 6\n",
    "df15 = get_slope_df(dd6[\"alphas_spiking_ns\"], \"NS\", \"L6\")\n",
    "df16 = get_slope_df(dd6[\"alphas_spiking_ne\"], \"NE\", \"L6\")\n",
    "\n",
    "# concatenate\n",
    "plot_df_npx = pd.concat([df11,df12,df15,df16])\n",
    "\n",
    "# setup plot\n",
    "fig, ax = plt.subplots(1, 1, figsize=FIG_SIZE)\n",
    "\n",
    "# plot spiking band scaling\n",
    "ax = sns.boxplot(\n",
    "    ax=ax,\n",
    "    data=plot_df_npx,\n",
    "    x=\"Layer\",\n",
    "    y=\"Alpha\",\n",
    "    hue=\"Experiment\",\n",
    "    notch=True,\n",
    "    hue_order=[\n",
    "        \"NS\",\n",
    "        \"NE\",\n",
    "        \"NB\"],\n",
    "    palette=[\n",
    "        cl[\"COLOR_NS\"],\n",
    "        cl[\"COLOR_NE\"],\n",
    "    ],\n",
    "    width=0.6,\n",
    "    linewidth=0.5,\n",
    "    flierprops={\n",
    "        \"marker\": \".\",\n",
    "        \"markersize\": 3,\n",
    "    },\n",
    ")\n",
    "# axes\n",
    "ax.spines[[\"top\", \"right\"]].set_visible(False)\n",
    "ax.legend(\"\", frameon=False)\n",
    "\n",
    "# disconnect axes (R style)\n",
    "ax.spines[\"bottom\"].set_position((\"axes\", -0.05))\n",
    "ax.yaxis.set_ticks_position(\"left\")\n",
    "ax.spines[\"left\"].set_position((\"axes\", -0.05))\n",
    "ax.set_ylabel(\"Slope \\u03B1 ($\\u03bcV^2 /Hz^2$)\")\n",
    "ax.set_ylim([0, 2.5])\n",
    "\n",
    "# customize the boxplot\n",
    "p = 0\n",
    "for box in ax.patches:\n",
    "    if box.__class__.__name__ == \"PathPatch\":\n",
    "        # a list item for each layer group\n",
    "        if p in [0, 1, 2, 3, 4]:\n",
    "            box.set_edgecolor(cl[\"COLOR_NS\"])\n",
    "            # Each box has 6 associated Line2D objects\n",
    "            # (to make the whiskers, fliers, etc.)\n",
    "            # Loop over them here, and use the same colour\n",
    "            # as above\n",
    "            # group 1 (NV)\n",
    "            for k in range(6 * p, 6 * (p + 1)):\n",
    "                ax.lines[k].set_color(cl[\"COLOR_NS\"])  # box\n",
    "                ax.lines[k].set_mfc(cl[\"COLOR_NS\"])  # whisker\n",
    "                ax.lines[k].set_mec(cl[\"COLOR_NS\"])  # fliers\n",
    "            p += 1\n",
    "        elif p in [5, 6, 7, 8, 9]:\n",
    "            # group 2 (NS)\n",
    "            box.set_edgecolor(cl[\"COLOR_NE\"])\n",
    "            for k in range(6 * p, 6 * (p + 1)):\n",
    "                ax.lines[k].set_color(cl[\"COLOR_NE\"])\n",
    "                ax.lines[k].set_mfc(cl[\"COLOR_NE\"])\n",
    "                ax.lines[k].set_mec(cl[\"COLOR_NE\"])\n",
    "            p += 1"
   ]
  },
  {
   "cell_type": "markdown",
   "metadata": {},
   "source": [
    "## Hypothesis testing"
   ]
  },
  {
   "cell_type": "code",
   "execution_count": null,
   "metadata": {},
   "outputs": [],
   "source": [
    "def get_slope(df, exp, layer):\n",
    "    return df[(df.Experiment == exp) & (df.Layer == layer)][\"Alpha\"].values\n",
    "\n",
    "\n",
    "def get_kk(df, exp):\n",
    "    \"\"\"kruskall wallis test\"\"\"\n",
    "    h, p = kruskal(\n",
    "        get_slope(df, exp, \"L5\"),\n",
    "        get_slope(df, exp, \"L6\"),\n",
    "    )\n",
    "\n",
    "    print(f\"H={h}, p={p}\")\n",
    "    print(f\"\"\"N_L5 = {len(get_slope(df, exp, \"L5\"))} sites\"\"\")\n",
    "    print(f\"\"\"N_L6 = {len(get_slope(df, exp, \"L6\"))} sites\"\"\")\n",
    "\n",
    "\n",
    "def get_posthoc_dunn_holm_sidak(df, exp):\n",
    "    \"\"\"posthoc test after kruskall wallis with Dunn and holm_sidak\n",
    "    multiple comparison correction of p-values\n",
    "\n",
    "    Args:\n",
    "        df (_type_): _description_\n",
    "        exp (_type_): _description_\n",
    "\n",
    "    Returns:\n",
    "        _type_: _description_\n",
    "    \"\"\"\n",
    "    data = [\n",
    "        get_slope(df, exp, \"L5\"),\n",
    "        get_slope(df, exp, \"L6\"),\n",
    "    ]\n",
    "    # holm sidak method has more power than Bonferroni which is more conservative\n",
    "    # Non-significance can indicate subtle differences, power issues, samll sample size,\n",
    "    # or the balancing be due to how the Holm-Sidak correction controls Type I errors\n",
    "    # while retaining power.\n",
    "    # we can still look at the p-values to identify trends.\n",
    "    df = sp.posthoc_dunn(data, p_adjust=\"holm-sidak\")\n",
    "    df.columns = [\"L5\", \"L6\"]\n",
    "    df.index = [\"L5\", \"L6\"]\n",
    "    return df\n",
    "\n",
    "\n",
    "def ci95(data):\n",
    "    return 1.96 * np.nanstd(data) / np.sqrt(np.sum(~np.isnan(data)))\n",
    "\n",
    "\n",
    "def get_medians_and_ci95(plot_data, exp, feature: str):\n",
    "    layers = [\"L5\", \"L6\"]\n",
    "    stats = \"\"\n",
    "    record = []\n",
    "    for layer in layers:\n",
    "        feature_data = plot_data[(plot_data.Experiment==exp) & (plot_data.Layer==layer)][feature]\n",
    "        stats += f\"{np.round(feature_data.median()*10000)/10000} $\\pm$ {np.round(ci95(feature_data),6)}, \"\n",
    "        record.append(np.round(feature_data.median()*10000)/10000)\n",
    "    print(stats)\n",
    "    return record"
   ]
  },
  {
   "cell_type": "markdown",
   "metadata": {},
   "source": [
    "### Slope changes across layers?\n",
    "\n",
    "Kruskal Wallis and posthoc"
   ]
  },
  {
   "cell_type": "code",
   "execution_count": 76,
   "metadata": {},
   "outputs": [
    {
     "name": "stdout",
     "output_type": "stream",
     "text": [
      "\n",
      "--------------------NS--------------------\n",
      "\n",
      "H=82.58823529411768, p=1.0105676728769289e-19\n",
      "N_L5 = 52 sites\n",
      "N_L6 = 68 sites\n",
      "0.3788 $\\pm$ 0.026983, -0.1374 $\\pm$ 0.034574, \n",
      "\n",
      "--------------------E--------------------\n",
      "\n",
      "H=82.97371078119738, p=8.315193738872084e-20\n",
      "N_L5 = 52 sites\n",
      "N_L6 = 68 sites\n",
      "0.8597 $\\pm$ 0.058935, 0.2994 $\\pm$ 0.040215, \n"
     ]
    }
   ],
   "source": [
    "print(\"\\n--------------------NS--------------------\\n\")\n",
    "get_kk(plot_df_npx, \"NS\")\n",
    "get_posthoc_dunn_holm_sidak(plot_df_npx, \"NS\")\n",
    "m_ns = get_medians_and_ci95(plot_df_npx, \"NS\", \"Alpha\")\n",
    "\n",
    "print(\"\\n--------------------E--------------------\\n\")\n",
    "get_kk(plot_df_npx, \"NE\")\n",
    "get_posthoc_dunn_holm_sidak(plot_df_npx, \"NE\")\n",
    "m_e = get_medians_and_ci95(plot_df_npx, \"NE\", \"Alpha\")"
   ]
  },
  {
   "cell_type": "markdown",
   "metadata": {},
   "source": [
    "## Are models the same?"
   ]
  },
  {
   "cell_type": "code",
   "execution_count": null,
   "metadata": {},
   "outputs": [],
   "source": [
    "from scipy.stats import kruskal\n",
    "import scikit_posthocs as sp\n",
    "\n",
    "\n",
    "def count_sites(df, exp, layer):\n",
    "    return len(df[(df[\"Experiment\"] == exp) & (df[\"Layer\"] == layer)])\n",
    "\n",
    "\n",
    "def get_power(df, exp, layer):\n",
    "    return df[(df[\"Experiment\"] == exp) & (df[\"Layer\"] == layer)][\"Alpha\"].values\n",
    "\n",
    "\n",
    "def get_kk_compare_exps(df, layer):\n",
    "    \"\"\"kruskall wallis test\n",
    "    \"\"\"\n",
    "    h, p = kruskal(\n",
    "        get_power(df, \"NS\", layer),\n",
    "        get_power(df, \"NE\", layer),\n",
    "    )\n",
    "    print(f\"H={h}, p={p}\")\n",
    "    print(f\"\"\"N_E = {count_sites(df, \"NE\", layer)} sites\"\"\")\n",
    "    print(f\"\"\"N_M = {count_sites(df, \"MS\", layer)} sites\"\"\")\n",
    "    \n",
    "    \n",
    "def get_posthoc_dunn_holm_sidak_compare_exps(plot_data, layer):\n",
    "    \"\"\"posthoc test after kruskall wallis with Dunn and holm_sidak\n",
    "    multiple comparison correction of p-values\n",
    "\n",
    "    Args:\n",
    "        plot_data (_type_): _description_\n",
    "        exp (_type_): _description_\n",
    "\n",
    "    Returns:\n",
    "        _type_: _description_\n",
    "    \"\"\"\n",
    "    data = [\n",
    "        get_power(plot_data, \"NS\", layer),\n",
    "        get_power(plot_data, \"NE\", layer),\n",
    "    ]\n",
    "    # holm sidak method has more power than Bonferroni which is more conservative\n",
    "    # Non-significance can indicate subtle differences, power issues, samll sample size,\n",
    "    # or the balancing be due to how the Holm-Sidak correction controls Type I errors\n",
    "    # while retaining power.\n",
    "    # we can still look at the p-values to identify trends.\n",
    "    df = sp.posthoc_dunn(data, p_adjust=\"holm-sidak\")\n",
    "    df.columns = [\"NS\", \"NE\"]\n",
    "    df.index = [\"NS\", \"NE\"]\n",
    "    return df\n",
    "\n",
    "\n",
    "def get_posthoc_dunn_holm_sidak_compare_exps_l5(plot_data, layer):\n",
    "    \"\"\"posthoc test after kruskall wallis with Dunn and holm_sidak\n",
    "    multiple comparison correction of p-values\n",
    "\n",
    "    Args:\n",
    "        plot_data (_type_): _description_\n",
    "        exp (_type_): _description_\n",
    "\n",
    "    Returns:\n",
    "        _type_: _description_\n",
    "    \"\"\"\n",
    "    data = [\n",
    "        get_power(plot_data, \"NS\", layer),\n",
    "        get_power(plot_data, \"NE\", layer),\n",
    "    ]\n",
    "    # holm sidak method has more power than Bonferroni which is more conservative\n",
    "    # Non-significance can indicate subtle differences, power issues, samll sample size,\n",
    "    # or the balancing be due to how the Holm-Sidak correction controls Type I errors\n",
    "    # while retaining power.\n",
    "    # we can still look at the p-values to identify trends.\n",
    "    df = sp.posthoc_dunn(data, p_adjust=\"holm-sidak\")\n",
    "    df.columns = [\"NS\", \"NE\"]\n",
    "    df.index = [\"NS\", \"NE\"]\n",
    "    return df"
   ]
  },
  {
   "cell_type": "code",
   "execution_count": 79,
   "metadata": {},
   "outputs": [
    {
     "name": "stdout",
     "output_type": "stream",
     "text": [
      "\n",
      "------LAYER 5:------\n",
      "\n",
      "H=76.23199492814877, p=2.5222189986252403e-18\n",
      "N_E = 52 sites\n",
      "N_M = 0 sites\n"
     ]
    },
    {
     "data": {
      "text/html": [
       "<div>\n",
       "<style scoped>\n",
       "    .dataframe tbody tr th:only-of-type {\n",
       "        vertical-align: middle;\n",
       "    }\n",
       "\n",
       "    .dataframe tbody tr th {\n",
       "        vertical-align: top;\n",
       "    }\n",
       "\n",
       "    .dataframe thead th {\n",
       "        text-align: right;\n",
       "    }\n",
       "</style>\n",
       "<table border=\"1\" class=\"dataframe\">\n",
       "  <thead>\n",
       "    <tr style=\"text-align: right;\">\n",
       "      <th></th>\n",
       "      <th>NS</th>\n",
       "      <th>NE</th>\n",
       "    </tr>\n",
       "  </thead>\n",
       "  <tbody>\n",
       "    <tr>\n",
       "      <th>NS</th>\n",
       "      <td>1.000000e+00</td>\n",
       "      <td>2.522219e-18</td>\n",
       "    </tr>\n",
       "    <tr>\n",
       "      <th>NE</th>\n",
       "      <td>2.522219e-18</td>\n",
       "      <td>1.000000e+00</td>\n",
       "    </tr>\n",
       "  </tbody>\n",
       "</table>\n",
       "</div>"
      ],
      "text/plain": [
       "              NS            NE\n",
       "NS  1.000000e+00  2.522219e-18\n",
       "NE  2.522219e-18  1.000000e+00"
      ]
     },
     "metadata": {},
     "output_type": "display_data"
    },
    {
     "name": "stdout",
     "output_type": "stream",
     "text": [
      "\n",
      "------LAYER 6:------\n",
      "\n",
      "H=92.93735635087012, p=5.397602625022811e-22\n",
      "N_E = 68 sites\n",
      "N_M = 0 sites\n"
     ]
    },
    {
     "data": {
      "text/html": [
       "<div>\n",
       "<style scoped>\n",
       "    .dataframe tbody tr th:only-of-type {\n",
       "        vertical-align: middle;\n",
       "    }\n",
       "\n",
       "    .dataframe tbody tr th {\n",
       "        vertical-align: top;\n",
       "    }\n",
       "\n",
       "    .dataframe thead th {\n",
       "        text-align: right;\n",
       "    }\n",
       "</style>\n",
       "<table border=\"1\" class=\"dataframe\">\n",
       "  <thead>\n",
       "    <tr style=\"text-align: right;\">\n",
       "      <th></th>\n",
       "      <th>NS</th>\n",
       "      <th>NE</th>\n",
       "    </tr>\n",
       "  </thead>\n",
       "  <tbody>\n",
       "    <tr>\n",
       "      <th>NS</th>\n",
       "      <td>1.000000e+00</td>\n",
       "      <td>5.397603e-22</td>\n",
       "    </tr>\n",
       "    <tr>\n",
       "      <th>NE</th>\n",
       "      <td>5.397603e-22</td>\n",
       "      <td>1.000000e+00</td>\n",
       "    </tr>\n",
       "  </tbody>\n",
       "</table>\n",
       "</div>"
      ],
      "text/plain": [
       "              NS            NE\n",
       "NS  1.000000e+00  5.397603e-22\n",
       "NE  5.397603e-22  1.000000e+00"
      ]
     },
     "metadata": {},
     "output_type": "display_data"
    }
   ],
   "source": [
    "print(\"\\n------LAYER 5:------\\n\")\n",
    "\n",
    "get_kk_compare_exps(plot_df_npx, \"L5\")\n",
    "display(get_posthoc_dunn_holm_sidak_compare_exps_l5(plot_df_npx, \"L5\"))\n",
    "\n",
    "print(\"\\n------LAYER 6:------\\n\")\n",
    "\n",
    "get_kk_compare_exps(plot_df_npx, \"L6\")\n",
    "display(get_posthoc_dunn_holm_sidak_compare_exps(plot_df_npx, \"L6\"))"
   ]
  }
 ],
 "metadata": {
  "kernelspec": {
   "display_name": "Python 3",
   "language": "python",
   "name": "python3"
  },
  "language_info": {
   "codemirror_mode": {
    "name": "ipython",
    "version": 3
   },
   "file_extension": ".py",
   "mimetype": "text/x-python",
   "name": "python",
   "nbconvert_exporter": "python",
   "pygments_lexer": "ipython3",
   "version": "3.10.8"
  },
  "orig_nbformat": 4
 },
 "nbformat": 4,
 "nbformat_minor": 2
}
