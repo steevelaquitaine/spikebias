{
 "cells": [
  {
   "cell_type": "markdown",
   "metadata": {},
   "source": [
    "# Demo multi-site traces\n",
    "\n",
    "author: laquitainesteeve@gmail.com\n",
    "\n",
    "Purpose: describe the multi-site spatio-temporal dynamics of action potentials.\n",
    "\n",
    "Execution time: 2 min"
   ]
  },
  {
   "cell_type": "markdown",
   "metadata": {},
   "source": [
    "## Setup\n",
    "\n",
    "Create and activate virtual environment kernel `demo` from (envs/demo.yml)"
   ]
  },
  {
   "cell_type": "code",
   "execution_count": 136,
   "metadata": {},
   "outputs": [
    {
     "name": "stdout",
     "output_type": "stream",
     "text": [
      "The autoreload extension is already loaded. To reload it, use:\n",
      "  %reload_ext autoreload\n",
      "spikeinterface version: 0.101.2\n",
      "2025-04-05 12:31:35,884 - root - utils.py - get_config - INFO - Reading experiment config.\n",
      "2025-04-05 12:31:35,960 - root - utils.py - get_config - INFO - Reading experiment config. - done\n"
     ]
    }
   ],
   "source": [
    "%load_ext autoreload\n",
    "%autoreload 2\n",
    "\n",
    "# import packages\n",
    "import os\n",
    "import numpy as np\n",
    "from dandi.dandiapi import DandiAPIClient\n",
    "import spikeinterface.extractors as se\n",
    "import spikeinterface.preprocessing as spre\n",
    "import spikeinterface as si\n",
    "from matplotlib import pyplot as plt;\n",
    "print(\"spikeinterface version:\", si.__version__)\n",
    "\n",
    "# dandiset parameters\n",
    "dandiset_id = '001250'\n",
    "filepath = 'sub-demo-dataset/sub-demo-dataset_ecephys.nwb'\n",
    "\n",
    "# project path\n",
    "proj_path = \"/Users/steeve_laquitaine/Desktop/EPFL/2022_2024_bbp/spikebias/\"\n",
    "# proj_path = \"/home/jovyan/steevelaquitaine/spikebias/\"\n",
    "os.chdir(proj_path)\n",
    "\n",
    "# import spikebias package\n",
    "from src.nodes.utils import get_config\n",
    "\n",
    "# configuration of the evoked biophy. simulation at 20 kHz\n",
    "cfg, param_cfg = get_config(\"silico_neuropixels\", \"npx_evoked\").values()\n",
    "\n",
    "# preprocessing parameters\n",
    "FREQ_MIN = param_cfg[\"run\"][\"preprocessing\"][\"min_filter_freq\"]\n",
    "FREQ_MAX = param_cfg[\"run\"][\"preprocessing\"][\"max_filter_freq\"]\n",
    "\n",
    "# compute parameters\n",
    "STIM_START = 30000        # arbitrary start of a stimulus (example)\n",
    "START_AFTER_STIM_MS = 10  # start to plot 10 ms after the stimulus to capture most of its effect which seems delayed\n",
    "DURATION = 10             # plotted recording duration in ms\n",
    "\n",
    "# plot parameters\n",
    "LINEWIDTH_BORD = 0.25\n",
    "FIGSIZE = (1.3, 5.9)\n",
    "PLOT_Y_PITCH = 20\n",
    "LINEWIDTH = 0.5\n",
    "Y_MAX = PLOT_Y_PITCH * 95\n"
   ]
  },
  {
   "cell_type": "markdown",
   "metadata": {},
   "source": [
    "## Load dandiset demo"
   ]
  },
  {
   "cell_type": "code",
   "execution_count": 137,
   "metadata": {},
   "outputs": [
    {
     "name": "stdout",
     "output_type": "stream",
     "text": [
      "s3_path: https://dandiarchive.s3.amazonaws.com/blobs/df4/087/df4087b5-6898-469e-8261-1dcf1413bde3\n",
      "\n",
      " Recording extractor: NwbRecordingExtractor: 120 channels - 20.0kHz - 1 segments - 1,200,000 samples \n",
      "                       60.00s (1.00 minutes) - float32 dtype - 549.32 MiB\n",
      "  file_path: https://dandiarchive.s3.amazonaws.com/blobs/df4/087/df4087b5-6898-469e-8261-1dcf1413bde3\n",
      "\n",
      " Layers in demo: ['L5' 'L6']\n",
      "\n",
      " Trace data shape: (1200000, 120)\n",
      "\n",
      " Sorting extractor: NwbSortingExtractor: 1836 units - 1 segments - 20.0kHz\n",
      "  file_path: https://dandiarchive.s3.amazonaws.com/blobs/df4/087/df4087b5-6898-469e-8261-1dcf1413bde3\n",
      "CPU times: user 17.9 s, sys: 2.95 s, total: 20.9 s\n",
      "Wall time: 1min 13s\n"
     ]
    }
   ],
   "source": [
    "%%time\n",
    "\n",
    "# get the extractors from Dandi archive\n",
    "with DandiAPIClient() as client:\n",
    "    asset = client.get_dandiset(dandiset_id, 'draft').get_asset_by_path(filepath)\n",
    "    s3_path = asset.get_content_url(follow_redirects=1, strip_query=True)\n",
    "Recording = se.NwbRecordingExtractor(file_path=s3_path, stream_mode=\"remfile\")\n",
    "Sorting = se.NwbSortingExtractor(file_path=s3_path, stream_mode=\"remfile\")\n",
    "\n",
    "# load voltage traces \n",
    "traces = Recording.get_traces()\n",
    "\n",
    "# report info\n",
    "print(\"s3_path:\", s3_path)\n",
    "print('\\n Recording extractor:', Recording)\n",
    "print('\\n Layers in demo:', np.unique(Recording.get_property('layers')))\n",
    "print(\"\\n Trace data shape:\", traces.shape)\n",
    "print('\\n Sorting extractor:', Sorting)"
   ]
  },
  {
   "cell_type": "markdown",
   "metadata": {},
   "source": [
    "## Compute multi-site data"
   ]
  },
  {
   "cell_type": "code",
   "execution_count": 138,
   "metadata": {},
   "outputs": [
    {
     "name": "stdout",
     "output_type": "stream",
     "text": [
      "# sites in column 1 and in layer 5 or 6: 30\n",
      "CPU times: user 20.9 s, sys: 5.48 s, total: 26.4 s\n",
      "Wall time: 28.6 s\n"
     ]
    }
   ],
   "source": [
    "%%time \n",
    "\n",
    "# compress to int16 (like the Kilosort sorters)\n",
    "# apply band-pass filter and common referencing\n",
    "Recording = spre.astype(Recording, \"int16\")\n",
    "Recording = spre.bandpass_filter(\n",
    "    Recording, freq_min=FREQ_MIN, freq_max=FREQ_MAX\n",
    ")\n",
    "Recording = spre.common_reference(\n",
    "    Recording, reference=\"global\", operator=\"median\"\n",
    ")\n",
    "\n",
    "# load voltage traces, site layers metadata\n",
    "# note: contact ids from 380 (superficial sites near pial) to 0 (deeper sites)\n",
    "traces_pre = Recording.get_traces()\n",
    "layers = Recording.get_property(\"layers\")\n",
    "SAMPFREQ = int(Recording.get_sampling_frequency())\n",
    "N_SAMP = int(START_AFTER_STIM_MS / 1000 * SAMPFREQ)\n",
    "n_timepoints = int(DURATION * SAMPFREQ / 1000) # plotted recording duration in sample\n",
    "\n",
    "# set plotting period\n",
    "PERIOD = np.arange(\n",
    "    STIM_START + N_SAMP,\n",
    "    STIM_START + N_SAMP + n_timepoints,\n",
    "    1,\n",
    ")\n",
    "\n",
    "# get voltage traces array\n",
    "n_contacts = prep_traces.shape[1]\n",
    "\n",
    "# setup plotting dataset\n",
    "fig_data = {\n",
    "    \"trace\": traces_pre[PERIOD, :],\n",
    "    \"layers\": layers\n",
    "}\n",
    "\n",
    "# get site ids in layer 5 or 6 and in the probe's first column\n",
    "# note: original channel ids are ordered from 1 to 384.\n",
    "# sites in layer \"L5\" or L6\" and in the probe's first column\n",
    "site_ids  = Recording.get_channel_ids()\n",
    "col1_site_l5 = site_ids[(layers==\"L5\") & (site_ids.astype(int) <= 96)].astype(int)\n",
    "col1_site_l6 = site_ids[(layers==\"L6\") & (site_ids.astype(int) <= 96)].astype(int)\n",
    "n_sites_to_plot = len(col1_site_l5) + len(col1_site_l6)\n",
    "print(\"# sites in column 1 and in layer 5 or 6:\", n_sites_to_plot)"
   ]
  },
  {
   "cell_type": "markdown",
   "metadata": {},
   "source": [
    "## Plot"
   ]
  },
  {
   "cell_type": "code",
   "execution_count": 140,
   "metadata": {},
   "outputs": [
    {
     "name": "stdout",
     "output_type": "stream",
     "text": [
      "CPU times: user 95.5 ms, sys: 20 ms, total: 116 ms\n",
      "Wall time: 315 ms\n"
     ]
    },
    {
     "data": {
      "image/png": "[encoded data removed]",
      "text/plain": [
       "<Figure size 130x590 with 1 Axes>"
      ]
     },
     "metadata": {},
     "output_type": "display_data"
    }
   ],
   "source": [
    "%%time \n",
    "\n",
    "# plot (0: bottom 96:top)\n",
    "fig, ax = plt.subplots(1, 1, figsize=FIGSIZE)\n",
    "pos_up = 0\n",
    "row = 0\n",
    "\n",
    "# loop over the sites\n",
    "for site_id in np.arange(col1_site_l6[0], col1_site_l5[-1], 1):\n",
    "\n",
    "    # identify the first trace of each layer\n",
    "    # layer 6\n",
    "    if site_id == col1_site_l6[0]:\n",
    "        ax.hlines(\n",
    "            y=0.98 * pos_up,\n",
    "            xmin=0,\n",
    "            xmax=n_timepoints,\n",
    "            color=\"black\",\n",
    "            linewidth=LINEWIDTH_BORD,\n",
    "        )\n",
    "        # label layer\n",
    "        ax.text(\n",
    "            # 610,\n",
    "            -210,\n",
    "            0.99 * pos_up,\n",
    "            \"%s\" % (\"L6\"),\n",
    "            size=plt.rcParams[\"font.size\"],\n",
    "            zorder=100,\n",
    "            color=\"k\",\n",
    "            ha=\"left\",\n",
    "        )\n",
    "    # layer 5\n",
    "    if site_id == col1_site_l5[0]:\n",
    "        ax.hlines(\n",
    "            y=0.99 * pos_up,\n",
    "            xmin=0,\n",
    "            xmax=n_timepoints,\n",
    "            color=\"black\",\n",
    "            linewidth=LINEWIDTH_BORD,\n",
    "        )\n",
    "        # label layer\n",
    "        ax.text(\n",
    "            # 610,\n",
    "            -210,\n",
    "            0.99 * pos_up,\n",
    "            \"%s\" % (\"L5\"),\n",
    "            size=plt.rcParams[\"font.size\"],\n",
    "            zorder=100,\n",
    "            color=\"k\",\n",
    "            ha=\"left\",\n",
    "        )\n",
    "\n",
    "    # all other traces\n",
    "    else:\n",
    "        ax.plot(\n",
    "            fig_data[\"trace\"][:, site_id] + pos_up,\n",
    "            linewidth=LINEWIDTH,\n",
    "            color=\"k\",\n",
    "        )\n",
    "    pos_up += PLOT_Y_PITCH\n",
    "\n",
    "# legend\n",
    "ax.spines[[\"left\", \"right\", \"top\"]].set_visible(False)\n",
    "ax.set_xticks([0, n_timepoints], [START_AFTER_STIM_MS, START_AFTER_STIM_MS + DURATION])\n",
    "ax.set_xlabel(\"Time after stimulus \\n(ms)\")\n",
    "ax.set_ylim([-100, Y_MAX + 10])\n",
    "plt.yticks([])\n",
    "\n",
    "# disconnect axes (R style)\n",
    "ax.spines[\"bottom\"].set_position((\"axes\", -0.05))\n",
    "ax.yaxis.set_ticks_position(\"left\")\n",
    "ax.spines[\"bottom\"].set_position((\"axes\", -0.05))\n",
    "ax.yaxis.set_ticks_position(\"right\")"
   ]
  }
 ],
 "metadata": {
  "kernelspec": {
   "display_name": "demo",
   "language": "python",
   "name": "python3"
  },
  "language_info": {
   "codemirror_mode": {
    "name": "ipython",
    "version": 3
   },
   "file_extension": ".py",
   "mimetype": "text/x-python",
   "name": "python",
   "nbconvert_exporter": "python",
   "pygments_lexer": "ipython3",
   "version": "3.10.8"
  }
 },
 "nbformat": 4,
 "nbformat_minor": 4
}
