{
 "cells": [
  {
   "attachments": {},
   "cell_type": "markdown",
   "metadata": {},
   "source": [
    "# Single-site\n",
    "\n",
    "author: laquitainesteeve@gmail.com  \n",
    "\n",
    "execution time: 1 min\n",
    "\n",
    "Special hardware: on CPU, does not require GPU."
   ]
  },
  {
   "attachments": {},
   "cell_type": "markdown",
   "metadata": {},
   "source": [
    "## Setup\n",
    "\n",
    "Create and activate `demo` virtual environment kernel `demo` from (envs/demo.yml)"
   ]
  },
  {
   "cell_type": "code",
   "execution_count": 6,
   "metadata": {},
   "outputs": [
    {
     "name": "stdout",
     "output_type": "stream",
     "text": [
      "The autoreload extension is already loaded. To reload it, use:\n",
      "  %reload_ext autoreload\n",
      "spikeinterface 0.101.2\n"
     ]
    }
   ],
   "source": [
    "%load_ext autoreload\n",
    "%autoreload 2\n",
    "\n",
    "import os\n",
    "import numpy as np\n",
    "from dandi.dandiapi import DandiAPIClient\n",
    "import spikeinterface.extractors as se\n",
    "import spikeinterface\n",
    "from matplotlib import pyplot as plt;\n",
    "import spikeinterface.preprocessing as spre\n",
    "print(\"spikeinterface\", spikeinterface.__version__)\n",
    "\n",
    "# dandiset parameters\n",
    "dandiset_id = '001250'\n",
    "filepath = 'sub-vivo-horvath-depth-2/sub-vivo-horvath-depth-2_ecephys.nwb'\n",
    "\n",
    "# project path\n",
    "proj_path = \"/home/steeve/steeve/epfl/code/spikebias\"\n",
    "os.chdir(proj_path)\n",
    "\n",
    "# import spikebias\n",
    "from src.nodes.validation import noise"
   ]
  },
  {
   "cell_type": "markdown",
   "metadata": {},
   "source": [
    "## Load demo"
   ]
  },
  {
   "cell_type": "code",
   "execution_count": null,
   "metadata": {},
   "outputs": [],
   "source": [
    "%%time\n",
    "\n",
    "# get the extractors from Dandi archive\n",
    "with DandiAPIClient() as client:\n",
    "    asset = client.get_dandiset(dandiset_id, 'draft').get_asset_by_path(filepath)\n",
    "    s3_path = asset.get_content_url(follow_redirects=1, strip_query=True)\n",
    "Recording = se.NwbRecordingExtractor(file_path=s3_path, stream_mode=\"remfile\")\n",
    "\n",
    "# get only 10 minutes of data\n",
    "Recording = Recording.frame_slice(start_frame=0, end_frame=Recording.sampling_frequency*600)\n",
    "\n",
    "# preprocess\n",
    "Recording = spre.highpass_filter(Recording, freq_min=300)\n",
    "Recording = spre.common_reference(Recording, reference=\"global\", operator=\"median\")\n",
    "\n",
    "# load voltage traces \n",
    "traces = Recording.get_traces()\n",
    "traces_in_uV = Recording.get_traces(return_scaled=True)\n",
    "\n",
    "# report metadata\n",
    "print(\"s3_path:\", s3_path)\n",
    "print('\\n Recording extractor:', Recording)\n",
    "print(\"trace data shape:\", traces.shape)\n",
    "print(\"gain_to_uV:\", Recording.get_property('gain_to_uV'))\n",
    "print(\"offset_to_uV: \", Recording.get_property('offset_to_uV'))"
   ]
  },
  {
   "cell_type": "markdown",
   "metadata": {},
   "source": [
    "* from stimulus start (STIM_START= 20110000 at the 5000th stimulus epoch, t=0 ms) to 1000 ms after.\n",
    "* plot trace from site 143 in layer 5, same as for the spontaneous model."
   ]
  },
  {
   "cell_type": "markdown",
   "metadata": {},
   "source": [
    "## Plot single-trace and calculate noise (MAD)"
   ]
  },
  {
   "cell_type": "code",
   "execution_count": null,
   "metadata": {},
   "outputs": [
    {
     "ename": "IndexError",
     "evalue": "index 21 is out of bounds for axis 0 with size 8",
     "output_type": "error",
     "traceback": [
      "\u001b[0;31m---------------------------------------------------------------------------\u001b[0m",
      "\u001b[0;31mIndexError\u001b[0m                                Traceback (most recent call last)",
      "File \u001b[0;32m<timed exec>:10\u001b[0m\n",
      "\u001b[0;31mIndexError\u001b[0m: index 21 is out of bounds for axis 0 with size 8"
     ]
    }
   ],
   "source": [
    "%%time \n",
    "\n",
    "# parameters\n",
    "LAYER = 'L2_3'\n",
    "STIM_START = 0\n",
    "SITE_IX = 21\n",
    "SFREQ = int(Recording.get_sampling_frequency())\n",
    "\n",
    "# get one second trace to plot\n",
    "onesecond = np.arange(STIM_START, STIM_START + SFREQ, 1).astype(int)\n",
    "layers = Recording.get_property(\"layers\")\n",
    "L5_site = np.where(layers == LAYER)[0][SITE_IX]\n",
    "fig_data = traces[onesecond, L5_site]\n",
    "\n",
    "# plot\n",
    "YMAX = 60\n",
    "fig, ax = plt.subplots(1, 2, figsize=(4,2))\n",
    "\n",
    "# raw ---------------------------------\n",
    "ax[0].plot(fig_data, color=\"k\")\n",
    "\n",
    "# legend\n",
    "ax[0].spines[[\"right\", \"top\"]].set_visible(False)\n",
    "ax[0].set_ylabel(\"Voltage (\\u03bcV)\")\n",
    "ax[0].set_xlabel(\"Time after stimulus (ms)\")\n",
    "ax[0].set_yticks([-120, 0, YMAX], [-120, 0, YMAX])\n",
    "ax[0].set_ylim([-120, YMAX])\n",
    "ax[0].set_xticks([0, SFREQ / 2, SFREQ], [0, 500, 1000])\n",
    "ax[0].set_xlim([0, SFREQ])\n",
    "\n",
    "# disconnected\n",
    "ax[0].spines[\"bottom\"].set_position((\"axes\", -0.05))\n",
    "ax[0].yaxis.set_ticks_position(\"left\")\n",
    "ax[0].spines[\"left\"].set_position((\"axes\", -0.05))\n",
    "\n",
    "# report noise (min(MAD) over segments of 1 sec) here\n",
    "wind_end = int(np.floor(len(traces)/SFREQ))\n",
    "bkg_noise = noise.measure_trace_noise(traces[onesecond, L5_site], SFREQ, wind_end)\n",
    "print(\"nb of 1-sec windows:\", len(bkg_noise))\n",
    "print(\"Background noise level in uV (min MAD over windows):\", min(bkg_noise))\n",
    "\n",
    "\n",
    "\n",
    "# scaled to uV ---------------------------------\n",
    "fig_data = traces_in_uV[onesecond, L5_site]\n",
    "\n",
    "# plot figure\n",
    "ax[1].plot(fig_data, color=\"k\")\n",
    "\n",
    "# report noise (min(MAD) over segments of 1 sec) here\n",
    "wind_end = int(np.floor(len(traces_in_uV)/SFREQ))\n",
    "bkg_noise = noise.measure_trace_noise(traces_in_uV[onesecond, L5_site], SFREQ, wind_end)\n",
    "print(\"nb of 1-sec windows:\", len(bkg_noise))\n",
    "print(\"Background noise level in uV (min MAD over windows):\", min(bkg_noise))"
   ]
  },
  {
   "cell_type": "code",
   "execution_count": null,
   "metadata": {},
   "outputs": [],
   "source": []
  }
 ],
 "metadata": {
  "kernelspec": {
   "display_name": "Python 3",
   "language": "python",
   "name": "python3"
  },
  "language_info": {
   "codemirror_mode": {
    "name": "ipython",
    "version": 3
   },
   "file_extension": ".py",
   "mimetype": "text/x-python",
   "name": "python",
   "nbconvert_exporter": "python",
   "pygments_lexer": "ipython3",
   "version": "3.10.8"
  }
 },
 "nbformat": 4,
 "nbformat_minor": 4
}
