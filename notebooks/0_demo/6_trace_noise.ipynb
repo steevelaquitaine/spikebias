{
 "cells": [
  {
   "attachments": {},
   "cell_type": "markdown",
   "metadata": {},
   "source": [
    "# Noise\n",
    "\n",
    "author: laquitainesteeve@gmail.com\n",
    "\n",
    "Purpose: describe trace background noise\n",
    "\n",
    "Execution time: 2 min\n",
    "\n",
    "Special hardware: on CPU, does not require GPU."
   ]
  },
  {
   "attachments": {},
   "cell_type": "markdown",
   "metadata": {},
   "source": [
    "## Setup\n",
    "\n",
    "Create, activate and select virtual environment kernel `demo` from (envs/demo.yml):\n",
    "\n",
    "```bash\n",
    "python -m ipykernel install --user --name demo --display-name \"demo\" # create kernel\n",
    "```"
   ]
  },
  {
   "cell_type": "code",
   "execution_count": 2,
   "metadata": {},
   "outputs": [
    {
     "name": "stdout",
     "output_type": "stream",
     "text": [
      "The autoreload extension is already loaded. To reload it, use:\n",
      "  %reload_ext autoreload\n",
      "spikeinterface version: 0.101.2\n",
      "2025-04-06 07:49:53,774 - root - utils.py - get_config - INFO - Reading experiment config.\n",
      "2025-04-06 07:49:53,811 - root - utils.py - get_config - INFO - Reading experiment config. - done\n",
      "2025-04-06 07:49:53,816 - root - utils.py - get_config - INFO - Reading experiment config.\n",
      "2025-04-06 07:49:53,841 - root - utils.py - get_config - INFO - Reading experiment config. - done\n"
     ]
    }
   ],
   "source": [
    "%load_ext autoreload\n",
    "%autoreload 2\n",
    "\n",
    "import warnings\n",
    "warnings.simplefilter(action='ignore', category=FutureWarning)\n",
    "\n",
    "# import packages\n",
    "import os\n",
    "import numpy as np\n",
    "from dandi.dandiapi import DandiAPIClient\n",
    "import spikeinterface.extractors as se\n",
    "import spikeinterface.preprocessing as spre\n",
    "import spikeinterface as si\n",
    "from matplotlib import pyplot as plt;\n",
    "import multiprocessing\n",
    "import torch\n",
    "import pandas as pd\n",
    "import seaborn as sns\n",
    "import matplotlib\n",
    "print(\"spikeinterface version:\", si.__version__)\n",
    "\n",
    "# dandiset parameters\n",
    "dandiset_id = '001250'\n",
    "filepath_evoked = 'sub-demo-npx-bio-evoked/sub-demo-npx-bio-evoked_ecephys.nwb'\n",
    "filepath_spont = 'sub-demo-npx-bio-spont/sub-demo-npx-bio-spont_ecephys.nwb'\n",
    "\n",
    "# project path\n",
    "#proj_path = \"/Users/steeve_laquitaine/Desktop/EPFL/2022_2024_bbp/spikebias/\"\n",
    "proj_path = \"/home/jovyan/steevelaquitaine/spikebias/\"\n",
    "os.chdir(proj_path)\n",
    "\n",
    "from src.nodes.utils import get_config, get_stats_config, standardize_layers\n",
    "from src.nodes.validation import noise\n",
    "\n",
    "# evoked demo\n",
    "cfg_e, param_cfg_e = get_config(\"silico_neuropixels\", \"npx_evoked\").values() # config\n",
    "FREQ_MIN_E = param_cfg_e[\"run\"][\"preprocessing\"][\"min_filter_freq\"] # preprocessing parameters\n",
    "FREQ_MAX_E = param_cfg_e[\"run\"][\"preprocessing\"][\"max_filter_freq\"]\n",
    "\n",
    "# spontaneous demo\n",
    "cfg_s, param_cfg_s = get_config(\"silico_neuropixels\", \"npx_spont\").values() # config\n",
    "FREQ_MIN_S = param_cfg_s[\"run\"][\"preprocessing\"][\"min_filter_freq\"] # preprocessing parameters\n",
    "FREQ_MAX_S = param_cfg_s[\"run\"][\"preprocessing\"][\"max_filter_freq\"]\n",
    "\n",
    "# parameters\n",
    "LAYERS = ['L5', 'L6']\n",
    "\n",
    "# FIGURE SETTINGS\n",
    "FIG_SIZE = (1.8, 1.6)\n",
    "COLOR_SILI = np.array([228, 26, 28]) / 255\n",
    "COLOR_NE = [1, 0.49, 0]\n",
    "\n",
    "# experiment colors\n",
    "cl = dict()\n",
    "cl[\"COLOR_NS\"] = [0.9, 0.14, 0.15]\n",
    "cl[\"COLOR_NE\"] = [1, 0.49, 0] # orange\n",
    "\n",
    "# axes\n",
    "plt.rcParams[\"font.family\"] = \"Arial\"\n",
    "plt.rcParams[\"font.size\"] = 6  # 5-7 with Nature neuroscience as reference\n",
    "plt.rcParams[\"lines.linewidth\"] = 0.5 # typically between 0.5 and 1\n",
    "plt.rcParams[\"axes.linewidth\"] = 0.5 #1\n",
    "plt.rcParams[\"axes.spines.top\"] = False\n",
    "plt.rcParams[\"xtick.major.width\"] = 0.5 #0.8 #* 1.3\n",
    "plt.rcParams[\"xtick.minor.width\"] = 0.5 #0.8 #* 1.3\n",
    "plt.rcParams[\"ytick.major.width\"] = 0.5 #0.8 #* 1.3\n",
    "plt.rcParams[\"ytick.minor.width\"] = 0.5 #0.8 #* 1.3\n",
    "plt.rcParams[\"xtick.major.size\"] = 3.5 * 1.1\n",
    "plt.rcParams[\"xtick.minor.size\"] = 2 * 1.1\n",
    "plt.rcParams[\"ytick.major.size\"] = 3.5 * 1.1\n",
    "plt.rcParams[\"ytick.minor.size\"] = 2 * 1.1\n",
    "# legend\n",
    "savefig_cfg = {\"transparent\":True, \"dpi\": 300}\n",
    "legend_cfg = {\"frameon\": False, \"handletextpad\": 0.5}\n",
    "tight_layout_cfg = {\"pad\": 0.5}\n",
    "LG_FRAMEON = False              # no legend frame"
   ]
  },
  {
   "cell_type": "markdown",
   "metadata": {},
   "source": [
    "## Specs"
   ]
  },
  {
   "cell_type": "code",
   "execution_count": 3,
   "metadata": {},
   "outputs": [
    {
     "name": "stdout",
     "output_type": "stream",
     "text": [
      "available cpus: 16\n",
      "available gpus: False\n"
     ]
    },
    {
     "data": {
      "text/plain": [
       "['               total        used        free      shared  buff/cache   available',\n",
       " 'Mem:           63497        2464       38699           3       23040       61033',\n",
       " 'Swap:              0           0           0']"
      ]
     },
     "execution_count": 3,
     "metadata": {},
     "output_type": "execute_result"
    }
   ],
   "source": [
    "# cpus, gpu and current memory usage\n",
    "print(\"available cpus:\", multiprocessing.cpu_count())\n",
    "print(\"available gpus:\", torch.cuda.is_available())\n",
    "%system free -m"
   ]
  },
  {
   "cell_type": "markdown",
   "metadata": {},
   "source": [
    "## Load demos"
   ]
  },
  {
   "cell_type": "code",
   "execution_count": 4,
   "metadata": {},
   "outputs": [
    {
     "name": "stdout",
     "output_type": "stream",
     "text": [
      "CPU times: user 37 s, sys: 6.5 s, total: 43.5 s\n",
      "Wall time: 1min 22s\n"
     ]
    }
   ],
   "source": [
    "%%time\n",
    "\n",
    "# EVOKED DEMO\n",
    "\n",
    "with DandiAPIClient() as client: # download the extractors from Dandi archive\n",
    "    asset = client.get_dandiset(dandiset_id, 'draft').get_asset_by_path(filepath_evoked)\n",
    "    s3_path = asset.get_content_url(follow_redirects=1, strip_query=True)\n",
    "RecordingE = se.NwbRecordingExtractor(file_path=s3_path, stream_mode=\"remfile\") # get extractor\n",
    "RecordingE = spre.astype(RecordingE, \"int16\") # compress to int16 (like kilosorts)\n",
    "RecordingE = spre.bandpass_filter(RecordingE, freq_min=FREQ_MIN_E, freq_max=FREQ_MAX_E)  # band-pass filter\n",
    "RecordingE = spre.common_reference(RecordingE, reference=\"global\", operator=\"median\") # common reference\n",
    "traces_ne = RecordingE.get_traces() # get trace array\n",
    "\n",
    "# SPONTANEOUS DEMO\n",
    "\n",
    "with DandiAPIClient() as client:\n",
    "    asset = client.get_dandiset(dandiset_id, 'draft').get_asset_by_path(filepath_spont)\n",
    "    s3_path = asset.get_content_url(follow_redirects=1, strip_query=True)\n",
    "RecordingS = se.NwbRecordingExtractor(file_path=s3_path, stream_mode=\"remfile\")\n",
    "RecordingS = spre.astype(RecordingS, \"int16\")\n",
    "RecordingS = spre.bandpass_filter(RecordingS, freq_min=FREQ_MIN_S, freq_max=FREQ_MAX_S)\n",
    "RecordingS = spre.common_reference(RecordingS, reference=\"global\", operator=\"median\")\n",
    "traces_ns = RecordingS.get_traces()"
   ]
  },
  {
   "cell_type": "markdown",
   "metadata": {},
   "source": [
    "## Compute"
   ]
  },
  {
   "cell_type": "code",
   "execution_count": 19,
   "metadata": {},
   "outputs": [
    {
     "name": "stdout",
     "output_type": "stream",
     "text": [
      "CPU times: user 34.9 s, sys: 5.92 s, total: 40.8 s\n",
      "Wall time: 55.7 s\n"
     ]
    }
   ],
   "source": [
    "%%time \n",
    "\n",
    "# compute noise\n",
    "traces = RecordingS.get_traces() # spontaneous\n",
    "noise_s = np.array(noise.get_in_parallel_single_ns(traces))\n",
    "traces = RecordingE.get_traces() # evoked\n",
    "noise_e = np.array(noise.get_in_parallel_single_ne(traces))\n",
    "\n",
    "# - get site layers\n",
    "lyr_s = RecordingS.get_property(\"layers\")\n",
    "lyr_e = RecordingE.get_property(\"layers\")\n",
    "\n",
    "# format dataset\n",
    "# - group l2 and l3\n",
    "# spont.\n",
    "lyr_s = standardize_layers(lyr_s)\n",
    "in_ctx = np.isin(lyr_s, LAYERS)\n",
    "s_data = pd.DataFrame(data=np.array(noise_s[in_ctx]), columns=[\"noise\"])\n",
    "lyr_s = np.array(lyr_s)[in_ctx]\n",
    "s_data[\"layer\"] = lyr_s\n",
    "s_data[\"experiment\"] = \"Biophy. spont.\"\n",
    "s_data = s_data.sort_values(by=[\"layer\"])\n",
    "\n",
    "# evoked\n",
    "lyr_e = standardize_layers(lyr_e)\n",
    "in_ctx = np.isin(lyr_e, LAYERS)\n",
    "e_data = pd.DataFrame(data=np.array(noise_e[in_ctx]), columns=[\"noise\"])\n",
    "lyr_e = np.array(lyr_e)[in_ctx]\n",
    "e_data[\"layer\"] = lyr_e\n",
    "e_data[\"experiment\"] = \"Biophy. evoked\"\n",
    "e_data = e_data.sort_values(by=[\"layer\"])\n",
    "\n",
    "# concatenate\n",
    "plot_data = pd.concat([s_data, e_data], ignore_index=True)\n",
    "\n",
    "# drop sites outside cortex\n",
    "mask = np.isin(plot_data[\"layer\"], LAYERS)\n",
    "plot_data = plot_data[mask]\n",
    "plot_data = plot_data.sort_values(by=[\"layer\"])\n",
    "\n",
    "# unit-test\n",
    "assert s_data[\"layer\"].unique().tolist() == LAYERS, \"wrong layers\"\n",
    "assert e_data[\"layer\"].unique().tolist() == LAYERS, \"wrong layers\""
   ]
  },
  {
   "cell_type": "markdown",
   "metadata": {},
   "source": [
    "#### Plot"
   ]
  },
  {
   "cell_type": "code",
   "execution_count": 13,
   "metadata": {},
   "outputs": [
    {
     "data": {
      "text/plain": [
       "Text(0.5, 0, 'Layer')"
      ]
     },
     "execution_count": 13,
     "metadata": {},
     "output_type": "execute_result"
    },
    {
     "data": {
      "image/png": "[encoded data removed]",
      "text/plain": [
       "<Figure size 180x100 with 1 Axes>"
      ]
     },
     "metadata": {},
     "output_type": "display_data"
    }
   ],
   "source": [
    "FIG_SIZE = (1.8, 1)\n",
    "\n",
    "# setup plot\n",
    "fig, ax = plt.subplots(1, 1, figsize=FIG_SIZE)\n",
    "\n",
    "# plot\n",
    "ax = sns.boxplot(\n",
    "    ax=ax,\n",
    "    data=plot_data,\n",
    "    x=\"layer\",\n",
    "    y=\"noise\",\n",
    "    hue=\"experiment\",\n",
    "    notch=True,\n",
    "    hue_order=[\n",
    "        \"Biophy. spont.\",\n",
    "        \"Biophy. evoked\",\n",
    "    ],\n",
    "    palette=[cl[\"COLOR_NS\"], cl[\"COLOR_NE\"]],\n",
    "    width=0.6,\n",
    "    linewidth=0.5,\n",
    "    flierprops={\n",
    "        \"marker\": \".\",\n",
    "        \"markersize\": 3,\n",
    "    },\n",
    ")\n",
    "\n",
    "# axes\n",
    "ax.spines[[\"top\", \"right\"]].set_visible(False)\n",
    "ax.legend(\"\", frameon=False)\n",
    "\n",
    "# disconnect axes (R style)\n",
    "ax.spines[\"bottom\"].set_position((\"axes\", -0.05))\n",
    "ax.yaxis.set_ticks_position(\"left\")\n",
    "ax.spines[\"left\"].set_position((\"axes\", -0.05))\n",
    "\n",
    "ax.set_ylabel(\"Noise (\\u03bcV)\")\n",
    "ax.set_xlabel(\"Layer\")"
   ]
  },
  {
   "cell_type": "markdown",
   "metadata": {},
   "source": [
    "## Statistical tests"
   ]
  },
  {
   "cell_type": "markdown",
   "metadata": {},
   "source": [
    "### Noise changes across layers?"
   ]
  },
  {
   "cell_type": "code",
   "execution_count": 15,
   "metadata": {},
   "outputs": [
    {
     "name": "stdout",
     "output_type": "stream",
     "text": [
      "\n",
      "------SPONT:------\n",
      "\n",
      "H=86.97658090572531, p=1.098138399985425e-20\n",
      "N_L5 = 52 sites\n",
      "N_L6 = 68 sites\n",
      "2.5417 $\\pm$ 0.013616, 2.3723 $\\pm$ 0.00354, \n",
      "\n",
      "------EVOKED:------\n",
      "\n",
      "H=86.77913129651091, p=1.2134320876452912e-20\n",
      "N_L5 = 52 sites\n",
      "N_L6 = 68 sites\n",
      "2.6687 $\\pm$ 0.018886, 2.4019 $\\pm$ 0.009401, \n"
     ]
    }
   ],
   "source": [
    "def ci95(data):\n",
    "    return 1.96 * np.nanstd(data) / np.sqrt(np.sum(~np.isnan(data)))\n",
    "\n",
    "def get_medians_and_ci95(plot_data, exp, feature: str):\n",
    "    layers = [\"L5\", \"L6\"]\n",
    "    stats = \"\"\n",
    "    record = []\n",
    "    for layer in layers:\n",
    "        feature_data = plot_data[(plot_data.experiment==exp) & (plot_data.layer==layer)][feature]\n",
    "        stats += f\"{np.round(feature_data.median()*10000)/10000} $\\pm$ {np.round(ci95(feature_data),6)}, \"\n",
    "        record.append(np.round(feature_data.median()*10000)/10000)\n",
    "    print(stats)\n",
    "    return record\n",
    "\n",
    "# 1. kruskall-wallis\n",
    "# 2. perform Dunn's posthoc test using a holm-sidak correction for the p-values\n",
    "# to identify the layer amplitudes that significantly deviate from others\n",
    "# 3. medians and ci95\n",
    "print(\"\\n------SPONT:------\\n\")\n",
    "noise.get_kk_demo(plot_data, \"Biophy. spont.\")\n",
    "noise.get_posthoc_dunn_holm_sidak_demo(plot_data, \"Biophy. spont.\")\n",
    "m_ns = get_medians_and_ci95(plot_data, \"Biophy. spont.\", \"noise\") \n",
    "\n",
    "print(\"\\n------EVOKED:------\\n\")\n",
    "noise.get_kk_demo(plot_data, \"Biophy. evoked\")\n",
    "noise.get_posthoc_dunn_holm_sidak_demo(plot_data, \"Biophy. evoked\")\n",
    "m_e = get_medians_and_ci95(plot_data, \"Biophy. evoked\", \"noise\") "
   ]
  },
  {
   "cell_type": "markdown",
   "metadata": {},
   "source": [
    "## Are models noise the same?\n",
    "\n",
    "Kruskall wallis and posthoc"
   ]
  },
  {
   "cell_type": "code",
   "execution_count": 16,
   "metadata": {},
   "outputs": [],
   "source": [
    "from scipy.stats import kruskal\n",
    "import scikit_posthocs as sp\n",
    "\n",
    "\n",
    "def count_sites(df, exp, layer):\n",
    "    return len(df[(df[\"experiment\"] == exp) & (df[\"layer\"] == layer)])\n",
    "\n",
    "\n",
    "def get_noise(df, exp, layer):\n",
    "    return df[(df[\"experiment\"] == exp) & (df[\"layer\"] == layer)][\"noise\"].values\n",
    "\n",
    "\n",
    "def get_kk_compare_exps(df, layer):\n",
    "    \"\"\"kruskall wallis test\n",
    "    \"\"\"\n",
    "    h, p = kruskal(\n",
    "        get_noise(df, \"Biophy. spont.\", layer),\n",
    "        get_noise(df, \"Biophy. evoked\", layer),\n",
    "    )\n",
    "    print(f\"H={h}, p={p}\")\n",
    "    print(f\"\"\"N_E = {count_sites(df, \"Biophy. evoked\", layer)} sites\"\"\")\n",
    "    print(f\"\"\"N_M = {count_sites(df, \"npx (Marques-Smith)\", layer)} sites\"\"\")\n",
    "    \n",
    "    \n",
    "def get_posthoc_dunn_holm_sidak_compare_exps(plot_data, layer):\n",
    "    \"\"\"posthoc test after kruskall wallis with Dunn and holm_sidak\n",
    "    multiple comparison correction of p-values\n",
    "\n",
    "    Args:\n",
    "        plot_data (_type_): _description_\n",
    "        exp (_type_): _description_\n",
    "\n",
    "    Returns:\n",
    "        _type_: _description_\n",
    "    \"\"\"\n",
    "    data = [\n",
    "        get_noise(plot_data, \"Biophy. spont.\", layer),\n",
    "        get_noise(plot_data, \"Biophy. evoked\", layer),\n",
    "    ]\n",
    "    # holm sidak method has more power than Bonferroni which is more conservative\n",
    "    # Non-significance can indicate subtle differences, power issues, samll sample size,\n",
    "    # or the balancing be due to how the Holm-Sidak correction controls Type I errors\n",
    "    # while retaining power.\n",
    "    # we can still look at the p-values to identify trends.\n",
    "    df = sp.posthoc_dunn(data, p_adjust=\"holm-sidak\")\n",
    "    df.columns = [\"Biophy. spont.\", \"Biophy. evoked\"]\n",
    "    df.index = [\"Biophy. spont.\", \"Biophy. evoked\"]\n",
    "    return df\n",
    "\n",
    "\n",
    "def get_posthoc_dunn_holm_sidak_compare_exps_l5(plot_data, layer):\n",
    "    \"\"\"posthoc test after kruskall wallis with Dunn and holm_sidak\n",
    "    multiple comparison correction of p-values\n",
    "\n",
    "    Args:\n",
    "        plot_data (_type_): _description_\n",
    "        exp (_type_): _description_\n",
    "\n",
    "    Returns:\n",
    "        _type_: _description_\n",
    "    \"\"\"\n",
    "    data = [\n",
    "        get_noise(plot_data, \"Biophy. spont.\", layer),\n",
    "        get_noise(plot_data, \"Biophy. evoked\", layer),\n",
    "    ]\n",
    "    # holm sidak method has more power than Bonferroni which is more conservative\n",
    "    # Non-significance can indicate subtle differences, power issues, samll sample size,\n",
    "    # or the balancing be due to how the Holm-Sidak correction controls Type I errors\n",
    "    # while retaining power.\n",
    "    # we can still look at the p-values to identify trends.\n",
    "    df = sp.posthoc_dunn(data, p_adjust=\"holm-sidak\")\n",
    "    df.columns = [\"Biophy. spont.\", \"Biophy. evoked\"]\n",
    "    df.index = [\"Biophy. spont.\", \"Biophy. evoked\"]\n",
    "    return df"
   ]
  },
  {
   "cell_type": "code",
   "execution_count": 17,
   "metadata": {},
   "outputs": [
    {
     "name": "stdout",
     "output_type": "stream",
     "text": [
      "\n",
      "------LAYER 5:------\n",
      "\n",
      "H=74.2022400676247, p=7.05102428936477e-18\n",
      "N_E = 52 sites\n",
      "N_M = 0 sites\n"
     ]
    },
    {
     "data": {
      "text/html": [
       "<div>\n",
       "<style scoped>\n",
       "    .dataframe tbody tr th:only-of-type {\n",
       "        vertical-align: middle;\n",
       "    }\n",
       "\n",
       "    .dataframe tbody tr th {\n",
       "        vertical-align: top;\n",
       "    }\n",
       "\n",
       "    .dataframe thead th {\n",
       "        text-align: right;\n",
       "    }\n",
       "</style>\n",
       "<table border=\"1\" class=\"dataframe\">\n",
       "  <thead>\n",
       "    <tr style=\"text-align: right;\">\n",
       "      <th></th>\n",
       "      <th>Biophy. spont.</th>\n",
       "      <th>Biophy. evoked</th>\n",
       "    </tr>\n",
       "  </thead>\n",
       "  <tbody>\n",
       "    <tr>\n",
       "      <th>Biophy. spont.</th>\n",
       "      <td>1.000000e+00</td>\n",
       "      <td>7.051024e-18</td>\n",
       "    </tr>\n",
       "    <tr>\n",
       "      <th>Biophy. evoked</th>\n",
       "      <td>7.051024e-18</td>\n",
       "      <td>1.000000e+00</td>\n",
       "    </tr>\n",
       "  </tbody>\n",
       "</table>\n",
       "</div>"
      ],
      "text/plain": [
       "                Biophy. spont.  Biophy. evoked\n",
       "Biophy. spont.    1.000000e+00    7.051024e-18\n",
       "Biophy. evoked    7.051024e-18    1.000000e+00"
      ]
     },
     "metadata": {},
     "output_type": "display_data"
    },
    {
     "name": "stdout",
     "output_type": "stream",
     "text": [
      "\n",
      "------LAYER 6:------\n",
      "\n",
      "H=71.07258227464462, p=3.4432189787588995e-17\n",
      "N_E = 68 sites\n",
      "N_M = 0 sites\n"
     ]
    },
    {
     "data": {
      "text/html": [
       "<div>\n",
       "<style scoped>\n",
       "    .dataframe tbody tr th:only-of-type {\n",
       "        vertical-align: middle;\n",
       "    }\n",
       "\n",
       "    .dataframe tbody tr th {\n",
       "        vertical-align: top;\n",
       "    }\n",
       "\n",
       "    .dataframe thead th {\n",
       "        text-align: right;\n",
       "    }\n",
       "</style>\n",
       "<table border=\"1\" class=\"dataframe\">\n",
       "  <thead>\n",
       "    <tr style=\"text-align: right;\">\n",
       "      <th></th>\n",
       "      <th>Biophy. spont.</th>\n",
       "      <th>Biophy. evoked</th>\n",
       "    </tr>\n",
       "  </thead>\n",
       "  <tbody>\n",
       "    <tr>\n",
       "      <th>Biophy. spont.</th>\n",
       "      <td>1.000000e+00</td>\n",
       "      <td>3.443219e-17</td>\n",
       "    </tr>\n",
       "    <tr>\n",
       "      <th>Biophy. evoked</th>\n",
       "      <td>3.443219e-17</td>\n",
       "      <td>1.000000e+00</td>\n",
       "    </tr>\n",
       "  </tbody>\n",
       "</table>\n",
       "</div>"
      ],
      "text/plain": [
       "                Biophy. spont.  Biophy. evoked\n",
       "Biophy. spont.    1.000000e+00    3.443219e-17\n",
       "Biophy. evoked    3.443219e-17    1.000000e+00"
      ]
     },
     "metadata": {},
     "output_type": "display_data"
    }
   ],
   "source": [
    "print(\"\\n------LAYER 5:------\\n\")\n",
    "get_kk_compare_exps(plot_data, \"L5\")\n",
    "display(get_posthoc_dunn_holm_sidak_compare_exps_l5(plot_data, \"L5\"))\n",
    "\n",
    "print(\"\\n------LAYER 6:------\\n\")\n",
    "get_kk_compare_exps(plot_data, \"L6\")\n",
    "display(get_posthoc_dunn_holm_sidak_compare_exps(plot_data, \"L6\"))"
   ]
  },
  {
   "cell_type": "markdown",
   "metadata": {},
   "source": [
    "## Are models noise the same?\n",
    "\n",
    "Mann-Whitney U test"
   ]
  },
  {
   "cell_type": "code",
   "execution_count": 18,
   "metadata": {},
   "outputs": [
    {
     "name": "stdout",
     "output_type": "stream",
     "text": [
      "\n",
      "layer 5\n",
      "\n",
      "1 vs. 2, z=2677.0, p=1.862462009075837e-26, N_1=52, N_2=52\n",
      "\n",
      "layer 6\n",
      "\n",
      "1 vs. 2, z=4249.0, p=5.692152222170004e-21, N_1=68, N_2=68\n"
     ]
    }
   ],
   "source": [
    "print(\"\\nlayer 5\\n\")\n",
    "noise.get_mwu(plot_data, \"Biophy. evoked\", \"Biophy. spont.\", \"L5\")\n",
    "\n",
    "print(\"\\nlayer 6\\n\")\n",
    "noise.get_mwu(plot_data, \"Biophy. evoked\", \"Biophy. spont.\", \"L6\")"
   ]
  }
 ],
 "metadata": {
  "kernelspec": {
   "display_name": "demo",
   "language": "python",
   "name": "demo"
  },
  "language_info": {
   "codemirror_mode": {
    "name": "ipython",
    "version": 3
   },
   "file_extension": ".py",
   "mimetype": "text/x-python",
   "name": "python",
   "nbconvert_exporter": "python",
   "pygments_lexer": "ipython3",
   "version": "3.10.8"
  }
 },
 "nbformat": 4,
 "nbformat_minor": 4
}
