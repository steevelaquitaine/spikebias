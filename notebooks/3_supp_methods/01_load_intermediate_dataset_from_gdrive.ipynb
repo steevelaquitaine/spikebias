{
 "cells": [
  {
   "cell_type": "markdown",
   "id": "6f8cd6a1-f22b-43de-b2e9-80d0364bbd82",
   "metadata": {},
   "source": [
    "# Load processed dataset\n",
    "\n",
    "author: laquitainesteeve@gmail.com\n",
    "\n",
    "* **Purpose**: Load (1m) and unzip (10m) compressed processed dataset (6GB) stored in my google drive\n",
    "* **Duration**: 11 minutes"
   ]
  },
  {
   "cell_type": "code",
   "execution_count": 2,
   "id": "27390faa-68af-480a-83ea-e4fd3536b7b0",
   "metadata": {},
   "outputs": [],
   "source": [
    "import os \n",
    "\n",
    "# project path on dandihub\n",
    "proj_path = \"/home/steeve/steeve/epfl/code/spikebias\"\n",
    "os.chdir(proj_path)"
   ]
  },
  {
   "cell_type": "code",
   "execution_count": 3,
   "id": "b4a2f401-e434-48c1-800e-ea1096334825",
   "metadata": {},
   "outputs": [
    {
     "name": "stdout",
     "output_type": "stream",
     "text": [
      "Collecting gdown\n",
      "  Downloading gdown-5.2.0-py3-none-any.whl.metadata (5.8 kB)\n",
      "Requirement already satisfied: beautifulsoup4 in ./envs/spikebias/lib/python3.9/site-packages (from gdown) (4.13.4)\n",
      "Requirement already satisfied: filelock in ./envs/spikebias/lib/python3.9/site-packages (from gdown) (3.18.0)\n",
      "Requirement already satisfied: requests[socks] in ./envs/spikebias/lib/python3.9/site-packages (from gdown) (2.32.3)\n",
      "Requirement already satisfied: tqdm in ./envs/spikebias/lib/python3.9/site-packages (from gdown) (4.67.1)\n",
      "Requirement already satisfied: soupsieve>1.2 in ./envs/spikebias/lib/python3.9/site-packages (from beautifulsoup4->gdown) (2.7)\n",
      "Requirement already satisfied: typing-extensions>=4.0.0 in ./envs/spikebias/lib/python3.9/site-packages (from beautifulsoup4->gdown) (4.14.0)\n",
      "Requirement already satisfied: charset_normalizer<4,>=2 in ./envs/spikebias/lib/python3.9/site-packages (from requests[socks]->gdown) (3.4.2)\n",
      "Requirement already satisfied: idna<4,>=2.5 in ./envs/spikebias/lib/python3.9/site-packages (from requests[socks]->gdown) (3.10)\n",
      "Requirement already satisfied: urllib3<3,>=1.21.1 in ./envs/spikebias/lib/python3.9/site-packages (from requests[socks]->gdown) (2.4.0)\n",
      "Requirement already satisfied: certifi>=2017.4.17 in ./envs/spikebias/lib/python3.9/site-packages (from requests[socks]->gdown) (2025.4.26)\n",
      "Requirement already satisfied: PySocks!=1.5.7,>=1.5.6 in ./envs/spikebias/lib/python3.9/site-packages (from requests[socks]->gdown) (1.7.1)\n",
      "Downloading gdown-5.2.0-py3-none-any.whl (18 kB)\n",
      "Installing collected packages: gdown\n",
      "Successfully installed gdown-5.2.0\n",
      "Downloading...\n",
      "From (original): https://drive.google.com/uc?id=19_8nLTGT-FyCscBjzp13qbzLjWVQ4aNT\n",
      "From (redirected): https://drive.google.com/uc?id=19_8nLTGT-FyCscBjzp13qbzLjWVQ4aNT&confirm=t&uuid=68448871-5e0e-4fed-b2ee-f15f043196a9\n",
      "To: /home/steeve/steeve/epfl/code/spikebias/dataset.zip\n",
      "100%|██████████████████████████████████████| 6.15G/6.15G [08:58<00:00, 11.4MB/s]\n"
     ]
    }
   ],
   "source": [
    "# install google drive api\n",
    "!pip install gdown \n",
    "!gdown \"19_8nLTGT-FyCscBjzp13qbzLjWVQ4aNT\""
   ]
  },
  {
   "cell_type": "code",
   "execution_count": 5,
   "id": "a9bbcd52-f30b-4fa7-ac3b-73b9b643adfb",
   "metadata": {},
   "outputs": [
    {
     "name": "stdout",
     "output_type": "stream",
     "text": [
      "14605it [01:14, 196.13it/s]\n"
     ]
    }
   ],
   "source": [
    "# unzip and overwrite\n",
    "!unzip -o dataset.zip | tqdm > /dev/null"
   ]
  },
  {
   "cell_type": "code",
   "execution_count": 6,
   "id": "8ddbbddc-7cd3-4575-a7aa-12451c81c8dd",
   "metadata": {},
   "outputs": [],
   "source": [
    "!rm -f dataset.zip"
   ]
  },
  {
   "cell_type": "markdown",
   "id": "476337e6-4124-4d5f-ad4b-8247c74e98c2",
   "metadata": {},
   "source": [
    "done"
   ]
  }
 ],
 "metadata": {
  "kernelspec": {
   "display_name": "Python 3",
   "language": "python",
   "name": "python3"
  },
  "language_info": {
   "codemirror_mode": {
    "name": "ipython",
    "version": 3
   },
   "file_extension": ".py",
   "mimetype": "text/x-python",
   "name": "python",
   "nbconvert_exporter": "python",
   "pygments_lexer": "ipython3",
   "version": "3.9.7"
  }
 },
 "nbformat": 4,
 "nbformat_minor": 5
}
