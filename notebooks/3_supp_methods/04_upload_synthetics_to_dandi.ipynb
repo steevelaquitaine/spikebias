{
 "cells": [
  {
   "cell_type": "markdown",
   "id": "15d22b34-dd1f-4f52-9688-8a4b8616e06c",
   "metadata": {
    "editable": true,
    "slideshow": {
     "slide_type": ""
    },
    "tags": []
   },
   "source": [
    "# Upload synthetics to dandi\n",
    "\n",
    "author: laquitainesteeve@gmail.com\n",
    "\n",
    "Execution time: 10 min\n",
    "\n",
    "Special hardware: on CPU, does not require GPU.\n",
    "\n",
    "# Setup \n",
    "\n",
    "Activate demo virtual environment (envs/demo.yml)\n",
    "\n",
    "```bash\n",
    "python -m ipykernel install --user --name demo --display-name \"demo\"\n",
    "```"
   ]
  },
  {
   "cell_type": "code",
   "execution_count": 17,
   "id": "73b8f812-1185-4419-ab2d-5e9879786b06",
   "metadata": {},
   "outputs": [
    {
     "name": "stdout",
     "output_type": "stream",
     "text": [
      "spikeinterface 0.101.2\n",
      "CPU times: user 328 μs, sys: 0 ns, total: 328 μs\n",
      "Wall time: 394 μs\n"
     ]
    }
   ],
   "source": [
    "%%time \n",
    "\n",
    "# import python packages\n",
    "import os\n",
    "import yaml\n",
    "import numpy as np\n",
    "from time import time\n",
    "from dandi.dandiapi import DandiAPIClient\n",
    "import spikeinterface.extractors as se\n",
    "import spikeinterface.sorters as ss\n",
    "import spikeinterface\n",
    "import spikeinterface as si\n",
    "from pynwb.file import NWBFile, Subject\n",
    "from pynwb import NWBHDF5IO\n",
    "import uuid\n",
    "from datetime import datetime\n",
    "from dateutil.tz import tzlocal\n",
    "from neuroconv.tools.spikeinterface import add_recording_to_nwbfile, add_sorting_to_nwbfile\n",
    "print(\"spikeinterface\", spikeinterface.__version__)\n",
    "\n",
    "# setup project\n",
    "proj_path = \"/home/steeve/steeve/epfl/code/spikebias/\"\n",
    "os.chdir(proj_path)\n",
    "\n",
    "from src.nodes.dandi import write_nwb\n",
    "\n",
    "# setup pipeline parameters\n",
    "DANDISET_ID = '001250'\n",
    "\n",
    "# setup nwb files save paths\n",
    "FILE_PATH = os.path.join(proj_path, \"temp/pros_of_details/\")"
   ]
  },
  {
   "cell_type": "markdown",
   "id": "896de44c",
   "metadata": {},
   "source": [
    "## Custom functions"
   ]
  },
  {
   "cell_type": "code",
   "execution_count": 6,
   "id": "17c1d0ef",
   "metadata": {},
   "outputs": [],
   "source": [
    "def upload_recording_and_ground_truth_nwb_to_dandi(dandiset_id: str, subject_path: str, file_path: str):\n",
    "    \"\"\"Upload the recording and ground truth nwb datasets \n",
    "    to dandi archive\n",
    "    \"\"\"\n",
    "\n",
    "    # download a minimal local dandiset with only the .yaml config\n",
    "    os.system(f\"dandi download --download dandiset.yaml --output-dir {file_path} DANDI:{dandiset_id}\")\n",
    "\n",
    "    # go to path of the dandiset\n",
    "    os.chdir(file_path)\n",
    "\n",
    "    # upload\n",
    "    os.system(\n",
    "        f\"\"\"\n",
    "        export DANDI_API_KEY='210e68743286d64e84743bd8980d5771ef82bf4d';\n",
    "        cd {os.path.join(file_path, dandiset_id)};\n",
    "        dandi organize {subject_path} -f dry;\n",
    "        dandi organize {subject_path};    \n",
    "        dandi upload\n",
    "        \"\"\"\n",
    "    )\n",
    "\n",
    "    # delete local dandiset\n",
    "    os.system(f\"rm -rf {os.path.join(file_path, dandiset_id)}\")"
   ]
  },
  {
   "cell_type": "markdown",
   "id": "7e0c9227",
   "metadata": {},
   "source": [
    "## Upload buccino replicate\n",
    "\n",
    "- This replicates Buccino et al., simulation with MEAREC as described in the Spikeinterface paper\n",
    "- Storage: 2.8 GB on dandi\n",
    "- Execution time: 16 min"
   ]
  },
  {
   "cell_type": "code",
   "execution_count": 18,
   "id": "8faf6929",
   "metadata": {},
   "outputs": [
    {
     "name": "stdout",
     "output_type": "stream",
     "text": [
      "2025-08-13 16:21:17,386 - root - write_nwb.py - run - INFO - Ground truth metadata:\n",
      "2025-08-13 16:21:17,387 - root - write_nwb.py - run - INFO - ['z', 'y', 'bursting', 'mtype', 'exp_decay', 'x', 'max_burst_duration', 'max_spikes_per_burst', 'cell_type', 'snr']\n"
     ]
    },
    {
     "name": "stderr",
     "output_type": "stream",
     "text": [
      "/home/steeve/steeve/epfl/code/spikebias/envs/demo/lib/python3.10/site-packages/spikeinterface/core/base.py:1129: UserWarning: Versions are not the same. This might lead to compatibility errors. Using spikeinterface==0.100.5 is recommended\n",
      "  warnings.warn(\n",
      "/home/steeve/steeve/epfl/code/spikebias/envs/demo/lib/python3.10/site-packages/neuroconv/tools/spikeinterface/spikeinterface.py:1054: UserWarning: The 'add_recording' function is deprecated and will be removed after February 2025. \n",
      "Please use 'add_recording_to_nwbfile' instead.\n",
      "  warnings.warn(\n",
      "/home/steeve/steeve/epfl/code/spikebias/envs/demo/lib/python3.10/site-packages/neuroconv/tools/spikeinterface/spikeinterface.py:1676: UserWarning: The 'add_sorting' function is deprecated and will be removed after February 2025. \n",
      "Please use 'add_sorting_to_nwbfile' instead.\n",
      "  warnings.warn(\n"
     ]
    },
    {
     "name": "stdout",
     "output_type": "stream",
     "text": [
      "2025-08-13 16:21:18,047 - root - utils.py - create_if_not_exists - INFO - The following path has been created /home/steeve/steeve/epfl/code/spikebias/temp/pros_of_details/001250/sub-mearec-synthetics-buccino-rep\n",
      "PATH                 SIZE DONE    DONE% CHECKSUM STATUS MESSAGE   \n",
      "001250/dandiset.yaml                             done   updated   \n",
      "Summary:                  0 Bytes                1 done 1 updated \n",
      "                          <0.00%                                  \n"
     ]
    },
    {
     "name": "stderr",
     "output_type": "stream",
     "text": [
      "2025-08-13 16:21:35,234 [    INFO] Logs saved in /home/steeve/.local/state/dandi-cli/log/2025.08.13-14.21.33Z-3459053.log\n",
      "2025-08-13 16:21:36,071 [    INFO] Loading metadata from 1 files\n",
      "2025-08-13 16:21:36,189 [    INFO] Organized 0 out of 1 paths. Visit /home/steeve/steeve/epfl/code/spikebias/temp/pros_of_details/001250/\n",
      "2025-08-13 16:21:36,189 [    INFO] Logs saved in /home/steeve/.local/state/dandi-cli/log/2025.08.13-14.21.35Z-3459077.log\n"
     ]
    },
    {
     "name": "stdout",
     "output_type": "stream",
     "text": [
      "DRY: /home/steeve/steeve/epfl/code/spikebias/temp/pros_of_details/001250/sub-mearec-synthetics-buccino-rep/sub-mearec-synthetics-buccino-rep_ses-buccino_rep.nwb -> sub-mearec-synthetics-buccino-rep/sub-mearec-synthetics-buccino-rep_ecephys.nwb\n"
     ]
    },
    {
     "name": "stderr",
     "output_type": "stream",
     "text": [
      "2025-08-13 16:21:37,068 [    INFO] Loading metadata from 1 files\n",
      "2025-08-13 16:21:37,069 [    INFO] Symlink support autodetected; setting files_mode='symlink'\n",
      "2025-08-13 16:21:37,072 [    INFO] Organized 1 paths. Visit /home/steeve/steeve/epfl/code/spikebias/temp/pros_of_details/001250/\n",
      "2025-08-13 16:21:37,072 [    INFO] Logs saved in /home/steeve/.local/state/dandi-cli/log/2025.08.13-14.21.36Z-3459156.log\n",
      "2025-08-13 16:21:38,629 [    INFO] Found 3 files to consider\n"
     ]
    },
    {
     "name": "stdout",
     "output_type": "stream",
     "text": [
      "PATH                                                                                  SIZE    ERRORS  PROGRESS STATUS                MESSAGE                                                            \n",
      "dandiset.yaml                                                                         5.6 kB                   skipped               should be edited online                                            \n",
      "sub-mearec-synthetics-buccino-rep/sub-mearec-synthetics-buccino-rep_ecephys.nwb       29.5 GB   0         100% done                  exists (older) - reuploading                                       \n",
      "...earec-synthetics-buccino-rep/sub-mearec-synthetics-buccino-rep_ses-buccino_rep.nwb 29.5 GB   0         100% ERROR                 Error 409 while sending POST request to https://api.dandiarchive...\n",
      "Summary:                                                                              59.1 GB        60.3 MB/s 1 skipped             1 should be edited online                                          \n",
      "                                                                                                               1 done                1 exists (older) - reuploading                                     \n",
      "                                                                                                               1 ERROR               1 Error some while sending POST request to https://api.dandiarch...\n"
     ]
    },
    {
     "name": "stderr",
     "output_type": "stream",
     "text": [
      "2025-08-13 16:37:58,961 [    INFO] Logs saved in /home/steeve/.local/state/dandi-cli/log/2025.08.13-14.21.37Z-3459237.log\n",
      "Error: Error 409 while sending POST request to https://api.dandiarchive.org/api/uploads/26d2f3d1-baf4-4dd7-9322-0625e727c9bb/validate/: \"An identical blob has already been uploaded.\"\n"
     ]
    },
    {
     "name": "stdout",
     "output_type": "stream",
     "text": [
      "CPU times: user 7.28 s, sys: 8.63 s, total: 15.9 s\n",
      "Wall time: 16min 43s\n"
     ]
    }
   ],
   "source": [
    "%%time \n",
    "\n",
    "# setup parameters\n",
    "SUBJECT_ID = \"mearec-synthetics-buccino-rep\"\n",
    "SESSION_ID = 'buccino_rep'\n",
    "SESSION_DESCRIPTION = 'Replication of Buccino synthetic model'        \n",
    "RECORDING_PATH = 'dataset/00_raw/recording_buccino_rep/'\n",
    "GROUND_TRUTH_PATH = 'dataset/00_raw/ground_truth_buccino_rep/'\n",
    "SUBJECT_PATH = os.path.join(FILE_PATH, f\"{DANDISET_ID}/sub-{SUBJECT_ID}/\")\n",
    "NWB_FILE_PATH = os.path.join(SUBJECT_PATH, f\"sub-{SUBJECT_ID}_ses-{SESSION_ID}.nwb\")\n",
    "PARAMS = {\n",
    "    \"subject_id\": SUBJECT_ID,\n",
    "    \"session_description\": SESSION_DESCRIPTION,\n",
    "    \"identifier\": str(uuid.uuid4()),\n",
    "    \"session_start_time\": datetime.now(tzlocal()),\n",
    "    \"experimenter\": \"Laquitaine Steeve\",\n",
    "    \"lab\": \"Blue Brain Project\",\n",
    "    \"institution\": \"EPFL\",\n",
    "    \"experiment_description\": SESSION_DESCRIPTION,\n",
    "    \"session_id\": SESSION_ID,\n",
    "    \"related_publications\": \"doi:\"\n",
    "    }\n",
    "\n",
    "# load extractors\n",
    "RecordingS1 = si.load_extractor(RECORDING_PATH)\n",
    "SortingGtS1 = si.load_extractor(GROUND_TRUTH_PATH)\n",
    "    \n",
    "# write as nwb\n",
    "write_nwb.run(RECORDING_PATH, GROUND_TRUTH_PATH, NWB_FILE_PATH, PARAMS)\n",
    "\n",
    "# upload\n",
    "upload_recording_and_ground_truth_nwb_to_dandi(DANDISET_ID, SUBJECT_PATH, FILE_PATH)"
   ]
  },
  {
   "cell_type": "markdown",
   "id": "d9a2bd35",
   "metadata": {},
   "source": [
    "### Upload S2\n",
    "\n",
    "- Cell density and count matched to biophy-model (validated on in-vivo)\n",
    "- storage: 25 GB on dandi\n",
    "- Execution time: 9m"
   ]
  },
  {
   "cell_type": "code",
   "execution_count": 16,
   "id": "a538b224",
   "metadata": {},
   "outputs": [
    {
     "name": "stdout",
     "output_type": "stream",
     "text": [
      "2025-08-13 15:40:28,633 - root - write_nwb.py - run - INFO - Ground truth metadata:\n",
      "2025-08-13 15:40:28,633 - root - write_nwb.py - run - INFO - ['z', 'y', 'bursting', 'mtype', 'exp_decay', 'x', 'max_burst_duration', 'max_spikes_per_burst', 'cell_type', 'snr']\n"
     ]
    },
    {
     "name": "stderr",
     "output_type": "stream",
     "text": [
      "/home/steeve/steeve/epfl/code/spikebias/envs/demo/lib/python3.10/site-packages/spikeinterface/core/base.py:1129: UserWarning: Versions are not the same. This might lead to compatibility errors. Using spikeinterface==0.100.5 is recommended\n",
      "  warnings.warn(\n",
      "/home/steeve/steeve/epfl/code/spikebias/envs/demo/lib/python3.10/site-packages/neuroconv/tools/spikeinterface/spikeinterface.py:1054: UserWarning: The 'add_recording' function is deprecated and will be removed after February 2025. \n",
      "Please use 'add_recording_to_nwbfile' instead.\n",
      "  warnings.warn(\n",
      "/home/steeve/steeve/epfl/code/spikebias/envs/demo/lib/python3.10/site-packages/neuroconv/tools/spikeinterface/spikeinterface.py:1676: UserWarning: The 'add_sorting' function is deprecated and will be removed after February 2025. \n",
      "Please use 'add_sorting_to_nwbfile' instead.\n",
      "  warnings.warn(\n"
     ]
    },
    {
     "name": "stdout",
     "output_type": "stream",
     "text": [
      "2025-08-13 15:40:40,339 - root - utils.py - create_if_not_exists - INFO - The following path has been created /home/steeve/steeve/epfl/code/spikebias/temp/pros_of_details/001250/sub-mearec-synthetics-s2\n"
     ]
    },
    {
     "name": "stderr",
     "output_type": "stream",
     "text": [
      "2025-08-13 15:41:00,648 [    INFO] Logs saved in /home/steeve/.local/state/dandi-cli/log/2025.08.13-13.40.58Z-3429200.log\n"
     ]
    },
    {
     "name": "stdout",
     "output_type": "stream",
     "text": [
      "PATH                 SIZE DONE    DONE% CHECKSUM STATUS MESSAGE   \n",
      "001250/dandiset.yaml                             done   updated   \n",
      "Summary:                  0 Bytes                1 done 1 updated \n",
      "                          <0.00%                                  \n"
     ]
    },
    {
     "name": "stderr",
     "output_type": "stream",
     "text": [
      "2025-08-13 15:41:01,451 [    INFO] Loading metadata from 1 files\n",
      "2025-08-13 15:41:01,566 [    INFO] Organized 0 out of 1 paths. Visit /home/steeve/steeve/epfl/code/spikebias/temp/pros_of_details/001250/\n",
      "2025-08-13 15:41:01,566 [    INFO] Logs saved in /home/steeve/.local/state/dandi-cli/log/2025.08.13-13.41.00Z-3429224.log\n"
     ]
    },
    {
     "name": "stdout",
     "output_type": "stream",
     "text": [
      "DRY: /home/steeve/steeve/epfl/code/spikebias/temp/pros_of_details/001250/sub-mearec-synthetics-s2/sub-mearec-synthetics-s2_ses-s2_cell_density_and_count.nwb -> sub-mearec-synthetics-s2/sub-mearec-synthetics-s2_ecephys.nwb\n"
     ]
    },
    {
     "name": "stderr",
     "output_type": "stream",
     "text": [
      "2025-08-13 15:41:02,433 [    INFO] Loading metadata from 1 files\n",
      "2025-08-13 15:41:02,434 [    INFO] Symlink support autodetected; setting files_mode='symlink'\n",
      "2025-08-13 15:41:02,437 [    INFO] Organized 1 paths. Visit /home/steeve/steeve/epfl/code/spikebias/temp/pros_of_details/001250/\n",
      "2025-08-13 15:41:02,437 [    INFO] Logs saved in /home/steeve/.local/state/dandi-cli/log/2025.08.13-13.41.01Z-3429293.log\n",
      "2025-08-13 15:41:04,026 [    INFO] Found 3 files to consider\n"
     ]
    },
    {
     "name": "stdout",
     "output_type": "stream",
     "text": [
      "PATH                                                                                SIZE       ERRORS      PROGRESS STATUS                MESSAGE                  \n",
      "dandiset.yaml                                                                       5.6 kB                          skipped               should be edited online  \n",
      "sub-mearec-synthetics-s2/sub-mearec-synthetics-s2_ecephys.nwb                       29.6 GB       0            100% done                                           \n",
      "sub-mearec-synthetics-s2/sub-mearec-synthetics-s2_ses-s2_cell_density_and_count.nwb 29.6 GB       1                 ERROR                 failed validation        \n",
      "Summary:                                                                            59.1 GB 1 with errors 56.8 MB/s 1 skipped             1 should be edited online\n",
      "                                                                                                                    1 done                1 failed validation      \n",
      "                                                                                                                    1 ERROR                                        \n"
     ]
    },
    {
     "name": "stderr",
     "output_type": "stream",
     "text": [
      "2025-08-13 15:49:44,165 [ WARNING] One or more assets failed validation.  Consult the logfile for details.\n",
      "2025-08-13 15:49:44,365 [    INFO] Logs saved in /home/steeve/.local/state/dandi-cli/log/2025.08.13-13.41.02Z-3429372.log\n",
      "Error: failed validation\n"
     ]
    },
    {
     "name": "stdout",
     "output_type": "stream",
     "text": [
      "CPU times: user 21.9 s, sys: 8.17 s, total: 30.1 s\n",
      "Wall time: 9min 17s\n"
     ]
    }
   ],
   "source": [
    "%%time \n",
    "\n",
    "# setup parameters\n",
    "SUBJECT_ID = \"mearec-synthetics-s2\"\n",
    "SESSION_ID = 's2_cell_density_and_count'\n",
    "SESSION_DESCRIPTION = 'Simulation of buccino with in-vivo cell density and count'        \n",
    "RECORDING_PATH = 'dataset/00_raw/recording_synth2/'\n",
    "GROUND_TRUTH_PATH = 'dataset/00_raw/ground_truth_synth2/'\n",
    "SUBJECT_PATH = os.path.join(FILE_PATH, f\"{DANDISET_ID}/sub-{SUBJECT_ID}/\")\n",
    "NWB_FILE_PATH = os.path.join(SUBJECT_PATH, f\"sub-{SUBJECT_ID}_ses-{SESSION_ID}.nwb\")\n",
    "PARAMS = {\n",
    "    \"subject_id\": SUBJECT_ID,\n",
    "    \"session_description\": SESSION_DESCRIPTION,\n",
    "    \"identifier\": str(uuid.uuid4()),\n",
    "    \"session_start_time\": datetime.now(tzlocal()),\n",
    "    \"experimenter\": \"Laquitaine Steeve\",\n",
    "    \"lab\": \"Blue Brain Project\",\n",
    "    \"institution\": \"EPFL\",\n",
    "    \"experiment_description\": SESSION_DESCRIPTION,\n",
    "    \"session_id\": SESSION_ID,\n",
    "    \"related_publications\": \"doi:\"\n",
    "    }\n",
    "\n",
    "# load extractors\n",
    "RecordingS1 = si.load_extractor(RECORDING_PATH)\n",
    "SortingGtS1 = si.load_extractor(GROUND_TRUTH_PATH)\n",
    "    \n",
    "# write as nwb\n",
    "write_nwb.run(RECORDING_PATH, GROUND_TRUTH_PATH, NWB_FILE_PATH, PARAMS)\n",
    "\n",
    "# upload\n",
    "upload_recording_and_ground_truth_nwb_to_dandi(DANDISET_ID, SUBJECT_PATH, FILE_PATH)"
   ]
  },
  {
   "cell_type": "code",
   "execution_count": null,
   "id": "7c9d2fa3",
   "metadata": {},
   "outputs": [
    {
     "name": "stderr",
     "output_type": "stream",
     "text": [
      "/home/steeve/steeve/epfl/code/spikebias/envs/demo/lib/python3.10/site-packages/spikeinterface/core/base.py:1129: UserWarning: Versions are not the same. This might lead to compatibility errors. Using spikeinterface==0.100.5 is recommended\n",
      "  warnings.warn(\n"
     ]
    }
   ],
   "source": [
    "# def standardize_metadata(GroundTruth):\n",
    "#     \"\"\"standardize ground truth extractor metadata\n",
    "#     from mearec simulatio\n",
    "\n",
    "#     Args:\n",
    "#         GroundTruth (_type_): _description_\n",
    "\n",
    "#     Returns:\n",
    "#         _type_: _description_\n",
    "#     \"\"\"\n",
    "#     GroundTruth.set_property('x', GroundTruth.get_property('soma_position')[:,0])\n",
    "#     GroundTruth.set_property('y', GroundTruth.get_property('soma_position')[:,1])\n",
    "#     GroundTruth.set_property('z', GroundTruth.get_property('soma_position')[:,2])\n",
    "#     GroundTruth.delete_property('soma_position')\n",
    "\n",
    "#     GroundTruth.set_property('bursting', GroundTruth.get_property('bursting').astype(int))\n",
    "#     GroundTruth.set_property('exp_decay', GroundTruth.get_property('exp_decay').astype(str))\n",
    "#     GroundTruth.set_property('max_burst_duration', GroundTruth.get_property('max_burst_duration').astype(str))\n",
    "#     GroundTruth.set_property('max_spikes_per_burst', GroundTruth.get_property('max_spikes_per_burst').astype(str))\n",
    "#     return GroundTruth\n",
    "\n",
    "# GROUND_TRUTH_PATH = 'dataset/00_raw/ground_truth_synth2/'\n",
    "\n",
    "# SortingS2 = si.load_extractor(GROUND_TRUTH_PATH)\n",
    "\n",
    "# SortingS2 = standardize_metadata(SortingS2)\n",
    "\n",
    "# SortingS2.save(folder=GROUND_TRUTH_PATH, overwrite=True)"
   ]
  }
 ],
 "metadata": {
  "kernelspec": {
   "display_name": "Python 3",
   "language": "python",
   "name": "python3"
  },
  "language_info": {
   "codemirror_mode": {
    "name": "ipython",
    "version": 3
   },
   "file_extension": ".py",
   "mimetype": "text/x-python",
   "name": "python",
   "nbconvert_exporter": "python",
   "pygments_lexer": "ipython3",
   "version": "3.10.8"
  }
 },
 "nbformat": 4,
 "nbformat_minor": 5
}
