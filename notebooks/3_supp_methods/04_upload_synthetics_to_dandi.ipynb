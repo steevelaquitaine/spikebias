{
 "cells": [
  {
   "cell_type": "markdown",
   "id": "15d22b34-dd1f-4f52-9688-8a4b8616e06c",
   "metadata": {
    "editable": true,
    "slideshow": {
     "slide_type": ""
    },
    "tags": []
   },
   "source": [
    "# Upload synthetics to dandi\n",
    "\n",
    "author: laquitainesteeve@gmail.com\n",
    "\n",
    "Execution time: 10 min\n",
    "\n",
    "Special hardware: on CPU, does not require GPU.\n",
    "\n",
    "# Setup \n",
    "\n",
    "Activate demo virtual environment (envs/demo.yml)\n",
    "\n",
    "```bash\n",
    "python -m ipykernel install --user --name demo --display-name \"demo\"\n",
    "```"
   ]
  },
  {
   "cell_type": "code",
   "execution_count": 14,
   "id": "73b8f812-1185-4419-ab2d-5e9879786b06",
   "metadata": {},
   "outputs": [
    {
     "name": "stdout",
     "output_type": "stream",
     "text": [
      "spikeinterface 0.101.2\n",
      "CPU times: user 535 μs, sys: 0 ns, total: 535 μs\n",
      "Wall time: 898 μs\n"
     ]
    }
   ],
   "source": [
    "%%time \n",
    "\n",
    "# import python packages\n",
    "import os\n",
    "import yaml\n",
    "import numpy as np\n",
    "from time import time\n",
    "from dandi.dandiapi import DandiAPIClient\n",
    "import spikeinterface.extractors as se\n",
    "import spikeinterface.sorters as ss\n",
    "import spikeinterface\n",
    "import spikeinterface as si\n",
    "from pynwb.file import NWBFile, Subject\n",
    "from pynwb import NWBHDF5IO\n",
    "import uuid\n",
    "from datetime import datetime\n",
    "from dateutil.tz import tzlocal\n",
    "from neuroconv.tools.spikeinterface import add_recording_to_nwbfile, add_sorting_to_nwbfile\n",
    "print(\"spikeinterface\", spikeinterface.__version__)\n",
    "\n",
    "# setup project\n",
    "proj_path = \"/home/steeve/steeve/epfl/code/spikebias/\"\n",
    "os.chdir(proj_path)\n",
    "\n",
    "from src.nodes.dandi import write_nwb\n",
    "\n",
    "# setup pipeline parameters\n",
    "DANDISET_ID = '001250'\n",
    "\n",
    "# setup nwb files save paths\n",
    "FILE_PATH = os.path.join(proj_path, \"temp/pros_of_details/\")\n"
   ]
  },
  {
   "cell_type": "markdown",
   "id": "7e0c9227",
   "metadata": {},
   "source": [
    "## Upload buccino replicate"
   ]
  },
  {
   "cell_type": "code",
   "execution_count": 15,
   "id": "8faf6929",
   "metadata": {},
   "outputs": [
    {
     "name": "stdout",
     "output_type": "stream",
     "text": [
      "2025-08-13 14:42:25,054 - root - write_nwb.py - run - INFO - Ground truth metadata:\n",
      "2025-08-13 14:42:25,055 - root - write_nwb.py - run - INFO - ['z', 'y', 'bursting', 'mtype', 'exp_decay', 'x', 'max_burst_duration', 'max_spikes_per_burst', 'cell_type', 'snr']\n"
     ]
    },
    {
     "name": "stderr",
     "output_type": "stream",
     "text": [
      "/home/steeve/steeve/epfl/code/spikebias/envs/demo/lib/python3.10/site-packages/spikeinterface/core/base.py:1129: UserWarning: Versions are not the same. This might lead to compatibility errors. Using spikeinterface==0.100.5 is recommended\n",
      "  warnings.warn(\n",
      "/home/steeve/steeve/epfl/code/spikebias/envs/demo/lib/python3.10/site-packages/neuroconv/tools/spikeinterface/spikeinterface.py:1054: UserWarning: The 'add_recording' function is deprecated and will be removed after February 2025. \n",
      "Please use 'add_recording_to_nwbfile' instead.\n",
      "  warnings.warn(\n",
      "/home/steeve/steeve/epfl/code/spikebias/envs/demo/lib/python3.10/site-packages/neuroconv/tools/spikeinterface/spikeinterface.py:1676: UserWarning: The 'add_sorting' function is deprecated and will be removed after February 2025. \n",
      "Please use 'add_sorting_to_nwbfile' instead.\n",
      "  warnings.warn(\n"
     ]
    },
    {
     "name": "stdout",
     "output_type": "stream",
     "text": [
      "2025-08-13 14:42:25,324 - root - utils.py - create_if_not_exists - INFO - The following path has been created /home/steeve/steeve/epfl/code/spikebias/temp/pros_of_details/001250/sub-mearec-synthetics\n",
      "PATH                 SIZE DONE    DONE% CHECKSUM STATUS MESSAGE   \n",
      "001250/dandiset.yaml                             done   updated   \n",
      "Summary:                  0 Bytes                1 done 1 updated \n",
      "                          <0.00%                                  \n"
     ]
    },
    {
     "name": "stderr",
     "output_type": "stream",
     "text": [
      "2025-08-13 14:42:27,998 [    INFO] Logs saved in /home/steeve/.local/state/dandi-cli/log/2025.08.13-12.42.27Z-3389758.log\n",
      "2025-08-13 14:42:28,792 [    INFO] Loading metadata from 1 files\n",
      "2025-08-13 14:42:28,911 [    INFO] Organized 0 out of 1 paths. Visit /home/steeve/steeve/epfl/code/spikebias/temp/pros_of_details/001250/\n",
      "2025-08-13 14:42:28,911 [    INFO] Logs saved in /home/steeve/.local/state/dandi-cli/log/2025.08.13-12.42.28Z-3389768.log\n"
     ]
    },
    {
     "name": "stdout",
     "output_type": "stream",
     "text": [
      "DRY: /home/steeve/steeve/epfl/code/spikebias/temp/pros_of_details/001250/sub-mearec-synthetics/sub-mearec-synthetics_ses-buccino_replicate.nwb -> sub-mearec-synthetics/sub-mearec-synthetics_ecephys.nwb\n"
     ]
    },
    {
     "name": "stderr",
     "output_type": "stream",
     "text": [
      "2025-08-13 14:42:29,751 [    INFO] Loading metadata from 1 files\n",
      "2025-08-13 14:42:29,753 [    INFO] Symlink support autodetected; setting files_mode='symlink'\n",
      "2025-08-13 14:42:29,756 [    INFO] Organized 1 paths. Visit /home/steeve/steeve/epfl/code/spikebias/temp/pros_of_details/001250/\n",
      "2025-08-13 14:42:29,756 [    INFO] Logs saved in /home/steeve/.local/state/dandi-cli/log/2025.08.13-12.42.29Z-3389847.log\n",
      "2025-08-13 14:42:31,342 [    INFO] Found 3 files to consider\n"
     ]
    },
    {
     "name": "stdout",
     "output_type": "stream",
     "text": [
      "PATH                                                                  SIZE    ERRORS  PROGRESS STATUS                MESSAGE                                                                            \n",
      "dandiset.yaml                                                         5.6 kB                   skipped               should be edited online                                                            \n",
      "sub-mearec-synthetics/sub-mearec-synthetics_ecephys.nwb               3.0 GB    0         100% done                                                                                                     \n",
      "sub-mearec-synthetics/sub-mearec-synthetics_ses-buccino_replicate.nwb 3.0 GB    0         100% ERROR                 Error 409 while sending POST request to https://api.dandiarchive.org/api/uploads...\n",
      "Summary:                                                              6.0 GB         16.8 MB/s 1 skipped             1 should be edited online                                                          \n",
      "                                                                                               1 done                1 Error some while sending POST request to https://api.dandiarchive.org/api/uplo...\n",
      "                                                                                               1 ERROR                                                                                                  \n"
     ]
    },
    {
     "name": "stderr",
     "output_type": "stream",
     "text": [
      "2025-08-13 14:48:29,258 [    INFO] Logs saved in /home/steeve/.local/state/dandi-cli/log/2025.08.13-12.42.30Z-3389920.log\n",
      "Error: Error 409 while sending POST request to https://api.dandiarchive.org/api/uploads/26e47b78-fe37-43a0-bd34-4862cc2812ef/validate/: \"An identical blob has already been uploaded.\"\n"
     ]
    },
    {
     "name": "stdout",
     "output_type": "stream",
     "text": [
      "CPU times: user 1.01 s, sys: 822 ms, total: 1.83 s\n",
      "Wall time: 6min 4s\n"
     ]
    },
    {
     "data": {
      "text/plain": [
       "0"
      ]
     },
     "execution_count": 15,
     "metadata": {},
     "output_type": "execute_result"
    }
   ],
   "source": [
    "%%time \n",
    "\n",
    "# setup parameters\n",
    "SUBJECT_ID = \"mearec-synthetics\"\n",
    "SESSION_ID = 'buccino_replicate'\n",
    "SESSION_DESCRIPTION = 'Replication of Buccino synthetic model'        \n",
    "RECORDING_PATH = 'dataset/00_raw/recording_buccino_rep/'\n",
    "GROUND_TRUTH_PATH = 'dataset/00_raw/ground_truth_buccino_rep/'\n",
    "SUBJECT_PATH = os.path.join(FILE_PATH, f\"{DANDISET_ID}/sub-{SUBJECT_ID}/\")\n",
    "NWB_FILE_PATH = os.path.join(SUBJECT_PATH, f\"sub-{SUBJECT_ID}_ses-{SESSION_ID}.nwb\")\n",
    "PARAMS = {\n",
    "    \"subject_id\": SUBJECT_ID,\n",
    "    \"session_description\": SESSION_DESCRIPTION,\n",
    "    \"identifier\": str(uuid.uuid4()),\n",
    "    \"session_start_time\": datetime.now(tzlocal()),\n",
    "    \"experimenter\": \"Laquitaine Steeve\",\n",
    "    \"lab\": \"Blue Brain Project\",\n",
    "    \"institution\": \"EPFL\",\n",
    "    \"experiment_description\": SESSION_DESCRIPTION,\n",
    "    \"session_id\": SESSION_ID,\n",
    "    \"related_publications\": \"doi:\"\n",
    "    }\n",
    "\n",
    "# load extractors\n",
    "RecordingS1 = si.load_extractor(RECORDING_PATH)\n",
    "SortingGtS1 = si.load_extractor(GROUND_TRUTH_PATH)\n",
    "    \n",
    "# write as nwb\n",
    "write_nwb.run(RECORDING_PATH, GROUND_TRUTH_PATH, NWB_FILE_PATH, PARAMS)\n",
    "\n",
    "# download a minimal local dandiset with only the .yaml config\n",
    "os.system(f\"dandi download --download dandiset.yaml --output-dir {FILE_PATH} DANDI:001250\")\n",
    "\n",
    "# go to path of the dandiset\n",
    "os.chdir(FILE_PATH)\n",
    "\n",
    "# upload\n",
    "os.system(\n",
    "    f\"\"\"\n",
    "    export DANDI_API_KEY='210e68743286d64e84743bd8980d5771ef82bf4d';\n",
    "    cd {os.path.join(FILE_PATH, DANDISET_ID)};\n",
    "    dandi organize {SUBJECT_PATH} -f dry;\n",
    "    dandi organize {SUBJECT_PATH};    \n",
    "    dandi upload\n",
    "    \"\"\"\n",
    ")\n",
    "\n",
    "# delete local dandiset\n",
    "os.system(f\"rm -rf {os.path.join(FILE_PATH, DANDISET_ID)}\")"
   ]
  }
 ],
 "metadata": {
  "kernelspec": {
   "display_name": "Python 3",
   "language": "python",
   "name": "python3"
  },
  "language_info": {
   "codemirror_mode": {
    "name": "ipython",
    "version": 3
   },
   "file_extension": ".py",
   "mimetype": "text/x-python",
   "name": "python",
   "nbconvert_exporter": "python",
   "pygments_lexer": "ipython3",
   "version": "3.10.8"
  }
 },
 "nbformat": 4,
 "nbformat_minor": 5
}
