{
 "cells": [
  {
   "cell_type": "markdown",
   "metadata": {},
   "source": [
    "# Sorted stimulus traces"
   ]
  },
  {
   "cell_type": "code",
   "execution_count": 9,
   "metadata": {},
   "outputs": [
    {
     "name": "stdout",
     "output_type": "stream",
     "text": [
      "[(array([     129,      148,      402, ..., 72359478, 72359769, 72359877]), array([1646,  944, 1789, ..., 1530, 1763, 1731]))]\n",
      "[   0    1    2 ... 2620 2621 2622]\n",
      "[(array([      96,      123,      124, ..., 72359891, 72359934, 72359949]), array([1808832, 3463535, 3712631, ..., 3449699, 4120383, 4052758]))]\n",
      "[   0    1    2 ... 2620 2621 2622]\n"
     ]
    }
   ],
   "source": [
    "# spikeinterface 0.96.1\n",
    "import spikeinterface as si\n",
    "\n",
    "# sorting\n",
    "SORTING_PATH = \"/gpfs/bbp.cscs.ch/project/proj85/laquitai/spikebias_paper/sorting/0_silico/4_spikesorting_stimulus_test_neuropixels_8-1-24__8slc_80f_360r_50t_200ms_1_smallest_fiber_gids/0fcb7709-b1e9-4d84-b056-5801f20d55af/SortingKS3/\"\n",
    "Sorting = si.load_extractor(SORTING_PATH)\n",
    "print(Sorting.get_all_spike_trains())\n",
    "print(Sorting.get_unit_ids())\n",
    "\n",
    "# ground truth\n",
    "TRUTH_PATH = \"/gpfs/bbp.cscs.ch/project/proj85/laquitai/spikebias_paper/sorting/0_silico/4_spikesorting_stimulus_test_neuropixels_8-1-24__8slc_80f_360r_50t_200ms_1_smallest_fiber_gids/0fcb7709-b1e9-4d84-b056-5801f20d55af/campaign/true_spikes\"\n",
    "SortingTrue = si.load_extractor(TRUTH_PATH)\n",
    "print(SortingTrue.get_all_spike_trains())\n",
    "print(Sorting.get_unit_ids())"
   ]
  }
 ],
 "metadata": {
  "kernelspec": {
   "display_name": "npx_10m_384ch_unit_classes",
   "language": "python",
   "name": "python3"
  },
  "language_info": {
   "codemirror_mode": {
    "name": "ipython",
    "version": 3
   },
   "file_extension": ".py",
   "mimetype": "text/x-python",
   "name": "python",
   "nbconvert_exporter": "python",
   "pygments_lexer": "ipython3",
   "version": "3.9.7"
  }
 },
 "nbformat": 4,
 "nbformat_minor": 2
}
