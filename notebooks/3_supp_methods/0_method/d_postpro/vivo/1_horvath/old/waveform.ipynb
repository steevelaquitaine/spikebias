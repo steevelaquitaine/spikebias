{
 "cells": [
  {
   "cell_type": "markdown",
   "metadata": {},
   "source": [
    "# Extract and save waveforms\n",
    "\n",
    "author: steeve.laquitaine@epfl.ch  \n",
    "date: 19.10.2023   \n",
    "updated: 20.10.2023  "
   ]
  },
  {
   "cell_type": "markdown",
   "metadata": {},
   "source": [
    "### Setup\n",
    "\n",
    "Activate `npx10m_384ch...`"
   ]
  },
  {
   "cell_type": "code",
   "execution_count": 1,
   "metadata": {},
   "outputs": [
    {
     "name": "stdout",
     "output_type": "stream",
     "text": [
      "2023-10-20 10:42:49,818 - root - utils.py - get_config - INFO - Reading experiment config.\n",
      "2023-10-20 10:42:49,914 - root - utils.py - get_config - INFO - Reading experiment config. - done\n",
      "2023-10-20 10:42:49,916 - root - utils.py - get_config - INFO - Reading experiment config.\n",
      "2023-10-20 10:42:49,925 - root - utils.py - get_config - INFO - Reading experiment config. - done\n",
      "2023-10-20 10:42:49,926 - root - utils.py - get_config - INFO - Reading experiment config.\n",
      "2023-10-20 10:42:49,935 - root - utils.py - get_config - INFO - Reading experiment config. - done\n"
     ]
    }
   ],
   "source": [
    "# import libs\n",
    "%load_ext autoreload\n",
    "%autoreload 2\n",
    "\n",
    "import os\n",
    "import spikeinterface as si\n",
    "\n",
    "# move to PROJECT PATH\n",
    "PROJ_PATH = \"/gpfs/bbp.cscs.ch/project/proj68/home/laquitai/sfn_2023/\"\n",
    "os.chdir(PROJ_PATH)\n",
    "from src.nodes.utils import get_config\n",
    "from src.nodes.postpro import waveform\n",
    "from src.nodes.prepro import preprocess\n",
    "from spikeinterface.comparison import GroundTruthStudy\n",
    "import spikeinterface.postprocessing as spost\n",
    "\n",
    "# get experiment config\n",
    "EXPERIMENT = \"vivo_horvath\"   \n",
    "\n",
    "# depth 1\n",
    "SIMULATION_DATE = \"2021_file_1\"\n",
    "data_conf_horvath_1, _ = get_config(EXPERIMENT, SIMULATION_DATE).values()\n",
    "STUDY_FOLDER_1 = data_conf_horvath_1[\"postprocessing\"][\"waveform\"][\"study\"]\n",
    "REC_FOLDER_1 = data_conf_horvath_1[\"preprocessing\"][\"output\"][\"trace_file_path\"]\n",
    "SORTED_PATH_HORVATH_1 = data_conf_horvath_1[\"sorting\"][\"sorters\"][\"kilosort3\"][\"output\"]\n",
    "\n",
    "# depth 2\n",
    "SIMULATION_DATE = \"2021_file_2\"\n",
    "data_conf_horvath_2, _ = get_config(EXPERIMENT, SIMULATION_DATE).values()\n",
    "STUDY_FOLDER_2 = data_conf_horvath_2[\"postprocessing\"][\"waveform\"][\"study\"]\n",
    "REC_FOLDER_2 = data_conf_horvath_2[\"preprocessing\"][\"output\"][\"trace_file_path\"]\n",
    "SORTED_PATH_HORVATH_2 = data_conf_horvath_2[\"sorting\"][\"sorters\"][\"kilosort3\"][\"output\"]\n",
    "\n",
    "# depth 3\n",
    "SIMULATION_DATE = \"2021_file_3\"\n",
    "data_conf_horvath_3, _ = get_config(EXPERIMENT, SIMULATION_DATE).values()\n",
    "STUDY_FOLDER_3 = data_conf_horvath_3[\"postprocessing\"][\"waveform\"][\"study\"]\n",
    "REC_FOLDER_3 = data_conf_horvath_3[\"preprocessing\"][\"output\"][\"trace_file_path\"]\n",
    "SORTED_PATH_HORVATH_3 = data_conf_horvath_3[\"sorting\"][\"sorters\"][\"kilosort3\"][\"output\"]\n",
    "\n",
    "MS_BEFORE = 3\n",
    "MS_AFTER = 3"
   ]
  },
  {
   "cell_type": "markdown",
   "metadata": {},
   "source": [
    "### Compute WaveformExtractor (on cluster)\n",
    "\n",
    "```bash\n",
    "sbatch cluster/postpro/extract_waveform_horvath_1.sbatch\n",
    "sbatch cluster/postpro/extract_waveform_horvath_2.sbatch\n",
    "sbatch cluster/postpro/extract_waveform_horvath_3.sbatch\n",
    "```"
   ]
  },
  {
   "cell_type": "markdown",
   "metadata": {},
   "source": [
    "### Load WaveformExtractor"
   ]
  },
  {
   "cell_type": "code",
   "execution_count": 3,
   "metadata": {},
   "outputs": [
    {
     "name": "stdout",
     "output_type": "stream",
     "text": [
      "WaveformExtractor: 128 channels - 265 units - 1 segments\n",
      "  before:60 after:60 n_per_units:500\n",
      "WaveformExtractor: 128 channels - 182 units - 1 segments\n",
      "  before:60 after:60 n_per_units:500\n",
      "WaveformExtractor: 128 channels - 287 units - 1 segments\n",
      "  before:60 after:60 n_per_units:500\n"
     ]
    }
   ],
   "source": [
    "# load \n",
    "recording = si.load_extractor(REC_FOLDER_1)\n",
    "we_1 = waveform.load(recording, STUDY_FOLDER_1, ms_before=3, ms_after=3)\n",
    "print(we_1)\n",
    "\n",
    "# load \n",
    "recording = si.load_extractor(REC_FOLDER_2)\n",
    "we_2 = waveform.load(recording, STUDY_FOLDER_2, ms_before=3, ms_after=3)\n",
    "print(we_2)\n",
    "\n",
    "# load \n",
    "recording = si.load_extractor(REC_FOLDER_3)\n",
    "we_3 = waveform.load(recording, STUDY_FOLDER_3, ms_before=3, ms_after=3)\n",
    "print(we_3)"
   ]
  },
  {
   "cell_type": "markdown",
   "metadata": {},
   "source": [
    "done"
   ]
  }
 ],
 "metadata": {
  "kernelspec": {
   "display_name": "npx_10m_384ch_unit_classes",
   "language": "python",
   "name": "python3"
  },
  "language_info": {
   "codemirror_mode": {
    "name": "ipython",
    "version": 3
   },
   "file_extension": ".py",
   "mimetype": "text/x-python",
   "name": "python",
   "nbconvert_exporter": "python",
   "pygments_lexer": "ipython3",
   "version": "3.9.7"
  },
  "orig_nbformat": 4
 },
 "nbformat": 4,
 "nbformat_minor": 2
}
