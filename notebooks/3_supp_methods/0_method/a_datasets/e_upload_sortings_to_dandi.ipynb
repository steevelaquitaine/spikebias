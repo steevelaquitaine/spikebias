{
 "cells": [
  {
   "cell_type": "markdown",
   "id": "15d22b34-dd1f-4f52-9688-8a4b8616e06c",
   "metadata": {
    "editable": true,
    "slideshow": {
     "slide_type": ""
    },
    "tags": []
   },
   "source": [
    "# Upload sortings to dandi\n",
    "\n",
    "author: laquitainesteeve@gmail.com\n",
    "\n",
    "Execution time: < 1 min\n",
    "\n",
    "Special hardware: on CPU, does not require GPU.\n",
    "\n",
    "# Setup \n",
    "\n",
    "Activate demo virtual environment (envs/demo.yml)\n",
    "\n",
    "```bash\n",
    "python -m ipykernel install --user --name demo --display-name \"demo\"\n",
    "```"
   ]
  },
  {
   "cell_type": "code",
   "execution_count": null,
   "id": "73b8f812-1185-4419-ab2d-5e9879786b06",
   "metadata": {},
   "outputs": [
    {
     "name": "stderr",
     "output_type": "stream",
     "text": [
      "/home/steeve/steeve/epfl/code/spikebias/envs/demo/lib/python3.10/site-packages/tqdm/auto.py:21: TqdmWarning: IProgress not found. Please update jupyter and ipywidgets. See https://ipywidgets.readthedocs.io/en/stable/user_install.html\n",
      "  from .autonotebook import tqdm as notebook_tqdm\n"
     ]
    },
    {
     "name": "stdout",
     "output_type": "stream",
     "text": [
      "spikeinterface 0.101.2\n",
      "CPU times: user 3.41 s, sys: 1.77 s, total: 5.18 s\n",
      "Wall time: 626 ms\n"
     ]
    }
   ],
   "source": [
    "%%time \n",
    "\n",
    "# import python packages\n",
    "import os\n",
    "import numpy as np\n",
    "from time import time\n",
    "from dandi.dandiapi import DandiAPIClient\n",
    "import spikeinterface.extractors as se\n",
    "import spikeinterface.sorters as ss\n",
    "import spikeinterface\n",
    "import spikeinterface as si\n",
    "from pynwb.file import NWBFile, Subject\n",
    "from pynwb import NWBHDF5IO\n",
    "import uuid\n",
    "from datetime import datetime\n",
    "from dateutil.tz import tzlocal\n",
    "from neuroconv.tools.spikeinterface import add_recording_to_nwbfile, add_sorting_to_nwbfile\n",
    "print(\"spikeinterface\", spikeinterface.__version__)\n",
    "\n",
    "# setup project\n",
    "proj_path = \"/home/steeve/steeve/epfl/code/spikebias/\"\n",
    "os.chdir(proj_path)\n",
    "\n",
    "# setup pipeline parameters\n",
    "dandiset_id = '001250'\n",
    "\n",
    "# setup nwb files save paths\n",
    "nwb_file_path = os.path.join(proj_path, \"tmp/\")\n"
   ]
  },
  {
   "cell_type": "markdown",
   "id": "f00e78cf",
   "metadata": {},
   "source": [
    "## Custom functions"
   ]
  },
  {
   "cell_type": "code",
   "execution_count": 2,
   "id": "5ad1ee0c",
   "metadata": {},
   "outputs": [],
   "source": [
    "def load_sortings(sorting_folders, sorting_path):\n",
    "    \n",
    "    # load sorting extractors\n",
    "    folder_paths = []\n",
    "    sorting_list = []\n",
    "    for folder_i in sorting_folders:\n",
    "        folder_paths = os.path.join(sorting_path, folder_i)\n",
    "        sorting_list.append(si.load_extractor(folder_paths))\n",
    "    \n",
    "    # unit-test\n",
    "    assert len(sorting_list) == len(sorting_folders), \"sorting files are missing\"\n",
    "    return sorting_list\n",
    "\n",
    "\n",
    "def upload_sorting_nwb_to_dandi(sorting_list, dandiset_id, subject_id, nwb_file_path, session_description, experiment_description):\n",
    "    \"\"\"\n",
    "    IMPORTANT! For Dandi 0.69.3, file_path must follow DANDI convention: {/sub-<subject_id>/sub-<subject_id>_ses-<session_id>.nwb}\n",
    "    \"\"\"\n",
    "    # create nwb files save path\n",
    "    subject_path = os.path.join(nwb_file_path, f\"{dandiset_id}/sub-{subject_id}/\")\n",
    "    os.makedirs(subject_path, exist_ok=True)\n",
    "\n",
    "    # loop over SortingExtractor files\n",
    "    for s_ix, sorter_i in enumerate(sorter_name):\n",
    "        \n",
    "        # file path\n",
    "        file_path = os.path.join(subject_path, f\"sub-{subject_id}_ses-{sorter_i}.nwb\")\n",
    "\n",
    "        # add nwb session metadata (child folder)\n",
    "        nwbfile = NWBFile(\n",
    "            session_description=session_description,\n",
    "            identifier=str(uuid.uuid4()),\n",
    "            session_start_time=datetime.now(tzlocal()),\n",
    "            experimenter=\"Laquitaine, Steeve\",\n",
    "            lab=\"Blue Brain Project\",\n",
    "            institution=\"EPFL\",\n",
    "            experiment_description=experiment_description,\n",
    "            session_id=sorter_i,\n",
    "            related_publications=\"https://doi.org/10.1101/2024.12.04.626805\",\n",
    "            keywords=[\"Biophysical simulation\", \"dense extracellular recordings\", \"spike sorting\"]\n",
    "        )\n",
    "\n",
    "        # add subject metadata (parent folder)\n",
    "        nwbfile.subject = Subject(\n",
    "            subject_id = subject_id,\n",
    "            species = \"Rattus norvegicus\",\n",
    "            age = \"P14D\",\n",
    "            sex = \"M\",\n",
    "            description = \"Wistar Rat\",\n",
    "        )\n",
    "\n",
    "        # add SortingExtractor to nwb\n",
    "        add_sorting_to_nwbfile(sorting = sorting_list[s_ix], nwbfile = nwbfile)\n",
    "\n",
    "        # write nwb file locally\n",
    "        with NWBHDF5IO(path=file_path, mode=\"w\") as io:\n",
    "            io.write(nwbfile)\n",
    "\n",
    "        # WARNINg: check file with nwbinspector <source_folder> --config dandi beforehand\n",
    "\n",
    "    # upload nwb to dandiset\n",
    "    os.system(\n",
    "        f\"\"\"\n",
    "        export DANDI_API_KEY='210e68743286d64e84743bd8980d5771ef82bf4d';\n",
    "        cd {dandiset_id};\n",
    "        dandi organize {subject_path} -f dry;\n",
    "        dandi organize {subject_path};    \n",
    "        dandi upload\n",
    "        \"\"\"\n",
    "    )\n",
    "\n",
    "    # delete temporary datasets\n",
    "    os.system(f\"rm -rf {nwb_file_path}\")\n",
    "    os.system(f\"rm -rf {dandiset_id}\")"
   ]
  },
  {
   "cell_type": "markdown",
   "id": "529bda67",
   "metadata": {},
   "source": [
    "## Initialize dandiset"
   ]
  },
  {
   "cell_type": "code",
   "execution_count": 3,
   "id": "26a2626b",
   "metadata": {},
   "outputs": [
    {
     "name": "stdout",
     "output_type": "stream",
     "text": [
      "PATH                 SIZE DONE    DONE% CHECKSUM STATUS MESSAGE   \n",
      "001250/dandiset.yaml                             done   updated   \n",
      "Summary:                  0 Bytes                1 done 1 updated \n",
      "                          <0.00%                                  \n",
      "CPU times: user 79 μs, sys: 1.36 ms, total: 1.44 ms\n",
      "Wall time: 1.7 s\n"
     ]
    },
    {
     "name": "stderr",
     "output_type": "stream",
     "text": [
      "2025-06-16 14:31:54,534 [    INFO] Logs saved in /home/steeve/.local/state/dandi-cli/log/2025.06.16-12.31.53Z-2294576.log\n"
     ]
    },
    {
     "data": {
      "text/plain": [
       "0"
      ]
     },
     "execution_count": 3,
     "metadata": {},
     "output_type": "execute_result"
    }
   ],
   "source": [
    "%%time \n",
    "\n",
    "# download a local dandiset folder with yaml config\n",
    "os.system(\"dandi download --download dandiset.yaml DANDI:001250\")"
   ]
  },
  {
   "cell_type": "markdown",
   "id": "7e473b78",
   "metadata": {},
   "source": [
    "## Biophy npx spont"
   ]
  },
  {
   "cell_type": "code",
   "execution_count": null,
   "id": "043618bb",
   "metadata": {},
   "outputs": [
    {
     "name": "stderr",
     "output_type": "stream",
     "text": [
      "/home/steeve/steeve/epfl/code/spikebias/envs/demo/lib/python3.10/site-packages/spikeinterface/core/base.py:1129: UserWarning: Versions are not the same. This might lead to compatibility errors. Using spikeinterface==0.100.6 is recommended\n",
      "  warnings.warn(\n",
      "/home/steeve/steeve/epfl/code/spikebias/envs/demo/lib/python3.10/site-packages/spikeinterface/core/base.py:1129: UserWarning: Versions are not the same. This might lead to compatibility errors. Using spikeinterface==0.96.1 is recommended\n",
      "  warnings.warn(\n",
      "/home/steeve/steeve/epfl/code/spikebias/envs/demo/lib/python3.10/site-packages/spikeinterface/core/base.py:1129: UserWarning: Versions are not the same. This might lead to compatibility errors. Using spikeinterface==0.100.5 is recommended\n",
      "  warnings.warn(\n",
      "2025-06-15 19:05:10,847 [    INFO] Loading metadata from 12 files\n",
      "[Parallel(n_jobs=-1)]: Using backend LokyBackend with 32 concurrent workers.\n",
      "[Parallel(n_jobs=-1)]: Done   1 tasks      | elapsed:    0.7s\n",
      "[Parallel(n_jobs=-1)]: Done   3 out of  12 | elapsed:    0.7s remaining:    2.0s\n",
      "[Parallel(n_jobs=-1)]: Done   5 out of  12 | elapsed:    0.7s remaining:    1.0s\n",
      "[Parallel(n_jobs=-1)]: Done   7 out of  12 | elapsed:    0.8s remaining:    0.6s\n",
      "[Parallel(n_jobs=-1)]: Done   9 out of  12 | elapsed:    0.8s remaining:    0.3s\n",
      "[Parallel(n_jobs=-1)]: Done  12 out of  12 | elapsed:    0.9s finished\n"
     ]
    },
    {
     "name": "stdout",
     "output_type": "stream",
     "text": [
      "DRY: /home/steeve/steeve/epfl/code/spikebias/tmp/001250/sub-001-fitted/sub-001-fitted_ses-ks_10m.nwb -> sub-001-fitted/sub-001-fitted_ses-ks-10m.nwb\n",
      "DRY: /home/steeve/steeve/epfl/code/spikebias/tmp/001250/sub-001-fitted/sub-001-fitted_ses-ks4.nwb -> sub-001-fitted/sub-001-fitted_ses-ks4.nwb\n",
      "DRY: /home/steeve/steeve/epfl/code/spikebias/tmp/001250/sub-001-fitted/sub-001-fitted_ses-ks2_10m.nwb -> sub-001-fitted/sub-001-fitted_ses-ks2-10m.nwb\n",
      "DRY: /home/steeve/steeve/epfl/code/spikebias/tmp/001250/sub-001-fitted/sub-001-fitted_ses-ks2.nwb -> sub-001-fitted/sub-001-fitted_ses-ks2.nwb\n",
      "DRY: /home/steeve/steeve/epfl/code/spikebias/tmp/001250/sub-001-fitted/sub-001-fitted_ses-ks.nwb -> sub-001-fitted/sub-001-fitted_ses-ks.nwb\n",
      "DRY: /home/steeve/steeve/epfl/code/spikebias/tmp/001250/sub-001-fitted/sub-001-fitted_ses-ks3_10m.nwb -> sub-001-fitted/sub-001-fitted_ses-ks3-10m.nwb\n",
      "DRY: /home/steeve/steeve/epfl/code/spikebias/tmp/001250/sub-001-fitted/sub-001-fitted_ses-ks3.nwb -> sub-001-fitted/sub-001-fitted_ses-ks3.nwb\n",
      "DRY: /home/steeve/steeve/epfl/code/spikebias/tmp/001250/sub-001-fitted/sub-001-fitted_ses-ks4_10m.nwb -> sub-001-fitted/sub-001-fitted_ses-ks4-10m.nwb\n",
      "DRY: /home/steeve/steeve/epfl/code/spikebias/tmp/001250/sub-001-fitted/sub-001-fitted_ses-ks25_10m.nwb -> sub-001-fitted/sub-001-fitted_ses-ks25-10m.nwb\n",
      "DRY: /home/steeve/steeve/epfl/code/spikebias/tmp/001250/sub-001-fitted/sub-001-fitted_ses-hs_10m.nwb -> sub-001-fitted/sub-001-fitted_ses-hs-10m.nwb\n",
      "DRY: /home/steeve/steeve/epfl/code/spikebias/tmp/001250/sub-001-fitted/sub-001-fitted_ses-ks25.nwb -> sub-001-fitted/sub-001-fitted_ses-ks25.nwb\n",
      "DRY: /home/steeve/steeve/epfl/code/spikebias/tmp/001250/sub-001-fitted/sub-001-fitted_ses-hs.nwb -> sub-001-fitted/sub-001-fitted_ses-hs.nwb\n"
     ]
    },
    {
     "name": "stderr",
     "output_type": "stream",
     "text": [
      "2025-06-15 19:05:11,718 [    INFO] Organized 0 out of 12 paths. Visit /home/steeve/steeve/epfl/code/spikebias/001250/\n",
      "2025-06-15 19:05:11,718 [    INFO] Logs saved in /home/steeve/.local/state/dandi-cli/log/2025.06.15-17.05.10Z-1724577.log\n",
      "2025-06-15 19:05:12,925 [    INFO] Loading metadata from 12 files\n",
      "[Parallel(n_jobs=-1)]: Using backend LokyBackend with 32 concurrent workers.\n",
      "[Parallel(n_jobs=-1)]: Done   1 tasks      | elapsed:    0.6s\n",
      "[Parallel(n_jobs=-1)]: Done   3 out of  12 | elapsed:    0.6s remaining:    1.9s\n",
      "[Parallel(n_jobs=-1)]: Done   5 out of  12 | elapsed:    0.6s remaining:    0.9s\n",
      "[Parallel(n_jobs=-1)]: Done   7 out of  12 | elapsed:    0.6s remaining:    0.5s\n",
      "[Parallel(n_jobs=-1)]: Done   9 out of  12 | elapsed:    0.7s remaining:    0.2s\n",
      "[Parallel(n_jobs=-1)]: Done  12 out of  12 | elapsed:    0.8s finished\n",
      "2025-06-15 19:05:13,732 [    INFO] Symlink support autodetected; setting files_mode='symlink'\n",
      "2025-06-15 19:05:13,737 [    INFO] Organized 12 paths. Visit /home/steeve/steeve/epfl/code/spikebias/001250/\n",
      "2025-06-15 19:05:13,738 [    INFO] Logs saved in /home/steeve/.local/state/dandi-cli/log/2025.06.15-17.05.12Z-1724778.log\n",
      "2025-06-15 19:05:15,701 [    INFO] Found 13 files to consider\n"
     ]
    },
    {
     "name": "stdout",
     "output_type": "stream",
     "text": [
      "PATH                                           SIZE     ERRORS PROGRESS STATUS                MESSAGE                        \n",
      "dandiset.yaml                                  5.6 kB                   skipped               should be edited online        \n",
      "sub-001-fitted/sub-001-fitted_ses-hs-10m.nwb   988.8 kB   0        100% done                  exists (older) - reuploading   \n",
      "sub-001-fitted/sub-001-fitted_ses-hs.nwb       3.1 MB     0        100% done                  exists (older) - reuploading   \n",
      "sub-001-fitted/sub-001-fitted_ses-ks-10m.nwb   4.7 MB     0        100% done                  exists (older) - reuploading   \n",
      "sub-001-fitted/sub-001-fitted_ses-ks.nwb       14.7 MB    0        100% done                  exists (older) - reuploading   \n",
      "sub-001-fitted/sub-001-fitted_ses-ks2-10m.nwb  3.0 MB     0        100% done                  exists (older) - reuploading   \n",
      "sub-001-fitted/sub-001-fitted_ses-ks2.nwb      9.9 MB     0        100% done                  exists (older) - reuploading   \n",
      "sub-001-fitted/sub-001-fitted_ses-ks25-10m.nwb 2.9 MB     0        100% done                  exists (older) - reuploading   \n",
      "sub-001-fitted/sub-001-fitted_ses-ks25.nwb     11.7 MB    0        100% done                  exists (older) - reuploading   \n",
      "sub-001-fitted/sub-001-fitted_ses-ks3-10m.nwb  2.2 MB     0        100% done                  exists (older) - reuploading   \n",
      "sub-001-fitted/sub-001-fitted_ses-ks3.nwb      8.9 MB     0        100% done                  exists (older) - reuploading   \n",
      "sub-001-fitted/sub-001-fitted_ses-ks4-10m.nwb  3.1 MB     0        100% done                  exists (older) - reuploading   \n",
      "sub-001-fitted/sub-001-fitted_ses-ks4.nwb      10.4 MB    0        100% done                  exists (older) - reuploading   \n",
      "Summary:                                       75.6 MB         8.0 MB/s 1 skipped             1 should be edited online      \n",
      "                                                                        12 done               12 exists (older) - reuploading\n",
      "CPU times: user 23.9 s, sys: 70.3 ms, total: 24 s\n",
      "Wall time: 39.2 s\n"
     ]
    },
    {
     "name": "stderr",
     "output_type": "stream",
     "text": [
      "2025-06-15 19:05:25,192 [    INFO] Logs saved in /home/steeve/.local/state/dandi-cli/log/2025.06.15-17.05.14Z-1724963.log\n"
     ]
    }
   ],
   "source": [
    "%%time\n",
    "\n",
    "# setup experiment parameters\n",
    "subject_id = \"001-fitted\"\n",
    "sorting_path = os.path.join(proj_path, \"dataset/01_intermediate/sorting/0_silico/npx_spont/\")\n",
    "sorting_folders = [\"SortingKS4\", \"SortingKS3\", \"SortingKS2_5\", \"SortingKS2\", \"SortingKS\", \"SortingHerdingspikes\", \"SortingKS4_10m\", \"SortingKS3_10m\", \"SortingKS2_5_10m\", \"SortingKS2_10m\", \"SortingKS_10m\", \"SortingHerdingspikes_10m\"]\n",
    "sorter_name = [\"ks4\", \"ks3\", \"ks25\", \"ks2\", \"ks\", \"hs\", \"ks4_10m\", \"ks3_10m\", \"ks25_10m\", \"ks2_10m\", \"ks_10m\", \"hs_10m\"] # full and 10 min sortings\n",
    "\n",
    "# download a local dandiset folder with yaml config\n",
    "os.system(\"dandi download --download dandiset.yaml DANDI:001250\")\n",
    "\n",
    "# load list of sorting extractors\n",
    "sorting_list = load_sortings(sorting_folders, sorting_path)\n",
    "\n",
    "# upload the sorting nwb files to dandi archive\n",
    "upload_sorting_nwb_to_dandi(sorting_list, dandiset_id, subject_id, nwb_file_path, session_description = \"Biophysical simulation of neuropixels in the spontaneous regime. Background noise and gain are fitted to Marques-Smith dataset.\", experiment_description=\"Biophysical simulation of neuropixels in the spontaneous regime. Background noise and gain are fitted to Marques-Smith dataset.\")"
   ]
  },
  {
   "cell_type": "markdown",
   "id": "9fe6c8b0",
   "metadata": {},
   "source": [
    "## Biophy npx evoked"
   ]
  },
  {
   "cell_type": "code",
   "execution_count": null,
   "id": "f3332f89-9106-4c1b-90e7-417df26b6091",
   "metadata": {},
   "outputs": [
    {
     "name": "stderr",
     "output_type": "stream",
     "text": [
      "/home/steeve/steeve/epfl/code/spikebias/envs/demo/lib/python3.10/site-packages/spikeinterface/core/base.py:1129: UserWarning: Versions are not the same. This might lead to compatibility errors. Using spikeinterface==0.100.6 is recommended\n",
      "  warnings.warn(\n",
      "/home/steeve/steeve/epfl/code/spikebias/envs/demo/lib/python3.10/site-packages/spikeinterface/core/base.py:1129: UserWarning: Versions are not the same. This might lead to compatibility errors. Using spikeinterface==0.100.5 is recommended\n",
      "  warnings.warn(\n",
      "2025-06-15 19:07:41,203 [    INFO] Loading metadata from 12 files\n",
      "[Parallel(n_jobs=-1)]: Using backend LokyBackend with 32 concurrent workers.\n",
      "[Parallel(n_jobs=-1)]: Done   1 tasks      | elapsed:    0.7s\n",
      "[Parallel(n_jobs=-1)]: Done   3 out of  12 | elapsed:    0.7s remaining:    2.1s\n",
      "[Parallel(n_jobs=-1)]: Done   5 out of  12 | elapsed:    0.7s remaining:    1.0s\n",
      "[Parallel(n_jobs=-1)]: Done   7 out of  12 | elapsed:    0.7s remaining:    0.5s\n",
      "[Parallel(n_jobs=-1)]: Done   9 out of  12 | elapsed:    0.8s remaining:    0.3s\n",
      "[Parallel(n_jobs=-1)]: Done  12 out of  12 | elapsed:    0.9s finished\n",
      "2025-06-15 19:07:42,092 [    INFO] Organized 0 out of 12 paths. Visit /home/steeve/steeve/epfl/code/spikebias/001250/\n",
      "2025-06-15 19:07:42,092 [    INFO] Logs saved in /home/steeve/.local/state/dandi-cli/log/2025.06.15-17.07.40Z-1728403.log\n"
     ]
    },
    {
     "name": "stdout",
     "output_type": "stream",
     "text": [
      "DRY: /home/steeve/steeve/epfl/code/spikebias/tmp/001250/sub-002-fitted/sub-002-fitted_ses-ks2_10m.nwb -> sub-002-fitted/sub-002-fitted_ses-ks2-10m.nwb\n",
      "DRY: /home/steeve/steeve/epfl/code/spikebias/tmp/001250/sub-002-fitted/sub-002-fitted_ses-ks25_10m.nwb -> sub-002-fitted/sub-002-fitted_ses-ks25-10m.nwb\n",
      "DRY: /home/steeve/steeve/epfl/code/spikebias/tmp/001250/sub-002-fitted/sub-002-fitted_ses-hs.nwb -> sub-002-fitted/sub-002-fitted_ses-hs.nwb\n",
      "DRY: /home/steeve/steeve/epfl/code/spikebias/tmp/001250/sub-002-fitted/sub-002-fitted_ses-ks3_10m.nwb -> sub-002-fitted/sub-002-fitted_ses-ks3-10m.nwb\n",
      "DRY: /home/steeve/steeve/epfl/code/spikebias/tmp/001250/sub-002-fitted/sub-002-fitted_ses-ks_10m.nwb -> sub-002-fitted/sub-002-fitted_ses-ks-10m.nwb\n",
      "DRY: /home/steeve/steeve/epfl/code/spikebias/tmp/001250/sub-002-fitted/sub-002-fitted_ses-ks.nwb -> sub-002-fitted/sub-002-fitted_ses-ks.nwb\n",
      "DRY: /home/steeve/steeve/epfl/code/spikebias/tmp/001250/sub-002-fitted/sub-002-fitted_ses-ks4.nwb -> sub-002-fitted/sub-002-fitted_ses-ks4.nwb\n",
      "DRY: /home/steeve/steeve/epfl/code/spikebias/tmp/001250/sub-002-fitted/sub-002-fitted_ses-hs_10m.nwb -> sub-002-fitted/sub-002-fitted_ses-hs-10m.nwb\n",
      "DRY: /home/steeve/steeve/epfl/code/spikebias/tmp/001250/sub-002-fitted/sub-002-fitted_ses-ks4_10m.nwb -> sub-002-fitted/sub-002-fitted_ses-ks4-10m.nwb\n",
      "DRY: /home/steeve/steeve/epfl/code/spikebias/tmp/001250/sub-002-fitted/sub-002-fitted_ses-ks2.nwb -> sub-002-fitted/sub-002-fitted_ses-ks2.nwb\n",
      "DRY: /home/steeve/steeve/epfl/code/spikebias/tmp/001250/sub-002-fitted/sub-002-fitted_ses-ks3.nwb -> sub-002-fitted/sub-002-fitted_ses-ks3.nwb\n",
      "DRY: /home/steeve/steeve/epfl/code/spikebias/tmp/001250/sub-002-fitted/sub-002-fitted_ses-ks25.nwb -> sub-002-fitted/sub-002-fitted_ses-ks25.nwb\n"
     ]
    },
    {
     "name": "stderr",
     "output_type": "stream",
     "text": [
      "2025-06-15 19:07:43,322 [    INFO] Loading metadata from 12 files\n",
      "[Parallel(n_jobs=-1)]: Using backend LokyBackend with 32 concurrent workers.\n",
      "[Parallel(n_jobs=-1)]: Done   1 tasks      | elapsed:    0.6s\n",
      "[Parallel(n_jobs=-1)]: Done   3 out of  12 | elapsed:    0.6s remaining:    1.8s\n",
      "[Parallel(n_jobs=-1)]: Done   5 out of  12 | elapsed:    0.6s remaining:    0.9s\n",
      "[Parallel(n_jobs=-1)]: Done   7 out of  12 | elapsed:    0.6s remaining:    0.5s\n",
      "[Parallel(n_jobs=-1)]: Done   9 out of  12 | elapsed:    0.7s remaining:    0.2s\n",
      "[Parallel(n_jobs=-1)]: Done  12 out of  12 | elapsed:    0.8s finished\n",
      "2025-06-15 19:07:44,120 [    INFO] Symlink support autodetected; setting files_mode='symlink'\n",
      "2025-06-15 19:07:44,125 [    INFO] Organized 12 paths. Visit /home/steeve/steeve/epfl/code/spikebias/001250/\n",
      "2025-06-15 19:07:44,125 [    INFO] Logs saved in /home/steeve/.local/state/dandi-cli/log/2025.06.15-17.07.42Z-1728586.log\n",
      "2025-06-15 19:07:46,080 [    INFO] Found 25 files to consider\n"
     ]
    },
    {
     "name": "stdout",
     "output_type": "stream",
     "text": [
      "PATH                                           SIZE     ERRORS   PROGRESS STATUS                MESSAGE                  \n",
      "dandiset.yaml                                  5.6 kB                     skipped               should be edited online  \n",
      "sub-001-fitted/sub-001-fitted_ses-hs-10m.nwb                              ERROR                 File not found           \n",
      "sub-001-fitted/sub-001-fitted_ses-hs.nwb                                  ERROR                 File not found           \n",
      "sub-001-fitted/sub-001-fitted_ses-ks-10m.nwb                              ERROR                 File not found           \n",
      "sub-001-fitted/sub-001-fitted_ses-ks.nwb                                  ERROR                 File not found           \n",
      "sub-001-fitted/sub-001-fitted_ses-ks2-10m.nwb                             ERROR                 File not found           \n",
      "sub-001-fitted/sub-001-fitted_ses-ks2.nwb                                 ERROR                 File not found           \n",
      "sub-001-fitted/sub-001-fitted_ses-ks25-10m.nwb                            ERROR                 File not found           \n",
      "sub-001-fitted/sub-001-fitted_ses-ks25.nwb                                ERROR                 File not found           \n",
      "sub-001-fitted/sub-001-fitted_ses-ks3-10m.nwb                             ERROR                 File not found           \n",
      "sub-001-fitted/sub-001-fitted_ses-ks3.nwb                                 ERROR                 File not found           \n",
      "sub-001-fitted/sub-001-fitted_ses-ks4-10m.nwb                             ERROR                 File not found           \n",
      "sub-001-fitted/sub-001-fitted_ses-ks4.nwb                                 ERROR                 File not found           \n",
      "sub-002-fitted/sub-002-fitted_ses-hs-10m.nwb   1.4 MB     0          100% done                                           \n",
      "sub-002-fitted/sub-002-fitted_ses-hs.nwb       7.6 MB     0          100% done                                           \n",
      "sub-002-fitted/sub-002-fitted_ses-ks-10m.nwb   24.3 MB    0          100% done                                           \n",
      "sub-002-fitted/sub-002-fitted_ses-ks.nwb       18.1 MB    0          100% done                                           \n",
      "sub-002-fitted/sub-002-fitted_ses-ks2-10m.nwb  4.9 MB     0          100% done                                           \n",
      "sub-002-fitted/sub-002-fitted_ses-ks2.nwb      17.2 MB    0          100% done                                           \n",
      "sub-002-fitted/sub-002-fitted_ses-ks25-10m.nwb 11.5 MB    0          100% done                                           \n",
      "sub-002-fitted/sub-002-fitted_ses-ks25.nwb     14.3 MB    0          100% done                                           \n",
      "sub-002-fitted/sub-002-fitted_ses-ks3-10m.nwb  22.2 MB    0          100% done                                           \n",
      "sub-002-fitted/sub-002-fitted_ses-ks3.nwb      15.8 MB    0          100% done                                           \n",
      "sub-002-fitted/sub-002-fitted_ses-ks4-10m.nwb  26.6 MB    0          100% done                                           \n",
      "sub-002-fitted/sub-002-fitted_ses-ks4.nwb      21.7 MB    0          100% done                                           \n",
      "Summary:                                       185.7 MB         18.7 MB/s 1 skipped             1 should be edited online\n",
      "                                                                          12 ERROR              12 File not found        \n",
      "                                                                          12 done                                        \n",
      "CPU times: user 1min 56s, sys: 357 ms, total: 1min 56s\n",
      "Wall time: 2min 12s\n"
     ]
    },
    {
     "name": "stderr",
     "output_type": "stream",
     "text": [
      "2025-06-15 19:07:56,230 [    INFO] Logs saved in /home/steeve/.local/state/dandi-cli/log/2025.06.15-17.07.44Z-1728779.log\n",
      "Error: File not found\n"
     ]
    }
   ],
   "source": [
    "%%time\n",
    "\n",
    "# setup experiment parameters\n",
    "subject_id = \"002-fitted\"\n",
    "sorting_path = os.path.join(proj_path, \"dataset/01_intermediate/sorting/0_silico/npx_evoked/\")\n",
    "sorting_folders = [\"SortingKS4_full\", \"SortingKS3_full\", \"SortingKS2_5_full\", \"SortingKS2_full\", \"SortingKS_full\", \"SortingHerdingspikes_full\", \"SortingKS4_10m\", \"SortingKS3_10m\", \"SortingKS2_5_10m\", \"SortingKS2_10m\", \"SortingKS_10m\", \"SortingHerdingspikes_10m\"]\n",
    "sorter_name = [\"ks4\", \"ks3\", \"ks25\", \"ks2\", \"ks\", \"hs\", \"ks4_10m\", \"ks3_10m\", \"ks25_10m\", \"ks2_10m\", \"ks_10m\", \"hs_10m\"] # full and 10 min sortings\n",
    "\n",
    "# download a local dandiset folder with yaml config\n",
    "os.system(\"dandi download --download dandiset.yaml DANDI:001250\")\n",
    "\n",
    "# load list of sorting extractors\n",
    "sorting_list = load_sortings(sorting_folders, sorting_path)\n",
    "\n",
    "# upload the sorting nwb files to dandi archive\n",
    "upload_sorting_nwb_to_dandi(sorting_list, dandiset_id, subject_id, nwb_file_path, session_description = \"Biophysical simulation of neuropixels in the evoked regime. Background noise and gain are fitted to Marques-Smith dataset.\", experiment_description=\"Biophysical simulation of neuropixels in the evoked regime. Background noise and gain are fitted to Marques-Smith dataset.\")"
   ]
  },
  {
   "cell_type": "markdown",
   "id": "1f636126",
   "metadata": {},
   "source": [
    "## Marques-Smith"
   ]
  },
  {
   "cell_type": "code",
   "execution_count": null,
   "id": "346186e6",
   "metadata": {},
   "outputs": [
    {
     "name": "stdout",
     "output_type": "stream",
     "text": [
      "PATH                 SIZE DONE    DONE% CHECKSUM STATUS    MESSAGE    \n",
      "001250/dandiset.yaml                             skipped   no change  \n",
      "Summary:                  0 Bytes                1 skipped 1 no change\n",
      "                          <0.00%                                      \n"
     ]
    },
    {
     "name": "stderr",
     "output_type": "stream",
     "text": [
      "2025-06-16 15:13:51,406 [    INFO] Logs saved in /home/steeve/.local/state/dandi-cli/log/2025.06.16-13.13.50Z-2322807.log\n",
      "/home/steeve/steeve/epfl/code/spikebias/envs/demo/lib/python3.10/site-packages/spikeinterface/core/base.py:1129: UserWarning: Versions are not the same. This might lead to compatibility errors. Using spikeinterface==0.96.1 is recommended\n",
      "  warnings.warn(\n"
     ]
    },
    {
     "ename": "ValueError",
     "evalue": "/home/steeve/steeve/epfl/code/spikebias/dataset/01_intermediate/sorting/1_vivo/marques/SortingKS4_10m is not a file or a folder. It should point to either a json, pickle file or a folder that is the result of extractor.save(...)",
     "output_type": "error",
     "traceback": [
      "\u001b[0;31m---------------------------------------------------------------------------\u001b[0m",
      "\u001b[0;31mValueError\u001b[0m                                Traceback (most recent call last)",
      "File \u001b[0;32m<timed exec>:11\u001b[0m\n",
      "Cell \u001b[0;32mIn[2], line 8\u001b[0m, in \u001b[0;36mload_sortings\u001b[0;34m(sorting_folders, sorting_path)\u001b[0m\n\u001b[1;32m      6\u001b[0m \u001b[38;5;28;01mfor\u001b[39;00m folder_i \u001b[38;5;129;01min\u001b[39;00m sorting_folders:\n\u001b[1;32m      7\u001b[0m     folder_paths \u001b[38;5;241m=\u001b[39m os\u001b[38;5;241m.\u001b[39mpath\u001b[38;5;241m.\u001b[39mjoin(sorting_path, folder_i)\n\u001b[0;32m----> 8\u001b[0m     sorting_list\u001b[38;5;241m.\u001b[39mappend(\u001b[43msi\u001b[49m\u001b[38;5;241;43m.\u001b[39;49m\u001b[43mload_extractor\u001b[49m\u001b[43m(\u001b[49m\u001b[43mfolder_paths\u001b[49m\u001b[43m)\u001b[49m)\n\u001b[1;32m     10\u001b[0m \u001b[38;5;66;03m# unit-test\u001b[39;00m\n\u001b[1;32m     11\u001b[0m \u001b[38;5;28;01massert\u001b[39;00m \u001b[38;5;28mlen\u001b[39m(sorting_list) \u001b[38;5;241m==\u001b[39m \u001b[38;5;28mlen\u001b[39m(sorting_folders), \u001b[38;5;124m\"\u001b[39m\u001b[38;5;124msorting files are missing\u001b[39m\u001b[38;5;124m\"\u001b[39m\n",
      "File \u001b[0;32m~/steeve/epfl/code/spikebias/envs/demo/lib/python3.10/site-packages/spikeinterface/core/base.py:1196\u001b[0m, in \u001b[0;36mload_extractor\u001b[0;34m(file_or_folder_or_dict, base_folder)\u001b[0m\n\u001b[1;32m   1194\u001b[0m     \u001b[38;5;28;01mreturn\u001b[39;00m BaseExtractor\u001b[38;5;241m.\u001b[39mfrom_dict(file_or_folder_or_dict, base_folder\u001b[38;5;241m=\u001b[39mbase_folder)\n\u001b[1;32m   1195\u001b[0m \u001b[38;5;28;01melse\u001b[39;00m:\n\u001b[0;32m-> 1196\u001b[0m     \u001b[38;5;28;01mreturn\u001b[39;00m \u001b[43mBaseExtractor\u001b[49m\u001b[38;5;241;43m.\u001b[39;49m\u001b[43mload\u001b[49m\u001b[43m(\u001b[49m\u001b[43mfile_or_folder_or_dict\u001b[49m\u001b[43m,\u001b[49m\u001b[43m \u001b[49m\u001b[43mbase_folder\u001b[49m\u001b[38;5;241;43m=\u001b[39;49m\u001b[43mbase_folder\u001b[49m\u001b[43m)\u001b[49m\n",
      "File \u001b[0;32m~/steeve/epfl/code/spikebias/envs/demo/lib/python3.10/site-packages/spikeinterface/core/base.py:819\u001b[0m, in \u001b[0;36mBaseExtractor.load\u001b[0;34m(file_path, base_folder)\u001b[0m\n\u001b[1;32m    814\u001b[0m \u001b[38;5;28;01melse\u001b[39;00m:\n\u001b[1;32m    815\u001b[0m     error_msg \u001b[38;5;241m=\u001b[39m (\n\u001b[1;32m    816\u001b[0m         \u001b[38;5;124mf\u001b[39m\u001b[38;5;124m\"\u001b[39m\u001b[38;5;132;01m{\u001b[39;00mfile_path\u001b[38;5;132;01m}\u001b[39;00m\u001b[38;5;124m is not a file or a folder. It should point to either a json, pickle file or a \u001b[39m\u001b[38;5;124m\"\u001b[39m\n\u001b[1;32m    817\u001b[0m         \u001b[38;5;124m\"\u001b[39m\u001b[38;5;124mfolder that is the result of extractor.save(...)\u001b[39m\u001b[38;5;124m\"\u001b[39m\n\u001b[1;32m    818\u001b[0m     )\n\u001b[0;32m--> 819\u001b[0m     \u001b[38;5;28;01mraise\u001b[39;00m \u001b[38;5;167;01mValueError\u001b[39;00m(error_msg)\n",
      "\u001b[0;31mValueError\u001b[0m: /home/steeve/steeve/epfl/code/spikebias/dataset/01_intermediate/sorting/1_vivo/marques/SortingKS4_10m is not a file or a folder. It should point to either a json, pickle file or a folder that is the result of extractor.save(...)"
     ]
    }
   ],
   "source": [
    "%%time\n",
    "\n",
    "# setup experiment parameters\n",
    "subject_id = \"vivo-marques-smith\"\n",
    "sorting_path = os.path.join(proj_path, \"dataset/01_intermediate/sorting/1_vivo/marques/\")\n",
    "sorting_folders = [\"SortingKS3\", \"SortingKS2_5\", \"SortingKS2\", \"SortingKS\", \"SortingHerdingspikes\", \"SortingKS3_10m\", \"SortingKS2_5_10m\", \"SortingKS2_10m\", \"SortingKS_10m\", \"SortingHerdingspikes_10m\"]\n",
    "sorter_name = [\"ks3\", \"ks25\", \"ks2\", \"ks\", \"hs\", \"ks3_10m\", \"ks25_10m\", \"ks2_10m\", \"ks_10m\", \"hs_10m\"] # full and 10 min sortings\n",
    "\n",
    "# download a local dandiset folder with yaml config\n",
    "os.system(\"dandi download --download dandiset.yaml DANDI:001250\")\n",
    "\n",
    "# load list of sorting extractors\n",
    "sorting_list = load_sortings(sorting_folders, sorting_path)\n",
    "\n",
    "# upload the sorting nwb files to dandi archive\n",
    "upload_sorting_nwb_to_dandi(sorting_list, dandiset_id, subject_id, nwb_file_path, session_description = \"Marques-Smith neuropixels in the spontaneous regime.\", experiment_description=\"Marques-Smith neuropixels in the spontaneous regime.\")"
   ]
  },
  {
   "cell_type": "markdown",
   "id": "f89c2df7",
   "metadata": {},
   "source": [
    "## Biophy dense probes 1-3"
   ]
  },
  {
   "cell_type": "code",
   "execution_count": 17,
   "id": "38116110",
   "metadata": {},
   "outputs": [
    {
     "name": "stdout",
     "output_type": "stream",
     "text": [
      "PATH                 SIZE DONE    DONE% CHECKSUM STATUS MESSAGE   \n",
      "001250/dandiset.yaml                             done   updated   \n",
      "Summary:                  0 Bytes                1 done 1 updated \n",
      "                          <0.00%                                  \n"
     ]
    },
    {
     "name": "stderr",
     "output_type": "stream",
     "text": [
      "2025-06-16 15:02:02,616 [    INFO] Logs saved in /home/steeve/.local/state/dandi-cli/log/2025.06.16-13.02.01Z-2315662.log\n",
      "/home/steeve/steeve/epfl/code/spikebias/envs/demo/lib/python3.10/site-packages/spikeinterface/core/base.py:1129: UserWarning: Versions are not the same. This might lead to compatibility errors. Using spikeinterface==0.100.6 is recommended\n",
      "  warnings.warn(\n",
      "/home/steeve/steeve/epfl/code/spikebias/envs/demo/lib/python3.10/site-packages/spikeinterface/core/base.py:1129: UserWarning: Versions are not the same. This might lead to compatibility errors. Using spikeinterface==0.100.5 is recommended\n",
      "  warnings.warn(\n",
      "2025-06-16 15:02:06,057 [    INFO] Loading metadata from 6 files\n",
      "[Parallel(n_jobs=-1)]: Using backend LokyBackend with 32 concurrent workers.\n",
      "[Parallel(n_jobs=-1)]: Done   2 out of   6 | elapsed:    0.7s remaining:    1.4s\n",
      "[Parallel(n_jobs=-1)]: Done   3 out of   6 | elapsed:    0.7s remaining:    0.7s\n",
      "[Parallel(n_jobs=-1)]: Done   4 out of   6 | elapsed:    0.7s remaining:    0.3s\n",
      "[Parallel(n_jobs=-1)]: Done   6 out of   6 | elapsed:    0.7s finished\n",
      "2025-06-16 15:02:06,757 [    INFO] Organized 0 out of 6 paths. Visit /home/steeve/steeve/epfl/code/spikebias/001250/\n",
      "2025-06-16 15:02:06,757 [    INFO] Logs saved in /home/steeve/.local/state/dandi-cli/log/2025.06.16-13.02.05Z-2315719.log\n"
     ]
    },
    {
     "name": "stdout",
     "output_type": "stream",
     "text": [
      "DRY: /home/steeve/steeve/epfl/code/spikebias/tmp/001250/sub-003-fitted/sub-003-fitted_ses-ks3_10m.nwb -> sub-003-fitted/sub-003-fitted_ses-ks3-10m.nwb\n",
      "DRY: /home/steeve/steeve/epfl/code/spikebias/tmp/001250/sub-003-fitted/sub-003-fitted_ses-ks2_10m.nwb -> sub-003-fitted/sub-003-fitted_ses-ks2-10m.nwb\n",
      "DRY: /home/steeve/steeve/epfl/code/spikebias/tmp/001250/sub-003-fitted/sub-003-fitted_ses-hs_10m.nwb -> sub-003-fitted/sub-003-fitted_ses-hs-10m.nwb\n",
      "DRY: /home/steeve/steeve/epfl/code/spikebias/tmp/001250/sub-003-fitted/sub-003-fitted_ses-ks4_10m.nwb -> sub-003-fitted/sub-003-fitted_ses-ks4-10m.nwb\n",
      "DRY: /home/steeve/steeve/epfl/code/spikebias/tmp/001250/sub-003-fitted/sub-003-fitted_ses-ks25_10m.nwb -> sub-003-fitted/sub-003-fitted_ses-ks25-10m.nwb\n",
      "DRY: /home/steeve/steeve/epfl/code/spikebias/tmp/001250/sub-003-fitted/sub-003-fitted_ses-ks_10m.nwb -> sub-003-fitted/sub-003-fitted_ses-ks-10m.nwb\n"
     ]
    },
    {
     "name": "stderr",
     "output_type": "stream",
     "text": [
      "2025-06-16 15:02:07,954 [    INFO] Loading metadata from 6 files\n",
      "[Parallel(n_jobs=-1)]: Using backend LokyBackend with 32 concurrent workers.\n",
      "[Parallel(n_jobs=-1)]: Done   2 out of   6 | elapsed:    0.6s remaining:    1.2s\n",
      "[Parallel(n_jobs=-1)]: Done   3 out of   6 | elapsed:    0.6s remaining:    0.6s\n",
      "[Parallel(n_jobs=-1)]: Done   4 out of   6 | elapsed:    0.6s remaining:    0.3s\n",
      "[Parallel(n_jobs=-1)]: Done   6 out of   6 | elapsed:    0.6s finished\n",
      "2025-06-16 15:02:08,593 [    INFO] Symlink support autodetected; setting files_mode='symlink'\n",
      "2025-06-16 15:02:08,596 [    INFO] Organized 6 paths. Visit /home/steeve/steeve/epfl/code/spikebias/001250/\n",
      "2025-06-16 15:02:08,596 [    INFO] Logs saved in /home/steeve/.local/state/dandi-cli/log/2025.06.16-13.02.07Z-2315887.log\n",
      "2025-06-16 15:02:10,529 [    INFO] Found 7 files to consider\n"
     ]
    },
    {
     "name": "stdout",
     "output_type": "stream",
     "text": [
      "PATH                                           SIZE     ERRORS   PROGRESS STATUS                MESSAGE                       \n",
      "dandiset.yaml                                  5.6 kB                     skipped               should be edited online       \n",
      "sub-003-fitted/sub-003-fitted_ses-hs-10m.nwb   539.3 kB   0          100% done                  exists (older) - reuploading  \n",
      "sub-003-fitted/sub-003-fitted_ses-ks-10m.nwb   1.9 MB     0          100% done                  exists (older) - reuploading  \n",
      "sub-003-fitted/sub-003-fitted_ses-ks2-10m.nwb  1.2 MB     0          100% done                  exists (older) - reuploading  \n",
      "sub-003-fitted/sub-003-fitted_ses-ks25-10m.nwb 1.2 MB     0          100% done                  exists (older) - reuploading  \n",
      "sub-003-fitted/sub-003-fitted_ses-ks3-10m.nwb  845.5 kB   0          100% done                  exists (older) - reuploading  \n",
      "sub-003-fitted/sub-003-fitted_ses-ks4-10m.nwb  928.4 kB   0          100% done                  exists (older) - reuploading  \n",
      "Summary:                                       6.6 MB            1.1 MB/s 1 skipped             1 should be edited online     \n",
      "                                                                          6 done                6 exists (older) - reuploading\n"
     ]
    },
    {
     "name": "stderr",
     "output_type": "stream",
     "text": [
      "2025-06-16 15:02:16,416 [    INFO] Logs saved in /home/steeve/.local/state/dandi-cli/log/2025.06.16-13.02.09Z-2316052.log\n"
     ]
    },
    {
     "name": "stdout",
     "output_type": "stream",
     "text": [
      "PATH                 SIZE DONE    DONE% CHECKSUM STATUS MESSAGE   \n",
      "001250/dandiset.yaml                             done   updated   \n",
      "Summary:                  0 Bytes                1 done 1 updated \n",
      "                          <0.00%                                  \n"
     ]
    },
    {
     "name": "stderr",
     "output_type": "stream",
     "text": [
      "2025-06-16 15:02:17,699 [    INFO] Logs saved in /home/steeve/.local/state/dandi-cli/log/2025.06.16-13.02.16Z-2316206.log\n",
      "/home/steeve/steeve/epfl/code/spikebias/envs/demo/lib/python3.10/site-packages/spikeinterface/core/base.py:1129: UserWarning: Versions are not the same. This might lead to compatibility errors. Using spikeinterface==0.100.6 is recommended\n",
      "  warnings.warn(\n",
      "/home/steeve/steeve/epfl/code/spikebias/envs/demo/lib/python3.10/site-packages/spikeinterface/core/base.py:1129: UserWarning: Versions are not the same. This might lead to compatibility errors. Using spikeinterface==0.100.5 is recommended\n",
      "  warnings.warn(\n",
      "2025-06-16 15:02:21,132 [    INFO] Loading metadata from 6 files\n",
      "[Parallel(n_jobs=-1)]: Using backend LokyBackend with 32 concurrent workers.\n",
      "[Parallel(n_jobs=-1)]: Done   2 out of   6 | elapsed:    0.7s remaining:    1.4s\n",
      "[Parallel(n_jobs=-1)]: Done   3 out of   6 | elapsed:    0.7s remaining:    0.7s\n",
      "[Parallel(n_jobs=-1)]: Done   4 out of   6 | elapsed:    0.7s remaining:    0.3s\n",
      "[Parallel(n_jobs=-1)]: Done   6 out of   6 | elapsed:    0.7s finished\n",
      "2025-06-16 15:02:21,842 [    INFO] Organized 0 out of 6 paths. Visit /home/steeve/steeve/epfl/code/spikebias/001250/\n",
      "2025-06-16 15:02:21,842 [    INFO] Logs saved in /home/steeve/.local/state/dandi-cli/log/2025.06.16-13.02.20Z-2316236.log\n"
     ]
    },
    {
     "name": "stdout",
     "output_type": "stream",
     "text": [
      "DRY: /home/steeve/steeve/epfl/code/spikebias/tmp/001250/sub-004-fitted/sub-004-fitted_ses-ks2_10m.nwb -> sub-004-fitted/sub-004-fitted_ses-ks2-10m.nwb\n",
      "DRY: /home/steeve/steeve/epfl/code/spikebias/tmp/001250/sub-004-fitted/sub-004-fitted_ses-hs_10m.nwb -> sub-004-fitted/sub-004-fitted_ses-hs-10m.nwb\n",
      "DRY: /home/steeve/steeve/epfl/code/spikebias/tmp/001250/sub-004-fitted/sub-004-fitted_ses-ks3_10m.nwb -> sub-004-fitted/sub-004-fitted_ses-ks3-10m.nwb\n",
      "DRY: /home/steeve/steeve/epfl/code/spikebias/tmp/001250/sub-004-fitted/sub-004-fitted_ses-ks25_10m.nwb -> sub-004-fitted/sub-004-fitted_ses-ks25-10m.nwb\n",
      "DRY: /home/steeve/steeve/epfl/code/spikebias/tmp/001250/sub-004-fitted/sub-004-fitted_ses-ks_10m.nwb -> sub-004-fitted/sub-004-fitted_ses-ks-10m.nwb\n",
      "DRY: /home/steeve/steeve/epfl/code/spikebias/tmp/001250/sub-004-fitted/sub-004-fitted_ses-ks4_10m.nwb -> sub-004-fitted/sub-004-fitted_ses-ks4-10m.nwb\n"
     ]
    },
    {
     "name": "stderr",
     "output_type": "stream",
     "text": [
      "2025-06-16 15:02:23,061 [    INFO] Loading metadata from 6 files\n",
      "[Parallel(n_jobs=-1)]: Using backend LokyBackend with 32 concurrent workers.\n",
      "[Parallel(n_jobs=-1)]: Done   2 out of   6 | elapsed:    0.6s remaining:    1.2s\n",
      "[Parallel(n_jobs=-1)]: Done   3 out of   6 | elapsed:    0.6s remaining:    0.6s\n",
      "[Parallel(n_jobs=-1)]: Done   4 out of   6 | elapsed:    0.6s remaining:    0.3s\n",
      "[Parallel(n_jobs=-1)]: Done   6 out of   6 | elapsed:    0.6s finished\n",
      "2025-06-16 15:02:23,700 [    INFO] Symlink support autodetected; setting files_mode='symlink'\n",
      "2025-06-16 15:02:23,704 [    INFO] Organized 6 paths. Visit /home/steeve/steeve/epfl/code/spikebias/001250/\n",
      "2025-06-16 15:02:23,704 [    INFO] Logs saved in /home/steeve/.local/state/dandi-cli/log/2025.06.16-13.02.22Z-2316400.log\n",
      "2025-06-16 15:02:25,627 [    INFO] Found 7 files to consider\n"
     ]
    },
    {
     "name": "stdout",
     "output_type": "stream",
     "text": [
      "PATH                                           SIZE     ERRORS   PROGRESS STATUS                MESSAGE                       \n",
      "dandiset.yaml                                  5.6 kB                     skipped               should be edited online       \n",
      "sub-004-fitted/sub-004-fitted_ses-hs-10m.nwb   539.3 kB   0          100% done                  exists (older) - reuploading  \n",
      "sub-004-fitted/sub-004-fitted_ses-ks-10m.nwb   1.9 MB     0          100% done                  exists (older) - reuploading  \n",
      "sub-004-fitted/sub-004-fitted_ses-ks2-10m.nwb  1.2 MB     0          100% done                  exists (older) - reuploading  \n",
      "sub-004-fitted/sub-004-fitted_ses-ks25-10m.nwb 1.2 MB     0          100% done                  exists (older) - reuploading  \n",
      "sub-004-fitted/sub-004-fitted_ses-ks3-10m.nwb  845.5 kB   0          100% done                  exists (older) - reuploading  \n",
      "sub-004-fitted/sub-004-fitted_ses-ks4-10m.nwb  928.4 kB   0          100% done                  exists (older) - reuploading  \n",
      "Summary:                                       6.6 MB            1.1 MB/s 1 skipped             1 should be edited online     \n",
      "                                                                          6 done                6 exists (older) - reuploading\n"
     ]
    },
    {
     "name": "stderr",
     "output_type": "stream",
     "text": [
      "2025-06-16 15:02:31,465 [    INFO] Logs saved in /home/steeve/.local/state/dandi-cli/log/2025.06.16-13.02.24Z-2316560.log\n"
     ]
    },
    {
     "name": "stdout",
     "output_type": "stream",
     "text": [
      "PATH                 SIZE DONE    DONE% CHECKSUM STATUS MESSAGE   \n",
      "001250/dandiset.yaml                             done   updated   \n",
      "Summary:                  0 Bytes                1 done 1 updated \n",
      "                          <0.00%                                  \n"
     ]
    },
    {
     "name": "stderr",
     "output_type": "stream",
     "text": [
      "2025-06-16 15:02:32,723 [    INFO] Logs saved in /home/steeve/.local/state/dandi-cli/log/2025.06.16-13.02.31Z-2316701.log\n",
      "/home/steeve/steeve/epfl/code/spikebias/envs/demo/lib/python3.10/site-packages/spikeinterface/core/base.py:1129: UserWarning: Versions are not the same. This might lead to compatibility errors. Using spikeinterface==0.100.6 is recommended\n",
      "  warnings.warn(\n",
      "/home/steeve/steeve/epfl/code/spikebias/envs/demo/lib/python3.10/site-packages/spikeinterface/core/base.py:1129: UserWarning: Versions are not the same. This might lead to compatibility errors. Using spikeinterface==0.100.5 is recommended\n",
      "  warnings.warn(\n",
      "2025-06-16 15:02:38,465 [    INFO] Loading metadata from 6 files\n",
      "[Parallel(n_jobs=-1)]: Using backend LokyBackend with 32 concurrent workers.\n",
      "[Parallel(n_jobs=-1)]: Done   2 out of   6 | elapsed:    0.7s remaining:    1.3s\n",
      "[Parallel(n_jobs=-1)]: Done   3 out of   6 | elapsed:    0.7s remaining:    0.7s\n",
      "[Parallel(n_jobs=-1)]: Done   4 out of   6 | elapsed:    0.7s remaining:    0.3s\n",
      "[Parallel(n_jobs=-1)]: Done   6 out of   6 | elapsed:    0.7s finished\n",
      "2025-06-16 15:02:39,163 [    INFO] Organized 0 out of 6 paths. Visit /home/steeve/steeve/epfl/code/spikebias/001250/\n",
      "2025-06-16 15:02:39,163 [    INFO] Logs saved in /home/steeve/.local/state/dandi-cli/log/2025.06.16-13.02.37Z-2316769.log\n"
     ]
    },
    {
     "name": "stdout",
     "output_type": "stream",
     "text": [
      "DRY: /home/steeve/steeve/epfl/code/spikebias/tmp/001250/sub-005-fitted/sub-005-fitted_ses-ks2_10m.nwb -> sub-005-fitted/sub-005-fitted_ses-ks2-10m.nwb\n",
      "DRY: /home/steeve/steeve/epfl/code/spikebias/tmp/001250/sub-005-fitted/sub-005-fitted_ses-ks25_10m.nwb -> sub-005-fitted/sub-005-fitted_ses-ks25-10m.nwb\n",
      "DRY: /home/steeve/steeve/epfl/code/spikebias/tmp/001250/sub-005-fitted/sub-005-fitted_ses-ks4_10m.nwb -> sub-005-fitted/sub-005-fitted_ses-ks4-10m.nwb\n",
      "DRY: /home/steeve/steeve/epfl/code/spikebias/tmp/001250/sub-005-fitted/sub-005-fitted_ses-ks3_10m.nwb -> sub-005-fitted/sub-005-fitted_ses-ks3-10m.nwb\n",
      "DRY: /home/steeve/steeve/epfl/code/spikebias/tmp/001250/sub-005-fitted/sub-005-fitted_ses-ks_10m.nwb -> sub-005-fitted/sub-005-fitted_ses-ks-10m.nwb\n",
      "DRY: /home/steeve/steeve/epfl/code/spikebias/tmp/001250/sub-005-fitted/sub-005-fitted_ses-hs_10m.nwb -> sub-005-fitted/sub-005-fitted_ses-hs-10m.nwb\n"
     ]
    },
    {
     "name": "stderr",
     "output_type": "stream",
     "text": [
      "2025-06-16 15:02:40,346 [    INFO] Loading metadata from 6 files\n",
      "[Parallel(n_jobs=-1)]: Using backend LokyBackend with 32 concurrent workers.\n",
      "[Parallel(n_jobs=-1)]: Done   2 out of   6 | elapsed:    0.6s remaining:    1.2s\n",
      "[Parallel(n_jobs=-1)]: Done   3 out of   6 | elapsed:    0.6s remaining:    0.6s\n",
      "[Parallel(n_jobs=-1)]: Done   4 out of   6 | elapsed:    0.6s remaining:    0.3s\n",
      "[Parallel(n_jobs=-1)]: Done   6 out of   6 | elapsed:    0.6s finished\n",
      "2025-06-16 15:02:40,977 [    INFO] Symlink support autodetected; setting files_mode='symlink'\n",
      "2025-06-16 15:02:40,981 [    INFO] Organized 6 paths. Visit /home/steeve/steeve/epfl/code/spikebias/001250/\n",
      "2025-06-16 15:02:40,981 [    INFO] Logs saved in /home/steeve/.local/state/dandi-cli/log/2025.06.16-13.02.39Z-2316925.log\n",
      "2025-06-16 15:02:42,887 [    INFO] Found 7 files to consider\n"
     ]
    },
    {
     "name": "stdout",
     "output_type": "stream",
     "text": [
      "PATH                                           SIZE     ERRORS   PROGRESS STATUS                MESSAGE                       \n",
      "dandiset.yaml                                  5.6 kB                     skipped               should be edited online       \n",
      "sub-005-fitted/sub-005-fitted_ses-hs-10m.nwb   566.2 kB   0          100% done                  exists (older) - reuploading  \n",
      "sub-005-fitted/sub-005-fitted_ses-ks-10m.nwb   3.1 MB     0          100% done                  exists (older) - reuploading  \n",
      "sub-005-fitted/sub-005-fitted_ses-ks2-10m.nwb  2.0 MB     0          100% done                  exists (older) - reuploading  \n",
      "sub-005-fitted/sub-005-fitted_ses-ks25-10m.nwb 1.9 MB     0          100% done                  exists (older) - reuploading  \n",
      "sub-005-fitted/sub-005-fitted_ses-ks3-10m.nwb  3.1 MB     0          100% done                  exists (older) - reuploading  \n",
      "sub-005-fitted/sub-005-fitted_ses-ks4-10m.nwb  3.4 MB     0          100% done                  exists (older) - reuploading  \n",
      "Summary:                                       14.0 MB         102.6 kB/s 1 skipped             1 should be edited online     \n",
      "                                                                          6 done                6 exists (older) - reuploading\n",
      "CPU times: user 10.1 s, sys: 59.8 ms, total: 10.2 s\n",
      "Wall time: 2min 58s\n"
     ]
    },
    {
     "name": "stderr",
     "output_type": "stream",
     "text": [
      "2025-06-16 15:04:59,720 [    INFO] Logs saved in /home/steeve/.local/state/dandi-cli/log/2025.06.16-13.02.41Z-2317081.log\n"
     ]
    }
   ],
   "source": [
    "%%time\n",
    "# upload sortings for each Horvath probe depth\n",
    "\n",
    "subject = [\"003\", \"004\", \"005\"]\n",
    "depths = [1,2,3]\n",
    "sorting_folders = [\"SortingKS4_10m\", \"SortingKS3_10m\", \"SortingKS2_5_10m\", \"SortingKS2_10m\", \"SortingKS_10m\", \"SortingHerdingspikes_10m\"]\n",
    "sorter_name = [\"ks4_10m\", \"ks3_10m\", \"ks25_10m\", \"ks2_10m\", \"ks_10m\", \"hs_10m\"] # 10 min sortings\n",
    "\n",
    "for d_ix, depth in enumerate(depths):\n",
    "\n",
    "    # setup experiment parameters\n",
    "    subject_id = f\"{subject[d_ix]}-fitted\"\n",
    "    sorting_path = os.path.join(proj_path, f\"dataset/01_intermediate/sorting/0_silico/dense_probe{depth}/\")\n",
    "\n",
    "    # download a local dandiset folder with yaml config\n",
    "    os.system(\"dandi download --download dandiset.yaml DANDI:001250\")\n",
    "\n",
    "    # load list of sorting extractors\n",
    "    sorting_list = load_sortings(sorting_folders, sorting_path)\n",
    "\n",
    "    # upload the sorting nwb files to dandi archive\n",
    "    upload_sorting_nwb_to_dandi(sorting_list, dandiset_id, subject_id, nwb_file_path, session_description = \"Biophysical simulation of dense probe {depth} in the spontaneous regime. Background noise and gain are fitted to Horvath depth {depth} dataset.\", experiment_description=\"Biophysical simulation of dense probe {depth} in the spontaneous regime. Background noise and gain are fitted to Horvath depth {depth} dataset.\")"
   ]
  },
  {
   "cell_type": "markdown",
   "id": "0a40a388",
   "metadata": {},
   "source": [
    "## Horvath depths 1-3"
   ]
  },
  {
   "cell_type": "code",
   "execution_count": null,
   "id": "4459f1b9",
   "metadata": {},
   "outputs": [
    {
     "name": "stdout",
     "output_type": "stream",
     "text": [
      "PATH                 SIZE DONE    DONE% CHECKSUM STATUS MESSAGE   \n",
      "001250/dandiset.yaml                             done   updated   \n",
      "Summary:                  0 Bytes                1 done 1 updated \n",
      "                          <0.00%                                  \n"
     ]
    },
    {
     "name": "stderr",
     "output_type": "stream",
     "text": [
      "2025-06-16 14:55:52,760 [    INFO] Logs saved in /home/steeve/.local/state/dandi-cli/log/2025.06.16-12.55.51Z-2310928.log\n",
      "/home/steeve/steeve/epfl/code/spikebias/envs/demo/lib/python3.10/site-packages/spikeinterface/core/base.py:1129: UserWarning: Versions are not the same. This might lead to compatibility errors. Using spikeinterface==0.100.6 is recommended\n",
      "  warnings.warn(\n",
      "/home/steeve/steeve/epfl/code/spikebias/envs/demo/lib/python3.10/site-packages/spikeinterface/core/base.py:1129: UserWarning: Versions are not the same. This might lead to compatibility errors. Using spikeinterface==0.100.5 is recommended\n",
      "  warnings.warn(\n",
      "2025-06-16 14:55:56,960 [    INFO] Loading metadata from 6 files\n",
      "[Parallel(n_jobs=-1)]: Using backend LokyBackend with 32 concurrent workers.\n",
      "[Parallel(n_jobs=-1)]: Done   2 out of   6 | elapsed:    0.7s remaining:    1.4s\n",
      "[Parallel(n_jobs=-1)]: Done   3 out of   6 | elapsed:    0.7s remaining:    0.7s\n",
      "[Parallel(n_jobs=-1)]: Done   4 out of   6 | elapsed:    0.7s remaining:    0.3s\n",
      "[Parallel(n_jobs=-1)]: Done   6 out of   6 | elapsed:    0.7s finished\n",
      "2025-06-16 14:55:57,682 [    INFO] Organized 0 out of 6 paths. Visit /home/steeve/steeve/epfl/code/spikebias/001250/\n",
      "2025-06-16 14:55:57,682 [    INFO] Logs saved in /home/steeve/.local/state/dandi-cli/log/2025.06.16-12.55.56Z-2310974.log\n"
     ]
    },
    {
     "name": "stdout",
     "output_type": "stream",
     "text": [
      "DRY: /home/steeve/steeve/epfl/code/spikebias/tmp/001250/sub-vivo-horvath-depth-1/sub-vivo-horvath-depth-1_ses-ks_10m.nwb -> sub-vivo-horvath-depth-1/sub-vivo-horvath-depth-1_ses-ks-10m.nwb\n",
      "DRY: /home/steeve/steeve/epfl/code/spikebias/tmp/001250/sub-vivo-horvath-depth-1/sub-vivo-horvath-depth-1_ses-ks25_10m.nwb -> sub-vivo-horvath-depth-1/sub-vivo-horvath-depth-1_ses-ks25-10m.nwb\n",
      "DRY: /home/steeve/steeve/epfl/code/spikebias/tmp/001250/sub-vivo-horvath-depth-1/sub-vivo-horvath-depth-1_ses-ks4_10m.nwb -> sub-vivo-horvath-depth-1/sub-vivo-horvath-depth-1_ses-ks4-10m.nwb\n",
      "DRY: /home/steeve/steeve/epfl/code/spikebias/tmp/001250/sub-vivo-horvath-depth-1/sub-vivo-horvath-depth-1_ses-hs_10m.nwb -> sub-vivo-horvath-depth-1/sub-vivo-horvath-depth-1_ses-hs-10m.nwb\n",
      "DRY: /home/steeve/steeve/epfl/code/spikebias/tmp/001250/sub-vivo-horvath-depth-1/sub-vivo-horvath-depth-1_ses-ks2_10m.nwb -> sub-vivo-horvath-depth-1/sub-vivo-horvath-depth-1_ses-ks2-10m.nwb\n",
      "DRY: /home/steeve/steeve/epfl/code/spikebias/tmp/001250/sub-vivo-horvath-depth-1/sub-vivo-horvath-depth-1_ses-ks3_10m.nwb -> sub-vivo-horvath-depth-1/sub-vivo-horvath-depth-1_ses-ks3-10m.nwb\n"
     ]
    },
    {
     "name": "stderr",
     "output_type": "stream",
     "text": [
      "2025-06-16 14:55:58,848 [    INFO] Loading metadata from 6 files\n",
      "[Parallel(n_jobs=-1)]: Using backend LokyBackend with 32 concurrent workers.\n",
      "[Parallel(n_jobs=-1)]: Done   2 out of   6 | elapsed:    0.6s remaining:    1.2s\n",
      "[Parallel(n_jobs=-1)]: Done   3 out of   6 | elapsed:    0.6s remaining:    0.6s\n",
      "[Parallel(n_jobs=-1)]: Done   4 out of   6 | elapsed:    0.6s remaining:    0.3s\n",
      "[Parallel(n_jobs=-1)]: Done   6 out of   6 | elapsed:    0.7s finished\n",
      "2025-06-16 14:55:59,526 [    INFO] Symlink support autodetected; setting files_mode='symlink'\n",
      "2025-06-16 14:55:59,531 [    INFO] Organized 6 paths. Visit /home/steeve/steeve/epfl/code/spikebias/001250/\n",
      "2025-06-16 14:55:59,531 [    INFO] Logs saved in /home/steeve/.local/state/dandi-cli/log/2025.06.16-12.55.58Z-2311132.log\n",
      "2025-06-16 14:56:01,438 [    INFO] Found 7 files to consider\n"
     ]
    },
    {
     "name": "stdout",
     "output_type": "stream",
     "text": [
      "PATH                                                               SIZE     ERRORS   PROGRESS STATUS                MESSAGE                       \n",
      "dandiset.yaml                                                      5.6 kB                     skipped               should be edited online       \n",
      "sub-vivo-horvath-depth-1/sub-vivo-horvath-depth-1_ses-hs-10m.nwb   518.4 kB   0          100% done                  exists (older) - reuploading  \n",
      "sub-vivo-horvath-depth-1/sub-vivo-horvath-depth-1_ses-ks-10m.nwb   2.8 MB     0          100% done                  exists (older) - reuploading  \n",
      "sub-vivo-horvath-depth-1/sub-vivo-horvath-depth-1_ses-ks2-10m.nwb  1.6 MB     0          100% done                  exists (older) - reuploading  \n",
      "sub-vivo-horvath-depth-1/sub-vivo-horvath-depth-1_ses-ks25-10m.nwb 1.6 MB     0          100% done                  exists (older) - reuploading  \n",
      "sub-vivo-horvath-depth-1/sub-vivo-horvath-depth-1_ses-ks3-10m.nwb  1.5 MB     0          100% done                  exists (older) - reuploading  \n",
      "sub-vivo-horvath-depth-1/sub-vivo-horvath-depth-1_ses-ks4-10m.nwb  2.5 MB     0          100% done                  exists (older) - reuploading  \n",
      "Summary:                                                           10.6 MB           1.7 MB/s 1 skipped             1 should be edited online     \n",
      "                                                                                              6 done                6 exists (older) - reuploading\n"
     ]
    },
    {
     "name": "stderr",
     "output_type": "stream",
     "text": [
      "2025-06-16 14:56:07,641 [    INFO] Logs saved in /home/steeve/.local/state/dandi-cli/log/2025.06.16-12.56.00Z-2311291.log\n",
      "2025-06-16 14:56:08,911 [    INFO] Logs saved in /home/steeve/.local/state/dandi-cli/log/2025.06.16-12.56.08Z-2311447.log\n",
      "/home/steeve/steeve/epfl/code/spikebias/envs/demo/lib/python3.10/site-packages/spikeinterface/core/base.py:1129: UserWarning: Versions are not the same. This might lead to compatibility errors. Using spikeinterface==0.100.6 is recommended\n",
      "  warnings.warn(\n",
      "/home/steeve/steeve/epfl/code/spikebias/envs/demo/lib/python3.10/site-packages/spikeinterface/core/base.py:1129: UserWarning: Versions are not the same. This might lead to compatibility errors. Using spikeinterface==0.100.5 is recommended\n",
      "  warnings.warn(\n"
     ]
    },
    {
     "name": "stdout",
     "output_type": "stream",
     "text": [
      "PATH                 SIZE DONE    DONE% CHECKSUM STATUS MESSAGE   \n",
      "001250/dandiset.yaml                             done   updated   \n",
      "Summary:                  0 Bytes                1 done 1 updated \n",
      "                          <0.00%                                  \n"
     ]
    },
    {
     "name": "stderr",
     "output_type": "stream",
     "text": [
      "2025-06-16 14:56:14,316 [    INFO] Loading metadata from 6 files\n",
      "[Parallel(n_jobs=-1)]: Using backend LokyBackend with 32 concurrent workers.\n",
      "[Parallel(n_jobs=-1)]: Done   2 out of   6 | elapsed:    0.7s remaining:    1.3s\n",
      "[Parallel(n_jobs=-1)]: Done   3 out of   6 | elapsed:    0.7s remaining:    0.7s\n",
      "[Parallel(n_jobs=-1)]: Done   4 out of   6 | elapsed:    0.7s remaining:    0.3s\n",
      "[Parallel(n_jobs=-1)]: Done   6 out of   6 | elapsed:    0.7s finished\n",
      "2025-06-16 14:56:15,023 [    INFO] Organized 0 out of 6 paths. Visit /home/steeve/steeve/epfl/code/spikebias/001250/\n",
      "2025-06-16 14:56:15,023 [    INFO] Logs saved in /home/steeve/.local/state/dandi-cli/log/2025.06.16-12.56.13Z-2311502.log\n"
     ]
    },
    {
     "name": "stdout",
     "output_type": "stream",
     "text": [
      "DRY: /home/steeve/steeve/epfl/code/spikebias/tmp/001250/sub-vivo-horvath-depth-2/sub-vivo-horvath-depth-2_ses-ks2_10m.nwb -> sub-vivo-horvath-depth-2/sub-vivo-horvath-depth-2_ses-ks2-10m.nwb\n",
      "DRY: /home/steeve/steeve/epfl/code/spikebias/tmp/001250/sub-vivo-horvath-depth-2/sub-vivo-horvath-depth-2_ses-ks25_10m.nwb -> sub-vivo-horvath-depth-2/sub-vivo-horvath-depth-2_ses-ks25-10m.nwb\n",
      "DRY: /home/steeve/steeve/epfl/code/spikebias/tmp/001250/sub-vivo-horvath-depth-2/sub-vivo-horvath-depth-2_ses-hs_10m.nwb -> sub-vivo-horvath-depth-2/sub-vivo-horvath-depth-2_ses-hs-10m.nwb\n",
      "DRY: /home/steeve/steeve/epfl/code/spikebias/tmp/001250/sub-vivo-horvath-depth-2/sub-vivo-horvath-depth-2_ses-ks_10m.nwb -> sub-vivo-horvath-depth-2/sub-vivo-horvath-depth-2_ses-ks-10m.nwb\n",
      "DRY: /home/steeve/steeve/epfl/code/spikebias/tmp/001250/sub-vivo-horvath-depth-2/sub-vivo-horvath-depth-2_ses-ks3_10m.nwb -> sub-vivo-horvath-depth-2/sub-vivo-horvath-depth-2_ses-ks3-10m.nwb\n",
      "DRY: /home/steeve/steeve/epfl/code/spikebias/tmp/001250/sub-vivo-horvath-depth-2/sub-vivo-horvath-depth-2_ses-ks4_10m.nwb -> sub-vivo-horvath-depth-2/sub-vivo-horvath-depth-2_ses-ks4-10m.nwb\n"
     ]
    },
    {
     "name": "stderr",
     "output_type": "stream",
     "text": [
      "2025-06-16 14:56:16,198 [    INFO] Loading metadata from 6 files\n",
      "[Parallel(n_jobs=-1)]: Using backend LokyBackend with 32 concurrent workers.\n",
      "[Parallel(n_jobs=-1)]: Done   2 out of   6 | elapsed:    0.6s remaining:    1.2s\n",
      "[Parallel(n_jobs=-1)]: Done   3 out of   6 | elapsed:    0.6s remaining:    0.6s\n",
      "[Parallel(n_jobs=-1)]: Done   4 out of   6 | elapsed:    0.6s remaining:    0.3s\n",
      "[Parallel(n_jobs=-1)]: Done   6 out of   6 | elapsed:    0.6s finished\n",
      "2025-06-16 14:56:16,833 [    INFO] Symlink support autodetected; setting files_mode='symlink'\n",
      "2025-06-16 14:56:16,836 [    INFO] Organized 6 paths. Visit /home/steeve/steeve/epfl/code/spikebias/001250/\n",
      "2025-06-16 14:56:16,836 [    INFO] Logs saved in /home/steeve/.local/state/dandi-cli/log/2025.06.16-12.56.15Z-2311661.log\n",
      "2025-06-16 14:56:18,725 [    INFO] Found 7 files to consider\n"
     ]
    },
    {
     "name": "stdout",
     "output_type": "stream",
     "text": [
      "PATH                                                               SIZE     ERRORS   PROGRESS STATUS                MESSAGE                       \n",
      "dandiset.yaml                                                      5.6 kB                     skipped               should be edited online       \n",
      "sub-vivo-horvath-depth-2/sub-vivo-horvath-depth-2_ses-hs-10m.nwb   662.7 kB   0          100% done                  exists (older) - reuploading  \n",
      "sub-vivo-horvath-depth-2/sub-vivo-horvath-depth-2_ses-ks-10m.nwb   3.6 MB     0          100% done                  exists (older) - reuploading  \n",
      "sub-vivo-horvath-depth-2/sub-vivo-horvath-depth-2_ses-ks2-10m.nwb  3.2 MB     0          100% done                  exists (older) - reuploading  \n",
      "sub-vivo-horvath-depth-2/sub-vivo-horvath-depth-2_ses-ks25-10m.nwb 3.2 MB     0          100% done                  exists (older) - reuploading  \n",
      "sub-vivo-horvath-depth-2/sub-vivo-horvath-depth-2_ses-ks3-10m.nwb  3.0 MB     0          100% done                  exists (older) - reuploading  \n",
      "sub-vivo-horvath-depth-2/sub-vivo-horvath-depth-2_ses-ks4-10m.nwb  4.2 MB     0          100% done                  exists (older) - reuploading  \n",
      "Summary:                                                           17.8 MB           3.0 MB/s 1 skipped             1 should be edited online     \n",
      "                                                                                              6 done                6 exists (older) - reuploading\n"
     ]
    },
    {
     "name": "stderr",
     "output_type": "stream",
     "text": [
      "2025-06-16 14:56:24,652 [    INFO] Logs saved in /home/steeve/.local/state/dandi-cli/log/2025.06.16-12.56.17Z-2311826.log\n"
     ]
    },
    {
     "name": "stdout",
     "output_type": "stream",
     "text": [
      "PATH                 SIZE DONE    DONE% CHECKSUM STATUS MESSAGE   \n",
      "001250/dandiset.yaml                             done   updated   \n",
      "Summary:                  0 Bytes                1 done 1 updated \n",
      "                          <0.00%                                  \n"
     ]
    },
    {
     "name": "stderr",
     "output_type": "stream",
     "text": [
      "2025-06-16 14:56:25,945 [    INFO] Logs saved in /home/steeve/.local/state/dandi-cli/log/2025.06.16-12.56.25Z-2311971.log\n",
      "/home/steeve/steeve/epfl/code/spikebias/envs/demo/lib/python3.10/site-packages/spikeinterface/core/base.py:1129: UserWarning: Versions are not the same. This might lead to compatibility errors. Using spikeinterface==0.100.6 is recommended\n",
      "  warnings.warn(\n",
      "/home/steeve/steeve/epfl/code/spikebias/envs/demo/lib/python3.10/site-packages/spikeinterface/core/base.py:1129: UserWarning: Versions are not the same. This might lead to compatibility errors. Using spikeinterface==0.100.5 is recommended\n",
      "  warnings.warn(\n",
      "2025-06-16 14:56:30,856 [    INFO] Loading metadata from 6 files\n",
      "[Parallel(n_jobs=-1)]: Using backend LokyBackend with 32 concurrent workers.\n",
      "[Parallel(n_jobs=-1)]: Done   2 out of   6 | elapsed:    0.7s remaining:    1.4s\n",
      "[Parallel(n_jobs=-1)]: Done   3 out of   6 | elapsed:    0.7s remaining:    0.7s\n",
      "[Parallel(n_jobs=-1)]: Done   4 out of   6 | elapsed:    0.7s remaining:    0.3s\n",
      "[Parallel(n_jobs=-1)]: Done   6 out of   6 | elapsed:    0.7s finished\n",
      "2025-06-16 14:56:31,565 [    INFO] Organized 0 out of 6 paths. Visit /home/steeve/steeve/epfl/code/spikebias/001250/\n",
      "2025-06-16 14:56:31,565 [    INFO] Logs saved in /home/steeve/.local/state/dandi-cli/log/2025.06.16-12.56.30Z-2312025.log\n"
     ]
    },
    {
     "name": "stdout",
     "output_type": "stream",
     "text": [
      "DRY: /home/steeve/steeve/epfl/code/spikebias/tmp/001250/sub-vivo-horvath-depth-3/sub-vivo-horvath-depth-3_ses-ks25_10m.nwb -> sub-vivo-horvath-depth-3/sub-vivo-horvath-depth-3_ses-ks25-10m.nwb\n",
      "DRY: /home/steeve/steeve/epfl/code/spikebias/tmp/001250/sub-vivo-horvath-depth-3/sub-vivo-horvath-depth-3_ses-ks2_10m.nwb -> sub-vivo-horvath-depth-3/sub-vivo-horvath-depth-3_ses-ks2-10m.nwb\n",
      "DRY: /home/steeve/steeve/epfl/code/spikebias/tmp/001250/sub-vivo-horvath-depth-3/sub-vivo-horvath-depth-3_ses-ks_10m.nwb -> sub-vivo-horvath-depth-3/sub-vivo-horvath-depth-3_ses-ks-10m.nwb\n",
      "DRY: /home/steeve/steeve/epfl/code/spikebias/tmp/001250/sub-vivo-horvath-depth-3/sub-vivo-horvath-depth-3_ses-ks4_10m.nwb -> sub-vivo-horvath-depth-3/sub-vivo-horvath-depth-3_ses-ks4-10m.nwb\n",
      "DRY: /home/steeve/steeve/epfl/code/spikebias/tmp/001250/sub-vivo-horvath-depth-3/sub-vivo-horvath-depth-3_ses-hs_10m.nwb -> sub-vivo-horvath-depth-3/sub-vivo-horvath-depth-3_ses-hs-10m.nwb\n",
      "DRY: /home/steeve/steeve/epfl/code/spikebias/tmp/001250/sub-vivo-horvath-depth-3/sub-vivo-horvath-depth-3_ses-ks3_10m.nwb -> sub-vivo-horvath-depth-3/sub-vivo-horvath-depth-3_ses-ks3-10m.nwb\n"
     ]
    },
    {
     "name": "stderr",
     "output_type": "stream",
     "text": [
      "2025-06-16 14:56:32,822 [    INFO] Loading metadata from 6 files\n",
      "[Parallel(n_jobs=-1)]: Using backend LokyBackend with 32 concurrent workers.\n",
      "[Parallel(n_jobs=-1)]: Done   2 out of   6 | elapsed:    0.6s remaining:    1.2s\n",
      "[Parallel(n_jobs=-1)]: Done   3 out of   6 | elapsed:    0.6s remaining:    0.6s\n",
      "[Parallel(n_jobs=-1)]: Done   4 out of   6 | elapsed:    0.6s remaining:    0.3s\n",
      "[Parallel(n_jobs=-1)]: Done   6 out of   6 | elapsed:    0.6s finished\n",
      "2025-06-16 14:56:33,450 [    INFO] Symlink support autodetected; setting files_mode='symlink'\n",
      "2025-06-16 14:56:33,455 [    INFO] Organized 6 paths. Visit /home/steeve/steeve/epfl/code/spikebias/001250/\n",
      "2025-06-16 14:56:33,455 [    INFO] Logs saved in /home/steeve/.local/state/dandi-cli/log/2025.06.16-12.56.32Z-2312181.log\n",
      "2025-06-16 14:56:35,371 [    INFO] Found 7 files to consider\n"
     ]
    },
    {
     "name": "stdout",
     "output_type": "stream",
     "text": [
      "PATH                                                               SIZE     ERRORS   PROGRESS STATUS                MESSAGE                  \n",
      "dandiset.yaml                                                      5.6 kB                     skipped               should be edited online  \n",
      "sub-vivo-horvath-depth-3/sub-vivo-horvath-depth-3_ses-hs-10m.nwb   478.9 kB   0          100% done                                           \n",
      "sub-vivo-horvath-depth-3/sub-vivo-horvath-depth-3_ses-ks-10m.nwb   3.4 MB     0          100% done                                           \n",
      "sub-vivo-horvath-depth-3/sub-vivo-horvath-depth-3_ses-ks2-10m.nwb  2.1 MB     0          100% done                                           \n",
      "sub-vivo-horvath-depth-3/sub-vivo-horvath-depth-3_ses-ks25-10m.nwb 2.0 MB     0          100% done                                           \n",
      "sub-vivo-horvath-depth-3/sub-vivo-horvath-depth-3_ses-ks3-10m.nwb  2.0 MB     0          100% done                                           \n",
      "sub-vivo-horvath-depth-3/sub-vivo-horvath-depth-3_ses-ks4-10m.nwb  3.2 MB     0          100% done                                           \n",
      "Summary:                                                           13.1 MB           2.5 MB/s 1 skipped             1 should be edited online\n",
      "                                                                                              6 done                                         \n",
      "CPU times: user 12 s, sys: 88.5 ms, total: 12 s\n",
      "Wall time: 49.2 s\n"
     ]
    },
    {
     "name": "stderr",
     "output_type": "stream",
     "text": [
      "2025-06-16 14:56:40,704 [    INFO] Logs saved in /home/steeve/.local/state/dandi-cli/log/2025.06.16-12.56.34Z-2312349.log\n"
     ]
    }
   ],
   "source": [
    "%%time\n",
    "\n",
    "# upload sortings for each Horvath probe depth\n",
    "depths = [1,2,3]\n",
    "sorting_folders = [\"SortingKS4_10m\", \"SortingKS3_10m\", \"SortingKS2_5_10m\", \"SortingKS2_10m\", \"SortingKS_10m\", \"SortingHerdingspikes_10m\"]\n",
    "sorter_name = [\"ks4_10m\", \"ks3_10m\", \"ks25_10m\", \"ks2_10m\", \"ks_10m\", \"hs_10m\"] # 10 min sortings\n",
    "\n",
    "for depth in depths:\n",
    "\n",
    "    # setup experiment parameters\n",
    "    subject_id = f\"vivo-horvath-depth-{depth}\"\n",
    "    sorting_path = os.path.join(proj_path, f\"dataset/01_intermediate/sorting/1_vivo/horvath/probe_{depth}/\")\n",
    "\n",
    "    # download a local dandiset folder with yaml config\n",
    "    os.system(\"dandi download --download dandiset.yaml DANDI:001250\")\n",
    "\n",
    "    # load list of sorting extractors\n",
    "    sorting_list = load_sortings(sorting_folders, sorting_path)\n",
    "\n",
    "    # upload the sorting nwb files to dandi archive\n",
    "    upload_sorting_nwb_to_dandi(sorting_list, dandiset_id, subject_id, nwb_file_path, session_description = \"Horvath dense probe depth {depth} in the spontaneous regime.\", experiment_description=\"Horvath dense probe depth {depth} in the spontaneous regime.\")"
   ]
  }
 ],
 "metadata": {
  "kernelspec": {
   "display_name": "Python 3",
   "language": "python",
   "name": "python3"
  },
  "language_info": {
   "codemirror_mode": {
    "name": "ipython",
    "version": 3
   },
   "file_extension": ".py",
   "mimetype": "text/x-python",
   "name": "python",
   "nbconvert_exporter": "python",
   "pygments_lexer": "ipython3",
   "version": "3.10.8"
  }
 },
 "nbformat": 4,
 "nbformat_minor": 5
}
