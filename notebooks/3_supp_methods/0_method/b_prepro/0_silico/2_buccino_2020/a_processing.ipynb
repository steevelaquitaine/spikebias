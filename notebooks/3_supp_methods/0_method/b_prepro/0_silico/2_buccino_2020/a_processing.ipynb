{
 "cells": [
  {
   "attachments": {},
   "cell_type": "markdown",
   "metadata": {},
   "source": [
    "# Data processing\n",
    "\n",
    "\n",
    "author: steeve.laquitaine@epfl.ch  \n",
    "date: 2023.08.29  \n",
    "last modified: 2023.08.29\n",
    "status: OK  \n",
    "display-status: OK  \n",
    "regression: None  \n",
    "duration: 3 hours (first time)\n",
    "\n",
    "\n",
    "## Setup\n",
    "\n",
    "create and activate env from `npx_10m_384ch_unit_classes.txt`"
   ]
  },
  {
   "cell_type": "code",
   "execution_count": 1,
   "metadata": {},
   "outputs": [
    {
     "name": "stdout",
     "output_type": "stream",
     "text": [
      "2023-10-13 19:02:39,321 - root - utils.py - get_config - INFO - Reading experiment config.\n",
      "2023-10-13 19:02:39,331 - root - utils.py - get_config - INFO - Reading experiment config. - done\n"
     ]
    }
   ],
   "source": [
    "# listen to changes\n",
    "%load_ext autoreload\n",
    "%autoreload 2\n",
    "\n",
    "import os\n",
    "import spikeinterface as si\n",
    "import spikeinterface.extractors as se \n",
    "import shutil \n",
    "\n",
    "# move to project path\n",
    "PROJ_PATH = \"/gpfs/bbp.cscs.ch/project/proj68/home/laquitai/bernstein_2023/\"\n",
    "os.chdir(PROJ_PATH)\n",
    "\n",
    "from src.nodes.utils import get_config\n",
    "from src.nodes.prepro import preprocess\n",
    "from src.nodes.truth.silico import ground_truth\n",
    "from src.nodes.load import load_campaign_params\n",
    "\n",
    "# SETUP PARAMETERS\n",
    "EXPERIMENT = \"buccino_2020\"   # the experiment \n",
    "SIMULATION_DATE = \"2020\"      # the run (date)\n",
    "data_conf, param_conf = get_config(EXPERIMENT, SIMULATION_DATE).values()\n",
    "NWB_PATH = data_conf[\"recording\"][\"input\"]\n",
    "WRITE_PATH = data_conf[\"probe_wiring\"][\"output\"]\n",
    "GT_SORTING_PATH = data_conf[\"sorting\"][\"simulation\"][\"ground_truth\"][\"input\"]"
   ]
  },
  {
   "attachments": {},
   "cell_type": "markdown",
   "metadata": {},
   "source": [
    "### Get raw data\n",
    "\n",
    "Download `sub-MEAREC-250neuron-Neuropixels_ecephys.nwb` file (28 GB):\n",
    "\n",
    "```bash\n",
    "dandi download https://api.dandiarchive.org/api/assets/6d94dcf4-0b38-4323-8250-04fdc7039a66/download/\n",
    "```"
   ]
  },
  {
   "attachments": {},
   "cell_type": "markdown",
   "metadata": {},
   "source": [
    "### Wire probe to recording\n",
    "\n",
    "The probe is already wired to the recording made open sourced. We just cast the recording as a Spikeinterface RecordingExtractor for processing with SpikeInterface."
   ]
  },
  {
   "cell_type": "code",
   "execution_count": 2,
   "metadata": {},
   "outputs": [],
   "source": [
    "# This takes 2h20 min ! \n",
    "\n",
    "# # read recording\n",
    "# wired_recording = se.NwbRecordingExtractor(NWB_PATH)\n",
    "\n",
    "# # write\n",
    "# shutil.rmtree(WRITE_PATH, ignore_errors=True)\n",
    "# wired_recording.save(folder=WRITE_PATH, format=\"binary\")\n",
    "\n",
    "# or load\n",
    "wired_recording = si.load_extractor(WRITE_PATH)"
   ]
  },
  {
   "attachments": {},
   "cell_type": "markdown",
   "metadata": {},
   "source": [
    "### Preprocess recording\n",
    "\n",
    "I found no indication that the data has been preprocessed from https://spikeinterface.github.io/blog/ground-truth-comparison-and-ensemble-sorting-of-a-synthetic-neuropixels-recording/ or https://dandiarchive.org/dandiset/000034 so I preprocess it. "
   ]
  },
  {
   "cell_type": "code",
   "execution_count": 3,
   "metadata": {},
   "outputs": [
    {
     "name": "stdout",
     "output_type": "stream",
     "text": [
      "write_binary_recording with n_jobs = 1 and chunk_size = None\n",
      "True\n"
     ]
    }
   ],
   "source": [
    "# preprocess once (takes 28 min !)\n",
    "# Preprocessed = preprocess.run(data_conf, param_conf)\n",
    "Preprocessed = preprocess.load(data_conf)\n",
    "\n",
    "# write\n",
    "preprocess.write(Preprocessed, data_conf)\n",
    " \n",
    "# sanity check is preprocessed\n",
    "print(Preprocessed.is_filtered())"
   ]
  },
  {
   "cell_type": "markdown",
   "metadata": {},
   "source": [
    "### Sort ground truth spikes"
   ]
  },
  {
   "cell_type": "code",
   "execution_count": 6,
   "metadata": {},
   "outputs": [
    {
     "name": "stderr",
     "output_type": "stream",
     "text": [
      "/gpfs/bbp.cscs.ch/project/proj68/scratch/laquitai/2_bernstein_2023/envs/npx_10m_384ch_unit_classes/lib/python3.9/site-packages/hdmf/spec/namespace.py:531: UserWarning: Ignoring cached namespace 'hdmf-common' version 1.1.3 because version 1.7.0 is already loaded.\n",
      "  warn(\"Ignoring cached namespace '%s' version %s because version %s is already loaded.\"\n",
      "/gpfs/bbp.cscs.ch/project/proj68/scratch/laquitai/2_bernstein_2023/envs/npx_10m_384ch_unit_classes/lib/python3.9/site-packages/hdmf/spec/namespace.py:531: UserWarning: Ignoring cached namespace 'core' version 2.2.5 because version 2.6.0-alpha is already loaded.\n",
      "  warn(\"Ignoring cached namespace '%s' version %s because version %s is already loaded.\"\n",
      "/gpfs/bbp.cscs.ch/project/proj68/scratch/laquitai/2_bernstein_2023/envs/npx_10m_384ch_unit_classes/lib/python3.9/site-packages/pynwb/ecephys.py:90: UserWarning: ElectricalSeries 'ElectricalSeries': The second dimension of data does not match the length of electrodes. Your data may be transposed.\n",
      "  warnings.warn(\"%s '%s': The second dimension of data does not match the length of electrodes. \"\n"
     ]
    }
   ],
   "source": [
    "# takes 1 sec\n",
    "\n",
    "# cast ground truth spikes as a SpikeInterface Sorting Extractor object (1.5h for 534 units)\n",
    "SortedTrue = se.NwbSortingExtractor(GT_SORTING_PATH)\n",
    "\n",
    "# write\n",
    "ground_truth.write(SortedTrue, data_conf)"
   ]
  }
 ],
 "metadata": {
  "kernelspec": {
   "display_name": "npx_10m_384ch_unit_classes",
   "language": "python",
   "name": "python3"
  },
  "language_info": {
   "codemirror_mode": {
    "name": "ipython",
    "version": 3
   },
   "file_extension": ".py",
   "mimetype": "text/x-python",
   "name": "python",
   "nbconvert_exporter": "python",
   "pygments_lexer": "ipython3",
   "version": "3.9.7"
  },
  "orig_nbformat": 4
 },
 "nbformat": 4,
 "nbformat_minor": 2
}
