{
 "cells": [
  {
   "cell_type": "markdown",
   "metadata": {},
   "source": [
    "# Matching mad and rms threshold-crossing\n",
    "\n",
    "**Method**\n",
    "- find the MAD threshold for multiunit threshold-crossing that matches the - 3.5 x RMS threshold used by Trautmann et al, 2019, NEURON \n",
    "- we use the first 10 min of recording (entire recording is too memory intensive for my machine)\n",
    "- high-pass filtering and common referencing only, as in Trautmann et al, 2019, NEURON ."
   ]
  },
  {
   "cell_type": "markdown",
   "metadata": {},
   "source": [
    "## Setup \n",
    "\n",
    "activate pca_manifold"
   ]
  },
  {
   "cell_type": "code",
   "execution_count": 3,
   "metadata": {},
   "outputs": [
    {
     "name": "stdout",
     "output_type": "stream",
     "text": [
      "The autoreload extension is already loaded. To reload it, use:\n",
      "  %reload_ext autoreload\n"
     ]
    }
   ],
   "source": [
    "# SETUP PACKAGES \n",
    "%load_ext autoreload\n",
    "%autoreload 2\n",
    "import os\n",
    "import numpy as np\n",
    "import spikeinterface as si\n",
    "import spikeinterface.preprocessing as spre\n",
    "from matplotlib import pyplot as plt;\n",
    "# set project path\n",
    "proj_path = \"/home/steeve/steeve/epfl/code/spikebias\"\n",
    "os.chdir(proj_path)\n",
    "\n",
    "# DATASET PATHS\n",
    "RECORDING_PATH = \"/home/steeve/steeve/epfl/code/spikebias/dataset/00_raw/recording_npx_evoked\""
   ]
  },
  {
   "cell_type": "markdown",
   "metadata": {},
   "source": [
    "## Functions"
   ]
  },
  {
   "cell_type": "code",
   "execution_count": 4,
   "metadata": {},
   "outputs": [],
   "source": [
    "def mad(voltage_trace):\n",
    "    return np.mean(np.absolute(voltage_trace - np.mean(voltage_trace)))\n",
    "\n",
    "def rms(voltage_trace, ):\n",
    "    return np.sqrt(np.mean((voltage_trace)**2))"
   ]
  },
  {
   "cell_type": "code",
   "execution_count": null,
   "metadata": {},
   "outputs": [
    {
     "name": "stdout",
     "output_type": "stream",
     "text": [
      "CPU times: user 5.25 ms, sys: 572 µs, total: 5.83 ms\n",
      "Wall time: 5.51 ms\n"
     ]
    }
   ],
   "source": [
    "%%time \n",
    "\n",
    "# load and preprocess\n",
    "Recording = si.load_extractor(RECORDING_PATH)\n",
    "Recording = Recording.frame_slice(start_frame=0, end_frame=2400)             # for 40 min\n",
    "Recording = spre.highpass_filter(Recording, freq_min=300)\n",
    "Recording = spre.common_reference(Recording, reference=\"global\", operator=\"median\")"
   ]
  },
  {
   "cell_type": "code",
   "execution_count": null,
   "metadata": {},
   "outputs": [
    {
     "name": "stdout",
     "output_type": "stream",
     "text": [
      "CPU times: user 3.32 s, sys: 507 ms, total: 3.83 s\n",
      "Wall time: 4.18 s\n"
     ]
    }
   ],
   "source": [
    "%%time\n",
    "\n",
    "# get MAD and RMS for each site in cortex\n",
    "sites_in_ctx = Recording.get_channel_ids()[Recording.get_property('layers')!='Outside']\n",
    "trace_mad = []\n",
    "trace_rms = []\n",
    "for ix in sites_in_ctx:\n",
    "    trace = Recording.get_traces(channel_ids=[ix])\n",
    "    trace_mad.append(mad(trace))\n",
    "    trace_rms.append(rms(trace))\n",
    "trace_mad = np.array(trace_mad)\n",
    "trace_rms = np.array(trace_rms)"
   ]
  },
  {
   "cell_type": "code",
   "execution_count": 29,
   "metadata": {},
   "outputs": [
    {
     "data": {
      "image/png": "[encoded data removed]",
      "text/plain": [
       "<Figure size 300x200 with 1 Axes>"
      ]
     },
     "metadata": {},
     "output_type": "display_data"
    }
   ],
   "source": [
    "# setup plot \n",
    "fig, ax = plt.subplots(1,1,figsize=(3,2))\n",
    "\n",
    "# plot mad\n",
    "ax.hist(trace_mad, bins=50, color='b', histtype='step', label='mad')\n",
    "\n",
    "# plot rms\n",
    "ax.hist(trace_rms, bins=50, color='red', histtype='step', label='rms')\n",
    "ax.set_xlim([0, np.max([trace_rms.max(), trace_mad.max()])])\n",
    "plt.legend(frameon=False);"
   ]
  },
  {
   "cell_type": "code",
   "execution_count": null,
   "metadata": {},
   "outputs": [
    {
     "name": "stdout",
     "output_type": "stream",
     "text": [
      "mean MAD: 2.517739\n",
      "mean RMS: 3.2073443\n",
      "matching thresh for mad (=3.5 x rms / mad): 4.458645145912994\n"
     ]
    }
   ],
   "source": [
    "print(\"mean MAD:\", trace_mad.mean())\n",
    "print(\"mean RMS:\", trace_rms.mean())\n",
    "\n",
    "# calculate voltage threshold for MAD that matches the RMS threshold\n",
    "matching_ratio =  trace_rms.mean() / trace_mad.mean()\n",
    "print(\"matching thresh for mad (=3.5 x rms / mad):\", 3.5 * trace_rms.mean() / trace_mad.mean())"
   ]
  }
 ],
 "metadata": {
  "kernelspec": {
   "display_name": "Python 3",
   "language": "python",
   "name": "python3"
  },
  "language_info": {
   "codemirror_mode": {
    "name": "ipython",
    "version": 3
   },
   "file_extension": ".py",
   "mimetype": "text/x-python",
   "name": "python",
   "nbconvert_exporter": "python",
   "pygments_lexer": "ipython3",
   "version": "3.9.7"
  }
 },
 "nbformat": 4,
 "nbformat_minor": 2
}
