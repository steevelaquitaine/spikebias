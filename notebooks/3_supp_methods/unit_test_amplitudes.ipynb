{
 "cells": [
  {
   "cell_type": "markdown",
   "metadata": {},
   "source": [
    "# Unit-test traces\n",
    "\n",
    "author: laquitainesteeve@gmail.com\n",
    "\n",
    "Note:\n",
    "\n",
    "- I can't preprocess the entire traces on the ubuntu machine likely due to lack of RAM."
   ]
  },
  {
   "cell_type": "markdown",
   "metadata": {},
   "source": [
    "## Setup"
   ]
  },
  {
   "cell_type": "code",
   "execution_count": 1,
   "metadata": {},
   "outputs": [],
   "source": [
    "%load_ext autoreload\n",
    "%autoreload 2\n",
    "from matplotlib import pyplot as plt\n",
    "import numpy as np\n",
    "import os\n",
    "import pandas as pd\n",
    "import spikeinterface as si\n",
    "from random import choices\n",
    "from scipy import stats\n",
    "import spikeinterface.preprocessing as spre\n",
    "\n",
    "# SET PROJECT PATH\n",
    "\n",
    "PROJ_PATH = \"/home/steeve/steeve/epfl/code/spikebias/\"\n",
    "os.chdir(PROJ_PATH)\n",
    "\n",
    "from src.nodes.utils import standardize_layers\n",
    "from src.nodes.prepro.run import run as prep\n",
    "\n",
    "RAW_PATH_ns = 'dataset/00_raw/recording_npx_spont'\n",
    "#PREP_PATH_ns = 'dataset/01_intermediate/preprocessing/recording_npx_spont'\n",
    "#PREP_PATH_ms = 'dataset/01_intermediate/preprocessing/recording_marques_smith'\n",
    "#PREP_PATH_e = 'dataset/01_intermediate/preprocessing/recording_npx_evoked'\n",
    "\n",
    "lyrs = [\"L1\", \"L2/3\", \"L4\", \"L5\", \"L6\"]\n",
    "\n",
    "tmp_path = './' # can be deleted to save space\n",
    "\n",
    "# parallel processing parameters\n",
    "N_JOBS = 10                # (default = 20) number of parallel processes for waveform extraction (20/32)\n",
    "CHUNKS = 10000             # (default = 800000) use smaller chunks to use less RAM"
   ]
  },
  {
   "cell_type": "markdown",
   "metadata": {},
   "source": [
    "Expected:\n",
    "\n",
    "\n",
    "Marques-Smith: 362  \n",
    "Marques-Smith (all sites): 362  \n",
    "Biophy. spont.: 361  \n",
    "Biophy. spont. (all sites): 361  \n",
    "Biophy. evoked: 387  \n",
    "Biophy. evoked (all sites): 387  "
   ]
  },
  {
   "cell_type": "markdown",
   "metadata": {},
   "source": [
    "## Custom functions"
   ]
  },
  {
   "cell_type": "code",
   "execution_count": 2,
   "metadata": {},
   "outputs": [],
   "source": [
    "def report_amplitudes(traces, sites, label):\n",
    "    \"\"\"\n",
    "    Reports the maximum absolute amplitude for the given traces and sites.\n",
    "\n",
    "    Parameters:\n",
    "    traces (numpy.ndarray): The traces data.\n",
    "    sites (numpy.ndarray): The indices of the sites to consider.\n",
    "    label (str): A label to describe the data being reported.\n",
    "\n",
    "    Returns:\n",
    "    None\n",
    "    \"\"\"\n",
    "    max_amplitude_sites = np.max(np.absolute(traces[:, sites]))\n",
    "    max_amplitude_all = np.max(np.absolute(traces))\n",
    "    print(f\"{label}: {max_amplitude_sites}\")\n",
    "    print(f\"{label} (all sites): {max_amplitude_all}\")\n",
    "\n",
    "def prepare_amplitude_data(rec, layers):\n",
    "    \"\"\"\n",
    "    Prepares the data required for amplitude reporting.\n",
    "\n",
    "    Parameters:\n",
    "    rec (spikeinterface.RecordingExtractor): The recording extractor object.\n",
    "    layers (list): List of layer names to filter.\n",
    "\n",
    "    Returns:\n",
    "    tuple: A tuple containing traces and site indices.\n",
    "    \"\"\"\n",
    "    traces = rec.get_traces()\n",
    "    site_layers = rec.get_property(\"layers\")\n",
    "    site_layers = standardize_layers(site_layers)\n",
    "    sites = np.where(np.isin(site_layers, layers))[0]\n",
    "    return traces, sites"
   ]
  },
  {
   "cell_type": "code",
   "execution_count": 3,
   "metadata": {},
   "outputs": [
    {
     "name": "stdout",
     "output_type": "stream",
     "text": [
      "2025-07-22 14:37:53,546 - root - run.py - run - INFO - High-pass filtered in 0.01 secs\n",
      "2025-07-22 14:37:53,546 - root - run.py - run - INFO - Pipeline completed in 0.01 secs\n",
      "CPU times: user 9.72 ms, sys: 516 µs, total: 10.2 ms\n",
      "Wall time: 20.8 ms\n"
     ]
    },
    {
     "name": "stderr",
     "output_type": "stream",
     "text": [
      "/home/steeve/steeve/epfl/code/spikebias/envs/spikebias/lib/python3.9/site-packages/spikeinterface/core/base.py:1079: UserWarning: Versions are not the same. This might lead to compatibility errors. Using spikeinterface==0.101.2 is recommended\n",
      "  warnings.warn(\n"
     ]
    }
   ],
   "source": [
    "%%time \n",
    "\n",
    "# load recording\n",
    "RecNS = si.load_extractor(RAW_PATH_ns)\n",
    "RecNS = spre.astype(RecNS, \"int16\")\n",
    "RecNS = prep(RecNS, freq_min=300, freq_max=None)"
   ]
  },
  {
   "cell_type": "markdown",
   "metadata": {},
   "source": [
    "## Amplitudes"
   ]
  },
  {
   "cell_type": "code",
   "execution_count": null,
   "metadata": {},
   "outputs": [],
   "source": [
    "%%time \n",
    "\n",
    "# NS\n",
    "traces_ns, sites_ns = prepare_amplitude_data(RecNS, lyrs)\n",
    "report_amplitudes(traces_ns, sites_ns, \"Biophy. spont.\")\n",
    "\n",
    "# # Marques-Smith\n",
    "# RecMS = si.load_extractor(PREP_PATH_ms)\n",
    "# traces_ms, sites_ms = prepare_amplitude_data(RecMS, lyrs)\n",
    "# report_amplitudes(traces_ms, sites_ms, \"Marques-Smith\")\n",
    "\n",
    "# # E\n",
    "# RecE = si.load_extractor(PREP_PATH_e)\n",
    "# traces_e, sites_e = prepare_amplitude_data(RecE, lyrs)\n",
    "# report_amplitudes(traces_e, sites_ms, \"Evoked\")"
   ]
  }
 ],
 "metadata": {
  "kernelspec": {
   "display_name": "spikebias",
   "language": "python",
   "name": "python3"
  },
  "language_info": {
   "codemirror_mode": {
    "name": "ipython",
    "version": 3
   },
   "file_extension": ".py",
   "mimetype": "text/x-python",
   "name": "python",
   "nbconvert_exporter": "python",
   "pygments_lexer": "ipython3",
   "version": "3.9.7"
  }
 },
 "nbformat": 4,
 "nbformat_minor": 2
}
