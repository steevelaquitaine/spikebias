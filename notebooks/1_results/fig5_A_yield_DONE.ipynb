{
 "cells": [
  {
   "cell_type": "markdown",
   "metadata": {},
   "source": [
    "# Yield (KS4)\n",
    "\n",
    "author: laquitainesteeve@gmail.com\n",
    "\n",
    "Validate yield from ks4\n",
    "\n",
    "Tested on Ubuntu 24.04.1 LTS (32 cores, 188 GB RAM, Intel(R) Core(TM) i9-14900K ＠3.2 GHz/5.8 GHz) with RTX 5090 GPU with 40GB VRAM (GPU not needed)\n",
    "\n",
    "Required resources:\n",
    "\n",
    "- RAM: 184 GB\n",
    "\n",
    "## Setup\n",
    "\n",
    "Prerequisites:\n",
    "\n",
    "1. Setup \"_envs/spikebias.yml_\" virtual environment\n",
    "2. Setup jupyter kernel _$python -m ipykernel install --user --name spikebias --display-name \"spikebias\"_\n",
    "3. Download with notebooks/0_download_sortings.ipynb\n",
    "4. Or Spike sort with: \n",
    "    - \"_src/pipes/sorting/npx_vivo/10m/ks4.py_\" \n",
    "    - \"_src/pipes/sorting/npx_spont/10m/ks4.py_\"\n",
    "    - \"_src/pipes/sorting/npx_evoked/10m/ks4.py_\"\n",
    "    - \"_src/pipes/sorting/npx_synth/10m/ks4.py_\"\n",
    "    etc .. for denser probe"
   ]
  },
  {
   "cell_type": "code",
   "execution_count": null,
   "metadata": {},
   "outputs": [
    {
     "name": "stdout",
     "output_type": "stream",
     "text": [
      "2024-09-22 18:48:30,061 - root - utils.py - get_config - INFO - Reading experiment config.\n",
      "2024-09-22 18:48:30,094 - root - utils.py - get_config - INFO - Reading experiment config. - done\n",
      "2024-09-22 18:48:30,095 - root - utils.py - get_config - INFO - Reading experiment config.\n",
      "2024-09-22 18:48:30,127 - root - utils.py - get_config - INFO - Reading experiment config. - done\n",
      "2024-09-22 18:48:30,128 - root - utils.py - get_config - INFO - Reading experiment config.\n",
      "2024-09-22 18:48:30,143 - root - utils.py - get_config - INFO - Reading experiment config. - done\n",
      "2024-09-22 18:48:30,144 - root - utils.py - get_config - INFO - Reading experiment config.\n",
      "2024-09-22 18:48:30,192 - root - utils.py - get_config - INFO - Reading experiment config. - done\n",
      "2024-09-22 18:48:30,194 - root - utils.py - get_config - INFO - Reading experiment config.\n",
      "2024-09-22 18:48:30,215 - root - utils.py - get_config - INFO - Reading experiment config. - done\n",
      "2024-09-22 18:48:30,216 - root - utils.py - get_config - INFO - Reading experiment config.\n",
      "2024-09-22 18:48:30,236 - root - utils.py - get_config - INFO - Reading experiment config. - done\n",
      "2024-09-22 18:48:30,238 - root - utils.py - get_config - INFO - Reading experiment config.\n",
      "2024-09-22 18:48:30,256 - root - utils.py - get_config - INFO - Reading experiment config. - done\n",
      "2024-09-22 18:48:30,257 - root - utils.py - get_config - INFO - Reading experiment config.\n",
      "2024-09-22 18:48:30,275 - root - utils.py - get_config - INFO - Reading experiment config. - done\n",
      "2024-09-22 18:48:30,277 - root - utils.py - get_config - INFO - Reading experiment config.\n",
      "2024-09-22 18:48:30,304 - root - utils.py - get_config - INFO - Reading experiment config. - done\n",
      "2024-09-22 18:48:30,305 - root - utils.py - get_config - INFO - Reading experiment config.\n",
      "2024-09-22 18:48:30,339 - root - utils.py - get_config - INFO - Reading experiment config. - done\n",
      "2024-09-22 18:48:30,340 - root - utils.py - get_config - INFO - Reading experiment config.\n",
      "2024-09-22 18:48:30,366 - root - utils.py - get_config - INFO - Reading experiment config. - done\n"
     ]
    }
   ],
   "source": [
    "%load_ext autoreload\n",
    "%autoreload 2\n",
    "from matplotlib import pyplot as plt\n",
    "import numpy as np\n",
    "import os\n",
    "import pandas as pd\n",
    "import spikeinterface as si\n",
    "import matplotlib\n",
    "import seaborn\n",
    "from random import choices\n",
    "from scipy import stats\n",
    "\n",
    "# SET PROJECT PATH\n",
    "\n",
    "PROJ_PATH = \"/home/steeve/steeve/epfl/code/spikebias\"\n",
    "os.chdir(PROJ_PATH)\n",
    "\n",
    "# spikebias package\n",
    "from src.nodes.validation import firing_rate as fr\n",
    "from src.nodes.analysis.failures import isolation\n",
    "\n",
    "# SETUP EXPERIMENTS\n",
    "\n",
    "# setup kilosort4 sorting paths\n",
    "SORTED_PATH_nv = \"dataset/01_intermediate/sorting/marques/SortingKS4_10m\"\n",
    "SORTED_PATH_ns = \"dataset/01_intermediate/sorting/npx_spont/SortingKS4_10m\"\n",
    "SORTED_PATH_ns_2X = \"dataset/01_intermediate/sorting/npx_spont_2X/SortingKS4_10m\"\n",
    "SORTED_PATH_ne = \"dataset/01_intermediate/sorting/npx_evoked/SortingKS4_10m\"\n",
    "SORTED_PATH_nb = \"dataset/01_intermediate/sorting/buccino/SortingKS4_10m\"\n",
    "\n",
    "# setup kilosort4 sorting paths\n",
    "SORTED_HV1 = \"dataset/01_intermediate/sorting/horvath/probe_1/SortingKS4_10m\"\n",
    "SORTED_HV2 = \"dataset/01_intermediate/sorting/horvath/probe_2/SortingKS4_10m\"\n",
    "SORTED_HV3 = \"dataset/01_intermediate/sorting/horvath/probe_3/SortingKS4_10m\"\n",
    "SORTED_HS1 = \"dataset/01_intermediate/sorting/dense_probe1/SortingKS4_10m\"\n",
    "SORTED_HS2 = \"dataset/01_intermediate/sorting/dense_probe2/SortingKS4_10m\"\n",
    "SORTED_HS3 = \"dataset/01_intermediate/sorting/dense_probe3/SortingKS4_10m\"\n",
    "\n",
    "# SETUP WAVEFORMS\n",
    "MS_BEFORE = 3\n",
    "MS_AFTER = 3\n",
    "\n",
    "# SETUP PLOT \n",
    "\n",
    "# set lognormal plot parameters\n",
    "log_x_min = -3.0\n",
    "log_x_max = 3.0\n",
    "nbins = 30\n",
    "\n",
    "# IF you don't want to use the feature, set the value to 1E100\n",
    "# t_dec = 3600 # seconds until experimenter decides a cell is silent\n",
    "t_dec = 1^100 # seconds until experimenter decides a cell is silent\n",
    "\n",
    "cl = dict()\n",
    "cl[\"COLOR_NV\"] = [0.6, 0.6, 0.6]\n",
    "cl[\"COLOR_NS\"] = [0.9, 0.14, 0.15]\n",
    "cl[\"COLOR_NB\"] = [0.22, 0.5, 0.72] # blue\n",
    "cl[\"COLOR_NE\"] = [1, 0.49, 0] # orange\n",
    "cl[\"COLOR_HV\"] = \"k\" # black\n",
    "cl[\"COLOR_HS\"] = np.array([26, 152, 80]) / 255 # green\n",
    "\n",
    "# axes\n",
    "plt.rcParams[\"font.family\"] = \"Arial\"\n",
    "plt.rcParams[\"font.size\"] = 6  # 5-7 with Nature neuroscience as reference\n",
    "plt.rcParams[\"lines.linewidth\"] = 0.5 # typically between 0.5 and 1\n",
    "plt.rcParams[\"axes.linewidth\"] = 0.5 #1\n",
    "plt.rcParams[\"axes.spines.top\"] = False\n",
    "plt.rcParams[\"xtick.major.width\"] = 0.5 #0.8 #* 1.3\n",
    "plt.rcParams[\"xtick.minor.width\"] = 0.5 #0.8 #* 1.3\n",
    "plt.rcParams[\"ytick.major.width\"] = 0.5 #0.8 #* 1.3\n",
    "plt.rcParams[\"ytick.minor.width\"] = 0.5 #0.8 #* 1.3\n",
    "plt.rcParams[\"xtick.major.size\"] = 3.5 * 1.1\n",
    "plt.rcParams[\"xtick.minor.size\"] = 2 * 1.1\n",
    "plt.rcParams[\"ytick.major.size\"] = 3.5 * 1.1\n",
    "plt.rcParams[\"ytick.minor.size\"] = 2 * 1.1\n",
    "# legend\n",
    "savefig_cfg = {\"transparent\":True, \"dpi\": 300}\n",
    "legend_cfg = {\"frameon\": False, \"handletextpad\": 0.5}\n",
    "tight_layout_cfg = {\"pad\": 0.001}\n",
    "LG_FRAMEON = False              # no legend frame"
   ]
  },
  {
   "cell_type": "markdown",
   "metadata": {},
   "source": [
    "## Get metadata"
   ]
  },
  {
   "cell_type": "code",
   "execution_count": 4,
   "metadata": {},
   "outputs": [],
   "source": [
    "# get unit metadata\n",
    "df_nv = fr.get_sorted_unit_meta(SORTED_PATH_nv)\n",
    "df_ns = fr.get_sorted_unit_meta(SORTED_PATH_ns)\n",
    "df_ns_2X = fr.get_sorted_unit_meta(SORTED_PATH_ns_2X)\n",
    "df_ne = fr.get_sorted_unit_meta(SORTED_PATH_ne)\n",
    "df_nb = fr.get_synth_unit_meta(SORTED_PATH_nb)\n",
    "\n",
    "# keep units in cortex\n",
    "df_nv = df_nv[np.isin(df_nv[\"layer\"], [\"L1\", \"L2/3\", \"L4\", \"L5\", \"L6\"])]\n",
    "df_ns = df_ns[np.isin(df_ns[\"layer\"], [\"L1\", \"L2\", \"L3\", \"L4\", \"L5\", \"L6\"])]\n",
    "df_ns_2X = df_ns_2X[np.isin(df_ns_2X[\"layer\"], [\"L1\", \"L2\", \"L3\", \"L4\", \"L5\", \"L6\"])]\n",
    "df_ne = df_ne[np.isin(df_ne[\"layer\"], [\"L1\", \"L2\", \"L3\", \"L4\", \"L5\", \"L6\"])]\n",
    "\n",
    "# standardize layer 2/3\n",
    "df_ns[\"layer\"][(df_ns[\"layer\"] == \"L2\") | (df_ns[\"layer\"] == \"L3\")] = \"L2/3\"\n",
    "df_ns_2X[\"layer\"][(df_ns_2X[\"layer\"] == \"L2\") | (df_ns_2X[\"layer\"] == \"L3\")] = \"L2/3\"\n",
    "df_ne[\"layer\"][(df_ne[\"layer\"] == \"L2\") | (df_ne[\"layer\"] == \"L3\")] = \"L2/3\"\n",
    "\n",
    "# unit-test: check all in cortex\n",
    "assert all(\n",
    "    np.isin(np.sort(df_nv[\"layer\"].unique()), [\"L1\", \"L2/3\", \"L4\", \"L5\", \"L6\"])\n",
    "), \"nor all in cortex\"\n",
    "assert all(\n",
    "    np.isin(np.sort(df_ns[\"layer\"].unique()), [\"L1\", \"L2/3\", \"L4\", \"L5\", \"L6\"])\n",
    "), \"nor all in cortex\"\n",
    "assert all(\n",
    "    np.isin(np.sort(df_ns_2X[\"layer\"].unique()), [\"L1\", \"L2/3\", \"L4\", \"L5\", \"L6\"])\n",
    "), \"nor all in cortex\"\n",
    "assert all(\n",
    "    np.isin(np.sort(df_nv[\"layer\"].unique()), [\"L1\", \"L2/3\", \"L4\", \"L5\", \"L6\"])\n",
    "), \"nor all in cortex\""
   ]
  },
  {
   "cell_type": "markdown",
   "metadata": {},
   "source": [
    "## Plot isolation quality NPX"
   ]
  },
  {
   "cell_type": "code",
   "execution_count": 5,
   "metadata": {},
   "outputs": [
    {
     "data": {
      "text/html": [
       "<div>\n",
       "<style scoped>\n",
       "    .dataframe tbody tr th:only-of-type {\n",
       "        vertical-align: middle;\n",
       "    }\n",
       "\n",
       "    .dataframe tbody tr th {\n",
       "        vertical-align: top;\n",
       "    }\n",
       "\n",
       "    .dataframe thead th {\n",
       "        text-align: right;\n",
       "    }\n",
       "</style>\n",
       "<table border=\"1\" class=\"dataframe\">\n",
       "  <thead>\n",
       "    <tr style=\"text-align: right;\">\n",
       "      <th></th>\n",
       "      <th>layer</th>\n",
       "      <th>firing_rate</th>\n",
       "      <th>kslabel</th>\n",
       "      <th>amplitude</th>\n",
       "    </tr>\n",
       "  </thead>\n",
       "  <tbody>\n",
       "    <tr>\n",
       "      <th>51</th>\n",
       "      <td>L6</td>\n",
       "      <td>5.9716668128967285</td>\n",
       "      <td>mua</td>\n",
       "      <td>9.3</td>\n",
       "    </tr>\n",
       "    <tr>\n",
       "      <th>151</th>\n",
       "      <td>L6</td>\n",
       "      <td>21.28333282470703</td>\n",
       "      <td>good</td>\n",
       "      <td>8.1</td>\n",
       "    </tr>\n",
       "    <tr>\n",
       "      <th>152</th>\n",
       "      <td>L6</td>\n",
       "      <td>6.199999809265137</td>\n",
       "      <td>good</td>\n",
       "      <td>7.5</td>\n",
       "    </tr>\n",
       "    <tr>\n",
       "      <th>157</th>\n",
       "      <td>L6</td>\n",
       "      <td>3.4683332443237305</td>\n",
       "      <td>good</td>\n",
       "      <td>9.0</td>\n",
       "    </tr>\n",
       "    <tr>\n",
       "      <th>160</th>\n",
       "      <td>L6</td>\n",
       "      <td>1.1549999713897705</td>\n",
       "      <td>good</td>\n",
       "      <td>8.8</td>\n",
       "    </tr>\n",
       "    <tr>\n",
       "      <th>...</th>\n",
       "      <td>...</td>\n",
       "      <td>...</td>\n",
       "      <td>...</td>\n",
       "      <td>...</td>\n",
       "    </tr>\n",
       "    <tr>\n",
       "      <th>351</th>\n",
       "      <td>L6</td>\n",
       "      <td>0.0833333358168602</td>\n",
       "      <td>mua</td>\n",
       "      <td>8.5</td>\n",
       "    </tr>\n",
       "    <tr>\n",
       "      <th>352</th>\n",
       "      <td>L6</td>\n",
       "      <td>2.1033332347869873</td>\n",
       "      <td>good</td>\n",
       "      <td>9.1</td>\n",
       "    </tr>\n",
       "    <tr>\n",
       "      <th>353</th>\n",
       "      <td>L6</td>\n",
       "      <td>16.15166664123535</td>\n",
       "      <td>good</td>\n",
       "      <td>7.6</td>\n",
       "    </tr>\n",
       "    <tr>\n",
       "      <th>354</th>\n",
       "      <td>L6</td>\n",
       "      <td>2.3983333110809326</td>\n",
       "      <td>mua</td>\n",
       "      <td>8.7</td>\n",
       "    </tr>\n",
       "    <tr>\n",
       "      <th>355</th>\n",
       "      <td>L6</td>\n",
       "      <td>4.488333225250244</td>\n",
       "      <td>good</td>\n",
       "      <td>8.4</td>\n",
       "    </tr>\n",
       "  </tbody>\n",
       "</table>\n",
       "<p>200 rows × 4 columns</p>\n",
       "</div>"
      ],
      "text/plain": [
       "    layer         firing_rate kslabel amplitude\n",
       "51     L6  5.9716668128967285     mua       9.3\n",
       "151    L6   21.28333282470703    good       8.1\n",
       "152    L6   6.199999809265137    good       7.5\n",
       "157    L6  3.4683332443237305    good       9.0\n",
       "160    L6  1.1549999713897705    good       8.8\n",
       "..    ...                 ...     ...       ...\n",
       "351    L6  0.0833333358168602     mua       8.5\n",
       "352    L6  2.1033332347869873    good       9.1\n",
       "353    L6   16.15166664123535    good       7.6\n",
       "354    L6  2.3983333110809326     mua       8.7\n",
       "355    L6   4.488333225250244    good       8.4\n",
       "\n",
       "[200 rows x 4 columns]"
      ]
     },
     "execution_count": 5,
     "metadata": {},
     "output_type": "execute_result"
    }
   ],
   "source": [
    "df_nv"
   ]
  },
  {
   "cell_type": "code",
   "execution_count": 6,
   "metadata": {},
   "outputs": [
    {
     "data": {
      "image/png": "[encoded data removed]",
      "text/plain": [
       "<Figure size 150x100 with 1 Axes>"
      ]
     },
     "metadata": {},
     "output_type": "display_data"
    }
   ],
   "source": [
    "# setup\n",
    "FIGSIZE = (1.5, 1)\n",
    "_, ax = plt.subplots(1, 1, figsize=FIGSIZE)\n",
    "\n",
    "# plot\n",
    "isolation.plot_unit_isolation(ax, df_nv, df_ns, df_ns_2X, df_ne, df_nb, legend_cfg)\n",
    "ax.set_yticks([0, 0.25, 0.5, 0.75, 1], [0, 0.25, 0.5, 0.75, 1])\n",
    "\n",
    "# save figures\n",
    "plt.savefig(\n",
    "    \"figures/1_sorting_quality/yield/assets/fig5A_npx_unit_isolation.svg\",\n",
    "    **savefig_cfg,\n",
    ")"
   ]
  },
  {
   "cell_type": "code",
   "execution_count": 7,
   "metadata": {},
   "outputs": [],
   "source": [
    "# number of single-units\n",
    "good_m = sum(df_nv[\"kslabel\"] == \"good\")\n",
    "good_ns = sum(df_ns[\"kslabel\"] == \"good\")\n",
    "good_ns2x = sum(df_ns_2X[\"kslabel\"] == \"good\")\n",
    "good_e = sum(df_ne[\"kslabel\"] == \"good\")\n",
    "good_s = sum(df_nb[\"kslabel\"] == \"good\")\n",
    "\n",
    "# number of total sorted units\n",
    "total_m = len(df_nv[\"kslabel\"])\n",
    "total_ns = len(df_ns[\"kslabel\"])\n",
    "total_ns2x = len(df_ns_2X[\"kslabel\"])\n",
    "total_e = len(df_ne[\"kslabel\"])\n",
    "total_s = len(df_nb[\"kslabel\"])\n",
    "\n",
    "good_npx = np.array([good_m, good_ns, good_ns2x, good_e, good_s])\n",
    "total_npx = np.array([total_m, total_ns, total_ns2x, total_e, total_s])"
   ]
  },
  {
   "cell_type": "markdown",
   "metadata": {},
   "source": [
    "### Hyp. Testing: the proportion of single-units is the same across experiments"
   ]
  },
  {
   "cell_type": "markdown",
   "metadata": {},
   "source": [
    "#### Spontaneous regimes"
   ]
  },
  {
   "cell_type": "code",
   "execution_count": 31,
   "metadata": {},
   "outputs": [
    {
     "name": "stdout",
     "output_type": "stream",
     "text": [
      "\n",
      "NPX:\n",
      "expected sorting accuracy: 41.0 %\n",
      "\\chi^2 (2, 1212)=2.0, p=0.3666237758281437\n"
     ]
    }
   ],
   "source": [
    "# report stats\n",
    "ddof = 0  # default adjustment of the degree of freedom\n",
    "dof = len(good_npx[:3]) - 1 - ddof  # the degree of freedom\n",
    "result = stats.chisquare(f_obs=good_npx[:3] / total_npx[:3] * 100, ddof=0)\n",
    "print(\"\\nNPX:\")\n",
    "print(\n",
    "    \"expected sorting accuracy:\",\n",
    "    np.round(np.mean(good_npx[:3] / total_npx[:3] * 100)),\n",
    "    \"%\",\n",
    ")\n",
    "print(\n",
    "    f\"\\chi^2 ({dof}, {sum(total_npx[:3])})={np.round(result.statistic,1)}, p={result.pvalue}\"\n",
    ")"
   ]
  },
  {
   "cell_type": "markdown",
   "metadata": {},
   "source": [
    "#### Spontaneous vs. evoked"
   ]
  },
  {
   "cell_type": "code",
   "execution_count": 38,
   "metadata": {},
   "outputs": [
    {
     "name": "stdout",
     "output_type": "stream",
     "text": [
      "\n",
      "NPX:\n",
      "expected sorting accuracy: 24.0 %\n",
      "\\chi^2 (1, 3993)=12.8, p=0.0003525852052219466\n"
     ]
    }
   ],
   "source": [
    "# report stats\n",
    "ddof = 0  # default adjustment of the degree of freedom\n",
    "dof = len(good_npx[[1, 3]]) - 1 - ddof  # the degree of freedom\n",
    "result = stats.chisquare(f_obs=good_npx[[1, 3]] / total_npx[[1, 3]] * 100, ddof=0)\n",
    "print(\"\\nNPX:\")\n",
    "print(\n",
    "    \"expected sorting accuracy:\",\n",
    "    np.round(np.mean(good_npx[[1, 3]] / total_npx[[1, 3]] * 100)),\n",
    "    \"%\",\n",
    ")\n",
    "print(\n",
    "    f\"\\chi^2 ({dof}, {sum(total_npx[[1, 3]])})={np.round(result.statistic,1)}, p={result.pvalue}\"\n",
    ")"
   ]
  },
  {
   "cell_type": "markdown",
   "metadata": {},
   "source": [
    "#### Synthetic vs. vivo"
   ]
  },
  {
   "cell_type": "code",
   "execution_count": 40,
   "metadata": {},
   "outputs": [
    {
     "name": "stdout",
     "output_type": "stream",
     "text": [
      "\n",
      "NPX:\n",
      "expected sorting accuracy: 59.0 %\n",
      "\\chi^2 (1, 740)=4.0, p=0.04445298002456542\n"
     ]
    }
   ],
   "source": [
    "# report stats\n",
    "ddof = 0  # default adjustment of the degree of freedom\n",
    "dof = len(good_npx[[0, 4]]) - 1 - ddof  # the degree of freedom\n",
    "result = stats.chisquare(f_obs=good_npx[[0, 4]] / total_npx[[0, 4]] * 100, ddof=0)\n",
    "print(\"\\nNPX:\")\n",
    "print(\n",
    "    \"expected sorting accuracy:\",\n",
    "    np.round(np.mean(good_npx[[0, 4]] / total_npx[[0, 4]] * 100)),\n",
    "    \"%\",\n",
    ")\n",
    "print(\n",
    "    f\"\\chi^2 ({dof}, {sum(total_npx[[0,4]])})={np.round(result.statistic,1)}, p={result.pvalue}\"\n",
    ")"
   ]
  },
  {
   "cell_type": "markdown",
   "metadata": {},
   "source": [
    "## Isolation dense probe"
   ]
  },
  {
   "cell_type": "code",
   "execution_count": 9,
   "metadata": {},
   "outputs": [
    {
     "data": {
      "image/png": "[encoded data removed]",
      "text/plain": [
       "<Figure size 60x100 with 1 Axes>"
      ]
     },
     "metadata": {},
     "output_type": "display_data"
    }
   ],
   "source": [
    "# get metadata\n",
    "df_hv1 = fr.get_sorted_unit_meta(SORTED_HV1)\n",
    "df_hv2 = fr.get_sorted_unit_meta(SORTED_HV2)\n",
    "df_hv3 = fr.get_sorted_unit_meta(SORTED_HV3)\n",
    "df_hs1 = fr.get_sorted_unit_meta(SORTED_HS1)\n",
    "df_hs2 = fr.get_sorted_unit_meta(SORTED_HS2)\n",
    "df_hs3 = fr.get_sorted_unit_meta(SORTED_HS3)\n",
    "\n",
    "# keep units in cortex\n",
    "df_hv1 = df_hv1[np.isin(df_hv1[\"layer\"], [\"L1\", \"L2/3\", \"L4\", \"L5\", \"L6\"])]\n",
    "df_hv2 = df_hv2[np.isin(df_hv2[\"layer\"], [\"L1\", \"L2/3\", \"L4\", \"L5\", \"L6\"])]\n",
    "df_hv3 = df_hv3[np.isin(df_hv3[\"layer\"], [\"L1\", \"L2/3\", \"L4\", \"L5\", \"L6\"])]\n",
    "df_hs1 = df_hs1[np.isin(df_hs1[\"layer\"], [\"L1\", \"L2/3\", \"L4\", \"L5\", \"L6\"])]\n",
    "df_hs2 = df_hs2[np.isin(df_hs2[\"layer\"], [\"L1\", \"L2/3\", \"L4\", \"L5\", \"L6\"])]\n",
    "df_hs3 = df_hs3[np.isin(df_hs3[\"layer\"], [\"L1\", \"L2/3\", \"L4\", \"L5\", \"L6\"])]\n",
    "\n",
    "# unit-test: check all in cortex\n",
    "assert all(\n",
    "    np.isin(np.sort(df_hv1[\"layer\"].unique()), [\"L1\", \"L2/3\", \"L4\", \"L5\", \"L6\"])\n",
    "), \"nor all in cortex\"\n",
    "assert all(\n",
    "    np.isin(np.sort(df_hv2[\"layer\"].unique()), [\"L1\", \"L2/3\", \"L4\", \"L5\", \"L6\"])\n",
    "), \"nor all in cortex\"\n",
    "assert all(\n",
    "    np.isin(np.sort(df_hv3[\"layer\"].unique()), [\"L1\", \"L2/3\", \"L4\", \"L5\", \"L6\"])\n",
    "), \"nor all in cortex\"\n",
    "\n",
    "assert all(\n",
    "    np.isin(np.sort(df_hs1[\"layer\"].unique()), [\"L1\", \"L2/3\", \"L4\", \"L5\", \"L6\"])\n",
    "), \"nor all in cortex\"\n",
    "assert all(\n",
    "    np.isin(np.sort(df_hs2[\"layer\"].unique()), [\"L1\", \"L2/3\", \"L4\", \"L5\", \"L6\"])\n",
    "), \"nor all in cortex\"\n",
    "assert all(\n",
    "    np.isin(np.sort(df_hs3[\"layer\"].unique()), [\"L1\", \"L2/3\", \"L4\", \"L5\", \"L6\"])\n",
    "), \"nor all in cortex\"\n",
    "\n",
    "# setup\n",
    "FIGSIZE = (0.6, 1)\n",
    "_, ax = plt.subplots(1, 1, figsize=FIGSIZE)\n",
    "\n",
    "# plot\n",
    "ax = isolation.plot_unit_isolation_dense_probe(\n",
    "    ax, df_hv1, df_hv2, df_hv3, df_hs1, df_hs2, df_hs3\n",
    ")\n",
    "ax.set_yticks([0, 0.25, 0.5, 0.75, 1], [0, 0.25, 0.5, 0.75, 1])\n",
    "\n",
    "# save figures\n",
    "plt.savefig(\n",
    "    \"figures/1_sorting_quality/yield/assets/fig5B_dense_unit_isolation.svg\",\n",
    "    **savefig_cfg,\n",
    ")"
   ]
  },
  {
   "cell_type": "markdown",
   "metadata": {},
   "source": [
    "### Hyp. Testing: the proportion of single-units is the same across experiments"
   ]
  },
  {
   "cell_type": "code",
   "execution_count": 24,
   "metadata": {},
   "outputs": [
    {
     "data": {
      "text/plain": [
       "array([ 93, 206])"
      ]
     },
     "execution_count": 24,
     "metadata": {},
     "output_type": "execute_result"
    }
   ],
   "source": [
    "good_hv1 = sum(df_hv1[\"kslabel\"] == \"good\")\n",
    "good_hv2 = sum(df_hv2[\"kslabel\"] == \"good\")\n",
    "good_hv3 = sum(df_hv3[\"kslabel\"] == \"good\")\n",
    "good_h = good_hv1 + good_hv2 + good_hv3\n",
    "total_h = len(df_hv1[\"kslabel\"]) + len(df_hv2[\"kslabel\"]) + len(df_hv3[\"kslabel\"])\n",
    "\n",
    "good_hs1 = sum(df_hs1[\"kslabel\"] == \"good\")\n",
    "good_hs2 = sum(df_hs2[\"kslabel\"] == \"good\")\n",
    "good_hs3 = sum(df_hs3[\"kslabel\"] == \"good\")\n",
    "\n",
    "good_ds = good_hs1 + good_hs2 + good_hs3\n",
    "total_ds = len(df_hs1[\"kslabel\"]) + len(df_hs2[\"kslabel\"]) + len(df_hs3[\"kslabel\"])\n",
    "\n",
    "good_dense = np.array([good_h, good_ds])\n",
    "total_dense = np.array([total_h, total_ds])"
   ]
  },
  {
   "cell_type": "code",
   "execution_count": 26,
   "metadata": {},
   "outputs": [
    {
     "name": "stdout",
     "output_type": "stream",
     "text": [
      "\n",
      "dense:\n",
      "expected sorting accuracy: 31.0 %\n",
      "\\chi^2 (1, 920)=1.8, p=0.17729337530535055\n"
     ]
    }
   ],
   "source": [
    "# report stats\n",
    "ddof = 0  # default adjustment of the degree of freedom\n",
    "dof = len(good_dense) - 1 - ddof  # the degree of freedom\n",
    "result = stats.chisquare(f_obs=good_dense / total_dense * 100, ddof=0)\n",
    "print(\"\\ndense:\")\n",
    "print(\n",
    "    \"expected sorting accuracy:\", np.round(np.mean(good_dense / total_dense * 100)), \"%\"\n",
    ")\n",
    "print(\n",
    "    f\"\\chi^2 ({dof}, {sum(total_dense)})={np.round(result.statistic,1)}, p={result.pvalue}\"\n",
    ")"
   ]
  },
  {
   "cell_type": "markdown",
   "metadata": {},
   "source": [
    "### Hyp. testing: single-unit ratio is the same between probe\n",
    "\n",
    "* we compared the average ratios of (M,NS) and (H, DS)"
   ]
  },
  {
   "cell_type": "code",
   "execution_count": 47,
   "metadata": {},
   "outputs": [
    {
     "name": "stdout",
     "output_type": "stream",
     "text": [
      "\n",
      "dense:\n",
      "expected sorting accuracy: 37.0 %\n",
      "\\chi^2 (1, 558)=6.6, p=0.010454200240941174\n"
     ]
    }
   ],
   "source": [
    "good_probes_v = np.array([good_npx[0], good_dense[0]])\n",
    "total_probes_v = np.array([total_npx[0], total_dense[0]])\n",
    "\n",
    "# report stats\n",
    "ddof = 0  # default adjustment of the degree of freedom\n",
    "dof = len(good_probes_v) - 1 - ddof  # the degree of freedom\n",
    "result = stats.chisquare(f_obs=good_probes_v / total_probes_v * 100, ddof=0)\n",
    "print(\"\\ndense:\")\n",
    "print(\n",
    "    \"expected sorting accuracy:\",\n",
    "    np.round(np.mean(good_probes_v / total_probes_v * 100)),\n",
    "    \"%\",\n",
    ")\n",
    "print(\n",
    "    f\"\\chi^2 ({dof}, {sum(total_probes_v)})={np.round(result.statistic,1)}, p={result.pvalue}\"\n",
    ")"
   ]
  },
  {
   "cell_type": "code",
   "execution_count": 56,
   "metadata": {},
   "outputs": [
    {
     "name": "stdout",
     "output_type": "stream",
     "text": [
      "\n",
      "dense:\n",
      "expected sorting accuracy: 36.0 %\n",
      "\\chi^2 (1, 1066)=0.004062372471720449, p=0.9491798471326721\n"
     ]
    }
   ],
   "source": [
    "good_probes_s = np.array([good_npx[1], good_dense[1]])\n",
    "total_probes_s = np.array([total_npx[1], total_dense[1]])\n",
    "\n",
    "# report stats\n",
    "ddof = 0  # default adjustment of the degree of freedom\n",
    "dof = len(good_probes_s) - 1 - ddof  # the degree of freedom\n",
    "result = stats.chisquare(f_obs=good_probes_s / total_probes_s * 100, ddof=0)\n",
    "print(\"\\ndense:\")\n",
    "print(\n",
    "    \"expected sorting accuracy:\",\n",
    "    np.round(np.mean(good_probes_s / total_probes_s * 100)),\n",
    "    \"%\",\n",
    ")\n",
    "print(f\"\\chi^2 ({dof}, {sum(total_probes_s)})={result.statistic}, p={result.pvalue}\")"
   ]
  }
 ],
 "metadata": {
  "kernelspec": {
   "display_name": "spikinterf0_100_5",
   "language": "python",
   "name": "python3"
  },
  "language_info": {
   "codemirror_mode": {
    "name": "ipython",
    "version": 3
   },
   "file_extension": ".py",
   "mimetype": "text/x-python",
   "name": "python",
   "nbconvert_exporter": "python",
   "pygments_lexer": "ipython3",
   "version": "3.9.7"
  }
 },
 "nbformat": 4,
 "nbformat_minor": 2
}
