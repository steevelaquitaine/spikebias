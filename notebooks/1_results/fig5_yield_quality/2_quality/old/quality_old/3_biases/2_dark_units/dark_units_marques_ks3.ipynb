{
 "cells": [
  {
   "cell_type": "markdown",
   "metadata": {},
   "source": [
    "# Dark units (Marques, KS3)"
   ]
  },
  {
   "cell_type": "markdown",
   "metadata": {},
   "source": [
    "TODO: fix SortingTrue_m's sorting accuracy attribute. It was calculated with all units without filtering the single units."
   ]
  },
  {
   "cell_type": "code",
   "execution_count": 1,
   "metadata": {},
   "outputs": [
    {
     "name": "stdout",
     "output_type": "stream",
     "text": [
      "2024-02-25 12:20:09,331 - root - utils.py - get_config - INFO - Reading experiment config.\n",
      "2024-02-25 12:20:09,354 - root - utils.py - get_config - INFO - Reading experiment config. - done\n"
     ]
    }
   ],
   "source": [
    "%load_ext autoreload\n",
    "%autoreload 2\n",
    "import os \n",
    "from matplotlib import pyplot as plt\n",
    "import numpy as np\n",
    "from collections import Counter\n",
    "import pandas as pd\n",
    "import seaborn as sns \n",
    "import spikeinterface as si\n",
    "import copy\n",
    "proj_path = \"/gpfs/bbp.cscs.ch/project/proj85/home/laquitai/spikebias/\"\n",
    "os.chdir(proj_path)\n",
    "\n",
    "from src.nodes.postpro.cell_matching import get_SpikeInterface_matching_object, match_sorted_to_true_neuropixels_2023_02_19\n",
    "from src.nodes.utils import get_config\n",
    "from src.nodes.postpro.feateng import (add_firing_rates)\n",
    "from src.nodes.postpro import spikestats\n",
    "from src.nodes.study import bias\n",
    "from src.nodes.metrics import spike\n",
    "\n",
    "# set classification parameters\n",
    "LOW_RATE_CEILING = 0.2  # max firing rate where negative proba change is observed in \"bias plot\" (sparse units)\n",
    "DET_THRESH = 0.8\n",
    "CHANCE_THRESH = 0.1\n",
    "\n",
    "# spike waveform ms for snr\n",
    "MS_BEFORE = 3\n",
    "MS_AFTER = 3\n",
    "\n",
    "# silico marques\n",
    "data_conf, param_conf = get_config(\"silico_neuropixels\", \"2023_10_18\").values()\n",
    "SORTING_PATH_m = data_conf[\"sorting\"][\"sorters\"][\"kilosort3\"][\"output\"]\n",
    "GT_SORTING_PATH_m = data_conf[\"sorting\"][\"simulation\"][\"ground_truth\"][\"output\"]\n",
    "RECORDING_PATH_m = data_conf[\"probe_wiring\"][\"output\"]\n",
    "SORTING_PATH_m = data_conf[\"sorting\"][\"sorters\"][\"kilosort3\"][\"output\"]\n",
    "STUDY_FOLDER_m = data_conf[\"postprocessing\"][\"waveform\"][\"ground_truth\"][\"study\"]\n",
    "\n",
    "# FIGURE SETTINGS\n",
    "COLOR_VIVO = (0.7, 0.7, 0.7)\n",
    "COLOR_SILI = (0.84, 0.27, 0.2)\n",
    "COLOR_STIM = (0.6, 0.75, 0.1)\n",
    "BOX_ASPECT = 1                  # square fig\n",
    "plt.rcParams['figure.figsize'] = (2,1)\n",
    "plt.rcParams[\"font.family\"] = \"Arial\"\n",
    "plt.rcParams[\"font.size\"] = 6\n",
    "plt.rcParams['lines.linewidth'] = 0.5\n",
    "plt.rcParams['axes.linewidth'] = 0.5\n",
    "plt.rcParams['axes.spines.top'] = False\n",
    "plt.rcParams['axes.spines.right'] = False\n",
    "plt.rcParams['xtick.major.width'] = 0.3\n",
    "plt.rcParams['xtick.minor.size'] = 0.1\n",
    "plt.rcParams['xtick.major.size'] = 1.5\n",
    "plt.rcParams['ytick.major.size'] = 1.5\n",
    "plt.rcParams['ytick.major.width'] = 0.3\n",
    "legend_cfg = {\"frameon\": False, \"handletextpad\": 0.1}\n",
    "savefig_cfg = {\"transparent\":True}\n",
    "# print(plt.rcParams.keys())"
   ]
  },
  {
   "cell_type": "code",
   "execution_count": 2,
   "metadata": {},
   "outputs": [],
   "source": [
    "# takes 2 min\n",
    "\n",
    "# get true/sorted matching object\n",
    "MatchingObject_m = get_SpikeInterface_matching_object(GT_SORTING_PATH_m, SORTING_PATH_m)"
   ]
  },
  {
   "cell_type": "code",
   "execution_count": 3,
   "metadata": {},
   "outputs": [],
   "source": [
    "agreem_mx_m = bias.format_agreement_matrix(MatchingObject_m)"
   ]
  },
  {
   "cell_type": "code",
   "execution_count": 4,
   "metadata": {},
   "outputs": [],
   "source": [
    "# filter the sorted single units\n",
    "\n",
    "# marques\n",
    "Sorting_m = si.load_extractor(SORTING_PATH_m)\n",
    "agreem_mx_m = agreem_mx_m.loc[\n",
    "    Sorting_m.unit_ids[Sorting_m.get_property(\"KSLabel\") == \"good\"], :\n",
    "]"
   ]
  },
  {
   "cell_type": "code",
   "execution_count": 5,
   "metadata": {},
   "outputs": [
    {
     "name": "stdout",
     "output_type": "stream",
     "text": [
      "combination of biases: ['oversplit' 'poorly detected']\n"
     ]
    },
    {
     "name": "stderr",
     "output_type": "stream",
     "text": [
      "/gpfs/bbp.cscs.ch/project/proj85/home/laquitai/spikebias/src/nodes/study/bias.py:247: UserWarning: Tight layout not applied. The left and right margins cannot be made large enough to accommodate all axes decorations.\n",
      "  plt.tight_layout()\n"
     ]
    },
    {
     "data": {
      "text/plain": [
       "Text(0.5, -33.40819350104296, 'Simulated recordings')"
      ]
     },
     "execution_count": 5,
     "metadata": {},
     "output_type": "execute_result"
    },
    {
     "data": {
      "image/png": "[encoded data removed]",
      "text/plain": [
       "<Figure size 50x100 with 1 Axes>"
      ]
     },
     "metadata": {},
     "output_type": "display_data"
    }
   ],
   "source": [
    "# takes 2 secs\n",
    "\n",
    "# record agreement matrices for each dataset\n",
    "agreem_mxs = [agreem_mx_m]\n",
    "agreem_names = [\"Marques\"]\n",
    "\n",
    "df = pd.DataFrame()\n",
    "\n",
    "for ix, mx_i in enumerate(agreem_mxs):\n",
    "\n",
    "    # classify sorting biases for this dataset\n",
    "    bias_labels = bias.classify_true_unit_biases(mx_i, DET_THRESH, CHANCE_THRESH)\n",
    "\n",
    "    # calculate proportions of biases for this dataset\n",
    "    biases_ratio_df = bias.create_true_biases_df(bias_labels)\n",
    "    df[agreem_names[ix]] = biases_ratio_df[\"cell_count\"].values\n",
    "\n",
    "df.index = biases_ratio_df.index\n",
    "\n",
    "# plot\n",
    "fig, axis = plt.subplots(1, 1, figsize=(0.5, 1))\n",
    "axis = bias.plot_biases(axis, df)\n",
    "axis.set_xlabel(\"Simulated recordings\")"
   ]
  },
  {
   "cell_type": "markdown",
   "metadata": {},
   "source": [
    "### Get all true units features"
   ]
  },
  {
   "cell_type": "code",
   "execution_count": 6,
   "metadata": {},
   "outputs": [],
   "source": [
    "# takes 10 min\n",
    "\n",
    "# get ground truth\n",
    "SortingTrue_m = si.load_extractor(GT_SORTING_PATH_m)\n",
    "\n",
    "# get signal-to-noise ratio\n",
    "snrs = spike.get_true_units_SNRs(RECORDING_PATH_m, STUDY_FOLDER_m, MS_BEFORE, MS_AFTER)\n",
    "\n",
    "# get firing rates\n",
    "snrs = spike.get_true_units_SNRs(RECORDING_PATH_m, STUDY_FOLDER_m, MS_BEFORE, MS_AFTER)\n",
    "\n",
    "# get spatial spread\n",
    "spatial_spread = spike.get_spatial_spread_all_units(\n",
    "    RECORDING_PATH_m, STUDY_FOLDER_m, MS_BEFORE, MS_AFTER\n",
    ")"
   ]
  },
  {
   "cell_type": "markdown",
   "metadata": {},
   "source": [
    "### Sort by missed and detected units"
   ]
  },
  {
   "cell_type": "code",
   "execution_count": 7,
   "metadata": {},
   "outputs": [],
   "source": [
    "# takes 30 secs\n",
    "\n",
    "# - get missed true units\n",
    "# - get well detected true units\n",
    "# - how do their features significantly differ?\n",
    "\n",
    "# MISSED UNITS -----------\n",
    "\n",
    "# get true distances\n",
    "missed_true_units = bias_labels[bias_labels.values == \"missed\"].index.tolist()\n",
    "distances_missed = spike.get_distance_for(\n",
    "    missed_true_units, SortingTrue_m, RECORDING_PATH_m\n",
    ")\n",
    "\n",
    "# get snrs\n",
    "snrs_missed = [snrs[ix] for ix in missed_true_units]\n",
    "\n",
    "# get firing rates\n",
    "firing_rates_missed = spike.get_firing_rates_for(missed_true_units, SortingTrue_m)\n",
    "\n",
    "# get spatial spread\n",
    "spread_missed = [spatial_spread[ix] for ix in missed_true_units]\n",
    "\n",
    "# get layer\n",
    "layers_missed = spike.get_layer_for(missed_true_units, SortingTrue_m)\n",
    "\n",
    "# get synapse class\n",
    "synapse_class_missed = spike.get_synapse_class_for(missed_true_units, SortingTrue_m)\n",
    "\n",
    "# get synapse class\n",
    "etype_missed = spike.get_etype_for(missed_true_units, SortingTrue_m)\n",
    "\n",
    "# get synapse class\n",
    "mtype_missed = spike.get_mtype_for(missed_true_units, SortingTrue_m)\n",
    "\n",
    "# WELL DETECTED UNITS -----------\n",
    "\n",
    "# get true distances\n",
    "detected_true_units = bias_labels[bias_labels.values == \"well detected\"].index.tolist()\n",
    "distances_detected = spike.get_distance_for(\n",
    "    detected_true_units, SortingTrue_m, RECORDING_PATH_m\n",
    ")\n",
    "# get snrs\n",
    "snrs_detected = [snrs[ix] for ix in detected_true_units]\n",
    "\n",
    "# get firing rates\n",
    "firing_rates_detected = spike.get_firing_rates_for(detected_true_units, SortingTrue_m)\n",
    "\n",
    "# get spatial spread\n",
    "spread_detected = [spatial_spread[ix] for ix in detected_true_units]\n",
    "\n",
    "# get layer\n",
    "layers_detected = spike.get_layer_for(detected_true_units, SortingTrue_m)\n",
    "\n",
    "# get synapse class\n",
    "synapse_class_detected = spike.get_synapse_class_for(detected_true_units, SortingTrue_m)\n",
    "\n",
    "# get etype\n",
    "etype_detected = spike.get_etype_for(detected_true_units, SortingTrue_m)\n",
    "\n",
    "# get mtype\n",
    "mtype_detected = spike.get_mtype_for(detected_true_units, SortingTrue_m)\n",
    "\n",
    "\n",
    "# CREATE FEATURE DATASET\n",
    "\n",
    "# missed unit features\n",
    "missed_data = pd.DataFrame()\n",
    "missed_data[\"distance\"] = distances_missed\n",
    "missed_data[\"snr\"] = snrs_missed\n",
    "missed_data[\"firing rate\"] = firing_rates_missed\n",
    "missed_data[\"spread\"] = spread_missed\n",
    "missed_data[\"layer\"] = layers_missed\n",
    "missed_data[\"synapse class\"] = synapse_class_missed\n",
    "missed_data[\"etype\"] = etype_missed\n",
    "missed_data[\"mtype\"] = mtype_missed\n",
    "missed_data[\"bias\"] = \"Missed\"\n",
    "\n",
    "# detected unit features\n",
    "detected_data = pd.DataFrame()\n",
    "detected_data[\"distance\"] = distances_detected\n",
    "detected_data[\"snr\"] = snrs_detected\n",
    "detected_data[\"firing rate\"] = firing_rates_detected\n",
    "detected_data[\"spread\"] = spread_detected\n",
    "detected_data[\"layer\"] = layers_detected\n",
    "detected_data[\"synapse class\"] = synapse_class_detected\n",
    "detected_data[\"etype\"] = etype_detected\n",
    "detected_data[\"mtype\"] = mtype_detected\n",
    "detected_data[\"bias\"] = \"Detected\"\n",
    "\n",
    "# concat for plot\n",
    "plot_data = pd.concat([missed_data, detected_data], ignore_index=True)"
   ]
  },
  {
   "cell_type": "markdown",
   "metadata": {},
   "source": [
    "### Plot quantitative features"
   ]
  },
  {
   "cell_type": "code",
   "execution_count": 8,
   "metadata": {},
   "outputs": [
    {
     "data": {
      "text/html": [
       "<div>\n",
       "<style scoped>\n",
       "    .dataframe tbody tr th:only-of-type {\n",
       "        vertical-align: middle;\n",
       "    }\n",
       "\n",
       "    .dataframe tbody tr th {\n",
       "        vertical-align: top;\n",
       "    }\n",
       "\n",
       "    .dataframe thead th {\n",
       "        text-align: right;\n",
       "    }\n",
       "</style>\n",
       "<table border=\"1\" class=\"dataframe\">\n",
       "  <thead>\n",
       "    <tr style=\"text-align: right;\">\n",
       "      <th></th>\n",
       "      <th>distance</th>\n",
       "      <th>snr</th>\n",
       "      <th>firing rate</th>\n",
       "      <th>spread</th>\n",
       "      <th>layer</th>\n",
       "      <th>synapse class</th>\n",
       "      <th>etype</th>\n",
       "      <th>mtype</th>\n",
       "      <th>bias</th>\n",
       "    </tr>\n",
       "  </thead>\n",
       "  <tbody>\n",
       "    <tr>\n",
       "      <th>0</th>\n",
       "      <td>11.426037</td>\n",
       "      <td>12.147282</td>\n",
       "      <td>0.003401</td>\n",
       "      <td>433.458738</td>\n",
       "      <td>6</td>\n",
       "      <td>EXC</td>\n",
       "      <td>cADpyr</td>\n",
       "      <td>L6_BPC</td>\n",
       "      <td>Missed</td>\n",
       "    </tr>\n",
       "    <tr>\n",
       "      <th>1</th>\n",
       "      <td>33.387475</td>\n",
       "      <td>4.458860</td>\n",
       "      <td>0.008503</td>\n",
       "      <td>300.251298</td>\n",
       "      <td>2</td>\n",
       "      <td>EXC</td>\n",
       "      <td>cADpyr</td>\n",
       "      <td>L2_TPC:B</td>\n",
       "      <td>Missed</td>\n",
       "    </tr>\n",
       "    <tr>\n",
       "      <th>2</th>\n",
       "      <td>12.050085</td>\n",
       "      <td>12.608667</td>\n",
       "      <td>0.005102</td>\n",
       "      <td>743.127335</td>\n",
       "      <td>6</td>\n",
       "      <td>EXC</td>\n",
       "      <td>cADpyr</td>\n",
       "      <td>L6_BPC</td>\n",
       "      <td>Missed</td>\n",
       "    </tr>\n",
       "    <tr>\n",
       "      <th>3</th>\n",
       "      <td>5.339407</td>\n",
       "      <td>28.421812</td>\n",
       "      <td>0.006803</td>\n",
       "      <td>534.134566</td>\n",
       "      <td>3</td>\n",
       "      <td>EXC</td>\n",
       "      <td>cADpyr</td>\n",
       "      <td>L3_TPC:C</td>\n",
       "      <td>Missed</td>\n",
       "    </tr>\n",
       "    <tr>\n",
       "      <th>4</th>\n",
       "      <td>8.266111</td>\n",
       "      <td>9.085604</td>\n",
       "      <td>0.008503</td>\n",
       "      <td>1386.073124</td>\n",
       "      <td>1</td>\n",
       "      <td>INH</td>\n",
       "      <td>cACint</td>\n",
       "      <td>L1_NGC-DA</td>\n",
       "      <td>Missed</td>\n",
       "    </tr>\n",
       "    <tr>\n",
       "      <th>...</th>\n",
       "      <td>...</td>\n",
       "      <td>...</td>\n",
       "      <td>...</td>\n",
       "      <td>...</td>\n",
       "      <td>...</td>\n",
       "      <td>...</td>\n",
       "      <td>...</td>\n",
       "      <td>...</td>\n",
       "      <td>...</td>\n",
       "    </tr>\n",
       "    <tr>\n",
       "      <th>240</th>\n",
       "      <td>26.052684</td>\n",
       "      <td>1.778297</td>\n",
       "      <td>1.693878</td>\n",
       "      <td>252.716463</td>\n",
       "      <td>6</td>\n",
       "      <td>INH</td>\n",
       "      <td>cNAC</td>\n",
       "      <td>L6_NBC</td>\n",
       "      <td>Detected</td>\n",
       "    </tr>\n",
       "    <tr>\n",
       "      <th>241</th>\n",
       "      <td>28.671510</td>\n",
       "      <td>2.746767</td>\n",
       "      <td>1.926872</td>\n",
       "      <td>479.095856</td>\n",
       "      <td>6</td>\n",
       "      <td>EXC</td>\n",
       "      <td>cADpyr</td>\n",
       "      <td>L6_TPC:A</td>\n",
       "      <td>Detected</td>\n",
       "    </tr>\n",
       "    <tr>\n",
       "      <th>242</th>\n",
       "      <td>9.889581</td>\n",
       "      <td>11.653646</td>\n",
       "      <td>0.877551</td>\n",
       "      <td>634.076780</td>\n",
       "      <td>4</td>\n",
       "      <td>EXC</td>\n",
       "      <td>cADpyr</td>\n",
       "      <td>L4_UPC</td>\n",
       "      <td>Detected</td>\n",
       "    </tr>\n",
       "    <tr>\n",
       "      <th>243</th>\n",
       "      <td>5.956232</td>\n",
       "      <td>27.550940</td>\n",
       "      <td>1.384354</td>\n",
       "      <td>490.034546</td>\n",
       "      <td>5</td>\n",
       "      <td>EXC</td>\n",
       "      <td>cADpyr</td>\n",
       "      <td>L5_TPC:C</td>\n",
       "      <td>Detected</td>\n",
       "    </tr>\n",
       "    <tr>\n",
       "      <th>244</th>\n",
       "      <td>41.908479</td>\n",
       "      <td>2.170693</td>\n",
       "      <td>1.938776</td>\n",
       "      <td>442.397029</td>\n",
       "      <td>5</td>\n",
       "      <td>EXC</td>\n",
       "      <td>cADpyr</td>\n",
       "      <td>L5_TPC:A</td>\n",
       "      <td>Detected</td>\n",
       "    </tr>\n",
       "  </tbody>\n",
       "</table>\n",
       "<p>245 rows × 9 columns</p>\n",
       "</div>"
      ],
      "text/plain": [
       "      distance        snr  firing rate       spread layer synapse class  \\\n",
       "0    11.426037  12.147282     0.003401   433.458738     6           EXC   \n",
       "1    33.387475   4.458860     0.008503   300.251298     2           EXC   \n",
       "2    12.050085  12.608667     0.005102   743.127335     6           EXC   \n",
       "3     5.339407  28.421812     0.006803   534.134566     3           EXC   \n",
       "4     8.266111   9.085604     0.008503  1386.073124     1           INH   \n",
       "..         ...        ...          ...          ...   ...           ...   \n",
       "240  26.052684   1.778297     1.693878   252.716463     6           INH   \n",
       "241  28.671510   2.746767     1.926872   479.095856     6           EXC   \n",
       "242   9.889581  11.653646     0.877551   634.076780     4           EXC   \n",
       "243   5.956232  27.550940     1.384354   490.034546     5           EXC   \n",
       "244  41.908479   2.170693     1.938776   442.397029     5           EXC   \n",
       "\n",
       "      etype      mtype      bias  \n",
       "0    cADpyr     L6_BPC    Missed  \n",
       "1    cADpyr   L2_TPC:B    Missed  \n",
       "2    cADpyr     L6_BPC    Missed  \n",
       "3    cADpyr   L3_TPC:C    Missed  \n",
       "4    cACint  L1_NGC-DA    Missed  \n",
       "..      ...        ...       ...  \n",
       "240    cNAC     L6_NBC  Detected  \n",
       "241  cADpyr   L6_TPC:A  Detected  \n",
       "242  cADpyr     L4_UPC  Detected  \n",
       "243  cADpyr   L5_TPC:C  Detected  \n",
       "244  cADpyr   L5_TPC:A  Detected  \n",
       "\n",
       "[245 rows x 9 columns]"
      ]
     },
     "metadata": {},
     "output_type": "display_data"
    },
    {
     "data": {
      "image/png": "[encoded data removed]",
      "text/plain": [
       "<Figure size 350x40 with 4 Axes>"
      ]
     },
     "metadata": {},
     "output_type": "display_data"
    }
   ],
   "source": [
    "# FORMAT PLOT DATASET\n",
    "ASPECT_RATIO = 2\n",
    "GAP = 0.2\n",
    "MARKERSIZE = 2\n",
    "\n",
    "display(plot_data)\n",
    "\n",
    "# PLOT\n",
    "# fig, axes = plt.subplots(1, 4, figsize=(3.5, 0.7))\n",
    "fig, axes = plt.subplots(1, 4, figsize=(3.5, 0.4))\n",
    "\n",
    "# DISTANCE\n",
    "\n",
    "ax = sns.boxplot(\n",
    "    ax=axes[0],\n",
    "    data=plot_data,\n",
    "    hue=\"bias\",\n",
    "    y=\"distance\",\n",
    "    fill=False,\n",
    "    palette=[\"k\", COLOR_SILI],\n",
    "    gap=GAP,\n",
    "    linewidth=plt.rcParams[\"lines.linewidth\"],\n",
    "    flierprops={\"marker\": \".\", \"markersize\": MARKERSIZE},\n",
    ")\n",
    "ax.spines[[\"top\", \"right\"]].set_visible(False)\n",
    "ax.legend(\"\", frameon=False)\n",
    "ax.set_ylabel(\"Distance to site (\\u03bcm)\")\n",
    "ax.set_box_aspect(ASPECT_RATIO)\n",
    "\n",
    "# FIRING RATE\n",
    "\n",
    "ax = sns.boxplot(\n",
    "    ax=axes[1],\n",
    "    data=plot_data,\n",
    "    hue=\"bias\",\n",
    "    y=\"firing rate\",\n",
    "    fill=False,\n",
    "    palette=[\"k\", COLOR_SILI],\n",
    "    gap=GAP,\n",
    "    linewidth=plt.rcParams[\"lines.linewidth\"],\n",
    "    flierprops={\"marker\": \".\", \"markersize\": MARKERSIZE},\n",
    ")\n",
    "\n",
    "ax.spines[[\"top\", \"right\"]].set_visible(False)\n",
    "ax.legend(\"\", frameon=False)\n",
    "ax.set_ylabel(\"Firing rate (spike/s)\")\n",
    "ax.set_box_aspect(ASPECT_RATIO)\n",
    "fig.subplots_adjust(wspace=0.5, hspace=0.1)\n",
    "\n",
    "# SPREAD\n",
    "\n",
    "ax = sns.boxplot(\n",
    "    ax=axes[2],\n",
    "    data=plot_data,\n",
    "    hue=\"bias\",\n",
    "    y=\"spread\",\n",
    "    fill=False,\n",
    "    palette=[\"k\", COLOR_SILI],\n",
    "    gap=GAP,\n",
    "    linewidth=plt.rcParams[\"lines.linewidth\"],\n",
    "    flierprops={\"marker\": \".\", \"markersize\": MARKERSIZE},\n",
    ")\n",
    "\n",
    "ax.spines[[\"top\", \"right\"]].set_visible(False)\n",
    "ax.legend(\"\", frameon=False)\n",
    "ax.set_ylabel(\"Spatial spread (a.u)\")\n",
    "ax.set_box_aspect(ASPECT_RATIO)\n",
    "fig.subplots_adjust(wspace=0.5, hspace=0.1)\n",
    "\n",
    "# SNRS\n",
    "\n",
    "ax = sns.boxplot(\n",
    "    ax=axes[3],\n",
    "    data=plot_data,\n",
    "    hue=\"bias\",\n",
    "    y=\"snr\",\n",
    "    fill=False,\n",
    "    palette=[\"k\", COLOR_SILI],\n",
    "    gap=GAP,\n",
    "    linewidth=plt.rcParams[\"lines.linewidth\"],\n",
    "    flierprops={\"marker\": \".\", \"markersize\": MARKERSIZE},\n",
    ")\n",
    "ax.set_box_aspect(ASPECT_RATIO)\n",
    "\n",
    "ax.spines[[\"top\", \"right\"]].set_visible(False)\n",
    "ax.legend(frameon=False, loc=\"upper left\", bbox_to_anchor=(1, 1))\n",
    "ax.set_ylabel(\"SNR (ratio)\")\n",
    "ax.set_xlabel(\"Unit sorting quality\")\n",
    "# fig.subplots_adjust(wspace=0.5, hspace=0.1)\n",
    "\n",
    "# save figures\n",
    "plt.savefig(\n",
    "    \"/gpfs/bbp.cscs.ch/project/proj85/home/laquitai/spikebias/figures/3_bias/svg/quantitative_portrait_dark_units_marques_ks3.svg\",\n",
    "    **savefig_cfg,\n",
    ")"
   ]
  },
  {
   "cell_type": "code",
   "execution_count": 12,
   "metadata": {},
   "outputs": [
    {
     "name": "stdout",
     "output_type": "stream",
     "text": [
      "0.004630084060038658\n",
      "2.0822006088325105\n"
     ]
    }
   ],
   "source": [
    "print(plot_data[\"firing rate\"][plot_data[\"bias\"] == \"Missed\"].mean())\n",
    "print(plot_data[\"firing rate\"][plot_data[\"bias\"] == \"Detected\"].mean())"
   ]
  },
  {
   "cell_type": "markdown",
   "metadata": {},
   "source": [
    "### Plot qualitative features"
   ]
  },
  {
   "cell_type": "code",
   "execution_count": 380,
   "metadata": {},
   "outputs": [
    {
     "name": "stderr",
     "output_type": "stream",
     "text": [
      "/tmp/ipykernel_113285/2360770895.py:53: SettingWithCopyWarning: \n",
      "A value is trying to be set on a copy of a slice from a DataFrame\n",
      "\n",
      "See the caveats in the documentation: https://pandas.pydata.org/pandas-docs/stable/user_guide/indexing.html#returning-a-view-versus-a-copy\n",
      "  df[\"quality\"][df[\"accuracy\"] == 0] = \"dark units\"\n"
     ]
    }
   ],
   "source": [
    "colors = [\n",
    "    [0.5, 0.5, 0.5],  # dark units\n",
    "    [1, 0.85, 0.85],  # \"poor\" (pink)\n",
    "    [0.7, 0.1, 0.1],  # \"well detected\" (strong red)\n",
    "]\n",
    "\n",
    "# get layers\n",
    "layers_all = spike.get_layer_for(SortingTrue_m.unit_ids, SortingTrue_m)\n",
    "\n",
    "# get synapse class\n",
    "synclass_all = spike.get_synapse_class_for(SortingTrue_m.unit_ids, SortingTrue_m)\n",
    "\n",
    "# get etype\n",
    "etype_all = spike.get_etype_for(SortingTrue_m.unit_ids, SortingTrue_m)\n",
    "\n",
    "# get mtype\n",
    "mtype_all = spike.get_mtype_for(SortingTrue_m.unit_ids, SortingTrue_m)\n",
    "\n",
    "# layers\n",
    "l_df = pd.DataFrame(layers_all)\n",
    "l_df.index = SortingTrue_m.unit_ids\n",
    "l_df.columns = [\"layer\"]\n",
    "\n",
    "# synapse class\n",
    "s_df = pd.DataFrame(synclass_all)\n",
    "s_df.index = SortingTrue_m.unit_ids\n",
    "s_df.columns = [\"synapse class\"]\n",
    "\n",
    "# etype\n",
    "e_df = pd.DataFrame(etype_all)\n",
    "e_df.index = SortingTrue_m.unit_ids\n",
    "e_df.columns = [\"etype\"]\n",
    "\n",
    "# mtype\n",
    "m_df = pd.DataFrame(mtype_all)\n",
    "m_df.index = SortingTrue_m.unit_ids\n",
    "m_df.columns = [\"mtype\"]\n",
    "\n",
    "# accuracy\n",
    "accuracy_df = agreem_mx_m.max().to_frame()\n",
    "accuracy_df.columns = [\"accuracy\"]\n",
    "\n",
    "df = pd.DataFrame()\n",
    "df[\"bias\"] = bias_labels\n",
    "df = df.merge(l_df, right_index=True, left_index=True)\n",
    "df = df.merge(s_df, right_index=True, left_index=True)\n",
    "df = df.merge(e_df, right_index=True, left_index=True)\n",
    "df = df.merge(m_df, right_index=True, left_index=True)\n",
    "df = df.merge(accuracy_df, right_index=True, left_index=True)\n",
    "\n",
    "# classify into three levels of sorting quality\n",
    "df[\"quality\"] = len(df) * [np.nan]\n",
    "df[\"quality\"][df[\"accuracy\"] == 0] = \"dark units\"\n",
    "df[\"quality\"][(df[\"accuracy\"] <= 0.1) & (df[\"accuracy\"] > 0)] = \"dark units\"\n",
    "df[\"quality\"][(df[\"accuracy\"] > CHANCE_THRESH) & (df[\"accuracy\"] < DET_THRESH)] = \"poor\"\n",
    "df[\"quality\"][df[\"accuracy\"] >= DET_THRESH] = \"well detected\""
   ]
  },
  {
   "cell_type": "markdown",
   "metadata": {},
   "source": [
    "#### Layer"
   ]
  },
  {
   "cell_type": "code",
   "execution_count": 9,
   "metadata": {},
   "outputs": [
    {
     "name": "stderr",
     "output_type": "stream",
     "text": [
      "/tmp/ipykernel_113285/3789931544.py:2: SettingWithCopyWarning: \n",
      "A value is trying to be set on a copy of a slice from a DataFrame\n",
      "\n",
      "See the caveats in the documentation: https://pandas.pydata.org/pandas-docs/stable/user_guide/indexing.html#returning-a-view-versus-a-copy\n",
      "  plot_data[\"layer\"][plot_data[\"layer\"] == \"2\"] = \"2/3\"\n",
      "/tmp/ipykernel_113285/3789931544.py:3: SettingWithCopyWarning: \n",
      "A value is trying to be set on a copy of a slice from a DataFrame\n",
      "\n",
      "See the caveats in the documentation: https://pandas.pydata.org/pandas-docs/stable/user_guide/indexing.html#returning-a-view-versus-a-copy\n",
      "  plot_data[\"layer\"][plot_data[\"layer\"] == \"3\"] = \"2/3\"\n",
      "/tmp/ipykernel_113285/3789931544.py:42: UserWarning: You have mixed positional and keyword arguments, some input may be discarded.\n",
      "  ax.legend(\n"
     ]
    },
    {
     "data": {
      "image/png": "[encoded data removed]",
      "text/plain": [
       "<Figure size 50x70 with 1 Axes>"
      ]
     },
     "metadata": {},
     "output_type": "display_data"
    }
   ],
   "source": [
    "# combine layer 2/3\n",
    "plot_data[\"layer\"][plot_data[\"layer\"] == \"2\"] = \"2/3\"\n",
    "plot_data[\"layer\"][plot_data[\"layer\"] == \"3\"] = \"2/3\"\n",
    "\n",
    "# format dataset to plot\n",
    "df = plot_data[\"layer\"][plot_data[\"bias\"] == \"Missed\"]\n",
    "df_ratio_missed = df.value_counts(normalize=True)\n",
    "df_ratio_missed = df_ratio_missed.to_frame()\n",
    "df_ratio_missed.columns = [\"Missed\"]\n",
    "\n",
    "df = plot_data[\"layer\"][plot_data[\"bias\"] == \"Detected\"]\n",
    "df_ratio_detected = df.value_counts(normalize=True)\n",
    "df_ratio_detected = df_ratio_detected.to_frame()\n",
    "df_ratio_detected.columns = [\"Detected\"]\n",
    "\n",
    "# concat for plot\n",
    "plot_data2 = pd.concat([df_ratio_missed, df_ratio_detected], axis=1)\n",
    "\n",
    "# reorder layers\n",
    "plot_data2 = plot_data2.loc[[\"6\", \"5\", \"4\", \"2/3\", \"1\"]]\n",
    "\n",
    "fig, axis = plt.subplots(1, 1, figsize=(0.5, 0.7))\n",
    "ax = (plot_data2).T.plot.bar(\n",
    "    ax=axis,\n",
    "    stacked=True,\n",
    "    # color=colors,\n",
    "    width=0.9,\n",
    "    edgecolor=\"none\",\n",
    "    linewidth=0.2,\n",
    ")\n",
    "\n",
    "# set axis legend\n",
    "ax.spines[[\"left\", \"right\", \"top\", \"bottom\"]].set_visible(False)\n",
    "y_axis = ax.axes.get_yaxis()\n",
    "y_axis.set_visible(False)\n",
    "ax.set_ylabel(\"Sorting biases (ratio)\", fontsize=9)\n",
    "\n",
    "hs, ls = ax.get_legend_handles_labels()\n",
    "hss = [hs[4], hs[3], hs[2], hs[1], hs[0]]\n",
    "lss = [ls[4], ls[3], ls[2], ls[1], ls[0]]\n",
    "\n",
    "ax.legend(\n",
    "    plot_data2.index,\n",
    "    ncol=1,\n",
    "    loc=\"lower left\",\n",
    "    bbox_to_anchor=(1, 0),\n",
    "    frameon=False,\n",
    "    handletextpad=0.6,\n",
    "    handles=hss,\n",
    "    labels=lss,\n",
    ")\n",
    "\n",
    "# save figures\n",
    "plt.savefig(\n",
    "    \"/gpfs/bbp.cscs.ch/project/proj85/home/laquitai/spikebias/figures/3_bias/svg/portrait_layer_dark_units_ks3.svg\",\n",
    "    **savefig_cfg,\n",
    ")"
   ]
  },
  {
   "cell_type": "markdown",
   "metadata": {},
   "source": [
    "#### plot 2"
   ]
  },
  {
   "cell_type": "code",
   "execution_count": 383,
   "metadata": {},
   "outputs": [
    {
     "data": {
      "image/png": "[encoded data removed]",
      "text/plain": [
       "<Figure size 100x40 with 1 Axes>"
      ]
     },
     "metadata": {},
     "output_type": "display_data"
    }
   ],
   "source": [
    "# ratio of sorting quality by layer\n",
    "ctab = pd.crosstab(df[\"layer\"], df[\"quality\"])\n",
    "sum_ctab = pd.crosstab(df[\"layer\"], df[\"quality\"]).sum(axis=1)\n",
    "ctab_ratio = ctab.apply(lambda x: x / sum_ctab)\n",
    "\n",
    "# plot\n",
    "fig, ax = plt.subplots(1, figsize=(1, 0.4))\n",
    "ax = ctab_ratio.plot.bar(ax=ax, stacked=True, color=colors, width=0.9)\n",
    "\n",
    "# add legend\n",
    "ax.set_xticklabels(ctab_ratio.index, rotation=45, ha=\"right\")\n",
    "ax.set_ylabel(\"Proportion (ratio)\")\n",
    "ax.set_xlabel(\"Layer\")\n",
    "ax.legend(frameon=False, loc=\"lower left\", bbox_to_anchor=(1, 0))\n",
    "\n",
    "\n",
    "# save figures\n",
    "plt.savefig(\n",
    "    \"/gpfs/bbp.cscs.ch/project/proj85/home/laquitai/spikebias/figures/3_bias/svg/portrait_layer_dark_units_marques_ks3_plot2.svg\",\n",
    "    **savefig_cfg,\n",
    ")"
   ]
  },
  {
   "cell_type": "markdown",
   "metadata": {},
   "source": [
    "#### Synapse class (inh/exc)"
   ]
  },
  {
   "cell_type": "markdown",
   "metadata": {},
   "source": [
    "#### plot 1"
   ]
  },
  {
   "cell_type": "code",
   "execution_count": 364,
   "metadata": {},
   "outputs": [
    {
     "data": {
      "image/png": "[encoded data removed]",
      "text/plain": [
       "<Figure size 50x70 with 1 Axes>"
      ]
     },
     "metadata": {},
     "output_type": "display_data"
    }
   ],
   "source": [
    "colors = ((0.8, 0.8, 0.8), (0, 0, 0))\n",
    "\n",
    "# format dataset to plot\n",
    "df = plot_data[\"synapse class\"][plot_data[\"bias\"] == \"Missed\"]\n",
    "df_ratio_missed = df.value_counts(normalize=True)\n",
    "df_ratio_missed = df_ratio_missed.to_frame()\n",
    "df_ratio_missed.columns = [\"Missed\"]\n",
    "\n",
    "df = plot_data[\"synapse class\"][plot_data[\"bias\"] == \"Detected\"]\n",
    "df_ratio_detected = df.value_counts(normalize=True)\n",
    "df_ratio_detected = df_ratio_detected.to_frame()\n",
    "df_ratio_detected.columns = [\"Detected\"]\n",
    "\n",
    "# concat for plot\n",
    "plot_data3 = pd.concat([df_ratio_missed, df_ratio_detected], axis=1)\n",
    "\n",
    "fig, axis = plt.subplots(1, 1, figsize=(0.5, 0.7))\n",
    "ax = (plot_data3).T.plot.bar(\n",
    "    ax=axis,\n",
    "    stacked=True,\n",
    "    color=colors,\n",
    "    width=0.9,\n",
    "    edgecolor=\"none\",\n",
    ")\n",
    "\n",
    "# set axis legend\n",
    "ax.spines[[\"left\", \"right\", \"top\", \"bottom\"]].set_visible(False)\n",
    "y_axis = ax.axes.get_yaxis()\n",
    "y_axis.set_visible(False)\n",
    "ax.set_ylabel(\"Sorting biases (ratio)\", fontsize=9)\n",
    "ax.legend(\n",
    "    plot_data3.index,\n",
    "    ncol=1,\n",
    "    loc=\"lower left\",\n",
    "    bbox_to_anchor=(1, 0),\n",
    "    frameon=False,\n",
    "    handletextpad=0.6,\n",
    ")\n",
    "\n",
    "# save figures\n",
    "plt.savefig(\n",
    "    \"/gpfs/bbp.cscs.ch/project/proj85/home/laquitai/spikebias/figures/3_bias/svg/portrait_synapse_dark_units_ks3.svg\",\n",
    "    **savefig_cfg,\n",
    ")"
   ]
  },
  {
   "cell_type": "markdown",
   "metadata": {},
   "source": [
    "#### plot 2"
   ]
  },
  {
   "cell_type": "code",
   "execution_count": 365,
   "metadata": {},
   "outputs": [
    {
     "name": "stderr",
     "output_type": "stream",
     "text": [
      "/tmp/ipykernel_113285/3937812528.py:36: SettingWithCopyWarning: \n",
      "A value is trying to be set on a copy of a slice from a DataFrame\n",
      "\n",
      "See the caveats in the documentation: https://pandas.pydata.org/pandas-docs/stable/user_guide/indexing.html#returning-a-view-versus-a-copy\n",
      "  df[\"quality\"][df[\"accuracy\"] == 0] = \"dark units\"\n"
     ]
    }
   ],
   "source": []
  },
  {
   "cell_type": "code",
   "execution_count": 378,
   "metadata": {},
   "outputs": [
    {
     "data": {
      "image/png": "[encoded data removed]",
      "text/plain": [
       "<Figure size 50x40 with 1 Axes>"
      ]
     },
     "metadata": {},
     "output_type": "display_data"
    }
   ],
   "source": [
    "# ratio of sorting quality by etype\n",
    "ctab = pd.crosstab(df[\"synapse class\"], df[\"quality\"])\n",
    "sum_ctab = pd.crosstab(df[\"synapse class\"], df[\"quality\"]).sum(axis=1)\n",
    "ctab_ratio = ctab.apply(lambda x: x / sum_ctab)\n",
    "ctab_ratio = ctab_ratio.sort_values(by=[\"well detected\"], ascending=False)\n",
    "\n",
    "# plot\n",
    "fig, ax = plt.subplots(1, figsize=(0.5, 0.4))\n",
    "ax = ctab_ratio.plot.bar(ax=ax, stacked=True, color=colors, width=0.9)\n",
    "\n",
    "# add legend\n",
    "ax.set_xticklabels(ctab_ratio.index, rotation=45, ha=\"right\")\n",
    "ax.set_ylabel(\"Proportion (ratio)\")\n",
    "ax.set_xlabel(\"Synapse class\")\n",
    "ax.legend(frameon=False, loc=\"lower left\", bbox_to_anchor=(1, 0))\n",
    "\n",
    "\n",
    "# save figures\n",
    "plt.savefig(\n",
    "    \"/gpfs/bbp.cscs.ch/project/proj85/home/laquitai/spikebias/figures/3_bias/svg/portrait_synclass_dark_units_marques_ks3_plot2.svg\",\n",
    "    **savefig_cfg,\n",
    ")"
   ]
  },
  {
   "cell_type": "markdown",
   "metadata": {},
   "source": [
    "### etype\n"
   ]
  },
  {
   "cell_type": "markdown",
   "metadata": {},
   "source": [
    "#### Plot 1"
   ]
  },
  {
   "cell_type": "code",
   "execution_count": 11,
   "metadata": {},
   "outputs": [
    {
     "data": {
      "image/png": "[encoded data removed]",
      "text/plain": [
       "<Figure size 50x70 with 1 Axes>"
      ]
     },
     "metadata": {},
     "output_type": "display_data"
    }
   ],
   "source": [
    "# format dataset to plot\n",
    "df = plot_data[\"etype\"][plot_data[\"bias\"] == \"Missed\"]\n",
    "df_ratio_missed = df.value_counts(normalize=True)\n",
    "df_ratio_missed = df_ratio_missed.to_frame()\n",
    "df_ratio_missed.columns = [\"Missed\"]\n",
    "\n",
    "df = plot_data[\"etype\"][plot_data[\"bias\"] == \"Detected\"]\n",
    "df_ratio_detected = df.value_counts(normalize=True)\n",
    "df_ratio_detected = df_ratio_detected.to_frame()\n",
    "df_ratio_detected.columns = [\"Detected\"]\n",
    "\n",
    "# concat for plot\n",
    "plot_data3 = pd.concat([df_ratio_missed, df_ratio_detected], axis=1)\n",
    "\n",
    "# reorder etype\n",
    "# plot_data3 = plot_data3.loc[[\"6\", \"5\", \"4\", \"2/3\", \"1\"]]\n",
    "\n",
    "fig, axis = plt.subplots(1, 1, figsize=(0.5, 0.7))\n",
    "ax = (plot_data3).T.plot.bar(\n",
    "    ax=axis,\n",
    "    stacked=True,\n",
    "    # color=colors,\n",
    "    width=0.9,\n",
    "    edgecolor=\"none\",\n",
    "    linewidth=0.2,\n",
    ")\n",
    "\n",
    "# set axis legend\n",
    "ax.spines[[\"left\", \"right\", \"top\", \"bottom\"]].set_visible(False)\n",
    "y_axis = ax.axes.get_yaxis()\n",
    "y_axis.set_visible(False)\n",
    "ax.set_ylabel(\"Sorting biases (ratio)\", fontsize=9)\n",
    "\n",
    "# hs, ls = ax.get_legend_handles_labels()\n",
    "# hss = [hs[4], hs[3], hs[2], hs[1], hs[0]]\n",
    "# lss = [ls[4], ls[3], ls[2], ls[1], ls[0]]\n",
    "\n",
    "ax.legend(\n",
    "    plot_data3.index,\n",
    "    ncol=1,\n",
    "    loc=\"lower left\",\n",
    "    bbox_to_anchor=(1, 0),\n",
    "    frameon=False,\n",
    "    handletextpad=0.6,\n",
    "    # handles=hss,\n",
    "    # labels=lss,\n",
    ")\n",
    "\n",
    "# save figures\n",
    "plt.savefig(\n",
    "    \"/gpfs/bbp.cscs.ch/project/proj85/home/laquitai/spikebias/figures/3_bias/svg/portrait_etype_dark_units_ks3.svg\",\n",
    "    **savefig_cfg,\n",
    ")"
   ]
  },
  {
   "cell_type": "markdown",
   "metadata": {},
   "source": [
    "#### plot 2"
   ]
  },
  {
   "cell_type": "code",
   "execution_count": 367,
   "metadata": {},
   "outputs": [
    {
     "data": {
      "image/png": "[encoded data removed]",
      "text/plain": [
       "<Figure size 150x40 with 1 Axes>"
      ]
     },
     "metadata": {},
     "output_type": "display_data"
    }
   ],
   "source": [
    "# ratio of sorting quality by etype\n",
    "ctab = pd.crosstab(df[\"etype\"], df[\"quality\"])\n",
    "sum_ctab = pd.crosstab(df[\"etype\"], df[\"quality\"]).sum(axis=1)\n",
    "ctab_ratio = ctab.apply(lambda x: x / sum_ctab)\n",
    "ctab_ratio = ctab_ratio.sort_values(by=[\"well detected\"], ascending=False)\n",
    "\n",
    "# plot\n",
    "fig, ax = plt.subplots(1, figsize=(1.5, 0.4))\n",
    "ax = ctab_ratio.plot.bar(ax=ax, stacked=True, color=colors, width=0.9)\n",
    "\n",
    "# add legend\n",
    "ax.set_xticklabels(ctab_ratio.index, rotation=45, ha=\"right\")\n",
    "ax.set_ylabel(\"Proportion (ratio)\")\n",
    "ax.set_xlabel(\"Unit electrical type\")\n",
    "ax.legend(frameon=False, loc=\"lower left\", bbox_to_anchor=(1, 0))\n",
    "\n",
    "\n",
    "# save figures\n",
    "plt.savefig(\n",
    "    \"/gpfs/bbp.cscs.ch/project/proj85/home/laquitai/spikebias/figures/3_bias/svg/portrait_etype_dark_units_marques_ks3_plot2.svg\",\n",
    "    **savefig_cfg,\n",
    ")"
   ]
  },
  {
   "cell_type": "markdown",
   "metadata": {},
   "source": [
    "### mtype"
   ]
  },
  {
   "cell_type": "code",
   "execution_count": 12,
   "metadata": {},
   "outputs": [
    {
     "data": {
      "image/png": "[encoded data removed]",
      "text/plain": [
       "<Figure size 50x70 with 1 Axes>"
      ]
     },
     "metadata": {},
     "output_type": "display_data"
    }
   ],
   "source": [
    "# format dataset to plot\n",
    "df = plot_data[\"mtype\"][plot_data[\"bias\"] == \"Missed\"]\n",
    "df_ratio_missed = df.value_counts(normalize=True)\n",
    "df_ratio_missed = df_ratio_missed.to_frame()\n",
    "df_ratio_missed.columns = [\"Missed\"]\n",
    "\n",
    "df = plot_data[\"mtype\"][plot_data[\"bias\"] == \"Detected\"]\n",
    "df_ratio_detected = df.value_counts(normalize=True)\n",
    "df_ratio_detected = df_ratio_detected.to_frame()\n",
    "df_ratio_detected.columns = [\"Detected\"]\n",
    "\n",
    "# concat for plot\n",
    "plot_data3 = pd.concat([df_ratio_missed, df_ratio_detected], axis=1)\n",
    "\n",
    "# reorder mtype\n",
    "# plot_data3 = plot_data3.loc[[\"6\", \"5\", \"4\", \"2/3\", \"1\"]]\n",
    "\n",
    "fig, axis = plt.subplots(1, 1, figsize=(0.5, 0.7))\n",
    "ax = (plot_data3).T.plot.bar(\n",
    "    ax=axis,\n",
    "    stacked=True,\n",
    "    # color=colors,\n",
    "    width=0.9,\n",
    "    edgecolor=\"none\",\n",
    "    linewidth=0.2,\n",
    ")\n",
    "\n",
    "# set axis legend\n",
    "ax.spines[[\"left\", \"right\", \"top\", \"bottom\"]].set_visible(False)\n",
    "y_axis = ax.axes.get_yaxis()\n",
    "y_axis.set_visible(False)\n",
    "ax.set_ylabel(\"Sorting biases (ratio)\", fontsize=9)\n",
    "\n",
    "# hs, ls = ax.get_legend_handles_labels()\n",
    "# hss = [hs[4], hs[3], hs[2], hs[1], hs[0]]\n",
    "# lss = [ls[4], ls[3], ls[2], ls[1], ls[0]]\n",
    "\n",
    "ax.legend(\n",
    "    plot_data3.index,\n",
    "    ncol=1,\n",
    "    loc=\"lower left\",\n",
    "    bbox_to_anchor=(1, 0),\n",
    "    frameon=False,\n",
    "    handletextpad=0.6,\n",
    "    # handles=hss,\n",
    "    # labels=lss,\n",
    ")\n",
    "\n",
    "# save figures\n",
    "plt.savefig(\n",
    "    \"/gpfs/bbp.cscs.ch/project/proj85/home/laquitai/spikebias/figures/3_bias/svg/portrait_mtype_dark_units_ks3.svg\",\n",
    "    **savefig_cfg,\n",
    ")"
   ]
  },
  {
   "cell_type": "markdown",
   "metadata": {},
   "source": [
    "#### plot 2"
   ]
  },
  {
   "cell_type": "code",
   "execution_count": 358,
   "metadata": {},
   "outputs": [
    {
     "data": {
      "image/png": "[encoded data removed]",
      "text/plain": [
       "<Figure size 700x40 with 1 Axes>"
      ]
     },
     "metadata": {},
     "output_type": "display_data"
    }
   ],
   "source": [
    "NOT_FOUND_MTYPE = [\"L23_DBC\", \"L5_DBC\", \"L6_DBC\"]\n",
    "\n",
    "# calculate ratio of sorting quality by mtype\n",
    "ctab = pd.crosstab(df[\"mtype\"], df[\"quality\"])\n",
    "sum_ctab = pd.crosstab(df[\"mtype\"], df[\"quality\"]).sum(axis=1)\n",
    "ctab_ratio = ctab.apply(lambda x: x / sum_ctab)\n",
    "\n",
    "# add mtypes found in evoked neuropixels simulation but not in spontaneous marques\n",
    "\n",
    "absent = pd.DataFrame(\n",
    "    data=np.nan * np.ones((len(NOT_FOUND_MTYPE), ctab_ratio.shape[1]))\n",
    ")\n",
    "absent.index = NOT_FOUND_MTYPE\n",
    "absent.columns = ctab_ratio.columns\n",
    "ctab_ratio = pd.concat([ctab_ratio, absent])\n",
    "\n",
    "# sort\n",
    "ctab_ratio = ctab_ratio.sort_values(by=[\"well detected\"], ascending=False)\n",
    "\n",
    "# plot\n",
    "fig, ax = plt.subplots(1, figsize=(7, 0.4))\n",
    "ax = ctab_ratio.plot.bar(ax=ax, stacked=True, color=colors, width=0.9, linestyle=\"None\")\n",
    "\n",
    "# add legend\n",
    "ax.set_xticklabels(ctab_ratio.index, rotation=45, ha=\"right\")\n",
    "ax.set_ylabel(\"Proportion (ratio)\")\n",
    "ax.set_xlabel(\"Unit morphological type\")\n",
    "ax.legend(frameon=False, loc=\"lower left\", bbox_to_anchor=(1, 0))\n",
    "\n",
    "\n",
    "# save figures\n",
    "plt.savefig(\n",
    "    \"/gpfs/bbp.cscs.ch/project/proj85/home/laquitai/spikebias/figures/3_bias/svg/portrait_mtype_dark_units_marques_ks3_plot2.svg\",\n",
    "    **savefig_cfg,\n",
    ")"
   ]
  },
  {
   "cell_type": "code",
   "execution_count": 349,
   "metadata": {},
   "outputs": [
    {
     "data": {
      "text/plain": [
       "Index(['L1_NGC-SA', 'L23_SBC', 'L4_MC', 'L6_NBC', 'L6_TPC:A', 'L5_TPC:C',\n",
       "       'L4_UPC', 'L5_TPC:A', 'L4_TPC', 'L6_TPC:C', 'L6_IPC', 'L5_TPC:B',\n",
       "       'L6_BPC', 'L3_TPC:A', 'L2_TPC:B', 'L2_IPC', 'L2_TPC:A', 'L23_LBC',\n",
       "       'L23_MC', 'L23_CHC', 'L23_BTC', 'L1_SAC', 'L23_BP', 'L1_NGC-DA',\n",
       "       'L23_NBC', 'L4_SSC', 'L4_BP', 'L4_LBC', 'L3_TPC:C', 'L5_SBC', 'L5_NGC',\n",
       "       'L5_NBC', 'L5_MC', 'L5_BTC', 'L5_LBC', 'L4_NBC', 'L5_UPC', 'L6_HPC',\n",
       "       'L6_CHC', 'L6_BTC', 'L6_BP', 'L6_MC', 'L6_LBC', 'L6_SBC', 'L6_UPC',\n",
       "       'L23_DBC', 'L5_DBC', 'L6_DBC'],\n",
       "      dtype='object')"
      ]
     },
     "execution_count": 349,
     "metadata": {},
     "output_type": "execute_result"
    }
   ],
   "source": [
    "ctab_ratio.index"
   ]
  },
  {
   "cell_type": "code",
   "execution_count": 351,
   "metadata": {},
   "outputs": [
    {
     "data": {
      "text/plain": [
       "48"
      ]
     },
     "execution_count": 351,
     "metadata": {},
     "output_type": "execute_result"
    }
   ],
   "source": [
    "len(\n",
    "    [\n",
    "        \"L1_NGC-SA\",\n",
    "        \"L23_SBC\",\n",
    "        \"L4_MC\",\n",
    "        \"L6_NBC\",\n",
    "        \"L6_TPC:A\",\n",
    "        \"L5_TPC:C\",\n",
    "        \"L4_UPC\",\n",
    "        \"L5_TPC:A\",\n",
    "        \"L4_TPC\",\n",
    "        \"L6_TPC:C\",\n",
    "        \"L6_IPC\",\n",
    "        \"L5_TPC:B\",\n",
    "        \"L6_BPC\",\n",
    "        \"L3_TPC:A\",\n",
    "        \"L2_TPC:B\",\n",
    "        \"L2_IPC\",\n",
    "        \"L2_TPC:A\",\n",
    "        \"L23_LBC\",\n",
    "        \"L23_MC\",\n",
    "        \"L23_CHC\",\n",
    "        \"L23_BTC\",\n",
    "        \"L1_SAC\",\n",
    "        \"L23_BP\",\n",
    "        \"L1_NGC-DA\",\n",
    "        \"L23_NBC\",\n",
    "        \"L4_SSC\",\n",
    "        \"L4_BP\",\n",
    "        \"L4_LBC\",\n",
    "        \"L3_TPC:C\",\n",
    "        \"L5_SBC\",\n",
    "        \"L5_NGC\",\n",
    "        \"L5_NBC\",\n",
    "        \"L5_MC\",\n",
    "        \"L5_BTC\",\n",
    "        \"L5_LBC\",\n",
    "        \"L4_NBC\",\n",
    "        \"L5_UPC\",\n",
    "        \"L6_HPC\",\n",
    "        \"L6_CHC\",\n",
    "        \"L6_BTC\",\n",
    "        \"L6_BP\",\n",
    "        \"L6_MC\",\n",
    "        \"L6_LBC\",\n",
    "        \"L6_SBC\",\n",
    "        \"L6_UPC\",\n",
    "        \"L23_DBC\",\n",
    "        \"L5_DBC\",\n",
    "        \"L6_DBC\",\n",
    "    ]\n",
    ")"
   ]
  },
  {
   "cell_type": "code",
   "execution_count": null,
   "metadata": {},
   "outputs": [],
   "source": []
  }
 ],
 "metadata": {
  "kernelspec": {
   "display_name": "npx_10m_384ch_unit_classes",
   "language": "python",
   "name": "python3"
  },
  "language_info": {
   "codemirror_mode": {
    "name": "ipython",
    "version": 3
   },
   "file_extension": ".py",
   "mimetype": "text/x-python",
   "name": "python",
   "nbconvert_exporter": "python",
   "pygments_lexer": "ipython3",
   "version": "3.9.7"
  }
 },
 "nbformat": 4,
 "nbformat_minor": 2
}
