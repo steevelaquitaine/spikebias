{
 "cells": [
  {
   "attachments": {},
   "cell_type": "markdown",
   "metadata": {},
   "source": [
    "# (1m)Noise\n",
    "\n",
    "* **author**: steeve.laquitaine@epfl.ch  \n",
    "* **purpose**: validation of trace background noise."
   ]
  },
  {
   "cell_type": "markdown",
   "metadata": {},
   "source": [
    "### Prerequisites\n",
    "\n",
    "* preprocess recordings."
   ]
  },
  {
   "attachments": {},
   "cell_type": "markdown",
   "metadata": {},
   "source": [
    "### Setup\n",
    "\n",
    "1. Pre-compute data with mpi on several nodes with `sbatch src/pipes/validation/noise/mpi_npx_full.py`\n",
    "\n",
    "2. Setup `spikeinterf` venv\n",
    "\n"
   ]
  },
  {
   "cell_type": "code",
   "execution_count": 2,
   "metadata": {},
   "outputs": [
    {
     "name": "stdout",
     "output_type": "stream",
     "text": [
      "The autoreload extension is already loaded. To reload it, use:\n",
      "  %reload_ext autoreload\n",
      "2024-12-05 14:43:09,729 - root - utils.py - get_config - INFO - Reading experiment config.\n",
      "2024-12-05 14:43:09,785 - root - utils.py - get_config - INFO - Reading experiment config. - done\n",
      "2024-12-05 14:43:09,786 - root - utils.py - get_config - INFO - Reading experiment config.\n",
      "2024-12-05 14:43:09,826 - root - utils.py - get_config - INFO - Reading experiment config. - done\n",
      "2024-12-05 14:43:09,827 - root - utils.py - get_config - INFO - Reading experiment config.\n",
      "2024-12-05 14:43:09,850 - root - utils.py - get_config - INFO - Reading experiment config. - done\n",
      "2024-12-05 14:43:09,851 - root - utils.py - get_config - INFO - Reading experiment config.\n",
      "2024-12-05 14:43:09,910 - root - utils.py - get_config - INFO - Reading experiment config. - done\n"
     ]
    }
   ],
   "source": [
    "%load_ext autoreload\n",
    "%autoreload 2\n",
    "\n",
    "import warnings\n",
    "warnings.simplefilter(action='ignore', category=FutureWarning)\n",
    "\n",
    "import os\n",
    "import pandas as pd\n",
    "import numpy as np\n",
    "from matplotlib import pyplot as plt\n",
    "import spikeinterface as si\n",
    "import multiprocessing\n",
    "import torch\n",
    "import copy\n",
    "import seaborn as sns\n",
    "\n",
    "# move to PROJECT PATH\n",
    "PROJ_PATH = \"/gpfs/bbp.cscs.ch/project/proj85/home/laquitai/spikebias/\"\n",
    "os.chdir(PROJ_PATH)\n",
    "\n",
    "from src.nodes.utils import get_config\n",
    "from src.nodes.validation import noise\n",
    "\n",
    "# vivo\n",
    "data_conf_v, param_conf_v = get_config(\"vivo_marques\", \"c26\").values() \n",
    "RAW_PATH_v = data_conf_v[\"raw\"]\n",
    "PREP_PATH_v = data_conf_v[\"preprocessing\"][\"full\"][\"output\"][\"trace_file_path\"]\n",
    "NOISE_PATH_v = data_conf_v[\"validation\"][\"noise\"][\"full\"]\n",
    "\n",
    "# silico best fitted gain and noise\n",
    "data_conf_s, param_conf_s = get_config(\"silico_neuropixels\", \"npx_spont\").values()\n",
    "RAW_PATH_s = data_conf_s[\"probe_wiring\"][\"full\"][\"output\"]\n",
    "PREP_PATH_s = data_conf_s[\"preprocessing\"][\"full\"][\"output\"][\"trace_file_path\"]\n",
    "NOISE_PATH_s = data_conf_s[\"validation\"][\"noise\"][\"full\"]\n",
    "\n",
    "# Buccino with best fitted gain for layer 5\n",
    "data_conf_b, _ = get_config(\"buccino_2020\", \"2020\").values()\n",
    "RAW_PATH_b = data_conf_b[\"probe_wiring\"][\"full\"][\"output\"]\n",
    "PREP_PATH_b = data_conf_b[\"preprocessing\"][\"full\"][\"output\"][\"trace_file_path\"]\n",
    "NOISE_PATH_b = data_conf_b[\"validation\"][\"noise\"][\"full\"]\n",
    "\n",
    "# neuropixels (evoked biophysical model)\n",
    "cfg_ne, _ = get_config(\"silico_neuropixels\", \"npx_evoked\").values()\n",
    "RAW_PATH_ne = cfg_ne[\"probe_wiring\"][\"full\"][\"output\"]\n",
    "PREP_PATH_ne = cfg_ne[\"preprocessing\"][\"full\"][\"output\"][\"trace_file_path\"]\n",
    "NOISE_PATH_ne = cfg_ne[\"validation\"][\"noise\"][\"full\"]\n",
    "\n",
    "# parameters\n",
    "LAYERS = [\"L1\", \"L2/3\", \"L4\", \"L5\", \"L6\"]\n",
    "SFREQ_V = 30000          # sampling frequency\n",
    "SFREQ_S = 40000        # sampling frequency\n",
    "SFREQ_B = 32000        # sampling frequency\n",
    "SFREQ_E = 20000        # sampling frequency\n",
    "\n",
    "# pipeline parameters\n",
    "SAVE_FIG = True\n",
    "\n",
    "# FIGURE SETTINGS\n",
    "FIG_SIZE = (1.8, 1.6)\n",
    "COLOR_VIVO = np.array([153, 153, 153]) / 255\n",
    "COLOR_SILI = np.array([228, 26, 28]) / 255\n",
    "COLOR_BUCCI = np.array([55, 126, 184]) / 255\n",
    "COLOR_NE = [1, 0.49, 0]\n",
    "\n",
    "# experiment colors\n",
    "cl = dict()\n",
    "cl[\"COLOR_NV\"] = [0.6, 0.6, 0.6]\n",
    "cl[\"COLOR_NS\"] = [0.9, 0.14, 0.15]\n",
    "cl[\"COLOR_NB\"] = [0.22, 0.5, 0.72] # blue\n",
    "cl[\"COLOR_NE\"] = [1, 0.49, 0] # orange\n",
    "cl[\"COLOR_HV\"] = \"k\" # black\n",
    "cl[\"COLOR_HS\"] = np.array([26, 152, 80]) / 255 # green\n",
    "\n",
    "# axes\n",
    "plt.rcParams[\"font.family\"] = \"Arial\"\n",
    "plt.rcParams[\"font.size\"] = 6  # 5-7 with Nature neuroscience as reference\n",
    "plt.rcParams[\"lines.linewidth\"] = 0.5 # typically between 0.5 and 1\n",
    "plt.rcParams[\"axes.linewidth\"] = 0.5 #1\n",
    "plt.rcParams[\"axes.spines.top\"] = False\n",
    "plt.rcParams[\"xtick.major.width\"] = 0.5 #0.8 #* 1.3\n",
    "plt.rcParams[\"xtick.minor.width\"] = 0.5 #0.8 #* 1.3\n",
    "plt.rcParams[\"ytick.major.width\"] = 0.5 #0.8 #* 1.3\n",
    "plt.rcParams[\"ytick.minor.width\"] = 0.5 #0.8 #* 1.3\n",
    "plt.rcParams[\"xtick.major.size\"] = 3.5 * 1.1\n",
    "plt.rcParams[\"xtick.minor.size\"] = 2 * 1.1\n",
    "plt.rcParams[\"ytick.major.size\"] = 3.5 * 1.1\n",
    "plt.rcParams[\"ytick.minor.size\"] = 2 * 1.1\n",
    "# legend\n",
    "savefig_cfg = {\"transparent\":True, \"dpi\": 300}\n",
    "legend_cfg = {\"frameon\": False, \"handletextpad\": 0.5}\n",
    "tight_layout_cfg = {\"pad\": 0.5}\n",
    "LG_FRAMEON = False              # no legend frame"
   ]
  },
  {
   "cell_type": "markdown",
   "metadata": {},
   "source": [
    "### Specs"
   ]
  },
  {
   "cell_type": "code",
   "execution_count": 3,
   "metadata": {},
   "outputs": [
    {
     "name": "stdout",
     "output_type": "stream",
     "text": [
      "available cpus: 72\n",
      "available gpus: True\n"
     ]
    }
   ],
   "source": [
    "print(\"available cpus:\", multiprocessing.cpu_count())\n",
    "print(\"available gpus:\", torch.cuda.is_available())"
   ]
  },
  {
   "cell_type": "markdown",
   "metadata": {},
   "source": [
    "### Precompute\n",
    "\n",
    "* run with mpi on several nodes: `sbatch cluster/validation/noise/mpi_npx_full.sh`"
   ]
  },
  {
   "cell_type": "markdown",
   "metadata": {},
   "source": [
    "### (1s)Load datasets\n",
    "\n",
    "* first 10 minutes of recordings\n"
   ]
  },
  {
   "cell_type": "code",
   "execution_count": 19,
   "metadata": {},
   "outputs": [
    {
     "name": "stderr",
     "output_type": "stream",
     "text": [
      "/gpfs/bbp.cscs.ch/project/proj85/laquitai/spikebias_paper/envs/spikinterf0_100_5/lib/python3.9/site-packages/spikeinterface/core/base.py:1079: UserWarning: Versions are not the same. This might lead to compatibility errors. Using spikeinterface==0.96.1 is recommended\n",
      "  warnings.warn(\n",
      "/gpfs/bbp.cscs.ch/project/proj85/laquitai/spikebias_paper/envs/spikinterf0_100_5/lib/python3.9/site-packages/spikeinterface/core/binaryrecordingextractor.py:78: UserWarning: `num_chan` is to be deprecated in version 0.100, please use `num_channels` instead\n",
      "  warnings.warn(\"`num_chan` is to be deprecated in version 0.100, please use `num_channels` instead\")\n"
     ]
    }
   ],
   "source": [
    "RecV = si.load_extractor(PREP_PATH_v)\n",
    "RecS = si.load_extractor(PREP_PATH_s)\n",
    "RecE = si.load_extractor(PREP_PATH_ne)\n",
    "RecB = si.load_extractor(PREP_PATH_b)\n",
    "\n",
    "# or load\n",
    "noise_v = np.load(NOISE_PATH_v, allow_pickle=True)\n",
    "noise_s = np.load(NOISE_PATH_s, allow_pickle=True)\n",
    "noise_e = np.load(NOISE_PATH_ne, allow_pickle=True)\n",
    "noise_b = np.load(NOISE_PATH_b, allow_pickle=True)"
   ]
  },
  {
   "cell_type": "markdown",
   "metadata": {},
   "source": [
    "### Plot noise\n",
    "\n",
    "#### Compute plot data"
   ]
  },
  {
   "cell_type": "code",
   "execution_count": 20,
   "metadata": {},
   "outputs": [],
   "source": [
    "# - get site layers\n",
    "lyr_v = RecV.get_property(\"layers\")\n",
    "lyr_s = RecS.get_property(\"layers\")\n",
    "lyr_e = RecE.get_property(\"layers\")\n",
    "\n",
    "# build dataset\n",
    "# vivo\n",
    "lyr_v[lyr_v == \"L2\"] = \"L2/3\"  # standardize\n",
    "lyr_v[lyr_v == \"L3\"] = \"L2/3\"  # standardize\n",
    "lyr_v[lyr_v == \"L2_3\"] = \"L2/3\"  # standardize\n",
    "in_ctx = np.isin(lyr_v, LAYERS)\n",
    "v_data = pd.DataFrame(data=np.array(noise_v[in_ctx]), columns=[\"noise\"])\n",
    "lyr_v = lyr_v[in_ctx]\n",
    "v_data[\"layer\"] = lyr_v\n",
    "v_data[\"experiment\"] = \"npx (Marques-Smith)\"\n",
    "v_data = v_data.sort_values(by=[\"layer\"])\n",
    "\n",
    "# - group l2 and l3\n",
    "# spont.\n",
    "lyr_s[lyr_s == \"L2\"] = \"L2/3\"\n",
    "lyr_s[lyr_s == \"L3\"] = \"L2/3\"\n",
    "lyr_s[lyr_s == \"L2_3\"] = \"L2/3\"\n",
    "in_ctx = np.isin(lyr_s, LAYERS)\n",
    "s_data = pd.DataFrame(data=np.array(noise_s[in_ctx]), columns=[\"noise\"])\n",
    "lyr_s = lyr_s[in_ctx]\n",
    "s_data[\"layer\"] = lyr_s\n",
    "s_data[\"experiment\"] = \"Biophy. spont.\"\n",
    "s_data = s_data.sort_values(by=[\"layer\"])\n",
    "\n",
    "# evoked\n",
    "lyr_e[lyr_e == \"L2\"] = \"L2/3\"\n",
    "lyr_e[lyr_e == \"L3\"] = \"L2/3\"\n",
    "lyr_e[lyr_e == \"L2_3\"] = \"L2/3\"\n",
    "in_ctx = np.isin(lyr_e, LAYERS)\n",
    "e_data = pd.DataFrame(data=np.array(noise_e[in_ctx]), columns=[\"noise\"])\n",
    "lyr_e = lyr_e[in_ctx]\n",
    "e_data[\"layer\"] = lyr_e\n",
    "e_data[\"experiment\"] = \"Biophy. evoked\"\n",
    "e_data = e_data.sort_values(by=[\"layer\"])\n",
    "\n",
    "# buccino\n",
    "b_data = pd.DataFrame(data=np.array(noise_b), columns=[\"noise\"])\n",
    "b_data[\"layer\"] = \"L5\"\n",
    "b_data[\"experiment\"] = \"Synth. (Buccino)\"\n",
    "\n",
    "# concat\n",
    "plot_data = pd.concat([v_data, s_data, e_data, b_data], ignore_index=True)\n",
    "\n",
    "# drop sites outside cortex\n",
    "mask = np.isin(plot_data[\"layer\"], LAYERS)\n",
    "plot_data = plot_data[mask]\n",
    "plot_data = plot_data.sort_values(by=[\"layer\"])\n",
    "\n",
    "# unit-test\n",
    "layers = [\"L1\", \"L2/3\", \"L4\", \"L5\", \"L6\"]\n",
    "assert v_data[\"layer\"].unique().tolist() == layers, \"wrong layers\"\n",
    "assert s_data[\"layer\"].unique().tolist() == layers, \"wrong layers\"\n",
    "assert e_data[\"layer\"].unique().tolist() == layers, \"wrong layers\""
   ]
  },
  {
   "cell_type": "markdown",
   "metadata": {},
   "source": [
    "#### Plot"
   ]
  },
  {
   "cell_type": "code",
   "execution_count": null,
   "metadata": {},
   "outputs": [
    {
     "data": {
      "image/png": "[encoded data removed]",
      "text/plain": [
       "<Figure size 180x100 with 1 Axes>"
      ]
     },
     "metadata": {},
     "output_type": "display_data"
    }
   ],
   "source": [
    "FIG_SIZE = (1.8, 1)\n",
    "\n",
    "fig, ax = plt.subplots(1, 1, figsize=FIG_SIZE)\n",
    "\n",
    "ax = sns.boxplot(\n",
    "    ax=ax,\n",
    "    data=plot_data,\n",
    "    x=\"layer\",\n",
    "    y=\"noise\",\n",
    "    hue=\"experiment\",\n",
    "    notch=True,\n",
    "    hue_order=[\n",
    "        \"npx (Marques-Smith)\",\n",
    "        \"Biophy. spont.\",\n",
    "        \"Biophy. evoked\",\n",
    "        \"Synth. (Buccino)\",\n",
    "    ],\n",
    "    palette=[cl[\"COLOR_NV\"], cl[\"COLOR_NS\"], cl[\"COLOR_NE\"], cl[\"COLOR_NB\"]],\n",
    "    width=0.6,\n",
    "    linewidth=0.5,\n",
    "    flierprops={\n",
    "        \"marker\": \".\",\n",
    "        \"markersize\": 3,\n",
    "    },\n",
    ")\n",
    "\n",
    "# axes\n",
    "ax.spines[[\"top\", \"right\"]].set_visible(False)\n",
    "ax.legend(\"\", frameon=False)\n",
    "\n",
    "# disconnect axes (R style)\n",
    "ax.spines[\"bottom\"].set_position((\"axes\", -0.05))\n",
    "ax.yaxis.set_ticks_position(\"left\")\n",
    "ax.spines[\"left\"].set_position((\"axes\", -0.05))\n",
    "\n",
    "ax.set_ylabel(\"Noise (\\u03bcV)\")\n",
    "ax.set_xlabel(\"Layer\")\n",
    "\n",
    "# customize the boxplot\n",
    "p = 0\n",
    "for box in ax.patches:\n",
    "    if box.__class__.__name__ == \"PathPatch\":\n",
    "        # a list item for each layer group\n",
    "        if p in [0, 1, 2, 3, 4]:\n",
    "            box.set_edgecolor(cl[\"COLOR_NV\"])\n",
    "            # Each box has 6 associated Line2D objects\n",
    "            # (to make the whiskers, fliers, etc.)\n",
    "            # Loop over them here, and use the same colour\n",
    "            # as above\n",
    "            # group 1 (NV)\n",
    "            for k in range(6 * p, 6 * (p + 1)):\n",
    "                ax.lines[k].set_color(cl[\"COLOR_NV\"])  # box\n",
    "                ax.lines[k].set_mfc(cl[\"COLOR_NV\"])  # whisker\n",
    "                ax.lines[k].set_mec(cl[\"COLOR_NV\"])  # fliers\n",
    "            p += 1\n",
    "        elif p in [5, 6, 7, 8, 9]:\n",
    "            # group 2 (NS)\n",
    "            box.set_edgecolor(cl[\"COLOR_NS\"])\n",
    "            for k in range(6 * p, 6 * (p + 1)):\n",
    "                ax.lines[k].set_color(cl[\"COLOR_NS\"])\n",
    "                ax.lines[k].set_mfc(cl[\"COLOR_NS\"])\n",
    "                ax.lines[k].set_mec(cl[\"COLOR_NS\"])\n",
    "            p += 1\n",
    "        elif p in [10, 11, 12, 13, 14]:\n",
    "            box.set_edgecolor(cl[\"COLOR_NE\"])\n",
    "            for k in range(6 * p, 6 * (p + 1)):\n",
    "                ax.lines[k].set_color(cl[\"COLOR_NE\"])\n",
    "                ax.lines[k].set_mfc(cl[\"COLOR_NE\"])\n",
    "                ax.lines[k].set_mec(cl[\"COLOR_NE\"])\n",
    "            p += 1\n",
    "        elif p in [15]:\n",
    "            box.set_edgecolor(cl[\"COLOR_NB\"])\n",
    "            for k in range(6 * p, 6 * (p + 1)):\n",
    "                ax.lines[k].set_color(cl[\"COLOR_NB\"])\n",
    "                ax.lines[k].set_mfc(cl[\"COLOR_NB\"])\n",
    "                ax.lines[k].set_mec(cl[\"COLOR_NB\"])\n",
    "            p += 1\n",
    "\n",
    "# save figures\n",
    "if SAVE_FIG:\n",
    "    plt.savefig(\n",
    "        \"figures/0_validation/3_noise/fig2N/fig2N_noise_npx.svg\",\n",
    "        bbox_inches=\"tight\",\n",
    "        **savefig_cfg\n",
    "    )"
   ]
  },
  {
   "cell_type": "markdown",
   "metadata": {},
   "source": [
    "## Hyp. Test\n",
    "\n",
    "* Mann-Whitnex U test\n",
    "* non parametric due to some small number of sites"
   ]
  },
  {
   "cell_type": "markdown",
   "metadata": {},
   "source": [
    "### H0: Does Marques-Smith noise change across layers? Yes\n",
    "\n",
    "* L1 vs L2/3 same: (p=0.1)\n",
    "* L2/3 vs L4 differ: (p=5e-7)\n",
    "* L4 vs L5 same: (p=0.7)\n",
    "* L5 vs. L6 differ: (p=0.002)"
   ]
  },
  {
   "cell_type": "code",
   "execution_count": 24,
   "metadata": {},
   "outputs": [
    {
     "name": "stdout",
     "output_type": "stream",
     "text": [
      "H=62.47102557681285, p=8.768468370671957e-13\n",
      "N_L1 = 10 sites\n",
      "N_L23 = 42 sites\n",
      "N_L4 = 34 sites\n",
      "N_L5 = 42 sites\n",
      "N_L6 = 98 sites\n"
     ]
    },
    {
     "data": {
      "text/html": [
       "<div>\n",
       "<style scoped>\n",
       "    .dataframe tbody tr th:only-of-type {\n",
       "        vertical-align: middle;\n",
       "    }\n",
       "\n",
       "    .dataframe tbody tr th {\n",
       "        vertical-align: top;\n",
       "    }\n",
       "\n",
       "    .dataframe thead th {\n",
       "        text-align: right;\n",
       "    }\n",
       "</style>\n",
       "<table border=\"1\" class=\"dataframe\">\n",
       "  <thead>\n",
       "    <tr style=\"text-align: right;\">\n",
       "      <th></th>\n",
       "      <th>L1</th>\n",
       "      <th>L2/3</th>\n",
       "      <th>L4</th>\n",
       "      <th>L5</th>\n",
       "      <th>L6</th>\n",
       "    </tr>\n",
       "  </thead>\n",
       "  <tbody>\n",
       "    <tr>\n",
       "      <th>L1</th>\n",
       "      <td>1.000000e+00</td>\n",
       "      <td>1.994596e-01</td>\n",
       "      <td>4.151756e-06</td>\n",
       "      <td>6.565789e-07</td>\n",
       "      <td>0.000608</td>\n",
       "    </tr>\n",
       "    <tr>\n",
       "      <th>L2/3</th>\n",
       "      <td>1.994596e-01</td>\n",
       "      <td>1.000000e+00</td>\n",
       "      <td>8.488219e-07</td>\n",
       "      <td>1.285973e-08</td>\n",
       "      <td>0.000608</td>\n",
       "    </tr>\n",
       "    <tr>\n",
       "      <th>L4</th>\n",
       "      <td>4.151756e-06</td>\n",
       "      <td>8.488219e-07</td>\n",
       "      <td>1.000000e+00</td>\n",
       "      <td>6.709225e-01</td>\n",
       "      <td>0.031099</td>\n",
       "    </tr>\n",
       "    <tr>\n",
       "      <th>L5</th>\n",
       "      <td>6.565789e-07</td>\n",
       "      <td>1.285973e-08</td>\n",
       "      <td>6.709225e-01</td>\n",
       "      <td>1.000000e+00</td>\n",
       "      <td>0.003946</td>\n",
       "    </tr>\n",
       "    <tr>\n",
       "      <th>L6</th>\n",
       "      <td>6.084312e-04</td>\n",
       "      <td>6.084312e-04</td>\n",
       "      <td>3.109947e-02</td>\n",
       "      <td>3.945615e-03</td>\n",
       "      <td>1.000000</td>\n",
       "    </tr>\n",
       "  </tbody>\n",
       "</table>\n",
       "</div>"
      ],
      "text/plain": [
       "                L1          L2/3            L4            L5        L6\n",
       "L1    1.000000e+00  1.994596e-01  4.151756e-06  6.565789e-07  0.000608\n",
       "L2/3  1.994596e-01  1.000000e+00  8.488219e-07  1.285973e-08  0.000608\n",
       "L4    4.151756e-06  8.488219e-07  1.000000e+00  6.709225e-01  0.031099\n",
       "L5    6.565789e-07  1.285973e-08  6.709225e-01  1.000000e+00  0.003946\n",
       "L6    6.084312e-04  6.084312e-04  3.109947e-02  3.945615e-03  1.000000"
      ]
     },
     "execution_count": 24,
     "metadata": {},
     "output_type": "execute_result"
    }
   ],
   "source": [
    "# kruskall-wallis\n",
    "noise.get_kk(plot_data, \"npx (Marques-Smith)\")\n",
    "\n",
    "# perform Dunn's posthoc test using a holm-sidak correction for the p-values\n",
    "# to identify the layer amplitudes that significantly deviate from others\n",
    "noise.get_posthoc_dunn_holm_sidak(plot_data, \"npx (Marques-Smith)\")"
   ]
  },
  {
   "cell_type": "markdown",
   "metadata": {},
   "source": [
    "### H1: Does spont. change across layers?"
   ]
  },
  {
   "cell_type": "code",
   "execution_count": 28,
   "metadata": {},
   "outputs": [
    {
     "name": "stdout",
     "output_type": "stream",
     "text": [
      "H=178.66644908122998, p=1.441853196249705e-37\n",
      "N_L1 = 16 sites\n",
      "N_L23 = 47 sites\n",
      "N_L4 = 19 sites\n",
      "N_L5 = 52 sites\n",
      "N_L6 = 68 sites\n"
     ]
    },
    {
     "data": {
      "text/html": [
       "<div>\n",
       "<style scoped>\n",
       "    .dataframe tbody tr th:only-of-type {\n",
       "        vertical-align: middle;\n",
       "    }\n",
       "\n",
       "    .dataframe tbody tr th {\n",
       "        vertical-align: top;\n",
       "    }\n",
       "\n",
       "    .dataframe thead th {\n",
       "        text-align: right;\n",
       "    }\n",
       "</style>\n",
       "<table border=\"1\" class=\"dataframe\">\n",
       "  <thead>\n",
       "    <tr style=\"text-align: right;\">\n",
       "      <th></th>\n",
       "      <th>L1</th>\n",
       "      <th>L2/3</th>\n",
       "      <th>L4</th>\n",
       "      <th>L5</th>\n",
       "      <th>L6</th>\n",
       "    </tr>\n",
       "  </thead>\n",
       "  <tbody>\n",
       "    <tr>\n",
       "      <th>L1</th>\n",
       "      <td>1.000000e+00</td>\n",
       "      <td>1.183958e-01</td>\n",
       "      <td>1.870222e-14</td>\n",
       "      <td>3.766389e-20</td>\n",
       "      <td>1.519809e-07</td>\n",
       "    </tr>\n",
       "    <tr>\n",
       "      <th>L2/3</th>\n",
       "      <td>1.183958e-01</td>\n",
       "      <td>1.000000e+00</td>\n",
       "      <td>2.060565e-14</td>\n",
       "      <td>1.038202e-25</td>\n",
       "      <td>5.897085e-07</td>\n",
       "    </tr>\n",
       "    <tr>\n",
       "      <th>L4</th>\n",
       "      <td>1.870222e-14</td>\n",
       "      <td>2.060565e-14</td>\n",
       "      <td>1.000000e+00</td>\n",
       "      <td>9.783066e-01</td>\n",
       "      <td>2.860315e-05</td>\n",
       "    </tr>\n",
       "    <tr>\n",
       "      <th>L5</th>\n",
       "      <td>3.766389e-20</td>\n",
       "      <td>1.038202e-25</td>\n",
       "      <td>9.783066e-01</td>\n",
       "      <td>1.000000e+00</td>\n",
       "      <td>2.081786e-09</td>\n",
       "    </tr>\n",
       "    <tr>\n",
       "      <th>L6</th>\n",
       "      <td>1.519809e-07</td>\n",
       "      <td>5.897085e-07</td>\n",
       "      <td>2.860315e-05</td>\n",
       "      <td>2.081786e-09</td>\n",
       "      <td>1.000000e+00</td>\n",
       "    </tr>\n",
       "  </tbody>\n",
       "</table>\n",
       "</div>"
      ],
      "text/plain": [
       "                L1          L2/3            L4            L5            L6\n",
       "L1    1.000000e+00  1.183958e-01  1.870222e-14  3.766389e-20  1.519809e-07\n",
       "L2/3  1.183958e-01  1.000000e+00  2.060565e-14  1.038202e-25  5.897085e-07\n",
       "L4    1.870222e-14  2.060565e-14  1.000000e+00  9.783066e-01  2.860315e-05\n",
       "L5    3.766389e-20  1.038202e-25  9.783066e-01  1.000000e+00  2.081786e-09\n",
       "L6    1.519809e-07  5.897085e-07  2.860315e-05  2.081786e-09  1.000000e+00"
      ]
     },
     "execution_count": 28,
     "metadata": {},
     "output_type": "execute_result"
    }
   ],
   "source": [
    "# kruskall-wallis\n",
    "noise.get_kk(plot_data, \"Biophy. spont.\")\n",
    "\n",
    "# perform Dunn's posthoc test using a holm-sidak correction for the p-values\n",
    "# to identify the layer amplitudes that significantly deviate from others\n",
    "noise.get_posthoc_dunn_holm_sidak(plot_data, \"Biophy. spont.\")"
   ]
  },
  {
   "cell_type": "markdown",
   "metadata": {},
   "source": [
    "### H2: Does evoked change across layers?"
   ]
  },
  {
   "cell_type": "code",
   "execution_count": 27,
   "metadata": {},
   "outputs": [
    {
     "name": "stdout",
     "output_type": "stream",
     "text": [
      "H=171.6940162304055, p=4.527651062676017e-36\n",
      "N_L1 = 16 sites\n",
      "N_L23 = 47 sites\n",
      "N_L4 = 19 sites\n",
      "N_L5 = 52 sites\n",
      "N_L6 = 68 sites\n"
     ]
    },
    {
     "data": {
      "text/html": [
       "<div>\n",
       "<style scoped>\n",
       "    .dataframe tbody tr th:only-of-type {\n",
       "        vertical-align: middle;\n",
       "    }\n",
       "\n",
       "    .dataframe tbody tr th {\n",
       "        vertical-align: top;\n",
       "    }\n",
       "\n",
       "    .dataframe thead th {\n",
       "        text-align: right;\n",
       "    }\n",
       "</style>\n",
       "<table border=\"1\" class=\"dataframe\">\n",
       "  <thead>\n",
       "    <tr style=\"text-align: right;\">\n",
       "      <th></th>\n",
       "      <th>L1</th>\n",
       "      <th>L2/3</th>\n",
       "      <th>L4</th>\n",
       "      <th>L5</th>\n",
       "      <th>L6</th>\n",
       "    </tr>\n",
       "  </thead>\n",
       "  <tbody>\n",
       "    <tr>\n",
       "      <th>L1</th>\n",
       "      <td>1.000000e+00</td>\n",
       "      <td>5.437571e-08</td>\n",
       "      <td>1.356746e-14</td>\n",
       "      <td>6.028772e-20</td>\n",
       "      <td>1.100980e-02</td>\n",
       "    </tr>\n",
       "    <tr>\n",
       "      <th>L2/3</th>\n",
       "      <td>5.437571e-08</td>\n",
       "      <td>1.000000e+00</td>\n",
       "      <td>4.034968e-04</td>\n",
       "      <td>2.139625e-06</td>\n",
       "      <td>1.015882e-05</td>\n",
       "    </tr>\n",
       "    <tr>\n",
       "      <th>L4</th>\n",
       "      <td>1.356746e-14</td>\n",
       "      <td>4.034968e-04</td>\n",
       "      <td>1.000000e+00</td>\n",
       "      <td>9.394535e-01</td>\n",
       "      <td>7.086785e-13</td>\n",
       "    </tr>\n",
       "    <tr>\n",
       "      <th>L5</th>\n",
       "      <td>6.028772e-20</td>\n",
       "      <td>2.139625e-06</td>\n",
       "      <td>9.394535e-01</td>\n",
       "      <td>1.000000e+00</td>\n",
       "      <td>3.446049e-24</td>\n",
       "    </tr>\n",
       "    <tr>\n",
       "      <th>L6</th>\n",
       "      <td>1.100980e-02</td>\n",
       "      <td>1.015882e-05</td>\n",
       "      <td>7.086785e-13</td>\n",
       "      <td>3.446049e-24</td>\n",
       "      <td>1.000000e+00</td>\n",
       "    </tr>\n",
       "  </tbody>\n",
       "</table>\n",
       "</div>"
      ],
      "text/plain": [
       "                L1          L2/3            L4            L5            L6\n",
       "L1    1.000000e+00  5.437571e-08  1.356746e-14  6.028772e-20  1.100980e-02\n",
       "L2/3  5.437571e-08  1.000000e+00  4.034968e-04  2.139625e-06  1.015882e-05\n",
       "L4    1.356746e-14  4.034968e-04  1.000000e+00  9.394535e-01  7.086785e-13\n",
       "L5    6.028772e-20  2.139625e-06  9.394535e-01  1.000000e+00  3.446049e-24\n",
       "L6    1.100980e-02  1.015882e-05  7.086785e-13  3.446049e-24  1.000000e+00"
      ]
     },
     "execution_count": 27,
     "metadata": {},
     "output_type": "execute_result"
    }
   ],
   "source": [
    "# kruskall-wallis\n",
    "noise.get_kk(plot_data, \"Biophy. evoked\")\n",
    "\n",
    "# perform Dunn's posthoc test using a holm-sidak correction for the p-values\n",
    "# to identify the layer amplitudes that significantly deviate from others\n",
    "noise.get_posthoc_dunn_holm_sidak(plot_data, \"Biophy. evoked\")"
   ]
  },
  {
   "cell_type": "markdown",
   "metadata": {},
   "source": [
    "### H3: Spont. Model and data noises are the same? - Yes"
   ]
  },
  {
   "cell_type": "code",
   "execution_count": 25,
   "metadata": {},
   "outputs": [
    {
     "name": "stdout",
     "output_type": "stream",
     "text": [
      "\n",
      "layer 1\n",
      "\n",
      "1 vs. 2, z=66.0, p=0.48379408987835437, N_1=10, N_2=16\n",
      "\n",
      "layer 2/3\n",
      "\n",
      "1 vs. 2, z=719.0, p=0.02741632075746762, N_1=42, N_2=47\n",
      "\n",
      "layer 4\n",
      "\n",
      "1 vs. 2, z=227.0, p=0.07638507627249845, N_1=34, N_2=19\n",
      "\n",
      "layer 5\n",
      "\n",
      "1 vs. 2, z=768.0, p=0.0134009597257908, N_1=42, N_2=52\n",
      "1 vs. 2, z=0.0, p=8.341564166878022e-59, N_1=42, N_2=384\n",
      "\n",
      "layer 6\n",
      "\n",
      "1 vs. 2, z=2933.0, p=0.19122888444827751, N_1=98, N_2=68\n"
     ]
    }
   ],
   "source": [
    "print(\"\\nlayer 1\\n\")\n",
    "noise.get_mwu(plot_data, \"npx (Marques-Smith)\", \"Biophy. spont.\", \"L1\")\n",
    "\n",
    "print(\"\\nlayer 2/3\\n\")\n",
    "noise.get_mwu(plot_data, \"npx (Marques-Smith)\", \"Biophy. spont.\", \"L2/3\")\n",
    "\n",
    "print(\"\\nlayer 4\\n\")\n",
    "noise.get_mwu(plot_data, \"npx (Marques-Smith)\", \"Biophy. spont.\", \"L4\")\n",
    "\n",
    "print(\"\\nlayer 5\\n\")\n",
    "noise.get_mwu(plot_data, \"npx (Marques-Smith)\", \"Biophy. spont.\", \"L5\")\n",
    "noise.get_mwu(plot_data, \"npx (Marques-Smith)\", \"Synth. (Buccino)\", \"L5\")\n",
    "\n",
    "print(\"\\nlayer 6\\n\")\n",
    "noise.get_mwu(plot_data, \"npx (Marques-Smith)\", \"Biophy. spont.\", \"L6\")"
   ]
  },
  {
   "cell_type": "markdown",
   "metadata": {},
   "source": [
    "### H4: Evoked. Model and data noises are the same - No"
   ]
  },
  {
   "cell_type": "code",
   "execution_count": 29,
   "metadata": {},
   "outputs": [
    {
     "name": "stdout",
     "output_type": "stream",
     "text": [
      "\n",
      "layer 1\n",
      "\n",
      "1 vs. 2, z=160.0, p=3.765248078076184e-07, N_1=10, N_2=16\n",
      "\n",
      "layer 2/3\n",
      "\n",
      "1 vs. 2, z=766.0, p=0.06981865287214553, N_1=42, N_2=47\n",
      "\n",
      "layer 4\n",
      "\n",
      "1 vs. 2, z=326.0, p=0.9633700684150693, N_1=34, N_2=19\n",
      "\n",
      "layer 5\n",
      "\n",
      "1 vs. 2, z=945.0, p=0.266600772419991, N_1=42, N_2=52\n",
      "\n",
      "layer 6\n",
      "\n",
      "1 vs. 2, z=6438.0, p=2.208498867696382e-33, N_1=98, N_2=68\n"
     ]
    }
   ],
   "source": [
    "print(\"\\nlayer 1\\n\")\n",
    "noise.get_mwu(plot_data, \"npx (Marques-Smith)\", \"Biophy. evoked\", \"L1\")\n",
    "\n",
    "print(\"\\nlayer 2/3\\n\")\n",
    "noise.get_mwu(plot_data, \"npx (Marques-Smith)\", \"Biophy. evoked\", \"L2/3\")\n",
    "\n",
    "print(\"\\nlayer 4\\n\")\n",
    "noise.get_mwu(plot_data, \"npx (Marques-Smith)\", \"Biophy. evoked\", \"L4\")\n",
    "\n",
    "print(\"\\nlayer 5\\n\")\n",
    "noise.get_mwu(plot_data, \"npx (Marques-Smith)\", \"Biophy. evoked\", \"L5\")\n",
    "\n",
    "print(\"\\nlayer 6\\n\")\n",
    "noise.get_mwu(plot_data, \"npx (Marques-Smith)\", \"Biophy. evoked\", \"L6\")"
   ]
  }
 ],
 "metadata": {
  "kernelspec": {
   "display_name": "spikinterf0_100_5",
   "language": "python",
   "name": "python3"
  },
  "language_info": {
   "codemirror_mode": {
    "name": "ipython",
    "version": 3
   },
   "file_extension": ".py",
   "mimetype": "text/x-python",
   "name": "python",
   "nbconvert_exporter": "python",
   "pygments_lexer": "ipython3",
   "version": "3.9.7"
  },
  "orig_nbformat": 4
 },
 "nbformat": 4,
 "nbformat_minor": 2
}
