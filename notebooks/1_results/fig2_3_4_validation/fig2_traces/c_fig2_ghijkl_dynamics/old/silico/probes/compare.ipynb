{
 "cells": [
  {
   "cell_type": "code",
   "execution_count": null,
   "metadata": {},
   "outputs": [],
   "source": [
    "# SET PARAMETERS\n",
    "EXPERIMENT = \"silico_neuropixels\"       # specifies the experiment from conf/\n",
    "SIMULATION_DATE = \"2023_09_12\"          # specifies the run (date)\n",
    "data_conf, param_conf = get_config(EXPERIMENT, SIMULATION_DATE).values()\n",
    "CONTACT_IDS = param_conf[\"probe\"][\"neuropixels_384\"][\"contact_ids\"]\n",
    "from src.nodes import viz \n",
    "from src.nodes.truth.silico import ground_truth\n",
    "from src.nodes.dataeng.silico import probe_wiring\n",
    "from src.nodes.load import load_campaign_params\n",
    "\n",
    "# TODO: load HorvathProbe with probe_wiring.load()"
   ]
  },
  {
   "cell_type": "code",
   "execution_count": null,
   "metadata": {},
   "outputs": [],
   "source": [
    "# load campaign parameters\n",
    "simulation = load_campaign_params(data_conf)\n",
    "\n",
    "# wire recording with probe\n",
    "Recording = probe_wiring.load(data_conf)\n",
    "\n",
    "# get contact coordinates\n",
    "npx384Probe = Recording.get_probe()"
   ]
  },
  {
   "cell_type": "code",
   "execution_count": null,
   "metadata": {},
   "outputs": [],
   "source": [
    "fig = plt.figure(figsize=(20,20))\n",
    "ax = fig.add_subplot(111, projection=\"3d\");\n",
    "ax.view_init(0,0,0);\n",
    "\n",
    "# plot probe contacts\n",
    "ax.plot(\n",
    "    npx384Probe.contact_positions[:, 0],\n",
    "    npx384Probe.contact_positions[:, 1],\n",
    "    npx384Probe.contact_positions[:, 2],\n",
    "    marker=\".\",\n",
    "    markersize=8,\n",
    "    color=\"w\",\n",
    "    markeredgecolor=\"black\",\n",
    "    linestyle=\"None\",\n",
    ");\n",
    "\n",
    "# plot probe contacts\n",
    "ax.plot(\n",
    "    HorvathProbe.contact_positions[:, 0],\n",
    "    HorvathProbe.contact_positions[:, 1],\n",
    "    HorvathProbe.contact_positions[:, 2],\n",
    "    marker=\".\",\n",
    "    markersize=8,\n",
    "    color=\"g\",\n",
    "    markeredgecolor=\"black\",\n",
    "    linestyle=\"None\",\n",
    ");"
   ]
  }
 ],
 "metadata": {
  "language_info": {
   "name": "python"
  },
  "orig_nbformat": 4
 },
 "nbformat": 4,
 "nbformat_minor": 2
}
