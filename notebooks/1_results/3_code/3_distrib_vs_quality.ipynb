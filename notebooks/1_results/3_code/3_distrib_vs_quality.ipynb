{
 "cells": [
  {
   "cell_type": "markdown",
   "metadata": {},
   "source": [
    "# Sorted unit types\n",
    "\n",
    "author: steeve.laquitaine@epfl.ch  \n",
    "\n",
    "**methods**:\n",
    "* We focus on single-units\n",
    "* multi-units have not one type by definition.\n",
    "\n",
    "**conclusion**:\n",
    "* **strong sampling bias**: single-unit excitatory cADpyr from L5,6 then L2/3 and 4 are preferentially captured by all spike sorters. INH units are strongly undersampled.\n",
    "* All tested spike sorters share the same sampling bias.\n",
    "\n",
    "**next**:\n",
    "* what is effect of this sampling bias on the circuit's information capacity (IC)?\n",
    "    * contrast IC b/w random sampling vs. biased sampling."
   ]
  },
  {
   "cell_type": "markdown",
   "metadata": {},
   "source": [
    "### Setup\n",
    "\n",
    "Setup `manifold` env"
   ]
  },
  {
   "cell_type": "code",
   "execution_count": 64,
   "metadata": {},
   "outputs": [
    {
     "name": "stdout",
     "output_type": "stream",
     "text": [
      "The autoreload extension is already loaded. To reload it, use:\n",
      "  %reload_ext autoreload\n",
      "2024-10-17 12:24:44,929 - root - utils.py - get_config - INFO - Reading experiment config.\n",
      "2024-10-17 12:24:45,150 - root - utils.py - get_config - INFO - Reading experiment config. - done\n"
     ]
    }
   ],
   "source": [
    "# SETUP PACKAGES \n",
    "%load_ext autoreload\n",
    "%autoreload 2\n",
    "import os\n",
    "import numpy as np\n",
    "from matplotlib import pyplot as plt\n",
    "from matplotlib.gridspec import GridSpec\n",
    "import spikeinterface as si\n",
    "import numpy as np\n",
    "from collections import Counter\n",
    "import pandas as pd\n",
    "from sklearn.decomposition import PCA # dimensionality reduction\n",
    "from mftma.manifold_analysis_correlation import manifold_analysis_corr\n",
    "import random\n",
    "import seaborn as sns\n",
    "from collections import defaultdict\n",
    "import pickle\n",
    "import warnings\n",
    "warnings.filterwarnings(\"ignore\", category=DeprecationWarning) \n",
    "warnings.filterwarnings(\"ignore\", category=UserWarning) \n",
    "from scipy.stats import kruskal  # stats\n",
    "import scikit_posthocs as sp\n",
    "\n",
    "\n",
    "# SET PROJECT PATH\n",
    "PROJ_PATH = \"/gpfs/bbp.cscs.ch/project/proj85/home/laquitai/preprint_2023\"\n",
    "os.chdir(PROJ_PATH)\n",
    "from src.nodes import utils\n",
    "from src.nodes.utils import get_config\n",
    "from src.nodes.analysis.code import igeom\n",
    "from src.nodes.metrics.quality import get_scores\n",
    "from src.nodes.analysis.features import features as feat\n",
    "from src.nodes.analysis.stats import stats\n",
    "\n",
    "# SETUP CONFIG\n",
    "data_conf, _ = get_config(\"silico_neuropixels\", \"stimulus\").values()\n",
    "GT = data_conf[\"sorting\"][\"simulation\"][\"ground_truth\"][\"full\"][\"output\"]\n",
    "REC = data_conf[\"probe_wiring\"][\"output\"]\n",
    "IGEOM = data_conf[\"analyses\"][\"neural_code\"][\"igeom\"]\n",
    "IGEOM_BY_Q = data_conf[\"analyses\"][\"neural_code\"][\"by_quality\"][\"igeom\"]\n",
    "\n",
    "# SORTINGS\n",
    "K4 = data_conf[\"sorting\"][\"sorters\"][\"kilosort4\"][\"full\"][\"output\"]\n",
    "K3 = data_conf[\"sorting\"][\"sorters\"][\"kilosort3\"][\"full\"][\"output\"]\n",
    "K25 = data_conf[\"sorting\"][\"sorters\"][\"kilosort2_5\"][\"full\"][\"output\"]\n",
    "K2 = data_conf[\"sorting\"][\"sorters\"][\"kilosort2\"][\"full\"][\"output\"]\n",
    "KS = data_conf[\"sorting\"][\"sorters\"][\"kilosort\"][\"full\"][\"output\"]\n",
    "HS = data_conf[\"sorting\"][\"sorters\"][\"herdingspikes\"][\"full\"][\"output\"]\n",
    "\n",
    "\n",
    "# SETUP QUALITY PATH\n",
    "quality_path = \"/gpfs/bbp.cscs.ch/project/proj85/scratch/laquitai/preprint_2024/dataeng/0_silico/4_spikesorting_stimulus_test_neuropixels_8-1-24__8slc_80f_360r_50t_200ms_1_smallest_fiber_gids/0fcb7709-b1e9-4d84-b056-5801f20d55af/analysis/sorting_quality/sorting_quality_1h.csv\"\n",
    "\n",
    "# TASK DESIGN PARAMETERS\n",
    "N_SIMS = 36 # number of simulation files\n",
    "SELECT_PERIOD = False\n",
    "DT = 1.3\n",
    "\n",
    "# FIGURE SETTINGS\n",
    "COLOR_VIVO = (0.7, 0.7, 0.7)\n",
    "COLOR_SILI = (0.84, 0.27, 0.2)\n",
    "COLOR_STIM = (0.6, 0.75, 0.1)\n",
    "BOX_ASPECT = 1                  # square fig\n",
    "plt.rcParams['figure.figsize'] = (2,1)\n",
    "plt.rcParams[\"font.family\"] = \"Arial\"\n",
    "plt.rcParams[\"font.size\"] = 6\n",
    "plt.rcParams['lines.linewidth'] = 0.5\n",
    "plt.rcParams['axes.linewidth'] = 0.5\n",
    "plt.rcParams['axes.spines.top'] = False\n",
    "plt.rcParams['axes.spines.right'] = False\n",
    "plt.rcParams['xtick.major.width'] = 0.3\n",
    "plt.rcParams['xtick.minor.size'] = 0.1\n",
    "plt.rcParams['xtick.major.size'] = 1.5\n",
    "plt.rcParams['ytick.major.size'] = 1.5\n",
    "plt.rcParams['ytick.major.width'] = 0.3\n",
    "legend_cfg = {\"frameon\": False, \"handletextpad\": 0.1}\n",
    "savefig_cfg = {\"transparent\":True, \"dpi\": 300} "
   ]
  },
  {
   "cell_type": "markdown",
   "metadata": {},
   "source": [
    "### Custom functions"
   ]
  },
  {
   "cell_type": "code",
   "execution_count": null,
   "metadata": {},
   "outputs": [],
   "source": [
    "def get_obs(count_g, count_oo):\n",
    "    obs_df = pd.DataFrame()\n",
    "    obs_df[\"good\"] = count_g[\"count\"].values\n",
    "    obs_df[\"oo\"] = count_oo[\"count\"].values\n",
    "    return obs_df"
   ]
  },
  {
   "cell_type": "markdown",
   "metadata": {},
   "source": [
    "## (40s)Load datasets"
   ]
  },
  {
   "cell_type": "code",
   "execution_count": 42,
   "metadata": {},
   "outputs": [],
   "source": [
    "# get sorted unit quality and bias classification\n",
    "quality_df = pd.read_csv(quality_path)\n",
    "\n",
    "# get true evoked data\n",
    "SortingTrue = si.load_extractor(GT)\n",
    "Recording = si.load_extractor(REC)\n",
    "duration_secs = Recording.get_total_duration()\n",
    "SFREQ = SortingTrue.get_sampling_frequency()\n",
    "\n",
    "# get SortingExtractors\n",
    "SortingK4 = si.load_extractor(K4)\n",
    "SortingK3 = si.load_extractor(K3)\n",
    "SortingK25 = si.load_extractor(K25)\n",
    "SortingK2 = si.load_extractor(K2)\n",
    "SortingKS = si.load_extractor(KS)\n",
    "SortingHS = si.load_extractor(HS)"
   ]
  },
  {
   "cell_type": "code",
   "execution_count": 43,
   "metadata": {},
   "outputs": [],
   "source": [
    "# create dataset of sorted unit types (derived from their best matched ground truth)\n",
    "df_k4 = feat.get_feature_data_for(\"KS4\", SortingK4, SortingTrue, quality_path, DT)\n",
    "df_k3 = feat.get_feature_data_for(\"KS3\", SortingK3, SortingTrue, quality_path, DT)\n",
    "df_k25 = feat.get_feature_data_for(\"KS2.5\", SortingK25, SortingTrue, quality_path, DT)\n",
    "df_k2 = feat.get_feature_data_for(\"KS2\", SortingK2, SortingTrue, quality_path, DT)\n",
    "df_ks = feat.get_feature_data_for(\"KS\", SortingKS, SortingTrue, quality_path, DT)\n",
    "df_hs = feat.get_feature_data_for(\"HS\", SortingHS, SortingTrue, quality_path, DT)\n",
    "df = pd.concat([df_k4, df_k3, df_k25, df_k2, df_ks, df_hs])\n",
    "\n",
    "# count the number of occurrences of each unique unit types\n",
    "# in ground truth\n",
    "# choose three features to describe units\n",
    "df_gt = feat.get_gt_unit_features(SortingTrue)\n",
    "unique_type_feat = [\"layer\", \"synapse\", \"etype\"]\n",
    "\n",
    "# get unique unit types observed across the\n",
    "# dataset\n",
    "unique_type = df_gt.drop_duplicates()"
   ]
  },
  {
   "cell_type": "markdown",
   "metadata": {},
   "source": [
    "### (40s)Unit type distribution"
   ]
  },
  {
   "cell_type": "code",
   "execution_count": 44,
   "metadata": {},
   "outputs": [
    {
     "data": {
      "text/html": [
       "<div>\n",
       "<style scoped>\n",
       "    .dataframe tbody tr th:only-of-type {\n",
       "        vertical-align: middle;\n",
       "    }\n",
       "\n",
       "    .dataframe tbody tr th {\n",
       "        vertical-align: top;\n",
       "    }\n",
       "\n",
       "    .dataframe thead th {\n",
       "        text-align: right;\n",
       "    }\n",
       "</style>\n",
       "<table border=\"1\" class=\"dataframe\">\n",
       "  <thead>\n",
       "    <tr style=\"text-align: right;\">\n",
       "      <th></th>\n",
       "      <th>type</th>\n",
       "      <th>count</th>\n",
       "    </tr>\n",
       "  </thead>\n",
       "  <tbody>\n",
       "    <tr>\n",
       "      <th>0</th>\n",
       "      <td>(L2/3, EXC, cADpyr)</td>\n",
       "      <td>342</td>\n",
       "    </tr>\n",
       "    <tr>\n",
       "      <th>1</th>\n",
       "      <td>(L2/3, INH, dNAC)</td>\n",
       "      <td>4</td>\n",
       "    </tr>\n",
       "    <tr>\n",
       "      <th>2</th>\n",
       "      <td>(L2/3, INH, cNAC)</td>\n",
       "      <td>6</td>\n",
       "    </tr>\n",
       "    <tr>\n",
       "      <th>3</th>\n",
       "      <td>(L2/3, INH, bAC)</td>\n",
       "      <td>3</td>\n",
       "    </tr>\n",
       "    <tr>\n",
       "      <th>4</th>\n",
       "      <td>(L2/3, INH, cACint)</td>\n",
       "      <td>11</td>\n",
       "    </tr>\n",
       "  </tbody>\n",
       "</table>\n",
       "</div>"
      ],
      "text/plain": [
       "                  type  count\n",
       "0  (L2/3, EXC, cADpyr)    342\n",
       "1    (L2/3, INH, dNAC)      4\n",
       "2    (L2/3, INH, cNAC)      6\n",
       "3     (L2/3, INH, bAC)      3\n",
       "4  (L2/3, INH, cACint)     11"
      ]
     },
     "execution_count": 44,
     "metadata": {},
     "output_type": "execute_result"
    }
   ],
   "source": [
    "# count unit types by spike sorter\n",
    "count_gt = feat.count_unit_type(\n",
    "    df_gt[unique_type_feat],\n",
    "    unique_type,\n",
    ")\n",
    "count_k4 = feat.count_unit_type(\n",
    "    df_k4[unique_type_feat],\n",
    "    unique_type,\n",
    ")\n",
    "count_k3 = feat.count_unit_type(\n",
    "    df_k3[unique_type_feat],\n",
    "    unique_type,\n",
    ")\n",
    "count_k25 = feat.count_unit_type(\n",
    "    df_k25[unique_type_feat],\n",
    "    unique_type,\n",
    ")\n",
    "count_k2 = feat.count_unit_type(\n",
    "    df_k2[unique_type_feat],\n",
    "    unique_type,\n",
    ")\n",
    "count_ks = feat.count_unit_type(\n",
    "    df_ks[unique_type_feat],\n",
    "    unique_type,\n",
    ")\n",
    "count_hs = feat.count_unit_type(\n",
    "    df_hs[unique_type_feat],\n",
    "    unique_type,\n",
    ")\n",
    "type_nm = count_gt\n",
    "type_nm.head(5)"
   ]
  },
  {
   "cell_type": "markdown",
   "metadata": {},
   "source": [
    "### Plot unit types by quality\n",
    "\n",
    "* are there unit types over or underrepresented in good (oo) vs poorly sorted and biased units (oo)?\n",
    "    * probabilities are independent between oo and good\n",
    "* we can't calculate the odds contrary to with ground truth as some unit types are sometimes missing for oo or good units"
   ]
  },
  {
   "cell_type": "code",
   "execution_count": 5,
   "metadata": {},
   "outputs": [],
   "source": [
    "# parameters\n",
    "df_all = [df_k4, df_k3, df_k25, df_k2, df_ks, df_hs]\n",
    "sorters = [\"KS4\", \"KS3\", \"KS2.5\", \"KS2\", \"KS\", \"HS\"]\n",
    "\n",
    "# compute unit type distribution by spike sorter\n",
    "count_g, count_oo = feat.count_unit_type_by_quality(\n",
    "    df_all, sorters, unique_type_feat, unique_type\n",
    ")"
   ]
  },
  {
   "cell_type": "code",
   "execution_count": 7,
   "metadata": {},
   "outputs": [
    {
     "data": {
      "image/png": "[encoded data removed]",
      "text/plain": [
       "<Figure size 600x400 with 6 Axes>"
      ]
     },
     "metadata": {},
     "output_type": "display_data"
    }
   ],
   "source": [
    "# plot raw count\n",
    "fig, ax = plt.subplots(1, len(count_g.keys()), figsize=(6, 4))\n",
    "\n",
    "xticks = np.arange(0, len(type_nm[\"type\"]), 1)\n",
    "\n",
    "# loop over spike sorter\n",
    "for ix in range(len(count_g.keys())):\n",
    "\n",
    "    ticks = np.arange(0, len(type_nm), 1)\n",
    "\n",
    "    # aesthetics\n",
    "    if ix == 0:\n",
    "        ax[ix].set_yticks(xticks, type_nm[\"type\"], rotation=0)\n",
    "        ax[ix].set_xlabel(\"Count\")\n",
    "        ax[ix].set_ylabel(\"Unit type\")\n",
    "\n",
    "    # proportions\n",
    "    # mixed: good\n",
    "    ax[ix].plot(\n",
    "        count_g[sorters[ix]][\"count\"].values\n",
    "        / sum(count_g[sorters[ix]][\"count\"].values),\n",
    "        xticks,\n",
    "        label=\"good\",\n",
    "    )\n",
    "\n",
    "    # poor: overmerger + oversplitter\n",
    "    ax[ix].plot(\n",
    "        count_oo[sorters[ix]][\"count\"].values\n",
    "        / sum(count_oo[sorters[ix]][\"count\"].values),\n",
    "        xticks,\n",
    "        label=\"oo\",\n",
    "    )\n",
    "    if ix == len(count_g.keys()) - 1:\n",
    "        ax[ix].legend(frameon=False, loc=\"upper right\", bbox_to_anchor=(0.8, 1))\n",
    "    ax[ix].set_title(sorters[ix])\n",
    "\n",
    "plt.tight_layout()"
   ]
  },
  {
   "cell_type": "markdown",
   "metadata": {},
   "source": [
    "### Hypothesis testing: oo and good units unit type distributions are the same -> rejected\n",
    "\n",
    "* hypothesis: oo and good units unit type distributions are the same.\n",
    "* There are sample sizes smaller than 5, so Fisher-exact test of goodness of fit and not chi-square.\n",
    "* the marginals of the resulting table must equal those of the observed table. \n",
    "* cons: computationally intensive, so we used fisher monte carlo, which was validated against fisher exact test for small contingency tables.\n",
    "* results were validated against the implementation in R for a simple contingency table."
   ]
  },
  {
   "cell_type": "code",
   "execution_count": 69,
   "metadata": {},
   "outputs": [
    {
     "name": "stdout",
     "output_type": "stream",
     "text": [
      "k4 p-value: 0.0\n",
      "k3 p-value: 0.0\n",
      "k2.5 p-value: 0.0\n",
      "k2 p-value: 0.0\n",
      "ks p-value: 0.0\n",
      "hs p-value: 0.0\n",
      "example observations:     good   oo\n",
      "0     19   46\n",
      "1      0    0\n",
      "2      0    0\n",
      "3      0    0\n",
      "4      0    0\n",
      "5      0    0\n",
      "6      0    0\n",
      "7      2    0\n",
      "8      0    0\n",
      "9     21   47\n",
      "10     0    0\n",
      "11     0    0\n",
      "12     0    1\n",
      "13     0    0\n",
      "14     0    0\n",
      "15     0    0\n",
      "16     0    0\n",
      "17     0    0\n",
      "18     0    0\n",
      "19     1    1\n",
      "20     1   27\n",
      "21     0    1\n",
      "22     0    0\n",
      "23     0    0\n",
      "24     0    0\n",
      "25    31  102\n",
      "26     0    0\n",
      "27     0    0\n",
      "28     0    0\n",
      "29     0    0\n",
      "30     1    1\n",
      "31     0    0\n",
      "32     0    1\n",
      "33     0    0\n",
      "34     0    0\n"
     ]
    }
   ],
   "source": [
    "# create contingency tables\n",
    "obs_df_k4 = get_obs(count_g[\"KS4\"], count_oo[\"KS4\"])\n",
    "obs_df_k3 = get_obs(count_g[\"KS3\"], count_oo[\"KS3\"])\n",
    "obs_df_k25 = get_obs(count_g[\"KS2.5\"], count_oo[\"KS2.5\"])\n",
    "obs_df_k2 = get_obs(count_g[\"KS2\"], count_oo[\"KS2\"])\n",
    "obs_df_ks = get_obs(count_g[\"KS\"], count_oo[\"KS\"])\n",
    "obs_df_hs = get_obs(count_g[\"HS\"], count_oo[\"HS\"])\n",
    "\n",
    "# (1m)\n",
    "# test hypothesis\n",
    "print(\"k4 p-value:\", stats.fisher_monte_carlo(obs_df_k4.values, num_simulations=10000))\n",
    "print(\"k3 p-value:\", stats.fisher_monte_carlo(obs_df_k3.values, num_simulations=10000))\n",
    "print(\n",
    "    \"k2.5 p-value:\", stats.fisher_monte_carlo(obs_df_k25.values, num_simulations=10000)\n",
    ")\n",
    "print(\"k2 p-value:\", stats.fisher_monte_carlo(obs_df_k2.values, num_simulations=10000))\n",
    "print(\"ks p-value:\", stats.fisher_monte_carlo(obs_df_ks.values, num_simulations=10000))\n",
    "print(\"hs p-value:\", stats.fisher_monte_carlo(obs_df_hs.values, num_simulations=10000))\n",
    "print(\"example observations:\", obs_df_hs)"
   ]
  },
  {
   "cell_type": "markdown",
   "metadata": {},
   "source": [
    "# references\n",
    "\n",
    "https://stackoverflow.com/questions/25368284/fishers-exact-test-for-bigger-than-2-by-2-contingency-table  \n",
    "https://bytepawn.com/ab-testing-and-fishers-exact-test.html"
   ]
  }
 ],
 "metadata": {
  "kernelspec": {
   "display_name": "npx_10m_384ch_unit_classes",
   "language": "python",
   "name": "python3"
  },
  "language_info": {
   "codemirror_mode": {
    "name": "ipython",
    "version": 3
   },
   "file_extension": ".py",
   "mimetype": "text/x-python",
   "name": "python",
   "nbconvert_exporter": "python",
   "pygments_lexer": "ipython3",
   "version": "3.9.7"
  }
 },
 "nbformat": 4,
 "nbformat_minor": 2
}
