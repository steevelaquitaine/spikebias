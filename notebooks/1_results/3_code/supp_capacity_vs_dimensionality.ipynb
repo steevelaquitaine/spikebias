{
 "cells": [
  {
   "cell_type": "markdown",
   "metadata": {},
   "source": [
    "# Capacity vs. dimensionality\n",
    "\n",
    "author: steeve.laquitaine@epfl.ch  \n",
    "\n",
    "**purpose**: what is effect of this sampling bias on the circuit's information capacity (IC)?\n",
    "    \n",
    "**methods**:\n",
    "* contrast IC b/w random sampling vs. biased sampling.\n",
    "* We focus on single-units\n",
    "* multi-units have not one type by definition.\n",
    "\n",
    "\n",
    "* sample a population of units such that we control number of each unit type (random vs biased), for each sorter"
   ]
  },
  {
   "cell_type": "markdown",
   "metadata": {},
   "source": [
    "### Setup\n",
    "\n",
    "Setup `manifold` env"
   ]
  },
  {
   "cell_type": "code",
   "execution_count": 1,
   "metadata": {},
   "outputs": [
    {
     "name": "stdout",
     "output_type": "stream",
     "text": [
      "2024-10-15 20:17:56,463 - root - utils.py - get_config - INFO - Reading experiment config.\n",
      "2024-10-15 20:17:56,855 - root - utils.py - get_config - INFO - Reading experiment config. - done\n"
     ]
    }
   ],
   "source": [
    "# SETUP PACKAGES \n",
    "%load_ext autoreload\n",
    "%autoreload 2\n",
    "import os\n",
    "import numpy as np\n",
    "from matplotlib import pyplot as plt\n",
    "import spikeinterface as si\n",
    "import numpy as np\n",
    "import pandas as pd\n",
    "import seaborn as sns\n",
    "import warnings\n",
    "warnings.filterwarnings(\"ignore\", category=DeprecationWarning) \n",
    "warnings.filterwarnings(\"ignore\", category=UserWarning) \n",
    "\n",
    "\n",
    "# SET PROJECT PATH\n",
    "PROJ_PATH = \"/gpfs/bbp.cscs.ch/project/proj85/home/laquitai/preprint_2023\"\n",
    "os.chdir(PROJ_PATH)\n",
    "from src.nodes import utils\n",
    "from src.nodes.utils import get_config\n",
    "from src.nodes.analysis.features import features as feat\n",
    "from src.nodes.analysis.code import igeom\n",
    "\n",
    "# SETUP CONFIG\n",
    "data_conf, _ = get_config(\"silico_neuropixels\", \"stimulus\").values()\n",
    "GT = data_conf[\"sorting\"][\"simulation\"][\"ground_truth\"][\"full\"][\"output\"]\n",
    "REC = data_conf[\"probe_wiring\"][\"output\"]\n",
    "IGEOM = data_conf[\"analyses\"][\"neural_code\"][\"igeom\"]\n",
    "IGEOM_BY_Q = data_conf[\"analyses\"][\"neural_code\"][\"by_quality\"][\"igeom\"]\n",
    "\n",
    "# SORTINGS\n",
    "K4 = data_conf[\"sorting\"][\"sorters\"][\"kilosort4\"][\"full\"][\"output\"]\n",
    "K3 = data_conf[\"sorting\"][\"sorters\"][\"kilosort3\"][\"full\"][\"output\"]\n",
    "K25 = data_conf[\"sorting\"][\"sorters\"][\"kilosort2_5\"][\"full\"][\"output\"]\n",
    "K2 = data_conf[\"sorting\"][\"sorters\"][\"kilosort2\"][\"full\"][\"output\"]\n",
    "KS = data_conf[\"sorting\"][\"sorters\"][\"kilosort\"][\"full\"][\"output\"]\n",
    "HS = data_conf[\"sorting\"][\"sorters\"][\"herdingspikes\"][\"full\"][\"output\"]\n",
    "IGEOM_SAMP = data_conf[\"analyses\"][\"neural_code\"][\"by_sampling\"][\"igeom\"]\n",
    "IGEOM_DIM = data_conf[\"analyses\"][\"neural_code\"][\"by_dimensionality\"][\"igeom\"]\n",
    "\n",
    "# SETUP QUALITY PATH\n",
    "quality_path = \"/gpfs/bbp.cscs.ch/project/proj85/scratch/laquitai/4_preprint_2023/dataeng/0_silico/4_spikesorting_stimulus_test_neuropixels_8-1-24__8slc_80f_360r_50t_200ms_1_smallest_fiber_gids/0fcb7709-b1e9-4d84-b056-5801f20d55af/analysis/sorting_quality/sorting_quality_1h.csv\"\n",
    "\n",
    "# TASK DESIGN PARAMETERS\n",
    "N_SIMS = 36 # number of simulation files\n",
    "SELECT_PERIOD = False\n",
    "DT = 1.3\n",
    "\n",
    "# FIGURE SETTINGS\n",
    "COLOR_VIVO = (0.7, 0.7, 0.7)\n",
    "COLOR_SILI = (0.84, 0.27, 0.2)\n",
    "COLOR_STIM = (0.6, 0.75, 0.1)\n",
    "BOX_ASPECT = 1                  # square fig\n",
    "plt.rcParams['figure.figsize'] = (2,1)\n",
    "plt.rcParams[\"font.family\"] = \"Arial\"\n",
    "plt.rcParams[\"font.size\"] = 6\n",
    "plt.rcParams['lines.linewidth'] = 0.5\n",
    "plt.rcParams['axes.linewidth'] = 0.5\n",
    "plt.rcParams['axes.spines.top'] = False\n",
    "plt.rcParams['axes.spines.right'] = False\n",
    "plt.rcParams['xtick.major.width'] = 0.3\n",
    "plt.rcParams['xtick.minor.size'] = 0.1\n",
    "plt.rcParams['xtick.major.size'] = 1.5\n",
    "plt.rcParams['ytick.major.size'] = 1.5\n",
    "plt.rcParams['ytick.major.width'] = 0.3\n",
    "legend_cfg = {\"frameon\": False, \"handletextpad\": 0.1}\n",
    "savefig_cfg = {\"transparent\":True, \"dpi\": 300} "
   ]
  },
  {
   "cell_type": "markdown",
   "metadata": {},
   "source": [
    "### (14s)Unit type distribution"
   ]
  },
  {
   "cell_type": "code",
   "execution_count": 2,
   "metadata": {},
   "outputs": [],
   "source": [
    "# reproducibility\n",
    "# (14s) sample ground truth units to match sorted single-unit\n",
    "# distribution. We get N ground truth units from each type\n",
    "# to match its count in the sorted unit population\n",
    "Sorting = si.load_extractor(K4)\n",
    "SortingTrue = si.load_extractor(GT)\n",
    "data = igeom.sample_gt_based_on_sorting_distribution(\n",
    "    \"KS4\", Sorting, SortingTrue, quality_path, DT, seed=1\n",
    ")"
   ]
  },
  {
   "cell_type": "code",
   "execution_count": 3,
   "metadata": {},
   "outputs": [],
   "source": [
    "# unit-test\n",
    "# counts should match\n",
    "count_gt = feat.count_unit_type(\n",
    "    data[\"df_gt\"].iloc[data[\"gt_loc\"]],\n",
    "    data[\"unique_type\"],\n",
    ")\n",
    "assert len(data[\"gt_loc\"]) == sum(data[\"counts\"][\"count\"]), \"totals must match\"\n",
    "assert all(\n",
    "    data[\"counts\"][\"count\"].values == count_gt[\"count\"].values\n",
    "), \"counts should match\""
   ]
  },
  {
   "cell_type": "markdown",
   "metadata": {},
   "source": [
    "* Hypothesis 1: Information capacity should increase with the number of units, \n",
    "    \n",
    "* Hypothesis 2: some unit responses could act as noise and entangle the neural manifold. The original paper shows that information capacity actually increases through the depth of a deep network (with decreasing layer size) as representations become disentangled.\n",
    "* Results:\n",
    "    * the capacity of the entire ground truth is lower than of a random sample of the same size as the sorted population."
   ]
  },
  {
   "cell_type": "markdown",
   "metadata": {},
   "source": [
    "* information capacity is robust to change in dimensionality as stated in the original paper."
   ]
  },
  {
   "cell_type": "code",
   "execution_count": 3,
   "metadata": {},
   "outputs": [
    {
     "data": {
      "image/png": "[encoded data removed]",
      "text/plain": [
       "<Figure size 250x150 with 1 Axes>"
      ]
     },
     "metadata": {},
     "output_type": "display_data"
    }
   ],
   "source": [
    "# LOAD/COMPUTE 1h34 for 0 bootstraps\n",
    "igeom_df = pd.read_csv(IGEOM_DIM)\n",
    "igeom_df.loc[igeom_df.Sorter == \"ground_truth\", \"Sorter\"] = \"ground\\ntruth\"\n",
    "\n",
    "# PLOT\n",
    "fig, ax = plt.subplots(1, 1, figsize=(2.5, 1.5))\n",
    "\n",
    "# set plot parameters\n",
    "BOXPLOT_PMS = {\n",
    "    \"notch\": True,\n",
    "    \"gap\": 0.3,\n",
    "    \"width\": 0.7,\n",
    "    \"linewidth\": 0.5,\n",
    "    \"flierprops\": {\n",
    "        \"marker\": \"o\",\n",
    "        \"markerfacecolor\": \"w\",\n",
    "        \"markersize\": 1.5,\n",
    "        \"markeredgewidth\": 0.5,\n",
    "    },\n",
    "}\n",
    "\n",
    "# plot\n",
    "ax = sns.boxplot(\n",
    "    ax=ax,\n",
    "    data=igeom_df,\n",
    "    x=\"dimensionality\",\n",
    "    y=\"Capacity\",\n",
    "    hue=\"Sampling scheme\",\n",
    "    **BOXPLOT_PMS,\n",
    ")\n",
    "ax.hlines(xmin=-0.5, xmax=6.5, y=1, color=\"r\", linestyle=\"--\")\n",
    "ax.set_ylabel(\"Manifold capacity / \\nlower bound (ratio)\")\n",
    "ax.legend(frameon=False, loc=\"upper left\", bbox_to_anchor=(0.8, 1))\n",
    "ax.set_xlabel(\"Cortical population dimensionality\")\n",
    "\n",
    "# save\n",
    "utils.savefig(\n",
    "    PROJ_PATH + \"/figures/4_code/supp_fig6A_capacity_by_dimensionality.svg\",\n",
    ")"
   ]
  },
  {
   "cell_type": "code",
   "execution_count": 9,
   "metadata": {},
   "outputs": [],
   "source": [
    "# unit-test\n",
    "N_BOOT = 200\n",
    "\n",
    "assert (\n",
    "    igeom_df[\n",
    "        (igeom_df.Sorter == \"KS4\")\n",
    "        & (igeom_df[\"Sampling scheme\"] == \"random\")\n",
    "        & (igeom_df[\"dimensionality\"] == 50)\n",
    "    ].shape[0]\n",
    "    == N_BOOT\n",
    "), \"sample size does not match number of bootstraps\""
   ]
  }
 ],
 "metadata": {
  "kernelspec": {
   "display_name": "npx_10m_384ch_unit_classes",
   "language": "python",
   "name": "python3"
  },
  "language_info": {
   "codemirror_mode": {
    "name": "ipython",
    "version": 3
   },
   "file_extension": ".py",
   "mimetype": "text/x-python",
   "name": "python",
   "nbconvert_exporter": "python",
   "pygments_lexer": "ipython3",
   "version": "3.9.7"
  }
 },
 "nbformat": 4,
 "nbformat_minor": 2
}
