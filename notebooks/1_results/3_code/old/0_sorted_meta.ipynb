{
 "cells": [
  {
   "cell_type": "code",
   "execution_count": 1,
   "metadata": {},
   "outputs": [
    {
     "name": "stdout",
     "output_type": "stream",
     "text": [
      "2024-10-04 17:38:47,403 - root - utils.py - get_config - INFO - Reading experiment config.\n",
      "2024-10-04 17:38:47,628 - root - utils.py - get_config - INFO - Reading experiment config. - done\n"
     ]
    }
   ],
   "source": [
    "# SETUP PACKAGES \n",
    "%load_ext autoreload\n",
    "%autoreload 2\n",
    "import os\n",
    "import numpy as np\n",
    "from matplotlib import pyplot as plt\n",
    "import spikeinterface as si\n",
    "import numpy as np\n",
    "import pandas as pd\n",
    "from sklearn.decomposition import PCA # dimensionality reduction\n",
    "import warnings\n",
    "warnings.filterwarnings(\"ignore\", category=DeprecationWarning) \n",
    "warnings.filterwarnings(\"ignore\", category=UserWarning) \n",
    "\n",
    "# SET PROJECT PATH\n",
    "PROJ_PATH = \"/gpfs/bbp.cscs.ch/project/proj85/home/laquitai/preprint_2023\"\n",
    "os.chdir(PROJ_PATH)\n",
    "from src.nodes import utils\n",
    "from src.nodes.utils import get_config\n",
    "from src.nodes.metrics.quality import get_scores\n",
    "\n",
    "# SETUP CONFIG\n",
    "data_conf, _ = get_config(\"silico_neuropixels\", \"stimulus\").values()\n",
    "GT = data_conf[\"sorting\"][\"simulation\"][\"ground_truth\"][\"full\"][\"output\"]\n",
    "REC = data_conf[\"probe_wiring\"][\"output\"]\n",
    "IGEOM = data_conf[\"analyses\"][\"neural_code\"][\"igeom\"]\n",
    "\n",
    "# SORTINGS\n",
    "K4 = data_conf[\"sorting\"][\"sorters\"][\"kilosort4\"][\"full\"][\"output\"]\n",
    "K3 = data_conf[\"sorting\"][\"sorters\"][\"kilosort3\"][\"full\"][\"output\"]\n",
    "K25 = data_conf[\"sorting\"][\"sorters\"][\"kilosort2_5\"][\"full\"][\"output\"]\n",
    "K2 = data_conf[\"sorting\"][\"sorters\"][\"kilosort2\"][\"full\"][\"output\"]\n",
    "KS = data_conf[\"sorting\"][\"sorters\"][\"kilosort\"][\"full\"][\"output\"]\n",
    "HS = data_conf[\"sorting\"][\"sorters\"][\"herdingspikes\"][\"full\"][\"output\"]\n",
    "\n",
    "# SETUP QUALITY PATH\n",
    "quality_path = \"/gpfs/bbp.cscs.ch/project/proj85/scratch/laquitai/4_preprint_2023/dataeng/0_silico/4_spikesorting_stimulus_test_neuropixels_8-1-24__8slc_80f_360r_50t_200ms_1_smallest_fiber_gids/0fcb7709-b1e9-4d84-b056-5801f20d55af/analysis/sorting_quality/sorting_quality_1h.csv\"\n",
    "\n",
    "# TASK DESIGN PARAMETERS\n",
    "N_SIMS = 36 # number of simulation files\n",
    "SELECT_PERIOD = False\n",
    "DT = 1.3\n",
    "\n",
    "# FIGURE SETTINGS\n",
    "COLOR_VIVO = (0.7, 0.7, 0.7)\n",
    "COLOR_SILI = (0.84, 0.27, 0.2)\n",
    "COLOR_STIM = (0.6, 0.75, 0.1)\n",
    "BOX_ASPECT = 1                  # square fig\n",
    "plt.rcParams['figure.figsize'] = (2,1)\n",
    "plt.rcParams[\"font.family\"] = \"Arial\"\n",
    "plt.rcParams[\"font.size\"] = 6\n",
    "plt.rcParams['lines.linewidth'] = 0.5\n",
    "plt.rcParams['axes.linewidth'] = 0.5\n",
    "plt.rcParams['axes.spines.top'] = False\n",
    "plt.rcParams['axes.spines.right'] = False\n",
    "plt.rcParams['xtick.major.width'] = 0.3\n",
    "plt.rcParams['xtick.minor.size'] = 0.1\n",
    "plt.rcParams['xtick.major.size'] = 1.5\n",
    "plt.rcParams['ytick.major.size'] = 1.5\n",
    "plt.rcParams['ytick.major.width'] = 0.3\n",
    "legend_cfg = {\"frameon\": False, \"handletextpad\": 0.1}\n",
    "savefig_cfg = {\"transparent\":True, \"dpi\": 300} "
   ]
  },
  {
   "cell_type": "markdown",
   "metadata": {},
   "source": [
    "* 3 hours to recompute all data, else loading takes 2 minutes "
   ]
  },
  {
   "cell_type": "code",
   "execution_count": 23,
   "metadata": {},
   "outputs": [],
   "source": []
  },
  {
   "cell_type": "code",
   "execution_count": 24,
   "metadata": {},
   "outputs": [],
   "source": [
    "def get_sorted_unit_synapse_class(sorting_path: str, gt_path: str):\n",
    "\n",
    "    # load SortingExtractors\n",
    "    Sorting = si.load_extractor(sorting_path)\n",
    "    SortingTrue = si.load_extractor(gt_path)\n",
    "\n",
    "    # get agreement scores\n",
    "    scores = get_scores(\n",
    "        SortingTrue,\n",
    "        Sorting,\n",
    "        delta_time=DT,\n",
    "    )\n",
    "\n",
    "    # unit-test\n",
    "    all(SortingTrue.unit_ids == scores.index), \"assert unit ids must match\"\n",
    "\n",
    "    # locate ground truth that maximizes the score of each sorted unit\n",
    "    gt_argmax_loc = np.argmax(scores.values, axis=0)\n",
    "    return SortingTrue.get_property(\"synapse_class\")[gt_argmax_loc]"
   ]
  },
  {
   "cell_type": "code",
   "execution_count": null,
   "metadata": {},
   "outputs": [],
   "source": []
  }
 ],
 "metadata": {
  "kernelspec": {
   "display_name": "cebraspike3",
   "language": "python",
   "name": "python3"
  },
  "language_info": {
   "codemirror_mode": {
    "name": "ipython",
    "version": 3
   },
   "file_extension": ".py",
   "mimetype": "text/x-python",
   "name": "python",
   "nbconvert_exporter": "python",
   "pygments_lexer": "ipython3",
   "version": "3.9.7"
  }
 },
 "nbformat": 4,
 "nbformat_minor": 2
}
