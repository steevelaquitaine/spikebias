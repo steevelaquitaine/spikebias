{
 "cells": [
  {
   "cell_type": "markdown",
   "metadata": {},
   "source": [
    "# Replicate Buccino model\n",
    "\n",
    "author: laquitainesteeve@gmail.com\n",
    "\n",
    "Simulate Buccino's model without filtering\n",
    "\n",
    "Tested on Ubuntu 24.04.1 LTS (32 cores, 188 GB RAM, Intel(R) Core(TM) i9-14900K ＠3.2 GHz/5.8 GHz) with RTX 5090 GPU with 40GB VRAM (GPU not needed)\n",
    "\n",
    "Required:\n",
    "- Storage: 14 GB for 1,500 templates (13GB) and Recording (~500 MB)\n",
    "\n",
    "tips to free up storage\n",
    "\n",
    "0. check storage with df -h\n",
    "1. restart the notebook kernel will free up 100 GB of storage; some large deleted files remain opened and are deleted when the kernel is restarted. \n",
    "2. import os; import glob; for f in glob.glob('temp/pros_of_details/waveformextractor'): os.remove(f) # 100 GB saved\n",
    "3. free up RAM: clear cache with sudo sh -c 'echo 1 >  /proc/sys/vm/drop_caches'"
   ]
  },
  {
   "cell_type": "markdown",
   "metadata": {},
   "source": [
    "## Setup \n",
    "\n",
    "Setup \"_mearec_si_103_0_.yml\" virtual environment"
   ]
  },
  {
   "cell_type": "code",
   "execution_count": null,
   "metadata": {},
   "outputs": [
    {
     "name": "stdout",
     "output_type": "stream",
     "text": [
      "The autoreload extension is already loaded. To reload it, use:\n",
      "  %reload_ext autoreload\n",
      "0.103.0\n",
      "CPU times: user 964 µs, sys: 0 ns, total: 964 µs\n",
      "Wall time: 1.11 ms\n"
     ]
    }
   ],
   "source": [
    "%%time\n",
    "%load_ext autoreload\n",
    "%autoreload 2\n",
    "\n",
    "# import packages\n",
    "import os\n",
    "import MEArec as mr\n",
    "import numpy as np\n",
    "import spikeinterface.extractors as se\n",
    "import spikeinterface.sorters as sorters \n",
    "import spikeinterface.comparison as sc  \n",
    "from matplotlib import pyplot as plt;\n",
    "from numpy.linalg import norm as lalgnorm\n",
    "import warnings\n",
    "from scipy.spatial.distance import cdist\n",
    "import json \n",
    "import spikeinterface as si\n",
    "from spikeinterface.curation import remove_excess_spikes\n",
    "from spikeinterface import extract_waveforms\n",
    "from spikeinterface.core.sparsity import compute_sparsity\n",
    "import spikeinterface.qualitymetrics as sqm\n",
    "import spikeinterface.core.template_tools as ttools\n",
    "print(si.__version__)\n",
    "\n",
    "warnings.filterwarnings('ignore')\n",
    "\n",
    "# SET PROJECT PATH\n",
    "\n",
    "PROJ_PATH = \"/home/steeve/steeve/epfl/code/spikebias/\"\n",
    "os.chdir(PROJ_PATH)\n",
    "\n",
    "# parameters\n",
    "DURATION_S = 600 # duration of recording period considered in seconds\n",
    "\n",
    "# setup simulation common template parameters\n",
    "DATA_PATH = './temp/pros_of_details/'\n",
    "CELLS_PATH = mr.get_default_cell_models_folder()\n",
    "\n",
    "# parameter Buccino replicate\n",
    "TEMPLATE_PARAMS_PATH = './assets/mearec/global_templates.json' # templates used for all simulations\n",
    "TEMPLATES_PATH = './temp/pros_of_details/templates.h5' # warning initially was not 1500 templates but much less 200 - check if that has an effect\n",
    "INPUT_PARAMS_REP_PATH =  './assets/mearec/buccino_rep/input_params.json'\n",
    "OUTPUT_PARAMS_REP_PATH = './assets/mearec/buccino_rep/output_params.json'\n",
    "RECORDING_REP_H5_PATH = './temp/pros_of_details/recordings.h5'\n",
    "RECORDING_REP_PATH = 'dataset/00_raw/recording_buccino_rep/'\n",
    "\n",
    "# parallel processing parameters\n",
    "save_recording_params = {'n_jobs': 20, 'verbose':True, 'progress_bar':True, 'overwrite':True, 'chunk_size': 50000}\n",
    "\n",
    "# parallel processing parameters \n",
    "job_kwargs = dict(n_jobs=-1, chunk_duration=\"1s\", progress_bar=True)\n",
    "savefig_cfg = {\"transparent\":True, \"dpi\": 400}"
   ]
  },
  {
   "cell_type": "markdown",
   "metadata": {},
   "source": [
    "## Functions"
   ]
  },
  {
   "cell_type": "code",
   "execution_count": 8,
   "metadata": {},
   "outputs": [],
   "source": [
    "\n",
    "def standardize_site_location_property(Recording, zero_coord=0):\n",
    "    \"\"\"\n",
    "    zero_coord: coordinate with zero values\n",
    "    \"\"\"\n",
    "    site_pos = Recording.get_channel_locations()\n",
    "    site_pos = np.insert(site_pos, zero_coord, 0, axis=1)\n",
    "    Recording.set_property('location3D', site_pos)\n",
    "    return Recording\n",
    "\n",
    "\n",
    "def set_metadata_to_mearec_simulations(recording_generator, Recording, Sorting):\n",
    "    \n",
    "    # set cell features\n",
    "    features = ['cell_type', 'snr', 'mtype', 'soma_position', 'bursting', 'exp_decay', 'max_spikes_per_burst', 'max_burst_duration']\n",
    "    n_cells = len(recording_generator.spiketrains)\n",
    "\n",
    "    # set cell properties in sorting extractor\n",
    "    for feature in features:\n",
    "        feature_data = []\n",
    "        for cell_ix in range(n_cells):\n",
    "            feature_data.append(recording_generator.spiketrains[cell_ix].annotations[feature])\n",
    "        Sorting.set_property(feature, np.array(feature_data))\n",
    "\n",
    "    # set electrode properties in recording extractor\n",
    "    # by default, channel_locations are attached to Recording extractor\n",
    "    Recording.set_property('layer', np.array(['L5']*384)) # layer\n",
    "    return Recording, Sorting\n",
    "\n",
    "def simulate_synthetic_recording_with_mearec(rec_prms: dict, layer:str, templates_path:str, recording_clone_h5_path:str):\n",
    "\n",
    "    # generate simulated recording (takes 22 min)\n",
    "    rec_gen = mr.gen_recordings(params=rec_prms, templates=templates_path)\n",
    "\n",
    "    # from ipdb import set_trace; set_trace()\n",
    "    \n",
    "    # save simulated recording\n",
    "    mr.save_recording_generator(rec_gen, recording_clone_h5_path)\n",
    "\n",
    "    # load recording h5 file\n",
    "    RecordingClone = se.MEArecRecordingExtractor(recording_clone_h5_path) \n",
    "    RecordingClone.set_property(\"layers\", np.array([layer]*384)) # add layer metadata\n",
    "\n",
    "    # load ground truth\n",
    "    SortingClone = se.MEArecSortingExtractor(recording_clone_h5_path)\n",
    "\n",
    "    # delete intermediate h5 file\n",
    "    os.remove(recording_clone_h5_path)\n",
    "    return RecordingClone, SortingClone, rec_gen\n",
    "\n",
    "\n",
    "def save_simulation_parameters_to_assets(rec_prms:dict, rec_gen, input_params_path:str, output_params_path:str):\n",
    "        \n",
    "    folder_path = os.path.dirname(input_params_path)\n",
    "    os.makedirs(folder_path, exist_ok=True)\n",
    "\n",
    "    # save input simulation parameters to MEAREC\n",
    "    with open(input_params_path, 'w') as f:\n",
    "        json.dump(rec_prms, f, indent=4)\n",
    "\n",
    "    folder_path = os.path.dirname(output_params_path)\n",
    "    os.makedirs(folder_path, exist_ok=True)\n",
    "\n",
    "    # save parameters recorded in recording generator\n",
    "    with open(output_params_path, 'w') as f:\n",
    "        json.dump(rec_gen.params, f, indent=4)\n"
   ]
  },
  {
   "cell_type": "markdown",
   "metadata": {},
   "source": [
    "## Parametrize cell templates"
   ]
  },
  {
   "cell_type": "code",
   "execution_count": 9,
   "metadata": {},
   "outputs": [
    {
     "data": {
      "text/plain": [
       "{'sim_time': 1,\n",
       " 'target_spikes': [3, 50],\n",
       " 'cut_out': [2, 5],\n",
       " 'dt': 0.03125,\n",
       " 'delay': 10,\n",
       " 'weights': [0.25, 1.75],\n",
       " 'rot': 'physrot',\n",
       " 'probe': 'Neuropixels-384',\n",
       " 'ncontacts': 1,\n",
       " 'overhang': 50,\n",
       " 'offset': 0,\n",
       " 'xlim': [-50, 50],\n",
       " 'ylim': None,\n",
       " 'zlim': [-1001, 1001],\n",
       " 'x_distr': 'uniform',\n",
       " 'beta_distr_params': [1.5, 5],\n",
       " 'min_amp': 30,\n",
       " 'check_eap_shape': True,\n",
       " 'n': 1500,\n",
       " 'seed': 0,\n",
       " 'drifting': False,\n",
       " 'max_drift': 100,\n",
       " 'min_drift': 30,\n",
       " 'drift_steps': 31,\n",
       " 'drift_xlim': [-10, 10],\n",
       " 'drift_ylim': [-10, 10],\n",
       " 'drift_zlim': [30, 80],\n",
       " 'check_for_drift_amp': False,\n",
       " 'drift_within_bounds': False,\n",
       " 'timeout': None,\n",
       " 'max_iterations': 1000}"
      ]
     },
     "execution_count": 9,
     "metadata": {},
     "output_type": "execute_result"
    }
   ],
   "source": [
    "# setup common cell templates, probe, and seed parameters (takes 4,531 secs)\n",
    "tpl_prms = mr.get_default_templates_params()\n",
    "tpl_prms['probe'] = 'Neuropixels-384'           # probe\n",
    "tpl_prms['n'] = 1500                            # (default = 50) number of templates per cell model (minimum that worked to match npx_spont cell counts), I use 1500.\n",
    "tpl_prms['seed'] = 0                            # setup reproducibility\n",
    "tpl_prms['overhang'] = 50                       # (default = 30) extension in um beyond MEA boundaries for neuron locations\n",
    "tpl_prms['ncontacts'] = 1                       # (default = 10) number of contacts per recording site, spatial extent of the electrode over which to average potential\n",
    "tpl_prms['offset'] = 0                          # (default = 0) x offset; MEA is in the yz plane with x 0 by default. One can center the MEA in cell population by setting x offset.\n",
    "tpl_prms['xlim'] = [-50, 50]                    # (default = [10,80]) limits ( low high ) for neuron locations in the x-axis (depth)\n",
    "tpl_prms['ylim'] = None                         # (default = None) limits ( low high ) for neuron locations in the y-axis\n",
    "tpl_prms['zlim'] = [-1001, 1001]                # (default = None) limits ( low high ) for neuron locations in the z-axis\n",
    "\n",
    "# # create and save waveform templates (10 min for 200 templates per cell, 15 MB) - uncomment to run (1h20min)\n",
    "# tpl_gen = mr.gen_templates(cell_models_folder = CELLS_PATH, params = tpl_prms)\n",
    "# mr.save_template_generator(tpl_gen, TEMPLATES_PATH)\n",
    "\n",
    "tpl_prms"
   ]
  },
  {
   "cell_type": "markdown",
   "metadata": {},
   "source": [
    "## Parametrize recording"
   ]
  },
  {
   "cell_type": "code",
   "execution_count": 10,
   "metadata": {},
   "outputs": [
    {
     "name": "stdout",
     "output_type": "stream",
     "text": [
      "CPU times: user 5.36 ms, sys: 0 ns, total: 5.36 ms\n",
      "Wall time: 5.25 ms\n"
     ]
    }
   ],
   "source": [
    "%%time\n",
    "\n",
    "# setup common recording parameters\n",
    "rec_prms = mr.get_default_recordings_params()\n",
    "\n",
    "rec_prms['recordings']['filter'] = False                         # no filtering\n",
    "\n",
    "rec_prms['spiketrains']['duration'] = 600          # (default=600) recording duration\n",
    "rec_prms['spiketrains']['min_rate'] = 0.5          # default value\n",
    "\n",
    "rec_prms['seeds']['spiketrains'] = 0               # seeds for reproducibility \n",
    "rec_prms['seeds']['templates'] = 1\n",
    "rec_prms['seeds']['noise'] = 2\n",
    "rec_prms['seeds']['convolution'] = 3\n",
    "\n",
    "# save common template parameters\n",
    "with open(TEMPLATE_PARAMS_PATH, 'w') as f:\n",
    "    json.dump(tpl_prms, f, indent=4)"
   ]
  },
  {
   "cell_type": "markdown",
   "metadata": {},
   "source": [
    "\n",
    "- This replicates Buccino et al., simulation with MEAREC as described in the Spikeinterface paper.\n",
    "- Execution time: 23 min\n"
   ]
  },
  {
   "cell_type": "markdown",
   "metadata": {},
   "source": [
    "## Simulate\n",
    "\n",
    "- execution time: 23 min"
   ]
  },
  {
   "cell_type": "code",
   "execution_count": 11,
   "metadata": {},
   "outputs": [
    {
     "name": "stdout",
     "output_type": "stream",
     "text": [
      "Loading templates...\n",
      "Done loading templates...\n",
      "Spiketrains seed:  0\n",
      "dtype float32\n",
      "Noise Level  10\n",
      "Templates selection seed:  1\n",
      "Selecting cells\n",
      "Padding template edges\n",
      "Elapsed pad time: 1.4876055717468262\n",
      "Creating time jittering\n",
      "Elapsed jitter time: 1.3652050495147705\n",
      "Smoothing templates\n",
      "Computing spike train SNR\n",
      "Adding spiketrain annotations\n",
      "Convolution seed:  3\n",
      "Electrode modulaton\n",
      "Adding noise\n",
      "Noise seed:  2\n",
      "Elapsed time:  999.3307459810167\n",
      "Deleted /tmp/tmpgeq447ki\n",
      "write_binary_recording \n",
      "engine=process - n_jobs=20 - samples_per_chunk=50,000 - chunk_memory=73.24 MiB - total_memory=1.43 GiB - chunk_duration=1.56s\n"
     ]
    },
    {
     "data": {
      "application/vnd.jupyter.widget-view+json": {
       "model_id": "4bcfa33ce23d492293f12e063e99b316",
       "version_major": 2,
       "version_minor": 0
      },
      "text/plain": [
       "write_binary_recording (workers: 20 processes):   0%|          | 0/384 [00:00<?, ?it/s]"
      ]
     },
     "metadata": {},
     "output_type": "display_data"
    },
    {
     "name": "stdout",
     "output_type": "stream",
     "text": [
      "Recording metadata: ['gain_to_uV', 'offset_to_uV', 'contact_vector', 'location', 'group', 'gain_to_physical_unit', 'location3D', 'layer', 'offset_to_physical_unit', 'channel_name', 'physical_unit', 'layers']\n",
      "CPU times: user 15min 23s, sys: 1min 32s, total: 16min 55s\n",
      "Wall time: 17min 41s\n"
     ]
    }
   ],
   "source": [
    "%%time\n",
    "\n",
    "# setup parameters\n",
    "rec_prms['spiketrains']['n_exc'] = 200\n",
    "rec_prms['spiketrains']['n_inh'] = 50\n",
    "\n",
    "# simulate recording (23 min)\n",
    "RecordingRep, GtRep, RecGen = simulate_synthetic_recording_with_mearec(rec_prms, 'L5', TEMPLATES_PATH, RECORDING_REP_H5_PATH)\n",
    "\n",
    "# setup metadata\n",
    "RecordingRep, GtRep = set_metadata_to_mearec_simulations(RecGen, RecordingRep, GtRep)\n",
    "RecordingRep = standardize_site_location_property(RecordingRep)\n",
    "\n",
    "# save extractors\n",
    "RecordingRep.save(folder=RECORDING_REP_PATH, **save_recording_params)\n",
    "\n",
    "# save parameters\n",
    "save_simulation_parameters_to_assets(rec_prms, RecGen, INPUT_PARAMS_REP_PATH, OUTPUT_PARAMS_REP_PATH)\n",
    "\n",
    "# report parameters\n",
    "# report_simulation_parameters(RecGen)\n",
    "print('Recording metadata:', si.load_extractor(RECORDING_REP_PATH).get_property_keys())"
   ]
  }
 ],
 "metadata": {
  "kernelspec": {
   "display_name": "Python 3",
   "language": "python",
   "name": "python3"
  },
  "language_info": {
   "codemirror_mode": {
    "name": "ipython",
    "version": 3
   },
   "file_extension": ".py",
   "mimetype": "text/x-python",
   "name": "python",
   "nbconvert_exporter": "python",
   "pygments_lexer": "ipython3",
   "version": "3.9.7"
  }
 },
 "nbformat": 4,
 "nbformat_minor": 2
}
