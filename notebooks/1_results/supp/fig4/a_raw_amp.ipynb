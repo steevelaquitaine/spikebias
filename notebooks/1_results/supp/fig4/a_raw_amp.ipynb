{
 "cells": [
  {
   "cell_type": "markdown",
   "metadata": {},
   "source": [
    "# Biophy. amplitudes"
   ]
  },
  {
   "cell_type": "markdown",
   "metadata": {},
   "source": [
    "Results:\n",
    "\n",
    "- no noise gain fitd crashes."
   ]
  },
  {
   "cell_type": "markdown",
   "metadata": {},
   "source": [
    "### Setup"
   ]
  },
  {
   "cell_type": "code",
   "execution_count": 2,
   "metadata": {},
   "outputs": [
    {
     "name": "stdout",
     "output_type": "stream",
     "text": [
      "2024-06-03 15:43:54,141 - root - utils.py - get_config - INFO - Reading experiment config.\n",
      "2024-06-03 15:43:54,257 - root - utils.py - get_config - INFO - Reading experiment config. - done\n",
      "2024-06-03 15:43:54,258 - root - utils.py - get_config - INFO - Reading experiment config.\n",
      "2024-06-03 15:43:54,279 - root - utils.py - get_config - INFO - Reading experiment config. - done\n",
      "2024-06-03 15:43:54,280 - root - utils.py - get_config - INFO - Reading experiment config.\n",
      "2024-06-03 15:43:54,300 - root - utils.py - get_config - INFO - Reading experiment config. - done\n"
     ]
    }
   ],
   "source": [
    "# SETUP PACKAGES \n",
    "%load_ext autoreload\n",
    "%autoreload 2\n",
    "import os\n",
    "import numpy as np\n",
    "\n",
    "# SET PROJECT PATH\n",
    "PROJ_PATH = \"/gpfs/bbp.cscs.ch/project/proj85/home/laquitai/preprint_2023\"\n",
    "os.chdir(PROJ_PATH)\n",
    "from src.nodes.utils import get_config\n",
    "import spikeinterface as si \n",
    "import spikeinterface.preprocessing as spre\n",
    "\n",
    "# DATASETS\n",
    "\n",
    "# SILICO RAW\n",
    "data_conf_sili, _ = get_config(\"silico_neuropixels\", \"concatenated\").values()\n",
    "SILI_RAW_PATH = data_conf_sili[\"probe_wiring\"][\"40m\"][\"output_noise_none_gain_none_int16\"]\n",
    "\n",
    "# IN VIVO\n",
    "data_conf_vivo, _ = get_config(\"vivo_marques\", \"c26\").values()\n",
    "VIVO_RAW_PATH = data_conf_vivo[\"probe_wiring\"][\"output\"]\n",
    "\n",
    "# BUCCINO\n",
    "data_conf_bucci, _ = get_config(\"buccino_2020\", \"2020\").values()\n",
    "BUCCI_RAW_PATH = data_conf_bucci[\"probe_wiring\"][\"output\"]"
   ]
  },
  {
   "cell_type": "markdown",
   "metadata": {},
   "source": [
    "### Load traces"
   ]
  },
  {
   "cell_type": "code",
   "execution_count": 25,
   "metadata": {},
   "outputs": [],
   "source": [
    "# raw\n",
    "RawSili = si.load_extractor(SILI_RAW_PATH)\n",
    "RawVivo = si.load_extractor(VIVO_RAW_PATH)\n",
    "RawBucci = si.load_extractor(BUCCI_RAW_PATH)\n",
    "\n",
    "# cast as int16 as the Kilosorts\n",
    "# RawSiliInt16 = spre.astype(RawSili, \"int16\")\n",
    "# RawVivoInt16 = spre.astype(RawVivo, \"int16\")\n",
    "# RawBucciInt16 = spre.astype(RawBucci, \"int16\")\n",
    "\n",
    "# get traces\n",
    "trace_sili = RawSili.get_traces()\n",
    "trace_vivo = RawVivo.get_traces()\n",
    "trace_bucci = RawBucci.get_traces()"
   ]
  },
  {
   "cell_type": "markdown",
   "metadata": {},
   "source": [
    "Median voltage"
   ]
  },
  {
   "cell_type": "code",
   "execution_count": 18,
   "metadata": {},
   "outputs": [
    {
     "name": "stdout",
     "output_type": "stream",
     "text": [
      "0.0\n",
      "0.0\n",
      "1.0\n"
     ]
    }
   ],
   "source": [
    "# (10m) get traces' median amplitude\n",
    "med_sili_raw = np.median(trace_sili)\n",
    "med_vivo_raw = np.median(trace_vivo)\n",
    "med_bucci_raw = np.median(trace_bucci)\n",
    "\n",
    "print(med_sili_raw)\n",
    "print(med_vivo_raw)\n",
    "print(med_bucci_raw)"
   ]
  },
  {
   "cell_type": "markdown",
   "metadata": {},
   "source": [
    "Voltage trace range"
   ]
  },
  {
   "cell_type": "code",
   "execution_count": 26,
   "metadata": {},
   "outputs": [
    {
     "name": "stdout",
     "output_type": "stream",
     "text": [
      "min\n",
      "-1.2559819\n",
      "-374\n",
      "-762.61426\n",
      "max\n",
      "0.60355794\n",
      "186\n",
      "244.09277\n"
     ]
    }
   ],
   "source": [
    "# (3m) get traces' max amplitude\n",
    "min_sili_raw = trace_sili.min()\n",
    "min_vivo_raw = trace_vivo.min()\n",
    "min_bucci_raw = trace_bucci.min()\n",
    "\n",
    "max_sili_raw = trace_sili.max()\n",
    "max_vivo_raw = trace_vivo.max()\n",
    "max_bucci_raw = trace_bucci.max()\n",
    "\n",
    "print(\"min\")\n",
    "print(min_sili_raw)\n",
    "print(min_vivo_raw)\n",
    "print(min_bucci_raw)\n",
    "\n",
    "print(\"max\")\n",
    "print(max_sili_raw)\n",
    "print(max_vivo_raw)\n",
    "print(max_bucci_raw)"
   ]
  }
 ],
 "metadata": {
  "kernelspec": {
   "display_name": "spikinterf0_100_5",
   "language": "python",
   "name": "python3"
  },
  "language_info": {
   "codemirror_mode": {
    "name": "ipython",
    "version": 3
   },
   "file_extension": ".py",
   "mimetype": "text/x-python",
   "name": "python",
   "nbconvert_exporter": "python",
   "pygments_lexer": "ipython3",
   "version": "3.9.7"
  }
 },
 "nbformat": 4,
 "nbformat_minor": 2
}
