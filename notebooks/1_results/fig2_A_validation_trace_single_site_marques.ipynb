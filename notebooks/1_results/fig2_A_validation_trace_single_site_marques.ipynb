{
 "cells": [
  {
   "attachments": {},
   "cell_type": "markdown",
   "metadata": {},
   "source": [
    "# Single-site traces\n",
    "\n",
    "author: laquitainesteeve@gmail.com\n",
    "\n",
    "Plot single-electrode voltage traces\n",
    "\n",
    "Execution time: 10 secs\n",
    "\n",
    "Tested on Ubuntu 24.04.1 LTS (32 cores, 188 GB RAM, Intel(R) Core(TM) i9-14900K ＠3.2 GHz/5.8 GHz)\n",
    "\n",
    "Resources required:\n",
    "- 180 GB RAM"
   ]
  },
  {
   "attachments": {},
   "cell_type": "markdown",
   "metadata": {},
   "source": [
    "## Setup\n",
    "\n",
    "Prerequisites:\n",
    "\n",
    "1. Setup \"_envs/spikebias.yml_\" virtual environment\n",
    "2. Setup jupyter kernel _$python -m ipykernel install --user --name spikebias --display-name \"spikebias\"_\n",
    "3. Download recordings: \"_notebooks/0_download_recordings.ipynb_\"\n"
   ]
  },
  {
   "cell_type": "code",
   "execution_count": 54,
   "metadata": {},
   "outputs": [
    {
     "name": "stdout",
     "output_type": "stream",
     "text": [
      "The autoreload extension is already loaded. To reload it, use:\n",
      "  %reload_ext autoreload\n",
      "2025-10-18 15:35:49,216 - root - utils.py - get_config - INFO - Reading experiment config.\n",
      "2025-10-18 15:35:49,224 - root - utils.py - get_config - INFO - Reading experiment config. - done\n",
      "2025-10-18 15:35:49,224 - root - utils.py - get_config - INFO - Reading experiment config.\n",
      "2025-10-18 15:35:49,233 - root - utils.py - get_config - INFO - Reading experiment config. - done\n",
      "2025-10-18 15:35:49,233 - root - utils.py - get_config - INFO - Reading experiment config.\n",
      "2025-10-18 15:35:49,238 - root - utils.py - get_config - INFO - Reading experiment config. - done\n",
      "2025-10-18 15:35:49,238 - root - utils.py - get_config - INFO - Reading experiment config.\n"
     ]
    },
    {
     "name": "stdout",
     "output_type": "stream",
     "text": [
      "2025-10-18 15:35:49,251 - root - utils.py - get_config - INFO - Reading experiment config. - done\n",
      "2025-10-18 15:35:49,252 - root - utils.py - get_config - INFO - Reading experiment config.\n",
      "2025-10-18 15:35:49,256 - root - utils.py - get_config - INFO - Reading experiment config. - done\n",
      "2025-10-18 15:35:49,256 - root - utils.py - get_config - INFO - Reading experiment config.\n",
      "2025-10-18 15:35:49,263 - root - utils.py - get_config - INFO - Reading experiment config. - done\n"
     ]
    }
   ],
   "source": [
    "# setup packages\n",
    "%load_ext autoreload\n",
    "%autoreload 2\n",
    "import os\n",
    "from os.path import join\n",
    "import numpy as np\n",
    "from matplotlib import pyplot as plt\n",
    "import spikeinterface as si\n",
    "from spikeinterface import preprocessing as spre\n",
    "import yaml\n",
    "import warnings\n",
    "warnings.simplefilter(action='ignore', category=FutureWarning)\n",
    "warnings.filterwarnings(\"ignore\")\n",
    "\n",
    "# move to project path\n",
    "proj_path = \"/home/steeve/steeve/epfl/code/spikebias\"\n",
    "os.chdir(proj_path)\n",
    "\n",
    "# spikebias package\n",
    "from src.nodes.utils import get_config\n",
    "from src.nodes.validation import noise\n",
    "\n",
    "# SETUP PARAMETERS\n",
    "FREQ_MIN = 300         # high-pass filtering cutoff frequency\n",
    "REC_DURATION_SEC = 600 # duration of recording examined\n",
    "LAYER = \"L5\"           # layer 5\n",
    "DURATION = 1.01        # period examined in figure\n",
    "SF_V = 30000           # sampling frequency of marques-smith\n",
    "SF_S = 40000           # sampling frequency of npx_spont (biophy)\n",
    "SF_B = 32000           # sampling frequency of buccino model (synthetic)\n",
    "SF_E = 20000           # sampling frequency of npx_evoked (biophy)\n",
    "SF_dense = 20000       # sampling frequency of dense biophy model\n",
    "ID_PERIOD_SILI = 10\n",
    "ID_PERIOD_VIVO = 7\n",
    "ID_PERIOD_B = 46\n",
    "ID_PERIOD_E = 6\n",
    "L5_SITE_SILI = 0\n",
    "L5_SITE_VIVO = 6\n",
    "YLIM = (-100, 30)\n",
    "SITE_B = 352\n",
    "SITE_E = 232\n",
    "GAIN_TO_UV = 0.195\n",
    "\n",
    "# in vivo marques-smith data\n",
    "data_conf_vivo, param_conf_h_vivo = get_config(\"vivo_marques\", \"c26\").values() \n",
    "RAW_PATH_m = \"dataset/00_raw/recording_marques_smith\"\n",
    "\n",
    "# spontaneous biophy. model\n",
    "cfg_ns, param_conf_sili = get_config(\"silico_neuropixels\", \"npx_spont\").values()\n",
    "RAW_PATH_ns = \"dataset/00_raw/recording_npx_spont\"\n",
    "\n",
    "# synthetic (Buccino) \n",
    "data_conf_b, _ = get_config(\"buccino_2020\", \"2020\").values()\n",
    "RAW_PATH_b = \"dataset/00_raw/recording_buccino\"\n",
    "\n",
    "# evoked biophy. model\n",
    "data_conf_e, param_conf_e = get_config(\"silico_neuropixels\", \"npx_evoked\").values()\n",
    "RAW_PATH_e = \"dataset/00_raw/recording_npx_evoked\"\n",
    "\n",
    "# in vivo horvath dense probe data\n",
    "data_conf_h_vivo, param_conf_h_vivo = get_config(\"vivo_horvath\", \"probe_2\").values() \n",
    "RAW_PATH_h2 = \"dataset/00_raw/recording_horvath_probe2\"\n",
    "\n",
    "# dense biophy dense probe model\n",
    "data_conf_ds_sili, param_conf_ds_sili = get_config(\"dense_spont\", \"probe_2\").values()\n",
    "RAW_PATH_d2 = \"dataset/00_raw/recording_dense_probe2\"\n",
    "\n",
    "# setup figure parameters\n",
    "COMPUTE_FIG_DATA = True\n",
    "SAVE_FIG_DATA = False\n",
    "LOAD_FIG_DATA = False\n",
    "SAVE_FIG = False\n",
    "\n",
    "# get paths of saved figures\n",
    "with open(join(proj_path, \"conf/figures.yml\"), \"r\", encoding=\"utf-8\") as yaml_file:\n",
    "    fig_data_paths = yaml.load(yaml_file, Loader=yaml.FullLoader)\n",
    "\n",
    "# figure settings\n",
    "FIG_SIZE = (0.9, 0.7)\n",
    "\n",
    "# colors\n",
    "COLOR_MV = [0.6, 0.6, 0.6]\n",
    "COLOR_MS = [0.9, 0.14, 0.15]\n",
    "COLOR_B = [0.22, 0.5, 0.72]\n",
    "COLOR_E = [1, 0.49, 0]\n",
    "COLOR_HV = [0.3, 0.3, 0.3]\n",
    "COLOR_HS = np.array([26, 152, 80]) / 255\n",
    "\n",
    "# axes\n",
    "plt.rcParams[\"font.family\"] = \"Arial\"\n",
    "plt.rcParams[\"font.size\"] = 6\n",
    "plt.rcParams[\"lines.linewidth\"] = 0.5\n",
    "plt.rcParams[\"axes.linewidth\"] = 0.5\n",
    "plt.rcParams[\"axes.spines.top\"] = False\n",
    "plt.rcParams[\"xtick.major.width\"] = 0.5 \n",
    "plt.rcParams[\"xtick.minor.width\"] = 0.5 \n",
    "plt.rcParams[\"ytick.major.width\"] = 0.5 \n",
    "plt.rcParams[\"ytick.minor.width\"] = 0.5\n",
    "plt.rcParams[\"xtick.major.size\"] = 3.5 * 1.1\n",
    "plt.rcParams[\"xtick.minor.size\"] = 2 * 1.1\n",
    "plt.rcParams[\"ytick.major.size\"] = 3.5 * 1.1\n",
    "plt.rcParams[\"ytick.minor.size\"] = 2 * 1.1\n",
    "\n",
    "# legend\n",
    "savefig_cfg = {\"transparent\":True, \"dpi\":300}\n",
    "legend_cfg = {\"frameon\": False, \"handletextpad\": 0.1}\n",
    "tight_layout_cfg = {\"pad\": 0.5}\n",
    "LG_FRAMEON = False              # no legend frame"
   ]
  },
  {
   "cell_type": "markdown",
   "metadata": {},
   "source": [
    "## Clear RAM"
   ]
  },
  {
   "cell_type": "code",
   "execution_count": 2,
   "metadata": {},
   "outputs": [
    {
     "name": "stdout",
     "output_type": "stream",
     "text": [
      "[sudo] password for steeve: "
     ]
    }
   ],
   "source": [
    "import getpass; password = getpass.getpass(\"Enter your sudo password: \")\n",
    "!sync; echo {password} | sudo -S sh -c 'echo 1 > /proc/sys/vm/drop_caches'"
   ]
  },
  {
   "cell_type": "markdown",
   "metadata": {},
   "source": [
    "## Marques-Smith\n",
    "### Compute"
   ]
  },
  {
   "cell_type": "code",
   "execution_count": 62,
   "metadata": {},
   "outputs": [
    {
     "name": "stdout",
     "output_type": "stream",
     "text": [
      "Recording: FrameSliceRecording: 384 channels - 30.0kHz - 1 segments - 18,000,000 samples \n",
      "                     600.00s (10.00 minutes) - float32 dtype - 25.75 GiB\n",
      "CPU times: user 2min 26s, sys: 21.2 s, total: 2min 47s\n",
      "Wall time: 2min 50s\n"
     ]
    }
   ],
   "source": [
    "%%time\n",
    "\n",
    "# compute figure data\n",
    "if COMPUTE_FIG_DATA:\n",
    "\n",
    "    # load raw recording extractors\n",
    "    Rec = si.load_extractor(RAW_PATH_m)\n",
    "\n",
    "    # get metadata\n",
    "    sfreq = Rec.get_sampling_frequency()\n",
    "    layers_vivo = Rec.get_property(\"layers\")\n",
    "\n",
    "    # extract first 10 min of the recording extractors \n",
    "    Rec = Rec.frame_slice(start_frame=0, end_frame=REC_DURATION_SEC*sfreq)\n",
    "    print(\"Recording:\", Rec)\n",
    "\n",
    "    # preprocess voltage traces\n",
    "    Rec = spre.astype(Rec, \"int16\")\n",
    "    Rec = spre.highpass_filter(Rec, freq_min=FREQ_MIN)\n",
    "    Rec = spre.common_reference(Rec, reference=\"global\", operator=\"median\")\n",
    "\n",
    "    # select a site and period\n",
    "    L5_site_vivo = np.where(layers_vivo == LAYER)[0][L5_SITE_VIVO]\n",
    "    one_sec_period = np.arange((ID_PERIOD_VIVO - 1) * sfreq, ID_PERIOD_VIVO * sfreq, 1)\n",
    "    traces = Rec.get_traces(channel_ids=[str(L5_site_vivo)])\n",
    "\n",
    "    # plot figure\n",
    "    fig_data = traces[one_sec_period.astype(int)]\n",
    "\n",
    "# save figure data\n",
    "if SAVE_FIG_DATA:\n",
    "\n",
    "    wind_end = int(np.floor(len(traces)/sfreq))\n",
    "    bkg_noise = noise.measure_trace_noise(traces[one_sec_period.astype(int)], int(sfreq), wind_end)\n",
    "    np.save(fig_data_paths[\"fig2a_compo_vivo_npx_bkg_noise\"], bkg_noise)        \n",
    "    np.save(fig_data_paths[\"fig2a_compo_vivo_npx\"], fig_data)\n",
    "\n",
    "# load figure data\n",
    "elif LOAD_FIG_DATA:\n",
    "    \n",
    "    bkg_noise = np.load(fig_data_paths[\"fig2a_compo_vivo_npx_bkg_noise\"])    \n",
    "    fig_data = np.load(join(proj_path, fig_data_paths[\"fig2a_compo_vivo_npx\"]))\n",
    "    print(\"loaded figure data\")\n",
    "    print(\"nb of 1-sec windows:\", len(bkg_noise))\n",
    "    print(\"Background noise level (min MAD over windows):\", min(bkg_noise))"
   ]
  },
  {
   "cell_type": "markdown",
   "metadata": {},
   "source": [
    "### Plot"
   ]
  },
  {
   "cell_type": "code",
   "execution_count": null,
   "metadata": {},
   "outputs": [
    {
     "data": {
      "image/png": "[encoded data removed]",
      "text/plain": [
       "<Figure size 90x70 with 1 Axes>"
      ]
     },
     "metadata": {},
     "output_type": "display_data"
    }
   ],
   "source": [
    "# plot\n",
    "fig, ax = plt.subplots(1, 1, figsize=FIG_SIZE)\n",
    "\n",
    "# plot figure\n",
    "ax.plot(fig_data, color=COLOR_MV)\n",
    "\n",
    "# formatting\n",
    "ax.spines[[\"right\", \"top\"]].set_visible(False)\n",
    "ax.set_ylabel(\"Voltage (\\u03bcV)\")\n",
    "ax.set_xlabel(\"Time (ms)\")\n",
    "ax.set_yticks([-90, 0, 45], [-90, 0, 45])\n",
    "ax.set_ylim([-90, 45])\n",
    "ax.set_xticks([0, SF_V / 2, SF_V], [0, 500, 1000])\n",
    "ax.set_xlim([0, SF_V])\n",
    "ax.spines[\"bottom\"].set_position((\"axes\", -0.05))\n",
    "ax.yaxis.set_ticks_position(\"left\")\n",
    "ax.spines[\"left\"].set_position((\"axes\", -0.05))\n",
    "\n",
    "# save figure\n",
    "if SAVE_FIG:\n",
    "    plt.savefig(\"figures/0_validation/1_components/fig2a_compo_vivo_npx.svg\")"
   ]
  },
  {
   "cell_type": "markdown",
   "metadata": {},
   "source": [
    "## Spontaneous biophysical model \n",
    "\n",
    "* execution time: 3 min"
   ]
  },
  {
   "cell_type": "code",
   "execution_count": 7,
   "metadata": {},
   "outputs": [
    {
     "name": "stdout",
     "output_type": "stream",
     "text": [
      "[sudo] password for steeve: "
     ]
    }
   ],
   "source": [
    "import getpass; password = getpass.getpass(\"Enter your sudo password: \")\n",
    "!sync; echo {password} | sudo -S sh -c 'echo 1 > /proc/sys/vm/drop_caches'"
   ]
  },
  {
   "cell_type": "markdown",
   "metadata": {},
   "source": [
    "### Compute\n",
    "\n",
    "* execution time: 3 min"
   ]
  },
  {
   "cell_type": "code",
   "execution_count": null,
   "metadata": {},
   "outputs": [
    {
     "name": "stdout",
     "output_type": "stream",
     "text": [
      "Recording: FrameSliceRecording: 384 channels - 40.0kHz - 1 segments - 24,000,000 samples \n",
      "                     600.00s (10.00 minutes) - float32 dtype - 34.33 GiB\n",
      "CPU times: user 2min 55s, sys: 52.8 s, total: 3min 48s\n",
      "Wall time: 3min 54s\n"
     ]
    }
   ],
   "source": [
    "%%time\n",
    "\n",
    "L5_SITE = 21\n",
    "\n",
    "# compute figure data\n",
    "if COMPUTE_FIG_DATA:\n",
    "\n",
    "    # load raw recording extractors\n",
    "    Rec = si.load_extractor(RAW_PATH_ns)\n",
    "\n",
    "    # get metadata\n",
    "    sfreq = Rec.get_sampling_frequency()\n",
    "    layers = Rec.get_property(\"layers\")\n",
    "\n",
    "    # extract first 10 min of the recording extractors \n",
    "    Rec = Rec.frame_slice(start_frame=0, end_frame=REC_DURATION_SEC*sfreq)\n",
    "    print(\"Recording:\", Rec)\n",
    "\n",
    "    # preprocess voltage traces\n",
    "    Rec = spre.astype(Rec, \"int16\")\n",
    "    Rec = spre.highpass_filter(Rec, freq_min=FREQ_MIN)\n",
    "    Rec = spre.common_reference(Rec, reference=\"global\", operator=\"median\")\n",
    "\n",
    "    # select a site and period\n",
    "    L5_site = np.where(layers == LAYER)[0][L5_SITE]\n",
    "    one_sec_period = np.arange((ID_PERIOD_SILI - 1) * sfreq, ID_PERIOD_SILI * sfreq, 1) # one second\n",
    "    traces = Rec.get_traces(channel_ids=[str(L5_site)])\n",
    "\n",
    "    # plot figure\n",
    "    fig_data = traces[one_sec_period.astype(int)]\n",
    "\n",
    "# save figure data\n",
    "if SAVE_FIG_DATA:\n",
    "    \n",
    "    wind_end = int(np.floor(len(traces)/sfreq))\n",
    "    bkg_noise = noise.measure_trace_noise(traces[one_sec_period.astype(int)], int(sfreq), wind_end)\n",
    "    np.save(fig_data_paths[\"fig2b_compo_silico_npx_bkg_noise\"], bkg_noise)    \n",
    "    np.save(fig_data_paths[\"fig2b_compo_silico_npx\"], fig_data)\n",
    "\n",
    "# load figure data\n",
    "elif LOAD_FIG_DATA:\n",
    "    bkg_noise = np.load(fig_data_paths[\"fig2b_compo_silico_npx_bkg_noise\"])    \n",
    "    fig_data = np.load(join(proj_path, fig_data_paths[\"fig2b_compo_silico_npx\"]))\n",
    "    print(\"loaded figure data\")\n",
    "    print(\"nb of 1-sec windows:\", len(bkg_noise))\n",
    "    print(\"Background noise level (min MAD over windows):\", min(bkg_noise))"
   ]
  },
  {
   "cell_type": "markdown",
   "metadata": {},
   "source": [
    "### plot"
   ]
  },
  {
   "cell_type": "code",
   "execution_count": null,
   "metadata": {},
   "outputs": [
    {
     "data": {
      "text/plain": [
       "(-130.0, 60.0)"
      ]
     },
     "execution_count": 7,
     "metadata": {},
     "output_type": "execute_result"
    },
    {
     "data": {
      "image/png": "[encoded data removed]",
      "text/plain": [
       "<Figure size 90x70 with 1 Axes>"
      ]
     },
     "metadata": {},
     "output_type": "display_data"
    }
   ],
   "source": [
    "# plot\n",
    "YMAX = 60\n",
    "YMIN = -130\n",
    "fig, ax = plt.subplots(1, 1, figsize=FIG_SIZE)\n",
    "\n",
    "# plot figure\n",
    "ax.plot(fig_data, color=COLOR_MS)\n",
    "\n",
    "# legend\n",
    "ax.spines[[\"right\", \"top\"]].set_visible(False)\n",
    "ax.set_ylabel(\"Voltage (\\u03bcV)\")\n",
    "ax.set_xlabel(\"Time (ms)\")\n",
    "plt.xticks([0, SF_S / 2, SF_S])\n",
    "ax.set_xticklabels([0, 500, 1000])\n",
    "ax.set_xlim([0, SF_S])\n",
    "\n",
    "# disconnected\n",
    "ax.spines[\"bottom\"].set_position((\"axes\", -0.05))\n",
    "ax.yaxis.set_ticks_position(\"left\")\n",
    "ax.spines[\"left\"].set_position((\"axes\", -0.05))\n",
    "ax.set_yticks([YMIN, 0, YMAX])\n",
    "ax.set_ylim([YMIN, YMAX])\n",
    "\n",
    "# save\n",
    "if SAVE_FIG:\n",
    "    plt.savefig(\"figures/0_validation/1_components/fig2b_compo_silico_npx.svg\")"
   ]
  },
  {
   "cell_type": "markdown",
   "metadata": {},
   "source": [
    "## Evoked biophysical model \n",
    "\n",
    "* execution time: 3 min"
   ]
  },
  {
   "cell_type": "code",
   "execution_count": 16,
   "metadata": {},
   "outputs": [
    {
     "name": "stdout",
     "output_type": "stream",
     "text": [
      "[sudo] password for steeve: Sorry, try again.\n",
      "[sudo] password for steeve: \n",
      "sudo: no password was provided\n",
      "sudo: 1 incorrect password attempt\n"
     ]
    }
   ],
   "source": [
    "import getpass; password = getpass.getpass(\"Enter your sudo password: \")\n",
    "!sync; echo {password} | sudo -S sh -c 'echo 1 > /proc/sys/vm/drop_caches'"
   ]
  },
  {
   "cell_type": "code",
   "execution_count": null,
   "metadata": {},
   "outputs": [
    {
     "name": "stdout",
     "output_type": "stream",
     "text": [
      "Recording: FrameSliceRecording: 384 channels - 20.0kHz - 1 segments - 12,000,000 samples \n",
      "                     600.00s (10.00 minutes) - float32 dtype - 17.17 GiB\n",
      "CPU times: user 1min 27s, sys: 14.3 s, total: 1min 41s\n",
      "Wall time: 1min 44s\n"
     ]
    }
   ],
   "source": [
    "%%time\n",
    "\n",
    "L5_SITE = 21\n",
    "STIM_START = 20110000\n",
    "\n",
    "# compute figure data\n",
    "if COMPUTE_FIG_DATA:\n",
    "\n",
    "    # load raw recording extractors\n",
    "    Rec = si.load_extractor(RAW_PATH_e)\n",
    "\n",
    "    # get metadata\n",
    "    sfreq = Rec.get_sampling_frequency()\n",
    "    layers = Rec.get_property(\"layers\")\n",
    "\n",
    "    # extract first 10 min of the recording extractors \n",
    "    Rec = Rec.frame_slice(start_frame=STIM_START, end_frame=STIM_START + REC_DURATION_SEC*sfreq)\n",
    "    print(\"Recording:\", Rec)\n",
    "\n",
    "    # preprocess voltage traces\n",
    "    Rec = spre.astype(Rec, \"int16\")\n",
    "    Rec = spre.highpass_filter(Rec, freq_min=FREQ_MIN)\n",
    "    Rec = spre.common_reference(Rec, reference=\"global\", operator=\"median\")\n",
    "\n",
    "    # select a site and period\n",
    "    L5_site = np.where(layers == LAYER)[0][L5_SITE]\n",
    "    one_sec_period = np.arange(0, sfreq, 1)\n",
    "    traces = Rec.get_traces(channel_ids=[str(L5_site)])\n",
    "\n",
    "    # plot figure\n",
    "    fig_data = traces[one_sec_period.astype(int)]\n",
    "\n",
    "# save figure data\n",
    "if SAVE_FIG_DATA:\n",
    "    \n",
    "    wind_end = int(np.floor(len(traces)/sfreq))\n",
    "    bkg_noise = noise.measure_trace_noise(traces[one_sec_period.astype(int)], sfreq, wind_end)\n",
    "    np.save(fig_data_paths[\"fig2c_compo_evoked_npx_bkg_noise\"], bkg_noise)    \n",
    "    np.save(fig_data_paths[\"fig2c_compo_evoked_npx\"], fig_data)\n",
    "\n",
    "# load figure data\n",
    "elif LOAD_FIG_DATA:\n",
    "    \n",
    "    bkg_noise = np.load(fig_data_paths[\"fig2c_compo_evoked_npx_bkg_noise\"])    \n",
    "    fig_data = np.load(join(proj_path, fig_data_paths[\"fig2c_compo_evoked_npx\"]))\n",
    "    print(\"loaded figure data\")\n",
    "    print(\"nb of 1-sec windows:\", len(bkg_noise))\n",
    "    print(\"Background noise level (min MAD over windows):\", min(bkg_noise))"
   ]
  },
  {
   "cell_type": "markdown",
   "metadata": {},
   "source": [
    "### plot"
   ]
  },
  {
   "cell_type": "code",
   "execution_count": null,
   "metadata": {},
   "outputs": [
    {
     "data": {
      "image/png": "[encoded data removed]",
      "text/plain": [
       "<Figure size 90x70 with 1 Axes>"
      ]
     },
     "metadata": {},
     "output_type": "display_data"
    }
   ],
   "source": [
    "# plot\n",
    "YMAX = 60\n",
    "fig, ax = plt.subplots(1, 1, figsize=FIG_SIZE)\n",
    "\n",
    "# plot figure\n",
    "ax.plot(fig_data, color=COLOR_E)\n",
    "\n",
    "# legend\n",
    "ax.spines[[\"right\", \"top\"]].set_visible(False)\n",
    "ax.set_ylabel(\"Voltage (\\u03bcV)\")\n",
    "ax.set_xlabel(\"Time after stimulus (ms)\")\n",
    "ax.set_yticks([-120, 0, YMAX], [-120, 0, YMAX])\n",
    "ax.set_ylim([-120, YMAX])\n",
    "ax.set_xticks([0, SF_E / 2, SF_E], [0, 500, 1000])\n",
    "ax.set_xlim([0, SF_E])\n",
    "\n",
    "# disconnected\n",
    "ax.spines[\"bottom\"].set_position((\"axes\", -0.05))\n",
    "ax.yaxis.set_ticks_position(\"left\")\n",
    "ax.spines[\"left\"].set_position((\"axes\", -0.05))\n",
    "\n",
    "# save\n",
    "if SAVE_FIG:\n",
    "    plt.savefig(\"figures/0_validation/1_components/fig2c_compo_evoked_npx.svg\")"
   ]
  },
  {
   "cell_type": "markdown",
   "metadata": {},
   "source": [
    "## Synthetic model (Buccino)"
   ]
  },
  {
   "cell_type": "code",
   "execution_count": null,
   "metadata": {},
   "outputs": [],
   "source": [
    "import getpass; password = getpass.getpass(\"Enter your sudo password: \")\n",
    "!sync; echo {password} | sudo -S sh -c 'echo 1 > /proc/sys/vm/drop_caches'"
   ]
  },
  {
   "cell_type": "code",
   "execution_count": null,
   "metadata": {},
   "outputs": [
    {
     "name": "stdout",
     "output_type": "stream",
     "text": [
      "Recording: FrameSliceRecording: 384 channels - 32.0kHz - 1 segments - 19,200,000 samples \n",
      "                     600.00s (10.00 minutes) - float32 dtype - 27.47 GiB\n",
      "CPU times: user 2min 49s, sys: 41.1 s, total: 3min 31s\n",
      "Wall time: 3min 40s\n"
     ]
    }
   ],
   "source": [
    "%%time\n",
    "\n",
    "ID_PERIOD_B = 43\n",
    "\n",
    "# compute figure data\n",
    "if COMPUTE_FIG_DATA:\n",
    "\n",
    "    # load raw recording extractors\n",
    "    Rec = si.load_extractor(RAW_PATH_b)\n",
    "\n",
    "    # get metadata\n",
    "    sfreq = Rec.get_sampling_frequency()\n",
    "    layers = Rec.get_property(\"layers\")\n",
    "\n",
    "    # extract first 10 min of the recording extractors \n",
    "    Rec = Rec.frame_slice(start_frame=0, end_frame=REC_DURATION_SEC*sfreq)\n",
    "    print(\"Recording:\", Rec)\n",
    "\n",
    "    # preprocess voltage traces\n",
    "    Rec = spre.astype(Rec, \"int16\")\n",
    "    Rec = spre.highpass_filter(Rec, freq_min=FREQ_MIN)\n",
    "    Rec = spre.common_reference(Rec, reference=\"global\", operator=\"median\")\n",
    "\n",
    "    # select a site and period\n",
    "    one_sec_period = np.arange((ID_PERIOD_B - 1) * sfreq, ID_PERIOD_B * sfreq, 1)\n",
    "    traces = Rec.get_traces(channel_ids=[SITE_B])\n",
    "\n",
    "    # plot figure\n",
    "    fig_data = traces[one_sec_period.astype(int)]\n",
    "\n",
    "# save figure data\n",
    "if SAVE_FIG_DATA:\n",
    "    \n",
    "    wind_end = int(np.floor(len(traces)/sfreq))\n",
    "    bkg_noise = noise.measure_trace_noise(traces[one_sec_period.astype(int)], int(sfreq), wind_end)\n",
    "    np.save(fig_data_paths[\"fig2d_compo_synth_npx_bkg_noise\"], bkg_noise)    \n",
    "    np.save(fig_data_paths[\"fig2d_compo_synth_npx\"], fig_data)\n",
    "\n",
    "# load figure data\n",
    "elif LOAD_FIG_DATA:\n",
    "    \n",
    "    bkg_noise = np.load(fig_data_paths[\"fig2d_compo_synth_npx_bkg_noise\"])    \n",
    "    fig_data = np.load(join(proj_path, fig_data_paths[\"fig2d_compo_synth_npx\"]))\n",
    "    print(\"loaded figure data\")\n",
    "    print(\"nb of 1-sec windows:\", len(bkg_noise))\n",
    "    print(\"Background noise level (min MAD over windows):\", min(bkg_noise))"
   ]
  },
  {
   "cell_type": "markdown",
   "metadata": {},
   "source": [
    "### plot"
   ]
  },
  {
   "cell_type": "code",
   "execution_count": null,
   "metadata": {},
   "outputs": [
    {
     "data": {
      "image/png": "[encoded data removed]",
      "text/plain": [
       "<Figure size 90x70 with 1 Axes>"
      ]
     },
     "metadata": {},
     "output_type": "display_data"
    }
   ],
   "source": [
    "# plot\n",
    "YMAX = 60\n",
    "fig, ax = plt.subplots(1, 1, figsize=FIG_SIZE)\n",
    "\n",
    "# plot figure\n",
    "ax.plot(fig_data, color=COLOR_B)\n",
    "\n",
    "# legend\n",
    "ax.spines[[\"right\", \"top\"]].set_visible(False)\n",
    "ax.set_ylabel(\"Voltage (\\u03bcV)\")\n",
    "ax.set_xlabel(\"Time (ms)\")\n",
    "ax.set_xticks([0, SF_B / 2, SF_B], [0, 500, 1000])\n",
    "ax.set_xlim([0, SF_B])\n",
    "\n",
    "# disconnected\n",
    "ax.spines[\"bottom\"].set_position((\"axes\", -0.05))\n",
    "ax.yaxis.set_ticks_position(\"left\")\n",
    "ax.spines[\"left\"].set_position((\"axes\", -0.05))\n",
    "\n",
    "# save\n",
    "if SAVE_FIG:\n",
    "    plt.savefig(\"figures/0_validation/1_components/fig2d_compo_synth_npx.svg\")"
   ]
  },
  {
   "cell_type": "markdown",
   "metadata": {},
   "source": [
    "# DENSE probe"
   ]
  },
  {
   "cell_type": "code",
   "execution_count": 56,
   "metadata": {},
   "outputs": [
    {
     "name": "stdout",
     "output_type": "stream",
     "text": [
      "[sudo] password for steeve: "
     ]
    }
   ],
   "source": [
    "import getpass; password = getpass.getpass(\"Enter your sudo password: \")\n",
    "!sync; echo {password} | sudo -S sh -c 'echo 1 > /proc/sys/vm/drop_caches'"
   ]
  },
  {
   "cell_type": "code",
   "execution_count": null,
   "metadata": {},
   "outputs": [
    {
     "name": "stdout",
     "output_type": "stream",
     "text": [
      "Recording: FrameSliceRecording: 128 channels - 20.0kHz - 1 segments - 12,000,000 samples \n",
      "                     600.00s (10.00 minutes) - float32 dtype - 5.72 GiB\n"
     ]
    }
   ],
   "source": [
    "%%time\n",
    "\n",
    "ID_PERIOD_SILI = 10\n",
    "L5_SITE = 10\n",
    "\n",
    "# compute figure data\n",
    "if COMPUTE_FIG_DATA:\n",
    "\n",
    "    # load raw recording extractors\n",
    "    Rec = si.load_extractor(RAW_PATH_d2)\n",
    "\n",
    "    # get metadata\n",
    "    sfreq = Rec.get_sampling_frequency()\n",
    "    layers = Rec.get_property(\"layers\")\n",
    "\n",
    "    # extract first 10 min of the recording extractors \n",
    "    Rec = Rec.frame_slice(start_frame=0, end_frame=REC_DURATION_SEC*sfreq)\n",
    "    print(\"Recording:\", Rec)\n",
    "\n",
    "    # preprocess voltage traces\n",
    "    Rec = spre.astype(Rec, \"int16\")\n",
    "    Rec = spre.highpass_filter(Rec, freq_min=FREQ_MIN)\n",
    "    Rec = spre.common_reference(Rec, reference=\"global\", operator=\"median\")\n",
    "\n",
    "    # select a site and period\n",
    "    one_sec_period = np.arange((ID_PERIOD_SILI - 1) * sfreq, ID_PERIOD_SILI * sfreq, 1)\n",
    "    traces = Rec.get_traces(channel_ids=[str(L5_SITE)])\n",
    "    traces = traces * GAIN_TO_UV\n",
    "\n",
    "    # plot figure\n",
    "    fig_data = traces[one_sec_period.astype(int)]\n",
    "\n",
    "# save figure data\n",
    "if SAVE_FIG_DATA:\n",
    "    \n",
    "    wind_end = int(np.floor(len(traces)/sfreq))\n",
    "    bkg_noise = noise.measure_trace_noise(traces[one_sec_period.astype(int)], int(sfreq), wind_end)\n",
    "    np.save(fig_data_paths[\"fig2d_compo_silico_horv_bkg_noise\"], bkg_noise)    \n",
    "    np.save(fig_data_paths[\"fig2d_compo_silico_horv\"], fig_data)\n",
    "\n",
    "# load figure data\n",
    "elif LOAD_FIG_DATA:\n",
    "    \n",
    "    bkg_noise = np.load(fig_data_paths[\"fig2d_compo_silico_horv_bkg_noise\"])    \n",
    "    fig_data = np.load(join(proj_path, fig_data_paths[\"fig2d_compo_silico_horv\"]))\n",
    "    print(\"loaded figure data\")\n",
    "    print(\"nb of 1-sec windows:\", len(bkg_noise))\n",
    "    print(\"Background noise level (min MAD over windows):\", min(bkg_noise))"
   ]
  },
  {
   "cell_type": "markdown",
   "metadata": {},
   "source": [
    "### Plot"
   ]
  },
  {
   "cell_type": "code",
   "execution_count": null,
   "metadata": {},
   "outputs": [
    {
     "data": {
      "image/png": "[encoded data removed]",
      "text/plain": [
       "<Figure size 90x70 with 1 Axes>"
      ]
     },
     "metadata": {},
     "output_type": "display_data"
    }
   ],
   "source": [
    "# plot\n",
    "fig, ax = plt.subplots(1, 1, figsize=FIG_SIZE)\n",
    "ax.plot(fig_data, color=COLOR_HS)\n",
    "\n",
    "# legend\n",
    "ax.spines[[\"right\", \"top\"]].set_visible(False)\n",
    "ax.set_ylabel(\"Voltage (\\u03bcV)\")\n",
    "ax.set_xlabel(\"Time (ms)\")\n",
    "ax.set_xticks([0, SF_dense / 2, SF_dense], [0, 500, 1000])\n",
    "ax.set_xlim([0, SF_dense])\n",
    "# ax.set_yticks([-430, 0, 180])\n",
    "# ax.set_ylim([-430, 180])\n",
    "\n",
    "# disconnected\n",
    "ax.spines[\"bottom\"].set_position((\"axes\", -0.05))\n",
    "ax.yaxis.set_ticks_position(\"left\")\n",
    "ax.spines[\"left\"].set_position((\"axes\", -0.05))\n",
    "\n",
    "# # save figurex\n",
    "# if SAVE_FIG:\n",
    "#     plt.savefig(\"figures/0_validation/1_components/fig2d_compo_silico_horv.svg\")"
   ]
  },
  {
   "cell_type": "markdown",
   "metadata": {},
   "source": [
    "## Horvath"
   ]
  },
  {
   "cell_type": "code",
   "execution_count": null,
   "metadata": {},
   "outputs": [],
   "source": [
    "%%time\n",
    "\n",
    "LAYER = \"L5\"\n",
    "L5_SITE = 79 \n",
    "SAMPLE_START = 15868440\n",
    "\n",
    "# compute figure data\n",
    "if COMPUTE_FIG_DATA:\n",
    "\n",
    "    # load raw recording extractors\n",
    "    Rec = si.load_extractor(RAW_PATH_d2)\n",
    "\n",
    "    # get metadata\n",
    "    sfreq = Rec.get_sampling_frequency()\n",
    "    layers = Rec.get_property(\"layers\")\n",
    "\n",
    "    # extract first 10 min of the recording extractors \n",
    "    Rec = Rec.frame_slice(start_frame=0, end_frame=REC_DURATION_SEC*sfreq)\n",
    "    print(\"Recording:\", Rec)\n",
    "\n",
    "    # preprocess voltage traces\n",
    "    Rec = spre.astype(Rec, \"int16\")\n",
    "    Rec = spre.highpass_filter(Rec, freq_min=FREQ_MIN)\n",
    "    Rec = spre.common_reference(Rec, reference=\"global\", operator=\"median\")\n",
    "\n",
    "    # select a site and period\n",
    "    # one_sec_period = np.arange((ID_PERIOD_SILI - 1) * sfreq, ID_PERIOD_SILI * sfreq, 1)\n",
    "    one_sec_period = np.arange(SAMPLE_START, SAMPLE_START+sfreq, 1).astype(int)\n",
    "    traces = Rec.get_traces(channel_ids=[str(L5_SITE)])\n",
    "    traces = traces * GAIN_TO_UV\n",
    "\n",
    "    # plot figure\n",
    "    fig_data = traces[one_sec_period.astype(int)]\n",
    "\n",
    "# save figure data\n",
    "if SAVE_FIG_DATA:\n",
    "    \n",
    "    wind_end = int(np.floor(len(traces)/sfreq))\n",
    "    bkg_noise = noise.measure_trace_noise(traces[one_sec_period.astype(int)], int(sfreq), wind_end)\n",
    "    np.save(fig_data_paths[\"fig2d_compo_silico_horv_bkg_noise\"], bkg_noise)    \n",
    "    np.save(fig_data_paths[\"fig2d_compo_silico_horv\"], fig_data)\n",
    "\n",
    "# load figure data\n",
    "elif LOAD_FIG_DATA:\n",
    "    \n",
    "    bkg_noise = np.load(fig_data_paths[\"fig2d_compo_silico_horv_bkg_noise\"])    \n",
    "    fig_data = np.load(join(proj_path, fig_data_paths[\"fig2d_compo_silico_horv\"]))\n",
    "    print(\"loaded figure data\")\n",
    "    print(\"nb of 1-sec windows:\", len(bkg_noise))\n",
    "    print(\"Background noise level (min MAD over windows):\", min(bkg_noise))"
   ]
  },
  {
   "cell_type": "code",
   "execution_count": null,
   "metadata": {},
   "outputs": [],
   "source": [
    "%%time\n",
    "\n",
    "ID_PERIOD_SILI = 10\n",
    "L5_SITE = 10\n",
    "\n",
    "# compute figure data\n",
    "if COMPUTE_FIG_DATA:\n",
    "\n",
    "    # load raw recording extractors\n",
    "    Rec = si.load_extractor(RAW_PATH_h2)\n",
    "\n",
    "    # get metadata\n",
    "    sfreq = Rec.get_sampling_frequency()\n",
    "    layers = Rec.get_property(\"layers\")\n",
    "\n",
    "    # extract first 10 min of the recording extractors \n",
    "    Rec = Rec.frame_slice(start_frame=0, end_frame=REC_DURATION_SEC*sfreq)\n",
    "    print(\"Recording:\", Rec)\n",
    "\n",
    "    # preprocess voltage traces\n",
    "    Rec = spre.astype(Rec, \"int16\")\n",
    "    Rec = spre.highpass_filter(Rec, freq_min=FREQ_MIN)\n",
    "    Rec = spre.common_reference(Rec, reference=\"global\", operator=\"median\")\n",
    "\n",
    "    # select a site and period\n",
    "    one_sec_period = np.arange((ID_PERIOD_SILI - 1) * sfreq, ID_PERIOD_SILI * sfreq, 1)\n",
    "    traces = Rec.get_traces(channel_ids=[str(L5_SITE)])\n",
    "\n",
    "    # plot figure\n",
    "    fig_data = traces[one_sec_period.astype(int)]\n",
    "\n",
    "# save figure data\n",
    "if SAVE_FIG_DATA:\n",
    "    \n",
    "    wind_end = int(np.floor(len(traces)/sfreq))\n",
    "    bkg_noise = noise.measure_trace_noise(traces[one_sec_period.astype(int)], int(sfreq), wind_end)\n",
    "    np.save(fig_data_paths[\"fig2d_compo_silico_horv_bkg_noise\"], bkg_noise)    \n",
    "    np.save(fig_data_paths[\"fig2d_compo_silico_horv\"], fig_data)\n",
    "\n",
    "# load figure data\n",
    "elif LOAD_FIG_DATA:\n",
    "    \n",
    "    bkg_noise = np.load(fig_data_paths[\"fig2d_compo_silico_horv_bkg_noise\"])    \n",
    "    fig_data = np.load(join(proj_path, fig_data_paths[\"fig2d_compo_silico_horv\"]))\n",
    "    print(\"loaded figure data\")\n",
    "    print(\"nb of 1-sec windows:\", len(bkg_noise))\n",
    "    print(\"Background noise level (min MAD over windows):\", min(bkg_noise))"
   ]
  },
  {
   "cell_type": "code",
   "execution_count": null,
   "metadata": {},
   "outputs": [],
   "source": []
  },
  {
   "cell_type": "code",
   "execution_count": 56,
   "metadata": {},
   "outputs": [
    {
     "name": "stdout",
     "output_type": "stream",
     "text": [
      "loaded figure data\n"
     ]
    }
   ],
   "source": [
    "if SAVE_FIG_DATA:\n",
    "    # plot\n",
    "    ## to find max\n",
    "    # L5_site_vivo = np.where(layers_vivo == LAYER)[0]\n",
    "    # x = traces_vivo[:, L5_site_vivo]\n",
    "    # ind = np.unravel_index(np.argmax(x, axis=None), x.shape)\n",
    "    L5_SITE = 79  # 24  # 1\n",
    "    SAMPLE_START = 15868410\n",
    "\n",
    "    # get traces\n",
    "    Recording_vivo = si.load_extractor(PREP_PATH_h_vivo)\n",
    "    traces_vivo = Recording_vivo.get_traces()\n",
    "\n",
    "    # get a site in layer 5\n",
    "    layers_vivo = Recording_vivo.get_property(\"layers\")\n",
    "    L5_site_vivo = np.where(layers_vivo == LAYER)[0][L5_SITE]\n",
    "\n",
    "    # calculate one seconde period\n",
    "    one_sec_period = np.arange(SAMPLE_START, SAMPLE_START + SF_dense, 1)\n",
    "    \n",
    "    # save figure data\n",
    "    fig_data = traces_vivo[one_sec_period, L5_site_vivo]\n",
    "    np.save(fig_data_paths[\"fig2e_compo_vivo_horv\"], fig_data)\n",
    "\n",
    "elif LOAD_FIG_DATA:\n",
    "    fig_data = np.load(join(proj_path, fig_data_paths[\"fig2e_compo_vivo_horv\"]))\n",
    "    print(\"loaded figure data\")"
   ]
  },
  {
   "cell_type": "code",
   "execution_count": 57,
   "metadata": {},
   "outputs": [
    {
     "data": {
      "image/png": "[encoded data removed]",
      "text/plain": [
       "<Figure size 90x70 with 1 Axes>"
      ]
     },
     "metadata": {},
     "output_type": "display_data"
    }
   ],
   "source": [
    "# plot\n",
    "fig, ax = plt.subplots(1, 1, figsize=FIG_SIZE)\n",
    "\n",
    "ax.plot(fig_data, color=COLOR_HV)\n",
    "\n",
    "# legend\n",
    "ax.spines[[\"right\", \"top\"]].set_visible(False)\n",
    "ax.set_ylabel(\"Voltage (\\u03bcV)\")\n",
    "ax.set_xlabel(\"Time (ms)\")\n",
    "ax.set_xticks([0, SF_dense / 2, SF_dense], [0, 500, 1000])\n",
    "ax.set_xlim([0, SF_dense])\n",
    "ax.set_yticks([-2060, 0, 1015], [-2060, 0, 1015])\n",
    "ax.set_ylim([-2060, 1015])\n",
    "\n",
    "# disconnected\n",
    "ax.spines[\"bottom\"].set_position((\"axes\", -0.05))\n",
    "ax.yaxis.set_ticks_position(\"left\")\n",
    "ax.spines[\"left\"].set_position((\"axes\", -0.05))\n",
    "\n",
    "# save\n",
    "if SAVE_FIG:\n",
    "    plt.savefig(\"figures/0_validation/1_components/fig2e_compo_vivo_horv.svg\")"
   ]
  }
 ],
 "metadata": {
  "kernelspec": {
   "display_name": "spikebias",
   "language": "python",
   "name": "python3"
  },
  "language_info": {
   "codemirror_mode": {
    "name": "ipython",
    "version": 3
   },
   "file_extension": ".py",
   "mimetype": "text/x-python",
   "name": "python",
   "nbconvert_exporter": "python",
   "pygments_lexer": "ipython3",
   "version": "3.9.7"
  }
 },
 "nbformat": 4,
 "nbformat_minor": 4
}
