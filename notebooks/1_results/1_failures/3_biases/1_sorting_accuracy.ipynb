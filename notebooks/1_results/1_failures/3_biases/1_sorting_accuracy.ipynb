{
 "cells": [
  {
   "attachments": {},
   "cell_type": "markdown",
   "metadata": {},
   "source": [
    "# (2m) Ground truth sorting accuracy\n",
    "\n",
    "author: steeve.laquitaine@epfl.ch  \n",
    "date: 25.10.2024\n",
    "\n",
    "\n",
    "**method**\n",
    "\n",
    "* first 10 minutes\n",
    "* single-units whenever possible"
   ]
  },
  {
   "cell_type": "markdown",
   "metadata": {},
   "source": [
    "## Setup\n",
    "\n",
    "activate `spikeinterf..`"
   ]
  },
  {
   "cell_type": "code",
   "execution_count": 1,
   "metadata": {},
   "outputs": [
    {
     "name": "stdout",
     "output_type": "stream",
     "text": [
      "2024-10-25 10:41:24,657 - root - utils.py - get_config - INFO - Reading experiment config.\n",
      "2024-10-25 10:41:24,744 - root - utils.py - get_config - INFO - Reading experiment config. - done\n",
      "2024-10-25 10:41:24,745 - root - utils.py - get_config - INFO - Reading experiment config.\n",
      "2024-10-25 10:41:24,808 - root - utils.py - get_config - INFO - Reading experiment config. - done\n",
      "2024-10-25 10:41:24,809 - root - utils.py - get_config - INFO - Reading experiment config.\n",
      "2024-10-25 10:41:24,914 - root - utils.py - get_config - INFO - Reading experiment config. - done\n",
      "2024-10-25 10:41:24,917 - root - utils.py - get_config - INFO - Reading experiment config.\n",
      "2024-10-25 10:41:24,964 - root - utils.py - get_config - INFO - Reading experiment config. - done\n",
      "2024-10-25 10:41:24,966 - root - utils.py - get_config - INFO - Reading experiment config.\n",
      "2024-10-25 10:41:25,015 - root - utils.py - get_config - INFO - Reading experiment config. - done\n",
      "2024-10-25 10:41:25,017 - root - utils.py - get_config - INFO - Reading experiment config.\n",
      "2024-10-25 10:41:25,069 - root - utils.py - get_config - INFO - Reading experiment config. - done\n"
     ]
    }
   ],
   "source": [
    "%load_ext autoreload\n",
    "%autoreload 2\n",
    "import os \n",
    "from matplotlib import pyplot as plt\n",
    "import numpy as np\n",
    "import pandas as pd\n",
    "import spikeinterface as si\n",
    "from scipy import stats\n",
    "\n",
    "# set project path\n",
    "proj_path = \"/gpfs/bbp.cscs.ch/project/proj85/home/laquitai/spikebias/\"\n",
    "os.chdir(proj_path)\n",
    "\n",
    "from src.nodes import utils\n",
    "from src.nodes.utils import get_config\n",
    "from src.nodes.metrics import quality\n",
    "from src.nodes.analysis.accuracy import accuracy as acc\n",
    "\n",
    "# PARAMETERS\n",
    "DUR = 600 # 10 minutes recording\n",
    "DT = 1.3 # ms (optimized)\n",
    "THR_GOOD = 0.8\n",
    "\n",
    "# DATASETS\n",
    "\n",
    "# NPX PROBE\n",
    "# Synthetic (10m)\n",
    "cfg_nb, _ = get_config(\"buccino_2020\", \"2020\").values()\n",
    "GT_nb_10m = cfg_nb[\"sorting\"][\"simulation\"][\"ground_truth\"][\"10m\"][\"output\"]\n",
    "KS4_nb_10m = cfg_nb[\"sorting\"][\"sorters\"][\"kilosort4\"][\"10m\"][\"output\"]\n",
    "KS3_nb_10m = cfg_nb[\"sorting\"][\"sorters\"][\"kilosort3\"][\"10m\"][\"output\"]\n",
    "KS2_5_nb_10m = cfg_nb[\"sorting\"][\"sorters\"][\"kilosort2_5\"][\"10m\"][\"output\"]\n",
    "KS2_nb_10m = cfg_nb[\"sorting\"][\"sorters\"][\"kilosort2\"][\"10m\"][\"output\"]\n",
    "KS_nb_10m = cfg_nb[\"sorting\"][\"sorters\"][\"kilosort\"][\"10m\"][\"output\"]\n",
    "HS_nb_10m = cfg_nb[\"sorting\"][\"sorters\"][\"herdingspikes\"][\"10m\"][\"output\"]\n",
    "REC_nb = cfg_nb[\"probe_wiring\"][\"full\"][\"output\"]\n",
    "\n",
    "# biophy spont (10m)\n",
    "cfg_ns, _ = get_config(\"silico_neuropixels\", \"concatenated\").values()\n",
    "KS4_ns_10m = cfg_ns[\"sorting\"][\"sorters\"][\"kilosort4\"][\"10m\"][\"output\"]\n",
    "KS3_ns_10m = cfg_ns[\"sorting\"][\"sorters\"][\"kilosort3\"][\"10m\"][\"output\"]\n",
    "KS2_5_ns_10m = cfg_ns[\"sorting\"][\"sorters\"][\"kilosort2_5\"][\"10m\"][\"output\"]\n",
    "KS2_ns_10m = cfg_ns[\"sorting\"][\"sorters\"][\"kilosort2\"][\"10m\"][\"output\"]\n",
    "KS_ns_10m = cfg_ns[\"sorting\"][\"sorters\"][\"kilosort\"][\"10m\"][\"output\"]\n",
    "HS_ns_10m = cfg_ns[\"sorting\"][\"sorters\"][\"herdingspikes\"][\"10m\"][\"output\"]\n",
    "GT_ns_10m = cfg_ns[\"sorting\"][\"simulation\"][\"ground_truth\"][\"10m\"][\"output\"]\n",
    "REC_ns = cfg_ns[\"probe_wiring\"][\"full\"][\"output\"]\n",
    "\n",
    "# biophy evoked\n",
    "cfg_e, _ = get_config(\"silico_neuropixels\", \"stimulus\").values()\n",
    "KS4_e_10m = cfg_e[\"sorting\"][\"sorters\"][\"kilosort4\"][\"10m\"][\"output\"]\n",
    "KS3_e_10m = cfg_e[\"sorting\"][\"sorters\"][\"kilosort3\"][\"10m\"][\"output\"]\n",
    "KS2_5_e_10m = cfg_e[\"sorting\"][\"sorters\"][\"kilosort2_5\"][\"10m\"][\"output\"]\n",
    "KS2_e_10m = cfg_e[\"sorting\"][\"sorters\"][\"kilosort2\"][\"10m\"][\"output\"]\n",
    "KS_e_10m = cfg_e[\"sorting\"][\"sorters\"][\"kilosort\"][\"10m\"][\"output\"]\n",
    "HS_e_10m = cfg_e[\"sorting\"][\"sorters\"][\"herdingspikes\"][\"10m\"][\"output\"]\n",
    "GT_e_10m = cfg_e[\"sorting\"][\"simulation\"][\"ground_truth\"][\"10m\"][\"output\"]\n",
    "REC_e = cfg_e[\"probe_wiring\"][\"full\"][\"output\"]\n",
    "\n",
    "# DENSE PROBE \n",
    "# depth 1\n",
    "cfg_ds1, _ = get_config(\"silico_horvath\", \"concatenated/probe_1\").values()\n",
    "K4_d1 = cfg_ds1[\"sorting\"][\"sorters\"][\"kilosort4\"][\"10m\"][\"output\"]\n",
    "K3_d1 = cfg_ds1[\"sorting\"][\"sorters\"][\"kilosort3\"][\"10m\"][\"output\"]\n",
    "K25_d1 = cfg_ds1[\"sorting\"][\"sorters\"][\"kilosort2_5\"][\"10m\"][\"output\"]\n",
    "K2_d1 = cfg_ds1[\"sorting\"][\"sorters\"][\"kilosort2\"][\"10m\"][\"output\"]\n",
    "K_d1 = cfg_ds1[\"sorting\"][\"sorters\"][\"kilosort\"][\"10m\"][\"output\"]\n",
    "H_d1 = cfg_ds1[\"sorting\"][\"sorters\"][\"herdingspikes\"][\"10m\"][\"output\"]\n",
    "R_d1 = cfg_ds1[\"probe_wiring\"][\"full\"][\"output\"]\n",
    "T_d1 = cfg_ds1[\"sorting\"][\"simulation\"][\"ground_truth\"][\"10m\"][\"output\"]\n",
    "\n",
    "# depth 2\n",
    "cfg_ds2, _ = get_config(\"silico_horvath\", \"concatenated/probe_2\").values()\n",
    "K4_d2 = cfg_ds2[\"sorting\"][\"sorters\"][\"kilosort4\"][\"10m\"][\"output\"]\n",
    "K3_d2 = cfg_ds2[\"sorting\"][\"sorters\"][\"kilosort3\"][\"10m\"][\"output\"]\n",
    "K25_d2 = cfg_ds2[\"sorting\"][\"sorters\"][\"kilosort2_5\"][\"10m\"][\"output\"]\n",
    "K2_d2 = cfg_ds2[\"sorting\"][\"sorters\"][\"kilosort2\"][\"10m\"][\"output\"]\n",
    "K_d2 = cfg_ds2[\"sorting\"][\"sorters\"][\"kilosort\"][\"10m\"][\"output\"]\n",
    "H_d2 = cfg_ds2[\"sorting\"][\"sorters\"][\"herdingspikes\"][\"10m\"][\"output\"]\n",
    "R_d2 = cfg_ds2[\"probe_wiring\"][\"full\"][\"output\"]\n",
    "T_d2 = cfg_ds2[\"sorting\"][\"simulation\"][\"ground_truth\"][\"10m\"][\"output\"]\n",
    "\n",
    "# depth 3\n",
    "cfg_ds3, _ = get_config(\"silico_horvath\", \"concatenated/probe_3\").values()\n",
    "K4_d3 = cfg_ds3[\"sorting\"][\"sorters\"][\"kilosort4\"][\"10m\"][\"output\"]\n",
    "K3_d3 = cfg_ds3[\"sorting\"][\"sorters\"][\"kilosort3\"][\"10m\"][\"output\"]\n",
    "K25_d3 = cfg_ds3[\"sorting\"][\"sorters\"][\"kilosort2_5\"][\"10m\"][\"output\"]\n",
    "K2_d3 = cfg_ds3[\"sorting\"][\"sorters\"][\"kilosort2\"][\"10m\"][\"output\"]\n",
    "K_d3 = cfg_ds3[\"sorting\"][\"sorters\"][\"kilosort\"][\"10m\"][\"output\"]\n",
    "H_d3 = cfg_ds3[\"sorting\"][\"sorters\"][\"herdingspikes\"][\"10m\"][\"output\"]\n",
    "R_d3 = cfg_ds3[\"probe_wiring\"][\"full\"][\"output\"]\n",
    "T_d3 = cfg_ds3[\"sorting\"][\"simulation\"][\"ground_truth\"][\"10m\"][\"output\"]\n",
    "\n",
    "\n",
    "# axes\n",
    "plt.rcParams[\"font.family\"] = \"Arial\"\n",
    "plt.rcParams[\"font.size\"] = 6  # 5-7 with Nature neuroscience as reference\n",
    "plt.rcParams[\"lines.linewidth\"] = 0.5 # typically between 0.5 and 1\n",
    "plt.rcParams[\"axes.linewidth\"] = 0.5 #1\n",
    "plt.rcParams[\"axes.spines.top\"] = False\n",
    "plt.rcParams[\"xtick.major.width\"] = 0.5 #0.8 #* 1.3\n",
    "plt.rcParams[\"xtick.minor.width\"] = 0.5 #0.8 #* 1.3\n",
    "plt.rcParams[\"ytick.major.width\"] = 0.5 #0.8 #* 1.3\n",
    "plt.rcParams[\"ytick.minor.width\"] = 0.5 #0.8 #* 1.3\n",
    "plt.rcParams[\"xtick.major.size\"] = 3.5 * 1.1\n",
    "plt.rcParams[\"xtick.minor.size\"] = 2 * 1.1\n",
    "plt.rcParams[\"ytick.major.size\"] = 3.5 * 1.1\n",
    "plt.rcParams[\"ytick.minor.size\"] = 2 * 1.1\n",
    "# legend\n",
    "legend_cfg = {\"frameon\": False, \"handletextpad\": 0.5}\n",
    "tight_layout_cfg = {\"pad\": 0.001}\n",
    "LG_FRAMEON = False              # no legend frame"
   ]
  },
  {
   "cell_type": "code",
   "execution_count": 2,
   "metadata": {},
   "outputs": [],
   "source": [
    "def plot_sorting_accuracy_dense(ax, ac_d1, ac_d2, ac_d3, thres, sorters, ylim):\n",
    "\n",
    "    # get number of well sorted ground truth units\n",
    "    nb_good_d1 = (ac_d1 >= thres).sum(axis=1)\n",
    "    nb_good_d2 = (ac_d2 >= thres).sum(axis=1)\n",
    "    nb_good_d3 = (ac_d3 >= thres).sum(axis=1)\n",
    "\n",
    "    # total nb of units (scalar)\n",
    "    nb_total = ac_d1.shape[1] + ac_d2.shape[1] + ac_d3.shape[1]\n",
    "\n",
    "    # nb of good units per sorter across ground truths\n",
    "    total_good = np.vstack([nb_good_d1, nb_good_d2, nb_good_d3]).sum(axis=0)\n",
    "    total_accuracy = total_good / nb_total\n",
    "    print(\"total nb of ground truth units across ground truths:\", nb_total)\n",
    "\n",
    "    # plot\n",
    "    ax.bar(sorters, total_accuracy, color=\"k\")\n",
    "    ax.set_ylabel(\"Total sorting accuracy\\nacross ground truths\\n(ratio)\")\n",
    "    ax.set_xlabel(\"Spike sorters\")\n",
    "    ax.set_ylim([0, ylim])\n",
    "\n",
    "    # aesthetics\n",
    "    ax.spines[[\"right\", \"top\"]].set_visible(False)\n",
    "    ax.spines[\"bottom\"].set_position((\"axes\", -0.05))\n",
    "    ax.yaxis.set_ticks_position(\"left\")\n",
    "    ax.spines[\"left\"].set_position((\"axes\", -0.05))\n",
    "    ax.spines[\"right\"].set_visible(False)\n",
    "\n",
    "    # add unit counts\n",
    "    for ix in range(len(sorters)):\n",
    "        ax.annotate(\n",
    "            f\"\"\"{total_good[ix]}\"\"\",\n",
    "            (ix, 1.2 * total_accuracy[ix]),\n",
    "            ha=\"center\",\n",
    "            color=\"k\",\n",
    "            rotation=0,\n",
    "            # weight=\"bold\",\n",
    "        )\n",
    "    return ax, total_good, nb_total\n",
    "\n",
    "\n",
    "def plot_total_sorting_accuracy_npx(ax, ac_nb, ac_ns, ac_e, thres, sorters):\n",
    "\n",
    "    # nb of good units per sorter per ground truth\n",
    "    # (1 x N sorters)\n",
    "    nb_good_nb = (ac_nb >= thres).sum(axis=1)\n",
    "    nb_good_ns = (ac_ns >= thres).sum(axis=1)\n",
    "    nb_good_e = (ac_e >= thres).sum(axis=1)\n",
    "\n",
    "    # total nb of units (scalar)\n",
    "    nb_total = ac_nb.shape[1] + ac_ns.shape[1] + ac_e.shape[1]\n",
    "\n",
    "    # nb of good units per sorter across ground truths\n",
    "    total_nb_good = np.vstack([nb_good_nb, nb_good_ns, nb_good_e]).sum(axis=0)\n",
    "    total_accuracy = total_nb_good / nb_total\n",
    "\n",
    "    print(\"total nb of ground truth unit:\", nb_total)\n",
    "\n",
    "    # plot\n",
    "    ax.bar(sorters, total_accuracy, color=\"k\")\n",
    "    ax.set_ylabel(\"Sorting accuracy (ratio)\")\n",
    "    ax.set_xlabel(\"Spike sorters\")\n",
    "    ax.set_ylim([0, 1.1 * ax.get_ylim()[1]])\n",
    "    ylim = ax.get_ylim()[1]\n",
    "\n",
    "    # aesthetics\n",
    "    ax.spines[[\"right\", \"top\"]].set_visible(False)\n",
    "    ax.spines[\"bottom\"].set_position((\"axes\", -0.05))\n",
    "    ax.yaxis.set_ticks_position(\"left\")\n",
    "    ax.spines[\"left\"].set_position((\"axes\", -0.05))\n",
    "    ax.spines[\"right\"].set_visible(False)\n",
    "\n",
    "    # add unit counts\n",
    "    for ix in range(len(sorters)):\n",
    "        ax.annotate(\n",
    "            f\"\"\"{total_nb_good[ix]}\"\"\",\n",
    "            (ix, 1.1 * total_accuracy[ix]),\n",
    "            ha=\"center\",\n",
    "            color=\"k\",\n",
    "            rotation=0,\n",
    "            # weight=\"bold\",\n",
    "        )\n",
    "    return ax, ylim, total_nb_good, nb_total"
   ]
  },
  {
   "attachments": {},
   "cell_type": "markdown",
   "metadata": {},
   "source": [
    "### (2m) Calculate unit accuracies"
   ]
  },
  {
   "cell_type": "markdown",
   "metadata": {},
   "source": [
    "### Get dataset\n",
    "\n",
    "* the ground truth units recorded in the SortingExtractor are within 50 microns of the contacts."
   ]
  },
  {
   "cell_type": "code",
   "execution_count": 3,
   "metadata": {},
   "outputs": [
    {
     "name": "stderr",
     "output_type": "stream",
     "text": [
      "/gpfs/bbp.cscs.ch/project/proj85/laquitai/spikebias_paper/envs/spikinterf0_100_5/lib/python3.9/site-packages/spikeinterface/core/base.py:1079: UserWarning: Versions are not the same. This might lead to compatibility errors. Using spikeinterface==0.96.1 is recommended\n",
      "  warnings.warn(\n"
     ]
    }
   ],
   "source": [
    "# Neuropixels probe\n",
    "# NB\n",
    "ac_nb = acc.get_accuracy(\n",
    "    KS4_nb_10m,\n",
    "    KS3_nb_10m,\n",
    "    KS2_5_nb_10m,\n",
    "    KS2_nb_10m,\n",
    "    KS_nb_10m,\n",
    "    HS_nb_10m,\n",
    "    GT_nb_10m,\n",
    "    DT,\n",
    ")\n",
    "# NS\n",
    "ac_ns = acc.get_accuracy(\n",
    "    KS4_ns_10m,\n",
    "    KS3_ns_10m,\n",
    "    KS2_5_ns_10m,\n",
    "    KS2_ns_10m,\n",
    "    KS_ns_10m,\n",
    "    HS_ns_10m,\n",
    "    GT_ns_10m,\n",
    "    DT,\n",
    ")\n",
    "# NE\n",
    "ac_e = acc.get_accuracy(\n",
    "    KS4_e_10m, KS3_e_10m, KS2_5_e_10m, KS2_e_10m, KS_e_10m, HS_e_10m, GT_e_10m, DT\n",
    ")\n",
    "\n",
    "# Dense probe\n",
    "# D1\n",
    "ac_d1 = acc.get_accuracy(K4_d1, K3_d1, K25_d1, K2_d1, K_d1, H_d1, T_d1, DT)\n",
    "# D2\n",
    "ac_d2 = acc.get_accuracy(K4_d2, K3_d2, K25_d2, K2_d2, K_d2, H_d2, T_d2, DT)\n",
    "# D3\n",
    "ac_d3 = acc.get_accuracy(K4_d3, K3_d3, K25_d3, K2_d3, K_d3, H_d3, T_d3, DT)"
   ]
  },
  {
   "cell_type": "markdown",
   "metadata": {},
   "source": [
    "### Plot sorter accuracy\n",
    "\n",
    "* total accuracy across datasets\n",
    "* number of good units for ks4 across ground truths / total number of ground truth units\n",
    "\n",
    "* dense probe:\n",
    "    * That the dense probe does not cover the entire column (particularly half layer 6) is not a confound if we normalize number of accurately sorted ground truth units by the surrounding volume of units within 50 microns of the probe. The sorting accuracy is normalized with respect to the number of units within 50 microns, which changes with the probe coverage of the layers."
   ]
  },
  {
   "cell_type": "code",
   "execution_count": 4,
   "metadata": {},
   "outputs": [
    {
     "name": "stdout",
     "output_type": "stream",
     "text": [
      "total nb of ground truth unit: 3474\n",
      "total nb of ground truth units across ground truths: 2180\n",
      "2024-10-25 10:43:21,364 - root - utils.py - create_if_not_exists - INFO - The following path has been created /gpfs/bbp.cscs.ch/project/proj85/home/laquitai/spikebias/figures/2_causes/assets\n"
     ]
    },
    {
     "data": {
      "image/png": "[encoded data removed]",
      "text/plain": [
       "<Figure size 400x100 with 2 Axes>"
      ]
     },
     "metadata": {},
     "output_type": "display_data"
    }
   ],
   "source": [
    "# parameters\n",
    "sorters = [\"ks4\", \"ks3\", \"ks2.5\", \"ks2\", \"ks\", \"hs\"]\n",
    "THR = 0.8\n",
    "\n",
    "# plot\n",
    "fig, ax = plt.subplots(1, 2, figsize=(4, 1))\n",
    "# npx\n",
    "ax[0], ylim, good_npx, total_npx = plot_total_sorting_accuracy_npx(\n",
    "    ax[0], ac_nb, ac_ns, ac_e, THR, sorters\n",
    ")\n",
    "# dense\n",
    "ax[1], good_dense, total_dense = plot_sorting_accuracy_dense(\n",
    "    ax[1], ac_d1, ac_d2, ac_d3, THR, sorters, ylim\n",
    ")\n",
    "ax[1].set_ylabel(\"\")\n",
    "# tidy up\n",
    "plt.subplots_adjust(wspace=0.3, hspace=0)\n",
    "# save\n",
    "utils.savefig(\"figures/2_causes/assets/fig6A_total_sorting_accuracy.svg\")"
   ]
  },
  {
   "cell_type": "markdown",
   "metadata": {},
   "source": [
    "### Hyp. Testing: spike sorters have the same accuracies\n",
    "\n",
    "* Chi-square goodness-of-fit test\n",
    "    * we have large sample size: >>> 5 per sorters\n",
    "    * count values between sorters are independents\n",
    "    * data are converted to frequencies which is expected by scipy.stats.chisquare (not ratio)\n",
    "    * degree of freedom = k - 1 - ddof, where ddof=0, an adjustment parameter\n",
    "    * $\\chi^2$(degree of freedom, sample size) = statistic, p-value."
   ]
  },
  {
   "cell_type": "code",
   "execution_count": 5,
   "metadata": {},
   "outputs": [
    {
     "name": "stdout",
     "output_type": "stream",
     "text": [
      "\n",
      "NPX:\n",
      "expected sorting accuracy: 12.0 %\n",
      "\\chi^2 (5, 3474)=3.8, p=0.58\n",
      "\n",
      "DENSE:\n",
      "expected sorting accuracy: 3.0 %\n",
      "\\chi^2 (5, 2180)=6.0, p=0.3\n"
     ]
    }
   ],
   "source": [
    "# report chi-square stats\n",
    "\n",
    "# NPX PROBE\n",
    "\n",
    "ddof = 0  # default adjustment of the degree of freedom\n",
    "dof = len(good_npx) - 1 - ddof  # the degree of freedom\n",
    "result = stats.chisquare(f_obs=good_npx / total_npx * 100, ddof=0)\n",
    "print(\"\\nNPX:\")\n",
    "print(\"expected sorting accuracy:\", np.round(np.mean(good_npx / total_npx * 100)), \"%\")\n",
    "print(\n",
    "    f\"\\chi^2 ({dof}, {total_npx})={np.round(result.statistic,1)}, p={np.round(result.pvalue,2)}\"\n",
    ")\n",
    "\n",
    "# DENSE PROBE\n",
    "\n",
    "ddof = 0  # default adjustment of the degree of freedom\n",
    "dof = len(good_dense) - 1 - ddof  # the degree of freedom\n",
    "result = stats.chisquare(f_obs=good_dense / total_dense * 100, ddof=0)\n",
    "print(\"\\nDENSE:\")\n",
    "print(\n",
    "    \"expected sorting accuracy:\", np.round(np.mean(good_dense / total_dense * 100)), \"%\"\n",
    ")\n",
    "print(\n",
    "    f\"\\chi^2 ({dof}, {total_dense})={np.round(result.statistic,1)}, p={np.round(result.pvalue,2)}\"\n",
    ")"
   ]
  },
  {
   "cell_type": "markdown",
   "metadata": {},
   "source": [
    "### Plot unit accuracy curve"
   ]
  },
  {
   "cell_type": "code",
   "execution_count": 6,
   "metadata": {},
   "outputs": [
    {
     "name": "stdout",
     "output_type": "stream",
     "text": [
      "nb of S ground truth units: 250\n",
      "nb of NS ground truth units: 1388\n",
      "nb of E ground truth units: 1836\n",
      "nb of DS ground truth units: 2180\n"
     ]
    },
    {
     "data": {
      "image/png": "[encoded data removed]",
      "text/plain": [
       "<Figure size 380x110 with 4 Axes>"
      ]
     },
     "metadata": {},
     "output_type": "display_data"
    }
   ],
   "source": [
    "# compute dense probe dataset\n",
    "acc_dense = np.hstack([ac_d1, ac_d2, ac_d3])\n",
    "acc_dense_sort = acc_dense\n",
    "for ix in range(acc_dense.shape[0]):\n",
    "    acc_dense_sort[ix, :] = sorted(acc_dense[ix, :], reverse=True)\n",
    "\n",
    "\n",
    "# PLOT\n",
    "\n",
    "fig, ax = plt.subplots(1, 4, figsize=(3.8, 1.1))\n",
    "ax[0].plot(ac_nb.T, \"-\", markersize=1.5)\n",
    "ax[1].plot(ac_ns.T, \"-\", markersize=1.5)\n",
    "ax[2].plot(ac_e.T, \"-\", markersize=1.5)\n",
    "ax[3].plot(acc_dense_sort.T, \"-\", markersize=1.5)\n",
    "\n",
    "# set titles\n",
    "ax[0].set_title(\"S\")\n",
    "ax[1].set_title(\"NS\")\n",
    "ax[2].set_title(\"E\")\n",
    "ax[3].set_title(\"DS\")\n",
    "\n",
    "# labels\n",
    "ax[0].set_ylabel(\"Sorting accuracy (ratio)\")\n",
    "ax[1].set_xlabel(\"True units ranked by accuracy\")\n",
    "\n",
    "# legend: loop over panels\n",
    "for ix in range(len(ax)):\n",
    "\n",
    "    # disconnect axes (R style)\n",
    "    ax[ix].spines[[\"right\", \"top\"]].set_visible(False)\n",
    "    ax[ix].spines[\"bottom\"].set_position((\"axes\", -0.05))\n",
    "    ax[ix].yaxis.set_ticks_position(\"left\")\n",
    "    ax[ix].spines[\"left\"].set_position((\"axes\", -0.05))\n",
    "    ax[ix].spines[\"right\"].set_visible(False)\n",
    "    ax[ix].set_xlim(left=0)\n",
    "    ax[ix].set_ylim(bottom=0)\n",
    "    if ix > 0:\n",
    "        ax[ix].spines[\"left\"].set_visible(False)\n",
    "        ax[ix].set_yticks([])\n",
    "\n",
    "    # plot threshold for accurate units\n",
    "    ax[ix].axhline(y=THR, color=\"r\", linestyle=\"--\")\n",
    "\n",
    "# tidy up\n",
    "plt.subplots_adjust(wspace=0.1, hspace=0)\n",
    "\n",
    "# save\n",
    "utils.savefig(\"figures/2_causes/assets/fig6B_unit_accuracy_vs_exp.svg\")\n",
    "\n",
    "# report stats\n",
    "print(\"nb of S ground truth units:\", ac_nb.shape[1])\n",
    "print(\"nb of NS ground truth units:\", ac_ns.shape[1])\n",
    "print(\"nb of E ground truth units:\", ac_e.shape[1])\n",
    "print(\"nb of DS ground truth units:\", acc_dense.shape[1])"
   ]
  },
  {
   "cell_type": "code",
   "execution_count": 49,
   "metadata": {},
   "outputs": [],
   "source": [
    "def get_good_unit_yield_and_accuracy(acc_data, sorter):\n",
    "    sorters = np.array([\"KS4\", \"KS3\", \"KS2.5\", \"KS2\", \"KS\", \"HS\"])\n",
    "    s_ix = np.where(sorters == sorter)[0][0]\n",
    "    good_yield = sum(acc_data[s_ix, :] >= 0.8)\n",
    "    acc = good_yield / acc_data.shape[1]\n",
    "    print(f\"{sorters[s_ix]} - accuracy {acc}; good unit yield {good_yield}\")\n",
    "    return acc, good_yield"
   ]
  },
  {
   "cell_type": "code",
   "execution_count": 50,
   "metadata": {},
   "outputs": [
    {
     "name": "stdout",
     "output_type": "stream",
     "text": [
      "KS4 - accuracy 0.896; good unit yield 224\n",
      "KS3 - accuracy 0.856; good unit yield 214\n",
      "KS2.5 - accuracy 0.976; good unit yield 244\n",
      "KS2 - accuracy 0.988; good unit yield 247\n",
      "KS - accuracy 0.748; good unit yield 187\n",
      "HS - accuracy 0.496; good unit yield 124\n"
     ]
    }
   ],
   "source": [
    "acc_nb_k4, good_yiel_nb_k4 = get_good_unit_yield_and_accuracy(ac_nb, \"KS4\")\n",
    "acc_nb_k3, good_yiel_nb_k3 = get_good_unit_yield_and_accuracy(ac_nb, \"KS3\")\n",
    "acc_nb_k25, good_yiel_nb_k25 = get_good_unit_yield_and_accuracy(ac_nb, \"KS2.5\")\n",
    "acc_nb_k2, good_yiel_nb_k2 = get_good_unit_yield_and_accuracy(ac_nb, \"KS2\")\n",
    "acc_nb_ks, good_yiel_nb_ks = get_good_unit_yield_and_accuracy(ac_nb, \"KS\")\n",
    "acc_nb_hs, good_yiel_nb_hs = get_good_unit_yield_and_accuracy(ac_nb, \"HS\")"
   ]
  },
  {
   "cell_type": "code",
   "execution_count": 51,
   "metadata": {},
   "outputs": [
    {
     "name": "stdout",
     "output_type": "stream",
     "text": [
      "KS4 - accuracy 0.0569164265129683; good unit yield 79\n",
      "KS3 - accuracy 0.040345821325648415; good unit yield 56\n",
      "KS2.5 - accuracy 0.13688760806916425; good unit yield 190\n",
      "KS2 - accuracy 0.14265129682997119; good unit yield 198\n",
      "KS - accuracy 0.12536023054755044; good unit yield 174\n",
      "HS - accuracy 0.058357348703170026; good unit yield 81\n"
     ]
    }
   ],
   "source": [
    "acc_ns_k4, good_yiel_ns_k4 = get_good_unit_yield_and_accuracy(ac_ns, \"KS4\")\n",
    "acc_ns_k3, good_yiel_ns_k3 = get_good_unit_yield_and_accuracy(ac_ns, \"KS3\")\n",
    "acc_ns_k25, good_yiel_ns_k25 = get_good_unit_yield_and_accuracy(ac_ns, \"KS2.5\")\n",
    "acc_ns_k2, good_yiel_ns_k2 = get_good_unit_yield_and_accuracy(ac_ns, \"KS2\")\n",
    "acc_ns_ks, good_yiel_ns_ks = get_good_unit_yield_and_accuracy(ac_ns, \"KS\")\n",
    "acc_ns_hs, good_yiel_ns_hs = get_good_unit_yield_and_accuracy(ac_ns, \"HS\")"
   ]
  },
  {
   "cell_type": "code",
   "execution_count": 52,
   "metadata": {},
   "outputs": [
    {
     "name": "stdout",
     "output_type": "stream",
     "text": [
      "KS4 - accuracy 0.056100217864923745; good unit yield 103\n",
      "KS3 - accuracy 0.0457516339869281; good unit yield 84\n",
      "KS2.5 - accuracy 0.0718954248366013; good unit yield 132\n",
      "KS2 - accuracy 0.0005446623093681918; good unit yield 1\n",
      "KS - accuracy 0.051742919389978215; good unit yield 95\n",
      "HS - accuracy 0.027777777777777776; good unit yield 51\n"
     ]
    }
   ],
   "source": [
    "acc_e_k4, good_yiel_e_k4 = get_good_unit_yield_and_accuracy(ac_e, \"KS4\")\n",
    "acc_e_k3, good_yiel_e_k3 = get_good_unit_yield_and_accuracy(ac_e, \"KS3\")\n",
    "acc_e_k25, good_yiel_e_k25 = get_good_unit_yield_and_accuracy(ac_e, \"KS2.5\")\n",
    "acc_e_k2, good_yiel_e_k2 = get_good_unit_yield_and_accuracy(ac_e, \"KS2\")\n",
    "acc_e_ks, good_yiel_e_ks = get_good_unit_yield_and_accuracy(ac_e, \"KS\")\n",
    "acc_e_hs, good_yiel_e_hs = get_good_unit_yield_and_accuracy(ac_e, \"HS\")"
   ]
  },
  {
   "cell_type": "code",
   "execution_count": 53,
   "metadata": {},
   "outputs": [
    {
     "name": "stdout",
     "output_type": "stream",
     "text": [
      "KS4 - accuracy 0.016055045871559634; good unit yield 35\n",
      "KS3 - accuracy 0.01055045871559633; good unit yield 23\n",
      "KS2.5 - accuracy 0.044036697247706424; good unit yield 96\n",
      "KS2 - accuracy 0.044954128440366975; good unit yield 98\n",
      "KS - accuracy 0.05688073394495413; good unit yield 124\n",
      "HS - accuracy 0.016055045871559634; good unit yield 35\n"
     ]
    }
   ],
   "source": [
    "acc_ds_k4, good_yiel_ds_k4 = get_good_unit_yield_and_accuracy(acc_dense_sort, \"KS4\")\n",
    "acc_ds_k3, good_yiel_ds_k3 = get_good_unit_yield_and_accuracy(acc_dense_sort, \"KS3\")\n",
    "acc_ds_k25, good_yiel_ds_k25 = get_good_unit_yield_and_accuracy(acc_dense_sort, \"KS2.5\")\n",
    "acc_ds_k2, good_yiel_ds_k2 = get_good_unit_yield_and_accuracy(acc_dense_sort, \"KS2\")\n",
    "acc_ds_ks, good_yiel_ds_ks = get_good_unit_yield_and_accuracy(acc_dense_sort, \"KS\")\n",
    "acc_ds_hs, good_yiel_ds_hs = get_good_unit_yield_and_accuracy(acc_dense_sort, \"HS\")"
   ]
  },
  {
   "cell_type": "code",
   "execution_count": 86,
   "metadata": {},
   "outputs": [
    {
     "name": "stderr",
     "output_type": "stream",
     "text": [
      "/tmp/ipykernel_104559/3043005434.py:11: MatplotlibDeprecationWarning: The legendHandles attribute was deprecated in Matplotlib 3.7 and will be removed two minor releases later. Use legend_handles instead.\n",
      "  for legobj in leg.legendHandles:\n"
     ]
    },
    {
     "data": {
      "image/png": "[encoded data removed]",
      "text/plain": [
       "<Figure size 100x100 with 1 Axes>"
      ]
     },
     "metadata": {},
     "output_type": "display_data"
    }
   ],
   "source": [
    "# setup legend\n",
    "fig, ax = plt.subplots(1, 1, figsize=(1, 1))\n",
    "ax.plot(acc_dense_sort.T, \"-\", markersize=1.5)\n",
    "leg = plt.legend(\n",
    "    [\"ks4\", \"ks3\", \"ks2.5\", \"ks2\", \"ks\", \"hs\"],\n",
    "    frameon=False,\n",
    "    handlelength=1,\n",
    "    handletextpad=0.3,\n",
    "    labelspacing=0.08,\n",
    ")\n",
    "for legobj in leg.legendHandles:\n",
    "    legobj.set_linewidth(1)\n",
    "utils.savefig(\"figures/2_causes/assets/fig6B_legend.svg\")"
   ]
  },
  {
   "cell_type": "code",
   "execution_count": null,
   "metadata": {},
   "outputs": [],
   "source": []
  }
 ],
 "metadata": {
  "kernelspec": {
   "display_name": "env_kilosort_silico",
   "language": "python",
   "name": "python3"
  },
  "language_info": {
   "codemirror_mode": {
    "name": "ipython",
    "version": 3
   },
   "file_extension": ".py",
   "mimetype": "text/x-python",
   "name": "python",
   "nbconvert_exporter": "python",
   "pygments_lexer": "ipython3",
   "version": "3.9.7"
  },
  "orig_nbformat": 4
 },
 "nbformat": 4,
 "nbformat_minor": 2
}
