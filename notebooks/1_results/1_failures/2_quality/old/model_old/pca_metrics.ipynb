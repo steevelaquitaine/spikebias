{
 "cells": [
  {
   "cell_type": "markdown",
   "metadata": {},
   "source": [
    "# Pre-compute all quality metrics\n",
    "\n",
    "* author: steeve.laquitaine@epfl.ch"
   ]
  },
  {
   "cell_type": "code",
   "execution_count": 1,
   "metadata": {},
   "outputs": [
    {
     "name": "stdout",
     "output_type": "stream",
     "text": [
      "2024-09-12 09:17:21,533 - root - utils.py - get_config - INFO - Reading experiment config.\n",
      "2024-09-12 09:17:21,601 - root - utils.py - get_config - INFO - Reading experiment config. - done\n",
      "2024-09-12 09:17:21,603 - root - utils.py - get_config - INFO - Reading experiment config.\n",
      "2024-09-12 09:17:21,674 - root - utils.py - get_config - INFO - Reading experiment config. - done\n"
     ]
    }
   ],
   "source": [
    "%load_ext autoreload\n",
    "%autoreload 2\n",
    "import os\n",
    "import spikeinterface as si\n",
    "import spikeinterface.core.template_tools as ttools\n",
    "from spikeinterface import comparison\n",
    "from spikeinterface.qualitymetrics import compute_quality_metrics as qm\n",
    "from spikeinterface import qualitymetrics\n",
    "import pandas as pd\n",
    "from cebra import CEBRA\n",
    "import cebra\n",
    "import torch\n",
    "import numpy as np\n",
    "from matplotlib import pyplot as plt\n",
    "import sklearn\n",
    "import seaborn as sns\n",
    "from sklearn import metrics\n",
    "import cebra.models\n",
    "from spikeinterface.postprocessing import compute_principal_components\n",
    "\n",
    "\n",
    "# set project path\n",
    "proj_path = \"/gpfs/bbp.cscs.ch/project/proj85/home/laquitai/spikebias/\"\n",
    "os.chdir(proj_path)\n",
    "\n",
    "from src.nodes.utils import get_config\n",
    "from src.nodes import utils\n",
    "from src.nodes.utils import euclidean_distance\n",
    "\n",
    "# npx spont. biophy.\n",
    "cfg_ns, _ = get_config(\"silico_neuropixels\", \"concatenated\").values()\n",
    "KS4_ns_10m = cfg_ns[\"sorting\"][\"sorters\"][\"kilosort4\"][\"10m\"][\n",
    "    \"output\"\n",
    "]  # sorting with KS4\n",
    "GT_ns_10m = cfg_ns[\"sorting\"][\"simulation\"][\"ground_truth\"][\"10m\"][\"output\"] # KS4 sorting\n",
    "STUDY_ns = cfg_ns[\"postprocessing\"][\"waveform\"][\"sorted\"][\"study\"][\"kilosort4\"][\n",
    "    \"10m\"\n",
    "]  # WaveformExtractor\n",
    "REC_ns = cfg_ns[\"probe_wiring\"][\"full\"][\"output\"]  # Wired\n",
    "\n",
    "# npx evoked biophy.\n",
    "cfg_ne, _ = get_config(\"silico_neuropixels\", \"stimulus\").values()\n",
    "KS4_ne_10m = cfg_ne[\"sorting\"][\"sorters\"][\"kilosort4\"][\"10m\"][\"output\"]\n",
    "GT_ne_10m = cfg_ne[\"sorting\"][\"simulation\"][\"ground_truth\"][\"10m\"][\"output\"]\n",
    "STUDY_ne = cfg_ne[\"postprocessing\"][\"waveform\"][\"sorted\"][\"study\"][\"kilosort4\"][\n",
    "    \"10m\"\n",
    "]  # WaveformExtractor\n",
    "STUDY_ne_su = '/gpfs/bbp.cscs.ch/project/proj85/scratch/laquitai/4_preprint_2023/0_silico/4_spikesorting_stimulus_test_neuropixels_8-1-24__8slc_80f_360r_50t_200ms_1_smallest_fiber_gids/0fcb7709-b1e9-4d84-b056-5801f20d55af/postpro/realism/spike/sorted/study_ks4_10m_single_units'\n",
    "REC_ne = cfg_ne[\"probe_wiring\"][\"full\"][\"output\"]  # Wired\n",
    "\n",
    "\n",
    "# job parameters\n",
    "job_kwargs = dict(n_jobs=-1, chunk_duration=\"1s\", progress_bar=True, verbose=True)\n",
    "\n",
    "# PATHS\n",
    "\n",
    "# pre-computed sorted unit quality\n",
    "quality_path = \"/gpfs/bbp.cscs.ch/project/proj85/scratch/laquitai/4_preprint_2023/analysis/sorting_quality/sorting_quality.csv\"\n",
    "\n",
    "# model save path\n",
    "MODEL_PATH_40Khz_s2s_pooled_pm1 = \"/gpfs/bbp.cscs.ch/project/proj85/scratch/laquitai/4_preprint_2023/analysis/sorting_quality/models/cebra/sf_40Khz/s2s_pooled_pm1\"\n",
    "MODEL_PATH_20Khz = \"/gpfs/bbp.cscs.ch/project/proj85/scratch/laquitai/4_preprint_2023/analysis/sorting_quality/models/cebra/sf_20Khz/\"\n",
    "MODEL_PATH_20Khz_e2e_pm1 = \"/gpfs/bbp.cscs.ch/project/proj85/scratch/laquitai/4_preprint_2023/analysis/sorting_quality/models/cebra/sf_20Khz/e2e_pm1/\"\n",
    "MODEL_PATH_20Khz_s2e_pm1 = \"/gpfs/bbp.cscs.ch/project/proj85/scratch/laquitai/4_preprint_2023/analysis/sorting_quality/models/cebra/sf_20Khz/s2e_pm1/\"\n",
    "MODEL_PATH_20Khz_e2s_pm1 = \"/gpfs/bbp.cscs.ch/project/proj85/scratch/laquitai/4_preprint_2023/analysis/sorting_quality/models/cebra/sf_20Khz/e2s_pm1/\"\n",
    "MODEL_PATH_20Khz_e2s_pm2 = \"/gpfs/bbp.cscs.ch/project/proj85/scratch/laquitai/4_preprint_2023/analysis/sorting_quality/models/cebra/sf_20Khz/e2s_pm2/\"\n",
    "MODEL_PATH_20Khz_e2s_pm3 = \"/gpfs/bbp.cscs.ch/project/proj85/scratch/laquitai/4_preprint_2023/analysis/sorting_quality/models/cebra/sf_20Khz/e2s_pm3/\"\n",
    "MODEL_PATH_20Khz_e2s_pm4 = \"/gpfs/bbp.cscs.ch/project/proj85/scratch/laquitai/4_preprint_2023/analysis/sorting_quality/models/cebra/sf_20Khz/e2s_pm4/\"\n",
    "MODEL_PATH_20Khz_e2s_pm5 = \"/gpfs/bbp.cscs.ch/project/proj85/scratch/laquitai/4_preprint_2023/analysis/sorting_quality/models/cebra/sf_20Khz/e2s_pm5/\"\n",
    "MODEL_PATH_20Khz_e2s_pm4_bal = \"/gpfs/bbp.cscs.ch/project/proj85/scratch/laquitai/4_preprint_2023/analysis/sorting_quality/models/cebra/sf_20Khz/e2s_pm4_bal/\"\n",
    "MODEL_PATH_20Khz_e2s_pm4_mixed_dataset = \"/gpfs/bbp.cscs.ch/project/proj85/scratch/laquitai/4_preprint_2023/analysis/sorting_quality/models/cebra/sf_20Khz/e2s_pm4_mixed_dataset/\"\n",
    "MODEL_PATH_20Khz_e2s_pm4_mixed_dataset_2dwave = \"/gpfs/bbp.cscs.ch/project/proj85/scratch/laquitai/4_preprint_2023/analysis/sorting_quality/models/cebra/sf_20Khz/e2s_pm4_mixed_dataset_2dwave/\"\n",
    "\n",
    "tight_layout_cfg = {\"pad\": 0.001}"
   ]
  },
  {
   "cell_type": "code",
   "execution_count": 2,
   "metadata": {},
   "outputs": [],
   "source": [
    "def get_waveformExtractor_for_single_units(\n",
    "    KS4_ne_10m, STUDY_ne, save_path: str, n_sites=384\n",
    "):\n",
    "\n",
    "    # get single units\n",
    "    SortingNe = si.load_extractor(KS4_ne_10m)\n",
    "    su_ix = np.where(SortingNe.get_property(\"KSLabel\") == \"good\")[0]\n",
    "    su_unit_ids = SortingNe.unit_ids[su_ix]\n",
    "\n",
    "    # load WaveformExtractor\n",
    "    WeNe = si.WaveformExtractor.load_from_folder(STUDY_ne)\n",
    "\n",
    "    # create waveformExtractor for single units\n",
    "    # which we will keep for all downstream analyses\n",
    "    # this should speed up computations\n",
    "    WeSuNe = WeNe.select_units(unit_ids=su_unit_ids, new_folder=save_path)\n",
    "\n",
    "    # setup two properties required to calculate some quality metrics\n",
    "    WeSuNe.recording.set_property(\"gain_to_uV\", np.ones((n_sites,)))\n",
    "    WeSuNe.recording.set_property(\"offset_to_uV\", np.zeros((n_sites,)))\n",
    "    return WeSuNe"
   ]
  },
  {
   "cell_type": "code",
   "execution_count": 6,
   "metadata": {},
   "outputs": [],
   "source": [
    "# (20s)get (and save) single units waveform extractor\n",
    "WeSuNe = get_waveformExtractor_for_single_units(\n",
    "    KS4_ne_10m, STUDY_ne, save_path=STUDY_ne_su, n_sites=384\n",
    ")"
   ]
  },
  {
   "cell_type": "code",
   "execution_count": 7,
   "metadata": {},
   "outputs": [
    {
     "data": {
      "application/vnd.jupyter.widget-view+json": {
       "model_id": "ed54a995999d48db9a6358ddfc5d3a38",
       "version_major": 2,
       "version_minor": 0
      },
      "text/plain": [
       "Fitting PCA:   0%|          | 0/408 [00:00<?, ?it/s]"
      ]
     },
     "metadata": {},
     "output_type": "display_data"
    }
   ],
   "source": [
    "# () compute pca\n",
    "pca = compute_principal_components(\n",
    "    waveform_extractor=WeSuNe,\n",
    "    n_components=5,\n",
    "    mode=\"by_channel_local\",\n",
    "    **job_kwargs,\n",
    ")"
   ]
  },
  {
   "cell_type": "code",
   "execution_count": null,
   "metadata": {},
   "outputs": [],
   "source": []
  },
  {
   "cell_type": "code",
   "execution_count": null,
   "metadata": {},
   "outputs": [],
   "source": []
  }
 ],
 "metadata": {
  "kernelspec": {
   "display_name": "stimrep",
   "language": "python",
   "name": "python3"
  },
  "language_info": {
   "codemirror_mode": {
    "name": "ipython",
    "version": 3
   },
   "file_extension": ".py",
   "mimetype": "text/x-python",
   "name": "python",
   "nbconvert_exporter": "python",
   "pygments_lexer": "ipython3",
   "version": "3.9.7"
  }
 },
 "nbformat": 4,
 "nbformat_minor": 2
}
