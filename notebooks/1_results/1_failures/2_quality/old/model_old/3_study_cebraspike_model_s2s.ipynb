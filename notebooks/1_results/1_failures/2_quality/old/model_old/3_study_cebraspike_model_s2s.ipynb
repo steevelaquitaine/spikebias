{
 "cells": [
  {
   "cell_type": "markdown",
   "metadata": {},
   "source": [
    "# Study CebraSpike"
   ]
  },
  {
   "cell_type": "code",
   "execution_count": 12,
   "metadata": {},
   "outputs": [
    {
     "name": "stdout",
     "output_type": "stream",
     "text": [
      "The autoreload extension is already loaded. To reload it, use:\n",
      "  %reload_ext autoreload\n",
      "2024-09-20 19:03:02,155 - root - utils.py - get_config - INFO - Reading experiment config.\n",
      "2024-09-20 19:03:02,210 - root - utils.py - get_config - INFO - Reading experiment config. - done\n",
      "2024-09-20 19:03:02,211 - root - utils.py - get_config - INFO - Reading experiment config.\n",
      "2024-09-20 19:03:02,252 - root - utils.py - get_config - INFO - Reading experiment config. - done\n"
     ]
    }
   ],
   "source": [
    "%load_ext autoreload\n",
    "%autoreload 2\n",
    "import os\n",
    "import torch\n",
    "import numpy as np\n",
    "from matplotlib import pyplot as plt\n",
    "import cebra\n",
    "\n",
    "# set project path\n",
    "proj_path = \"/gpfs/bbp.cscs.ch/project/proj85/home/laquitai/spikebias/\"\n",
    "os.chdir(proj_path)\n",
    "\n",
    "from src.nodes.utils import get_config\n",
    "from src.nodes.models.Flc import dataloader as flc_dataloader\n",
    "from src.nodes.models.CebraSpike import dataloader as cs_dataloader\n",
    "from src.nodes.models.Flc.models import FlcModel # FLC model\n",
    "from src.nodes.models.CebraSpike.models import CebraSpike # FLC model\n",
    "from src.nodes import utils \n",
    "\n",
    "# npx spont. biophy.\n",
    "cfg_ns, _ = get_config(\"silico_neuropixels\", \"concatenated\").values()\n",
    "KS4_ns_10m = cfg_ns[\"sorting\"][\"sorters\"][\"kilosort4\"][\"10m\"][\n",
    "    \"output\"\n",
    "]  # sorting with KS4\n",
    "GT_ns_10m = cfg_ns[\"sorting\"][\"simulation\"][\"ground_truth\"][\"10m\"][\"output\"] # KS4 sorting\n",
    "STUDY_ns = cfg_ns[\"postprocessing\"][\"waveform\"][\"sorted\"][\"study\"][\"kilosort4\"][\n",
    "    \"10m\"\n",
    "]  # WaveformExtractor\n",
    "STUDY_ns_su = '/gpfs/bbp.cscs.ch/project/proj85/scratch/laquitai/preprint_2024/0_silico/neuropixels/concatenated_campaigns/postpro/realism/spike/sorted/study_ks4_10m_single_units'\n",
    "\n",
    "# npx evoked biophy.\n",
    "cfg_ne, _ = get_config(\"silico_neuropixels\", \"stimulus\").values()\n",
    "KS4_ne_10m = cfg_ne[\"sorting\"][\"sorters\"][\"kilosort4\"][\"10m\"][\"output\"]\n",
    "GT_ne_10m = cfg_ne[\"sorting\"][\"simulation\"][\"ground_truth\"][\"10m\"][\"output\"]\n",
    "STUDY_ne = cfg_ne[\"postprocessing\"][\"waveform\"][\"sorted\"][\"study\"][\"kilosort4\"][\n",
    "    \"10m\"\n",
    "]  # WaveformExtractor\n",
    "STUDY_ne_su = '/gpfs/bbp.cscs.ch/project/proj85/scratch/laquitai/preprint_2024/0_silico/4_spikesorting_stimulus_test_neuropixels_8-1-24__8slc_80f_360r_50t_200ms_1_smallest_fiber_gids/0fcb7709-b1e9-4d84-b056-5801f20d55af/postpro/realism/spike/sorted/study_ks4_10m_single_units'\n",
    "\n",
    "\n",
    "# PATHS\n",
    "\n",
    "# pre-computed sorted unit quality\n",
    "quality_path = \"/gpfs/bbp.cscs.ch/project/proj85/scratch/laquitai/preprint_2024/analysis/sorting_quality/sorting_quality.csv\"\n",
    "\n",
    "# model save path\n",
    "cs_model_path = \"/gpfs/bbp.cscs.ch/project/proj85/scratch/laquitai/preprint_2024/analysis/sorting_quality/models/cebra/sf_40Khz/crossval_data\"\n",
    "\n",
    "\n",
    "# axes\n",
    "plt.rcParams[\"font.family\"] = \"Arial\"\n",
    "plt.rcParams[\"font.size\"] = 6  # 5-7 with Nature neuroscience as reference\n",
    "plt.rcParams[\"lines.linewidth\"] = 0.5 # typically between 0.5 and 1\n",
    "plt.rcParams[\"axes.linewidth\"] = 0.5 #1\n",
    "plt.rcParams[\"axes.spines.top\"] = False\n",
    "plt.rcParams[\"xtick.major.width\"] = 0.5 #0.8 #* 1.3\n",
    "plt.rcParams[\"xtick.minor.width\"] = 0.5 #0.8 #* 1.3\n",
    "plt.rcParams[\"ytick.major.width\"] = 0.5 #0.8 #* 1.3\n",
    "plt.rcParams[\"ytick.minor.width\"] = 0.5 #0.8 #* 1.3\n",
    "plt.rcParams[\"xtick.major.size\"] = 3.5 * 1.1\n",
    "plt.rcParams[\"xtick.minor.size\"] = 2 * 1.1\n",
    "plt.rcParams[\"ytick.major.size\"] = 3.5 * 1.1\n",
    "plt.rcParams[\"ytick.minor.size\"] = 2 * 1.1\n",
    "# legend\n",
    "legend_cfg = {\"frameon\": False, \"handletextpad\": 0.5}\n",
    "tight_layout_cfg = {\"pad\": 0.001}\n",
    "LG_FRAMEON = False              # no legend frame"
   ]
  },
  {
   "cell_type": "markdown",
   "metadata": {},
   "source": [
    "## Specs"
   ]
  },
  {
   "cell_type": "code",
   "execution_count": 2,
   "metadata": {},
   "outputs": [
    {
     "name": "stdout",
     "output_type": "stream",
     "text": [
      "__CUDNN VERSION: 90100\n",
      "__Number CUDA Devices: 4\n",
      "__CUDA Device Name: Tesla V100-SXM2-16GB\n",
      "__CUDA Device Total Memory [GB]: 16.935419904\n"
     ]
    }
   ],
   "source": [
    "# check for GPU\n",
    "use_cuda = torch.cuda.is_available()\n",
    "if use_cuda:\n",
    "    print(\"__CUDNN VERSION:\", torch.backends.cudnn.version())\n",
    "    print(\"__Number CUDA Devices:\", torch.cuda.device_count())\n",
    "    print(\"__CUDA Device Name:\", torch.cuda.get_device_name(0))\n",
    "    print(\n",
    "        \"__CUDA Device Total Memory [GB]:\",\n",
    "        torch.cuda.get_device_properties(0).total_memory / 1e9,\n",
    "    )"
   ]
  },
  {
   "cell_type": "markdown",
   "metadata": {},
   "source": [
    "## (28m)Evaluate\n",
    "\n",
    "* load model takes 2 minutes"
   ]
  },
  {
   "cell_type": "code",
   "execution_count": 10,
   "metadata": {},
   "outputs": [
    {
     "name": "stdout",
     "output_type": "stream",
     "text": [
      "2024-09-20 18:30:12,074 - root - dataloader.py - load_dataset - INFO - Starting loading dataset..\n",
      "2024-09-20 18:30:12,076 - root - dataloader.py - load_dataset - INFO - Computing sorted unit quality metrics..\n"
     ]
    },
    {
     "name": "stderr",
     "output_type": "stream",
     "text": [
      "/gpfs/bbp.cscs.ch/project/proj85/scratch/laquitai/preprint_2024/envs/cebraspike3/lib/python3.9/site-packages/numpy/core/_methods.py:206: RuntimeWarning: Degrees of freedom <= 0 for slice\n",
      "  ret = _var(a, axis=axis, dtype=dtype, out=out, ddof=ddof,\n",
      "/gpfs/bbp.cscs.ch/project/proj85/scratch/laquitai/preprint_2024/envs/cebraspike3/lib/python3.9/site-packages/numpy/core/_methods.py:163: RuntimeWarning: invalid value encountered in divide\n",
      "  arrmean = um.true_divide(arrmean, div, out=arrmean,\n",
      "/gpfs/bbp.cscs.ch/project/proj85/scratch/laquitai/preprint_2024/envs/cebraspike3/lib/python3.9/site-packages/numpy/core/_methods.py:198: RuntimeWarning: invalid value encountered in scalar divide\n",
      "  ret = ret.dtype.type(ret / rcount)\n",
      "/gpfs/bbp.cscs.ch/project/proj85/scratch/laquitai/preprint_2024/envs/cebraspike3/lib/python3.9/site-packages/sklearn/base.py:376: InconsistentVersionWarning: Trying to unpickle estimator IncrementalPCA from version 1.4.2 when using version 1.5.2. This might lead to breaking code or invalid results. Use at your own risk. For more info please refer to:\n",
      "https://scikit-learn.org/stable/model_persistence.html#security-maintainability-limitations\n",
      "  warnings.warn(\n"
     ]
    },
    {
     "data": {
      "application/vnd.jupyter.widget-view+json": {
       "model_id": "fdac4a94007d4f839b4219a8e11e78af",
       "version_major": 2,
       "version_minor": 0
      },
      "text/plain": [
       "  0%|          | 0/184 [00:00<?, ?it/s]"
      ]
     },
     "metadata": {},
     "output_type": "display_data"
    },
    {
     "name": "stdout",
     "output_type": "stream",
     "text": [
      "****************** Analysing data completion ***************\n",
      "quality metrics are: Index(['amplitude_cutoff', 'firing_range', 'firing_rate',\n",
      "       'isi_violations_ratio', 'presence_ratio', 'rp_contamination',\n",
      "       'rp_violations', 'sd_ratio', 'snr', 'silhouette', 'mad_ratio'],\n",
      "      dtype='object')\n",
      "Data completion: amplitude_cutoff        184\n",
      "firing_range            184\n",
      "firing_rate             184\n",
      "isi_violations_ratio    184\n",
      "presence_ratio          184\n",
      "rp_contamination        184\n",
      "rp_violations           184\n",
      "sd_ratio                184\n",
      "snr                     184\n",
      "silhouette              182\n",
      "mad_ratio               184\n",
      "dtype: int64\n",
      "Dropping units with missing metrics...\n",
      "nb of units before curation: 184\n",
      "nb of units after curation: 182\n",
      "2024-09-20 18:30:58,887 - root - dataloader.py - load_dataset - INFO - Computed quality metrics\n",
      "Recording sampling frequency: 40000.0\n",
      "ex. dataset shape (L4): (26, 6000)\n",
      "ex. label shape (L4): (26,)\n",
      "\n",
      "unit sample size:\n",
      "\n",
      "L1:  1 units\n",
      "L23:  2 units\n",
      "L4:  26 units\n",
      "L5:  116 units\n",
      "L6:  39 units\n",
      "\n",
      "********** DATASET STATS **********:\n",
      "\n",
      "\n",
      "unit count:\n",
      "\n",
      "l1: 0\n",
      "l23: 1\n",
      "l4: 26\n",
      "l5: 116\n",
      "l6: 39\n"
     ]
    },
    {
     "name": "stderr",
     "output_type": "stream",
     "text": [
      "pos: -1.1003 neg:  9.2167 total:  8.1164 temperature:  0.9072: 100%|██████████| 100/100 [00:16<00:00,  5.97it/s]\n",
      "pos: -1.1014 neg:  9.2185 total:  8.1171 temperature:  0.9061: 100%|██████████| 100/100 [00:17<00:00,  5.79it/s]\n",
      "pos: -1.1010 neg:  9.2168 total:  8.1158 temperature:  0.9069: 100%|██████████| 100/100 [00:16<00:00,  5.97it/s]\n",
      "pos: -1.1002 neg:  9.2169 total:  8.1167 temperature:  0.9075: 100%|██████████| 100/100 [00:16<00:00,  5.98it/s]\n",
      "pos: -1.0967 neg:  9.2130 total:  8.1164 temperature:  0.9102: 100%|██████████| 100/100 [00:16<00:00,  6.01it/s]\n",
      "pos: -1.0967 neg:  9.2138 total:  8.1171 temperature:  0.9099: 100%|██████████| 100/100 [00:16<00:00,  6.00it/s]\n",
      "pos: -1.0896 neg:  9.2076 total:  8.1180 temperature:  0.9153: 100%|██████████| 100/100 [00:16<00:00,  6.00it/s]\n",
      "pos: -1.1023 neg:  9.2178 total:  8.1155 temperature:  0.9059: 100%|██████████| 100/100 [00:16<00:00,  5.96it/s]\n",
      "pos: -1.1019 neg:  9.2178 total:  8.1159 temperature:  0.9055: 100%|██████████| 100/100 [00:17<00:00,  5.74it/s]\n",
      "pos: -1.1003 neg:  9.2157 total:  8.1154 temperature:  0.9070: 100%|██████████| 100/100 [00:16<00:00,  5.92it/s]\n",
      "pos: -1.1003 neg:  9.2160 total:  8.1157 temperature:  0.9074: 100%|██████████| 100/100 [00:17<00:00,  5.84it/s]\n",
      "pos: -1.0939 neg:  9.2107 total:  8.1168 temperature:  0.9121: 100%|██████████| 100/100 [00:18<00:00,  5.54it/s]\n",
      "pos: -1.1024 neg:  9.2190 total:  8.1166 temperature:  0.9060: 100%|██████████| 100/100 [00:16<00:00,  6.01it/s]\n",
      "pos: -1.0996 neg:  9.2162 total:  8.1167 temperature:  0.9078: 100%|██████████| 100/100 [00:16<00:00,  6.00it/s]\n",
      "pos: -1.1041 neg:  9.2199 total:  8.1157 temperature:  0.9044: 100%|██████████| 100/100 [00:16<00:00,  6.01it/s]\n",
      "pos: -1.1014 neg:  9.2172 total:  8.1158 temperature:  0.9068: 100%|██████████| 100/100 [00:16<00:00,  6.01it/s]\n",
      "pos: -1.1019 neg:  9.2182 total:  8.1163 temperature:  0.9059: 100%|██████████| 100/100 [00:16<00:00,  6.01it/s]\n",
      "pos: -1.0908 neg:  9.2078 total:  8.1171 temperature:  0.9147: 100%|██████████| 100/100 [00:16<00:00,  5.95it/s]\n",
      "pos: -1.1014 neg:  9.2164 total:  8.1151 temperature:  0.9064: 100%|██████████| 100/100 [00:16<00:00,  6.01it/s]\n",
      "pos: -1.1003 neg:  9.2183 total:  8.1180 temperature:  0.9072: 100%|██████████| 100/100 [00:16<00:00,  6.00it/s]\n",
      "pos: -1.1001 neg:  9.2171 total:  8.1169 temperature:  0.9072: 100%|██████████| 100/100 [00:16<00:00,  6.01it/s]\n",
      "pos: -1.1010 neg:  9.2178 total:  8.1168 temperature:  0.9070: 100%|██████████| 100/100 [00:16<00:00,  6.01it/s]\n",
      "pos: -1.0987 neg:  9.2146 total:  8.1160 temperature:  0.9085: 100%|██████████| 100/100 [00:16<00:00,  6.01it/s]\n",
      "pos: -1.0988 neg:  9.2138 total:  8.1150 temperature:  0.9083: 100%|██████████| 100/100 [00:16<00:00,  5.98it/s]\n",
      "pos: -1.0982 neg:  9.2138 total:  8.1156 temperature:  0.9087: 100%|██████████| 100/100 [00:16<00:00,  6.00it/s]\n",
      "pos: -1.0999 neg:  9.2166 total:  8.1167 temperature:  0.9076: 100%|██████████| 100/100 [00:16<00:00,  6.00it/s]\n",
      "pos: -1.1014 neg:  9.2161 total:  8.1147 temperature:  0.9066: 100%|██████████| 100/100 [00:16<00:00,  6.01it/s]\n",
      "pos: -1.1012 neg:  9.2197 total:  8.1184 temperature:  0.9066: 100%|██████████| 100/100 [00:16<00:00,  6.01it/s]\n",
      "pos: -1.1020 neg:  9.2160 total:  8.1140 temperature:  0.9061: 100%|██████████| 100/100 [00:16<00:00,  6.01it/s]\n",
      "pos: -1.0817 neg:  9.2023 total:  8.1205 temperature:  0.9220: 100%|██████████| 100/100 [00:16<00:00,  6.01it/s]\n",
      "pos: -1.1007 neg:  9.2164 total:  8.1157 temperature:  0.9066: 100%|██████████| 100/100 [00:16<00:00,  6.00it/s]\n",
      "pos: -1.0992 neg:  9.2151 total:  8.1159 temperature:  0.9079: 100%|██████████| 100/100 [00:16<00:00,  5.99it/s]\n",
      "pos: -1.1029 neg:  9.2182 total:  8.1153 temperature:  0.9054: 100%|██████████| 100/100 [00:16<00:00,  6.01it/s]\n",
      "pos: -1.0924 neg:  9.2095 total:  8.1171 temperature:  0.9129: 100%|██████████| 100/100 [00:16<00:00,  6.00it/s]\n",
      "pos: -1.0920 neg:  9.2083 total:  8.1163 temperature:  0.9137: 100%|██████████| 100/100 [00:16<00:00,  5.99it/s]\n",
      "pos: -1.1003 neg:  9.2159 total:  8.1156 temperature:  0.9074: 100%|██████████| 100/100 [00:16<00:00,  6.00it/s]\n",
      "pos: -1.0974 neg:  9.2150 total:  8.1175 temperature:  0.9093: 100%|██████████| 100/100 [00:16<00:00,  5.99it/s]\n",
      "pos: -1.1032 neg:  9.2197 total:  8.1165 temperature:  0.9049: 100%|██████████| 100/100 [00:16<00:00,  5.99it/s]\n",
      "pos: -1.1046 neg:  9.2187 total:  8.1141 temperature:  0.9041: 100%|██████████| 100/100 [00:16<00:00,  6.00it/s]\n",
      "pos: -1.1002 neg:  9.2159 total:  8.1158 temperature:  0.9073: 100%|██████████| 100/100 [00:16<00:00,  6.01it/s]\n",
      "pos: -1.1023 neg:  9.2178 total:  8.1156 temperature:  0.9058: 100%|██████████| 100/100 [00:16<00:00,  6.00it/s]\n",
      "pos: -1.0956 neg:  9.2123 total:  8.1166 temperature:  0.9106: 100%|██████████| 100/100 [00:16<00:00,  6.00it/s]\n",
      "pos: -1.0986 neg:  9.2151 total:  8.1166 temperature:  0.9083: 100%|██████████| 100/100 [00:16<00:00,  6.01it/s]\n",
      "pos: -1.1009 neg:  9.2160 total:  8.1151 temperature:  0.9073: 100%|██████████| 100/100 [00:16<00:00,  6.01it/s]\n",
      "pos: -1.0928 neg:  9.2102 total:  8.1174 temperature:  0.9124: 100%|██████████| 100/100 [00:16<00:00,  6.01it/s]\n",
      "pos: -1.1016 neg:  9.2179 total:  8.1163 temperature:  0.9062: 100%|██████████| 100/100 [00:16<00:00,  6.02it/s]\n",
      "pos: -1.1013 neg:  9.2175 total:  8.1162 temperature:  0.9068: 100%|██████████| 100/100 [00:16<00:00,  6.01it/s]\n",
      "pos: -1.0953 neg:  9.2112 total:  8.1160 temperature:  0.9107: 100%|██████████| 100/100 [00:16<00:00,  5.99it/s]\n",
      "pos: -1.1021 neg:  9.2161 total:  8.1140 temperature:  0.9063: 100%|██████████| 100/100 [00:16<00:00,  6.00it/s]\n",
      "pos: -1.1008 neg:  9.2173 total:  8.1165 temperature:  0.9071: 100%|██████████| 100/100 [00:16<00:00,  6.02it/s]\n",
      "pos: -1.1021 neg:  9.2179 total:  8.1159 temperature:  0.9061: 100%|██████████| 100/100 [00:16<00:00,  6.02it/s]\n",
      "pos: -1.0999 neg:  9.2151 total:  8.1153 temperature:  0.9075: 100%|██████████| 100/100 [00:16<00:00,  6.02it/s]\n",
      "pos: -1.1026 neg:  9.2195 total:  8.1169 temperature:  0.9049: 100%|██████████| 100/100 [00:16<00:00,  6.00it/s]\n",
      "pos: -1.1001 neg:  9.2153 total:  8.1152 temperature:  0.9074: 100%|██████████| 100/100 [00:16<00:00,  6.01it/s]\n",
      "pos: -1.1010 neg:  9.2163 total:  8.1153 temperature:  0.9069: 100%|██████████| 100/100 [00:16<00:00,  6.01it/s]\n",
      "pos: -1.0954 neg:  9.2131 total:  8.1177 temperature:  0.9110: 100%|██████████| 100/100 [00:16<00:00,  6.02it/s]\n",
      "pos: -1.1029 neg:  9.2177 total:  8.1148 temperature:  0.9053: 100%|██████████| 100/100 [00:16<00:00,  6.01it/s]\n",
      "pos: -1.0987 neg:  9.2156 total:  8.1169 temperature:  0.9080: 100%|██████████| 100/100 [00:16<00:00,  6.01it/s]\n",
      "pos: -1.1027 neg:  9.2181 total:  8.1154 temperature:  0.9058: 100%|██████████| 100/100 [00:16<00:00,  6.02it/s]\n",
      "pos: -1.1024 neg:  9.2172 total:  8.1148 temperature:  0.9055: 100%|██████████| 100/100 [00:16<00:00,  6.02it/s]\n",
      "pos: -1.0983 neg:  9.2138 total:  8.1155 temperature:  0.9085: 100%|██████████| 100/100 [00:16<00:00,  6.02it/s]\n",
      "pos: -1.1018 neg:  9.2167 total:  8.1149 temperature:  0.9057: 100%|██████████| 100/100 [00:16<00:00,  6.02it/s]\n",
      "pos: -1.1027 neg:  9.2175 total:  8.1148 temperature:  0.9055: 100%|██████████| 100/100 [00:16<00:00,  6.00it/s]\n",
      "pos: -1.0949 neg:  9.2126 total:  8.1177 temperature:  0.9116: 100%|██████████| 100/100 [00:16<00:00,  6.01it/s]\n",
      "pos: -1.0993 neg:  9.2155 total:  8.1162 temperature:  0.9079: 100%|██████████| 100/100 [00:16<00:00,  6.00it/s]\n",
      "pos: -1.0989 neg:  9.2151 total:  8.1162 temperature:  0.9079: 100%|██████████| 100/100 [00:16<00:00,  6.03it/s]\n",
      "pos: -1.1029 neg:  9.2175 total:  8.1146 temperature:  0.9052: 100%|██████████| 100/100 [00:16<00:00,  6.02it/s]\n",
      "pos: -1.0950 neg:  9.2119 total:  8.1169 temperature:  0.9111: 100%|██████████| 100/100 [00:16<00:00,  5.99it/s]\n",
      "pos: -1.1013 neg:  9.2181 total:  8.1168 temperature:  0.9067: 100%|██████████| 100/100 [00:16<00:00,  6.01it/s]\n",
      "pos: -1.0964 neg:  9.2126 total:  8.1162 temperature:  0.9096: 100%|██████████| 100/100 [00:16<00:00,  6.02it/s]\n",
      "pos: -1.1005 neg:  9.2161 total:  8.1156 temperature:  0.9075: 100%|██████████| 100/100 [00:16<00:00,  6.02it/s]\n",
      "pos: -1.0933 neg:  9.2100 total:  8.1167 temperature:  0.9126: 100%|██████████| 100/100 [00:16<00:00,  6.00it/s]\n",
      "pos: -1.1020 neg:  9.2173 total:  8.1153 temperature:  0.9064: 100%|██████████| 100/100 [00:16<00:00,  6.01it/s]\n",
      "pos: -1.0990 neg:  9.2158 total:  8.1168 temperature:  0.9084: 100%|██████████| 100/100 [00:16<00:00,  5.99it/s]\n",
      "pos: -1.1003 neg:  9.2162 total:  8.1159 temperature:  0.9071: 100%|██████████| 100/100 [00:16<00:00,  6.01it/s]\n",
      "pos: -1.0937 neg:  9.2104 total:  8.1168 temperature:  0.9123: 100%|██████████| 100/100 [00:16<00:00,  6.02it/s]\n",
      "pos: -1.1008 neg:  9.2154 total:  8.1147 temperature:  0.9073: 100%|██████████| 100/100 [00:16<00:00,  6.01it/s]\n",
      "pos: -1.1003 neg:  9.2168 total:  8.1164 temperature:  0.9070: 100%|██████████| 100/100 [00:16<00:00,  6.01it/s]\n",
      "pos: -1.1012 neg:  9.2143 total:  8.1131 temperature:  0.9066: 100%|██████████| 100/100 [00:16<00:00,  6.02it/s]\n",
      "pos: -1.0981 neg:  9.2141 total:  8.1160 temperature:  0.9086: 100%|██████████| 100/100 [00:16<00:00,  6.01it/s]\n",
      "pos: -1.0958 neg:  9.2133 total:  8.1174 temperature:  0.9107: 100%|██████████| 100/100 [00:16<00:00,  6.02it/s]\n",
      "pos: -1.0931 neg:  9.2100 total:  8.1169 temperature:  0.9121: 100%|██████████| 100/100 [00:16<00:00,  6.01it/s]\n",
      "pos: -1.0974 neg:  9.2141 total:  8.1167 temperature:  0.9096: 100%|██████████| 100/100 [00:16<00:00,  6.01it/s]\n",
      "pos: -1.1014 neg:  9.2178 total:  8.1164 temperature:  0.9061: 100%|██████████| 100/100 [00:16<00:00,  6.02it/s]\n",
      "pos: -1.1035 neg:  9.2188 total:  8.1153 temperature:  0.9048: 100%|██████████| 100/100 [00:16<00:00,  6.00it/s]\n",
      "pos: -1.0924 neg:  9.2095 total:  8.1172 temperature:  0.9131: 100%|██████████| 100/100 [00:16<00:00,  6.01it/s]\n",
      "pos: -1.1019 neg:  9.2165 total:  8.1146 temperature:  0.9063: 100%|██████████| 100/100 [00:16<00:00,  6.02it/s]\n",
      "pos: -1.0989 neg:  9.2140 total:  8.1151 temperature:  0.9077: 100%|██████████| 100/100 [00:16<00:00,  6.01it/s]\n",
      "pos: -1.1012 neg:  9.2171 total:  8.1159 temperature:  0.9067: 100%|██████████| 100/100 [00:16<00:00,  6.02it/s]\n",
      "pos: -1.0999 neg:  9.2160 total:  8.1161 temperature:  0.9078: 100%|██████████| 100/100 [00:16<00:00,  6.01it/s]\n",
      "pos: -1.0761 neg:  9.1975 total:  8.1215 temperature:  0.9269: 100%|██████████| 100/100 [00:16<00:00,  6.01it/s]\n",
      "pos: -1.1028 neg:  9.2182 total:  8.1154 temperature:  0.9053: 100%|██████████| 100/100 [00:16<00:00,  6.02it/s]\n",
      "pos: -1.1028 neg:  9.2180 total:  8.1152 temperature:  0.9056: 100%|██████████| 100/100 [00:16<00:00,  6.02it/s]\n",
      "pos: -1.1011 neg:  9.2156 total:  8.1145 temperature:  0.9071: 100%|██████████| 100/100 [00:16<00:00,  6.02it/s]\n",
      "pos: -1.0972 neg:  9.2145 total:  8.1172 temperature:  0.9097: 100%|██████████| 100/100 [00:16<00:00,  6.02it/s]\n",
      "pos: -1.1000 neg:  9.2146 total:  8.1146 temperature:  0.9080: 100%|██████████| 100/100 [00:16<00:00,  6.01it/s]\n",
      "pos: -1.0982 neg:  9.2152 total:  8.1171 temperature:  0.9088: 100%|██████████| 100/100 [00:16<00:00,  6.01it/s]\n",
      "pos: -1.1017 neg:  9.2169 total:  8.1152 temperature:  0.9060: 100%|██████████| 100/100 [00:16<00:00,  6.02it/s]\n",
      "pos: -1.0924 neg:  9.2095 total:  8.1171 temperature:  0.9133: 100%|██████████| 100/100 [00:16<00:00,  6.01it/s]\n",
      "pos: -1.0974 neg:  9.2135 total:  8.1161 temperature:  0.9092: 100%|██████████| 100/100 [00:16<00:00,  6.00it/s]\n"
     ]
    },
    {
     "data": {
      "text/plain": [
       "{'precision_median': 0.6172161172161172,\n",
       " 'precision_std': 0.13845072320134194,\n",
       " 'precision_ci95': 0.027136341747463023,\n",
       " 'recall_median': 0.7647058823529411,\n",
       " 'recall_std': 0.17970660440790723,\n",
       " 'recall_ci95': 0.035222494463949816}"
      ]
     },
     "metadata": {},
     "output_type": "display_data"
    }
   ],
   "source": [
    "# set parameters\n",
    "torch.manual_seed(0)  # ensure reproducibility\n",
    "\n",
    "# load the dataset formatted for the model\n",
    "data_cs = cs_dataloader.load_dataset(\n",
    "    qpath=quality_path,\n",
    "    sorting_path=KS4_ns_10m,\n",
    "    sortingtrue_path=GT_ns_10m,\n",
    "    study_path=STUDY_ns,\n",
    "    study_singleu_path=STUDY_ns_su,\n",
    "    exp=\"NS\",\n",
    "    sorter=\"KS4\",\n",
    "    n_site=384,\n",
    "    num_spikes=25,\n",
    "    interval_ms=3,\n",
    "    downsampling=1,\n",
    "    load_we_if_exists=True,\n",
    "    load_amp_if_exists=True,\n",
    "    load_qmetrics_if_exists=False,\n",
    ")\n",
    "\n",
    "# instantiate the model\n",
    "csmodel = CebraSpike(\n",
    "    cfg={\n",
    "        \"model_architecture\": \"offset10-model\",  # receptive field of size 10\n",
    "        \"distance\": \"cosine\",  # adapted to contrastive learning\n",
    "        \"batch_size\": data_cs[\"dataset\"][\"data\"].shape[1],  # full dataset\n",
    "        \"temperature_mode\": \"auto\",\n",
    "        \"learning_rate\": 0.001,\n",
    "        \"max_iterations\": 100,\n",
    "        \"conditional\": \"time_delta\",\n",
    "        \"time_offsets\": 10,  # 10 timesteps (should be >= size of receptve fields)\n",
    "        \"output_dimension\": 3,  # number of dimensions of the embedding\n",
    "        \"device\": \"cuda_if_available\",\n",
    "        \"verbose\": True,\n",
    "    }\n",
    ")\n",
    "\n",
    "# train and evaluate with cross-validation\n",
    "cs_results = csmodel.evaluate(\n",
    "    data_cs[\"dataset\"], cs_model_path, is_train=True, seeds=np.arange(0, 100, 1)\n",
    ")\n",
    "display(cs_results[\"metric_stats\"])"
   ]
  },
  {
   "cell_type": "markdown",
   "metadata": {},
   "source": [
    "## Plot losses\n",
    "\n",
    "* note: you can load the cross-validation data and models from \"cs_model_path\".\n",
    "* observations: loss do not converge for a few folds (2 or 3) for 50 iterations (14 mins duration)."
   ]
  },
  {
   "cell_type": "code",
   "execution_count": 18,
   "metadata": {},
   "outputs": [
    {
     "data": {
      "text/plain": [
       "array([0.        , 0.12384917, 0.16971683, 0.204064  , 0.23257162,\n",
       "       0.25739893, 0.2796393 , 0.29993598, 0.31870475, 0.3362325 ,\n",
       "       0.35272687, 0.36834383, 0.38320399, 0.39740285, 0.41101757,\n",
       "       0.42411148, 0.43673737, 0.44893975, 0.46075654, 0.47222038,\n",
       "       0.48335962, 0.494199  , 0.50476034, 0.51506293, 0.52512397,\n",
       "       0.53495884, 0.54458139, 0.55400411, 0.56323833, 0.57229435,\n",
       "       0.58118159, 0.58990866, 0.59848349, 0.60691337, 0.61520502,\n",
       "       0.6233647 , 0.63139817, 0.63931083, 0.64710767, 0.65479338,\n",
       "       0.66237233, 0.66984862, 0.67722609, 0.68450836, 0.69169882,\n",
       "       0.69880069, 0.70581699, 0.71275057, 0.71960414, 0.72638027,\n",
       "       0.73308138, 0.73970977, 0.74626765, 0.75275709, 0.75918008,\n",
       "       0.76553851, 0.77183419, 0.77806885, 0.78424412, 0.79036159,\n",
       "       0.79642276, 0.80242907, 0.80838191, 0.81428261, 0.82013244,\n",
       "       0.82593262, 0.83168433, 0.8373887 , 0.84304681, 0.84865972,\n",
       "       0.85422843, 0.85975391, 0.86523711, 0.87067892, 0.87608022,\n",
       "       0.88144185, 0.88676463, 0.89204934, 0.89729675, 0.90250759,\n",
       "       0.90768257, 0.91282239, 0.91792771, 0.92299918, 0.92803744,\n",
       "       0.93304308, 0.9380167 , 0.94295888, 0.94787016, 0.9527511 ,\n",
       "       0.95760222, 0.96242402, 0.96721701, 0.97198166, 0.97671845,\n",
       "       0.98142783, 0.98611025, 0.99076614, 0.99539592, 1.        ])"
      ]
     },
     "execution_count": 18,
     "metadata": {},
     "output_type": "execute_result"
    }
   ],
   "source": [
    "grays"
   ]
  },
  {
   "cell_type": "code",
   "execution_count": 27,
   "metadata": {},
   "outputs": [
    {
     "name": "stderr",
     "output_type": "stream",
     "text": [
      "/tmp/ipykernel_83360/144445885.py:15: UserWarning: No artists with labels found to put in legend.  Note that artists whose label start with an underscore are ignored when legend() is called with no argument.\n",
      "  ax.legend(bbox_to_anchor=(1, 1), frameon=False)\n"
     ]
    },
    {
     "data": {
      "image/png": "[encoded data removed]",
      "text/plain": [
       "<Figure size 110x100 with 1 Axes>"
      ]
     },
     "metadata": {},
     "output_type": "display_data"
    }
   ],
   "source": [
    "fig, ax = plt.subplots(1, 1, figsize=(1.1, 1))\n",
    "\n",
    "gamma = 2.2  # common value for gamma correction\n",
    "grays = np.linspace(0, 0.4, len(cs_results[\"metric_data\"])) ** (1 / gamma)\n",
    "\n",
    "\n",
    "for f_ix in range(len(cs_results[\"metric_data\"])):\n",
    "\n",
    "    # plot training convergence\n",
    "    ax = cebra.plot_loss(\n",
    "        cs_results[\"metric_data\"][f_ix][\"model\"][\"model\"], color=str(grays[f_ix]), ax=ax\n",
    "    )\n",
    "\n",
    "    # legend\n",
    "    ax.legend(bbox_to_anchor=(1, 1), frameon=False)\n",
    "    ax.set_title(\"Training loss, goodness of fit\")\n",
    "    ax.spines[[\"right\", \"top\"]].set_visible(False)\n",
    "    ax.set_xlabel(\"Iterations\")\n",
    "    ax.set_ylabel(\"InfoNCE\")\n",
    "\n",
    "    # disconnect axes (R style)\n",
    "    ax.spines[[\"right\", \"top\"]].set_visible(False)\n",
    "    ax.spines[\"bottom\"].set_position((\"axes\", -0.05))\n",
    "    ax.yaxis.set_ticks_position(\"left\")\n",
    "    ax.spines[\"left\"].set_position((\"axes\", -0.05))\n",
    "    ax.spines[\"right\"].set_visible(False)\n",
    "\n",
    "# save fig\n",
    "utils.savefig(\"figures/1_sorting_quality/cebraspike/assets/fig5E_loss_gof.svg\")"
   ]
  },
  {
   "cell_type": "code",
   "execution_count": null,
   "metadata": {},
   "outputs": [],
   "source": []
  }
 ],
 "metadata": {
  "kernelspec": {
   "display_name": "cebraspike3",
   "language": "python",
   "name": "python3"
  },
  "language_info": {
   "codemirror_mode": {
    "name": "ipython",
    "version": 3
   },
   "file_extension": ".py",
   "mimetype": "text/x-python",
   "name": "python",
   "nbconvert_exporter": "python",
   "pygments_lexer": "ipython3",
   "version": "3.9.7"
  }
 },
 "nbformat": 4,
 "nbformat_minor": 2
}
