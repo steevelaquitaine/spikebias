{
 "cells": [
  {
   "cell_type": "markdown",
   "metadata": {},
   "source": [
    "# Model selection (E)\n",
    "\n",
    "**method**:\n",
    "\n",
    "* 10 minutes of recording\n",
    "\n",
    "* TODO:\n",
    "    * evaluate training goodness of fit with loss functions plot\n",
    "    * identify best model with precision and recalls plot\n",
    "\n",
    "* TODO:\n",
    "    * use model object to make new predictions (e.g., on evoked dataset)"
   ]
  },
  {
   "cell_type": "markdown",
   "metadata": {},
   "source": [
    "### Setup\n",
    "\n",
    "setup cebraspike3 virtual environment."
   ]
  },
  {
   "cell_type": "code",
   "execution_count": 2,
   "metadata": {},
   "outputs": [],
   "source": [
    "%load_ext autoreload\n",
    "%autoreload 2\n",
    "import os\n",
    "import torch\n",
    "import numpy as np\n",
    "from matplotlib import pyplot as plt\n",
    "\n",
    "# set project path\n",
    "proj_path = \"/gpfs/bbp.cscs.ch/project/proj85/home/laquitai/spikebias/\"\n",
    "os.chdir(proj_path)\n",
    "\n",
    "from src.nodes.utils import get_config\n",
    "from src.nodes import utils \n",
    "from src.nodes.models.Flc import dataloader as flc_dataloader\n",
    "from src.nodes.models.CebraSpike import dataloader as cs_dataloader\n",
    "from src.nodes.models.Flc.models import FlcModel # FLC model\n",
    "from src.nodes.models.CebraSpike.models import CebraSpike # FLC model\n",
    "from src.nodes.models.CebraSpike import plotutils\n",
    "\n",
    "# npx spont. biophy.\n",
    "cfg_e, _ = get_config(\"silico_neuropixels\", \"stimulus\").values()\n",
    "KS4_e_10m = cfg_e[\"sorting\"][\"sorters\"][\"kilosort4\"][\"10m\"][\n",
    "    \"output\"\n",
    "]  # sorting with KS4\n",
    "GT_e_10m = cfg_e[\"sorting\"][\"simulation\"][\"ground_truth\"][\"10m\"][\"output\"] # KS4 sorting\n",
    "STUDY_e = cfg_e[\"postprocessing\"][\"waveform\"][\"sorted\"][\"study\"][\"kilosort4\"][\n",
    "    \"10m\"\n",
    "]  # WaveformExtractor\n",
    "STUDY_e_su = '/gpfs/bbp.cscs.ch/project/proj85/scratch/laquitai/4_preprint_2023/0_silico/4_spikesorting_stimulus_test_neuropixels_8-1-24__8slc_80f_360r_50t_200ms_1_smallest_fiber_gids/0fcb7709-b1e9-4d84-b056-5801f20d55af/postpro/realism/spike/sorted/study_ks4_10m_single_units'\n",
    "\n",
    "# PATHS\n",
    "# pre-computed sorted unit quality\n",
    "quality_path = \"/gpfs/bbp.cscs.ch/project/proj85/scratch/laquitai/4_preprint_2023/analysis/sorting_quality/sorting_quality.csv\"\n",
    "\n",
    "# model save path\n",
    "flc_model_path = \"/gpfs/bbp.cscs.ch/project/proj85/scratch/laquitai/4_preprint_2023/analysis/sorting_quality/models/evoked/flc/crossval_data\"\n",
    "cs_model_path = \"/gpfs/bbp.cscs.ch/project/proj85/scratch/laquitai/4_preprint_2023/analysis/sorting_quality/models/evoked/cebra/crossval_data\"\n",
    "\n",
    "# axes\n",
    "plt.rcParams[\"font.family\"] = \"Arial\"\n",
    "plt.rcParams[\"font.size\"] = 6  # 5-7 with Nature neuroscience as reference\n",
    "plt.rcParams[\"lines.linewidth\"] = 0.5 # typically between 0.5 and 1\n",
    "plt.rcParams[\"axes.linewidth\"] = 0.5 #1\n",
    "plt.rcParams[\"axes.spines.top\"] = False\n",
    "plt.rcParams[\"xtick.major.width\"] = 0.5 #0.8 #* 1.3\n",
    "plt.rcParams[\"xtick.minor.width\"] = 0.5 #0.8 #* 1.3\n",
    "plt.rcParams[\"ytick.major.width\"] = 0.5 #0.8 #* 1.3\n",
    "plt.rcParams[\"ytick.minor.width\"] = 0.5 #0.8 #* 1.3\n",
    "plt.rcParams[\"xtick.major.size\"] = 3.5 * 1.1\n",
    "plt.rcParams[\"xtick.minor.size\"] = 2 * 1.1\n",
    "plt.rcParams[\"ytick.major.size\"] = 3.5 * 1.1\n",
    "plt.rcParams[\"ytick.minor.size\"] = 2 * 1.1\n",
    "# legend\n",
    "legend_cfg = {\"frameon\": False, \"handletextpad\": 0.5}\n",
    "tight_layout_cfg = {\"pad\": 0.001}\n",
    "LG_FRAMEON = False              # no legend frame"
   ]
  },
  {
   "cell_type": "markdown",
   "metadata": {},
   "source": [
    "## Specs"
   ]
  },
  {
   "cell_type": "code",
   "execution_count": null,
   "metadata": {},
   "outputs": [
    {
     "name": "stdout",
     "output_type": "stream",
     "text": [
      "__CUDNN VERSION: 90100\n",
      "__Number CUDA Devices: 4\n",
      "__CUDA Device Name: Tesla V100-SXM2-16GB\n",
      "__CUDA Device Total Memory [GB]: 16.935419904\n"
     ]
    }
   ],
   "source": [
    "# check for GPU\n",
    "use_cuda = torch.cuda.is_available()\n",
    "if use_cuda:\n",
    "    print(\"__CUDNN VERSION:\", torch.backends.cudnn.version())\n",
    "    print(\"__Number CUDA Devices:\", torch.cuda.device_count())\n",
    "    print(\"__CUDA Device Name:\", torch.cuda.get_device_name(0))\n",
    "    print(\n",
    "        \"__CUDA Device Total Memory [GB]:\",\n",
    "        torch.cuda.get_device_properties(0).total_memory / 1e9,\n",
    "    )"
   ]
  },
  {
   "cell_type": "markdown",
   "metadata": {},
   "source": [
    "## (1m) FLC model \n",
    "\n",
    "* dataset:\n",
    "    * 182 units: they need to have all their metrics (discard those with missing metrics (np.nan) to be included\n",
    "    * 10 metrics: amplitude_cutoff', 'firing_range', 'firing_rate',\n",
    "       'isi_violations_ratio', 'presence_ratio', 'rp_contamination',\n",
    "       'rp_violations', 'sd_ratio', 'snr', 'silhouette, 'mad_ratio'\n",
    "* evaluation:\n",
    "    * 75/25 cross-validation scheme with 100 seeds"
   ]
  },
  {
   "cell_type": "code",
   "execution_count": null,
   "metadata": {},
   "outputs": [
    {
     "ename": "NameError",
     "evalue": "name 'flc_dataloader' is not defined",
     "output_type": "error",
     "traceback": [
      "\u001b[0;31m---------------------------------------------------------------------------\u001b[0m",
      "\u001b[0;31mNameError\u001b[0m                                 Traceback (most recent call last)",
      "Cell \u001b[0;32mIn[1], line 2\u001b[0m\n\u001b[1;32m      1\u001b[0m \u001b[38;5;66;03m# load the dataset formatted for the model\u001b[39;00m\n\u001b[0;32m----> 2\u001b[0m data_flc \u001b[38;5;241m=\u001b[39m \u001b[43mflc_dataloader\u001b[49m\u001b[38;5;241m.\u001b[39mload_dataset(\n\u001b[1;32m      3\u001b[0m     quality_path, \u001b[38;5;124m\"\u001b[39m\u001b[38;5;124mE\u001b[39m\u001b[38;5;124m\"\u001b[39m, \u001b[38;5;124m\"\u001b[39m\u001b[38;5;124mKS4\u001b[39m\u001b[38;5;124m\"\u001b[39m, KS4_e_10m, STUDY_e, STUDY_e_su, GT_e_10m\n\u001b[1;32m      4\u001b[0m )\n\u001b[1;32m      6\u001b[0m \u001b[38;5;66;03m# instantiate the model\u001b[39;00m\n\u001b[1;32m      7\u001b[0m flcmodel \u001b[38;5;241m=\u001b[39m FlcModel(data_flc[\u001b[38;5;124m\"\u001b[39m\u001b[38;5;124mpredictors\u001b[39m\u001b[38;5;124m\"\u001b[39m])\n",
      "\u001b[0;31mNameError\u001b[0m: name 'flc_dataloader' is not defined"
     ]
    }
   ],
   "source": [
    "# load the dataset formatted for the model\n",
    "data_flc = flc_dataloader.load_dataset(\n",
    "    quality_path, \"E\", \"KS4\", KS4_e_10m, STUDY_e, STUDY_e_su, GT_e_10m\n",
    ")\n",
    "\n",
    "# instantiate the model\n",
    "flcmodel = FlcModel(data_flc[\"predictors\"])\n",
    "\n",
    "# train and evaluate with cross-validation\n",
    "flc_results = flcmodel.evaluate(\n",
    "    data_flc[\"dataset\"], seeds=np.arange(0, 100, 1), scale_data=False\n",
    ")\n",
    "display(flc_results[\"metric_stats\"])"
   ]
  },
  {
   "cell_type": "markdown",
   "metadata": {},
   "source": [
    "## (12m)CebraSpike model\n",
    "\n",
    "* the model needs at least 40 iterations for convergence (takes 11 minutes for 100 seeds)\n",
    "* Dataset:\n",
    "    * units need to have at least 25 spikes during the 10 minutes of recording (0.016 sp/s)\n",
    "    * units need to have all their metrics (discard those with missing metrics (np.nan))\n",
    "* Note: you might encounter CUDA memory issue. Restart the kernel."
   ]
  },
  {
   "cell_type": "code",
   "execution_count": 4,
   "metadata": {},
   "outputs": [
    {
     "name": "stdout",
     "output_type": "stream",
     "text": [
      "2024-10-03 19:29:36,444 - root - dataloader.py - load_dataset - INFO - Starting loading dataset..\n",
      "2024-10-03 19:29:36,445 - root - dataloader.py - load_dataset - INFO - Computing sorted unit quality metrics..\n"
     ]
    },
    {
     "name": "stderr",
     "output_type": "stream",
     "text": [
      "/gpfs/bbp.cscs.ch/project/proj85/scratch/laquitai/4_preprint_2023/envs/cebraspike3/lib/python3.9/site-packages/numpy/core/_methods.py:206: RuntimeWarning: Degrees of freedom <= 0 for slice\n",
      "  ret = _var(a, axis=axis, dtype=dtype, out=out, ddof=ddof,\n",
      "/gpfs/bbp.cscs.ch/project/proj85/scratch/laquitai/4_preprint_2023/envs/cebraspike3/lib/python3.9/site-packages/numpy/core/_methods.py:163: RuntimeWarning: invalid value encountered in divide\n",
      "  arrmean = um.true_divide(arrmean, div, out=arrmean,\n",
      "/gpfs/bbp.cscs.ch/project/proj85/scratch/laquitai/4_preprint_2023/envs/cebraspike3/lib/python3.9/site-packages/numpy/core/_methods.py:198: RuntimeWarning: invalid value encountered in divide\n",
      "  ret = ret.dtype.type(ret / rcount)\n",
      "/gpfs/bbp.cscs.ch/project/proj85/scratch/laquitai/4_preprint_2023/envs/cebraspike3/lib/python3.9/site-packages/spikeinterface/qualitymetrics/misc_metrics.py:235: RuntimeWarning: divide by zero encountered in scalar divide\n",
      "  snrs[unit_id] = np.abs(amplitude) / noise\n",
      "/gpfs/bbp.cscs.ch/project/proj85/scratch/laquitai/4_preprint_2023/envs/cebraspike3/lib/python3.9/site-packages/sklearn/base.py:376: InconsistentVersionWarning: Trying to unpickle estimator IncrementalPCA from version 1.4.2 when using version 1.5.2. This might lead to breaking code or invalid results. Use at your own risk. For more info please refer to:\n",
      "https://scikit-learn.org/stable/model_persistence.html#security-maintainability-limitations\n",
      "  warnings.warn(\n"
     ]
    },
    {
     "data": {
      "application/vnd.jupyter.widget-view+json": {
       "model_id": "d3981ee01a394d35ab4899fc1b435666",
       "version_major": 2,
       "version_minor": 0
      },
      "text/plain": [
       "  0%|          | 0/408 [00:00<?, ?it/s]"
      ]
     },
     "metadata": {},
     "output_type": "display_data"
    },
    {
     "name": "stdout",
     "output_type": "stream",
     "text": [
      "****************** Analysing data completion ***************\n",
      "quality metrics are: Index(['amplitude_cutoff', 'firing_range', 'firing_rate',\n",
      "       'isi_violations_ratio', 'presence_ratio', 'rp_contamination',\n",
      "       'rp_violations', 'sd_ratio', 'snr', 'silhouette', 'mad_ratio'],\n",
      "      dtype='object')\n",
      "Data completion: amplitude_cutoff        408\n",
      "firing_range            408\n",
      "firing_rate             408\n",
      "isi_violations_ratio    408\n",
      "presence_ratio          408\n",
      "rp_contamination        408\n",
      "rp_violations           408\n",
      "sd_ratio                408\n",
      "snr                     408\n",
      "silhouette              407\n",
      "mad_ratio               408\n",
      "dtype: int64\n",
      "Dropping units with missing metrics...\n",
      "nb of units before curation: 408\n",
      "nb of units after curation: 407\n",
      "2024-10-03 19:35:23,650 - root - dataloader.py - load_dataset - INFO - Computed quality metrics\n",
      "Recording sampling frequency: 20000.0\n",
      "ex. dataset shape (L4): (36, 3000)\n",
      "ex. label shape (L4): (36,)\n",
      "\n",
      "unit sample size:\n",
      "\n",
      "L1:  0 units\n",
      "L23:  7 units\n",
      "L4:  36 units\n",
      "L5:  300 units\n",
      "L6:  64 units\n",
      "\n",
      "********** DATASET STATS **********:\n",
      "\n",
      "\n",
      "unit count:\n",
      "\n",
      "l1: 0\n",
      "l23: 6\n",
      "l4: 36\n",
      "l5: 300\n",
      "l6: 64\n"
     ]
    },
    {
     "name": "stderr",
     "output_type": "stream",
     "text": [
      "pos: -1.0291 neg:  8.5715 total:  7.5424 temperature:  0.9651: 100%|██████████| 40/40 [00:08<00:00,  4.65it/s]\n",
      "pos: -1.0323 neg:  8.5777 total:  7.5454 temperature:  0.9636: 100%|██████████| 40/40 [00:01<00:00, 21.42it/s]\n",
      "pos: -1.0254 neg:  8.5751 total:  7.5496 temperature:  0.9679: 100%|██████████| 40/40 [00:01<00:00, 21.36it/s]\n",
      "pos: -0.9993 neg:  8.5681 total:  7.5688 temperature:  0.9846: 100%|██████████| 40/40 [00:01<00:00, 21.49it/s]\n",
      "pos: -1.0326 neg:  8.5904 total:  7.5578 temperature:  0.9640: 100%|██████████| 40/40 [00:01<00:00, 21.36it/s]\n",
      "pos: -1.0206 neg:  8.5758 total:  7.5552 temperature:  0.9731: 100%|██████████| 40/40 [00:01<00:00, 21.45it/s]\n",
      "pos: -1.0320 neg:  8.5893 total:  7.5573 temperature:  0.9633: 100%|██████████| 40/40 [00:01<00:00, 21.46it/s]\n",
      "pos: -0.8868 neg:  8.6151 total:  7.7283 temperature:  0.9971: 100%|██████████| 40/40 [00:01<00:00, 21.53it/s]\n",
      "pos: -1.0273 neg:  8.5723 total:  7.5450 temperature:  0.9675: 100%|██████████| 40/40 [00:01<00:00, 21.46it/s]\n",
      "pos: -1.0080 neg:  8.5752 total:  7.5672 temperature:  0.9816: 100%|██████████| 40/40 [00:01<00:00, 21.46it/s]\n",
      "pos: -1.0226 neg:  8.5845 total:  7.5619 temperature:  0.9701: 100%|██████████| 40/40 [00:01<00:00, 21.53it/s]\n",
      "pos: -1.0280 neg:  8.5738 total:  7.5458 temperature:  0.9659: 100%|██████████| 40/40 [00:01<00:00, 21.47it/s]\n",
      "pos: -1.0170 neg:  8.5725 total:  7.5555 temperature:  0.9723: 100%|██████████| 40/40 [00:01<00:00, 21.50it/s]\n",
      "pos: -1.0184 neg:  8.5663 total:  7.5478 temperature:  0.9739: 100%|██████████| 40/40 [00:01<00:00, 21.55it/s]\n",
      "pos: -1.0325 neg:  8.5883 total:  7.5557 temperature:  0.9636: 100%|██████████| 40/40 [00:01<00:00, 21.52it/s]\n",
      "pos: -1.0317 neg:  8.5852 total:  7.5536 temperature:  0.9646: 100%|██████████| 40/40 [00:01<00:00, 21.54it/s]\n",
      "pos: -1.0321 neg:  8.5858 total:  7.5537 temperature:  0.9641: 100%|██████████| 40/40 [00:01<00:00, 21.26it/s]\n",
      "pos: -0.9973 neg:  8.5526 total:  7.5553 temperature:  0.9877: 100%|██████████| 40/40 [00:01<00:00, 21.49it/s]\n",
      "pos: -1.0275 neg:  8.5784 total:  7.5509 temperature:  0.9674: 100%|██████████| 40/40 [00:01<00:00, 21.46it/s]\n",
      "pos: -1.0240 neg:  8.5767 total:  7.5527 temperature:  0.9709: 100%|██████████| 40/40 [00:01<00:00, 21.51it/s]\n",
      "pos: -1.0310 neg:  8.5786 total:  7.5476 temperature:  0.9639: 100%|██████████| 40/40 [00:01<00:00, 21.48it/s]\n",
      "pos: -1.0333 neg:  8.5750 total:  7.5417 temperature:  0.9630: 100%|██████████| 40/40 [00:01<00:00, 21.52it/s]\n",
      "pos: -1.0318 neg:  8.5812 total:  7.5494 temperature:  0.9642: 100%|██████████| 40/40 [00:01<00:00, 21.49it/s]\n",
      "pos: -1.0312 neg:  8.5741 total:  7.5429 temperature:  0.9649: 100%|██████████| 40/40 [00:01<00:00, 21.51it/s]\n",
      "pos: -1.0343 neg:  8.5857 total:  7.5515 temperature:  0.9626: 100%|██████████| 40/40 [00:01<00:00, 21.45it/s]\n",
      "pos: -1.0268 neg:  8.5683 total:  7.5415 temperature:  0.9673: 100%|██████████| 40/40 [00:01<00:00, 21.46it/s]\n",
      "pos: -1.0275 neg:  8.5814 total:  7.5539 temperature:  0.9672: 100%|██████████| 40/40 [00:01<00:00, 21.49it/s]\n",
      "pos: -1.0314 neg:  8.5799 total:  7.5485 temperature:  0.9649: 100%|██████████| 40/40 [00:01<00:00, 21.50it/s]\n",
      "pos: -1.0163 neg:  8.5586 total:  7.5423 temperature:  0.9752: 100%|██████████| 40/40 [00:01<00:00, 21.46it/s]\n",
      "pos: -1.0316 neg:  8.5721 total:  7.5405 temperature:  0.9649: 100%|██████████| 40/40 [00:01<00:00, 21.51it/s]\n",
      "pos: -1.0234 neg:  8.5773 total:  7.5538 temperature:  0.9704: 100%|██████████| 40/40 [00:01<00:00, 21.49it/s]\n",
      "pos: -1.0284 neg:  8.5811 total:  7.5528 temperature:  0.9665: 100%|██████████| 40/40 [00:01<00:00, 21.40it/s]\n",
      "pos: -1.0324 neg:  8.5880 total:  7.5556 temperature:  0.9636: 100%|██████████| 40/40 [00:01<00:00, 21.53it/s]\n",
      "pos: -0.9705 neg:  8.9756 total:  8.0051 temperature:  1.0090: 100%|██████████| 40/40 [00:01<00:00, 21.46it/s]\n",
      "pos: -1.0246 neg:  8.5803 total:  7.5558 temperature:  0.9706: 100%|██████████| 40/40 [00:01<00:00, 21.42it/s]\n",
      "pos: -1.0276 neg:  8.5717 total:  7.5441 temperature:  0.9674: 100%|██████████| 40/40 [00:01<00:00, 21.44it/s]\n",
      "pos: -1.0332 neg:  8.5791 total:  7.5459 temperature:  0.9627: 100%|██████████| 40/40 [00:01<00:00, 21.52it/s]\n",
      "pos: -1.0288 neg:  8.5789 total:  7.5500 temperature:  0.9663: 100%|██████████| 40/40 [00:01<00:00, 21.52it/s]\n",
      "pos: -1.0312 neg:  8.5881 total:  7.5570 temperature:  0.9635: 100%|██████████| 40/40 [00:01<00:00, 21.49it/s]\n",
      "pos: -1.0180 neg:  8.5653 total:  7.5473 temperature:  0.9702: 100%|██████████| 40/40 [00:01<00:00, 21.39it/s]\n",
      "pos: -1.0270 neg:  8.5795 total:  7.5525 temperature:  0.9672: 100%|██████████| 40/40 [00:01<00:00, 20.61it/s]\n",
      "pos: -1.0284 neg:  8.5851 total:  7.5566 temperature:  0.9660: 100%|██████████| 40/40 [00:01<00:00, 21.41it/s]\n",
      "pos: -1.0363 neg:  8.5813 total:  7.5449 temperature:  0.9597: 100%|██████████| 40/40 [00:01<00:00, 21.48it/s]\n",
      "pos: -1.0240 neg:  8.5737 total:  7.5498 temperature:  0.9687: 100%|██████████| 40/40 [00:01<00:00, 21.48it/s]\n",
      "pos: -0.9950 neg:  8.5639 total:  7.5688 temperature:  0.9759: 100%|██████████| 40/40 [00:01<00:00, 21.43it/s]\n",
      "pos: -1.0293 neg:  8.5803 total:  7.5510 temperature:  0.9658: 100%|██████████| 40/40 [00:01<00:00, 21.52it/s]\n",
      "pos: -1.0241 neg:  8.5844 total:  7.5602 temperature:  0.9702: 100%|██████████| 40/40 [00:01<00:00, 21.50it/s]\n",
      "pos: -1.0317 neg:  8.5824 total:  7.5507 temperature:  0.9645: 100%|██████████| 40/40 [00:01<00:00, 21.49it/s]\n",
      "pos: -1.0284 neg:  8.5946 total:  7.5661 temperature:  0.9657: 100%|██████████| 40/40 [00:01<00:00, 21.50it/s]\n",
      "pos: -1.0249 neg:  8.5744 total:  7.5495 temperature:  0.9693: 100%|██████████| 40/40 [00:01<00:00, 21.45it/s]\n",
      "pos: -1.0319 neg:  8.5819 total:  7.5500 temperature:  0.9640: 100%|██████████| 40/40 [00:01<00:00, 21.47it/s]\n",
      "pos: -1.0296 neg:  8.5859 total:  7.5563 temperature:  0.9668: 100%|██████████| 40/40 [00:01<00:00, 21.42it/s]\n",
      "pos: -1.0259 neg:  8.5720 total:  7.5461 temperature:  0.9678: 100%|██████████| 40/40 [00:01<00:00, 21.48it/s]\n",
      "pos: -1.0267 neg:  8.5752 total:  7.5485 temperature:  0.9677: 100%|██████████| 40/40 [00:01<00:00, 21.51it/s]\n",
      "pos: -0.9563 neg:  8.9550 total:  7.9987 temperature:  1.0076: 100%|██████████| 40/40 [00:01<00:00, 21.49it/s]\n",
      "pos: -1.0300 neg:  8.5626 total:  7.5326 temperature:  0.9657: 100%|██████████| 40/40 [00:01<00:00, 21.51it/s]\n",
      "pos: -0.9931 neg:  8.5616 total:  7.5685 temperature:  0.9857: 100%|██████████| 40/40 [00:01<00:00, 21.48it/s]\n",
      "pos: -1.0232 neg:  8.5813 total:  7.5581 temperature:  0.9703: 100%|██████████| 40/40 [00:01<00:00, 21.45it/s]\n",
      "pos: -1.0290 neg:  8.5757 total:  7.5468 temperature:  0.9665: 100%|██████████| 40/40 [00:01<00:00, 21.57it/s]\n",
      "pos: -1.0277 neg:  8.5808 total:  7.5532 temperature:  0.9670: 100%|██████████| 40/40 [00:01<00:00, 20.82it/s]\n",
      "pos: -1.0312 neg:  8.5821 total:  7.5509 temperature:  0.9647: 100%|██████████| 40/40 [00:01<00:00, 21.45it/s]\n",
      "pos: -1.0238 neg:  8.5675 total:  7.5437 temperature:  0.9700: 100%|██████████| 40/40 [00:01<00:00, 21.48it/s]\n",
      "pos: -1.0223 neg:  8.5769 total:  7.5546 temperature:  0.9703: 100%|██████████| 40/40 [00:01<00:00, 21.51it/s]\n",
      "pos: -1.0282 neg:  8.5813 total:  7.5531 temperature:  0.9672: 100%|██████████| 40/40 [00:01<00:00, 21.50it/s]\n",
      "pos: -1.0262 neg:  8.5715 total:  7.5453 temperature:  0.9683: 100%|██████████| 40/40 [00:01<00:00, 21.53it/s]\n",
      "pos: -1.0323 neg:  8.5775 total:  7.5452 temperature:  0.9642: 100%|██████████| 40/40 [00:01<00:00, 21.51it/s]\n",
      "pos: -1.0301 neg:  8.5781 total:  7.5480 temperature:  0.9652: 100%|██████████| 40/40 [00:01<00:00, 21.57it/s]\n",
      "pos: -1.0332 neg:  8.5971 total:  7.5639 temperature:  0.9625: 100%|██████████| 40/40 [00:01<00:00, 21.42it/s]\n",
      "pos: -1.0300 neg:  8.5712 total:  7.5413 temperature:  0.9640: 100%|██████████| 40/40 [00:01<00:00, 21.46it/s]\n",
      "pos: -1.0262 neg:  8.5742 total:  7.5480 temperature:  0.9692: 100%|██████████| 40/40 [00:01<00:00, 21.45it/s]\n",
      "pos: -1.0239 neg:  8.5735 total:  7.5496 temperature:  0.9697: 100%|██████████| 40/40 [00:01<00:00, 21.42it/s]\n",
      "pos: -1.0301 neg:  8.5766 total:  7.5465 temperature:  0.9654: 100%|██████████| 40/40 [00:01<00:00, 21.46it/s]\n",
      "pos: -1.0096 neg:  8.5630 total:  7.5534 temperature:  0.9805: 100%|██████████| 40/40 [00:01<00:00, 21.49it/s]\n",
      "pos: -1.0205 neg:  8.5755 total:  7.5551 temperature:  0.9746: 100%|██████████| 40/40 [00:01<00:00, 21.46it/s]\n",
      "pos: -1.0301 neg:  8.5744 total:  7.5443 temperature:  0.9656: 100%|██████████| 40/40 [00:01<00:00, 21.48it/s]\n",
      "pos: -1.0290 neg:  8.5710 total:  7.5420 temperature:  0.9656: 100%|██████████| 40/40 [00:01<00:00, 21.53it/s]\n",
      "pos: -1.0286 neg:  8.5789 total:  7.5503 temperature:  0.9671: 100%|██████████| 40/40 [00:01<00:00, 21.50it/s]\n",
      "pos: -1.0308 neg:  8.5693 total:  7.5385 temperature:  0.9650: 100%|██████████| 40/40 [00:01<00:00, 21.50it/s]\n",
      "pos: -1.0267 neg:  8.5780 total:  7.5513 temperature:  0.9675: 100%|██████████| 40/40 [00:01<00:00, 21.52it/s]\n",
      "pos: -1.0308 neg:  8.5814 total:  7.5506 temperature:  0.9651: 100%|██████████| 40/40 [00:01<00:00, 21.54it/s]\n",
      "pos: -1.0221 neg:  8.5868 total:  7.5647 temperature:  0.9700: 100%|██████████| 40/40 [00:01<00:00, 21.47it/s]\n",
      "pos: -1.0335 neg:  8.5750 total:  7.5415 temperature:  0.9635: 100%|██████████| 40/40 [00:01<00:00, 21.48it/s]\n",
      "pos: -1.0181 neg:  8.5702 total:  7.5521 temperature:  0.9742: 100%|██████████| 40/40 [00:01<00:00, 21.52it/s]\n",
      "pos: -1.0172 neg:  8.5718 total:  7.5546 temperature:  0.9751: 100%|██████████| 40/40 [00:01<00:00, 21.46it/s]\n",
      "pos: -1.0084 neg:  8.5591 total:  7.5507 temperature:  0.9807: 100%|██████████| 40/40 [00:01<00:00, 21.55it/s]\n",
      "pos: -1.0294 neg:  8.5815 total:  7.5521 temperature:  0.9664: 100%|██████████| 40/40 [00:01<00:00, 21.49it/s]\n",
      "pos: -1.0261 neg:  8.5764 total:  7.5503 temperature:  0.9692: 100%|██████████| 40/40 [00:01<00:00, 21.49it/s]\n",
      "pos: -1.0306 neg:  8.5675 total:  7.5368 temperature:  0.9651: 100%|██████████| 40/40 [00:01<00:00, 21.58it/s]\n",
      "pos: -1.0261 neg:  8.5832 total:  7.5572 temperature:  0.9676: 100%|██████████| 40/40 [00:01<00:00, 21.48it/s]\n",
      "pos: -1.0260 neg:  8.5896 total:  7.5636 temperature:  0.9674: 100%|██████████| 40/40 [00:01<00:00, 21.56it/s]\n",
      "pos: -1.0309 neg:  8.5897 total:  7.5588 temperature:  0.9656: 100%|██████████| 40/40 [00:01<00:00, 21.52it/s]\n",
      "pos: -1.0335 neg:  8.5870 total:  7.5535 temperature:  0.9635: 100%|██████████| 40/40 [00:01<00:00, 21.53it/s]\n",
      "pos: -1.0312 neg:  8.5822 total:  7.5510 temperature:  0.9653: 100%|██████████| 40/40 [00:01<00:00, 21.52it/s]\n",
      "pos: -1.0296 neg:  8.5722 total:  7.5426 temperature:  0.9673: 100%|██████████| 40/40 [00:01<00:00, 21.56it/s]\n",
      "pos: -1.0192 neg:  8.5828 total:  7.5636 temperature:  0.9730: 100%|██████████| 40/40 [00:01<00:00, 21.02it/s]\n",
      "pos: -1.0325 neg:  8.5809 total:  7.5484 temperature:  0.9643: 100%|██████████| 40/40 [00:01<00:00, 21.50it/s]\n",
      "pos: -1.0257 neg:  8.5835 total:  7.5578 temperature:  0.9666: 100%|██████████| 40/40 [00:01<00:00, 21.56it/s]\n",
      "pos: -1.0182 neg:  8.5738 total:  7.5556 temperature:  0.9743: 100%|██████████| 40/40 [00:01<00:00, 21.50it/s]\n",
      "pos: -1.0334 neg:  8.5878 total:  7.5543 temperature:  0.9633: 100%|██████████| 40/40 [00:01<00:00, 21.48it/s]\n",
      "pos: -1.0294 neg:  8.5823 total:  7.5528 temperature:  0.9657: 100%|██████████| 40/40 [00:01<00:00, 21.37it/s]\n"
     ]
    },
    {
     "data": {
      "text/plain": [
       "{'precision_median': 0.554093567251462,\n",
       " 'precision_std': 0.09545099375950858,\n",
       " 'precision_ci95': 0.01870839477686368,\n",
       " 'recall_median': 0.9047619047619048,\n",
       " 'recall_std': 0.1178213028718951,\n",
       " 'recall_ci95': 0.023092975362891437}"
      ]
     },
     "metadata": {},
     "output_type": "display_data"
    }
   ],
   "source": [
    "# set parameters\n",
    "torch.manual_seed(0)  # ensure reproducibility\n",
    "\n",
    "# load the dataset formatted for the model\n",
    "data_cs = cs_dataloader.load_dataset(\n",
    "    qpath=quality_path,\n",
    "    sorting_path=KS4_e_10m,\n",
    "    sortingtrue_path=GT_e_10m,\n",
    "    study_path=STUDY_e,\n",
    "    study_singleu_path=STUDY_e_su,\n",
    "    exp=\"E\",\n",
    "    sorter=\"KS4\",\n",
    "    n_site=384,\n",
    "    num_spikes=25,\n",
    "    interval_ms=3,\n",
    "    downsampling=1,\n",
    "    load_we_if_exists=True,\n",
    "    load_amp_if_exists=True,\n",
    "    load_qmetrics_if_exists=False,\n",
    ")\n",
    "\n",
    "# instantiate the model\n",
    "csmodel = CebraSpike(\n",
    "    cfg={\n",
    "        \"model_architecture\": \"offset10-model\",  # receptive field of size 10\n",
    "        \"distance\": \"cosine\",  # adapted to contrastive learning\n",
    "        \"batch_size\": data_cs[\"dataset\"][\"data\"].shape[1],  # full dataset\n",
    "        \"temperature_mode\": \"auto\",\n",
    "        \"learning_rate\": 0.001,\n",
    "        \"max_iterations\": 40,\n",
    "        \"conditional\": \"time_delta\",\n",
    "        \"time_offsets\": 10,  # 10 timesteps (should be >= size of receptve fields)\n",
    "        \"output_dimension\": 3,  # number of dimensions of the embedding\n",
    "        \"device\": \"cuda_if_available\",\n",
    "        \"verbose\": True,\n",
    "    }\n",
    ")\n",
    "\n",
    "# train and evaluate with cross-validation\n",
    "utils.create_if_not_exists(os.path.dirname(cs_model_path))\n",
    "\n",
    "cs_results = csmodel.evaluate(\n",
    "    data_cs[\"dataset\"],\n",
    "    cs_model_path,\n",
    "    is_train=True,\n",
    "    seeds=np.arange(0, 100, 1),\n",
    "    n_neighbors=20,\n",
    ")\n",
    "display(cs_results[\"metric_stats\"])"
   ]
  },
  {
   "cell_type": "markdown",
   "metadata": {},
   "source": [
    "### Decoding performance"
   ]
  },
  {
   "cell_type": "code",
   "execution_count": 6,
   "metadata": {},
   "outputs": [
    {
     "data": {
      "image/png": "[encoded data removed]",
      "text/plain": [
       "<Figure size 250x150 with 2 Axes>"
      ]
     },
     "metadata": {},
     "output_type": "display_data"
    }
   ],
   "source": [
    "fig, ax = plt.subplots(1, 2, figsize=(2.5, 1.5))\n",
    "ax[0] = plotutils.plot(ax[0], flc_results[\"metric_data\"])\n",
    "ax[0].set_xlabel(\"flc model\")\n",
    "ax[1] = plotutils.plot(ax[1], cs_results[\"metric_data\"])\n",
    "ax[1].set_xlabel(\"cebraspike model\")\n",
    "\n",
    "plt.tight_layout()\n",
    "\n",
    "# save\n",
    "utils.savefig(\n",
    "    \"figures/1_sorting_quality/cebraspike/assets/fig5E_decoding_performance_evoked.svg\"\n",
    ")"
   ]
  },
  {
   "cell_type": "code",
   "execution_count": null,
   "metadata": {},
   "outputs": [],
   "source": []
  }
 ],
 "metadata": {
  "kernelspec": {
   "display_name": "cebraspike3",
   "language": "python",
   "name": "python3"
  },
  "language_info": {
   "codemirror_mode": {
    "name": "ipython",
    "version": 3
   },
   "file_extension": ".py",
   "mimetype": "text/x-python",
   "name": "python",
   "nbconvert_exporter": "python",
   "pygments_lexer": "ipython3",
   "version": "3.9.7"
  }
 },
 "nbformat": 4,
 "nbformat_minor": 2
}
