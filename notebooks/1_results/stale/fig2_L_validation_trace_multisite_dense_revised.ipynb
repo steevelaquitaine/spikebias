{
 "cells": [
  {
   "attachments": {},
   "cell_type": "markdown",
   "metadata": {},
   "source": [
    "# Multi-sites\n",
    "\n",
    "author: laquitainesteeve@gmail.com\n",
    "\n",
    "Plot multi-channel spatio-temporal dynamics of action potentials\n",
    "\n",
    "Execution time: 10 secs\n",
    "\n",
    "Tested on Ubuntu 24.04.1 LTS (32 cores, 188 GB RAM, Intel(R) Core(TM) i9-14900K ＠3.2 GHz/5.8 GHz)\n",
    "\n",
    "Resources required:\n",
    "- 180 GB RAM"
   ]
  },
  {
   "attachments": {},
   "cell_type": "markdown",
   "metadata": {},
   "source": [
    "## Setup\n",
    "\n",
    "Prerequisites:\n",
    "\n",
    "1. Setup \"_envs/spikebias.yml_\" virtual environment\n",
    "2. Setup jupyter kernel _$python -m ipykernel install --user --name spikebias --display-name \"spikebias\"_\n",
    "3. Download recordings: \"_notebooks/0_download_recordings.ipynb_\"\n"
   ]
  },
  {
   "cell_type": "code",
   "execution_count": null,
   "metadata": {},
   "outputs": [
    {
     "name": "stdout",
     "output_type": "stream",
     "text": [
      "The autoreload extension is already loaded. To reload it, use:\n",
      "  %reload_ext autoreload\n"
     ]
    }
   ],
   "source": [
    "# listen to changes\n",
    "%load_ext autoreload\n",
    "%autoreload 2\n",
    "\n",
    "import os\n",
    "from matplotlib import pyplot as plt\n",
    "import pandas as pd\n",
    "import numpy as np \n",
    "import spikeinterface as si\n",
    "import yaml\n",
    "import warnings\n",
    "import spikeinterface.preprocessing as spre\n",
    "warnings.simplefilter(action='ignore', category=FutureWarning)\n",
    "warnings.filterwarnings(\"ignore\")\n",
    "\n",
    "\n",
    "# set project path\n",
    "PROJ_PATH = \"/home/steeve/steeve/epfl/code/spikebias\"\n",
    "os.chdir(PROJ_PATH)\n",
    "\n",
    "from src.nodes.utils import get_config\n",
    "\n",
    "# SETUP PARAMETERS\n",
    "SAMPFREQ = 20000  # hz\n",
    "\n",
    "# # probe 1 (layer 1 and 2/3)\n",
    "# data_conf, param_conf_sili = get_config(\n",
    "#     \"dense_spont\", \"probe_1\"\n",
    "# ).values()\n",
    "# PRE_PATH_1 = data_conf[\"preprocessing\"][\"full\"][\"output\"][\"trace_file_path\"]\n",
    "\n",
    "# # probe 2\n",
    "# data_conf, param_conf_sili = get_config(\n",
    "#     \"dense_spont\", \"probe_2\"\n",
    "# ).values()\n",
    "# PRE_PATH_2 = data_conf[\"preprocessing\"][\"full\"][\"output\"][\"trace_file_path\"]\n",
    "\n",
    "# # probe 3\n",
    "# data_conf, param_conf_sili = get_config(\n",
    "#     \"dense_spont\", \"probe_3\"\n",
    "# ).values()\n",
    "# PRE_PATH_3 = data_conf[\"preprocessing\"][\"full\"][\"output\"][\"trace_file_path\"]\n",
    "\n",
    "# figure parameters\n",
    "SAVE_FIG = True\n",
    "SAVE_FIG_DATA = False\n",
    "LOAD_FIG_DATA = True\n",
    "\n",
    "with open(\"./conf/figures.yml\", \"r\", encoding=\"utf-8\") as yaml_file:\n",
    "    fig_data_paths = yaml.load(yaml_file, Loader=yaml.FullLoader)\n",
    "    \n",
    "# plot\n",
    "PLOT_Y_PITCH = 500          # fixed distance between electrodes on plot for visibility\n",
    "GAIN_TO_UV = 0.195\n",
    "ylim = [-2111.4893, 691.5947]\n",
    "\n",
    "DURATION = 10  # 20  # in ms, 46\n",
    "NUM = 500 # 1442  # 1430  # 1424  # 1415  # 1400, 76, 1200, 10, 14, 46, 53, 61, 500,\n",
    "LINEWIDTH = 0.15\n",
    "LINEWIDTH_BORD = 0.25\n",
    "n_timepoints = int(DURATION * SAMPFREQ / 1000)\n",
    "\n",
    "# FIGURE SETTINGS\n",
    "COLOR_HS = np.array([26, 152, 80]) / 255 # green\n",
    "LINEWIDTH = 0.5\n",
    "LINEWIDTH_BORD = 0.25\n",
    "\n",
    "# axes\n",
    "plt.rcParams[\"font.family\"] = \"Arial\"\n",
    "plt.rcParams[\"font.size\"] = 6  # 5-7 with Nature neuroscience as reference\n",
    "plt.rcParams[\"lines.linewidth\"] = 0.5\n",
    "plt.rcParams[\"axes.linewidth\"] = 0.5  # 1\n",
    "plt.rcParams[\"axes.spines.top\"] = False\n",
    "plt.rcParams[\"xtick.major.width\"] = 0.5  # 0.8 #* 1.3\n",
    "plt.rcParams[\"xtick.minor.width\"] = 0.5  # 0.8 #* 1.3\n",
    "plt.rcParams[\"ytick.major.width\"] = 0.5  # 0.8 #* 1.3\n",
    "plt.rcParams[\"ytick.minor.width\"] = 0.5  # 0.8 #* 1.3\n",
    "plt.rcParams[\"xtick.major.size\"] = 3.5 * 1.1\n",
    "plt.rcParams[\"xtick.minor.size\"] = 2 * 1.1\n",
    "plt.rcParams[\"ytick.major.size\"] = 3.5 * 1.1\n",
    "plt.rcParams[\"ytick.minor.size\"] = 2 * 1.1\n",
    "\n",
    "# legend\n",
    "savefig_cfg = {\"transparent\": True, \"dpi\": 300}\n",
    "legend_cfg = {\"frameon\": False, \"handletextpad\": 0.1}\n",
    "tight_layout_cfg = {\"pad\": 0.5}\n",
    "LG_FRAMEON = False  # no legend frame"
   ]
  },
  {
   "cell_type": "markdown",
   "metadata": {},
   "source": [
    "## L1,2/3"
   ]
  },
  {
   "cell_type": "markdown",
   "metadata": {},
   "source": [
    "### Load dataset"
   ]
  },
  {
   "cell_type": "code",
   "execution_count": 8,
   "metadata": {},
   "outputs": [
    {
     "name": "stdout",
     "output_type": "stream",
     "text": [
      "dataset/02_figure_dataset/fig2l_spacetime_custom_biophy_l1_2_3.npy\n",
      "CPU times: user 235 µs, sys: 35 µs, total: 270 µs\n",
      "Wall time: 237 µs\n"
     ]
    }
   ],
   "source": [
    "%%time \n",
    "\n",
    "if SAVE_FIG_DATA:\n",
    "    \n",
    "    # find a common period with large voltage trace across layers\n",
    "    PERIOD = np.arange(18040134 - n_timepoints/2, 18040134+ n_timepoints/2, 1).astype(int)\n",
    "\n",
    "    # get preprocessed voltage traces and electrode layers\n",
    "    Recording = si.load_extractor('dataset/00_raw/recording_dense_probe1')\n",
    "    Recording = spre.highpass_filter(Recording, freq_min=300)\n",
    "    Recording = spre.common_reference(Recording, reference='global', operator='median')\n",
    "    layers = Recording.get_property(\"layers\")\n",
    "    prep_traces = Recording.get_traces()\n",
    "    fig_data = {\"trace\": prep_traces[PERIOD, :], \"layers\": layers}\n",
    "        \n",
    "    # save figure data\n",
    "    np.save(fig_data_paths[\"fig2l_spacetime_custom_biophy_l1_2_3\"], fig_data)\n",
    "\n",
    "elif LOAD_FIG_DATA:\n",
    "\n",
    "    # load figure data\n",
    "    fig_data = np.load(fig_data_paths[\"fig2l_spacetime_custom_biophy_l1_2_3\"], allow_pickle=True).item()        \n",
    "    print(fig_data_paths[\"fig2l_spacetime_custom_biophy_l1_2_3\"])"
   ]
  },
  {
   "cell_type": "code",
   "execution_count": 9,
   "metadata": {},
   "outputs": [
    {
     "name": "stdout",
     "output_type": "stream",
     "text": [
      "89.48747 -109.16937\n",
      "gain to uV: [-411.7404135  134.8609665]\n",
      "the voltage scale of all plotted axes is: 547.0 uV\n"
     ]
    }
   ],
   "source": [
    "# count site per column\n",
    "site_per_col = int(len(fig_data[\"layers\"]) / 4)\n",
    "\n",
    "# get layers layout\n",
    "col1_site_out = np.where(fig_data[\"layers\"][:site_per_col] == \"Outside\")[0]\n",
    "col1_site_l1 = np.where(fig_data[\"layers\"][:site_per_col] == \"L1\")[0]\n",
    "col1_site_l2_3 = np.where((fig_data[\"layers\"][:site_per_col] == \"L2_3\"))[0]\n",
    "col1_site_l4 = np.where(fig_data[\"layers\"][:site_per_col] == \"L4\")[0]\n",
    "col1_site_l5 = np.where(fig_data[\"layers\"][:site_per_col] == \"L5\")[0]\n",
    "col1_site_l6 = np.where(fig_data[\"layers\"][:site_per_col] == \"L6\")[0]\n",
    "\n",
    "# find common ylim to set all voltage traces to\n",
    "ymax = fig_data[\"trace\"][:, np.hstack([col1_site_l2_3, col1_site_l1])].max()\n",
    "ymin = fig_data[\"trace\"][:, np.hstack([col1_site_l2_3, col1_site_l1])].min()\n",
    "print(ymax, ymin)\n",
    "\n",
    "# scale voltage trace with Horvath gain\n",
    "scaled = np.array(ylim)*GAIN_TO_UV\n",
    "print(\"gain to uV:\", scaled)\n",
    "\n",
    "# report the voltage scale of all axes (the ylimits) \n",
    "print(\"the voltage scale of all plotted axes is:\", np.round(scaled[1] - scaled[0]), \"uV\")"
   ]
  },
  {
   "cell_type": "code",
   "execution_count": 10,
   "metadata": {},
   "outputs": [
    {
     "name": "stdout",
     "output_type": "stream",
     "text": [
      "number of sites shown: 26\n"
     ]
    },
    {
     "data": {
      "image/png": "[encoded data removed]",
      "text/plain": [
       "<Figure size 105x160 with 1 Axes>"
      ]
     },
     "metadata": {},
     "output_type": "display_data"
    }
   ],
   "source": [
    "n_sites_l123 = len(col1_site_l1) + len(col1_site_l2_3)\n",
    "fig_vert_size_l123 = 1.6\n",
    "\n",
    "FIGSIZE = (1.05, fig_vert_size_l123)  # DO NOT CHANGE!! Calibrated for preprint figure\n",
    "\n",
    "PLOT_Y_PITCH = 100\n",
    "Y_MAX = PLOT_Y_PITCH * (site_per_col - 1)\n",
    "\n",
    "# plot (0: bottom 96:top)\n",
    "fig, ax = plt.subplots(1, 1, figsize=FIGSIZE)\n",
    "pos_up = 0\n",
    "row = 0\n",
    "c_site = 0\n",
    "\n",
    "save_trace_data = []\n",
    "\n",
    "for contact_i in np.arange(0, site_per_col, 1):\n",
    "    # layer 2/3\n",
    "    if contact_i == col1_site_l2_3[0]:\n",
    "        ax.hlines(\n",
    "            y=0.99 * pos_up,\n",
    "            xmin=0,\n",
    "            xmax=n_timepoints,\n",
    "            color=\"black\",\n",
    "            linewidth=LINEWIDTH_BORD,\n",
    "        )\n",
    "        # label layer\n",
    "        ax.text(\n",
    "            # 610,\n",
    "            -120,\n",
    "            0.99 * pos_up,\n",
    "            \"%s\" % (\"L2/3\"),\n",
    "            size=plt.rcParams[\"font.size\"],\n",
    "            zorder=100,\n",
    "            color=\"k\",\n",
    "            ha=\"left\",\n",
    "        )\n",
    "    # layer 1\n",
    "    if contact_i == col1_site_l1[0]:\n",
    "        ax.hlines(\n",
    "            y=0.99 * pos_up,\n",
    "            xmin=0,\n",
    "            xmax=n_timepoints,\n",
    "            color=\"black\",\n",
    "            linewidth=LINEWIDTH_BORD,\n",
    "        )\n",
    "        # label layer\n",
    "        ax.text(\n",
    "            # 610,\n",
    "            -120,\n",
    "            0.99 * pos_up,\n",
    "            \"%s\" % (\"L1\"),\n",
    "            size=plt.rcParams[\"font.size\"],\n",
    "            zorder=100,\n",
    "            color=\"k\",\n",
    "            ha=\"left\",\n",
    "        )\n",
    "\n",
    "    # Outside\n",
    "    if contact_i == 73:\n",
    "        ax.hlines(\n",
    "            y=pos_up, xmin=0, xmax=n_timepoints, color=\"black\", linewidth=LINEWIDTH_BORD\n",
    "        )\n",
    "\n",
    "    # in target layer\n",
    "    if contact_i in col1_site_l1:\n",
    "        c_site += 1\n",
    "        ax.plot(\n",
    "            fig_data[\"trace\"][:, contact_i] + pos_up,\n",
    "            linewidth=LINEWIDTH,\n",
    "            color=COLOR_HS,\n",
    "        )\n",
    "        pos_up += PLOT_Y_PITCH\n",
    "\n",
    "        # record plotted traces\n",
    "        save_trace_data.append(fig_data[\"trace\"][:,contact_i])\n",
    "\n",
    "    if contact_i in col1_site_l2_3:\n",
    "        c_site += 1\n",
    "        ax.plot(\n",
    "            fig_data[\"trace\"][:, contact_i] + pos_up,\n",
    "            linewidth=LINEWIDTH,\n",
    "            color=COLOR_HS,\n",
    "        )\n",
    "        pos_up += PLOT_Y_PITCH\n",
    "\n",
    "        # record plotted traces\n",
    "        save_trace_data.append(fig_data[\"trace\"][:,contact_i])\n",
    "\n",
    "ax.spines[[\"left\", \"right\", \"top\"]].set_visible(False)\n",
    "ax.set_xticks([0, n_timepoints])\n",
    "ax.set_xticklabels([0, DURATION])\n",
    "ax.set_xlabel(\"Time (ms)\")\n",
    "ax.set_ylim([-80, Y_MAX + 500])\n",
    "plt.yticks([])\n",
    "\n",
    "print(\"number of sites shown:\", c_site)"
   ]
  },
  {
   "cell_type": "code",
   "execution_count": 66,
   "metadata": {},
   "outputs": [
    {
     "name": "stdout",
     "output_type": "stream",
     "text": [
      "number of sites shown: 26\n"
     ]
    },
    {
     "data": {
      "image/png": "[encoded data removed]",
      "text/plain": [
       "<Figure size 105x160 with 26 Axes>"
      ]
     },
     "metadata": {},
     "output_type": "display_data"
    }
   ],
   "source": [
    "# setup plot\n",
    "n_sites = len(col1_site_l1) + len(col1_site_l2_3)\n",
    "fig, ax = plt.subplots(n_sites, 1, figsize=FIGSIZE)\n",
    "\n",
    "# allow  vertical overlap of trace axes\n",
    "fig.subplots_adjust(hspace=-0.9)                        \n",
    "\n",
    "# delimit layer 4 and 5\n",
    "sites = np.hstack([col1_site_l1, col1_site_l2_3])\n",
    "l23_ix = np.where(sites == col1_site_l2_3[0])[0]\n",
    "\n",
    "# plot electrode site voltage traces\n",
    "for site in range(n_sites):\n",
    "    flipped_site = n_sites-site-1\n",
    "    ax[flipped_site].plot(save_trace_data[site], linewidth=LINEWIDTH, color=COLOR_HS)\n",
    "    ax[flipped_site].set_ylim(ylim)\n",
    "    ax[flipped_site].spines[[\"left\", \"right\", \"top\",\"bottom\"]].set_visible(False)\n",
    "    ax[flipped_site].set_yticks([])\n",
    "    ax[flipped_site].set_xticks([])\n",
    "    ax[flipped_site].set_facecolor(\"none\")   # transparent background\n",
    "\n",
    "    # delimit sites from layer 4 and 5\n",
    "    if site==l23_ix:\n",
    "        ax[site].hlines(\n",
    "            y=10,\n",
    "            xmin=0,\n",
    "            xmax=n_timepoints,\n",
    "            color=\"black\",\n",
    "            linewidth=LINEWIDTH_BORD,\n",
    "        )\n",
    "print(\"number of sites shown:\", n_sites)\n",
    "\n",
    "# show voltage scale\n",
    "ax[0].spines[[\"left\"]].set_visible(True)\n",
    "\n",
    "# label\n",
    "#ax[n_sites-1].set_xlabel(\"Time (ms)\");\n",
    "\n",
    "# save figures\n",
    "if SAVE_FIG:\n",
    "    plt.savefig(\n",
    "        \"figures/0_validation/2_dynamics/fig2l_spacetime_custom_biophy_l1_2_3.svg\",\n",
    "        **savefig_cfg\n",
    "    )"
   ]
  },
  {
   "cell_type": "markdown",
   "metadata": {},
   "source": [
    "## L4 and 5"
   ]
  },
  {
   "cell_type": "markdown",
   "metadata": {},
   "source": [
    "### Load dataset"
   ]
  },
  {
   "cell_type": "code",
   "execution_count": 20,
   "metadata": {},
   "outputs": [
    {
     "name": "stdout",
     "output_type": "stream",
     "text": [
      "CPU times: user 1min 9s, sys: 8.37 s, total: 1min 17s\n",
      "Wall time: 1min 17s\n"
     ]
    }
   ],
   "source": [
    "%%time \n",
    "\n",
    "if SAVE_FIG_DATA:\n",
    "    \n",
    "    # find a common period with large voltage trace across layers\n",
    "    PERIOD = np.arange(18040134 - n_timepoints/2, 18040134+ n_timepoints/2, 1).astype(int)\n",
    "\n",
    "    # get preprocessed voltage traces and electrode layers\n",
    "    Recording = si.load_extractor('dataset/00_raw/recording_dense_probe2')\n",
    "    Recording = spre.highpass_filter(Recording, freq_min=300)\n",
    "    Recording = spre.common_reference(Recording, reference='global', operator='median')\n",
    "    layers = Recording.get_property(\"layers\")\n",
    "    prep_traces = Recording.get_traces()\n",
    "    \n",
    "    fig_data = {\"trace\": prep_traces[PERIOD, :], \"layers\": layers}    \n",
    "            \n",
    "    # save figure data\n",
    "    np.save(fig_data_paths[\"fig2l_spacetime_custom_biophy_l4_5\"], fig_data)\n",
    "\n",
    "elif LOAD_FIG_DATA:    \n",
    "    \n",
    "    # load figure data\n",
    "    fig_data = np.load(fig_data_paths[\"fig2l_spacetime_custom_biophy_l4_5\"], allow_pickle=True).item()        "
   ]
  },
  {
   "cell_type": "code",
   "execution_count": 21,
   "metadata": {},
   "outputs": [
    {
     "name": "stdout",
     "output_type": "stream",
     "text": [
      "691.5947 -2111.4893\n"
     ]
    }
   ],
   "source": [
    "# # find sample and site col among l4 and 5 of max trace voltage\n",
    "# idx = np.argmin(prep_traces[:, np.hstack([col1_site_l4, col1_site_l5])])\n",
    "# sample, col = np.unravel_index(idx, prep_traces[:, np.hstack([col1_site_l4, col1_site_l5])].shape)\n",
    "# site = np.hstack([col1_site_l4, col1_site_l5])[col]\n",
    "# print(sample)\n",
    "# print(col)\n",
    "\n",
    "# count site per column\n",
    "site_per_col = int(len(fig_data[\"layers\"]) / 4)\n",
    "\n",
    "# get layers layout\n",
    "col1_site_out = np.where(fig_data[\"layers\"][:site_per_col] == \"Outside\")[0]\n",
    "col1_site_l1 = np.where(fig_data[\"layers\"][:site_per_col] == \"L1\")[0]\n",
    "col1_site_l2_3 = np.where((fig_data[\"layers\"][:site_per_col] == \"L2_3\"))[0]\n",
    "col1_site_l4 = np.where(fig_data[\"layers\"][:site_per_col] == \"L4\")[0]\n",
    "col1_site_l5 = np.where(fig_data[\"layers\"][:site_per_col] == \"L5\")[0]\n",
    "col1_site_l6 = np.where(fig_data[\"layers\"][:site_per_col] == \"L6\")[0]\n",
    "\n",
    "# find common ylim to set all voltage traces to\n",
    "ymax = fig_data[\"trace\"][:,np.hstack([col1_site_l4, col1_site_l5])].max()\n",
    "ymin = fig_data[\"trace\"][:,np.hstack([col1_site_l4, col1_site_l5])].min()\n",
    "print(ymax, ymin)"
   ]
  },
  {
   "cell_type": "code",
   "execution_count": 22,
   "metadata": {},
   "outputs": [
    {
     "name": "stdout",
     "output_type": "stream",
     "text": [
      "number of sites shown: 31\n"
     ]
    },
    {
     "data": {
      "image/png": "[encoded data removed]",
      "text/plain": [
       "<Figure size 105x190.769 with 1 Axes>"
      ]
     },
     "metadata": {},
     "output_type": "display_data"
    }
   ],
   "source": [
    "n_sites_l4_5 = len(col1_site_l4) + len(col1_site_l5)\n",
    "keep_size_ratio = (n_sites_l4_5 * fig_vert_size_l123)/n_sites_l123\n",
    "\n",
    "FIGSIZE = (1.05, keep_size_ratio)  # DO NOT CHANGE!! Calibrated for figure\n",
    "\n",
    "Y_MAX = PLOT_Y_PITCH * (site_per_col - 1)\n",
    "\n",
    "# plot (0: bottom 96:top)\n",
    "fig, ax = plt.subplots(1, 1, figsize=FIGSIZE)\n",
    "pos_up = 0\n",
    "row = 0\n",
    "c_site = 0\n",
    "\n",
    "save_trace_data = []\n",
    "\n",
    "for contact_i in np.arange(0, site_per_col, 1):\n",
    "    # layer 4\n",
    "    if contact_i == col1_site_l4[0]:\n",
    "        ax.hlines(\n",
    "            y=0.99 * pos_up,\n",
    "            xmin=0,\n",
    "            xmax=n_timepoints,\n",
    "            color=\"black\",\n",
    "            linewidth=LINEWIDTH_BORD,\n",
    "        )\n",
    "        # label layer\n",
    "        ax.text(\n",
    "            # 610,\n",
    "            -120,\n",
    "            0.99 * pos_up,\n",
    "            \"%s\" % (\"L4\"),\n",
    "            size=plt.rcParams[\"font.size\"],\n",
    "            zorder=100,\n",
    "            color=\"k\",\n",
    "            ha=\"left\",\n",
    "        )\n",
    "    # layer 5\n",
    "    if contact_i == col1_site_l5[0]:\n",
    "        ax.hlines(\n",
    "            y=0.99 * pos_up,\n",
    "            xmin=0,\n",
    "            xmax=n_timepoints,\n",
    "            color=\"black\",\n",
    "            linewidth=LINEWIDTH_BORD,\n",
    "        )\n",
    "        # label layer\n",
    "        ax.text(\n",
    "            # 610,\n",
    "            -120,\n",
    "            0.99 * pos_up,\n",
    "            \"%s\" % (\"L5\"),\n",
    "            size=plt.rcParams[\"font.size\"],\n",
    "            zorder=100,\n",
    "            color=\"k\",\n",
    "            ha=\"left\",\n",
    "        )\n",
    "\n",
    "    # Outside\n",
    "    if contact_i == 73:\n",
    "        ax.hlines(\n",
    "            y=pos_up, xmin=0, xmax=n_timepoints, color=\"black\", linewidth=LINEWIDTH_BORD\n",
    "        )\n",
    "\n",
    "    # in target layer\n",
    "    if contact_i in col1_site_l4:\n",
    "        c_site += 1\n",
    "        ax.plot(\n",
    "            fig_data[\"trace\"][:, contact_i] + pos_up,\n",
    "            linewidth=LINEWIDTH,\n",
    "            color=COLOR_HS,\n",
    "        )\n",
    "        pos_up += PLOT_Y_PITCH\n",
    "\n",
    "        # record plotted traces\n",
    "        save_trace_data.append(fig_data[\"trace\"][:,contact_i])\n",
    "\n",
    "    if contact_i in col1_site_l5:\n",
    "        c_site += 1\n",
    "        ax.plot(\n",
    "            fig_data[\"trace\"][:, contact_i] + pos_up,\n",
    "            linewidth=LINEWIDTH,\n",
    "            color=COLOR_HS,\n",
    "        )\n",
    "        pos_up += PLOT_Y_PITCH\n",
    "\n",
    "        # record plotted traces\n",
    "        save_trace_data.append(fig_data[\"trace\"][:,contact_i])\n",
    "\n",
    "ax.spines[[\"left\", \"right\", \"top\"]].set_visible(False)\n",
    "ax.set_xticks([0, n_timepoints])\n",
    "ax.set_xticklabels([0, DURATION])\n",
    "ax.set_xlabel(\"Time (ms)\")\n",
    "ax.set_ylim([-80, Y_MAX + 500])\n",
    "plt.yticks([])\n",
    "\n",
    "print(\"number of sites shown:\", c_site)\n"
   ]
  },
  {
   "cell_type": "code",
   "execution_count": null,
   "metadata": {},
   "outputs": [
    {
     "name": "stdout",
     "output_type": "stream",
     "text": [
      "number of sites shown: 31\n"
     ]
    },
    {
     "data": {
      "image/png": "[encoded data removed]",
      "text/plain": [
       "<Figure size 105x190.769 with 31 Axes>"
      ]
     },
     "metadata": {},
     "output_type": "display_data"
    }
   ],
   "source": [
    "# setup plot\n",
    "n_sites = len(col1_site_l4) + len(col1_site_l5)\n",
    "fig, ax = plt.subplots(n_sites, 1, figsize=FIGSIZE)\n",
    "\n",
    "# allow  vertical overlap of trace axes\n",
    "fig.subplots_adjust(hspace=-0.9)                        \n",
    "\n",
    "# delimit layer 4 and 5\n",
    "sites = np.hstack([col1_site_l4, col1_site_l5])\n",
    "l5_ix = np.where(sites == col1_site_l5[0])[0]\n",
    "\n",
    "# plot electrode site voltage traces\n",
    "for site in range(n_sites):\n",
    "    flipped_site = n_sites-site-1\n",
    "    ax[flipped_site].plot(save_trace_data[site], linewidth=LINEWIDTH, color=COLOR_HS)\n",
    "    ax[flipped_site].set_ylim(ylim)\n",
    "    ax[flipped_site].set_yticks([])\n",
    "    ax[flipped_site].set_xticks([])\n",
    "    ax[flipped_site].set_facecolor(\"none\")   # transparent background\n",
    "    ax[flipped_site].spines[[\"left\", \"right\", \"top\",\"bottom\"]].set_visible(False)\n",
    "\n",
    "    # delimit sites from layer 4 and 5\n",
    "    if site==l5_ix:\n",
    "        ax[site].hlines(\n",
    "            y=10,\n",
    "            xmin=0,\n",
    "            xmax=n_timepoints,\n",
    "            color=\"black\",\n",
    "            linewidth=LINEWIDTH_BORD,\n",
    "        )\n",
    "print(\"number of sites shown:\", n_sites)\n",
    "\n",
    "# show voltage scale (ymin and ymax voltage)\n",
    "ax[0].spines[[\"left\"]].set_visible(True)\n",
    "\n",
    "# save figures\n",
    "if SAVE_FIG:\n",
    "    plt.savefig(\n",
    "        \"figures/0_validation/2_dynamics/fig2l_spacetime_custom_biophy_l4_5.svg\",\n",
    "        **savefig_cfg\n",
    "    )"
   ]
  },
  {
   "cell_type": "markdown",
   "metadata": {},
   "source": [
    "## L6"
   ]
  },
  {
   "cell_type": "code",
   "execution_count": 71,
   "metadata": {},
   "outputs": [
    {
     "name": "stdout",
     "output_type": "stream",
     "text": [
      "dataset/02_figure_dataset/fig2l_spacetime_custom_biophy_l6.npy\n",
      "CPU times: user 370 µs, sys: 1.17 ms, total: 1.54 ms\n",
      "Wall time: 496 µs\n"
     ]
    }
   ],
   "source": [
    "%%time \n",
    "\n",
    "if SAVE_FIG_DATA:\n",
    "\n",
    "    # find a common period with large voltage trace across layers\n",
    "    PERIOD = np.arange(18040134 - n_timepoints/2, 18040134 + n_timepoints/2, 1).astype(int)\n",
    "\n",
    "    # get preprocessed voltage traces and electrode layers\n",
    "    Recording = si.load_extractor('dataset/00_raw/recording_dense_probe3')\n",
    "    Recording = spre.highpass_filter(Recording, freq_min=300)\n",
    "    Recording = spre.common_reference(Recording, reference='global', operator='median')\n",
    "    layers = Recording.get_property(\"layers\")\n",
    "    prep_traces = Recording.get_traces()\n",
    "    \n",
    "    fig_data = {\"trace\": prep_traces[PERIOD, :], \"layers\": layers}    \n",
    "    \n",
    "    # save figure data\n",
    "    np.save(fig_data_paths[\"fig2l_spacetime_custom_biophy_l6\"], fig_data)\n",
    "\n",
    "elif LOAD_FIG_DATA:    \n",
    "    \n",
    "    # load figure data\n",
    "    fig_data = np.load(fig_data_paths[\"fig2l_spacetime_custom_biophy_l6\"], allow_pickle=True).item()        \n",
    "    print(fig_data_paths[\"fig2l_spacetime_custom_biophy_l6\"])"
   ]
  },
  {
   "cell_type": "code",
   "execution_count": 72,
   "metadata": {},
   "outputs": [
    {
     "name": "stdout",
     "output_type": "stream",
     "text": [
      "127.5161 -122.88377\n"
     ]
    }
   ],
   "source": [
    "# count the number of sites per column\n",
    "site_per_col = int(len(fig_data['layers']) / 4)\n",
    "col1_site_out = np.where(fig_data['layers'][:site_per_col] == \"Outside\")[0]\n",
    "col1_site_l6 = np.where(fig_data['layers'][:site_per_col] == \"L6\")[0]\n",
    "\n",
    "# find common ylim to set all voltage traces to\n",
    "ymax = fig_data[\"trace\"][:, col1_site_l6].max()\n",
    "ymin = fig_data[\"trace\"][:, col1_site_l6].min()\n",
    "print(ymax, ymin)"
   ]
  },
  {
   "cell_type": "code",
   "execution_count": 73,
   "metadata": {},
   "outputs": [
    {
     "name": "stdout",
     "output_type": "stream",
     "text": [
      "number of sites shown: 19\n"
     ]
    },
    {
     "data": {
      "image/png": "[encoded data removed]",
      "text/plain": [
       "<Figure size 105x116.923 with 1 Axes>"
      ]
     },
     "metadata": {},
     "output_type": "display_data"
    }
   ],
   "source": [
    "n_sites_l6 = len(col1_site_l6)\n",
    "keep_size_ratio = (n_sites_l6 * fig_vert_size_l123)/n_sites_l123\n",
    "FIGSIZE = (1.05, keep_size_ratio)  # DO NOT CHANGE!! Calibrated for figure\n",
    "\n",
    "Y_MAX = PLOT_Y_PITCH * (site_per_col - 1)\n",
    "\n",
    "# plot (0: bottom 96:top)\n",
    "fig, ax = plt.subplots(1, 1, figsize=FIGSIZE)\n",
    "pos_up = 0\n",
    "row = 0\n",
    "c_site = 0\n",
    "\n",
    "# record plotted traces\n",
    "save_trace_data = []\n",
    "\n",
    "for contact_i in np.arange(0, site_per_col, 1):\n",
    "    # layer 6\n",
    "    if contact_i == col1_site_l6[0]:\n",
    "        ax.hlines(\n",
    "            y=0.99 * pos_up,\n",
    "            xmin=0,\n",
    "            xmax=n_timepoints,\n",
    "            color=\"black\",\n",
    "            linewidth=LINEWIDTH_BORD,\n",
    "        )\n",
    "        # label layer\n",
    "        ax.text(\n",
    "            # 610,\n",
    "            -120,\n",
    "            0.99 * pos_up,\n",
    "            \"%s\" % (\"L6\"),\n",
    "            size=plt.rcParams[\"font.size\"],\n",
    "            zorder=100,\n",
    "            color=\"k\",\n",
    "            ha=\"left\",\n",
    "        )\n",
    "\n",
    "    # Outside\n",
    "    if contact_i == 73:\n",
    "        ax.hlines(\n",
    "            y=pos_up, xmin=0, xmax=n_timepoints, color=\"black\", linewidth=LINEWIDTH_BORD\n",
    "        )\n",
    "\n",
    "    # in target layer\n",
    "    if contact_i in col1_site_l6:\n",
    "        c_site += 1\n",
    "        ax.plot(\n",
    "            fig_data['trace'][:, contact_i] + pos_up,\n",
    "            linewidth=LINEWIDTH,\n",
    "            color=COLOR_HS,\n",
    "        )\n",
    "        pos_up += PLOT_Y_PITCH\n",
    "\n",
    "        # record plotted traces\n",
    "        save_trace_data.append(fig_data[\"trace\"][:,contact_i])\n",
    "\n",
    "# legend\n",
    "ax.spines[[\"left\", \"right\", \"top\"]].set_visible(False)\n",
    "ax.set_xticks([0, n_timepoints])\n",
    "ax.set_xticklabels([0, DURATION])\n",
    "ax.set_xlabel(\"Time (ms)\")\n",
    "ax.set_ylim([-80, Y_MAX + 500])\n",
    "plt.yticks([])\n",
    "\n",
    "print(\"number of sites shown:\", c_site)\n",
    "\n",
    "# save figures\n",
    "if SAVE_FIG:\n",
    "    plt.savefig(\n",
    "        \"figures/0_validation/2_dynamics/fig2l_spacetime_custom_biophy_l6.svg\",\n",
    "        **savefig_cfg\n",
    "    )"
   ]
  },
  {
   "cell_type": "code",
   "execution_count": 74,
   "metadata": {},
   "outputs": [
    {
     "name": "stdout",
     "output_type": "stream",
     "text": [
      "number of sites shown: 19\n"
     ]
    },
    {
     "data": {
      "image/png": "[encoded data removed]",
      "text/plain": [
       "<Figure size 105x116.923 with 19 Axes>"
      ]
     },
     "metadata": {},
     "output_type": "display_data"
    }
   ],
   "source": [
    "# make sure all voltage traces are on the same voltage scale\n",
    "# setup plot\n",
    "n_sites = len(col1_site_l6)\n",
    "fig, ax = plt.subplots(n_sites, 1, figsize=FIGSIZE)\n",
    "\n",
    "# allow  vertical overlap of trace axes\n",
    "fig.subplots_adjust(hspace=-0.9)                        \n",
    "\n",
    "# plot electrode site voltage traces\n",
    "for site in range(n_sites):\n",
    "    flipped_site = n_sites-site-1\n",
    "    ax[flipped_site].plot(save_trace_data[site], linewidth=LINEWIDTH, color=COLOR_HS)\n",
    "    ax[flipped_site].set_ylim(ylim)\n",
    "    ax[flipped_site].set_yticks([])\n",
    "    ax[flipped_site].set_xticks([])\n",
    "    ax[flipped_site].set_facecolor(\"none\")   # transparent background\n",
    "    ax[flipped_site].spines[[\"left\", \"right\", \"top\", \"bottom\"]].set_visible(False)\n",
    "\n",
    "# # add labels\n",
    "# ax[site].set_xticks([0, n_timepoints])\n",
    "# ax[site].set_xticklabels([0, DURATION])\n",
    "# ax[site].set_xlabel(\"Time (ms)\")\n",
    "# ax[site].spines[[\"bottom\"]].set_visible(True)\n",
    "\n",
    "# show voltage scale\n",
    "ax[0].spines[[\"left\"]].set_visible(True)\n",
    "\n",
    "print(\"number of sites shown:\", n_sites)\n",
    "\n",
    "# save figures\n",
    "if SAVE_FIG:\n",
    "    plt.savefig(\n",
    "        \"figures/0_validation/2_dynamics/fig2l_spacetime_custom_biophy_l6.svg\",\n",
    "        **savefig_cfg\n",
    "    )"
   ]
  }
 ],
 "metadata": {
  "kernelspec": {
   "display_name": "spikebias",
   "language": "python",
   "name": "python3"
  },
  "language_info": {
   "codemirror_mode": {
    "name": "ipython",
    "version": 3
   },
   "file_extension": ".py",
   "mimetype": "text/x-python",
   "name": "python",
   "nbconvert_exporter": "python",
   "pygments_lexer": "ipython3",
   "version": "3.9.7"
  },
  "orig_nbformat": 4
 },
 "nbformat": 4,
 "nbformat_minor": 2
}
