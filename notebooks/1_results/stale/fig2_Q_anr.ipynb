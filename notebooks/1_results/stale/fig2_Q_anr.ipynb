{
 "cells": [
  {
   "attachments": {},
   "cell_type": "markdown",
   "metadata": {},
   "source": [
    "# (2h) ANR\n",
    "\n",
    "\n",
    "# Noise\n",
    "\n",
    "author: laquitainesteeve@gmail.com\n",
    "\n",
    "Validation of trace noise.\n",
    "\n",
    "Execution time: 10 secs\n",
    "\n",
    "Tested on Ubuntu 24.04.1 LTS (32 cores, 188 GB RAM, Intel(R) Core(TM) i9-14900K ＠3.2 GHz/5.8 GHz)\n",
    "\n",
    "Resources required: \n",
    "- multi-node processing (mpi)\n",
    "- more than 180 GB RAM\n",
    "\n",
    "## Setup\n",
    "\n",
    "1. Setup \"_envs/spikebias.yml_\" virtual environment\n",
    "2. Setup jupyter kernel _$python -m ipykernel install --user --name spikebias --display-name \"spikebias\"_\n",
    "3. Download recordings: \"_notebooks/0_download_recordings.ipynb_\"\n",
    "4. Update noise data paths in ./conf/ and pre-compute with multi-node processing: \"_src/pipes/validation/noise/mpi_dense_full.py_\""
   ]
  },
  {
   "cell_type": "markdown",
   "metadata": {},
   "source": [
    "## Compute and plot \n",
    "\n",
    "1. Process traces e.g.,: sbatch cluster/prepro/marques_silico/process.sbatch\n",
    "3. compute ANR and save: \n",
    "\n",
    "    sbatch cluster/validation/anr/anr_all_sites.sh  \n",
    "    sbatch cluster/validation/anr/anr_l1.sh  \n",
    "    sbatch cluster/validation/anr/anr_l23.sh  \n",
    "    sbatch cluster/validation/anr/anr_l4.sh  \n",
    "    sbatch cluster/validation/anr/anr_l5.sh  \n",
    "    sbatch cluster/validation/anr/anr_l6.sh  "
   ]
  }
 ],
 "metadata": {
  "kernelspec": {
   "display_name": "env_kilosort_silico",
   "language": "python",
   "name": "python3"
  },
  "language_info": {
   "codemirror_mode": {
    "name": "ipython",
    "version": 3
   },
   "file_extension": ".py",
   "mimetype": "text/x-python",
   "name": "python",
   "nbconvert_exporter": "python",
   "pygments_lexer": "ipython3",
   "version": "3.9.7"
  },
  "orig_nbformat": 4
 },
 "nbformat": 4,
 "nbformat_minor": 2
}
