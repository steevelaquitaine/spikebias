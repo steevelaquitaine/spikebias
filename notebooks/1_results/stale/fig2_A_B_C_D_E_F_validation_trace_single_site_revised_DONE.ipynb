{
 "cells": [
  {
   "attachments": {},
   "cell_type": "markdown",
   "metadata": {},
   "source": [
    "# Single-site voltage trace\n",
    "\n",
    "author: laquitainesteeve@gmail.com  \n",
    "\n",
    "purpose: plot single-site voltage trace from a site in layer 5 from Horvath depth 2.\n",
    "\n",
    "Execution time: 1 min\n",
    "\n",
    "Tested on Ubuntu 24.04.1 LTS (32 cores, 188 GB RAM, Intel(R) Core(TM) i9-14900K ＠3.2 GHz/5.8 GHz) - No GPU required.\n",
    "\n",
    "Required: RAM: > 40 GB"
   ]
  },
  {
   "attachments": {},
   "cell_type": "markdown",
   "metadata": {},
   "source": [
    "### Setup\n",
    "\n",
    "Activate `spikebias` env kernel"
   ]
  },
  {
   "cell_type": "code",
   "execution_count": 1,
   "metadata": {},
   "outputs": [
    {
     "name": "stdout",
     "output_type": "stream",
     "text": [
      "spikeinterface 0.100.5\n"
     ]
    }
   ],
   "source": [
    "# SETUP PACKAGESP\n",
    "%load_ext autoreload\n",
    "%autoreload 2\n",
    "import os\n",
    "from os.path import join\n",
    "import numpy as np\n",
    "from matplotlib import pyplot as plt\n",
    "import spikeinterface\n",
    "import spikeinterface as si\n",
    "import yaml\n",
    "import warnings\n",
    "warnings.simplefilter(action='ignore', category=FutureWarning)\n",
    "warnings.filterwarnings(\"ignore\")\n",
    "import spikeinterface.preprocessing as spre\n",
    "print(\"spikeinterface\", spikeinterface.__version__)\n",
    "\n",
    "# move to project path\n",
    "# proj_path = \"/Users/steeve_laquitaine/Desktop/2022_2024_bbp/spikebias/\"\n",
    "proj_path = \"/home/steeve/steeve/epfl/code/spikebias\"\n",
    "os.chdir(proj_path)\n",
    "\n",
    "# custom package\n",
    "from src.nodes.validation import noise\n",
    "\n",
    "# pipeline parameters\n",
    "SAVE_FIG_DATA = False\n",
    "SAVE_FIG = False\n",
    "\n",
    "# SETUP PARAMETERS\n",
    "LAYER = \"L5\"\n",
    "\n",
    "# setup local path\n",
    "REC_PATH = \"dataset/00_raw/recording_horvath_probe2\"\n",
    "FIG_DATA_PATH = \"dataset/02_figure_dataset/fig2e_compo_vivo_horv.npy\"\n",
    "\n",
    "# setup recording parameters (as described in the paper)\n",
    "DURATION = 900 # seconds\n",
    "GAIN_TO_UV = 0.195\n",
    "FREQ_MIN = 300\n",
    "REF = \"global\"\n",
    "OPERATOR = \"median\"\n",
    "\n",
    "# FIGURE SETTINGS\n",
    "FIG_SIZE = (0.9, 0.7)\n",
    "COLOR_HV = [0.3, 0.3, 0.3]\n",
    "\n",
    "# axes\n",
    "plt.rcParams[\"font.family\"] = \"Arial\"\n",
    "plt.rcParams[\"font.size\"] = 6\n",
    "plt.rcParams[\"lines.linewidth\"] = 0.5\n",
    "plt.rcParams[\"axes.linewidth\"] = 0.5\n",
    "plt.rcParams[\"axes.spines.top\"] = False\n",
    "plt.rcParams[\"xtick.major.width\"] = 0.5 \n",
    "plt.rcParams[\"xtick.minor.width\"] = 0.5 \n",
    "plt.rcParams[\"ytick.major.width\"] = 0.5 \n",
    "plt.rcParams[\"ytick.minor.width\"] = 0.5\n",
    "plt.rcParams[\"xtick.major.size\"] = 3.5 * 1.1\n",
    "plt.rcParams[\"xtick.minor.size\"] = 2 * 1.1\n",
    "plt.rcParams[\"ytick.major.size\"] = 3.5 * 1.1\n",
    "plt.rcParams[\"ytick.minor.size\"] = 2 * 1.1\n",
    "\n",
    "# legend\n",
    "savefig_cfg = {\"transparent\":True, \"dpi\":300}\n",
    "legend_cfg = {\"frameon\": False, \"handletextpad\": 0.1}\n",
    "tight_layout_cfg = {\"pad\": 0.5}\n",
    "LG_FRAMEON = False              # no legend frame"
   ]
  },
  {
   "cell_type": "markdown",
   "metadata": {},
   "source": [
    "## Clear RAM"
   ]
  },
  {
   "cell_type": "code",
   "execution_count": 2,
   "metadata": {},
   "outputs": [
    {
     "name": "stdout",
     "output_type": "stream",
     "text": [
      "[sudo] password for steeve: "
     ]
    }
   ],
   "source": [
    "# clear RAM\n",
    "import getpass; password = getpass.getpass(\"Enter your sudo password: \")\n",
    "!sync; echo {password} | sudo -S sh -c 'echo 1 > /proc/sys/vm/drop_caches'"
   ]
  },
  {
   "cell_type": "markdown",
   "metadata": {},
   "source": [
    "## Load/prep data"
   ]
  },
  {
   "cell_type": "code",
   "execution_count": 9,
   "metadata": {},
   "outputs": [
    {
     "name": "stdout",
     "output_type": "stream",
     "text": [
      "CommonReferenceRecording: 128 channels - 20.0kHz - 1 segments - 18,000,000 samples \n",
      "                          900.00s (15.00 minutes) - float32 dtype - 8.58 GiB\n",
      "gain: [0.195 0.195 0.195 0.195 0.195 0.195 0.195 0.195 0.195 0.195 0.195 0.195\n",
      " 0.195 0.195 0.195 0.195 0.195 0.195 0.195 0.195 0.195 0.195 0.195 0.195\n",
      " 0.195 0.195 0.195 0.195 0.195 0.195 0.195 0.195 0.195 0.195 0.195 0.195\n",
      " 0.195 0.195 0.195 0.195 0.195 0.195 0.195 0.195 0.195 0.195 0.195 0.195\n",
      " 0.195 0.195 0.195 0.195 0.195 0.195 0.195 0.195 0.195 0.195 0.195 0.195\n",
      " 0.195 0.195 0.195 0.195 0.195 0.195 0.195 0.195 0.195 0.195 0.195 0.195\n",
      " 0.195 0.195 0.195 0.195 0.195 0.195 0.195 0.195 0.195 0.195 0.195 0.195\n",
      " 0.195 0.195 0.195 0.195 0.195 0.195 0.195 0.195 0.195 0.195 0.195 0.195\n",
      " 0.195 0.195 0.195 0.195 0.195 0.195 0.195 0.195 0.195 0.195 0.195 0.195\n",
      " 0.195 0.195 0.195 0.195 0.195 0.195 0.195 0.195 0.195 0.195 0.195 0.195\n",
      " 0.195 0.195 0.195 0.195 0.195 0.195 0.195 0.195]\n",
      "CPU times: user 3.09 ms, sys: 714 µs, total: 3.81 ms\n",
      "Wall time: 3.49 ms\n"
     ]
    }
   ],
   "source": [
    "%%time \n",
    "\n",
    "# load recording\n",
    "Recording = si.load_extractor(REC_PATH)\n",
    "\n",
    "# set gain to uV (0.195 described in https://doi.org/10.1038/s41597-021-00970-3)\n",
    "Recording.set_channel_gains(GAIN_TO_UV)\n",
    "\n",
    "# get shorter dration\n",
    "Recording = Recording.frame_slice(0, int(DURATION * Recording.get_sampling_frequency()))\n",
    "\n",
    "# preprocess\n",
    "Recording = spre.highpass_filter(Recording, freq_min=FREQ_MIN)\n",
    "Recording = spre.common_reference(Recording, reference=REF, operator=OPERATOR)\n",
    "\n",
    "# report\n",
    "print(Recording)\n",
    "print(\"gain:\", Recording.get_channel_gains())"
   ]
  },
  {
   "cell_type": "markdown",
   "metadata": {},
   "source": [
    "## Extract voltage trace"
   ]
  },
  {
   "cell_type": "code",
   "execution_count": 4,
   "metadata": {},
   "outputs": [
    {
     "name": "stdout",
     "output_type": "stream",
     "text": [
      "CPU times: user 50 s, sys: 7.21 s, total: 57.2 s\n",
      "Wall time: 58.7 s\n"
     ]
    }
   ],
   "source": [
    "%%time \n",
    "\n",
    "# get a site in layer 5\n",
    "LAYER = \"L5\"\n",
    "L5_SITE = 79 \n",
    "SAMPLE_START = 15868440\n",
    "\n",
    "# get site id\n",
    "layers = Recording.get_property(\"layers\")\n",
    "site = np.where(layers == LAYER)[0][L5_SITE]\n",
    "\n",
    "# extract traces\n",
    "traces = Recording.get_traces(channel_ids=[str(site)], return_scaled=True)\n",
    "\n",
    "# extract a one-second period\n",
    "one_sec_period = np.arange(SAMPLE_START, SAMPLE_START + Recording.get_sampling_frequency(), 1).astype(int)\n",
    "\n",
    "# extract site trace within period\n",
    "fig_data = traces[one_sec_period, :]\n",
    "\n",
    "# save figure data\n",
    "if SAVE_FIG_DATA:\n",
    "    np.save(FIG_DATA_PATH, fig_data)"
   ]
  },
  {
   "cell_type": "markdown",
   "metadata": {},
   "source": [
    "## Plot"
   ]
  },
  {
   "cell_type": "code",
   "execution_count": 8,
   "metadata": {},
   "outputs": [
    {
     "name": "stdout",
     "output_type": "stream",
     "text": [
      "CPU times: user 11.8 ms, sys: 1.97 ms, total: 13.7 ms\n",
      "Wall time: 17.9 ms\n"
     ]
    },
    {
     "data": {
      "image/png": "[encoded data removed]",
      "text/plain": [
       "<Figure size 90x70 with 1 Axes>"
      ]
     },
     "metadata": {},
     "output_type": "display_data"
    }
   ],
   "source": [
    "%%time \n",
    "\n",
    "yticks = np.array([np.ceil(fig_data.min()), 0, np.ceil(fig_data.max())]).astype(int)\n",
    "\n",
    "# setup plot\n",
    "fig, ax = plt.subplots(1, 1, figsize=FIG_SIZE)\n",
    "\n",
    "# plot extracted voltage trace\n",
    "ax.plot(fig_data, color=COLOR_HV)\n",
    "\n",
    "# aesthetics\n",
    "ax.spines[[\"right\", \"top\"]].set_visible(False)\n",
    "ax.set_ylabel(\"Voltage (\\u03bcV)\")\n",
    "ax.set_xlabel(\"Time (ms)\")\n",
    "ax.set_xticks([0, Recording.get_sampling_frequency() / 2, Recording.get_sampling_frequency()], [0, 500, 1000])\n",
    "ax.set_xlim([0, Recording.get_sampling_frequency()])\n",
    "ax.set_yticks(yticks, yticks)\n",
    "ax.set_yticklabels(yticks)\n",
    "ax.set_ylim([yticks[0], yticks[-1]])\n",
    "ax.spines[\"bottom\"].set_position((\"axes\", -0.05))\n",
    "ax.yaxis.set_ticks_position(\"left\")\n",
    "ax.spines[\"left\"].set_position((\"axes\", -0.05))\n",
    "\n",
    "# save\n",
    "if SAVE_FIG:\n",
    "    plt.savefig(\"figures/0_validation/1_components/fig2e_compo_vivo_horv.svg\", dpi=300, transparent=True, bbox_inches=\"tight\")"
   ]
  }
 ],
 "metadata": {
  "kernelspec": {
   "display_name": "spikebias",
   "language": "python",
   "name": "python3"
  },
  "language_info": {
   "codemirror_mode": {
    "name": "ipython",
    "version": 3
   },
   "file_extension": ".py",
   "mimetype": "text/x-python",
   "name": "python",
   "nbconvert_exporter": "python",
   "pygments_lexer": "ipython3",
   "version": "3.9.7"
  }
 },
 "nbformat": 4,
 "nbformat_minor": 4
}
