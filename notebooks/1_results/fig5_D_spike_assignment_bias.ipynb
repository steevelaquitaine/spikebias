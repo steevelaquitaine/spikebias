{
 "cells": [
  {
   "attachments": {},
   "cell_type": "markdown",
   "metadata": {},
   "source": [
    "# Spike assignment biases\n",
    "\n",
    "author: steeve.laquitaine@epfl.ch  \n",
    "last modified: 13-02-2024\n",
    "\n",
    "**Method**:\n",
    "\n",
    "* **delta_time (Δ𝑡)** = 1.3 ms: the time windows before and after the spike timestamp of a ground truth. When a the timestamp of a sorted unit falls within this time window, they coincide and the sorted timestamp is a hit.\n",
    "* **chance level score**: see paper\n",
    "* **dark (missed) units**: ground truth units with sorting accuracy below the chance agreement score (their best match with a sorted unit produce an agreement score below chance).\n",
    "* **false positive units**: units which timestamps never hit the timestamps of the ground truth units wihin 50 microns of the probe: they never fall withing the delta_time window.\n",
    "\n",
    "**New!**\n",
    "* delta_time: 1.3 ms instead of 0.4 ms\n",
    "* chance score: theoretically derived instead of 0.1\n",
    "* false positive: units with all scores below chance \n",
    "\n",
    "**TODO**:\n",
    "* do the same for the dense spontaneous recording: ensure that for each layer, we fully cover each layer only once, same as for neuropixels to enable a fair comparison.\n",
    "Because of the multiple probe insertions we might cover a layer twice, which would oversample it and change the overall ratio of sorted unit qualities.\n",
    "\n"
   ]
  },
  {
   "attachments": {},
   "cell_type": "markdown",
   "metadata": {},
   "source": [
    "### Setup\n",
    "\n",
    "1. Create or activate env `spikeinterf...`\n",
    "2. Faster! Pre-compute data on cluster with: `sbatch cluster/analysis/sorting_quality.sh`"
   ]
  },
  {
   "cell_type": "code",
   "execution_count": 1,
   "metadata": {},
   "outputs": [
    {
     "name": "stdout",
     "output_type": "stream",
     "text": [
      "2024-11-22 21:34:29,144 - root - utils.py - get_config - INFO - Reading experiment config.\n",
      "2024-11-22 21:34:29,167 - root - utils.py - get_config - INFO - Reading experiment config. - done\n",
      "2024-11-22 21:34:29,169 - root - utils.py - get_config - INFO - Reading experiment config.\n",
      "2024-11-22 21:34:29,215 - root - utils.py - get_config - INFO - Reading experiment config. - done\n",
      "2024-11-22 21:34:29,216 - root - utils.py - get_config - INFO - Reading experiment config.\n",
      "2024-11-22 21:34:29,281 - root - utils.py - get_config - INFO - Reading experiment config. - done\n",
      "2024-11-22 21:34:29,282 - root - utils.py - get_config - INFO - Reading experiment config.\n",
      "2024-11-22 21:34:29,321 - root - utils.py - get_config - INFO - Reading experiment config. - done\n",
      "2024-11-22 21:34:29,323 - root - utils.py - get_config - INFO - Reading experiment config.\n",
      "2024-11-22 21:34:29,366 - root - utils.py - get_config - INFO - Reading experiment config. - done\n",
      "2024-11-22 21:34:29,367 - root - utils.py - get_config - INFO - Reading experiment config.\n",
      "2024-11-22 21:34:29,407 - root - utils.py - get_config - INFO - Reading experiment config. - done\n"
     ]
    }
   ],
   "source": [
    "%load_ext autoreload\n",
    "%autoreload 2\n",
    "import os \n",
    "from matplotlib import pyplot as plt\n",
    "import numpy as np\n",
    "import pandas as pd\n",
    "\n",
    "# set project path\n",
    "proj_path = \"/gpfs/bbp.cscs.ch/project/proj85/home/laquitai/spikebias/\"\n",
    "os.chdir(proj_path)\n",
    "\n",
    "from src.nodes import utils\n",
    "from src.nodes.utils import get_config\n",
    "from src.nodes.metrics import quality\n",
    "\n",
    "# PARAMETERS\n",
    "DUR = 600 # 10 minutes recording\n",
    "DT = 1.3 # ms (optimized)\n",
    "THR_GOOD = 0.8\n",
    "\n",
    "# DATASETS\n",
    "\n",
    "# NPX PROBE\n",
    "# Synthetic (10m)\n",
    "cfg_nb, _ = get_config(\"buccino_2020\", \"2020\").values()\n",
    "GT_nb_10m = cfg_nb[\"ground_truth\"][\"10m\"][\"output\"]\n",
    "KS4_nb_10m = cfg_nb[\"sorting\"][\"sorters\"][\"kilosort4\"][\"10m\"][\"output\"]\n",
    "KS3_nb_10m = cfg_nb[\"sorting\"][\"sorters\"][\"kilosort3\"][\"10m\"][\"output\"]\n",
    "KS2_5_nb_10m = cfg_nb[\"sorting\"][\"sorters\"][\"kilosort2_5\"][\"10m\"][\"output\"]\n",
    "KS2_nb_10m = cfg_nb[\"sorting\"][\"sorters\"][\"kilosort2\"][\"10m\"][\"output\"]\n",
    "KS_nb_10m = cfg_nb[\"sorting\"][\"sorters\"][\"kilosort\"][\"10m\"][\"output\"]\n",
    "HS_nb_10m = cfg_nb[\"sorting\"][\"sorters\"][\"herdingspikes\"][\"10m\"][\"output\"]\n",
    "REC_nb = cfg_nb[\"probe_wiring\"][\"full\"][\"output\"]\n",
    "\n",
    "# biophy spont (10m)\n",
    "cfg_ns, _ = get_config(\"silico_neuropixels\", \"npx_spont\").values()\n",
    "KS4_ns_10m = cfg_ns[\"sorting\"][\"sorters\"][\"kilosort4\"][\"10m\"][\"output\"]\n",
    "KS3_ns_10m = cfg_ns[\"sorting\"][\"sorters\"][\"kilosort3\"][\"10m\"][\"output\"]\n",
    "KS2_5_ns_10m = cfg_ns[\"sorting\"][\"sorters\"][\"kilosort2_5\"][\"10m\"][\"output\"]\n",
    "KS2_ns_10m = cfg_ns[\"sorting\"][\"sorters\"][\"kilosort2\"][\"10m\"][\"output\"]\n",
    "KS_ns_10m = cfg_ns[\"sorting\"][\"sorters\"][\"kilosort\"][\"10m\"][\"output\"]\n",
    "HS_ns_10m = cfg_ns[\"sorting\"][\"sorters\"][\"herdingspikes\"][\"10m\"][\"output\"]\n",
    "GT_ns_10m = cfg_ns[\"ground_truth\"][\"10m\"][\"output\"]\n",
    "REC_ns = cfg_ns[\"probe_wiring\"][\"full\"][\"output\"]\n",
    "\n",
    "# biophy evoked\n",
    "cfg_ne, _ = get_config(\"silico_neuropixels\", \"npx_evoked\").values()\n",
    "KS4_ne_10m = cfg_ne[\"sorting\"][\"sorters\"][\"kilosort4\"][\"10m\"][\"output\"]\n",
    "KS3_ne_10m = cfg_ne[\"sorting\"][\"sorters\"][\"kilosort3\"][\"10m\"][\"output\"]\n",
    "KS2_5_ne_10m = cfg_ne[\"sorting\"][\"sorters\"][\"kilosort2_5\"][\"10m\"][\"output\"]\n",
    "KS2_ne_10m = cfg_ne[\"sorting\"][\"sorters\"][\"kilosort2\"][\"10m\"][\"output\"]\n",
    "KS_ne_10m = cfg_ne[\"sorting\"][\"sorters\"][\"kilosort\"][\"10m\"][\"output\"]\n",
    "HS_ne_10m = cfg_ne[\"sorting\"][\"sorters\"][\"herdingspikes\"][\"10m\"][\"output\"]\n",
    "GT_ne_10m = cfg_ne[\"ground_truth\"][\"10m\"][\"output\"]\n",
    "REC_ne = cfg_ne[\"probe_wiring\"][\"full\"][\"output\"]\n",
    "\n",
    "# DENSE PROBE \n",
    "# depth 1\n",
    "cfg_ds1, _ = get_config(\"dense_spont\", \"probe_1\").values()\n",
    "K4_d1 = cfg_ds1[\"sorting\"][\"sorters\"][\"kilosort4\"][\"10m\"][\"output\"]\n",
    "K3_d1 = cfg_ds1[\"sorting\"][\"sorters\"][\"kilosort3\"][\"10m\"][\"output\"]\n",
    "K25_d1 = cfg_ds1[\"sorting\"][\"sorters\"][\"kilosort2_5\"][\"10m\"][\"output\"]\n",
    "K2_d1 = cfg_ds1[\"sorting\"][\"sorters\"][\"kilosort2\"][\"10m\"][\"output\"]\n",
    "K_d1 = cfg_ds1[\"sorting\"][\"sorters\"][\"kilosort\"][\"10m\"][\"output\"]\n",
    "H_d1 = cfg_ds1[\"sorting\"][\"sorters\"][\"herdingspikes\"][\"10m\"][\"output\"]\n",
    "R_d1 = cfg_ds1[\"probe_wiring\"][\"full\"][\"output\"]\n",
    "T_d1 = cfg_ds1[\"ground_truth\"][\"10m\"][\"output\"]\n",
    "\n",
    "# depth 2\n",
    "cfg_ds2, _ = get_config(\"dense_spont\", \"probe_2\").values()\n",
    "K4_d2 = cfg_ds2[\"sorting\"][\"sorters\"][\"kilosort4\"][\"10m\"][\"output\"]\n",
    "K3_d2 = cfg_ds2[\"sorting\"][\"sorters\"][\"kilosort3\"][\"10m\"][\"output\"]\n",
    "K25_d2 = cfg_ds2[\"sorting\"][\"sorters\"][\"kilosort2_5\"][\"10m\"][\"output\"]\n",
    "K2_d2 = cfg_ds2[\"sorting\"][\"sorters\"][\"kilosort2\"][\"10m\"][\"output\"]\n",
    "K_d2 = cfg_ds2[\"sorting\"][\"sorters\"][\"kilosort\"][\"10m\"][\"output\"]\n",
    "H_d2 = cfg_ds2[\"sorting\"][\"sorters\"][\"herdingspikes\"][\"10m\"][\"output\"]\n",
    "R_d2 = cfg_ds2[\"probe_wiring\"][\"full\"][\"output\"]\n",
    "T_d2 = cfg_ds2[\"ground_truth\"][\"10m\"][\"output\"]\n",
    "\n",
    "# depth 3\n",
    "cfg_ds3, _ = get_config(\"dense_spont\", \"probe_3\").values()\n",
    "K4_d3 = cfg_ds3[\"sorting\"][\"sorters\"][\"kilosort4\"][\"10m\"][\"output\"]\n",
    "K3_d3 = cfg_ds3[\"sorting\"][\"sorters\"][\"kilosort3\"][\"10m\"][\"output\"]\n",
    "K25_d3 = cfg_ds3[\"sorting\"][\"sorters\"][\"kilosort2_5\"][\"10m\"][\"output\"]\n",
    "K2_d3 = cfg_ds3[\"sorting\"][\"sorters\"][\"kilosort2\"][\"10m\"][\"output\"]\n",
    "K_d3 = cfg_ds3[\"sorting\"][\"sorters\"][\"kilosort\"][\"10m\"][\"output\"]\n",
    "H_d3 = cfg_ds3[\"sorting\"][\"sorters\"][\"herdingspikes\"][\"10m\"][\"output\"]\n",
    "R_d3 = cfg_ds3[\"probe_wiring\"][\"full\"][\"output\"]\n",
    "T_d3 = cfg_ds3[\"ground_truth\"][\"10m\"][\"output\"]\n",
    "\n",
    "\n",
    "# pre-computed qualities\n",
    "quality_path = \"tmp_dataset/sorting_quality.csv\"\n",
    "\n",
    "# FIGURE SETTINGS\n",
    "# ticks\n",
    "N_MJ_TCKS = 5\n",
    "N_MN_TCKS = 11\n",
    "\n",
    "# colors\n",
    "# quality colors\n",
    "cl = {\"good\": [0.7, 0.1, 0.1], # strong red\n",
    "      \"oversplitter\": [0.6, 0.9, 0.6], # blue\n",
    "      \"overmerger\": [0, 0.7, 1], # green\n",
    "      \"mixed: good + overmerger\": np.array([[0.7, 0.1, 0.1], [0, 0.7, 1]]).mean(axis=0),\n",
    "      \"mixed: good + oversplitter\": np.array([[0.7, 0.1, 0.1], [0.6, 0.9, 0.6]]).mean(axis=0),\n",
    "      \"mixed: overmerger + oversplitter\": np.array([[0.6, 0.9, 0.6], [0, 0.7, 1]]).mean(axis=0),\n",
    "      \"mixed: good + overmerger + oversplitter\": np.array([[0.7, 0.1, 0.1], [0, 0.7, 1],[0.6, 0.9, 0.6]]).mean(axis=0),\n",
    "      \"false positive\": [1,1,1] # white\n",
    "}\n",
    "\n",
    "# axes\n",
    "plt.rcParams[\"font.family\"] = \"Arial\"\n",
    "plt.rcParams[\"font.size\"] = 6  # 5-7 with Nature neuroscience as reference\n",
    "plt.rcParams[\"lines.linewidth\"] = 0.5 # typically between 0.5 and 1\n",
    "plt.rcParams[\"axes.linewidth\"] = 0.5 #1\n",
    "plt.rcParams[\"axes.spines.top\"] = False\n",
    "plt.rcParams[\"xtick.major.width\"] = 0.5 #0.8 #* 1.3\n",
    "plt.rcParams[\"xtick.minor.width\"] = 0.5 #0.8 #* 1.3\n",
    "plt.rcParams[\"ytick.major.width\"] = 0.5 #0.8 #* 1.3\n",
    "plt.rcParams[\"ytick.minor.width\"] = 0.5 #0.8 #* 1.3\n",
    "plt.rcParams[\"xtick.major.size\"] = 3.5 * 1.1\n",
    "plt.rcParams[\"xtick.minor.size\"] = 2 * 1.1\n",
    "plt.rcParams[\"ytick.major.size\"] = 3.5 * 1.1\n",
    "plt.rcParams[\"ytick.minor.size\"] = 2 * 1.1\n",
    "# legend\n",
    "legend_cfg = {\"frameon\": False, \"handletextpad\": 0.5}\n",
    "tight_layout_cfg = {\"pad\": 0.001}\n",
    "LG_FRAMEON = False              # no legend frame"
   ]
  },
  {
   "cell_type": "markdown",
   "metadata": {},
   "source": [
    "### (1m)Scores\n",
    "\n",
    "* sorted single-units only\n",
    "* 10 minutes recordings\n",
    "* for the dense probe, sorted units filtered such that there is no overepresentation of a layer: from L1, L2/3 from depth 1, L4,5 (depth 2), L6 (depth 3)\n"
   ]
  },
  {
   "cell_type": "markdown",
   "metadata": {},
   "source": [
    "### (60m)Chance scores\n",
    "\n",
    "* sorted single-units only\n",
    "* chance scores are derived theoretically"
   ]
  },
  {
   "cell_type": "markdown",
   "metadata": {},
   "source": [
    "### (36m)Evaluate sorted units\n"
   ]
  },
  {
   "cell_type": "code",
   "execution_count": 2,
   "metadata": {},
   "outputs": [],
   "source": [
    "# read pre-computed data\n",
    "df = pd.read_csv(quality_path)\n",
    "\n",
    "# rename \"outside\" layer for plot\n",
    "df[df[\"layer\"] == \"Outside\"] = \"Out\""
   ]
  },
  {
   "cell_type": "markdown",
   "metadata": {},
   "source": [
    "### Plot by layer x sorter x experiment"
   ]
  },
  {
   "cell_type": "code",
   "execution_count": 3,
   "metadata": {},
   "outputs": [
    {
     "name": "stderr",
     "output_type": "stream",
     "text": [
      "/tmp/ipykernel_117104/1173705262.py:81: UserWarning: This figure was using a layout engine that is incompatible with subplots_adjust and/or tight_layout; not calling subplots_adjust.\n",
      "  plt.subplots_adjust(wspace=0, hspace=1)\n"
     ]
    },
    {
     "data": {
      "image/png": "[encoded data removed]",
      "text/plain": [
       "<Figure size 550x200 with 24 Axes>"
      ]
     },
     "metadata": {},
     "output_type": "display_data"
    }
   ],
   "source": [
    "# spike sorters\n",
    "sorter = [\"KS4\", \"KS3\", \"KS2.5\", \"KS2\", \"KS\", \"HS\"]\n",
    "\n",
    "# plot\n",
    "fig = plt.figure(figsize=(5.5, 2), layout=\"constrained\")\n",
    "spec = fig.add_gridspec(ncols=len(sorter), nrows=4)\n",
    "\n",
    "# loop over sorter (grid columns)\n",
    "for s_ix, sorter_i in enumerate(sorter):\n",
    "\n",
    "    # S\n",
    "    ax = fig.add_subplot(spec[0, s_ix])\n",
    "    ax = quality._plot_ratio_by_layer(\n",
    "        ax,\n",
    "        df[(df[\"sorter\"] == sorter_i) & (df[\"experiment\"] == \"S\")],\n",
    "        cl,\n",
    "        legend_cfg,\n",
    "        False,\n",
    "        False,\n",
    "    )\n",
    "    ax.set_xlim([-4, 2])\n",
    "    if s_ix == 0:\n",
    "        ax.spines[\"left\"].set_visible(True)\n",
    "        ax.set_yticks([0, 25, 50, 75, 100], [0, 0.25, 0.5, 0.75, 1])\n",
    "    else:\n",
    "        ax.set_yticks([])\n",
    "    ax.set_xticks([])\n",
    "\n",
    "    # NS\n",
    "    ax = fig.add_subplot(spec[1, s_ix])\n",
    "    ax = quality._plot_ratio_by_layer(\n",
    "        ax,\n",
    "        df[(df[\"sorter\"] == sorter_i) & (df[\"experiment\"] == \"NS\")],\n",
    "        cl,\n",
    "        legend_cfg,\n",
    "        False,\n",
    "        False,\n",
    "    )\n",
    "    if s_ix == 0:\n",
    "        ax.spines[\"left\"].set_visible(True)\n",
    "        ax.set_yticks([0, 25, 50, 75, 100], [0, 0.25, 0.5, 0.75, 1])\n",
    "    else:\n",
    "        ax.set_yticks([])\n",
    "    ax.set_xticks([])\n",
    "\n",
    "    # DS\n",
    "    ax = fig.add_subplot(spec[2, s_ix])\n",
    "    ax = quality._plot_ratio_by_layer(\n",
    "        ax,\n",
    "        df[(df[\"sorter\"] == sorter_i) & (df[\"experiment\"] == \"DS\")],\n",
    "        cl,\n",
    "        legend_cfg,\n",
    "        False,\n",
    "        False,\n",
    "    )\n",
    "    if s_ix == 0:\n",
    "        ax.spines[\"left\"].set_visible(True)\n",
    "        ax.set_yticks([0, 25, 50, 75, 100], [0, 0.25, 0.5, 0.75, 1])\n",
    "    else:\n",
    "        ax.set_yticks([])\n",
    "    ax.set_xticks([])\n",
    "\n",
    "    # E\n",
    "    ax = fig.add_subplot(spec[3, s_ix])\n",
    "    ax = quality._plot_ratio_by_layer(\n",
    "        ax,\n",
    "        df[(df[\"sorter\"] == sorter_i) & (df[\"experiment\"] == \"E\")],\n",
    "        cl,\n",
    "        legend_cfg,\n",
    "        False,\n",
    "        False,\n",
    "    )\n",
    "    if s_ix == 0:\n",
    "        ax.spines[\"left\"].set_visible(True)\n",
    "        ax.set_yticks([0, 25, 50, 75, 100], [0, 0.25, 0.5, 0.75, 1])\n",
    "    else:\n",
    "        ax.set_yticks([])\n",
    "\n",
    "# tidy\n",
    "# fig.tight_layout(**tight_layout_cfg)\n",
    "plt.subplots_adjust(wspace=0, hspace=1)\n",
    "\n",
    "# save\n",
    "# utils.savefig(\"figures/1_sorting_quality/yield/assets/fig5C_sorting_quality.svg\")"
   ]
  },
  {
   "cell_type": "code",
   "execution_count": 13,
   "metadata": {},
   "outputs": [
    {
     "name": "stdout",
     "output_type": "stream",
     "text": [
      "['mixed: good + overmerger + oversplitter'\n",
      " 'mixed: overmerger + oversplitter']\n",
      "['mixed: good + overmerger + oversplitter'\n",
      " 'mixed: overmerger + oversplitter']\n",
      "['mixed: good + overmerger + oversplitter'\n",
      " 'mixed: overmerger + oversplitter']\n",
      "['mixed: good + overmerger + oversplitter'\n",
      " 'mixed: overmerger + oversplitter']\n"
     ]
    }
   ],
   "source": [
    "print(df[(df[\"sorter\"] == \"KS4\") & (df[\"experiment\"] == \"NS\")][\"quality\"].unique())\n",
    "\n",
    "print(df[(df[\"sorter\"] == \"KS4\") & (df[\"experiment\"] == \"E\")][\"quality\"].unique())\n",
    "\n",
    "print(df[(df[\"sorter\"] == \"KS4\") & (df[\"experiment\"] == \"DS\")][\"quality\"].unique())\n",
    "\n",
    "print(df[(df[\"sorter\"] == \"KS4\") & (df[\"experiment\"] == \"S\")][\"quality\"].unique())"
   ]
  },
  {
   "cell_type": "code",
   "execution_count": 4,
   "metadata": {},
   "outputs": [
    {
     "data": {
      "image/png": "[encoded data removed]",
      "text/plain": [
       "<Figure size 550x200 with 1 Axes>"
      ]
     },
     "metadata": {},
     "output_type": "display_data"
    }
   ],
   "source": [
    "# create full legend\n",
    "fig, ax = plt.subplots(figsize=(5.5, 2))\n",
    "ax = plt.bar(\n",
    "    np.arange(0, len(cl.keys()), 1),\n",
    "    np.zeros(len(cl.keys())),\n",
    "    color=cl.values(),\n",
    "    label=cl.keys(),\n",
    ")\n",
    "plt.legend(**legend_cfg, ncol=4)\n",
    "utils.savefig(\"figures/1_sorting_quality/yield/assets/fig5C_sorting_quality_lgd.svg\")"
   ]
  },
  {
   "cell_type": "markdown",
   "metadata": {},
   "source": [
    "### References\n",
    "\n",
    "(1) https://neuronaldynamics.epfl.ch/online/Ch7.S2.html"
   ]
  }
 ],
 "metadata": {
  "kernelspec": {
   "display_name": "spikinterf0_100_5",
   "language": "python",
   "name": "python3"
  },
  "language_info": {
   "codemirror_mode": {
    "name": "ipython",
    "version": 3
   },
   "file_extension": ".py",
   "mimetype": "text/x-python",
   "name": "python",
   "nbconvert_exporter": "python",
   "pygments_lexer": "ipython3",
   "version": "3.9.7"
  },
  "orig_nbformat": 4
 },
 "nbformat": 4,
 "nbformat_minor": 2
}
