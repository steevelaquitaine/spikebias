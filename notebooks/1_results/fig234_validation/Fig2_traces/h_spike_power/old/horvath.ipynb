{
 "cells": [
  {
   "attachments": {},
   "cell_type": "markdown",
   "metadata": {},
   "source": [
    "# Power density spectrum"
   ]
  },
  {
   "attachments": {},
   "cell_type": "markdown",
   "metadata": {},
   "source": [
    "TODO:\n",
    "\n",
    "- What is the unit of amplitude of the Reyes recording trace (mV or microVolt)?\n",
    "- our is in mV (BlueConfig under lfp report)\n",
    "- plot by channel and by layer \n",
    "\n"
   ]
  },
  {
   "attachments": {},
   "cell_type": "markdown",
   "metadata": {},
   "source": [
    "### Setup\n",
    "\n",
    "Activate `npx_10m_384ch_unit_classes` venv"
   ]
  },
  {
   "cell_type": "code",
   "execution_count": 1,
   "metadata": {},
   "outputs": [
    {
     "name": "stdout",
     "output_type": "stream",
     "text": [
      "2023-07-10 19:09:20,202 - root - utils.py - get_config - INFO - Reading experiment config.\n",
      "2023-07-10 19:09:20,242 - root - utils.py - get_config - INFO - Reading experiment config. - done\n"
     ]
    }
   ],
   "source": [
    "from matplotlib import pyplot as plt\n",
    "import numpy as np\n",
    "import scipy\n",
    "import spikeinterface.extractors as se \n",
    "import os\n",
    "import spikeinterface as si\n",
    "import spikeinterface.preprocessing as spre\n",
    "\n",
    "# SET PROJECT PATH\n",
    "# PROJ_PATH = \"/gpfs/bbp.cscs.ch/project/proj68/home/laquitai/spike-sorting\"\n",
    "PROJ_PATH = \"/gpfs/bbp.cscs.ch/project/proj68/home/laquitai/cns_2023_on_git/\"\n",
    "\n",
    "os.chdir(PROJ_PATH)\n",
    "\n",
    "from src.nodes.utils import get_config\n",
    "\n",
    "# SETUP NPX EXPERIMENT\n",
    "EXPERIMENT = \"silico_neuropixels\"\n",
    "SIMULATION_DATE = \"2023_02_19\"\n",
    "data_conf, param_conf = get_config(EXPERIMENT, SIMULATION_DATE).values()\n",
    "\n",
    "# set channel\n",
    "CHANNEL_ID = 0\n",
    "\n",
    "# SETUP REAL REYES EXPERIMENT\n",
    "\n",
    "DATA_PATH = \"/gpfs/bbp.cscs.ch/project/proj68/scratch/imbeni/sorting/dataset/horvath/Rat01/Insertion1/Depth2/Rat01_Insertion1_Depth2.nwb\"\n",
    "\n",
    "# our model\n",
    "RAW_RECORDING_PATH = data_conf[\"recording\"][\"output\"]"
   ]
  },
  {
   "cell_type": "code",
   "execution_count": 53,
   "metadata": {},
   "outputs": [],
   "source": [
    "def get_power_spectrum(recording, channel_id:int):\n",
    "\n",
    "    # get recordig sampling frequency\n",
    "    samp_freq = int(recording.get_sampling_frequency())\n",
    "\n",
    "    # take n instances of 1 sec each\n",
    "    # n_instances = np.floor(recording.get_total_duration())\n",
    "    n_instances = 80 # 80 pieces\n",
    "\n",
    "    # get all traces\n",
    "    traces = recording.get_traces()    \n",
    "\n",
    "    # split into n consecutive sequences\n",
    "    sequences = np.array_split(traces[:, channel_id], n_instances)\n",
    "\n",
    "    # record consecutive trace instances in a list\n",
    "    psds = []\n",
    "    fs = []\n",
    "    for signal_i in sequences:\n",
    "        (f, S) = scipy.signal.periodogram(signal_i, samp_freq, scaling='density') \n",
    "        psds.append(S)\n",
    "        fs.append(f)\n",
    "\n",
    "    psds = np.array(psds)\n",
    "    fs = np.array(fs)\n",
    "    return psds, fs\n",
    "\n",
    "def plot_power_spectrum_stats(psds, fs, axes, color):\n",
    "    \n",
    "    # init figure\n",
    "    if axes is None:\n",
    "        fig, axes = plt.subplots(1,21,figsize=(7,3))\n",
    "        \n",
    "    # calculate stats over instances\n",
    "    mean_psds = np.mean(psds, axis=0)\n",
    "    ci = 1.96 * np.std(psds, axis=0) / np.sqrt(len(fs[0]))\n",
    "\n",
    "    # Zoom in on the plot (same as range as Martinez, 2009, JNMethods)\n",
    "    axes[1].plot(fs[0], mean_psds, color=color, linewidth=0.5, label=\"mean\");\n",
    "\n",
    "    # Plot the confidence interval\n",
    "    axes[1].fill_between(fs[0], (mean_psds-ci), (mean_psds+ci), color=[.7, .7, .7], linewidth=1)\n",
    "\n",
    "    # legend\n",
    "    axes[1].set_title(\"zoom in\")\n",
    "    axes[1].set_xlim([-50, 3000]);\n",
    "    axes[1].set_ylim([-5000, 1e5]);\n",
    "    axes[1].set_xlabel(\"frequency (Hz)\", fontsize=9);\n",
    "    axes[1].set_ylabel(\"power spectrum density ($mV^2/Hz$)\", fontsize=9);\n",
    "    axes[1].spines[[\"right\", \"top\"]].set_visible(False)\n",
    "    # plt.legend();\n",
    "    plt.tight_layout()\n",
    "    return axes"
   ]
  },
  {
   "attachments": {},
   "cell_type": "markdown",
   "metadata": {},
   "source": [
    "### Real data (Horvath)"
   ]
  },
  {
   "cell_type": "code",
   "execution_count": 54,
   "metadata": {},
   "outputs": [],
   "source": [
    "# takes 20 min\n",
    "CHANNEL_ID = 10\n",
    "\n",
    "# load\n",
    "reyes_recording = se.NwbRecordingExtractor(DATA_PATH)\n",
    "\n",
    "# preprocess (sampling frequency is 20,000 Hz)\n",
    "reyes_recording_pre = spre.bandpass_filter(reyes_recording, freq_min=300, freq_max=6000)\n",
    "reyes_recording_pre = spre.common_reference(reyes_recording_pre, reference='global', operator='median')\n",
    "\n",
    "# calculate raw data power density spectrum for each splits of a channel trace\n",
    "reyes_psds, reyes_fs = get_power_spectrum(reyes_recording, channel_id=CHANNEL_ID)\n",
    "\n",
    "# calculate preprocessed data power density spectrum for each splits of a channel trace\n",
    "reyes_pre_psds, reyes_pre_fs = get_power_spectrum(reyes_recording_pre, channel_id=CHANNEL_ID)"
   ]
  },
  {
   "cell_type": "code",
   "execution_count": 52,
   "metadata": {},
   "outputs": [],
   "source": [
    "# # get recordig sampling frequency\n",
    "# samp_freq = int(reyes_recording.get_sampling_frequency())\n",
    "\n",
    "# # take n instances of 1 sec each\n",
    "# # n_instances = np.floor(reyes_recording.get_total_duration())\n",
    "# n_instances = 80 # 80 pieces\n",
    "\n",
    "# # get all traces\n",
    "# traces = reyes_recording.get_traces()    \n",
    "\n",
    "# # split into n consecutive sequences\n",
    "# sequences = np.array_split(traces[:, CHANNEL_ID], n_instances)\n",
    "\n",
    "# # record consecutive trace instances in a list\n",
    "# psds = []\n",
    "# fs = []\n",
    "# for signal_i in sequences:\n",
    "#     (f, S) = scipy.signal.periodogram(signal_i, samp_freq, scaling='density') \n",
    "#     psds.append(S)\n",
    "#     fs.append(f)\n",
    "\n",
    "# psds = np.array(psds)\n",
    "# fs = np.array(fs)"
   ]
  },
  {
   "cell_type": "code",
   "execution_count": 55,
   "metadata": {},
   "outputs": [
    {
     "data": {
      "text/plain": [
       "CommonReferenceRecording: 128 channels - 1 segments - 20.0kHz - 3688.668s"
      ]
     },
     "execution_count": 55,
     "metadata": {},
     "output_type": "execute_result"
    }
   ],
   "source": [
    "reyes_recording_pre"
   ]
  },
  {
   "cell_type": "code",
   "execution_count": 56,
   "metadata": {},
   "outputs": [
    {
     "data": {
      "text/plain": [
       "True"
      ]
     },
     "execution_count": 56,
     "metadata": {},
     "output_type": "execute_result"
    }
   ],
   "source": [
    "# sanity check preprocessing worked\n",
    "reyes_recording_pre.is_filtered()"
   ]
  },
  {
   "cell_type": "code",
   "execution_count": 57,
   "metadata": {},
   "outputs": [],
   "source": [
    "def plot_power_spectrum_stats(psds, psds_prep, freqs, color_raw, color_prep, ylim:list):\n",
    "\n",
    "    # init plot\n",
    "    _, axis = plt.subplots(1,1,figsize=(5,3))\n",
    "\n",
    "    # calculate stats over instances\n",
    "    mean_psds = np.mean(psds, axis=0)\n",
    "    ci = 1.96 * np.std(psds, axis=0) / np.sqrt(len(freqs[0]))\n",
    "\n",
    "    # zoom in on the plot (same as range as Martinez, 2009, JNMethods)\n",
    "    axis.plot(freqs[0], mean_psds, color=color_raw, linewidth=0.5, label=\"raw traces\");\n",
    "\n",
    "    # plot the confidence interval\n",
    "    axis.fill_between(freqs[0], (mean_psds-ci), (mean_psds+ci), color=[.7, .7, .7], linewidth=1)\n",
    "\n",
    "    # legend\n",
    "    axis.set_xlim([-50, 1520]);\n",
    "    axis.set_ylim(ylim);\n",
    "    axis.set_xlabel(\"frequency (Hz)\", fontsize=9);\n",
    "    axis.set_ylabel(\"power spectrum density ($mV^2/Hz$)\", fontsize=9);\n",
    "    axis.spines[[\"right\", \"top\"]].set_visible(False)\n",
    "    plt.tight_layout()\n",
    "\n",
    "    # calculate stats over instances\n",
    "    mean_psds = np.mean(psds_prep, axis=0)\n",
    "    ci = 1.96 * np.std(psds_prep, axis=0) / np.sqrt(len(freqs[0]))\n",
    "\n",
    "    # zoom in on the plot (same as range as Martinez, 2009, JNMethods)\n",
    "    axis.plot(freqs[0], mean_psds, color=color_prep, linewidth=0.5, label=\"preprocessed traces\");\n",
    "\n",
    "    # plot the confidence interval\n",
    "    axis.fill_between(freqs[0], (mean_psds-ci), (mean_psds+ci), color=[.7, .7, .7], linewidth=1)\n",
    "\n",
    "    # axis.set_yscale(\"log\")\n",
    "    \n",
    "    # legend\n",
    "    axis.set_xlim([-50, 1520]);\n",
    "    axis.set_ylim(ylim);\n",
    "    axis.set_xlabel(\"frequency (Hz)\", fontsize=9);\n",
    "    axis.set_ylabel(\"power spectrum density ($mV^2/Hz$)\", fontsize=9);\n",
    "    axis.spines[[\"right\", \"top\"]].set_visible(False)\n",
    "    plt.legend(frameon=False);   \n",
    "    plt.tight_layout()"
   ]
  },
  {
   "attachments": {},
   "cell_type": "markdown",
   "metadata": {},
   "source": [
    "Difference in amplitude might be because studies use different levels of signal amplification."
   ]
  },
  {
   "cell_type": "code",
   "execution_count": 69,
   "metadata": {},
   "outputs": [
    {
     "name": "stderr",
     "output_type": "stream",
     "text": [
      "/tmp/ipykernel_53934/3103520081.py:43: UserWarning: The figure layout has changed to tight\n",
      "  plt.tight_layout()\n"
     ]
    },
    {
     "data": {
      "image/png": "[encoded data removed]",
      "text/plain": [
       "<Figure size 500x300 with 1 Axes>"
      ]
     },
     "metadata": {},
     "output_type": "display_data"
    }
   ],
   "source": [
    "# reyes\n",
    "assert all(reyes_fs[0] == reyes_pre_fs[0])\n",
    "plot_power_spectrum_stats(reyes_psds, reyes_pre_psds, reyes_fs, color_raw=[1, 0.3, 0], color_prep=[1, 0.7, 0], ylim=[-10, 30])\n",
    "\n",
    "plt.savefig(\"figures/power_horvath_real_data.pdf\")"
   ]
  },
  {
   "cell_type": "code",
   "execution_count": null,
   "metadata": {},
   "outputs": [],
   "source": []
  }
 ],
 "metadata": {
  "kernelspec": {
   "display_name": "env_kilosort_silico",
   "language": "python",
   "name": "python3"
  },
  "language_info": {
   "codemirror_mode": {
    "name": "ipython",
    "version": 3
   },
   "file_extension": ".py",
   "mimetype": "text/x-python",
   "name": "python",
   "nbconvert_exporter": "python",
   "pygments_lexer": "ipython3",
   "version": "3.9.7"
  },
  "orig_nbformat": 4
 },
 "nbformat": 4,
 "nbformat_minor": 2
}
