{
 "cells": [
  {
   "cell_type": "markdown",
   "metadata": {},
   "source": [
    "## Gain and miss. noise params\n",
    "\n",
    "author: steeve.laquitaine@epfl.ch"
   ]
  },
  {
   "cell_type": "code",
   "execution_count": 5,
   "metadata": {},
   "outputs": [
    {
     "name": "stdout",
     "output_type": "stream",
     "text": [
      "The autoreload extension is already loaded. To reload it, use:\n",
      "  %reload_ext autoreload\n",
      "2024-07-12 10:32:56,118 - root - utils.py - get_config - INFO - Reading experiment config.\n"
     ]
    },
    {
     "name": "stdout",
     "output_type": "stream",
     "text": [
      "2024-07-12 10:32:56,207 - root - utils.py - get_config - INFO - Reading experiment config. - done\n",
      "2024-07-12 10:32:56,208 - root - utils.py - get_config - INFO - Reading experiment config.\n",
      "2024-07-12 10:32:56,240 - root - utils.py - get_config - INFO - Reading experiment config. - done\n",
      "2024-07-12 10:32:56,242 - root - utils.py - get_config - INFO - Reading experiment config.\n",
      "2024-07-12 10:32:56,266 - root - utils.py - get_config - INFO - Reading experiment config. - done\n"
     ]
    }
   ],
   "source": [
    "# import libs\n",
    "%load_ext autoreload\n",
    "%autoreload 2\n",
    "\n",
    "import warnings\n",
    "warnings.simplefilter(action='ignore', category=FutureWarning)\n",
    "warnings.filterwarnings(\"ignore\")\n",
    "\n",
    "import os\n",
    "import numpy as np\n",
    "from matplotlib import pyplot as plt\n",
    "import spikeinterface as si\n",
    "import pandas as pd\n",
    "import seaborn as sns\n",
    "\n",
    "# move to PROJECT PATH\n",
    "PROJ_PATH = \"/gpfs/bbp.cscs.ch/project/proj85/home/laquitai/preprint_2023/\"\n",
    "os.chdir(PROJ_PATH)\n",
    "\n",
    "from src.nodes import utils\n",
    "from src.nodes.utils import get_config\n",
    "from src.nodes.validation import snr\n",
    "from src.nodes.validation import amplitude as amp\n",
    "\n",
    "# neuropixels (biophysical model)\n",
    "cfg_ns, param_conf_ns = get_config(\"silico_neuropixels\", \"concatenated\").values()\n",
    "RAW_PATH_ns = cfg_ns[\"probe_wiring\"][\"40m\"][\"output_noise_fitd_gain_fitd_adj10perc_less_int16\"]\n",
    "PREP_PATH_ns = cfg_ns[\"preprocessing\"][\"output\"][\"full\"][\"trace_file_path_gain_fitd_adj10perc_less_noise_fitd_int16\"]\n",
    "FIT_PMS_PATH_ns = cfg_ns[\"preprocessing\"][\"fitting\"][\"missing_noise_path\"]\n",
    "\n",
    "# neuropixels (evoked biophysical model)\n",
    "cfg_ne, _ = get_config(\"silico_neuropixels\", \"stimulus\").values()\n",
    "RAW_PATH_ne = cfg_ne[\"probe_wiring\"][\"output\"]\n",
    "PREP_PATH_ne = cfg_ne[\"preprocessing\"][\"output\"][\"full\"][\"trace_file_path_gain_fitd_adj10perc_less_noise_fitd_int16\"]\n",
    "FIT_PMS_PATH_ne = cfg_ne[\"preprocessing\"][\"fitting\"][\"missing_noise_path\"]\n",
    "\n",
    "# neuropixels (synthetic, Buccino)\n",
    "cfg_nb, param_conf_nb = get_config(\"buccino_2020\", \"2020\").values()\n",
    "RAW_PATH_nb = cfg_nb[\"probe_wiring\"][\"10m\"][\"output_gain_fitd_int16\"]\n",
    "PREP_PATH_nb = cfg_nb[\"preprocessing\"][\"output\"][\"trace_file_path_gain_ftd\"]\n",
    "FIT_PMS_PATH_nb = cfg_nb[\"preprocessing\"][\"fitting\"][\"tuned_gain\"]\n",
    "\n",
    "# axes\n",
    "FIG_SIZE = (1.5, 1.6)\n",
    "COLOR_VIVO = np.array([153, 153, 153]) / 255\n",
    "COLOR_SILI = np.array([228, 26, 28]) / 255\n",
    "COLOR_BUCCI = np.array([55, 126, 184]) / 255\n",
    "COLOR_NE = [1, 0.49, 0]\n",
    "COLOR_MEDIAN = (1, 0.76, 0)\n",
    "plt.rcParams[\"font.family\"] = \"Arial\"\n",
    "plt.rcParams[\"font.size\"] = 6  # 5-7 with Nature neuroscience as reference\n",
    "plt.rcParams[\"lines.linewidth\"] = 0.5\n",
    "plt.rcParams[\"axes.linewidth\"] = 0.5 #1\n",
    "plt.rcParams[\"axes.spines.top\"] = False\n",
    "plt.rcParams[\"xtick.major.width\"] = 0.5 #0.8 #* 1.3\n",
    "plt.rcParams[\"xtick.minor.width\"] = 0.5 #0.8 #* 1.3\n",
    "plt.rcParams[\"ytick.major.width\"] = 0.5 #0.8 #* 1.3\n",
    "plt.rcParams[\"ytick.minor.width\"] = 0.5 #0.8 #* 1.3\n",
    "plt.rcParams[\"xtick.major.size\"] = 3.5 * 1.1\n",
    "plt.rcParams[\"xtick.minor.size\"] = 2 * 1.1\n",
    "plt.rcParams[\"ytick.major.size\"] = 3.5 * 1.1\n",
    "plt.rcParams[\"ytick.minor.size\"] = 2 * 1.1\n",
    "# legend\n",
    "savefig_cfg = {\"transparent\":True, \"dpi\":300}\n",
    "legend_cfg = {\"frameon\": False, \"handletextpad\": 0.1}\n",
    "tight_layout_cfg = {\"pad\": 0.5}\n",
    "LG_FRAMEON = False              # no legend frame\n",
    "savefig_cfg = {\"transparent\":True, \"dpi\": 300}"
   ]
  },
  {
   "cell_type": "markdown",
   "metadata": {},
   "source": [
    "## Load dataset"
   ]
  },
  {
   "cell_type": "code",
   "execution_count": 62,
   "metadata": {},
   "outputs": [],
   "source": [
    "def get_fit_prms(fit_path, layer):\n",
    "    gain = np.load(fit_path + layer + \".npy\", allow_pickle=True).item()[\"gain\"]\n",
    "    tuning = np.load(fit_path + layer + \".npy\", allow_pickle=True).item()[\n",
    "        \"gain_adjustm\"\n",
    "    ]\n",
    "    gain *= tuning\n",
    "    missing_noise = np.load(fit_path + layer + \".npy\", allow_pickle=True).item()[\n",
    "        \"missing_noise_rms\"\n",
    "    ]\n",
    "    # report\n",
    "    print(\n",
    "        f\"- {layer} gain: {np.round(gain)}, missing noise rms: {np.round(missing_noise,2)} uV\"\n",
    "    )"
   ]
  },
  {
   "cell_type": "markdown",
   "metadata": {},
   "source": [
    "## Report"
   ]
  },
  {
   "cell_type": "code",
   "execution_count": 77,
   "metadata": {},
   "outputs": [
    {
     "name": "stdout",
     "output_type": "stream",
     "text": [
      "NPX-Biophy-spontaneous:\n",
      "- L1 gain: 677.0, missing noise rms: 2.84 uV\n",
      "- L2_3 gain: 677.0, missing noise rms: 3.41 uV\n",
      "- L4 gain: 677.0, missing noise rms: 3.71 uV\n",
      "- L5 gain: 677.0, missing noise rms: 3.56 uV\n",
      "- L6 gain: 677.0, missing noise rms: 3.81 uV\n",
      "\n",
      "NPX-Biophy-evoked:\n",
      "- L1 gain: 677.0, missing noise rms: 2.84 uV\n",
      "- L2_3 gain: 677.0, missing noise rms: 3.41 uV\n",
      "- L4 gain: 677.0, missing noise rms: 3.71 uV\n",
      "- L5 gain: 677.0, missing noise rms: 3.56 uV\n",
      "- L6 gain: 677.0, missing noise rms: 3.81 uV\n",
      "\n",
      "NPX-Synth-spontaneous:\n",
      "L5 gain: 0.41\n"
     ]
    }
   ],
   "source": [
    "# spontaneous model\n",
    "print(\"NPX-Biophy-spontaneous\" + \":\")\n",
    "get_fit_prms(\n",
    "    FIT_PMS_PATH_ns,\n",
    "    \"L1\",\n",
    ")\n",
    "get_fit_prms(FIT_PMS_PATH_ns, \"L2_3\")\n",
    "get_fit_prms(FIT_PMS_PATH_ns, \"L4\")\n",
    "get_fit_prms(FIT_PMS_PATH_ns, \"L5\")\n",
    "get_fit_prms(FIT_PMS_PATH_ns, \"L6\")\n",
    "\n",
    "# Unit-test: they should be identical to the\n",
    "# spontaneous model's (same probe with only stimulus\n",
    "# added)\n",
    "print(\"\\nNPX-Biophy-evoked\" + \":\")\n",
    "get_fit_prms(\n",
    "    FIT_PMS_PATH_ne,\n",
    "    \"L1\",\n",
    ")\n",
    "get_fit_prms(FIT_PMS_PATH_ne, \"L2_3\")\n",
    "get_fit_prms(FIT_PMS_PATH_ne, \"L4\")\n",
    "get_fit_prms(FIT_PMS_PATH_ne, \"L5\")\n",
    "get_fit_prms(FIT_PMS_PATH_ne, \"L6\")\n",
    "\n",
    "# Synthetic\n",
    "# missing noise is already modeled\n",
    "print(\"\\nNPX-Synth-spontaneous\" + \":\")\n",
    "print(f\"L5 gain: {np.round(np.load(FIT_PMS_PATH_nb, allow_pickle=True).item(),2)}\")"
   ]
  }
 ],
 "metadata": {
  "kernelspec": {
   "display_name": "spikinterf0_100_5",
   "language": "python",
   "name": "python3"
  },
  "language_info": {
   "codemirror_mode": {
    "name": "ipython",
    "version": 3
   },
   "file_extension": ".py",
   "mimetype": "text/x-python",
   "name": "python",
   "nbconvert_exporter": "python",
   "pygments_lexer": "ipython3",
   "version": "3.9.7"
  }
 },
 "nbformat": 4,
 "nbformat_minor": 2
}
