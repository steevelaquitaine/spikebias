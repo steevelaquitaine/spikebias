{
 "cells": [
  {
   "cell_type": "markdown",
   "metadata": {},
   "source": [
    "## Gain and miss. noise params\n",
    "\n",
    "author: steeve.laquitaine@epfl.ch"
   ]
  },
  {
   "cell_type": "code",
   "execution_count": 2,
   "metadata": {},
   "outputs": [
    {
     "name": "stdout",
     "output_type": "stream",
     "text": [
      "The autoreload extension is already loaded. To reload it, use:\n",
      "  %reload_ext autoreload\n",
      "2024-07-12 16:41:08,328 - root - utils.py - get_config - INFO - Reading experiment config.\n",
      "2024-07-12 16:41:08,346 - root - utils.py - get_config - INFO - Reading experiment config. - done\n",
      "2024-07-12 16:41:08,347 - root - utils.py - get_config - INFO - Reading experiment config.\n",
      "2024-07-12 16:41:08,357 - root - utils.py - get_config - INFO - Reading experiment config. - done\n",
      "2024-07-12 16:41:08,358 - root - utils.py - get_config - INFO - Reading experiment config.\n",
      "2024-07-12 16:41:08,370 - root - utils.py - get_config - INFO - Reading experiment config. - done\n",
      "2024-07-12 16:41:08,371 - root - utils.py - get_config - INFO - Reading experiment config.\n",
      "2024-07-12 16:41:08,397 - root - utils.py - get_config - INFO - Reading experiment config. - done\n",
      "2024-07-12 16:41:08,427 - root - utils.py - get_config - INFO - Reading experiment config.\n",
      "2024-07-12 16:41:08,445 - root - utils.py - get_config - INFO - Reading experiment config. - done\n",
      "2024-07-12 16:41:08,446 - root - utils.py - get_config - INFO - Reading experiment config.\n",
      "2024-07-12 16:41:08,462 - root - utils.py - get_config - INFO - Reading experiment config. - done\n"
     ]
    }
   ],
   "source": [
    "# import libs\n",
    "%load_ext autoreload\n",
    "%autoreload 2\n",
    "\n",
    "import warnings\n",
    "warnings.simplefilter(action='ignore', category=FutureWarning)\n",
    "warnings.filterwarnings(\"ignore\")\n",
    "\n",
    "import os\n",
    "import multiprocessing\n",
    "import torch\n",
    "import numpy as np\n",
    "from matplotlib import pyplot as plt\n",
    "import spikeinterface as si\n",
    "import pandas as pd\n",
    "import seaborn as sns\n",
    "\n",
    "# move to PROJECT PATH\n",
    "PROJ_PATH = \"/gpfs/bbp.cscs.ch/project/proj85/home/laquitai/preprint_2023/\"\n",
    "os.chdir(PROJ_PATH)\n",
    "\n",
    "from src.nodes import utils\n",
    "from src.nodes.utils import get_config\n",
    "from src.nodes.validation import snr\n",
    "from src.nodes.validation import amplitude as amp\n",
    "\n",
    "SF_V = 20000\n",
    "SF_S = 20000\n",
    "\n",
    "# denser probe (horvath)  ------\n",
    "# vivo (probe 1)\n",
    "cfg_hv1, _ = get_config(\"vivo_horvath\", \"probe_1\").values()\n",
    "RAW_PATH_hv1 =  cfg_hv1[\"raw\"]\n",
    "PREP_PATH_hv1 = cfg_hv1[\"preprocessing\"][\"output\"][\"trace_file_path\"]\n",
    "# probe 2\n",
    "cfg_hv2, _ = get_config(\"vivo_horvath\", \"probe_2\").values()\n",
    "RAW_PATH_hv2 =  cfg_hv2[\"raw\"]\n",
    "PREP_PATH_hv2 = cfg_hv2[\"preprocessing\"][\"output\"][\"trace_file_path\"]\n",
    "# probe 3\n",
    "cfg_hv3, _ = get_config(\"vivo_horvath\", \"probe_3\").values()\n",
    "RAW_PATH_hv3 =  cfg_hv3[\"raw\"]\n",
    "PREP_PATH_hv3 = cfg_hv3[\"preprocessing\"][\"output\"][\"trace_file_path\"]\n",
    "\n",
    "# biophy. model\n",
    "# (probe 1)\n",
    "cfg_hs1, _ = get_config(\"silico_horvath\", \"concatenated/probe_1\").values()\n",
    "RAW_PATH_hs1 = cfg_hs1[\"dataeng\"][\"campaign\"][\"output\"][\"trace_file_path\"]\n",
    "PREP_PATH_hs1 = cfg_hs1[\"preprocessing\"][\"output\"][\"trace_file_path\"]\n",
    "FIT_PATH_hs1 = cfg_hs1[\"preprocessing\"][\"fitting\"][\"missing_noise_path\"]\n",
    "# probe 2\n",
    "cfg_hs2, _ = get_config(\"silico_horvath\", \"concatenated/probe_2\").values()\n",
    "RAW_PATH_hs2 = cfg_hs2[\"dataeng\"][\"campaign\"][\"output\"][\"trace_file_path\"]\n",
    "PREP_PATH_hs2 = cfg_hs2[\"preprocessing\"][\"output\"][\"trace_file_path\"]\n",
    "FIT_PATH_hs2 = cfg_hs2[\"preprocessing\"][\"fitting\"][\"missing_noise_path\"]\n",
    "# probe 3\n",
    "cfg_hs3, _ = get_config(\"silico_horvath\", \"concatenated/probe_3\").values()\n",
    "RAW_PATH_hs3 = cfg_hs3[\"dataeng\"][\"campaign\"][\"output\"][\"trace_file_path\"]\n",
    "PREP_PATH_hs3 = cfg_hs3[\"preprocessing\"][\"output\"][\"trace_file_path\"]\n",
    "FIT_PATH_hs3 = cfg_hs3[\"preprocessing\"][\"fitting\"][\"missing_noise_path\"]\n",
    "\n",
    "# Figure settings\n",
    "FIG_SIZE = (1.5, 1.6)\n",
    "COLOR_VIVO = np.array([153, 153, 153]) / 255\n",
    "COLOR_SILI = np.array([228, 26, 28]) / 255\n",
    "COLOR_BUCCI = np.array([55, 126, 184]) / 255\n",
    "COLOR_NE = [1, 0.49, 0]\n",
    "COLOR_MEDIAN = (1, 0.76, 0)"
   ]
  },
  {
   "cell_type": "markdown",
   "metadata": {},
   "source": [
    "## Load dataset"
   ]
  },
  {
   "cell_type": "code",
   "execution_count": 3,
   "metadata": {},
   "outputs": [],
   "source": [
    "def get_fit_prms(fit_path, layer):\n",
    "    gain = np.load(fit_path + layer + \".npy\", allow_pickle=True).item()[\"gain\"]\n",
    "    tuning = np.load(fit_path + layer + \".npy\", allow_pickle=True).item()[\n",
    "        \"gain_adjustm\"\n",
    "    ]\n",
    "    gain *= tuning\n",
    "    missing_noise = np.load(fit_path + layer + \".npy\", allow_pickle=True).item()[\n",
    "        \"missing_noise_rms\"\n",
    "    ]\n",
    "    # report\n",
    "    print(\n",
    "        f\"- {layer} gain: {np.round(gain)}, missing noise rms: {np.round(missing_noise,2)} uV\"\n",
    "    )"
   ]
  },
  {
   "cell_type": "markdown",
   "metadata": {},
   "source": [
    "## Report"
   ]
  },
  {
   "cell_type": "code",
   "execution_count": 11,
   "metadata": {},
   "outputs": [
    {
     "name": "stdout",
     "output_type": "stream",
     "text": [
      "Denser-Depth 1:\n",
      "- L1 gain: 12463.0, missing noise rms: 27.31 uV\n",
      "- L2_3 gain: 12463.0, missing noise rms: 30.33 uV\n",
      "\n",
      "Denser-Depth 2:\n",
      "- L4 gain: 1949.0, missing noise rms: 37.39 uV\n",
      "- L5 gain: 1949.0, missing noise rms: 37.94 uV\n",
      "\n",
      "Denser-Depth 2:\n",
      "- L6 gain: 20778.0, missing noise rms: 35.64 uV\n"
     ]
    }
   ],
   "source": [
    "# memo: fits are matched to layers and depths\n",
    "\n",
    "# Depth 1 (L1, 2/3)\n",
    "print(\"Denser-Depth 1\" + \":\")\n",
    "get_fit_prms(\n",
    "    FIT_PATH_hs1,\n",
    "    \"L1\",\n",
    ")\n",
    "get_fit_prms(FIT_PATH_hs1, \"L2_3\")\n",
    "\n",
    "# Depth 2 (L4, 5)\n",
    "print(\"\\nDenser-Depth 2\" + \":\")\n",
    "get_fit_prms(\n",
    "    FIT_PATH_hs2,\n",
    "    \"L4\",\n",
    ")\n",
    "get_fit_prms(FIT_PATH_hs2, \"L5\")\n",
    "\n",
    "# Depth 2 (L6)\n",
    "print(\"\\nDenser-Depth 2\" + \":\")\n",
    "get_fit_prms(\n",
    "    FIT_PATH_hs3,\n",
    "    \"L6\",\n",
    ")"
   ]
  }
 ],
 "metadata": {
  "kernelspec": {
   "display_name": "spikinterf0_100_5",
   "language": "python",
   "name": "python3"
  },
  "language_info": {
   "codemirror_mode": {
    "name": "ipython",
    "version": 3
   },
   "file_extension": ".py",
   "mimetype": "text/x-python",
   "name": "python",
   "nbconvert_exporter": "python",
   "pygments_lexer": "ipython3",
   "version": "3.9.7"
  }
 },
 "nbformat": 4,
 "nbformat_minor": 2
}
