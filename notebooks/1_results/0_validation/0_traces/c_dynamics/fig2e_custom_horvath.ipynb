{
 "cells": [
  {
   "attachments": {},
   "cell_type": "markdown",
   "metadata": {},
   "source": [
    "# Spacetime\n",
    "\n",
    "\n",
    "author: steeve.laquitaine@epfl.ch  \n",
    "last modified: 2023.10.13  \n",
    "status: up-to-date\n",
    "\n",
    "Purpose: describe multi-channel spatio-temporal dynamics of action potentials, in vivo.\n",
    "\n",
    "\n",
    "Calibration for preprint's figure:\n",
    "\n",
    "* A 32-site column of 31 * 22.5 microns (inter-site distance) = 697.5 microns plotted as 2.3 inches (on figure)\n",
    "* We plot the horvath traces on the same scale as the neuropixels multi-sites traces: 1960 microns plotted as 2.3 inches -> 697.5 plotted as 0.81 inches.\n",
    "\n",
    "* We plot the horvath traces on the same scale as the neuropixels multi-sites traces: 1960 microns plotted as 2.3 inches -> 697.5 plotted as 0.81 inches.\n",
    "\n",
    "* We can plot 24 (probe 1) + 27 (probe 2) + 17 (probe 3) = 68 sites covering 1440 microns (23 + 26 + 16 - 1) * 22.5. \n",
    "* probe 1 (L1 and 2/3): 23 * 22.5 microns -> 0.61 inches on figure\n",
    "* probe 2 (L4 and 5): 16 * 22.5 microns -> 0.69 inches on figure\n",
    "* probe 3 (L6): 17 * 22.5 microns = 382.5 microns -> 0.42 inches on figure"
   ]
  },
  {
   "attachments": {},
   "cell_type": "markdown",
   "metadata": {},
   "source": [
    "## Setup\n",
    "\n",
    "create and activate env from `spikinterf.txt`"
   ]
  },
  {
   "cell_type": "code",
   "execution_count": 18,
   "metadata": {},
   "outputs": [
    {
     "name": "stdout",
     "output_type": "stream",
     "text": [
      "The autoreload extension is already loaded. To reload it, use:\n",
      "  %reload_ext autoreload\n",
      "2024-07-18 11:38:42,026 - root - utils.py - get_config - INFO - Reading experiment config.\n"
     ]
    },
    {
     "name": "stdout",
     "output_type": "stream",
     "text": [
      "2024-07-18 11:38:42,041 - root - utils.py - get_config - INFO - Reading experiment config. - done\n",
      "2024-07-18 11:38:42,041 - root - utils.py - get_config - INFO - Reading experiment config.\n",
      "2024-07-18 11:38:42,050 - root - utils.py - get_config - INFO - Reading experiment config. - done\n",
      "2024-07-18 11:38:42,051 - root - utils.py - get_config - INFO - Reading experiment config.\n",
      "2024-07-18 11:38:42,060 - root - utils.py - get_config - INFO - Reading experiment config. - done\n"
     ]
    }
   ],
   "source": [
    "# listen to changes\n",
    "%load_ext autoreload\n",
    "%autoreload 2\n",
    "\n",
    "import os\n",
    "from matplotlib import pyplot as plt\n",
    "import pandas as pd\n",
    "import numpy as np \n",
    "import spikeinterface as si\n",
    "\n",
    "import warnings\n",
    "warnings.simplefilter(action='ignore', category=FutureWarning)\n",
    "warnings.filterwarnings(\"ignore\")\n",
    "\n",
    "\n",
    "# set project path\n",
    "PROJ_PATH = \"/gpfs/bbp.cscs.ch/project/proj85/home/laquitai/preprint_2023/\"\n",
    "os.chdir(PROJ_PATH)\n",
    "\n",
    "from src.nodes.utils import get_config\n",
    "\n",
    "# SETUP PARAMETERS\n",
    "SAMPFREQ = 20000  # hz\n",
    "\n",
    "# probe 1 (layer 1 and 2/3)\n",
    "data_conf, param_conf_sili = get_config(\n",
    "    \"vivo_horvath\", \"probe_1\"\n",
    ").values()\n",
    "PRE_PATH_1 = data_conf[\"preprocessing\"][\"output\"][\"trace_file_path\"]\n",
    "\n",
    "# probe 2\n",
    "data_conf, param_conf_sili = get_config(\n",
    "    \"vivo_horvath\", \"probe_2\"\n",
    ").values()\n",
    "PRE_PATH_2 = data_conf[\"preprocessing\"][\"output\"][\"trace_file_path\"]\n",
    "\n",
    "# probe 3\n",
    "data_conf, param_conf_sili = get_config(\n",
    "    \"vivo_horvath\", \"probe_3\"\n",
    ").values()\n",
    "PRE_PATH_3 = data_conf[\"preprocessing\"][\"output\"][\"trace_file_path\"]\n",
    "\n",
    "\n",
    "# FIGURE SETTINGS\n",
    "# colors\n",
    "COLOR_V = [0.4, 0.4, 0.4]\n",
    "LINEWIDTH = 0.5\n",
    "LINEWIDTH_BORD = 0.25\n",
    "\n",
    "# axes\n",
    "plt.rcParams[\"font.family\"] = \"Arial\"\n",
    "plt.rcParams[\"font.size\"] = 6  # 5-7 with Nature neuroscience as reference\n",
    "plt.rcParams[\"lines.linewidth\"] = 0.5\n",
    "plt.rcParams[\"axes.linewidth\"] = 0.5  # 1\n",
    "plt.rcParams[\"axes.spines.top\"] = False\n",
    "plt.rcParams[\"xtick.major.width\"] = 0.5  # 0.8 #* 1.3\n",
    "plt.rcParams[\"xtick.minor.width\"] = 0.5  # 0.8 #* 1.3\n",
    "plt.rcParams[\"ytick.major.width\"] = 0.5  # 0.8 #* 1.3\n",
    "plt.rcParams[\"ytick.minor.width\"] = 0.5  # 0.8 #* 1.3\n",
    "plt.rcParams[\"xtick.major.size\"] = 3.5 * 1.1\n",
    "plt.rcParams[\"xtick.minor.size\"] = 2 * 1.1\n",
    "plt.rcParams[\"ytick.major.size\"] = 3.5 * 1.1\n",
    "plt.rcParams[\"ytick.minor.size\"] = 2 * 1.1\n",
    "# legend\n",
    "savefig_cfg = {\"transparent\": True, \"dpi\": 300}\n",
    "legend_cfg = {\"frameon\": False, \"handletextpad\": 0.1}\n",
    "tight_layout_cfg = {\"pad\": 0.5}\n",
    "LG_FRAMEON = False  # no legend frame"
   ]
  },
  {
   "cell_type": "markdown",
   "metadata": {},
   "source": [
    "## L1,2/3"
   ]
  },
  {
   "cell_type": "markdown",
   "metadata": {},
   "source": [
    "### Load dataset"
   ]
  },
  {
   "cell_type": "code",
   "execution_count": 38,
   "metadata": {},
   "outputs": [],
   "source": [
    "# N_SITES = 16\n",
    "\n",
    "# get preprocessed\n",
    "Recording = si.load_extractor(PRE_PATH_1)\n",
    "\n",
    "# get layers\n",
    "layers = Recording.get_property(\"layers\")\n",
    "col1_site_ix = np.arange(0, len(layers), 4)\n",
    "col1_site_layers = layers[col1_site_ix]\n",
    "\n",
    "# from bottom to top on the plot\n",
    "col1_site_layers = np.flip(col1_site_layers)\n",
    "\n",
    "# get layers layout\n",
    "col1_site_l1 = np.where(col1_site_layers == \"L1\")[0]\n",
    "col1_site_l2_3 = np.where((col1_site_layers == \"L2_3\"))[0]"
   ]
  },
  {
   "cell_type": "markdown",
   "metadata": {},
   "source": [
    "### plot\n",
    "\n",
    "* 32 sites in a column"
   ]
  },
  {
   "cell_type": "code",
   "execution_count": 39,
   "metadata": {},
   "outputs": [],
   "source": [
    "FIGSIZE = (1.05, 1.25)  # DO NOT CHANGE!! Calibrated for preprint figure"
   ]
  },
  {
   "cell_type": "code",
   "execution_count": 41,
   "metadata": {},
   "outputs": [
    {
     "name": "stdout",
     "output_type": "stream",
     "text": [
      "number of sites shown: 24\n"
     ]
    },
    {
     "data": {
      "image/png": "[encoded data removed]",
      "text/plain": [
       "<Figure size 105x125 with 1 Axes>"
      ]
     },
     "metadata": {},
     "output_type": "display_data"
    }
   ],
   "source": [
    "# parameterize *************************\n",
    "# same sample start as the sample used for the single-site plot\n",
    "# this is the period with the peak amplitude\n",
    "SAMPLE_START = 15868410\n",
    "PLOT_Y_PITCH = 100\n",
    "DURATION = 10  # 20  # in ms, 46\n",
    "n_timepoints = int(DURATION * SAMPFREQ / 1000)\n",
    "PERIOD = np.arange(SAMPLE_START, SAMPLE_START + n_timepoints, 1)\n",
    "nsite_per_col = len(col1_site_layers)\n",
    "Y_MAX = PLOT_Y_PITCH * (nsite_per_col - 1)\n",
    "prep_traces = Recording.get_traces()\n",
    "n_contacts = prep_traces.shape[1]\n",
    "\n",
    "# plot *************************\n",
    "\n",
    "# plot 384 contacts x 5 ms (like Trautmann et al 2023)\n",
    "\n",
    "# plot (0: bottom 96:top)\n",
    "fig, ax = plt.subplots(1, 1, figsize=FIGSIZE)\n",
    "pos_up = 0\n",
    "row = 0\n",
    "c_site = 0\n",
    "\n",
    "\n",
    "for contact_i, contact in enumerate(col1_site_ix):\n",
    "\n",
    "    # layer 2/3\n",
    "    if contact_i == col1_site_l2_3[0]:\n",
    "        ax.hlines(\n",
    "            y=0.99 * pos_up,\n",
    "            xmin=0,\n",
    "            xmax=n_timepoints,\n",
    "            color=\"black\",\n",
    "            linewidth=LINEWIDTH_BORD,\n",
    "        )\n",
    "        # label layer\n",
    "        ax.text(\n",
    "            # 610,\n",
    "            -120,\n",
    "            0.99 * pos_up,\n",
    "            \"%s\" % (\"L2/3\"),\n",
    "            size=plt.rcParams[\"font.size\"],\n",
    "            zorder=100,\n",
    "            color=\"k\",\n",
    "            ha=\"left\",\n",
    "        )\n",
    "\n",
    "    # layer 1\n",
    "    if contact_i == col1_site_l1[0]:\n",
    "        ax.hlines(\n",
    "            y=0.99 * pos_up,\n",
    "            xmin=0,\n",
    "            xmax=n_timepoints,\n",
    "            color=\"black\",\n",
    "            linewidth=LINEWIDTH_BORD,\n",
    "        )\n",
    "        # label layer\n",
    "        ax.text(\n",
    "            # 610,\n",
    "            -120,\n",
    "            0.99 * pos_up,\n",
    "            \"%s\" % (\"L1\"),\n",
    "            size=plt.rcParams[\"font.size\"],\n",
    "            zorder=100,\n",
    "            color=\"k\",\n",
    "            ha=\"left\",\n",
    "        )\n",
    "\n",
    "    # all other traces\n",
    "    if contact_i in col1_site_l1:\n",
    "        c_site += 1\n",
    "        ax.plot(\n",
    "            prep_traces[PERIOD, col1_site_ix[contact_i]] + pos_up,\n",
    "            linewidth=LINEWIDTH,\n",
    "            color=COLOR_V,\n",
    "        )\n",
    "        pos_up += PLOT_Y_PITCH\n",
    "\n",
    "    if contact_i in col1_site_l2_3:\n",
    "        c_site += 1\n",
    "        ax.plot(\n",
    "            prep_traces[PERIOD, col1_site_ix[contact_i]] + pos_up,\n",
    "            linewidth=LINEWIDTH,\n",
    "            color=COLOR_V,\n",
    "        )\n",
    "        pos_up += PLOT_Y_PITCH\n",
    "\n",
    "\n",
    "print(\"number of sites shown:\", c_site)\n",
    "\n",
    "ax.spines[[\"left\", \"right\", \"top\"]].set_visible(False)\n",
    "ax.set_xticks([0, n_timepoints])\n",
    "ax.set_xticklabels([0, DURATION])\n",
    "ax.set_xlabel(\"Time (ms)\")\n",
    "ax.set_ylim([-90, Y_MAX + 600])\n",
    "plt.yticks([])\n",
    "\n",
    "# save figures\n",
    "plt.savefig(\n",
    "    \"figures/0_validation/2_dynamics/fig2e_spacetime_vivo_horv_l1_2_3.svg\",\n",
    "    **savefig_cfg\n",
    ")"
   ]
  },
  {
   "cell_type": "markdown",
   "metadata": {},
   "source": [
    "## L4 and 5"
   ]
  },
  {
   "cell_type": "markdown",
   "metadata": {},
   "source": [
    "### Load dataset"
   ]
  },
  {
   "cell_type": "code",
   "execution_count": 35,
   "metadata": {},
   "outputs": [],
   "source": [
    "N_SITES = 17\n",
    "\n",
    "# get preprocessed\n",
    "Recording = si.load_extractor(PRE_PATH_2)\n",
    "\n",
    "# get layers\n",
    "layers = Recording.get_property(\"layers\")\n",
    "col1_site_ix = np.arange(0, len(layers), 4)\n",
    "col1_site_layers = layers[col1_site_ix]\n",
    "\n",
    "# from bottom to top on the plot\n",
    "col1_site_layers = np.flip(col1_site_layers)\n",
    "\n",
    "# get layers layout\n",
    "col1_site_l4 = np.where(col1_site_layers == \"L4\")[0]\n",
    "col1_site_l5 = np.where(col1_site_layers == \"L5\")[0]"
   ]
  },
  {
   "cell_type": "code",
   "execution_count": 36,
   "metadata": {},
   "outputs": [],
   "source": [
    "FIGSIZE = (1.05, 1.3)  # DO NOT CHANGE!! Calibrated for figure"
   ]
  },
  {
   "cell_type": "code",
   "execution_count": 37,
   "metadata": {},
   "outputs": [
    {
     "name": "stdout",
     "output_type": "stream",
     "text": [
      "number of sites shown: 27\n"
     ]
    },
    {
     "data": {
      "image/png": "[encoded data removed]",
      "text/plain": [
       "<Figure size 105x130 with 1 Axes>"
      ]
     },
     "metadata": {},
     "output_type": "display_data"
    }
   ],
   "source": [
    "# parameterize *************************\n",
    "PLOT_Y_PITCH = 100\n",
    "DURATION = 10  # 20  # in ms, 46\n",
    "nsite_per_col = len(col1_site_layers)\n",
    "Y_MAX = PLOT_Y_PITCH * (nsite_per_col - 1)\n",
    "prep_traces = Recording.get_traces()\n",
    "n_contacts = prep_traces.shape[1]\n",
    "\n",
    "# plot *************************\n",
    "\n",
    "# plot 384 contacts x 5 ms (like Trautmann et al 2023)\n",
    "\n",
    "# plot (0: bottom 96:top)\n",
    "fig, ax = plt.subplots(1, 1, figsize=FIGSIZE)\n",
    "pos_up = 0\n",
    "row = 0\n",
    "c_site = 0\n",
    "\n",
    "for contact_i, contact in enumerate(col1_site_ix):\n",
    "\n",
    "    # layer 5\n",
    "    if contact_i == col1_site_l5[0]:\n",
    "        ax.hlines(\n",
    "            y=0.99 * pos_up,\n",
    "            xmin=0,\n",
    "            xmax=n_timepoints,\n",
    "            color=\"black\",\n",
    "            linewidth=LINEWIDTH_BORD,\n",
    "        )\n",
    "        # label layer\n",
    "        ax.text(\n",
    "            # 610,\n",
    "            -120,\n",
    "            0.99 * pos_up,\n",
    "            \"%s\" % (\"L5\"),\n",
    "            size=plt.rcParams[\"font.size\"],\n",
    "            zorder=100,\n",
    "            color=\"k\",\n",
    "            ha=\"left\",\n",
    "        )\n",
    "\n",
    "    # layer 4\n",
    "    if contact_i == col1_site_l4[0]:\n",
    "        ax.hlines(\n",
    "            y=0.99 * pos_up,\n",
    "            xmin=0,\n",
    "            xmax=n_timepoints,\n",
    "            color=\"black\",\n",
    "            linewidth=LINEWIDTH_BORD,\n",
    "        )\n",
    "        # label layer\n",
    "        ax.text(\n",
    "            # 610,\n",
    "            -120,\n",
    "            0.99 * pos_up,\n",
    "            \"%s\" % (\"L4\"),\n",
    "            size=plt.rcParams[\"font.size\"],\n",
    "            zorder=100,\n",
    "            color=\"k\",\n",
    "            ha=\"left\",\n",
    "        )\n",
    "\n",
    "    # all other traces\n",
    "    if contact_i in col1_site_l4:\n",
    "        c_site += 1\n",
    "        ax.plot(\n",
    "            prep_traces[PERIOD, col1_site_ix[contact_i]] + pos_up,\n",
    "            linewidth=LINEWIDTH,\n",
    "            color=COLOR_V,\n",
    "        )\n",
    "        pos_up += PLOT_Y_PITCH\n",
    "\n",
    "    elif contact_i in col1_site_l5:\n",
    "        c_site += 1\n",
    "        ax.plot(\n",
    "            prep_traces[PERIOD, col1_site_ix[contact_i]] + pos_up,\n",
    "            linewidth=LINEWIDTH,\n",
    "            color=COLOR_V,\n",
    "        )\n",
    "        pos_up += PLOT_Y_PITCH\n",
    "\n",
    "print(\"number of sites shown:\", c_site)\n",
    "\n",
    "ax.spines[[\"left\", \"right\", \"top\"]].set_visible(False)\n",
    "ax.set_xticks([0, n_timepoints])\n",
    "ax.set_xticklabels([0, DURATION])\n",
    "ax.set_xlabel(\"Time (ms)\")\n",
    "ax.set_ylim([-90, Y_MAX + 600])\n",
    "plt.yticks([])\n",
    "\n",
    "# save figures\n",
    "plt.savefig(\n",
    "    \"figures/0_validation/2_dynamics/fig2e_spacetime_vivo_horv_l4_5.svg\", **savefig_cfg\n",
    ")"
   ]
  },
  {
   "cell_type": "markdown",
   "metadata": {},
   "source": [
    "## L6"
   ]
  },
  {
   "cell_type": "code",
   "execution_count": null,
   "metadata": {},
   "outputs": [],
   "source": [
    "FIGSIZE = (1.05, 1.3)  # DO NOT CHANGE!! Calibrated for figure"
   ]
  },
  {
   "cell_type": "code",
   "execution_count": 31,
   "metadata": {},
   "outputs": [],
   "source": [
    "# N_SITES = 17\n",
    "\n",
    "# get preprocessed\n",
    "Recording = si.load_extractor(PRE_PATH_3)\n",
    "\n",
    "# get layers\n",
    "layers = Recording.get_property(\"layers\")\n",
    "col1_site_ix = np.arange(0, len(layers), 4)\n",
    "col1_site_layers = layers[col1_site_ix]\n",
    "\n",
    "# from bottom to top on the plot\n",
    "col1_site_layers = np.flip(col1_site_layers)\n",
    "\n",
    "# get layers layout\n",
    "col1_site_l6 = np.where(col1_site_layers == \"L6\")[0]"
   ]
  },
  {
   "cell_type": "code",
   "execution_count": 33,
   "metadata": {},
   "outputs": [
    {
     "name": "stdout",
     "output_type": "stream",
     "text": [
      "number of sites shown: 17\n"
     ]
    },
    {
     "data": {
      "image/png": "[encoded data removed]",
      "text/plain": [
       "<Figure size 105x125 with 1 Axes>"
      ]
     },
     "metadata": {},
     "output_type": "display_data"
    }
   ],
   "source": [
    "# parameterize *************************\n",
    "PLOT_Y_PITCH = 100\n",
    "DURATION = 10  # 20  # in ms, 46\n",
    "nsite_per_col = len(col1_site_layers)\n",
    "Y_MAX = PLOT_Y_PITCH * (nsite_per_col - 1)\n",
    "N_SITES = 16\n",
    "prep_traces = Recording.get_traces()\n",
    "n_contacts = prep_traces.shape[1]\n",
    "\n",
    "# plot *************************\n",
    "\n",
    "# plot 384 contacts x 5 ms (like Trautmann et al 2023)\n",
    "\n",
    "# plot (0: bottom 96:top)\n",
    "fig, ax = plt.subplots(1, 1, figsize=FIGSIZE)\n",
    "pos_up = 0\n",
    "row = 0\n",
    "c_site = 0\n",
    "\n",
    "\n",
    "for contact_i, contact in enumerate(col1_site_ix):\n",
    "    # mark the first trace of each layer\n",
    "    # layer 6\n",
    "    if contact_i == col1_site_l6[0]:\n",
    "        ax.hlines(\n",
    "            y=0.99 * pos_up,\n",
    "            xmin=0,\n",
    "            xmax=n_timepoints,\n",
    "            color=\"black\",\n",
    "            linewidth=LINEWIDTH_BORD,\n",
    "        )\n",
    "        # label layer\n",
    "        ax.text(\n",
    "            # 610,\n",
    "            -120,\n",
    "            0.99 * pos_up,\n",
    "            \"%s\" % (\"L6\"),\n",
    "            size=plt.rcParams[\"font.size\"],\n",
    "            zorder=100,\n",
    "            color=\"k\",\n",
    "            ha=\"left\",\n",
    "        )\n",
    "\n",
    "    # all other traces\n",
    "    if contact_i in col1_site_l6:\n",
    "        c_site += 1\n",
    "        ax.plot(\n",
    "            prep_traces[PERIOD, col1_site_ix[contact_i]] + pos_up,\n",
    "            linewidth=LINEWIDTH,\n",
    "            color=COLOR_V,\n",
    "        )\n",
    "        pos_up += PLOT_Y_PITCH\n",
    "\n",
    "print(\"number of sites shown:\", c_site)\n",
    "\n",
    "ax.spines[[\"left\", \"right\", \"top\"]].set_visible(False)\n",
    "ax.set_xticks([0, n_timepoints])\n",
    "ax.set_xticklabels([0, DURATION])\n",
    "ax.set_xlabel(\"Time (ms)\")\n",
    "ax.set_ylim([-90, Y_MAX + 600])\n",
    "plt.yticks([])\n",
    "\n",
    "## save figures\n",
    "plt.savefig(\n",
    "    \"figures/0_validation/2_dynamics/fig2e_spacetime_vivo_horv_l6.svg\", **savefig_cfg\n",
    ")"
   ]
  }
 ],
 "metadata": {
  "kernelspec": {
   "display_name": "npx_10m_384ch_unit_classes",
   "language": "python",
   "name": "python3"
  },
  "language_info": {
   "codemirror_mode": {
    "name": "ipython",
    "version": 3
   },
   "file_extension": ".py",
   "mimetype": "text/x-python",
   "name": "python",
   "nbconvert_exporter": "python",
   "pygments_lexer": "ipython3",
   "version": "3.9.7"
  },
  "orig_nbformat": 4
 },
 "nbformat": 4,
 "nbformat_minor": 2
}
