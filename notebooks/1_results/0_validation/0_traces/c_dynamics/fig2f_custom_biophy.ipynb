{
 "cells": [
  {
   "attachments": {},
   "cell_type": "markdown",
   "metadata": {},
   "source": [
    "# Spacetime\n",
    "\n",
    "\n",
    "author: steeve.laquitaine@epfl.ch  \n",
    "date: 2023.10.13  \n",
    "\n",
    "Purpose: describe multi-channel spatio-temporal dynamics of action potentials, in vivo.\n",
    "\n",
    "\n",
    "Calibration for preprint's figure:\n",
    "\n",
    "* A 32-site column of 31 * 22.5 microns (inter-site distance) = 697.5 microns plotted as 2.3 inches (on figure)\n",
    "* We plot the horvath traces on the same scale as the neuropixels multi-sites traces: 1960 microns plotted as 2.3 inches -> 697.5 plotted as 0.81 inches.\n",
    "\n",
    "* We plot the horvath traces on the same scale as the neuropixels multi-sites traces: 1960 microns plotted as 2.3 inches -> 697.5 plotted as 0.81 inches.\n",
    "\n",
    "* We can plot 26 (probe 1) + 31 (probe 2) + 19 (probe 3) = 76 sites covering 1687.5 microns (25 * 22.5) + (30 * 22.5) + (18 * 22.5). \n",
    "* probe 1 (L1 and 2/3): 25 * 22.5 microns -> 0.66 inches on figure\n",
    "* probe 2 (L4 and 5): 30 * 22.5 microns -> 0.79 inches on figure\n",
    "* probe 3 (L6): 18 * 22.5 microns = 382.5 microns -> 0.48 inches on figure"
   ]
  },
  {
   "attachments": {},
   "cell_type": "markdown",
   "metadata": {},
   "source": [
    "## Setup\n",
    "\n",
    "create and activate env from `spikinterf.txt`"
   ]
  },
  {
   "cell_type": "code",
   "execution_count": 552,
   "metadata": {},
   "outputs": [
    {
     "name": "stdout",
     "output_type": "stream",
     "text": [
      "The autoreload extension is already loaded. To reload it, use:\n",
      "  %reload_ext autoreload\n",
      "2024-06-28 16:42:53,067 - root - utils.py - get_config - INFO - Reading experiment config.\n",
      "2024-06-28 16:42:53,089 - root - utils.py - get_config - INFO - Reading experiment config. - done\n",
      "2024-06-28 16:42:53,090 - root - utils.py - get_config - INFO - Reading experiment config.\n",
      "2024-06-28 16:42:53,105 - root - utils.py - get_config - INFO - Reading experiment config. - done\n",
      "2024-06-28 16:42:53,106 - root - utils.py - get_config - INFO - Reading experiment config.\n",
      "2024-06-28 16:42:53,121 - root - utils.py - get_config - INFO - Reading experiment config. - done\n"
     ]
    }
   ],
   "source": [
    "# listen to changes\n",
    "%load_ext autoreload\n",
    "%autoreload 2\n",
    "\n",
    "import os\n",
    "from matplotlib import pyplot as plt\n",
    "import pandas as pd\n",
    "import numpy as np \n",
    "import spikeinterface as si\n",
    "\n",
    "import warnings\n",
    "warnings.simplefilter(action='ignore', category=FutureWarning)\n",
    "warnings.filterwarnings(\"ignore\")\n",
    "\n",
    "\n",
    "# set project path\n",
    "PROJ_PATH = \"/gpfs/bbp.cscs.ch/project/proj85/home/laquitai/preprint_2023/\"\n",
    "os.chdir(PROJ_PATH)\n",
    "\n",
    "from src.nodes.utils import get_config\n",
    "\n",
    "# SETUP PARAMETERS\n",
    "SAMPFREQ = 20000  # hz\n",
    "\n",
    "# probe 1 (layer 1 and 2/3)\n",
    "data_conf, param_conf_sili = get_config(\n",
    "    \"silico_horvath\", \"concatenated/probe_1\"\n",
    ").values()\n",
    "PRE_PATH_1 = data_conf[\"preprocessing\"][\"output\"][\"trace_file_path\"]\n",
    "\n",
    "# probe 2\n",
    "data_conf, param_conf_sili = get_config(\n",
    "    \"silico_horvath\", \"concatenated/probe_2\"\n",
    ").values()\n",
    "PRE_PATH_2 = data_conf[\"preprocessing\"][\"output\"][\"trace_file_path\"]\n",
    "\n",
    "# probe 3\n",
    "data_conf, param_conf_sili = get_config(\n",
    "    \"silico_horvath\", \"concatenated/probe_3\"\n",
    ").values()\n",
    "PRE_PATH_3 = data_conf[\"preprocessing\"][\"output\"][\"trace_file_path\"]\n",
    "\n",
    "\n",
    "# FIGURE SETTINGS\n",
    "# colors\n",
    "COLOR_HS = np.array([26, 152, 80]) / 255 # green\n",
    "\n",
    "LINEWIDTH = 0.5\n",
    "LINEWIDTH_BORD = 0.25\n",
    "\n",
    "# axes\n",
    "plt.rcParams[\"font.family\"] = \"Arial\"\n",
    "plt.rcParams[\"font.size\"] = 6  # 5-7 with Nature neuroscience as reference\n",
    "plt.rcParams[\"lines.linewidth\"] = 0.5\n",
    "plt.rcParams[\"axes.linewidth\"] = 0.5  # 1\n",
    "plt.rcParams[\"axes.spines.top\"] = False\n",
    "plt.rcParams[\"xtick.major.width\"] = 0.5  # 0.8 #* 1.3\n",
    "plt.rcParams[\"xtick.minor.width\"] = 0.5  # 0.8 #* 1.3\n",
    "plt.rcParams[\"ytick.major.width\"] = 0.5  # 0.8 #* 1.3\n",
    "plt.rcParams[\"ytick.minor.width\"] = 0.5  # 0.8 #* 1.3\n",
    "plt.rcParams[\"xtick.major.size\"] = 3.5 * 1.1\n",
    "plt.rcParams[\"xtick.minor.size\"] = 2 * 1.1\n",
    "plt.rcParams[\"ytick.major.size\"] = 3.5 * 1.1\n",
    "plt.rcParams[\"ytick.minor.size\"] = 2 * 1.1\n",
    "# legend\n",
    "savefig_cfg = {\"transparent\": True, \"dpi\": 300}\n",
    "legend_cfg = {\"frameon\": False, \"handletextpad\": 0.1}\n",
    "tight_layout_cfg = {\"pad\": 0.5}\n",
    "LG_FRAMEON = False  # no legend frame"
   ]
  },
  {
   "cell_type": "markdown",
   "metadata": {},
   "source": [
    "## L1,2/3"
   ]
  },
  {
   "cell_type": "markdown",
   "metadata": {},
   "source": [
    "### Load dataset"
   ]
  },
  {
   "cell_type": "code",
   "execution_count": 553,
   "metadata": {},
   "outputs": [],
   "source": [
    "FIGSIZE = (1.05, 1.25)  # DO NOT CHANGE!! Calibrated for preprint figure"
   ]
  },
  {
   "cell_type": "code",
   "execution_count": 554,
   "metadata": {},
   "outputs": [
    {
     "name": "stdout",
     "output_type": "stream",
     "text": [
      "['L1' 'L2_3' 'Outside']\n",
      "[]\n"
     ]
    }
   ],
   "source": [
    "# get preprocessed\n",
    "Recording = si.load_extractor(PRE_PATH_1)\n",
    "\n",
    "# get layers\n",
    "layers = Recording.get_property(\"layers\")\n",
    "\n",
    "# count site per column\n",
    "site_per_col = int(len(layers) / 4)\n",
    "\n",
    "# get layers layout\n",
    "col1_site_out = np.where(layers[:site_per_col] == \"Outside\")[0]\n",
    "col1_site_l1 = np.where(layers[:site_per_col] == \"L1\")[0]\n",
    "col1_site_l2_3 = np.where((layers[:site_per_col] == \"L2_3\"))[0]\n",
    "col1_site_l4 = np.where(layers[:site_per_col] == \"L4\")[0]\n",
    "col1_site_l5 = np.where(layers[:site_per_col] == \"L5\")[0]\n",
    "col1_site_l6 = np.where(layers[:site_per_col] == \"L6\")[0]\n",
    "\n",
    "# print layers\n",
    "print(np.unique(layers))\n",
    "\n",
    "# check sites from layer 5\n",
    "print(col1_site_l5)"
   ]
  },
  {
   "cell_type": "code",
   "execution_count": 555,
   "metadata": {},
   "outputs": [],
   "source": [
    "# plot\n",
    "DURATION = 10  # 20  # in ms, 46\n",
    "NUM = 1442  # 1430  # 1424  # 1415  # 1400, 76, 1200, 10, 14, 46, 53, 61, 500,\n",
    "LINEWIDTH = 0.15\n",
    "LINEWIDTH_BORD = 0.25\n",
    "PLOT_Y_PITCH = 100\n",
    "\n",
    "n_timepoints = int(DURATION * SAMPFREQ / 1000)\n",
    "PERIOD = np.arange((NUM - 1) * n_timepoints, NUM * n_timepoints, 1)\n",
    "Y_MAX = PLOT_Y_PITCH * (site_per_col - 1)"
   ]
  },
  {
   "cell_type": "code",
   "execution_count": 556,
   "metadata": {},
   "outputs": [
    {
     "name": "stdout",
     "output_type": "stream",
     "text": [
      "number of sites shown: 26\n"
     ]
    },
    {
     "data": {
      "image/png": "[encoded data removed]",
      "text/plain": [
       "<Figure size 105x125 with 1 Axes>"
      ]
     },
     "metadata": {},
     "output_type": "display_data"
    }
   ],
   "source": [
    "prep_traces = Recording.get_traces()\n",
    "n_contacts = prep_traces.shape[1]\n",
    "\n",
    "# plot 384 contacts x 5 ms (like Trautmann et al 2023)\n",
    "\n",
    "# plot (0: bottom 96:top)\n",
    "fig, ax = plt.subplots(1, 1, figsize=FIGSIZE)\n",
    "pos_up = 0\n",
    "row = 0\n",
    "c_site = 0\n",
    "for contact_i in np.arange(0, site_per_col, 1):\n",
    "    # layer 2/3\n",
    "    if contact_i == col1_site_l2_3[0]:\n",
    "        ax.hlines(\n",
    "            y=0.99 * pos_up,\n",
    "            xmin=0,\n",
    "            xmax=n_timepoints,\n",
    "            color=\"black\",\n",
    "            linewidth=LINEWIDTH_BORD,\n",
    "        )\n",
    "        # label layer\n",
    "        ax.text(\n",
    "            # 610,\n",
    "            -120,\n",
    "            0.99 * pos_up,\n",
    "            \"%s\" % (\"L2/3\"),\n",
    "            size=plt.rcParams[\"font.size\"],\n",
    "            zorder=100,\n",
    "            color=\"k\",\n",
    "            ha=\"left\",\n",
    "        )\n",
    "    # layer 1\n",
    "    if contact_i == col1_site_l1[0]:\n",
    "        ax.hlines(\n",
    "            y=0.99 * pos_up,\n",
    "            xmin=0,\n",
    "            xmax=n_timepoints,\n",
    "            color=\"black\",\n",
    "            linewidth=LINEWIDTH_BORD,\n",
    "        )\n",
    "        # label layer\n",
    "        ax.text(\n",
    "            # 610,\n",
    "            -120,\n",
    "            0.99 * pos_up,\n",
    "            \"%s\" % (\"L1\"),\n",
    "            size=plt.rcParams[\"font.size\"],\n",
    "            zorder=100,\n",
    "            color=\"k\",\n",
    "            ha=\"left\",\n",
    "        )\n",
    "\n",
    "    # Outside\n",
    "    if contact_i == 73:\n",
    "        ax.hlines(\n",
    "            y=pos_up, xmin=0, xmax=n_timepoints, color=\"black\", linewidth=LINEWIDTH_BORD\n",
    "        )\n",
    "\n",
    "    # in target layer\n",
    "    if contact_i in col1_site_l1:\n",
    "        c_site += 1\n",
    "        ax.plot(\n",
    "            prep_traces[PERIOD, contact_i] + pos_up,\n",
    "            linewidth=LINEWIDTH,\n",
    "            color=COLOR_HS,\n",
    "        )\n",
    "        pos_up += PLOT_Y_PITCH\n",
    "\n",
    "    if contact_i in col1_site_l2_3:\n",
    "        c_site += 1\n",
    "        ax.plot(\n",
    "            prep_traces[PERIOD, contact_i] + pos_up,\n",
    "            linewidth=LINEWIDTH,\n",
    "            color=COLOR_HS,\n",
    "        )\n",
    "        pos_up += PLOT_Y_PITCH\n",
    "\n",
    "ax.spines[[\"left\", \"right\", \"top\"]].set_visible(False)\n",
    "ax.set_xticks([0, n_timepoints])\n",
    "ax.set_xticklabels([0, DURATION])\n",
    "ax.set_xlabel(\"Time (ms)\")\n",
    "ax.set_ylim([-80, Y_MAX + 500])\n",
    "plt.yticks([])\n",
    "\n",
    "print(\"number of sites shown:\", c_site)\n",
    "\n",
    "# save figures\n",
    "plt.savefig(\n",
    "    \"figures/0_validation/2_dynamics/fig2l_spacetime_custom_biophy_l1_2_3.svg\",\n",
    "    **savefig_cfg\n",
    ")"
   ]
  },
  {
   "cell_type": "markdown",
   "metadata": {},
   "source": [
    "### plot\n",
    "\n",
    "* 32 sites in a column"
   ]
  },
  {
   "cell_type": "code",
   "execution_count": 566,
   "metadata": {},
   "outputs": [],
   "source": [
    "FIGSIZE = (1.05, 1.25)  # DO NOT CHANGE!! Calibrated for preprint figure"
   ]
  },
  {
   "cell_type": "markdown",
   "metadata": {},
   "source": [
    "## L4 and 5"
   ]
  },
  {
   "cell_type": "markdown",
   "metadata": {},
   "source": [
    "### Load dataset"
   ]
  },
  {
   "cell_type": "code",
   "execution_count": 567,
   "metadata": {},
   "outputs": [
    {
     "name": "stdout",
     "output_type": "stream",
     "text": [
      "['L2' 'L4' 'L5']\n"
     ]
    }
   ],
   "source": [
    "# get preprocessed\n",
    "Recording = si.load_extractor(PRE_PATH_2)\n",
    "\n",
    "# get layers\n",
    "layers = Recording.get_property(\"layers\")\n",
    "\n",
    "# count site per column\n",
    "site_per_col = int(len(layers) / 4)\n",
    "\n",
    "# get layers layout\n",
    "col1_site_out = np.where(layers[:site_per_col] == \"Outside\")[0]\n",
    "col1_site_l1 = np.where(layers[:site_per_col] == \"L1\")[0]\n",
    "col1_site_l2_3 = np.where((layers[:site_per_col] == \"L2_3\"))[0]\n",
    "col1_site_l4 = np.where(layers[:site_per_col] == \"L4\")[0]\n",
    "col1_site_l5 = np.where(layers[:site_per_col] == \"L5\")[0]\n",
    "col1_site_l6 = np.where(layers[:site_per_col] == \"L6\")[0]\n",
    "\n",
    "# print layers\n",
    "print(np.unique(layers))"
   ]
  },
  {
   "cell_type": "code",
   "execution_count": 568,
   "metadata": {},
   "outputs": [],
   "source": [
    "FIGSIZE = (1.05, 1.25)  # DO NOT CHANGE!! Calibrated for figure"
   ]
  },
  {
   "cell_type": "code",
   "execution_count": 569,
   "metadata": {},
   "outputs": [
    {
     "name": "stdout",
     "output_type": "stream",
     "text": [
      "number of sites shown: 31\n"
     ]
    },
    {
     "data": {
      "image/png": "[encoded data removed]",
      "text/plain": [
       "<Figure size 105x125 with 1 Axes>"
      ]
     },
     "metadata": {},
     "output_type": "display_data"
    }
   ],
   "source": [
    "prep_traces = Recording.get_traces()\n",
    "n_contacts = prep_traces.shape[1]\n",
    "\n",
    "# plot 384 contacts x 5 ms (like Trautmann et al 2023)\n",
    "\n",
    "# plot (0: bottom 96:top)\n",
    "fig, ax = plt.subplots(1, 1, figsize=FIGSIZE)\n",
    "pos_up = 0\n",
    "row = 0\n",
    "c_site = 0\n",
    "for contact_i in np.arange(0, site_per_col, 1):\n",
    "    # layer 4\n",
    "    if contact_i == col1_site_l4[0]:\n",
    "        ax.hlines(\n",
    "            y=0.99 * pos_up,\n",
    "            xmin=0,\n",
    "            xmax=n_timepoints,\n",
    "            color=\"black\",\n",
    "            linewidth=LINEWIDTH_BORD,\n",
    "        )\n",
    "        # label layer\n",
    "        ax.text(\n",
    "            # 610,\n",
    "            -120,\n",
    "            0.99 * pos_up,\n",
    "            \"%s\" % (\"L4\"),\n",
    "            size=plt.rcParams[\"font.size\"],\n",
    "            zorder=100,\n",
    "            color=\"k\",\n",
    "            ha=\"left\",\n",
    "        )\n",
    "    # layer 5\n",
    "    if contact_i == col1_site_l5[0]:\n",
    "        ax.hlines(\n",
    "            y=0.99 * pos_up,\n",
    "            xmin=0,\n",
    "            xmax=n_timepoints,\n",
    "            color=\"black\",\n",
    "            linewidth=LINEWIDTH_BORD,\n",
    "        )\n",
    "        # label layer\n",
    "        ax.text(\n",
    "            # 610,\n",
    "            -120,\n",
    "            0.99 * pos_up,\n",
    "            \"%s\" % (\"L5\"),\n",
    "            size=plt.rcParams[\"font.size\"],\n",
    "            zorder=100,\n",
    "            color=\"k\",\n",
    "            ha=\"left\",\n",
    "        )\n",
    "\n",
    "    # Outside\n",
    "    if contact_i == 73:\n",
    "        ax.hlines(\n",
    "            y=pos_up, xmin=0, xmax=n_timepoints, color=\"black\", linewidth=LINEWIDTH_BORD\n",
    "        )\n",
    "\n",
    "    # in target layer\n",
    "    if contact_i in col1_site_l4:\n",
    "        c_site += 1\n",
    "        ax.plot(\n",
    "            prep_traces[PERIOD, contact_i] + pos_up,\n",
    "            linewidth=LINEWIDTH,\n",
    "            color=COLOR_HS,\n",
    "        )\n",
    "        pos_up += PLOT_Y_PITCH\n",
    "\n",
    "    if contact_i in col1_site_l5:\n",
    "        c_site += 1\n",
    "        ax.plot(\n",
    "            prep_traces[PERIOD, contact_i] + pos_up,\n",
    "            linewidth=LINEWIDTH,\n",
    "            color=COLOR_HS,\n",
    "        )\n",
    "        pos_up += PLOT_Y_PITCH\n",
    "\n",
    "ax.spines[[\"left\", \"right\", \"top\"]].set_visible(False)\n",
    "ax.set_xticks([0, n_timepoints])\n",
    "ax.set_xticklabels([0, DURATION])\n",
    "ax.set_xlabel(\"Time (ms)\")\n",
    "ax.set_ylim([-80, Y_MAX + 500])\n",
    "plt.yticks([])\n",
    "\n",
    "print(\"number of sites shown:\", c_site)\n",
    "\n",
    "# save figures\n",
    "plt.savefig(\n",
    "    \"figures/0_validation/2_dynamics/fig2l_spacetime_custom_biophy_l4_5.svg\",\n",
    "    **savefig_cfg\n",
    ")"
   ]
  },
  {
   "cell_type": "markdown",
   "metadata": {},
   "source": [
    "## L6"
   ]
  },
  {
   "cell_type": "code",
   "execution_count": 573,
   "metadata": {},
   "outputs": [],
   "source": [
    "FIGSIZE = (1.05, 1.28)  # DO NOT CHANGE!! Calibrated for figure"
   ]
  },
  {
   "cell_type": "code",
   "execution_count": 574,
   "metadata": {},
   "outputs": [
    {
     "name": "stdout",
     "output_type": "stream",
     "text": [
      "['L6' 'Outside']\n"
     ]
    }
   ],
   "source": [
    "# get preprocessed\n",
    "Recording = si.load_extractor(PRE_PATH_3)\n",
    "\n",
    "# get layers\n",
    "layers = Recording.get_property(\"layers\")\n",
    "\n",
    "# count site per column\n",
    "site_per_col = int(len(layers) / 4)\n",
    "\n",
    "# get layers layout\n",
    "col1_site_out = np.where(layers[:site_per_col] == \"Outside\")[0]\n",
    "col1_site_l6 = np.where(layers[:site_per_col] == \"L6\")[0]\n",
    "\n",
    "# print layers\n",
    "print(np.unique(layers))"
   ]
  },
  {
   "cell_type": "code",
   "execution_count": 575,
   "metadata": {},
   "outputs": [
    {
     "name": "stdout",
     "output_type": "stream",
     "text": [
      "number of sites shown: 19\n"
     ]
    },
    {
     "data": {
      "image/png": "[encoded data removed]",
      "text/plain": [
       "<Figure size 105x128 with 1 Axes>"
      ]
     },
     "metadata": {},
     "output_type": "display_data"
    }
   ],
   "source": [
    "prep_traces = Recording.get_traces()\n",
    "n_contacts = prep_traces.shape[1]\n",
    "\n",
    "# plot 384 contacts x 5 ms (like Trautmann et al 2023)\n",
    "\n",
    "# plot (0: bottom 96:top)\n",
    "fig, ax = plt.subplots(1, 1, figsize=FIGSIZE)\n",
    "pos_up = 0\n",
    "row = 0\n",
    "c_site = 0\n",
    "for contact_i in np.arange(0, site_per_col, 1):\n",
    "    # layer 6\n",
    "    if contact_i == col1_site_l6[0]:\n",
    "        ax.hlines(\n",
    "            y=0.99 * pos_up,\n",
    "            xmin=0,\n",
    "            xmax=n_timepoints,\n",
    "            color=\"black\",\n",
    "            linewidth=LINEWIDTH_BORD,\n",
    "        )\n",
    "        # label layer\n",
    "        ax.text(\n",
    "            # 610,\n",
    "            -120,\n",
    "            0.99 * pos_up,\n",
    "            \"%s\" % (\"L6\"),\n",
    "            size=plt.rcParams[\"font.size\"],\n",
    "            zorder=100,\n",
    "            color=\"k\",\n",
    "            ha=\"left\",\n",
    "        )\n",
    "\n",
    "    # Outside\n",
    "    if contact_i == 73:\n",
    "        ax.hlines(\n",
    "            y=pos_up, xmin=0, xmax=n_timepoints, color=\"black\", linewidth=LINEWIDTH_BORD\n",
    "        )\n",
    "\n",
    "    # in target layer\n",
    "    if contact_i in col1_site_l6:\n",
    "        c_site += 1\n",
    "        ax.plot(\n",
    "            prep_traces[PERIOD, contact_i] + pos_up,\n",
    "            linewidth=LINEWIDTH,\n",
    "            color=COLOR_HS,\n",
    "        )\n",
    "        pos_up += PLOT_Y_PITCH\n",
    "\n",
    "ax.spines[[\"left\", \"right\", \"top\"]].set_visible(False)\n",
    "ax.set_xticks([0, n_timepoints])\n",
    "ax.set_xticklabels([0, DURATION])\n",
    "ax.set_xlabel(\"Time (ms)\")\n",
    "ax.set_ylim([-80, Y_MAX + 500])\n",
    "plt.yticks([])\n",
    "\n",
    "print(\"number of sites shown:\", c_site)\n",
    "\n",
    "# save figures\n",
    "plt.savefig(\n",
    "    \"figures/0_validation/2_dynamics/fig2l_spacetime_custom_biophy_l6.svg\",\n",
    "    **savefig_cfg\n",
    ")"
   ]
  }
 ],
 "metadata": {
  "kernelspec": {
   "display_name": "npx_10m_384ch_unit_classes",
   "language": "python",
   "name": "python3"
  },
  "language_info": {
   "codemirror_mode": {
    "name": "ipython",
    "version": 3
   },
   "file_extension": ".py",
   "mimetype": "text/x-python",
   "name": "python",
   "nbconvert_exporter": "python",
   "pygments_lexer": "ipython3",
   "version": "3.9.7"
  },
  "orig_nbformat": 4
 },
 "nbformat": 4,
 "nbformat_minor": 2
}
