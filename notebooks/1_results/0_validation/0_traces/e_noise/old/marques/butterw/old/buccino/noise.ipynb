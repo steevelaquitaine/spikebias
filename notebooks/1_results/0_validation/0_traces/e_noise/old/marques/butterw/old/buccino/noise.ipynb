{
 "cells": [
  {
   "attachments": {},
   "cell_type": "markdown",
   "metadata": {},
   "source": [
    "# Noise\n",
    "\n",
    "author: steeve.laquitaine@epfl.ch  \n",
    "date: 09.01.2024"
   ]
  },
  {
   "cell_type": "markdown",
   "metadata": {},
   "source": [
    "### Data Description \n",
    "\n",
    "**in-vivo**:\n",
    "\n",
    "* `Marques` (aligned with cortical column)\n",
    "    * rat cortex S1\n",
    "    * 384ch \n",
    "    * 30.0kHz\n",
    "    * 20.25 min\n",
    "    * \"Spontaneous activity\" (Only anesthetized condition)\n",
    "    \n",
    "**in-silico**:\n",
    "\n",
    "* `Buccino` (aligned with cortical column)\n",
    "    * rat cortex S1, layer 5\n",
    "    * 384ch \n",
    "    * 32.0kHz\n",
    "    * 10 min\n",
    "    * \"Spontaneous activity\"\n"
   ]
  },
  {
   "attachments": {},
   "cell_type": "markdown",
   "metadata": {},
   "source": [
    "### Setup libs\n",
    "\n",
    "1. Activate `spikeinterf..` venv  \n",
    "2. compute dataset:  sbatch cluster/figures/main/buccino/noise_buttw.sbatch "
   ]
  },
  {
   "cell_type": "code",
   "execution_count": 6,
   "metadata": {},
   "outputs": [
    {
     "name": "stdout",
     "output_type": "stream",
     "text": [
      "The autoreload extension is already loaded. To reload it, use:\n",
      "  %reload_ext autoreload\n",
      "2024-05-08 12:42:18,798 - root - utils.py - get_config - INFO - Reading experiment config.\n",
      "2024-05-08 12:42:18,819 - root - utils.py - get_config - INFO - Reading experiment config. - done\n",
      "2024-05-08 12:42:18,835 - root - utils.py - get_config - INFO - Reading experiment config.\n",
      "2024-05-08 12:42:18,851 - root - utils.py - get_config - INFO - Reading experiment config. - done\n"
     ]
    }
   ],
   "source": [
    "# import libs\n",
    "%load_ext autoreload\n",
    "%autoreload 2\n",
    "\n",
    "import warnings\n",
    "warnings.simplefilter(action='ignore', category=FutureWarning)\n",
    "\n",
    "import os\n",
    "import pandas as pd\n",
    "import numpy as np\n",
    "from matplotlib import pyplot as plt\n",
    "import spikeinterface as si\n",
    "from concurrent.futures import ProcessPoolExecutor\n",
    "import copy\n",
    "import spikeinterface.extractors as se\n",
    "from scipy.optimize import minimize\n",
    "import spikeinterface.full as si_full\n",
    "from contextlib import redirect_stdout\n",
    "from csv import writer\n",
    "import seaborn as sns\n",
    "\n",
    "# move to PROJECT PATH\n",
    "PROJ_PATH = \"/gpfs/bbp.cscs.ch/project/proj85/home/laquitai/preprint_2023/\"\n",
    "os.chdir(PROJ_PATH)\n",
    "\n",
    "from src.nodes.utils import get_config\n",
    "\n",
    "# SETUP PARAMETERS\n",
    "RND_SEED = 0                # random seed\n",
    "SFREQ_VIVO = 30000          # sampling frequency\n",
    "WIND_END = 3700             # last segment to calculate mad\n",
    "\n",
    "# vivo\n",
    "data_conf_h_vivo, param_conf_h_vivo = get_config(\"vivo_marques\", \"c26\").values() \n",
    "RAW_PATH_h_vivo = data_conf_h_vivo[\"raw\"]\n",
    "PREP_PATH_h_vivo = data_conf_h_vivo[\"preprocessing\"][\"output\"][\"trace_file_path\"]\n",
    "NOISE_VIVO_DATAPATH = data_conf_h_vivo[\"analyses\"][\"noise_stats\"][\"buttw_noise_0uV\"]\n",
    "CONTACTS_h = np.arange(0,128,1)\n",
    "\n",
    "# silico\n",
    "data_conf_h_b, param_conf_h_b = get_config(\"buccino_2020\", \"2020\").values()\n",
    "RAW_PATH_h_b = data_conf_h_b[\"probe_wiring\"][\"output\"]\n",
    "PREP_PATH_h_b = data_conf_h_b[\"preprocessing\"][\"output\"][\"trace_file_path\"]\n",
    "NOISE_B_DATAPATH = data_conf_h_b[\"analyses\"][\"noise_stats\"][\"buttw\"]\n",
    "\n",
    "# FIGURE SETTINGS\n",
    "COLOR_VIVO = (0.25, 0.25, 0.25)\n",
    "COLOR_SILI = (0.84, 0.27, 0.2)\n",
    "COLOR_STIM = (0.99215686, 0.68235294, 0.38039216)\n",
    "\n",
    "BOX_ASPECT = 1                  # square fig\n",
    "FIG_SIZE = (4,4)\n",
    "N_MAJOR_TICKS = 6\n",
    "N_MINOR_TICKS = 12\n",
    "plt.rcParams[\"font.family\"] = \"Arial\"\n",
    "plt.rcParams[\"font.size\"] = 18\n",
    "plt.rcParams['lines.linewidth'] = 2\n",
    "plt.rcParams['axes.linewidth'] = 1\n",
    "plt.rcParams['axes.spines.top'] = False\n",
    "plt.rcParams['axes.spines.right'] = False\n",
    "plt.rcParams['xtick.major.width'] = 1\n",
    "plt.rcParams['xtick.minor.size'] = 3\n",
    "plt.rcParams['xtick.major.size'] = 7\n",
    "plt.rcParams['ytick.major.size'] = 7\n",
    "plt.rcParams['ytick.major.width'] = 1\n",
    "legend_cfg = {\"frameon\": False, \"handletextpad\": 0.1}\n",
    "savefig_cfg = {\"transparent\":True}\n",
    "# print(plt.rcParams.keys())"
   ]
  },
  {
   "cell_type": "markdown",
   "metadata": {},
   "source": [
    "### Plot noise"
   ]
  },
  {
   "cell_type": "code",
   "execution_count": 7,
   "metadata": {},
   "outputs": [
    {
     "name": "stderr",
     "output_type": "stream",
     "text": [
      "/gpfs/bbp.cscs.ch/project/proj85/scratch/laquitai/4_preprint_2023/envs/spikinterf0_100_5/lib/python3.9/site-packages/spikeinterface/core/base.py:1079: UserWarning: Versions are not the same. This might lead to compatibility errors. Using spikeinterface==0.96.1 is recommended\n",
      "  warnings.warn(\n",
      "/gpfs/bbp.cscs.ch/project/proj85/scratch/laquitai/4_preprint_2023/envs/spikinterf0_100_5/lib/python3.9/site-packages/spikeinterface/core/binaryrecordingextractor.py:78: UserWarning: `num_chan` is to be deprecated in version 0.100, please use `num_channels` instead\n",
      "  warnings.warn(\"`num_chan` is to be deprecated in version 0.100, please use `num_channels` instead\")\n",
      "/tmp/ipykernel_141207/851351533.py:62: UserWarning: set_ticklabels() should only be used with a fixed number of ticks, i.e. after set_ticks() or using a FixedLocator.\n",
      "  ax.set_xticklabels(\n"
     ]
    },
    {
     "data": {
      "image/png": "[encoded data removed]",
      "text/plain": [
       "<Figure size 400x400 with 1 Axes>"
      ]
     },
     "metadata": {},
     "output_type": "display_data"
    }
   ],
   "source": [
    "# FORMAT PLOT DATA ----------\n",
    "# load precomputed noise data\n",
    "vivo_noise_by_trace = np.load(NOISE_VIVO_DATAPATH, allow_pickle=True)\n",
    "silico_noise_by_trace = np.load(NOISE_B_DATAPATH, allow_pickle=True)\n",
    "\n",
    "layers = [\"L1\", \"L2_3\", \"L4\", \"L5\", \"L6\"]\n",
    "\n",
    "# - get site layers\n",
    "PreRecording_h_vivo = si.load_extractor(PREP_PATH_h_vivo)\n",
    "vivo_layers = PreRecording_h_vivo.get_property(\"layers\")\n",
    "\n",
    "vivo_noise = []\n",
    "sili_noise = []\n",
    "\n",
    "# calculate noise stats by layer\n",
    "for l_i in range(len(layers)):\n",
    "    vivo_noise.append(np.array(vivo_noise_by_trace)[vivo_layers == layers[l_i]])\n",
    "    sili_noise.append(np.array(silico_noise_by_trace))\n",
    "\n",
    "# build dataset to plot\n",
    "# - vivo data\n",
    "vivo_data = pd.DataFrame(data=np.array(vivo_noise_by_trace), columns=[\"noise\"])\n",
    "vivo_data[\"layer\"] = vivo_layers\n",
    "vivo_data[\"experiment\"] = \"vivo\"\n",
    "\n",
    "# - silico data\n",
    "sili_data = pd.DataFrame(data=np.array(silico_noise_by_trace), columns=[\"noise\"])\n",
    "\n",
    "# - group l2 and l3\n",
    "sili_data[\"layer\"] = \"L5\"\n",
    "sili_data[\"experiment\"] = \"buccino\"\n",
    "\n",
    "plot_data = pd.concat([vivo_data, sili_data], ignore_index=True)\n",
    "\n",
    "# drop sites outside layers\n",
    "mask = np.isin(plot_data[\"layer\"], layers)\n",
    "plot_data = plot_data[mask]\n",
    "plot_data = plot_data.sort_values(by=[\"layer\"])\n",
    "\n",
    "\n",
    "# PLOT ----------\n",
    "\n",
    "fig, ax = plt.subplots(1, 1, figsize=FIG_SIZE)\n",
    "\n",
    "ax = sns.boxplot(\n",
    "    ax=ax,\n",
    "    data=plot_data,\n",
    "    x=\"layer\",\n",
    "    y=\"noise\",\n",
    "    hue=\"experiment\",\n",
    "    fill=False,\n",
    "    hue_order=[\"vivo\", \"buccino\"],\n",
    "    palette=[COLOR_VIVO, COLOR_SILI],\n",
    "    gap=0.1,\n",
    "    linewidth=1.5,\n",
    ")\n",
    "ax.spines[[\"top\", \"right\"]].set_visible(False)\n",
    "ax.legend(\"\", frameon=False)\n",
    "ax.set_ylabel(\"Noise (\\u03bcV)\")\n",
    "ax.set_xlabel(\"Layer\")\n",
    "ax.set_box_aspect(BOX_ASPECT)  # square axis\n",
    "ax.set_xticklabels(\n",
    "    [\n",
    "        \"L1\",\n",
    "        \"L2/3\",\n",
    "        \"L4\",\n",
    "        \"L5\",\n",
    "        \"L6\",\n",
    "    ]\n",
    ")\n",
    "\n",
    "# save figures\n",
    "plt.savefig(\n",
    "    \"figures/2_realism/2_noise/svg/layerwise_noise_stats_buccino.svg\",\n",
    "    bbox_inches=\"tight\",\n",
    ")"
   ]
  },
  {
   "cell_type": "code",
   "execution_count": null,
   "metadata": {},
   "outputs": [],
   "source": []
  }
 ],
 "metadata": {
  "kernelspec": {
   "display_name": "env_kilosort_silico",
   "language": "python",
   "name": "python3"
  },
  "language_info": {
   "codemirror_mode": {
    "name": "ipython",
    "version": 3
   },
   "file_extension": ".py",
   "mimetype": "text/x-python",
   "name": "python",
   "nbconvert_exporter": "python",
   "pygments_lexer": "ipython3",
   "version": "3.9.7"
  },
  "orig_nbformat": 4
 },
 "nbformat": 4,
 "nbformat_minor": 2
}
