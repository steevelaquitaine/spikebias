{
 "cells": [
  {
   "attachments": {},
   "cell_type": "markdown",
   "metadata": {},
   "source": [
    "# Plot fitted noise\n",
    "\n",
    "author: steeve.laquitaine@epfl.ch  \n",
    "date: 09.01.2024\n",
    "\n",
    "**Purpose**: high background noise degrades spike sorting. We characterized in vivo background noise and validated ours against in vivo's."
   ]
  },
  {
   "cell_type": "markdown",
   "metadata": {},
   "source": [
    "### Data Description \n",
    "\n",
    "**in-vivo**:\n",
    "\n",
    "* `Marques` (aligned with cortical column)\n",
    "    * rat cortex S1\n",
    "    * 384ch \n",
    "    * 30.0kHz\n",
    "    * 20.25 min\n",
    "    * \"Spontaneous activity\" (Only anesthetized condition)\n",
    "    \n",
    "**in-silico**:\n",
    "\n",
    "* `Neuropixels` (aligned with cortical column)\n",
    "    * rat cortex S1\n",
    "    * 384ch \n",
    "    * 40.0kHz\n",
    "    * 10 min\n",
    "    * \"Spontaneous activity\" (Only anesthetized condition)\n"
   ]
  },
  {
   "cell_type": "code",
   "execution_count": 5,
   "metadata": {},
   "outputs": [
    {
     "data": {
      "text/plain": [
       "25.612496949731394"
      ]
     },
     "execution_count": 5,
     "metadata": {},
     "output_type": "execute_result"
    }
   ],
   "source": [
    "np.sqrt(16**2 + 20**2)"
   ]
  },
  {
   "cell_type": "markdown",
   "metadata": {},
   "source": [
    "### Summary\n",
    "\n",
    "* In vivo traces' mean were removed, so we removed the mean from each recording site in silico.\n",
    "* We fitted in silico preprocessed traces to in vivo preprocessed traces to match the 1) max voltage amplitude and 2) the average background noises per layer (minimum mean absolute deviation). The missing noise was modelled as independent noise on each site.\n",
    "* The raw silico traces will be scaled and the missing noise added for all subsequent analyses.\n",
    "* **failed approaches**:\n",
    "    * applying the scale and missing gaussian noise fitted with preprocessed traces on the raw traces then preprocessing the transformed silico traces, in that order, produces smaller noises per layer than observed in vivo, because high-pass filtering and common referencing remove noise from the traces.\n",
    "    * rescaling and adding Gaussian noise must be applied to the raw traces, which should then be preprocessed, during each iteration of the fitting procedure. Because the preprocessing of the entire recording is computationally expansive (15 min for 10 min recording), we fitted noise and scale on the first 10 seconds of the in silico recording."
   ]
  },
  {
   "cell_type": "markdown",
   "metadata": {},
   "source": [
    "### Prerequisites\n",
    "\n",
    "\n",
    "These pipelines must have been run before:\n",
    "\n",
    "1. fit silico amplitude and noise to in vivo per layer:\n",
    "\n",
    "```bash\n",
    "sbatch cluster/processing/fitting/marques/fit_marques_silico_l1.sbatch\n",
    "sbatch cluster/processing/fitting/marques/fit_marques_silico_l2_3.sbatch\n",
    "sbatch cluster/processing/fitting/marques/fit_marques_silico_l4.sbatch\n",
    "sbatch cluster/processing/fitting/marques/fit_marques_silico_l5.sbatch\n",
    "sbatch cluster/processing/fitting/marques/fit_marques_silico_l6.sbatch\n",
    "```\n",
    "\n",
    "2. Process silico traces:\n",
    "\n",
    "```bash\n",
    "sbatch cluster/processing/marques_silico/process.sbatch\n",
    "```"
   ]
  },
  {
   "attachments": {},
   "cell_type": "markdown",
   "metadata": {},
   "source": [
    "### Setup libs\n",
    "\n",
    "Activate `npx_10m_384ch_unit_classes` venv"
   ]
  },
  {
   "cell_type": "code",
   "execution_count": 1,
   "metadata": {},
   "outputs": [
    {
     "name": "stdout",
     "output_type": "stream",
     "text": [
      "2024-06-03 17:11:00,802 - root - utils.py - get_config - INFO - Reading experiment config.\n",
      "2024-06-03 17:11:00,843 - root - utils.py - get_config - INFO - Reading experiment config. - done\n",
      "2024-06-03 17:11:00,845 - root - utils.py - get_config - INFO - Reading experiment config.\n",
      "2024-06-03 17:11:00,920 - root - utils.py - get_config - INFO - Reading experiment config. - done\n"
     ]
    }
   ],
   "source": [
    "# import libs\n",
    "%load_ext autoreload\n",
    "%autoreload 2\n",
    "\n",
    "import warnings\n",
    "warnings.simplefilter(action='ignore', category=FutureWarning)\n",
    "\n",
    "import os\n",
    "import pandas as pd\n",
    "import numpy as np\n",
    "from matplotlib import pyplot as plt\n",
    "import spikeinterface as si\n",
    "from concurrent.futures import ProcessPoolExecutor\n",
    "import copy\n",
    "import spikeinterface.extractors as se\n",
    "from scipy.optimize import minimize\n",
    "import spikeinterface.full as si_full\n",
    "from contextlib import redirect_stdout\n",
    "from csv import writer\n",
    "import seaborn as sns\n",
    "\n",
    "# move to PROJECT PATH\n",
    "PROJ_PATH = \"/gpfs/bbp.cscs.ch/project/proj85/home/laquitai/preprint_2023/\"\n",
    "os.chdir(PROJ_PATH)\n",
    "\n",
    "from src.nodes.utils import get_config\n",
    "from src.nodes.dataeng.silico import recording, probe_wiring\n",
    "from src.nodes.prepro import preprocess\n",
    "from src.nodes.study.layer import getAtlasInfo\n",
    "from src.nodes.dataeng.silico.probe_wiring import wire_silico_marques_probe\n",
    "\n",
    "# SETUP PARAMETERS\n",
    "RND_SEED = 0                # random seed\n",
    "SFREQ_VIVO = 30000          # sampling frequency\n",
    "SFREQ_SILICO = 40000        # sampling frequency\n",
    "WIND_END = 3700             # last segment to calculate mad\n",
    "\n",
    "# vivo\n",
    "data_conf_h_vivo, param_conf_h_vivo = get_config(\"vivo_marques\", \"c26\").values() \n",
    "RAW_PATH_h_vivo = data_conf_h_vivo[\"raw\"]\n",
    "PREP_PATH_h_vivo = data_conf_h_vivo[\"preprocessing\"][\"output\"][\"trace_file_path\"]\n",
    "CONTACTS_h = np.arange(0,128,1)\n",
    "\n",
    "# silico\n",
    "data_conf_h_silico, param_conf_h_silico = get_config(\"silico_neuropixels\", \"concatenated\").values()\n",
    "RAW_PATH_h_silico = data_conf_h_silico[\"dataeng\"][\"campaign\"][\"output\"][\"trace_file_path\"]\n",
    "#PREP_PATH_h_silico = data_conf_h_silico[\"preprocessing\"][\"output\"][\"trace_file_path\"]\n",
    "PREP_PATH_h_silico = data_conf_h_silico[\"preprocessing\"][\"output\"][\"40m\"][\n",
    "    \"trace_file_path_gain_fitd_adj_noise_fitd_int16\"\n",
    "]\n",
    "MISSING_NOISE_PATH = data_conf_h_silico[\"preprocessing\"][\"fitting\"][\"missing_noise_path\"]\n",
    "BLUECONFIG = data_conf_h_silico[\"dataeng\"][\"blueconfig\"]\n",
    "\n",
    "\n",
    "# FIGURE SETTINGS\n",
    "COLOR_VIVO = (0.25, 0.25, 0.25)\n",
    "COLOR_SILI = (0.84, 0.27, 0.2)\n",
    "COLOR_STIM = (0.99215686, 0.68235294, 0.38039216)\n",
    "\n",
    "BOX_ASPECT = 1                  # square fig\n",
    "FIG_SIZE = (4,4)\n",
    "N_MAJOR_TICKS = 6\n",
    "N_MINOR_TICKS = 12\n",
    "plt.rcParams[\"font.family\"] = \"Arial\"\n",
    "plt.rcParams[\"font.size\"] = 18\n",
    "plt.rcParams['lines.linewidth'] = 2\n",
    "plt.rcParams['axes.linewidth'] = 1\n",
    "plt.rcParams['axes.spines.top'] = False\n",
    "plt.rcParams['axes.spines.right'] = False\n",
    "plt.rcParams['xtick.major.width'] = 1\n",
    "plt.rcParams['xtick.minor.size'] = 3\n",
    "plt.rcParams['xtick.major.size'] = 7\n",
    "plt.rcParams['ytick.major.size'] = 7\n",
    "plt.rcParams['ytick.major.width'] = 1\n",
    "legend_cfg = {\"frameon\": False, \"handletextpad\": 0.1}\n",
    "savefig_cfg = {\"transparent\":True}\n",
    "# print(plt.rcParams.keys())"
   ]
  },
  {
   "cell_type": "markdown",
   "metadata": {},
   "source": [
    "### Utils"
   ]
  },
  {
   "cell_type": "code",
   "execution_count": 2,
   "metadata": {},
   "outputs": [],
   "source": [
    "def measure_trace_noise(traces, sfreq, wind_end):\n",
    "    \"\"\"measure noise (mean absolute deviation)\n",
    "    at consecutive segments of 1 second\n",
    "\n",
    "    Args:\n",
    "        traces: 2D array\n",
    "    \"\"\"\n",
    "    winds = np.arange(0, wind_end, 1)\n",
    "    mads = []\n",
    "    for wind_i in winds:\n",
    "        segment = traces[wind_i * sfreq : (wind_i + 1) * sfreq]\n",
    "        mads.append(pd.DataFrame(segment).mad().values[0])\n",
    "    return mads\n",
    "\n",
    "\n",
    "def measure_vivo_trace_noise_parallel(traces_vivo, site):\n",
    "    \"\"\"Measure the minimum absolute deviation of a single trace\n",
    "    over contiguous segments of one second\n",
    "    \"Site\" is only used implicitly to pass each row of the\n",
    "    traces_vivo matrix (the original timepoints x site matrix was transposed\n",
    "    such that sites are in rows) to this function.\n",
    "\n",
    "    Args:\n",
    "        traces_vivo (np.array): a 1D trace array of site x timepoints\n",
    "        site (int): the row used to implicitely extract that row from traces_vivo\n",
    "\n",
    "    Returns:\n",
    "        _type_: _description_\n",
    "    \"\"\"\n",
    "    # each site row of the array is passed to a worker\n",
    "    return min(measure_trace_noise(traces_vivo, SFREQ_VIVO, WIND_END))\n",
    "\n",
    "\n",
    "def measure_silico_trace_noise_parallel(traces_silico, site):\n",
    "    \"\"\"Measure the minimum absolute deviation of a single trace\n",
    "    over contiguous segments of one second\n",
    "    \"Site\" is only used implicitly to pass each row of the\n",
    "    traces_vivo matrix (the original timepoints x site matrix was transposed\n",
    "    such that sites are in rows) to this function.\n",
    "\n",
    "    Args:\n",
    "        traces_silico (np.array): a 1D trace array of site x timepoints\n",
    "        site (int): the row used to implicitely extract that row from traces_vivo\n",
    "\n",
    "    Returns:\n",
    "        _type_: _description_\n",
    "    \"\"\"\n",
    "    # each site row of the array is passed to a worker\n",
    "    return min(measure_trace_noise(traces_silico, SFREQ_SILICO, WIND_END))\n",
    "\n",
    "\n",
    "def sem(data):\n",
    "    return np.std(data) / np.sqrt(len(data))\n",
    "\n",
    "\n",
    "def conf_interv95(data):\n",
    "    return 1.96 * sem(data)\n",
    "\n",
    "\n",
    "def get_layer_sites(silico_layers, layer: str = \"L1\"):\n",
    "    if layer == \"L2_3\":\n",
    "        return np.hstack(\n",
    "            [np.where(silico_layers == \"L2\")[0], np.where(silico_layers == \"L3\")[0]]\n",
    "        )\n",
    "    else:\n",
    "        return np.where(silico_layers == layer)[0]"
   ]
  },
  {
   "cell_type": "markdown",
   "metadata": {},
   "source": [
    "### Compute noise"
   ]
  },
  {
   "cell_type": "code",
   "execution_count": 3,
   "metadata": {},
   "outputs": [
    {
     "name": "stderr",
     "output_type": "stream",
     "text": [
      "/gpfs/bbp.cscs.ch/project/proj85/scratch/laquitai/4_preprint_2023/envs/spikinterf0_100_5/lib/python3.9/site-packages/spikeinterface/core/base.py:1079: UserWarning: Versions are not the same. This might lead to compatibility errors. Using spikeinterface==0.96.1 is recommended\n",
      "  warnings.warn(\n",
      "/gpfs/bbp.cscs.ch/project/proj85/scratch/laquitai/4_preprint_2023/envs/spikinterf0_100_5/lib/python3.9/site-packages/spikeinterface/core/binaryrecordingextractor.py:78: UserWarning: `num_chan` is to be deprecated in version 0.100, please use `num_channels` instead\n",
      "  warnings.warn(\"`num_chan` is to be deprecated in version 0.100, please use `num_channels` instead\")\n"
     ]
    }
   ],
   "source": [
    "# 1. load recordings --------------\n",
    "\n",
    "# - get vivo traces\n",
    "PreRecording_h_vivo = si.load_extractor(PREP_PATH_h_vivo)\n",
    "traces_vivo = PreRecording_h_vivo.get_traces()\n",
    "\n",
    "# - get silico traces\n",
    "PreRecording_h_silico = si.load_extractor(PREP_PATH_h_silico)\n",
    "PreRecording_h_silico = PreRecording_h_silico.frame_slice(\n",
    "    start_frame=0, end_frame=10 * 60 * SFREQ_SILICO\n",
    ")\n",
    "traces_silico = PreRecording_h_silico.get_traces()\n",
    "\n",
    "# 2. Compute layer-wise noise (13 mins) --------------\n",
    "\n",
    "# VIVO\n",
    "# measure site noise of in vivo traces (parallelized, )\n",
    "with ProcessPoolExecutor() as executor:\n",
    "    noise_by_trace = executor.map(\n",
    "        measure_vivo_trace_noise_parallel,\n",
    "        traces_vivo.T,\n",
    "        np.arange(0, traces_vivo.shape[1], 1),\n",
    "    )\n",
    "vivo_noise_by_trace = list(noise_by_trace)\n",
    "\n",
    "# SILICO\n",
    "# measure site noise of fitted silico traces\n",
    "with ProcessPoolExecutor() as executor:\n",
    "    silico_noise_by_trace = executor.map(\n",
    "        measure_silico_trace_noise_parallel,\n",
    "        traces_silico.T,\n",
    "        np.arange(0, traces_silico.shape[1], 1),\n",
    "    )\n",
    "silico_noise_by_trace = list(silico_noise_by_trace)"
   ]
  },
  {
   "cell_type": "markdown",
   "metadata": {},
   "source": [
    "### Plot noise"
   ]
  },
  {
   "cell_type": "code",
   "execution_count": 4,
   "metadata": {},
   "outputs": [
    {
     "name": "stderr",
     "output_type": "stream",
     "text": [
      "/tmp/ipykernel_98144/3516012175.py:67: UserWarning: set_ticklabels() should only be used with a fixed number of ticks, i.e. after set_ticks() or using a FixedLocator.\n",
      "  ax.set_xticklabels(\n"
     ]
    },
    {
     "data": {
      "text/plain": [
       "[Text(0, 0, 'L1'),\n",
       " Text(1, 0, 'L2/3'),\n",
       " Text(2, 0, 'L4'),\n",
       " Text(3, 0, 'L5'),\n",
       " Text(4, 0, 'L6')]"
      ]
     },
     "execution_count": 4,
     "metadata": {},
     "output_type": "execute_result"
    },
    {
     "data": {
      "image/png": "[encoded data removed]",
      "text/plain": [
       "<Figure size 400x400 with 1 Axes>"
      ]
     },
     "metadata": {},
     "output_type": "display_data"
    }
   ],
   "source": [
    "# FORMAT PLOT DATA ----------\n",
    "\n",
    "layers = [\"L1\", \"L2_3\", \"L4\", \"L5\", \"L6\"]\n",
    "\n",
    "# - get site layers\n",
    "vivo_layers = PreRecording_h_vivo.get_property(\"layers\")\n",
    "silico_layers = PreRecording_h_silico.get_property(\"layers\")\n",
    "\n",
    "vivo_noise = []\n",
    "sili_noise = []\n",
    "\n",
    "# calculate noise stats by layer\n",
    "for l_i in range(len(layers)):\n",
    "    # VIVO\n",
    "    vivo_noise.append(np.array(vivo_noise_by_trace)[vivo_layers == layers[l_i]])\n",
    "\n",
    "    # SILICO\n",
    "    sites = get_layer_sites(silico_layers, layer=layers[l_i])\n",
    "    sili_noise.append(np.array(silico_noise_by_trace)[sites])\n",
    "\n",
    "# build dataset to plot\n",
    "# - vivo data\n",
    "vivo_data = pd.DataFrame(data=np.array(vivo_noise_by_trace), columns=[\"noise\"])\n",
    "vivo_data[\"layer\"] = vivo_layers\n",
    "vivo_data[\"experiment\"] = \"vivo\"\n",
    "\n",
    "# - silico data\n",
    "sili_data = pd.DataFrame(data=np.array(silico_noise_by_trace), columns=[\"noise\"])\n",
    "\n",
    "# - group l2 and l3\n",
    "new_silico_layers = copy.copy(silico_layers)\n",
    "new_silico_layers[new_silico_layers == \"L2\"] = \"L2_3\"\n",
    "new_silico_layers[new_silico_layers == \"L3\"] = \"L2_3\"\n",
    "sili_data[\"layer\"] = new_silico_layers\n",
    "sili_data[\"experiment\"] = \"silico\"\n",
    "\n",
    "plot_data = pd.concat([vivo_data, sili_data], ignore_index=True)\n",
    "\n",
    "# drop sites outside layers\n",
    "mask = np.isin(plot_data[\"layer\"], layers)\n",
    "plot_data = plot_data[mask]\n",
    "plot_data = plot_data.sort_values(by=[\"layer\"])\n",
    "\n",
    "\n",
    "# PLOT ----------\n",
    "\n",
    "fig, ax = plt.subplots(1, 1, figsize=FIG_SIZE)\n",
    "\n",
    "ax = sns.boxplot(\n",
    "    ax=ax,\n",
    "    data=plot_data,\n",
    "    x=\"layer\",\n",
    "    y=\"noise\",\n",
    "    hue=\"experiment\",\n",
    "    fill=False,\n",
    "    hue_order=[\"vivo\", \"silico\"],\n",
    "    palette=[COLOR_VIVO, COLOR_SILI],\n",
    "    gap=0.1,\n",
    "    linewidth=1.5,\n",
    ")\n",
    "ax.spines[[\"top\", \"right\"]].set_visible(False)\n",
    "# ax.legend(frameon=LG_FRAMEON)\n",
    "ax.legend(\"\", frameon=False)\n",
    "ax.set_ylabel(\"Noise (\\u03bcV)\")\n",
    "ax.set_xlabel(\"Layer\")\n",
    "ax.set_box_aspect(BOX_ASPECT)  # square axis\n",
    "ax.set_xticklabels(\n",
    "    [\n",
    "        \"L1\",\n",
    "        \"L2/3\",\n",
    "        \"L4\",\n",
    "        \"L5\",\n",
    "        \"L6\",\n",
    "    ]\n",
    ")\n",
    "\n",
    "# # save figures\n",
    "# plt.savefig(\n",
    "#     \"figures/2_realism/2_noise/pdf/layerwise_noise_stats_marques.pdf\",\n",
    "#     bbox_inches=\"tight\",\n",
    "# )\n",
    "# plt.savefig(\n",
    "#     \"figures/2_realism/2_noise/svg/layerwise_noise_stats_marques.svg\",\n",
    "#     bbox_inches=\"tight\",\n",
    "# )"
   ]
  }
 ],
 "metadata": {
  "kernelspec": {
   "display_name": "env_kilosort_silico",
   "language": "python",
   "name": "python3"
  },
  "language_info": {
   "codemirror_mode": {
    "name": "ipython",
    "version": 3
   },
   "file_extension": ".py",
   "mimetype": "text/x-python",
   "name": "python",
   "nbconvert_exporter": "python",
   "pygments_lexer": "ipython3",
   "version": "3.9.7"
  },
  "orig_nbformat": 4
 },
 "nbformat": 4,
 "nbformat_minor": 2
}
