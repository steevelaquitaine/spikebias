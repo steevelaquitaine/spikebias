{
 "cells": [
  {
   "cell_type": "markdown",
   "metadata": {},
   "source": [
    "# Noise (Depth 2)\n",
    "\n",
    "author: steeve.laquitaine@epfl.ch"
   ]
  },
  {
   "cell_type": "markdown",
   "metadata": {},
   "source": [
    "* The layers at depth 1 and 2 are the same in the model and in vivo.\n",
    "* At depth 2, the model does not record from layer 6, while the in vivo setup does.\n",
    "* Layers at Depth 2 from the model generally produce higher noise than in vivo. \n",
    "\n",
    "## Setup \n",
    "\n",
    "\n",
    "1. compute noise data: src/pipes/validation/noise/mpi_dense_full.py\n",
    "\n",
    "2. activate spikeinter.."
   ]
  },
  {
   "cell_type": "code",
   "execution_count": 4,
   "metadata": {},
   "outputs": [
    {
     "name": "stdout",
     "output_type": "stream",
     "text": [
      "2024-07-28 20:12:02,694 - root - utils.py - get_config - INFO - Reading experiment config.\n",
      "2024-07-28 20:12:02,713 - root - utils.py - get_config - INFO - Reading experiment config. - done\n",
      "2024-07-28 20:12:02,714 - root - utils.py - get_config - INFO - Reading experiment config.\n",
      "2024-07-28 20:12:02,726 - root - utils.py - get_config - INFO - Reading experiment config. - done\n",
      "2024-07-28 20:12:02,727 - root - utils.py - get_config - INFO - Reading experiment config.\n",
      "2024-07-28 20:12:02,738 - root - utils.py - get_config - INFO - Reading experiment config. - done\n",
      "2024-07-28 20:12:02,739 - root - utils.py - get_config - INFO - Reading experiment config.\n",
      "2024-07-28 20:12:02,763 - root - utils.py - get_config - INFO - Reading experiment config. - done\n",
      "2024-07-28 20:12:02,764 - root - utils.py - get_config - INFO - Reading experiment config.\n",
      "2024-07-28 20:12:02,783 - root - utils.py - get_config - INFO - Reading experiment config. - done\n",
      "2024-07-28 20:12:02,784 - root - utils.py - get_config - INFO - Reading experiment config.\n",
      "2024-07-28 20:12:02,801 - root - utils.py - get_config - INFO - Reading experiment config. - done\n"
     ]
    }
   ],
   "source": [
    "# import libs\n",
    "%load_ext autoreload\n",
    "%autoreload 2\n",
    "\n",
    "import warnings\n",
    "warnings.simplefilter(action='ignore', category=FutureWarning)\n",
    "warnings.filterwarnings(\"ignore\")\n",
    "\n",
    "import os\n",
    "import pandas as pd\n",
    "import numpy as np\n",
    "from matplotlib import pyplot as plt\n",
    "import multiprocessing\n",
    "import torch\n",
    "import spikeinterface as si\n",
    "import seaborn as sns\n",
    "\n",
    "# move to PROJECT PATH\n",
    "PROJ_PATH = \"/gpfs/bbp.cscs.ch/project/proj85/home/laquitai/spikebias/\"\n",
    "os.chdir(PROJ_PATH)\n",
    "\n",
    "from src.nodes.utils import get_config\n",
    "from src.nodes.validation import noise\n",
    "\n",
    "# SETUP PARAMETERS\n",
    "RND_SEED = 0                # random seed\n",
    "SF_V = 20000          # sampling frequency\n",
    "SF_S = 20000        # sampling frequency\n",
    "WIND_END = 3700             # last segment to calculate mad\n",
    "\n",
    "# vivo ----------\n",
    "# probe 1 \n",
    "data_conf_hv_p1, _ = get_config(\"vivo_horvath\", \"probe_1\").values() \n",
    "RAW_PATH_hv_p1 = data_conf_hv_p1[\"raw\"]\n",
    "PREP_PATH_hv_p1 = data_conf_hv_p1[\"preprocessing\"][\"output\"][\"trace_file_path\"]\n",
    "NOISE_PATH_hv_p1 = data_conf_hv_p1[\"analyses\"][\"traces\"][\"noise\"]\n",
    "\n",
    "# probe 2\n",
    "data_conf_hv_p2, _ = get_config(\"vivo_horvath\", \"probe_2\").values() \n",
    "RAW_PATH_hv_p2 = data_conf_hv_p2[\"raw\"]\n",
    "PREP_PATH_hv_p2 = data_conf_hv_p2[\"preprocessing\"][\"output\"][\"trace_file_path\"]\n",
    "NOISE_PATH_hv_p2 = data_conf_hv_p2[\"analyses\"][\"traces\"][\"noise\"]\n",
    "\n",
    "# probe 3\n",
    "data_conf_hv_p3, _ = get_config(\"vivo_horvath\", \"probe_3\").values() \n",
    "RAW_PATH_hv_p3 = data_conf_hv_p3[\"raw\"]\n",
    "PREP_PATH_hv_p3 = data_conf_hv_p3[\"preprocessing\"][\"output\"][\"trace_file_path\"]\n",
    "NOISE_PATH_hv_p3 = data_conf_hv_p3[\"analyses\"][\"traces\"][\"noise\"]\n",
    "\n",
    "# silico ----------\n",
    "# probe 1\n",
    "data_conf_hs_p1, param_conf_hs_p1 = get_config(\"silico_horvath\", \"concatenated/probe_1\").values()\n",
    "RAW_PATH_hs_p1 = data_conf_hs_p1[\"dataeng\"][\"campaign\"][\"output\"][\"trace_file_path\"]\n",
    "PREP_PATH_hs_p1 = data_conf_hs_p1[\"preprocessing\"][\"output\"][\"trace_file_path\"]\n",
    "NOISE_PATH_hs_p1 = data_conf_hs_p1[\"analyses\"][\"traces\"][\"noise\"]\n",
    "\n",
    "# probe 2\n",
    "data_conf_hs_p2, param_conf_hs_p2 = get_config(\"silico_horvath\", \"concatenated/probe_2\").values()\n",
    "RAW_PATH_hs_p2 = data_conf_hs_p2[\"dataeng\"][\"campaign\"][\"output\"][\"trace_file_path\"]\n",
    "PREP_PATH_hs_p2 = data_conf_hs_p2[\"preprocessing\"][\"output\"][\"trace_file_path\"]\n",
    "NOISE_PATH_hs_p2 = data_conf_hs_p2[\"analyses\"][\"traces\"][\"noise\"]\n",
    "\n",
    "# probe 3\n",
    "data_conf_hs_p3, param_conf_hs_p3 = get_config(\"silico_horvath\", \"concatenated/probe_3\").values()\n",
    "RAW_PATH_hs_p3 = data_conf_hs_p3[\"dataeng\"][\"campaign\"][\"output\"][\"trace_file_path\"]\n",
    "PREP_PATH_hs_p3 = data_conf_hs_p3[\"preprocessing\"][\"output\"][\"trace_file_path\"]\n",
    "NOISE_PATH_hs_p3 = data_conf_hs_p3[\"analyses\"][\"traces\"][\"noise\"]\n",
    "\n",
    "# FIGURE SETTINGS\n",
    "FIG_SIZE = (1.8, 1.4)\n",
    "COLOR_HV = [0.3, 0.3, 0.3]\n",
    "COLOR_HS = np.array([26, 152, 80]) / 255 # green\n",
    "\n",
    "cl = dict()\n",
    "cl[\"COLOR_HV\"] = \"k\" # black\n",
    "cl[\"COLOR_HS\"] = np.array([26, 152, 80]) / 255 # green\n",
    "\n",
    "# axes\n",
    "plt.rcParams[\"font.family\"] = \"Arial\"\n",
    "plt.rcParams[\"font.size\"] = 6  # 5-7 with Nature neuroscience as reference\n",
    "plt.rcParams[\"lines.linewidth\"] = 0.5\n",
    "plt.rcParams[\"axes.linewidth\"] = 0.5 #1\n",
    "plt.rcParams[\"axes.spines.top\"] = False\n",
    "plt.rcParams[\"xtick.major.width\"] = 0.5 #0.8 #* 1.3\n",
    "plt.rcParams[\"xtick.minor.width\"] = 0.5 #0.8 #* 1.3\n",
    "plt.rcParams[\"ytick.major.width\"] = 0.5 #0.8 #* 1.3\n",
    "plt.rcParams[\"ytick.minor.width\"] = 0.5 #0.8 #* 1.3\n",
    "plt.rcParams[\"xtick.major.size\"] = 3.5 * 1.1\n",
    "plt.rcParams[\"xtick.minor.size\"] = 2 * 1.1\n",
    "plt.rcParams[\"ytick.major.size\"] = 3.5 * 1.1\n",
    "plt.rcParams[\"ytick.minor.size\"] = 2 * 1.1\n",
    "# legend\n",
    "savefig_cfg = {\"transparent\":True, \"dpi\":300}\n",
    "legend_cfg = {\"frameon\": False, \"handletextpad\": 0.1}\n",
    "tight_layout_cfg = {\"pad\": 0.5}\n",
    "LG_FRAMEON = False              # no legend frame"
   ]
  },
  {
   "cell_type": "markdown",
   "metadata": {},
   "source": [
    "### Specs"
   ]
  },
  {
   "cell_type": "code",
   "execution_count": 2,
   "metadata": {},
   "outputs": [
    {
     "name": "stdout",
     "output_type": "stream",
     "text": [
      "available cpus: 80\n",
      "available gpus: False\n"
     ]
    }
   ],
   "source": [
    "print(\"available cpus:\", multiprocessing.cpu_count())\n",
    "print(\"available gpus:\", torch.cuda.is_available())"
   ]
  },
  {
   "cell_type": "markdown",
   "metadata": {},
   "source": [
    "### (8m)Load noise data\n",
    "\n",
    "* for 10 minutes of recording (45 mins)\n",
    "* pytorch implementation (8min) of mean absolute deviation is 7 times faster than pandas (45m)."
   ]
  },
  {
   "cell_type": "code",
   "execution_count": 38,
   "metadata": {},
   "outputs": [],
   "source": [
    "# load\n",
    "plot_data_v2 = pd.read_csv(NOISE_PATH_hv_p2)\n",
    "plot_data_s2 = pd.read_csv(NOISE_PATH_hs_p2)\n",
    "# plot_data_s2 = sili_data\n",
    "\n",
    "# select relevant data\n",
    "plot_data_v1 = plot_data_v2[[\"noise\", \"layer\", \"experiment\"]]\n",
    "plot_data_s2 = plot_data_s2[[\"noise\", \"layer\", \"experiment\"]]\n",
    "\n",
    "# unit-test\n",
    "assert plot_data_v2[\"layer\"].unique().tolist() == [\n",
    "    \"L2_3\",\n",
    "    \"L4\",\n",
    "    \"L5\",\n",
    "    \"L6\",\n",
    "], \"wrong layers\"\n",
    "assert plot_data_s2[\"layer\"].unique().tolist() == [\"L2_3\", \"L4\", \"L5\"], \"wrong layers\"\n",
    "\n",
    "# stack\n",
    "plot_data = pd.concat(\n",
    "    [\n",
    "        plot_data_v2,\n",
    "        plot_data_s2,\n",
    "    ],\n",
    "    ignore_index=True,\n",
    ")\n",
    "\n",
    "# standardize names\n",
    "plot_data[\"experiment\"][plot_data[\"experiment\"] == \"vivo\"] = \"Dense probe (Horvath)\"\n",
    "plot_data[\"experiment\"][\n",
    "    plot_data[\"experiment\"] == \"silico\"\n",
    "] = \"Dense probe (biophy. spont.)\"\n",
    "\n",
    "# standardize layer 2/3\n",
    "plot_data[\"layer\"][plot_data[\"layer\"] == \"L2\"] = \"L2/3\"\n",
    "plot_data[\"layer\"][plot_data[\"layer\"] == \"L3\"] = \"L2/3\"\n",
    "plot_data[\"layer\"][plot_data[\"layer\"] == \"L2_3\"] = \"L2/3\""
   ]
  },
  {
   "cell_type": "code",
   "execution_count": 39,
   "metadata": {},
   "outputs": [],
   "source": [
    "def print_layer_set(exp, cfg):\n",
    "    print(\n",
    "        exp,\n",
    "        np.unique(\n",
    "            si.load_extractor(cfg[\"probe_wiring\"][\"output\"]).get_property(\"layers\")\n",
    "        ),\n",
    "    )"
   ]
  },
  {
   "cell_type": "markdown",
   "metadata": {},
   "source": [
    "* All depth layers match except layer 6 that is captured at depth 2 in vivo."
   ]
  },
  {
   "cell_type": "code",
   "execution_count": 40,
   "metadata": {},
   "outputs": [
    {
     "name": "stdout",
     "output_type": "stream",
     "text": [
      "hv1: ['L1' 'L2_3' 'Outside']\n",
      "hs1: ['L1' 'L2_3' 'Outside']\n",
      "hv2: ['L2_3' 'L4' 'L5' 'L6']\n",
      "hs2: ['L2' 'L4' 'L5']\n",
      "hv3: ['L6' 'Outside']\n",
      "hs3: ['L6' 'Outside']\n"
     ]
    }
   ],
   "source": [
    "print_layer_set(\"hv1:\", data_conf_hv_p1)\n",
    "print_layer_set(\"hs1:\", data_conf_hs_p1)\n",
    "\n",
    "print_layer_set(\"hv2:\", data_conf_hv_p2)\n",
    "print_layer_set(\"hs2:\", data_conf_hs_p2)\n",
    "\n",
    "print_layer_set(\"hv3:\", data_conf_hv_p3)\n",
    "print_layer_set(\"hs3:\", data_conf_hs_p3)"
   ]
  },
  {
   "cell_type": "markdown",
   "metadata": {},
   "source": [
    "### Plot"
   ]
  },
  {
   "cell_type": "code",
   "execution_count": 41,
   "metadata": {},
   "outputs": [
    {
     "data": {
      "image/png": "[encoded data removed]",
      "text/plain": [
       "<Figure size 180x100 with 1 Axes>"
      ]
     },
     "metadata": {},
     "output_type": "display_data"
    }
   ],
   "source": [
    "FIG_SIZE = (1.8, 1)\n",
    "\n",
    "fig, ax = plt.subplots(1, 1, figsize=FIG_SIZE)\n",
    "\n",
    "ax = sns.boxplot(\n",
    "    ax=ax,\n",
    "    data=plot_data,\n",
    "    x=\"layer\",\n",
    "    y=\"noise\",\n",
    "    hue=\"experiment\",\n",
    "    notch=True,\n",
    "    hue_order=[\"Dense probe (Horvath)\", \"Dense probe (biophy. spont.)\"],\n",
    "    palette=[cl[\"COLOR_HV\"], cl[\"COLOR_HS\"]],\n",
    "    width=0.5,\n",
    "    linewidth=0.5,\n",
    "    flierprops={\n",
    "        \"marker\": \".\",\n",
    "        \"markersize\": 3,\n",
    "    },\n",
    ")\n",
    "# axes\n",
    "ax.spines[[\"top\", \"right\"]].set_visible(False)\n",
    "ax.legend(\"\", frameon=False)\n",
    "\n",
    "# disconnect axes (R style)\n",
    "ax.spines[\"bottom\"].set_position((\"axes\", -0.05))\n",
    "ax.yaxis.set_ticks_position(\"left\")\n",
    "ax.spines[\"left\"].set_position((\"axes\", -0.05))\n",
    "\n",
    "# labels\n",
    "ax.set_ylabel(\"Noise (\\u03bcV)\")\n",
    "ax.set_xlabel(\"Layer\")\n",
    "\n",
    "# customize the boxplot\n",
    "p = 0\n",
    "for box in ax.patches:\n",
    "    if box.__class__.__name__ == \"PathPatch\":\n",
    "        # a list item for each layer group\n",
    "        if p in [0, 1, 2, 3, 4]:\n",
    "            box.set_edgecolor(cl[\"COLOR_HV\"])\n",
    "            # Each box has 6 associated Line2D objects\n",
    "            # (to make the whiskers, fliers, etc.)\n",
    "            # Loop over them here, and use the same colour\n",
    "            # as above\n",
    "            # group 1 (HV)\n",
    "            for k in range(6 * p, 6 * (p + 1)):\n",
    "                ax.lines[k].set_color(cl[\"COLOR_HV\"])  # box\n",
    "                ax.lines[k].set_mfc(cl[\"COLOR_HV\"])  # whisker\n",
    "                ax.lines[k].set_mec(cl[\"COLOR_HV\"])  # fliers\n",
    "            p += 1\n",
    "        elif p in [5, 6, 7, 8, 9]:\n",
    "            # group 2 (HS)\n",
    "            box.set_edgecolor(cl[\"COLOR_HS\"])\n",
    "            for k in range(6 * p, 6 * (p + 1)):\n",
    "                ax.lines[k].set_color(cl[\"COLOR_HS\"])\n",
    "                ax.lines[k].set_mfc(cl[\"COLOR_HS\"])\n",
    "                ax.lines[k].set_mec(cl[\"COLOR_HS\"])\n",
    "            p += 1"
   ]
  }
 ],
 "metadata": {
  "kernelspec": {
   "display_name": "spikinterf0_100_5",
   "language": "python",
   "name": "python3"
  },
  "language_info": {
   "codemirror_mode": {
    "name": "ipython",
    "version": 3
   },
   "file_extension": ".py",
   "mimetype": "text/x-python",
   "name": "python",
   "nbconvert_exporter": "python",
   "pygments_lexer": "ipython3",
   "version": "3.9.7"
  }
 },
 "nbformat": 4,
 "nbformat_minor": 2
}
