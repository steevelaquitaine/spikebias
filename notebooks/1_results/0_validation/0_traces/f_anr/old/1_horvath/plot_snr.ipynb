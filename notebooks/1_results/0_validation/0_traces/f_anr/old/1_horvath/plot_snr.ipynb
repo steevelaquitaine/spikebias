{
 "cells": [
  {
   "attachments": {},
   "cell_type": "markdown",
   "metadata": {},
   "source": [
    "# (15m) SNR\n",
    "\n",
    "author: steeve.laquitaine@epfl.ch"
   ]
  },
  {
   "attachments": {},
   "cell_type": "markdown",
   "metadata": {},
   "source": [
    "\n",
    "**Method**\n",
    "* Datasets  \n",
    "\n",
    "* SNR for first 10 mins (for speed)"
   ]
  },
  {
   "cell_type": "markdown",
   "metadata": {},
   "source": [
    "### Prerequisites\n",
    "\n",
    "These pipelines must have been run before:\n",
    "\n",
    "1. fit silico amplitude and noise to in vivo per layer  \n",
    "2. Process silico traces (add metadata to RecordingExtractors)"
   ]
  },
  {
   "attachments": {},
   "cell_type": "markdown",
   "metadata": {},
   "source": [
    "### Setup libs\n",
    "\n",
    "Activate python3.9.7's spikeinterface 0.100.5 venv"
   ]
  },
  {
   "cell_type": "code",
   "execution_count": 1,
   "metadata": {},
   "outputs": [
    {
     "name": "stdout",
     "output_type": "stream",
     "text": [
      "2024-06-10 09:43:38,018 - root - utils.py - get_config - INFO - Reading experiment config.\n",
      "2024-06-10 09:43:38,070 - root - utils.py - get_config - INFO - Reading experiment config. - done\n",
      "2024-06-10 09:43:38,071 - root - utils.py - get_config - INFO - Reading experiment config.\n",
      "2024-06-10 09:43:38,102 - root - utils.py - get_config - INFO - Reading experiment config. - done\n",
      "2024-06-10 09:43:38,103 - root - utils.py - get_config - INFO - Reading experiment config.\n",
      "2024-06-10 09:43:38,140 - root - utils.py - get_config - INFO - Reading experiment config. - done\n"
     ]
    }
   ],
   "source": [
    "# import libs\n",
    "%load_ext autoreload\n",
    "%autoreload 2\n",
    "\n",
    "import warnings\n",
    "warnings.simplefilter(action='ignore', category=FutureWarning)\n",
    "\n",
    "import os\n",
    "import numpy as np\n",
    "import matplotlib\n",
    "from matplotlib import pyplot as plt\n",
    "import spikeinterface as si\n",
    "\n",
    "# move to PROJECT PATH\n",
    "PROJ_PATH = \"/gpfs/bbp.cscs.ch/project/proj85/home/laquitai/spikebias/\"\n",
    "os.chdir(PROJ_PATH)\n",
    "\n",
    "from src.nodes import utils\n",
    "from src.nodes.utils import get_config\n",
    "from src.nodes.validation import amplitude, snr\n",
    "\n",
    "# vivo\n",
    "data_conf_v, param_conf_h_v = get_config(\"vivo_horvath\", \"probe_2\").values() \n",
    "RAW_PATH_v = data_conf_v[\"raw\"]\n",
    "PREP_PATH_v = data_conf_v[\"preprocessing\"][\"output\"][\"trace_file_path\"]\n",
    "SNR_PATH_v = data_conf_v[\"postprocessing\"][\"trace_snr\"]\n",
    "\n",
    "# silico\n",
    "data_conf_s, param_conf_s = get_config(\"silico_horvath\", \"concatenated/probe_2\").values()\n",
    "RAW_PATH_s = data_conf_s[\"recording\"][\"input\"]\n",
    "PREP_PATH_s = data_conf_s[\"preprocessing\"][\"output\"][\"trace_file_path\"]\n",
    "SNR_PATH_s = data_conf_s[\"postprocessing\"][\"trace_snr\"]\n",
    "\n",
    "# buccino\n",
    "data_conf_b, param_conf_b = get_config(\"buccino_2020\", \"2020\").values()\n",
    "RAW_PATH_b = data_conf_b[\"probe_wiring\"][\"10m\"][\"output_gain_fitd_int16\"]\n",
    "PREP_PATH_b = data_conf_b[\"preprocessing\"][\"output\"][\"trace_file_path_gain_ftd\"]\n",
    "SNR_PATH_b = data_conf_b[\"postprocessing\"][\"trace_snr\"]\n",
    "\n",
    "# parameters\n",
    "SFREQ_V = 20000\n",
    "SFREQ_S = 20000\n",
    "SFREQ_B = 32000\n",
    "\n",
    "# FIGURE SETTINGS\n",
    "COLOR_V = np.array([153,153,153]) / 255\n",
    "COLOR_S = (0.84, 0.27, 0.2)\n",
    "COLOR_B = np.array([55,126,184]) / 255\n",
    "\n",
    "BOX_ASPECT = 1                  # square fig\n",
    "LG_FRAMEON = False              # no legend frame\n",
    "FIG_SIZE = (3, 3)\n",
    "plt.rcParams[\"font.family\"] = \"Arial\"\n",
    "plt.rcParams[\"font.size\"] = 30\n",
    "plt.rcParams['lines.linewidth'] = 1.1\n",
    "plt.rcParams['axes.linewidth'] = 1\n",
    "plt.rcParams['axes.spines.top'] = False\n",
    "plt.rcParams['axes.spines.right'] = False\n",
    "plt.rcParams['xtick.major.width'] = 0.8 * 1.3\n",
    "plt.rcParams['ytick.major.width'] = 0.8 * 1.3\n",
    "plt.rcParams['xtick.major.size'] = 3.5 * 2\n",
    "plt.rcParams['xtick.minor.size'] = 2 * 2\n",
    "plt.rcParams['ytick.major.size'] = 3.5 * 2\n",
    "plt.rcParams['ytick.minor.size'] = 2 * 2\n",
    "\n",
    "N_MAJOR_TICKS = 4\n",
    "N_MINOR_TICKS = 12\n",
    "YLIM = [1e-7, 1e8]\n",
    "savefig_cfg = {\"transparent\":True}\n",
    "legend_cfg = {\"frameon\": False, \"handletextpad\": 0.1}\n",
    "tight_layout_cfg = {\"pad\": 0.5}"
   ]
  },
  {
   "cell_type": "markdown",
   "metadata": {},
   "source": [
    "### Utils\n"
   ]
  },
  {
   "cell_type": "markdown",
   "metadata": {},
   "source": [
    "### (1s)Compute SNR p-dist for sites in cortex (first 10 min)\n",
    "\n",
    "* we plot: \n",
    "    * on logscale to increase the visibility of the SNR dist. which decays exponentially.\n",
    "    * only the upper confidence interval (because the lower ci is uninformative; it goes to infinity when negative on a logscale)"
   ]
  },
  {
   "cell_type": "code",
   "execution_count": 38,
   "metadata": {},
   "outputs": [
    {
     "name": "stderr",
     "output_type": "stream",
     "text": [
      "/gpfs/bbp.cscs.ch/project/proj85/scratch/laquitai/preprint_2024/envs/spikinterf0_100_5/lib/python3.9/site-packages/spikeinterface/core/base.py:1079: UserWarning: Versions are not the same. This might lead to compatibility errors. Using spikeinterface==0.96.1 is recommended\n",
      "  warnings.warn(\n",
      "/gpfs/bbp.cscs.ch/project/proj85/scratch/laquitai/preprint_2024/envs/spikinterf0_100_5/lib/python3.9/site-packages/spikeinterface/core/binaryrecordingextractor.py:78: UserWarning: `num_chan` is to be deprecated in version 0.100, please use `num_channels` instead\n",
      "  warnings.warn(\"`num_chan` is to be deprecated in version 0.100, please use `num_channels` instead\")\n"
     ]
    }
   ],
   "source": [
    "# 1 - Load silico and vivo traces\n",
    "RecS = si.load_extractor(PREP_PATH_s)\n",
    "RecV = si.load_extractor(PREP_PATH_v)\n",
    "RecB = si.load_extractor(PREP_PATH_b)\n",
    "\n",
    "# 2. get first 10 mins\n",
    "RecV = RecV.frame_slice(start_frame=0, end_frame=10 * 60 * SFREQ_V)\n",
    "RecS = RecS.frame_slice(start_frame=0, end_frame=10 * 60 * SFREQ_S)\n",
    "\n",
    "# 3. get traces\n",
    "traces_s = RecS.get_traces()\n",
    "traces_v = RecV.get_traces()\n",
    "traces_b = RecB.get_traces()\n",
    "\n",
    "# 4 - get good sites (in cortex)\n",
    "# silico\n",
    "lyrs = [\"L1\", \"L2_3\", \"L4\", \"L5\", \"L6\"]\n",
    "site_lyrs_s = RecS.get_property(\"layers\")\n",
    "site_lyrs_s = [\"L2_3\" if x == \"L2\" or x == \"L3\" else x for x in site_lyrs_s]\n",
    "IN_CTX = np.isin(site_lyrs_s, lyrs)\n",
    "sites_s = np.where(IN_CTX)[0]\n",
    "\n",
    "# vivo\n",
    "site_lyrs_v = RecV.get_property(\"layers\")\n",
    "IN_CTX = np.isin(site_lyrs_v, lyrs)\n",
    "sites_v = np.where(IN_CTX)[0]"
   ]
  },
  {
   "cell_type": "markdown",
   "metadata": {},
   "source": [
    "### (10m)Compute snrs"
   ]
  },
  {
   "cell_type": "code",
   "execution_count": 4,
   "metadata": {},
   "outputs": [],
   "source": [
    "## (9m)compute snrs and save\n",
    "# snr_s = snr.get_snrs_parallel(traces_s[:, sites_s])\n",
    "# snr_v = snr.get_snrs_parallel(traces_v[:, sites_v])\n",
    "# snr_b = snr.get_snrs_parallel(traces_b)\n",
    "# utils.write_npy(snr_v, SNR_PATH_v)\n",
    "# utils.write_npy(snr_s, SNR_PATH_s)\n",
    "# utils.write_npy(snr_b, SNR_PATH_b)\n",
    "\n",
    "# or load\n",
    "snr_v = np.load(SNR_PATH_v)\n",
    "snr_s = np.load(SNR_PATH_s)\n",
    "snr_b = np.load(SNR_PATH_b)"
   ]
  },
  {
   "cell_type": "code",
   "execution_count": 43,
   "metadata": {},
   "outputs": [
    {
     "data": {
      "text/plain": [
       "(12000000, 128)"
      ]
     },
     "execution_count": 43,
     "metadata": {},
     "output_type": "execute_result"
    }
   ],
   "source": [
    "traces_s = traces_s[:, sites_s]"
   ]
  },
  {
   "cell_type": "code",
   "execution_count": 45,
   "metadata": {},
   "outputs": [
    {
     "data": {
      "text/plain": [
       "128"
      ]
     },
     "execution_count": 45,
     "metadata": {},
     "output_type": "execute_result"
    }
   ],
   "source": [
    "len(site_lyrs_s)"
   ]
  },
  {
   "cell_type": "code",
   "execution_count": 39,
   "metadata": {},
   "outputs": [
    {
     "ename": "TypeError",
     "evalue": "only integer scalar arrays can be converted to a scalar index",
     "output_type": "error",
     "traceback": [
      "\u001b[0;31m---------------------------------------------------------------------------\u001b[0m",
      "\u001b[0;31mTypeError\u001b[0m                                 Traceback (most recent call last)",
      "Cell \u001b[0;32mIn[39], line 4\u001b[0m\n\u001b[1;32m      2\u001b[0m traces_s \u001b[38;5;241m=\u001b[39m traces_s[:, sites_s]\n\u001b[1;32m      3\u001b[0m traces_v \u001b[38;5;241m=\u001b[39m traces_v[:, sites_v]\n\u001b[0;32m----> 4\u001b[0m layers_s \u001b[38;5;241m=\u001b[39m \u001b[43msite_lyrs_s\u001b[49m\u001b[43m[\u001b[49m\u001b[43msites_s\u001b[49m\u001b[43m]\u001b[49m\n\u001b[1;32m      5\u001b[0m layers_v \u001b[38;5;241m=\u001b[39m site_lyrs_v[sites_v]\n\u001b[1;32m      6\u001b[0m site_lyrs_s \u001b[38;5;241m=\u001b[39m site_lyrs_s[sites_s]\n",
      "\u001b[0;31mTypeError\u001b[0m: only integer scalar arrays can be converted to a scalar index"
     ]
    }
   ],
   "source": [
    "# (2m) Keep traces in cortex\n",
    "traces_s = traces_s[:, sites_s]\n",
    "traces_v = traces_v[:, sites_v]\n",
    "layers_s = site_lyrs_s[sites_s]\n",
    "layers_v = site_lyrs_v[sites_v]\n",
    "site_lyrs_s = site_lyrs_s[sites_s]\n",
    "site_lyrs_v = site_lyrs_v[sites_v]"
   ]
  },
  {
   "cell_type": "markdown",
   "metadata": {},
   "source": [
    "### (2m)Compute pdfs"
   ]
  },
  {
   "cell_type": "code",
   "execution_count": 6,
   "metadata": {},
   "outputs": [
    {
     "name": "stdout",
     "output_type": "stream",
     "text": [
      "max silico: 7092.667\n",
      "max silico: 3744\n"
     ]
    }
   ],
   "source": [
    "# set number of bines\n",
    "N_BINS = 100\n",
    "\n",
    "# 1. calculate bins common across datasets (2 mins)\n",
    "snr_max = np.max([np.array(snr_v).max(), np.array(snr_s).max(), np.array(snr_b).max()])\n",
    "snr_min = np.min([np.array(snr_v).min(), np.array(snr_s).min(), np.array(snr_b).min()])\n",
    "step = (snr_max - snr_min) / N_BINS\n",
    "bins = np.arange(snr_min, snr_max + step / 2, step)\n",
    "\n",
    "# 2. compute the mean and confidence intervals of the snrs pdfs over sites (1 min)\n",
    "# vivo\n",
    "mean_v, ci_v = amplitude.compute_anr_proba_dist_stats(snr_v, bins)\n",
    "# silico\n",
    "(\n",
    "    mean_s,\n",
    "    ci_s,\n",
    ") = amplitude.compute_anr_proba_dist_stats(snr_s, bins)\n",
    "# buccino\n",
    "(\n",
    "    mean_b,\n",
    "    ci_b,\n",
    ") = amplitude.compute_anr_proba_dist_stats(snr_b, bins)\n",
    "\n",
    "# unit-test probabilities\n",
    "assert 1 - sum(mean_v) < 1e-15, \"should sum to 1\"\n",
    "assert 1 - sum(mean_s) < 1e-15, \"should sum to 1\"\n",
    "assert 1 - sum(mean_b) < 1e-15, \"should sum to 1\"\n",
    "\n",
    "# unit-test amplitudes (should be very close)\n",
    "print(\"max silico:\", np.absolute(traces_s).max())\n",
    "print(\"max silico:\", np.absolute(traces_v).max())"
   ]
  },
  {
   "cell_type": "markdown",
   "metadata": {},
   "source": [
    "### Plot All"
   ]
  },
  {
   "cell_type": "markdown",
   "metadata": {},
   "source": [
    "* The dots below the x-axis line goes to -inf on a log scale because they are never observed (probability = 0)\n"
   ]
  },
  {
   "cell_type": "code",
   "execution_count": 7,
   "metadata": {},
   "outputs": [],
   "source": [
    "# parameters\n",
    "xlim = (-270, 90)\n",
    "MARKERS = 10\n",
    "MARKEREDGEW = 0.7"
   ]
  },
  {
   "cell_type": "code",
   "execution_count": 8,
   "metadata": {},
   "outputs": [
    {
     "data": {
      "image/png": "[encoded data removed]",
      "text/plain": [
       "<Figure size 300x300 with 1 Axes>"
      ]
     },
     "metadata": {},
     "output_type": "display_data"
    }
   ],
   "source": [
    "# plot\n",
    "fig_, axis = plt.subplots(1, 1, figsize=FIG_SIZE)\n",
    "\n",
    "pm = {\n",
    "    \"linestyle\": \"-\",\n",
    "    \"markersz\": MARKERS,\n",
    "    \"markeredgew\": MARKEREDGEW,\n",
    "}\n",
    "\n",
    "# vivo\n",
    "amplitude.plot_proba_dist_stats(\n",
    "    axis,\n",
    "    mean_v[mean_v > 0],\n",
    "    ci_v[mean_v > 0],\n",
    "    bins[:-1][mean_v > 0],\n",
    "    color=COLOR_V,\n",
    "    ci_color=COLOR_V,\n",
    "    label=\"vivo\",\n",
    "    **pm\n",
    ")\n",
    "# silico\n",
    "amplitude.plot_proba_dist_stats(\n",
    "    axis,\n",
    "    mean_s[mean_s > 0],\n",
    "    ci_s[mean_s > 0],\n",
    "    bins[:-1][mean_s > 0],\n",
    "    color=COLOR_S,\n",
    "    ci_color=COLOR_S,\n",
    "    label=\"silico\",\n",
    "    **pm\n",
    ")\n",
    "# legend\n",
    "axis.set_yscale(\"log\")\n",
    "axis.spines[[\"right\", \"top\"]].set_visible(False)\n",
    "axis.tick_params(which=\"both\", width=1)\n",
    "axis.set_box_aspect(1)  # square axis\n",
    "\n",
    "# show minor ticks\n",
    "axis.tick_params(which=\"major\", width=1)\n",
    "# y\n",
    "locmaj = matplotlib.ticker.LogLocator(base=10, numticks=N_MAJOR_TICKS)\n",
    "locmin = matplotlib.ticker.LogLocator(\n",
    "    base=10.0,\n",
    "    subs=(0.1, 0.2, 0.3, 0.4, 0.5, 0.6, 0.7, 0.8, 0.9, 1),\n",
    "    numticks=N_MINOR_TICKS,\n",
    ")\n",
    "axis.yaxis.set_major_locator(locmaj)\n",
    "axis.yaxis.set_minor_locator(locmin)\n",
    "axis.yaxis.set_minor_formatter(matplotlib.ticker.NullFormatter())\n",
    "\n",
    "# disconnect axes (R style)\n",
    "axis.spines[\"bottom\"].set_position((\"axes\", -0.05))\n",
    "axis.yaxis.set_ticks_position(\"left\")\n",
    "axis.spines[\"left\"].set_position((\"axes\", -0.05))\n",
    "axis.set_xticks([xlim[0], 0, xlim[1]], [xlim[0], 0, xlim[1]])\n",
    "axis.set_xlim(xlim)\n",
    "\n",
    "\n",
    "# # save\n",
    "plt.savefig(\"figures/2_realism/3_snr/svg/horvath/snr_all.svg\", **savefig_cfg)"
   ]
  },
  {
   "cell_type": "markdown",
   "metadata": {},
   "source": [
    "#### L1 (none in probe 2)"
   ]
  },
  {
   "cell_type": "markdown",
   "metadata": {},
   "source": [
    "### (30s)L2/3"
   ]
  },
  {
   "cell_type": "code",
   "execution_count": 12,
   "metadata": {},
   "outputs": [
    {
     "data": {
      "text/plain": [
       "array(['L5', 'L5', 'L5', 'L5', 'L5', 'L5', 'L5', 'L5', 'L5', 'L5', 'L5',\n",
       "       'L5', 'L5', 'L5', 'L5', 'L5', 'L5', 'L5', 'L5', 'L5', 'L5', 'L5',\n",
       "       'L4', 'L4', 'L4', 'L4', 'L4', 'L4', 'L4', 'L4', 'L4', 'L5', 'L5',\n",
       "       'L5', 'L5', 'L5', 'L5', 'L5', 'L5', 'L5', 'L5', 'L5', 'L5', 'L5',\n",
       "       'L5', 'L5', 'L5', 'L5', 'L5', 'L5', 'L5', 'L5', 'L5', 'L4', 'L4',\n",
       "       'L4', 'L4', 'L4', 'L4', 'L4', 'L4', 'L5', 'L5', 'L5', 'L5', 'L5',\n",
       "       'L5', 'L5', 'L5', 'L5', 'L5', 'L5', 'L5', 'L5', 'L5', 'L5', 'L5',\n",
       "       'L5', 'L5', 'L5', 'L5', 'L5', 'L5', 'L4', 'L4', 'L4', 'L4', 'L4',\n",
       "       'L4', 'L4', 'L4', 'L5', 'L5', 'L5', 'L5', 'L5', 'L5', 'L5', 'L5',\n",
       "       'L5', 'L5', 'L5', 'L5', 'L5', 'L5', 'L5', 'L5', 'L5', 'L5', 'L5',\n",
       "       'L5', 'L5', 'L5', 'L4', 'L4', 'L4', 'L4', 'L4', 'L4', 'L4'],\n",
       "      dtype='<U2')"
      ]
     },
     "execution_count": 12,
     "metadata": {},
     "output_type": "execute_result"
    }
   ],
   "source": [
    "site_lyrs_s"
   ]
  },
  {
   "cell_type": "code",
   "execution_count": 11,
   "metadata": {},
   "outputs": [
    {
     "ename": "ValueError",
     "evalue": "zero-size array to reduction operation maximum which has no identity",
     "output_type": "error",
     "traceback": [
      "\u001b[0;31m---------------------------------------------------------------------------\u001b[0m",
      "\u001b[0;31mValueError\u001b[0m                                Traceback (most recent call last)",
      "Cell \u001b[0;32mIn[11], line 1\u001b[0m\n\u001b[0;32m----> 1\u001b[0m axis \u001b[38;5;241m=\u001b[39m \u001b[43msnr\u001b[49m\u001b[38;5;241;43m.\u001b[39;49m\u001b[43mplot_layer_snr\u001b[49m\u001b[43m(\u001b[49m\n\u001b[1;32m      2\u001b[0m \u001b[43m    \u001b[49m\u001b[38;5;124;43m\"\u001b[39;49m\u001b[38;5;124;43mL2_3\u001b[39;49m\u001b[38;5;124;43m\"\u001b[39;49m\u001b[43m,\u001b[49m\n\u001b[1;32m      3\u001b[0m \u001b[43m    \u001b[49m\u001b[43msite_lyrs_s\u001b[49m\u001b[43m,\u001b[49m\n\u001b[1;32m      4\u001b[0m \u001b[43m    \u001b[49m\u001b[43msite_lyrs_v\u001b[49m\u001b[43m,\u001b[49m\n\u001b[1;32m      5\u001b[0m \u001b[43m    \u001b[49m\u001b[43msnr_s\u001b[49m\u001b[43m,\u001b[49m\n\u001b[1;32m      6\u001b[0m \u001b[43m    \u001b[49m\u001b[43msnr_v\u001b[49m\u001b[43m,\u001b[49m\n\u001b[1;32m      7\u001b[0m \u001b[43m    \u001b[49m\u001b[38;5;241;43m100\u001b[39;49m\u001b[43m,\u001b[49m\n\u001b[1;32m      8\u001b[0m \u001b[43m    \u001b[49m\u001b[43mxlim\u001b[49m\u001b[38;5;241;43m=\u001b[39;49m\u001b[43mxlim\u001b[49m\u001b[43m,\u001b[49m\n\u001b[1;32m      9\u001b[0m \u001b[43m    \u001b[49m\u001b[43mmarkersz\u001b[49m\u001b[38;5;241;43m=\u001b[39;49m\u001b[43mMARKERS\u001b[49m\u001b[43m,\u001b[49m\n\u001b[1;32m     10\u001b[0m \u001b[43m    \u001b[49m\u001b[43mmarkeredgew\u001b[49m\u001b[38;5;241;43m=\u001b[39;49m\u001b[43mMARKEREDGEW\u001b[49m\u001b[43m,\u001b[49m\n\u001b[1;32m     11\u001b[0m \u001b[43m)\u001b[49m\n\u001b[1;32m     12\u001b[0m plt\u001b[38;5;241m.\u001b[39msavefig(\u001b[38;5;124m\"\u001b[39m\u001b[38;5;124mfigures/2_realism/3_snr/svg/horvath/snr_lyr23.svg\u001b[39m\u001b[38;5;124m\"\u001b[39m, \u001b[38;5;241m*\u001b[39m\u001b[38;5;241m*\u001b[39msavefig_cfg)\n",
      "File \u001b[0;32m/gpfs/bbp.cscs.ch/project/proj85/home/laquitai/spikebias/src/nodes/validation/snr.py:77\u001b[0m, in \u001b[0;36mplot_layer_snr\u001b[0;34m(layer, layers_sili, layers_vivo, snr_sili, snr_vivo, n_bins, xlim, markersz, markeredgew)\u001b[0m\n\u001b[1;32m     73\u001b[0m snr_vivo_layer_i \u001b[38;5;241m=\u001b[39m snr_vivo[layers_vivo \u001b[38;5;241m==\u001b[39m layer, :]\n\u001b[1;32m     75\u001b[0m \u001b[38;5;66;03m# 2 - calculate common bins (2 mins)\u001b[39;00m\n\u001b[1;32m     76\u001b[0m snr_max_layer_i \u001b[38;5;241m=\u001b[39m np\u001b[38;5;241m.\u001b[39mmax(\n\u001b[0;32m---> 77\u001b[0m     [np\u001b[38;5;241m.\u001b[39marray(snr_vivo_layer_i)\u001b[38;5;241m.\u001b[39mmax(), \u001b[43mnp\u001b[49m\u001b[38;5;241;43m.\u001b[39;49m\u001b[43marray\u001b[49m\u001b[43m(\u001b[49m\u001b[43msnr_sili_layer_i\u001b[49m\u001b[43m)\u001b[49m\u001b[38;5;241;43m.\u001b[39;49m\u001b[43mmax\u001b[49m\u001b[43m(\u001b[49m\u001b[43m)\u001b[49m]\n\u001b[1;32m     78\u001b[0m )\n\u001b[1;32m     79\u001b[0m snr_min_layer_i \u001b[38;5;241m=\u001b[39m np\u001b[38;5;241m.\u001b[39mmin(\n\u001b[1;32m     80\u001b[0m     [np\u001b[38;5;241m.\u001b[39marray(snr_vivo_layer_i)\u001b[38;5;241m.\u001b[39mmin(), np\u001b[38;5;241m.\u001b[39marray(snr_sili_layer_i)\u001b[38;5;241m.\u001b[39mmin()]\n\u001b[1;32m     81\u001b[0m )\n\u001b[1;32m     82\u001b[0m step_layer_i \u001b[38;5;241m=\u001b[39m (snr_max_layer_i \u001b[38;5;241m-\u001b[39m snr_min_layer_i) \u001b[38;5;241m/\u001b[39m n_bins\n",
      "File \u001b[0;32m/gpfs/bbp.cscs.ch/project/proj85/scratch/laquitai/preprint_2024/envs/spikinterf0_100_5/lib/python3.9/site-packages/numpy/core/_methods.py:41\u001b[0m, in \u001b[0;36m_amax\u001b[0;34m(a, axis, out, keepdims, initial, where)\u001b[0m\n\u001b[1;32m     39\u001b[0m \u001b[38;5;28;01mdef\u001b[39;00m \u001b[38;5;21m_amax\u001b[39m(a, axis\u001b[38;5;241m=\u001b[39m\u001b[38;5;28;01mNone\u001b[39;00m, out\u001b[38;5;241m=\u001b[39m\u001b[38;5;28;01mNone\u001b[39;00m, keepdims\u001b[38;5;241m=\u001b[39m\u001b[38;5;28;01mFalse\u001b[39;00m,\n\u001b[1;32m     40\u001b[0m           initial\u001b[38;5;241m=\u001b[39m_NoValue, where\u001b[38;5;241m=\u001b[39m\u001b[38;5;28;01mTrue\u001b[39;00m):\n\u001b[0;32m---> 41\u001b[0m     \u001b[38;5;28;01mreturn\u001b[39;00m \u001b[43mumr_maximum\u001b[49m\u001b[43m(\u001b[49m\u001b[43ma\u001b[49m\u001b[43m,\u001b[49m\u001b[43m \u001b[49m\u001b[43maxis\u001b[49m\u001b[43m,\u001b[49m\u001b[43m \u001b[49m\u001b[38;5;28;43;01mNone\u001b[39;49;00m\u001b[43m,\u001b[49m\u001b[43m \u001b[49m\u001b[43mout\u001b[49m\u001b[43m,\u001b[49m\u001b[43m \u001b[49m\u001b[43mkeepdims\u001b[49m\u001b[43m,\u001b[49m\u001b[43m \u001b[49m\u001b[43minitial\u001b[49m\u001b[43m,\u001b[49m\u001b[43m \u001b[49m\u001b[43mwhere\u001b[49m\u001b[43m)\u001b[49m\n",
      "\u001b[0;31mValueError\u001b[0m: zero-size array to reduction operation maximum which has no identity"
     ]
    }
   ],
   "source": [
    "axis = snr.plot_layer_snr(\n",
    "    \"L2_3\",\n",
    "    site_lyrs_s,\n",
    "    site_lyrs_v,\n",
    "    snr_s,\n",
    "    snr_v,\n",
    "    100,\n",
    "    xlim=xlim,\n",
    "    markersz=MARKERS,\n",
    "    markeredgew=MARKEREDGEW,\n",
    ")\n",
    "plt.savefig(\"figures/2_realism/3_snr/svg/horvath/snr_lyr23.svg\", **savefig_cfg)"
   ]
  },
  {
   "cell_type": "markdown",
   "metadata": {},
   "source": [
    "### (30s)L4\n"
   ]
  },
  {
   "cell_type": "code",
   "execution_count": 69,
   "metadata": {},
   "outputs": [
    {
     "data": {
      "image/png": "[encoded data removed]",
      "text/plain": [
       "<Figure size 300x300 with 1 Axes>"
      ]
     },
     "metadata": {},
     "output_type": "display_data"
    }
   ],
   "source": [
    "snr.plot_layer_snr(\n",
    "    \"L4\",\n",
    "    site_lyrs_s,\n",
    "    site_lyrs_v,\n",
    "    snr_s,\n",
    "    snr_v,\n",
    "    100,\n",
    "    xlim=xlim,\n",
    "    markersz=MARKERS,\n",
    "    markeredgew=MARKEREDGEW,\n",
    ")\n",
    "plt.savefig(\"figures/2_realism/3_snr/svg/horvath/snr_lyr4.svg\", **savefig_cfg)"
   ]
  },
  {
   "cell_type": "markdown",
   "metadata": {},
   "source": [
    "### (2.5m)L5"
   ]
  },
  {
   "cell_type": "code",
   "execution_count": 76,
   "metadata": {},
   "outputs": [],
   "source": [
    "snr.plot_snr_for_layer_5(\n",
    "    site_lyrs_s,\n",
    "    site_lyrs_v,\n",
    "    snr_s,\n",
    "    snr_v,\n",
    "    snr_b,\n",
    "    100,\n",
    "    xlim=xlim,\n",
    "    markersz=MARKERS,\n",
    "    markeredgew=MARKEREDGEW,\n",
    ")\n",
    "plt.savefig(\"figures/2_realism/3_snr/svg/horvath/snr_lyr5.svg\", **savefig_cfg)"
   ]
  },
  {
   "cell_type": "markdown",
   "metadata": {},
   "source": [
    "### (1.5m)L6"
   ]
  },
  {
   "cell_type": "code",
   "execution_count": 71,
   "metadata": {},
   "outputs": [
    {
     "data": {
      "image/png": "[encoded data removed]",
      "text/plain": [
       "<Figure size 300x300 with 1 Axes>"
      ]
     },
     "metadata": {},
     "output_type": "display_data"
    }
   ],
   "source": [
    "snr.plot_layer_snr(\n",
    "    \"L6\",\n",
    "    site_lyrs_s,\n",
    "    site_lyrs_v,\n",
    "    snr_s,\n",
    "    snr_v,\n",
    "    100,\n",
    "    xlim=xlim,\n",
    "    markersz=MARKERS,\n",
    "    markeredgew=MARKEREDGEW,\n",
    ")\n",
    "plt.savefig(\"figures/2_realism/3_snr/svg/horvath/snr_lyr6.svg\", **savefig_cfg)"
   ]
  },
  {
   "attachments": {},
   "cell_type": "markdown",
   "metadata": {},
   "source": [
    "# References\n",
    "\n",
    "(1) https://gin.g-node.org/spikeinterface/probeinterface_library/src/master/neuronexus/A1x32-Poly3-10mm-50-177/A1x32-Poly3-10mm-50-177.json\n",
    "\n",
    "(2) Horváth et al., “Dataset of Cortical Activity Recorded with High Spatial Resolution from Anesthetized Rats.”\n",
    "\n",
    "(3) Fiáth, R., Raducanu, B. C., Musa, S., Andrei, A., Lopez, C. M., Van Hoof, C., ... & Ulbert, I. (2018). A silicon-based neural probe with densely-packed low-impedance titanium nitride microelectrodes for ultrahigh-resolution in vivo recordings. Biosensors and Bioelectronics, 106, 86-92.  "
   ]
  }
 ],
 "metadata": {
  "kernelspec": {
   "display_name": "env_kilosort_silico",
   "language": "python",
   "name": "python3"
  },
  "language_info": {
   "codemirror_mode": {
    "name": "ipython",
    "version": 3
   },
   "file_extension": ".py",
   "mimetype": "text/x-python",
   "name": "python",
   "nbconvert_exporter": "python",
   "pygments_lexer": "ipython3",
   "version": "3.9.7"
  },
  "orig_nbformat": 4
 },
 "nbformat": 4,
 "nbformat_minor": 2
}
