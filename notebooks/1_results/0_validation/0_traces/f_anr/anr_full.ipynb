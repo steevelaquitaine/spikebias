{
 "cells": [
  {
   "attachments": {},
   "cell_type": "markdown",
   "metadata": {},
   "source": [
    "# (2h) ANR\n",
    "\n",
    "STATUS: does not work because we cannot load all large recordings ampltude to noise ratio together due to memory limitations.\n",
    "\n",
    "author: steeve.laquitaine@epfl.ch\n",
    "\n",
    "**Goal:**\n",
    "\n",
    "* Check that amplitude-to-noise ratios make sense, given that we fitted on peak amplitude over the entire durations of the recordings.\n",
    "\n",
    "**Method**\n",
    "\n",
    "* SNR for the entire recordings, all sites: sbatch cluster/validation/main/snr/snr_all_sites.sh\n",
    "\n",
    "* Noise and gain fitting method:\n",
    "  * over entire traces\n",
    "  * noise added only to sites in layers (sites within cortex)\n",
    "* Biophy traces per layer must be matched to the layers they were fitted against. They were fitted against site traces in the same layer at the same depth.\n",
    "  * model probe 1, layer 1 -> in vivo probe 1 layer 1 - VALIDATED!\n",
    "  * model probe 1, layer 2/3 -> in vivo probe 1 layer 2/3 - VALIDATED!\n",
    "  * model probe 2, layer 2/3 -> in vivo probe 2 layer 2/3 - should be skipped?\n",
    "  * model probe 2, layer 4 -> in vivo probe 2 layer 4\n",
    "  * model probe 2, layer 5 -> in vivo probe 2 layer 5\n",
    "  * model probe 3, layer 6 -> in vivo probe 3 layer 6\n"
   ]
  },
  {
   "cell_type": "markdown",
   "metadata": {},
   "source": [
    "## Compute and plot \n",
    "\n",
    "1. Process traces e.g.,: sbatch cluster/prepro/marques_silico/process.sbatch\n",
    "3. compute ANR and save: \n",
    "\n",
    "    sbatch cluster/validation/anr/anr_all_sites.sh  \n",
    "    sbatch cluster/validation/anr/anr_l1.sh  \n",
    "    sbatch cluster/validation/anr/anr_l23.sh  \n",
    "    sbatch cluster/validation/anr/anr_l4.sh  \n",
    "    sbatch cluster/validation/anr/anr_l5.sh  \n",
    "    sbatch cluster/validation/anr/anr_l6.sh  "
   ]
  }
 ],
 "metadata": {
  "kernelspec": {
   "display_name": "env_kilosort_silico",
   "language": "python",
   "name": "python3"
  },
  "language_info": {
   "codemirror_mode": {
    "name": "ipython",
    "version": 3
   },
   "file_extension": ".py",
   "mimetype": "text/x-python",
   "name": "python",
   "nbconvert_exporter": "python",
   "pygments_lexer": "ipython3",
   "version": "3.9.7"
  },
  "orig_nbformat": 4
 },
 "nbformat": 4,
 "nbformat_minor": 2
}
