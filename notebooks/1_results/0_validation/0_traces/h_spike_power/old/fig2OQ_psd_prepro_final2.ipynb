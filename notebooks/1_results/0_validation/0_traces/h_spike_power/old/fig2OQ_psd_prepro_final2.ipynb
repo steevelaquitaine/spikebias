{
 "cells": [
  {
   "attachments": {},
   "cell_type": "markdown",
   "metadata": {},
   "source": [
    "# PSD\n",
    "\n",
    "* **author**: steeve.laquitaine@epfl.ch\n",
    "\n",
    "* **Execution duration:** : 10 mins for 10 min recordings\n",
    "\n",
    "* **Method**: \n",
    "    * PSD for first 10 minutes of recording. We will analyse the first 10 minutes as PSD is stable across time (compared with 40 min).\n",
    "    * `Horvath` (aligned with cortical column)\n",
    "        * rat cortex S1\n",
    "        * 128ch\n",
    "        * 30.0kHz\n",
    "        * Horvath in vivo probe 1:\n",
    "            * duration: 3606.552 (~60 mins)\n",
    "        * Horvath in vivo probe 2:\n",
    "            * duration: 3688.668 secs (~61 mins)\n",
    "        * Horvath in vivo probe 3:\n",
    "            * duration: 3603.096 secs (~60 mins)  \n",
    "        * \"Spontaneous activity\" (Only anesthetized condition)\n",
    "    * `high-density (Horvath)` (aligned with cortical column)\n",
    "        * run: 2023_10_18\n",
    "        * rat cortex S1\n",
    "        * 384ch \n",
    "        * 40.0kHz\n",
    "        * 10 min\n",
    "        * \"Spontaneous activity\" (Only anesthetized condition)\n",
    "        * fitted gain and noise + fine tuned gain\n",
    "        * Silico probe 1\n",
    "            * duration: 1175.9988 secs (~28 min)\n",
    "        * Silico probe 2   \n",
    "            * duration: 1714.99825 secs (~19 min)\n",
    "        * Silico probe 3: \n",
    "            * duration: 1763.9982 secs  (~29 min)\n",
    "    * `Buccino`:\n",
    "        * 10 min\n",
    "    * Welch method\n",
    "        * 1Hz resolution, Hann window\n",
    "    * The quality of PSD estimation from FFT depends on a unique parameter, the number of signal samples, N. The largest the number of samples, \n",
    "    and the better the frequency resolution, $f_r$, of the PSD, given sampling frequency $f_s$\n",
    "\n",
    "    $$f_r = f_s / N$$\n",
    "\n",
    "    * We estimated all PSDs over the same number of recording samples, to allow for a fair comparison of PSDs which frequency resolution depends on the signal's sample size. Small sample size degrades the frequency resolution of the PSD compared to large sample size, potentially masking significant features.\n",
    "    * To minimize computational cost, we show the PSDs estimated from the same sample sizes corresponding to about 5 min of recordings, which was the shortest period that best preserved the features observed in the PSD estimated from the entire recordings.\n",
    "    * We also estimated the PSD for all experiments' first 20 minutes (the largest common duration) and the entire recordings (see Supplementary figure).\n",
    "\n",
    "\n",
    "    * Spiking band for power SNR: 300 - 6000 Hz"
   ]
  },
  {
   "attachments": {},
   "cell_type": "markdown",
   "metadata": {},
   "source": [
    "## Setup\n",
    "\n",
    "1. Activate `spikeinterf..` venv\n",
    "\n",
    "2. Compute power spectral data with: \n",
    "\n",
    "    ```bash\n",
    "    # neuropixels (Marques & biophy. spontaneous)\n",
    "    sbatch cluster/validation/psd/psd_welch_buttw_fitd_horv_10m.sbatch # 5 min\n",
    "    sbatch cluster/validation/psd/psd_welch_buttw_fitd_npx_10m.sbatch # 16 min\n",
    "    ```"
   ]
  },
  {
   "cell_type": "code",
   "execution_count": 1,
   "metadata": {},
   "outputs": [],
   "source": [
    "# import libs\n",
    "%load_ext autoreload\n",
    "%autoreload 2\n",
    "\n",
    "import warnings\n",
    "warnings.simplefilter(action='ignore', category=FutureWarning)\n",
    "warnings.filterwarnings(\"ignore\")\n",
    "\n",
    "import os\n",
    "import numpy as np\n",
    "import matplotlib\n",
    "from matplotlib import pyplot as plt\n",
    "import spikeinterface as si\n",
    "import copy\n",
    "import multiprocessing\n",
    "import torch\n",
    "import seaborn as sns\n",
    "import pandas as pd\n",
    "\n",
    "# move to PROJECT PATH\n",
    "PROJ_PATH = \"/gpfs/bbp.cscs.ch/project/proj85/home/laquitai/spikebias/\"\n",
    "os.chdir(PROJ_PATH)\n",
    "\n",
    "\n",
    "from src.nodes import utils\n",
    "from src.nodes.utils import get_config\n",
    "from src.nodes.validation import power\n",
    "\n",
    "matplotlib.rcParams['agg.path.chunksize'] = 10000\n",
    "\n",
    "# SETUP PARAMETERS\n",
    "prm = dict()\n",
    "prm[\"SFREQ_HV\"] = 20000          # sampling frequency\n",
    "prm[\"SFREQ_HS\"] = 20000        # sampling frequency\n",
    "prm[\"SFREQ_NV\"] = 30000          # sampling frequency\n",
    "prm[\"SFREQ_NS\"] = 40000        # sampling frequency\n",
    "prm[\"SFREQ_NB\"] = 32000\n",
    "prm[\"SFREQ_NE\"] = 20000\n",
    "\n",
    "# SETUP DATASETS\n",
    "\n",
    "# neuropixels *********************\n",
    "\n",
    "# neuropixels (Marques-Smith)\n",
    "cfg_nv, _ = get_config(\"vivo_marques\", \"c26\").values() \n",
    "RAW_PATH_nv = cfg_nv[\"probe_wiring\"][\"output\"]\n",
    "PREP_PATH_nv = cfg_nv[\"preprocessing\"][\"output\"][\"trace_file_path\"]\n",
    "RAW_PSD_PATH_NV = cfg_nv[\"validation\"][\"psd\"][\"raw\"]\n",
    "PRE_PSD_PATH_NV = cfg_nv[\"validation\"][\"psd\"][\"preprocessed\"]\n",
    "\n",
    "# neuropixels (biophy. spont.)\n",
    "cfg_ns, param_conf_ns = get_config(\"silico_neuropixels\", \"concatenated\").values()\n",
    "RAW_PATH_ns = cfg_ns[\"probe_wiring\"][\"40m\"][\"output_noise_fitd_gain_fitd_adj10perc_less_int16\"]\n",
    "PREP_PATH_ns = cfg_ns[\"preprocessing\"][\"output\"][\"40m\"][\"trace_file_path_gain_fitd_adj10perc_less_noise_fitd_int16\"]\n",
    "RAW_PSD_PATH_NS = cfg_ns[\"validation\"][\"psd\"][\"raw\"]\n",
    "PRE_PSD_PATH_NS = cfg_ns[\"validation\"][\"psd\"][\"preprocessed\"]\n",
    "\n",
    "# neuropixels (evoked biophy.)\n",
    "cfg_ne, _ = get_config(\"silico_neuropixels\", \"stimulus\").values()\n",
    "RAW_PATH_ne = cfg_ne[\"probe_wiring\"][\"output\"]\n",
    "PREP_PATH_ne = cfg_ne[\"preprocessing\"][\"output\"][\"trace_file_path\"]\n",
    "RAW_PSD_PATH_NE = cfg_ne[\"validation\"][\"psd\"][\"raw\"]\n",
    "PRE_PSD_PATH_NE = cfg_ne[\"validation\"][\"psd\"][\"preprocessed\"]\n",
    "\n",
    "# neuropixels (synthetic, Buccino)\n",
    "cfg_nb, param_conf_nb = get_config(\"buccino_2020\", \"2020\").values()\n",
    "RAW_PSD_PATH_NB = cfg_nb[\"validation\"][\"psd\"][\"raw\"]\n",
    "PRE_PSD_PATH_NB = cfg_nb[\"validation\"][\"psd\"][\"preprocessed\"]\n",
    "\n",
    "# custom *******************\n",
    "# vivo (probe 1)\n",
    "cfg_hv1, _ = get_config(\"vivo_horvath\", \"probe_1\").values()\n",
    "RAW_PATH_hv1 =  cfg_hv1[\"probe_wiring\"][\"output\"]\n",
    "PREP_PATH_hv1 = cfg_hv1[\"preprocessing\"][\"output\"][\"trace_file_path\"]\n",
    "RAW_PSD_PATH_HV1 = cfg_hv1[\"validation\"][\"psd\"][\"raw\"]\n",
    "PRE_PSD_PATH_HV1 = cfg_hv1[\"validation\"][\"psd\"][\"preprocessed\"]\n",
    "# probe 2\n",
    "cfg_hv2, _ = get_config(\"vivo_horvath\", \"probe_2\").values()\n",
    "RAW_PATH_hv2 =  cfg_hv2[\"probe_wiring\"][\"output\"]\n",
    "PREP_PATH_hv2 = cfg_hv2[\"preprocessing\"][\"output\"][\"trace_file_path\"]\n",
    "RAW_PSD_PATH_HV2 = cfg_hv2[\"validation\"][\"psd\"][\"raw\"]\n",
    "PRE_PSD_PATH_HV2 = cfg_hv2[\"validation\"][\"psd\"][\"preprocessed\"]\n",
    "# probe 3\n",
    "cfg_hv3, _ = get_config(\"vivo_horvath\", \"probe_3\").values()\n",
    "RAW_PATH_hv3 =  cfg_hv3[\"probe_wiring\"][\"output\"]\n",
    "PREP_PATH_hv3 = cfg_hv3[\"preprocessing\"][\"output\"][\"trace_file_path\"]\n",
    "RAW_PSD_PATH_HV3 = cfg_hv3[\"validation\"][\"psd\"][\"raw\"]\n",
    "PRE_PSD_PATH_HV3 = cfg_hv3[\"validation\"][\"psd\"][\"preprocessed\"]\n",
    "# biophy. model\n",
    "# (probe 1)\n",
    "cfg_hs1, _ = get_config(\"silico_horvath\", \"concatenated/probe_1\").values()\n",
    "RAW_PATH_hs1 = cfg_hs1[\"probe_wiring\"][\"output\"]\n",
    "PREP_PATH_hs1 = cfg_hs1[\"preprocessing\"][\"output\"][\"trace_file_path\"]\n",
    "RAW_PSD_PATH_HS1 = cfg_hs1[\"validation\"][\"psd\"][\"raw\"]\n",
    "PRE_PSD_PATH_HS1 = cfg_hs1[\"validation\"][\"psd\"][\"preprocessed\"]\n",
    "# probe 2\n",
    "cfg_hs2, _ = get_config(\"silico_horvath\", \"concatenated/probe_2\").values()\n",
    "RAW_PATH_hs2 = cfg_hs2[\"probe_wiring\"][\"output\"]\n",
    "PREP_PATH_hs2 = cfg_hs2[\"preprocessing\"][\"output\"][\"trace_file_path\"]\n",
    "RAW_PSD_PATH_HS2 = cfg_hs2[\"validation\"][\"psd\"][\"raw\"]\n",
    "PRE_PSD_PATH_HS2 = cfg_hs2[\"validation\"][\"psd\"][\"preprocessed\"]\n",
    "# probe 3\n",
    "cfg_hs3, _ = get_config(\"silico_horvath\", \"concatenated/probe_3\").values()\n",
    "RAW_PATH_hs3 = cfg_hs3[\"probe_wiring\"][\"output\"]\n",
    "PREP_PATH_hs3 = cfg_hs3[\"preprocessing\"][\"output\"][\"trace_file_path\"]\n",
    "RAW_PSD_PATH_HS3 = cfg_hs3[\"validation\"][\"psd\"][\"raw\"]\n",
    "PRE_PSD_PATH_HS3 = cfg_hs3[\"validation\"][\"psd\"][\"preprocessed\"]\n",
    "\n",
    "\n",
    "# # neuro \n",
    "\n",
    "\n",
    "# FIGURE SETTINGS\n",
    "# sampling frequency\n",
    "# SFREQ_NV = 30000        \n",
    "# SFREQ_NS = 40000\n",
    "# SFREQ_NE = 20000\n",
    "# SFREQ_NB = 32000\n",
    "# SFREQ_HV = 20000        \n",
    "# SFREQ_HS = 20000\n",
    "\n",
    "\n",
    "# FIGURE SETTINGS\n",
    "FIG_SIZE = (1.5, 1.5)\n",
    "# experiment colors\n",
    "cl = dict()\n",
    "cl[\"COLOR_NV\"] = [0.6, 0.6, 0.6]\n",
    "cl[\"COLOR_NS\"] = [0.9, 0.14, 0.15]\n",
    "cl[\"COLOR_NB\"] = [0.22, 0.5, 0.72] # blue\n",
    "cl[\"COLOR_NE\"] = [1, 0.49, 0] # orange\n",
    "cl[\"COLOR_MEDIAN\"] = (1, 0.76, 0)\n",
    "cl[\"COLOR_HV\"] = \"k\" # black\n",
    "cl[\"COLOR_HS\"] = np.array([26, 152, 80]) / 255 # green\n",
    "\n",
    "# axes aesthetics\n",
    "plt.rcParams[\"font.family\"] = \"Arial\"\n",
    "plt.rcParams[\"font.size\"] = 6  # 5-7 with Nature neuroscience as reference\n",
    "plt.rcParams[\"lines.linewidth\"] = 0.5 # typically 0.5 - 1 pt\n",
    "plt.rcParams[\"axes.linewidth\"] = 0.5 # typically 0.5 - 1 pt\n",
    "plt.rcParams[\"axes.spines.top\"] = False\n",
    "plt.rcParams[\"xtick.major.width\"] = 0.5 #0.8 #* 1.3\n",
    "plt.rcParams[\"xtick.minor.width\"] = 0.5 #0.8 #* 1.3\n",
    "plt.rcParams[\"ytick.major.width\"] = 0.5 #0.8 #* 1.3\n",
    "plt.rcParams[\"ytick.minor.width\"] = 0.5 #0.8 #* 1.3\n",
    "plt.rcParams[\"xtick.major.size\"] = 3.5 * 1.1\n",
    "plt.rcParams[\"xtick.minor.size\"] = 2 * 1.1\n",
    "plt.rcParams[\"ytick.major.size\"] = 3.5 * 1.1\n",
    "plt.rcParams[\"ytick.minor.size\"] = 2 * 1.1\n",
    "N_MAJOR_TICKS = 4\n",
    "N_MINOR_TICKS = 12\n",
    "savefig_cfg = {\"transparent\":True, \"dpi\":300}\n",
    "legend_cfg = {\"frameon\": False, \"handletextpad\": 0.1}\n",
    "tight_layout_cfg = {\"pad\": 0.5}\n",
    "LG_FRAMEON = False              # no legend frame"
   ]
  },
  {
   "cell_type": "markdown",
   "metadata": {},
   "source": [
    "### Specs"
   ]
  },
  {
   "cell_type": "code",
   "execution_count": null,
   "metadata": {},
   "outputs": [
    {
     "name": "stdout",
     "output_type": "stream",
     "text": [
      "available cpus: 72\n",
      "available gpus: True\n"
     ]
    },
    {
     "data": {
      "text/plain": [
       "['              total        used        free      shared  buff/cache   available',\n",
       " 'Mem:         772341       22990      748056          88        1293      747695',\n",
       " 'Swap:             0           0           0']"
      ]
     },
     "execution_count": 2,
     "metadata": {},
     "output_type": "execute_result"
    }
   ],
   "source": [
    "# cpus, gpu and current memory usage\n",
    "print(\"available cpus:\", multiprocessing.cpu_count())\n",
    "print(\"available gpus:\", torch.cuda.is_available())\n",
    "%system free -m"
   ]
  },
  {
   "cell_type": "markdown",
   "metadata": {},
   "source": [
    "### (1s)Load dataset\n",
    "\n",
    "* select first 10 min for speed"
   ]
  },
  {
   "cell_type": "code",
   "execution_count": null,
   "metadata": {},
   "outputs": [],
   "source": [
    "# Load traces\n",
    "# neuropixels\n",
    "# raw\n",
    "RawNV = si.load_extractor(RAW_PATH_nv)\n",
    "RawNS = si.load_extractor(RAW_PATH_ns)\n",
    "RawNE = si.load_extractor(RAW_PATH_ne)\n",
    "# preprocessed\n",
    "PrepNV = si.load_extractor(PREP_PATH_nv)\n",
    "PrepNS = si.load_extractor(PREP_PATH_ns)\n",
    "PrepNE = si.load_extractor(PREP_PATH_ne)\n",
    "\n",
    "# horvath\n",
    "# raw (probe 1)\n",
    "RawHV1 = si.load_extractor(RAW_PATH_hv1)\n",
    "RawHS1 = si.load_extractor(RAW_PATH_hs1)\n",
    "# raw (probe 2)\n",
    "RawHV2 = si.load_extractor(RAW_PATH_hv2)\n",
    "RawHS2 = si.load_extractor(RAW_PATH_hs2)\n",
    "# raw (probe 3)\n",
    "RawHV3 = si.load_extractor(RAW_PATH_hv3)\n",
    "RawHS3 = si.load_extractor(RAW_PATH_hs3)\n",
    "# preprocessed (probe 1)\n",
    "PrepHV1 = si.load_extractor(PREP_PATH_hv1)\n",
    "PrepHS1 = si.load_extractor(PREP_PATH_hs1)\n",
    "# preprocessed (probe 2)\n",
    "PrepHV2 = si.load_extractor(PREP_PATH_hv2)\n",
    "PrepHS2 = si.load_extractor(PREP_PATH_hs2)\n",
    "# preprocessed (probe 3)\n",
    "PrepHV3 = si.load_extractor(PREP_PATH_hv3)\n",
    "PrepHS3 = si.load_extractor(PREP_PATH_hs3)\n",
    "\n",
    "\n",
    "# 4 - get good sites (in cortex) **********************\n",
    "# neuropixels\n",
    "lyrs = [\"L1\", \"L2_3\", \"L4\", \"L5\", \"L6\"]\n",
    "# silico\n",
    "site_ly_ns = RawNS.get_property(\"layers\")\n",
    "site_ly_ns[site_ly_ns == \"L2\"] = \"L2_3\"\n",
    "site_ly_ns[site_ly_ns == \"L3\"] = \"L2_3\"\n",
    "sites_ns = np.where(np.isin(site_ly_ns, lyrs))[0]\n",
    "# evoked\n",
    "site_ly_ne = RawNE.get_property(\"layers\")\n",
    "site_ly_ne[site_ly_ne == \"L2\"] = \"L2_3\"\n",
    "site_ly_ne[site_ly_ne == \"L3\"] = \"L2_3\"\n",
    "sites_ne = np.where(np.isin(site_ly_ne, lyrs))[0]\n",
    "# vivo\n",
    "site_ly_nv = RawNV.get_property(\"layers\")\n",
    "sites_nv = np.where(np.isin(site_ly_nv, lyrs))[0]\n",
    "\n",
    "# horvath\n",
    "# silico\n",
    "# probe 1 (select L1, L2/3)\n",
    "site_ly_hs1 = RawHS1.get_property(\"layers\")\n",
    "site_ly_hs1 = np.array([\"L2_3\" if x == \"L2\" or x == \"L3\" else x for x in site_ly_hs1])\n",
    "sites_hs1 = np.where(np.isin(site_ly_hs1, [\"L1\", \"L2_3\"]))[0]\n",
    "# probe 2 (select L4 and L5)\n",
    "site_ly_hs2 = RawHS2.get_property(\"layers\")\n",
    "sites_hs2 = np.where(np.isin(site_ly_hs2, [\"L4\", \"L5\"]))[0]\n",
    "# probe 3 (select L6)\n",
    "site_ly_hs3 = RawHS3.get_property(\"layers\")\n",
    "site_ly_hs3 = np.array([\"L2_3\" if x == \"L2\" or x == \"L3\" else x for x in site_ly_hs3])\n",
    "sites_hs3 = np.where(np.isin(site_ly_hs3, [\"L6\"]))[0]\n",
    "\n",
    "# vivo\n",
    "# probe 1\n",
    "site_ly_hv1 = RawHV1.get_property(\"layers\")\n",
    "sites_hv1 = np.where(np.isin(site_ly_hv1, [\"L1\", \"L2_3\"]))[0]\n",
    "# probe 2\n",
    "site_ly_hv2 = RawHV2.get_property(\"layers\")\n",
    "sites_hv2 = np.where(np.isin(site_ly_hv2, [\"L4\", \"L5\"]))[0]\n",
    "# probe 3\n",
    "site_ly_hv3 = RawHV3.get_property(\"layers\")\n",
    "sites_hv3 = np.where(np.isin(site_ly_hv3, [\"L6\"]))[0]\n",
    "\n",
    "# Load pre-computed PSDs (in cortex)\n",
    "# neuropixels\n",
    "# raw\n",
    "psd_raw_nv = np.load(RAW_PSD_PATH_NV, allow_pickle=True).item()\n",
    "psd_raw_ns = np.load(RAW_PSD_PATH_NS, allow_pickle=True).item()\n",
    "psd_raw_ne = np.load(RAW_PSD_PATH_NE, allow_pickle=True).item()\n",
    "psd_raw_nb = np.load(RAW_PSD_PATH_NB, allow_pickle=True).item()\n",
    "# preprocessed\n",
    "psd_pre_nv = np.load(PRE_PSD_PATH_NV, allow_pickle=True).item()\n",
    "psd_pre_ns = np.load(PRE_PSD_PATH_NS, allow_pickle=True).item()\n",
    "psd_pre_ne = np.load(PRE_PSD_PATH_NE, allow_pickle=True).item()\n",
    "psd_pre_nb = np.load(PRE_PSD_PATH_NB, allow_pickle=True).item()\n",
    "\n",
    "# custom (Horvath)\n",
    "psd_raw_hv1 = np.load(RAW_PSD_PATH_HV1, allow_pickle=True).item()\n",
    "psd_raw_hv2 = np.load(RAW_PSD_PATH_HV2, allow_pickle=True).item()\n",
    "psd_raw_hv3 = np.load(RAW_PSD_PATH_HV3, allow_pickle=True).item()\n",
    "psd_raw_hs1 = np.load(RAW_PSD_PATH_HS1, allow_pickle=True).item()\n",
    "psd_raw_hs2 = np.load(RAW_PSD_PATH_HS2, allow_pickle=True).item()\n",
    "psd_raw_hs3 = np.load(RAW_PSD_PATH_HS3, allow_pickle=True).item()\n",
    "# preprocessed\n",
    "psd_pre_hv1 = np.load(PRE_PSD_PATH_HV1, allow_pickle=True).item()\n",
    "psd_pre_hv2 = np.load(PRE_PSD_PATH_HV2, allow_pickle=True).item()\n",
    "psd_pre_hv3 = np.load(PRE_PSD_PATH_HV3, allow_pickle=True).item()\n",
    "psd_pre_hs1 = np.load(PRE_PSD_PATH_HS1, allow_pickle=True).item()\n",
    "psd_pre_hs2 = np.load(PRE_PSD_PATH_HS2, allow_pickle=True).item()\n",
    "psd_pre_hs3 = np.load(PRE_PSD_PATH_HS3, allow_pickle=True).item()\n",
    "\n",
    "# unit-test power spectral density resolutions\n",
    "assert psd_raw_hv1[\"freq\"][1] == 1.0, \"psd resolution should be 1Hz\"\n",
    "assert psd_raw_hv2[\"freq\"][1] == 1.0, \"psd resolution should be 1Hz\"\n",
    "assert psd_raw_hv3[\"freq\"][1] == 1.0, \"psd resolution should be 1Hz\"\n",
    "assert psd_raw_hs1[\"freq\"][1] == 1.0, \"psd resolution should be 1Hz\"\n",
    "assert psd_raw_hs2[\"freq\"][1] == 1.0, \"psd resolution should be 1Hz\"\n",
    "assert psd_raw_hs3[\"freq\"][1] == 1.0, \"psd resolution should be 1Hz\"\n",
    "assert psd_raw_nv[\"freq\"][1] == 1.0, \"psd resolution should be 1Hz\"\n",
    "assert psd_raw_ns[\"freq\"][1] == 1.0, \"psd resolution should be 1Hz\"\n",
    "assert psd_raw_ne[\"freq\"][1] == 1.0, \"psd resolution should be 1Hz\"\n",
    "assert psd_raw_nb[\"freq\"][1] == 1.0, \"psd resolution should be 1Hz\"\n",
    "\n",
    "assert psd_pre_hv1[\"freq\"][1] == 1.0, \"psd resolution should be 1Hz\"\n",
    "assert psd_pre_hv2[\"freq\"][1] == 1.0, \"psd resolution should be 1Hz\"\n",
    "assert psd_pre_hv3[\"freq\"][1] == 1.0, \"psd resolution should be 1Hz\"\n",
    "assert psd_pre_hs1[\"freq\"][1] == 1.0, \"psd resolution should be 1Hz\"\n",
    "assert psd_pre_hs2[\"freq\"][1] == 1.0, \"psd resolution should be 1Hz\"\n",
    "assert psd_pre_hs3[\"freq\"][1] == 1.0, \"psd resolution should be 1Hz\"\n",
    "assert psd_pre_nv[\"freq\"][1] == 1.0, \"psd resolution should be 1Hz\"\n",
    "assert psd_pre_ns[\"freq\"][1] == 1.0, \"psd resolution should be 1Hz\"\n",
    "assert psd_pre_ne[\"freq\"][1] == 1.0, \"psd resolution should be 1Hz\"\n",
    "assert psd_pre_nb[\"freq\"][1] == 1.0, \"psd resolution should be 1Hz\""
   ]
  },
  {
   "cell_type": "markdown",
   "metadata": {},
   "source": [
    "# All Layers"
   ]
  },
  {
   "cell_type": "markdown",
   "metadata": {},
   "source": [
    "## Compute"
   ]
  },
  {
   "cell_type": "code",
   "execution_count": null,
   "metadata": {},
   "outputs": [],
   "source": [
    "# horvath vivo (all layers)\n",
    "# L1 (probe 1)\n",
    "psd_pre_hv1_L1 = copy.copy(psd_pre_hv1)\n",
    "psd_pre_hv1_L1[\"power\"] = psd_pre_hv1[\"power\"][site_ly_hv1[sites_hv1] == \"L1\", :]\n",
    "# L23 (probe 1)\n",
    "psd_pre_hv1_L23 = copy.copy(psd_pre_hv1)\n",
    "psd_pre_hv1_L23[\"power\"] = psd_pre_hv1[\"power\"][site_ly_hv1[sites_hv1] == \"L2_3\", :]\n",
    "# L4 (probe 2)\n",
    "psd_pre_hv2_L4 = copy.copy(psd_pre_hv2)\n",
    "psd_pre_hv2_L4[\"power\"] = psd_pre_hv2[\"power\"][site_ly_hv2[sites_hv2] == \"L4\", :]\n",
    "# L5 (probe 2)\n",
    "psd_pre_hv2_L5 = copy.copy(psd_pre_hv2)\n",
    "psd_pre_hv2_L5[\"power\"] = psd_pre_hv2[\"power\"][site_ly_hv2[sites_hv2] == \"L5\", :]\n",
    "# L6 (probe 3)\n",
    "psd_pre_hv3_L6 = copy.copy(psd_pre_hv3)\n",
    "psd_pre_hv3_L6[\"power\"] = psd_pre_hv3[\"power\"][site_ly_hv3[sites_hv3] == \"L6\", :]\n",
    "\n",
    "# sites in target layers in each probe\n",
    "psd_all_hv = dict()\n",
    "psd_all_hv[\"power\"] = np.vstack(\n",
    "    [\n",
    "        psd_pre_hv1_L1[\"power\"],\n",
    "        psd_pre_hv1_L23[\"power\"],\n",
    "        psd_pre_hv2_L4[\"power\"],\n",
    "        psd_pre_hv2_L5[\"power\"],\n",
    "        psd_pre_hv3_L6[\"power\"],\n",
    "    ]\n",
    ")\n",
    "psd_all_hv[\"freq\"] = psd_pre_hv1[\"freq\"]\n",
    "\n",
    "\n",
    "# horvath biophy. spont. (all layers) **************************\n",
    "# L1 (probe 1)\n",
    "psd_pre_hs1_L1 = copy.copy(psd_pre_hs1)\n",
    "psd_pre_hs1_L1[\"power\"] = psd_pre_hs1[\"power\"][site_ly_hs1[sites_hs1] == \"L1\", :]\n",
    "# L23 (probe 1)\n",
    "psd_pre_hs1_L23 = copy.copy(psd_pre_hs1)\n",
    "psd_pre_hs1_L23[\"power\"] = psd_pre_hs1[\"power\"][site_ly_hs1[sites_hs1] == \"L2_3\", :]\n",
    "# L4 (probe 2)\n",
    "psd_pre_hs2_L4 = copy.copy(psd_pre_hs2)\n",
    "psd_pre_hs2_L4[\"power\"] = psd_pre_hs2[\"power\"][site_ly_hs2[sites_hs2] == \"L4\", :]\n",
    "# L5 (probe 2)\n",
    "psd_pre_hs2_L5 = copy.copy(psd_pre_hs2)\n",
    "psd_pre_hs2_L5[\"power\"] = psd_pre_hs2[\"power\"][site_ly_hs2[sites_hs2] == \"L5\", :]\n",
    "# L6 (probe 3)\n",
    "psd_pre_hs3_L6 = copy.copy(psd_pre_hs3)\n",
    "psd_pre_hs3_L6[\"power\"] = psd_pre_hs3[\"power\"][site_ly_hs3[sites_hs3] == \"L6\", :]\n",
    "\n",
    "# sites in target layers in each probe\n",
    "psd_all_hs = dict()\n",
    "psd_all_hs[\"power\"] = np.vstack(\n",
    "    [\n",
    "        psd_pre_hs1_L1[\"power\"],\n",
    "        psd_pre_hs1_L23[\"power\"],\n",
    "        psd_pre_hs2_L4[\"power\"],\n",
    "        psd_pre_hs2_L5[\"power\"],\n",
    "        psd_pre_hs3_L6[\"power\"],\n",
    "    ]\n",
    ")\n",
    "psd_all_hs[\"freq\"] = psd_pre_hs1[\"freq\"]"
   ]
  },
  {
   "cell_type": "markdown",
   "metadata": {},
   "source": [
    "## Plot"
   ]
  },
  {
   "cell_type": "code",
   "execution_count": 5,
   "metadata": {},
   "outputs": [
    {
     "ename": "NameError",
     "evalue": "name 'SFREQ_HV' is not defined",
     "output_type": "error",
     "traceback": [
      "\u001b[0;31m---------------------------------------------------------------------------\u001b[0m",
      "\u001b[0;31mNameError\u001b[0m                                 Traceback (most recent call last)",
      "Cell \u001b[0;32mIn[5], line 36\u001b[0m\n\u001b[1;32m     27\u001b[0m pm_fit2 \u001b[38;5;241m=\u001b[39m {\n\u001b[1;32m     28\u001b[0m     \u001b[38;5;124m\"\u001b[39m\u001b[38;5;124mlinestyle\u001b[39m\u001b[38;5;124m\"\u001b[39m: \u001b[38;5;124m\"\u001b[39m\u001b[38;5;124m--\u001b[39m\u001b[38;5;124m\"\u001b[39m,\n\u001b[1;32m     29\u001b[0m     \u001b[38;5;124m\"\u001b[39m\u001b[38;5;124mdashes\u001b[39m\u001b[38;5;124m\"\u001b[39m: (\u001b[38;5;241m1\u001b[39m, \u001b[38;5;241m0.5\u001b[39m),\n\u001b[1;32m     30\u001b[0m     \u001b[38;5;124m\"\u001b[39m\u001b[38;5;124mlinewidth\u001b[39m\u001b[38;5;124m\"\u001b[39m: \u001b[38;5;241m1.2\u001b[39m,\n\u001b[1;32m     31\u001b[0m     \u001b[38;5;124m\"\u001b[39m\u001b[38;5;124mcolor\u001b[39m\u001b[38;5;124m\"\u001b[39m: (\u001b[38;5;241m1\u001b[39m, \u001b[38;5;241m0.80\u001b[39m, \u001b[38;5;241m0.62\u001b[39m),\n\u001b[1;32m     32\u001b[0m }\n\u001b[1;32m     34\u001b[0m \u001b[38;5;66;03m# Fit panel ************************************************************\u001b[39;00m\n\u001b[1;32m     35\u001b[0m ax1, alphas_lfp_hv, alphas_spiking_hv \u001b[38;5;241m=\u001b[39m power\u001b[38;5;241m.\u001b[39mplot_fits_all(\n\u001b[0;32m---> 36\u001b[0m     ax1, psd_all_hv, \u001b[43mSFREQ_HV\u001b[49m, COLOR_HV, pm, pm_fit1, pm_fit2\n\u001b[1;32m     37\u001b[0m )\n\u001b[1;32m     38\u001b[0m ax1, alphas_lfp_nv, alphas_spiking_nv \u001b[38;5;241m=\u001b[39m power\u001b[38;5;241m.\u001b[39mplot_fits_all(\n\u001b[1;32m     39\u001b[0m     ax1, psd_pre_nv, SFREQ_NV, COLOR_NV, pm, pm_fit1, pm_fit2\n\u001b[1;32m     40\u001b[0m )\n\u001b[1;32m     41\u001b[0m ax1, alphas_lfp_ns, alphas_spiking_ns \u001b[38;5;241m=\u001b[39m power\u001b[38;5;241m.\u001b[39mplot_fits_all(\n\u001b[1;32m     42\u001b[0m     ax1, psd_pre_ns, SFREQ_NS, COLOR_NS, pm, pm_fit1, pm_fit2\n\u001b[1;32m     43\u001b[0m )\n",
      "\u001b[0;31mNameError\u001b[0m: name 'SFREQ_HV' is not defined"
     ]
    },
    {
     "data": {
      "image/png": "[encoded data removed]",
      "text/plain": [
       "<Figure size 100x100 with 1 Axes>"
      ]
     },
     "metadata": {},
     "output_type": "display_data"
    }
   ],
   "source": [
    "FIG_SIZE = (1, 1)\n",
    "\n",
    "# we rasterize, else dots increase file size by\n",
    "# 6MB per plot\n",
    "# takes 2 mins\n",
    "YLIM_AX1 = [0, 0.02]\n",
    "YLIM_AX2 = [0, 0.08]\n",
    "N_MAJOR_TICKS = 4\n",
    "ALPHA = 0.7\n",
    "fig, ax1 = plt.subplots(1, 1, figsize=FIG_SIZE)\n",
    "\n",
    "# pre panel (8 secs) --------------------------------\n",
    "pm = {\n",
    "    \"linestyle\": \"None\",\n",
    "    \"marker\": \"o\",\n",
    "    \"markersize\": 1.5,\n",
    "    \"rasterized\": True,\n",
    "    \"markeredgecolor\": \"w\",\n",
    "    \"markeredgewidth\": 0.06,\n",
    "}\n",
    "pm_fit1 = {\n",
    "    \"linestyle\": \"--\",\n",
    "    \"dashes\": (1, 0.5),\n",
    "    \"linewidth\": 1.2,\n",
    "    \"color\": (1, 0.92, 0.62),\n",
    "}\n",
    "pm_fit2 = {\n",
    "    \"linestyle\": \"--\",\n",
    "    \"dashes\": (1, 0.5),\n",
    "    \"linewidth\": 1.2,\n",
    "    \"color\": (1, 0.80, 0.62),\n",
    "}\n",
    "\n",
    "# Fit panel ************************************************************\n",
    "ax1, alphas_lfp_hv, alphas_spiking_hv = power.plot_fits_all(\n",
    "    ax1, psd_all_hv, SFREQ_HV, COLOR_HV, pm, pm_fit1, pm_fit2\n",
    ")\n",
    "ax1, alphas_lfp_nv, alphas_spiking_nv = power.plot_fits_all(\n",
    "    ax1, psd_pre_nv, SFREQ_NV, COLOR_NV, pm, pm_fit1, pm_fit2\n",
    ")\n",
    "ax1, alphas_lfp_ns, alphas_spiking_ns = power.plot_fits_all(\n",
    "    ax1, psd_pre_ns, SFREQ_NS, COLOR_NS, pm, pm_fit1, pm_fit2\n",
    ")\n",
    "ax1, alphas_lfp_ne, alphas_spiking_ne = power.plot_fits_all(\n",
    "    ax1, psd_pre_ne, SFREQ_NE, COLOR_NE, pm, pm_fit1, pm_fit2\n",
    ")\n",
    "ax1, alphas_lfp_hs, alphas_spiking_hs = power.plot_fits_all(\n",
    "    ax1, psd_all_hs, SFREQ_HS, COLOR_HS, pm, pm_fit1, pm_fit2\n",
    ")\n",
    "\n",
    "# axes legend\n",
    "# esthetics\n",
    "ax1.set_xscale(\"log\")\n",
    "ax1.set_yscale(\"log\")\n",
    "# minor ticks\n",
    "locmaj = matplotlib.ticker.LogLocator(base=10, numticks=N_MAJOR_TICKS)\n",
    "locmin = matplotlib.ticker.LogLocator(\n",
    "    base=10.0,\n",
    "    subs=(0.2, 0.4, 0.6, 0.8),\n",
    "    numticks=N_MINOR_TICKS,\n",
    ")\n",
    "ax1.tick_params(which=\"both\")\n",
    "ax1.xaxis.set_major_locator(locmaj)\n",
    "ax1.xaxis.set_minor_locator(locmin)\n",
    "ax1.xaxis.set_minor_formatter(matplotlib.ticker.NullFormatter())\n",
    "# disconnect axes (R style)\n",
    "ax1.spines[\"bottom\"].set_position((\"axes\", -0.05))\n",
    "ax1.yaxis.set_ticks_position(\"left\")\n",
    "ax1.spines[\"left\"].set_position((\"axes\", -0.05))\n",
    "\n",
    "\n",
    "# report slopes\n",
    "# lfp band\n",
    "print(\"\\nLFP band\")\n",
    "print(\n",
    "    f\"\\u03B1={np.round(np.mean(alphas_lfp_hv),1)}\\u00B1{np.round(np.std(alphas_lfp_hv),1)}\"\n",
    ")\n",
    "print(\n",
    "    f\"\\u03B1={np.round(np.mean(alphas_lfp_nv),1)}\\u00B1{np.round(np.std(alphas_lfp_nv),1)}\"\n",
    ")\n",
    "print(\n",
    "    f\"\\u03B1={np.round(np.mean(alphas_lfp_ns),1)}\\u00B1{np.round(np.std(alphas_lfp_ns),3)}\"\n",
    ")\n",
    "print(\n",
    "    f\"\\u03B1={np.round(np.mean(alphas_lfp_ne),1)}\\u00B1{np.round(np.std(alphas_lfp_ne),1)}\"\n",
    ")\n",
    "print(\n",
    "    f\"\\u03B1={np.round(np.mean(alphas_lfp_hs),1)}\\u00B1{np.round(np.std(alphas_lfp_hs),3)}\"\n",
    ")\n",
    "\n",
    "# spiking band\n",
    "print(\"\\nSpiking band\")\n",
    "print(\n",
    "    f\"\\u03B1={np.round(np.mean(alphas_spiking_hv),1)}\\u00B1{np.round(np.std(alphas_spiking_hv),1)}\"\n",
    ")\n",
    "print(\n",
    "    f\"\\u03B1={np.round(np.mean(alphas_spiking_nv),1)}\\u00B1{np.round(np.std(alphas_spiking_nv),1)}\"\n",
    ")\n",
    "print(\n",
    "    f\"\\u03B1={np.round(np.mean(alphas_spiking_ns),1)}\\u00B1{np.round(np.std(alphas_spiking_ns),1)}\"\n",
    ")\n",
    "print(\n",
    "    f\"\\u03B1={np.round(np.mean(alphas_spiking_ne),1)}\\u00B1{np.round(np.std(alphas_spiking_ne),1)}\"\n",
    ")\n",
    "print(\n",
    "    f\"\\u03B1={np.round(np.mean(alphas_spiking_hs),1)}\\u00B1{np.round(np.std(alphas_spiking_hs),3)}\"\n",
    ")\n",
    "\n",
    "# print sites\n",
    "print(\"\\n\")\n",
    "print(f\"\"\"n={psd_all_hv[\"power\"].shape[0]} sites\"\"\")\n",
    "print(f\"\"\"n={psd_pre_nv[\"power\"].shape[0]} sites\"\"\")\n",
    "print(f\"\"\"n={psd_pre_ns[\"power\"].shape[0]} sites\"\"\")\n",
    "print(f\"\"\"n={psd_pre_ne[\"power\"].shape[0]} sites\"\"\")\n",
    "print(f\"\"\"n={psd_all_hs[\"power\"].shape[0]} sites\"\"\")\n",
    "\n",
    "# save\n",
    "plt.savefig(\n",
    "    \"figures/0_validation/4_power/fig2p/fig2s_column_npx_pre_power_fit.svg\",\n",
    "    **savefig_cfg,\n",
    ")\n",
    "\n",
    "\n",
    "# SNR **************************\n",
    "print(\"\\nPower SNR\")\n",
    "\n",
    "out_hv = power.get_power_snr(psd_all_hv[\"power\"], psd_all_hv[\"freq\"], 300, 90)\n",
    "out_nv = power.get_power_snr(psd_pre_nv[\"power\"], psd_pre_nv[\"freq\"], 300, 90)\n",
    "out_ns = power.get_power_snr(psd_pre_ns[\"power\"], psd_pre_ns[\"freq\"], 300, 90)\n",
    "out_ne = power.get_power_snr(psd_pre_ne[\"power\"], psd_pre_ne[\"freq\"], 300, 90)\n",
    "out_hs = power.get_power_snr(psd_all_hs[\"power\"], psd_all_hs[\"freq\"], 300, 90)\n",
    "out_nb = power.get_power_snr(psd_pre_nb[\"power\"], psd_pre_nb[\"freq\"], 300, 90)"
   ]
  },
  {
   "cell_type": "markdown",
   "metadata": {},
   "source": [
    "### Increase in SNR"
   ]
  },
  {
   "cell_type": "code",
   "execution_count": null,
   "metadata": {},
   "outputs": [
    {
     "name": "stdout",
     "output_type": "stream",
     "text": [
      "[6.87514250e+05 2.02334666e+02 4.80247327e+02 2.65493266e+04\n",
      " 7.39909298e+03 5.78469444e+02]\n"
     ]
    }
   ],
   "source": [
    "# data were collected from ./psd_fits.ipynb\n",
    "raw = np.array(\n",
    "    [\n",
    "        2.0363214301753455e-05,\n",
    "        0.12849997765278076,\n",
    "        0.020822604202169092,\n",
    "        0.003201587790823464,\n",
    "        0.03094973947782615,\n",
    "        0.17805607736017218,\n",
    "    ]\n",
    ")\n",
    "pre = np.array([14.0, 26.0, 10.0, 85.0, 229.0, 103.0])\n",
    "print(pre / raw)"
   ]
  },
  {
   "cell_type": "markdown",
   "metadata": {},
   "source": [
    "# Layer 1 \n",
    "* probe 1 for horvath"
   ]
  },
  {
   "cell_type": "markdown",
   "metadata": {},
   "source": [
    "##### Compute data"
   ]
  },
  {
   "cell_type": "code",
   "execution_count": 11,
   "metadata": {},
   "outputs": [],
   "source": [
    "layer = \"L1\"\n",
    "\n",
    "# calculate stats and plot data\n",
    "d = power.get_psd_data_prepro(\n",
    "    layer,\n",
    "    psd_pre_hv1,\n",
    "    psd_pre_hs1,\n",
    "    psd_pre_nv,\n",
    "    psd_pre_ns,\n",
    "    psd_pre_ne,\n",
    "    site_ly_hv1[sites_hv1],\n",
    "    site_ly_hs1[sites_hs1],\n",
    "    site_ly_nv[sites_nv],\n",
    "    site_ly_ns[sites_ns],\n",
    "    site_ly_ne[sites_ne],\n",
    ")"
   ]
  },
  {
   "cell_type": "markdown",
   "metadata": {},
   "source": [
    "##### Power law properties"
   ]
  },
  {
   "cell_type": "code",
   "execution_count": 12,
   "metadata": {},
   "outputs": [
    {
     "name": "stdout",
     "output_type": "stream",
     "text": [
      "\n",
      "LFP band\n",
      "α=-0.5±0.0\n",
      "α=-0.1±0.0\n",
      "α=0.0±0.0\n",
      "α=0.0±0.0\n",
      "α=-0.0±0.0\n",
      "\n",
      "Spiking band\n",
      "α=-0.9±0.1\n",
      "α=-0.6±0.1\n",
      "α=-0.2±0.0\n",
      "α=-0.1±0.0\n",
      "α=-0.0±0.1\n",
      "\n",
      "Power SNR\n",
      "SNR: 29.387297633954056\n",
      "SNR: 16.068638788242772\n",
      "SNR: 4.694770748933799\n",
      "SNR: 46.40719687604449\n",
      "SNR: 134.53114339799617\n"
     ]
    },
    {
     "data": {
      "image/png": "[encoded data removed]",
      "text/plain": [
       "<Figure size 100x100 with 1 Axes>"
      ]
     },
     "metadata": {},
     "output_type": "display_data"
    }
   ],
   "source": [
    "# parameterize\n",
    "FIG_SIZE = (1, 1)\n",
    "pm = {\n",
    "    \"linestyle\": \"None\",\n",
    "    \"marker\": \"o\",\n",
    "    \"markersize\": 1.5,\n",
    "    \"rasterized\": True,\n",
    "    \"markeredgecolor\": \"w\",\n",
    "    \"markeredgewidth\": 0.06,\n",
    "}\n",
    "pm_fit1 = {\n",
    "    \"linestyle\": \"-\",\n",
    "    \"linewidth\": 0.5,\n",
    "    \"color\": \"k\",\n",
    "}\n",
    "pm_fit2 = {\n",
    "    \"linestyle\": \"-\",\n",
    "    \"linewidth\": 0.5,\n",
    "    \"color\": \"k\",\n",
    "}\n",
    "\n",
    "# plot\n",
    "fig, ax = plt.subplots(1, 1, figsize=FIG_SIZE)\n",
    "ax, dd = power.plot_power_law_fits(ax, d, prm, cl, pm, pm_fit1, pm_fit2)\n",
    "\n",
    "# save\n",
    "plt.savefig(\"figures/0_validation/4_power/fig2O_L1_pre_power_fit.svg\", **savefig_cfg)"
   ]
  },
  {
   "cell_type": "markdown",
   "metadata": {},
   "source": [
    "### Stats scaling"
   ]
  },
  {
   "cell_type": "code",
   "execution_count": 13,
   "metadata": {},
   "outputs": [
    {
     "data": {
      "image/png": "[encoded data removed]",
      "text/plain": [
       "<Figure size 100x100 with 1 Axes>"
      ]
     },
     "metadata": {},
     "output_type": "display_data"
    },
    {
     "data": {
      "image/png": "[encoded data removed]",
      "text/plain": [
       "<Figure size 130x125 with 1 Axes>"
      ]
     },
     "metadata": {},
     "output_type": "display_data"
    }
   ],
   "source": [
    "# LFP frequency scaling\n",
    "FIG_SIZE = (1, 1)\n",
    "fig, ax = plt.subplots(1, 1, figsize=FIG_SIZE)\n",
    "ax = power.plot_lfp_freq_scaling_stats(ax, dd, cl)\n",
    "\n",
    "# save figures\n",
    "plt.savefig(\n",
    "    \"figures/6_supp/fig2/fig2I_L1_prepro_lfp_scaling.svg\",\n",
    "    bbox_inches=\"tight\",\n",
    "    **savefig_cfg\n",
    ")\n",
    "\n",
    "# Spiking frequency scaling\n",
    "FIG_SIZE = (1.3, 1.25)\n",
    "fig, ax = plt.subplots(1, 1, figsize=FIG_SIZE)\n",
    "ax = power.plot_spiking_freq_scaling_stats(ax, dd, cl)\n",
    "fig.tight_layout(**tight_layout_cfg)\n",
    "\n",
    "# save figures\n",
    "plt.savefig(\n",
    "    \"figures/0_validation/4_power/fig2P_L1_prepro_spiking_scaling.svg\",\n",
    "    bbox_inches=\"tight\",\n",
    "    **savefig_cfg\n",
    ")"
   ]
  },
  {
   "cell_type": "markdown",
   "metadata": {},
   "source": [
    "### Stats of signal power-to-noise ratio"
   ]
  },
  {
   "cell_type": "code",
   "execution_count": 14,
   "metadata": {},
   "outputs": [
    {
     "data": {
      "image/png": "[encoded data removed]",
      "text/plain": [
       "<Figure size 120x120 with 1 Axes>"
      ]
     },
     "metadata": {},
     "output_type": "display_data"
    }
   ],
   "source": [
    "FIG_SIZE = (1.2, 1.2)\n",
    "\n",
    "# plot\n",
    "fig, ax = plt.subplots(1, 1, figsize=FIG_SIZE)\n",
    "ax = power.plot_power_snr_stats(ax, d, cl)\n",
    "fig.tight_layout(**tight_layout_cfg)\n",
    "\n",
    "# save figures\n",
    "plt.savefig(\n",
    "    \"figures/0_validation/4_power/fig2Q_L1_power_snr.svg\",\n",
    "    bbox_inches=\"tight\",\n",
    "    **savefig_cfg\n",
    ")"
   ]
  },
  {
   "cell_type": "markdown",
   "metadata": {},
   "source": [
    "# Layer 2/3"
   ]
  },
  {
   "cell_type": "markdown",
   "metadata": {},
   "source": [
    "### Compute"
   ]
  },
  {
   "cell_type": "code",
   "execution_count": 15,
   "metadata": {},
   "outputs": [],
   "source": [
    "d23 = power.get_psd_data_prepro(\n",
    "    \"L2_3\",\n",
    "    psd_pre_hv1,\n",
    "    psd_pre_hs1,\n",
    "    psd_pre_nv,\n",
    "    psd_pre_ns,\n",
    "    psd_pre_ne,\n",
    "    site_ly_hv1[sites_hv1],\n",
    "    site_ly_hs1[sites_hs1],\n",
    "    site_ly_nv[sites_nv],\n",
    "    site_ly_ns[sites_ns],\n",
    "    site_ly_ne[sites_ne],\n",
    ")"
   ]
  },
  {
   "cell_type": "markdown",
   "metadata": {},
   "source": [
    "## Power law properties"
   ]
  },
  {
   "cell_type": "code",
   "execution_count": 16,
   "metadata": {},
   "outputs": [
    {
     "name": "stdout",
     "output_type": "stream",
     "text": [
      "\n",
      "LFP band\n",
      "α=-0.5±0.0\n",
      "α=-0.1±0.0\n",
      "α=0.0±0.0\n",
      "α=0.0±0.0\n",
      "α=-0.0±0.0\n",
      "\n",
      "Spiking band\n",
      "α=-1.4±0.3\n",
      "α=-0.5±0.2\n",
      "α=-0.3±0.1\n",
      "α=-0.3±0.1\n",
      "α=-0.1±0.1\n",
      "\n",
      "Power SNR\n",
      "SNR: 63.03907185529415\n",
      "SNR: 18.734924823383633\n",
      "SNR: 10.601102556244367\n",
      "SNR: 73.78171489863517\n",
      "SNR: 179.97908791744018\n"
     ]
    },
    {
     "data": {
      "image/png": "[encoded data removed]",
      "text/plain": [
       "<Figure size 100x100 with 1 Axes>"
      ]
     },
     "metadata": {},
     "output_type": "display_data"
    }
   ],
   "source": [
    "# plot\n",
    "FIG_SIZE = (1, 1)\n",
    "fig, ax = plt.subplots(1, 1, figsize=FIG_SIZE)\n",
    "ax, dd23 = power.plot_power_law_fits(ax, d23, prm, cl, pm, pm_fit1, pm_fit2)\n",
    "\n",
    "# save\n",
    "plt.savefig(\"figures/0_validation/4_power/fig2O_L23_pre_power_fit.svg\", **savefig_cfg)"
   ]
  },
  {
   "cell_type": "markdown",
   "metadata": {},
   "source": [
    "## Stats scaling"
   ]
  },
  {
   "cell_type": "code",
   "execution_count": 17,
   "metadata": {},
   "outputs": [
    {
     "data": {
      "image/png": "[encoded data removed]",
      "text/plain": [
       "<Figure size 100x100 with 1 Axes>"
      ]
     },
     "metadata": {},
     "output_type": "display_data"
    },
    {
     "data": {
      "image/png": "[encoded data removed]",
      "text/plain": [
       "<Figure size 130x125 with 1 Axes>"
      ]
     },
     "metadata": {},
     "output_type": "display_data"
    }
   ],
   "source": [
    "# LFP frequency scaling\n",
    "FIG_SIZE = (1, 1)\n",
    "fig, ax = plt.subplots(1, 1, figsize=FIG_SIZE)\n",
    "ax = power.plot_lfp_freq_scaling_stats(ax, dd23, cl)\n",
    "# fig.tight_layout(**tight_layout_cfg)\n",
    "\n",
    "# save figures\n",
    "plt.savefig(\n",
    "    \"figures/6_supp/fig2/fig2I_L23_pre_lfp_scaling.svg\",\n",
    "    bbox_inches=\"tight\",\n",
    "    **savefig_cfg\n",
    ")\n",
    "\n",
    "# Spiking frequency scaling\n",
    "FIG_SIZE = (1.3, 1.25)\n",
    "fig, ax = plt.subplots(1, 1, figsize=FIG_SIZE)\n",
    "ax = power.plot_spiking_freq_scaling_stats(ax, dd23, cl)\n",
    "fig.tight_layout(**tight_layout_cfg)\n",
    "\n",
    "# save figures\n",
    "plt.savefig(\n",
    "    \"figures/0_validation/4_power/fig2P_L23_pre_spiking_scaling.svg\",\n",
    "    bbox_inches=\"tight\",\n",
    "    **savefig_cfg\n",
    ")"
   ]
  },
  {
   "cell_type": "markdown",
   "metadata": {},
   "source": [
    "## Stats signal power-to-noise ratio"
   ]
  },
  {
   "cell_type": "code",
   "execution_count": 18,
   "metadata": {},
   "outputs": [
    {
     "data": {
      "image/png": "[encoded data removed]",
      "text/plain": [
       "<Figure size 120x120 with 1 Axes>"
      ]
     },
     "metadata": {},
     "output_type": "display_data"
    }
   ],
   "source": [
    "# plot\n",
    "FIG_SIZE = (1.2, 1.2)\n",
    "fig, ax = plt.subplots(1, 1, figsize=FIG_SIZE)\n",
    "ax = power.plot_power_snr_stats(ax, d23, cl)\n",
    "fig.tight_layout(**tight_layout_cfg)\n",
    "\n",
    "# save figures\n",
    "plt.savefig(\n",
    "    \"figures/0_validation/4_power/fig2Q_L23_power_snr.svg\",\n",
    "    bbox_inches=\"tight\",\n",
    "    **savefig_cfg\n",
    ")"
   ]
  },
  {
   "cell_type": "markdown",
   "metadata": {},
   "source": [
    "# Layer 4"
   ]
  },
  {
   "cell_type": "markdown",
   "metadata": {},
   "source": [
    "## Compute"
   ]
  },
  {
   "cell_type": "code",
   "execution_count": 19,
   "metadata": {},
   "outputs": [],
   "source": [
    "d4 = power.get_psd_data_prepro(\n",
    "    \"L4\",\n",
    "    psd_pre_hv2,  # probe 2\n",
    "    psd_pre_hs2,\n",
    "    psd_pre_nv,\n",
    "    psd_pre_ns,\n",
    "    psd_pre_ne,\n",
    "    site_ly_hv2[sites_hv2],  # probe 2\n",
    "    site_ly_hs2[sites_hs2],\n",
    "    site_ly_nv[sites_nv],\n",
    "    site_ly_ns[sites_ns],\n",
    "    site_ly_ne[sites_ne],\n",
    ")"
   ]
  },
  {
   "cell_type": "markdown",
   "metadata": {},
   "source": [
    "## Power law properties"
   ]
  },
  {
   "cell_type": "code",
   "execution_count": 20,
   "metadata": {},
   "outputs": [
    {
     "name": "stdout",
     "output_type": "stream",
     "text": [
      "\n",
      "LFP band\n",
      "α=-0.5±0.0\n",
      "α=-0.1±0.0\n",
      "α=0.0±0.0\n",
      "α=0.0±0.0\n",
      "α=0.0±0.0\n",
      "\n",
      "Spiking band\n",
      "α=-1.4±0.1\n",
      "α=-0.4±0.1\n",
      "α=-0.7±0.1\n",
      "α=-0.8±0.1\n",
      "α=-0.5±0.3\n",
      "\n",
      "Power SNR\n",
      "SNR: 12.8699934001426\n",
      "SNR: 27.781285711348186\n",
      "SNR: 31.05958399347922\n",
      "SNR: 131.47135292543894\n",
      "SNR: 167.2910886619861\n"
     ]
    },
    {
     "data": {
      "image/png": "[encoded data removed]",
      "text/plain": [
       "<Figure size 100x100 with 1 Axes>"
      ]
     },
     "metadata": {},
     "output_type": "display_data"
    }
   ],
   "source": [
    "# plot\n",
    "FIG_SIZE = (1, 1)\n",
    "fig, ax = plt.subplots(1, 1, figsize=FIG_SIZE)\n",
    "ax, dd4 = power.plot_power_law_fits(ax, d4, prm, cl, pm, pm_fit1, pm_fit2)\n",
    "\n",
    "# save\n",
    "plt.savefig(\"figures/0_validation/4_power/fig2O_L4_pre_power_fit.svg\", **savefig_cfg)"
   ]
  },
  {
   "cell_type": "markdown",
   "metadata": {},
   "source": [
    "## Stats scaling"
   ]
  },
  {
   "cell_type": "code",
   "execution_count": 21,
   "metadata": {},
   "outputs": [
    {
     "data": {
      "image/png": "[encoded data removed]",
      "text/plain": [
       "<Figure size 100x100 with 1 Axes>"
      ]
     },
     "metadata": {},
     "output_type": "display_data"
    },
    {
     "data": {
      "image/png": "[encoded data removed]",
      "text/plain": [
       "<Figure size 130x125 with 1 Axes>"
      ]
     },
     "metadata": {},
     "output_type": "display_data"
    }
   ],
   "source": [
    "# LFP frequency scaling\n",
    "FIG_SIZE = (1, 1)\n",
    "fig, ax = plt.subplots(1, 1, figsize=FIG_SIZE)\n",
    "ax = power.plot_lfp_freq_scaling_stats(ax, dd4, cl)\n",
    "\n",
    "# save figures\n",
    "plt.savefig(\n",
    "    \"figures/6_supp/fig2/fig2I_L4_pre_lfp_scaling.svg\",\n",
    "    bbox_inches=\"tight\",\n",
    "    **savefig_cfg\n",
    ")\n",
    "\n",
    "# Spiking frequency scaling\n",
    "FIG_SIZE = (1.3, 1.25)\n",
    "fig, ax = plt.subplots(1, 1, figsize=FIG_SIZE)\n",
    "ax = power.plot_spiking_freq_scaling_stats(ax, dd4, cl)\n",
    "fig.tight_layout(**tight_layout_cfg)\n",
    "\n",
    "# save figures\n",
    "plt.savefig(\n",
    "    \"figures/0_validation/4_power/fig2P_L4_pre_spiking_scaling.svg\",\n",
    "    bbox_inches=\"tight\",\n",
    "    **savefig_cfg\n",
    ")"
   ]
  },
  {
   "cell_type": "markdown",
   "metadata": {},
   "source": [
    "## Stats of signal power-to-noise ratio"
   ]
  },
  {
   "cell_type": "code",
   "execution_count": 22,
   "metadata": {},
   "outputs": [
    {
     "data": {
      "image/png": "[encoded data removed]",
      "text/plain": [
       "<Figure size 120x120 with 1 Axes>"
      ]
     },
     "metadata": {},
     "output_type": "display_data"
    }
   ],
   "source": [
    "# plot\n",
    "FIG_SIZE = (1.2, 1.2)\n",
    "fig, ax = plt.subplots(1, 1, figsize=FIG_SIZE)\n",
    "ax = power.plot_power_snr_stats(ax, d4, cl)\n",
    "fig.tight_layout(**tight_layout_cfg)\n",
    "\n",
    "# save figures\n",
    "plt.savefig(\n",
    "    \"figures/0_validation/4_power/fig2Q_L4_power_snr.svg\",\n",
    "    bbox_inches=\"tight\",\n",
    "    **savefig_cfg\n",
    ")"
   ]
  },
  {
   "cell_type": "markdown",
   "metadata": {},
   "source": [
    "# Layer 5"
   ]
  },
  {
   "cell_type": "markdown",
   "metadata": {},
   "source": [
    "## Compute"
   ]
  },
  {
   "cell_type": "code",
   "execution_count": 25,
   "metadata": {},
   "outputs": [],
   "source": [
    "d5 = power.get_psd_data_prepro_layer_5(\n",
    "    \"L5\",\n",
    "    psd_pre_hv2,  # probe 2\n",
    "    psd_pre_hs2,\n",
    "    psd_pre_nv,\n",
    "    psd_pre_ns,\n",
    "    psd_pre_ne,\n",
    "    psd_pre_nb,\n",
    "    site_ly_hv2[sites_hv2],  # probe 2\n",
    "    site_ly_hs2[sites_hs2],\n",
    "    site_ly_nv[sites_nv],\n",
    "    site_ly_ns[sites_ns],\n",
    "    site_ly_ne[sites_ne],\n",
    ")"
   ]
  },
  {
   "cell_type": "code",
   "execution_count": 231,
   "metadata": {},
   "outputs": [],
   "source": [
    "# layer = \"L5\"\n",
    "\n",
    "# # horvath vivo (probe 1)\n",
    "# psd_pre_hv2_ = copy.copy(psd_pre_hv2)\n",
    "# psd_pre_hv2_[\"power\"] = psd_pre_hv2[\"power\"][site_ly_hv2[sites_hv2] == layer, :]\n",
    "\n",
    "# # biophy\n",
    "# psd_pre_hs2_ = copy.copy(psd_pre_hs2)\n",
    "# psd_pre_hs2_[\"power\"] = psd_pre_hs2[\"power\"][site_ly_hs2[sites_hs2] == layer, :]\n",
    "\n",
    "# # neuropixels\n",
    "# # vivo\n",
    "# psd_pre_nv_ = copy.copy(psd_pre_nv)\n",
    "# psd_pre_nv_[\"power\"] = psd_pre_nv[\"power\"][site_ly_nv[sites_nv] == layer, :]\n",
    "\n",
    "# # biophy spont\n",
    "# psd_pre_ns_ = copy.copy(psd_pre_ns)\n",
    "# psd_pre_ns_[\"power\"] = psd_pre_ns[\"power\"][site_ly_ns[sites_ns] == layer, :]\n",
    "\n",
    "# # biophy evoked\n",
    "# psd_pre_ne_ = copy.copy(psd_pre_ne)\n",
    "# psd_pre_ne_[\"power\"] = psd_pre_ne[\"power\"][site_ly_ne[sites_ne] == layer, :]\n",
    "\n",
    "\n",
    "# # (11s) Divide by total power ***********************\n",
    "\n",
    "# psd_pre_hv2_[\"power\"] = (\n",
    "#     psd_pre_hv2_[\"power\"] / psd_pre_hv2_[\"power\"].sum(axis=1)[:, None]\n",
    "# )\n",
    "# psd_pre_hs2_[\"power\"] = (\n",
    "#     psd_pre_hs2_[\"power\"] / psd_pre_hs2_[\"power\"].sum(axis=1)[:, None]\n",
    "# )\n",
    "# psd_pre_nv_[\"power\"] = psd_pre_nv_[\"power\"] / psd_pre_nv_[\"power\"].sum(axis=1)[:, None]\n",
    "# psd_pre_ns_[\"power\"] = psd_pre_ns_[\"power\"] / psd_pre_ns_[\"power\"].sum(axis=1)[:, None]\n",
    "# psd_pre_ne_[\"power\"] = psd_pre_ne_[\"power\"] / psd_pre_ne_[\"power\"].sum(axis=1)[:, None]\n",
    "# psd_pre_nb[\"power\"] = psd_pre_nb[\"power\"] / psd_pre_nb[\"power\"].sum(axis=1)[:, None]\n",
    "\n",
    "\n",
    "# # (11s) Average over sites ***********************\n",
    "\n",
    "# # horvath\n",
    "# # in vivo\n",
    "# psd_mean_pre_hv2 = np.mean(psd_pre_hv2_[\"power\"], axis=0)\n",
    "# # biophy\n",
    "# psd_mean_pre_hs2 = np.mean(psd_pre_hs2_[\"power\"], axis=0)\n",
    "\n",
    "# # neuropixels\n",
    "# # pre\n",
    "# psd_mean_pre_nv = np.mean(psd_pre_nv_[\"power\"], axis=0)\n",
    "# psd_mean_pre_ns = np.mean(psd_pre_ns_[\"power\"], axis=0)\n",
    "# psd_mean_pre_ne = np.mean(psd_pre_ne_[\"power\"], axis=0)\n",
    "# psd_mean_pre_nb = np.mean(psd_pre_nb[\"power\"], axis=0)\n",
    "\n",
    "# # Calculate 95% confidence intervals  ******************\n",
    "\n",
    "# # horvath\n",
    "# # vivo\n",
    "# # probe 1\n",
    "# n_samples = psd_pre_hv2_[\"power\"].shape[0]\n",
    "# ci_pre_hv2 = 1.96 * np.std(psd_pre_hv2_[\"power\"], axis=0) / np.sqrt(n_samples)\n",
    "\n",
    "# # biophy.\n",
    "# # probe 1\n",
    "# n_samples = psd_pre_hs2_[\"power\"].shape[0]\n",
    "# ci_pre_hs2 = 1.96 * np.std(psd_pre_hs2_[\"power\"], axis=0) / np.sqrt(n_samples)\n",
    "\n",
    "# # neuropixels\n",
    "# # vivo\n",
    "# n_samples = psd_pre_nv_[\"power\"].shape[0]\n",
    "# ci_pre_nv = 1.96 * np.std(psd_pre_nv_[\"power\"], axis=0) / np.sqrt(n_samples)\n",
    "# # biophy. spont.\n",
    "# n_samples = psd_pre_ns_[\"power\"].shape[0]\n",
    "# ci_pre_ns = 1.96 * np.std(psd_pre_ns_[\"power\"], axis=0) / np.sqrt(n_samples)\n",
    "# # biophy. evoked\n",
    "# n_samples = psd_pre_ne_[\"power\"].shape[0]\n",
    "# ci_pre_ne = 1.96 * np.std(psd_pre_ne_[\"power\"], axis=0) / np.sqrt(n_samples)\n",
    "# ci_pre_ne = 1.96 * np.std(psd_pre_ne_[\"power\"], axis=0) / np.sqrt(n_samples)\n",
    "# # synth. buccino\n",
    "# n_samples = psd_pre_nb[\"power\"].shape[0]\n",
    "# ci_pre_nb = 1.96 * np.std(psd_pre_nb[\"power\"], axis=0) / np.sqrt(n_samples)\n",
    "# ci_pre_nb = 1.96 * np.std(psd_pre_nb[\"power\"], axis=0) / np.sqrt(n_samples)"
   ]
  },
  {
   "cell_type": "markdown",
   "metadata": {},
   "source": [
    "## Power law properties"
   ]
  },
  {
   "cell_type": "code",
   "execution_count": 27,
   "metadata": {},
   "outputs": [
    {
     "name": "stdout",
     "output_type": "stream",
     "text": [
      "\n",
      "LFP band\n",
      "α=-0.5±0.0\n",
      "α=-0.1±0.0\n",
      "α=0.0±0.0\n",
      "α=-0.0±0.0\n",
      "α=0.0±0.0\n",
      "α=0.0±0.0\n",
      "\n",
      "Spiking band\n",
      "α=-1.5±0.3\n",
      "α=-0.8±0.2\n",
      "α=-1.0±0.2\n",
      "α=-1.1±0.2\n",
      "α=-0.5±0.2\n",
      "α=-1.7±0.2\n",
      "\n",
      "Power SNR\n",
      "SNR: 12.252961328029858\n",
      "SNR: 45.14621853877539\n",
      "SNR: 47.7639973240064\n",
      "SNR: 161.9539809560419\n",
      "SNR: 173.18903860681428\n",
      "SNR: 254.91599137546885\n"
     ]
    },
    {
     "data": {
      "image/png": "[encoded data removed]",
      "text/plain": [
       "<Figure size 100x100 with 1 Axes>"
      ]
     },
     "metadata": {},
     "output_type": "display_data"
    }
   ],
   "source": [
    "# plot\n",
    "FIG_SIZE = (1, 1)\n",
    "fig, ax = plt.subplots(1, 1, figsize=FIG_SIZE)\n",
    "ax, dd5 = power.plot_power_law_fits_layer_5(ax, d5, prm, cl, pm, pm_fit1, pm_fit2)\n",
    "\n",
    "# save\n",
    "plt.savefig(\"figures/0_validation/4_power/fig2O_L5_pre_power_fit.svg\", **savefig_cfg)"
   ]
  },
  {
   "cell_type": "markdown",
   "metadata": {},
   "source": [
    "## Stats scaling"
   ]
  },
  {
   "cell_type": "code",
   "execution_count": 28,
   "metadata": {},
   "outputs": [
    {
     "data": {
      "image/png": "[encoded data removed]",
      "text/plain": [
       "<Figure size 100x100 with 1 Axes>"
      ]
     },
     "metadata": {},
     "output_type": "display_data"
    },
    {
     "data": {
      "image/png": "[encoded data removed]",
      "text/plain": [
       "<Figure size 130x125 with 1 Axes>"
      ]
     },
     "metadata": {},
     "output_type": "display_data"
    }
   ],
   "source": [
    "# LFP frequency scaling\n",
    "FIG_SIZE = (1, 1)\n",
    "fig, ax = plt.subplots(1, 1, figsize=FIG_SIZE)\n",
    "ax = power.plot_lfp_freq_scaling_stats_layer_5(ax, dd5, cl)\n",
    "\n",
    "# save figures\n",
    "plt.savefig(\n",
    "    \"figures/6_supp/fig2/fig2I_L5_pre_lfp_scaling.svg\",\n",
    "    bbox_inches=\"tight\",\n",
    "    **savefig_cfg\n",
    ")\n",
    "\n",
    "# Spiking frequency scaling\n",
    "FIG_SIZE = (1.3, 1.25)\n",
    "fig, ax = plt.subplots(1, 1, figsize=FIG_SIZE)\n",
    "ax = power.plot_spiking_freq_scaling_stats_layer_5(ax, dd5, cl)\n",
    "fig.tight_layout(**tight_layout_cfg)\n",
    "\n",
    "# save figures\n",
    "plt.savefig(\n",
    "    \"figures/0_validation/4_power/fig2P_L5_pre_spiking_scaling.svg\",\n",
    "    bbox_inches=\"tight\",\n",
    "    **savefig_cfg\n",
    ")"
   ]
  },
  {
   "cell_type": "markdown",
   "metadata": {},
   "source": [
    "## Stats SNR"
   ]
  },
  {
   "cell_type": "code",
   "execution_count": 30,
   "metadata": {},
   "outputs": [
    {
     "data": {
      "image/png": "[encoded data removed]",
      "text/plain": [
       "<Figure size 135x125 with 1 Axes>"
      ]
     },
     "metadata": {},
     "output_type": "display_data"
    }
   ],
   "source": [
    "# plot\n",
    "FIG_SIZE = (1.35, 1.25)\n",
    "fig, ax = plt.subplots(1, 1, figsize=FIG_SIZE)\n",
    "ax = power.plot_power_snr_stats_layer_5(ax, d5, cl)\n",
    "fig.tight_layout(**tight_layout_cfg)\n",
    "\n",
    "# save figures\n",
    "plt.savefig(\n",
    "    \"figures/0_validation/4_power/fig2Q_L5_power_snr.svg\",\n",
    "    bbox_inches=\"tight\",\n",
    "    **savefig_cfg\n",
    ")"
   ]
  },
  {
   "cell_type": "markdown",
   "metadata": {},
   "source": [
    "# Layer 6"
   ]
  },
  {
   "cell_type": "markdown",
   "metadata": {},
   "source": [
    "## Compute"
   ]
  },
  {
   "cell_type": "code",
   "execution_count": 31,
   "metadata": {},
   "outputs": [],
   "source": [
    "d6 = power.get_psd_data_prepro(\n",
    "    \"L6\",\n",
    "    psd_pre_hv3,  # probe 3\n",
    "    psd_pre_hs3,\n",
    "    psd_pre_nv,\n",
    "    psd_pre_ns,\n",
    "    psd_pre_ne,\n",
    "    site_ly_hv3[sites_hv3],  # probe 3\n",
    "    site_ly_hs3[sites_hs3],\n",
    "    site_ly_nv[sites_nv],\n",
    "    site_ly_ns[sites_ns],\n",
    "    site_ly_ne[sites_ne],\n",
    ")"
   ]
  },
  {
   "cell_type": "markdown",
   "metadata": {},
   "source": [
    "## Power law properties"
   ]
  },
  {
   "cell_type": "code",
   "execution_count": 32,
   "metadata": {},
   "outputs": [
    {
     "name": "stdout",
     "output_type": "stream",
     "text": [
      "\n",
      "LFP band\n",
      "α=-0.6±0.0\n",
      "α=-0.1±0.0\n",
      "α=0.0±0.0\n",
      "α=0.0±0.0\n",
      "α=-0.0±0.0\n",
      "\n",
      "Spiking band\n",
      "α=-1.2±0.2\n",
      "α=-1.0±0.5\n",
      "α=-0.3±0.1\n",
      "α=-0.3±0.2\n",
      "α=-0.3±0.3\n",
      "\n",
      "Power SNR\n",
      "SNR: 46.83792598094198\n",
      "SNR: 48.268752338530824\n",
      "SNR: 8.258174715239416\n",
      "SNR: 77.0628374053796\n",
      "SNR: 4473.6201428862805\n"
     ]
    },
    {
     "data": {
      "image/png": "[encoded data removed]",
      "text/plain": [
       "<Figure size 100x100 with 1 Axes>"
      ]
     },
     "metadata": {},
     "output_type": "display_data"
    }
   ],
   "source": [
    "# plot\n",
    "FIG_SIZE = (1, 1)\n",
    "fig, ax = plt.subplots(1, 1, figsize=FIG_SIZE)\n",
    "ax, dd6 = power.plot_power_law_fits(ax, d6, prm, cl, pm, pm_fit1, pm_fit2)\n",
    "\n",
    "# save\n",
    "plt.savefig(\"figures/0_validation/4_power/fig2O_L6_pre_power_fit.svg\", **savefig_cfg)"
   ]
  },
  {
   "cell_type": "markdown",
   "metadata": {},
   "source": [
    "## Stats scaling"
   ]
  },
  {
   "cell_type": "code",
   "execution_count": 33,
   "metadata": {},
   "outputs": [
    {
     "data": {
      "image/png": "[encoded data removed]",
      "text/plain": [
       "<Figure size 100x100 with 1 Axes>"
      ]
     },
     "metadata": {},
     "output_type": "display_data"
    },
    {
     "data": {
      "image/png": "[encoded data removed]",
      "text/plain": [
       "<Figure size 130x125 with 1 Axes>"
      ]
     },
     "metadata": {},
     "output_type": "display_data"
    }
   ],
   "source": [
    "# LFP frequency scaling\n",
    "FIG_SIZE = (1, 1)\n",
    "fig, ax = plt.subplots(1, 1, figsize=FIG_SIZE)\n",
    "ax = power.plot_lfp_freq_scaling_stats(ax, dd6, cl)\n",
    "\n",
    "# save figures\n",
    "plt.savefig(\n",
    "    \"figures/6_supp/fig2/fig2I_L6_pre_lfp_scaling.svg\",\n",
    "    bbox_inches=\"tight\",\n",
    "    **savefig_cfg\n",
    ")\n",
    "\n",
    "# Spiking frequency scaling\n",
    "FIG_SIZE = (1.3, 1.25)\n",
    "fig, ax = plt.subplots(1, 1, figsize=FIG_SIZE)\n",
    "ax = power.plot_spiking_freq_scaling_stats(ax, dd6, cl)\n",
    "fig.tight_layout(**tight_layout_cfg)\n",
    "\n",
    "# save figures\n",
    "plt.savefig(\n",
    "    \"figures/0_validation/4_power/fig2P_L6_pre_spiking_scaling.svg\",\n",
    "    bbox_inches=\"tight\",\n",
    "    **savefig_cfg\n",
    ")"
   ]
  },
  {
   "cell_type": "markdown",
   "metadata": {},
   "source": [
    "## Stats SNR"
   ]
  },
  {
   "cell_type": "code",
   "execution_count": 34,
   "metadata": {},
   "outputs": [
    {
     "data": {
      "image/png": "[encoded data removed]",
      "text/plain": [
       "<Figure size 120x120 with 1 Axes>"
      ]
     },
     "metadata": {},
     "output_type": "display_data"
    }
   ],
   "source": [
    "# plot\n",
    "FIG_SIZE = (1.2, 1.2)\n",
    "fig, ax = plt.subplots(1, 1, figsize=FIG_SIZE)\n",
    "ax = power.plot_power_snr_stats(ax, d6, cl)\n",
    "fig.tight_layout(**tight_layout_cfg)\n",
    "\n",
    "# save figures\n",
    "plt.savefig(\n",
    "    \"figures/0_validation/4_power/fig2Q_L6_power_snr.svg\",\n",
    "    bbox_inches=\"tight\",\n",
    "    **savefig_cfg\n",
    ")"
   ]
  },
  {
   "cell_type": "markdown",
   "metadata": {},
   "source": [
    "# Statistics"
   ]
  },
  {
   "cell_type": "markdown",
   "metadata": {},
   "source": [
    "## Layer-average SNR"
   ]
  },
  {
   "cell_type": "code",
   "execution_count": 35,
   "metadata": {},
   "outputs": [],
   "source": [
    "def get_power_snr_stats(out_hv_l1, out_hv_l23, out_hv_l4, out_hv_l5, out_hv_l6):\n",
    "    # calculate power SNR\n",
    "    snr_hv_l1 = out_hv_l1[0] / out_hv_l1[2]\n",
    "    snr_hv_l23 = out_hv_l23[0] / out_hv_l23[2]\n",
    "    snr_hv_l4 = out_hv_l4[0] / out_hv_l4[2]\n",
    "    snr_hv_l5 = out_hv_l5[0] / out_hv_l5[2]\n",
    "    snr_hv_l6 = out_hv_l6[0] / out_hv_l6[2]\n",
    "    # mean\n",
    "    mean_l1 = np.mean([snr_hv_l1, snr_hv_l23, snr_hv_l4, snr_hv_l5, snr_hv_l6])\n",
    "    # 95% CI\n",
    "    ci95_l1 = utils.conf_interv95(\n",
    "        [snr_hv_l1, snr_hv_l23, snr_hv_l4, snr_hv_l5, snr_hv_l6]\n",
    "    )\n",
    "    return mean_l1, ci95_l1"
   ]
  },
  {
   "cell_type": "code",
   "execution_count": 144,
   "metadata": {},
   "outputs": [
    {
     "name": "stdout",
     "output_type": "stream",
     "text": [
      "hv\n",
      "21.502885565163886+-11.18199852951585\n",
      "hs\n",
      "904.0104973053988+-1322.159584366239\n",
      "nv\n",
      "17.920551810306613+-5.663019620341046\n",
      "ns\n",
      "12.393803016387562+-6.92950392993122\n",
      "ne\n",
      "77.63986838485778+-23.371387005135567\n",
      "nb\n",
      "93.05293188618808\n"
     ]
    }
   ],
   "source": [
    "# hv\n",
    "print(\"hv\")\n",
    "mean_snr, ci95_snr = get_power_snr_stats(\n",
    "    out_hv_l1, out_hv_l23, out_hv_l4, out_hv_l5, out_hv_l6\n",
    ")\n",
    "print(f\"{mean_snr}+-{ci95_snr}\")\n",
    "\n",
    "# hs\n",
    "print(\"hs\")\n",
    "mean_snr, ci95_snr = get_power_snr_stats(\n",
    "    out_hs_l1, out_hs_l23, out_hs_l4, out_hs_l5, out_hs_l6\n",
    ")\n",
    "print(f\"{mean_snr}+-{ci95_snr}\")\n",
    "\n",
    "# nv\n",
    "print(\"nv\")\n",
    "mean_snr, ci95_snr = get_power_snr_stats(\n",
    "    out_nv_l1, out_nv_l23, out_nv_l4, out_nv_l5, out_nv_l6\n",
    ")\n",
    "print(f\"{mean_snr}+-{ci95_snr}\")\n",
    "\n",
    "# ns\n",
    "print(\"ns\")\n",
    "mean_snr, ci95_snr = get_power_snr_stats(\n",
    "    out_ns_l1, out_ns_l23, out_ns_l4, out_ns_l5, out_ns_l6\n",
    ")\n",
    "print(f\"{mean_snr}+-{ci95_snr}\")\n",
    "\n",
    "# ne\n",
    "print(\"ne\")\n",
    "mean_snr, ci95_snr = get_power_snr_stats(\n",
    "    out_ne_l1, out_ne_l23, out_ne_l4, out_ne_l5, out_ne_l6\n",
    ")\n",
    "print(f\"{mean_snr}+-{ci95_snr}\")\n",
    "\n",
    "# nb\n",
    "print(\"nb\")\n",
    "snr_nb_l5 = out_nb_l5[0] / out_nb_l5[2]\n",
    "print(snr_nb_l5)"
   ]
  },
  {
   "cell_type": "markdown",
   "metadata": {},
   "source": [
    "# References\n",
    "\n",
    "see plot of known frequency scaling properties of LFP (http://www.scholarpedia.org/article/File:Diffusion-LFP.jpg)\n"
   ]
  }
 ],
 "metadata": {
  "kernelspec": {
   "display_name": "env_kilosort_silico",
   "language": "python",
   "name": "python3"
  },
  "language_info": {
   "codemirror_mode": {
    "name": "ipython",
    "version": 3
   },
   "file_extension": ".py",
   "mimetype": "text/x-python",
   "name": "python",
   "nbconvert_exporter": "python",
   "pygments_lexer": "ipython3",
   "version": "3.9.7"
  },
  "orig_nbformat": 4
 },
 "nbformat": 4,
 "nbformat_minor": 2
}
