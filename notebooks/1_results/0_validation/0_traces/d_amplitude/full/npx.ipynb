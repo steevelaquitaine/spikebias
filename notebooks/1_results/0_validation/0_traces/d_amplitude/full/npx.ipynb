{
 "cells": [
  {
   "cell_type": "markdown",
   "metadata": {},
   "source": [
    "# (6m)Amplitudes\n",
    "\n",
    "author: steeve.laquitaine@epfl.ch  \n",
    "last modified: 22.07.2024  \n",
    "status: up-to-date  \n",
    "\n",
    "\n",
    "TODO: \n",
    "* UPDATE PATHS !"
   ]
  },
  {
   "cell_type": "markdown",
   "metadata": {},
   "source": [
    "## Setup"
   ]
  },
  {
   "cell_type": "code",
   "execution_count": 11,
   "metadata": {},
   "outputs": [
    {
     "name": "stdout",
     "output_type": "stream",
     "text": [
      "The autoreload extension is already loaded. To reload it, use:\n",
      "  %reload_ext autoreload\n",
      "2024-07-23 14:40:49,847 - root - utils.py - get_config - INFO - Reading experiment config.\n",
      "2024-07-23 14:40:49,865 - root - utils.py - get_config - INFO - Reading experiment config. - done\n",
      "2024-07-23 14:40:49,866 - root - utils.py - get_config - INFO - Reading experiment config.\n",
      "2024-07-23 14:40:49,936 - root - utils.py - get_config - INFO - Reading experiment config. - done\n",
      "2024-07-23 14:40:49,936 - root - utils.py - get_config - INFO - Reading experiment config.\n",
      "2024-07-23 14:40:49,964 - root - utils.py - get_config - INFO - Reading experiment config. - done\n",
      "2024-07-23 14:40:49,965 - root - utils.py - get_config - INFO - Reading experiment config.\n",
      "2024-07-23 14:40:49,985 - root - utils.py - get_config - INFO - Reading experiment config. - done\n"
     ]
    }
   ],
   "source": [
    "# import libs\n",
    "%load_ext autoreload\n",
    "%autoreload 2\n",
    "\n",
    "import warnings\n",
    "warnings.simplefilter(action='ignore', category=FutureWarning)\n",
    "warnings.filterwarnings(\"ignore\")\n",
    "\n",
    "import os\n",
    "import multiprocessing\n",
    "import torch\n",
    "import numpy as np\n",
    "from matplotlib import pyplot as plt\n",
    "import spikeinterface as si\n",
    "import pandas as pd\n",
    "import seaborn as sns\n",
    "import matplotlib\n",
    "\n",
    "# move to PROJECT PATH\n",
    "PROJ_PATH = \"/gpfs/bbp.cscs.ch/project/proj85/home/laquitai/spikebias/\"\n",
    "os.chdir(PROJ_PATH)\n",
    "\n",
    "from src.nodes.utils import get_config\n",
    "from src.nodes.validation import amplitude as amp\n",
    "\n",
    "# sampling frequency\n",
    "SF_NV = 30000        \n",
    "SF_NS = 40000\n",
    "SF_NE = 20000\n",
    "SF_NB = 32000\n",
    "\n",
    "\n",
    "# Marques-Smith\n",
    "cfg_nv, _ = get_config(\"vivo_marques\", \"c26\").values() \n",
    "RAW_PATH_nv = cfg_nv[\"raw\"]\n",
    "PREP_PATH_nv = cfg_nv[\"preprocessing\"][\"output\"][\"trace_file_path\"]\n",
    "SNR_PATH_10m_nv = cfg_nv[\"validation\"][\"10m\"][\"trace_snr\"]\n",
    "SNR_PATH_full_nv = cfg_nv[\"validation\"][\"full\"][\"trace_snr\"]\n",
    "\n",
    "# spontaneous biophysical model\n",
    "cfg_ns, param_conf_ns = get_config(\"silico_neuropixels\", \"concatenated\").values()\n",
    "PREP_PATH_ns = cfg_ns[\"preprocessing\"][\"output\"][\"full\"][\"trace_file_path_gain_fitd_adj10perc_less_noise_fitd_int16\"]\n",
    "\n",
    "# evoked biophysical model\n",
    "cfg_ne, _ = get_config(\"silico_neuropixels\", \"stimulus\").values()\n",
    "PREP_PATH_ne = cfg_ne[\"preprocessing\"][\"output\"][\"full\"][\"trace_file_path_gain_fitd_adj10perc_less_noise_fitd_int16\"]\n",
    "\n",
    "# neuropixels (synthetic, Buccino)\n",
    "cfg_nb, param_conf_nb = get_config(\"buccino_2020\", \"2020\").values()\n",
    "PREP_PATH_nb = cfg_nb[\"preprocessing\"][\"output\"][\"trace_file_path_gain_ftd\"]\n",
    "\n",
    "\n",
    "# axes\n",
    "FIG_SIZE = (1.5, 1)\n",
    "COLOR_VIVO = np.array([153, 153, 153]) / 255\n",
    "COLOR_SILI = np.array([228, 26, 28]) / 255\n",
    "COLOR_BUCCI = np.array([55, 126, 184]) / 255\n",
    "COLOR_NE = [1, 0.49, 0]\n",
    "COLOR_MEDIAN = (1, 0.76, 0)\n",
    "\n",
    "# experiment colors\n",
    "cl = dict()\n",
    "cl[\"COLOR_NV\"] = [0.6, 0.6, 0.6]\n",
    "cl[\"COLOR_NS\"] = [0.9, 0.14, 0.15]\n",
    "cl[\"COLOR_NB\"] = [0.22, 0.5, 0.72] # blue\n",
    "cl[\"COLOR_NE\"] = [1, 0.49, 0] # orange\n",
    "cl[\"COLOR_HV\"] = \"k\" # black\n",
    "cl[\"COLOR_HS\"] = np.array([26, 152, 80]) / 255 # green\n",
    "\n",
    "plt.rcParams[\"font.family\"] = \"Arial\"\n",
    "plt.rcParams[\"font.size\"] = 6  # 5-7 with Nature neuroscience as reference\n",
    "plt.rcParams[\"lines.linewidth\"] = 0.5\n",
    "plt.rcParams[\"axes.linewidth\"] = 0.5 #1\n",
    "plt.rcParams[\"axes.spines.top\"] = False\n",
    "plt.rcParams[\"xtick.major.width\"] = 0.5 #0.8 #* 1.3\n",
    "plt.rcParams[\"xtick.minor.width\"] = 0.5 #0.8 #* 1.3\n",
    "plt.rcParams[\"ytick.major.width\"] = 0.5 #0.8 #* 1.3\n",
    "plt.rcParams[\"ytick.minor.width\"] = 0.5 #0.8 #* 1.3\n",
    "plt.rcParams[\"xtick.major.size\"] = 3.5 * 1.1\n",
    "plt.rcParams[\"xtick.minor.size\"] = 2 * 1.1\n",
    "plt.rcParams[\"ytick.major.size\"] = 3.5 * 1.1\n",
    "plt.rcParams[\"ytick.minor.size\"] = 2 * 1.1\n",
    "# legend\n",
    "savefig_cfg = {\"transparent\":True, \"dpi\":300}\n",
    "legend_cfg = {\"frameon\": False, \"handletextpad\": 0.1}\n",
    "tight_layout_cfg = {\"pad\": 0.5}\n",
    "LG_FRAMEON = False              # no legend frame\n",
    "savefig_cfg = {\"transparent\":True, \"dpi\": 300}\n"
   ]
  },
  {
   "cell_type": "markdown",
   "metadata": {},
   "source": [
    "## Specs"
   ]
  },
  {
   "cell_type": "code",
   "execution_count": 6,
   "metadata": {},
   "outputs": [
    {
     "name": "stdout",
     "output_type": "stream",
     "text": [
      "available cpus: 80\n",
      "available gpus: False\n"
     ]
    },
    {
     "data": {
      "text/plain": [
       "['              total        used        free      shared  buff/cache   available',\n",
       " 'Mem:         385268       19366      210598          67      155302      364824',\n",
       " 'Swap:             0           0           0']"
      ]
     },
     "execution_count": 6,
     "metadata": {},
     "output_type": "execute_result"
    }
   ],
   "source": [
    "# cpus, gpu and current memory usage\n",
    "print(\"available cpus:\", multiprocessing.cpu_count())\n",
    "print(\"available gpus:\", torch.cuda.is_available())\n",
    "%system free -m"
   ]
  },
  {
   "cell_type": "markdown",
   "metadata": {},
   "source": [
    "## (.3s)Load datasets\n",
    "\n",
    "* first 10 minutes of recordings for speed"
   ]
  },
  {
   "cell_type": "code",
   "execution_count": 7,
   "metadata": {},
   "outputs": [],
   "source": [
    "# 1 - Load silico and vivo traces\n",
    "# neuropixels\n",
    "RecNS = si.load_extractor(PREP_PATH_ns)\n",
    "RecNV = si.load_extractor(PREP_PATH_nv)\n",
    "RecNB = si.load_extractor(PREP_PATH_nb)\n",
    "RecNE = si.load_extractor(PREP_PATH_ne)\n",
    "\n",
    "# 3. get traces\n",
    "# neuropixels\n",
    "traces_ns = RecNS.get_traces()\n",
    "traces_nv = RecNV.get_traces()\n",
    "traces_nb = RecNB.get_traces()\n",
    "traces_ne = RecNE.get_traces()\n",
    "\n",
    "# 4 - get good sites (in cortex)\n",
    "# neuropixels\n",
    "lyrs = [\"L1\", \"L2/3\", \"L4\", \"L5\", \"L6\"]\n",
    "# silico\n",
    "site_ly_ns = RecNS.get_property(\"layers\")\n",
    "site_ly_ns[site_ly_ns == \"L2\"] = \"L2/3\"\n",
    "site_ly_ns[site_ly_ns == \"L3\"] = \"L2/3\"\n",
    "sites_ns = np.where(np.isin(site_ly_ns, lyrs))[0]\n",
    "# evoked\n",
    "site_ly_ne = RecNE.get_property(\"layers\")\n",
    "site_ly_ne[site_ly_ne == \"L2\"] = \"L2/3\"\n",
    "site_ly_ne[site_ly_ne == \"L3\"] = \"L2/3\"\n",
    "sites_ne = np.where(np.isin(site_ly_ne, lyrs))[0]\n",
    "# vivo\n",
    "site_ly_nv = RecNV.get_property(\"layers\")\n",
    "site_ly_nv = np.array([\"L2/3\" if x == \"L2_3\" else x for x in site_ly_nv])\n",
    "sites_nv = np.where(np.isin(site_ly_nv, lyrs))[0]"
   ]
  },
  {
   "cell_type": "markdown",
   "metadata": {},
   "source": [
    "## (3m)Report amplitudes"
   ]
  },
  {
   "cell_type": "markdown",
   "metadata": {},
   "source": [
    "NS: 361"
   ]
  },
  {
   "cell_type": "code",
   "execution_count": 5,
   "metadata": {},
   "outputs": [
    {
     "name": "stdout",
     "output_type": "stream",
     "text": [
      "Marques-Smith: 362\n",
      "Marques-Smith (all sites): 362\n",
      "Biophy. spont.: 361\n",
      "Biophy. spont. (all sites): 361\n",
      "Biophy. evoked: 387\n",
      "Biophy. evoked (all sites): 387\n"
     ]
    }
   ],
   "source": [
    "# DENSER PROBE (HORVATH)\n",
    "\n",
    "# depth 1\n",
    "print(\"Marques-Smith:\", np.max(np.absolute(traces_nv[:, sites_nv])))\n",
    "print(\"Marques-Smith (all sites):\", np.max(np.absolute(traces_nv)))\n",
    "\n",
    "print(\"Biophy. spont.:\", np.max(np.absolute(traces_ns[:, sites_ns])))\n",
    "print(\"Biophy. spont. (all sites):\", np.max(np.absolute(traces_ns)))\n",
    "\n",
    "print(\"Biophy. evoked:\", np.max(np.absolute(traces_ne[:, sites_ne])))\n",
    "print(\"Biophy. evoked (all sites):\", np.max(np.absolute(traces_ne)))"
   ]
  },
  {
   "cell_type": "markdown",
   "metadata": {},
   "source": [
    "265"
   ]
  },
  {
   "cell_type": "code",
   "execution_count": 6,
   "metadata": {},
   "outputs": [
    {
     "name": "stdout",
     "output_type": "stream",
     "text": [
      "Marques-Smith: 272\n",
      "Synth.: 273\n",
      "Biophy. spont.: 361\n",
      "Biophy. evoked: 387\n"
     ]
    }
   ],
   "source": [
    "# Max amplitude fit of the synthetic model (L5) to Marques-Smith layer 5\n",
    "print(\n",
    "    \"Marques-Smith:\",\n",
    "    np.max(np.absolute(traces_nv[:, RecNV.get_property(\"layers\") == \"L5\"])),\n",
    ")\n",
    "print(\"Synth.:\", np.max(np.absolute(traces_nb)))\n",
    "print(\n",
    "    \"Biophy. spont.:\",\n",
    "    np.max(np.absolute(traces_ns[:, RecNS.get_property(\"layers\") == \"L5\"])),\n",
    ")\n",
    "print(\n",
    "    \"Biophy. evoked:\",\n",
    "    np.max(np.absolute(traces_ne[:, RecNE.get_property(\"layers\") == \"L5\"])),\n",
    ")"
   ]
  },
  {
   "cell_type": "markdown",
   "metadata": {},
   "source": [
    "## (12m)Compute"
   ]
  },
  {
   "cell_type": "code",
   "execution_count": 9,
   "metadata": {},
   "outputs": [
    {
     "data": {
      "text/html": [
       "<div>\n",
       "<style scoped>\n",
       "    .dataframe tbody tr th:only-of-type {\n",
       "        vertical-align: middle;\n",
       "    }\n",
       "\n",
       "    .dataframe tbody tr th {\n",
       "        vertical-align: top;\n",
       "    }\n",
       "\n",
       "    .dataframe thead th {\n",
       "        text-align: right;\n",
       "    }\n",
       "</style>\n",
       "<table border=\"1\" class=\"dataframe\">\n",
       "  <thead>\n",
       "    <tr style=\"text-align: right;\">\n",
       "      <th></th>\n",
       "      <th>amplitude</th>\n",
       "      <th>layer</th>\n",
       "      <th>experiment</th>\n",
       "    </tr>\n",
       "  </thead>\n",
       "  <tbody>\n",
       "    <tr>\n",
       "      <th>100</th>\n",
       "      <td>12</td>\n",
       "      <td>L1</td>\n",
       "      <td>Biophy. evoked</td>\n",
       "    </tr>\n",
       "    <tr>\n",
       "      <th>199</th>\n",
       "      <td>17</td>\n",
       "      <td>L1</td>\n",
       "      <td>Biophy. evoked</td>\n",
       "    </tr>\n",
       "    <tr>\n",
       "      <th>198</th>\n",
       "      <td>16</td>\n",
       "      <td>L1</td>\n",
       "      <td>Biophy. evoked</td>\n",
       "    </tr>\n",
       "    <tr>\n",
       "      <th>150</th>\n",
       "      <td>14</td>\n",
       "      <td>L1</td>\n",
       "      <td>Biophy. evoked</td>\n",
       "    </tr>\n",
       "    <tr>\n",
       "      <th>149</th>\n",
       "      <td>17</td>\n",
       "      <td>L1</td>\n",
       "      <td>Biophy. evoked</td>\n",
       "    </tr>\n",
       "    <tr>\n",
       "      <th>...</th>\n",
       "      <td>...</td>\n",
       "      <td>...</td>\n",
       "      <td>...</td>\n",
       "    </tr>\n",
       "    <tr>\n",
       "      <th>70</th>\n",
       "      <td>242</td>\n",
       "      <td>L6</td>\n",
       "      <td>npx (Marques-Smith)</td>\n",
       "    </tr>\n",
       "    <tr>\n",
       "      <th>71</th>\n",
       "      <td>203</td>\n",
       "      <td>L6</td>\n",
       "      <td>npx (Marques-Smith)</td>\n",
       "    </tr>\n",
       "    <tr>\n",
       "      <th>72</th>\n",
       "      <td>257</td>\n",
       "      <td>L6</td>\n",
       "      <td>npx (Marques-Smith)</td>\n",
       "    </tr>\n",
       "    <tr>\n",
       "      <th>74</th>\n",
       "      <td>165</td>\n",
       "      <td>L6</td>\n",
       "      <td>npx (Marques-Smith)</td>\n",
       "    </tr>\n",
       "    <tr>\n",
       "      <th>0</th>\n",
       "      <td>76</td>\n",
       "      <td>L6</td>\n",
       "      <td>npx (Marques-Smith)</td>\n",
       "    </tr>\n",
       "  </tbody>\n",
       "</table>\n",
       "<p>1014 rows × 3 columns</p>\n",
       "</div>"
      ],
      "text/plain": [
       "     amplitude layer           experiment\n",
       "100         12    L1       Biophy. evoked\n",
       "199         17    L1       Biophy. evoked\n",
       "198         16    L1       Biophy. evoked\n",
       "150         14    L1       Biophy. evoked\n",
       "149         17    L1       Biophy. evoked\n",
       "..         ...   ...                  ...\n",
       "70         242    L6  npx (Marques-Smith)\n",
       "71         203    L6  npx (Marques-Smith)\n",
       "72         257    L6  npx (Marques-Smith)\n",
       "74         165    L6  npx (Marques-Smith)\n",
       "0           76    L6  npx (Marques-Smith)\n",
       "\n",
       "[1014 rows x 3 columns]"
      ]
     },
     "metadata": {},
     "output_type": "display_data"
    }
   ],
   "source": [
    "# maximum per site\n",
    "maxs_nv = np.absolute(traces_nv[:, sites_nv]).max(axis=0)\n",
    "maxs_ns = np.absolute(traces_ns[:, sites_ns]).max(axis=0)\n",
    "maxs_ne = np.absolute(traces_ne[:, sites_ne]).max(axis=0)\n",
    "maxs_nb = np.absolute(traces_nb).max(axis=0)\n",
    "\n",
    "# MS\n",
    "df = pd.DataFrame()\n",
    "df[\"amplitude\"] = maxs_nv\n",
    "df[\"layer\"] = site_ly_nv[sites_nv]\n",
    "df[\"experiment\"] = \"npx (Marques-Smith)\"\n",
    "df = df.sort_values(by=[\"layer\"])\n",
    "\n",
    "# ns\n",
    "df2 = pd.DataFrame()\n",
    "df2[\"amplitude\"] = maxs_ns\n",
    "df2[\"layer\"] = site_ly_ns[sites_ns]\n",
    "df2[\"experiment\"] = \"Biophy. spont.\"\n",
    "df2 = df2.sort_values(by=[\"layer\"])\n",
    "\n",
    "# ne\n",
    "df3 = pd.DataFrame()\n",
    "df3[\"amplitude\"] = maxs_ne\n",
    "df3[\"layer\"] = site_ly_ne[sites_ne]\n",
    "df3[\"experiment\"] = \"Biophy. evoked\"\n",
    "df3 = df3.sort_values(by=[\"layer\"])\n",
    "\n",
    "# nb\n",
    "df4 = pd.DataFrame()\n",
    "df4[\"amplitude\"] = maxs_nb\n",
    "df4[\"layer\"] = \"L5\"\n",
    "df4[\"experiment\"] = \"Synth. (Buccino)\"\n",
    "df4 = df4.sort_values(by=[\"layer\"])\n",
    "\n",
    "# stack\n",
    "plot_data = pd.concat([df, df2, df3, df4])\n",
    "plot_data = plot_data.sort_values(by=[\"experiment\", \"layer\"])\n",
    "display(plot_data)\n",
    "\n",
    "# unit-test\n",
    "layers = [\"L1\", \"L2/3\", \"L4\", \"L5\", \"L6\"]\n",
    "assert df[\"layer\"].unique().tolist() == layers, \"wrong layers\"\n",
    "assert df2[\"layer\"].unique().tolist() == layers, \"wrong layers\"\n",
    "assert df3[\"layer\"].unique().tolist() == layers, \"wrong layers\"\n",
    "assert df4[\"layer\"].unique().tolist() == [\"L5\"], \"wrong layers\""
   ]
  },
  {
   "cell_type": "markdown",
   "metadata": {},
   "source": [
    "## Plot"
   ]
  },
  {
   "cell_type": "code",
   "execution_count": 28,
   "metadata": {},
   "outputs": [
    {
     "data": {
      "image/png": "[encoded data removed]",
      "text/plain": [
       "<Figure size 180x100 with 1 Axes>"
      ]
     },
     "metadata": {},
     "output_type": "display_data"
    }
   ],
   "source": [
    "FIG_SIZE = (1.8, 1)\n",
    "\n",
    "fig, ax = plt.subplots(1, 1, figsize=FIG_SIZE)\n",
    "\n",
    "ax = sns.boxplot(\n",
    "    ax=ax,\n",
    "    data=plot_data,\n",
    "    x=\"layer\",\n",
    "    y=\"amplitude\",\n",
    "    hue=\"experiment\",\n",
    "    notch=True,\n",
    "    hue_order=[\n",
    "        \"npx (Marques-Smith)\",\n",
    "        \"Biophy. spont.\",\n",
    "        \"Biophy. evoked\",\n",
    "        \"Synth. (Buccino)\",\n",
    "    ],\n",
    "    palette=[cl[\"COLOR_NV\"], cl[\"COLOR_NS\"], cl[\"COLOR_NE\"], cl[\"COLOR_NB\"]],\n",
    "    width=0.6,  # width of the boxplots\n",
    "    linewidth=0.5,\n",
    "    flierprops={\n",
    "        \"marker\": \".\",\n",
    "        \"markersize\": 3,\n",
    "    },\n",
    ")\n",
    "\n",
    "ax.set_yscale(\"log\")\n",
    "\n",
    "# minor ticks\n",
    "locmin = matplotlib.ticker.LogLocator(\n",
    "    base=10.0,\n",
    "    subs=np.arange(0, 1.1, 0.1),\n",
    "    numticks=10,\n",
    ")\n",
    "ax.tick_params(which=\"both\")\n",
    "ax.yaxis.set_minor_locator(locmin)\n",
    "\n",
    "# axes\n",
    "ax.spines[[\"top\", \"right\"]].set_visible(False)\n",
    "ax.legend(\"\", frameon=False)\n",
    "\n",
    "# disconnect axes (R style)\n",
    "ax.spines[\"bottom\"].set_position((\"axes\", -0.05))\n",
    "ax.yaxis.set_ticks_position(\"left\")\n",
    "ax.spines[\"left\"].set_position((\"axes\", -0.05))\n",
    "\n",
    "# ax.legend(\"\", frameon=False)\n",
    "ax.set_ylabel(\"Amplitude (\\u03bcV)\")\n",
    "ax.set_xlabel(\"Layer\")\n",
    "ax.set_ylim([0, 400])\n",
    "\n",
    "\n",
    "# customize the boxplot\n",
    "p = 0\n",
    "for box in ax.patches:\n",
    "    if box.__class__.__name__ == \"PathPatch\":\n",
    "        # a list item for each layer group\n",
    "        if p in [0, 1, 2, 3, 4]:\n",
    "            box.set_edgecolor(cl[\"COLOR_NV\"])\n",
    "            # Each box has 6 associated Line2D objects\n",
    "            # (to make the whiskers, fliers, etc.)\n",
    "            # Loop over them here, and use the same colour\n",
    "            # as above\n",
    "            # group 1 (NV)\n",
    "            for k in range(6 * p, 6 * (p + 1)):\n",
    "                ax.lines[k].set_color(cl[\"COLOR_NV\"])  # box\n",
    "                ax.lines[k].set_mfc(cl[\"COLOR_NV\"])  # whisker\n",
    "                ax.lines[k].set_mec(cl[\"COLOR_NV\"])  # fliers\n",
    "            p += 1\n",
    "        elif p in [5, 6, 7, 8, 9]:\n",
    "            # group 2 (NS)\n",
    "            box.set_edgecolor(cl[\"COLOR_NS\"])\n",
    "            for k in range(6 * p, 6 * (p + 1)):\n",
    "                ax.lines[k].set_color(cl[\"COLOR_NS\"])\n",
    "                ax.lines[k].set_mfc(cl[\"COLOR_NS\"])\n",
    "                ax.lines[k].set_mec(cl[\"COLOR_NS\"])\n",
    "            p += 1\n",
    "        elif p in [10, 11, 12, 13, 14]:\n",
    "            box.set_edgecolor(cl[\"COLOR_NE\"])\n",
    "            for k in range(6 * p, 6 * (p + 1)):\n",
    "                ax.lines[k].set_color(cl[\"COLOR_NE\"])\n",
    "                ax.lines[k].set_mfc(cl[\"COLOR_NE\"])\n",
    "                ax.lines[k].set_mec(cl[\"COLOR_NE\"])\n",
    "            p += 1\n",
    "        elif p in [15]:\n",
    "            box.set_edgecolor(cl[\"COLOR_NB\"])\n",
    "            for k in range(6 * p, 6 * (p + 1)):\n",
    "                ax.lines[k].set_color(cl[\"COLOR_NB\"])\n",
    "                ax.lines[k].set_mfc(cl[\"COLOR_NB\"])\n",
    "                ax.lines[k].set_mec(cl[\"COLOR_NB\"])\n",
    "            p += 1\n",
    "\n",
    "# save figures\n",
    "plt.savefig(\n",
    "    \"figures/0_validation/3_amplitude/fig2M/fig2M_npx.svg\",\n",
    "    bbox_inches=\"tight\",\n",
    "    **savefig_cfg\n",
    ")"
   ]
  },
  {
   "cell_type": "markdown",
   "metadata": {},
   "source": [
    "## Hyp. Test"
   ]
  },
  {
   "cell_type": "markdown",
   "metadata": {},
   "source": [
    "### H0: Does Marques-Smith median amplitude change across layers ? YES"
   ]
  },
  {
   "cell_type": "markdown",
   "metadata": {},
   "source": [
    "Dunn's test\n",
    "* Layer 1, 2/3, 4 not different (Dunn's)\n",
    "* 5 is higher than 4\n",
    "* 6 is same as 5."
   ]
  },
  {
   "cell_type": "code",
   "execution_count": 15,
   "metadata": {},
   "outputs": [
    {
     "name": "stdout",
     "output_type": "stream",
     "text": [
      "H=152.8743941927725, p=4.928295200897696e-32\n",
      "N_L1 = 10 sites\n",
      "N_L23 = 42 sites\n",
      "N_L4 = 34 sites\n",
      "N_L5 = 42 sites\n",
      "N_L6 = 98 sites\n"
     ]
    },
    {
     "data": {
      "text/html": [
       "<div>\n",
       "<style scoped>\n",
       "    .dataframe tbody tr th:only-of-type {\n",
       "        vertical-align: middle;\n",
       "    }\n",
       "\n",
       "    .dataframe tbody tr th {\n",
       "        vertical-align: top;\n",
       "    }\n",
       "\n",
       "    .dataframe thead th {\n",
       "        text-align: right;\n",
       "    }\n",
       "</style>\n",
       "<table border=\"1\" class=\"dataframe\">\n",
       "  <thead>\n",
       "    <tr style=\"text-align: right;\">\n",
       "      <th></th>\n",
       "      <th>L1</th>\n",
       "      <th>L2/3</th>\n",
       "      <th>L4</th>\n",
       "      <th>L5</th>\n",
       "      <th>L6</th>\n",
       "    </tr>\n",
       "  </thead>\n",
       "  <tbody>\n",
       "    <tr>\n",
       "      <th>L1</th>\n",
       "      <td>1.000000</td>\n",
       "      <td>7.876522e-01</td>\n",
       "      <td>7.770120e-01</td>\n",
       "      <td>3.974711e-06</td>\n",
       "      <td>3.974711e-06</td>\n",
       "    </tr>\n",
       "    <tr>\n",
       "      <th>L2/3</th>\n",
       "      <td>0.787652</td>\n",
       "      <td>1.000000e+00</td>\n",
       "      <td>9.036291e-02</td>\n",
       "      <td>1.900421e-18</td>\n",
       "      <td>4.757496e-23</td>\n",
       "    </tr>\n",
       "    <tr>\n",
       "      <th>L4</th>\n",
       "      <td>0.777012</td>\n",
       "      <td>9.036291e-02</td>\n",
       "      <td>1.000000e+00</td>\n",
       "      <td>2.814567e-09</td>\n",
       "      <td>1.226009e-10</td>\n",
       "    </tr>\n",
       "    <tr>\n",
       "      <th>L5</th>\n",
       "      <td>0.000004</td>\n",
       "      <td>1.900421e-18</td>\n",
       "      <td>2.814567e-09</td>\n",
       "      <td>1.000000e+00</td>\n",
       "      <td>7.876522e-01</td>\n",
       "    </tr>\n",
       "    <tr>\n",
       "      <th>L6</th>\n",
       "      <td>0.000004</td>\n",
       "      <td>4.757496e-23</td>\n",
       "      <td>1.226009e-10</td>\n",
       "      <td>7.876522e-01</td>\n",
       "      <td>1.000000e+00</td>\n",
       "    </tr>\n",
       "  </tbody>\n",
       "</table>\n",
       "</div>"
      ],
      "text/plain": [
       "            L1          L2/3            L4            L5            L6\n",
       "L1    1.000000  7.876522e-01  7.770120e-01  3.974711e-06  3.974711e-06\n",
       "L2/3  0.787652  1.000000e+00  9.036291e-02  1.900421e-18  4.757496e-23\n",
       "L4    0.777012  9.036291e-02  1.000000e+00  2.814567e-09  1.226009e-10\n",
       "L5    0.000004  1.900421e-18  2.814567e-09  1.000000e+00  7.876522e-01\n",
       "L6    0.000004  4.757496e-23  1.226009e-10  7.876522e-01  1.000000e+00"
      ]
     },
     "execution_count": 15,
     "metadata": {},
     "output_type": "execute_result"
    }
   ],
   "source": [
    "# kruskall-wallis\n",
    "amp.get_kk(plot_data, \"npx (Marques-Smith)\")\n",
    "\n",
    "# perform Dunn's posthoc test using a holm-sidak correction for the p-values\n",
    "# to identify the layer amplitudes that significantly deviate from others\n",
    "amp.get_posthoc_dunn_holm_sidak(plot_data, \"npx (Marques-Smith)\")"
   ]
  },
  {
   "cell_type": "markdown",
   "metadata": {},
   "source": [
    "### H1: Does spont. model's amplitude change across layers? YES"
   ]
  },
  {
   "cell_type": "code",
   "execution_count": 16,
   "metadata": {},
   "outputs": [
    {
     "name": "stdout",
     "output_type": "stream",
     "text": [
      "H=120.96224182280432, p=3.327550887170644e-25\n",
      "N_L1 = 16 sites\n",
      "N_L23 = 47 sites\n",
      "N_L4 = 19 sites\n",
      "N_L5 = 52 sites\n",
      "N_L6 = 68 sites\n"
     ]
    },
    {
     "data": {
      "text/html": [
       "<div>\n",
       "<style scoped>\n",
       "    .dataframe tbody tr th:only-of-type {\n",
       "        vertical-align: middle;\n",
       "    }\n",
       "\n",
       "    .dataframe tbody tr th {\n",
       "        vertical-align: top;\n",
       "    }\n",
       "\n",
       "    .dataframe thead th {\n",
       "        text-align: right;\n",
       "    }\n",
       "</style>\n",
       "<table border=\"1\" class=\"dataframe\">\n",
       "  <thead>\n",
       "    <tr style=\"text-align: right;\">\n",
       "      <th></th>\n",
       "      <th>L1</th>\n",
       "      <th>L2/3</th>\n",
       "      <th>L4</th>\n",
       "      <th>L5</th>\n",
       "      <th>L6</th>\n",
       "    </tr>\n",
       "  </thead>\n",
       "  <tbody>\n",
       "    <tr>\n",
       "      <th>L1</th>\n",
       "      <td>1.000000e+00</td>\n",
       "      <td>3.980106e-06</td>\n",
       "      <td>0.000002</td>\n",
       "      <td>1.617924e-18</td>\n",
       "      <td>4.799396e-03</td>\n",
       "    </tr>\n",
       "    <tr>\n",
       "      <th>L2/3</th>\n",
       "      <td>3.980106e-06</td>\n",
       "      <td>1.000000e+00</td>\n",
       "      <td>0.287096</td>\n",
       "      <td>1.083379e-07</td>\n",
       "      <td>1.187457e-02</td>\n",
       "    </tr>\n",
       "    <tr>\n",
       "      <th>L4</th>\n",
       "      <td>2.454186e-06</td>\n",
       "      <td>2.870963e-01</td>\n",
       "      <td>1.000000</td>\n",
       "      <td>5.793268e-03</td>\n",
       "      <td>5.793268e-03</td>\n",
       "    </tr>\n",
       "    <tr>\n",
       "      <th>L5</th>\n",
       "      <td>1.617924e-18</td>\n",
       "      <td>1.083379e-07</td>\n",
       "      <td>0.005793</td>\n",
       "      <td>1.000000e+00</td>\n",
       "      <td>1.617924e-18</td>\n",
       "    </tr>\n",
       "    <tr>\n",
       "      <th>L6</th>\n",
       "      <td>4.799396e-03</td>\n",
       "      <td>1.187457e-02</td>\n",
       "      <td>0.005793</td>\n",
       "      <td>1.617924e-18</td>\n",
       "      <td>1.000000e+00</td>\n",
       "    </tr>\n",
       "  </tbody>\n",
       "</table>\n",
       "</div>"
      ],
      "text/plain": [
       "                L1          L2/3        L4            L5            L6\n",
       "L1    1.000000e+00  3.980106e-06  0.000002  1.617924e-18  4.799396e-03\n",
       "L2/3  3.980106e-06  1.000000e+00  0.287096  1.083379e-07  1.187457e-02\n",
       "L4    2.454186e-06  2.870963e-01  1.000000  5.793268e-03  5.793268e-03\n",
       "L5    1.617924e-18  1.083379e-07  0.005793  1.000000e+00  1.617924e-18\n",
       "L6    4.799396e-03  1.187457e-02  0.005793  1.617924e-18  1.000000e+00"
      ]
     },
     "execution_count": 16,
     "metadata": {},
     "output_type": "execute_result"
    }
   ],
   "source": [
    "# kruskall-wallis\n",
    "amp.get_kk(plot_data, \"Biophy. spont.\")\n",
    "\n",
    "# perform Dunn's posthoc test using a holm-sidak correction for the p-values\n",
    "# to identify the layer amplitudes that significantly deviate from others\n",
    "amp.get_posthoc_dunn_holm_sidak(plot_data, \"Biophy. spont.\")"
   ]
  },
  {
   "cell_type": "markdown",
   "metadata": {},
   "source": [
    "### H2: Does evoked model's amplitude change across layers? YES"
   ]
  },
  {
   "cell_type": "code",
   "execution_count": 17,
   "metadata": {},
   "outputs": [
    {
     "name": "stdout",
     "output_type": "stream",
     "text": [
      "H=123.3395376193485, p=1.0332794645624923e-25\n",
      "N_L1 = 16 sites\n",
      "N_L23 = 47 sites\n",
      "N_L4 = 19 sites\n",
      "N_L5 = 52 sites\n",
      "N_L6 = 68 sites\n"
     ]
    },
    {
     "data": {
      "text/html": [
       "<div>\n",
       "<style scoped>\n",
       "    .dataframe tbody tr th:only-of-type {\n",
       "        vertical-align: middle;\n",
       "    }\n",
       "\n",
       "    .dataframe tbody tr th {\n",
       "        vertical-align: top;\n",
       "    }\n",
       "\n",
       "    .dataframe thead th {\n",
       "        text-align: right;\n",
       "    }\n",
       "</style>\n",
       "<table border=\"1\" class=\"dataframe\">\n",
       "  <thead>\n",
       "    <tr style=\"text-align: right;\">\n",
       "      <th></th>\n",
       "      <th>L1</th>\n",
       "      <th>L2/3</th>\n",
       "      <th>L4</th>\n",
       "      <th>L5</th>\n",
       "      <th>L6</th>\n",
       "    </tr>\n",
       "  </thead>\n",
       "  <tbody>\n",
       "    <tr>\n",
       "      <th>L1</th>\n",
       "      <td>1.000000e+00</td>\n",
       "      <td>5.453873e-07</td>\n",
       "      <td>3.800899e-09</td>\n",
       "      <td>6.212982e-18</td>\n",
       "      <td>3.228151e-03</td>\n",
       "    </tr>\n",
       "    <tr>\n",
       "      <th>L2/3</th>\n",
       "      <td>5.453873e-07</td>\n",
       "      <td>1.000000e+00</td>\n",
       "      <td>7.857888e-02</td>\n",
       "      <td>5.757171e-06</td>\n",
       "      <td>2.619456e-03</td>\n",
       "    </tr>\n",
       "    <tr>\n",
       "      <th>L4</th>\n",
       "      <td>3.800899e-09</td>\n",
       "      <td>7.857888e-02</td>\n",
       "      <td>1.000000e+00</td>\n",
       "      <td>1.102945e-01</td>\n",
       "      <td>1.729239e-05</td>\n",
       "    </tr>\n",
       "    <tr>\n",
       "      <th>L5</th>\n",
       "      <td>6.212982e-18</td>\n",
       "      <td>5.757171e-06</td>\n",
       "      <td>1.102945e-01</td>\n",
       "      <td>1.000000e+00</td>\n",
       "      <td>7.081225e-18</td>\n",
       "    </tr>\n",
       "    <tr>\n",
       "      <th>L6</th>\n",
       "      <td>3.228151e-03</td>\n",
       "      <td>2.619456e-03</td>\n",
       "      <td>1.729239e-05</td>\n",
       "      <td>7.081225e-18</td>\n",
       "      <td>1.000000e+00</td>\n",
       "    </tr>\n",
       "  </tbody>\n",
       "</table>\n",
       "</div>"
      ],
      "text/plain": [
       "                L1          L2/3            L4            L5            L6\n",
       "L1    1.000000e+00  5.453873e-07  3.800899e-09  6.212982e-18  3.228151e-03\n",
       "L2/3  5.453873e-07  1.000000e+00  7.857888e-02  5.757171e-06  2.619456e-03\n",
       "L4    3.800899e-09  7.857888e-02  1.000000e+00  1.102945e-01  1.729239e-05\n",
       "L5    6.212982e-18  5.757171e-06  1.102945e-01  1.000000e+00  7.081225e-18\n",
       "L6    3.228151e-03  2.619456e-03  1.729239e-05  7.081225e-18  1.000000e+00"
      ]
     },
     "execution_count": 17,
     "metadata": {},
     "output_type": "execute_result"
    }
   ],
   "source": [
    "# kruskall-wallis\n",
    "amp.get_kk(plot_data, \"Biophy. evoked\")\n",
    "\n",
    "# perform Dunn's posthoc test using a holm-sidak correction for the p-values\n",
    "# to identify the layer amplitudes that significantly deviate from others\n",
    "amp.get_posthoc_dunn_holm_sidak(plot_data, \"Biophy. evoked\")"
   ]
  },
  {
   "cell_type": "markdown",
   "metadata": {},
   "source": [
    "### H3: Do the spont. model and M-S amplitudes differ? OFTEN."
   ]
  },
  {
   "cell_type": "code",
   "execution_count": 18,
   "metadata": {},
   "outputs": [
    {
     "name": "stdout",
     "output_type": "stream",
     "text": [
      "\n",
      "layer 1\n",
      "\n",
      "1 vs. 2, z=132.5, p=0.0050175695888443235, N_1=10, N_2=16\n",
      "\n",
      "layer 2/3\n",
      "\n",
      "1 vs. 2, z=27.5, p=8.126699062006951e-22, N_1=42, N_2=47\n",
      "\n",
      "layer 4\n",
      "\n",
      "1 vs. 2, z=51.5, p=2.6828587253456053e-08, N_1=34, N_2=19\n",
      "\n",
      "layer 5\n",
      "\n",
      "1 vs. 2, z=865.0, p=0.08498806738109696, N_1=42, N_2=52\n",
      "1 vs. 2, z=8715.5, p=0.39181311084396553, N_1=42, N_2=384\n",
      "\n",
      "layer 6\n",
      "\n",
      "1 vs. 2, z=5693.0, p=1.0651967842503497e-16, N_1=98, N_2=68\n"
     ]
    }
   ],
   "source": [
    "print(\"\\nlayer 1\\n\")\n",
    "amp.get_mwu(plot_data, \"npx (Marques-Smith)\", \"Biophy. spont.\", \"L1\")\n",
    "\n",
    "print(\"\\nlayer 2/3\\n\")\n",
    "amp.get_mwu(plot_data, \"npx (Marques-Smith)\", \"Biophy. spont.\", \"L2/3\")\n",
    "\n",
    "print(\"\\nlayer 4\\n\")\n",
    "amp.get_mwu(plot_data, \"npx (Marques-Smith)\", \"Biophy. spont.\", \"L4\")\n",
    "\n",
    "print(\"\\nlayer 5\\n\")\n",
    "amp.get_mwu(plot_data, \"npx (Marques-Smith)\", \"Biophy. spont.\", \"L5\")\n",
    "amp.get_mwu(plot_data, \"npx (Marques-Smith)\", \"Synth. (Buccino)\", \"L5\")\n",
    "\n",
    "print(\"\\nlayer 6\\n\")\n",
    "amp.get_mwu(plot_data, \"npx (Marques-Smith)\", \"Biophy. spont.\", \"L6\")"
   ]
  },
  {
   "cell_type": "markdown",
   "metadata": {},
   "source": [
    "### H4: Do evoked model and M-S amplitudes differ? YES?"
   ]
  },
  {
   "cell_type": "code",
   "execution_count": 19,
   "metadata": {},
   "outputs": [
    {
     "name": "stdout",
     "output_type": "stream",
     "text": [
      "\n",
      "layer 1\n",
      "\n",
      "1 vs. 2, z=135.5, p=0.002765951238154765, N_1=10, N_2=16\n",
      "\n",
      "layer 2/3\n",
      "\n",
      "1 vs. 2, z=15.0, p=3.0111929352181764e-23, N_1=42, N_2=47\n",
      "\n",
      "layer 4\n",
      "\n",
      "1 vs. 2, z=11.0, p=3.2764200161103315e-12, N_1=34, N_2=19\n",
      "\n",
      "layer 5\n",
      "\n",
      "1 vs. 2, z=503.5, p=4.042023180805806e-06, N_1=42, N_2=52\n",
      "\n",
      "layer 6\n",
      "\n",
      "1 vs. 2, z=5223.0, p=1.1067832770163676e-10, N_1=98, N_2=68\n"
     ]
    }
   ],
   "source": [
    "print(\"\\nlayer 1\\n\")\n",
    "amp.get_mwu(plot_data, \"npx (Marques-Smith)\", \"Biophy. evoked\", \"L1\")\n",
    "\n",
    "print(\"\\nlayer 2/3\\n\")\n",
    "amp.get_mwu(plot_data, \"npx (Marques-Smith)\", \"Biophy. evoked\", \"L2/3\")\n",
    "\n",
    "print(\"\\nlayer 4\\n\")\n",
    "amp.get_mwu(plot_data, \"npx (Marques-Smith)\", \"Biophy. evoked\", \"L4\")\n",
    "\n",
    "print(\"\\nlayer 5\\n\")\n",
    "amp.get_mwu(plot_data, \"npx (Marques-Smith)\", \"Biophy. evoked\", \"L5\")\n",
    "\n",
    "print(\"\\nlayer 6\\n\")\n",
    "amp.get_mwu(plot_data, \"npx (Marques-Smith)\", \"Biophy. evoked\", \"L6\")"
   ]
  }
 ],
 "metadata": {
  "kernelspec": {
   "display_name": "spikinterf0_100_5",
   "language": "python",
   "name": "python3"
  },
  "language_info": {
   "codemirror_mode": {
    "name": "ipython",
    "version": 3
   },
   "file_extension": ".py",
   "mimetype": "text/x-python",
   "name": "python",
   "nbconvert_exporter": "python",
   "pygments_lexer": "ipython3",
   "version": "3.9.7"
  }
 },
 "nbformat": 4,
 "nbformat_minor": 2
}
