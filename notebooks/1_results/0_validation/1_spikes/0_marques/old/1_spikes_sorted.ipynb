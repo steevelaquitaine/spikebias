{
 "cells": [
  {
   "cell_type": "markdown",
   "metadata": {},
   "source": [
    "# Spikes\n",
    "\n",
    "author: steeve.laquitaine@epfl.ch  \n",
    "purpose: extract spike sorted waveforms"
   ]
  },
  {
   "cell_type": "markdown",
   "metadata": {},
   "source": [
    "### Steps\n",
    "\n",
    "1. Spike sorting (21 min): `notebooks/0_method/4_sorting/silico/0_marques/sorting.ipynb`\n",
    "\n",
    "2. Waveform extraction (23 min): `notebooks/0_method/5_postpro/silico/0_marques/waveform.ipynb`"
   ]
  },
  {
   "cell_type": "code",
   "execution_count": 1,
   "metadata": {},
   "outputs": [
    {
     "name": "stdout",
     "output_type": "stream",
     "text": [
      "2024-01-15 14:06:58,780 - root - utils.py - get_config - INFO - Reading experiment config.\n",
      "2024-01-15 14:06:58,792 - root - utils.py - get_config - INFO - Reading experiment config. - done\n",
      "2024-01-15 14:06:58,793 - root - utils.py - get_config - INFO - Reading experiment config.\n",
      "2024-01-15 14:06:58,808 - root - utils.py - get_config - INFO - Reading experiment config. - done\n"
     ]
    }
   ],
   "source": [
    "# import libs\n",
    "%load_ext autoreload\n",
    "%autoreload 2\n",
    "\n",
    "import warnings\n",
    "warnings.simplefilter(action='ignore', category=FutureWarning)\n",
    "\n",
    "import os\n",
    "import pandas as pd\n",
    "import numpy as np\n",
    "import matplotlib\n",
    "from matplotlib import pyplot as plt\n",
    "import spikeinterface as si\n",
    "import spikeinterface.extractors as se\n",
    "from scipy.optimize import minimize\n",
    "import spikeinterface.full as si_full\n",
    "import seaborn as sns\n",
    "\n",
    "# move to PROJECT PATH\n",
    "PROJ_PATH = \"/gpfs/bbp.cscs.ch/project/proj85/home/laquitai/preprint_2023/\"\n",
    "os.chdir(PROJ_PATH)\n",
    "\n",
    "from src.nodes.utils import get_config\n",
    "from src.nodes.study import amplitude\n",
    "from src.nodes.postpro import waveform\n",
    "\n",
    "# SETUP PARAMETERS\n",
    "MS_BEFORE = 3           # ms\n",
    "MS_AFTER = 3            # ms\n",
    "\n",
    "# vivo\n",
    "data_conf_vivo, param_conf_h_vivo = get_config(\"vivo_marques\", \"c26\").values() \n",
    "RAW_PATH_vivo = data_conf_vivo[\"raw\"]\n",
    "PREP_PATH_vivo = data_conf_vivo[\"preprocessing\"][\"output\"][\"trace_file_path\"]\n",
    "SNR_PATH_vivo = data_conf_vivo[\"postprocessing\"][\"trace_snr\"]\n",
    "STUDY_FOLDER_vivo = data_conf_vivo[\"postprocessing\"][\"waveform\"][\"study\"]\n",
    "\n",
    "# silico\n",
    "data_conf_sili, param_conf_sili = get_config(\"silico_neuropixels\", \"2023_10_18\").values()\n",
    "RAW_PATH_sili = data_conf_sili[\"recording\"][\"input\"]\n",
    "PREP_PATH_sili = data_conf_sili[\"preprocessing\"][\"output\"][\"trace_file_path\"]\n",
    "SNR_PATH_sili = data_conf_sili[\"postprocessing\"][\"trace_snr\"]\n",
    "STUDY_FOLDER_sili = data_conf_sili[\"postprocessing\"][\"waveform\"][\"study\"]\n",
    "\n",
    "\n",
    "# FIGURE SETTINGS\n",
    "COLOR_VIVO = (0.7, 0.7, 0.7)\n",
    "COLOR_SILI = (0.84, 0.27, 0.2)\n",
    "BOX_ASPECT = 1                  # square fig\n",
    "FIG_SIZE = (4,4)\n",
    "plt.rcParams[\"font.family\"] = \"Arial\"\n",
    "plt.rcParams[\"font.size\"] = 24\n",
    "N_MAJOR_TICKS = 6\n",
    "N_MINOR_TICKS = 12\n",
    "legend_cfg = {\"frameon\": False, \"handletextpad\": 0.1}\n",
    "savefig_cfg = {\"transparent\":True}"
   ]
  },
  {
   "cell_type": "code",
   "execution_count": 2,
   "metadata": {},
   "outputs": [],
   "source": [
    "# takes 24 min\n",
    "# load stuffs\n",
    "Recording = si.load_extractor(PREP_PATH_sili)\n",
    "WaveformExtractor = waveform.load(\n",
    "    Recording,\n",
    "    study_folder=STUDY_FOLDER_sili,\n",
    "    ms_before=MS_BEFORE,\n",
    "    ms_after=MS_AFTER,\n",
    ")"
   ]
  },
  {
   "cell_type": "code",
   "execution_count": 9,
   "metadata": {},
   "outputs": [
    {
     "data": {
      "text/plain": [
       "array([  0,   1,   2,   3,   4,   5,   6,   7,   8,   9,  10,  11,  12,\n",
       "        13,  14,  15,  16,  17,  18,  19,  20,  21,  22,  23,  24,  25,\n",
       "        26,  27,  28,  29,  30,  31,  32,  33,  34,  35,  36,  37,  38,\n",
       "        39,  40,  41,  42,  43,  44,  45,  46,  47,  48,  49,  50,  51,\n",
       "        52,  53,  54,  55,  56,  57,  58,  59,  60,  61,  62,  63,  64,\n",
       "        65,  66,  67,  68,  69,  70,  71,  72,  73,  74,  75,  76,  77,\n",
       "        78,  79,  80,  81,  82,  83,  84,  86,  87,  88,  89,  90,  91,\n",
       "        92,  93,  94,  95,  96,  97,  98,  99, 102, 103, 104, 105, 106,\n",
       "       107, 108, 109, 110, 111, 112, 113, 114, 115, 116, 117, 118, 119,\n",
       "       120, 121, 122, 123, 124, 125, 127, 128, 129, 130, 131, 132, 133,\n",
       "       134, 135, 136, 137, 138, 139, 140, 141, 142, 144, 145, 146, 147,\n",
       "       148, 149, 150, 151, 152, 153, 154, 155, 156, 157, 158, 159, 160,\n",
       "       161, 162, 163, 164, 165, 166, 167, 168, 169, 171, 172, 173, 174,\n",
       "       175, 176, 177, 178, 179, 180, 181, 182, 183, 184, 185, 186, 187,\n",
       "       188, 190, 191, 192, 193, 194, 195, 196, 197, 198, 199, 200, 201,\n",
       "       202, 203, 204, 205, 206, 207, 208, 210, 211, 212, 213, 214, 215,\n",
       "       216, 217, 218, 219, 220, 221, 222, 223, 224, 225, 226, 227, 228,\n",
       "       229, 230, 231, 232, 233, 234, 235, 236, 237, 238, 239, 240, 241,\n",
       "       242, 243, 244, 245, 246, 247, 248, 249, 250, 251, 252, 253, 254,\n",
       "       255, 256, 257, 258, 259, 260, 261, 262, 263, 264, 265, 266, 267,\n",
       "       268, 269, 270, 271, 272, 273, 274, 275, 276, 277, 278, 279, 280,\n",
       "       281, 283, 284, 285, 286, 287, 288, 289, 290, 291, 292, 293, 294,\n",
       "       295, 296, 298, 299, 300, 301, 302, 303, 304, 305, 306, 307, 308,\n",
       "       309, 310, 311, 312, 313, 314, 315, 316, 317, 318, 319, 320, 321,\n",
       "       322, 323, 324, 325, 326, 327, 328, 329, 330, 331, 332, 333, 334,\n",
       "       335, 336, 337, 338, 339, 340, 341, 342, 343, 345, 346, 347, 348,\n",
       "       349, 350, 351, 352, 353, 354, 355, 356, 357, 358, 359, 360, 362,\n",
       "       363, 364, 365, 366, 367, 368, 369, 370, 371, 372, 373, 374, 375,\n",
       "       376, 377, 378, 380, 381, 382, 383, 384, 385, 386, 387, 388, 389,\n",
       "       390, 391, 392, 393, 394, 395, 396, 397, 398, 399, 400, 401, 402,\n",
       "       403, 404, 405, 406, 407, 408, 411, 413, 414, 415, 417, 418, 419,\n",
       "       420, 421, 422, 423, 424, 425, 426, 427, 428, 429, 430, 431, 432,\n",
       "       433, 434, 435, 436, 437, 438, 439, 440, 441, 442, 443, 444, 445,\n",
       "       446, 447, 448, 449, 450, 451, 452, 453, 454, 455, 456, 457, 458,\n",
       "       459, 460, 461, 462, 463, 464, 465, 466, 467, 468, 469, 471, 472,\n",
       "       473, 474, 475, 476, 477, 478, 479, 480, 481, 482, 483, 484, 485,\n",
       "       486, 487, 488, 489, 490, 491, 492, 493, 494, 495, 496, 497, 498,\n",
       "       499, 500, 501, 502, 503, 504, 505, 506, 507, 508, 509, 510, 511,\n",
       "       512, 513, 514, 515, 516, 517, 518, 519, 521, 522, 523, 524, 525,\n",
       "       526, 527, 528, 529, 530, 531, 532, 533, 534, 535, 536, 537, 538,\n",
       "       539, 540, 542, 543, 544, 545, 546, 547, 548, 549, 550, 551, 552,\n",
       "       553, 554, 555, 556, 557, 558, 559, 560, 562, 563, 564, 565, 566,\n",
       "       567, 568, 569, 570, 571, 572, 573, 574, 575, 576, 577, 578, 579,\n",
       "       580, 581, 582, 583, 584, 585, 586, 587, 588, 589, 590, 592, 593,\n",
       "       594, 595, 596, 597, 598, 599, 600, 601, 602, 603, 604, 605, 606,\n",
       "       607, 608, 609, 610, 611, 612, 613, 614, 615, 616, 617, 618, 619,\n",
       "       620, 621, 622, 623, 624, 625, 626, 627, 628, 630, 631, 633, 634,\n",
       "       635, 636, 637, 638, 639, 640, 641, 642, 643, 644, 645, 646, 647,\n",
       "       648, 649, 650, 651, 652, 653, 654, 655, 656, 657, 658, 659, 660,\n",
       "       661, 662, 663, 664, 665, 666, 670, 672, 673, 674, 675, 676, 677,\n",
       "       678, 679, 680, 681, 682, 683, 684, 685, 686, 687, 688, 689, 690,\n",
       "       691, 692, 693, 694, 695, 696, 697, 698, 699, 700, 701, 702, 703,\n",
       "       704, 705, 706, 707, 708, 709, 710, 711, 712, 713, 714, 715, 716,\n",
       "       717, 718, 719, 720, 721, 722, 723, 724, 725, 726, 727, 728, 729,\n",
       "       730, 731, 732, 733, 734, 735, 736, 737, 738, 739, 740, 741, 742,\n",
       "       743, 744, 745, 746, 747, 748, 749, 750, 751, 752, 753, 754, 755,\n",
       "       756, 757, 758, 759, 760, 761, 762, 763, 764, 765, 766, 767, 768,\n",
       "       769, 770, 771, 772, 773, 774, 775, 776, 777, 778, 779, 780, 781,\n",
       "       782, 783, 784, 785, 786, 787, 788, 789, 790, 791, 792, 793, 794,\n",
       "       795, 796, 798, 799, 800, 801, 802, 803, 804, 805, 806, 807, 808,\n",
       "       809, 810, 811, 812, 813, 814, 815, 816, 817, 818, 819, 820, 821,\n",
       "       822, 823, 824, 825, 826, 827, 828, 829, 831, 833, 834, 835, 836,\n",
       "       837, 838, 839, 840, 841, 842, 843, 844, 845, 846, 847, 848, 849,\n",
       "       850, 851, 852, 853, 854, 855, 856, 857, 858, 859, 860, 861, 862,\n",
       "       863, 864, 865, 866, 867, 868, 869, 870, 871, 872, 873, 874, 875,\n",
       "       876, 877, 878, 879, 880, 881, 882])"
      ]
     },
     "execution_count": 9,
     "metadata": {},
     "output_type": "execute_result"
    }
   ],
   "source": [
    "# list sorted units\n",
    "WaveformExtractor.unit_ids"
   ]
  },
  {
   "cell_type": "markdown",
   "metadata": {},
   "source": [
    "### Profile 1"
   ]
  },
  {
   "cell_type": "code",
   "execution_count": 8,
   "metadata": {},
   "outputs": [
    {
     "data": {
      "image/png": "[encoded data removed]",
      "text/plain": [
       "<Figure size 300x300 with 1 Axes>"
      ]
     },
     "execution_count": 8,
     "metadata": {},
     "output_type": "execute_result"
    }
   ],
   "source": [
    "# takes 1.5 min\n",
    "fig = waveform.plot(\n",
    "    WaveformExtractor=WaveformExtractor,\n",
    "    cell_id=3,\n",
    "    colors=[(0.5, 0.5, 0.5), (0, 0, 0)],\n",
    "    linewidth_instance=2,\n",
    "    linewidth_mean=5,\n",
    ")\n",
    "fig\n",
    "# plt.savefig(\"figures/2_realism/3_spikes/1_shape/npx384_sim_hex01/spike_shape_1.pdf\")"
   ]
  },
  {
   "cell_type": "code",
   "execution_count": null,
   "metadata": {},
   "outputs": [],
   "source": [
    "##"
   ]
  },
  {
   "cell_type": "code",
   "execution_count": null,
   "metadata": {},
   "outputs": [],
   "source": []
  }
 ],
 "metadata": {
  "kernelspec": {
   "display_name": "npx_10m_384ch_unit_classes",
   "language": "python",
   "name": "python3"
  },
  "language_info": {
   "codemirror_mode": {
    "name": "ipython",
    "version": 3
   },
   "file_extension": ".py",
   "mimetype": "text/x-python",
   "name": "python",
   "nbconvert_exporter": "python",
   "pygments_lexer": "ipython3",
   "version": "3.9.7"
  }
 },
 "nbformat": 4,
 "nbformat_minor": 2
}
