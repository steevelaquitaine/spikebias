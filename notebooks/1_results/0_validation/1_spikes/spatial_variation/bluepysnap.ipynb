{
 "cells": [
  {
   "cell_type": "code",
   "execution_count": 44,
   "metadata": {},
   "outputs": [],
   "source": [
    "import os\n",
    "import yaml\n",
    "from zipfile import ZipFile\n",
    "import pooch\n",
    "\n",
    "with open(\"./proj_cfg.yml\", \"r\", encoding=\"utf-8\") as proj_cfg:\n",
    "    PROJ_PATH = yaml.load(proj_cfg, Loader=yaml.FullLoader)[\"proj_path\"]\n",
    "os.chdir(PROJ_PATH)\n",
    "\n",
    "\n",
    "# Atlas path\n",
    "ATLAS_PATH = os.path.join(PROJ_PATH, \"assets/atlas/\")\n",
    "ATLAS_WRITE_PATH = os.path.join(ATLAS_PATH, \"P14-MEAN\")\n",
    "CIRCUIT_PATH = os.path.join(ATLAS_WRITE_PATH, \"hierarchy.json\")"
   ]
  },
  {
   "cell_type": "code",
   "execution_count": 41,
   "metadata": {},
   "outputs": [
    {
     "data": {
      "text/plain": [
       "False"
      ]
     },
     "execution_count": 41,
     "metadata": {},
     "output_type": "execute_result"
    }
   ],
   "source": [
    "# connect to  Atlas on Harvard dataverse\n",
    "data = pooch.create(\n",
    "    base_url=\"doi:10.7910/DVN/QREN2T\",\n",
    "    path=ATLAS_PATH,\n",
    ")\n",
    "data.load_registry_from_doi()\n",
    "\n",
    "# unit-test that the zip. file exists\n",
    "data.registry_files == [\"atlas.zip\"]\n",
    "\n",
    "# download\n",
    "datafile = data.fetch(\"atlas.zip\")\n",
    "\n",
    "# unzip\n",
    "with ZipFile(ATLAS_PATH + \"atlas.zip\", \"r\") as f:\n",
    "    f.extractall(ATLAS_PATH)\n",
    "\n",
    "# unit-test\n",
    "os.path.isdir(os.path.join(ATLAS_PATH, \"P14-MEAN\"))"
   ]
  },
  {
   "cell_type": "code",
   "execution_count": 64,
   "metadata": {},
   "outputs": [
    {
     "name": "stdout",
     "output_type": "stream",
     "text": [
      "[ 38.7348  38.7348 -38.7348]\n"
     ]
    },
    {
     "data": {
      "text/plain": [
       "set()"
      ]
     },
     "execution_count": 64,
     "metadata": {},
     "output_type": "execute_result"
    }
   ],
   "source": [
    "import voxcell\n",
    "from voxcell.nexus.voxelbrain import Atlas\n",
    "import numpy as np\n",
    "\n",
    "voxels = voxcell.VoxelData.load_nrrd(ATLAS_WRITE_PATH + \"/brain_regions.nrrd\")\n",
    "print(voxels.voxel_dimensions)  # prints array([100., 100., 100.], dtype=float32)\n",
    "\n",
    "atlas = Atlas.open(ATLAS_WRITE_PATH)\n",
    "\n",
    "brain_regions = atlas.load_data(\"brain_regions\")\n",
    "rm = atlas.load_region_map()\n",
    "\n",
    "# count the number of voxels in the VIS region, and all its descendents\n",
    "ids = rm.find(\"VIS\", \"acronym\", with_descendants=True)\n",
    "np.count_nonzero(np.isin(brain_regions.raw, list(ids)))"
   ]
  },
  {
   "cell_type": "code",
   "execution_count": null,
   "metadata": {},
   "outputs": [],
   "source": []
  },
  {
   "cell_type": "code",
   "execution_count": null,
   "metadata": {},
   "outputs": [],
   "source": []
  },
  {
   "cell_type": "markdown",
   "metadata": {},
   "source": [
    "# references\n",
    "\n",
    "https://github.com/BlueBrain/snap/blob/master/doc/source/notebooks/01_circuits.ipynb"
   ]
  }
 ],
 "metadata": {
  "kernelspec": {
   "display_name": "spikinterf0_100_5",
   "language": "python",
   "name": "python3"
  },
  "language_info": {
   "codemirror_mode": {
    "name": "ipython",
    "version": 3
   },
   "file_extension": ".py",
   "mimetype": "text/x-python",
   "name": "python",
   "nbconvert_exporter": "python",
   "pygments_lexer": "ipython3",
   "version": "3.9.7"
  }
 },
 "nbformat": 4,
 "nbformat_minor": 2
}
