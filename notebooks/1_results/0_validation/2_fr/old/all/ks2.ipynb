{
 "cells": [
  {
   "cell_type": "markdown",
   "metadata": {},
   "source": [
    "# Firing rates (KS2)\n",
    "\n",
    "author: steeve.laquitaine@epfl.ch    \n",
    "date: 17.01.2023  \n",
    "last modified: 15.08.2024\n",
    "\n",
    "* 10 minutes of recordings (as sorting accurac and yield likely change with duration). 10 minutes is a duration common to all recordings."
   ]
  },
  {
   "cell_type": "markdown",
   "metadata": {},
   "source": [
    "**Prerequisites**:\n",
    "\n",
    "- processing: engineer recordings, fits noise and amplification, wires probe, records metadata, preprocesses, writes\n",
    "- sorting: sorts and records metadata to SortingExtractors"
   ]
  },
  {
   "cell_type": "markdown",
   "metadata": {},
   "source": [
    "### Setup\n",
    "\n",
    "Activate `spikeinterf..` python3.9 virtual environment (select interpreter - find envs/ path - add kernel)"
   ]
  },
  {
   "cell_type": "code",
   "execution_count": 15,
   "metadata": {},
   "outputs": [
    {
     "name": "stdout",
     "output_type": "stream",
     "text": [
      "The autoreload extension is already loaded. To reload it, use:\n",
      "  %reload_ext autoreload\n",
      "2024-08-15 15:32:33,652 - root - utils.py - get_config - INFO - Reading experiment config.\n",
      "2024-08-15 15:32:33,708 - root - utils.py - get_config - INFO - Reading experiment config. - done\n",
      "2024-08-15 15:32:33,710 - root - utils.py - get_config - INFO - Reading experiment config.\n",
      "2024-08-15 15:32:33,766 - root - utils.py - get_config - INFO - Reading experiment config. - done\n",
      "2024-08-15 15:32:33,768 - root - utils.py - get_config - INFO - Reading experiment config.\n",
      "2024-08-15 15:32:33,849 - root - utils.py - get_config - INFO - Reading experiment config. - done\n",
      "2024-08-15 15:32:33,850 - root - utils.py - get_config - INFO - Reading experiment config.\n",
      "2024-08-15 15:32:33,889 - root - utils.py - get_config - INFO - Reading experiment config. - done\n"
     ]
    }
   ],
   "source": [
    "%load_ext autoreload\n",
    "%autoreload 2\n",
    "from matplotlib import pyplot as plt\n",
    "import numpy as np\n",
    "import os\n",
    "import warnings\n",
    "warnings.simplefilter(action='ignore', category=FutureWarning)\n",
    "warnings.filterwarnings(\"ignore\")\n",
    "\n",
    "# SET PROJECT PATH\n",
    "\n",
    "PROJ_PATH = \"/gpfs/bbp.cscs.ch/project/proj85/home/laquitai/preprint_2023\"\n",
    "os.chdir(PROJ_PATH)\n",
    "from src.nodes.utils import get_config, savefig\n",
    "from src.nodes.validation import firing_rate as fr\n",
    "from src.nodes.validation.npx_probe import firing_rate as fr_npx\n",
    "from src.nodes.validation import firing_rate as fr\n",
    "\n",
    "# SETUP EXPERIMENTS\n",
    "\n",
    "# data [done]\n",
    "cfg_nv, _ = get_config(\"vivo_marques\", \"c26\").values()\n",
    "SORTED_PATH_nv = cfg_nv[\"sorting\"][\"sorters\"][\"kilosort2\"][\"10m\"][\"output\"]\n",
    "\n",
    "# model biophy. spontaneous [done]\n",
    "cfg_ns, _ = get_config(\"silico_neuropixels\", \"concatenated\").values()\n",
    "SORTED_PATH_ns = cfg_ns[\"sorting\"][\"sorters\"][\"kilosort2\"][\"10m\"][\"output\"]\n",
    "\n",
    "# model biophy. evoked (40m)\n",
    "cfg_ne, _ = get_config(\"silico_neuropixels\", \"stimulus\").values()\n",
    "SORTED_PATH_ne = cfg_ne[\"sorting\"][\"sorters\"][\"kilosort2\"][\"10m\"][\"output\"]\n",
    "\n",
    "# Buccino with best fitted gain for layer 5 [done]\n",
    "cfg_nb, _ = get_config(\"buccino_2020\", \"2020\").values()\n",
    "SORTED_PATH_nb = cfg_nb[\"sorting\"][\"sorters\"][\"kilosort2\"][\"10m\"][\"output\"]\n",
    "\n",
    "# PARAMETERS\n",
    "SINGLE_UNIT = True\n",
    "layers = [\"L1\", \"L2/3\", \"L4\", \"L5\", \"L6\"]\n",
    "\n",
    "# SETUP PLOT \n",
    "\n",
    "# set lognormal plot parameters\n",
    "log_x_min = -3.0\n",
    "log_x_max = 3.0\n",
    "nbins = 30\n",
    "\n",
    "# IF you don't want to use the feature, set the value to 1E100\n",
    "# t_dec = 3600 # seconds until experimenter decides a cell is silent\n",
    "t_dec = 1^100 # seconds until experimenter decides a cell is silent\n",
    "\n",
    "cl = dict()\n",
    "cl[\"COLOR_NV\"] = [0.6, 0.6, 0.6]\n",
    "cl[\"COLOR_NS\"] = [0.9, 0.14, 0.15]\n",
    "cl[\"COLOR_NB\"] = [0.22, 0.5, 0.72] # blue\n",
    "cl[\"COLOR_NE\"] = [1, 0.49, 0] # orange\n",
    "cl[\"COLOR_HV\"] = \"k\" # black\n",
    "cl[\"COLOR_HS\"] = np.array([26, 152, 80]) / 255 # green\n",
    "\n",
    "# axes\n",
    "plt.rcParams[\"font.family\"] = \"Arial\"\n",
    "plt.rcParams[\"font.size\"] = 6  # 5-7 with Nature neuroscience as reference\n",
    "plt.rcParams[\"lines.linewidth\"] = 0.5 # typically between 0.5 and 1\n",
    "plt.rcParams[\"axes.linewidth\"] = 0.5\n",
    "plt.rcParams[\"axes.spines.top\"] = False\n",
    "plt.rcParams[\"xtick.major.width\"] = 0.5\n",
    "plt.rcParams[\"xtick.minor.width\"] = 0.5\n",
    "plt.rcParams[\"ytick.major.width\"] = 0.5\n",
    "plt.rcParams[\"ytick.minor.width\"] = 0.5\n",
    "plt.rcParams[\"xtick.major.size\"] = 3.5 * 1.1\n",
    "plt.rcParams[\"xtick.minor.size\"] = 2 * 1.1\n",
    "plt.rcParams[\"ytick.major.size\"] = 3.5 * 1.1\n",
    "plt.rcParams[\"ytick.minor.size\"] = 2 * 1.1\n",
    "# legend\n",
    "legend_cfg = {\"frameon\": False, \"handletextpad\": 0.5}\n",
    "tight_layout_cfg = {\"pad\": 0.001}\n",
    "LG_FRAMEON = False              # no legend frame"
   ]
  },
  {
   "cell_type": "markdown",
   "metadata": {},
   "source": [
    "## Get metadata"
   ]
  },
  {
   "cell_type": "code",
   "execution_count": 16,
   "metadata": {},
   "outputs": [],
   "source": [
    "# get unit metadata\n",
    "df_nv = fr.get_sorted_unit_meta(SORTED_PATH_nv)\n",
    "df_ns = fr.get_sorted_unit_meta(SORTED_PATH_ns)\n",
    "df_ne = fr.get_sorted_unit_meta(SORTED_PATH_ne)\n",
    "df_nb = fr.get_synth_unit_meta(SORTED_PATH_nb)\n",
    "\n",
    "# keep units in cortex\n",
    "df_nv = df_nv[np.isin(df_nv[\"layer\"], [\"L1\", \"L2/3\", \"L4\", \"L5\", \"L6\"])]\n",
    "df_ns = df_ns[np.isin(df_ns[\"layer\"], [\"L1\", \"L2/3\", \"L4\", \"L5\", \"L6\"])]\n",
    "df_ne = df_ne[np.isin(df_ne[\"layer\"], [\"L1\", \"L2/3\", \"L4\", \"L5\", \"L6\"])]\n",
    "\n",
    "# unit-test: check all in cortex\n",
    "assert all(\n",
    "    np.isin(np.sort(df_nv[\"layer\"].unique()), [\"L1\", \"L2/3\", \"L4\", \"L5\", \"L6\"])\n",
    "), \"nor all in cortex\"\n",
    "assert all(\n",
    "    np.isin(np.sort(df_ns[\"layer\"].unique()), [\"L1\", \"L2/3\", \"L4\", \"L5\", \"L6\"])\n",
    "), \"nor all in cortex\"\n",
    "assert all(\n",
    "    np.isin(np.sort(df_nv[\"layer\"].unique()), [\"L1\", \"L2/3\", \"L4\", \"L5\", \"L6\"])\n",
    "), \"nor all in cortex\""
   ]
  },
  {
   "cell_type": "markdown",
   "metadata": {},
   "source": [
    "## Curate/or not"
   ]
  },
  {
   "cell_type": "markdown",
   "metadata": {},
   "source": [
    "- evidence that false positives are low amplitude sorted spikes\n",
    "- evidence that L1 silico best matches L1 vivo when selecting higher amplitude spikes\n",
    "- evidence that other layers best match when selecting all spikes"
   ]
  },
  {
   "cell_type": "code",
   "execution_count": 17,
   "metadata": {},
   "outputs": [],
   "source": [
    "if SINGLE_UNIT:\n",
    "    df_nv = df_nv[df_nv[\"kslabel\"] == \"good\"]\n",
    "    df_ns = df_ns[df_ns[\"kslabel\"] == \"good\"]\n",
    "    df_ne = df_ne[df_ne[\"kslabel\"] == \"good\"]\n",
    "    df_nb = df_nb[df_nb[\"kslabel\"] == \"good\"]"
   ]
  },
  {
   "cell_type": "markdown",
   "metadata": {},
   "source": [
    "## Sorted units total"
   ]
  },
  {
   "cell_type": "code",
   "execution_count": 18,
   "metadata": {},
   "outputs": [
    {
     "name": "stdout",
     "output_type": "stream",
     "text": [
      "M: total sorted unit: 1090\n",
      "NS: total sorted unit: 1534\n",
      "E: total sorted unit: 1370\n",
      "S: total sorted unit: 1590\n"
     ]
    }
   ],
   "source": [
    "print(\"M: total sorted unit:\", df_nv.shape[0])\n",
    "print(\"NS: total sorted unit:\", df_ns.shape[0])\n",
    "print(\"E: total sorted unit:\", df_ne.shape[0])\n",
    "print(\"S: total sorted unit:\", df_nb.shape[0])"
   ]
  },
  {
   "cell_type": "markdown",
   "metadata": {},
   "source": [
    "### Fr. stats"
   ]
  },
  {
   "cell_type": "code",
   "execution_count": 19,
   "metadata": {},
   "outputs": [
    {
     "data": {
      "image/png": "[encoded data removed]",
      "text/plain": [
       "<Figure size 120x100 with 1 Axes>"
      ]
     },
     "metadata": {},
     "output_type": "display_data"
    }
   ],
   "source": [
    "# FIGSIZE = (1.8, 1)\n",
    "FIGSIZE = (1.2, 1)\n",
    "\n",
    "fig, ax = plt.subplots(1, figsize=FIGSIZE)\n",
    "ax, _ = fr_npx.plot_fr_stats_by_layer(ax, df_nv, df_ns, df_ne, df_nb, layers, cl)\n",
    "ax.set_yticks([-3, -2, -1, 0, 1, 2], [-3, -2, -1, 0, 1, 2])\n",
    "savefig(\n",
    "    \"figures/0_validation/6_firing_rate/assets/fig4J_logfr_stats_ks2.svg\",\n",
    ")"
   ]
  },
  {
   "cell_type": "markdown",
   "metadata": {},
   "source": [
    "### Var. stats"
   ]
  },
  {
   "cell_type": "code",
   "execution_count": 20,
   "metadata": {},
   "outputs": [
    {
     "name": "stderr",
     "output_type": "stream",
     "text": [
      "/gpfs/bbp.cscs.ch/project/proj85/scratch/laquitai/4_preprint_2023/envs/spikinterf0_100_5/lib/python3.9/site-packages/numpy/core/fromnumeric.py:3787: RuntimeWarning: Degrees of freedom <= 0 for slice\n",
      "  return _methods._var(a, axis=axis, dtype=dtype, out=out, ddof=ddof,\n",
      "/gpfs/bbp.cscs.ch/project/proj85/scratch/laquitai/4_preprint_2023/envs/spikinterf0_100_5/lib/python3.9/site-packages/numpy/core/_methods.py:163: RuntimeWarning: invalid value encountered in divide\n",
      "  arrmean = um.true_divide(arrmean, div, out=arrmean,\n",
      "/gpfs/bbp.cscs.ch/project/proj85/scratch/laquitai/4_preprint_2023/envs/spikinterf0_100_5/lib/python3.9/site-packages/numpy/core/_methods.py:198: RuntimeWarning: invalid value encountered in scalar divide\n",
      "  ret = ret.dtype.type(ret / rcount)\n"
     ]
    },
    {
     "data": {
      "image/png": "[encoded data removed]",
      "text/plain": [
       "<Figure size 120x100 with 1 Axes>"
      ]
     },
     "metadata": {},
     "output_type": "display_data"
    }
   ],
   "source": [
    "# FIGSIZE = (1.8, 1)\n",
    "FIGSIZE = (1.2, 1)\n",
    "\n",
    "fig, ax = plt.subplots(1, figsize=FIGSIZE)\n",
    "ax, _ = fr_npx.plot_fr_std_stats_by_layer(ax, df_nv, df_ns, df_ne, df_nb, layers, cl)\n",
    "ax.set_yticks([0, 0.5, 1, 1.5, 2, 2.5, 3], [0, 0.5, 1, 1.5, 2, 2.5, 3])\n",
    "ax.set_ylim([-0.1, 3])\n",
    "savefig(\n",
    "    \"figures/0_validation/6_firing_rate/assets/fig4K_std_logfr_stats_ks2.svg\",\n",
    ")"
   ]
  },
  {
   "cell_type": "markdown",
   "metadata": {},
   "source": [
    "#### Plot FR by layer"
   ]
  },
  {
   "cell_type": "code",
   "execution_count": 21,
   "metadata": {},
   "outputs": [
    {
     "name": "stderr",
     "output_type": "stream",
     "text": [
      "/gpfs/bbp.cscs.ch/project/proj85/home/laquitai/spikebias/src/nodes/postpro/spikestats.py:85: RuntimeWarning: invalid value encountered in scalar divide\n",
      "  mn_all = np.sum(np.log10(data_all) * p_all) / np.sum(p_all)\n",
      "/gpfs/bbp.cscs.ch/project/proj85/home/laquitai/spikebias/src/nodes/postpro/spikestats.py:86: RuntimeWarning: invalid value encountered in scalar divide\n",
      "  sd_all = np.sum(np.abs(np.log10(data_all) * p_all - mn_all)) / np.sum(p_all)\n",
      "/gpfs/bbp.cscs.ch/project/proj85/home/laquitai/spikebias/src/nodes/postpro/spikestats.py:89: RuntimeWarning: invalid value encountered in divide\n",
      "  ax.plot(x_bins[1:], H_all/H_all.sum(), marker=\"o\", ls=\"none\", markersize=markersize, label=label, markerfacecolor=markerfacecolor, markeredgecolor=markeredgecolor)\n",
      "/gpfs/bbp.cscs.ch/project/proj85/home/laquitai/spikebias/src/nodes/postpro/spikestats.py:119: RuntimeWarning: invalid value encountered in divide\n",
      "  \"y_data\": H_all/H_all.sum(),\n",
      "/gpfs/bbp.cscs.ch/project/proj85/home/laquitai/spikebias/src/nodes/postpro/spikestats.py:85: RuntimeWarning: invalid value encountered in scalar divide\n",
      "  mn_all = np.sum(np.log10(data_all) * p_all) / np.sum(p_all)\n",
      "/gpfs/bbp.cscs.ch/project/proj85/home/laquitai/spikebias/src/nodes/postpro/spikestats.py:86: RuntimeWarning: invalid value encountered in scalar divide\n",
      "  sd_all = np.sum(np.abs(np.log10(data_all) * p_all - mn_all)) / np.sum(p_all)\n",
      "/gpfs/bbp.cscs.ch/project/proj85/home/laquitai/spikebias/src/nodes/postpro/spikestats.py:89: RuntimeWarning: invalid value encountered in divide\n",
      "  ax.plot(x_bins[1:], H_all/H_all.sum(), marker=\"o\", ls=\"none\", markersize=markersize, label=label, markerfacecolor=markerfacecolor, markeredgecolor=markeredgecolor)\n",
      "/gpfs/bbp.cscs.ch/project/proj85/home/laquitai/spikebias/src/nodes/postpro/spikestats.py:119: RuntimeWarning: invalid value encountered in divide\n",
      "  \"y_data\": H_all/H_all.sum(),\n"
     ]
    },
    {
     "data": {
      "image/png": "[encoded data removed]",
      "text/plain": [
       "<Figure size 100x500 with 6 Axes>"
      ]
     },
     "metadata": {},
     "output_type": "display_data"
    }
   ],
   "source": [
    "# FIGSIZE = (1.8, 6)\n",
    "FIGSIZE = (1, 5)\n",
    "\n",
    "fig, axes = plt.subplots(len(layers) + 1, 1, figsize=FIGSIZE)\n",
    "fr_npx.plot_fr_by_layer(\n",
    "    axes, df_nv, df_ns, df_ne, df_nb, layers, log_x_min, log_x_max, nbins, t_dec, cl\n",
    ")\n",
    "savefig(\n",
    "    \"figures/0_validation/6_firing_rate/assets/fig4L_npx_fr_ks2.svg\",\n",
    ")"
   ]
  }
 ],
 "metadata": {
  "kernelspec": {
   "display_name": "firing_rate",
   "language": "python",
   "name": "python3"
  },
  "language_info": {
   "codemirror_mode": {
    "name": "ipython",
    "version": 3
   },
   "file_extension": ".py",
   "mimetype": "text/x-python",
   "name": "python",
   "nbconvert_exporter": "python",
   "pygments_lexer": "ipython3",
   "version": "3.9.7"
  },
  "orig_nbformat": 4
 },
 "nbformat": 4,
 "nbformat_minor": 2
}
