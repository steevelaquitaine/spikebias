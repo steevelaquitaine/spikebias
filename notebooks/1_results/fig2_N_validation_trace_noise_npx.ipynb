{
 "cells": [
  {
   "attachments": {},
   "cell_type": "markdown",
   "metadata": {},
   "source": [
    "# (1m)Noise\n",
    "\n",
    "* **author**: steeve.laquitaine@epfl.ch  \n",
    "* **purpose**: validation of trace background noise."
   ]
  },
  {
   "attachments": {},
   "cell_type": "markdown",
   "metadata": {},
   "source": [
    "### Setup\n",
    "\n",
    "1. Pre-compute data with mpi on several nodes with `sbatch src/pipes/validation/noise/mpi_npx_full.py`\n",
    "\n",
    "2. Setup `spikeinterf` venv\n",
    "\n"
   ]
  },
  {
   "cell_type": "code",
   "execution_count": 1,
   "metadata": {},
   "outputs": [
    {
     "name": "stdout",
     "output_type": "stream",
     "text": [
      "2024-12-10 15:27:19,986 - root - utils.py - get_config - INFO - Reading experiment config.\n",
      "2024-12-10 15:27:20,020 - root - utils.py - get_config - INFO - Reading experiment config. - done\n",
      "2024-12-10 15:27:20,022 - root - utils.py - get_config - INFO - Reading experiment config.\n",
      "2024-12-10 15:27:20,057 - root - utils.py - get_config - INFO - Reading experiment config. - done\n",
      "2024-12-10 15:27:20,058 - root - utils.py - get_config - INFO - Reading experiment config.\n",
      "2024-12-10 15:27:20,080 - root - utils.py - get_config - INFO - Reading experiment config. - done\n",
      "2024-12-10 15:27:20,082 - root - utils.py - get_config - INFO - Reading experiment config.\n",
      "2024-12-10 15:27:20,138 - root - utils.py - get_config - INFO - Reading experiment config. - done\n"
     ]
    }
   ],
   "source": [
    "%load_ext autoreload\n",
    "%autoreload 2\n",
    "\n",
    "import warnings\n",
    "warnings.simplefilter(action='ignore', category=FutureWarning)\n",
    "\n",
    "import os\n",
    "import pandas as pd\n",
    "import numpy as np\n",
    "from matplotlib import pyplot as plt\n",
    "import spikeinterface as si\n",
    "import multiprocessing\n",
    "import torch\n",
    "import copy\n",
    "import seaborn as sns\n",
    "\n",
    "# move to PROJECT PATH\n",
    "PROJ_PATH = \"/gpfs/bbp.cscs.ch/project/proj85/home/laquitai/spikebias/\"\n",
    "os.chdir(PROJ_PATH)\n",
    "\n",
    "from src.nodes.utils import get_config, get_stats_config, standardize_layers\n",
    "from src.nodes.validation import noise\n",
    "\n",
    "# vivo\n",
    "data_conf_v, param_conf_v = get_config(\"vivo_marques\", \"c26\").values() \n",
    "RAW_PATH_v = data_conf_v[\"raw\"]\n",
    "PREP_PATH_v = data_conf_v[\"preprocessing\"][\"full\"][\"output\"][\"trace_file_path\"]\n",
    "NOISE_PATH_v = data_conf_v[\"validation\"][\"noise\"][\"full\"]\n",
    "\n",
    "# silico best fitted gain and noise\n",
    "data_conf_s, param_conf_s = get_config(\"silico_neuropixels\", \"npx_spont\").values()\n",
    "RAW_PATH_s = data_conf_s[\"probe_wiring\"][\"full\"][\"output\"]\n",
    "PREP_PATH_s = data_conf_s[\"preprocessing\"][\"full\"][\"output\"][\"trace_file_path\"]\n",
    "NOISE_PATH_s = data_conf_s[\"validation\"][\"noise\"][\"full\"]\n",
    "\n",
    "# Buccino with best fitted gain for layer 5\n",
    "data_conf_b, _ = get_config(\"buccino_2020\", \"2020\").values()\n",
    "RAW_PATH_b = data_conf_b[\"probe_wiring\"][\"full\"][\"output\"]\n",
    "PREP_PATH_b = data_conf_b[\"preprocessing\"][\"full\"][\"output\"][\"trace_file_path\"]\n",
    "NOISE_PATH_b = data_conf_b[\"validation\"][\"noise\"][\"full\"]\n",
    "\n",
    "# neuropixels (evoked biophysical model)\n",
    "cfg_ne, _ = get_config(\"silico_neuropixels\", \"npx_evoked\").values()\n",
    "RAW_PATH_ne = cfg_ne[\"probe_wiring\"][\"full\"][\"output\"]\n",
    "PREP_PATH_ne = cfg_ne[\"preprocessing\"][\"full\"][\"output\"][\"trace_file_path\"]\n",
    "NOISE_PATH_ne = cfg_ne[\"validation\"][\"noise\"][\"full\"]\n",
    "\n",
    "# parameters\n",
    "LAYERS = [\"L1\", \"L2/3\", \"L4\", \"L5\", \"L6\"]\n",
    "SFREQ_V = 30000          # sampling frequency\n",
    "SFREQ_S = 40000        # sampling frequency\n",
    "SFREQ_B = 32000        # sampling frequency\n",
    "SFREQ_E = 20000        # sampling frequency\n",
    "\n",
    "# pipeline parameters\n",
    "SAVE_FIG = True\n",
    "SAVE_TEMP_DATA = False\n",
    "LOAD_TEMP_DATA = True\n",
    "\n",
    "# save paths\n",
    "PLOT_DATA_PATH = get_stats_config()[\"fig2n_data_noise_npx\"]\n",
    "\n",
    "# FIGURE SETTINGS\n",
    "FIG_SIZE = (1.8, 1.6)\n",
    "COLOR_VIVO = np.array([153, 153, 153]) / 255\n",
    "COLOR_SILI = np.array([228, 26, 28]) / 255\n",
    "COLOR_BUCCI = np.array([55, 126, 184]) / 255\n",
    "COLOR_NE = [1, 0.49, 0]\n",
    "\n",
    "# experiment colors\n",
    "cl = dict()\n",
    "cl[\"COLOR_NV\"] = [0.6, 0.6, 0.6]\n",
    "cl[\"COLOR_NS\"] = [0.9, 0.14, 0.15]\n",
    "cl[\"COLOR_NB\"] = [0.22, 0.5, 0.72] # blue\n",
    "cl[\"COLOR_NE\"] = [1, 0.49, 0] # orange\n",
    "cl[\"COLOR_HV\"] = \"k\" # black\n",
    "cl[\"COLOR_HS\"] = np.array([26, 152, 80]) / 255 # green\n",
    "\n",
    "# axes\n",
    "plt.rcParams[\"font.family\"] = \"Arial\"\n",
    "plt.rcParams[\"font.size\"] = 6  # 5-7 with Nature neuroscience as reference\n",
    "plt.rcParams[\"lines.linewidth\"] = 0.5 # typically between 0.5 and 1\n",
    "plt.rcParams[\"axes.linewidth\"] = 0.5 #1\n",
    "plt.rcParams[\"axes.spines.top\"] = False\n",
    "plt.rcParams[\"xtick.major.width\"] = 0.5 #0.8 #* 1.3\n",
    "plt.rcParams[\"xtick.minor.width\"] = 0.5 #0.8 #* 1.3\n",
    "plt.rcParams[\"ytick.major.width\"] = 0.5 #0.8 #* 1.3\n",
    "plt.rcParams[\"ytick.minor.width\"] = 0.5 #0.8 #* 1.3\n",
    "plt.rcParams[\"xtick.major.size\"] = 3.5 * 1.1\n",
    "plt.rcParams[\"xtick.minor.size\"] = 2 * 1.1\n",
    "plt.rcParams[\"ytick.major.size\"] = 3.5 * 1.1\n",
    "plt.rcParams[\"ytick.minor.size\"] = 2 * 1.1\n",
    "# legend\n",
    "savefig_cfg = {\"transparent\":True, \"dpi\": 300}\n",
    "legend_cfg = {\"frameon\": False, \"handletextpad\": 0.5}\n",
    "tight_layout_cfg = {\"pad\": 0.5}\n",
    "LG_FRAMEON = False              # no legend frame"
   ]
  },
  {
   "cell_type": "markdown",
   "metadata": {},
   "source": [
    "### Specs"
   ]
  },
  {
   "cell_type": "code",
   "execution_count": 2,
   "metadata": {},
   "outputs": [
    {
     "name": "stdout",
     "output_type": "stream",
     "text": [
      "available cpus: 72\n",
      "available gpus: True\n"
     ]
    }
   ],
   "source": [
    "print(\"available cpus:\", multiprocessing.cpu_count())\n",
    "print(\"available gpus:\", torch.cuda.is_available())"
   ]
  },
  {
   "cell_type": "markdown",
   "metadata": {},
   "source": [
    "### Precompute\n",
    "\n",
    "* run with mpi on several nodes: `sbatch cluster/validation/noise/mpi_npx_full.sh`"
   ]
  },
  {
   "cell_type": "markdown",
   "metadata": {},
   "source": [
    "### (1s)Load datasets\n",
    "\n",
    "* first 10 minutes of recordings\n"
   ]
  },
  {
   "cell_type": "code",
   "execution_count": 2,
   "metadata": {},
   "outputs": [
    {
     "name": "stderr",
     "output_type": "stream",
     "text": [
      "/gpfs/bbp.cscs.ch/project/proj85/laquitai/spikebias_paper/envs/spikinterf0_100_5/lib/python3.9/site-packages/spikeinterface/core/base.py:1079: UserWarning: Versions are not the same. This might lead to compatibility errors. Using spikeinterface==0.96.1 is recommended\n",
      "  warnings.warn(\n",
      "/gpfs/bbp.cscs.ch/project/proj85/laquitai/spikebias_paper/envs/spikinterf0_100_5/lib/python3.9/site-packages/spikeinterface/core/binaryrecordingextractor.py:78: UserWarning: `num_chan` is to be deprecated in version 0.100, please use `num_channels` instead\n",
      "  warnings.warn(\"`num_chan` is to be deprecated in version 0.100, please use `num_channels` instead\")\n"
     ]
    }
   ],
   "source": [
    "RecV = si.load_extractor(PREP_PATH_v)\n",
    "RecS = si.load_extractor(PREP_PATH_s)\n",
    "RecE = si.load_extractor(PREP_PATH_ne)\n",
    "RecB = si.load_extractor(PREP_PATH_b)\n",
    "\n",
    "# or load\n",
    "noise_v = np.load(NOISE_PATH_v, allow_pickle=True)\n",
    "noise_s = np.load(NOISE_PATH_s, allow_pickle=True)\n",
    "noise_e = np.load(NOISE_PATH_ne, allow_pickle=True)\n",
    "noise_b = np.load(NOISE_PATH_b, allow_pickle=True)"
   ]
  },
  {
   "cell_type": "markdown",
   "metadata": {},
   "source": [
    "### Plot noise\n",
    "\n",
    "#### Compute plot data"
   ]
  },
  {
   "cell_type": "code",
   "execution_count": null,
   "metadata": {},
   "outputs": [],
   "source": [
    "# - get site layers\n",
    "lyr_v = RecV.get_property(\"layers\")\n",
    "lyr_s = RecS.get_property(\"layers\")\n",
    "lyr_e = RecE.get_property(\"layers\")\n",
    "\n",
    "# build dataset\n",
    "# vivo\n",
    "lyr_v = standardize_layers(lyr_v)\n",
    "in_ctx = np.isin(lyr_v, LAYERS)\n",
    "v_data = pd.DataFrame(data=np.array(noise_v[in_ctx]), columns=[\"noise\"])\n",
    "lyr_v = np.array(lyr_v)[in_ctx]\n",
    "v_data[\"layer\"] = lyr_v\n",
    "v_data[\"experiment\"] = \"npx (Marques-Smith)\"\n",
    "v_data = v_data.sort_values(by=[\"layer\"])\n",
    "\n",
    "# - group l2 and l3\n",
    "# spont.\n",
    "lyr_s = standardize_layers(lyr_s)\n",
    "in_ctx = np.isin(lyr_s, LAYERS)\n",
    "s_data = pd.DataFrame(data=np.array(noise_s[in_ctx]), columns=[\"noise\"])\n",
    "lyr_s = np.array(lyr_s)[in_ctx]\n",
    "s_data[\"layer\"] = lyr_s\n",
    "s_data[\"experiment\"] = \"Biophy. spont.\"\n",
    "s_data = s_data.sort_values(by=[\"layer\"])\n",
    "\n",
    "# evoked\n",
    "lyr_e = standardize_layers(lyr_e)\n",
    "in_ctx = np.isin(lyr_e, LAYERS)\n",
    "e_data = pd.DataFrame(data=np.array(noise_e[in_ctx]), columns=[\"noise\"])\n",
    "lyr_e = np.array(lyr_e)[in_ctx]\n",
    "e_data[\"layer\"] = lyr_e\n",
    "e_data[\"experiment\"] = \"Biophy. evoked\"\n",
    "e_data = e_data.sort_values(by=[\"layer\"])\n",
    "\n",
    "# buccino\n",
    "b_data = pd.DataFrame(data=np.array(noise_b), columns=[\"noise\"])\n",
    "b_data[\"layer\"] = \"L5\"\n",
    "b_data[\"experiment\"] = \"Synth. (Buccino)\"\n",
    "\n",
    "# concat\n",
    "plot_data = pd.concat([v_data, s_data, e_data, b_data], ignore_index=True)\n",
    "\n",
    "# drop sites outside cortex\n",
    "mask = np.isin(plot_data[\"layer\"], LAYERS)\n",
    "plot_data = plot_data[mask]\n",
    "plot_data = plot_data.sort_values(by=[\"layer\"])\n",
    "\n",
    "# unit-test\n",
    "layers = [\"L1\", \"L2/3\", \"L4\", \"L5\", \"L6\"]\n",
    "assert v_data[\"layer\"].unique().tolist() == layers, \"wrong layers\"\n",
    "assert s_data[\"layer\"].unique().tolist() == layers, \"wrong layers\"\n",
    "assert e_data[\"layer\"].unique().tolist() == layers, \"wrong layers\""
   ]
  },
  {
   "cell_type": "markdown",
   "metadata": {},
   "source": [
    "## Load/save temp data"
   ]
  },
  {
   "cell_type": "code",
   "execution_count": 2,
   "metadata": {},
   "outputs": [],
   "source": [
    "# save plot and statistics data\n",
    "if SAVE_TEMP_DATA:\n",
    "    plot_data.to_parquet(PLOT_DATA_PATH)\n",
    "    print(\"Saved here:\", PLOT_DATA_PATH)\n",
    "elif LOAD_TEMP_DATA:\n",
    "    plot_data = pd.read_parquet(PLOT_DATA_PATH)"
   ]
  },
  {
   "cell_type": "markdown",
   "metadata": {},
   "source": [
    "#### Plot"
   ]
  },
  {
   "cell_type": "code",
   "execution_count": 7,
   "metadata": {},
   "outputs": [
    {
     "data": {
      "image/png": "[encoded data removed]",
      "text/plain": [
       "<Figure size 180x100 with 1 Axes>"
      ]
     },
     "metadata": {},
     "output_type": "display_data"
    }
   ],
   "source": [
    "FIG_SIZE = (1.8, 1)\n",
    "\n",
    "fig, ax = plt.subplots(1, 1, figsize=FIG_SIZE)\n",
    "\n",
    "ax = sns.boxplot(\n",
    "    ax=ax,\n",
    "    data=plot_data,\n",
    "    x=\"layer\",\n",
    "    y=\"noise\",\n",
    "    hue=\"experiment\",\n",
    "    notch=True,\n",
    "    hue_order=[\n",
    "        \"npx (Marques-Smith)\",\n",
    "        \"Biophy. spont.\",\n",
    "        \"Biophy. evoked\",\n",
    "        \"Synth. (Buccino)\",\n",
    "    ],\n",
    "    palette=[cl[\"COLOR_NV\"], cl[\"COLOR_NS\"], cl[\"COLOR_NE\"], cl[\"COLOR_NB\"]],\n",
    "    width=0.6,\n",
    "    linewidth=0.5,\n",
    "    flierprops={\n",
    "        \"marker\": \".\",\n",
    "        \"markersize\": 3,\n",
    "    },\n",
    ")\n",
    "\n",
    "# axes\n",
    "ax.spines[[\"top\", \"right\"]].set_visible(False)\n",
    "ax.legend(\"\", frameon=False)\n",
    "\n",
    "# disconnect axes (R style)\n",
    "ax.spines[\"bottom\"].set_position((\"axes\", -0.05))\n",
    "ax.yaxis.set_ticks_position(\"left\")\n",
    "ax.spines[\"left\"].set_position((\"axes\", -0.05))\n",
    "\n",
    "ax.set_ylabel(\"Noise (\\u03bcV)\")\n",
    "ax.set_xlabel(\"Layer\")\n",
    "\n",
    "# customize the boxplot\n",
    "p = 0\n",
    "for box in ax.patches:\n",
    "    if box.__class__.__name__ == \"PathPatch\":\n",
    "        # a list item for each layer group\n",
    "        if p in [0, 1, 2, 3, 4]:\n",
    "            box.set_edgecolor(cl[\"COLOR_NV\"])\n",
    "            # Each box has 6 associated Line2D objects\n",
    "            # (to make the whiskers, fliers, etc.)\n",
    "            # Loop over them here, and use the same colour\n",
    "            # as above\n",
    "            # group 1 (NV)\n",
    "            for k in range(6 * p, 6 * (p + 1)):\n",
    "                ax.lines[k].set_color(cl[\"COLOR_NV\"])  # box\n",
    "                ax.lines[k].set_mfc(cl[\"COLOR_NV\"])  # whisker\n",
    "                ax.lines[k].set_mec(cl[\"COLOR_NV\"])  # fliers\n",
    "            p += 1\n",
    "        elif p in [5, 6, 7, 8, 9]:\n",
    "            # group 2 (NS)\n",
    "            box.set_edgecolor(cl[\"COLOR_NS\"])\n",
    "            for k in range(6 * p, 6 * (p + 1)):\n",
    "                ax.lines[k].set_color(cl[\"COLOR_NS\"])\n",
    "                ax.lines[k].set_mfc(cl[\"COLOR_NS\"])\n",
    "                ax.lines[k].set_mec(cl[\"COLOR_NS\"])\n",
    "            p += 1\n",
    "        elif p in [10, 11, 12, 13, 14]:\n",
    "            box.set_edgecolor(cl[\"COLOR_NE\"])\n",
    "            for k in range(6 * p, 6 * (p + 1)):\n",
    "                ax.lines[k].set_color(cl[\"COLOR_NE\"])\n",
    "                ax.lines[k].set_mfc(cl[\"COLOR_NE\"])\n",
    "                ax.lines[k].set_mec(cl[\"COLOR_NE\"])\n",
    "            p += 1\n",
    "        elif p in [15]:\n",
    "            box.set_edgecolor(cl[\"COLOR_NB\"])\n",
    "            for k in range(6 * p, 6 * (p + 1)):\n",
    "                ax.lines[k].set_color(cl[\"COLOR_NB\"])\n",
    "                ax.lines[k].set_mfc(cl[\"COLOR_NB\"])\n",
    "                ax.lines[k].set_mec(cl[\"COLOR_NB\"])\n",
    "            p += 1\n",
    "\n",
    "# save figures\n",
    "if SAVE_FIG:\n",
    "    plt.savefig(\n",
    "        \"figures/0_validation/3_noise/fig2N/fig2N_noise_npx.svg\",\n",
    "        bbox_inches=\"tight\",\n",
    "        **savefig_cfg\n",
    "    )"
   ]
  },
  {
   "cell_type": "markdown",
   "metadata": {},
   "source": [
    "## Statistical tests"
   ]
  },
  {
   "cell_type": "markdown",
   "metadata": {},
   "source": [
    "### Noise changes across layers?"
   ]
  },
  {
   "cell_type": "code",
   "execution_count": 8,
   "metadata": {},
   "outputs": [
    {
     "name": "stdout",
     "output_type": "stream",
     "text": [
      "\n",
      "--------------------MS--------------------\n",
      "\n",
      "H=62.47102557681285, p=8.768468370671957e-13\n",
      "N_L1 = 10 sites\n",
      "N_L23 = 42 sites\n",
      "N_L4 = 34 sites\n",
      "N_L5 = 42 sites\n",
      "N_L6 = 98 sites\n",
      "1.9311 $\\pm$ 0.171132, 2.189 $\\pm$ 0.116526, 2.8097 $\\pm$ 0.086615, 2.8482 $\\pm$ 0.070086, 2.6354 $\\pm$ 0.038763, \n",
      "\n",
      "--------------------NS--------------------\n",
      "\n",
      "H=178.66644908122998, p=1.441853196249705e-37\n",
      "N_L1 = 16 sites\n",
      "N_L23 = 47 sites\n",
      "N_L4 = 19 sites\n",
      "N_L5 = 52 sites\n",
      "N_L6 = 68 sites\n",
      "1.9628 $\\pm$ 0.015682, 2.4645 $\\pm$ 0.010906, 2.9039 $\\pm$ 0.024573, 2.9261 $\\pm$ 0.018631, 2.6722 $\\pm$ 0.01622, \n",
      "\n",
      "--------------------E--------------------\n",
      "\n",
      "H=171.6940162304055, p=4.527651062676017e-36\n",
      "N_L1 = 16 sites\n",
      "N_L23 = 47 sites\n",
      "N_L4 = 19 sites\n",
      "N_L5 = 52 sites\n",
      "N_L6 = 68 sites\n",
      "1.4329 $\\pm$ 0.021381, 2.3516 $\\pm$ 0.038406, 2.741 $\\pm$ 0.02469, 2.752 $\\pm$ 0.033949, 2.1149 $\\pm$ 0.024723, \n"
     ]
    }
   ],
   "source": [
    "def ci95(data):\n",
    "    return 1.96 * np.nanstd(data) / np.sqrt(np.sum(~np.isnan(data)))\n",
    "\n",
    "def get_medians_and_ci95(plot_data, exp, feature: str):\n",
    "    layers = [\"L1\", \"L2/3\", \"L4\", \"L5\", \"L6\"]\n",
    "    stats = \"\"\n",
    "    record = []\n",
    "    for layer in layers:\n",
    "        feature_data = plot_data[(plot_data.experiment==exp) & (plot_data.layer==layer)][feature]\n",
    "        stats += f\"{np.round(feature_data.median()*10000)/10000} $\\pm$ {np.round(ci95(feature_data),6)}, \"\n",
    "        record.append(np.round(feature_data.median()*10000)/10000)\n",
    "    print(stats)\n",
    "    return record\n",
    "\n",
    "# 1. kruskall-wallis\n",
    "# 2. perform Dunn's posthoc test using a holm-sidak correction for the p-values\n",
    "# to identify the layer amplitudes that significantly deviate from others\n",
    "# 3. medians and ci95\n",
    "print(\"\\n--------------------MS--------------------\\n\")\n",
    "noise.get_kk(plot_data, \"npx (Marques-Smith)\")\n",
    "noise.get_posthoc_dunn_holm_sidak(plot_data, \"npx (Marques-Smith)\")\n",
    "m_m = get_medians_and_ci95(plot_data, \"npx (Marques-Smith)\", \"noise\") \n",
    "\n",
    "print(\"\\n--------------------NS--------------------\\n\")\n",
    "noise.get_kk(plot_data, \"Biophy. spont.\")\n",
    "noise.get_posthoc_dunn_holm_sidak(plot_data, \"Biophy. spont.\")\n",
    "m_ns = get_medians_and_ci95(plot_data, \"Biophy. spont.\", \"noise\") \n",
    "\n",
    "print(\"\\n--------------------E--------------------\\n\")\n",
    "noise.get_kk(plot_data, \"Biophy. evoked\")\n",
    "noise.get_posthoc_dunn_holm_sidak(plot_data, \"Biophy. evoked\")\n",
    "m_e = get_medians_and_ci95(plot_data, \"Biophy. evoked\", \"noise\") "
   ]
  },
  {
   "cell_type": "markdown",
   "metadata": {},
   "source": [
    "## Buccino's model"
   ]
  },
  {
   "cell_type": "code",
   "execution_count": 12,
   "metadata": {},
   "outputs": [
    {
     "name": "stdout",
     "output_type": "stream",
     "text": [
      "nan $\\pm$ nan, nan $\\pm$ nan, nan $\\pm$ nan, 4.57 $\\pm$ 0.016, nan $\\pm$ nan, \n"
     ]
    },
    {
     "name": "stderr",
     "output_type": "stream",
     "text": [
      "/gpfs/bbp.cscs.ch/project/proj85/laquitai/spikebias_paper/envs/spikinterf0_100_5/lib/python3.9/site-packages/numpy/lib/nanfunctions.py:1879: RuntimeWarning: Degrees of freedom <= 0 for slice.\n",
      "  var = nanvar(a, axis=axis, dtype=dtype, out=out, ddof=ddof,\n",
      "/gpfs/bbp.cscs.ch/project/proj85/laquitai/spikebias_paper/envs/spikinterf0_100_5/lib/python3.9/site-packages/numpy/lib/nanfunctions.py:1879: RuntimeWarning: Degrees of freedom <= 0 for slice.\n",
      "  var = nanvar(a, axis=axis, dtype=dtype, out=out, ddof=ddof,\n"
     ]
    }
   ],
   "source": [
    "# medians and ci95\n",
    "get_medians_and_ci95(plot_data, \"Synth. (Buccino)\", \"noise\")  "
   ]
  },
  {
   "cell_type": "markdown",
   "metadata": {},
   "source": [
    "## Are models and in vivo data the same?"
   ]
  },
  {
   "cell_type": "code",
   "execution_count": 3,
   "metadata": {},
   "outputs": [],
   "source": [
    "from scipy.stats import kruskal\n",
    "import scikit_posthocs as sp\n",
    "\n",
    "\n",
    "def count_sites(df, exp, layer):\n",
    "    return len(df[(df[\"experiment\"] == exp) & (df[\"layer\"] == layer)])\n",
    "\n",
    "\n",
    "def get_noise(df, exp, layer):\n",
    "    return df[(df[\"experiment\"] == exp) & (df[\"layer\"] == layer)][\"noise\"].values\n",
    "\n",
    "\n",
    "def get_kk_compare_exps(df, layer):\n",
    "    \"\"\"kruskall wallis test\n",
    "    \"\"\"\n",
    "    h, p = kruskal(\n",
    "        get_noise(df, \"npx (Marques-Smith)\", layer),\n",
    "        get_noise(df, \"Biophy. spont.\", layer),\n",
    "        get_noise(df, \"Biophy. evoked\", layer),\n",
    "    )\n",
    "    print(f\"H={h}, p={p}\")\n",
    "    print(f\"\"\"N_NS = {count_sites(df, \"Biophy. spont.\", layer)} sites\"\"\")\n",
    "    print(f\"\"\"N_E = {count_sites(df, \"Biophy. evoked\", layer)} sites\"\"\")\n",
    "    print(f\"\"\"N_M = {count_sites(df, \"npx (Marques-Smith)\", layer)} sites\"\"\")\n",
    "    \n",
    "    \n",
    "def get_posthoc_dunn_holm_sidak_compare_exps(plot_data, layer):\n",
    "    \"\"\"posthoc test after kruskall wallis with Dunn and holm_sidak\n",
    "    multiple comparison correction of p-values\n",
    "\n",
    "    Args:\n",
    "        plot_data (_type_): _description_\n",
    "        exp (_type_): _description_\n",
    "\n",
    "    Returns:\n",
    "        _type_: _description_\n",
    "    \"\"\"\n",
    "    data = [\n",
    "        get_noise(plot_data, \"npx (Marques-Smith)\", layer),\n",
    "        get_noise(plot_data, \"Biophy. spont.\", layer),\n",
    "        get_noise(plot_data, \"Biophy. evoked\", layer),\n",
    "    ]\n",
    "    # holm sidak method has more power than Bonferroni which is more conservative\n",
    "    # Non-significance can indicate subtle differences, power issues, samll sample size,\n",
    "    # or the balancing be due to how the Holm-Sidak correction controls Type I errors\n",
    "    # while retaining power.\n",
    "    # we can still look at the p-values to identify trends.\n",
    "    df = sp.posthoc_dunn(data, p_adjust=\"holm-sidak\")\n",
    "    df.columns = [\"npx (Marques-Smith)\", \"Biophy. spont.\", \"Biophy. evoked\"]\n",
    "    df.index = [\"npx (Marques-Smith)\", \"Biophy. spont.\", \"Biophy. evoked\"]\n",
    "    return df\n",
    "\n",
    "def get_posthoc_dunn_holm_sidak_compare_exps_l5(plot_data, layer):\n",
    "    \"\"\"posthoc test after kruskall wallis with Dunn and holm_sidak\n",
    "    multiple comparison correction of p-values\n",
    "\n",
    "    Args:\n",
    "        plot_data (_type_): _description_\n",
    "        exp (_type_): _description_\n",
    "\n",
    "    Returns:\n",
    "        _type_: _description_\n",
    "    \"\"\"\n",
    "    data = [\n",
    "        get_noise(plot_data, \"npx (Marques-Smith)\", layer),\n",
    "        get_noise(plot_data, \"Biophy. spont.\", layer),\n",
    "        get_noise(plot_data, \"Biophy. evoked\", layer),\n",
    "        get_noise(plot_data, \"Synth. (Buccino)\", layer),\n",
    "    ]\n",
    "    # holm sidak method has more power than Bonferroni which is more conservative\n",
    "    # Non-significance can indicate subtle differences, power issues, samll sample size,\n",
    "    # or the balancing be due to how the Holm-Sidak correction controls Type I errors\n",
    "    # while retaining power.\n",
    "    # we can still look at the p-values to identify trends.\n",
    "    df = sp.posthoc_dunn(data, p_adjust=\"holm-sidak\")\n",
    "    df.columns = [\"npx (Marques-Smith)\", \"Biophy. spont.\", \"Biophy. evoked\", \"Synth. (Buccino)\"]\n",
    "    df.index = [\"npx (Marques-Smith)\", \"Biophy. spont.\", \"Biophy. evoked\", \"Synth. (Buccino)\"]\n",
    "    return df"
   ]
  },
  {
   "cell_type": "code",
   "execution_count": 4,
   "metadata": {},
   "outputs": [
    {
     "name": "stdout",
     "output_type": "stream",
     "text": [
      "------LAYER 1:------\n",
      "\n",
      "H=29.234883720930213, p=4.4846201140856504e-07\n",
      "N_NS = 16 sites\n",
      "N_E = 16 sites\n",
      "N_M = 10 sites\n"
     ]
    },
    {
     "data": {
      "text/html": [
       "<div>\n",
       "<style scoped>\n",
       "    .dataframe tbody tr th:only-of-type {\n",
       "        vertical-align: middle;\n",
       "    }\n",
       "\n",
       "    .dataframe tbody tr th {\n",
       "        vertical-align: top;\n",
       "    }\n",
       "\n",
       "    .dataframe thead th {\n",
       "        text-align: right;\n",
       "    }\n",
       "</style>\n",
       "<table border=\"1\" class=\"dataframe\">\n",
       "  <thead>\n",
       "    <tr style=\"text-align: right;\">\n",
       "      <th></th>\n",
       "      <th>npx (Marques-Smith)</th>\n",
       "      <th>Biophy. spont.</th>\n",
       "      <th>Biophy. evoked</th>\n",
       "    </tr>\n",
       "  </thead>\n",
       "  <tbody>\n",
       "    <tr>\n",
       "      <th>npx (Marques-Smith)</th>\n",
       "      <td>1.000000</td>\n",
       "      <td>0.645494</td>\n",
       "      <td>0.000148</td>\n",
       "    </tr>\n",
       "    <tr>\n",
       "      <th>Biophy. spont.</th>\n",
       "      <td>0.645494</td>\n",
       "      <td>1.000000</td>\n",
       "      <td>0.000001</td>\n",
       "    </tr>\n",
       "    <tr>\n",
       "      <th>Biophy. evoked</th>\n",
       "      <td>0.000148</td>\n",
       "      <td>0.000001</td>\n",
       "      <td>1.000000</td>\n",
       "    </tr>\n",
       "  </tbody>\n",
       "</table>\n",
       "</div>"
      ],
      "text/plain": [
       "                     npx (Marques-Smith)  Biophy. spont.  Biophy. evoked\n",
       "npx (Marques-Smith)             1.000000        0.645494        0.000148\n",
       "Biophy. spont.                  0.645494        1.000000        0.000001\n",
       "Biophy. evoked                  0.000148        0.000001        1.000000"
      ]
     },
     "metadata": {},
     "output_type": "display_data"
    },
    {
     "name": "stdout",
     "output_type": "stream",
     "text": [
      "\n",
      "------LAYER 2/3:------\n",
      "\n",
      "H=13.327628317983567, p=0.0012762691815353707\n",
      "N_NS = 47 sites\n",
      "N_E = 47 sites\n",
      "N_M = 42 sites\n"
     ]
    },
    {
     "data": {
      "text/html": [
       "<div>\n",
       "<style scoped>\n",
       "    .dataframe tbody tr th:only-of-type {\n",
       "        vertical-align: middle;\n",
       "    }\n",
       "\n",
       "    .dataframe tbody tr th {\n",
       "        vertical-align: top;\n",
       "    }\n",
       "\n",
       "    .dataframe thead th {\n",
       "        text-align: right;\n",
       "    }\n",
       "</style>\n",
       "<table border=\"1\" class=\"dataframe\">\n",
       "  <thead>\n",
       "    <tr style=\"text-align: right;\">\n",
       "      <th></th>\n",
       "      <th>npx (Marques-Smith)</th>\n",
       "      <th>Biophy. spont.</th>\n",
       "      <th>Biophy. evoked</th>\n",
       "    </tr>\n",
       "  </thead>\n",
       "  <tbody>\n",
       "    <tr>\n",
       "      <th>npx (Marques-Smith)</th>\n",
       "      <td>1.000000</td>\n",
       "      <td>0.002465</td>\n",
       "      <td>0.599581</td>\n",
       "    </tr>\n",
       "    <tr>\n",
       "      <th>Biophy. spont.</th>\n",
       "      <td>0.002465</td>\n",
       "      <td>1.000000</td>\n",
       "      <td>0.007381</td>\n",
       "    </tr>\n",
       "    <tr>\n",
       "      <th>Biophy. evoked</th>\n",
       "      <td>0.599581</td>\n",
       "      <td>0.007381</td>\n",
       "      <td>1.000000</td>\n",
       "    </tr>\n",
       "  </tbody>\n",
       "</table>\n",
       "</div>"
      ],
      "text/plain": [
       "                     npx (Marques-Smith)  Biophy. spont.  Biophy. evoked\n",
       "npx (Marques-Smith)             1.000000        0.002465        0.599581\n",
       "Biophy. spont.                  0.002465        1.000000        0.007381\n",
       "Biophy. evoked                  0.599581        0.007381        1.000000"
      ]
     },
     "metadata": {},
     "output_type": "display_data"
    },
    {
     "name": "stdout",
     "output_type": "stream",
     "text": [
      "\n",
      "------LAYER 4:------\n",
      "\n",
      "H=14.371799765327893, p=0.0007571873215229637\n",
      "N_NS = 19 sites\n",
      "N_E = 19 sites\n",
      "N_M = 34 sites\n"
     ]
    },
    {
     "data": {
      "text/html": [
       "<div>\n",
       "<style scoped>\n",
       "    .dataframe tbody tr th:only-of-type {\n",
       "        vertical-align: middle;\n",
       "    }\n",
       "\n",
       "    .dataframe tbody tr th {\n",
       "        vertical-align: top;\n",
       "    }\n",
       "\n",
       "    .dataframe thead th {\n",
       "        text-align: right;\n",
       "    }\n",
       "</style>\n",
       "<table border=\"1\" class=\"dataframe\">\n",
       "  <thead>\n",
       "    <tr style=\"text-align: right;\">\n",
       "      <th></th>\n",
       "      <th>npx (Marques-Smith)</th>\n",
       "      <th>Biophy. spont.</th>\n",
       "      <th>Biophy. evoked</th>\n",
       "    </tr>\n",
       "  </thead>\n",
       "  <tbody>\n",
       "    <tr>\n",
       "      <th>npx (Marques-Smith)</th>\n",
       "      <td>1.000000</td>\n",
       "      <td>0.016231</td>\n",
       "      <td>0.112727</td>\n",
       "    </tr>\n",
       "    <tr>\n",
       "      <th>Biophy. spont.</th>\n",
       "      <td>0.016231</td>\n",
       "      <td>1.000000</td>\n",
       "      <td>0.000561</td>\n",
       "    </tr>\n",
       "    <tr>\n",
       "      <th>Biophy. evoked</th>\n",
       "      <td>0.112727</td>\n",
       "      <td>0.000561</td>\n",
       "      <td>1.000000</td>\n",
       "    </tr>\n",
       "  </tbody>\n",
       "</table>\n",
       "</div>"
      ],
      "text/plain": [
       "                     npx (Marques-Smith)  Biophy. spont.  Biophy. evoked\n",
       "npx (Marques-Smith)             1.000000        0.016231        0.112727\n",
       "Biophy. spont.                  0.016231        1.000000        0.000561\n",
       "Biophy. evoked                  0.112727        0.000561        1.000000"
      ]
     },
     "metadata": {},
     "output_type": "display_data"
    },
    {
     "name": "stdout",
     "output_type": "stream",
     "text": [
      "\n",
      "------LAYER 5:------\n",
      "\n",
      "H=44.68570721981405, p=1.979802950953219e-10\n",
      "N_NS = 52 sites\n",
      "N_E = 52 sites\n",
      "N_M = 42 sites\n"
     ]
    },
    {
     "data": {
      "text/html": [
       "<div>\n",
       "<style scoped>\n",
       "    .dataframe tbody tr th:only-of-type {\n",
       "        vertical-align: middle;\n",
       "    }\n",
       "\n",
       "    .dataframe tbody tr th {\n",
       "        vertical-align: top;\n",
       "    }\n",
       "\n",
       "    .dataframe thead th {\n",
       "        text-align: right;\n",
       "    }\n",
       "</style>\n",
       "<table border=\"1\" class=\"dataframe\">\n",
       "  <thead>\n",
       "    <tr style=\"text-align: right;\">\n",
       "      <th></th>\n",
       "      <th>npx (Marques-Smith)</th>\n",
       "      <th>Biophy. spont.</th>\n",
       "      <th>Biophy. evoked</th>\n",
       "      <th>Synth. (Buccino)</th>\n",
       "    </tr>\n",
       "  </thead>\n",
       "  <tbody>\n",
       "    <tr>\n",
       "      <th>npx (Marques-Smith)</th>\n",
       "      <td>1.000000e+00</td>\n",
       "      <td>6.170891e-01</td>\n",
       "      <td>6.170891e-01</td>\n",
       "      <td>8.708621e-26</td>\n",
       "    </tr>\n",
       "    <tr>\n",
       "      <th>Biophy. spont.</th>\n",
       "      <td>6.170891e-01</td>\n",
       "      <td>1.000000e+00</td>\n",
       "      <td>1.823141e-01</td>\n",
       "      <td>4.083836e-25</td>\n",
       "    </tr>\n",
       "    <tr>\n",
       "      <th>Biophy. evoked</th>\n",
       "      <td>6.170891e-01</td>\n",
       "      <td>1.823141e-01</td>\n",
       "      <td>1.000000e+00</td>\n",
       "      <td>1.730862e-37</td>\n",
       "    </tr>\n",
       "    <tr>\n",
       "      <th>Synth. (Buccino)</th>\n",
       "      <td>8.708621e-26</td>\n",
       "      <td>4.083836e-25</td>\n",
       "      <td>1.730862e-37</td>\n",
       "      <td>1.000000e+00</td>\n",
       "    </tr>\n",
       "  </tbody>\n",
       "</table>\n",
       "</div>"
      ],
      "text/plain": [
       "                     npx (Marques-Smith)  Biophy. spont.  Biophy. evoked  \\\n",
       "npx (Marques-Smith)         1.000000e+00    6.170891e-01    6.170891e-01   \n",
       "Biophy. spont.              6.170891e-01    1.000000e+00    1.823141e-01   \n",
       "Biophy. evoked              6.170891e-01    1.823141e-01    1.000000e+00   \n",
       "Synth. (Buccino)            8.708621e-26    4.083836e-25    1.730862e-37   \n",
       "\n",
       "                     Synth. (Buccino)  \n",
       "npx (Marques-Smith)      8.708621e-26  \n",
       "Biophy. spont.           4.083836e-25  \n",
       "Biophy. evoked           1.730862e-37  \n",
       "Synth. (Buccino)         1.000000e+00  "
      ]
     },
     "metadata": {},
     "output_type": "display_data"
    },
    {
     "name": "stdout",
     "output_type": "stream",
     "text": [
      "\n",
      "------LAYER 6:------\n",
      "\n",
      "H=138.3650527968963, p=9.003482837003048e-31\n",
      "N_NS = 68 sites\n",
      "N_E = 68 sites\n",
      "N_M = 98 sites\n"
     ]
    },
    {
     "data": {
      "text/html": [
       "<div>\n",
       "<style scoped>\n",
       "    .dataframe tbody tr th:only-of-type {\n",
       "        vertical-align: middle;\n",
       "    }\n",
       "\n",
       "    .dataframe tbody tr th {\n",
       "        vertical-align: top;\n",
       "    }\n",
       "\n",
       "    .dataframe thead th {\n",
       "        text-align: right;\n",
       "    }\n",
       "</style>\n",
       "<table border=\"1\" class=\"dataframe\">\n",
       "  <thead>\n",
       "    <tr style=\"text-align: right;\">\n",
       "      <th></th>\n",
       "      <th>npx (Marques-Smith)</th>\n",
       "      <th>Biophy. spont.</th>\n",
       "      <th>Biophy. evoked</th>\n",
       "    </tr>\n",
       "  </thead>\n",
       "  <tbody>\n",
       "    <tr>\n",
       "      <th>npx (Marques-Smith)</th>\n",
       "      <td>1.000000e+00</td>\n",
       "      <td>2.890727e-01</td>\n",
       "      <td>2.301698e-24</td>\n",
       "    </tr>\n",
       "    <tr>\n",
       "      <th>Biophy. spont.</th>\n",
       "      <td>2.890727e-01</td>\n",
       "      <td>1.000000e+00</td>\n",
       "      <td>6.616927e-25</td>\n",
       "    </tr>\n",
       "    <tr>\n",
       "      <th>Biophy. evoked</th>\n",
       "      <td>2.301698e-24</td>\n",
       "      <td>6.616927e-25</td>\n",
       "      <td>1.000000e+00</td>\n",
       "    </tr>\n",
       "  </tbody>\n",
       "</table>\n",
       "</div>"
      ],
      "text/plain": [
       "                     npx (Marques-Smith)  Biophy. spont.  Biophy. evoked\n",
       "npx (Marques-Smith)         1.000000e+00    2.890727e-01    2.301698e-24\n",
       "Biophy. spont.              2.890727e-01    1.000000e+00    6.616927e-25\n",
       "Biophy. evoked              2.301698e-24    6.616927e-25    1.000000e+00"
      ]
     },
     "metadata": {},
     "output_type": "display_data"
    }
   ],
   "source": [
    "print(\"------LAYER 1:------\\n\")\n",
    "\n",
    "# kruskall-wallis\n",
    "# perform Dunn's posthoc test using a holm-sidak correction for the p-values\n",
    "# to identify the layer amplitudes that significantly deviate from others\n",
    "get_kk_compare_exps(plot_data, \"L1\")\n",
    "display(get_posthoc_dunn_holm_sidak_compare_exps(plot_data, \"L1\"))\n",
    "\n",
    "\n",
    "print(\"\\n------LAYER 2/3:------\\n\")\n",
    "\n",
    "get_kk_compare_exps(plot_data, \"L2/3\")\n",
    "display(get_posthoc_dunn_holm_sidak_compare_exps(plot_data, \"L2/3\"))\n",
    "\n",
    "print(\"\\n------LAYER 4:------\\n\")\n",
    "\n",
    "get_kk_compare_exps(plot_data, \"L4\")\n",
    "display(get_posthoc_dunn_holm_sidak_compare_exps(plot_data, \"L4\"))\n",
    "\n",
    "print(\"\\n------LAYER 5:------\\n\")\n",
    "\n",
    "get_kk_compare_exps(plot_data, \"L5\")\n",
    "display(get_posthoc_dunn_holm_sidak_compare_exps_l5(plot_data, \"L5\"))\n",
    "\n",
    "print(\"\\n------LAYER 6:------\\n\")\n",
    "\n",
    "get_kk_compare_exps(plot_data, \"L6\")\n",
    "display(get_posthoc_dunn_holm_sidak_compare_exps(plot_data, \"L6\"))"
   ]
  },
  {
   "cell_type": "markdown",
   "metadata": {},
   "source": [
    "### H3: Spont. Model and data noises are the same? - Yes"
   ]
  },
  {
   "cell_type": "code",
   "execution_count": 25,
   "metadata": {},
   "outputs": [
    {
     "name": "stdout",
     "output_type": "stream",
     "text": [
      "\n",
      "layer 1\n",
      "\n",
      "1 vs. 2, z=66.0, p=0.48379408987835437, N_1=10, N_2=16\n",
      "\n",
      "layer 2/3\n",
      "\n",
      "1 vs. 2, z=719.0, p=0.02741632075746762, N_1=42, N_2=47\n",
      "\n",
      "layer 4\n",
      "\n",
      "1 vs. 2, z=227.0, p=0.07638507627249845, N_1=34, N_2=19\n",
      "\n",
      "layer 5\n",
      "\n",
      "1 vs. 2, z=768.0, p=0.0134009597257908, N_1=42, N_2=52\n",
      "1 vs. 2, z=0.0, p=8.341564166878022e-59, N_1=42, N_2=384\n",
      "\n",
      "layer 6\n",
      "\n",
      "1 vs. 2, z=2933.0, p=0.19122888444827751, N_1=98, N_2=68\n"
     ]
    }
   ],
   "source": [
    "print(\"\\nlayer 1\\n\")\n",
    "noise.get_mwu(plot_data, \"npx (Marques-Smith)\", \"Biophy. spont.\", \"L1\")\n",
    "\n",
    "print(\"\\nlayer 2/3\\n\")\n",
    "noise.get_mwu(plot_data, \"npx (Marques-Smith)\", \"Biophy. spont.\", \"L2/3\")\n",
    "\n",
    "print(\"\\nlayer 4\\n\")\n",
    "noise.get_mwu(plot_data, \"npx (Marques-Smith)\", \"Biophy. spont.\", \"L4\")\n",
    "\n",
    "print(\"\\nlayer 5\\n\")\n",
    "noise.get_mwu(plot_data, \"npx (Marques-Smith)\", \"Biophy. spont.\", \"L5\")\n",
    "noise.get_mwu(plot_data, \"npx (Marques-Smith)\", \"Synth. (Buccino)\", \"L5\")\n",
    "\n",
    "print(\"\\nlayer 6\\n\")\n",
    "noise.get_mwu(plot_data, \"npx (Marques-Smith)\", \"Biophy. spont.\", \"L6\")"
   ]
  },
  {
   "cell_type": "markdown",
   "metadata": {},
   "source": [
    "### H4: Evoked. Model and data noises are the same - No"
   ]
  },
  {
   "cell_type": "code",
   "execution_count": 29,
   "metadata": {},
   "outputs": [
    {
     "name": "stdout",
     "output_type": "stream",
     "text": [
      "\n",
      "layer 1\n",
      "\n",
      "1 vs. 2, z=160.0, p=3.765248078076184e-07, N_1=10, N_2=16\n",
      "\n",
      "layer 2/3\n",
      "\n",
      "1 vs. 2, z=766.0, p=0.06981865287214553, N_1=42, N_2=47\n",
      "\n",
      "layer 4\n",
      "\n",
      "1 vs. 2, z=326.0, p=0.9633700684150693, N_1=34, N_2=19\n",
      "\n",
      "layer 5\n",
      "\n",
      "1 vs. 2, z=945.0, p=0.266600772419991, N_1=42, N_2=52\n",
      "\n",
      "layer 6\n",
      "\n",
      "1 vs. 2, z=6438.0, p=2.208498867696382e-33, N_1=98, N_2=68\n"
     ]
    }
   ],
   "source": [
    "print(\"\\nlayer 1\\n\")\n",
    "noise.get_mwu(plot_data, \"npx (Marques-Smith)\", \"Biophy. evoked\", \"L1\")\n",
    "\n",
    "print(\"\\nlayer 2/3\\n\")\n",
    "noise.get_mwu(plot_data, \"npx (Marques-Smith)\", \"Biophy. evoked\", \"L2/3\")\n",
    "\n",
    "print(\"\\nlayer 4\\n\")\n",
    "noise.get_mwu(plot_data, \"npx (Marques-Smith)\", \"Biophy. evoked\", \"L4\")\n",
    "\n",
    "print(\"\\nlayer 5\\n\")\n",
    "noise.get_mwu(plot_data, \"npx (Marques-Smith)\", \"Biophy. evoked\", \"L5\")\n",
    "\n",
    "print(\"\\nlayer 6\\n\")\n",
    "noise.get_mwu(plot_data, \"npx (Marques-Smith)\", \"Biophy. evoked\", \"L6\")"
   ]
  },
  {
   "cell_type": "markdown",
   "metadata": {},
   "source": [
    "## Summary statistics"
   ]
  },
  {
   "cell_type": "code",
   "execution_count": 6,
   "metadata": {},
   "outputs": [],
   "source": [
    "def pc(x1, x2):\n",
    "    return (x1-x2)/x1 * 100"
   ]
  },
  {
   "cell_type": "code",
   "execution_count": 18,
   "metadata": {},
   "outputs": [
    {
     "name": "stdout",
     "output_type": "stream",
     "text": [
      "Models median noise are on average  1.5 % Marques-Smith data\n",
      "Models median noise are on average  -9.2 % Marques-Smith data across L1, L6\n",
      "Models median noise are on average  3.0 % Marques-Smith data, across L4 and L5\n"
     ]
    }
   ],
   "source": [
    "# NEUROPIXELS  ------------------\n",
    "\n",
    "L1_ns = pc(m_m[0], m_ns[0])\n",
    "L1_e = pc(m_m[0], m_e[0])\n",
    "\n",
    "L23_ns = pc(m_m[1], m_ns[1])\n",
    "L23_e = pc(m_m[1], m_e[1])\n",
    "\n",
    "L4_ns = pc(m_m[2], m_ns[2])\n",
    "L4_e = pc(m_m[2], m_e[2])\n",
    "\n",
    "L5_ns = pc(m_m[3], m_ns[3])\n",
    "L5_e = pc(m_m[3], m_e[3])\n",
    "\n",
    "L6_ns = pc(m_m[4], m_ns[4])\n",
    "L6_e = pc(m_m[4], m_e[4])\n",
    "\n",
    "# NPX average --------\n",
    "\n",
    "print(\"Models median noise are on average \", - np.round(np.median([L1_ns, L1_e, L23_ns, L23_e, L4_ns, L4_e, L5_ns, L5_e, L6_ns, L6_e]),1), \"% Marques-Smith data\")\n",
    "\n",
    "# NPX detailed pattern\n",
    "print(\"Models median noise are on average \", - np.round(np.median([L1_ns, L1_e, L6_ns, L6_e]),1), \"% Marques-Smith data across L1, L6\")\n",
    "\n",
    "print(\"Models median noise are on average \", - np.round(np.median([L23_ns, L23_ns, L4_ns, L4_e, L5_ns, L5_e]),1), \"% Marques-Smith data, across L4 and L5\")"
   ]
  }
 ],
 "metadata": {
  "kernelspec": {
   "display_name": "spikinterf0_100_5",
   "language": "python",
   "name": "python3"
  },
  "language_info": {
   "codemirror_mode": {
    "name": "ipython",
    "version": 3
   },
   "file_extension": ".py",
   "mimetype": "text/x-python",
   "name": "python",
   "nbconvert_exporter": "python",
   "pygments_lexer": "ipython3",
   "version": "3.9.7"
  },
  "orig_nbformat": 4
 },
 "nbformat": 4,
 "nbformat_minor": 2
}
