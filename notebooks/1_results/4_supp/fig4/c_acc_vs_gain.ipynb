{
 "cells": [
  {
   "cell_type": "markdown",
   "metadata": {},
   "source": [
    "# Accuracy by gain\n",
    "\n",
    "Results:\n",
    "\n",
    "- The biophysical model predicts a maximal achievable sorting accuracy with Kilosort of 0.11.\n",
    "- no noise gain fitd crashes."
   ]
  },
  {
   "cell_type": "code",
   "execution_count": 14,
   "metadata": {},
   "outputs": [
    {
     "name": "stdout",
     "output_type": "stream",
     "text": [
      "The autoreload extension is already loaded. To reload it, use:\n",
      "  %reload_ext autoreload\n",
      "2024-06-03 11:48:19,612 - root - utils.py - get_config - INFO - Reading experiment config.\n",
      "2024-06-03 11:48:19,681 - root - utils.py - get_config - INFO - Reading experiment config. - done\n"
     ]
    }
   ],
   "source": [
    "# SETUP PACKAGES \n",
    "%load_ext autoreload\n",
    "%autoreload 2\n",
    "import os\n",
    "import numpy as np\n",
    "from matplotlib import pyplot as plt\n",
    "\n",
    "# SET PROJECT PATH\n",
    "PROJ_PATH = \"/gpfs/bbp.cscs.ch/project/proj85/home/laquitai/preprint_2023\"\n",
    "os.chdir(PROJ_PATH)\n",
    "from src.nodes.utils import get_config\n",
    "import spikeinterface as si \n",
    "from spikeinterface import comparison\n",
    "\n",
    "# DATASETS\n",
    "\n",
    "# SILICO MARQUES\n",
    "data_conf_marques, _ = get_config(\"silico_neuropixels\", \"concatenated\").values()\n",
    "NOISE_PATH = data_conf_marques[\"preprocessing\"][\"fitting\"][\"missing_noise_path\"]\n",
    "SORTING_TRUE = data_conf_marques[\"sorting\"][\"simulation\"][\"ground_truth\"][\"output\"]\n",
    "SFREQ = 40000\n",
    "\n",
    "# KS3 SORTINGS\n",
    "SORTING_NOISE_NONE_GAIN_500 = data_conf_marques[\"sorting\"][\"sorters\"][\"kilosort3\"][\"10m\"][\"output_buttw_noise_0uV_gain_500\"] # Fails\n",
    "SORTING_NOISE_NONE_GAIN_1e3 = data_conf_marques[\"sorting\"][\"sorters\"][\"kilosort3\"][\"10m\"][\"output_buttw_noise_0uV_gain_1e3\"]\n",
    "SORTING_NOISE_NONE_GAIN_5000 = data_conf_marques[\"sorting\"][\"sorters\"][\"kilosort3\"][\"10m\"][\"output_buttw_noise_0uV_gain_5000\"]\n",
    "SORTING_NOISE_NONE_GAIN_1e4 = data_conf_marques[\"sorting\"][\"sorters\"][\"kilosort3\"][\"10m\"][\"output_buttw_noise_0uV_gain_1e4\"]\n",
    "SORTING_NOISE_NONE_GAIN_1e5 = data_conf_marques[\"sorting\"][\"sorters\"][\"kilosort3\"][\"10m\"][\"output_buttw_noise_0uV_gain_1e5\"]\n",
    "SORTING_NOISE_NONE_GAIN_1e6 = data_conf_marques[\"sorting\"][\"sorters\"][\"kilosort3\"][\"10m\"][\"output_buttw_noise_0uV_gain_1e6\"]\n",
    "\n",
    "# FIGURE SETTINGS\n",
    "FIG_SIZE = (4, 4)\n",
    "COLOR_VIVO = np.array([153,153,153]) / 255\n",
    "COLOR_SILI = np.array([228, 26, 28]) / 255\n",
    "COLOR_BUCCI = np.array([55,126,184]) / 255\n",
    "BOX_ASPECT = 1                  # square fig\n",
    "LG_FRAMEON = False              # no legend frame\n",
    "plt.rcParams[\"font.family\"] = \"Arial\"\n",
    "plt.rcParams[\"font.size\"] = 30\n",
    "plt.rcParams['lines.linewidth'] = 1.1\n",
    "plt.rcParams['axes.linewidth'] = 1\n",
    "plt.rcParams['axes.spines.top'] = False\n",
    "plt.rcParams['axes.spines.right'] = False\n",
    "plt.rcParams['xtick.major.width'] = 0.8 * 1.2\n",
    "plt.rcParams['xtick.major.size'] = 3.5 * 1.2\n",
    "plt.rcParams['xtick.minor.size'] = 2 * 1.2\n",
    "plt.rcParams['ytick.major.size'] = 3.5 * 1.2\n",
    "plt.rcParams['ytick.major.width'] = 0.8 * 1.2\n",
    "plt.rcParams['ytick.minor.size'] = 2 * 1.2\n",
    "\n",
    "N_MAJOR_TICKS = 4\n",
    "N_MINOR_TICKS = 12\n",
    "YLIM = [1e-7, 1e8]\n",
    "savefig_cfg = {\"transparent\":True, \"dpi\":300}\n",
    "legend_cfg = {\"frameon\": False, \"handletextpad\": 0.1}\n",
    "tight_layout_cfg = {\"pad\": 0.5}"
   ]
  },
  {
   "cell_type": "markdown",
   "metadata": {},
   "source": [
    "### Utils"
   ]
  },
  {
   "cell_type": "code",
   "execution_count": 7,
   "metadata": {},
   "outputs": [],
   "source": [
    "def get_accuracy_for_slice(\n",
    "    GT_SORTING_PATH_marques, KS_SORTING_PATH_marques, start_frame, end_frame\n",
    "):\n",
    "    SortingTrue = si.load_extractor(GT_SORTING_PATH_marques)\n",
    "    SortingTrue = SortingTrue.frame_slice(start_frame=start_frame, end_frame=end_frame)\n",
    "\n",
    "    SortingKS = si.load_extractor(KS_SORTING_PATH_marques)\n",
    "    comp = comparison.compare_sorter_to_ground_truth(\n",
    "        SortingTrue, SortingKS, exhaustive_gt=True\n",
    "    )\n",
    "    return comp.agreement_scores.max(axis=1).sort_values(ascending=False).values"
   ]
  },
  {
   "cell_type": "code",
   "execution_count": 8,
   "metadata": {},
   "outputs": [
    {
     "data": {
      "text/plain": [
       "338.5819091796875"
      ]
     },
     "execution_count": 8,
     "metadata": {},
     "output_type": "execute_result"
    }
   ],
   "source": [
    "noise = np.load(NOISE_PATH + \"L1.npy\", allow_pickle=True).item()\n",
    "noise[\"gain\"]"
   ]
  },
  {
   "cell_type": "code",
   "execution_count": 10,
   "metadata": {},
   "outputs": [
    {
     "data": {
      "text/plain": [
       "{'output_buttw_gain_none_noise_none': '/gpfs/bbp.cscs.ch/project/proj85/scratch/laquitai/preprint_2024/0_silico/neuropixels/concatenated_campaigns/SortingKS3_buttw_gain_none_noise_none_10m/',\n",
       " 'ks3_output_buttw_gain_none_noise_none': '/gpfs/bbp.cscs.ch/project/proj85/scratch/laquitai/preprint_2024/0_silico/neuropixels/concatenated_campaigns/KS3_output_buttw_gain_none_noise_none/',\n",
       " 'output_buttw_noise_0uV': '/gpfs/bbp.cscs.ch/project/proj85/scratch/laquitai/preprint_2024/0_silico/neuropixels/concatenated_campaigns/SortingKS3_buttw_noise_0uV_10m/',\n",
       " 'ks3_output_buttw_noise_0uV': '/gpfs/bbp.cscs.ch/project/proj85/scratch/laquitai/preprint_2024/0_silico/neuropixels/concatenated_campaigns/KS3_output_buttw_noise_0uV_10m/',\n",
       " 'output_buttw_noise_20_perc_lower': '/gpfs/bbp.cscs.ch/project/proj85/scratch/laquitai/preprint_2024/0_silico/neuropixels/concatenated_campaigns/SortingKS3_buttw_noise_20_perc_lower_10m/',\n",
       " 'ks3_output_buttw_noise_20_perc_lower': '/gpfs/bbp.cscs.ch/project/proj85/scratch/laquitai/preprint_2024/0_silico/neuropixels/concatenated_campaigns/KS3_output_buttw_noise_20_perc_lower_10m/',\n",
       " 'output_buttw_noise_fitd': '/gpfs/bbp.cscs.ch/project/proj85/scratch/laquitai/preprint_2024/0_silico/neuropixels/concatenated_campaigns/SortingKS3_noise_fitd_10m/',\n",
       " 'ks3_output_buttw_noise_fitd': '/gpfs/bbp.cscs.ch/project/proj85/scratch/laquitai/preprint_2024/0_silico/neuropixels/concatenated_campaigns/KS3_output_noise_fitd_10m/',\n",
       " 'output_buttw_noise_0uV_gain_500': '/gpfs/bbp.cscs.ch/project/proj85/scratch/laquitai/preprint_2024/0_silico/neuropixels/concatenated_campaigns/SortingKS3_noise_0uV_gain_500_10m/',\n",
       " 'ks3_output_buttw_noise_0uV_gain_500': '/gpfs/bbp.cscs.ch/project/proj85/scratch/laquitai/preprint_2024/0_silico/neuropixels/concatenated_campaigns/KS3_output_noise_0uV_gain_500_10m/',\n",
       " 'output_buttw_noise_0uV_gain_1e3': '/gpfs/bbp.cscs.ch/project/proj85/scratch/laquitai/preprint_2024/0_silico/neuropixels/concatenated_campaigns/SortingKS3_noise_0uV_gain_1e3_10m/',\n",
       " 'ks3_output_buttw_noise_0uV_gain_1e3': '/gpfs/bbp.cscs.ch/project/proj85/scratch/laquitai/preprint_2024/0_silico/neuropixels/concatenated_campaigns/KS3_output_noise_0uV_gain_1e3_10m/',\n",
       " 'output_buttw_noise_0uV_gain_5000': '/gpfs/bbp.cscs.ch/project/proj85/scratch/laquitai/preprint_2024/0_silico/neuropixels/concatenated_campaigns/SortingKS3_noise_0uV_gain_5000_10m/',\n",
       " 'ks3_output_buttw_noise_0uV_gain_5000': '/gpfs/bbp.cscs.ch/project/proj85/scratch/laquitai/preprint_2024/0_silico/neuropixels/concatenated_campaigns/KS3_output_noise_0uV_gain_5000_10m/',\n",
       " 'output_buttw_noise_0uV_gain_1e4': '/gpfs/bbp.cscs.ch/project/proj85/scratch/laquitai/preprint_2024/0_silico/neuropixels/concatenated_campaigns/SortingKS3_noise_0uV_gain_1e4_10m/',\n",
       " 'ks3_output_buttw_noise_0uV_gain_1e4': '/gpfs/bbp.cscs.ch/project/proj85/scratch/laquitai/preprint_2024/0_silico/neuropixels/concatenated_campaigns/KS3_output_noise_0uV_gain_1e4_10m/',\n",
       " 'output_buttw_noise_0uV_gain_1e5': '/gpfs/bbp.cscs.ch/project/proj85/scratch/laquitai/preprint_2024/0_silico/neuropixels/concatenated_campaigns/SortingKS3_noise_0uV_gain_1e5_10m/',\n",
       " 'ks3_output_buttw_noise_0uV_gain_1e5': '/gpfs/bbp.cscs.ch/project/proj85/scratch/laquitai/preprint_2024/0_silico/neuropixels/concatenated_campaigns/KS3_output_noise_0uV_gain_1e5_10m/',\n",
       " 'output_buttw_noise_0uV_gain_1e6': '/gpfs/bbp.cscs.ch/project/proj85/scratch/laquitai/preprint_2024/0_silico/neuropixels/concatenated_campaigns/SortingKS3_noise_0uV_gain_1e6_10m/',\n",
       " 'ks3_output_buttw_noise_0uV_gain_1e6': '/gpfs/bbp.cscs.ch/project/proj85/scratch/laquitai/preprint_2024/0_silico/neuropixels/concatenated_campaigns/KS3_output_noise_0uV_gain_1e6_10m/',\n",
       " 'output_buttw_gain_fitd_noise_50_perc_lower': '/gpfs/bbp.cscs.ch/project/proj85/scratch/laquitai/preprint_2024/0_silico/neuropixels/concatenated_campaigns/SortingKS3_buttw_gain_fitd_noise_50_perc_lower_10m/',\n",
       " 'ks3_output_buttw_gain_fitd_noise_50_perc_lower': '/gpfs/bbp.cscs.ch/project/proj85/scratch/laquitai/preprint_2024/0_silico/neuropixels/concatenated_campaigns/KS3_output_buttw_gain_fitd_noise_50_perc_lower_10m/',\n",
       " 'output_buttw_gain_fitd_noise_75_perc_lower': '/gpfs/bbp.cscs.ch/project/proj85/scratch/laquitai/preprint_2024/0_silico/neuropixels/concatenated_campaigns/SortingKS3_buttw_gain_fitd_noise_75_perc_lower_10m/',\n",
       " 'ks3_output_buttw_gain_fitd_noise_75_perc_lower': '/gpfs/bbp.cscs.ch/project/proj85/scratch/laquitai/preprint_2024/0_silico/neuropixels/concatenated_campaigns/KS3_output_buttw_gain_fitd_noise_75_perc_lower_10m/',\n",
       " 'output_buttw_gain_fitd_noise_80_perc_lower': '/gpfs/bbp.cscs.ch/project/proj85/scratch/laquitai/preprint_2024/0_silico/neuropixels/concatenated_campaigns/SortingKS3_buttw_gain_fitd_noise_80_perc_lower_10m/',\n",
       " 'ks3_output_buttw_gain_fitd_noise_80_perc_lower': '/gpfs/bbp.cscs.ch/project/proj85/scratch/laquitai/preprint_2024/0_silico/neuropixels/concatenated_campaigns/KS3_output_buttw_gain_fitd_noise_80_perc_lower_10m/',\n",
       " 'output_buttw_gain_fitd_noise_90_perc_lower': '/gpfs/bbp.cscs.ch/project/proj85/scratch/laquitai/preprint_2024/0_silico/neuropixels/concatenated_campaigns/SortingKS3_buttw_gain_fitd_noise_90_perc_lower_10m/',\n",
       " 'ks3_output_buttw_gain_fitd_noise_90_perc_lower': '/gpfs/bbp.cscs.ch/project/proj85/scratch/laquitai/preprint_2024/0_silico/neuropixels/concatenated_campaigns/KS3_output_buttw_gain_fitd_noise_90_perc_lower_10m/',\n",
       " 'output_buttw_gain_fitd_noise_95_perc_lower': '/gpfs/bbp.cscs.ch/project/proj85/scratch/laquitai/preprint_2024/0_silico/neuropixels/concatenated_campaigns/SortingKS3_buttw_gain_fitd_noise_95_perc_lower_10m/',\n",
       " 'ks3_output_buttw_gain_fitd_noise_95_perc_lower': '/gpfs/bbp.cscs.ch/project/proj85/scratch/laquitai/preprint_2024/0_silico/neuropixels/concatenated_campaigns/KS3_output_buttw_gain_fitd_noise_95_perc_lower_10m/',\n",
       " 'output_buttw_gain_fitd_noise_99_perc_lower': '/gpfs/bbp.cscs.ch/project/proj85/scratch/laquitai/preprint_2024/0_silico/neuropixels/concatenated_campaigns/SortingKS3_buttw_gain_fitd_noise_99_perc_lower_10m/',\n",
       " 'ks3_output_buttw_gain_fitd_noise_99_perc_lower': '/gpfs/bbp.cscs.ch/project/proj85/scratch/laquitai/preprint_2024/0_silico/neuropixels/concatenated_campaigns/KS3_output_buttw_gain_fitd_noise_99_perc_lower_10m/'}"
      ]
     },
     "execution_count": 10,
     "metadata": {},
     "output_type": "execute_result"
    }
   ],
   "source": [
    "# list available sortings\n",
    "data_conf_marques[\"sorting\"][\"sorters\"][\"kilosort3\"][\"10m\"]"
   ]
  },
  {
   "cell_type": "markdown",
   "metadata": {},
   "source": [
    "### Accuracies"
   ]
  },
  {
   "cell_type": "code",
   "execution_count": 21,
   "metadata": {},
   "outputs": [
    {
     "name": "stderr",
     "output_type": "stream",
     "text": [
      "/gpfs/bbp.cscs.ch/project/proj85/scratch/laquitai/preprint_2024/envs/spikinterf0_100_5/lib/python3.9/site-packages/spikeinterface/core/base.py:1079: UserWarning: Versions are not the same. This might lead to compatibility errors. Using spikeinterface==0.96.1 is recommended\n",
      "  warnings.warn(\n",
      "/gpfs/bbp.cscs.ch/project/proj85/scratch/laquitai/preprint_2024/envs/spikinterf0_100_5/lib/python3.9/site-packages/spikeinterface/core/base.py:1079: UserWarning: Versions are not the same. This might lead to compatibility errors. Using spikeinterface==0.96.1 is recommended\n",
      "  warnings.warn(\n",
      "/gpfs/bbp.cscs.ch/project/proj85/scratch/laquitai/preprint_2024/envs/spikinterf0_100_5/lib/python3.9/site-packages/spikeinterface/core/base.py:1079: UserWarning: Versions are not the same. This might lead to compatibility errors. Using spikeinterface==0.96.1 is recommended\n",
      "  warnings.warn(\n",
      "/gpfs/bbp.cscs.ch/project/proj85/scratch/laquitai/preprint_2024/envs/spikinterf0_100_5/lib/python3.9/site-packages/spikeinterface/core/base.py:1079: UserWarning: Versions are not the same. This might lead to compatibility errors. Using spikeinterface==0.96.1 is recommended\n",
      "  warnings.warn(\n",
      "/gpfs/bbp.cscs.ch/project/proj85/scratch/laquitai/preprint_2024/envs/spikinterf0_100_5/lib/python3.9/site-packages/spikeinterface/core/base.py:1079: UserWarning: Versions are not the same. This might lead to compatibility errors. Using spikeinterface==0.96.1 is recommended\n",
      "  warnings.warn(\n"
     ]
    }
   ],
   "source": [
    "# a_noise_none_gain_500 = np.mean(\n",
    "#     get_accuracy_for_slice(\n",
    "#         SORTING_TRUE,\n",
    "#         SORTING_NOISE_NONE_GAIN_500,\n",
    "#         start_frame=0,\n",
    "#         end_frame=10 * 60 * SFREQ,\n",
    "#     )\n",
    "#     >= 0.8\n",
    "# )\n",
    "a_noise_none_gain_1e3 = np.mean(\n",
    "    get_accuracy_for_slice(\n",
    "        SORTING_TRUE,\n",
    "        SORTING_NOISE_NONE_GAIN_1e3,\n",
    "        start_frame=0,\n",
    "        end_frame=10 * 60 * SFREQ,\n",
    "    )\n",
    "    >= 0.8\n",
    ")\n",
    "a_noise_none_gain_5000 = np.mean(\n",
    "    get_accuracy_for_slice(\n",
    "        SORTING_TRUE,\n",
    "        SORTING_NOISE_NONE_GAIN_5000,\n",
    "        start_frame=0,\n",
    "        end_frame=10 * 60 * SFREQ,\n",
    "    )\n",
    "    >= 0.8\n",
    ")\n",
    "a_noise_none_gain_1e4 = np.mean(\n",
    "    get_accuracy_for_slice(\n",
    "        SORTING_TRUE,\n",
    "        SORTING_NOISE_NONE_GAIN_1e4,\n",
    "        start_frame=0,\n",
    "        end_frame=10 * 60 * SFREQ,\n",
    "    )\n",
    "    >= 0.8\n",
    ")\n",
    "a_noise_none_gain_1e5 = np.mean(\n",
    "    get_accuracy_for_slice(\n",
    "        SORTING_TRUE,\n",
    "        SORTING_NOISE_NONE_GAIN_1e5,\n",
    "        start_frame=0,\n",
    "        end_frame=10 * 60 * SFREQ,\n",
    "    )\n",
    "    >= 0.8\n",
    ")\n",
    "a_noise_none_gain_1e6 = np.mean(\n",
    "    get_accuracy_for_slice(\n",
    "        SORTING_TRUE,\n",
    "        SORTING_NOISE_NONE_GAIN_1e6,\n",
    "        start_frame=0,\n",
    "        end_frame=10 * 60 * SFREQ,\n",
    "    )\n",
    "    >= 0.8\n",
    ")"
   ]
  },
  {
   "cell_type": "markdown",
   "metadata": {},
   "source": [
    "### Plot"
   ]
  },
  {
   "cell_type": "code",
   "execution_count": 23,
   "metadata": {},
   "outputs": [
    {
     "name": "stdout",
     "output_type": "stream",
     "text": [
      "[0.0994236311239193, 0.10590778097982709, 0.11023054755043228, 0.09293948126801153, 0.024495677233429394]\n"
     ]
    },
    {
     "data": {
      "image/png": "[encoded data removed]",
      "text/plain": [
       "<Figure size 640x480 with 1 Axes>"
      ]
     },
     "metadata": {},
     "output_type": "display_data"
    }
   ],
   "source": [
    "# set plot data\n",
    "accs = [\n",
    "    a_noise_none_gain_1e3,  # much higher gain\n",
    "    a_noise_none_gain_5000,  # much higher gain\n",
    "    a_noise_none_gain_1e4,  # much higher gain\n",
    "    a_noise_none_gain_1e5,  # much higher gain\n",
    "    a_noise_none_gain_1e6,  # much higher gain\n",
    "]\n",
    "gains = [1e3, 5000, 1e4, 1e5, 1e6]\n",
    "\n",
    "# plot\n",
    "fig, ax = plt.subplots()\n",
    "ax.plot(gains, accs, \"-o\", markeredgecolor=\"w\")\n",
    "ax.set_ylabel(\"Sorting accuracy\\n (ratio)\")\n",
    "ax.set_xlabel(\"Gain \\n\")\n",
    "ax.set_ylim([0, 0.4])\n",
    "# ax.set_xlim([-0.01, 0.1])\n",
    "ax.set_xscale(\"log\")\n",
    "\n",
    "# save\n",
    "# plt.savefig(\"figures/6_supp/supp_fig2/svg/npx_acc_vs_noise.svg\", **savefig_cfg)\n",
    "\n",
    "print(accs)"
   ]
  }
 ],
 "metadata": {
  "kernelspec": {
   "display_name": "spikinterf0_100_5",
   "language": "python",
   "name": "python3"
  },
  "language_info": {
   "codemirror_mode": {
    "name": "ipython",
    "version": 3
   },
   "file_extension": ".py",
   "mimetype": "text/x-python",
   "name": "python",
   "nbconvert_exporter": "python",
   "pygments_lexer": "ipython3",
   "version": "3.9.7"
  }
 },
 "nbformat": 4,
 "nbformat_minor": 2
}
