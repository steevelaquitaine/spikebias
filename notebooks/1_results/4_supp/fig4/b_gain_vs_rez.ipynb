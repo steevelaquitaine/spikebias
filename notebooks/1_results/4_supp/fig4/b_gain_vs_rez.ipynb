{
 "cells": [
  {
   "cell_type": "markdown",
   "metadata": {},
   "source": [
    "# Gain vs resolution"
   ]
  },
  {
   "cell_type": "markdown",
   "metadata": {},
   "source": [
    "* number and distribution of unique values"
   ]
  },
  {
   "cell_type": "markdown",
   "metadata": {},
   "source": [
    "### Setup\n",
    "\n",
    "activate spikeinterf.."
   ]
  },
  {
   "cell_type": "code",
   "execution_count": 17,
   "metadata": {},
   "outputs": [
    {
     "name": "stdout",
     "output_type": "stream",
     "text": [
      "The autoreload extension is already loaded. To reload it, use:\n",
      "  %reload_ext autoreload\n",
      "2024-06-03 14:13:12,036 - root - utils.py - get_config - INFO - Reading experiment config.\n",
      "2024-06-03 14:13:12,110 - root - utils.py - get_config - INFO - Reading experiment config. - done\n"
     ]
    }
   ],
   "source": [
    "# SETUP PACKAGES \n",
    "%load_ext autoreload\n",
    "%autoreload 2\n",
    "import os\n",
    "import numpy as np\n",
    "\n",
    "# SET PROJECT PATH\n",
    "PROJ_PATH = \"/gpfs/bbp.cscs.ch/project/proj85/home/laquitai/preprint_2023\"\n",
    "os.chdir(PROJ_PATH)\n",
    "from src.nodes.utils import get_config\n",
    "import spikeinterface as si \n",
    "import spikeinterface.preprocessing as spre\n",
    "from matplotlib import pyplot as plt\n",
    "\n",
    "# DATASETS\n",
    "\n",
    "# SILICO MARQUES RAW\n",
    "data_conf_sili, _ = get_config(\"silico_neuropixels\", \"concatenated\").values()\n",
    "\n",
    "GAIN_NONE = data_conf_sili[\"preprocessing\"][\"output\"][\"40m\"][\n",
    "        \"trace_file_path_noise_none_gain_none_int16\"\n",
    "    ]\n",
    "\n",
    "GAIN_500 = data_conf_sili[\"preprocessing\"][\"output\"][\"40m\"][\n",
    "        \"trace_file_path_noise_none_gain_500_int16\"\n",
    "    ]\n",
    "\n",
    "GAIN_1e3 = data_conf_sili[\"preprocessing\"][\"output\"][\"40m\"][\n",
    "        \"trace_file_path_noise_none_gain_1e3_int16\"\n",
    "    ]\n",
    "GAIN_5000 = data_conf_sili[\"preprocessing\"][\"output\"][\"40m\"][\n",
    "        \"trace_file_path_noise_none_gain_5000_int16\"\n",
    "    ]\n",
    "GAIN_1e4 = data_conf_sili[\"preprocessing\"][\"output\"][\"40m\"][\n",
    "        \"trace_file_path_noise_none_gain_1e4_int16\"\n",
    "    ]\n",
    "GAIN_1e5 = data_conf_sili[\"preprocessing\"][\"output\"][\"40m\"][\n",
    "        \"trace_file_path_noise_none_gain_1e5_int16\"\n",
    "    ]\n",
    "GAIN_1e6 = data_conf_sili[\"preprocessing\"][\"output\"][\"40m\"][\n",
    "        \"trace_file_path_noise_none_gain_1e6_int16\"\n",
    "    ]"
   ]
  },
  {
   "cell_type": "code",
   "execution_count": 2,
   "metadata": {},
   "outputs": [
    {
     "data": {
      "text/plain": [
       "{'trace_file_path_noise_none_gain_none_int16': '/gpfs/bbp.cscs.ch/project/proj85/scratch/laquitai/preprint_2024/0_silico/neuropixels/concatenated_campaigns/preprocessed/trace_file_path_noise_none_gain_none_int16',\n",
       " 'trace_file_path_noise_none_gain_500_int16': '/gpfs/bbp.cscs.ch/project/proj85/scratch/laquitai/preprint_2024/0_silico/neuropixels/concatenated_campaigns/preprocessed/trace_file_path_noise_none_gain_500_int16',\n",
       " 'trace_file_path_noise_none_gain_1e3_int16': '/gpfs/bbp.cscs.ch/project/proj85/scratch/laquitai/preprint_2024/0_silico/neuropixels/concatenated_campaigns/preprocessed/trace_file_path_noise_none_gain_1e3_int16',\n",
       " 'trace_file_path_noise_none_gain_5000_int16': '/gpfs/bbp.cscs.ch/project/proj85/scratch/laquitai/preprint_2024/0_silico/neuropixels/concatenated_campaigns/preprocessed/trace_file_path_noise_none_gain_5000_int16',\n",
       " 'trace_file_path_noise_none_gain_1e4_int16': '/gpfs/bbp.cscs.ch/project/proj85/scratch/laquitai/preprint_2024/0_silico/neuropixels/concatenated_campaigns/preprocessed/trace_file_path_noise_none_gain_1e4_int16',\n",
       " 'trace_file_path_noise_none_gain_1e5_int16': '/gpfs/bbp.cscs.ch/project/proj85/scratch/laquitai/preprint_2024/0_silico/neuropixels/concatenated_campaigns/preprocessed/trace_file_path_noise_none_gain_1e5_int16',\n",
       " 'trace_file_path_noise_none_gain_1e6_int16': '/gpfs/bbp.cscs.ch/project/proj85/scratch/laquitai/preprint_2024/0_silico/neuropixels/concatenated_campaigns/preprocessed/trace_file_path_noise_none_gain_1e6_int16',\n",
       " 'trace_file_path_gain_fitd_adj_noise_fitd_int16': '/gpfs/bbp.cscs.ch/project/proj85/scratch/laquitai/preprint_2024/0_silico/neuropixels/concatenated_campaigns/preprocessed/trace_file_path_gain_fitd_adj_noise_fitd_int16',\n",
       " 'trace_file_path_gain_fitd_noise_50_perc_lower': '/gpfs/bbp.cscs.ch/project/proj85/scratch/laquitai/preprint_2024/0_silico/neuropixels/concatenated_campaigns/preprocessed/trace_file_path_gain_fitd_noise_50_perc_lower',\n",
       " 'trace_file_path_gain_fitd_noise_75_perc_lower': '/gpfs/bbp.cscs.ch/project/proj85/scratch/laquitai/preprint_2024/0_silico/neuropixels/concatenated_campaigns/preprocessed/trace_file_path_gain_fitd_noise_75_perc_lower',\n",
       " 'trace_file_path_gain_fitd_noise_80_perc_lower': '/gpfs/bbp.cscs.ch/project/proj85/scratch/laquitai/preprint_2024/0_silico/neuropixels/concatenated_campaigns/preprocessed/trace_file_path_gain_fitd_noise_80_perc_lower',\n",
       " 'trace_file_path_gain_fitd_noise_90_perc_lower': '/gpfs/bbp.cscs.ch/project/proj85/scratch/laquitai/preprint_2024/0_silico/neuropixels/concatenated_campaigns/preprocessed/trace_file_path_gain_fitd_noise_90_perc_lower',\n",
       " 'trace_file_path_gain_fitd_noise_95_perc_lower': '/gpfs/bbp.cscs.ch/project/proj85/scratch/laquitai/preprint_2024/0_silico/neuropixels/concatenated_campaigns/preprocessed/trace_file_path_gain_fitd_noise_95_perc_lower',\n",
       " 'trace_file_path_gain_fitd_noise_99_perc_lower': '/gpfs/bbp.cscs.ch/project/proj85/scratch/laquitai/preprint_2024/0_silico/neuropixels/concatenated_campaigns/preprocessed/trace_file_path_gain_fitd_noise_99_perc_lower',\n",
       " 'trace_file_path_gain_fitd_noise_40_perc_lower': '/gpfs/bbp.cscs.ch/project/proj85/scratch/laquitai/preprint_2024/0_silico/neuropixels/concatenated_campaigns/preprocessed/trace_file_path_gain_fitd_noise_40_perc_lower',\n",
       " 'trace_file_path_gain_fitd_noise_60_perc_lower': '/gpfs/bbp.cscs.ch/project/proj85/scratch/laquitai/preprint_2024/0_silico/neuropixels/concatenated_campaigns/preprocessed/trace_file_path_gain_fitd_noise_60_perc_lower'}"
      ]
     },
     "execution_count": 2,
     "metadata": {},
     "output_type": "execute_result"
    }
   ],
   "source": [
    "# list available traces\n",
    "data_conf_sili[\"preprocessing\"][\"output\"][\"40m\"]"
   ]
  },
  {
   "cell_type": "code",
   "execution_count": 3,
   "metadata": {},
   "outputs": [],
   "source": [
    "# noise none gain none\n",
    "def get_rez(recording_path: str):\n",
    "    \"\"\"_summary_\n",
    "    takes 4 min for 100 min recording\n",
    "\n",
    "    Args:\n",
    "        recording_path (_type_): _description_\n",
    "\n",
    "    Returns:\n",
    "        _type_: _description_\n",
    "    \"\"\"\n",
    "    Prep40m = si.load_extractor(recording_path)\n",
    "    Prep10m = Prep40m.frame_slice(start_frame=0, end_frame=10 * 60 * 40000)\n",
    "    Prep10mInt16 = spre.astype(Prep10m, \"int16\")\n",
    "    assert Prep10mInt16.dtype == \"int16\"\n",
    "    return Prep10mInt16.get_traces()"
   ]
  },
  {
   "cell_type": "code",
   "execution_count": 4,
   "metadata": {},
   "outputs": [],
   "source": [
    "# (4m) get traces\n",
    "rez_none = get_rez(GAIN_NONE)\n",
    "rez_500 = get_rez(GAIN_500)\n",
    "rez_1e3 = get_rez(GAIN_1e3)\n",
    "rez_5000 = get_rez(GAIN_5000)\n",
    "rez_1e4 = get_rez(GAIN_1e4)\n",
    "rez_1e5 = get_rez(GAIN_1e5)\n",
    "rez_1e6 = get_rez(GAIN_1e6)"
   ]
  },
  {
   "cell_type": "code",
   "execution_count": 5,
   "metadata": {},
   "outputs": [],
   "source": [
    "# (36m) get resolution (number of unique values)\n",
    "gain_none = np.unique(rez_none)\n",
    "gain_500 = np.unique(rez_500)\n",
    "gain_1e3 = np.unique(rez_1e3)\n",
    "gain_5000 = np.unique(rez_5000)\n",
    "gain_1e4 = np.unique(rez_1e4)\n",
    "gain_1e5 = np.unique(rez_1e5)\n",
    "gain_1e6 = np.unique(rez_1e6)"
   ]
  },
  {
   "cell_type": "code",
   "execution_count": 9,
   "metadata": {},
   "outputs": [],
   "source": [
    "# (36m) get resolution (number of unique values)\n",
    "n_none = len(gain_none)\n",
    "n_500 = len(gain_500)\n",
    "n_1e3 = len(gain_1e3)\n",
    "n_5000 = len(gain_5000)\n",
    "n_1e4 = len(gain_1e4)\n",
    "n_1e5 = len(gain_1e5)\n",
    "n_1e6 = len(gain_1e6)"
   ]
  },
  {
   "cell_type": "code",
   "execution_count": 35,
   "metadata": {},
   "outputs": [
    {
     "data": {
      "text/plain": [
       "Text(0, 0.5, 'resolution')"
      ]
     },
     "execution_count": 35,
     "metadata": {},
     "output_type": "execute_result"
    },
    {
     "data": {
      "image/png": "[encoded data removed]",
      "text/plain": [
       "<Figure size 640x480 with 1 Axes>"
      ]
     },
     "metadata": {},
     "output_type": "display_data"
    }
   ],
   "source": [
    "plt.plot(\n",
    "    [1, 500, 1e3, 5000, 1e4, 1e5, 1e6],\n",
    "    [\n",
    "        n_none,\n",
    "        n_500,\n",
    "        n_1e3,\n",
    "        n_5000,\n",
    "        n_1e4,\n",
    "        n_1e5,\n",
    "        n_1e6,\n",
    "    ],\n",
    "    \"-o\",\n",
    ")\n",
    "plt.yscale(\"log\")\n",
    "plt.xscale(\"log\")\n",
    "plt.xlabel(\"gain\")\n",
    "plt.ylabel(\"resolution\")"
   ]
  },
  {
   "cell_type": "code",
   "execution_count": null,
   "metadata": {},
   "outputs": [],
   "source": []
  }
 ],
 "metadata": {
  "kernelspec": {
   "display_name": "spikinterf0_100_5",
   "language": "python",
   "name": "python3"
  },
  "language_info": {
   "codemirror_mode": {
    "name": "ipython",
    "version": 3
   },
   "file_extension": ".py",
   "mimetype": "text/x-python",
   "name": "python",
   "nbconvert_exporter": "python",
   "pygments_lexer": "ipython3",
   "version": "3.9.7"
  }
 },
 "nbformat": 4,
 "nbformat_minor": 2
}
