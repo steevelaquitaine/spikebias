{
 "cells": [
  {
   "cell_type": "code",
   "execution_count": 3,
   "metadata": {},
   "outputs": [
    {
     "name": "stdout",
     "output_type": "stream",
     "text": [
      "2024-09-01 13:54:46,993 - root - utils.py - get_config - INFO - Reading experiment config.\n",
      "2024-09-01 13:54:47,084 - root - utils.py - get_config - INFO - Reading experiment config. - done\n"
     ]
    }
   ],
   "source": [
    "%load_ext autoreload\n",
    "%autoreload 2\n",
    "import os \n",
    "import spikeinterface as si\n",
    "\n",
    "# set project path\n",
    "proj_path = \"/gpfs/bbp.cscs.ch/project/proj85/home/laquitai/preprint_2023/\"\n",
    "os.chdir(proj_path)\n",
    "\n",
    "from src.nodes import utils\n",
    "from src.nodes.utils import get_config\n",
    "from src.nodes.analysis.failures import accuracy as acc\n",
    "from src.nodes.metrics import quality\n",
    "from src.nodes.metrics.quality import get_scores_for_dense_probe as gscdp\n",
    "from src.nodes.metrics.quality import get_chance_for_dense_probe as gchdp\n",
    "from src.nodes.metrics.quality import combine_quality_across_dense_probe as cqadb\n",
    "\n",
    "# DATASETS\n",
    "\n",
    "# NPX PROBE\n",
    "# biophy spont (10m)\n",
    "cfg_ns, _ = get_config(\"silico_neuropixels\", \"concatenated\").values()\n",
    "REC_ns = cfg_ns[\"probe_wiring\"][\"full\"][\"output\"]"
   ]
  },
  {
   "cell_type": "markdown",
   "metadata": {},
   "source": [
    "### Sample every second samples"
   ]
  },
  {
   "cell_type": "code",
   "execution_count": 2,
   "metadata": {},
   "outputs": [],
   "source": [
    "Wired = si.load_extractor(REC_ns)\n",
    "from spikeinterface import NumpyRecording\n",
    "\n",
    "\n",
    "def sample_2X_traces(Wired):\n",
    "\n",
    "    # downsample traces\n",
    "    traces = Wired.get_traces()\n",
    "    new_traces = traces[::2, :]\n",
    "\n",
    "    # copy parameters\n",
    "    sf = Wired.get_sampling_frequency()\n",
    "    cid = Wired.get_channel_ids()\n",
    "\n",
    "    # create new RecordingExtractor\n",
    "    Wired_new = NumpyRecording([new_traces], sampling_frequency=sf, channel_ids=cid)\n",
    "\n",
    "    # copy annotations\n",
    "    for key in Wired.get_annotation_keys():\n",
    "        if not key == \"is_filtered\":\n",
    "            Wired_new.set_annotation(key, Wired.get_annotation(key))\n",
    "\n",
    "    # copy properties\n",
    "    for key in Wired.get_property_keys():\n",
    "        Wired_new.set_property(key, Wired.get_property(key))\n",
    "\n",
    "    # copy probe\n",
    "    if Wired.has_probe():\n",
    "        probe = Wired.get_probe()\n",
    "        Wired_new.set_probe(probe)\n",
    "    return Wired_new"
   ]
  },
  {
   "cell_type": "code",
   "execution_count": 3,
   "metadata": {},
   "outputs": [],
   "source": [
    "Wired2X = sample_2X_traces(Wired)"
   ]
  }
 ],
 "metadata": {
  "kernelspec": {
   "display_name": "spikinterf0_100_5",
   "language": "python",
   "name": "python3"
  },
  "language_info": {
   "codemirror_mode": {
    "name": "ipython",
    "version": 3
   },
   "file_extension": ".py",
   "mimetype": "text/x-python",
   "name": "python",
   "nbconvert_exporter": "python",
   "pygments_lexer": "ipython3",
   "version": "3.9.7"
  }
 },
 "nbformat": 4,
 "nbformat_minor": 2
}
