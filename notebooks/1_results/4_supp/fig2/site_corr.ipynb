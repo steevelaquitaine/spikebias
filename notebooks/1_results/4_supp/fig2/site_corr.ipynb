{
 "cells": [
  {
   "cell_type": "markdown",
   "metadata": {},
   "source": [
    "TODO: \n",
    " - correlations between neibhoring sites: are the 32 neighboring sites the most correlated?\n",
    " - does the biophy best reproduce the correlation structure compared to Buccino?\n",
    "\n",
    " Readings:\n",
    " - Destexhe, Bedard, Scholarpedia"
   ]
  },
  {
   "cell_type": "code",
   "execution_count": 2,
   "metadata": {},
   "outputs": [
    {
     "name": "stdout",
     "output_type": "stream",
     "text": [
      "The autoreload extension is already loaded. To reload it, use:\n",
      "  %reload_ext autoreload\n",
      "2024-06-12 10:47:43,600 - root - utils.py - get_config - INFO - Reading experiment config.\n",
      "2024-06-12 10:47:43,643 - root - utils.py - get_config - INFO - Reading experiment config. - done\n",
      "2024-06-12 10:47:43,645 - root - utils.py - get_config - INFO - Reading experiment config.\n",
      "2024-06-12 10:47:43,795 - root - utils.py - get_config - INFO - Reading experiment config. - done\n"
     ]
    }
   ],
   "source": [
    "# SETUP PACKAGES \n",
    "%load_ext autoreload\n",
    "%autoreload 2\n",
    "import os\n",
    "import numpy as np\n",
    "from matplotlib import pyplot as plt\n",
    "from matplotlib.gridspec import GridSpec\n",
    "import warnings\n",
    "warnings.simplefilter(action='ignore', category=FutureWarning)\n",
    "\n",
    "# SET PROJECT PATH\n",
    "PROJ_PATH = \"/gpfs/bbp.cscs.ch/project/proj85/home/laquitai/preprint_2023\"\n",
    "os.chdir(PROJ_PATH)\n",
    "from src.nodes.utils import get_config\n",
    "from src.nodes.postpro.accuracy import get_sorting_accuracies\n",
    "import spikeinterface as si \n",
    "from spikeinterface import comparison\n",
    "\n",
    "# DATASETS\n",
    "\n",
    "# BUCCINO 2020 \n",
    "data_conf, _ = get_config(\"buccino_2020\", \"2020\").values()\n",
    "BUCCI_KS3_SORTING_PATH = data_conf[\"sorting\"][\"sorters\"][\"kilosort3\"][\"output_buttw\"]\n",
    "BUCCI_GT_SORTING_PATH = data_conf[\"sorting\"][\"simulation\"][\"ground_truth\"][\"output\"]\n",
    "\n",
    "# SILICO MARQUES\n",
    "cfg_m, _ = get_config(\"silico_neuropixels\", \"concatenated\").values()\n",
    "GT_PATH_m = cfg_m[\"probe_wiring\"]\n",
    "SFREQ = 40000\n",
    "\n",
    "# FIGURE SETTINGS\n",
    "COLOR_VIVO = (0.7, 0.7, 0.7)\n",
    "COLOR_SILI = (0.84, 0.27, 0.2)\n",
    "COLOR_STIM = (0.6, 0.75, 0.1)\n",
    "BOX_ASPECT = 1                  # square fig\n",
    "FIG_SIZE = (1,1)\n",
    "plt.rcParams['figure.figsize'] = (2,1)\n",
    "plt.rcParams[\"font.family\"] = \"Arial\"\n",
    "plt.rcParams[\"font.size\"] = 6\n",
    "plt.rcParams['lines.linewidth'] = 0.2\n",
    "plt.rcParams['axes.linewidth'] = 0.5\n",
    "plt.rcParams['axes.spines.top'] = False\n",
    "plt.rcParams['axes.spines.right'] = False\n",
    "plt.rcParams['xtick.major.width'] = 0.3\n",
    "plt.rcParams['xtick.minor.size'] = 0.1\n",
    "plt.rcParams['xtick.major.size'] = 1.5\n",
    "plt.rcParams['ytick.major.size'] = 1.5\n",
    "plt.rcParams['ytick.major.width'] = 0.3\n",
    "legend_cfg = {\"frameon\": False, \"handletextpad\": 0.1}\n",
    "savefig_cfg = {\"transparent\":True}\n",
    "# print(plt.rcParams.keys())"
   ]
  },
  {
   "cell_type": "code",
   "execution_count": 3,
   "metadata": {},
   "outputs": [
    {
     "data": {
      "text/plain": [
       "{'input': '/gpfs/bbp.cscs.ch/project/proj85/scratch/laquitai/preprint_2024/0_silico/neuropixels/concatenated_campaigns/dataeng/recording/traces',\n",
       " 'output': '/gpfs/bbp.cscs.ch/project/proj85/scratch/laquitai/preprint_2024/0_silico/neuropixels/concatenated_campaigns/dataeng/recording/traces',\n",
       " 'output_noise_fitd_int16': '/gpfs/bbp.cscs.ch/project/proj85/scratch/laquitai/preprint_2024/0_silico/neuropixels/concatenated_campaigns/dataeng/recording/traces_noise_fitd_int16',\n",
       " '10m': {'output_noise_none_gain_none_int16': '/gpfs/bbp.cscs.ch/project/proj85/scratch/laquitai/preprint_2024/0_silico/neuropixels/concatenated_campaigns/dataeng/recording/traces_noise_none_gain_none_int16_10m',\n",
       "  'output_noise_0uV_gain_500_int16': '/gpfs/bbp.cscs.ch/project/proj85/scratch/laquitai/preprint_2024/0_silico/neuropixels/concatenated_campaigns/dataeng/recording/traces_noise_0uV_gain_500_int16_10m',\n",
       "  'output_noise_0uV_gain_1e3_int16': '/gpfs/bbp.cscs.ch/project/proj85/scratch/laquitai/preprint_2024/0_silico/neuropixels/concatenated_campaigns/dataeng/recording/traces_noise_0uV_gain_1e3_int16_10m',\n",
       "  'output_noise_0uV_gain_5000_int16': '/gpfs/bbp.cscs.ch/project/proj85/scratch/laquitai/preprint_2024/0_silico/neuropixels/concatenated_campaigns/dataeng/recording/traces_noise_0uV_gain_5000_int16_10m',\n",
       "  'output_noise_0uV_gain_1e4_int16': '/gpfs/bbp.cscs.ch/project/proj85/scratch/laquitai/preprint_2024/0_silico/neuropixels/concatenated_campaigns/dataeng/recording/traces_noise_0uV_gain_1e4_int16_10m',\n",
       "  'output_noise_0uV_gain_1e5_int16': '/gpfs/bbp.cscs.ch/project/proj85/scratch/laquitai/preprint_2024/0_silico/neuropixels/concatenated_campaigns/dataeng/recording/traces_noise_0uV_gain_1e5_int16_10m',\n",
       "  'output_noise_0uV_gain_1e6_int16': '/gpfs/bbp.cscs.ch/project/proj85/scratch/laquitai/preprint_2024/0_silico/neuropixels/concatenated_campaigns/dataeng/recording/traces_noise_0uV_gain_1e6_int16_10m',\n",
       "  'output_noise_0uV_int16': '/gpfs/bbp.cscs.ch/project/proj85/scratch/laquitai/preprint_2024/0_silico/neuropixels/concatenated_campaigns/dataeng/recording/traces_noise_0uV_int16_10m',\n",
       "  'output_noise_20_perc_lower_int16': '/gpfs/bbp.cscs.ch/project/proj85/scratch/laquitai/preprint_2024/0_silico/neuropixels/concatenated_campaigns/dataeng/recording/traces_noise_20_perc_lower_int16_10m',\n",
       "  'output_noise_fitd_int16': '/gpfs/bbp.cscs.ch/project/proj85/scratch/laquitai/preprint_2024/0_silico/neuropixels/concatenated_campaigns/dataeng/recording/traces_noise_fitd_int16_10m',\n",
       "  'output_gain_fitd_noise_50_perc_lower_int16': '/gpfs/bbp.cscs.ch/project/proj85/scratch/laquitai/preprint_2024/0_silico/neuropixels/concatenated_campaigns/dataeng/recording/traces_gain_fitd_noise_50_perc_lower_int16_10m',\n",
       "  'output_gain_fitd_noise_75_perc_lower_int16': '/gpfs/bbp.cscs.ch/project/proj85/scratch/laquitai/preprint_2024/0_silico/neuropixels/concatenated_campaigns/dataeng/recording/traces_gain_fitd_noise_75_perc_lower_int16_10m',\n",
       "  'output_gain_fitd_noise_80_perc_lower_int16': '/gpfs/bbp.cscs.ch/project/proj85/scratch/laquitai/preprint_2024/0_silico/neuropixels/concatenated_campaigns/dataeng/recording/traces_gain_fitd_noise_80_perc_lower_int16_10m',\n",
       "  'output_gain_fitd_noise_90_perc_lower_int16': '/gpfs/bbp.cscs.ch/project/proj85/scratch/laquitai/preprint_2024/0_silico/neuropixels/concatenated_campaigns/dataeng/recording/traces_gain_fitd_noise_90_perc_lower_int16_10m',\n",
       "  'output_gain_fitd_noise_95_perc_lower_int16': '/gpfs/bbp.cscs.ch/project/proj85/scratch/laquitai/preprint_2024/0_silico/neuropixels/concatenated_campaigns/dataeng/recording/traces_gain_fitd_noise_95_perc_lower_int16_10m',\n",
       "  'output_gain_fitd_noise_99_perc_lower_int16': '/gpfs/bbp.cscs.ch/project/proj85/scratch/laquitai/preprint_2024/0_silico/neuropixels/concatenated_campaigns/dataeng/recording/traces_gain_fitd_noise_99_perc_lower_int16_10m'},\n",
       " '40m': {'input_noise_none_gain_none_int16': '/gpfs/bbp.cscs.ch/project/proj85/scratch/laquitai/preprint_2024/0_silico/neuropixels/concatenated_campaigns/dataeng/recording/traces_noise_none_gain_none_int16',\n",
       "  'output_noise_none_gain_none_int16': '/gpfs/bbp.cscs.ch/project/proj85/scratch/laquitai/preprint_2024/0_silico/neuropixels/concatenated_campaigns/dataeng/recording/traces_noise_none_gain_none_int16',\n",
       "  'output_noise_0uV': '/gpfs/bbp.cscs.ch/project/proj85/scratch/laquitai/preprint_2024/0_silico/neuropixels/concatenated_campaigns/dataeng/recording/traces_noise_0uV',\n",
       "  'input_noise_fitd_gain_fitd_int16': '/gpfs/bbp.cscs.ch/project/proj85/scratch/laquitai/preprint_2024/0_silico/neuropixels/concatenated_campaigns/dataeng/recording/traces_noise_ftd_gain_ftd_int16',\n",
       "  'output_noise_fitd_gain_fitd_int16': '/gpfs/bbp.cscs.ch/project/proj85/scratch/laquitai/preprint_2024/0_silico/neuropixels/concatenated_campaigns/dataeng/recording/traces_noise_ftd_gain_ftd_int16',\n",
       "  'output_noise_none_gain_500_int16': '/gpfs/bbp.cscs.ch/project/proj85/scratch/laquitai/preprint_2024/0_silico/neuropixels/concatenated_campaigns/dataeng/recording/traces_noise_none_gain_500_int16',\n",
       "  'output_noise_none_gain_1e3_int16': '/gpfs/bbp.cscs.ch/project/proj85/scratch/laquitai/preprint_2024/0_silico/neuropixels/concatenated_campaigns/dataeng/recording/traces_noise_none_gain_1e3_int16',\n",
       "  'output_noise_none_gain_5000_int16': '/gpfs/bbp.cscs.ch/project/proj85/scratch/laquitai/preprint_2024/0_silico/neuropixels/concatenated_campaigns/dataeng/recording/traces_noise_none_gain_5000_int16',\n",
       "  'output_noise_none_gain_1e4_int16': '/gpfs/bbp.cscs.ch/project/proj85/scratch/laquitai/preprint_2024/0_silico/neuropixels/concatenated_campaigns/dataeng/recording/traces_noise_none_gain_1e4_int16',\n",
       "  'output_noise_none_gain_1e5_int16': '/gpfs/bbp.cscs.ch/project/proj85/scratch/laquitai/preprint_2024/0_silico/neuropixels/concatenated_campaigns/dataeng/recording/traces_noise_none_gain_1e5_int16',\n",
       "  'output_noise_none_gain_1e6_int16': '/gpfs/bbp.cscs.ch/project/proj85/scratch/laquitai/preprint_2024/0_silico/neuropixels/concatenated_campaigns/dataeng/recording/traces_noise_none_gain_1e6_int16',\n",
       "  'input_noise_fitd_gain_fitd_adj20perc_less_int16': '/gpfs/bbp.cscs.ch/project/proj85/scratch/laquitai/preprint_2024/0_silico/neuropixels/concatenated_campaigns/dataeng/recording/traces_noise_fitd_gain_fitd_adj20perc_less_int16',\n",
       "  'output_noise_fitd_gain_fitd_adj20perc_less_int16': '/gpfs/bbp.cscs.ch/project/proj85/scratch/laquitai/preprint_2024/0_silico/neuropixels/concatenated_campaigns/dataeng/recording/traces_noise_fitd_gain_fitd_adj20perc_less_int16',\n",
       "  'input_noise_fitd_gain_fitd_adj10perc_less_int16': '/gpfs/bbp.cscs.ch/project/proj85/scratch/laquitai/preprint_2024/0_silico/neuropixels/concatenated_campaigns/dataeng/recording/traces_noise_fitd_gain_fitd_adj10perc_less_int16',\n",
       "  'output_noise_fitd_gain_fitd_adj10perc_less_int16': '/gpfs/bbp.cscs.ch/project/proj85/scratch/laquitai/preprint_2024/0_silico/neuropixels/concatenated_campaigns/dataeng/recording/traces_noise_fitd_gain_fitd_adj10perc_less_int16',\n",
       "  'input_noise_fitd_gain_fitd_adj05perc_less_int16': '/gpfs/bbp.cscs.ch/project/proj85/scratch/laquitai/preprint_2024/0_silico/neuropixels/concatenated_campaigns/dataeng/recording/traces_noise_fitd_gain_fitd_adj05perc_less_int16',\n",
       "  'output_noise_fitd_gain_fitd_adj05perc_less_int16': '/gpfs/bbp.cscs.ch/project/proj85/scratch/laquitai/preprint_2024/0_silico/neuropixels/concatenated_campaigns/dataeng/recording/traces_noise_fitd_gain_fitd_adj05perc_less_int16',\n",
       "  'input_noise_fitd_gain_fitd_adj_int16': '/gpfs/bbp.cscs.ch/project/proj85/scratch/laquitai/preprint_2024/0_silico/neuropixels/concatenated_campaigns/dataeng/recording/traces_noise_fitd_gain_fitd_adj_int16',\n",
       "  'output_noise_fitd_gain_fitd_adj_int16': '/gpfs/bbp.cscs.ch/project/proj85/scratch/laquitai/preprint_2024/0_silico/neuropixels/concatenated_campaigns/dataeng/recording/traces_noise_fitd_gain_fitd_adj_int16',\n",
       "  'input_noise_fitd_gain_fitd_adj05perc_int16': '/gpfs/bbp.cscs.ch/project/proj85/scratch/laquitai/preprint_2024/0_silico/neuropixels/concatenated_campaigns/dataeng/recording/traces_noise_fitd_gain_fitd_adj05perc_int16',\n",
       "  'output_noise_fitd_gain_fitd_adj05perc_int16': '/gpfs/bbp.cscs.ch/project/proj85/scratch/laquitai/preprint_2024/0_silico/neuropixels/concatenated_campaigns/dataeng/recording/traces_noise_fitd_gain_fitd_adj05perc_int16',\n",
       "  'input_noise_fitd_gain_fitd_adj10perc_int16': '/gpfs/bbp.cscs.ch/project/proj85/scratch/laquitai/preprint_2024/0_silico/neuropixels/concatenated_campaigns/dataeng/recording/traces_noise_fitd_gain_fitd_adj10perc_int16',\n",
       "  'output_noise_fitd_gain_fitd_adj10perc_int16': '/gpfs/bbp.cscs.ch/project/proj85/scratch/laquitai/preprint_2024/0_silico/neuropixels/concatenated_campaigns/dataeng/recording/traces_noise_fitd_gain_fitd_adj10perc_int16',\n",
       "  'input_noise_fitd_gain_fitd_adj20perc_int16': '/gpfs/bbp.cscs.ch/project/proj85/scratch/laquitai/preprint_2024/0_silico/neuropixels/concatenated_campaigns/dataeng/recording/traces_noise_fitd_gain_fitd_adj20perc_int16',\n",
       "  'output_noise_fitd_gain_fitd_adj20perc_int16': '/gpfs/bbp.cscs.ch/project/proj85/scratch/laquitai/preprint_2024/0_silico/neuropixels/concatenated_campaigns/dataeng/recording/traces_noise_fitd_gain_fitd_adj20perc_int16',\n",
       "  'input_gain_fitd_noise_50_perc_lower': '/gpfs/bbp.cscs.ch/project/proj85/scratch/laquitai/preprint_2024/0_silico/neuropixels/concatenated_campaigns/dataeng/recording/traces_gain_fitd_noise_50_perc_lower',\n",
       "  'output_gain_fitd_noise_50_perc_lower': '/gpfs/bbp.cscs.ch/project/proj85/scratch/laquitai/preprint_2024/0_silico/neuropixels/concatenated_campaigns/dataeng/recording/traces_gain_fitd_noise_50_perc_lower',\n",
       "  'input_gain_fitd_noise_75_perc_lower': '/gpfs/bbp.cscs.ch/project/proj85/scratch/laquitai/preprint_2024/0_silico/neuropixels/concatenated_campaigns/dataeng/recording/traces_gain_fitd_noise_75_perc_lower',\n",
       "  'output_gain_fitd_noise_75_perc_lower': '/gpfs/bbp.cscs.ch/project/proj85/scratch/laquitai/preprint_2024/0_silico/neuropixels/concatenated_campaigns/dataeng/recording/traces_gain_fitd_noise_75_perc_lower',\n",
       "  'input_gain_fitd_noise_80_perc_lower': '/gpfs/bbp.cscs.ch/project/proj85/scratch/laquitai/preprint_2024/0_silico/neuropixels/concatenated_campaigns/dataeng/recording/traces_gain_fitd_noise_80_perc_lower',\n",
       "  'output_gain_fitd_noise_80_perc_lower': '/gpfs/bbp.cscs.ch/project/proj85/scratch/laquitai/preprint_2024/0_silico/neuropixels/concatenated_campaigns/dataeng/recording/traces_gain_fitd_noise_80_perc_lower',\n",
       "  'input_gain_fitd_noise_90_perc_lower': '/gpfs/bbp.cscs.ch/project/proj85/scratch/laquitai/preprint_2024/0_silico/neuropixels/concatenated_campaigns/dataeng/recording/traces_gain_fitd_noise_90_perc_lower',\n",
       "  'output_gain_fitd_noise_90_perc_lower': '/gpfs/bbp.cscs.ch/project/proj85/scratch/laquitai/preprint_2024/0_silico/neuropixels/concatenated_campaigns/dataeng/recording/traces_gain_fitd_noise_90_perc_lower',\n",
       "  'input_gain_fitd_noise_95_perc_lower': '/gpfs/bbp.cscs.ch/project/proj85/scratch/laquitai/preprint_2024/0_silico/neuropixels/concatenated_campaigns/dataeng/recording/traces_gain_fitd_noise_95_perc_lower',\n",
       "  'output_gain_fitd_noise_95_perc_lower': '/gpfs/bbp.cscs.ch/project/proj85/scratch/laquitai/preprint_2024/0_silico/neuropixels/concatenated_campaigns/dataeng/recording/traces_gain_fitd_noise_95_perc_lower',\n",
       "  'input_gain_fitd_noise_99_perc_lower': '/gpfs/bbp.cscs.ch/project/proj85/scratch/laquitai/preprint_2024/0_silico/neuropixels/concatenated_campaigns/dataeng/recording/traces_gain_fitd_noise_99_perc_lower',\n",
       "  'output_gain_fitd_noise_99_perc_lower': '/gpfs/bbp.cscs.ch/project/proj85/scratch/laquitai/preprint_2024/0_silico/neuropixels/concatenated_campaigns/dataeng/recording/traces_gain_fitd_noise_99_perc_lower',\n",
       "  'input_gain_fitd_noise_40_perc_lower': '/gpfs/bbp.cscs.ch/project/proj85/scratch/laquitai/preprint_2024/0_silico/neuropixels/concatenated_campaigns/dataeng/recording/traces_gain_fitd_noise_40_perc_lower',\n",
       "  'output_gain_fitd_noise_40_perc_lower': '/gpfs/bbp.cscs.ch/project/proj85/scratch/laquitai/preprint_2024/0_silico/neuropixels/concatenated_campaigns/dataeng/recording/traces_gain_fitd_noise_40_perc_lower',\n",
       "  'input_gain_fitd_noise_60_perc_lower': '/gpfs/bbp.cscs.ch/project/proj85/scratch/laquitai/preprint_2024/0_silico/neuropixels/concatenated_campaigns/dataeng/recording/traces_gain_fitd_noise_60_perc_lower',\n",
       "  'output_gain_fitd_noise_60_perc_lower': '/gpfs/bbp.cscs.ch/project/proj85/scratch/laquitai/preprint_2024/0_silico/neuropixels/concatenated_campaigns/dataeng/recording/traces_gain_fitd_noise_60_perc_lower'},\n",
       " 'input_noise_0uV': '/gpfs/bbp.cscs.ch/project/proj85/scratch/laquitai/preprint_2024/0_silico/neuropixels/concatenated_campaigns/dataeng/recording/traces_noise_0uV',\n",
       " 'output_noise_0uV': '/gpfs/bbp.cscs.ch/project/proj85/scratch/laquitai/preprint_2024/0_silico/neuropixels/concatenated_campaigns/dataeng/recording/traces_noise_0uV',\n",
       " 'output_noise_0uV_int16': '/gpfs/bbp.cscs.ch/project/proj85/scratch/laquitai/preprint_2024/0_silico/neuropixels/concatenated_campaigns/dataeng/recording/traces_noise_0uV_int16',\n",
       " 'input_noise_20_perc_lower': '/gpfs/bbp.cscs.ch/project/proj85/scratch/laquitai/preprint_2024/0_silico/neuropixels/concatenated_campaigns/dataeng/recording/traces_noise_20_perc_lower',\n",
       " 'output_noise_20_perc_lower': '/gpfs/bbp.cscs.ch/project/proj85/scratch/laquitai/preprint_2024/0_silico/neuropixels/concatenated_campaigns/dataeng/recording/traces_noise_20_perc_lower',\n",
       " 'output_noise_20_perc_lower_int16': '/gpfs/bbp.cscs.ch/project/proj85/scratch/laquitai/preprint_2024/0_silico/neuropixels/concatenated_campaigns/dataeng/recording/traces_noise_20_perc_lower_int16'}"
      ]
     },
     "execution_count": 3,
     "metadata": {},
     "output_type": "execute_result"
    }
   ],
   "source": [
    "cfg_m[\"probe_wiring\"]"
   ]
  },
  {
   "cell_type": "code",
   "execution_count": null,
   "metadata": {},
   "outputs": [],
   "source": [
    "si.load_extractor()"
   ]
  }
 ],
 "metadata": {
  "kernelspec": {
   "display_name": "spikinterf0_100_5",
   "language": "python",
   "name": "python3"
  },
  "language_info": {
   "codemirror_mode": {
    "name": "ipython",
    "version": 3
   },
   "file_extension": ".py",
   "mimetype": "text/x-python",
   "name": "python",
   "nbconvert_exporter": "python",
   "pygments_lexer": "ipython3",
   "version": "3.9.7"
  }
 },
 "nbformat": 4,
 "nbformat_minor": 2
}
