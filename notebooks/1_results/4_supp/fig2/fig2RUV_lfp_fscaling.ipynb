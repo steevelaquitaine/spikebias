{
 "cells": [
  {
   "attachments": {},
   "cell_type": "markdown",
   "metadata": {},
   "source": [
    "# PSD\n",
    "\n",
    "* **author**: steeve.laquitaine@epfl.ch\n",
    "\n",
    "* **Execution duration:** : 10 mins for 10 min recordings\n",
    "\n",
    "* **Method**: \n",
    "    * PSD for first 10 minutes of recording. We will analyse the first 10 minutes as PSD is stable across time (compared with 40 min).\n",
    "    * Welch method\n",
    "        * 1Hz resolution, Hann window\n",
    "    * The quality of PSD estimation from FFT depends on a unique parameter, the number of signal samples, N. The largest the number of samples, \n",
    "    and the better the frequency resolution, $f_r$, of the PSD, given sampling frequency $f_s$\n",
    "\n",
    "    $$f_r = f_s / N$$\n",
    "\n",
    "    * We estimated all PSDs over the same number of recording samples, to allow for a fair comparison of PSDs which frequency resolution depends on the signal's sample size. Small sample size degrades the frequency resolution of the PSD compared to large sample size, potentially masking significant features.\n",
    "    * To minimize computational cost, we show the PSDs estimated from the same sample sizes corresponding to about 5 min of recordings, which was the shortest period that best preserved the features observed in the PSD estimated from the entire recordings.\n",
    "    * We also estimated the PSD for all experiments' first 20 minutes (the largest common duration) and the entire recordings (see Supplementary figure).\n",
    "\n",
    "\n",
    "    * Spiking band for power SNR: 300 - 6000 Hz"
   ]
  },
  {
   "attachments": {},
   "cell_type": "markdown",
   "metadata": {},
   "source": [
    "## Setup\n",
    "\n",
    "1. Compute power spectral data with: \n",
    "\n",
    "    sbatch src/pipes/validation/psd/mpi_npx_full.py  \n",
    "    sbatch src/pipes/validation/psd/mpi_dense_full.py\n",
    "\n",
    "2. Activate `spikeinterf..` venv"
   ]
  },
  {
   "cell_type": "code",
   "execution_count": 14,
   "metadata": {},
   "outputs": [
    {
     "name": "stdout",
     "output_type": "stream",
     "text": [
      "The autoreload extension is already loaded. To reload it, use:\n",
      "  %reload_ext autoreload\n",
      "2024-07-23 10:34:09,826 - root - utils.py - get_config - INFO - Reading experiment config.\n",
      "2024-07-23 10:34:09,845 - root - utils.py - get_config - INFO - Reading experiment config. - done\n",
      "2024-07-23 10:34:09,845 - root - utils.py - get_config - INFO - Reading experiment config.\n",
      "2024-07-23 10:34:09,914 - root - utils.py - get_config - INFO - Reading experiment config. - done\n",
      "2024-07-23 10:34:09,915 - root - utils.py - get_config - INFO - Reading experiment config.\n",
      "2024-07-23 10:34:09,942 - root - utils.py - get_config - INFO - Reading experiment config. - done\n",
      "2024-07-23 10:34:09,943 - root - utils.py - get_config - INFO - Reading experiment config.\n",
      "2024-07-23 10:34:09,963 - root - utils.py - get_config - INFO - Reading experiment config. - done\n",
      "2024-07-23 10:34:09,964 - root - utils.py - get_config - INFO - Reading experiment config.\n",
      "2024-07-23 10:34:09,979 - root - utils.py - get_config - INFO - Reading experiment config. - done\n",
      "2024-07-23 10:34:09,980 - root - utils.py - get_config - INFO - Reading experiment config.\n",
      "2024-07-23 10:34:09,988 - root - utils.py - get_config - INFO - Reading experiment config. - done\n",
      "2024-07-23 10:34:09,989 - root - utils.py - get_config - INFO - Reading experiment config.\n",
      "2024-07-23 10:34:09,999 - root - utils.py - get_config - INFO - Reading experiment config. - done\n",
      "2024-07-23 10:34:09,999 - root - utils.py - get_config - INFO - Reading experiment config.\n",
      "2024-07-23 10:34:10,019 - root - utils.py - get_config - INFO - Reading experiment config. - done\n",
      "2024-07-23 10:34:10,020 - root - utils.py - get_config - INFO - Reading experiment config.\n",
      "2024-07-23 10:34:10,034 - root - utils.py - get_config - INFO - Reading experiment config. - done\n",
      "2024-07-23 10:34:10,035 - root - utils.py - get_config - INFO - Reading experiment config.\n",
      "2024-07-23 10:34:10,049 - root - utils.py - get_config - INFO - Reading experiment config. - done\n"
     ]
    }
   ],
   "source": [
    "# import libs\n",
    "%load_ext autoreload\n",
    "%autoreload 2\n",
    "\n",
    "import warnings\n",
    "warnings.simplefilter(action='ignore', category=FutureWarning)\n",
    "warnings.filterwarnings(\"ignore\")\n",
    "\n",
    "import os\n",
    "import numpy as np\n",
    "import matplotlib\n",
    "from matplotlib import pyplot as plt\n",
    "import spikeinterface as si\n",
    "import copy\n",
    "import multiprocessing\n",
    "import torch\n",
    "import seaborn as sns\n",
    "import pandas as pd\n",
    "\n",
    "# move to PROJECT PATH\n",
    "PROJ_PATH = \"/gpfs/bbp.cscs.ch/project/proj85/home/laquitai/spikebias/\"\n",
    "os.chdir(PROJ_PATH)\n",
    "\n",
    "\n",
    "from src.nodes import utils\n",
    "from src.nodes.utils import get_config\n",
    "from src.nodes.validation import power\n",
    "\n",
    "matplotlib.rcParams['agg.path.chunksize'] = 10000\n",
    "\n",
    "# SETUP PARAMETERS\n",
    "prm = dict()\n",
    "prm[\"SFREQ_HV\"] = 20000          # sampling frequency\n",
    "prm[\"SFREQ_HS\"] = 20000        # sampling frequency\n",
    "prm[\"SFREQ_NV\"] = 30000          # sampling frequency\n",
    "prm[\"SFREQ_NS\"] = 40000        # sampling frequency\n",
    "prm[\"SFREQ_NB\"] = 32000\n",
    "prm[\"SFREQ_NE\"] = 20000\n",
    "\n",
    "# SETUP DATASETS\n",
    "\n",
    "# neuropixels *********************\n",
    "\n",
    "# neuropixels (Marques-Smith)\n",
    "cfg_nv, _ = get_config(\"vivo_marques\", \"c26\").values() \n",
    "RAW_PATH_nv = cfg_nv[\"probe_wiring\"][\"output\"]\n",
    "PREP_PATH_nv = cfg_nv[\"preprocessing\"][\"output\"][\"trace_file_path\"]\n",
    "RAW_PSD_PATH_NV = cfg_nv[\"validation\"][\"psd\"][\"raw\"]\n",
    "PRE_PSD_PATH_NV = cfg_nv[\"validation\"][\"psd\"][\"preprocessed\"]\n",
    "\n",
    "# neuropixels (biophy. spont.)\n",
    "cfg_ns, param_conf_ns = get_config(\"silico_neuropixels\", \"concatenated\").values()\n",
    "RAW_PATH_ns = cfg_ns[\"probe_wiring\"][\"40m\"][\"output_noise_fitd_gain_fitd_adj10perc_less_int16\"]\n",
    "PREP_PATH_ns = cfg_ns[\"preprocessing\"][\"output\"][\"full\"][\"trace_file_path_gain_fitd_adj10perc_less_noise_fitd_int16\"]\n",
    "RAW_PSD_PATH_NS = cfg_ns[\"validation\"][\"psd\"][\"raw\"]\n",
    "PRE_PSD_PATH_NS = cfg_ns[\"validation\"][\"psd\"][\"preprocessed\"]\n",
    "\n",
    "# neuropixels (evoked biophy.)\n",
    "cfg_ne, _ = get_config(\"silico_neuropixels\", \"stimulus\").values()\n",
    "RAW_PATH_ne = cfg_ne[\"probe_wiring\"][\"output\"]\n",
    "PRE_PATH_NE = cfg_ne[\"preprocessing\"][\"output\"][\"full\"][\"trace_file_path_gain_fitd_adj10perc_less_noise_fitd_int16\"]\n",
    "RAW_PSD_PATH_NE = cfg_ne[\"validation\"][\"psd\"][\"raw\"]\n",
    "PRE_PSD_PATH_NE = cfg_ne[\"validation\"][\"psd\"][\"preprocessed\"]\n",
    "\n",
    "# neuropixels (synthetic, Buccino)\n",
    "cfg_nb, param_conf_nb = get_config(\"buccino_2020\", \"2020\").values()\n",
    "RAW_PSD_PATH_NB = cfg_nb[\"validation\"][\"psd\"][\"raw\"]\n",
    "PRE_PSD_PATH_NB = cfg_nb[\"validation\"][\"psd\"][\"preprocessed\"]\n",
    "\n",
    "# custom *******************\n",
    "# vivo (probe 1)\n",
    "cfg_hv1, _ = get_config(\"vivo_horvath\", \"probe_1\").values()\n",
    "RAW_PATH_hv1 =  cfg_hv1[\"probe_wiring\"][\"output\"]\n",
    "PREP_PATH_hv1 = cfg_hv1[\"preprocessing\"][\"output\"][\"trace_file_path\"]\n",
    "RAW_PSD_PATH_HV1 = cfg_hv1[\"validation\"][\"psd\"][\"raw\"]\n",
    "PRE_PSD_PATH_HV1 = cfg_hv1[\"validation\"][\"psd\"][\"preprocessed\"]\n",
    "# probe 2\n",
    "cfg_hv2, _ = get_config(\"vivo_horvath\", \"probe_2\").values()\n",
    "RAW_PATH_hv2 =  cfg_hv2[\"probe_wiring\"][\"output\"]\n",
    "PREP_PATH_hv2 = cfg_hv2[\"preprocessing\"][\"output\"][\"trace_file_path\"]\n",
    "RAW_PSD_PATH_HV2 = cfg_hv2[\"validation\"][\"psd\"][\"raw\"]\n",
    "PRE_PSD_PATH_HV2 = cfg_hv2[\"validation\"][\"psd\"][\"preprocessed\"]\n",
    "# probe 3\n",
    "cfg_hv3, _ = get_config(\"vivo_horvath\", \"probe_3\").values()\n",
    "RAW_PATH_hv3 =  cfg_hv3[\"probe_wiring\"][\"output\"]\n",
    "PREP_PATH_hv3 = cfg_hv3[\"preprocessing\"][\"output\"][\"trace_file_path\"]\n",
    "RAW_PSD_PATH_HV3 = cfg_hv3[\"validation\"][\"psd\"][\"raw\"]\n",
    "PRE_PSD_PATH_HV3 = cfg_hv3[\"validation\"][\"psd\"][\"preprocessed\"]\n",
    "# biophy. model\n",
    "# (probe 1)\n",
    "cfg_hs1, _ = get_config(\"silico_horvath\", \"concatenated/probe_1\").values()\n",
    "RAW_PATH_hs1 = cfg_hs1[\"probe_wiring\"][\"output\"]\n",
    "PREP_PATH_hs1 = cfg_hs1[\"preprocessing\"][\"output\"][\"trace_file_path\"]\n",
    "RAW_PSD_PATH_HS1 = cfg_hs1[\"validation\"][\"psd\"][\"raw\"]\n",
    "PRE_PSD_PATH_HS1 = cfg_hs1[\"validation\"][\"psd\"][\"preprocessed\"]\n",
    "# probe 2\n",
    "cfg_hs2, _ = get_config(\"silico_horvath\", \"concatenated/probe_2\").values()\n",
    "RAW_PATH_hs2 = cfg_hs2[\"probe_wiring\"][\"output\"]\n",
    "PREP_PATH_hs2 = cfg_hs2[\"preprocessing\"][\"output\"][\"trace_file_path\"]\n",
    "RAW_PSD_PATH_HS2 = cfg_hs2[\"validation\"][\"psd\"][\"raw\"]\n",
    "PRE_PSD_PATH_HS2 = cfg_hs2[\"validation\"][\"psd\"][\"preprocessed\"]\n",
    "# probe 3\n",
    "cfg_hs3, _ = get_config(\"silico_horvath\", \"concatenated/probe_3\").values()\n",
    "RAW_PATH_hs3 = cfg_hs3[\"probe_wiring\"][\"output\"]\n",
    "PREP_PATH_hs3 = cfg_hs3[\"preprocessing\"][\"output\"][\"trace_file_path\"]\n",
    "RAW_PSD_PATH_HS3 = cfg_hs3[\"validation\"][\"psd\"][\"raw\"]\n",
    "PRE_PSD_PATH_HS3 = cfg_hs3[\"validation\"][\"psd\"][\"preprocessed\"]\n",
    "\n",
    "\n",
    "# FIGURE SETTINGS\n",
    "FIG_SIZE = (1.5, 1.5)\n",
    "# experiment colors\n",
    "cl = dict()\n",
    "cl[\"COLOR_NV\"] = [0.6, 0.6, 0.6]\n",
    "cl[\"COLOR_NS\"] = [0.9, 0.14, 0.15]\n",
    "cl[\"COLOR_NB\"] = [0.22, 0.5, 0.72] # blue\n",
    "cl[\"COLOR_NE\"] = [1, 0.49, 0] # orange\n",
    "cl[\"COLOR_MEDIAN\"] = (1, 0.76, 0)\n",
    "cl[\"COLOR_HV\"] = \"k\" # black\n",
    "cl[\"COLOR_HS\"] = np.array([26, 152, 80]) / 255 # green\n",
    "\n",
    "# axes aesthetics\n",
    "plt.rcParams[\"font.family\"] = \"Arial\"\n",
    "plt.rcParams[\"font.size\"] = 6  # 5-7 with Nature neuroscience as reference\n",
    "plt.rcParams[\"lines.linewidth\"] = 0.5 # typically 0.5 - 1 pt\n",
    "plt.rcParams[\"axes.linewidth\"] = 0.5 # typically 0.5 - 1 pt\n",
    "plt.rcParams[\"axes.spines.top\"] = False\n",
    "plt.rcParams[\"xtick.major.width\"] = 0.5 #0.8 #* 1.3\n",
    "plt.rcParams[\"xtick.minor.width\"] = 0.5 #0.8 #* 1.3\n",
    "plt.rcParams[\"ytick.major.width\"] = 0.5 #0.8 #* 1.3\n",
    "plt.rcParams[\"ytick.minor.width\"] = 0.5 #0.8 #* 1.3\n",
    "plt.rcParams[\"xtick.major.size\"] = 3.5 * 1.1\n",
    "plt.rcParams[\"xtick.minor.size\"] = 2 * 1.1\n",
    "plt.rcParams[\"ytick.major.size\"] = 3.5 * 1.1\n",
    "plt.rcParams[\"ytick.minor.size\"] = 2 * 1.1\n",
    "N_MAJOR_TICKS = 4\n",
    "N_MINOR_TICKS = 12\n",
    "savefig_cfg = {\"transparent\":True, \"dpi\":300}\n",
    "legend_cfg = {\"frameon\": False, \"handletextpad\": 0.1}\n",
    "tight_layout_cfg = {\"pad\": 0.5}\n",
    "LG_FRAMEON = False              # no legend frame\n",
    "\n",
    "\n",
    "\n",
    "# parameterize\n",
    "FIG_SIZE = (1, 1)\n",
    "pm = {\n",
    "    \"linestyle\": \"None\",\n",
    "    \"marker\": \"o\",\n",
    "    \"markersize\": 1.5,\n",
    "    \"rasterized\": True,\n",
    "    \"markeredgecolor\": \"w\",\n",
    "    \"markeredgewidth\": 0.06,\n",
    "}\n",
    "pm_fit1 = {\n",
    "    \"linestyle\": \"-\",\n",
    "    \"linewidth\": 0.5,\n",
    "    \"color\": \"k\",\n",
    "}\n",
    "pm_fit2 = {\n",
    "    \"linestyle\": \"-\",\n",
    "    \"linewidth\": 0.5,\n",
    "    \"color\": \"k\",\n",
    "}"
   ]
  },
  {
   "cell_type": "markdown",
   "metadata": {},
   "source": [
    "### Specs"
   ]
  },
  {
   "cell_type": "code",
   "execution_count": 2,
   "metadata": {},
   "outputs": [
    {
     "name": "stdout",
     "output_type": "stream",
     "text": [
      "available cpus: 80\n",
      "available gpus: False\n"
     ]
    },
    {
     "data": {
      "text/plain": [
       "['              total        used        free      shared  buff/cache   available',\n",
       " 'Mem:         385268       15759      368605          67         903      368425',\n",
       " 'Swap:             0           0           0']"
      ]
     },
     "execution_count": 2,
     "metadata": {},
     "output_type": "execute_result"
    }
   ],
   "source": [
    "# cpus, gpu and current memory usage\n",
    "print(\"available cpus:\", multiprocessing.cpu_count())\n",
    "print(\"available gpus:\", torch.cuda.is_available())\n",
    "%system free -m"
   ]
  },
  {
   "cell_type": "markdown",
   "metadata": {},
   "source": [
    "### Custom functions"
   ]
  },
  {
   "cell_type": "code",
   "execution_count": null,
   "metadata": {},
   "outputs": [],
   "source": [
    "def print_slope(alpha):\n",
    "    print(f\"\\u03B1={np.round(np.mean(alpha),1)}\\u00B1{np.round(np.std(alpha),1)}\")"
   ]
  },
  {
   "cell_type": "markdown",
   "metadata": {},
   "source": [
    "### (1s)Load dataset\n",
    "\n",
    "* select first 10 min for speed"
   ]
  },
  {
   "cell_type": "code",
   "execution_count": 3,
   "metadata": {},
   "outputs": [],
   "source": [
    "# Load traces\n",
    "# neuropixels\n",
    "# raw\n",
    "RawNV = si.load_extractor(RAW_PATH_nv)\n",
    "RawNS = si.load_extractor(RAW_PATH_ns)\n",
    "RawNE = si.load_extractor(RAW_PATH_ne)\n",
    "# preprocessed\n",
    "PrepNV = si.load_extractor(PREP_PATH_nv)\n",
    "\n",
    "# horvath\n",
    "# raw (probe 1)\n",
    "RawHV1 = si.load_extractor(RAW_PATH_hv1)\n",
    "RawHS1 = si.load_extractor(RAW_PATH_hs1)\n",
    "# raw (probe 2)\n",
    "RawHV2 = si.load_extractor(RAW_PATH_hv2)\n",
    "RawHS2 = si.load_extractor(RAW_PATH_hs2)\n",
    "# raw (probe 3)\n",
    "RawHV3 = si.load_extractor(RAW_PATH_hv3)\n",
    "RawHS3 = si.load_extractor(RAW_PATH_hs3)\n",
    "# preprocessed (probe 1)\n",
    "PrepHV1 = si.load_extractor(PREP_PATH_hv1)\n",
    "PrepHS1 = si.load_extractor(PREP_PATH_hs1)\n",
    "# preprocessed (probe 2)\n",
    "PrepHV2 = si.load_extractor(PREP_PATH_hv2)\n",
    "PrepHS2 = si.load_extractor(PREP_PATH_hs2)\n",
    "# preprocessed (probe 3)\n",
    "PrepHV3 = si.load_extractor(PREP_PATH_hv3)\n",
    "PrepHS3 = si.load_extractor(PREP_PATH_hs3)\n",
    "\n",
    "\n",
    "# 4 - get good sites (in cortex) **********************\n",
    "# neuropixels\n",
    "lyrs = [\"L1\", \"L2_3\", \"L4\", \"L5\", \"L6\"]\n",
    "# silico\n",
    "site_ly_ns = RawNS.get_property(\"layers\")\n",
    "site_ly_ns[site_ly_ns == \"L2\"] = \"L2_3\"\n",
    "site_ly_ns[site_ly_ns == \"L3\"] = \"L2_3\"\n",
    "sites_ns = np.where(np.isin(site_ly_ns, lyrs))[0]\n",
    "# evoked\n",
    "site_ly_ne = RawNE.get_property(\"layers\")\n",
    "site_ly_ne[site_ly_ne == \"L2\"] = \"L2_3\"\n",
    "site_ly_ne[site_ly_ne == \"L3\"] = \"L2_3\"\n",
    "sites_ne = np.where(np.isin(site_ly_ne, lyrs))[0]\n",
    "# vivo\n",
    "site_ly_nv = RawNV.get_property(\"layers\")\n",
    "sites_nv = np.where(np.isin(site_ly_nv, lyrs))[0]\n",
    "\n",
    "# horvath\n",
    "# silico\n",
    "# probe 1 (select L1, L2/3)\n",
    "site_ly_hs1 = RawHS1.get_property(\"layers\")\n",
    "site_ly_hs1 = np.array([\"L2_3\" if x == \"L2\" or x == \"L3\" else x for x in site_ly_hs1])\n",
    "sites_hs1 = np.where(np.isin(site_ly_hs1, [\"L1\", \"L2_3\"]))[0]\n",
    "# probe 2 (select L4 and L5)\n",
    "site_ly_hs2 = RawHS2.get_property(\"layers\")\n",
    "sites_hs2 = np.where(np.isin(site_ly_hs2, [\"L4\", \"L5\"]))[0]\n",
    "# probe 3 (select L6)\n",
    "site_ly_hs3 = RawHS3.get_property(\"layers\")\n",
    "site_ly_hs3 = np.array([\"L2_3\" if x == \"L2\" or x == \"L3\" else x for x in site_ly_hs3])\n",
    "sites_hs3 = np.where(np.isin(site_ly_hs3, [\"L6\"]))[0]\n",
    "\n",
    "# vivo\n",
    "# probe 1\n",
    "site_ly_hv1 = RawHV1.get_property(\"layers\")\n",
    "sites_hv1 = np.where(np.isin(site_ly_hv1, [\"L1\", \"L2_3\"]))[0]\n",
    "# probe 2\n",
    "site_ly_hv2 = RawHV2.get_property(\"layers\")\n",
    "sites_hv2 = np.where(np.isin(site_ly_hv2, [\"L4\", \"L5\"]))[0]\n",
    "# probe 3\n",
    "site_ly_hv3 = RawHV3.get_property(\"layers\")\n",
    "sites_hv3 = np.where(np.isin(site_ly_hv3, [\"L6\"]))[0]\n",
    "\n",
    "# Load pre-computed PSDs (in cortex)\n",
    "# neuropixels\n",
    "# raw\n",
    "psd_raw_nv = np.load(RAW_PSD_PATH_NV, allow_pickle=True).item()\n",
    "psd_raw_ns = np.load(RAW_PSD_PATH_NS, allow_pickle=True).item()\n",
    "psd_raw_ne = np.load(RAW_PSD_PATH_NE, allow_pickle=True).item()\n",
    "psd_raw_nb = np.load(RAW_PSD_PATH_NB, allow_pickle=True).item()\n",
    "# preprocessed\n",
    "psd_pre_nv = np.load(PRE_PSD_PATH_NV, allow_pickle=True).item()\n",
    "psd_pre_ns = np.load(PRE_PSD_PATH_NS, allow_pickle=True).item()\n",
    "psd_pre_ne = np.load(PRE_PSD_PATH_NE, allow_pickle=True).item()\n",
    "psd_pre_nb = np.load(PRE_PSD_PATH_NB, allow_pickle=True).item()\n",
    "\n",
    "# custom (Horvath)\n",
    "psd_raw_hv1 = np.load(RAW_PSD_PATH_HV1, allow_pickle=True).item()\n",
    "psd_raw_hv2 = np.load(RAW_PSD_PATH_HV2, allow_pickle=True).item()\n",
    "psd_raw_hv3 = np.load(RAW_PSD_PATH_HV3, allow_pickle=True).item()\n",
    "psd_raw_hs1 = np.load(RAW_PSD_PATH_HS1, allow_pickle=True).item()\n",
    "psd_raw_hs2 = np.load(RAW_PSD_PATH_HS2, allow_pickle=True).item()\n",
    "psd_raw_hs3 = np.load(RAW_PSD_PATH_HS3, allow_pickle=True).item()\n",
    "# preprocessed\n",
    "psd_pre_hv1 = np.load(PRE_PSD_PATH_HV1, allow_pickle=True).item()\n",
    "psd_pre_hv2 = np.load(PRE_PSD_PATH_HV2, allow_pickle=True).item()\n",
    "psd_pre_hv3 = np.load(PRE_PSD_PATH_HV3, allow_pickle=True).item()\n",
    "psd_pre_hs1 = np.load(PRE_PSD_PATH_HS1, allow_pickle=True).item()\n",
    "psd_pre_hs2 = np.load(PRE_PSD_PATH_HS2, allow_pickle=True).item()\n",
    "psd_pre_hs3 = np.load(PRE_PSD_PATH_HS3, allow_pickle=True).item()\n",
    "\n",
    "# unit-test power spectral density resolutions\n",
    "assert psd_raw_hv1[\"freq\"][1] == 1.0, \"psd resolution should be 1Hz\"\n",
    "assert psd_raw_hv2[\"freq\"][1] == 1.0, \"psd resolution should be 1Hz\"\n",
    "assert psd_raw_hv3[\"freq\"][1] == 1.0, \"psd resolution should be 1Hz\"\n",
    "assert psd_raw_hs1[\"freq\"][1] == 1.0, \"psd resolution should be 1Hz\"\n",
    "assert psd_raw_hs2[\"freq\"][1] == 1.0, \"psd resolution should be 1Hz\"\n",
    "assert psd_raw_hs3[\"freq\"][1] == 1.0, \"psd resolution should be 1Hz\"\n",
    "assert psd_raw_nv[\"freq\"][1] == 1.0, \"psd resolution should be 1Hz\"\n",
    "assert psd_raw_ns[\"freq\"][1] == 1.0, \"psd resolution should be 1Hz\"\n",
    "assert psd_raw_ne[\"freq\"][1] == 1.0, \"psd resolution should be 1Hz\"\n",
    "assert psd_raw_nb[\"freq\"][1] == 1.0, \"psd resolution should be 1Hz\"\n",
    "\n",
    "assert psd_pre_hv1[\"freq\"][1] == 1.0, \"psd resolution should be 1Hz\"\n",
    "assert psd_pre_hv2[\"freq\"][1] == 1.0, \"psd resolution should be 1Hz\"\n",
    "assert psd_pre_hv3[\"freq\"][1] == 1.0, \"psd resolution should be 1Hz\"\n",
    "assert psd_pre_hs1[\"freq\"][1] == 1.0, \"psd resolution should be 1Hz\"\n",
    "assert psd_pre_hs2[\"freq\"][1] == 1.0, \"psd resolution should be 1Hz\"\n",
    "assert psd_pre_hs3[\"freq\"][1] == 1.0, \"psd resolution should be 1Hz\"\n",
    "assert psd_pre_nv[\"freq\"][1] == 1.0, \"psd resolution should be 1Hz\"\n",
    "assert psd_pre_ns[\"freq\"][1] == 1.0, \"psd resolution should be 1Hz\"\n",
    "assert psd_pre_ne[\"freq\"][1] == 1.0, \"psd resolution should be 1Hz\"\n",
    "assert psd_pre_nb[\"freq\"][1] == 1.0, \"psd resolution should be 1Hz\""
   ]
  },
  {
   "cell_type": "markdown",
   "metadata": {},
   "source": [
    "# All Layers"
   ]
  },
  {
   "cell_type": "code",
   "execution_count": 15,
   "metadata": {},
   "outputs": [
    {
     "name": "stdout",
     "output_type": "stream",
     "text": [
      "\n",
      "LFP band\n",
      "α=-0.5±0.0\n",
      "α=-0.1±0.0\n",
      "α=0.0±0.0\n",
      "α=-0.2±0.0\n",
      "α=0.0±0.0\n",
      "\n",
      "Spiking band\n",
      "α=-1.4±0.3\n",
      "α=-0.8±0.4\n",
      "α=-0.4±0.3\n",
      "α=-0.5±0.4\n",
      "α=-0.2±0.2\n",
      "\n",
      "\n",
      "n=272 sites\n",
      "n=226 sites\n",
      "n=202 sites\n",
      "n=202 sites\n",
      "n=297 sites\n",
      "\n",
      "Power SNR\n",
      "SNR: 20.694300123261844\n",
      "SNR: 52.335680251857426\n",
      "SNR: 19.701699067206892\n",
      "SNR: 12.17861211984841\n",
      "SNR: 348.558928956298\n",
      "SNR: 125.574705274314\n"
     ]
    },
    {
     "data": {
      "image/png": "[encoded data removed]",
      "text/plain": [
       "<Figure size 100x100 with 1 Axes>"
      ]
     },
     "metadata": {},
     "output_type": "display_data"
    }
   ],
   "source": [
    "# horvath vivo (all layers)\n",
    "# L1 (probe 1)\n",
    "psd_pre_hv1_L1 = copy.copy(psd_pre_hv1)\n",
    "psd_pre_hv1_L1[\"power\"] = psd_pre_hv1[\"power\"][site_ly_hv1[sites_hv1] == \"L1\", :]\n",
    "# L23 (probe 1)\n",
    "psd_pre_hv1_L23 = copy.copy(psd_pre_hv1)\n",
    "psd_pre_hv1_L23[\"power\"] = psd_pre_hv1[\"power\"][site_ly_hv1[sites_hv1] == \"L2_3\", :]\n",
    "# L4 (probe 2)\n",
    "psd_pre_hv2_L4 = copy.copy(psd_pre_hv2)\n",
    "psd_pre_hv2_L4[\"power\"] = psd_pre_hv2[\"power\"][site_ly_hv2[sites_hv2] == \"L4\", :]\n",
    "# L5 (probe 2)\n",
    "psd_pre_hv2_L5 = copy.copy(psd_pre_hv2)\n",
    "psd_pre_hv2_L5[\"power\"] = psd_pre_hv2[\"power\"][site_ly_hv2[sites_hv2] == \"L5\", :]\n",
    "# L6 (probe 3)\n",
    "psd_pre_hv3_L6 = copy.copy(psd_pre_hv3)\n",
    "psd_pre_hv3_L6[\"power\"] = psd_pre_hv3[\"power\"][site_ly_hv3[sites_hv3] == \"L6\", :]\n",
    "\n",
    "# sites in target layers in each probe\n",
    "psd_all_hv = dict()\n",
    "psd_all_hv[\"power\"] = np.vstack(\n",
    "    [\n",
    "        psd_pre_hv1_L1[\"power\"],\n",
    "        psd_pre_hv1_L23[\"power\"],\n",
    "        psd_pre_hv2_L4[\"power\"],\n",
    "        psd_pre_hv2_L5[\"power\"],\n",
    "        psd_pre_hv3_L6[\"power\"],\n",
    "    ]\n",
    ")\n",
    "psd_all_hv[\"freq\"] = psd_pre_hv1[\"freq\"]\n",
    "\n",
    "\n",
    "# horvath biophy. spont. (all layers) **************************\n",
    "# L1 (probe 1)\n",
    "psd_pre_hs1_L1 = copy.copy(psd_pre_hs1)\n",
    "psd_pre_hs1_L1[\"power\"] = psd_pre_hs1[\"power\"][site_ly_hs1[sites_hs1] == \"L1\", :]\n",
    "# L23 (probe 1)\n",
    "psd_pre_hs1_L23 = copy.copy(psd_pre_hs1)\n",
    "psd_pre_hs1_L23[\"power\"] = psd_pre_hs1[\"power\"][site_ly_hs1[sites_hs1] == \"L2_3\", :]\n",
    "# L4 (probe 2)\n",
    "psd_pre_hs2_L4 = copy.copy(psd_pre_hs2)\n",
    "psd_pre_hs2_L4[\"power\"] = psd_pre_hs2[\"power\"][site_ly_hs2[sites_hs2] == \"L4\", :]\n",
    "# L5 (probe 2)\n",
    "psd_pre_hs2_L5 = copy.copy(psd_pre_hs2)\n",
    "psd_pre_hs2_L5[\"power\"] = psd_pre_hs2[\"power\"][site_ly_hs2[sites_hs2] == \"L5\", :]\n",
    "# L6 (probe 3)\n",
    "psd_pre_hs3_L6 = copy.copy(psd_pre_hs3)\n",
    "psd_pre_hs3_L6[\"power\"] = psd_pre_hs3[\"power\"][site_ly_hs3[sites_hs3] == \"L6\", :]\n",
    "\n",
    "# sites in target layers in each probe\n",
    "psd_all_hs = dict()\n",
    "psd_all_hs[\"power\"] = np.vstack(\n",
    "    [\n",
    "        psd_pre_hs1_L1[\"power\"],\n",
    "        psd_pre_hs1_L23[\"power\"],\n",
    "        psd_pre_hs2_L4[\"power\"],\n",
    "        psd_pre_hs2_L5[\"power\"],\n",
    "        psd_pre_hs3_L6[\"power\"],\n",
    "    ]\n",
    ")\n",
    "psd_all_hs[\"freq\"] = psd_pre_hs1[\"freq\"]\n",
    "\n",
    "\n",
    "FIG_SIZE = (1, 1)\n",
    "\n",
    "# we rasterize, else dots increase file size by\n",
    "# 6MB per plot\n",
    "# takes 2 mins\n",
    "YLIM_AX1 = [0, 0.02]\n",
    "YLIM_AX2 = [0, 0.08]\n",
    "N_MAJOR_TICKS = 4\n",
    "ALPHA = 0.7\n",
    "fig, ax1 = plt.subplots(1, 1, figsize=FIG_SIZE)\n",
    "\n",
    "# Fit panel ************************************************************\n",
    "\n",
    "ax1, alphas_lfp_hv, alphas_spiking_hv = power.plot_fits_all(\n",
    "    ax1, psd_all_hv, prm[\"SFREQ_HV\"], cl[\"COLOR_HV\"], pm, pm_fit1, pm_fit2\n",
    ")\n",
    "ax1, alphas_lfp_nv, alphas_spiking_nv = power.plot_fits_all(\n",
    "    ax1, psd_pre_nv, prm[\"SFREQ_NV\"], cl[\"COLOR_NV\"], pm, pm_fit1, pm_fit2\n",
    ")\n",
    "ax1, alphas_lfp_ns, alphas_spiking_ns = power.plot_fits_all(\n",
    "    ax1, psd_pre_ns, prm[\"SFREQ_NS\"], cl[\"COLOR_NS\"], pm, pm_fit1, pm_fit2\n",
    ")\n",
    "ax1, alphas_lfp_ne, alphas_spiking_ne = power.plot_fits_all(\n",
    "    ax1, psd_pre_ne, prm[\"SFREQ_NE\"], cl[\"COLOR_NE\"], pm, pm_fit1, pm_fit2\n",
    ")\n",
    "ax1, alphas_lfp_hs, alphas_spiking_hs = power.plot_fits_all(\n",
    "    ax1, psd_all_hs, prm[\"SFREQ_HS\"], cl[\"COLOR_HS\"], pm, pm_fit1, pm_fit2\n",
    ")\n",
    "\n",
    "# axes legend\n",
    "# esthetics\n",
    "ax1.set_xscale(\"log\")\n",
    "ax1.set_yscale(\"log\")\n",
    "ax1.spines[[\"top\", \"right\"]].set_visible(False)\n",
    "# minor ticks\n",
    "locmaj = matplotlib.ticker.LogLocator(base=10, numticks=N_MAJOR_TICKS)\n",
    "locmin = matplotlib.ticker.LogLocator(\n",
    "    base=10.0,\n",
    "    subs=(0.2, 0.4, 0.6, 0.8),\n",
    "    numticks=N_MINOR_TICKS,\n",
    ")\n",
    "ax1.tick_params(which=\"both\")\n",
    "ax1.xaxis.set_major_locator(locmaj)\n",
    "ax1.xaxis.set_minor_locator(locmin)\n",
    "ax1.xaxis.set_minor_formatter(matplotlib.ticker.NullFormatter())\n",
    "# disconnect axes (R style)\n",
    "ax1.spines[\"bottom\"].set_position((\"axes\", -0.05))\n",
    "ax1.yaxis.set_ticks_position(\"left\")\n",
    "ax1.spines[\"left\"].set_position((\"axes\", -0.05))\n",
    "\n",
    "# report slopes\n",
    "# lfp band\n",
    "print(\"\\nLFP band\")\n",
    "print_slope(alphas_lfp_hv)\n",
    "print_slope(alphas_lfp_nv)\n",
    "print_slope(alphas_lfp_ns)\n",
    "print_slope(alphas_lfp_ne)\n",
    "print_slope(alphas_lfp_hs)\n",
    "\n",
    "# spiking band\n",
    "print(\"\\nSpiking band\")\n",
    "print_slope(alphas_spiking_hv)\n",
    "print_slope(alphas_spiking_nv)\n",
    "print_slope(alphas_spiking_ns)\n",
    "print_slope(alphas_spiking_ne)\n",
    "print_slope(alphas_spiking_hs)\n",
    "\n",
    "# print sites\n",
    "print(\"\\n\")\n",
    "print(f\"\"\"n={psd_all_hv[\"power\"].shape[0]} sites\"\"\")\n",
    "print(f\"\"\"n={psd_pre_nv[\"power\"].shape[0]} sites\"\"\")\n",
    "print(f\"\"\"n={psd_pre_ns[\"power\"].shape[0]} sites\"\"\")\n",
    "print(f\"\"\"n={psd_pre_ne[\"power\"].shape[0]} sites\"\"\")\n",
    "print(f\"\"\"n={psd_all_hs[\"power\"].shape[0]} sites\"\"\")\n",
    "\n",
    "\n",
    "# SNR **************************\n",
    "print(\"\\nPower SNR\")\n",
    "\n",
    "out_hv = power.get_power_snr(psd_all_hv[\"power\"], psd_all_hv[\"freq\"], 300, 6000, 90)\n",
    "out_nv = power.get_power_snr(psd_pre_nv[\"power\"], psd_pre_nv[\"freq\"], 300, 6000, 90)\n",
    "out_ns = power.get_power_snr(psd_pre_ns[\"power\"], psd_pre_ns[\"freq\"], 300, 6000, 90)\n",
    "out_ne = power.get_power_snr(psd_pre_ne[\"power\"], psd_pre_ne[\"freq\"], 300, 6000, 90)\n",
    "out_hs = power.get_power_snr(psd_all_hs[\"power\"], psd_all_hs[\"freq\"], 300, 6000, 90)\n",
    "out_nb = power.get_power_snr(psd_pre_nb[\"power\"], psd_pre_nb[\"freq\"], 300, 6000, 90)\n",
    "\n",
    "# save\n",
    "plt.savefig(\n",
    "    \"figures/6_supp/fig2/fig2G_pre_power_fit_all_sites.svg\",\n",
    "    **savefig_cfg,\n",
    ")"
   ]
  },
  {
   "cell_type": "markdown",
   "metadata": {},
   "source": [
    "## Layer 1 "
   ]
  },
  {
   "cell_type": "code",
   "execution_count": 18,
   "metadata": {},
   "outputs": [
    {
     "name": "stdout",
     "output_type": "stream",
     "text": [
      "\n",
      "LFP band\n",
      "α=-0.5±0.0\n",
      "α=-0.1±0.0\n",
      "α=0.0±0.0\n",
      "α=-0.2±0.0\n",
      "α=0.0±0.0\n",
      "\n",
      "Spiking band\n",
      "α=-0.9±0.1\n",
      "α=-0.6±0.1\n",
      "α=-0.2±0.0\n",
      "α=-0.2±0.0\n",
      "α=-0.0±0.0\n"
     ]
    },
    {
     "data": {
      "image/png": "[encoded data removed]",
      "text/plain": [
       "<Figure size 100x100 with 1 Axes>"
      ]
     },
     "metadata": {},
     "output_type": "display_data"
    }
   ],
   "source": [
    "d1 = power.get_psd_data_prepro(\n",
    "    \"L1\",\n",
    "    psd_pre_hv1,\n",
    "    psd_pre_hs1,\n",
    "    psd_pre_nv,\n",
    "    psd_pre_ns,\n",
    "    psd_pre_ne,\n",
    "    site_ly_hv1[sites_hv1],\n",
    "    site_ly_hs1[sites_hs1],\n",
    "    site_ly_nv[sites_nv],\n",
    "    site_ly_ns[sites_ns],\n",
    "    site_ly_ne[sites_ne],\n",
    ")\n",
    "\n",
    "# plot\n",
    "fig, ax = plt.subplots(1, 1, figsize=FIG_SIZE)\n",
    "ax, dd1 = power.plot_power_law_fits(ax, d1, prm, cl, pm, pm_fit1, pm_fit2)\n",
    "\n",
    "# save\n",
    "plt.savefig(\"figures/0_validation/4_power/fig2O_L1_pre_power_fit.svg\", **savefig_cfg)"
   ]
  },
  {
   "cell_type": "markdown",
   "metadata": {},
   "source": [
    "### Stats scaling"
   ]
  },
  {
   "cell_type": "code",
   "execution_count": 19,
   "metadata": {},
   "outputs": [
    {
     "data": {
      "image/png": "[encoded data removed]",
      "text/plain": [
       "<Figure size 100x100 with 1 Axes>"
      ]
     },
     "metadata": {},
     "output_type": "display_data"
    },
    {
     "data": {
      "image/png": "[encoded data removed]",
      "text/plain": [
       "<Figure size 130x125 with 1 Axes>"
      ]
     },
     "metadata": {},
     "output_type": "display_data"
    }
   ],
   "source": [
    "# LFP frequency scaling\n",
    "FIG_SIZE = (1, 1)\n",
    "fig, ax = plt.subplots(1, 1, figsize=FIG_SIZE)\n",
    "ax = power.plot_lfp_freq_scaling_stats(ax, dd1, cl)\n",
    "\n",
    "# save figures\n",
    "plt.savefig(\n",
    "    \"figures/6_supp/fig2/fig2I_L1_prepro_lfp_scaling.svg\",\n",
    "    bbox_inches=\"tight\",\n",
    "    **savefig_cfg\n",
    ")\n",
    "\n",
    "# Spiking frequency scaling\n",
    "FIG_SIZE = (1.3, 1.25)\n",
    "fig, ax = plt.subplots(1, 1, figsize=FIG_SIZE)\n",
    "ax = power.plot_spiking_freq_scaling_stats(ax, dd1, cl)\n",
    "fig.tight_layout(**tight_layout_cfg)\n",
    "\n",
    "# save figures\n",
    "plt.savefig(\n",
    "    \"figures/0_validation/4_power/fig2P_L1_prepro_spiking_scaling.svg\",\n",
    "    bbox_inches=\"tight\",\n",
    "    **savefig_cfg\n",
    ")"
   ]
  },
  {
   "cell_type": "markdown",
   "metadata": {},
   "source": [
    "# Layer 2/3"
   ]
  },
  {
   "cell_type": "markdown",
   "metadata": {},
   "source": [
    "### Compute"
   ]
  },
  {
   "cell_type": "code",
   "execution_count": 11,
   "metadata": {},
   "outputs": [],
   "source": [
    "d23 = power.get_psd_data_prepro(\n",
    "    \"L2_3\",\n",
    "    psd_pre_hv1,\n",
    "    psd_pre_hs1,\n",
    "    psd_pre_nv,\n",
    "    psd_pre_ns,\n",
    "    psd_pre_ne,\n",
    "    site_ly_hv1[sites_hv1],\n",
    "    site_ly_hs1[sites_hs1],\n",
    "    site_ly_nv[sites_nv],\n",
    "    site_ly_ns[sites_ns],\n",
    "    site_ly_ne[sites_ne],\n",
    ")"
   ]
  },
  {
   "cell_type": "markdown",
   "metadata": {},
   "source": [
    "## Power law properties"
   ]
  },
  {
   "cell_type": "code",
   "execution_count": 12,
   "metadata": {},
   "outputs": [
    {
     "name": "stdout",
     "output_type": "stream",
     "text": [
      "\n",
      "LFP band\n",
      "α=-0.5±0.0\n",
      "α=-0.1±0.0\n",
      "α=0.0±0.0\n",
      "α=-0.2±0.0\n",
      "α=0.0±0.0\n",
      "\n",
      "Spiking band\n",
      "α=-1.4±0.3\n",
      "α=-0.6±0.2\n",
      "α=-0.2±0.1\n",
      "α=-0.2±0.1\n",
      "α=-0.1±0.1\n",
      "\n",
      "Power SNR\n",
      "SNR: 66.44561570075625\n",
      "SNR: 20.63762866059209\n",
      "SNR: 14.107890180973504\n",
      "SNR: 8.93355296883263\n",
      "SNR: 372.11280439849503\n"
     ]
    },
    {
     "data": {
      "image/png": "[encoded data removed]",
      "text/plain": [
       "<Figure size 100x100 with 1 Axes>"
      ]
     },
     "metadata": {},
     "output_type": "display_data"
    }
   ],
   "source": [
    "# plot\n",
    "FIG_SIZE = (1, 1)\n",
    "fig, ax = plt.subplots(1, 1, figsize=FIG_SIZE)\n",
    "ax, dd23 = power.plot_power_law_fits(ax, d23, prm, cl, pm, pm_fit1, pm_fit2)\n",
    "\n",
    "# save\n",
    "plt.savefig(\"figures/0_validation/4_power/fig2O_L23_pre_power_fit.svg\", **savefig_cfg)"
   ]
  },
  {
   "cell_type": "markdown",
   "metadata": {},
   "source": [
    "## Stats scaling"
   ]
  },
  {
   "cell_type": "code",
   "execution_count": 13,
   "metadata": {},
   "outputs": [
    {
     "data": {
      "image/png": "[encoded data removed]",
      "text/plain": [
       "<Figure size 100x100 with 1 Axes>"
      ]
     },
     "metadata": {},
     "output_type": "display_data"
    },
    {
     "data": {
      "image/png": "[encoded data removed]",
      "text/plain": [
       "<Figure size 130x125 with 1 Axes>"
      ]
     },
     "metadata": {},
     "output_type": "display_data"
    }
   ],
   "source": [
    "# LFP frequency scaling\n",
    "FIG_SIZE = (1, 1)\n",
    "fig, ax = plt.subplots(1, 1, figsize=FIG_SIZE)\n",
    "ax = power.plot_lfp_freq_scaling_stats(ax, dd23, cl)\n",
    "\n",
    "# save figures\n",
    "plt.savefig(\n",
    "    \"figures/6_supp/fig2/fig2I_L23_pre_lfp_scaling.svg\",\n",
    "    bbox_inches=\"tight\",\n",
    "    **savefig_cfg\n",
    ")\n",
    "\n",
    "# Spiking frequency scaling\n",
    "FIG_SIZE = (1.3, 1.25)\n",
    "fig, ax = plt.subplots(1, 1, figsize=FIG_SIZE)\n",
    "ax = power.plot_spiking_freq_scaling_stats(ax, dd23, cl)\n",
    "fig.tight_layout(**tight_layout_cfg)\n",
    "\n",
    "# save figures\n",
    "plt.savefig(\n",
    "    \"figures/0_validation/4_power/fig2P_L23_pre_spiking_scaling.svg\",\n",
    "    bbox_inches=\"tight\",\n",
    "    **savefig_cfg\n",
    ")"
   ]
  },
  {
   "cell_type": "markdown",
   "metadata": {},
   "source": [
    "# Layer 4"
   ]
  },
  {
   "cell_type": "markdown",
   "metadata": {},
   "source": [
    "## Compute"
   ]
  },
  {
   "cell_type": "code",
   "execution_count": 14,
   "metadata": {},
   "outputs": [],
   "source": [
    "d4 = power.get_psd_data_prepro(\n",
    "    \"L4\",\n",
    "    psd_pre_hv2,  # probe 2\n",
    "    psd_pre_hs2,\n",
    "    psd_pre_nv,\n",
    "    psd_pre_ns,\n",
    "    psd_pre_ne,\n",
    "    site_ly_hv2[sites_hv2],  # probe 2\n",
    "    site_ly_hs2[sites_hs2],\n",
    "    site_ly_nv[sites_nv],\n",
    "    site_ly_ns[sites_ns],\n",
    "    site_ly_ne[sites_ne],\n",
    ")"
   ]
  },
  {
   "cell_type": "markdown",
   "metadata": {},
   "source": [
    "## Power law properties"
   ]
  },
  {
   "cell_type": "code",
   "execution_count": 15,
   "metadata": {},
   "outputs": [
    {
     "name": "stdout",
     "output_type": "stream",
     "text": [
      "\n",
      "LFP band\n",
      "α=-0.5±0.0\n",
      "α=-0.1±0.0\n",
      "α=0.0±0.0\n",
      "α=-0.2±0.0\n",
      "α=0.0±0.0\n",
      "\n",
      "Spiking band\n",
      "α=-1.4±0.1\n",
      "α=-0.4±0.1\n",
      "α=-0.6±0.1\n",
      "α=-0.7±0.1\n",
      "α=-0.2±0.2\n",
      "\n",
      "Power SNR\n",
      "SNR: 10.184224666364203\n",
      "SNR: 29.19515783662228\n",
      "SNR: 37.64511739791071\n",
      "SNR: 16.602365786204558\n",
      "SNR: 219.38565873507966\n"
     ]
    },
    {
     "data": {
      "image/png": "[encoded data removed]",
      "text/plain": [
       "<Figure size 100x100 with 1 Axes>"
      ]
     },
     "metadata": {},
     "output_type": "display_data"
    }
   ],
   "source": [
    "# plot\n",
    "FIG_SIZE = (1, 1)\n",
    "fig, ax = plt.subplots(1, 1, figsize=FIG_SIZE)\n",
    "ax, dd4 = power.plot_power_law_fits(ax, d4, prm, cl, pm, pm_fit1, pm_fit2)\n",
    "\n",
    "# save\n",
    "plt.savefig(\"figures/0_validation/4_power/fig2O_L4_pre_power_fit.svg\", **savefig_cfg)"
   ]
  },
  {
   "cell_type": "markdown",
   "metadata": {},
   "source": [
    "## Stats scaling"
   ]
  },
  {
   "cell_type": "code",
   "execution_count": 16,
   "metadata": {},
   "outputs": [
    {
     "data": {
      "image/png": "[encoded data removed]",
      "text/plain": [
       "<Figure size 100x100 with 1 Axes>"
      ]
     },
     "metadata": {},
     "output_type": "display_data"
    },
    {
     "data": {
      "image/png": "[encoded data removed]",
      "text/plain": [
       "<Figure size 130x125 with 1 Axes>"
      ]
     },
     "metadata": {},
     "output_type": "display_data"
    }
   ],
   "source": [
    "# LFP frequency scaling\n",
    "FIG_SIZE = (1, 1)\n",
    "fig, ax = plt.subplots(1, 1, figsize=FIG_SIZE)\n",
    "ax = power.plot_lfp_freq_scaling_stats(ax, dd4, cl)\n",
    "\n",
    "# save figures\n",
    "plt.savefig(\n",
    "    \"figures/6_supp/fig2/fig2I_L4_pre_lfp_scaling.svg\",\n",
    "    bbox_inches=\"tight\",\n",
    "    **savefig_cfg\n",
    ")\n",
    "\n",
    "# Spiking frequency scaling\n",
    "FIG_SIZE = (1.3, 1.25)\n",
    "fig, ax = plt.subplots(1, 1, figsize=FIG_SIZE)\n",
    "ax = power.plot_spiking_freq_scaling_stats(ax, dd4, cl)\n",
    "fig.tight_layout(**tight_layout_cfg)\n",
    "\n",
    "# save figures\n",
    "plt.savefig(\n",
    "    \"figures/0_validation/4_power/fig2P_L4_pre_spiking_scaling.svg\",\n",
    "    bbox_inches=\"tight\",\n",
    "    **savefig_cfg\n",
    ")"
   ]
  },
  {
   "cell_type": "markdown",
   "metadata": {},
   "source": [
    "# Layer 5"
   ]
  },
  {
   "cell_type": "markdown",
   "metadata": {},
   "source": [
    "## Compute"
   ]
  },
  {
   "cell_type": "code",
   "execution_count": 17,
   "metadata": {},
   "outputs": [],
   "source": [
    "d5 = power.get_psd_data_prepro_layer_5(\n",
    "    \"L5\",\n",
    "    psd_pre_hv2,  # probe 2\n",
    "    psd_pre_hs2,\n",
    "    psd_pre_nv,\n",
    "    psd_pre_ns,\n",
    "    psd_pre_ne,\n",
    "    psd_pre_nb,\n",
    "    site_ly_hv2[sites_hv2],  # probe 2\n",
    "    site_ly_hs2[sites_hs2],\n",
    "    site_ly_nv[sites_nv],\n",
    "    site_ly_ns[sites_ns],\n",
    "    site_ly_ne[sites_ne],\n",
    ")"
   ]
  },
  {
   "cell_type": "code",
   "execution_count": 231,
   "metadata": {},
   "outputs": [],
   "source": [
    "# layer = \"L5\"\n",
    "\n",
    "# # horvath vivo (probe 1)\n",
    "# psd_pre_hv2_ = copy.copy(psd_pre_hv2)\n",
    "# psd_pre_hv2_[\"power\"] = psd_pre_hv2[\"power\"][site_ly_hv2[sites_hv2] == layer, :]\n",
    "\n",
    "# # biophy\n",
    "# psd_pre_hs2_ = copy.copy(psd_pre_hs2)\n",
    "# psd_pre_hs2_[\"power\"] = psd_pre_hs2[\"power\"][site_ly_hs2[sites_hs2] == layer, :]\n",
    "\n",
    "# # neuropixels\n",
    "# # vivo\n",
    "# psd_pre_nv_ = copy.copy(psd_pre_nv)\n",
    "# psd_pre_nv_[\"power\"] = psd_pre_nv[\"power\"][site_ly_nv[sites_nv] == layer, :]\n",
    "\n",
    "# # biophy spont\n",
    "# psd_pre_ns_ = copy.copy(psd_pre_ns)\n",
    "# psd_pre_ns_[\"power\"] = psd_pre_ns[\"power\"][site_ly_ns[sites_ns] == layer, :]\n",
    "\n",
    "# # biophy evoked\n",
    "# psd_pre_ne_ = copy.copy(psd_pre_ne)\n",
    "# psd_pre_ne_[\"power\"] = psd_pre_ne[\"power\"][site_ly_ne[sites_ne] == layer, :]\n",
    "\n",
    "\n",
    "# # (11s) Divide by total power ***********************\n",
    "\n",
    "# psd_pre_hv2_[\"power\"] = (\n",
    "#     psd_pre_hv2_[\"power\"] / psd_pre_hv2_[\"power\"].sum(axis=1)[:, None]\n",
    "# )\n",
    "# psd_pre_hs2_[\"power\"] = (\n",
    "#     psd_pre_hs2_[\"power\"] / psd_pre_hs2_[\"power\"].sum(axis=1)[:, None]\n",
    "# )\n",
    "# psd_pre_nv_[\"power\"] = psd_pre_nv_[\"power\"] / psd_pre_nv_[\"power\"].sum(axis=1)[:, None]\n",
    "# psd_pre_ns_[\"power\"] = psd_pre_ns_[\"power\"] / psd_pre_ns_[\"power\"].sum(axis=1)[:, None]\n",
    "# psd_pre_ne_[\"power\"] = psd_pre_ne_[\"power\"] / psd_pre_ne_[\"power\"].sum(axis=1)[:, None]\n",
    "# psd_pre_nb[\"power\"] = psd_pre_nb[\"power\"] / psd_pre_nb[\"power\"].sum(axis=1)[:, None]\n",
    "\n",
    "\n",
    "# # (11s) Average over sites ***********************\n",
    "\n",
    "# # horvath\n",
    "# # in vivo\n",
    "# psd_mean_pre_hv2 = np.mean(psd_pre_hv2_[\"power\"], axis=0)\n",
    "# # biophy\n",
    "# psd_mean_pre_hs2 = np.mean(psd_pre_hs2_[\"power\"], axis=0)\n",
    "\n",
    "# # neuropixels\n",
    "# # pre\n",
    "# psd_mean_pre_nv = np.mean(psd_pre_nv_[\"power\"], axis=0)\n",
    "# psd_mean_pre_ns = np.mean(psd_pre_ns_[\"power\"], axis=0)\n",
    "# psd_mean_pre_ne = np.mean(psd_pre_ne_[\"power\"], axis=0)\n",
    "# psd_mean_pre_nb = np.mean(psd_pre_nb[\"power\"], axis=0)\n",
    "\n",
    "# # Calculate 95% confidence intervals  ******************\n",
    "\n",
    "# # horvath\n",
    "# # vivo\n",
    "# # probe 1\n",
    "# n_samples = psd_pre_hv2_[\"power\"].shape[0]\n",
    "# ci_pre_hv2 = 1.96 * np.std(psd_pre_hv2_[\"power\"], axis=0) / np.sqrt(n_samples)\n",
    "\n",
    "# # biophy.\n",
    "# # probe 1\n",
    "# n_samples = psd_pre_hs2_[\"power\"].shape[0]\n",
    "# ci_pre_hs2 = 1.96 * np.std(psd_pre_hs2_[\"power\"], axis=0) / np.sqrt(n_samples)\n",
    "\n",
    "# # neuropixels\n",
    "# # vivo\n",
    "# n_samples = psd_pre_nv_[\"power\"].shape[0]\n",
    "# ci_pre_nv = 1.96 * np.std(psd_pre_nv_[\"power\"], axis=0) / np.sqrt(n_samples)\n",
    "# # biophy. spont.\n",
    "# n_samples = psd_pre_ns_[\"power\"].shape[0]\n",
    "# ci_pre_ns = 1.96 * np.std(psd_pre_ns_[\"power\"], axis=0) / np.sqrt(n_samples)\n",
    "# # biophy. evoked\n",
    "# n_samples = psd_pre_ne_[\"power\"].shape[0]\n",
    "# ci_pre_ne = 1.96 * np.std(psd_pre_ne_[\"power\"], axis=0) / np.sqrt(n_samples)\n",
    "# ci_pre_ne = 1.96 * np.std(psd_pre_ne_[\"power\"], axis=0) / np.sqrt(n_samples)\n",
    "# # synth. buccino\n",
    "# n_samples = psd_pre_nb[\"power\"].shape[0]\n",
    "# ci_pre_nb = 1.96 * np.std(psd_pre_nb[\"power\"], axis=0) / np.sqrt(n_samples)\n",
    "# ci_pre_nb = 1.96 * np.std(psd_pre_nb[\"power\"], axis=0) / np.sqrt(n_samples)"
   ]
  },
  {
   "cell_type": "markdown",
   "metadata": {},
   "source": [
    "## Power law properties"
   ]
  },
  {
   "cell_type": "code",
   "execution_count": 18,
   "metadata": {},
   "outputs": [
    {
     "name": "stdout",
     "output_type": "stream",
     "text": [
      "\n",
      "LFP band\n",
      "α=-0.5±0.0\n",
      "α=-0.1±0.0\n",
      "α=0.0±0.0\n",
      "α=-0.2±0.0\n",
      "α=0.0±0.0\n",
      "α=0.0±0.0\n",
      "\n",
      "Spiking band\n",
      "α=-1.6±0.3\n",
      "α=-0.8±0.2\n",
      "α=-0.9±0.2\n",
      "α=-1.0±0.2\n",
      "α=-0.2±0.1\n",
      "α=-0.8±0.2\n",
      "\n",
      "Power SNR\n",
      "SNR: 11.35925172134442\n",
      "SNR: 47.46660285035592\n",
      "SNR: 56.48011961949342\n",
      "SNR: 22.853918737870472\n",
      "SNR: 217.46625804834912\n",
      "SNR: 116.72186977416452\n"
     ]
    },
    {
     "data": {
      "image/png": "[encoded data removed]",
      "text/plain": [
       "<Figure size 100x100 with 1 Axes>"
      ]
     },
     "metadata": {},
     "output_type": "display_data"
    }
   ],
   "source": [
    "# plot\n",
    "FIG_SIZE = (1, 1)\n",
    "fig, ax = plt.subplots(1, 1, figsize=FIG_SIZE)\n",
    "ax, dd5 = power.plot_power_law_fits_layer_5(ax, d5, prm, cl, pm, pm_fit1, pm_fit2)\n",
    "\n",
    "# save\n",
    "plt.savefig(\"figures/0_validation/4_power/fig2O_L5_pre_power_fit.svg\", **savefig_cfg)"
   ]
  },
  {
   "cell_type": "markdown",
   "metadata": {},
   "source": [
    "## Stats scaling"
   ]
  },
  {
   "cell_type": "code",
   "execution_count": 19,
   "metadata": {},
   "outputs": [
    {
     "data": {
      "image/png": "[encoded data removed]",
      "text/plain": [
       "<Figure size 100x100 with 1 Axes>"
      ]
     },
     "metadata": {},
     "output_type": "display_data"
    },
    {
     "data": {
      "image/png": "[encoded data removed]",
      "text/plain": [
       "<Figure size 130x125 with 1 Axes>"
      ]
     },
     "metadata": {},
     "output_type": "display_data"
    }
   ],
   "source": [
    "# LFP frequency scaling\n",
    "FIG_SIZE = (1, 1)\n",
    "fig, ax = plt.subplots(1, 1, figsize=FIG_SIZE)\n",
    "ax = power.plot_lfp_freq_scaling_stats_layer_5(ax, dd5, cl)\n",
    "\n",
    "# save figures\n",
    "plt.savefig(\n",
    "    \"figures/6_supp/fig2/fig2I_L5_pre_lfp_scaling.svg\",\n",
    "    bbox_inches=\"tight\",\n",
    "    **savefig_cfg\n",
    ")\n",
    "\n",
    "# Spiking frequency scaling\n",
    "FIG_SIZE = (1.3, 1.25)\n",
    "fig, ax = plt.subplots(1, 1, figsize=FIG_SIZE)\n",
    "ax = power.plot_spiking_freq_scaling_stats_layer_5(ax, dd5, cl)\n",
    "fig.tight_layout(**tight_layout_cfg)\n",
    "\n",
    "# save figures\n",
    "plt.savefig(\n",
    "    \"figures/0_validation/4_power/fig2P_L5_pre_spiking_scaling.svg\",\n",
    "    bbox_inches=\"tight\",\n",
    "    **savefig_cfg\n",
    ")"
   ]
  },
  {
   "cell_type": "markdown",
   "metadata": {},
   "source": [
    "# Layer 6"
   ]
  },
  {
   "cell_type": "markdown",
   "metadata": {},
   "source": [
    "## Compute"
   ]
  },
  {
   "cell_type": "code",
   "execution_count": 20,
   "metadata": {},
   "outputs": [],
   "source": [
    "d6 = power.get_psd_data_prepro(\n",
    "    \"L6\",\n",
    "    psd_pre_hv3,  # probe 3\n",
    "    psd_pre_hs3,\n",
    "    psd_pre_nv,\n",
    "    psd_pre_ns,\n",
    "    psd_pre_ne,\n",
    "    site_ly_hv3[sites_hv3],  # probe 3\n",
    "    site_ly_hs3[sites_hs3],\n",
    "    site_ly_nv[sites_nv],\n",
    "    site_ly_ns[sites_ns],\n",
    "    site_ly_ne[sites_ne],\n",
    ")"
   ]
  },
  {
   "cell_type": "markdown",
   "metadata": {},
   "source": [
    "## Power law properties"
   ]
  },
  {
   "cell_type": "code",
   "execution_count": 21,
   "metadata": {},
   "outputs": [
    {
     "name": "stdout",
     "output_type": "stream",
     "text": [
      "\n",
      "LFP band\n",
      "α=-0.5±0.0\n",
      "α=-0.1±0.0\n",
      "α=0.0±0.0\n",
      "α=-0.2±0.0\n",
      "α=0.0±0.0\n",
      "\n",
      "Spiking band\n",
      "α=-1.3±0.2\n",
      "α=-1.0±0.5\n",
      "α=-0.2±0.1\n",
      "α=-0.3±0.2\n",
      "α=-0.3±0.3\n",
      "\n",
      "Power SNR\n",
      "SNR: 41.42822914907222\n",
      "SNR: 50.68741839381937\n",
      "SNR: 11.572629445447772\n",
      "SNR: 7.267199167359088\n",
      "SNR: 1877.0208828616524\n"
     ]
    },
    {
     "data": {
      "image/png": "[encoded data removed]",
      "text/plain": [
       "<Figure size 100x100 with 1 Axes>"
      ]
     },
     "metadata": {},
     "output_type": "display_data"
    }
   ],
   "source": [
    "# plot\n",
    "FIG_SIZE = (1, 1)\n",
    "fig, ax = plt.subplots(1, 1, figsize=FIG_SIZE)\n",
    "ax, dd6 = power.plot_power_law_fits(ax, d6, prm, cl, pm, pm_fit1, pm_fit2)\n",
    "\n",
    "# save\n",
    "plt.savefig(\"figures/0_validation/4_power/fig2O_L6_pre_power_fit.svg\", **savefig_cfg)"
   ]
  },
  {
   "cell_type": "markdown",
   "metadata": {},
   "source": [
    "## Stats scaling"
   ]
  },
  {
   "cell_type": "code",
   "execution_count": 22,
   "metadata": {},
   "outputs": [
    {
     "data": {
      "image/png": "[encoded data removed]",
      "text/plain": [
       "<Figure size 100x100 with 1 Axes>"
      ]
     },
     "metadata": {},
     "output_type": "display_data"
    },
    {
     "data": {
      "image/png": "[encoded data removed]",
      "text/plain": [
       "<Figure size 130x125 with 1 Axes>"
      ]
     },
     "metadata": {},
     "output_type": "display_data"
    }
   ],
   "source": [
    "# LFP frequency scaling\n",
    "FIG_SIZE = (1, 1)\n",
    "fig, ax = plt.subplots(1, 1, figsize=FIG_SIZE)\n",
    "ax = power.plot_lfp_freq_scaling_stats(ax, dd6, cl)\n",
    "\n",
    "# save figures\n",
    "plt.savefig(\n",
    "    \"figures/6_supp/fig2/fig2I_L6_pre_lfp_scaling.svg\",\n",
    "    bbox_inches=\"tight\",\n",
    "    **savefig_cfg\n",
    ")\n",
    "\n",
    "# Spiking frequency scaling\n",
    "FIG_SIZE = (1.3, 1.25)\n",
    "fig, ax = plt.subplots(1, 1, figsize=FIG_SIZE)\n",
    "ax = power.plot_spiking_freq_scaling_stats(ax, dd6, cl)\n",
    "fig.tight_layout(**tight_layout_cfg)\n",
    "\n",
    "# save figures\n",
    "plt.savefig(\n",
    "    \"figures/0_validation/4_power/fig2P_L6_pre_spiking_scaling.svg\",\n",
    "    bbox_inches=\"tight\",\n",
    "    **savefig_cfg\n",
    ")"
   ]
  },
  {
   "cell_type": "markdown",
   "metadata": {},
   "source": [
    "# Statistics"
   ]
  },
  {
   "cell_type": "markdown",
   "metadata": {},
   "source": [
    "## Layer-average SNR"
   ]
  },
  {
   "cell_type": "code",
   "execution_count": 23,
   "metadata": {},
   "outputs": [],
   "source": [
    "def get_power_snr_stats(out_hv_l1, out_hv_l23, out_hv_l4, out_hv_l5, out_hv_l6):\n",
    "    # calculate power SNR\n",
    "    snr_hv_l1 = out_hv_l1[0] / out_hv_l1[2]\n",
    "    snr_hv_l23 = out_hv_l23[0] / out_hv_l23[2]\n",
    "    snr_hv_l4 = out_hv_l4[0] / out_hv_l4[2]\n",
    "    snr_hv_l5 = out_hv_l5[0] / out_hv_l5[2]\n",
    "    snr_hv_l6 = out_hv_l6[0] / out_hv_l6[2]\n",
    "    # mean\n",
    "    mean_l1 = np.mean([snr_hv_l1, snr_hv_l23, snr_hv_l4, snr_hv_l5, snr_hv_l6])\n",
    "    # 95% CI\n",
    "    ci95_l1 = utils.conf_interv95(\n",
    "        [snr_hv_l1, snr_hv_l23, snr_hv_l4, snr_hv_l5, snr_hv_l6]\n",
    "    )\n",
    "    return mean_l1, ci95_l1"
   ]
  },
  {
   "cell_type": "code",
   "execution_count": 24,
   "metadata": {},
   "outputs": [
    {
     "name": "stdout",
     "output_type": "stream",
     "text": [
      "hv\n"
     ]
    },
    {
     "ename": "NameError",
     "evalue": "name 'out_hv_l1' is not defined",
     "output_type": "error",
     "traceback": [
      "\u001b[0;31m---------------------------------------------------------------------------\u001b[0m",
      "\u001b[0;31mNameError\u001b[0m                                 Traceback (most recent call last)",
      "Cell \u001b[0;32mIn[24], line 4\u001b[0m\n\u001b[1;32m      1\u001b[0m \u001b[38;5;66;03m# hv\u001b[39;00m\n\u001b[1;32m      2\u001b[0m \u001b[38;5;28mprint\u001b[39m(\u001b[38;5;124m\"\u001b[39m\u001b[38;5;124mhv\u001b[39m\u001b[38;5;124m\"\u001b[39m)\n\u001b[1;32m      3\u001b[0m mean_snr, ci95_snr \u001b[38;5;241m=\u001b[39m get_power_snr_stats(\n\u001b[0;32m----> 4\u001b[0m     \u001b[43mout_hv_l1\u001b[49m, out_hv_l23, out_hv_l4, out_hv_l5, out_hv_l6\n\u001b[1;32m      5\u001b[0m )\n\u001b[1;32m      6\u001b[0m \u001b[38;5;28mprint\u001b[39m(\u001b[38;5;124mf\u001b[39m\u001b[38;5;124m\"\u001b[39m\u001b[38;5;132;01m{\u001b[39;00mmean_snr\u001b[38;5;132;01m}\u001b[39;00m\u001b[38;5;124m+-\u001b[39m\u001b[38;5;132;01m{\u001b[39;00mci95_snr\u001b[38;5;132;01m}\u001b[39;00m\u001b[38;5;124m\"\u001b[39m)\n\u001b[1;32m      8\u001b[0m \u001b[38;5;66;03m# hs\u001b[39;00m\n",
      "\u001b[0;31mNameError\u001b[0m: name 'out_hv_l1' is not defined"
     ]
    }
   ],
   "source": [
    "# hv\n",
    "print(\"hv\")\n",
    "mean_snr, ci95_snr = get_power_snr_stats(\n",
    "    out_hv_l1, out_hv_l23, out_hv_l4, out_hv_l5, out_hv_l6\n",
    ")\n",
    "print(f\"{mean_snr}+-{ci95_snr}\")\n",
    "\n",
    "# hs\n",
    "print(\"hs\")\n",
    "mean_snr, ci95_snr = get_power_snr_stats(\n",
    "    out_hs_l1, out_hs_l23, out_hs_l4, out_hs_l5, out_hs_l6\n",
    ")\n",
    "print(f\"{mean_snr}+-{ci95_snr}\")\n",
    "\n",
    "# nv\n",
    "print(\"nv\")\n",
    "mean_snr, ci95_snr = get_power_snr_stats(\n",
    "    out_nv_l1, out_nv_l23, out_nv_l4, out_nv_l5, out_nv_l6\n",
    ")\n",
    "print(f\"{mean_snr}+-{ci95_snr}\")\n",
    "\n",
    "# ns\n",
    "print(\"ns\")\n",
    "mean_snr, ci95_snr = get_power_snr_stats(\n",
    "    out_ns_l1, out_ns_l23, out_ns_l4, out_ns_l5, out_ns_l6\n",
    ")\n",
    "print(f\"{mean_snr}+-{ci95_snr}\")\n",
    "\n",
    "# ne\n",
    "print(\"ne\")\n",
    "mean_snr, ci95_snr = get_power_snr_stats(\n",
    "    out_ne_l1, out_ne_l23, out_ne_l4, out_ne_l5, out_ne_l6\n",
    ")\n",
    "print(f\"{mean_snr}+-{ci95_snr}\")\n",
    "\n",
    "# nb\n",
    "print(\"nb\")\n",
    "snr_nb_l5 = out_nb_l5[0] / out_nb_l5[2]\n",
    "print(snr_nb_l5)"
   ]
  },
  {
   "cell_type": "markdown",
   "metadata": {},
   "source": [
    "# References\n",
    "\n",
    "see plot of known frequency scaling properties of LFP (http://www.scholarpedia.org/article/File:Diffusion-LFP.jpg)\n"
   ]
  }
 ],
 "metadata": {
  "kernelspec": {
   "display_name": "env_kilosort_silico",
   "language": "python",
   "name": "python3"
  },
  "language_info": {
   "codemirror_mode": {
    "name": "ipython",
    "version": 3
   },
   "file_extension": ".py",
   "mimetype": "text/x-python",
   "name": "python",
   "nbconvert_exporter": "python",
   "pygments_lexer": "ipython3",
   "version": "3.9.7"
  },
  "orig_nbformat": 4
 },
 "nbformat": 4,
 "nbformat_minor": 2
}
