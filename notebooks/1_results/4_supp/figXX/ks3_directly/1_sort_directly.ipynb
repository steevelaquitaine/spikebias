{
 "cells": [
  {
   "cell_type": "markdown",
   "metadata": {},
   "source": [
    "# Run"
   ]
  },
  {
   "cell_type": "markdown",
   "metadata": {},
   "source": [
    "#!/bin/bash\n",
    "                    \n",
    "cd \"/gpfs/bbp.cscs.ch/project/proj68/home/laquitai/inspect_ks3/kilosort3_output\"\n",
    "\n",
    "\n",
    "# run script with matlab\n",
    "matlab -nosplash -nodisplay -r \"kilosort3_master('/gpfs/bbp.cscs.ch/project/proj68/home/laquitai/inspect_ks3/kilosort3_output', '/gpfs/bbp.cscs.ch/project/proj68/scratch/laquitai/tests/Kilosort3_inspect/sorters/Kilosort3')\"\n"
   ]
  },
  {
   "cell_type": "markdown",
   "metadata": {},
   "source": [
    "0. Clone Kilosort3 here: `/gpfs/bbp.cscs.ch/project/proj68/scratch/laquitai/3_sfn_2023/controls/sorters/Kilosort3/entrypoints`\n",
    "\n",
    "1. Make a copy of `main_kilosort.m` and `\\configFiles\\StandardConfig_MOVEME.m` and put them in a different directory. These files will contain your own settings, and you don't want them to be overwritten when you update Kilosort.\n",
    "\n",
    "* I did and called the file `configFiles/create_my_channel_map_npx32.m`\n",
    "    \n",
    "\n",
    "2. Generate a channel map file for your probe using `\\configFiles\\createChannelMap.m` as a starting point.\n",
    "\n",
    "3. Edit the config file with desired parameters. You should at least set the file paths `ops.fbinary`, `ops.root` and `ops.fproc` (this file will not exist yet - kilosort will create it), the sampling frequency `ops.fs`, the number of channels in the file `ops.NchanTOT` and the location of your channel map file `ops.chanMap`.\n",
    "\n",
    "4. Edit `main_kilosort.m` so that the paths at the top (lines 3–4) point to your local copies of those GitHub repositories, and so that the configuration file is correctly specified (lines 6–7).\n",
    "\n",
    "\n"
   ]
  },
  {
   "cell_type": "markdown",
   "metadata": {},
   "source": [
    "### Sanity check in the GUI"
   ]
  },
  {
   "cell_type": "markdown",
   "metadata": {},
   "source": [
    "You can run the GUI on your laptop\n",
    "\n",
    "* store here on cluster: `/nfs4/bbp.epfl.ch/user/laquitai/public/`\n",
    "\n",
    "* access here on laptop: `/Volumes/dfs/user/laquitai/public/`\n",
    "    * comment mexGPUall.m scripts to run in matlab on laptop (no GPU)\n",
    "    * open matlab on laptop, move to kilosort.m path and run kilosort\n"
   ]
  },
  {
   "cell_type": "markdown",
   "metadata": {},
   "source": [
    "# references\n",
    "\n",
    "(1) https://github.com/MouseLand/Kilosort\n",
    "\n",
    "\n",
    "(2) `spikeinterface.sorters.kilosortbase.py`\n",
    "* spikeinterface module that creates `chanMap.mat`, `ops..` files too\n",
    "\n",
    "(3) https://github.com/MouseLand/Kilosort/wiki/1.-The-GUI"
   ]
  }
 ],
 "metadata": {
  "language_info": {
   "name": "python"
  },
  "orig_nbformat": 4
 },
 "nbformat": 4,
 "nbformat_minor": 2
}
