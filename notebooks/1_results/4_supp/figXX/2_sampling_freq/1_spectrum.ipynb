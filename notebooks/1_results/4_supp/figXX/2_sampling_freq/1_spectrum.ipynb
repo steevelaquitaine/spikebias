{
 "cells": [
  {
   "attachments": {},
   "cell_type": "markdown",
   "metadata": {},
   "source": [
    "# Spectrum\n",
    "\n",
    "purpose: effect of sampling frequency\n",
    "\n",
    "discussed with Anton Sirota on Kilosort 3.0 sorting accuracy\n",
    "\n",
    "```bash\n",
    "sbatch cluster/figures/supp/plot_power_vs_sfreq.sbatch\n",
    "```"
   ]
  }
 ],
 "metadata": {
  "kernelspec": {
   "display_name": "env_kilosort_silico",
   "language": "python",
   "name": "python3"
  },
  "language_info": {
   "codemirror_mode": {
    "name": "ipython",
    "version": 3
   },
   "file_extension": ".py",
   "mimetype": "text/x-python",
   "name": "python",
   "nbconvert_exporter": "python",
   "pygments_lexer": "ipython3",
   "version": "3.9.7"
  },
  "orig_nbformat": 4
 },
 "nbformat": 4,
 "nbformat_minor": 2
}
