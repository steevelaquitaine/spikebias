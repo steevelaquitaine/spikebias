{
 "cells": [
  {
   "cell_type": "code",
   "execution_count": 1,
   "id": "bdc1edf1",
   "metadata": {},
   "outputs": [
    {
     "name": "stdout",
     "output_type": "stream",
     "text": [
      "Setting KILOSORT3_PATH environment variable for subprocess calls to: /gpfs/bbp.cscs.ch/project/proj68/home/imbeni/SpikeSortingTrials/sorters_packages/Kilosort\n",
      "Setting IRONCLUST_PATH environment variable for subprocess calls to: /gpfs/bbp.cscs.ch/project/proj68/home/imbeni/SpikeSortingTrials/sorters_packages/ironclust\n"
     ]
    }
   ],
   "source": [
    "import traceback\n",
    "import json\n",
    "import os\n",
    "import shutil\n",
    "from pprint import pprint\n",
    "import matplotlib.pyplot as plt\n",
    "import seaborn as sns\n",
    "import pandas as pd\n",
    "import numpy as np\n",
    "from pynwb import NWBHDF5IO\n",
    "\n",
    "import spikeinterface\n",
    "import spikeinterface.full as si  # import core only\n",
    "import spikeinterface.extractors as se\n",
    "import spikeinterface.sorters as ss\n",
    "import spikeinterface.comparison as sc\n",
    "import spikeinterface.widgets as sw\n",
    "import spikeinterface.qualitymetrics as sqm\n",
    "import spikeinterface.postprocessing as spost\n",
    "\n",
    "\n",
    "from pathlib import Path\n",
    "\n",
    "import probeinterface as pi\n",
    "from probeinterface import generate_linear_probe\n",
    "from probeinterface.plotting import plot_probe\n",
    "\n",
    "\n",
    "ss.Kilosort3Sorter.set_kilosort3_path('./sorters_packages/Kilosort')\n",
    "ss.IronClustSorter.set_ironclust_path('./sorters_packages/ironclust')\n"
   ]
  },
  {
   "cell_type": "code",
   "execution_count": 2,
   "id": "077f88f0",
   "metadata": {},
   "outputs": [],
   "source": [
    "datapath = '/gpfs/bbp.cscs.ch/project/proj68/home/imbeni/dataset/reyes/'"
   ]
  },
  {
   "cell_type": "code",
   "execution_count": 4,
   "id": "1ae5ecb6",
   "metadata": {},
   "outputs": [],
   "source": [
    "rec9 = se.read_mcsraw(datapath + 'Exp09/S001E009F002_Raw.raw')\n",
    "rec3 = se.read_mcsraw(datapath + 'Exp26/S001E026F003_Raw.raw')\n",
    "rec5 = se.read_mcsraw(datapath + 'Exp26/S001E026F005_Raw.raw')"
   ]
  },
  {
   "cell_type": "code",
   "execution_count": null,
   "id": "4f5b76b2",
   "metadata": {},
   "outputs": [],
   "source": [
    "rec9"
   ]
  },
  {
   "cell_type": "code",
   "execution_count": 10,
   "id": "fbfc3ca9",
   "metadata": {},
   "outputs": [
    {
     "name": "stdout",
     "output_type": "stream",
     "text": [
      "write_binary_recording with n_jobs = 72 and chunk_size = 138888888\n",
      "write_binary_recording with n_jobs = 72 and chunk_size = 19379844\n",
      "write_binary_recording with n_jobs = 72 and chunk_size = 19379844\n"
     ]
    }
   ],
   "source": [
    "for rec in [rec9,rec3,rec5]:\n",
    "    path = Path(rec._kwargs['file_path']).parent\n",
    "    name = Path(rec._kwargs['file_path']).stem\n",
    "    recf = si.bandpass_filter(rec, freq_min=300, freq_max=6000)\n",
    "    recref = si.common_reference(recf, reference='global', operator='median')\n",
    "    recref.save(folder = str(path) + '/' + str(name[:-4]), format= 'binary', n_jobs = -1, total_memory = '360G')\n",
    "    "
   ]
  },
  {
   "cell_type": "code",
   "execution_count": 5,
   "id": "12d256f2",
   "metadata": {},
   "outputs": [
    {
     "data": {
      "text/plain": [
       "72"
      ]
     },
     "execution_count": 5,
     "metadata": {},
     "output_type": "execute_result"
    }
   ],
   "source": [
    "os.cpu_count()"
   ]
  },
  {
   "cell_type": "code",
   "execution_count": null,
   "id": "c4e5c83b",
   "metadata": {},
   "outputs": [],
   "source": []
  }
 ],
 "metadata": {
  "kernelspec": {
   "display_name": "Python 3 (ipykernel)",
   "language": "python",
   "name": "python3"
  },
  "language_info": {
   "codemirror_mode": {
    "name": "ipython",
    "version": 3
   },
   "file_extension": ".py",
   "mimetype": "text/x-python",
   "name": "python",
   "nbconvert_exporter": "python",
   "pygments_lexer": "ipython3",
   "version": "3.9.7"
  }
 },
 "nbformat": 4,
 "nbformat_minor": 5
}
