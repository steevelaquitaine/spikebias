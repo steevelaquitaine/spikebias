{
 "cells": [
  {
   "attachments": {},
   "cell_type": "markdown",
   "metadata": {
    "slideshow": {
     "slide_type": "slide"
    }
   },
   "source": [
    "# Check spike by cell\n",
    "\n",
    "author: steeve.laquitaine@epfl.ch\n",
    "\n",
    "\n",
    "* `534` near-contact cells\n",
    "* `472` pyramidal cells\n"
   ]
  },
  {
   "cell_type": "code",
   "execution_count": 11,
   "metadata": {},
   "outputs": [
    {
     "name": "stdout",
     "output_type": "stream",
     "text": [
      "The autoreload extension is already loaded. To reload it, use:\n",
      "  %reload_ext autoreload\n",
      "2023-05-08 15:36:16,958 - root - utils.py - get_config - INFO - Reading experiment config.\n",
      "2023-05-08 15:36:16,985 - root - utils.py - get_config - INFO - Reading experiment config. - done\n"
     ]
    }
   ],
   "source": [
    "# SETUP PACKAGES \n",
    "%load_ext autoreload\n",
    "%autoreload 2\n",
    "import os \n",
    "import numpy as np\n",
    "from matplotlib import pyplot as plt\n",
    "from datetime import datetime\n",
    "from time import time\n",
    "import pandas as pd\n",
    "import spikeinterface.extractors as se\n",
    "\n",
    "from spikeinterface.comparison import GroundTruthStudy\n",
    "import shutil \n",
    "\n",
    "# SET PROJECT PATH\n",
    "PROJ_PATH = \"/gpfs/bbp.cscs.ch/project/proj68/home/laquitai/spike-sorting\"\n",
    "os.chdir(PROJ_PATH)\n",
    "from src.nodes.prepro import preprocess\n",
    "from src.nodes.postpro import waveform\n",
    "from src.nodes.utils import get_config, write_metadata\n",
    "from src.nodes.truth.silico import ground_truth\n",
    "from src.nodes.io.silico.loading import load_campaign_params\n",
    "from src.nodes.dataeng.silico import probe_wiring\n",
    "\n",
    "# SET PARAMETERS\n",
    "EXPERIMENT = \"silico_neuropixels\"    # specifies the experiment \n",
    "SIMULATION_DATE = \"2023_02_19\" # specifies the run (date)\n",
    "MS_BEFORE = 3       # ms\n",
    "MS_AFTER = 3        # ms\n",
    "# CELL_ID = 4229506   # the most active near-probe pyramidal cell\n",
    "CELL_ID = 19690   \n",
    "CHANNEL_IDS = np.arange(64,80).tolist()   # plot traces from channels nearest to filtered neuron group\n",
    "CREATE = False # recreate waveform extractor\n",
    "\n",
    "# SETUP CONFIG\n",
    "data_conf, param_conf = get_config(EXPERIMENT, SIMULATION_DATE).values()\n",
    "\n",
    "\n",
    "# SETUP PATH\n",
    "SPIKE_FILE_PATH = data_conf[\"dataeng\"][\"campaign\"][\"output\"][\"spike_file_path\"]\n",
    "RAW_LFP_TRACE_FILE_PATH = data_conf[\"dataeng\"][\"campaign\"][\"output\"][\"trace_file_path\"]\n",
    "CELL_TRACE_FILE_PATH = data_conf[\"dataeng\"][\"campaign\"][\"output\"][\"unit_trace_path\"]+\"cell_3754013_trace.pkl\"\n",
    "\n",
    "\n",
    "# SET WAVEFORM FOLDER\n",
    "STUDY_FOLDER = data_conf[\"postprocessing\"][\"waveform\"][\"study\"]\n",
    "WAVEFORM_FOLDER = data_conf[\"postprocessing\"][\"waveform\"][\"WaveformExtractor\"]"
   ]
  },
  {
   "attachments": {},
   "cell_type": "markdown",
   "metadata": {},
   "source": [
    "1. We load preprocessed recording\n",
    "2. We load spikes and filter input cell spikes\n",
    "2. We extract the spike within -3 to 3 ms centered on the spike timestamps\n",
    "3. We plot the spike-triggered average of each contact"
   ]
  },
  {
   "cell_type": "code",
   "execution_count": 7,
   "metadata": {},
   "outputs": [],
   "source": [
    "# # TODO:\n",
    "# # - make a function and add to node.postpro waveform.py\n",
    "\n",
    "# experiment = EXPERIMENT\n",
    "# simulation_date = SIMULATION_DATE\n",
    "# lfp_trace_file = RAW_LFP_TRACE_FILE_PATH\n",
    "# spike_file = SPIKE_FILE_PATH\n",
    "# study_folder = STUDY_FOLDER\n",
    "# ms_before = MS_BEFORE\n",
    "# ms_after = MS_AFTER\n",
    "\n",
    "# \"\"\"Run spike waveform extraction\n",
    "\n",
    "# TODO:\n",
    "# - add a cell_id argument to filter by cell_ids\n",
    "\n",
    "# Args:\n",
    "#     experiment (str):\n",
    "#     simulation_date (str): _description_\n",
    "#     lfp_trace_file (str): _description_\n",
    "#     spike_file (str): _description_\n",
    "#     cell_id (int): _description_\n",
    "#     study_folder (str): _description_\n",
    "#     ms_before (float): _description_\n",
    "#     ms_after (float): _description_\n",
    "\n",
    "# Returns:\n",
    "#     _type_: _description_\n",
    "# \"\"\"\n",
    "\n",
    "# # load parameters\n",
    "# t0 = time()\n",
    "# data_conf, param_conf = get_config(experiment, simulation_date).values()\n",
    "# simulation = load_campaign_params(data_conf)\n",
    "# print(\"set parameters in \", time() - t0, \"sec\")\n",
    "\n",
    "# # load data\n",
    "# t0 = time()\n",
    "# lfp_trace = pd.read_pickle(lfp_trace_file)\n",
    "# spike_ms = pd.read_pickle(spike_file)\n",
    "# spike_ms = spike_ms[spike_ms.values==CELL_ID]\n",
    "# print(\"load recording and input cell spikes in \", time() - t0, \"sec\")\n",
    "\n",
    "\n",
    "# # Find location indices of the spike time indices nearest to\n",
    "# # the trace time indices\n",
    "# t0 = time()\n",
    "# spike_loc = []\n",
    "# for spike_ms_i in spike_ms.index:\n",
    "#     spike_loc.append(np.abs(lfp_trace.index - spike_ms_i).argmin())\n",
    "# print(\"Converted spike to timepoint location in \", time() - t0, \"sec\")\n",
    "\n",
    "# # map spikes with units in SI's SortingObject (fast)\n",
    "# t0 = time()\n",
    "# times = np.array(spike_loc)\n",
    "# labels = spike_ms.values\n",
    "# SortingObject = se.NumpySorting.from_times_labels(\n",
    "#     [times], [labels], simulation[\"lfp_sampling_freq\"]\n",
    "# )\n",
    "# print(\n",
    "#     \"find spike loc for trace sampfreq in \",\n",
    "#     time() - t0,\n",
    "#     \"sec\",\n",
    "# )\n",
    "\n",
    "# # load preprocessed recording (fast, 312 spikes)\n",
    "# t0 = time()\n",
    "# lfp_recording = preprocess.load(data_conf)\n",
    "# print(\"Load preprocessed recording \", time() - t0, \"sec\")\n",
    "\n",
    "# if CREATE:\n",
    "    \n",
    "#     # create study (12 s)\n",
    "#     t0 = time()\n",
    "#     gt_dict = {\n",
    "#         \"rec0\": (lfp_recording, SortingObject),\n",
    "#     }\n",
    "#     shutil.rmtree(study_folder, ignore_errors=True)\n",
    "#     study = GroundTruthStudy.create(study_folder, gt_dict)\n",
    "#     print(\"Created study in \", time() - t0, \"sec\")\n",
    "\n",
    "#     # compute waveforms (0.21 secs, 312 spikes)\n",
    "#     # - this creates and write waveforms on disk in study/waveforms/\n",
    "#     # - note: for a single cell, no gain from multiprocessing \n",
    "#     # - 100 jobs is slow \n",
    "#     t0 = time()\n",
    "#     study.compute_waveforms(\n",
    "#         lfp_recording, \n",
    "#         ms_before=ms_before, \n",
    "#         ms_after=ms_after, \n",
    "#         n_jobs=-1, \n",
    "#         total_memory='1G',\n",
    "#         )\n",
    "#     print(\"Computed waveforms in \", time() - t0, \"sec\")\n",
    "\n",
    "#     # create waveform extractor from saved folder\n",
    "#     t0 = time()\n",
    "#     WaveformExtractor = study.get_waveform_extractor(lfp_recording)\n",
    "#     print(\"Created WaveformExtractor in \", time() - t0, \"sec\")\n",
    "# else:\n",
    "#     # simply load existing extractor\n",
    "#     # study = GroundTruthStudy(study_folder)\n",
    "#     # WaveformExtractor = study.get_waveform_extractor(lfp_recording)\n",
    "#     lfp_recording = preprocess.load(data_conf)\n",
    "#     WaveformExtractor = waveform.load(lfp_recording, study_folder=STUDY_FOLDER)"
   ]
  },
  {
   "cell_type": "code",
   "execution_count": 12,
   "metadata": {},
   "outputs": [],
   "source": [
    "# plot\n",
    "lfp_recording = preprocess.load(data_conf)\n",
    "WaveformExtractor = waveform.load(lfp_recording, study_folder=STUDY_FOLDER, ms_before=MS_BEFORE, ms_after=MS_AFTER)\n",
    "fig = waveform.plot(WaveformExtractor = WaveformExtractor, cell_id = CELL_ID)"
   ]
  },
  {
   "cell_type": "code",
   "execution_count": 10,
   "metadata": {},
   "outputs": [
    {
     "data": {
      "image/png": "[encoded data removed]",
      "text/plain": [
       "<Figure size 300x300 with 1 Axes>"
      ]
     },
     "execution_count": 10,
     "metadata": {},
     "output_type": "execute_result"
    }
   ],
   "source": [
    "fig"
   ]
  },
  {
   "cell_type": "code",
   "execution_count": 22,
   "metadata": {},
   "outputs": [
    {
     "name": "stdout",
     "output_type": "stream",
     "text": [
      "spike count: 5\n"
     ]
    }
   ],
   "source": [
    "print(\"spike count:\", WaveformExtractor.sorting.get_total_num_spikes()[CELL_ID])"
   ]
  }
 ],
 "metadata": {
  "kernelspec": {
   "display_name": "env_silico",
   "language": "python",
   "name": "python3"
  },
  "language_info": {
   "codemirror_mode": {
    "name": "ipython",
    "version": 3
   },
   "file_extension": ".py",
   "mimetype": "text/x-python",
   "name": "python",
   "nbconvert_exporter": "python",
   "pygments_lexer": "ipython3",
   "version": "3.9.7"
  },
  "orig_nbformat": 4,
  "vscode": {
   "interpreter": {
    "hash": "b73fd26bae2910668a6be88f948a34bfaf2ecd970df62c41a60ee29bb0e725b3"
   }
  }
 },
 "nbformat": 4,
 "nbformat_minor": 2
}
