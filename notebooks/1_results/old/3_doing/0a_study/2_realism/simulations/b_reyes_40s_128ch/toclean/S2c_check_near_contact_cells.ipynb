{
 "cells": [
  {
   "attachments": {},
   "cell_type": "markdown",
   "metadata": {},
   "source": [
    "# Get cells within R radius of contacts\n",
    "\n",
    "author: steeve.laquitaine@epfl.ch\n",
    "\n",
    "TODO:\n",
    "- Sanity check"
   ]
  },
  {
   "cell_type": "code",
   "execution_count": 10,
   "metadata": {},
   "outputs": [
    {
     "name": "stdout",
     "output_type": "stream",
     "text": [
      "The autoreload extension is already loaded. To reload it, use:\n",
      "  %reload_ext autoreload\n",
      "2023-04-28 16:41:03,410 - root - utils.py - get_config - INFO - Reading experiment config.\n",
      "2023-04-28 16:41:03,476 - root - utils.py - get_config - INFO - Reading experiment config. - done\n"
     ]
    }
   ],
   "source": [
    "# SET PACKAGES\n",
    "%load_ext autoreload\n",
    "%autoreload 2\n",
    "\n",
    "import os\n",
    "import pandas as pd\n",
    "import numpy as np\n",
    "import h5py\n",
    "import bluepy as bp\n",
    "pd.set_option('display.max_colwidth', None)\n",
    "\n",
    "\n",
    "# SET PATHS\n",
    "PROJ_PATH = \"/gpfs/bbp.cscs.ch/project/proj68/home/laquitai/spike-sorting\"\n",
    "\n",
    "os.chdir(PROJ_PATH)\n",
    "from src.nodes.utils import get_config\n",
    "\n",
    "\n",
    "# SET PARAMETERS\n",
    "EXPERIMENT = \"supp/silico_reyes\"       # specifies the experiment from conf/\n",
    "SIMULATION_DATE = \"2023_01_13\"          # specifies the run (date)\n",
    "CONTACT_IDS = np.arange(127, 127+32, 1) # selected contact ids from Neuropixels-384 template for our probe\n",
    "nsites = 128\n",
    "\n",
    "\n",
    "# SETUP CONFIG\n",
    "data_conf, param_conf = get_config(EXPERIMENT, SIMULATION_DATE).values()\n",
    "\n",
    "\n",
    "# SET OUTPUT FIGURE PATHS\n",
    "FIG_PATH = data_conf[\"figures\"][\"silico\"][\"probe_location\"]"
   ]
  },
  {
   "cell_type": "code",
   "execution_count": 11,
   "metadata": {},
   "outputs": [],
   "source": [
    "def load_locations_from_weights_reyes(weightspath: str, nsites: int):\n",
    "    \"\"\"Load the channel site locations from the weights file\n",
    "\n",
    "    Args:\n",
    "        weightspath (str): _description_\n",
    "        nsites (int): _description_\n",
    "\n",
    "    Returns:\n",
    "        _type_: _description_\n",
    "    \"\"\"\n",
    "    # loading weights file with channel locations\n",
    "    f = h5py.File(weightspath, \"r\")\n",
    "\n",
    "    locationstmp = np.array([0, 0, 0])\n",
    "    for i in range(nsites):\n",
    "        temp = np.array(f[\"electrodes\"][\"reyespuerta_\" + str(i)][\"location\"])\n",
    "        locationstmp = np.c_[locationstmp, temp]\n",
    "    locations = locationstmp.T[1:]\n",
    "    return locations\n",
    "\n",
    "\n",
    "def load_locations_from_weights(data_conf: dict, nsites: int):\n",
    "    \"\"\"load channel locations from the channel weight file\n",
    "    of this experiment\n",
    "\n",
    "    Args:\n",
    "        data_conf (dict): _description_\n",
    "        nsites (int): _description_\n",
    "\n",
    "    Returns:\n",
    "        _type_: _description_\n",
    "    \"\"\"\n",
    "\n",
    "    # get weight file path\n",
    "    WEIGHT_PATH = data_conf[\"dataeng\"][\"chunks\"][\"input\"][\"weight\"]\n",
    "\n",
    "    # select experiment config\n",
    "    if data_conf[\"exp\"] == \"supp/silico_reyes\":\n",
    "        return load_locations_from_weights_reyes(WEIGHT_PATH, nsites)"
   ]
  },
  {
   "cell_type": "code",
   "execution_count": 20,
   "metadata": {},
   "outputs": [],
   "source": [
    "# load channel locations\n",
    "locations = load_locations_from_weights(data_conf, nsites)"
   ]
  },
  {
   "cell_type": "code",
   "execution_count": 13,
   "metadata": {},
   "outputs": [
    {
     "name": "stdout",
     "output_type": "stream",
     "text": [
      "2023-04-28 16:42:17,474 - bluepy_configfile.configfile - configfile.py - verify_type - WARNING - Invalid absolute path: /gpfs/bbp.cscs.ch/project/proj45/scratch/S1full/METypes\n",
      "2023-04-28 16:42:17,483 - bluepy_configfile.configfile - configfile.py - validate - WARNING - Have keys ({'KeepModelData', 'LFPWeightsPath'}) that are not defined for section: Run\n"
     ]
    }
   ],
   "source": [
    "# read simulaton\n",
    "simpath = \"/gpfs/bbp.cscs.ch/project/proj68/scratch/laquitai/raw/reyes_probe_lfp_4sec_2023_01_11/1/\"\n",
    "sim = bp.Simulation(simpath + \"/BlueConfig\")"
   ]
  },
  {
   "cell_type": "code",
   "execution_count": 28,
   "metadata": {},
   "outputs": [],
   "source": [
    "RADIUS = 50\n",
    "\n",
    "\n",
    "def find_close_gids(cells, probepos, radius: int):\n",
    "    cpos = cells[list(\"xyz\")]\n",
    "    tiled = np.tile(probepos, (cpos.shape[0], 1))\n",
    "    dist = np.linalg.norm(cpos - tiled, axis=1)\n",
    "    return cells[dist < radius]\n",
    "\n",
    "\n",
    "# find near-probe cells within RADIUS microns to one contact\n",
    "cells = sim.circuit.cells.get({\"$target\": \"hex0\"})\n",
    "all_close_gids = []\n",
    "for location in locations:\n",
    "    close_gids_df = find_close_gids(cells, location, RADIUS)\n",
    "    close_gids = list(close_gids_df.index)\n",
    "    all_close_gids = all_close_gids + close_gids\n",
    "    all_close_gids = list(set(all_close_gids))"
   ]
  },
  {
   "cell_type": "code",
   "execution_count": 29,
   "metadata": {},
   "outputs": [
    {
     "data": {
      "text/plain": [
       "[]"
      ]
     },
     "execution_count": 29,
     "metadata": {},
     "output_type": "execute_result"
    }
   ],
   "source": [
    "all_close_gids"
   ]
  },
  {
   "cell_type": "code",
   "execution_count": null,
   "metadata": {},
   "outputs": [],
   "source": []
  }
 ],
 "metadata": {
  "kernelspec": {
   "display_name": "env_kilosort_silico",
   "language": "python",
   "name": "python3"
  },
  "language_info": {
   "codemirror_mode": {
    "name": "ipython",
    "version": 3
   },
   "file_extension": ".py",
   "mimetype": "text/x-python",
   "name": "python",
   "nbconvert_exporter": "python",
   "pygments_lexer": "ipython3",
   "version": "3.9.7"
  },
  "orig_nbformat": 4
 },
 "nbformat": 4,
 "nbformat_minor": 2
}
