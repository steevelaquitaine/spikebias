{
 "cells": [
  {
   "attachments": {},
   "cell_type": "markdown",
   "metadata": {},
   "source": [
    "# Check cell properties stats"
   ]
  },
  {
   "attachments": {},
   "cell_type": "markdown",
   "metadata": {},
   "source": [
    "# Setup\n",
    "\n",
    "Setup Jupyter notebook's kernel based on python env setup with `requirements_silico.txt` (see comments in file for setup)"
   ]
  },
  {
   "cell_type": "code",
   "execution_count": 1,
   "metadata": {},
   "outputs": [
    {
     "name": "stdout",
     "output_type": "stream",
     "text": [
      "2023-02-10 13:28:31,324 - root - utils.py - get_config - INFO - Reading experiment config.\n",
      "2023-02-10 13:28:31,361 - root - utils.py - get_config - INFO - Reading experiment config. - done\n"
     ]
    }
   ],
   "source": [
    "# SETUP PACKAGES\n",
    "%load_ext autoreload\n",
    "%autoreload 2\n",
    "import os\n",
    "import pprint as pp\n",
    "import pandas as pd\n",
    "import yaml\n",
    "import numpy as np\n",
    "from matplotlib import pyplot as plt\n",
    "import spikeinterface as si\n",
    "import spikeinterface.widgets as sw\n",
    "import spikeinterface.postprocessing as spost\n",
    "from probeinterface.plotting import plot_probe\n",
    "from spikeinterface.comparison import GroundTruthStudy\n",
    "import shutil\n",
    "\n",
    "pd.set_option('display.max_colwidth', None)\n",
    "\n",
    "# SET PATHS\n",
    "PROJ_PATH = \"/gpfs/bbp.cscs.ch/project/proj68/home/laquitai/spike-sorting\"\n",
    "\n",
    "os.chdir(PROJ_PATH)\n",
    "from src.nodes.io.silico.loading import load_campaign_params\n",
    "from src.nodes.truth.silico import ground_truth\n",
    "from src.nodes.io.silico import loading_raw_recording\n",
    "from src.nodes.prepro import preprocess\n",
    "from src.nodes.utils import get_config\n",
    "from src.nodes.postpro import waveform\n",
    "from src.nodes.dataeng.silico.filtering import filter_microcircuit_cells, get_cell_id_spiking_above_thresh, get_most_active_cell\n",
    "\n",
    "# SET PARAMETERS\n",
    "EXPERIMENT = \"supp/silico_reyes\"    # specifies the experiment \n",
    "SIMULATION_DATE = \"2023_01_13\" # specifies the run (date)\n",
    "\n",
    "# set neuron filtering\n",
    "MIN_SPIKE = 0\n",
    "MS_BEFORE = 3                                \n",
    "MS_AFTER = 3\n",
    "CHANNEL_IDS = np.arange(64,80).tolist()   # plot traces from channels nearest to filtered neuron group\n",
    "\n",
    "\n",
    "# SETUP CONFIG\n",
    "data_conf, param_conf = get_config(EXPERIMENT, SIMULATION_DATE).values()"
   ]
  },
  {
   "attachments": {},
   "cell_type": "markdown",
   "metadata": {},
   "source": [
    "**Basic cell stats**"
   ]
  },
  {
   "cell_type": "code",
   "execution_count": 2,
   "metadata": {},
   "outputs": [
    {
     "name": "stderr",
     "output_type": "stream",
     "text": [
      "/gpfs/bbp.cscs.ch/project/proj68/home/laquitai/spike-sorting/env_silico/lib/python3.9/site-packages/nptyping/typing_.py:51: DeprecationWarning: `np.bool8` is a deprecated alias for `np.bool_`.  (Deprecated NumPy 1.24)\n",
      "  Bool8 = np.bool8\n",
      "/gpfs/bbp.cscs.ch/project/proj68/home/laquitai/spike-sorting/env_silico/lib/python3.9/site-packages/nptyping/typing_.py:54: DeprecationWarning: `np.object0` is a deprecated alias for ``np.object0` is a deprecated alias for `np.object_`. `object` can be used instead.  (Deprecated NumPy 1.24)`.  (Deprecated NumPy 1.24)\n",
      "  Object0 = np.object0\n",
      "/gpfs/bbp.cscs.ch/project/proj68/home/laquitai/spike-sorting/env_silico/lib/python3.9/site-packages/nptyping/typing_.py:66: DeprecationWarning: `np.int0` is a deprecated alias for `np.intp`.  (Deprecated NumPy 1.24)\n",
      "  Int0 = np.int0\n",
      "/gpfs/bbp.cscs.ch/project/proj68/home/laquitai/spike-sorting/env_silico/lib/python3.9/site-packages/nptyping/typing_.py:80: DeprecationWarning: `np.uint0` is a deprecated alias for `np.uintp`.  (Deprecated NumPy 1.24)\n",
      "  UInt0 = np.uint0\n",
      "/gpfs/bbp.cscs.ch/project/proj68/home/laquitai/spike-sorting/env_silico/lib/python3.9/site-packages/nptyping/typing_.py:107: DeprecationWarning: `np.void0` is a deprecated alias for `np.void`.  (Deprecated NumPy 1.24)\n",
      "  Void0 = np.void0\n",
      "/gpfs/bbp.cscs.ch/project/proj68/home/laquitai/spike-sorting/env_silico/lib/python3.9/site-packages/nptyping/typing_.py:112: DeprecationWarning: `np.bytes0` is a deprecated alias for `np.bytes_`.  (Deprecated NumPy 1.24)\n",
      "  Bytes0 = np.bytes0\n",
      "/gpfs/bbp.cscs.ch/project/proj68/home/laquitai/spike-sorting/env_silico/lib/python3.9/site-packages/nptyping/typing_.py:114: DeprecationWarning: `np.str0` is a deprecated alias for `np.str_`.  (Deprecated NumPy 1.24)\n",
      "  Str0 = np.str0\n"
     ]
    },
    {
     "name": "stdout",
     "output_type": "stream",
     "text": [
      "Microcircuit cells (count):  30190\n",
      "- Near-probe cell (count):  1221\n",
      "- near-probe active cell (count):  1221\n",
      "- near-probe morph classes (count):  ['INT' 'PYR']\n",
      "- near-probe pyramidal cell (count):  1090\n",
      "- near-probe active pyramidal cell (count):  1090\n",
      "- near-probe interneuron cell (count):  131\n",
      "- near-probe active interneuron cell (count):  131\n",
      "- near-probe most active pyramidal cell id:  3754013\n",
      "- near-probe most active pyramidal cell spike (count):  106\n"
     ]
    }
   ],
   "source": [
    "# load campaign parameters\n",
    "simulation = load_campaign_params(data_conf)\n",
    "\n",
    "# get microcircuit's 30K cells\n",
    "microcircuit_cells = filter_microcircuit_cells(simulation)\n",
    "print(\"Microcircuit cells (count): \", len(microcircuit_cells[\"gid\"]))\n",
    "\n",
    "# get Spikeinterface's Sorting object for near-probe cells\n",
    "output = ground_truth.run(simulation, data_conf, param_conf)\n",
    "SortingObject = output[\"ground_truth_sorting_object\"]\n",
    "print(\"- Near-probe cell (count): \", SortingObject.get_num_units())\n",
    "\n",
    "# get cell properties\n",
    "cell_location = simulation[\"circuit\"].cells.get(\n",
    "    SortingObject.unit_ids, properties=[\"x\", \"y\", \"z\"]\n",
    ")\n",
    "\n",
    "# get active cells (spike count above MIN_SPIKE)\n",
    "active_cell_gids = get_cell_id_spiking_above_thresh(SortingObject, min_spike=MIN_SPIKE)\n",
    "print(\"- near-probe active cell (count): \", len(active_cell_gids))\n",
    "\n",
    "# get cell morph_class\n",
    "cell_morph_class = simulation[\"circuit\"].cells.get(\n",
    "    SortingObject.unit_ids, properties=[\"morph_class\"]\n",
    ")\n",
    "print(\"- near-probe morph classes (count): \", np.unique(cell_morph_class))\n",
    "\n",
    "# get pyramidal cells\n",
    "pyramidal_gids = cell_morph_class[cell_morph_class[\"morph_class\"] == \"PYR\"].index.values\n",
    "print(\"- near-probe pyramidal cell (count): \", len(pyramidal_gids))\n",
    "\n",
    "# get active pyramidal cells\n",
    "active_pyramidal_gids = list(set(pyramidal_gids) & set(active_cell_gids))\n",
    "print(\"- near-probe active pyramidal cell (count): \", len(active_pyramidal_gids))\n",
    "\n",
    "# get interneuron cells\n",
    "interneuron_gids = cell_morph_class[\n",
    "    cell_morph_class[\"morph_class\"] == \"INT\"\n",
    "].index.values\n",
    "print(\"- near-probe interneuron cell (count): \", len(interneuron_gids))\n",
    "\n",
    "# get active interneuron cells\n",
    "active_interneuron_gids = list(set(interneuron_gids) & set(active_cell_gids))\n",
    "print(\"- near-probe active interneuron cell (count): \", len(active_interneuron_gids))\n",
    "\n",
    "# get the most active pyramidal cell and its spike count\n",
    "most_active_pyr_gid = get_most_active_cell(SortingObject, cell_id=pyramidal_gids)\n",
    "most_active_pyr_spike_count = SortingObject.get_total_num_spikes()[most_active_pyr_gid]\n",
    "print(\"- near-probe most active pyramidal cell id: \", most_active_pyr_gid)\n",
    "print(\n",
    "    \"- near-probe most active pyramidal cell spike (count): \",\n",
    "    most_active_pyr_spike_count,\n",
    ")"
   ]
  },
  {
   "cell_type": "markdown",
   "metadata": {},
   "source": [
    "# References\n",
    "\n",
    "(1) https://probeinterface.readthedocs.io/en/stable/examples/ex_05_device_channel_indices.html \n",
    "\n",
    "(2) https://spikeinterface.readthedocs.io/en/latest/modules/core/plot_4_waveform_extractor.html "
   ]
  }
 ],
 "metadata": {
  "kernelspec": {
   "display_name": "env_silico",
   "language": "python",
   "name": "python3"
  },
  "language_info": {
   "codemirror_mode": {
    "name": "ipython",
    "version": 3
   },
   "file_extension": ".py",
   "mimetype": "text/x-python",
   "name": "python",
   "nbconvert_exporter": "python",
   "pygments_lexer": "ipython3",
   "version": "3.9.7 (default, Jan 10 2022, 21:17:49) \n[GCC 11.2.0]"
  },
  "orig_nbformat": 4,
  "vscode": {
   "interpreter": {
    "hash": "b73fd26bae2910668a6be88f948a34bfaf2ecd970df62c41a60ee29bb0e725b3"
   }
  }
 },
 "nbformat": 4,
 "nbformat_minor": 2
}
