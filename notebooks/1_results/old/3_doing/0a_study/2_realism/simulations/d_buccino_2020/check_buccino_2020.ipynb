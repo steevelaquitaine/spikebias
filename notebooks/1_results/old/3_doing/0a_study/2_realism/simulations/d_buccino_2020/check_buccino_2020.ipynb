{
 "cells": [
  {
   "attachments": {},
   "cell_type": "markdown",
   "metadata": {},
   "source": [
    "# Check buccino 2020\n",
    "\n",
    "* 384 channels\n",
    "* 32 Khz\n",
    "* 600 secs"
   ]
  },
  {
   "cell_type": "code",
   "execution_count": 4,
   "metadata": {},
   "outputs": [
    {
     "name": "stdout",
     "output_type": "stream",
     "text": [
      "The autoreload extension is already loaded. To reload it, use:\n",
      "  %reload_ext autoreload\n",
      "2023-06-10 18:24:22,534 - root - utils.py - get_config - INFO - Reading experiment config.\n",
      "2023-06-10 18:24:22,544 - root - utils.py - get_config - INFO - Reading experiment config. - done\n"
     ]
    }
   ],
   "source": [
    "# SETUP PACKAGES \n",
    "%load_ext autoreload\n",
    "%autoreload 2\n",
    "import os\n",
    "import numpy as np\n",
    "from matplotlib import pyplot as plt\n",
    "import spikeinterface as si\n",
    "# SET PROJECT PATH\n",
    "PROJ_PATH = \"/gpfs/bbp.cscs.ch/project/proj68/home/laquitai/spike-sorting\"\n",
    "os.chdir(PROJ_PATH)\n",
    "\n",
    "from src.nodes.utils import get_config\n",
    "\n",
    "# SET RUN\n",
    "EXPERIMENT = \"buccino_2020\"\n",
    "SIMULATION_DATE = \"2020\"\n",
    "\n",
    "\n",
    "# SET RUN CONFIG\n",
    "data_conf, _ = get_config(EXPERIMENT, SIMULATION_DATE).values()\n",
    "\n",
    "\n",
    "# SET PATHS\n",
    "# set recording path\n",
    "RECORDING_PATH = data_conf[\"recording\"][\"input\"]\n",
    "\n",
    "# set Kilosort sorted spikes and cells path\n",
    "KS3_SORTING_PATH = data_conf[\"sorting\"][\"sorters\"][\"kilosort3\"][\"output\"]\n",
    "\n",
    "# set ground truth spikes and cells path\n",
    "GT_SORTING_PATH = data_conf[\"sorting\"][\"ground_truth\"][\"output\"]"
   ]
  },
  {
   "cell_type": "code",
   "execution_count": 5,
   "metadata": {},
   "outputs": [
    {
     "data": {
      "text/plain": [
       "BinaryFolderRecording: 384 channels - 1 segments - 32.0kHz - 600.000s"
      ]
     },
     "execution_count": 5,
     "metadata": {},
     "output_type": "execute_result"
    }
   ],
   "source": [
    "reccording = si.load_extractor(RECORDING_PATH)\n",
    "reccording"
   ]
  }
 ],
 "metadata": {
  "kernelspec": {
   "display_name": "env_kilosort_silico",
   "language": "python",
   "name": "python3"
  },
  "language_info": {
   "codemirror_mode": {
    "name": "ipython",
    "version": 3
   },
   "file_extension": ".py",
   "mimetype": "text/x-python",
   "name": "python",
   "nbconvert_exporter": "python",
   "pygments_lexer": "ipython3",
   "version": "3.9.7"
  },
  "orig_nbformat": 4
 },
 "nbformat": 4,
 "nbformat_minor": 2
}
