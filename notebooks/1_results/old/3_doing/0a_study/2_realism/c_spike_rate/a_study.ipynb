{
 "cells": [
  {
   "attachments": {},
   "cell_type": "markdown",
   "metadata": {},
   "source": [
    "# Firing statistics of ground truths\n",
    "\n",
    "Ground truths:\n",
    "\n",
    "* **hybrid_janelia**\n",
    "    * 60 recordings, different channel counts and durations, two unique populations\n",
    "* **synth_monotrode**: \n",
    "    * 111 recordings, fixed channel count, different units and unit counts\n",
    "* **buccino 2020**\n",
    "    * 10 min neuropixel recording MEAREC hybrid with 250 units (200 excit. 50 inhib.) from BBP's NMC\n",
    "\n",
    "Note: \n",
    "    * MEAREC: https://zenodo.org/record/3696926"
   ]
  },
  {
   "attachments": {},
   "cell_type": "markdown",
   "metadata": {},
   "source": [
    "## Setup\n",
    "\n",
    "```bash\n",
    "# install python3.9 in a spack environment \n",
    "spack env create spack_env_spikeforest spack_env_spikeforest.yaml\n",
    "spack install\n",
    "spack env activate spack_env_spikeforest -p\n",
    ". /gpfs/bbp.cscs.ch/ssd/apps/bsd/2023-02-23/spack/share/spack/setup-env.sh\n",
    "\n",
    "# create python virtual environment\n",
    "python3.9 -m venv env_spikeforest\n",
    "source env_spikeforest/bin/activate\n",
    "pip install -r requirements_spikeforest.txt\n",
    "````\n",
    "\n",
    "```bash\n",
    "# One-time initialization and follow instructions\n",
    "kachery-cloud-init\n",
    "```"
   ]
  },
  {
   "cell_type": "code",
   "execution_count": 24,
   "metadata": {},
   "outputs": [
    {
     "name": "stdout",
     "output_type": "stream",
     "text": [
      "The autoreload extension is already loaded. To reload it, use:\n",
      "  %reload_ext autoreload\n",
      "2023-06-12 14:49:40,706 - root - utils.py - get_config - INFO - Reading experiment config.\n",
      "2023-06-12 14:49:40,711 - root - utils.py - get_config - INFO - Reading experiment config. - done\n",
      "2023-06-12 14:49:40,713 - root - utils.py - get_config - INFO - Reading experiment config.\n",
      "2023-06-12 14:49:40,716 - root - utils.py - get_config - INFO - Reading experiment config. - done\n",
      "2023-06-12 14:49:40,717 - root - utils.py - get_config - INFO - Reading experiment config.\n",
      "2023-06-12 14:49:40,727 - root - utils.py - get_config - INFO - Reading experiment config. - done\n",
      "2023-06-12 14:49:40,728 - root - utils.py - get_config - INFO - Reading experiment config.\n",
      "2023-06-12 14:49:40,752 - root - utils.py - get_config - INFO - Reading experiment config. - done\n"
     ]
    }
   ],
   "source": [
    "%load_ext autoreload\n",
    "%autoreload 2\n",
    "from matplotlib import pyplot as plt\n",
    "import numpy as np\n",
    "import spikeforest as sf\n",
    "import os \n",
    "import spikeinterface as si\n",
    "\n",
    "# SET PROJECT PATH\n",
    "PROJ_PATH = \"/gpfs/bbp.cscs.ch/project/proj68/home/laquitai/spike-sorting\"\n",
    "os.chdir(PROJ_PATH)\n",
    "from src.nodes.utils import get_config\n",
    "\n",
    "# HYBRID JANELIA\n",
    "# ---------------\n",
    "# SET PARAMETERS\n",
    "EXPERIMENT = \"supp/hybrid_janelia\"       # specifies the experiment \n",
    "SIMULATION_DATE = \"2023_06_10\"      # specifies the run (date)\n",
    "\n",
    "# SETUP CONFIG\n",
    "data_conf, _ = get_config(EXPERIMENT, SIMULATION_DATE).values()\n",
    "\n",
    "# SETUP PATHS\n",
    "JANELIA_FR_FILE_PATH = data_conf[\"sorting\"][\"ground_truth\"][\"firing_rates\"]\n",
    "\n",
    "\n",
    "# SYNTH MONOTRODE\n",
    "# ---------------\n",
    "# SET PARAMETERS\n",
    "EXPERIMENT = \"synth_monotrode\"       # specifies the experiment \n",
    "SIMULATION_DATE = \"2023_06_10\"      # specifies the run (date)\n",
    "\n",
    "# SETUP CONFIG\n",
    "data_conf, _ = get_config(EXPERIMENT, SIMULATION_DATE).values()\n",
    "\n",
    "# SETUP PATHS\n",
    "SYNTH_MONOTRODE_FR_FILE_PATH = data_conf[\"sorting\"][\"simulation\"][\"ground_truth\"][\"firing_rates\"]\n",
    "\n",
    "\n",
    "# BUCCINO 2020\n",
    "# ------------\n",
    "EXPERIMENT = \"buccino_2020\"\n",
    "SIMULATION_DATE = \"2020\"\n",
    "data_conf, param_conf = get_config(EXPERIMENT, SIMULATION_DATE).values()\n",
    "\n",
    "# SETUP PATHS\n",
    "BUCCI_RECORDING_PATH = data_conf[\"recording\"][\"input\"]\n",
    "BUCCI_GT_SORTING_PATH = data_conf[\"sorting\"][\"ground_truth\"][\"output\"]\n",
    "BUCCI_FR_FILE_PATH = data_conf[\"sorting\"][\"ground_truth\"][\"firing_rates\"]\n",
    "\n",
    "\n",
    "# Our NMC\n",
    "# -------\n",
    "EXPERIMENT = \"silico_neuropixels\"\n",
    "SIMULATION_DATE = \"2023_02_19\"\n",
    "data_conf, param_conf = get_config(EXPERIMENT, SIMULATION_DATE).values()\n",
    "\n",
    "NMC_RECORDING_PATH = data_conf[\"preprocessing\"][\"output\"][\"trace_file_path\"]\n",
    "NMC_GT_SORTING_PATH = data_conf[\"sorting\"][\"simulation\"][\"ground_truth\"][\"output\"]\n",
    "NMC_FR_FILE_PATH = data_conf[\"sorting\"][\"simulation\"][\"ground_truth\"][\"firing_rates\"]\n"
   ]
  },
  {
   "attachments": {},
   "cell_type": "markdown",
   "metadata": {},
   "source": [
    "## List all ground truth recordings"
   ]
  },
  {
   "cell_type": "code",
   "execution_count": 2,
   "metadata": {},
   "outputs": [],
   "source": [
    "hybrid_janelia_uri = \"sha1://43298d72b2d0860ae45fc9b0864137a976cb76e8?hybrid-janelia-spikeforest-recordings.json\"\n",
    "synth_monotrode_uri = \"sha1://3b265eced5640c146d24a3d39719409cceccc45b?synth-monotrode-spikeforest-recordings.json\"\n",
    "paired_boyden_uri = \"sha1://849e53560c9241c1206a82cfb8718880fc1c6038?paired-boyden-spikeforest-recordings.json\"\n",
    "paired_kampff_uri = \"sha1://b8b571d001f9a531040e79165e8f492d758ec5e0?paired-kampff-spikeforest-recordings.json\"\n",
    "paired_english_uri = \"sha1://dfb1fd134bfc209ece21fd5f8eefa992f49e8962?paired-english-spikeforest-recordings.json\""
   ]
  },
  {
   "attachments": {},
   "cell_type": "markdown",
   "metadata": {},
   "source": [
    "### Paired-boyden firing rate distribution"
   ]
  },
  {
   "attachments": {},
   "cell_type": "markdown",
   "metadata": {},
   "source": [
    "see 3 for mapping of units and recordings\n",
    "\n",
    "* one study name \"paired_boyden32c\"\n",
    "* layers 5, 2/3\n",
    "    * for neuron 419\n",
    "        - recording 419_7 is actually 419_1_7 (natural scene) \n",
    "        - recording 419_8 is actually 419_1_8 (natural scene)"
   ]
  },
  {
   "cell_type": "code",
   "execution_count": 3,
   "metadata": {},
   "outputs": [],
   "source": [
    "# # get study datasets uri\n",
    "# study_uri = 'sha1://849e53560c9241c1206a82cfb8718880fc1c6038?paired-boyden-spikeforest-recordings.json'\n",
    "\n",
    "# # set all recordings\n",
    "# # rec_names = [\"419_1_7\", \"419_1_8\", \"513_2_2\", \"513_2_3\", \"513_1_1\", \"513_1_2\", \"531_2_1\", \"531_2_2\", \"624_2_1\", \"624_2_2\", \"624_5_1\", \"624_5_2\", \"509_1_1\", \"509_1_2\", \"1103_1_1\", \"915_8_1\", \"915_10_1\", \"915_17_1\", \"915_19_1\"]\n",
    "\n",
    "# # select subset that are actually available\n",
    "# rec_names = [\"419_1_7\", \"419_1_8\", \"509_1_1\", \"1103_1_1\"]\n",
    "# study_name = \"paired_boyden32c\""
   ]
  },
  {
   "attachments": {},
   "cell_type": "markdown",
   "metadata": {},
   "source": [
    "## Hybrid janelia"
   ]
  },
  {
   "cell_type": "code",
   "execution_count": 5,
   "metadata": {},
   "outputs": [],
   "source": [
    "# study_uri = 'sha1://43298d72b2d0860ae45fc9b0864137a976cb76e8?hybrid-janelia-spikeforest-recordings.json'\n",
    "\n",
    "# # get list of recordings for the hybrid_janelia study\n",
    "# all_recordings = sf.load_spikeforest_recordings(study_uri)\n",
    "\n",
    "# # print the first study name and its first associated recording\n",
    "# print(\"study_name:\", all_recordings[0].study_name)\n",
    "# print(\"recording_name:\", all_recordings[0].recording_name)\n",
    "\n",
    "# # get the first study name and its recording printed above\n",
    "# recordings = sf.load_spikeforest_recording(study_name=all_recordings[0].study_name, recording_name=all_recordings[0].recording_name, uri=study_uri)\n",
    "\n",
    "# # load recording extractor\n",
    "# recording = recordings.get_recording_extractor()\n",
    "\n",
    "# # load ground truth sorting extractor\n",
    "# sorted_true = recordings.get_sorting_true_extractor()\n",
    "\n",
    "# # print spikeinterface extractors info\n",
    "# print(f'Recording extractor info: {recording.get_num_channels()} channels, {recording.get_sampling_frequency()} Hz, {recording.get_total_duration()} sec')\n",
    "# print(f'Sorting extractor info: unit ids = {sorted_true.get_unit_ids()}, {sorted_true.get_sampling_frequency()} Hz')\n",
    "# for unit_id in sorted_true.get_unit_ids():\n",
    "#     st = sorted_true.get_unit_spike_train(unit_id=unit_id)\n",
    "#     print(f'Unit {unit_id}: {len(st)} events')"
   ]
  },
  {
   "attachments": {},
   "cell_type": "markdown",
   "metadata": {},
   "source": [
    "### Define custom functions"
   ]
  },
  {
   "cell_type": "code",
   "execution_count": 48,
   "metadata": {},
   "outputs": [],
   "source": [
    "def plot_each_rec(uri, rec_i):\n",
    "\n",
    "    # get recording\n",
    "    all_recordings = sf.load_spikeforest_recordings(uri)\n",
    "    study_name = all_recordings[rec_i].study_name\n",
    "    recording_name = all_recordings[rec_i].recording_name\n",
    "    print(study_name)\n",
    "    print(recording_name)\n",
    "\n",
    "    x = [\n",
    "        R\n",
    "        for R in all_recordings\n",
    "        if R.study_name == study_name and R.recording_name == recording_name\n",
    "    ]\n",
    "    if len(x) == 0:\n",
    "        raise Exception(f\"Recording not found: {study_name}/{recording_name}\")\n",
    "    R = x[0]\n",
    "\n",
    "    # load recording extractor\n",
    "    recording = R.get_recording_extractor()\n",
    "\n",
    "    # load ground truth sorting extractor\n",
    "    sorted_true = R.get_sorting_true_extractor()\n",
    "\n",
    "    # calculate firing rate\n",
    "    firing_rate = []\n",
    "    for unit_id in sorted_true.get_unit_ids():\n",
    "\n",
    "        # get spike train\n",
    "        st = sorted_true.get_unit_spike_train(unit_id=unit_id)\n",
    "\n",
    "        # calculate firing rate\n",
    "        firing_rate.append(len(st) / recording.get_total_duration())\n",
    "\n",
    "    print(\"unit count:\", len(sorted_true.get_unit_ids()))\n",
    "\n",
    "    # plot distribution\n",
    "    _, axis = plt.subplots(1, 1, figsize=(5, 2))\n",
    "    axis.hist(firing_rate, bins=np.arange(0, 1.1 * max(firing_rate), 0.1), width=0.2)\n",
    "    axis.set_xticks(np.arange(0, 1.1 * max(firing_rate), 1))\n",
    "    axis.set_xlabel(\"firing rate (Hz)\")\n",
    "    axis.set_ylabel(\"neuron (count)\")\n",
    "    axis.spines[[\"right\", \"top\"]].set_visible(False)\n",
    "    return sorted_true, firing_rate"
   ]
  },
  {
   "cell_type": "code",
   "execution_count": 47,
   "metadata": {},
   "outputs": [
    {
     "data": {
      "text/plain": [
       "60"
      ]
     },
     "execution_count": 47,
     "metadata": {},
     "output_type": "execute_result"
    }
   ],
   "source": [
    "# count recordings\n",
    "uri = \"sha1://43298d72b2d0860ae45fc9b0864137a976cb76e8?hybrid-janelia-spikeforest-recordings.json\"\n",
    "all_recordings = sf.load_spikeforest_recordings(uri)\n",
    "len(all_recordings)"
   ]
  },
  {
   "attachments": {},
   "cell_type": "markdown",
   "metadata": {},
   "source": [
    "\n",
    "### Compare spike train to identify unique neuron populations\n",
    "\n"
   ]
  },
  {
   "cell_type": "code",
   "execution_count": 8,
   "metadata": {},
   "outputs": [
    {
     "name": "stdout",
     "output_type": "stream",
     "text": [
      "hybrid_drift_siprobe\n",
      "rec_64c_600s_12\n",
      "unit count: 74\n",
      "hybrid_static_tetrode\n",
      "rec_4c_600s_12\n",
      "unit count: 74\n",
      "spike count: 241585\n",
      "spike count: 241585\n",
      "spikes: [     148      184      236 ... 17976050 17976088 17976108]\n",
      "spikes: [     148      184      236 ... 17976050 17976088 17976108]\n"
     ]
    },
    {
     "data": {
      "image/png": "[encoded data removed]",
      "text/plain": [
       "<Figure size 500x200 with 1 Axes>"
      ]
     },
     "metadata": {},
     "output_type": "display_data"
    },
    {
     "data": {
      "image/png": "[encoded data removed]",
      "text/plain": [
       "<Figure size 500x200 with 1 Axes>"
      ]
     },
     "metadata": {},
     "output_type": "display_data"
    }
   ],
   "source": [
    "# compare firing rate histograms\n",
    "rec_i = 20\n",
    "sorted_true_0, fr_0 = plot_each_rec(uri, rec_i)\n",
    "\n",
    "rec_i = 25\n",
    "sorted_true_1, fr_1 = plot_each_rec(uri, rec_i)\n",
    "\n",
    "print(\"spike count:\", len(sorted_true_0.get_all_spike_trains()[0][0]))\n",
    "print(\"spike count:\", len(sorted_true_1.get_all_spike_trains()[0][0]))\n",
    "print(\"spikes:\", sorted_true_0.get_all_spike_trains()[0][0][:241283])\n",
    "print(\"spikes:\", sorted_true_1.get_all_spike_trains()[0][0][:241283])"
   ]
  },
  {
   "attachments": {},
   "cell_type": "markdown",
   "metadata": {},
   "source": [
    "4 channel count conditions (3 reps per condition) x 2 durations\n",
    "\n",
    "Two distinct neural populations are simulated:  \n",
    "\n",
    "  1. population 1 made in groupe 1 (1200 secs), 2 (600 secs)  \n",
    "  2. population 2 made of groupe 3   \n",
    "\n",
    "groupe 1: these are identical\n",
    "\n",
    "    * 16C\n",
    "        * REC_16C_1200S_11 #0\n",
    "        * REC_16C_1200S_21 #1\n",
    "        * REC_16C_1200S_31 #2\n",
    "    * 32C\n",
    "        * rec_32c_1200s_11 # 9 \n",
    "        * rec_32c_1200s_21 # 10\n",
    "        * rec_32c_1200s_31 # 11\n",
    "    * 64c\n",
    "        * rec_64c_1200s_11 # 18\n",
    "    * 4c\n",
    "        * rec_4c_1200s_11 # 21\n",
    "        * rec_4c_1200s_21 # 22\n",
    "        * rec_4c_1200s_31 # 23\n",
    "\n",
    "\n",
    "groupe 2: these are identical (duration is half of group 1)\n",
    "\n",
    "    * 16C\n",
    "        * REC_16C_600S_11 #3\n",
    "        * REC_16C_600S_21 #5\n",
    "        * REC_16C_600S_31 #7\n",
    "    * 32C\n",
    "        * rec_32c_600s_11 #12\n",
    "        * rec_32c_600s_21 #14\n",
    "        * rec_32c_600s_31 #16\n",
    "    * 64C\n",
    "        * rec_64c_600s_11 #19\n",
    "    * 4c\n",
    "        * rec_4c_600s_11 # 24\n",
    "\n",
    "groupe 3: these are identical (spike train differ from groupe 1)\n",
    "\n",
    "    * 16C\n",
    "        * REC_16C_600S_12 # 4\n",
    "        * REC_16C_600S_22 # 6 \n",
    "        * REC_16C_600S_32 # 8\n",
    "    * 32C\n",
    "        * rec_32c_600s_12 # 13\n",
    "        * rec_32c_600s_22 # 15\n",
    "        * rec_32c_600s_32 # 17\n",
    "    * 64C\n",
    "        * rec_64c_600s_12 # 20\n",
    "    * 4c\n",
    "        * rec_4c_600s_12 # 25\n",
    "\n",
    "TODO: \n",
    "\n",
    " - continue listing the recordings there are 60 of them"
   ]
  },
  {
   "attachments": {},
   "cell_type": "markdown",
   "metadata": {},
   "source": [
    "## Plot firing rate dist. for Hybrid Janelia's two unique neuron populations"
   ]
  },
  {
   "cell_type": "code",
   "execution_count": 49,
   "metadata": {},
   "outputs": [
    {
     "name": "stdout",
     "output_type": "stream",
     "text": [
      "hybrid_drift_siprobe\n",
      "rec_16c_1200s_11\n",
      "unit count: 74\n",
      "hybrid_drift_siprobe\n",
      "rec_16c_600s_12\n",
      "unit count: 74\n"
     ]
    },
    {
     "data": {
      "image/png": "[encoded data removed]",
      "text/plain": [
       "<Figure size 500x200 with 1 Axes>"
      ]
     },
     "metadata": {},
     "output_type": "display_data"
    },
    {
     "data": {
      "image/png": "[encoded data removed]",
      "text/plain": [
       "<Figure size 500x200 with 1 Axes>"
      ]
     },
     "metadata": {},
     "output_type": "display_data"
    }
   ],
   "source": [
    "# compare firing rate histograms\n",
    "uri = \"sha1://43298d72b2d0860ae45fc9b0864137a976cb76e8?hybrid-janelia-spikeforest-recordings.json\"\n",
    "\n",
    "# firing rate hist. population 1\n",
    "rec_i = 0\n",
    "sorted_true_pop_1, fr_1 = plot_each_rec(uri, rec_i)\n",
    "\n",
    "# firing rate hist. population 2\n",
    "rec_i = 4\n",
    "sorted_true_pop_2, fr_2 = plot_each_rec(uri, rec_i)"
   ]
  },
  {
   "cell_type": "code",
   "execution_count": 61,
   "metadata": {},
   "outputs": [],
   "source": [
    "# concatenate population into one\n",
    "firing_rates_janelia = fr_1 + fr_2\n",
    "\n",
    "# save firing rates\n",
    "parent_path = os.path.dirname(JANELIA_FR_FILE_PATH)\n",
    "if not os.path.isdir(parent_path):\n",
    "    os.makedirs(parent_path)\n",
    "np.save(JANELIA_FR_FILE_PATH, firing_rates_janelia)"
   ]
  },
  {
   "attachments": {},
   "cell_type": "markdown",
   "metadata": {},
   "source": [
    "## Plot firing rate dist. for Synth monotrode\n",
    "\n",
    "* 95 simulations of 10 min\n",
    "* number of units changes between simulations\n",
    "\n",
    "Pedreira et al., “How Many Neurons Can We See with Current Spike Sorting Algorithms?”"
   ]
  },
  {
   "cell_type": "code",
   "execution_count": 70,
   "metadata": {},
   "outputs": [],
   "source": [
    "def plot_all_rec(all_recordings):\n",
    "    \"\"\"plot histogram of firing rates over all recordings\n",
    "\n",
    "    Args:\n",
    "        all_recordings (_type_): _description_\n",
    "\n",
    "    Raises:\n",
    "        Exception: _description_\n",
    "\n",
    "    Returns:\n",
    "        _type_: _description_\n",
    "    \"\"\"\n",
    "\n",
    "    # initialize firing rates\n",
    "    firing_rates = []\n",
    "\n",
    "    # get firing rate\n",
    "    for rec_i in range(len(all_recordings)):\n",
    "\n",
    "        # get recording info\n",
    "        study_name = all_recordings[rec_i].study_name\n",
    "        recording_name = all_recordings[rec_i].recording_name\n",
    "        x = [\n",
    "            R\n",
    "            for R in all_recordings\n",
    "            if R.study_name == study_name and R.recording_name == recording_name\n",
    "        ]\n",
    "        if len(x) == 0:\n",
    "            raise Exception(f\"Recording not found: {study_name}/{recording_name}\")\n",
    "        R = x[0]\n",
    "\n",
    "        # load recording extractor\n",
    "        recording = R.get_recording_extractor()\n",
    "\n",
    "        # load ground truth sorting extractor\n",
    "        sorted_true = R.get_sorting_true_extractor()\n",
    "\n",
    "        # calculate firing rate\n",
    "        for unit_id in sorted_true.get_unit_ids():\n",
    "\n",
    "            # get spike train\n",
    "            st = sorted_true.get_unit_spike_train(unit_id=unit_id)\n",
    "\n",
    "            # calculate firing rate\n",
    "            firing_rates += [len(st) / recording.get_total_duration()]\n",
    "\n",
    "    # plot distribution\n",
    "    _, axis = plt.subplots(1, 1, figsize=(5, 2))\n",
    "    axis.hist(firing_rates, bins=np.arange(0, 1.1 * max(firing_rates), 0.1), width=0.2)\n",
    "    axis.set_xticks(np.arange(0, 1.1 * max(firing_rates), 1))\n",
    "    axis.set_xlabel(\"firing rate (Hz)\")\n",
    "    axis.set_ylabel(\"neuron (count)\")\n",
    "    axis.spines[[\"right\", \"top\"]].set_visible(False)\n",
    "    return sorted_true, firing_rates"
   ]
  },
  {
   "attachments": {},
   "cell_type": "markdown",
   "metadata": {},
   "source": [
    "### Compare spike train to identify unique neuron populations\n",
    "\n",
    "Compare visually each recording spike trains --> they are all different so pool all into a big population of simulated neurons."
   ]
  },
  {
   "cell_type": "code",
   "execution_count": 71,
   "metadata": {},
   "outputs": [],
   "source": [
    "# compare firing rate histograms\n",
    "uri = \"sha1://3b265eced5640c146d24a3d39719409cceccc45b?synth-monotrode-spikeforest-recordings.json\"\n",
    "\n",
    "# # firing rate hist. population 1\n",
    "# rec_i = 0\n",
    "# sorted_true_0 = plot_each_rec(uri, rec_i)\n",
    "\n",
    "# # firing rate hist. population 2\n",
    "# rec_i = 1\n",
    "# sorted_true_1 = plot_each_rec(uri, rec_i)\n",
    "\n",
    "# rec_i = 2\n",
    "# sorted_true_2 = plot_each_rec(uri, rec_i)\n",
    "\n",
    "# print(\"spike count:\", len(sorted_true_0.get_all_spike_trains()[0][0] ))\n",
    "# print(\"spike count:\", len(sorted_true_1.get_all_spike_trains()[0][0]))\n",
    "# print(\"spike count:\", len(sorted_true_2.get_all_spike_trains()[0][0]))\n",
    "# print(\"spikes:\", sorted_true_0.get_all_spike_trains()[0][0])\n",
    "# print(\"spikes:\", sorted_true_1.get_all_spike_trains()[0][0])\n",
    "# print(\"spikes:\", sorted_true_2.get_all_spike_trains()[0][0])"
   ]
  },
  {
   "attachments": {},
   "cell_type": "markdown",
   "metadata": {},
   "source": [
    "Plot firing rate distribution "
   ]
  },
  {
   "cell_type": "code",
   "execution_count": 72,
   "metadata": {},
   "outputs": [
    {
     "data": {
      "image/png": "[encoded data removed]",
      "text/plain": [
       "<Figure size 500x200 with 1 Axes>"
      ]
     },
     "metadata": {},
     "output_type": "display_data"
    }
   ],
   "source": [
    "all_recordings = sf.load_spikeforest_recordings(uri)\n",
    "sorted_true, firing_rates_synth_monotrode = plot_all_rec(all_recordings)"
   ]
  },
  {
   "cell_type": "code",
   "execution_count": 76,
   "metadata": {},
   "outputs": [],
   "source": [
    "# save firing rates\n",
    "parent_path = os.path.dirname(SYNTH_MONOTRODE_FR_FILE_PATH)\n",
    "if not os.path.isdir(parent_path):\n",
    "    os.makedirs(parent_path)\n",
    "np.save(SYNTH_MONOTRODE_FR_FILE_PATH, firing_rates_synth_monotrode)"
   ]
  },
  {
   "cell_type": "markdown",
   "metadata": {},
   "source": [
    "### Buccino 2020"
   ]
  },
  {
   "cell_type": "code",
   "execution_count": 14,
   "metadata": {},
   "outputs": [
    {
     "name": "stdout",
     "output_type": "stream",
     "text": [
      "Versions are not the same. This might lead to errors. Use  spikeinterface version 0.96.1\n",
      "Versions are not the same. This might lead to errors. Use  spikeinterface version 0.96.1\n"
     ]
    }
   ],
   "source": [
    "import spikeinterface as si\n",
    "\n",
    "recording = si.load_extractor(BUCCI_RECORDING_PATH)\n",
    "sorted_true = si.load_extractor(BUCCI_GT_SORTING_PATH)\n",
    "\n",
    "buccino_firing_rates = []\n",
    "\n",
    "# calculate firing rate\n",
    "for unit_id in sorted_true.get_unit_ids():\n",
    "\n",
    "    # get spike train\n",
    "    st = sorted_true.get_unit_spike_train(unit_id=unit_id)\n",
    "\n",
    "    # calculate firing rate\n",
    "    buccino_firing_rates += [len(st) / recording.get_total_duration()]"
   ]
  },
  {
   "cell_type": "code",
   "execution_count": 16,
   "metadata": {},
   "outputs": [],
   "source": [
    "# save firing rates\n",
    "parent_path = os.path.dirname(BUCCI_FR_FILE_PATH)\n",
    "if not os.path.isdir(parent_path):\n",
    "    os.makedirs(parent_path)\n",
    "np.save(BUCCI_FR_FILE_PATH, buccino_firing_rates)"
   ]
  },
  {
   "cell_type": "markdown",
   "metadata": {},
   "source": [
    "## Our NMC"
   ]
  },
  {
   "cell_type": "code",
   "execution_count": 22,
   "metadata": {},
   "outputs": [
    {
     "data": {
      "text/plain": [
       "'/gpfs/bbp.cscs.ch/project/proj68/scratch/laquitai/dataeng/0_silico/neuropixels_lfp_10m_2023_02_19/f3c730ef-8dd9-4d6d-8c18-3ddb7d3eeee7/campaign/raw/traces.pkl'"
      ]
     },
     "execution_count": 22,
     "metadata": {},
     "output_type": "execute_result"
    }
   ],
   "source": [
    "# recording = si.load_extractor(NMC_RECORDING_PATH)\n",
    "NMC_RECORDING_PATH"
   ]
  },
  {
   "cell_type": "code",
   "execution_count": 27,
   "metadata": {},
   "outputs": [
    {
     "name": "stdout",
     "output_type": "stream",
     "text": [
      "Versions are not the same. This might lead to errors. Use  spikeinterface version 0.96.1\n",
      "Versions are not the same. This might lead to errors. Use  spikeinterface version 0.96.1\n"
     ]
    }
   ],
   "source": [
    "recording = si.load_extractor(NMC_RECORDING_PATH)\n",
    "sorted_true = si.load_extractor(NMC_GT_SORTING_PATH)\n",
    "\n",
    "nmc_firing_rates = []\n",
    "\n",
    "nmc_spike_count = []\n",
    "\n",
    "# calculate firing rate\n",
    "for unit_id in sorted_true.get_unit_ids():\n",
    "\n",
    "    # get spike train\n",
    "    st = sorted_true.get_unit_spike_train(unit_id=unit_id)\n",
    "\n",
    "    # calculate firing rate\n",
    "    nmc_firing_rates += [len(st) / recording.get_total_duration()]\n",
    "\n",
    "    # count spikes firing rate\n",
    "    nmc_spike_count += [len(st)]"
   ]
  },
  {
   "cell_type": "code",
   "execution_count": 26,
   "metadata": {},
   "outputs": [],
   "source": [
    "# save firing rates\n",
    "parent_path = os.path.dirname(NMC_FR_FILE_PATH)\n",
    "if not os.path.isdir(parent_path):\n",
    "    os.makedirs(parent_path)\n",
    "np.save(NMC_FR_FILE_PATH, nmc_firing_rates)"
   ]
  },
  {
   "cell_type": "code",
   "execution_count": 33,
   "metadata": {},
   "outputs": [
    {
     "data": {
      "text/plain": [
       "Counter({1: 56,\n",
       "         2: 36,\n",
       "         4: 19,\n",
       "         3: 17,\n",
       "         5: 13,\n",
       "         7: 13,\n",
       "         8: 13,\n",
       "         6: 12,\n",
       "         11: 10,\n",
       "         15: 9,\n",
       "         12: 8,\n",
       "         14: 7,\n",
       "         16: 7,\n",
       "         18: 7,\n",
       "         9: 6,\n",
       "         13: 6,\n",
       "         30: 6,\n",
       "         26: 5,\n",
       "         27: 5,\n",
       "         10: 4,\n",
       "         17: 4,\n",
       "         19: 4,\n",
       "         20: 4,\n",
       "         21: 3,\n",
       "         22: 3,\n",
       "         23: 3,\n",
       "         25: 3,\n",
       "         34: 3,\n",
       "         67: 3,\n",
       "         75: 3,\n",
       "         76: 3,\n",
       "         82: 3,\n",
       "         94: 3,\n",
       "         97: 3,\n",
       "         118: 3,\n",
       "         29: 2,\n",
       "         31: 2,\n",
       "         32: 2,\n",
       "         33: 2,\n",
       "         36: 2,\n",
       "         44: 2,\n",
       "         45: 2,\n",
       "         47: 2,\n",
       "         49: 2,\n",
       "         59: 2,\n",
       "         63: 2,\n",
       "         74: 2,\n",
       "         78: 2,\n",
       "         81: 2,\n",
       "         83: 2,\n",
       "         93: 2,\n",
       "         99: 2,\n",
       "         102: 2,\n",
       "         142: 2,\n",
       "         154: 2,\n",
       "         300: 2,\n",
       "         410: 2,\n",
       "         528: 2,\n",
       "         983: 2,\n",
       "         28: 1,\n",
       "         37: 1,\n",
       "         38: 1,\n",
       "         39: 1,\n",
       "         40: 1,\n",
       "         42: 1,\n",
       "         46: 1,\n",
       "         50: 1,\n",
       "         51: 1,\n",
       "         54: 1,\n",
       "         56: 1,\n",
       "         57: 1,\n",
       "         58: 1,\n",
       "         61: 1,\n",
       "         62: 1,\n",
       "         64: 1,\n",
       "         66: 1,\n",
       "         69: 1,\n",
       "         70: 1,\n",
       "         71: 1,\n",
       "         72: 1,\n",
       "         79: 1,\n",
       "         80: 1,\n",
       "         85: 1,\n",
       "         89: 1,\n",
       "         90: 1,\n",
       "         101: 1,\n",
       "         106: 1,\n",
       "         108: 1,\n",
       "         109: 1,\n",
       "         112: 1,\n",
       "         116: 1,\n",
       "         119: 1,\n",
       "         122: 1,\n",
       "         123: 1,\n",
       "         124: 1,\n",
       "         126: 1,\n",
       "         129: 1,\n",
       "         132: 1,\n",
       "         134: 1,\n",
       "         138: 1,\n",
       "         139: 1,\n",
       "         144: 1,\n",
       "         149: 1,\n",
       "         155: 1,\n",
       "         156: 1,\n",
       "         165: 1,\n",
       "         168: 1,\n",
       "         171: 1,\n",
       "         173: 1,\n",
       "         175: 1,\n",
       "         178: 1,\n",
       "         182: 1,\n",
       "         183: 1,\n",
       "         188: 1,\n",
       "         193: 1,\n",
       "         197: 1,\n",
       "         203: 1,\n",
       "         205: 1,\n",
       "         210: 1,\n",
       "         214: 1,\n",
       "         221: 1,\n",
       "         224: 1,\n",
       "         235: 1,\n",
       "         241: 1,\n",
       "         250: 1,\n",
       "         253: 1,\n",
       "         263: 1,\n",
       "         264: 1,\n",
       "         270: 1,\n",
       "         279: 1,\n",
       "         283: 1,\n",
       "         301: 1,\n",
       "         307: 1,\n",
       "         311: 1,\n",
       "         312: 1,\n",
       "         314: 1,\n",
       "         318: 1,\n",
       "         319: 1,\n",
       "         323: 1,\n",
       "         325: 1,\n",
       "         336: 1,\n",
       "         347: 1,\n",
       "         351: 1,\n",
       "         365: 1,\n",
       "         368: 1,\n",
       "         374: 1,\n",
       "         380: 1,\n",
       "         395: 1,\n",
       "         396: 1,\n",
       "         407: 1,\n",
       "         419: 1,\n",
       "         423: 1,\n",
       "         431: 1,\n",
       "         433: 1,\n",
       "         455: 1,\n",
       "         470: 1,\n",
       "         480: 1,\n",
       "         488: 1,\n",
       "         489: 1,\n",
       "         506: 1,\n",
       "         517: 1,\n",
       "         520: 1,\n",
       "         527: 1,\n",
       "         534: 1,\n",
       "         546: 1,\n",
       "         549: 1,\n",
       "         564: 1,\n",
       "         589: 1,\n",
       "         597: 1,\n",
       "         617: 1,\n",
       "         620: 1,\n",
       "         625: 1,\n",
       "         636: 1,\n",
       "         649: 1,\n",
       "         656: 1,\n",
       "         659: 1,\n",
       "         671: 1,\n",
       "         684: 1,\n",
       "         685: 1,\n",
       "         698: 1,\n",
       "         704: 1,\n",
       "         714: 1,\n",
       "         732: 1,\n",
       "         742: 1,\n",
       "         754: 1,\n",
       "         758: 1,\n",
       "         777: 1,\n",
       "         795: 1,\n",
       "         798: 1,\n",
       "         805: 1,\n",
       "         817: 1,\n",
       "         821: 1,\n",
       "         825: 1,\n",
       "         848: 1,\n",
       "         854: 1,\n",
       "         860: 1,\n",
       "         883: 1,\n",
       "         902: 1,\n",
       "         908: 1,\n",
       "         932: 1,\n",
       "         945: 1,\n",
       "         950: 1,\n",
       "         953: 1,\n",
       "         964: 1,\n",
       "         966: 1,\n",
       "         1001: 1,\n",
       "         1006: 1,\n",
       "         1032: 1,\n",
       "         1052: 1,\n",
       "         1098: 1,\n",
       "         1100: 1,\n",
       "         1101: 1,\n",
       "         1128: 1,\n",
       "         1149: 1,\n",
       "         1158: 1,\n",
       "         1200: 1,\n",
       "         1222: 1,\n",
       "         1330: 1,\n",
       "         1353: 1,\n",
       "         1405: 1,\n",
       "         1406: 1,\n",
       "         1424: 1,\n",
       "         1460: 1,\n",
       "         1473: 1,\n",
       "         1499: 1,\n",
       "         1528: 1,\n",
       "         1533: 1,\n",
       "         1565: 1,\n",
       "         1578: 1,\n",
       "         1584: 1,\n",
       "         1593: 1,\n",
       "         1618: 1,\n",
       "         1627: 1,\n",
       "         1705: 1,\n",
       "         1791: 1,\n",
       "         2371: 1,\n",
       "         2496: 1,\n",
       "         2923: 1})"
      ]
     },
     "execution_count": 33,
     "metadata": {},
     "output_type": "execute_result"
    }
   ],
   "source": [
    "import collections\n",
    "\n",
    "collections.Counter(np.sort(nmc_spike_count))"
   ]
  },
  {
   "attachments": {},
   "cell_type": "markdown",
   "metadata": {},
   "source": [
    "## References\n",
    "\n",
    "(1) https://github.com/flatironinstitute/spikeforest/blob/main/examples/load_extractors_for_recording.py\n",
    "\n",
    "(2) https://spikeforest.flatironinstitute.org\n",
    "\n",
    "(3) https://spikeforest.flatironinstitute.org/studyset/PAIRED_BOYDEN"
   ]
  }
 ],
 "metadata": {
  "kernelspec": {
   "display_name": "env_spikeforest",
   "language": "python",
   "name": "python3"
  },
  "language_info": {
   "codemirror_mode": {
    "name": "ipython",
    "version": 3
   },
   "file_extension": ".py",
   "mimetype": "text/x-python",
   "name": "python",
   "nbconvert_exporter": "python",
   "pygments_lexer": "ipython3",
   "version": "3.9.7"
  },
  "orig_nbformat": 4
 },
 "nbformat": 4,
 "nbformat_minor": 2
}
