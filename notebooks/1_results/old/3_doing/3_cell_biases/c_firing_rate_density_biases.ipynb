{
 "cells": [
  {
   "attachments": {},
   "cell_type": "markdown",
   "metadata": {},
   "source": [
    "# Firing rate density biases\n",
    "\n",
    "author: steeve.laquitaine@epfl.ch\n",
    "\n",
    "modified: 01.06.2023\n",
    "\n",
    "TODO:\n",
    "- unit-test"
   ]
  },
  {
   "attachments": {},
   "cell_type": "markdown",
   "metadata": {},
   "source": [
    "## Setup\n",
    "\n",
    "Setup virtual env `env_kilosort_silico`\n",
    "\n",
    "```bash\n",
    "pip3.9 install -r requirements_kilosort_silico.txt\n",
    "```"
   ]
  },
  {
   "cell_type": "code",
   "execution_count": 1,
   "metadata": {},
   "outputs": [
    {
     "name": "stdout",
     "output_type": "stream",
     "text": [
      "2023-06-02 12:05:57,200 - root - utils.py - get_config - INFO - Reading experiment config.\n",
      "2023-06-02 12:05:57,247 - root - utils.py - get_config - INFO - Reading experiment config. - done\n",
      "2023-06-02 12:05:57,250 - root - utils.py - get_config - INFO - Reading experiment config.\n",
      "2023-06-02 12:05:57,294 - root - utils.py - get_config - INFO - Reading experiment config. - done\n"
     ]
    }
   ],
   "source": [
    "# SETUP PACKAGES \n",
    "%load_ext autoreload\n",
    "%autoreload 2\n",
    "import os \n",
    "import spikeinterface as si\n",
    "import numpy as np\n",
    "from matplotlib import pyplot as plt\n",
    "import pandas as pd \n",
    "\n",
    "# SET PROJECT PATH\n",
    "PROJ_PATH = \"/gpfs/bbp.cscs.ch/project/proj68/home/laquitai/spike-sorting\"\n",
    "os.chdir(PROJ_PATH)\n",
    "\n",
    "EXPERIMENT = \"silico_neuropixels\"\n",
    "SIMULATION_DATE = \"2023_02_19\"\n",
    "from src.nodes.utils import get_config\n",
    "from src.nodes.postpro.cell_matching import get_missed_units, get_detected_units\n",
    "from src.nodes.postpro.cell_matching import get_SpikeInterface_matching_object, match_sorted_to_true_neuropixels_2023_02_19\n",
    "from src.nodes.postpro.feateng import (\n",
    "    add_firing_rates, test_add_firing_rates, add_true_spike_count, add_sorted_spike_count, test_add_true_spike_count, test_add_sorted_spike_count\n",
    "    )\n",
    "\n",
    "from src.pipes.figures.p_bias_factors import engineer_detected_unit_features, get_drivers_of_density_biases, plot_cell_drivers_of_bias, plot_missed_cells_rate_hist\n",
    "\n",
    "# SET RUN CONFIG\n",
    "data_conf, _ = get_config(EXPERIMENT, SIMULATION_DATE).values()\n",
    "\n",
    "# SET PARAMETERS\n",
    "LOW_RATE_CEILING = 0.2  # max firing rate where negative proba change is observed in \"bias plot\"\n",
    "MID_RATE_CEILING = 1    # max firing rate where positive proba change is observed in \"bias plot\"\n",
    "\n",
    "\n",
    "# SET PATHS\n",
    "\n",
    "# set Kilosort sorted spikes and cells path\n",
    "KS3_SORTING_PATH = data_conf[\"sorting\"][\"sorters\"][\"kilosort3\"][\"output\"]\n",
    "\n",
    "# set ground truth spikes and cells path\n",
    "GT_SORTING_PATH = data_conf[\"sorting\"][\"simulation\"][\"ground_truth\"][\"output\"]"
   ]
  },
  {
   "attachments": {},
   "cell_type": "markdown",
   "metadata": {},
   "source": [
    "Studies have shown that sorters errors depend on cell's firing rate (spike counts). It is useful to look at what happens to cells sorted by their firing rate.\n",
    "\n",
    "A simple hypothesis is that the sorter misses cells, which could explain the reduction in proportion of low firing cells on the \"bias plot (red)\" after sorting. Alternatively the sorter could simply assign false positive spikes to these cells raising their firing rate.\n",
    "\n",
    "- the sorter `misses most cells, for the most part those that fire below 0.1 Hz` which supports the first hypothesis."
   ]
  },
  {
   "attachments": {},
   "cell_type": "markdown",
   "metadata": {},
   "source": [
    "### Match true and sorted units"
   ]
  },
  {
   "cell_type": "code",
   "execution_count": 2,
   "metadata": {},
   "outputs": [],
   "source": [
    "# get matching object\n",
    "MatchingObject = get_SpikeInterface_matching_object(GT_SORTING_PATH, KS3_SORTING_PATH)"
   ]
  },
  {
   "cell_type": "code",
   "execution_count": 3,
   "metadata": {},
   "outputs": [
    {
     "name": "stderr",
     "output_type": "stream",
     "text": [
      "/gpfs/bbp.cscs.ch/project/proj68/home/laquitai/spike-sorting/src/nodes/postpro/cell_matching.py:235: SettingWithCopyWarning: \n",
      "A value is trying to be set on a copy of a slice from a DataFrame\n",
      "\n",
      "See the caveats in the documentation: https://pandas.pydata.org/pandas-docs/stable/user_guide/indexing.html#returning-a-view-versus-a-copy\n",
      "  cell_matching[\"oversplit\"][\n",
      "/gpfs/bbp.cscs.ch/project/proj68/home/laquitai/spike-sorting/src/nodes/postpro/cell_matching.py:249: SettingWithCopyWarning: \n",
      "A value is trying to be set on a copy of a slice from a DataFrame\n",
      "\n",
      "See the caveats in the documentation: https://pandas.pydata.org/pandas-docs/stable/user_guide/indexing.html#returning-a-view-versus-a-copy\n",
      "  cell_matching[\"missed\"][cell_matching[\"true_unit\"].isin(missed)] = True\n"
     ]
    }
   ],
   "source": [
    "# Format as dataframe\n",
    "match = match_sorted_to_true_neuropixels_2023_02_19(GT_SORTING_PATH, KS3_SORTING_PATH)"
   ]
  },
  {
   "attachments": {},
   "cell_type": "markdown",
   "metadata": {},
   "source": [
    "### Add firing rates"
   ]
  },
  {
   "cell_type": "code",
   "execution_count": 4,
   "metadata": {},
   "outputs": [
    {
     "name": "stdout",
     "output_type": "stream",
     "text": [
      "2023-06-02 10:13:55,890 - root - utils.py - get_config - INFO - Reading experiment config.\n",
      "2023-06-02 10:13:55,936 - root - utils.py - get_config - INFO - Reading experiment config. - done\n"
     ]
    }
   ],
   "source": [
    "# add firing rate\n",
    "matching = match[\"cell_matching\"]\n",
    "matching = add_firing_rates(matching, GT_SORTING_PATH, KS3_SORTING_PATH, data_conf)\n",
    "\n",
    "# add spike counts\n",
    "matching = add_true_spike_count(matching, data_conf)\n",
    "matching = add_sorted_spike_count(matching, data_conf)"
   ]
  },
  {
   "cell_type": "code",
   "execution_count": 5,
   "metadata": {},
   "outputs": [
    {
     "name": "stderr",
     "output_type": "stream",
     "text": [
      "/gpfs/bbp.cscs.ch/project/proj68/home/laquitai/spike-sorting/env_kilosort_silico/lib/python3.9/site-packages/IPython/lib/pretty.py:778: FutureWarning: In a future version, object-dtype columns with all-bool values will not be included in reductions with bool_only=True. Explicitly cast to bool dtype instead.\n",
      "  output = repr(obj)\n",
      "/gpfs/bbp.cscs.ch/project/proj68/home/laquitai/spike-sorting/env_kilosort_silico/lib/python3.9/site-packages/IPython/core/formatters.py:342: FutureWarning: In a future version, object-dtype columns with all-bool values will not be included in reductions with bool_only=True. Explicitly cast to bool dtype instead.\n",
      "  return method()\n"
     ]
    },
    {
     "data": {
      "text/html": [
       "<div>\n",
       "<style scoped>\n",
       "    .dataframe tbody tr th:only-of-type {\n",
       "        vertical-align: middle;\n",
       "    }\n",
       "\n",
       "    .dataframe tbody tr th {\n",
       "        vertical-align: top;\n",
       "    }\n",
       "\n",
       "    .dataframe thead th {\n",
       "        text-align: right;\n",
       "    }\n",
       "</style>\n",
       "<table border=\"1\" class=\"dataframe\">\n",
       "  <thead>\n",
       "    <tr style=\"text-align: right;\">\n",
       "      <th></th>\n",
       "      <th>true_unit</th>\n",
       "      <th>sorted_unit</th>\n",
       "      <th>oversplit</th>\n",
       "      <th>missed</th>\n",
       "      <th>true firing rate</th>\n",
       "      <th>ks3 firing rate</th>\n",
       "      <th>true spike count</th>\n",
       "      <th>sorted spike count</th>\n",
       "    </tr>\n",
       "  </thead>\n",
       "  <tbody>\n",
       "    <tr>\n",
       "      <th>0</th>\n",
       "      <td>19690.0</td>\n",
       "      <td>298.0</td>\n",
       "      <td>True</td>\n",
       "      <td>False</td>\n",
       "      <td>0.009091</td>\n",
       "      <td>2.016404</td>\n",
       "      <td>5.0</td>\n",
       "      <td>1109.0</td>\n",
       "    </tr>\n",
       "    <tr>\n",
       "      <th>1</th>\n",
       "      <td>397844.0</td>\n",
       "      <td>298.0</td>\n",
       "      <td>True</td>\n",
       "      <td>False</td>\n",
       "      <td>0.007273</td>\n",
       "      <td>2.016404</td>\n",
       "      <td>4.0</td>\n",
       "      <td>1109.0</td>\n",
       "    </tr>\n",
       "    <tr>\n",
       "      <th>2</th>\n",
       "      <td>499827.0</td>\n",
       "      <td>298.0</td>\n",
       "      <td>True</td>\n",
       "      <td>False</td>\n",
       "      <td>1.541849</td>\n",
       "      <td>2.016404</td>\n",
       "      <td>848.0</td>\n",
       "      <td>1109.0</td>\n",
       "    </tr>\n",
       "    <tr>\n",
       "      <th>3</th>\n",
       "      <td>1415062.0</td>\n",
       "      <td>298.0</td>\n",
       "      <td>True</td>\n",
       "      <td>False</td>\n",
       "      <td>0.001818</td>\n",
       "      <td>2.016404</td>\n",
       "      <td>1.0</td>\n",
       "      <td>1109.0</td>\n",
       "    </tr>\n",
       "    <tr>\n",
       "      <th>4</th>\n",
       "      <td>2795437.0</td>\n",
       "      <td>298.0</td>\n",
       "      <td>True</td>\n",
       "      <td>False</td>\n",
       "      <td>1.463666</td>\n",
       "      <td>2.016404</td>\n",
       "      <td>805.0</td>\n",
       "      <td>1109.0</td>\n",
       "    </tr>\n",
       "    <tr>\n",
       "      <th>...</th>\n",
       "      <td>...</td>\n",
       "      <td>...</td>\n",
       "      <td>...</td>\n",
       "      <td>...</td>\n",
       "      <td>...</td>\n",
       "      <td>...</td>\n",
       "      <td>...</td>\n",
       "      <td>...</td>\n",
       "    </tr>\n",
       "    <tr>\n",
       "      <th>622</th>\n",
       "      <td>NaN</td>\n",
       "      <td>289.0</td>\n",
       "      <td>NaN</td>\n",
       "      <td>NaN</td>\n",
       "      <td>NaN</td>\n",
       "      <td>0.425463</td>\n",
       "      <td>NaN</td>\n",
       "      <td>234.0</td>\n",
       "    </tr>\n",
       "    <tr>\n",
       "      <th>623</th>\n",
       "      <td>NaN</td>\n",
       "      <td>290.0</td>\n",
       "      <td>NaN</td>\n",
       "      <td>NaN</td>\n",
       "      <td>NaN</td>\n",
       "      <td>1.874583</td>\n",
       "      <td>NaN</td>\n",
       "      <td>1031.0</td>\n",
       "    </tr>\n",
       "    <tr>\n",
       "      <th>624</th>\n",
       "      <td>NaN</td>\n",
       "      <td>294.0</td>\n",
       "      <td>NaN</td>\n",
       "      <td>NaN</td>\n",
       "      <td>NaN</td>\n",
       "      <td>0.343643</td>\n",
       "      <td>NaN</td>\n",
       "      <td>189.0</td>\n",
       "    </tr>\n",
       "    <tr>\n",
       "      <th>625</th>\n",
       "      <td>NaN</td>\n",
       "      <td>295.0</td>\n",
       "      <td>NaN</td>\n",
       "      <td>NaN</td>\n",
       "      <td>NaN</td>\n",
       "      <td>0.572739</td>\n",
       "      <td>NaN</td>\n",
       "      <td>315.0</td>\n",
       "    </tr>\n",
       "    <tr>\n",
       "      <th>626</th>\n",
       "      <td>NaN</td>\n",
       "      <td>296.0</td>\n",
       "      <td>NaN</td>\n",
       "      <td>NaN</td>\n",
       "      <td>NaN</td>\n",
       "      <td>0.869108</td>\n",
       "      <td>NaN</td>\n",
       "      <td>478.0</td>\n",
       "    </tr>\n",
       "  </tbody>\n",
       "</table>\n",
       "<p>627 rows × 8 columns</p>\n",
       "</div>"
      ],
      "text/plain": [
       "     true_unit  sorted_unit oversplit missed  true firing rate  \\\n",
       "0      19690.0        298.0      True  False          0.009091   \n",
       "1     397844.0        298.0      True  False          0.007273   \n",
       "2     499827.0        298.0      True  False          1.541849   \n",
       "3    1415062.0        298.0      True  False          0.001818   \n",
       "4    2795437.0        298.0      True  False          1.463666   \n",
       "..         ...          ...       ...    ...               ...   \n",
       "622        NaN        289.0       NaN    NaN               NaN   \n",
       "623        NaN        290.0       NaN    NaN               NaN   \n",
       "624        NaN        294.0       NaN    NaN               NaN   \n",
       "625        NaN        295.0       NaN    NaN               NaN   \n",
       "626        NaN        296.0       NaN    NaN               NaN   \n",
       "\n",
       "     ks3 firing rate  true spike count  sorted spike count  \n",
       "0           2.016404               5.0              1109.0  \n",
       "1           2.016404               4.0              1109.0  \n",
       "2           2.016404             848.0              1109.0  \n",
       "3           2.016404               1.0              1109.0  \n",
       "4           2.016404             805.0              1109.0  \n",
       "..               ...               ...                 ...  \n",
       "622         0.425463               NaN               234.0  \n",
       "623         1.874583               NaN              1031.0  \n",
       "624         0.343643               NaN               189.0  \n",
       "625         0.572739               NaN               315.0  \n",
       "626         0.869108               NaN               478.0  \n",
       "\n",
       "[627 rows x 8 columns]"
      ]
     },
     "execution_count": 5,
     "metadata": {},
     "output_type": "execute_result"
    }
   ],
   "source": [
    "matching"
   ]
  },
  {
   "cell_type": "code",
   "execution_count": 6,
   "metadata": {},
   "outputs": [],
   "source": [
    "# unit-tests\n",
    "test_add_firing_rates()\n",
    "test_add_true_spike_count()\n",
    "test_add_sorted_spike_count()"
   ]
  },
  {
   "attachments": {},
   "cell_type": "markdown",
   "metadata": {},
   "source": [
    "### Sort missed and detected units"
   ]
  },
  {
   "cell_type": "code",
   "execution_count": 7,
   "metadata": {},
   "outputs": [],
   "source": [
    "# get missed units\n",
    "missed_units = get_missed_units(MatchingObject.agreement_scores)\n",
    "missed_data = matching[matching[\"true_unit\"].isin(missed_units)]\n",
    "\n",
    "# get detected units\n",
    "detected_units = get_detected_units(MatchingObject.agreement_scores)\n",
    "detected_data = matching[matching[\"true_unit\"].isin(detected_units)]"
   ]
  },
  {
   "attachments": {},
   "cell_type": "markdown",
   "metadata": {},
   "source": [
    "### Featurize detected units data"
   ]
  },
  {
   "cell_type": "code",
   "execution_count": 8,
   "metadata": {},
   "outputs": [
    {
     "name": "stderr",
     "output_type": "stream",
     "text": [
      "/gpfs/bbp.cscs.ch/project/proj68/home/laquitai/spike-sorting/src/pipes/figures/p_bias_factors.py:168: SettingWithCopyWarning: \n",
      "A value is trying to be set on a copy of a slice from a DataFrame.\n",
      "Try using .loc[row_indexer,col_indexer] = value instead\n",
      "\n",
      "See the caveats in the documentation: https://pandas.pydata.org/pandas-docs/stable/user_guide/indexing.html#returning-a-view-versus-a-copy\n",
      "  feats[\"true_firing_rate_feat\"] = true_rate\n",
      "/gpfs/bbp.cscs.ch/project/proj68/home/laquitai/spike-sorting/src/pipes/figures/p_bias_factors.py:170: SettingWithCopyWarning: \n",
      "A value is trying to be set on a copy of a slice from a DataFrame\n",
      "\n",
      "See the caveats in the documentation: https://pandas.pydata.org/pandas-docs/stable/user_guide/indexing.html#returning-a-view-versus-a-copy\n",
      "  feats[\"true_firing_rate_feat\"][neg_p_bias_loc] = \"neg_p_bias\"\n",
      "/gpfs/bbp.cscs.ch/project/proj68/home/laquitai/spike-sorting/src/pipes/figures/p_bias_factors.py:170: SettingWithCopyWarning: \n",
      "A value is trying to be set on a copy of a slice from a DataFrame\n",
      "\n",
      "See the caveats in the documentation: https://pandas.pydata.org/pandas-docs/stable/user_guide/indexing.html#returning-a-view-versus-a-copy\n",
      "  feats[\"true_firing_rate_feat\"][neg_p_bias_loc] = \"neg_p_bias\"\n",
      "/gpfs/bbp.cscs.ch/project/proj68/home/laquitai/spike-sorting/src/pipes/figures/p_bias_factors.py:178: SettingWithCopyWarning: \n",
      "A value is trying to be set on a copy of a slice from a DataFrame\n",
      "\n",
      "See the caveats in the documentation: https://pandas.pydata.org/pandas-docs/stable/user_guide/indexing.html#returning-a-view-versus-a-copy\n",
      "  feats[\"true_firing_rate_feat\"][pos_p_bias_loc] = \"pos_p_bias\"\n",
      "/gpfs/bbp.cscs.ch/project/proj68/home/laquitai/spike-sorting/src/pipes/figures/p_bias_factors.py:178: SettingWithCopyWarning: \n",
      "A value is trying to be set on a copy of a slice from a DataFrame\n",
      "\n",
      "See the caveats in the documentation: https://pandas.pydata.org/pandas-docs/stable/user_guide/indexing.html#returning-a-view-versus-a-copy\n",
      "  feats[\"true_firing_rate_feat\"][pos_p_bias_loc] = \"pos_p_bias\"\n",
      "/gpfs/bbp.cscs.ch/project/proj68/home/laquitai/spike-sorting/src/pipes/figures/p_bias_factors.py:182: SettingWithCopyWarning: \n",
      "A value is trying to be set on a copy of a slice from a DataFrame\n",
      "\n",
      "See the caveats in the documentation: https://pandas.pydata.org/pandas-docs/stable/user_guide/indexing.html#returning-a-view-versus-a-copy\n",
      "  feats[\"true_firing_rate_feat\"][true_rate >= MID_RATE_CEILING] = \"no_p_bias\"\n",
      "/gpfs/bbp.cscs.ch/project/proj68/home/laquitai/spike-sorting/src/pipes/figures/p_bias_factors.py:182: SettingWithCopyWarning: \n",
      "A value is trying to be set on a copy of a slice from a DataFrame\n",
      "\n",
      "See the caveats in the documentation: https://pandas.pydata.org/pandas-docs/stable/user_guide/indexing.html#returning-a-view-versus-a-copy\n",
      "  feats[\"true_firing_rate_feat\"][true_rate >= MID_RATE_CEILING] = \"no_p_bias\"\n",
      "/gpfs/bbp.cscs.ch/project/proj68/home/laquitai/spike-sorting/src/pipes/figures/p_bias_factors.py:185: SettingWithCopyWarning: \n",
      "A value is trying to be set on a copy of a slice from a DataFrame.\n",
      "Try using .loc[row_indexer,col_indexer] = value instead\n",
      "\n",
      "See the caveats in the documentation: https://pandas.pydata.org/pandas-docs/stable/user_guide/indexing.html#returning-a-view-versus-a-copy\n",
      "  feats[\"rate_change\"] = feats[\"ks3 firing rate\"] - true_rate\n",
      "/gpfs/bbp.cscs.ch/project/proj68/home/laquitai/spike-sorting/src/pipes/figures/p_bias_factors.py:186: SettingWithCopyWarning: \n",
      "A value is trying to be set on a copy of a slice from a DataFrame.\n",
      "Try using .loc[row_indexer,col_indexer] = value instead\n",
      "\n",
      "See the caveats in the documentation: https://pandas.pydata.org/pandas-docs/stable/user_guide/indexing.html#returning-a-view-versus-a-copy\n",
      "  feats[\"rate_change_feat\"] = feats[\"rate_change\"]\n",
      "/gpfs/bbp.cscs.ch/project/proj68/home/laquitai/spike-sorting/src/pipes/figures/p_bias_factors.py:187: SettingWithCopyWarning: \n",
      "A value is trying to be set on a copy of a slice from a DataFrame\n",
      "\n",
      "See the caveats in the documentation: https://pandas.pydata.org/pandas-docs/stable/user_guide/indexing.html#returning-a-view-versus-a-copy\n",
      "  feats[\"rate_change_feat\"][feats[\"rate_change\"] > 0] = \"increases\"\n",
      "/gpfs/bbp.cscs.ch/project/proj68/home/laquitai/spike-sorting/src/pipes/figures/p_bias_factors.py:187: SettingWithCopyWarning: \n",
      "A value is trying to be set on a copy of a slice from a DataFrame\n",
      "\n",
      "See the caveats in the documentation: https://pandas.pydata.org/pandas-docs/stable/user_guide/indexing.html#returning-a-view-versus-a-copy\n",
      "  feats[\"rate_change_feat\"][feats[\"rate_change\"] > 0] = \"increases\"\n",
      "/gpfs/bbp.cscs.ch/project/proj68/home/laquitai/spike-sorting/src/pipes/figures/p_bias_factors.py:188: SettingWithCopyWarning: \n",
      "A value is trying to be set on a copy of a slice from a DataFrame\n",
      "\n",
      "See the caveats in the documentation: https://pandas.pydata.org/pandas-docs/stable/user_guide/indexing.html#returning-a-view-versus-a-copy\n",
      "  feats[\"rate_change_feat\"][feats[\"rate_change\"] < 0] = \"decreases\"\n",
      "/gpfs/bbp.cscs.ch/project/proj68/home/laquitai/spike-sorting/src/pipes/figures/p_bias_factors.py:188: SettingWithCopyWarning: \n",
      "A value is trying to be set on a copy of a slice from a DataFrame\n",
      "\n",
      "See the caveats in the documentation: https://pandas.pydata.org/pandas-docs/stable/user_guide/indexing.html#returning-a-view-versus-a-copy\n",
      "  feats[\"rate_change_feat\"][feats[\"rate_change\"] < 0] = \"decreases\"\n",
      "/gpfs/bbp.cscs.ch/project/proj68/home/laquitai/spike-sorting/src/pipes/figures/p_bias_factors.py:189: SettingWithCopyWarning: \n",
      "A value is trying to be set on a copy of a slice from a DataFrame\n",
      "\n",
      "See the caveats in the documentation: https://pandas.pydata.org/pandas-docs/stable/user_guide/indexing.html#returning-a-view-versus-a-copy\n",
      "  feats[\"rate_change_feat\"][feats[\"rate_change\"] == 0] = \"unchanged\"\n",
      "/gpfs/bbp.cscs.ch/project/proj68/home/laquitai/spike-sorting/src/pipes/figures/p_bias_factors.py:189: SettingWithCopyWarning: \n",
      "A value is trying to be set on a copy of a slice from a DataFrame\n",
      "\n",
      "See the caveats in the documentation: https://pandas.pydata.org/pandas-docs/stable/user_guide/indexing.html#returning-a-view-versus-a-copy\n",
      "  feats[\"rate_change_feat\"][feats[\"rate_change\"] == 0] = \"unchanged\"\n",
      "/gpfs/bbp.cscs.ch/project/proj68/home/laquitai/spike-sorting/src/pipes/figures/p_bias_factors.py:192: SettingWithCopyWarning: \n",
      "A value is trying to be set on a copy of a slice from a DataFrame.\n",
      "Try using .loc[row_indexer,col_indexer] = value instead\n",
      "\n",
      "See the caveats in the documentation: https://pandas.pydata.org/pandas-docs/stable/user_guide/indexing.html#returning-a-view-versus-a-copy\n",
      "  feats[\"oversplit_feat\"] = feats[\"oversplit\"]\n",
      "/gpfs/bbp.cscs.ch/project/proj68/home/laquitai/spike-sorting/src/pipes/figures/p_bias_factors.py:193: SettingWithCopyWarning: \n",
      "A value is trying to be set on a copy of a slice from a DataFrame\n",
      "\n",
      "See the caveats in the documentation: https://pandas.pydata.org/pandas-docs/stable/user_guide/indexing.html#returning-a-view-versus-a-copy\n",
      "  feats[\"oversplit_feat\"][feats[\"oversplit\"] == True] = \"oversplit\"\n",
      "/gpfs/bbp.cscs.ch/project/proj68/home/laquitai/spike-sorting/src/pipes/figures/p_bias_factors.py:193: SettingWithCopyWarning: \n",
      "A value is trying to be set on a copy of a slice from a DataFrame\n",
      "\n",
      "See the caveats in the documentation: https://pandas.pydata.org/pandas-docs/stable/user_guide/indexing.html#returning-a-view-versus-a-copy\n",
      "  feats[\"oversplit_feat\"][feats[\"oversplit\"] == True] = \"oversplit\"\n",
      "/gpfs/bbp.cscs.ch/project/proj68/home/laquitai/spike-sorting/src/pipes/figures/p_bias_factors.py:194: SettingWithCopyWarning: \n",
      "A value is trying to be set on a copy of a slice from a DataFrame\n",
      "\n",
      "See the caveats in the documentation: https://pandas.pydata.org/pandas-docs/stable/user_guide/indexing.html#returning-a-view-versus-a-copy\n",
      "  feats[\"oversplit_feat\"][feats[\"oversplit\"] == False] = \"unique\"\n",
      "/gpfs/bbp.cscs.ch/project/proj68/home/laquitai/spike-sorting/src/pipes/figures/p_bias_factors.py:194: SettingWithCopyWarning: \n",
      "A value is trying to be set on a copy of a slice from a DataFrame\n",
      "\n",
      "See the caveats in the documentation: https://pandas.pydata.org/pandas-docs/stable/user_guide/indexing.html#returning-a-view-versus-a-copy\n",
      "  feats[\"oversplit_feat\"][feats[\"oversplit\"] == False] = \"unique\"\n"
     ]
    }
   ],
   "source": [
    "# engineer\n",
    "features = engineer_detected_unit_features(detected_data, LOW_RATE_CEILING, MID_RATE_CEILING)"
   ]
  },
  {
   "attachments": {},
   "cell_type": "markdown",
   "metadata": {},
   "source": [
    "### Identify the causes of cell sorting firing probability biases"
   ]
  },
  {
   "cell_type": "code",
   "execution_count": 67,
   "metadata": {},
   "outputs": [],
   "source": [
    "# get the causes\n",
    "causes_out = get_drivers_of_density_biases(features, LOW_RATE_CEILING, MID_RATE_CEILING)"
   ]
  },
  {
   "attachments": {},
   "cell_type": "markdown",
   "metadata": {},
   "source": [
    "## Sparse firing unit misses and firing rate overestimation when detected explains firing rate density biases\n",
    "\n",
    "- Sparse firing units (< 0.2Hz) are missed.\n",
    "- cell misses (top panel) and overestimation of the firing rate of detected cells' firing below 1Hz, together explain the changes in the firing rate distribution (there are less sparse cells)."
   ]
  },
  {
   "cell_type": "code",
   "execution_count": 69,
   "metadata": {},
   "outputs": [
    {
     "name": "stdout",
     "output_type": "stream",
     "text": [
      "2023-06-02 11:13:39,706 - root - utils.py - get_config - INFO - Reading experiment config.\n",
      "2023-06-02 11:13:39,753 - root - utils.py - get_config - INFO - Reading experiment config. - done\n"
     ]
    },
    {
     "name": "stderr",
     "output_type": "stream",
     "text": [
      "/gpfs/bbp.cscs.ch/project/proj68/home/laquitai/spike-sorting/env_kilosort_silico/lib/python3.9/site-packages/pandas/plotting/_matplotlib/core.py:792: MatplotlibDeprecationWarning: The legendHandles attribute was deprecated in Matplotlib 3.7 and will be removed two minor releases later. Use legend_handles instead.\n",
      "  handles = leg.legendHandles\n",
      "/gpfs/bbp.cscs.ch/project/proj68/home/laquitai/spike-sorting/env_kilosort_silico/lib/python3.9/site-packages/pandas/plotting/_matplotlib/core.py:792: MatplotlibDeprecationWarning: The legendHandles attribute was deprecated in Matplotlib 3.7 and will be removed two minor releases later. Use legend_handles instead.\n",
      "  handles = leg.legendHandles\n",
      "/gpfs/bbp.cscs.ch/project/proj68/home/laquitai/spike-sorting/env_kilosort_silico/lib/python3.9/site-packages/pandas/plotting/_matplotlib/core.py:792: MatplotlibDeprecationWarning: The legendHandles attribute was deprecated in Matplotlib 3.7 and will be removed two minor releases later. Use legend_handles instead.\n",
      "  handles = leg.legendHandles\n",
      "/gpfs/bbp.cscs.ch/project/proj68/home/laquitai/spike-sorting/env_kilosort_silico/lib/python3.9/site-packages/pandas/plotting/_matplotlib/core.py:792: MatplotlibDeprecationWarning: The legendHandles attribute was deprecated in Matplotlib 3.7 and will be removed two minor releases later. Use legend_handles instead.\n",
      "  handles = leg.legendHandles\n",
      "/gpfs/bbp.cscs.ch/project/proj68/home/laquitai/spike-sorting/env_kilosort_silico/lib/python3.9/site-packages/pandas/plotting/_matplotlib/core.py:792: MatplotlibDeprecationWarning: The legendHandles attribute was deprecated in Matplotlib 3.7 and will be removed two minor releases later. Use legend_handles instead.\n",
      "  handles = leg.legendHandles\n",
      "/gpfs/bbp.cscs.ch/project/proj68/home/laquitai/spike-sorting/env_kilosort_silico/lib/python3.9/site-packages/pandas/plotting/_matplotlib/core.py:792: MatplotlibDeprecationWarning: The legendHandles attribute was deprecated in Matplotlib 3.7 and will be removed two minor releases later. Use legend_handles instead.\n",
      "  handles = leg.legendHandles\n"
     ]
    },
    {
     "data": {
      "image/png": "[encoded data removed]",
      "text/plain": [
       "<Figure size 500x500 with 3 Axes>"
      ]
     },
     "metadata": {},
     "output_type": "display_data"
    }
   ],
   "source": [
    "# setup figure\n",
    "fig = plt.figure(figsize=(5,5))\n",
    "gs = fig.add_gridspec(2, 2)\n",
    "ax1 = fig.add_subplot(gs[0, :])\n",
    "\n",
    "# make sure are no duplicates true unit firing rates\n",
    "missed_data_for_plot = missed_data.drop_duplicates(subset=['true_unit'])\n",
    "\n",
    "# plot missed cells cause of biases (against firing rate)\n",
    "ax1 = plot_missed_cells_rate_hist(ax1, missed_data, x_max=0.04, bin_step=0.002, bin_width=0.0017, title=\"\")\n",
    "\n",
    "# plot detected cells' cause of biases\n",
    "ax2 = fig.add_subplot(gs[1, 0])\n",
    "ax2 = plot_cell_drivers_of_bias(\n",
    "    ax2, \n",
    "    causes_out[\"overest_sparse_units\"], \n",
    "    causes_out[\"underest_mid_rate\"],\n",
    "    causes_out[\"overest_mid_rate\"],\n",
    "    causes_out[\"unbiased_cells\"], \n",
    "    x_max=9, \n",
    "    y_max=9, \n",
    "    legend=True, \n",
    "    title=\"\", \n",
    "    ylabel=True\n",
    "    )\n",
    "\n",
    "# plot detected cells' cause of biases\n",
    "ax3 = fig.add_subplot(gs[1, 1])\n",
    "ax3 = plot_cell_drivers_of_bias(\n",
    "    ax3, \n",
    "    causes_out[\"overest_sparse_units\"], \n",
    "    causes_out[\"underest_mid_rate\"],\n",
    "    causes_out[\"overest_mid_rate\"],\n",
    "    causes_out[\"unbiased_cells\"], \n",
    "    x_max=3.5, \n",
    "    y_max=3.5, \n",
    "    legend=False, \n",
    "    title=\"\", \n",
    "    ylabel=True\n",
    "    )\n",
    "plt.tight_layout()"
   ]
  },
  {
   "attachments": {},
   "cell_type": "markdown",
   "metadata": {},
   "source": [
    "## There are no silent units\n",
    "\n",
    "TODO:\n",
    "- I have run a few tests on \"add_sorted_spike_count\" but need to create unit-tests"
   ]
  },
  {
   "cell_type": "code",
   "execution_count": 262,
   "metadata": {},
   "outputs": [
    {
     "data": {
      "image/png": "[encoded data removed]",
      "text/plain": [
       "<Figure size 400x300 with 1 Axes>"
      ]
     },
     "metadata": {},
     "output_type": "display_data"
    }
   ],
   "source": [
    "# plot spike count distribution\n",
    "fig, axis = plt.subplots(figsize=(4,3))\n",
    "\n",
    "# create bins\n",
    "bins = np.arange(0,16,1)\n",
    "\n",
    "# bar sparse cells\n",
    "missed_data_for_hist = missed_data[[\"true_unit\", \"true spike count\"]].drop_duplicates(subset=['true_unit'])\n",
    "axis = missed_data_for_hist[\"true spike count\"].hist(bins=bins, width=0.9, color=[0.3, 0.3, 0.3], linewidth=2, facecolor=[0.3, 0.3, 0.3]);\n",
    "\n",
    "# legend\n",
    "axis.set_xlabel(\"spike count (count)\", fontsize=9);\n",
    "axis.set_ylabel(\"missed cell (count)\", fontsize=9);\n",
    "axis.grid(False);\n",
    "axis.spines[[\"right\", \"top\"]].set_visible(False);\n",
    "axis.set_xticks(bins);\n",
    "axis.set_xticklabels(bins, fontsize=9);"
   ]
  },
  {
   "cell_type": "code",
   "execution_count": 49,
   "metadata": {},
   "outputs": [
    {
     "name": "stdout",
     "output_type": "stream",
     "text": [
      "sparse units (count): 370\n",
      "missed sparse units (count): 78\n",
      "missed sparse units (ratio to sparse units): 0.21081081081081082\n"
     ]
    }
   ],
   "source": [
    "true_rate = matching[[\"true_unit\",\"true firing rate\"]].dropna()\n",
    "\n",
    "# count sparse true units\n",
    "n_sparse_units = sum(true_rate[\"true firing rate\"] < LOW_RATE_CEILING)\n",
    "print(\"sparse units (count):\", n_sparse_units)\n",
    "\n",
    "# count missed sparse units\n",
    "missed_rate = missed_data[[\"true_unit\", \"true firing rate\"]].dropna()\n",
    "n_missed_units = sum(missed_rate[\"true firing rate\"] < LOW_RATE_CEILING)\n",
    "print(\"missed sparse units (count):\", n_missed_units)\n",
    "print(\"missed sparse units (ratio to sparse units):\", n_missed_units/n_sparse_units)"
   ]
  },
  {
   "attachments": {},
   "cell_type": "markdown",
   "metadata": {},
   "source": [
    "TODO\n",
    "- show that sparse cells (below 1Hz have much lower sorting accuracies (max agreement score) than more active cells)"
   ]
  },
  {
   "cell_type": "code",
   "execution_count": 267,
   "metadata": {},
   "outputs": [
    {
     "data": {
      "text/html": [
       "<div>\n",
       "<style scoped>\n",
       "    .dataframe tbody tr th:only-of-type {\n",
       "        vertical-align: middle;\n",
       "    }\n",
       "\n",
       "    .dataframe tbody tr th {\n",
       "        vertical-align: top;\n",
       "    }\n",
       "\n",
       "    .dataframe thead th {\n",
       "        text-align: right;\n",
       "    }\n",
       "</style>\n",
       "<table border=\"1\" class=\"dataframe\">\n",
       "  <thead>\n",
       "    <tr style=\"text-align: right;\">\n",
       "      <th></th>\n",
       "      <th>true_unit</th>\n",
       "      <th>sorted_unit</th>\n",
       "      <th>oversplit</th>\n",
       "      <th>missed</th>\n",
       "      <th>true firing rate</th>\n",
       "      <th>ks3 firing rate</th>\n",
       "      <th>true spike count</th>\n",
       "      <th>sorted spike count</th>\n",
       "    </tr>\n",
       "  </thead>\n",
       "  <tbody>\n",
       "    <tr>\n",
       "      <th>0</th>\n",
       "      <td>19690.0</td>\n",
       "      <td>298.0</td>\n",
       "      <td>True</td>\n",
       "      <td>False</td>\n",
       "      <td>0.009091</td>\n",
       "      <td>2.016404</td>\n",
       "      <td>5.0</td>\n",
       "      <td>1109.0</td>\n",
       "    </tr>\n",
       "    <tr>\n",
       "      <th>1</th>\n",
       "      <td>397844.0</td>\n",
       "      <td>298.0</td>\n",
       "      <td>True</td>\n",
       "      <td>False</td>\n",
       "      <td>0.007273</td>\n",
       "      <td>2.016404</td>\n",
       "      <td>4.0</td>\n",
       "      <td>1109.0</td>\n",
       "    </tr>\n",
       "    <tr>\n",
       "      <th>2</th>\n",
       "      <td>499827.0</td>\n",
       "      <td>298.0</td>\n",
       "      <td>True</td>\n",
       "      <td>False</td>\n",
       "      <td>1.541849</td>\n",
       "      <td>2.016404</td>\n",
       "      <td>848.0</td>\n",
       "      <td>1109.0</td>\n",
       "    </tr>\n",
       "    <tr>\n",
       "      <th>3</th>\n",
       "      <td>1415062.0</td>\n",
       "      <td>298.0</td>\n",
       "      <td>True</td>\n",
       "      <td>False</td>\n",
       "      <td>0.001818</td>\n",
       "      <td>2.016404</td>\n",
       "      <td>1.0</td>\n",
       "      <td>1109.0</td>\n",
       "    </tr>\n",
       "    <tr>\n",
       "      <th>4</th>\n",
       "      <td>2795437.0</td>\n",
       "      <td>298.0</td>\n",
       "      <td>True</td>\n",
       "      <td>False</td>\n",
       "      <td>1.463666</td>\n",
       "      <td>2.016404</td>\n",
       "      <td>805.0</td>\n",
       "      <td>1109.0</td>\n",
       "    </tr>\n",
       "    <tr>\n",
       "      <th>...</th>\n",
       "      <td>...</td>\n",
       "      <td>...</td>\n",
       "      <td>...</td>\n",
       "      <td>...</td>\n",
       "      <td>...</td>\n",
       "      <td>...</td>\n",
       "      <td>...</td>\n",
       "      <td>...</td>\n",
       "    </tr>\n",
       "    <tr>\n",
       "      <th>529</th>\n",
       "      <td>4209594.0</td>\n",
       "      <td>268.0</td>\n",
       "      <td>True</td>\n",
       "      <td>False</td>\n",
       "      <td>0.021819</td>\n",
       "      <td>0.894563</td>\n",
       "      <td>12.0</td>\n",
       "      <td>492.0</td>\n",
       "    </tr>\n",
       "    <tr>\n",
       "      <th>530</th>\n",
       "      <td>4211868.0</td>\n",
       "      <td>135.0</td>\n",
       "      <td>True</td>\n",
       "      <td>False</td>\n",
       "      <td>0.027273</td>\n",
       "      <td>0.380008</td>\n",
       "      <td>15.0</td>\n",
       "      <td>209.0</td>\n",
       "    </tr>\n",
       "    <tr>\n",
       "      <th>531</th>\n",
       "      <td>4229506.0</td>\n",
       "      <td>135.0</td>\n",
       "      <td>True</td>\n",
       "      <td>False</td>\n",
       "      <td>0.567284</td>\n",
       "      <td>0.380008</td>\n",
       "      <td>312.0</td>\n",
       "      <td>209.0</td>\n",
       "    </tr>\n",
       "    <tr>\n",
       "      <th>532</th>\n",
       "      <td>4217493.0</td>\n",
       "      <td>241.0</td>\n",
       "      <td>True</td>\n",
       "      <td>False</td>\n",
       "      <td>0.025455</td>\n",
       "      <td>0.581830</td>\n",
       "      <td>14.0</td>\n",
       "      <td>320.0</td>\n",
       "    </tr>\n",
       "    <tr>\n",
       "      <th>533</th>\n",
       "      <td>4228700.0</td>\n",
       "      <td>56.0</td>\n",
       "      <td>True</td>\n",
       "      <td>False</td>\n",
       "      <td>2.050950</td>\n",
       "      <td>1.500030</td>\n",
       "      <td>1128.0</td>\n",
       "      <td>825.0</td>\n",
       "    </tr>\n",
       "  </tbody>\n",
       "</table>\n",
       "<p>456 rows × 8 columns</p>\n",
       "</div>"
      ],
      "text/plain": [
       "     true_unit  sorted_unit oversplit missed  true firing rate  \\\n",
       "0      19690.0        298.0      True  False          0.009091   \n",
       "1     397844.0        298.0      True  False          0.007273   \n",
       "2     499827.0        298.0      True  False          1.541849   \n",
       "3    1415062.0        298.0      True  False          0.001818   \n",
       "4    2795437.0        298.0      True  False          1.463666   \n",
       "..         ...          ...       ...    ...               ...   \n",
       "529  4209594.0        268.0      True  False          0.021819   \n",
       "530  4211868.0        135.0      True  False          0.027273   \n",
       "531  4229506.0        135.0      True  False          0.567284   \n",
       "532  4217493.0        241.0      True  False          0.025455   \n",
       "533  4228700.0         56.0      True  False          2.050950   \n",
       "\n",
       "     ks3 firing rate  true spike count  sorted spike count  \n",
       "0           2.016404               5.0              1109.0  \n",
       "1           2.016404               4.0              1109.0  \n",
       "2           2.016404             848.0              1109.0  \n",
       "3           2.016404               1.0              1109.0  \n",
       "4           2.016404             805.0              1109.0  \n",
       "..               ...               ...                 ...  \n",
       "529         0.894563              12.0               492.0  \n",
       "530         0.380008              15.0               209.0  \n",
       "531         0.380008             312.0               209.0  \n",
       "532         0.581830              14.0               320.0  \n",
       "533         1.500030            1128.0               825.0  \n",
       "\n",
       "[456 rows x 8 columns]"
      ]
     },
     "execution_count": 267,
     "metadata": {},
     "output_type": "execute_result"
    }
   ],
   "source": [
    "detected_data"
   ]
  },
  {
   "attachments": {},
   "cell_type": "markdown",
   "metadata": {},
   "source": [
    "### Check feature counts"
   ]
  },
  {
   "cell_type": "code",
   "execution_count": 263,
   "metadata": {},
   "outputs": [],
   "source": [
    "# features[[\"rate_change_feat\", \"oversplit_feat\", \"true_firing_rate_feat\"]].groupby([\"true_firing_rate_feat\",\"rate_change_feat\"]).size()"
   ]
  },
  {
   "cell_type": "code",
   "execution_count": 264,
   "metadata": {},
   "outputs": [],
   "source": [
    "# features[[\"rate_change_feat\", \"oversplit_feat\", \"true_firing_rate_feat\"]].groupby([\"true_firing_rate_feat\",\"rate_change_feat\",\"oversplit_feat\"]).size()"
   ]
  },
  {
   "cell_type": "code",
   "execution_count": 265,
   "metadata": {},
   "outputs": [],
   "source": [
    "# features[[\"rate_change_feat\", \"oversplit_feat\", \"true_firing_rate_feat\"]].groupby([\"oversplit_feat\", \"true_firing_rate_feat\",\"rate_change_feat\"]).size()"
   ]
  }
 ],
 "metadata": {
  "kernelspec": {
   "display_name": "env_kilosort_silico",
   "language": "python",
   "name": "python3"
  },
  "language_info": {
   "codemirror_mode": {
    "name": "ipython",
    "version": 3
   },
   "file_extension": ".py",
   "mimetype": "text/x-python",
   "name": "python",
   "nbconvert_exporter": "python",
   "pygments_lexer": "ipython3",
   "version": "3.9.7"
  },
  "orig_nbformat": 4,
  "vscode": {
   "interpreter": {
    "hash": "7258c08641c839bc879bcf990fe8a05217dd3831f7a007245bbe9c8138895c4a"
   }
  }
 },
 "nbformat": 4,
 "nbformat_minor": 2
}
