{
 "cells": [
  {
   "attachments": {},
   "cell_type": "markdown",
   "metadata": {},
   "source": [
    "# Does layer predict cell misses?\n",
    "\n",
    "author: steeve.laquitaine@epfl.ch\n",
    "\n",
    "Setup environment: \n",
    "\n",
    "```bash\n",
    "pip install requirements_kilosort_silico\n",
    "```"
   ]
  },
  {
   "cell_type": "code",
   "execution_count": 2,
   "metadata": {},
   "outputs": [
    {
     "name": "stdout",
     "output_type": "stream",
     "text": [
      "The autoreload extension is already loaded. To reload it, use:\n",
      "  %reload_ext autoreload\n"
     ]
    },
    {
     "ename": "ImportError",
     "evalue": "cannot import name 'match_firing_rate' from 'src.nodes.postpro.cell_matching' (/gpfs/bbp.cscs.ch/project/proj68/home/laquitai/spike-sorting/src/nodes/postpro/cell_matching.py)",
     "output_type": "error",
     "traceback": [
      "\u001b[0;31m---------------------------------------------------------------------------\u001b[0m",
      "\u001b[0;31mImportError\u001b[0m                               Traceback (most recent call last)",
      "Cell \u001b[0;32mIn[2], line 13\u001b[0m\n\u001b[1;32m     11\u001b[0m \u001b[39m# from src.pipes.sorting import match_sorted_to_true_neuropixels_2023_02_19 as match\u001b[39;00m\n\u001b[1;32m     12\u001b[0m \u001b[39mfrom\u001b[39;00m \u001b[39msrc\u001b[39;00m\u001b[39m.\u001b[39;00m\u001b[39mnodes\u001b[39;00m\u001b[39m.\u001b[39;00m\u001b[39mutils\u001b[39;00m \u001b[39mimport\u001b[39;00m get_config\n\u001b[0;32m---> 13\u001b[0m \u001b[39mfrom\u001b[39;00m \u001b[39msrc\u001b[39;00m\u001b[39m.\u001b[39;00m\u001b[39mnodes\u001b[39;00m\u001b[39m.\u001b[39;00m\u001b[39mpostpro\u001b[39;00m\u001b[39m.\u001b[39;00m\u001b[39mcell_matching\u001b[39;00m \u001b[39mimport\u001b[39;00m match_firing_rate, match_property\n\u001b[1;32m     14\u001b[0m \u001b[39mfrom\u001b[39;00m \u001b[39msrc\u001b[39;00m\u001b[39m.\u001b[39;00m\u001b[39mnodes\u001b[39;00m\u001b[39m.\u001b[39;00m\u001b[39mpostpro\u001b[39;00m \u001b[39mimport\u001b[39;00m feateng\n\u001b[1;32m     16\u001b[0m \u001b[39m# SET PARAMETERS\u001b[39;00m\n",
      "\u001b[0;31mImportError\u001b[0m: cannot import name 'match_firing_rate' from 'src.nodes.postpro.cell_matching' (/gpfs/bbp.cscs.ch/project/proj68/home/laquitai/spike-sorting/src/nodes/postpro/cell_matching.py)"
     ]
    }
   ],
   "source": [
    "%load_ext autoreload\n",
    "%autoreload 2\n",
    "\n",
    "import os\n",
    "import pandas as pd\n",
    "import numpy as np\n",
    "\n",
    "proj_path = \"/gpfs/bbp.cscs.ch/project/proj68/home/laquitai/spike-sorting\"\n",
    "os.chdir(proj_path)\n",
    "\n",
    "# from src.pipes.sorting import match_sorted_to_true_neuropixels_2023_02_19 as match\n",
    "from src.nodes.utils import get_config\n",
    "from src.nodes.postpro.cell_matching import match_firing_rate, match_property\n",
    "from src.nodes.postpro import feateng\n",
    "\n",
    "# SET PARAMETERS\n",
    "EXPERIMENT = \"silico_neuropixels\"\n",
    "SIMULATION_DATE = \"2023_02_19\"\n",
    "\n",
    "\n",
    "# GET RUN CONFIG\n",
    "data_conf, param_conf = get_config(EXPERIMENT, SIMULATION_DATE).values()\n",
    "\n",
    "CELL_MATCHING_PATH = data_conf[\"postprocessing\"][\"cell_matching\"]\n",
    "\n",
    "LOW_RATE_CEILING = 0.2  # max firing rate where negative proba change is observed in \"bias plot\"\n",
    "MID_RATE_CEILING = 1    # max firing rate where positive proba change is observed in \"bias plot\""
   ]
  },
  {
   "cell_type": "code",
   "execution_count": 2,
   "metadata": {},
   "outputs": [
    {
     "name": "stdout",
     "output_type": "stream",
     "text": [
      "2023-03-16 11:30:30,071 - root - match_sorted_to_true_neuropixels_2023_02_19.py - run - INFO - loading kilosort3 Sorting Extractor\n",
      "2023-03-16 11:30:30,159 - root - match_sorted_to_true_neuropixels_2023_02_19.py - run - INFO - loading kilosort3 Sorting Extractor - done: 0.1\n",
      "2023-03-16 11:30:30,161 - root - match_sorted_to_true_neuropixels_2023_02_19.py - run - INFO - loading Ground truth Sorting Extractor\n",
      "2023-03-16 11:30:30,216 - root - match_sorted_to_true_neuropixels_2023_02_19.py - run - INFO - loading Ground truth Sorting Extractor - done: 0.1\n",
      "2023-03-16 11:30:46,494 - root - match_sorted_to_true_neuropixels_2023_02_19.py - run - INFO - Detecting true cell oversplit - done\n",
      "2023-03-16 11:30:46,502 - root - match_sorted_to_true_neuropixels_2023_02_19.py - run - INFO - Detecting true cell misses - done\n"
     ]
    },
    {
     "name": "stderr",
     "output_type": "stream",
     "text": [
      "/gpfs/bbp.cscs.ch/project/proj68/home/laquitai/spike-sorting/src/pipes/sorting/match_sorted_to_true_neuropixels_2023_02_19.py:94: SettingWithCopyWarning: \n",
      "A value is trying to be set on a copy of a slice from a DataFrame\n",
      "\n",
      "See the caveats in the documentation: https://pandas.pydata.org/pandas-docs/stable/user_guide/indexing.html#returning-a-view-versus-a-copy\n",
      "  cell_matching[\"oversplit_true_cell\"].iloc[oversplit.index] = True\n"
     ]
    }
   ],
   "source": [
    "# get SpikeInterface's MatchingObject\n",
    "out = match.run()"
   ]
  },
  {
   "cell_type": "code",
   "execution_count": 9,
   "metadata": {},
   "outputs": [],
   "source": [
    "cell_matching  = out[\"cell_matching\"]\n",
    "\n",
    "# add layer feature\n",
    "cell_matching = feateng.add_property(\n",
    "    cell_matching, data_conf, properties=[\"layer\"]\n",
    ")"
   ]
  },
  {
   "cell_type": "code",
   "execution_count": 10,
   "metadata": {},
   "outputs": [
    {
     "name": "stderr",
     "output_type": "stream",
     "text": [
      "/gpfs/bbp.cscs.ch/project/proj68/home/laquitai/spike-sorting/env_kilosort_silico/lib/python3.9/site-packages/IPython/lib/pretty.py:778: FutureWarning: In a future version, object-dtype columns with all-bool values will not be included in reductions with bool_only=True. Explicitly cast to bool dtype instead.\n",
      "  output = repr(obj)\n",
      "/gpfs/bbp.cscs.ch/project/proj68/home/laquitai/spike-sorting/env_kilosort_silico/lib/python3.9/site-packages/IPython/core/formatters.py:342: FutureWarning: In a future version, object-dtype columns with all-bool values will not be included in reductions with bool_only=True. Explicitly cast to bool dtype instead.\n",
      "  return method()\n"
     ]
    },
    {
     "data": {
      "text/html": [
       "<div>\n",
       "<style scoped>\n",
       "    .dataframe tbody tr th:only-of-type {\n",
       "        vertical-align: middle;\n",
       "    }\n",
       "\n",
       "    .dataframe tbody tr th {\n",
       "        vertical-align: top;\n",
       "    }\n",
       "\n",
       "    .dataframe thead th {\n",
       "        text-align: right;\n",
       "    }\n",
       "</style>\n",
       "<table border=\"1\" class=\"dataframe\">\n",
       "  <thead>\n",
       "    <tr style=\"text-align: right;\">\n",
       "      <th></th>\n",
       "      <th>sorted_cell</th>\n",
       "      <th>true_cell_match</th>\n",
       "      <th>oversplit_true_cell</th>\n",
       "      <th>agreement_score</th>\n",
       "      <th>layer</th>\n",
       "    </tr>\n",
       "  </thead>\n",
       "  <tbody>\n",
       "    <tr>\n",
       "      <th>0</th>\n",
       "      <td>0.0</td>\n",
       "      <td>1981516</td>\n",
       "      <td>True</td>\n",
       "      <td>0.430918</td>\n",
       "      <td>6</td>\n",
       "    </tr>\n",
       "    <tr>\n",
       "      <th>1</th>\n",
       "      <td>215.0</td>\n",
       "      <td>1981516</td>\n",
       "      <td>True</td>\n",
       "      <td>0.000717</td>\n",
       "      <td>6</td>\n",
       "    </tr>\n",
       "    <tr>\n",
       "      <th>2</th>\n",
       "      <td>1.0</td>\n",
       "      <td>3427256</td>\n",
       "      <td>True</td>\n",
       "      <td>0.000000</td>\n",
       "      <td>5</td>\n",
       "    </tr>\n",
       "    <tr>\n",
       "      <th>3</th>\n",
       "      <td>45.0</td>\n",
       "      <td>3427256</td>\n",
       "      <td>True</td>\n",
       "      <td>0.000000</td>\n",
       "      <td>5</td>\n",
       "    </tr>\n",
       "    <tr>\n",
       "      <th>4</th>\n",
       "      <td>2.0</td>\n",
       "      <td>2145865</td>\n",
       "      <td>False</td>\n",
       "      <td>0.000880</td>\n",
       "      <td>6</td>\n",
       "    </tr>\n",
       "    <tr>\n",
       "      <th>...</th>\n",
       "      <td>...</td>\n",
       "      <td>...</td>\n",
       "      <td>...</td>\n",
       "      <td>...</td>\n",
       "      <td>...</td>\n",
       "    </tr>\n",
       "    <tr>\n",
       "      <th>640</th>\n",
       "      <td>NaN</td>\n",
       "      <td>4046827</td>\n",
       "      <td>NaN</td>\n",
       "      <td>NaN</td>\n",
       "      <td>5</td>\n",
       "    </tr>\n",
       "    <tr>\n",
       "      <th>641</th>\n",
       "      <td>NaN</td>\n",
       "      <td>4138989</td>\n",
       "      <td>NaN</td>\n",
       "      <td>NaN</td>\n",
       "      <td>5</td>\n",
       "    </tr>\n",
       "    <tr>\n",
       "      <th>642</th>\n",
       "      <td>NaN</td>\n",
       "      <td>4063216</td>\n",
       "      <td>NaN</td>\n",
       "      <td>NaN</td>\n",
       "      <td>5</td>\n",
       "    </tr>\n",
       "    <tr>\n",
       "      <th>643</th>\n",
       "      <td>NaN</td>\n",
       "      <td>2623483</td>\n",
       "      <td>NaN</td>\n",
       "      <td>NaN</td>\n",
       "      <td>4</td>\n",
       "    </tr>\n",
       "    <tr>\n",
       "      <th>644</th>\n",
       "      <td>NaN</td>\n",
       "      <td>1552383</td>\n",
       "      <td>NaN</td>\n",
       "      <td>NaN</td>\n",
       "      <td>6</td>\n",
       "    </tr>\n",
       "  </tbody>\n",
       "</table>\n",
       "<p>645 rows × 5 columns</p>\n",
       "</div>"
      ],
      "text/plain": [
       "     sorted_cell  true_cell_match oversplit_true_cell  agreement_score  layer\n",
       "0            0.0          1981516                True         0.430918      6\n",
       "1          215.0          1981516                True         0.000717      6\n",
       "2            1.0          3427256                True         0.000000      5\n",
       "3           45.0          3427256                True         0.000000      5\n",
       "4            2.0          2145865               False         0.000880      6\n",
       "..           ...              ...                 ...              ...    ...\n",
       "640          NaN          4046827                 NaN              NaN      5\n",
       "641          NaN          4138989                 NaN              NaN      5\n",
       "642          NaN          4063216                 NaN              NaN      5\n",
       "643          NaN          2623483                 NaN              NaN      4\n",
       "644          NaN          1552383                 NaN              NaN      6\n",
       "\n",
       "[645 rows x 5 columns]"
      ]
     },
     "execution_count": 10,
     "metadata": {},
     "output_type": "execute_result"
    }
   ],
   "source": [
    "cell_matching"
   ]
  },
  {
   "cell_type": "code",
   "execution_count": 150,
   "metadata": {},
   "outputs": [],
   "source": [
    "missed_cells = cell_matching[\"sorted_cell\"].isna()\n",
    "n_missed_per_layer = cell_matching[missed_cells].drop_duplicates().groupby(\"layer\").size()\n",
    "n_total_per_layer = cell_matching[[\"true_cell_match\", \"layer\"]].drop_duplicates().groupby(\"layer\").size()"
   ]
  },
  {
   "cell_type": "code",
   "execution_count": 147,
   "metadata": {},
   "outputs": [
    {
     "name": "stdout",
     "output_type": "stream",
     "text": [
      "detected\n",
      "missed\n"
     ]
    },
    {
     "data": {
      "image/png": "[encoded data removed]",
      "text/plain": [
       "<Figure size 600x200 with 1 Axes>"
      ]
     },
     "metadata": {},
     "output_type": "display_data"
    }
   ],
   "source": [
    "from matplotlib import pyplot as plt\n",
    "\n",
    "# build histo dataset\n",
    "df = pd.DataFrame(\n",
    "    {\n",
    "        \"detected\": n_total_per_layer - n_missed_per_layer,\n",
    "        \"missed\": n_missed_per_layer,\n",
    "    },\n",
    "    index=list(n_missed_per_layer.index),\n",
    ")\n",
    "df_total = df[\"missed\"] + df[\"detected\"]\n",
    "df_rel = df.div(df_total, 0) * 100\n",
    "\n",
    "# set figure\n",
    "fig, axis = plt.subplots(1, 1, figsize=(6, 2))\n",
    "\n",
    "\n",
    "# set plot legend\n",
    "colors = [\"w\", [0.3, 0.3, 0.3],]\n",
    "\n",
    "# plot\n",
    "ax = df_rel.plot.barh(\n",
    "    ax=axis,\n",
    "    stacked=True,\n",
    "    color=colors,\n",
    "    width=0.9,\n",
    "    edgecolor=\"k\",\n",
    "    linewidth=0.6,\n",
    ")\n",
    "\n",
    "# set axis legend\n",
    "ax.spines[[\"left\", \"right\", \"top\"]].set_visible(False)\n",
    "x_axis = ax.axes.get_xaxis()\n",
    "x_axis.set_visible(True)\n",
    "ax.invert_yaxis()\n",
    "ax.set_xlabel(\"true units (count)\", fontsize=9)\n",
    "ax.set_ylabel(\"layers\", fontsize=9)\n",
    "ax.legend(\n",
    "    bbox_to_anchor=(1, 1),\n",
    "    frameon=False,\n",
    "    fontsize=9,\n",
    "    handletextpad=0.6,\n",
    ")\n",
    "ax.set_title(\"A cell's layer is not predictive of whether it will be missed\", fontsize=9)\n",
    "ax.tick_params(axis=\"both\", which=\"major\", labelsize=9)\n",
    "plt.tight_layout()\n",
    "\n",
    "  \n",
    "for n in df_rel:\n",
    "    print(n)\n",
    "    for i, (cs, ab, pc) in enumerate(zip(df_rel.cumsum(1)[n], \n",
    "                                         df_rel[n], df_rel[n])):\n",
    "        if n==\"missed\":\n",
    "            txt_color=\"w\"\n",
    "        else:\n",
    "            txt_color=\"k\"\n",
    "        plt.text(cs - ab / 2, i, \"{:.0f}% ({:.0f})\".format(np.round(pc), df[n].iloc[i]), \n",
    "                va = 'center', ha = 'center', fontsize = 8, color=txt_color)"
   ]
  }
 ],
 "metadata": {
  "kernelspec": {
   "display_name": "env_kilosort_silico",
   "language": "python",
   "name": "python3"
  },
  "language_info": {
   "codemirror_mode": {
    "name": "ipython",
    "version": 3
   },
   "file_extension": ".py",
   "mimetype": "text/x-python",
   "name": "python",
   "nbconvert_exporter": "python",
   "pygments_lexer": "ipython3",
   "version": "3.9.7"
  },
  "orig_nbformat": 4,
  "vscode": {
   "interpreter": {
    "hash": "7258c08641c839bc879bcf990fe8a05217dd3831f7a007245bbe9c8138895c4a"
   }
  }
 },
 "nbformat": 4,
 "nbformat_minor": 2
}
