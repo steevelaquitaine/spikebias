{
 "cells": [
  {
   "attachments": {},
   "cell_type": "markdown",
   "metadata": {},
   "source": [
    "# Does morph predict cell misses?\n",
    "\n",
    "author: steeve.laquitaine@epfl.ch\n",
    "\n",
    "Setup environment: \n",
    "\n",
    "```bash\n",
    "pip install requirements_kilosort_silico\n",
    "```"
   ]
  },
  {
   "cell_type": "code",
   "execution_count": 1,
   "metadata": {},
   "outputs": [
    {
     "name": "stdout",
     "output_type": "stream",
     "text": [
      "2023-03-16 12:50:37,463 - root - utils.py - get_config - INFO - Reading experiment config.\n",
      "2023-03-16 12:50:37,502 - root - utils.py - get_config - INFO - Reading experiment config. - done\n"
     ]
    }
   ],
   "source": [
    "%load_ext autoreload\n",
    "%autoreload 2\n",
    "\n",
    "import os\n",
    "import pandas as pd\n",
    "import numpy as np\n",
    "\n",
    "proj_path = \"/gpfs/bbp.cscs.ch/project/proj68/home/laquitai/spike-sorting\"\n",
    "os.chdir(proj_path)\n",
    "\n",
    "from src.pipes.sorting import match_sorted_to_true_neuropixels_2023_02_19 as match\n",
    "from src.nodes.utils import get_config\n",
    "from src.nodes.postpro.cell_matching import match_firing_rate, match_property\n",
    "from src.nodes.postpro import feateng\n",
    "\n",
    "# SET PARAMETERS\n",
    "EXPERIMENT = \"silico_neuropixels\"\n",
    "SIMULATION_DATE = \"2023_02_19\"\n",
    "\n",
    "\n",
    "# GET RUN CONFIG\n",
    "data_conf, param_conf = get_config(EXPERIMENT, SIMULATION_DATE).values()\n",
    "\n",
    "CELL_MATCHING_PATH = data_conf[\"postprocessing\"][\"cell_matching\"]\n",
    "\n",
    "LOW_RATE_CEILING = 0.2  # max firing rate where negative proba change is observed in \"bias plot\"\n",
    "MID_RATE_CEILING = 1    # max firing rate where positive proba change is observed in \"bias plot\""
   ]
  },
  {
   "cell_type": "code",
   "execution_count": 2,
   "metadata": {},
   "outputs": [
    {
     "name": "stdout",
     "output_type": "stream",
     "text": [
      "2023-03-16 12:50:38,068 - root - match_sorted_to_true_neuropixels_2023_02_19.py - run - INFO - loading kilosort3 Sorting Extractor\n",
      "2023-03-16 12:50:38,094 - root - match_sorted_to_true_neuropixels_2023_02_19.py - run - INFO - loading kilosort3 Sorting Extractor - done: 0.0\n",
      "2023-03-16 12:50:38,099 - root - match_sorted_to_true_neuropixels_2023_02_19.py - run - INFO - loading Ground truth Sorting Extractor\n",
      "2023-03-16 12:50:38,162 - root - match_sorted_to_true_neuropixels_2023_02_19.py - run - INFO - loading Ground truth Sorting Extractor - done: 0.1\n",
      "2023-03-16 12:50:58,716 - root - match_sorted_to_true_neuropixels_2023_02_19.py - run - INFO - Detecting true cell oversplit - done\n",
      "2023-03-16 12:50:58,724 - root - match_sorted_to_true_neuropixels_2023_02_19.py - run - INFO - Detecting true cell misses - done\n"
     ]
    },
    {
     "name": "stderr",
     "output_type": "stream",
     "text": [
      "/gpfs/bbp.cscs.ch/project/proj68/home/laquitai/spike-sorting/src/pipes/sorting/match_sorted_to_true_neuropixels_2023_02_19.py:94: SettingWithCopyWarning: \n",
      "A value is trying to be set on a copy of a slice from a DataFrame\n",
      "\n",
      "See the caveats in the documentation: https://pandas.pydata.org/pandas-docs/stable/user_guide/indexing.html#returning-a-view-versus-a-copy\n",
      "  cell_matching[\"oversplit_true_cell\"].iloc[oversplit.index] = True\n"
     ]
    }
   ],
   "source": [
    "# get SpikeInterface's MatchingObject\n",
    "out = match.run()"
   ]
  },
  {
   "cell_type": "code",
   "execution_count": 4,
   "metadata": {},
   "outputs": [],
   "source": [
    "cell_matching  = out[\"cell_matching\"]\n",
    "\n",
    "# add layer feature\n",
    "cell_matching = feateng.add_property(\n",
    "    cell_matching, data_conf, properties=[\"morph_class\"]\n",
    ")"
   ]
  },
  {
   "cell_type": "code",
   "execution_count": 5,
   "metadata": {},
   "outputs": [],
   "source": [
    "# count conditions\n",
    "missed_cells = cell_matching[\"sorted_cell\"].isna()\n",
    "n_missed_per_layer = cell_matching[missed_cells].drop_duplicates().groupby(\"morph_class\").size()\n",
    "n_total_per_layer = cell_matching[[\"true_cell_match\", \"morph_class\"]].drop_duplicates().groupby(\"morph_class\").size()"
   ]
  },
  {
   "cell_type": "code",
   "execution_count": 8,
   "metadata": {},
   "outputs": [
    {
     "data": {
      "image/png": "[encoded data removed]",
      "text/plain": [
       "<Figure size 600x200 with 1 Axes>"
      ]
     },
     "metadata": {},
     "output_type": "display_data"
    }
   ],
   "source": [
    "from matplotlib import pyplot as plt\n",
    "\n",
    "# build histo dataset\n",
    "df = pd.DataFrame(\n",
    "    {\n",
    "        \"detected\": n_total_per_layer - n_missed_per_layer,\n",
    "        \"missed\": n_missed_per_layer,\n",
    "    },\n",
    "    index=list(n_missed_per_layer.index),\n",
    ")\n",
    "df_total = df[\"missed\"] + df[\"detected\"]\n",
    "df_rel = df.div(df_total, 0) * 100\n",
    "\n",
    "# set figure\n",
    "fig, axis = plt.subplots(1, 1, figsize=(6, 2))\n",
    "\n",
    "\n",
    "# set plot legend\n",
    "colors = [\"w\", [0.3, 0.3, 0.3],]\n",
    "\n",
    "# plot\n",
    "ax = df_rel.plot.barh(\n",
    "    ax=axis,\n",
    "    stacked=True,\n",
    "    color=colors,\n",
    "    width=0.9,\n",
    "    edgecolor=\"k\",\n",
    "    linewidth=0.6,\n",
    ")\n",
    "\n",
    "# set axis legend\n",
    "ax.spines[[\"left\", \"right\", \"top\"]].set_visible(False)\n",
    "x_axis = ax.axes.get_xaxis()\n",
    "x_axis.set_visible(True)\n",
    "ax.invert_yaxis()\n",
    "ax.set_xlabel(\"true units (count)\", fontsize=9)\n",
    "ax.set_ylabel(\"layers\", fontsize=9)\n",
    "ax.legend(\n",
    "    bbox_to_anchor=(1, 1),\n",
    "    frameon=False,\n",
    "    fontsize=9,\n",
    "    handletextpad=0.6,\n",
    ")\n",
    "ax.set_title(\"Morph class does not predict cell misses\", fontsize=9)\n",
    "ax.tick_params(axis=\"both\", which=\"major\", labelsize=9)\n",
    "plt.tight_layout()\n",
    "\n",
    "for n in df_rel:\n",
    "    for i, (cs, ab, pc) in enumerate(zip(df_rel.cumsum(1)[n], \n",
    "                                         df_rel[n], df_rel[n])):\n",
    "        if n==\"missed\":\n",
    "            txt_color=\"w\"\n",
    "        else:\n",
    "            txt_color=\"k\"\n",
    "        plt.text(cs - ab / 2, i, \"{:.0f}% ({:.0f})\".format(np.round(pc), df[n].iloc[i]), \n",
    "                va = 'center', ha = 'center', fontsize = 8, color=txt_color)"
   ]
  }
 ],
 "metadata": {
  "kernelspec": {
   "display_name": "env_kilosort_silico",
   "language": "python",
   "name": "python3"
  },
  "language_info": {
   "codemirror_mode": {
    "name": "ipython",
    "version": 3
   },
   "file_extension": ".py",
   "mimetype": "text/x-python",
   "name": "python",
   "nbconvert_exporter": "python",
   "pygments_lexer": "ipython3",
   "version": "3.9.7 (default, Jan 10 2022, 21:17:49) \n[GCC 11.2.0]"
  },
  "orig_nbformat": 4,
  "vscode": {
   "interpreter": {
    "hash": "7258c08641c839bc879bcf990fe8a05217dd3831f7a007245bbe9c8138895c4a"
   }
  }
 },
 "nbformat": 4,
 "nbformat_minor": 2
}
