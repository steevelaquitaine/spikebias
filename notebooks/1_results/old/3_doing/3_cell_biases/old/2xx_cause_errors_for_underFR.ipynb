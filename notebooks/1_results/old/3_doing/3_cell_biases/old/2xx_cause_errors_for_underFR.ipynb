{
 "cells": [
  {
   "attachments": {},
   "cell_type": "markdown",
   "metadata": {},
   "source": [
    "# Errors causing underestimated FR\n",
    "\n",
    "author: steeve.laquitaine@epfl.ch\n",
    "\n",
    "Setup environment: \n",
    "\n",
    "```bash\n",
    "pip install requirements_kilosort_silico\n",
    "```\n"
   ]
  },
  {
   "cell_type": "code",
   "execution_count": 1,
   "metadata": {},
   "outputs": [
    {
     "name": "stdout",
     "output_type": "stream",
     "text": [
      "2023-03-15 18:30:45,177 - root - utils.py - get_config - INFO - Reading experiment config.\n",
      "2023-03-15 18:30:45,198 - root - utils.py - get_config - INFO - Reading experiment config. - done\n"
     ]
    }
   ],
   "source": [
    "%load_ext autoreload\n",
    "%autoreload 2\n",
    "\n",
    "import os\n",
    "import pandas as pd\n",
    "import numpy as np\n",
    "\n",
    "proj_path = \"/gpfs/bbp.cscs.ch/project/proj68/home/laquitai/spike-sorting\"\n",
    "os.chdir(proj_path)\n",
    "\n",
    "from src.pipes.sorting import match_sorted_to_true_neuropixels_2023_02_19 as match\n",
    "from src.nodes.utils import get_config\n",
    "from src.nodes.postpro.cell_matching import match_firing_rate, match_property\n",
    "from src.nodes.postpro import feateng\n",
    "\n",
    "# SET PARAMETERS\n",
    "EXPERIMENT = \"silico_neuropixels\"\n",
    "SIMULATION_DATE = \"2023_02_19\"\n",
    "\n",
    "\n",
    "# GET RUN CONFIG\n",
    "data_conf, param_conf = get_config(EXPERIMENT, SIMULATION_DATE).values()\n",
    "\n",
    "CELL_MATCHING_PATH = data_conf[\"postprocessing\"][\"cell_matching\"]\n",
    "\n",
    "LOW_RATE_CEILING = 0.2  # max firing rate where negative proba change is observed in \"bias plot\"\n",
    "MID_RATE_CEILING = 1    # max firing rate where positive proba change is observed in \"bias plot\""
   ]
  },
  {
   "attachments": {},
   "cell_type": "markdown",
   "metadata": {},
   "source": [
    "1. get \"cell_matching\" dataset with firing rate  \n",
    "2. select low firing rate cells (below 0.2Hz) with overestimated firing rate  \n",
    "        a. count cells  \n",
    "3. count cells with false positive spikes  \n",
    "4. count overmerged cells (> 0.2)  "
   ]
  },
  {
   "cell_type": "code",
   "execution_count": 2,
   "metadata": {},
   "outputs": [
    {
     "name": "stdout",
     "output_type": "stream",
     "text": [
      "2023-03-15 18:30:47,356 - root - match_sorted_to_true_neuropixels_2023_02_19.py - run - INFO - loading kilosort3 Sorting Extractor\n",
      "2023-03-15 18:30:47,370 - root - match_sorted_to_true_neuropixels_2023_02_19.py - run - INFO - loading kilosort3 Sorting Extractor - done: 0.0\n",
      "2023-03-15 18:30:47,371 - root - match_sorted_to_true_neuropixels_2023_02_19.py - run - INFO - loading Ground truth Sorting Extractor\n",
      "2023-03-15 18:30:47,381 - root - match_sorted_to_true_neuropixels_2023_02_19.py - run - INFO - loading Ground truth Sorting Extractor - done: 0.0\n",
      "2023-03-15 18:31:03,993 - root - match_sorted_to_true_neuropixels_2023_02_19.py - run - INFO - Detecting true cell oversplit - done\n",
      "2023-03-15 18:31:04,001 - root - match_sorted_to_true_neuropixels_2023_02_19.py - run - INFO - Detecting true cell misses - done\n"
     ]
    },
    {
     "name": "stderr",
     "output_type": "stream",
     "text": [
      "/gpfs/bbp.cscs.ch/project/proj68/home/laquitai/spike-sorting/src/pipes/sorting/match_sorted_to_true_neuropixels_2023_02_19.py:94: SettingWithCopyWarning: \n",
      "A value is trying to be set on a copy of a slice from a DataFrame\n",
      "\n",
      "See the caveats in the documentation: https://pandas.pydata.org/pandas-docs/stable/user_guide/indexing.html#returning-a-view-versus-a-copy\n",
      "  cell_matching[\"oversplit_true_cell\"].iloc[oversplit.index] = True\n"
     ]
    }
   ],
   "source": [
    "# get SpikeInterface's MatchingObject\n",
    "out = match.run()"
   ]
  },
  {
   "cell_type": "code",
   "execution_count": 3,
   "metadata": {},
   "outputs": [
    {
     "name": "stdout",
     "output_type": "stream",
     "text": [
      "2023-03-15 18:31:06,705 - root - match_sorted_to_true_neuropixels_2023_02_19.py - run - INFO - loading kilosort3 Sorting Extractor\n",
      "2023-03-15 18:31:06,719 - root - match_sorted_to_true_neuropixels_2023_02_19.py - run - INFO - loading kilosort3 Sorting Extractor - done: 0.0\n",
      "2023-03-15 18:31:06,720 - root - match_sorted_to_true_neuropixels_2023_02_19.py - run - INFO - loading Ground truth Sorting Extractor\n",
      "2023-03-15 18:31:06,731 - root - match_sorted_to_true_neuropixels_2023_02_19.py - run - INFO - loading Ground truth Sorting Extractor - done: 0.0\n",
      "2023-03-15 18:31:17,111 - root - match_sorted_to_true_neuropixels_2023_02_19.py - run - INFO - Detecting true cell oversplit - done\n",
      "2023-03-15 18:31:17,117 - root - match_sorted_to_true_neuropixels_2023_02_19.py - run - INFO - Detecting true cell misses - done\n"
     ]
    },
    {
     "name": "stderr",
     "output_type": "stream",
     "text": [
      "/gpfs/bbp.cscs.ch/project/proj68/home/laquitai/spike-sorting/src/pipes/sorting/match_sorted_to_true_neuropixels_2023_02_19.py:94: SettingWithCopyWarning: \n",
      "A value is trying to be set on a copy of a slice from a DataFrame\n",
      "\n",
      "See the caveats in the documentation: https://pandas.pydata.org/pandas-docs/stable/user_guide/indexing.html#returning-a-view-versus-a-copy\n",
      "  cell_matching[\"oversplit_true_cell\"].iloc[oversplit.index] = True\n"
     ]
    }
   ],
   "source": [
    "# load from file\n",
    "cell_matching = pd.read_parquet(CELL_MATCHING_PATH)\n",
    "\n",
    "# add features\n",
    "cell_matching = match_firing_rate(cell_matching, data_conf)"
   ]
  },
  {
   "cell_type": "code",
   "execution_count": 4,
   "metadata": {},
   "outputs": [],
   "source": [
    "# flag negative, positive, non probability biased firing rates\n",
    "cell_matching = feateng.add_p_bias(cell_matching, low_rate_ceiling=LOW_RATE_CEILING, mid_rate_ceiling=MID_RATE_CEILING)\n",
    "\n",
    "# flag overestimated, underestimated, same firing rates\n",
    "cell_matching = feateng.add_firing_rate_change(cell_matching)\n",
    "\n",
    "# add number of false positive spikes\n",
    "cell_matching = feateng.add_false_positive_spikes_count(cell_matching, out[\"MatchingObject\"])\n",
    "\n",
    "# add number of missed spikes\n",
    "cell_matching = feateng.add_missed_spikes_count(cell_matching, out[\"MatchingObject\"])"
   ]
  },
  {
   "cell_type": "code",
   "execution_count": 10,
   "metadata": {},
   "outputs": [
    {
     "data": {
      "text/html": [
       "<div>\n",
       "<style scoped>\n",
       "    .dataframe tbody tr th:only-of-type {\n",
       "        vertical-align: middle;\n",
       "    }\n",
       "\n",
       "    .dataframe tbody tr th {\n",
       "        vertical-align: top;\n",
       "    }\n",
       "\n",
       "    .dataframe thead th {\n",
       "        text-align: right;\n",
       "    }\n",
       "</style>\n",
       "<table border=\"1\" class=\"dataframe\">\n",
       "  <thead>\n",
       "    <tr style=\"text-align: right;\">\n",
       "      <th></th>\n",
       "      <th></th>\n",
       "      <th>sorted_cell</th>\n",
       "      <th>true_cell_match</th>\n",
       "      <th>oversplit_true_cell</th>\n",
       "      <th>agreement_score</th>\n",
       "      <th>true firing rate</th>\n",
       "      <th>ks3 firing rate</th>\n",
       "      <th>fp_spike_count</th>\n",
       "      <th>fn_spike_count</th>\n",
       "    </tr>\n",
       "    <tr>\n",
       "      <th>p_bias</th>\n",
       "      <th>rate_change_feat</th>\n",
       "      <th></th>\n",
       "      <th></th>\n",
       "      <th></th>\n",
       "      <th></th>\n",
       "      <th></th>\n",
       "      <th></th>\n",
       "      <th></th>\n",
       "      <th></th>\n",
       "    </tr>\n",
       "  </thead>\n",
       "  <tbody>\n",
       "    <tr>\n",
       "      <th rowspan=\"2\" valign=\"top\">neg_p_bias</th>\n",
       "      <th>overestimated</th>\n",
       "      <td>169</td>\n",
       "      <td>169</td>\n",
       "      <td>169</td>\n",
       "      <td>169</td>\n",
       "      <td>169</td>\n",
       "      <td>169</td>\n",
       "      <td>169</td>\n",
       "      <td>169</td>\n",
       "    </tr>\n",
       "    <tr>\n",
       "      <th>underestimated</th>\n",
       "      <td>10</td>\n",
       "      <td>10</td>\n",
       "      <td>10</td>\n",
       "      <td>10</td>\n",
       "      <td>10</td>\n",
       "      <td>10</td>\n",
       "      <td>10</td>\n",
       "      <td>10</td>\n",
       "    </tr>\n",
       "    <tr>\n",
       "      <th rowspan=\"2\" valign=\"top\">no_p_bias</th>\n",
       "      <th>overestimated</th>\n",
       "      <td>21</td>\n",
       "      <td>21</td>\n",
       "      <td>21</td>\n",
       "      <td>21</td>\n",
       "      <td>21</td>\n",
       "      <td>21</td>\n",
       "      <td>21</td>\n",
       "      <td>21</td>\n",
       "    </tr>\n",
       "    <tr>\n",
       "      <th>underestimated</th>\n",
       "      <td>41</td>\n",
       "      <td>41</td>\n",
       "      <td>41</td>\n",
       "      <td>41</td>\n",
       "      <td>41</td>\n",
       "      <td>41</td>\n",
       "      <td>41</td>\n",
       "      <td>41</td>\n",
       "    </tr>\n",
       "    <tr>\n",
       "      <th rowspan=\"2\" valign=\"top\">pos_p_bias</th>\n",
       "      <th>overestimated</th>\n",
       "      <td>30</td>\n",
       "      <td>30</td>\n",
       "      <td>30</td>\n",
       "      <td>30</td>\n",
       "      <td>30</td>\n",
       "      <td>30</td>\n",
       "      <td>30</td>\n",
       "      <td>30</td>\n",
       "    </tr>\n",
       "    <tr>\n",
       "      <th>underestimated</th>\n",
       "      <td>32</td>\n",
       "      <td>32</td>\n",
       "      <td>32</td>\n",
       "      <td>32</td>\n",
       "      <td>32</td>\n",
       "      <td>32</td>\n",
       "      <td>32</td>\n",
       "      <td>32</td>\n",
       "    </tr>\n",
       "  </tbody>\n",
       "</table>\n",
       "</div>"
      ],
      "text/plain": [
       "                             sorted_cell  true_cell_match  \\\n",
       "p_bias     rate_change_feat                                 \n",
       "neg_p_bias overestimated             169              169   \n",
       "           underestimated             10               10   \n",
       "no_p_bias  overestimated              21               21   \n",
       "           underestimated             41               41   \n",
       "pos_p_bias overestimated              30               30   \n",
       "           underestimated             32               32   \n",
       "\n",
       "                             oversplit_true_cell  agreement_score  \\\n",
       "p_bias     rate_change_feat                                         \n",
       "neg_p_bias overestimated                     169              169   \n",
       "           underestimated                     10               10   \n",
       "no_p_bias  overestimated                      21               21   \n",
       "           underestimated                     41               41   \n",
       "pos_p_bias overestimated                      30               30   \n",
       "           underestimated                     32               32   \n",
       "\n",
       "                             true firing rate  ks3 firing rate  \\\n",
       "p_bias     rate_change_feat                                      \n",
       "neg_p_bias overestimated                  169              169   \n",
       "           underestimated                  10               10   \n",
       "no_p_bias  overestimated                   21               21   \n",
       "           underestimated                  41               41   \n",
       "pos_p_bias overestimated                   30               30   \n",
       "           underestimated                  32               32   \n",
       "\n",
       "                             fp_spike_count  fn_spike_count  \n",
       "p_bias     rate_change_feat                                  \n",
       "neg_p_bias overestimated                169             169  \n",
       "           underestimated                10              10  \n",
       "no_p_bias  overestimated                 21              21  \n",
       "           underestimated                41              41  \n",
       "pos_p_bias overestimated                 30              30  \n",
       "           underestimated                32              32  "
      ]
     },
     "execution_count": 10,
     "metadata": {},
     "output_type": "execute_result"
    }
   ],
   "source": [
    "cell_matching.groupby([\"p_bias\", \"rate_change_feat\"]).count()"
   ]
  },
  {
   "cell_type": "code",
   "execution_count": 8,
   "metadata": {},
   "outputs": [],
   "source": [
    "# note: this work because \"sorted_cell\" column has unrepeated values\n",
    "# count\n",
    "RATE_CHANGE = \"underestimated\"\n",
    "\n",
    "underestimated_higher_frs = ((cell_matching[\"p_bias\"]==\"pos_p_bias\") | (cell_matching[\"p_bias\"]==\"no_p_bias\")) & (cell_matching[\"rate_change_feat\"]==RATE_CHANGE)\n",
    "with_fn_spike = cell_matching[\"fn_spike_count\"]>0\n",
    "n_total = cell_matching[\"sorted_cell\"][underestimated_higher_frs].nunique()\n",
    "\n",
    "# count false positive spike cells within condition\n",
    "n_with_fn_spike = sum((underestimated_higher_frs) & (with_fn_spike))\n",
    "n_without_fn_spike = n_total - n_with_fn_spike\n",
    "percent_with_fn_spikes = n_with_fn_spike/n_total\n",
    "percent_without_fn_spikes = n_without_fn_spike/n_total"
   ]
  },
  {
   "cell_type": "code",
   "execution_count": 10,
   "metadata": {},
   "outputs": [
    {
     "data": {
      "image/png": "[encoded data removed]",
      "text/plain": [
       "<Figure size 500x200 with 1 Axes>"
      ]
     },
     "metadata": {},
     "output_type": "display_data"
    }
   ],
   "source": [
    "from matplotlib import pyplot as plt\n",
    "\n",
    "# build histo dataset\n",
    "data_df = pd.DataFrame(\n",
    "    {\n",
    "        \"cell count\": [\n",
    "            n_with_fn_spike,\n",
    "            n_without_fn_spike,\n",
    "        ],\n",
    "    },\n",
    "    index=[\"has FP spikes\", \"no FP spikes\"],\n",
    ")\n",
    "\n",
    "# set figure\n",
    "fig, axis = plt.subplots(1, 1, figsize=(5, 2))\n",
    "\n",
    "# set plot legend\n",
    "colors = [\"w\", [0.3, 0.3, 0.3]]\n",
    "txt_colors = [\"k\", \"w\"]\n",
    "percents = [percent_with_fn_spikes, percent_without_fn_spikes]\n",
    "\n",
    "# plot\n",
    "ax = data_df.T.plot.barh(\n",
    "    ax=axis,\n",
    "    stacked=True,\n",
    "    color=colors,\n",
    "    width=0.2,\n",
    "    edgecolor=\"k\",\n",
    "    linewidth=0.6,\n",
    ")\n",
    "\n",
    "# set axis legend\n",
    "ax.spines[[\"left\", \"right\", \"top\"]].set_visible(False)\n",
    "x_axis = ax.axes.get_xaxis()\n",
    "x_axis.set_visible(True)\n",
    "y_axis = ax.axes.get_yaxis()\n",
    "y_axis.set_visible(False)\n",
    "ax.set_xlabel(\"Sorted units matched to FR-underestimated high-FR true cells (count)\", fontsize=9)\n",
    "ax.legend(\n",
    "    bbox_to_anchor=(0.6, 0.6),\n",
    "    frameon=False,\n",
    "    fontsize=9,\n",
    "    handletextpad=0.6,\n",
    ")\n",
    "ax.set_title(\"Missed spikes explain high-FR cells' underestimated FR\", fontsize=9)\n",
    "ax.tick_params(axis=\"both\", which=\"major\", labelsize=9)\n",
    "plt.tight_layout()\n",
    "\n",
    "# annotate bars with count by sorting error type\n",
    "for p_i, patch in enumerate(ax.patches):\n",
    "    width, height = patch.get_width(), patch.get_height()\n",
    "    x, y = patch.get_xy()\n",
    "    ax.text(\n",
    "        x + width / 2,\n",
    "        y + height / 2,\n",
    "        \"{:.0f} ({:.0f}%)\".format(width, percents[p_i]*100),\n",
    "        horizontalalignment=\"center\",\n",
    "        verticalalignment=\"center\",\n",
    "        color=txt_colors[p_i],\n",
    "    )"
   ]
  },
  {
   "cell_type": "code",
   "execution_count": 24,
   "metadata": {},
   "outputs": [
    {
     "data": {
      "text/plain": [
       "[11, 34, 37, 273, 296]"
      ]
     },
     "execution_count": 24,
     "metadata": {},
     "output_type": "execute_result"
    }
   ],
   "source": [
    "out[\"MatchingObject\"].get_redundant_units(redundant_score=0)"
   ]
  },
  {
   "cell_type": "code",
   "execution_count": 26,
   "metadata": {},
   "outputs": [],
   "source": [
    "oversplit_units = out[\"MatchingObject\"].get_redundant_units()\n",
    "\n",
    "# count the overmerging conditions\n",
    "n_oversplit = len(set(oversplit_units) & set(cell_matching[\"sorted_cell\"][underestimated_higher_frs]))\n",
    "n_not_oversplit = n_total - n_oversplit\n",
    "percent_oversplit = n_oversplit/n_total*100\n",
    "percent_not_oversplit = n_not_oversplit/n_total*100"
   ]
  },
  {
   "cell_type": "code",
   "execution_count": 51,
   "metadata": {},
   "outputs": [
    {
     "data": {
      "image/png": "[encoded data removed]",
      "text/plain": [
       "<Figure size 500x200 with 1 Axes>"
      ]
     },
     "metadata": {},
     "output_type": "display_data"
    }
   ],
   "source": [
    "from matplotlib import pyplot as plt\n",
    "\n",
    "# build histo dataset\n",
    "data_df = pd.DataFrame(\n",
    "    {\n",
    "        \"cell count\": [\n",
    "            n_oversplit,\n",
    "            n_not_oversplit,\n",
    "        ],\n",
    "    },\n",
    "    index=[\"oversplit\", \"not oversplit\"],\n",
    ")\n",
    "\n",
    "# set figure\n",
    "fig, axis = plt.subplots(1, 1, figsize=(5, 2))\n",
    "\n",
    "# set plot legend\n",
    "colors = [\"w\", [0.3, 0.3, 0.3]]\n",
    "txt_colors = [\"w\", \"w\"]\n",
    "percents = [percent_oversplit, percent_not_oversplit]\n",
    "\n",
    "# plot\n",
    "ax = data_df.T.plot.barh(\n",
    "    ax=axis,\n",
    "    stacked=True,\n",
    "    color=colors,\n",
    "    width=0.2,\n",
    "    edgecolor=\"k\",\n",
    "    linewidth=0.6,\n",
    ")\n",
    "\n",
    "# set axis legend\n",
    "ax.spines[[\"left\", \"right\", \"top\"]].set_visible(False)\n",
    "x_axis = ax.axes.get_xaxis()\n",
    "x_axis.set_visible(True)\n",
    "y_axis = ax.axes.get_yaxis()\n",
    "y_axis.set_visible(False)\n",
    "ax.set_xlabel(\"Sorted units matched to FR-overestimated low-FR true cells (count)\", fontsize=9)\n",
    "ax.legend(\n",
    "    bbox_to_anchor=(0.6, 0.6),\n",
    "    frameon=False,\n",
    "    fontsize=9,\n",
    "    handletextpad=0.6,\n",
    ")\n",
    "ax.set_title(\"Oversplitting partially explains High-FR cells' firing rate underestimation\", fontsize=9)\n",
    "ax.tick_params(axis=\"both\", which=\"major\", labelsize=9)\n",
    "plt.tight_layout()\n",
    "\n",
    "# annotate bars with count by sorting error type\n",
    "x_shift = 5\n",
    "for p_i, patch in enumerate(ax.patches):\n",
    "    width, height = patch.get_width(), patch.get_height()\n",
    "    x, y = patch.get_xy()\n",
    "    if not width==0:\n",
    "        ax.text(\n",
    "            x + width / 2 + x_shift,\n",
    "            y + height / 2,\n",
    "            \"{:.0f} ({:.0f}%)\".format(width, percents[p_i]),\n",
    "            horizontalalignment=\"center\",\n",
    "            verticalalignment=\"center\",\n",
    "            color=txt_colors[p_i],\n",
    "    )"
   ]
  },
  {
   "attachments": {},
   "cell_type": "markdown",
   "metadata": {},
   "source": [
    "Overmerged units have an agreement score above 0.2 with two or more ground-truth units [Buccino et al., 2020, p. 16]."
   ]
  },
  {
   "cell_type": "code",
   "execution_count": 34,
   "metadata": {},
   "outputs": [
    {
     "name": "stdout",
     "output_type": "stream",
     "text": [
      "oversplitting score: 0\n"
     ]
    },
    {
     "data": {
      "text/plain": [
       "[11, 34, 37, 273, 296]"
      ]
     },
     "execution_count": 34,
     "metadata": {},
     "output_type": "execute_result"
    }
   ],
   "source": [
    "print(\"oversplitting score:\", out[\"MatchingObject\"].redundant_score)\n",
    "out[\"MatchingObject\"].get_redundant_units()"
   ]
  },
  {
   "cell_type": "markdown",
   "metadata": {},
   "source": [
    "# references\n",
    "\n",
    "https://spikeinterface.readthedocs.io/en/latest/modules/comparison.html#more-information-about-hungarian-or-best-match-methods"
   ]
  }
 ],
 "metadata": {
  "kernelspec": {
   "display_name": "env_kilosort_silico",
   "language": "python",
   "name": "python3"
  },
  "language_info": {
   "codemirror_mode": {
    "name": "ipython",
    "version": 3
   },
   "file_extension": ".py",
   "mimetype": "text/x-python",
   "name": "python",
   "nbconvert_exporter": "python",
   "pygments_lexer": "ipython3",
   "version": "3.9.7 (default, Jan 10 2022, 21:17:49) \n[GCC 11.2.0]"
  },
  "orig_nbformat": 4,
  "vscode": {
   "interpreter": {
    "hash": "7258c08641c839bc879bcf990fe8a05217dd3831f7a007245bbe9c8138895c4a"
   }
  }
 },
 "nbformat": 4,
 "nbformat_minor": 2
}
