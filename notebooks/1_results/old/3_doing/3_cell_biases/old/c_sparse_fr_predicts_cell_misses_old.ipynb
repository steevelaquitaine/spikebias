{
 "cells": [
  {
   "attachments": {},
   "cell_type": "markdown",
   "metadata": {},
   "source": [
    "# Fr predicts cell misses\n",
    "\n",
    "author: steeve.laquitaine@epfl.ch\n",
    "\n",
    "Results: \n",
    "- All cells fired at least once\n",
    "- Sparse firing predicts cell misses"
   ]
  },
  {
   "attachments": {},
   "cell_type": "markdown",
   "metadata": {},
   "source": [
    "## Setup\n",
    "\n",
    "```bash\n",
    "pip install -r requirements_kilosort_silico.txt\n",
    "```\n"
   ]
  },
  {
   "cell_type": "code",
   "execution_count": 1,
   "metadata": {},
   "outputs": [
    {
     "name": "stdout",
     "output_type": "stream",
     "text": [
      "2023-04-25 18:50:34,775 - root - utils.py - get_config - INFO - Reading experiment config.\n",
      "2023-04-25 18:50:34,801 - root - utils.py - get_config - INFO - Reading experiment config. - done\n"
     ]
    }
   ],
   "source": [
    "# SETUP PACKAGES \n",
    "%load_ext autoreload\n",
    "%autoreload 2\n",
    "import os \n",
    "import pandas as pd\n",
    "from matplotlib import pyplot as plt\n",
    "import spikeinterface as si\n",
    "import numpy as np\n",
    "import matplotlib\n",
    "\n",
    "# dpi = 300\n",
    "# matplotlib.rcParams['figure.dpi'] = dpi\n",
    "\n",
    "# SET PROJECT PATH\n",
    "PROJ_PATH = \"/gpfs/bbp.cscs.ch/project/proj68/home/laquitai/spike-sorting\"\n",
    "os.chdir(PROJ_PATH)\n",
    "\n",
    "# SET DEPENDENCIES\n",
    "from src.nodes.utils import get_config\n",
    "from src.nodes.postpro.missed_cells import get_missed_vs_detected, plot_missed_cells_rate_hist\n",
    "from src.nodes.postpro.cell_matching import match_true_and_sorter_cell_firing_rate as match_fr\n",
    "from src.nodes.postpro.feateng import add_true_spike_count, add_sorted_spike_count\n",
    "\n",
    "# SET RUN CONFIG\n",
    "EXPERIMENT = \"silico_neuropixels\"\n",
    "SIMULATION_DATE = \"2023_02_19\"\n",
    "data_conf, _ = get_config(EXPERIMENT, SIMULATION_DATE).values()"
   ]
  },
  {
   "cell_type": "markdown",
   "metadata": {},
   "source": [
    "## Plot"
   ]
  },
  {
   "cell_type": "code",
   "execution_count": 2,
   "metadata": {},
   "outputs": [
    {
     "name": "stdout",
     "output_type": "stream",
     "text": [
      "2023-04-25 18:50:35,092 - root - match_sorted_to_true_neuropixels_2023_02_19.py - run - INFO - loading kilosort3 Sorting Extractor\n",
      "2023-04-25 18:50:35,124 - root - match_sorted_to_true_neuropixels_2023_02_19.py - run - INFO - loading kilosort3 Sorting Extractor - done: 0.0\n",
      "2023-04-25 18:50:35,131 - root - match_sorted_to_true_neuropixels_2023_02_19.py - run - INFO - loading Ground truth Sorting Extractor\n",
      "2023-04-25 18:50:35,148 - root - match_sorted_to_true_neuropixels_2023_02_19.py - run - INFO - loading Ground truth Sorting Extractor - done: 0.0\n",
      "2023-04-25 18:50:51,746 - root - match_sorted_to_true_neuropixels_2023_02_19.py - run - INFO - Detecting true cell oversplit - done\n",
      "2023-04-25 18:50:51,753 - root - match_sorted_to_true_neuropixels_2023_02_19.py - run - INFO - Detecting true cell misses - done\n",
      "2023-04-25 18:50:51,892 - root - match_sorted_to_true_neuropixels_2023_02_19.py - run - INFO - loading kilosort3 Sorting Extractor\n",
      "2023-04-25 18:50:51,905 - root - match_sorted_to_true_neuropixels_2023_02_19.py - run - INFO - loading kilosort3 Sorting Extractor - done: 0.0\n",
      "2023-04-25 18:50:51,906 - root - match_sorted_to_true_neuropixels_2023_02_19.py - run - INFO - loading Ground truth Sorting Extractor\n",
      "2023-04-25 18:50:51,919 - root - match_sorted_to_true_neuropixels_2023_02_19.py - run - INFO - loading Ground truth Sorting Extractor - done: 0.0\n"
     ]
    },
    {
     "name": "stderr",
     "output_type": "stream",
     "text": [
      "/gpfs/bbp.cscs.ch/project/proj68/home/laquitai/spike-sorting/src/pipes/sorting/match_sorted_to_true_neuropixels_2023_02_19.py:94: SettingWithCopyWarning: \n",
      "A value is trying to be set on a copy of a slice from a DataFrame\n",
      "\n",
      "See the caveats in the documentation: https://pandas.pydata.org/pandas-docs/stable/user_guide/indexing.html#returning-a-view-versus-a-copy\n",
      "  cell_matching[\"oversplit_true_cell\"].iloc[oversplit.index] = True\n"
     ]
    },
    {
     "name": "stdout",
     "output_type": "stream",
     "text": [
      "2023-04-25 18:51:01,600 - root - match_sorted_to_true_neuropixels_2023_02_19.py - run - INFO - Detecting true cell oversplit - done\n",
      "2023-04-25 18:51:01,606 - root - match_sorted_to_true_neuropixels_2023_02_19.py - run - INFO - Detecting true cell misses - done\n",
      "2023-04-25 18:51:01,671 - root - match_sorted_to_true_neuropixels_2023_02_19.py - run - INFO - loading kilosort3 Sorting Extractor\n",
      "2023-04-25 18:51:01,682 - root - match_sorted_to_true_neuropixels_2023_02_19.py - run - INFO - loading kilosort3 Sorting Extractor - done: 0.0\n",
      "2023-04-25 18:51:01,684 - root - match_sorted_to_true_neuropixels_2023_02_19.py - run - INFO - loading Ground truth Sorting Extractor\n",
      "2023-04-25 18:51:01,693 - root - match_sorted_to_true_neuropixels_2023_02_19.py - run - INFO - loading Ground truth Sorting Extractor - done: 0.0\n"
     ]
    },
    {
     "name": "stderr",
     "output_type": "stream",
     "text": [
      "/gpfs/bbp.cscs.ch/project/proj68/home/laquitai/spike-sorting/src/pipes/sorting/match_sorted_to_true_neuropixels_2023_02_19.py:94: SettingWithCopyWarning: \n",
      "A value is trying to be set on a copy of a slice from a DataFrame\n",
      "\n",
      "See the caveats in the documentation: https://pandas.pydata.org/pandas-docs/stable/user_guide/indexing.html#returning-a-view-versus-a-copy\n",
      "  cell_matching[\"oversplit_true_cell\"].iloc[oversplit.index] = True\n"
     ]
    },
    {
     "name": "stdout",
     "output_type": "stream",
     "text": [
      "2023-04-25 18:51:12,105 - root - match_sorted_to_true_neuropixels_2023_02_19.py - run - INFO - Detecting true cell oversplit - done\n",
      "2023-04-25 18:51:12,110 - root - match_sorted_to_true_neuropixels_2023_02_19.py - run - INFO - Detecting true cell misses - done\n"
     ]
    },
    {
     "name": "stderr",
     "output_type": "stream",
     "text": [
      "/gpfs/bbp.cscs.ch/project/proj68/home/laquitai/spike-sorting/src/pipes/sorting/match_sorted_to_true_neuropixels_2023_02_19.py:94: SettingWithCopyWarning: \n",
      "A value is trying to be set on a copy of a slice from a DataFrame\n",
      "\n",
      "See the caveats in the documentation: https://pandas.pydata.org/pandas-docs/stable/user_guide/indexing.html#returning-a-view-versus-a-copy\n",
      "  cell_matching[\"oversplit_true_cell\"].iloc[oversplit.index] = True\n"
     ]
    }
   ],
   "source": [
    "# add true and sorted cell features\n",
    "\n",
    "# - add true and sorted firing rates\n",
    "cell_matching = match_fr(data_conf, no_plot=True)\n",
    "\n",
    "# add true spike counts\n",
    "cell_matching = add_true_spike_count(cell_matching, data_conf)\n",
    "\n",
    "# add sorted spike counts\n",
    "cell_matching = add_sorted_spike_count(cell_matching, data_conf)"
   ]
  },
  {
   "cell_type": "code",
   "execution_count": 3,
   "metadata": {},
   "outputs": [
    {
     "name": "stderr",
     "output_type": "stream",
     "text": [
      "/gpfs/bbp.cscs.ch/project/proj68/home/laquitai/spike-sorting/env_kilosort_silico/lib/python3.9/site-packages/IPython/lib/pretty.py:778: FutureWarning: In a future version, object-dtype columns with all-bool values will not be included in reductions with bool_only=True. Explicitly cast to bool dtype instead.\n",
      "  output = repr(obj)\n",
      "/gpfs/bbp.cscs.ch/project/proj68/home/laquitai/spike-sorting/env_kilosort_silico/lib/python3.9/site-packages/IPython/core/formatters.py:342: FutureWarning: In a future version, object-dtype columns with all-bool values will not be included in reductions with bool_only=True. Explicitly cast to bool dtype instead.\n",
      "  return method()\n"
     ]
    },
    {
     "data": {
      "text/html": [
       "<div>\n",
       "<style scoped>\n",
       "    .dataframe tbody tr th:only-of-type {\n",
       "        vertical-align: middle;\n",
       "    }\n",
       "\n",
       "    .dataframe tbody tr th {\n",
       "        vertical-align: top;\n",
       "    }\n",
       "\n",
       "    .dataframe thead th {\n",
       "        text-align: right;\n",
       "    }\n",
       "</style>\n",
       "<table border=\"1\" class=\"dataframe\">\n",
       "  <thead>\n",
       "    <tr style=\"text-align: right;\">\n",
       "      <th></th>\n",
       "      <th>sorted_cell</th>\n",
       "      <th>true_cell_match</th>\n",
       "      <th>oversplit_true_cell</th>\n",
       "      <th>agreement_score</th>\n",
       "      <th>true firing rate</th>\n",
       "      <th>ks3 firing rate</th>\n",
       "      <th>true spike count</th>\n",
       "      <th>sorted spike count</th>\n",
       "    </tr>\n",
       "  </thead>\n",
       "  <tbody>\n",
       "    <tr>\n",
       "      <th>0</th>\n",
       "      <td>0.0</td>\n",
       "      <td>1981516</td>\n",
       "      <td>True</td>\n",
       "      <td>0.430918</td>\n",
       "      <td>4.538273</td>\n",
       "      <td>3.540071</td>\n",
       "      <td>2496</td>\n",
       "      <td>1947.0</td>\n",
       "    </tr>\n",
       "    <tr>\n",
       "      <th>1</th>\n",
       "      <td>215.0</td>\n",
       "      <td>1981516</td>\n",
       "      <td>True</td>\n",
       "      <td>0.000717</td>\n",
       "      <td>4.538273</td>\n",
       "      <td>1.401846</td>\n",
       "      <td>2496</td>\n",
       "      <td>771.0</td>\n",
       "    </tr>\n",
       "    <tr>\n",
       "      <th>2</th>\n",
       "      <td>1.0</td>\n",
       "      <td>3427256</td>\n",
       "      <td>True</td>\n",
       "      <td>0.000000</td>\n",
       "      <td>0.280006</td>\n",
       "      <td>1.070931</td>\n",
       "      <td>154</td>\n",
       "      <td>589.0</td>\n",
       "    </tr>\n",
       "    <tr>\n",
       "      <th>3</th>\n",
       "      <td>45.0</td>\n",
       "      <td>3427256</td>\n",
       "      <td>True</td>\n",
       "      <td>0.000000</td>\n",
       "      <td>0.280006</td>\n",
       "      <td>0.205459</td>\n",
       "      <td>154</td>\n",
       "      <td>113.0</td>\n",
       "    </tr>\n",
       "    <tr>\n",
       "      <th>4</th>\n",
       "      <td>2.0</td>\n",
       "      <td>2145865</td>\n",
       "      <td>False</td>\n",
       "      <td>0.000880</td>\n",
       "      <td>1.756399</td>\n",
       "      <td>1.787308</td>\n",
       "      <td>966</td>\n",
       "      <td>983.0</td>\n",
       "    </tr>\n",
       "    <tr>\n",
       "      <th>...</th>\n",
       "      <td>...</td>\n",
       "      <td>...</td>\n",
       "      <td>...</td>\n",
       "      <td>...</td>\n",
       "      <td>...</td>\n",
       "      <td>...</td>\n",
       "      <td>...</td>\n",
       "      <td>...</td>\n",
       "    </tr>\n",
       "    <tr>\n",
       "      <th>640</th>\n",
       "      <td>NaN</td>\n",
       "      <td>4046827</td>\n",
       "      <td>None</td>\n",
       "      <td>NaN</td>\n",
       "      <td>0.003636</td>\n",
       "      <td>NaN</td>\n",
       "      <td>2</td>\n",
       "      <td>NaN</td>\n",
       "    </tr>\n",
       "    <tr>\n",
       "      <th>641</th>\n",
       "      <td>NaN</td>\n",
       "      <td>4138989</td>\n",
       "      <td>None</td>\n",
       "      <td>NaN</td>\n",
       "      <td>2.105497</td>\n",
       "      <td>NaN</td>\n",
       "      <td>1158</td>\n",
       "      <td>NaN</td>\n",
       "    </tr>\n",
       "    <tr>\n",
       "      <th>642</th>\n",
       "      <td>NaN</td>\n",
       "      <td>4063216</td>\n",
       "      <td>None</td>\n",
       "      <td>NaN</td>\n",
       "      <td>0.003636</td>\n",
       "      <td>NaN</td>\n",
       "      <td>2</td>\n",
       "      <td>NaN</td>\n",
       "    </tr>\n",
       "    <tr>\n",
       "      <th>643</th>\n",
       "      <td>NaN</td>\n",
       "      <td>2623483</td>\n",
       "      <td>None</td>\n",
       "      <td>NaN</td>\n",
       "      <td>1.485484</td>\n",
       "      <td>NaN</td>\n",
       "      <td>817</td>\n",
       "      <td>NaN</td>\n",
       "    </tr>\n",
       "    <tr>\n",
       "      <th>644</th>\n",
       "      <td>NaN</td>\n",
       "      <td>1552383</td>\n",
       "      <td>None</td>\n",
       "      <td>NaN</td>\n",
       "      <td>0.012728</td>\n",
       "      <td>NaN</td>\n",
       "      <td>7</td>\n",
       "      <td>NaN</td>\n",
       "    </tr>\n",
       "  </tbody>\n",
       "</table>\n",
       "<p>645 rows × 8 columns</p>\n",
       "</div>"
      ],
      "text/plain": [
       "     sorted_cell  true_cell_match oversplit_true_cell  agreement_score  \\\n",
       "0            0.0          1981516                True         0.430918   \n",
       "1          215.0          1981516                True         0.000717   \n",
       "2            1.0          3427256                True         0.000000   \n",
       "3           45.0          3427256                True         0.000000   \n",
       "4            2.0          2145865               False         0.000880   \n",
       "..           ...              ...                 ...              ...   \n",
       "640          NaN          4046827                None              NaN   \n",
       "641          NaN          4138989                None              NaN   \n",
       "642          NaN          4063216                None              NaN   \n",
       "643          NaN          2623483                None              NaN   \n",
       "644          NaN          1552383                None              NaN   \n",
       "\n",
       "     true firing rate  ks3 firing rate  true spike count  sorted spike count  \n",
       "0            4.538273         3.540071              2496              1947.0  \n",
       "1            4.538273         1.401846              2496               771.0  \n",
       "2            0.280006         1.070931               154               589.0  \n",
       "3            0.280006         0.205459               154               113.0  \n",
       "4            1.756399         1.787308               966               983.0  \n",
       "..                ...              ...               ...                 ...  \n",
       "640          0.003636              NaN                 2                 NaN  \n",
       "641          2.105497              NaN              1158                 NaN  \n",
       "642          0.003636              NaN                 2                 NaN  \n",
       "643          1.485484              NaN               817                 NaN  \n",
       "644          0.012728              NaN                 7                 NaN  \n",
       "\n",
       "[645 rows x 8 columns]"
      ]
     },
     "execution_count": 3,
     "metadata": {},
     "output_type": "execute_result"
    }
   ],
   "source": [
    "# check cell matching\n",
    "cell_matching"
   ]
  },
  {
   "cell_type": "code",
   "execution_count": 4,
   "metadata": {},
   "outputs": [],
   "source": [
    "# get Recording extractor\n",
    "Recording = si.load_extractor(\n",
    "    data_conf[\"preprocessing\"][\"output\"][\"trace_file_path\"]\n",
    ")\n",
    "trace_duration = Recording.get_total_duration()"
   ]
  },
  {
   "cell_type": "code",
   "execution_count": 5,
   "metadata": {},
   "outputs": [],
   "source": [
    "# run sanity check\n",
    "\n",
    "# check that firing rates and spike counts match\n",
    "firing_rate = cell_matching[\"true spike count\"]  / trace_duration\n",
    "assert all(firing_rate == cell_matching[\"true firing rate\"]), \"true spike count and firing rate do not match\"\n",
    "\n",
    "firing_rate = cell_matching[\"sorted spike count\"]  / trace_duration\n",
    "notna = cell_matching[\"ks3 firing rate\"].notna()\n",
    "assert all(firing_rate[notna] == cell_matching[\"ks3 firing rate\"][notna]), \"sorted spike count and firing rate do not match\""
   ]
  },
  {
   "attachments": {},
   "cell_type": "markdown",
   "metadata": {},
   "source": [
    "Results: \n",
    "- All cells fired at least once\n",
    "- Sparse firing predicts cell misses"
   ]
  },
  {
   "cell_type": "code",
   "execution_count": 6,
   "metadata": {},
   "outputs": [
    {
     "name": "stdout",
     "output_type": "stream",
     "text": [
      "Spike counts have data type int64.\n",
      "There is 0 silent (that never fired) cells.\n"
     ]
    },
    {
     "data": {
      "image/png": "[encoded data removed]",
      "text/plain": [
       "<Figure size 1000x400 with 2 Axes>"
      ]
     },
     "metadata": {},
     "output_type": "display_data"
    }
   ],
   "source": [
    "# plot cell misses by firing rate\n",
    "# get missed vs. detected cells\n",
    "missed_cells, detected_cells = get_missed_vs_detected(cell_matching).values()\n",
    "\n",
    "# plot\n",
    "fig, axes = plt.subplots(1,2, figsize=(10,4))\n",
    "\n",
    "# report spike count data type\n",
    "print(f\"\"\"Spike counts have data type {missed_cells[\"true spike count\"].dtype}.\"\"\")\n",
    "\n",
    "# plot cell bar count that do never fire\n",
    "n_silent_cells = sum(missed_cells[\"true spike count\"]==0)\n",
    "axes[0].bar(x=0, height=n_silent_cells)\n",
    "axes[0].spines[[\"right\", \"top\"]].set_visible(False)\n",
    "axes[1].set_xticks(np.array([0]))\n",
    "axes[1].set_xticklabels(np.array([0]), fontsize=9)\n",
    "axes[0].set_xlabel(\"missed silent cells\", fontsize=9)\n",
    "axes[0].set_ylabel(\"count\", fontsize=9)\n",
    "\n",
    "print(f\"\"\"There is {n_silent_cells} silent (that never fired) cells.\"\"\")\n",
    "\n",
    "# plot hist for cells that fire at least 1 spike\n",
    "axes[1] = plot_missed_cells_rate_hist(axes[1], missed_cells, \"\", bin_step=0.02)"
   ]
  },
  {
   "cell_type": "code",
   "execution_count": 29,
   "metadata": {},
   "outputs": [
    {
     "name": "stdout",
     "output_type": "stream",
     "text": [
      "firing rate for one spike: 0.001818218182545469 spikes/sec\n"
     ]
    },
    {
     "data": {
      "image/png": "[encoded data removed]",
      "text/plain": [
       "<Figure size 600x400 with 2 Axes>"
      ]
     },
     "metadata": {},
     "output_type": "display_data"
    }
   ],
   "source": [
    "# zoom-in on the distribution of sparse cells (below 0.2 Hz)\n",
    "fig, axes = plt.subplots(2,1, figsize=(6,4))\n",
    "\n",
    "sparse_cells = missed_cells[missed_cells[\"true firing rate\"] < 0.2]\n",
    "\n",
    "# plot\n",
    "\n",
    "# set default parameters\n",
    "MAX_RATE = 0.2\n",
    "BIN_STEP = 0.005\n",
    "X_STEP = 0.05\n",
    "\n",
    "# set firing rate bins\n",
    "BINS = np.arange(0, MAX_RATE, BIN_STEP)\n",
    "\n",
    "# plot histogram\n",
    "axes[0] = sparse_cells[\"true firing rate\"].hist(\n",
    "    ax=axes[0], bins=BINS, width=0.17, color=[0.3, 0.3, 0.3]\n",
    ")\n",
    "\n",
    "# legend\n",
    "axes[0].set_xlabel(\"firing rate (spikes/sec)\", fontsize=9)\n",
    "axes[0].set_ylabel(\"missed sparse cell\" \"\\n\" \"(count)\", fontsize=9)\n",
    "axes[0].set_xticks(np.round(np.arange(0, MAX_RATE, X_STEP), 1))\n",
    "axes[0].set_xticklabels(np.round(np.arange(0, MAX_RATE, X_STEP), 1), fontsize=9)\n",
    "axes[0].grid(False)\n",
    "axes[0].spines[[\"right\", \"top\"]].set_visible(False)\n",
    "axes[0].tick_params(axis=\"both\", which=\"major\", labelsize=9)\n",
    "\n",
    "# firing rate for one spike\n",
    "print(\"firing rate for one spike:\", 1/trace_duration, \"spikes/sec\")\n",
    "\n",
    "# plot associated spike counts\n",
    "# set parameters\n",
    "spike_count_sparsity = MAX_RATE * trace_duration\n",
    "MAX_COUNT = spike_count_sparsity\n",
    "BIN_STEP = 1\n",
    "X_STEP = 5\n",
    "\n",
    "# set bins\n",
    "BINS = np.arange(0, MAX_COUNT, BIN_STEP)\n",
    "\n",
    "# plot histogram\n",
    "\n",
    "# bar silent cells\n",
    "axes[1].bar(0, 0, edgecolor=(0,0.5,0.8), linewidth=2)\n",
    "\n",
    "# bar sparse cells\n",
    "axes[1] = missed_cells[\"true spike count\"].hist(ax=axes[1],\n",
    "    bins=BINS, width=0.81, color=[0.3, 0.3, 0.3], linewidth=2, facecolor=\"r\"\n",
    ")\n",
    "\n",
    "# legend\n",
    "axes[1].set_xlabel(\"spike count (count)\", fontsize=9)\n",
    "axes[1].set_ylabel(\"missed sparse cell\" \"\\n\" \"(count)\", fontsize=9)\n",
    "axes[1].set_xticks(np.round(np.arange(0, MAX_COUNT, X_STEP), 1))\n",
    "axes[1].set_xticklabels(np.round(np.arange(0, MAX_COUNT, X_STEP).astype(int), 1), fontsize=9)\n",
    "axes[1].grid(False)\n",
    "axes[1].spines[\"bottom\"].set_edgecolor(\"white\")\n",
    "axes[1].spines[[\"right\", \"top\"]].set_visible(False)\n",
    "axes[1].tick_params(axis=\"both\", which=\"major\", labelsize=9)\n",
    "axes[1].legend([\"silent cells\", \"sparse cells\", \"firing cells\"], frameon=False, fontsize=9)\n",
    "\n",
    "max_spike_count = axes[1].get_xticks()[-1]\n",
    "axes[1].set_xlim([-1, max_spike_count])\n",
    "\n",
    "# annotate firing rates correspondances\n",
    "max_x_as_fr = round(max(BINS)/trace_duration,2)\n",
    "axes[1].text(0.99, -0.3, f\"{max_x_as_fr} Hz\",\n",
    "        fontsize=9, transform=axes[1].transAxes, color='r')\n",
    "\n",
    "plt.tight_layout()"
   ]
  },
  {
   "cell_type": "code",
   "execution_count": 11,
   "metadata": {},
   "outputs": [
    {
     "data": {
      "text/plain": [
       "109.99780000000001"
      ]
     },
     "execution_count": 11,
     "metadata": {},
     "output_type": "execute_result"
    }
   ],
   "source": [
    "trace_duration * 0.2"
   ]
  },
  {
   "cell_type": "code",
   "execution_count": 21,
   "metadata": {},
   "outputs": [
    {
     "data": {
      "text/plain": [
       "array([  0.,   1.,   2.,   3.,   4.,   5.,   6.,   7.,   8.,   9.,  10.,\n",
       "        11.,  12.,  13.,  14.,  15.,  16.,  17.,  18.,  19.,  20.,  21.,\n",
       "        22.,  23.,  24.,  25.,  26.,  27.,  28.,  29.,  30.,  31.,  32.,\n",
       "        33.,  34.,  35.,  36.,  37.,  38.,  39.,  40.,  41.,  42.,  43.,\n",
       "        44.,  45.,  46.,  47.,  48.,  49.,  50.,  51.,  52.,  53.,  54.,\n",
       "        55.,  56.,  57.,  58.,  59.,  60.,  61.,  62.,  63.,  64.,  65.,\n",
       "        66.,  67.,  68.,  69.,  70.,  71.,  72.,  73.,  74.,  75.,  76.,\n",
       "        77.,  78.,  79.,  80.,  81.,  82.,  83.,  84.,  85.,  86.,  87.,\n",
       "        88.,  89.,  90.,  91.,  92.,  93.,  94.,  95.,  96.,  97.,  98.,\n",
       "        99., 100., 101., 102., 103., 104., 105., 106., 107., 108., 109.])"
      ]
     },
     "execution_count": 21,
     "metadata": {},
     "output_type": "execute_result"
    }
   ],
   "source": [
    "BINS"
   ]
  }
 ],
 "metadata": {
  "kernelspec": {
   "display_name": "env_kilosort_silico",
   "language": "python",
   "name": "python3"
  },
  "language_info": {
   "codemirror_mode": {
    "name": "ipython",
    "version": 3
   },
   "file_extension": ".py",
   "mimetype": "text/x-python",
   "name": "python",
   "nbconvert_exporter": "python",
   "pygments_lexer": "ipython3",
   "version": "3.9.7"
  },
  "orig_nbformat": 4
 },
 "nbformat": 4,
 "nbformat_minor": 2
}
