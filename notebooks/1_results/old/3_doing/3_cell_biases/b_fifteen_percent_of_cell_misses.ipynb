{
 "cells": [
  {
   "attachments": {},
   "cell_type": "markdown",
   "metadata": {},
   "source": [
    "# 15% of cell misses\n",
    "\n",
    "author: steeve.laquitaine@epfl.ch\n",
    "\n",
    "modified: 31.05.2023"
   ]
  },
  {
   "attachments": {},
   "cell_type": "markdown",
   "metadata": {},
   "source": [
    "## Setup\n",
    "\n",
    "setup environment `env_kilosort_silico`"
   ]
  },
  {
   "cell_type": "code",
   "execution_count": 1,
   "metadata": {},
   "outputs": [],
   "source": [
    "# SETUP PACKAGES \n",
    "%load_ext autoreload\n",
    "%autoreload 2\n",
    "import os \n",
    "\n",
    "# SET PROJECT PATH\n",
    "PROJ_PATH = \"/gpfs/bbp.cscs.ch/project/proj68/home/laquitai/spike-sorting\"\n",
    "os.chdir(PROJ_PATH)\n",
    "\n",
    "\n",
    "# SET DEPENDENCIES\n",
    "from src.pipes.figures import run_histo_detected_missed_neuropixels_2023_02_19 as pipe\n",
    "from src.nodes.utils import get_config_silico_neuropixels\n",
    "\n",
    "\n",
    "# SETUP RUN CONFIG\n",
    "SIMULATION_DATE = \"2023_02_19\"\n",
    "data_conf, param_conf = get_config_silico_neuropixels(SIMULATION_DATE).values()\n",
    "\n",
    "\n",
    "# SET PATHS\n",
    "\n",
    "# set Kilosort sorted spikes and cells path\n",
    "KS3_SORTING_PATH = data_conf[\"sorting\"][\"sorters\"][\"kilosort3\"][\"output\"]\n",
    "\n",
    "# set ground truth spikes and cells path\n",
    "GT_SORTING_PATH = data_conf[\"sorting\"][\"simulation\"][\"ground_truth\"][\"output\"]"
   ]
  },
  {
   "cell_type": "markdown",
   "metadata": {},
   "source": [
    "## Plot"
   ]
  },
  {
   "cell_type": "code",
   "execution_count": 2,
   "metadata": {},
   "outputs": [
    {
     "data": {
      "text/plain": [
       "{'fig': <Figure size 500x200 with 1 Axes>,\n",
       " 'errors_count':           cell count\n",
       " detected         456\n",
       " missed            78,\n",
       " 'MatchingObject': <spikeinterface.comparison.paircomparisons.GroundTruthComparison at 0x7fffbce14d90>}"
      ]
     },
     "execution_count": 2,
     "metadata": {},
     "output_type": "execute_result"
    },
    {
     "data": {
      "image/png": "[encoded data removed]",
      "text/plain": [
       "<Figure size 500x200 with 1 Axes>"
      ]
     },
     "metadata": {},
     "output_type": "display_data"
    }
   ],
   "source": [
    "# plot\n",
    "pipe.run(GT_SORTING_PATH, KS3_SORTING_PATH)"
   ]
  }
 ],
 "metadata": {
  "kernelspec": {
   "display_name": "env_kilosort_silico",
   "language": "python",
   "name": "python3"
  },
  "language_info": {
   "codemirror_mode": {
    "name": "ipython",
    "version": 3
   },
   "file_extension": ".py",
   "mimetype": "text/x-python",
   "name": "python",
   "nbconvert_exporter": "python",
   "pygments_lexer": "ipython3",
   "version": "3.9.7"
  },
  "orig_nbformat": 4
 },
 "nbformat": 4,
 "nbformat_minor": 2
}
