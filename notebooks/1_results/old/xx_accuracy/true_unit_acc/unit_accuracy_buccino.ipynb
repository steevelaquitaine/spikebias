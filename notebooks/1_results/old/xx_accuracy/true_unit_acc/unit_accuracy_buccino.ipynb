{
 "cells": [
  {
   "attachments": {},
   "cell_type": "markdown",
   "metadata": {},
   "source": [
    "# (2m) Benchmarking on Buccino\n",
    "\n",
    "TODO:\n",
    "- make sure the number of ground truth unit is the true number of units within 50 microns that spike at least once."
   ]
  },
  {
   "cell_type": "markdown",
   "metadata": {},
   "source": [
    "## Setup\n",
    "\n",
    "activate `npx_10m_384ch_unit_classes`"
   ]
  },
  {
   "cell_type": "code",
   "execution_count": 1,
   "metadata": {},
   "outputs": [
    {
     "name": "stdout",
     "output_type": "stream",
     "text": [
      "2024-02-20 11:40:05,886 - root - utils.py - get_config - INFO - Reading experiment config.\n",
      "2024-02-20 11:40:05,918 - root - utils.py - get_config - INFO - Reading experiment config. - done\n"
     ]
    }
   ],
   "source": [
    "# SETUP PACKAGES \n",
    "%load_ext autoreload\n",
    "%autoreload 2\n",
    "import os\n",
    "import numpy as np\n",
    "from matplotlib import pyplot as plt\n",
    "from matplotlib.gridspec import GridSpec\n",
    "import spikeinterface as si\n",
    "import matplotlib\n",
    "\n",
    "# SET PROJECT PATH\n",
    "PROJ_PATH = \"/gpfs/bbp.cscs.ch/project/proj85/home/laquitai/preprint_2023\"\n",
    "os.chdir(PROJ_PATH)\n",
    "from src.nodes.utils import get_config\n",
    "from src.nodes.postpro.cell_matching import get_SpikeInterface_matching_object\n",
    "\n",
    "# EVOKED\n",
    "EXPERIMENT = \"buccino_2020\"\n",
    "SIMULATION_DATE = \"2020\"\n",
    "data_conf, _ = get_config(EXPERIMENT, SIMULATION_DATE).values()\n",
    "GT_SORTING_PATH = data_conf[\"sorting\"][\"simulation\"][\"ground_truth\"][\"output\"]\n",
    "\n",
    "# SORTINGS\n",
    "\n",
    "# kilosort 3.0\n",
    "KS3_SORTING_PATH = data_conf[\"sorting\"][\"sorters\"][\"kilosort3\"][\"output\"]\n",
    "\n",
    "# kilosort 2.5\n",
    "KS2_5_SORTING_PATH = data_conf[\"sorting\"][\"sorters\"][\"kilosort2_5\"][\"output\"]\n",
    "\n",
    "# kilosort 2.0\n",
    "KS2_SORTING_PATH = data_conf[\"sorting\"][\"sorters\"][\"kilosort2\"][\"output\"]\n",
    "\n",
    "# kilosort\n",
    "KS_SORTING_PATH = data_conf[\"sorting\"][\"sorters\"][\"kilosort\"][\"output\"]\n",
    "\n",
    "# hdsort (TODO: fix bug gaussmf)\n",
    "#KS_SORTING_PATH = data_conf[\"sorting\"][\"sorters\"][\"kilosort\"][\"output\"]\n",
    "\n",
    "# herdingspikes\n",
    "hdsp_SORTING_PATH = data_conf[\"sorting\"][\"sorters\"][\"herdingspikes\"][\"output\"]\n",
    "\n",
    "# klusta (TODO: fix bug)\n",
    "\n",
    "# FIGURE SETTINGS\n",
    "COLOR_VIVO = (0.7, 0.7, 0.7)\n",
    "COLOR_SILI = (0.84, 0.27, 0.2)\n",
    "COLOR_STIM = (0.6, 0.75, 0.1)\n",
    "BOX_ASPECT = 1                  # square fig\n",
    "FIG_SIZE = (1,1)\n",
    "plt.rcParams['figure.figsize'] = (2,1)\n",
    "plt.rcParams[\"font.family\"] = \"Arial\"\n",
    "plt.rcParams[\"font.size\"] = 6\n",
    "plt.rcParams['lines.linewidth'] = 0.2\n",
    "plt.rcParams['axes.linewidth'] = 0.5\n",
    "plt.rcParams['axes.spines.top'] = False\n",
    "plt.rcParams['axes.spines.right'] = False\n",
    "plt.rcParams['xtick.major.width'] = 0.3\n",
    "plt.rcParams['xtick.minor.size'] = 0.1\n",
    "plt.rcParams['xtick.major.size'] = 1.5\n",
    "plt.rcParams['ytick.major.size'] = 1.5\n",
    "plt.rcParams['ytick.major.width'] = 0.3\n",
    "legend_cfg = {\"frameon\": False, \"handletextpad\": 0.1}\n",
    "savefig_cfg = {\"transparent\":True}\n",
    "# print(plt.rcParams.keys())"
   ]
  },
  {
   "attachments": {},
   "cell_type": "markdown",
   "metadata": {},
   "source": [
    "### (2m) Calculate unit accuracies"
   ]
  },
  {
   "cell_type": "markdown",
   "metadata": {},
   "source": [
    "#### (2m) Filter sorted single units"
   ]
  },
  {
   "cell_type": "code",
   "execution_count": 7,
   "metadata": {},
   "outputs": [],
   "source": [
    "# takes 2 min\n",
    "\n",
    "# KS 3.0\n",
    "matching = get_SpikeInterface_matching_object(GT_SORTING_PATH, KS3_SORTING_PATH)\n",
    "Sorting = si.load_extractor(KS3_SORTING_PATH)\n",
    "agreem_mx_ks3 = matching.agreement_scores.loc[\n",
    "    :, Sorting.unit_ids[Sorting.get_property(\"KSLabel\") == \"good\"]\n",
    "]\n",
    "\n",
    "# KS 2.5\n",
    "matching = get_SpikeInterface_matching_object(GT_SORTING_PATH, KS2_5_SORTING_PATH)\n",
    "Sorting = si.load_extractor(KS2_5_SORTING_PATH)\n",
    "agreem_mx_ks2_5 = matching.agreement_scores.loc[\n",
    "    :, Sorting.unit_ids[Sorting.get_property(\"KSLabel\") == \"good\"]\n",
    "]\n",
    "\n",
    "# KS 2.0\n",
    "# note: KS does not have postprocessing that curates single units from multi-units\n",
    "matching = get_SpikeInterface_matching_object(GT_SORTING_PATH, KS2_SORTING_PATH)\n",
    "agreem_mx_ks2 = matching.agreement_scores\n",
    "\n",
    "# KS\n",
    "# note: KS does not have postprocessing that curates single units from multi-units\n",
    "matching = get_SpikeInterface_matching_object(GT_SORTING_PATH, KS_SORTING_PATH)\n",
    "agreem_mx_ks = matching.agreement_scores\n",
    "\n",
    "# Herdingspikes\n",
    "# note: Herdingspikes does not have postprocessing that curates single units from multi-units\n",
    "matching = get_SpikeInterface_matching_object(GT_SORTING_PATH, hdsp_SORTING_PATH)\n",
    "agreem_mx_hdsp = matching.agreement_scores"
   ]
  },
  {
   "cell_type": "markdown",
   "metadata": {},
   "source": [
    "#### Calculate accuracy"
   ]
  },
  {
   "cell_type": "code",
   "execution_count": 8,
   "metadata": {},
   "outputs": [],
   "source": [
    "# KS 3.0\n",
    "accuracies_ks3 = np.array(agreem_mx_ks3.max(axis=1).sort_values(ascending=False))\n",
    "# kS 2.5\n",
    "accuracies_ks2_5 = np.array(agreem_mx_ks2_5.max(axis=1).sort_values(ascending=False))\n",
    "# KS 2.0\n",
    "accuracies_ks2 = np.array(agreem_mx_ks2.max(axis=1).sort_values(ascending=False))\n",
    "# KS\n",
    "accuracies_ks = np.array(agreem_mx_ks.max(axis=1).sort_values(ascending=False))\n",
    "# Herdingspikes\n",
    "accuracies_hdsp = np.array(agreem_mx_hdsp.max(axis=1).sort_values(ascending=False))"
   ]
  },
  {
   "cell_type": "markdown",
   "metadata": {},
   "source": [
    "### Plot"
   ]
  },
  {
   "cell_type": "code",
   "execution_count": 21,
   "metadata": {},
   "outputs": [
    {
     "data": {
      "text/plain": [
       "array([[0.267004, 0.004874, 0.329415, 1.      ],\n",
       "       [0.26851 , 0.009605, 0.335427, 1.      ],\n",
       "       [0.269944, 0.014625, 0.341379, 1.      ],\n",
       "       [0.271305, 0.019942, 0.347269, 1.      ],\n",
       "       [0.272594, 0.025563, 0.353093, 1.      ]])"
      ]
     },
     "execution_count": 21,
     "metadata": {},
     "output_type": "execute_result"
    }
   ],
   "source": [
    "colors"
   ]
  },
  {
   "cell_type": "code",
   "execution_count": 24,
   "metadata": {},
   "outputs": [
    {
     "name": "stdout",
     "output_type": "stream",
     "text": [
      "No Python documentation found for '#1f77b4'.\n",
      "Use help() to get the interactive help utility.\n",
      "Use help(str) for help on the str class.\n",
      "\n"
     ]
    }
   ],
   "source": [
    "help(p[0].get_color())"
   ]
  },
  {
   "cell_type": "code",
   "execution_count": 43,
   "metadata": {},
   "outputs": [
    {
     "data": {
      "image/png": "[encoded data removed]",
      "text/plain": [
       "<Figure size 100x40 with 1 Axes>"
      ]
     },
     "metadata": {},
     "output_type": "display_data"
    }
   ],
   "source": [
    "MARKERSIZE = 0.1\n",
    "MARKEREDGEWIDTH = 0.1\n",
    "FIGSIZE = (1, 0.4)\n",
    "MARKER = \".\"\n",
    "\n",
    "colors = (\n",
    "    (0.12, 0.46, 0.70),\n",
    "    (1, 0.49, 0.055),\n",
    "    (0.173, 0.627, 0.173),\n",
    "    (0.839, 0.153, 0.157),\n",
    "    (0.58, 0.404, 0.741),\n",
    ")\n",
    "\n",
    "# count units\n",
    "n_units = max(\n",
    "    [\n",
    "        len(accuracies_ks3),\n",
    "        len(accuracies_ks2),\n",
    "        len(accuracies_ks2_5),\n",
    "        len(accuracies_ks),\n",
    "        len(accuracies_hdsp),\n",
    "    ]\n",
    ")\n",
    "\n",
    "# plot accuracy (agreement score)\n",
    "fig, ax = plt.subplots(1, figsize=FIGSIZE)\n",
    "\n",
    "# plot\n",
    "pp = ax.plot(\n",
    "    accuracies_ks3,\n",
    "    label=f\"KS 3.0\",\n",
    "    marker=MARKER,\n",
    "    # markerfacecolor=[0.5, 0, 0],\n",
    "    # markeredgecolor=\"w\",\n",
    "    linestyle=\"-\",\n",
    "    markersize=MARKERSIZE,\n",
    "    # markeredgewidth=MARKEREDGEWIDTH,\n",
    "    color=colors[0],\n",
    ")\n",
    "\n",
    "\n",
    "p = ax.plot(\n",
    "    accuracies_ks2_5,\n",
    "    label=f\"KS 2.5\",\n",
    "    marker=MARKER,\n",
    "    # markerfacecolor=colors[0],\n",
    "    # markeredgecolor=\"w\",\n",
    "    color=colors[1],\n",
    "    linestyle=\"-\",\n",
    "    markersize=MARKERSIZE,\n",
    "    # markeredgewidth=MARKEREDGEWIDTH,\n",
    ")\n",
    "\n",
    "q = ax.plot(\n",
    "    accuracies_ks2,\n",
    "    label=f\"KS 2.0\",\n",
    "    marker=MARKER,\n",
    "    # markerfacecolor=colors[1],\n",
    "    # markeredgecolor=\"w\",\n",
    "    color=colors[2],\n",
    "    linestyle=\"-\",\n",
    "    markersize=MARKERSIZE,\n",
    "    # markeredgewidth=MARKEREDGEWIDTH,\n",
    ")\n",
    "\n",
    "r = ax.plot(\n",
    "    accuracies_ks,\n",
    "    label=f\"KS\",\n",
    "    marker=MARKER,\n",
    "    # markerfacecolor=colors[2],\n",
    "    # markeredgecolor=\"w\",\n",
    "    color=colors[3],\n",
    "    linestyle=\"-\",\n",
    "    markersize=MARKERSIZE,\n",
    "    # markeredgewidth=MARKEREDGEWIDTH,\n",
    ")\n",
    "\n",
    "\n",
    "s = ax.plot(\n",
    "    accuracies_hdsp,\n",
    "    label=f\"Herdingspikes\",\n",
    "    marker=MARKER,\n",
    "    # markerfacecolor=colors[3],\n",
    "    # markeredgecolor=\"w\",\n",
    "    color=colors[4],\n",
    "    linestyle=\"-\",\n",
    "    markersize=MARKERSIZE,\n",
    "    # markeredgewidth=MARKEREDGEWIDTH,\n",
    ")\n",
    "\n",
    "ax.hlines(y=0.8, xmin=0, xmax=n_units, color=(0.5, 0.5, 0.5))\n",
    "\n",
    "# add legend\n",
    "ax.spines[[\"right\", \"top\"]].set_visible(False)\n",
    "ax.set_ylabel(\"Sorting accuracy (ratio)\")\n",
    "ax.set_xlabel(\"True units ranked by sorting accuracy\")\n",
    "ax.set_xlim([-5, n_units])\n",
    "\n",
    "ax.legend(frameon=False, loc=\"lower left\", bbox_to_anchor=(1, 1))\n",
    "\n",
    "# save figures\n",
    "plt.savefig(\n",
    "    \"/gpfs/bbp.cscs.ch/project/proj85/home/laquitai/preprint_2023/figures/3_bias/svg/true_unit_accuracies_buccino.svg\",\n",
    "    **savefig_cfg,\n",
    ")"
   ]
  },
  {
   "cell_type": "markdown",
   "metadata": {},
   "source": [
    "#### Plot well detected ratio"
   ]
  },
  {
   "cell_type": "code",
   "execution_count": 44,
   "metadata": {},
   "outputs": [
    {
     "name": "stdout",
     "output_type": "stream",
     "text": [
      "0.836\n",
      "0.98\n",
      "0.972\n",
      "0.748\n",
      "0.488\n"
     ]
    }
   ],
   "source": [
    "print(sum(accuracies_ks3 >= 0.8) / accuracies_ks3.shape[0])\n",
    "print(sum(accuracies_ks2_5 >= 0.8) / accuracies_ks2_5.shape[0])\n",
    "print(sum(accuracies_ks2 >= 0.8) / accuracies_ks2.shape[0])\n",
    "print(sum(accuracies_ks >= 0.8) / accuracies_ks.shape[0])\n",
    "print(sum(accuracies_hdsp >= 0.8) / accuracies_hdsp.shape[0])"
   ]
  },
  {
   "cell_type": "code",
   "execution_count": null,
   "metadata": {},
   "outputs": [],
   "source": [
    "DET_THRES = 0.8\n",
    "\n",
    "count_ks3 = sum(accuracies_ks3 >= DET_THRES)\n",
    "count_ks2_5 = sum(accuracies_ks2_5 >= DET_THRES)\n",
    "count_ks2 = sum(accuracies_ks2 >= DET_THRES)\n",
    "count_ks = sum(accuracies_ks >= DET_THRES)\n",
    "count_hdsp = sum(accuracies_hdsp >= DET_THRES)\n",
    "\n",
    "ratios = [\n",
    "    count_bucci / len(bucci_accuracies),\n",
    "    count_ks3 / len(accuracies_ks3),\n",
    "    count_ks2_5 / len(accuracies_ks2_5),\n",
    "    count_ks2 / len(accuracies_ks2),\n",
    "    count_ks / len(accuracies_ks),\n",
    "    count_hdsp / len(accuracies_hdsp),\n",
    "]\n",
    "\n",
    "fig = plt.figure(figsize=(4, 4))\n",
    "\n",
    "gs = GridSpec(2, 2, height_ratios=[1, 4])\n",
    "\n",
    "ax = fig.add_subplot(gs.new_subplotspec((0, 0), colspan=2))\n",
    "ax2 = fig.add_subplot(gs.new_subplotspec((1, 0), colspan=2))\n",
    "\n",
    "d = 0.25  # proportion of vertical to horizontal extent of the slanted line\n",
    "kwargs = dict(\n",
    "    marker=[(-1, -d), (1, d)],\n",
    "    markersize=12,\n",
    "    linestyle=\"none\",\n",
    "    color=\"k\",\n",
    "    mec=\"k\",\n",
    "    mew=1,\n",
    "    clip_on=False,\n",
    ")\n",
    "\n",
    "# lower panel\n",
    "ax2.bar(np.arange(0, len(ratios), 1), ratios, color=[0.7, 0.7, 0.7])\n",
    "\n",
    "# upper panel\n",
    "ax.bar(0, ratios[0], color=[0.7, 0.7, 0.7])\n",
    "\n",
    "# legend\n",
    "ax.set_xlim([-0.7, len(ratios)])\n",
    "ax2.set_ylim([0, 0.1])\n",
    "ax.set_xticks([])\n",
    "ax.set_xticklabels([])\n",
    "ax.set_yticks([0, 0.8])\n",
    "ax.set_yticklabels([0.70, 0.80])\n",
    "ax.set_ylabel(\"\")\n",
    "ax.spines[[\"bottom\", \"right\", \"top\"]].set_visible(False)\n",
    "ax2.spines[[\"right\", \"top\"]].set_visible(False)\n",
    "ax.plot([0], [0], transform=ax.transAxes, **kwargs)\n",
    "ax2.plot([0], [1], transform=ax2.transAxes, **kwargs)\n",
    "\n",
    "ax2.set_ylabel(\"Well detected units (ratio)\")\n",
    "ax2.set_xlabel(\"Spike sorter\")\n",
    "ax2.set_xticks(np.arange(0, len(ratios), 1))\n",
    "ax2.set_xticklabels(\n",
    "    [\n",
    "        \"Buccino ks 3.0\",\n",
    "        \"Marques ks 3.0\",\n",
    "        \"Marques ks 2.5\",\n",
    "        \"Marques ks 2.0\",\n",
    "        \"Marques ks\",\n",
    "        \"Marques herdingspikes\",\n",
    "    ],\n",
    "    rotation=45,\n",
    "    ha=\"right\",\n",
    ")\n",
    "\n",
    "print(ratios)\n",
    "print(\n",
    "    [\n",
    "        count_bucci,\n",
    "        count_ks3,\n",
    "        count_ks2_5,\n",
    "        count_ks2,\n",
    "        count_ks,\n",
    "        count_hdsp,\n",
    "    ]\n",
    ")"
   ]
  }
 ],
 "metadata": {
  "kernelspec": {
   "display_name": "env_kilosort_silico",
   "language": "python",
   "name": "python3"
  },
  "language_info": {
   "codemirror_mode": {
    "name": "ipython",
    "version": 3
   },
   "file_extension": ".py",
   "mimetype": "text/x-python",
   "name": "python",
   "nbconvert_exporter": "python",
   "pygments_lexer": "ipython3",
   "version": "3.9.7"
  },
  "orig_nbformat": 4
 },
 "nbformat": 4,
 "nbformat_minor": 2
}
