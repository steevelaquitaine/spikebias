{
 "cells": [
  {
   "attachments": {},
   "cell_type": "markdown",
   "metadata": {},
   "source": [
    "# (6m) By time\n",
    "\n",
    "TODO:\n",
    "- make sure the number of ground truth unit is the true number of units within 50 microns that spike at least once."
   ]
  },
  {
   "cell_type": "markdown",
   "metadata": {},
   "source": [
    "## Setup\n",
    "\n",
    "activate `spikeinterf..`"
   ]
  },
  {
   "cell_type": "code",
   "execution_count": 9,
   "metadata": {},
   "outputs": [
    {
     "name": "stdout",
     "output_type": "stream",
     "text": [
      "The autoreload extension is already loaded. To reload it, use:\n",
      "  %reload_ext autoreload\n",
      "2024-05-08 18:31:01,130 - root - utils.py - get_config - INFO - Reading experiment config.\n",
      "2024-05-08 18:31:01,147 - root - utils.py - get_config - INFO - Reading experiment config. - done\n",
      "2024-05-08 18:31:01,149 - root - utils.py - get_config - INFO - Reading experiment config.\n",
      "2024-05-08 18:31:01,179 - root - utils.py - get_config - INFO - Reading experiment config. - done\n"
     ]
    }
   ],
   "source": [
    "# SETUP PACKAGES \n",
    "%load_ext autoreload\n",
    "%autoreload 2\n",
    "import os\n",
    "import numpy as np\n",
    "from matplotlib import pyplot as plt\n",
    "from matplotlib.gridspec import GridSpec\n",
    "import spikeinterface as si\n",
    "from spikeinterface import comparison\n",
    "\n",
    "# SET PROJECT PATH\n",
    "PROJ_PATH = \"/gpfs/bbp.cscs.ch/project/proj85/home/laquitai/preprint_2023\"\n",
    "os.chdir(PROJ_PATH)\n",
    "from src.nodes.utils import get_config\n",
    "from src.nodes.postpro.accuracy import get_sorting_accuracies\n",
    "\n",
    "# DATASETS\n",
    "\n",
    "# BUCCINO 2020 \n",
    "data_conf, _ = get_config(\"buccino_2020\", \"2020\").values()\n",
    "BUCCI_KS3_SORTING_PATH = data_conf[\"sorting\"][\"sorters\"][\"kilosort3\"][\"output\"]\n",
    "BUCCI_GT_SORTING_PATH = data_conf[\"sorting\"][\"simulation\"][\"ground_truth\"][\"output\"]\n",
    "\n",
    "# SILICO MARQUES\n",
    "data_conf_marques, _ = get_config(\"silico_neuropixels\", \"concatenated\").values()\n",
    "PREP_PATH_M = data_conf_marques[\"preprocessing\"][\"output\"][\"trace_file_path\"]\n",
    "GT_SORTING_PATH_marques = data_conf_marques[\"sorting\"][\"simulation\"][\"ground_truth\"][\"output\"]\n",
    "KS_SORTING_PATH_marques = data_conf_marques[\"sorting\"][\"sorters\"][\"kilosort\"][\"output\"]\n",
    "\n",
    "# FIGURE SETTINGS\n",
    "COLOR_VIVO = (0.7, 0.7, 0.7)\n",
    "COLOR_SILI = (0.84, 0.27, 0.2)\n",
    "COLOR_STIM = (0.6, 0.75, 0.1)\n",
    "BOX_ASPECT = 1                  # square fig\n",
    "FIG_SIZE = (1,1)\n",
    "plt.rcParams['figure.figsize'] = (2,1)\n",
    "plt.rcParams[\"font.family\"] = \"Arial\"\n",
    "plt.rcParams[\"font.size\"] = 6\n",
    "plt.rcParams['lines.linewidth'] = 0.2\n",
    "plt.rcParams['axes.linewidth'] = 0.5\n",
    "plt.rcParams['axes.spines.top'] = False\n",
    "plt.rcParams['axes.spines.right'] = False\n",
    "plt.rcParams['xtick.major.width'] = 0.3\n",
    "plt.rcParams['xtick.minor.size'] = 0.1\n",
    "plt.rcParams['xtick.major.size'] = 1.5\n",
    "plt.rcParams['ytick.major.size'] = 1.5\n",
    "plt.rcParams['ytick.major.width'] = 0.3\n",
    "legend_cfg = {\"frameon\": False, \"handletextpad\": 0.1}\n",
    "savefig_cfg = {\"transparent\":True}\n",
    "# print(plt.rcParams.keys())"
   ]
  },
  {
   "cell_type": "code",
   "execution_count": 12,
   "metadata": {},
   "outputs": [
    {
     "name": "stdout",
     "output_type": "stream",
     "text": [
      "duration: 34.299982500000006 min\n"
     ]
    },
    {
     "name": "stderr",
     "output_type": "stream",
     "text": [
      "/gpfs/bbp.cscs.ch/project/proj85/scratch/laquitai/4_preprint_2023/envs/spikinterf0_100_5/lib/python3.9/site-packages/spikeinterface/core/base.py:1079: UserWarning: Versions are not the same. This might lead to compatibility errors. Using spikeinterface==0.96.1 is recommended\n",
      "  warnings.warn(\n",
      "/gpfs/bbp.cscs.ch/project/proj85/scratch/laquitai/4_preprint_2023/envs/spikinterf0_100_5/lib/python3.9/site-packages/spikeinterface/core/binaryrecordingextractor.py:78: UserWarning: `num_chan` is to be deprecated in version 0.100, please use `num_channels` instead\n",
      "  warnings.warn(\"`num_chan` is to be deprecated in version 0.100, please use `num_channels` instead\")\n"
     ]
    }
   ],
   "source": [
    "print(\"duration:\", si.load_extractor(PREP_PATH_M).get_total_duration() / 60, \"min\")"
   ]
  },
  {
   "attachments": {},
   "cell_type": "markdown",
   "metadata": {},
   "source": [
    "### (6m) Cumulative period"
   ]
  },
  {
   "cell_type": "code",
   "execution_count": 15,
   "metadata": {},
   "outputs": [
    {
     "name": "stderr",
     "output_type": "stream",
     "text": [
      "/gpfs/bbp.cscs.ch/project/proj85/scratch/laquitai/4_preprint_2023/envs/spikinterf0_100_5/lib/python3.9/site-packages/spikeinterface/core/base.py:1079: UserWarning: Versions are not the same. This might lead to compatibility errors. Using spikeinterface==0.96.1 is recommended\n",
      "  warnings.warn(\n"
     ]
    }
   ],
   "source": [
    "# full\n",
    "SortingTrue = si.load_extractor(GT_SORTING_PATH_marques)\n",
    "SortingKS = si.load_extractor(KS_SORTING_PATH_marques)\n",
    "\n",
    "# 10 min\n",
    "SortingTrue10 = SortingTrue.frame_slice(start_frame=0, end_frame=10 * 60 * 40000)\n",
    "SortingKS10 = SortingKS.frame_slice(start_frame=0, end_frame=10 * 60 * 40000)\n",
    "comp = comparison.compare_sorter_to_ground_truth(\n",
    "    SortingTrue10, SortingKS10, exhaustive_gt=True\n",
    ")\n",
    "acc_ks_10m = comp.agreement_scores.max(axis=1).sort_values(ascending=False).values\n",
    "\n",
    "# 20 min\n",
    "SortingTrue20 = SortingTrue.frame_slice(start_frame=0, end_frame=20 * 60 * 40000)\n",
    "SortingKS20 = SortingKS.frame_slice(start_frame=0, end_frame=20 * 60 * 40000)\n",
    "comp = comparison.compare_sorter_to_ground_truth(\n",
    "    SortingTrue20, SortingKS20, exhaustive_gt=True\n",
    ")\n",
    "acc_ks_20m = comp.agreement_scores.max(axis=1).sort_values(ascending=False).values\n",
    "\n",
    "\n",
    "# 30 min\n",
    "SortingTrue30 = SortingTrue.frame_slice(start_frame=0, end_frame=30 * 60 * 40000)\n",
    "SortingKS30 = SortingKS.frame_slice(start_frame=0, end_frame=30 * 60 * 40000)\n",
    "comp = comparison.compare_sorter_to_ground_truth(\n",
    "    SortingTrue30, SortingKS30, exhaustive_gt=True\n",
    ")\n",
    "acc_ks_30m = comp.agreement_scores.max(axis=1).sort_values(ascending=False).values\n",
    "\n",
    "# 40 min\n",
    "SortingTrue40 = SortingTrue.frame_slice(start_frame=0, end_frame=40 * 60 * 40000)\n",
    "SortingKS40 = SortingKS.frame_slice(start_frame=0, end_frame=40 * 60 * 40000)\n",
    "comp = comparison.compare_sorter_to_ground_truth(\n",
    "    SortingTrue40, SortingKS40, exhaustive_gt=True\n",
    ")\n",
    "acc_ks_40m = comp.agreement_scores.max(axis=1).sort_values(ascending=False).values"
   ]
  },
  {
   "cell_type": "code",
   "execution_count": 16,
   "metadata": {},
   "outputs": [
    {
     "name": "stdout",
     "output_type": "stream",
     "text": [
      "0.0792507204610951\n",
      "0.08213256484149856\n",
      "0.04755043227665706\n",
      "0.00792507204610951\n"
     ]
    }
   ],
   "source": [
    "print(sum(acc_ks_10m >= 0.8) / acc_ks_10m.shape[0])\n",
    "print(sum(acc_ks_20m >= 0.8) / acc_ks_20m.shape[0])\n",
    "print(sum(acc_ks_30m >= 0.8) / acc_ks_30m.shape[0])\n",
    "print(sum(acc_ks_40m >= 0.8) / acc_ks_40m.shape[0])"
   ]
  },
  {
   "cell_type": "markdown",
   "metadata": {},
   "source": [
    "### Contiguous periods"
   ]
  },
  {
   "cell_type": "code",
   "execution_count": 4,
   "metadata": {},
   "outputs": [
    {
     "name": "stderr",
     "output_type": "stream",
     "text": [
      "/gpfs/bbp.cscs.ch/project/proj85/scratch/laquitai/4_preprint_2023/envs/spikinterf0_100_5/lib/python3.9/site-packages/spikeinterface/core/base.py:1079: UserWarning: Versions are not the same. This might lead to compatibility errors. Using spikeinterface==0.96.1 is recommended\n",
      "  warnings.warn(\n"
     ]
    }
   ],
   "source": [
    "# full\n",
    "SortingTrue = si.load_extractor(GT_SORTING_PATH_marques)\n",
    "SortingKS = si.load_extractor(KS_SORTING_PATH_marques)\n",
    "\n",
    "# 10 min\n",
    "SortingTrue10 = SortingTrue.frame_slice(start_frame=0, end_frame=10 * 60 * 40000)\n",
    "SortingKS10 = SortingKS.frame_slice(start_frame=0, end_frame=10 * 60 * 40000)\n",
    "comp = comparison.compare_sorter_to_ground_truth(\n",
    "    SortingTrue10, SortingKS10, exhaustive_gt=True\n",
    ")\n",
    "acc_ks_10m = comp.agreement_scores.max(axis=1).sort_values(ascending=False).values\n",
    "\n",
    "# 20 min\n",
    "SortingTrue20 = SortingTrue.frame_slice(\n",
    "    start_frame=10 * 60 * 40000 + 1, end_frame=20 * 60 * 40000\n",
    ")\n",
    "SortingKS20 = SortingKS.frame_slice(\n",
    "    start_frame=10 * 60 * 40000 + 1, end_frame=20 * 60 * 40000\n",
    ")\n",
    "comp = comparison.compare_sorter_to_ground_truth(\n",
    "    SortingTrue20, SortingKS20, exhaustive_gt=True\n",
    ")\n",
    "acc_ks_20m = comp.agreement_scores.max(axis=1).sort_values(ascending=False).values\n",
    "\n",
    "\n",
    "# 30 min\n",
    "SortingTrue30 = SortingTrue.frame_slice(\n",
    "    start_frame=20 * 60 * 40000 + 1, end_frame=30 * 60 * 40000\n",
    ")\n",
    "SortingKS30 = SortingKS.frame_slice(\n",
    "    start_frame=20 * 60 * 40000 + 1, end_frame=30 * 60 * 40000\n",
    ")\n",
    "comp = comparison.compare_sorter_to_ground_truth(\n",
    "    SortingTrue30, SortingKS30, exhaustive_gt=True\n",
    ")\n",
    "acc_ks_30m = comp.agreement_scores.max(axis=1).sort_values(ascending=False).values\n",
    "\n",
    "# 40 min\n",
    "SortingTrue40 = SortingTrue.frame_slice(\n",
    "    start_frame=30 * 60 * 40000 + 1, end_frame=40 * 60 * 40000\n",
    ")\n",
    "SortingKS40 = SortingKS.frame_slice(\n",
    "    start_frame=30 * 60 * 40000 + 1, end_frame=40 * 60 * 40000\n",
    ")\n",
    "comp = comparison.compare_sorter_to_ground_truth(\n",
    "    SortingTrue40, SortingKS40, exhaustive_gt=True\n",
    ")\n",
    "acc_ks_40m = comp.agreement_scores.max(axis=1).sort_values(ascending=False).values"
   ]
  },
  {
   "cell_type": "code",
   "execution_count": 5,
   "metadata": {},
   "outputs": [
    {
     "name": "stdout",
     "output_type": "stream",
     "text": [
      "0.0792507204610951\n",
      "0.15273775216138327\n",
      "0.12319884726224783\n",
      "0.07564841498559077\n"
     ]
    }
   ],
   "source": [
    "print(sum(acc_ks_10m >= 0.8) / acc_ks_10m.shape[0])\n",
    "print(sum(acc_ks_20m >= 0.8) / acc_ks_20m.shape[0])\n",
    "print(sum(acc_ks_30m >= 0.8) / acc_ks_30m.shape[0])\n",
    "print(sum(acc_ks_40m >= 0.8) / acc_ks_40m.shape[0])"
   ]
  },
  {
   "cell_type": "markdown",
   "metadata": {},
   "source": [
    "### Overlapping over simulations"
   ]
  },
  {
   "cell_type": "code",
   "execution_count": 13,
   "metadata": {},
   "outputs": [],
   "source": [
    "# full\n",
    "SortingTrue = si.load_extractor(GT_SORTING_PATH_marques)\n",
    "SortingKS = si.load_extractor(KS_SORTING_PATH_marques)\n",
    "\n",
    "# 10 min\n",
    "SortingTrue10 = SortingTrue.frame_slice(\n",
    "    start_frame=5 * 60 * 40000, end_frame=15 * 60 * 40000\n",
    ")\n",
    "SortingKS10 = SortingKS.frame_slice(\n",
    "    start_frame=5 * 60 * 40000, end_frame=15 * 60 * 40000\n",
    ")\n",
    "comp = comparison.compare_sorter_to_ground_truth(\n",
    "    SortingTrue10, SortingKS10, exhaustive_gt=True\n",
    ")\n",
    "acc_ks_10m = comp.agreement_scores.max(axis=1).sort_values(ascending=False).values\n",
    "\n",
    "# 20 min\n",
    "SortingTrue20 = SortingTrue.frame_slice(\n",
    "    start_frame=15 * 60 * 40000 + 1, end_frame=25 * 60 * 40000\n",
    ")\n",
    "SortingKS20 = SortingKS.frame_slice(\n",
    "    start_frame=15 * 60 * 40000 + 1, end_frame=25 * 60 * 40000\n",
    ")\n",
    "comp = comparison.compare_sorter_to_ground_truth(\n",
    "    SortingTrue20, SortingKS20, exhaustive_gt=True\n",
    ")\n",
    "acc_ks_20m = comp.agreement_scores.max(axis=1).sort_values(ascending=False).values\n",
    "\n",
    "\n",
    "# 30 min\n",
    "SortingTrue30 = SortingTrue.frame_slice(\n",
    "    start_frame=25 * 60 * 40000 + 1, end_frame=35 * 60 * 40000\n",
    ")\n",
    "SortingKS30 = SortingKS.frame_slice(\n",
    "    start_frame=25 * 60 * 40000 + 1, end_frame=35 * 60 * 40000\n",
    ")\n",
    "comp = comparison.compare_sorter_to_ground_truth(\n",
    "    SortingTrue30, SortingKS30, exhaustive_gt=True\n",
    ")\n",
    "acc_ks_30m = comp.agreement_scores.max(axis=1).sort_values(ascending=False).values"
   ]
  },
  {
   "cell_type": "code",
   "execution_count": 14,
   "metadata": {},
   "outputs": [
    {
     "name": "stdout",
     "output_type": "stream",
     "text": [
      "0.13544668587896252\n",
      "0.14481268011527376\n",
      "0.0792507204610951\n"
     ]
    }
   ],
   "source": [
    "print(sum(acc_ks_10m >= 0.8) / acc_ks_10m.shape[0])\n",
    "print(sum(acc_ks_20m >= 0.8) / acc_ks_20m.shape[0])\n",
    "print(sum(acc_ks_30m >= 0.8) / acc_ks_30m.shape[0])"
   ]
  },
  {
   "cell_type": "markdown",
   "metadata": {},
   "source": [
    "### First and second half"
   ]
  },
  {
   "cell_type": "code",
   "execution_count": 17,
   "metadata": {},
   "outputs": [
    {
     "name": "stderr",
     "output_type": "stream",
     "text": [
      "/gpfs/bbp.cscs.ch/project/proj85/scratch/laquitai/4_preprint_2023/envs/spikinterf0_100_5/lib/python3.9/site-packages/spikeinterface/core/base.py:1079: UserWarning: Versions are not the same. This might lead to compatibility errors. Using spikeinterface==0.96.1 is recommended\n",
      "  warnings.warn(\n"
     ]
    }
   ],
   "source": [
    "# full\n",
    "SortingTrue = si.load_extractor(GT_SORTING_PATH_marques)\n",
    "SortingKS = si.load_extractor(KS_SORTING_PATH_marques)\n",
    "\n",
    "# first min\n",
    "SortingTrue10 = SortingTrue.frame_slice(start_frame=0, end_frame=20 * 60 * 40000)\n",
    "SortingKS10 = SortingKS.frame_slice(start_frame=0, end_frame=20 * 60 * 40000)\n",
    "comp = comparison.compare_sorter_to_ground_truth(\n",
    "    SortingTrue10, SortingKS10, exhaustive_gt=True\n",
    ")\n",
    "acc_ks_10m = comp.agreement_scores.max(axis=1).sort_values(ascending=False).values\n",
    "\n",
    "# 20 min\n",
    "SortingTrue20 = SortingTrue.frame_slice(\n",
    "    start_frame=20 * 60 * 40000 + 1, end_frame=40 * 60 * 40000\n",
    ")\n",
    "SortingKS20 = SortingKS.frame_slice(\n",
    "    start_frame=20 * 60 * 40000 + 1, end_frame=40 * 60 * 40000\n",
    ")\n",
    "comp = comparison.compare_sorter_to_ground_truth(\n",
    "    SortingTrue20, SortingKS20, exhaustive_gt=True\n",
    ")\n",
    "acc_ks_20m = comp.agreement_scores.max(axis=1).sort_values(ascending=False).values"
   ]
  },
  {
   "cell_type": "code",
   "execution_count": 18,
   "metadata": {},
   "outputs": [
    {
     "name": "stdout",
     "output_type": "stream",
     "text": [
      "0.08213256484149856\n",
      "0.0792507204610951\n"
     ]
    }
   ],
   "source": [
    "print(sum(acc_ks_10m >= 0.8) / acc_ks_10m.shape[0])\n",
    "print(sum(acc_ks_20m >= 0.8) / acc_ks_20m.shape[0])"
   ]
  },
  {
   "cell_type": "markdown",
   "metadata": {},
   "source": [
    "### Full"
   ]
  },
  {
   "cell_type": "code",
   "execution_count": 38,
   "metadata": {},
   "outputs": [
    {
     "name": "stderr",
     "output_type": "stream",
     "text": [
      "/gpfs/bbp.cscs.ch/project/proj85/scratch/laquitai/4_preprint_2023/envs/spikinterf0_100_5/lib/python3.9/site-packages/spikeinterface/core/base.py:1079: UserWarning: Versions are not the same. This might lead to compatibility errors. Using spikeinterface==0.96.1 is recommended\n",
      "  warnings.warn(\n"
     ]
    }
   ],
   "source": [
    "# full\n",
    "SortingTrue = si.load_extractor(GT_SORTING_PATH_marques)\n",
    "SortingKS = si.load_extractor(KS_SORTING_PATH_marques)\n",
    "\n",
    "#\n",
    "SortingTrue = SortingTrue.frame_slice(start_frame=0, end_frame=40 * 60 * 40000)\n",
    "SortingKS = SortingKS.frame_slice(start_frame=0, end_frame=40 * 60 * 40000)\n",
    "comp = comparison.compare_sorter_to_ground_truth(\n",
    "    SortingTrue, SortingKS, exhaustive_gt=True\n",
    ")\n",
    "acc_ks_m = comp.agreement_scores.max(axis=1).sort_values(ascending=False).values"
   ]
  },
  {
   "cell_type": "code",
   "execution_count": 48,
   "metadata": {},
   "outputs": [
    {
     "name": "stdout",
     "output_type": "stream",
     "text": [
      "0.00792507204610951\n"
     ]
    }
   ],
   "source": [
    "print(sum(acc_ks_m >= 0.8) / acc_ks_m.shape[0])"
   ]
  },
  {
   "cell_type": "code",
   "execution_count": 52,
   "metadata": {},
   "outputs": [
    {
     "name": "stdout",
     "output_type": "stream",
     "text": [
      "last spike sample: 82319846\n",
      "last recording sample: 82319958\n"
     ]
    }
   ],
   "source": [
    "# check that SortingTrue has timestamps covering the duration of the recording\n",
    "print(\"last spike sample:\", SortingTrue.to_spike_vector()[-1][0])\n",
    "Rec = si.load_extractor(PREP_PATH_M)\n",
    "print(\"last recording sample:\", len(Rec.get_traces()))"
   ]
  }
 ],
 "metadata": {
  "kernelspec": {
   "display_name": "env_kilosort_silico",
   "language": "python",
   "name": "python3"
  },
  "language_info": {
   "codemirror_mode": {
    "name": "ipython",
    "version": 3
   },
   "file_extension": ".py",
   "mimetype": "text/x-python",
   "name": "python",
   "nbconvert_exporter": "python",
   "pygments_lexer": "ipython3",
   "version": "3.9.7"
  },
  "orig_nbformat": 4
 },
 "nbformat": 4,
 "nbformat_minor": 2
}
