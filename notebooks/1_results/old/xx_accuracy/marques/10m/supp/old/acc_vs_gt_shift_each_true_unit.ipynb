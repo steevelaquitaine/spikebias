{
 "cells": [
  {
   "attachments": {},
   "cell_type": "markdown",
   "metadata": {},
   "source": [
    "# Accuracy vs. GT shift\n",
    "\n",
    "author: steeve.laquitaine@epfl.ch\n",
    "\n",
    "purpose: find the true spikes timestamp shift that maximizes overall sorting accuracy.\n",
    "\n",
    "rationale: the simulator timestamps spikes (when voltage reaches (-10uV) and the spike sorter might be timestamping spike at a different location.\n",
    "\n",
    "Methods:\n",
    "\n",
    "1. For each ground truth unit, shift its spikes timestamp by a constant shift, calculate its agreement score with each sorted unit, select the max agreement score over sorted units as the ground truth unit's sorting accuracy.\n",
    "\n",
    "2. Repeat for all ground truth units.\n",
    "\n",
    "3. Calculate overall sorting accuracy as the proportion of ground truth units with an agreement score >= 0.8.\n",
    "\n",
    "* detailed analysis\n",
    "\n",
    "* For a given ground truth unit:\n",
    "    * For a given value of delta t:\n",
    "        * Calculate the agreement score between the ground truth unit and all sorted units, after shifting their times by a constant delta t Find the sorted unit with the highest agreement score. Note what that agreement score is. Note which sorted unit it is obtained by.\n",
    "\n",
    "    * Then plot delta t vs. highest agreement score obtained for 10 to 100 ground truth units. Do the scores peak for a specific delta t? Is that delta t consistent between units? At what points does it shift from one sorted unit being the best match to another? Also interesting: What is the expected value of the max. agreement score for very large values of delta t. That can serve as a control for determining the \"chance level\" agreement score"
   ]
  },
  {
   "cell_type": "markdown",
   "metadata": {},
   "source": [
    "## Setup\n",
    "\n",
    "activate spikeinterf..."
   ]
  },
  {
   "cell_type": "code",
   "execution_count": 5,
   "metadata": {},
   "outputs": [
    {
     "name": "stdout",
     "output_type": "stream",
     "text": [
      "The autoreload extension is already loaded. To reload it, use:\n",
      "  %reload_ext autoreload\n",
      "2024-06-11 09:49:33,168 - root - utils.py - get_config - INFO - Reading experiment config.\n",
      "2024-06-11 09:49:33,244 - root - utils.py - get_config - INFO - Reading experiment config. - done\n"
     ]
    }
   ],
   "source": [
    "# SETUP PACKAGES \n",
    "%load_ext autoreload\n",
    "%autoreload 2\n",
    "import os\n",
    "import numpy as np\n",
    "from matplotlib import pyplot as plt\n",
    "import warnings\n",
    "warnings.simplefilter(action='ignore', category=FutureWarning)\n",
    "\n",
    "# SET PROJECT PATH\n",
    "PROJ_PATH = \"/gpfs/bbp.cscs.ch/project/proj85/home/laquitai/preprint_2023\"\n",
    "os.chdir(PROJ_PATH)\n",
    "from src.nodes.utils import get_config\n",
    "import spikeinterface as si \n",
    "from spikeinterface.comparison import compare_sorter_to_ground_truth as comp\n",
    "\n",
    "# SILICO MARQUES\n",
    "data_conf_marques, _ = get_config(\"silico_neuropixels\", \"concatenated\").values()\n",
    "GT_PATH = data_conf_marques[\"sorting\"][\"simulation\"][\"ground_truth\"][\"output\"]\n",
    "SFREQ = 40000\n",
    "\n",
    "# SORTINGS\n",
    "\n",
    "# kilosort 3.0\n",
    "S_PATH = data_conf_marques[\"sorting\"][\"sorters\"][\"kilosort3\"][\"10m\"][\"output_buttw_noise_fitd\"]"
   ]
  },
  {
   "attachments": {},
   "cell_type": "markdown",
   "metadata": {},
   "source": [
    "### (1m) Unit accuracies\n",
    "\n",
    "first 10 minutes of the recordings"
   ]
  },
  {
   "cell_type": "code",
   "execution_count": 57,
   "metadata": {},
   "outputs": [],
   "source": [
    "def get_shift_in_samples(shift_microsec: float, sfreq: int):\n",
    "\n",
    "    # sampling time unit\n",
    "    sampling_timestep = 1 / sfreq * 1000000\n",
    "\n",
    "    # do not shift, if the input shift is the sampling timestep\n",
    "    if np.absolute(shift_microsec) < sampling_timestep:\n",
    "        samples = 0\n",
    "        print(\n",
    "            f\"Spike train was not shifted, the shift {shift_microsec} < sampling timestep {sampling_timestep}\"\n",
    "        )\n",
    "    else:\n",
    "        # convert shift from microseconds to samples\n",
    "        us0_1 = 1 * sfreq / 1000000  # nb of samples for 0.1ms\n",
    "        samples = shift_microsec * us0_1\n",
    "    return int(samples)\n",
    "\n",
    "\n",
    "def acc_for_shift(\n",
    "    TrueUnit, Sorted, true_unit_id, shift_microsec, delta_time, sfreq, verbose: bool\n",
    "):\n",
    "\n",
    "    # convert shift to nb of samples\n",
    "    shift_smp = get_shift_in_samples(shift_microsec, sfreq)\n",
    "\n",
    "    # 1. shift the true unit spike train\n",
    "    unit_peak_shifts = {true_unit_id: shift_smp}\n",
    "    TrueUShifted = si.postprocessing.align_sorting(TrueUnit, unit_peak_shifts)\n",
    "\n",
    "    # 2. agreement score b/w the true and all sorted units\n",
    "    CompObj = comp(\n",
    "        TrueUShifted,\n",
    "        Sorted,\n",
    "        exhaustive_gt=True,\n",
    "        delta_time=delta_time,\n",
    "    )\n",
    "    unit_acs = CompObj.agreement_scores\n",
    "\n",
    "    # find true unit accuracy (max ag. score)\n",
    "    # check whether many sorted units are equal matches\n",
    "    unit_acs_arr = unit_acs.values.squeeze()\n",
    "    true_u_acc = unit_acs_arr.max()\n",
    "    argsmax = np.where(unit_acs_arr == true_u_acc)[0]\n",
    "\n",
    "    # number of matched sorted units\n",
    "    matchs = unit_acs.columns[argsmax].values.tolist()\n",
    "\n",
    "    # log\n",
    "    if verbose:\n",
    "        print(\"shift:\", shift_smp, \"samples\")\n",
    "        print(\"nb equally matched sorted units:\", len(argsmax))\n",
    "        print(\"true unit accuracy:\", true_u_acc)\n",
    "\n",
    "    return {\n",
    "        \"true_unit_ac\": true_u_acc,\n",
    "        \"matchs\": matchs,\n",
    "        \"unit_acs\": unit_acs,\n",
    "    }\n",
    "\n",
    "\n",
    "def get_detailed_acc_data_by_shift(\n",
    "    TrueUnit, Sorted, true_unit_id, delta_time, sfreq, shift_set, verbose\n",
    "):\n",
    "    data = []\n",
    "    accs = []\n",
    "    matchs = []\n",
    "    n_matchs = []\n",
    "\n",
    "    for s_i in shift_set:\n",
    "        out = acc_for_shift(\n",
    "            TrueUnit, Sorted, true_unit_id, s_i, delta_time, sfreq, verbose=verbose\n",
    "        )\n",
    "        data.append(out)\n",
    "        accs.append(out[\"true_unit_ac\"])\n",
    "        matchs.append(out[\"matchs\"])\n",
    "        n_matchs.append(len(out[\"matchs\"]))\n",
    "    return {\"accs\": accs, \"matchs\": matchs, \"n_matchs\": n_matchs, \"data\": outs}\n",
    "\n",
    "\n",
    "def get_true_unit_max_acc_data(accuracies, shift_set: np.array, matchs):\n",
    "    \"\"\"find the max accuracy, the shift(s) and sorted units that produced it\"\"\"\n",
    "    max_a = max(accuracies)\n",
    "    acc_argmax = np.where(accuracies == max_a)[0]\n",
    "    shifts = shift_set[acc_argmax]\n",
    "    sorted_matchs = np.array(matchs)[acc_argmax]\n",
    "    return {\n",
    "        \"max_acc\": max_a,\n",
    "        \"shifts_with_max_acc\": shifts,\n",
    "        \"matchs_with_max_acc\": sorted_matchs,\n",
    "    }"
   ]
  },
  {
   "cell_type": "markdown",
   "metadata": {},
   "source": [
    "### Load dataset"
   ]
  },
  {
   "cell_type": "code",
   "execution_count": 59,
   "metadata": {},
   "outputs": [
    {
     "name": "stderr",
     "output_type": "stream",
     "text": [
      "/gpfs/bbp.cscs.ch/project/proj85/scratch/laquitai/4_preprint_2023/envs/spikinterf0_100_5/lib/python3.9/site-packages/spikeinterface/core/base.py:1079: UserWarning: Versions are not the same. This might lead to compatibility errors. Using spikeinterface==0.96.1 is recommended\n",
      "  warnings.warn(\n"
     ]
    }
   ],
   "source": [
    "# select first 10 minutes to match traces\n",
    "GTrue = si.load_extractor(GT_PATH).frame_slice(start_frame=0, end_frame=10 * 60 * SFREQ)\n",
    "Sorted = si.load_extractor(S_PATH).frame_slice(start_frame=0, end_frame=10 * 60 * SFREQ)\n",
    "\n",
    "# 0. select a true unit (SortingExtractor)\n",
    "u_ix = 2\n",
    "true_unit_id = GTrue.unit_ids[u_ix]\n",
    "TrueUnit = GTrue.select_units([true_unit_id])"
   ]
  },
  {
   "cell_type": "markdown",
   "metadata": {},
   "source": [
    "### Parameters"
   ]
  },
  {
   "cell_type": "code",
   "execution_count": 60,
   "metadata": {},
   "outputs": [],
   "source": [
    "# set parameters\n",
    "shift_set = np.arange(\n",
    "    -1000, 1000, 100\n",
    ")  # in microseconds (0 produces original spike train; for 40 Khz should be > 1/40,000)\n",
    "\n",
    "DELTA_TIME = 0.6"
   ]
  },
  {
   "cell_type": "markdown",
   "metadata": {},
   "source": [
    "* si.postprocessing.align_sorting shifts a spike train timestamps by a constant offset sample, SHIFT (>0 / <0 subtracts/adds SHIFT to the original timestamps)."
   ]
  },
  {
   "cell_type": "markdown",
   "metadata": {},
   "source": [
    "* note: for a true unit could 5 shifts could produce the same max accuracy of 0.4285: (-500, -400, -300, -200, -100, 0,  100,  200,  300). Each shift could produce several best sorted unit match. In that example, each shift produced one best sorted match only. "
   ]
  },
  {
   "cell_type": "code",
   "execution_count": 61,
   "metadata": {},
   "outputs": [
    {
     "name": "stdout",
     "output_type": "stream",
     "text": [
      "Spike train was not shifted, the shift 0 < sampling timestep 25.0\n"
     ]
    },
    {
     "data": {
      "text/plain": [
       "{'max_acc': 0.25675675675675674,\n",
       " 'shifts_with_max_acc': array([-600, -500, -400, -300, -200, -100,    0]),\n",
       " 'matchs_with_max_acc': array([[1065],\n",
       "        [1065],\n",
       "        [1065],\n",
       "        [1065],\n",
       "        [1065],\n",
       "        [1065],\n",
       "        [1065]])}"
      ]
     },
     "execution_count": 61,
     "metadata": {},
     "output_type": "execute_result"
    }
   ],
   "source": [
    "# get detailed accuracy data for all the shifts\n",
    "shift_data = get_detailed_acc_data_by_shift(\n",
    "    TrueUnit, Sorted, true_unit_id, DELTA_TIME, SFREQ, shift_set, verbose=False\n",
    ")\n",
    "\n",
    "# get accuracy data for best sorted unit matches and best shifts\n",
    "accs_data = get_true_unit_max_acc_data(\n",
    "    shift_data[\"accs\"], shift_set, shift_data[\"matchs\"]\n",
    ")\n",
    "accs_data"
   ]
  },
  {
   "cell_type": "code",
   "execution_count": 62,
   "metadata": {},
   "outputs": [
    {
     "name": "stdout",
     "output_type": "stream",
     "text": [
      "[0.010638297872340425, 0.05084745762711865, 0.11377245508982035, 0.18471337579617833, 0.25675675675675674, 0.25675675675675674, 0.25675675675675674, 0.25675675675675674, 0.25675675675675674, 0.25675675675675674, 0.25675675675675674, 0.2483221476510067, 0.24, 0.16981132075471697, 0.10059171597633136, 0.03910614525139665, 0.00684931506849315, 0.00684931506849315, 0.00684931506849315, 0.00684931506849315]\n",
      "nb of matched sorted units per shift: [1, 1, 1, 1, 1, 1, 1, 1, 1, 1, 1, 1, 1, 1, 1, 1, 1, 1, 1, 1]\n",
      "matched sorted unit id per shift: [[1079], [1065], [1065], [1065], [1065], [1065], [1065], [1065], [1065], [1065], [1065], [1065], [1065], [1065], [1065], [1065], [962], [962], [962], [962]]\n"
     ]
    },
    {
     "data": {
      "image/png": "[encoded data removed]",
      "text/plain": [
       "<Figure size 640x480 with 1 Axes>"
      ]
     },
     "metadata": {},
     "output_type": "display_data"
    }
   ],
   "source": [
    "print(shift_data[\"accs\"])\n",
    "plt.plot(shift_set / 1000, shift_data[\"accs\"])\n",
    "plt.xlabel(\"Shift (ms)\")\n",
    "plt.ylabel(\"Accuracy (ratio)\")\n",
    "plt.title(f\"True unit {true_unit_id}\")\n",
    "print(\"nb of matched sorted units per shift:\", shift_data[\"n_matchs\"])\n",
    "print(\"matched sorted unit id per shift:\", shift_data[\"matchs\"])"
   ]
  },
  {
   "cell_type": "markdown",
   "metadata": {},
   "source": [
    "0.048, 0.06, 0.08, 0.09, 0.10"
   ]
  },
  {
   "cell_type": "markdown",
   "metadata": {},
   "source": [
    "# References\n",
    "\n",
    "https://spikeinterface.readthedocs.io/en/0.100.5/modules/comparison.html?highlight=comparison\n",
    "\n",
    "https://spikeinterface.readthedocs.io/en/0.100.5/api.html?highlight=delta_time#spikeinterface.comparison.compare_two_sorters"
   ]
  }
 ],
 "metadata": {
  "kernelspec": {
   "display_name": "env_kilosort_silico",
   "language": "python",
   "name": "python3"
  },
  "language_info": {
   "codemirror_mode": {
    "name": "ipython",
    "version": 3
   },
   "file_extension": ".py",
   "mimetype": "text/x-python",
   "name": "python",
   "nbconvert_exporter": "python",
   "pygments_lexer": "ipython3",
   "version": "3.9.7"
  },
  "orig_nbformat": 4
 },
 "nbformat": 4,
 "nbformat_minor": 2
}
