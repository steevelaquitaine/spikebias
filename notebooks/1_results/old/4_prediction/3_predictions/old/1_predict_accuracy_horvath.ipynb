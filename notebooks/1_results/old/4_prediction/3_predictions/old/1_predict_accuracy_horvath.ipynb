{
 "cells": [
  {
   "cell_type": "markdown",
   "metadata": {},
   "source": [
    "# Predict accuracy"
   ]
  },
  {
   "cell_type": "markdown",
   "metadata": {},
   "source": [
    "### Setup\n",
    "\n",
    "activate npx"
   ]
  },
  {
   "cell_type": "code",
   "execution_count": 3,
   "metadata": {},
   "outputs": [
    {
     "name": "stdout",
     "output_type": "stream",
     "text": [
      "2023-11-06 17:55:41,169 - root - utils.py - get_config - INFO - Reading experiment config.\n",
      "2023-11-06 17:55:41,202 - root - utils.py - get_config - INFO - Reading experiment config. - done\n",
      "2023-11-06 17:55:41,203 - root - utils.py - get_config - INFO - Reading experiment config.\n",
      "2023-11-06 17:55:41,217 - root - utils.py - get_config - INFO - Reading experiment config. - done\n",
      "2023-11-06 17:55:41,218 - root - utils.py - get_config - INFO - Reading experiment config.\n",
      "2023-11-06 17:55:41,238 - root - utils.py - get_config - INFO - Reading experiment config. - done\n"
     ]
    }
   ],
   "source": [
    "%load_ext autoreload\n",
    "%autoreload 2\n",
    "import os\n",
    "import spikeinterface as si\n",
    "\n",
    "PROJ_PATH = \"/gpfs/bbp.cscs.ch/project/proj68/home/laquitai/sfn_2023\"\n",
    "os.chdir(PROJ_PATH)\n",
    "\n",
    "from src.nodes.utils import get_config\n",
    "\n",
    "EXPERIMENT = \"silico_horvath\"\n",
    "DATE = \"probe_1\"\n",
    "data_conf, _ = get_config(EXPERIMENT, DATE).values()\n",
    "SORTING_PATH_1 = data_conf[\"sorting\"][\"sorters\"][\"kilosort3\"][\"output\"]\n",
    "GT_SORTING_PATH_1 = data_conf[\"sorting\"][\"simulation\"][\"ground_truth\"][\"output\"]\n",
    "RECORDING_PATH_1 = data_conf[\"probe_wiring\"][\"input\"]\n",
    "BLUECONFIG_PATH_1 = data_conf[\"dataeng\"][\"blueconfig\"]\n",
    "\n",
    "DATE = \"probe_2\"\n",
    "data_conf, _ = get_config(EXPERIMENT, DATE).values()\n",
    "SORTING_PATH_2 = data_conf[\"sorting\"][\"sorters\"][\"kilosort3\"][\"output\"]\n",
    "GT_SORTING_PATH_2 = data_conf[\"sorting\"][\"simulation\"][\"ground_truth\"][\"output\"]\n",
    "RECORDING_PATH_2 = data_conf[\"probe_wiring\"][\"input\"]\n",
    "BLUECONFIG_PATH_2 = data_conf[\"dataeng\"][\"blueconfig\"]\n",
    "\n",
    "DATE = \"probe_3\"\n",
    "data_conf, _ = get_config(EXPERIMENT, DATE).values()\n",
    "SORTING_PATH_3 = data_conf[\"sorting\"][\"sorters\"][\"kilosort3\"][\"output\"]\n",
    "GT_SORTING_PATH_3 = data_conf[\"sorting\"][\"simulation\"][\"ground_truth\"][\"output\"]\n",
    "RECORDING_PATH_3 = data_conf[\"probe_wiring\"][\"input\"]\n",
    "BLUECONFIG_PATH_3 = data_conf[\"dataeng\"][\"blueconfig\"]"
   ]
  },
  {
   "cell_type": "code",
   "execution_count": 5,
   "metadata": {},
   "outputs": [
    {
     "data": {
      "text/plain": [
       "array([0.05442177, 0.00290698, 0.13461538, 0.17037037, 0.84482759,\n",
       "       0.85714286, 0.36956522, 0.58064516, 0.05426357, 0.09615385,\n",
       "       0.01904762, 0.06965174, 0.03100775, 0.01612903, 0.04666667,\n",
       "       0.00854701, 0.10404624, 0.        , 0.20472441, 0.3125    ,\n",
       "       0.00534759, 0.1125    , 0.04098361, 0.00265957, 0.00952381,\n",
       "       0.06930693, 0.0027027 , 0.00900901, 0.11428571, 0.15384615,\n",
       "       0.03418803, 0.0483871 , 0.02531646, 0.13333333, 1.        ,\n",
       "       0.01840491, 0.01242236, 0.01290323, 0.14204545, 0.08823529,\n",
       "       0.69230769, 0.00719424, 0.00632911, 0.16981132, 0.04950495,\n",
       "       0.056     , 0.04310345, 0.64166667, 0.02150538, 0.03333333,\n",
       "       0.06862745, 0.00847458, 0.03937008, 0.064     , 0.00869565,\n",
       "       0.02884615, 0.02469136, 0.16      , 0.01360544, 0.01219512,\n",
       "       0.0201005 , 0.02205882, 0.16666667, 0.06896552, 0.15079365,\n",
       "       0.13043478, 0.02325581, 0.04444444, 0.00312012, 0.07518797,\n",
       "       0.136     , 0.01086957, 0.04032258, 0.09625668, 0.06779661,\n",
       "       0.05384615, 0.00150376, 0.00828729, 0.04310345, 0.00502513,\n",
       "       0.02912621, 0.00628931, 0.0104712 , 0.02857143, 0.00719424,\n",
       "       0.04666667, 0.06122449, 0.016     , 0.24242424, 0.01886792,\n",
       "       0.11229947, 0.01829268, 0.01724138, 0.02681992, 0.5877193 ,\n",
       "       0.0483871 , 0.00465271, 0.88283379, 0.83969466, 0.23529412,\n",
       "       0.00862069, 0.03225806, 0.13989637, 0.06862745, 0.01310044,\n",
       "       0.008     , 0.00900901, 0.8862069 , 0.08064516, 0.40163934,\n",
       "       0.08496732, 0.03547672, 0.13178295, 0.01081081, 0.00464396,\n",
       "       0.08823529, 0.03365385, 0.01456311, 0.10457516, 0.04891304,\n",
       "       0.0020202 , 0.04123711, 0.02325581, 0.85067873, 0.06666667,\n",
       "       0.90465872, 0.00862069, 0.13930348, 0.04195804, 0.13953488,\n",
       "       0.07446809, 0.02380952, 0.86227545, 0.63636364, 0.27272727,\n",
       "       0.05357143, 0.06467662, 0.3125    , 0.21527778, 0.01550388,\n",
       "       0.50810811, 0.12068966, 0.05684755, 0.23770492, 0.5625    ,\n",
       "       0.06306306, 0.04273504, 0.36936937, 0.22794118, 0.05333333,\n",
       "       0.03925067, 0.51515152, 0.32051282, 0.29588015, 0.15966387,\n",
       "       0.11627907, 0.18018018, 0.35042735, 0.11486486, 0.01626016,\n",
       "       0.24516129, 0.02492212, 0.01459854, 0.20769231, 0.95075758,\n",
       "       0.73362445, 0.12192192, 0.02123894, 0.74130737, 0.92573754,\n",
       "       0.88383046, 0.51811196, 0.06923077, 0.05454545, 0.11377246,\n",
       "       0.        , 0.08910891, 0.29133858, 0.00990099, 0.04310345,\n",
       "       0.01265823, 0.04320988, 0.02608696, 0.14173228, 0.4214876 ,\n",
       "       0.03125   , 0.18954248, 0.05035971, 0.00358423, 0.07936508,\n",
       "       0.34453782, 0.07194245, 0.08870968, 0.1023622 , 0.31730769,\n",
       "       0.41525424, 0.0320781 , 0.07954545, 0.0259366 , 0.06930693,\n",
       "       0.14782609, 0.14728682, 0.03652968, 0.75      , 0.07305936,\n",
       "       0.03308824, 0.26229508, 0.25      , 0.00662252, 0.01445087,\n",
       "       0.3490566 , 0.06329114, 0.27179487, 0.4245283 , 0.09090909,\n",
       "       0.15646259, 0.07042254, 0.19075145, 0.21705426, 0.00188679,\n",
       "       0.1015625 , 0.00961538, 0.32673267, 0.70909091, 0.03809524,\n",
       "       0.21167883, 0.0443038 , 0.09659091, 0.01123596, 0.00621118,\n",
       "       0.0821256 , 0.09259259, 0.00152905, 0.17322835, 0.00881057,\n",
       "       0.02564103, 0.06976744, 0.13157895, 0.06140351, 0.07142857,\n",
       "       0.05084746, 0.16551724, 0.1984127 , 0.06293706, 0.17241379,\n",
       "       0.05785124, 0.31034483, 0.04237288, 0.03508772, 0.03785489,\n",
       "       0.04958678, 0.20168067, 0.05833333, 0.2293578 , 0.05089059,\n",
       "       0.03875969, 0.17391304, 0.31690141, 0.05140187, 0.51824818,\n",
       "       0.03164557, 0.1754386 , 0.15909091, 0.4       , 0.13483146,\n",
       "       0.01398601, 0.04046243, 0.09166667, 0.01045296, 0.01333333,\n",
       "       0.07575758, 0.11904762])"
      ]
     },
     "execution_count": 5,
     "metadata": {},
     "output_type": "execute_result"
    }
   ],
   "source": [
    "# get sorting accuracy for each true unit\n",
    "# Sorting1 = si.load_extractor(GT_SORTING_PATH_1)\n",
    "\n",
    "# get all their properties\n",
    "# Sorting1.get_property(\"sorting_accuracy\")\n",
    "\n",
    "# SILICO\n",
    "silico_paths = [GT_SORTING_PATH_1, GT_SORTING_PATH_2, GT_SORTING_PATH_3]\n",
    "\n",
    "firing_rate_all = []\n",
    "layer_all = []\n",
    "depth_all = []\n",
    "unit_id_all = []\n",
    "KSLabel_all = []\n",
    "amplitude_all = []\n",
    "false_positives_all = []\n",
    "\n",
    "for ix, sorted_path in enumerate(silico_paths):\n",
    "    Sorting = si.load_extractor(sorted_path)\n",
    "    # record\n",
    "    unit_id_all += Sorting.unit_ids.tolist()\n",
    "    firing_rate_all += Sorting.get_property(\"firing_rates\").astype(np.float32).tolist()\n",
    "    layer_all += Sorting.get_property(\"layer\").tolist()\n",
    "    KSLabel_all += Sorting.get_property(\"KSLabel\").tolist()\n",
    "    amplitude_all += Sorting.get_property(\"Amplitude\").tolist()\n",
    "    false_positives_all += Sorting.get_property(\"false_positives\").tolist()\n",
    "    depth_all += len(Sorting.unit_ids) * [ix + 1]\n",
    "\n",
    "\n",
    "# store in dataframe\n",
    "df_silico = pd.DataFrame(\n",
    "    np.array(\n",
    "        [\n",
    "            depth_all,\n",
    "            layer_all,\n",
    "            firing_rate_all,\n",
    "            KSLabel_all,\n",
    "            amplitude_all,\n",
    "            false_positives_all,\n",
    "        ]\n",
    "    ).T,\n",
    "    index=unit_id_all,\n",
    "    columns=[\n",
    "        \"depth\",\n",
    "        \"layer\",\n",
    "        \"firing_rate\",\n",
    "        \"kslabel\",\n",
    "        \"amplitude\",\n",
    "        \"false_positives\",\n",
    "    ],\n",
    ")\n",
    "\n",
    "# run logistic regression or regression tree"
   ]
  },
  {
   "cell_type": "code",
   "execution_count": null,
   "metadata": {},
   "outputs": [],
   "source": []
  }
 ],
 "metadata": {
  "kernelspec": {
   "display_name": "npx_10m_384ch_unit_classes",
   "language": "python",
   "name": "python3"
  },
  "language_info": {
   "codemirror_mode": {
    "name": "ipython",
    "version": 3
   },
   "file_extension": ".py",
   "mimetype": "text/x-python",
   "name": "python",
   "nbconvert_exporter": "python",
   "pygments_lexer": "ipython3",
   "version": "3.9.7"
  }
 },
 "nbformat": 4,
 "nbformat_minor": 2
}
