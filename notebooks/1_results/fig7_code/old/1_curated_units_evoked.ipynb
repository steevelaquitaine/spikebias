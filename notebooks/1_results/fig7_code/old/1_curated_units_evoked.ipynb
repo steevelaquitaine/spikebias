{
 "cells": [
  {
   "cell_type": "code",
   "execution_count": 5,
   "metadata": {},
   "outputs": [
    {
     "name": "stdout",
     "output_type": "stream",
     "text": [
      "The autoreload extension is already loaded. To reload it, use:\n",
      "  %reload_ext autoreload\n",
      "2024-10-04 10:41:42,699 - root - utils.py - get_config - INFO - Reading experiment config.\n",
      "2024-10-04 10:41:42,793 - root - utils.py - get_config - INFO - Reading experiment config. - done\n"
     ]
    }
   ],
   "source": [
    "%load_ext autoreload\n",
    "%autoreload 2\n",
    "import os\n",
    "import torch\n",
    "import numpy as np\n",
    "from matplotlib import pyplot as plt\n",
    "import sklearn\n",
    "import pandas as pd\n",
    "from statsmodels.iolib.smpickle import load_pickle\n",
    "\n",
    "# set project path\n",
    "proj_path = \"/gpfs/bbp.cscs.ch/project/proj85/home/laquitai/spikebias/\"\n",
    "os.chdir(proj_path)\n",
    "\n",
    "from src.nodes.utils import get_config\n",
    "from src.nodes import utils \n",
    "from src.nodes.models.Flc import dataloader as flc_dataloader\n",
    "from src.nodes.models.Flc.models import FlcModel # FLC model\n",
    "from src.nodes.models.CebraSpike.models import CebraSpike # FLC model\n",
    "from src.nodes.models.CebraSpike import plotutils\n",
    "\n",
    "# npx spont. biophy.\n",
    "cfg_e, _ = get_config(\"silico_neuropixels\", \"stimulus\").values()\n",
    "KS4_e = cfg_e[\"sorting\"][\"sorters\"][\"kilosort4\"][\"full\"][\n",
    "    \"output\"\n",
    "]  # sorting with KS4\n",
    "GT_e = cfg_e[\"sorting\"][\"simulation\"][\"ground_truth\"][\"full\"][\"output\"] # KS4 sorting\n",
    "STUDY_e = cfg_e[\"postprocessing\"][\"waveform\"][\"sorted\"][\"study\"][\"kilosort4\"][\n",
    "    \"full\"\n",
    "]  # WaveformExtractor\n",
    "STUDY_e_su = '/gpfs/bbp.cscs.ch/project/proj85/laquitai/spikebias_paper/postprocessing/biophy/4_spikesorting_stimulus_test_neuropixels_8-1-24__8slc_80f_360r_50t_200ms_1_smallest_fiber_gids/sorted/study_ks4_full_single_units'\n",
    "\n",
    "# PATHS\n",
    "# pre-computed sorted unit quality\n",
    "quality_path = \"/gpfs/bbp.cscs.ch/project/proj85/laquitai/spikebias_paper/dataeng/0_silico/4_spikesorting_stimulus_test_neuropixels_8-1-24__8slc_80f_360r_50t_200ms_1_smallest_fiber_gids/0fcb7709-b1e9-4d84-b056-5801f20d55af/analysis/sorting_quality/sorting_quality_1h.csv\"\n",
    "\n",
    "# model save path\n",
    "model_path = \"/gpfs/bbp.cscs.ch/project/proj85/laquitai/spikebias_paper/analysis/sorting_quality/models/evoked/flc/model_on_full_10m_data.pickle\"\n",
    "\n",
    "# axes\n",
    "plt.rcParams[\"font.family\"] = \"Arial\"\n",
    "plt.rcParams[\"font.size\"] = 6  # 5-7 with Nature neuroscience as reference\n",
    "plt.rcParams[\"lines.linewidth\"] = 0.5 # typically between 0.5 and 1\n",
    "plt.rcParams[\"axes.linewidth\"] = 0.5 #1\n",
    "plt.rcParams[\"axes.spines.top\"] = False\n",
    "plt.rcParams[\"xtick.major.width\"] = 0.5 #0.8 #* 1.3\n",
    "plt.rcParams[\"xtick.minor.width\"] = 0.5 #0.8 #* 1.3\n",
    "plt.rcParams[\"ytick.major.width\"] = 0.5 #0.8 #* 1.3\n",
    "plt.rcParams[\"ytick.minor.width\"] = 0.5 #0.8 #* 1.3\n",
    "plt.rcParams[\"xtick.major.size\"] = 3.5 * 1.1\n",
    "plt.rcParams[\"xtick.minor.size\"] = 2 * 1.1\n",
    "plt.rcParams[\"ytick.major.size\"] = 3.5 * 1.1\n",
    "plt.rcParams[\"ytick.minor.size\"] = 2 * 1.1\n",
    "# legend\n",
    "legend_cfg = {\"frameon\": False, \"handletextpad\": 0.5}\n",
    "tight_layout_cfg = {\"pad\": 0.001}\n",
    "LG_FRAMEON = False              # no legend frame"
   ]
  },
  {
   "cell_type": "markdown",
   "metadata": {},
   "source": [
    "* 3 hours to recompute all data, else loading takes 2 minutes "
   ]
  },
  {
   "cell_type": "code",
   "execution_count": 7,
   "metadata": {},
   "outputs": [
    {
     "name": "stderr",
     "output_type": "stream",
     "text": [
      "/gpfs/bbp.cscs.ch/project/proj85/laquitai/spikebias_paper/envs/cebraspike3/lib/python3.9/site-packages/numpy/core/_methods.py:206: RuntimeWarning: Degrees of freedom <= 0 for slice\n",
      "  ret = _var(a, axis=axis, dtype=dtype, out=out, ddof=ddof,\n",
      "/gpfs/bbp.cscs.ch/project/proj85/laquitai/spikebias_paper/envs/cebraspike3/lib/python3.9/site-packages/numpy/core/_methods.py:163: RuntimeWarning: invalid value encountered in divide\n",
      "  arrmean = um.true_divide(arrmean, div, out=arrmean,\n",
      "/gpfs/bbp.cscs.ch/project/proj85/laquitai/spikebias_paper/envs/cebraspike3/lib/python3.9/site-packages/numpy/core/_methods.py:198: RuntimeWarning: invalid value encountered in divide\n",
      "  ret = ret.dtype.type(ret / rcount)\n"
     ]
    },
    {
     "data": {
      "application/vnd.jupyter.widget-view+json": {
       "model_id": "b5dbf2f53c0b42ffb653cffc2d1f9f3a",
       "version_major": 2,
       "version_minor": 0
      },
      "text/plain": [
       "  0%|          | 0/354 [00:00<?, ?it/s]"
      ]
     },
     "metadata": {},
     "output_type": "display_data"
    },
    {
     "name": "stdout",
     "output_type": "stream",
     "text": [
      "****************** Analysing data completion ***************\n",
      "Data completion: amplitude_cutoff        354\n",
      "firing_range            354\n",
      "firing_rate             354\n",
      "isi_violations_ratio    354\n",
      "presence_ratio          354\n",
      "rp_contamination        354\n",
      "rp_violations           354\n",
      "sd_ratio                354\n",
      "snr                     354\n",
      "silhouette              354\n",
      "dtype: int64\n",
      "quality metrics are: Index(['amplitude_cutoff', 'firing_range', 'firing_rate',\n",
      "       'isi_violations_ratio', 'presence_ratio', 'rp_contamination',\n",
      "       'rp_violations', 'sd_ratio', 'snr', 'silhouette'],\n",
      "      dtype='object')\n",
      "2024-10-04 14:32:08,287 - root - dataloader.py - load_dataset - INFO - CURATION ----------------------------\n",
      "2024-10-04 14:32:08,290 - root - dataloader.py - load_dataset - INFO - nb of units before filtering units with inf feature: 354\n",
      "2024-10-04 14:32:08,291 - root - dataloader.py - load_dataset - INFO - nb of units after: 354\n"
     ]
    }
   ],
   "source": [
    "LOAD_DATA = True\n",
    "\n",
    "# load model trained on first 10 minutes of\n",
    "# the evoked simulation\n",
    "model = load_pickle(model_path)\n",
    "\n",
    "# load the dataset formatted for the model\n",
    "if LOAD_DATA:\n",
    "    data_flc = flc_dataloader.load_dataset(\n",
    "        quality_path,\n",
    "        \"E\",\n",
    "        \"KS4\",\n",
    "        KS4_e,\n",
    "        STUDY_e,\n",
    "        STUDY_e_su,\n",
    "        GT_e,\n",
    "        load_we_if_exists=True,\n",
    "        load_amp_if_exists=True,\n",
    "    )"
   ]
  },
  {
   "cell_type": "code",
   "execution_count": null,
   "metadata": {},
   "outputs": [],
   "source": []
  }
 ],
 "metadata": {
  "kernelspec": {
   "display_name": "cebraspike3",
   "language": "python",
   "name": "python3"
  },
  "language_info": {
   "codemirror_mode": {
    "name": "ipython",
    "version": 3
   },
   "file_extension": ".py",
   "mimetype": "text/x-python",
   "name": "python",
   "nbconvert_exporter": "python",
   "pygments_lexer": "ipython3",
   "version": "3.9.7"
  }
 },
 "nbformat": 4,
 "nbformat_minor": 2
}
