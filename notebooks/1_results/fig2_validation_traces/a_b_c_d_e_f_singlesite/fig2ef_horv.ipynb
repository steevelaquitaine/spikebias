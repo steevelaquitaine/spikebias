{
 "cells": [
  {
   "attachments": {},
   "cell_type": "markdown",
   "metadata": {},
   "source": [
    "# Dense probe\n"
   ]
  },
  {
   "attachments": {},
   "cell_type": "markdown",
   "metadata": {},
   "source": [
    "### Setup\n",
    "\n",
    "Activate `spikinterf` venv"
   ]
  },
  {
   "cell_type": "code",
   "execution_count": 2,
   "metadata": {},
   "outputs": [
    {
     "name": "stdout",
     "output_type": "stream",
     "text": [
      "The autoreload extension is already loaded. To reload it, use:\n",
      "  %reload_ext autoreload\n",
      "2024-12-13 12:38:47,075 - root - utils.py - get_config - INFO - Reading experiment config.\n",
      "2024-12-13 12:38:47,098 - root - utils.py - get_config - INFO - Reading experiment config. - done\n",
      "2024-12-13 12:38:47,099 - root - utils.py - get_config - INFO - Reading experiment config.\n",
      "2024-12-13 12:38:47,131 - root - utils.py - get_config - INFO - Reading experiment config. - done\n"
     ]
    }
   ],
   "source": [
    "# SETUP PACKAGES\n",
    "%load_ext autoreload\n",
    "%autoreload 2\n",
    "import os\n",
    "import pandas as pd\n",
    "import numpy as np\n",
    "from matplotlib import pyplot as plt\n",
    "import spikeinterface as si\n",
    "import yaml \n",
    "\n",
    "import warnings\n",
    "warnings.simplefilter(action='ignore', category=FutureWarning)\n",
    "warnings.filterwarnings(\"ignore\")\n",
    "\n",
    "\n",
    "# SET PATHS\n",
    "PROJ_PATH = \"/gpfs/bbp.cscs.ch/project/proj85/home/laquitai/spikebias/\"\n",
    "\n",
    "os.chdir(PROJ_PATH)\n",
    "\n",
    "from src.nodes.utils import get_config\n",
    "from src.nodes.validation import noise\n",
    "\n",
    "# SETUP PARAMETERS\n",
    "DURATION = 1.01\n",
    "CHANNEL_IDS = [30]\n",
    "SF = 20000  # sampling frequency\n",
    "ID_PERIOD_SILI = 51  # 10, 7\n",
    "ID_PERIOD_VIVO = 0\n",
    "L5_SITE_SILI = 0\n",
    "L5_SITE_VIVO = 6\n",
    "\n",
    "# vivo\n",
    "data_conf_vivo, param_conf_h_vivo = get_config(\"vivo_horvath\", \"probe_2\").values() \n",
    "PREP_PATH_vivo = data_conf_vivo[\"preprocessing\"][\"full\"][\"output\"][\"trace_file_path\"]\n",
    "\n",
    "# silico\n",
    "data_conf_sili, param_conf_sili = get_config(\"dense_spont\", \"probe_2\").values()\n",
    "PREP_PATH_sili = data_conf_sili[\"preprocessing\"][\"full\"][\"output\"][\"trace_file_path\"]\n",
    "\n",
    "# figure parameters\n",
    "SAVE_FIG = False\n",
    "SAVE_FIG_DATA = False\n",
    "LOAD_FIG_DATA = True\n",
    "\n",
    "with open(\"./conf/figures.yml\", \"r\", encoding=\"utf-8\") as yaml_file:\n",
    "    fig_data_paths = yaml.load(yaml_file, Loader=yaml.FullLoader)\n",
    "\n",
    "\n",
    "# FIGURE SETTINGS\n",
    "FIG_SIZE = (0.9, 0.7)\n",
    "# colors\n",
    "COLOR_HV = [0.3, 0.3, 0.3]\n",
    "COLOR_HS = np.array([26, 152, 80]) / 255\n",
    "\n",
    "# axes\n",
    "plt.rcParams[\"font.family\"] = \"Arial\"\n",
    "plt.rcParams[\"font.size\"] = 6  # 5-7 with Nature neuroscience as reference\n",
    "plt.rcParams[\"lines.linewidth\"] = 0.5\n",
    "plt.rcParams[\"axes.linewidth\"] = 0.5 #1\n",
    "plt.rcParams[\"axes.spines.top\"] = False\n",
    "plt.rcParams[\"xtick.major.width\"] = 0.5 #0.8 #* 1.3\n",
    "plt.rcParams[\"xtick.minor.width\"] = 0.5 #0.8 #* 1.3\n",
    "plt.rcParams[\"ytick.major.width\"] = 0.5 #0.8 #* 1.3\n",
    "plt.rcParams[\"ytick.minor.width\"] = 0.5 #0.8 #* 1.3\n",
    "plt.rcParams[\"xtick.major.size\"] = 3.5 * 1.1\n",
    "plt.rcParams[\"xtick.minor.size\"] = 2 * 1.1\n",
    "plt.rcParams[\"ytick.major.size\"] = 3.5 * 1.1\n",
    "plt.rcParams[\"ytick.minor.size\"] = 2 * 1.1\n",
    "# legend\n",
    "savefig_cfg = {\"transparent\":True, \"dpi\":300}\n",
    "legend_cfg = {\"frameon\": False, \"handletextpad\": 0.1}\n",
    "tight_layout_cfg = {\"pad\": 0.5}\n",
    "LG_FRAMEON = False              # no legend frame"
   ]
  },
  {
   "cell_type": "markdown",
   "metadata": {},
   "source": [
    "### Get sites in cortex"
   ]
  },
  {
   "cell_type": "code",
   "execution_count": 3,
   "metadata": {},
   "outputs": [],
   "source": [
    "if SAVE_FIG_DATA:\n",
    "    \n",
    "    # load Recording\n",
    "    Recording_sili = si.load_extractor(PREP_PATH_sili)\n",
    "    traces_sili = Recording_sili.get_traces()\n",
    "\n",
    "    # get a site in layer 5\n",
    "    layers_sili = Recording_sili.get_property(\"layers\")"
   ]
  },
  {
   "cell_type": "markdown",
   "metadata": {},
   "source": [
    "### Parameterize"
   ]
  },
  {
   "cell_type": "code",
   "execution_count": 11,
   "metadata": {},
   "outputs": [],
   "source": [
    "LAYER = \"L5\"\n",
    "YLIM = (-500, 350)"
   ]
  },
  {
   "cell_type": "markdown",
   "metadata": {},
   "source": [
    "### Model"
   ]
  },
  {
   "cell_type": "code",
   "execution_count": 4,
   "metadata": {},
   "outputs": [
    {
     "name": "stdout",
     "output_type": "stream",
     "text": [
      "loaded figure data\n"
     ]
    }
   ],
   "source": [
    "# get data\n",
    "if SAVE_FIG_DATA:\n",
    "    \n",
    "    # plot\n",
    "    ID_PERIOD_SILI = 10 #20  # 15  # 31, 18, 50  # 50, 7\n",
    "    L5_SITE_SILI = 10  # 10, 1, 5\n",
    "\n",
    "    # set period\n",
    "    # get trace\n",
    "    L5_site = np.where(layers_sili == LAYER)[0][L5_SITE_SILI]\n",
    "\n",
    "    # calculate one seconde period\n",
    "    one_sec_period = np.arange(\n",
    "        (ID_PERIOD_SILI - 1) * SF, ID_PERIOD_SILI * SF, 1\n",
    "    )\n",
    "    # save figure data\n",
    "    fig_data = traces_sili[one_sec_period, L5_site]    \n",
    "    np.save(fig_data_paths[\"fig2d_compo_silico_horv\"], fig_data)\n",
    "    \n",
    "elif LOAD_FIG_DATA:\n",
    "    fig_data = np.load(fig_data_paths[\"fig2d_compo_silico_horv\"])\n",
    "    print(\"loaded figure data\")"
   ]
  },
  {
   "cell_type": "code",
   "execution_count": 5,
   "metadata": {},
   "outputs": [
    {
     "data": {
      "image/png": "[encoded data removed]",
      "text/plain": [
       "<Figure size 90x70 with 1 Axes>"
      ]
     },
     "metadata": {},
     "output_type": "display_data"
    }
   ],
   "source": [
    "# plot\n",
    "fig, ax = plt.subplots(1, 1, figsize=FIG_SIZE)\n",
    "ax.plot(fig_data, color=COLOR_HS)\n",
    "\n",
    "# legend\n",
    "ax.spines[[\"right\", \"top\"]].set_visible(False)\n",
    "ax.set_ylabel(\"Voltage (\\u03bcV)\")\n",
    "ax.set_xlabel(\"Time (ms)\")\n",
    "ax.set_xticks([0, SF / 2, SF], [0, 500, 1000])\n",
    "ax.set_xlim([0, SF])\n",
    "ax.set_yticks([-430, 0, 180])\n",
    "ax.set_ylim([-430, 180])\n",
    "\n",
    "# disconnected\n",
    "ax.spines[\"bottom\"].set_position((\"axes\", -0.05))\n",
    "ax.yaxis.set_ticks_position(\"left\")\n",
    "ax.spines[\"left\"].set_position((\"axes\", -0.05))\n",
    "\n",
    "# save figure\n",
    "if SAVE_FIG:\n",
    "    plt.savefig(\"figures/0_validation/1_components/fig2d_compo_silico_horv.svg\")"
   ]
  },
  {
   "cell_type": "code",
   "execution_count": 6,
   "metadata": {},
   "outputs": [
    {
     "name": "stdout",
     "output_type": "stream",
     "text": [
      "loaded figure data\n",
      "nb of 1-sec windows: 1175\n",
      "Background noise level (min MAD over windows): 29.4982\n"
     ]
    }
   ],
   "source": [
    "# get data\n",
    "\n",
    "# background noise (min(MAD) over segments of 1 sec) here\n",
    "if SAVE_FIG_DATA:\n",
    "    wind_end = int(np.floor(len(traces_sili)/SF))\n",
    "    bkg_noise = noise.measure_trace_noise(traces_sili[one_sec_period, L5_site], SF, wind_end)\n",
    "    np.save(fig_data_paths[\"fig2d_compo_silico_horv_bkg_noise\"], bkg_noise)\n",
    "elif LOAD_FIG_DATA:\n",
    "    bkg_noise = np.load(fig_data_paths[\"fig2d_compo_silico_horv_bkg_noise\"])\n",
    "    print(\"loaded figure data\")\n",
    "    \n",
    "print(\"nb of 1-sec windows:\", len(bkg_noise))\n",
    "print(\"Background noise level (min MAD over windows):\", min(bkg_noise))"
   ]
  },
  {
   "cell_type": "markdown",
   "metadata": {},
   "source": [
    "### In vivo"
   ]
  },
  {
   "cell_type": "code",
   "execution_count": 7,
   "metadata": {},
   "outputs": [
    {
     "name": "stdout",
     "output_type": "stream",
     "text": [
      "loaded figure data\n"
     ]
    }
   ],
   "source": [
    "if SAVE_FIG_DATA:\n",
    "    # plot\n",
    "    ## to find max\n",
    "    # L5_site_vivo = np.where(layers_vivo == LAYER)[0]\n",
    "    # x = traces_vivo[:, L5_site_vivo]\n",
    "    # ind = np.unravel_index(np.argmax(x, axis=None), x.shape)\n",
    "    L5_SITE = 79  # 24  # 1\n",
    "    SAMPLE_START = 15868410\n",
    "\n",
    "    # get traces\n",
    "    Recording_vivo = si.load_extractor(PREP_PATH_vivo)\n",
    "    traces_vivo = Recording_vivo.get_traces()\n",
    "\n",
    "    # get a site in layer 5\n",
    "    layers_vivo = Recording_vivo.get_property(\"layers\")\n",
    "    L5_site_vivo = np.where(layers_vivo == LAYER)[0][L5_SITE]\n",
    "\n",
    "    # calculate one seconde period\n",
    "    one_sec_period = np.arange(SAMPLE_START, SAMPLE_START + SF, 1)\n",
    "    \n",
    "    # save figure data\n",
    "    fig_data = traces_vivo[one_sec_period, L5_site_vivo]\n",
    "    np.save(fig_data_paths[\"fig2e_compo_vivo_horv\"], fig_data)\n",
    "\n",
    "elif LOAD_FIG_DATA:\n",
    "    fig_data = np.load(fig_data_paths[\"fig2e_compo_vivo_horv\"])\n",
    "    print(\"loaded figure data\")"
   ]
  },
  {
   "cell_type": "code",
   "execution_count": 8,
   "metadata": {},
   "outputs": [
    {
     "data": {
      "image/png": "[encoded data removed]",
      "text/plain": [
       "<Figure size 90x70 with 1 Axes>"
      ]
     },
     "metadata": {},
     "output_type": "display_data"
    }
   ],
   "source": [
    "# plot\n",
    "fig, ax = plt.subplots(1, 1, figsize=FIG_SIZE)\n",
    "\n",
    "ax.plot(fig_data, color=COLOR_HV)\n",
    "\n",
    "# legend\n",
    "ax.spines[[\"right\", \"top\"]].set_visible(False)\n",
    "ax.set_ylabel(\"Voltage (\\u03bcV)\")\n",
    "ax.set_xlabel(\"Time (ms)\")\n",
    "ax.set_xticks([0, SF / 2, SF], [0, 500, 1000])\n",
    "ax.set_xlim([0, SF])\n",
    "ax.set_yticks([-2060, 0, 1015], [-2060, 0, 1015])\n",
    "ax.set_ylim([-2060, 1015])\n",
    "\n",
    "# disconnected\n",
    "ax.spines[\"bottom\"].set_position((\"axes\", -0.05))\n",
    "ax.yaxis.set_ticks_position(\"left\")\n",
    "ax.spines[\"left\"].set_position((\"axes\", -0.05))\n",
    "\n",
    "# save\n",
    "if SAVE_FIG:\n",
    "    plt.savefig(\"figures/0_validation/1_components/fig2e_compo_vivo_horv.svg\")"
   ]
  },
  {
   "cell_type": "code",
   "execution_count": 9,
   "metadata": {},
   "outputs": [
    {
     "name": "stdout",
     "output_type": "stream",
     "text": [
      "loaded figure data\n",
      "nb of 1-sec windows: 3688\n",
      "Background noise level (min MAD over windows): 79.58119\n"
     ]
    }
   ],
   "source": [
    "# get data\n",
    "\n",
    "# background noise (min(MAD) over segments of 1 sec) here\n",
    "if SAVE_FIG_DATA:\n",
    "    wind_end = int(np.floor(len(traces_vivo)/SF))\n",
    "    bkg_noise = noise.measure_trace_noise(fig_data, SF, wind_end)\n",
    "    np.save(fig_data_paths[\"fig2e_compo_vivo_horv_bkg_noise\"], bkg_noise)\n",
    "elif LOAD_FIG_DATA:\n",
    "    bkg_noise = np.load(fig_data_paths[\"fig2e_compo_vivo_horv_bkg_noise\"])\n",
    "    print(\"loaded figure data\")\n",
    "    \n",
    "print(\"nb of 1-sec windows:\", len(bkg_noise))\n",
    "print(\"Background noise level (min MAD over windows):\", min(bkg_noise))"
   ]
  }
 ],
 "metadata": {
  "kernelspec": {
   "display_name": "spikinterf0_100_5",
   "language": "python",
   "name": "python3"
  },
  "language_info": {
   "codemirror_mode": {
    "name": "ipython",
    "version": 3
   },
   "file_extension": ".py",
   "mimetype": "text/x-python",
   "name": "python",
   "nbconvert_exporter": "python",
   "pygments_lexer": "ipython3",
   "version": "3.9.7"
  },
  "orig_nbformat": 4
 },
 "nbformat": 4,
 "nbformat_minor": 2
}
