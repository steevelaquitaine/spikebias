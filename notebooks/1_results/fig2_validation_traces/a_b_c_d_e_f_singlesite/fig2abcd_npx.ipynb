{
 "cells": [
  {
   "attachments": {},
   "cell_type": "markdown",
   "metadata": {},
   "source": [
    "# NPX single-site\n",
    "\n",
    "author: steeve.laquitaine@epfl.ch; laquitainesteeve@gmail.com  "
   ]
  },
  {
   "attachments": {},
   "cell_type": "markdown",
   "metadata": {},
   "source": [
    "### Setup\n",
    "\n",
    "Activate `spikebias` env kernel"
   ]
  },
  {
   "cell_type": "code",
   "execution_count": 32,
   "metadata": {},
   "outputs": [
    {
     "name": "stdout",
     "output_type": "stream",
     "text": [
      "The autoreload extension is already loaded. To reload it, use:\n",
      "  %reload_ext autoreload\n",
      "2024-12-17 18:14:43,821 - root - utils.py - get_config - INFO - Reading experiment config.\n",
      "2024-12-17 18:14:43,864 - root - utils.py - get_config - INFO - Reading experiment config. - done\n",
      "2024-12-17 18:14:43,865 - root - utils.py - get_config - INFO - Reading experiment config.\n",
      "2024-12-17 18:14:43,917 - root - utils.py - get_config - INFO - Reading experiment config. - done\n",
      "2024-12-17 18:14:43,920 - root - utils.py - get_config - INFO - Reading experiment config.\n",
      "2024-12-17 18:14:43,951 - root - utils.py - get_config - INFO - Reading experiment config. - done\n",
      "2024-12-17 18:14:43,954 - root - utils.py - get_config - INFO - Reading experiment config.\n",
      "2024-12-17 18:14:44,042 - root - utils.py - get_config - INFO - Reading experiment config. - done\n"
     ]
    }
   ],
   "source": [
    "# SETUP PACKAGESP\n",
    "%load_ext autoreload\n",
    "%autoreload 2\n",
    "import os\n",
    "from os.path import join\n",
    "import numpy as np\n",
    "from matplotlib import pyplot as plt\n",
    "import spikeinterface as si\n",
    "import yaml\n",
    "import warnings\n",
    "warnings.simplefilter(action='ignore', category=FutureWarning)\n",
    "warnings.filterwarnings(\"ignore\")\n",
    "\n",
    "# SET PATHS\n",
    "# move to project path\n",
    "proj_path = \"/Users/steeve_laquitaine/Desktop/2022_2024_bbp/spikebias/\"\n",
    "os.chdir(proj_path)\n",
    "\n",
    "from src.nodes.utils import get_config\n",
    "from src.nodes.validation import noise\n",
    "\n",
    "# SETUP PARAMETERS\n",
    "LAYER = \"L5\"\n",
    "DURATION = 1.01\n",
    "SF_V = 30000 # sampling frequency\n",
    "SF_S = 40000\n",
    "SF_B = 32000\n",
    "SF_E = 20000\n",
    "ID_PERIOD_SILI = 51  # 10, 7\n",
    "ID_PERIOD_VIVO = 7\n",
    "ID_PERIOD_B = 46  # period near argmax amplitude\n",
    "ID_PERIOD_E = 6\n",
    "L5_SITE_SILI = 0\n",
    "L5_SITE_VIVO = 6\n",
    "YLIM = (-100, 30)\n",
    "SITE_B = 352  # 40  # site of argmax amplitude\n",
    "SITE_E = 232\n",
    "\n",
    "# in vivo (marques)\n",
    "data_conf_vivo, param_conf_h_vivo = get_config(\"vivo_marques\", \"c26\").values() \n",
    "PREP_PATH_vivo = data_conf_vivo[\"preprocessing\"][\"full\"][\"output\"][\"trace_file_path\"]\n",
    "\n",
    "# biophy model\n",
    "cfg_ns, param_conf_sili = get_config(\"silico_neuropixels\", \"npx_spont\").values()\n",
    "PREP_PATH_ns = cfg_ns[\"preprocessing\"][\"full\"][\"output\"][\"trace_file_path\"]\n",
    "\n",
    "# synthetic (Buccino) \n",
    "data_conf_b, _ = get_config(\"buccino_2020\", \"2020\").values()\n",
    "PREP_PATH_b = data_conf_b[\"preprocessing\"][\"full\"][\"output\"][\"trace_file_path\"]\n",
    "\n",
    "# evoked biophy model\n",
    "data_conf_e, param_conf_e = get_config(\"silico_neuropixels\", \"npx_evoked\").values()\n",
    "PREP_PATH_e = data_conf_e[\"preprocessing\"][\"full\"][\"output\"][\"trace_file_path\"]\n",
    "\n",
    "# figure parameters\n",
    "SAVE_FIG = False\n",
    "SAVE_FIG_DATA = False\n",
    "LOAD_FIG_DATA = True\n",
    "\n",
    "with open(join(proj_path, \"conf/figures.yml\"), \"r\", encoding=\"utf-8\") as yaml_file:\n",
    "    fig_data_paths = yaml.load(yaml_file, Loader=yaml.FullLoader)\n",
    "\n",
    "# FIGURE SETTINGS\n",
    "FIG_SIZE = (0.9, 0.7)\n",
    "\n",
    "# colors\n",
    "COLOR_MV = [0.6, 0.6, 0.6]\n",
    "COLOR_MS = [0.9, 0.14, 0.15]\n",
    "COLOR_B = [0.22, 0.5, 0.72]\n",
    "COLOR_E = [1, 0.49, 0]\n",
    "\n",
    "# axes\n",
    "plt.rcParams[\"font.family\"] = \"Arial\"\n",
    "plt.rcParams[\"font.size\"] = 6\n",
    "plt.rcParams[\"lines.linewidth\"] = 0.5\n",
    "plt.rcParams[\"axes.linewidth\"] = 0.5\n",
    "plt.rcParams[\"axes.spines.top\"] = False\n",
    "plt.rcParams[\"xtick.major.width\"] = 0.5 \n",
    "plt.rcParams[\"xtick.minor.width\"] = 0.5 \n",
    "plt.rcParams[\"ytick.major.width\"] = 0.5 \n",
    "plt.rcParams[\"ytick.minor.width\"] = 0.5\n",
    "plt.rcParams[\"xtick.major.size\"] = 3.5 * 1.1\n",
    "plt.rcParams[\"xtick.minor.size\"] = 2 * 1.1\n",
    "plt.rcParams[\"ytick.major.size\"] = 3.5 * 1.1\n",
    "plt.rcParams[\"ytick.minor.size\"] = 2 * 1.1\n",
    "\n",
    "# legend\n",
    "savefig_cfg = {\"transparent\":True, \"dpi\":300}\n",
    "legend_cfg = {\"frameon\": False, \"handletextpad\": 0.1}\n",
    "tight_layout_cfg = {\"pad\": 0.5}\n",
    "LG_FRAMEON = False              # no legend frame"
   ]
  },
  {
   "cell_type": "markdown",
   "metadata": {},
   "source": [
    "### (.2s)Load voltage traces"
   ]
  },
  {
   "cell_type": "code",
   "execution_count": 33,
   "metadata": {},
   "outputs": [],
   "source": [
    "if SAVE_FIG_DATA:\n",
    "    \n",
    "    # biophy model\n",
    "    RecS = si.load_extractor(PREP_PATH_ns)\n",
    "    RecS = RecS.frame_slice(start_frame=0, end_frame=10 * 60 * SF_S)\n",
    "    traces_s = RecS.get_traces()\n",
    "\n",
    "    # synthetic model\n",
    "    RecB = si.load_extractor(PREP_PATH_b)\n",
    "    traces_b = RecB.get_traces()\n",
    "\n",
    "    # evoked biophy model\n",
    "    RecE = si.load_extractor(PREP_PATH_e)\n",
    "    traces_e = RecE.get_traces()"
   ]
  },
  {
   "cell_type": "markdown",
   "metadata": {},
   "source": [
    "### Marques-Smith"
   ]
  },
  {
   "cell_type": "code",
   "execution_count": 34,
   "metadata": {},
   "outputs": [
    {
     "name": "stdout",
     "output_type": "stream",
     "text": [
      "loaded figure data\n"
     ]
    }
   ],
   "source": [
    "# get data\n",
    "if SAVE_FIG_DATA:\n",
    "    \n",
    "    # get voltage traces\n",
    "    Recording_vivo = si.load_extractor(PREP_PATH_vivo)\n",
    "    traces_vivo = Recording_vivo.get_traces()\n",
    "\n",
    "    # get a site in layer 5\n",
    "    layers_vivo = Recording_vivo.get_property(\"layers\")\n",
    "    L5_site_vivo = np.where(layers_vivo == LAYER)[0][L5_SITE_VIVO]\n",
    "\n",
    "    # calculate one seconde period\n",
    "    one_sec_period = np.arange((ID_PERIOD_VIVO - 1) * SF_V, ID_PERIOD_VIVO * SF_V, 1)\n",
    "\n",
    "    # plot figure\n",
    "    fig_data = traces_vivo[one_sec_period, L5_site_vivo]\n",
    "\n",
    "    # save figure data\n",
    "    np.save(fig_data_paths[\"fig2a_compo_vivo_npx\"], fig_data)\n",
    "    \n",
    "elif LOAD_FIG_DATA:\n",
    "    fig_data = np.load(join(proj_path, fig_data_paths[\"fig2a_compo_vivo_npx\"]))\n",
    "    print(\"loaded figure data\")"
   ]
  },
  {
   "cell_type": "code",
   "execution_count": 35,
   "metadata": {},
   "outputs": [
    {
     "data": {
      "image/png": "[encoded data removed]",
      "text/plain": [
       "<Figure size 90x70 with 1 Axes>"
      ]
     },
     "metadata": {},
     "output_type": "display_data"
    }
   ],
   "source": [
    "# plot\n",
    "fig, ax = plt.subplots(1, 1, figsize=FIG_SIZE)\n",
    "\n",
    "# plot figure\n",
    "ax.plot(fig_data, color=COLOR_MV)\n",
    "\n",
    "# legend\n",
    "ax.spines[[\"right\", \"top\"]].set_visible(False)\n",
    "ax.set_ylabel(\"Voltage (\\u03bcV)\")\n",
    "ax.set_xlabel(\"Time (ms)\")\n",
    "ax.set_yticks([-90, 0, 45], [-90, 0, 45])\n",
    "ax.set_ylim([-90, 45])\n",
    "ax.set_xticks([0, SF_V / 2, SF_V], [0, 500, 1000])\n",
    "ax.set_xlim([0, SF_V])\n",
    "\n",
    "# disconnected\n",
    "ax.spines[\"bottom\"].set_position((\"axes\", -0.05))\n",
    "ax.yaxis.set_ticks_position(\"left\")\n",
    "ax.spines[\"left\"].set_position((\"axes\", -0.05))\n",
    "\n",
    "# save figure\n",
    "if SAVE_FIG:\n",
    "    plt.savefig(\"figures/0_validation/1_components/fig2a_compo_vivo_npx.svg\")\n",
    "    "
   ]
  },
  {
   "cell_type": "code",
   "execution_count": 36,
   "metadata": {},
   "outputs": [
    {
     "name": "stdout",
     "output_type": "stream",
     "text": [
      "loaded figure data\n",
      "nb of 1-sec windows: 1215\n",
      "Background noise level (min MAD over windows): 3.7754414\n"
     ]
    }
   ],
   "source": [
    "# get data\n",
    "\n",
    "# background noise (min(MAD) over segments of 1 sec) here\n",
    "if SAVE_FIG_DATA:\n",
    "    wind_end = int(np.floor(len(traces_vivo)/SF_V))\n",
    "    bkg_noise = noise.measure_trace_noise(traces_vivo[one_sec_period, L5_site_vivo], SF_V, wind_end)\n",
    "    np.save(fig_data_paths[\"fig2a_compo_vivo_npx_bkg_noise\"], bkg_noise)\n",
    "elif LOAD_FIG_DATA:\n",
    "    bkg_noise = np.load(fig_data_paths[\"fig2a_compo_vivo_npx_bkg_noise\"])\n",
    "    print(\"loaded figure data\")\n",
    "    \n",
    "print(\"nb of 1-sec windows:\", len(bkg_noise))\n",
    "print(\"Background noise level (min MAD over windows):\", min(bkg_noise))"
   ]
  },
  {
   "cell_type": "markdown",
   "metadata": {},
   "source": [
    "### NS\n",
    "\n",
    "* plot trace from site 143 in layer 5\n",
    "* we will plot the same trace from site 143 in layer 5, same as for the evoked model, but locked to the stimulus."
   ]
  },
  {
   "cell_type": "code",
   "execution_count": 37,
   "metadata": {},
   "outputs": [
    {
     "name": "stdout",
     "output_type": "stream",
     "text": [
      "loaded figure data\n"
     ]
    }
   ],
   "source": [
    "# get data\n",
    "if SAVE_FIG_DATA:\n",
    "        \n",
    "    ID_PERIOD_SILI = 10 #9, 6 4, 2  # 10, 7\n",
    "\n",
    "    # get a site in layer 5\n",
    "    SITE_IX = 21\n",
    "    layers_s = RecS.get_property(\"layers\")\n",
    "    L5_site = np.where(layers_s == LAYER)[0][SITE_IX]\n",
    "    print(\"Sites in layer 5:\", L5_site)\n",
    "\n",
    "    # calculate one seconds period\n",
    "    one_sec_period = np.arange((ID_PERIOD_SILI - 1) * SF_S, ID_PERIOD_SILI * SF_S, 1)\n",
    "    \n",
    "    # get figure data\n",
    "    fig_data = traces_s[one_sec_period, L5_site]\n",
    "\n",
    "    # save figure data\n",
    "    np.save(fig_data_paths[\"fig2b_compo_silico_npx\"], fig_data)\n",
    "elif LOAD_FIG_DATA:\n",
    "    fig_data = np.load(fig_data_paths[\"fig2b_compo_silico_npx\"])\n",
    "    print(\"loaded figure data\")"
   ]
  },
  {
   "cell_type": "code",
   "execution_count": 38,
   "metadata": {},
   "outputs": [
    {
     "data": {
      "image/png": "[encoded data removed]",
      "text/plain": [
       "<Figure size 90x70 with 1 Axes>"
      ]
     },
     "metadata": {},
     "output_type": "display_data"
    }
   ],
   "source": [
    "# plot\n",
    "YMAX = 60\n",
    "YMIN = -130\n",
    "fig, ax = plt.subplots(1, 1, figsize=FIG_SIZE)\n",
    "\n",
    "# plot figure\n",
    "ax.plot(fig_data, color=COLOR_MS)\n",
    "\n",
    "# legend\n",
    "ax.spines[[\"right\", \"top\"]].set_visible(False)\n",
    "ax.set_ylabel(\"Voltage (\\u03bcV)\")\n",
    "ax.set_xlabel(\"Time (ms)\")\n",
    "plt.xticks([0, SF_S / 2, SF_S])\n",
    "ax.set_xticklabels([0, 500, 1000])\n",
    "ax.set_xlim([0, SF_S])\n",
    "\n",
    "# disconnected\n",
    "ax.spines[\"bottom\"].set_position((\"axes\", -0.05))\n",
    "ax.yaxis.set_ticks_position(\"left\")\n",
    "ax.spines[\"left\"].set_position((\"axes\", -0.05))\n",
    "ax.set_yticks([YMIN, 0, YMAX])\n",
    "ax.set_ylim([YMIN, YMAX])\n",
    "\n",
    "# save\n",
    "if SAVE_FIG:\n",
    "    plt.savefig(\"figures/0_validation/1_components/fig2b_compo_silico_npx.svg\")"
   ]
  },
  {
   "cell_type": "code",
   "execution_count": 39,
   "metadata": {},
   "outputs": [
    {
     "name": "stdout",
     "output_type": "stream",
     "text": [
      "loaded figure data\n",
      "nb of 1-sec windows: 600\n",
      "Background noise level (min MAD over windows): 3.239969\n"
     ]
    }
   ],
   "source": [
    "# get data\n",
    "# print background noise (min(MAD) over segments of 1 sec) here\n",
    "if SAVE_FIG_DATA:\n",
    "    wind_end = int(np.floor(len(traces_s)/SF_S))\n",
    "    bkg_noise = noise.measure_trace_noise(traces_s[one_sec_period, L5_site], SF_S, wind_end)\n",
    "    np.save(fig_data_paths[\"fig2b_compo_silico_npx_bkg_noise\"], bkg_noise)\n",
    "elif LOAD_FIG_DATA:\n",
    "    bkg_noise = np.load(fig_data_paths[\"fig2b_compo_silico_npx_bkg_noise\"])    \n",
    "    print(\"loaded figure data\")\n",
    "    \n",
    "print(\"nb of 1-sec windows:\", len(bkg_noise))\n",
    "print(\"Background noise level (min MAD over windows):\", min(bkg_noise))"
   ]
  },
  {
   "cell_type": "markdown",
   "metadata": {},
   "source": [
    "### Evoked biophysical model \n",
    "\n",
    "* from stimulus start (STIM_START= 20110000 at the 5000th stimulus epoch, t=0 ms) to 1000 ms after.\n",
    "* plot trace from site 143 in layer 5, same as for the spontaneous model."
   ]
  },
  {
   "cell_type": "code",
   "execution_count": 40,
   "metadata": {},
   "outputs": [
    {
     "name": "stdout",
     "output_type": "stream",
     "text": [
      "loaded figure data\n"
     ]
    }
   ],
   "source": [
    "if SAVE_FIG_DATA: \n",
    "    # set sample start at stimulus start (5000th epoch)\n",
    "    STIM_START = 20110000\n",
    "    SITE_IX = 21\n",
    "\n",
    "    layers_e = RecE.get_property(\"layers\")\n",
    "    L5_site = np.where(layers_e == LAYER)[0][SITE_IX]\n",
    "    print(\"Sites in layer 5:\", L5_site)\n",
    "    print(\"Identified stimulus sample index:\", STIM_START)\n",
    "\n",
    "    # calculate one second period\n",
    "    one_sec_period = np.arange(STIM_START, STIM_START + SF_E, 1)\n",
    "\n",
    "    # get figure data\n",
    "    fig_data = traces_e[one_sec_period, L5_site]\n",
    "    \n",
    "    # save figure data\n",
    "    np.save(fig_data_paths[\"fig2c_compo_evoked_npx\"], fig_data)\n",
    "elif LOAD_FIG_DATA: \n",
    "    fig_data = np.load(fig_data_paths[\"fig2c_compo_evoked_npx\"])\n",
    "    print(\"loaded figure data\")"
   ]
  },
  {
   "cell_type": "code",
   "execution_count": 41,
   "metadata": {},
   "outputs": [
    {
     "data": {
      "image/png": "[encoded data removed]",
      "text/plain": [
       "<Figure size 90x70 with 1 Axes>"
      ]
     },
     "metadata": {},
     "output_type": "display_data"
    }
   ],
   "source": [
    "# plot\n",
    "YMAX = 60\n",
    "fig, ax = plt.subplots(1, 1, figsize=FIG_SIZE)\n",
    "\n",
    "# plot figure\n",
    "ax.plot(fig_data, color=COLOR_E)  # 21, 25, 40, 38\n",
    "\n",
    "# legend\n",
    "ax.spines[[\"right\", \"top\"]].set_visible(False)\n",
    "ax.set_ylabel(\"Voltage (\\u03bcV)\")\n",
    "ax.set_xlabel(\"Time after stimulus (ms)\")\n",
    "ax.set_yticks([-120, 0, YMAX], [-120, 0, YMAX])\n",
    "ax.set_ylim([-120, YMAX])\n",
    "ax.set_xticks([0, SF_E / 2, SF_E], [0, 500, 1000])\n",
    "ax.set_xlim([0, SF_E])\n",
    "\n",
    "# disconnected\n",
    "ax.spines[\"bottom\"].set_position((\"axes\", -0.05))\n",
    "ax.yaxis.set_ticks_position(\"left\")\n",
    "ax.spines[\"left\"].set_position((\"axes\", -0.05))\n",
    "\n",
    "# save\n",
    "if SAVE_FIG:\n",
    "    plt.savefig(\"figures/0_validation/1_components/fig2c_compo_evoked_npx.svg\")"
   ]
  },
  {
   "cell_type": "code",
   "execution_count": 42,
   "metadata": {},
   "outputs": [
    {
     "name": "stdout",
     "output_type": "stream",
     "text": [
      "loaded figure data\n",
      "nb of 1-sec windows: 20000\n",
      "Background noise level (min MAD over windows): -118\n"
     ]
    }
   ],
   "source": [
    "# print background noise (min(MAD) over segments of 1 sec) here\n",
    "if SAVE_FIG_DATA:\n",
    "    wind_end = int(np.floor(len(traces_e)/SF_E))\n",
    "    bkg_noise = noise.measure_trace_noise(traces_e[one_sec_period, L5_site], SF_E, wind_end)\n",
    "    np.save(fig_data_paths[\"fig2c_compo_evoked_npx_bkg_noise\"], fig_data)\n",
    "elif LOAD_FIG_DATA:\n",
    "    bkg_noise=np.load(fig_data_paths[\"fig2c_compo_evoked_npx_bkg_noise\"])\n",
    "    print(\"loaded figure data\")\n",
    "    \n",
    "print(\"nb of 1-sec windows:\", len(bkg_noise))\n",
    "print(\"Background noise level (min MAD over windows):\", min(bkg_noise))"
   ]
  },
  {
   "cell_type": "markdown",
   "metadata": {},
   "source": [
    "### Synthetic model (Buccino)"
   ]
  },
  {
   "cell_type": "code",
   "execution_count": 43,
   "metadata": {},
   "outputs": [
    {
     "name": "stdout",
     "output_type": "stream",
     "text": [
      "loaded figure data\n"
     ]
    }
   ],
   "source": [
    "if SAVE_FIG_DATA: \n",
    "    ID_PERIOD_B = 43  # period near argmax amplitude\n",
    "    # calculate one seconde period\n",
    "    one_sec_period = np.arange((ID_PERIOD_B - 1) * SF_B, ID_PERIOD_B * SF_B, 1)\n",
    "    # get figure data\n",
    "    fig_data = traces_b[one_sec_period, SITE_B]\n",
    "    # save\n",
    "    np.save(fig_data_paths[\"fig2d_compo_synth_npx\"], fig_data)\n",
    "elif LOAD_FIG_DATA:\n",
    "    fig_data = np.load(fig_data_paths[\"fig2d_compo_synth_npx\"])\n",
    "    print(\"loaded figure data\")"
   ]
  },
  {
   "cell_type": "code",
   "execution_count": 44,
   "metadata": {},
   "outputs": [
    {
     "data": {
      "image/png": "[encoded data removed]",
      "text/plain": [
       "<Figure size 90x70 with 1 Axes>"
      ]
     },
     "metadata": {},
     "output_type": "display_data"
    }
   ],
   "source": [
    "# plot\n",
    "YMAX = 60\n",
    "fig, ax = plt.subplots(1, 1, figsize=FIG_SIZE)\n",
    "\n",
    "# plot figure\n",
    "ax.plot(fig_data, color=COLOR_B)\n",
    "\n",
    "# legend\n",
    "ax.spines[[\"right\", \"top\"]].set_visible(False)\n",
    "ax.set_ylabel(\"Voltage (\\u03bcV)\")\n",
    "ax.set_xlabel(\"Time (ms)\")\n",
    "ax.set_yticks([-170, 0, YMAX], [-170, 0, YMAX])\n",
    "ax.set_ylim([-170, YMAX])\n",
    "ax.set_xticks([0, SF_B / 2, SF_B], [0, 500, 1000])\n",
    "ax.set_xlim([0, SF_B])\n",
    "\n",
    "# disconnected\n",
    "ax.spines[\"bottom\"].set_position((\"axes\", -0.05))\n",
    "ax.yaxis.set_ticks_position(\"left\")\n",
    "ax.spines[\"left\"].set_position((\"axes\", -0.05))\n",
    "\n",
    "# save\n",
    "if SAVE_FIG:\n",
    "    plt.savefig(\"figures/0_validation/1_components/fig2d_compo_synth_npx.svg\")"
   ]
  },
  {
   "cell_type": "code",
   "execution_count": 45,
   "metadata": {},
   "outputs": [
    {
     "name": "stdout",
     "output_type": "stream",
     "text": [
      "loaded figure data\n",
      "nb of 1-sec windows: 600\n",
      "Background noise level (min MAD over windows): 5.8605204\n"
     ]
    }
   ],
   "source": [
    "# print background noise (min(MAD) over segments of 1 sec) here\n",
    "if SAVE_FIG_DATA:\n",
    "    wind_end = int(np.floor(len(traces_b)/SF_B))\n",
    "    bkg_noise = noise.measure_trace_noise(traces_b[one_sec_period, SITE_B], SF_B, wind_end)\n",
    "    np.save(fig_data_paths[\"fig2d_compo_synth_npx_bkg_noise\"], bkg_noise)\n",
    "elif LOAD_FIG_DATA: \n",
    "    bkg_noise = np.load(fig_data_paths[\"fig2d_compo_synth_npx_bkg_noise\"])\n",
    "    print(\"loaded figure data\")    \n",
    "    \n",
    "print(\"nb of 1-sec windows:\", len(bkg_noise))\n",
    "print(\"Background noise level (min MAD over windows):\", min(bkg_noise))"
   ]
  }
 ],
 "metadata": {
  "kernelspec": {
   "display_name": "spikebias",
   "language": "python",
   "name": "python3"
  },
  "language_info": {
   "codemirror_mode": {
    "name": "ipython",
    "version": 3
   },
   "file_extension": ".py",
   "mimetype": "text/x-python",
   "name": "python",
   "nbconvert_exporter": "python",
   "pygments_lexer": "ipython3",
   "version": "3.9.7"
  },
  "orig_nbformat": 4
 },
 "nbformat": 4,
 "nbformat_minor": 2
}
