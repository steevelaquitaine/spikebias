{
 "cells": [
  {
   "attachments": {},
   "cell_type": "markdown",
   "metadata": {},
   "source": [
    "# Neuropixels experiments\n",
    "\n",
    "author: steeve.laquitaine@epfl.ch  \n",
    "last modified: 17.07.2024  \n",
    "status: up-to-date  "
   ]
  },
  {
   "attachments": {},
   "cell_type": "markdown",
   "metadata": {},
   "source": [
    "### Setup\n",
    "\n",
    "Activate `spikeinterf..` venv"
   ]
  },
  {
   "cell_type": "code",
   "execution_count": null,
   "metadata": {},
   "outputs": [
    {
     "name": "stdout",
     "output_type": "stream",
     "text": [
      "The autoreload extension is already loaded. To reload it, use:\n",
      "  %reload_ext autoreload\n",
      "2024-07-17 18:43:33,864 - root - utils.py - get_config - INFO - Reading experiment config.\n",
      "2024-07-17 18:43:33,883 - root - utils.py - get_config - INFO - Reading experiment config. - done\n",
      "2024-07-17 18:43:33,883 - root - utils.py - get_config - INFO - Reading experiment config.\n"
     ]
    },
    {
     "name": "stdout",
     "output_type": "stream",
     "text": [
      "2024-07-17 18:43:33,952 - root - utils.py - get_config - INFO - Reading experiment config. - done\n",
      "2024-07-17 18:43:33,953 - root - utils.py - get_config - INFO - Reading experiment config.\n",
      "2024-07-17 18:43:33,972 - root - utils.py - get_config - INFO - Reading experiment config. - done\n",
      "2024-07-17 18:43:33,973 - root - utils.py - get_config - INFO - Reading experiment config.\n",
      "2024-07-17 18:43:34,000 - root - utils.py - get_config - INFO - Reading experiment config. - done\n"
     ]
    }
   ],
   "source": [
    "# SETUP PACKAGES\n",
    "%load_ext autoreload\n",
    "%autoreload 2\n",
    "import os\n",
    "import numpy as np\n",
    "from matplotlib import pyplot as plt\n",
    "import spikeinterface as si\n",
    "\n",
    "import warnings\n",
    "warnings.simplefilter(action='ignore', category=FutureWarning)\n",
    "warnings.filterwarnings(\"ignore\")\n",
    "\n",
    "# SET PATHS\n",
    "PROJ_PATH = \"/gpfs/bbp.cscs.ch/project/proj85/home/laquitai/spikebias/\"\n",
    "\n",
    "os.chdir(PROJ_PATH)\n",
    "\n",
    "from src.nodes.utils import get_config\n",
    "\n",
    "# SETUP PARAMETERS\n",
    "LAYER = \"L5\"\n",
    "DURATION = 1.01\n",
    "SF_V = 30000          # sampling frequency\n",
    "SF_S = 40000\n",
    "SF_B = 20000\n",
    "SF_E = 20000\n",
    "ID_PERIOD_SILI = 51  # 10, 7\n",
    "ID_PERIOD_VIVO = 7\n",
    "L5_SITE_SILI = 0\n",
    "L5_SITE_VIVO = 6\n",
    "\n",
    "# in vivo (marques)\n",
    "data_conf_vivo, param_conf_h_vivo = get_config(\"vivo_marques\", \"c26\").values() \n",
    "PREP_PATH_vivo = data_conf_vivo[\"preprocessing\"][\"output\"][\"trace_file_path\"]\n",
    "\n",
    "# biophy model\n",
    "cfg_ns, param_conf_sili = get_config(\"silico_neuropixels\", \"npx_spont\").values()\n",
    "# PREP_PATH_ns = cfg_ns[\"preprocessing\"][\"output\"][\"full\"][\"trace_file_path_gain_fitd_adj10perc_less_noise_fitd_int16\"]\n",
    "PREP_PATH_ns = cfg_ns[\"preprocessing\"][\"output\"][\"full\"][\"trace_file_path\"]\n",
    "\n",
    "# synthetic (Buccino) \n",
    "data_conf_b, _ = get_config(\"buccino_2020\", \"2020\").values()\n",
    "PREP_PATH_b = data_conf_b[\"preprocessing\"][\"output\"][\"trace_file_path_gain_ftd\"]\n",
    "\n",
    "# evoked biophy model\n",
    "data_conf_e, param_conf_e = get_config(\"silico_neuropixels\", \"npx_evoked\").values()\n",
    "# PREP_PATH_e = data_conf_e[\"preprocessing\"][\"output\"][\"full\"][\"trace_file_path_gain_fitd_adj10perc_less_noise_fitd_int16\"]\n",
    "PREP_PATH_e = data_conf_e[\"preprocessing\"][\"output\"][\"full\"][\"trace_file_path\"]\n",
    "\n",
    "# FIGURE SETTINGS\n",
    "FIG_SIZE = (0.9, 0.7)\n",
    "# colors\n",
    "COLOR_MV = [0.6, 0.6, 0.6]\n",
    "COLOR_MS = [0.9, 0.14, 0.15]\n",
    "COLOR_B = [0.22, 0.5, 0.72]\n",
    "COLOR_E = [1, 0.49, 0]\n",
    "# axes\n",
    "plt.rcParams[\"font.family\"] = \"Arial\"\n",
    "plt.rcParams[\"font.size\"] = 6  # 5-7 with Nature neuroscience as reference\n",
    "plt.rcParams[\"lines.linewidth\"] = 0.5\n",
    "plt.rcParams[\"axes.linewidth\"] = 0.5 #1\n",
    "plt.rcParams[\"axes.spines.top\"] = False\n",
    "plt.rcParams[\"xtick.major.width\"] = 0.5 #0.8 #* 1.3\n",
    "plt.rcParams[\"xtick.minor.width\"] = 0.5 #0.8 #* 1.3\n",
    "plt.rcParams[\"ytick.major.width\"] = 0.5 #0.8 #* 1.3\n",
    "plt.rcParams[\"ytick.minor.width\"] = 0.5 #0.8 #* 1.3\n",
    "plt.rcParams[\"xtick.major.size\"] = 3.5 * 1.1\n",
    "plt.rcParams[\"xtick.minor.size\"] = 2 * 1.1\n",
    "plt.rcParams[\"ytick.major.size\"] = 3.5 * 1.1\n",
    "plt.rcParams[\"ytick.minor.size\"] = 2 * 1.1\n",
    "# legend\n",
    "savefig_cfg = {\"transparent\":True, \"dpi\":300}\n",
    "legend_cfg = {\"frameon\": False, \"handletextpad\": 0.1}\n",
    "tight_layout_cfg = {\"pad\": 0.5}\n",
    "LG_FRAMEON = False              # no legend frame"
   ]
  },
  {
   "cell_type": "markdown",
   "metadata": {},
   "source": [
    "### (.2s)Load dataset"
   ]
  },
  {
   "cell_type": "code",
   "execution_count": 96,
   "metadata": {},
   "outputs": [],
   "source": [
    "# biophy model\n",
    "RecS = si.load_extractor(PREP_PATH_ns)\n",
    "RecS = RecS.frame_slice(start_frame=0, end_frame=10 * 60 * SF_S)\n",
    "traces_s = RecS.get_traces()\n",
    "\n",
    "# synthetic model\n",
    "RecB = si.load_extractor(PREP_PATH_b)\n",
    "traces_b = RecB.get_traces()\n",
    "\n",
    "# evoked biophy model\n",
    "RecE = si.load_extractor(PREP_PATH_e)\n",
    "traces_e = RecE.get_traces()"
   ]
  },
  {
   "cell_type": "markdown",
   "metadata": {},
   "source": [
    "### Parametrize\n"
   ]
  },
  {
   "cell_type": "code",
   "execution_count": 97,
   "metadata": {},
   "outputs": [],
   "source": [
    "YLIM = (-100, 30)\n",
    "\n",
    "ID_PERIOD_B = 46  # period near argmax amplitude\n",
    "ID_PERIOD_E = 6\n",
    "SITE_B = 352  # 40  # site of argmax amplitude\n",
    "SITE_E = 232"
   ]
  },
  {
   "cell_type": "markdown",
   "metadata": {},
   "source": [
    "### Marques-Smith"
   ]
  },
  {
   "cell_type": "code",
   "execution_count": 163,
   "metadata": {},
   "outputs": [
    {
     "data": {
      "image/png": "[encoded data removed]",
      "text/plain": [
       "<Figure size 90x70 with 1 Axes>"
      ]
     },
     "metadata": {},
     "output_type": "display_data"
    }
   ],
   "source": [
    "# get traces\n",
    "Recording_vivo = si.load_extractor(PREP_PATH_vivo)\n",
    "traces_vivo = Recording_vivo.get_traces()\n",
    "\n",
    "# get a site in layer 5\n",
    "layers_vivo = Recording_vivo.get_property(\"layers\")\n",
    "L5_site_vivo = np.where(layers_vivo == LAYER)[0][L5_SITE_VIVO]\n",
    "\n",
    "# plot\n",
    "fig, ax = plt.subplots(1, 1, figsize=FIG_SIZE)\n",
    "\n",
    "# calculate one seconde period\n",
    "one_sec_period = np.arange((ID_PERIOD_VIVO - 1) * SF_V, ID_PERIOD_VIVO * SF_V, 1)\n",
    "ax.plot(traces_vivo[one_sec_period, L5_site_vivo], color=COLOR_MV)\n",
    "\n",
    "# legend\n",
    "ax.spines[[\"right\", \"top\"]].set_visible(False)\n",
    "ax.set_ylabel(\"Voltage (\\u03bcV)\")\n",
    "ax.set_xlabel(\"Time (ms)\")\n",
    "ax.set_yticks([-90, 0, 45], [-90, 0, 45])\n",
    "ax.set_ylim([-90, 45])\n",
    "ax.set_xticks([0, SF_V / 2, SF_V], [0, 500, 1000])\n",
    "ax.set_xlim([0, SF_V])\n",
    "\n",
    "# disconnected\n",
    "ax.spines[\"bottom\"].set_position((\"axes\", -0.05))\n",
    "ax.yaxis.set_ticks_position(\"left\")\n",
    "ax.spines[\"left\"].set_position((\"axes\", -0.05))\n",
    "\n",
    "# save\n",
    "plt.savefig(\"figures/0_validation/1_components/fig2a_compo_vivo_npx.svg\")"
   ]
  },
  {
   "cell_type": "code",
   "execution_count": 159,
   "metadata": {},
   "outputs": [
    {
     "data": {
      "text/plain": [
       "41"
      ]
     },
     "execution_count": 159,
     "metadata": {},
     "output_type": "execute_result"
    }
   ],
   "source": [
    "max(traces_vivo[one_sec_period, L5_site_vivo])"
   ]
  },
  {
   "cell_type": "markdown",
   "metadata": {},
   "source": [
    "### Spont. Biophysical model\n",
    "\n",
    "* plot trace from site 143 in layer 5\n",
    "* we will plot the same trace from site 143 in layer 5, same as for the evoked model, but locked to the stimulus."
   ]
  },
  {
   "cell_type": "code",
   "execution_count": 130,
   "metadata": {},
   "outputs": [
    {
     "name": "stdout",
     "output_type": "stream",
     "text": [
      "Sites in layer 5: 143\n"
     ]
    },
    {
     "data": {
      "image/png": "[encoded data removed]",
      "text/plain": [
       "<Figure size 90x70 with 1 Axes>"
      ]
     },
     "metadata": {},
     "output_type": "display_data"
    }
   ],
   "source": [
    "# get a site in layer 5\n",
    "SITE_IX = 21\n",
    "layers_s = RecS.get_property(\"layers\")\n",
    "L5_site = np.where(layers_s == LAYER)[0][SITE_IX]\n",
    "print(\"Sites in layer 5:\", L5_site)\n",
    "\n",
    "# plot\n",
    "fig, ax = plt.subplots(1, 1, figsize=FIG_SIZE)\n",
    "\n",
    "# calculate one seconde period\n",
    "one_sec_period = np.arange((ID_PERIOD_SILI - 1) * SF_S, ID_PERIOD_SILI * SF_S, 1)\n",
    "ax.plot(traces_s[one_sec_period, L5_site], color=COLOR_MS)\n",
    "\n",
    "# legend\n",
    "ax.spines[[\"right\", \"top\"]].set_visible(False)\n",
    "ax.set_ylabel(\"Voltage (\\u03bcV)\")\n",
    "ax.set_xlabel(\"Time (ms)\")\n",
    "plt.xticks([0, SF_S / 2, SF_S])\n",
    "ax.set_xticklabels([0, 500, 1000])\n",
    "ax.set_xlim([0, SF_S])\n",
    "\n",
    "# disconnected\n",
    "ax.spines[\"bottom\"].set_position((\"axes\", -0.05))\n",
    "ax.yaxis.set_ticks_position(\"left\")\n",
    "ax.spines[\"left\"].set_position((\"axes\", -0.05))\n",
    "ax.set_yticks([-80, 0, 35])\n",
    "ax.set_ylim([-80, 35])\n",
    "\n",
    "# save\n",
    "plt.savefig(\"figures/0_validation/1_components/fig2b_compo_silico_npx.svg\")"
   ]
  },
  {
   "cell_type": "markdown",
   "metadata": {},
   "source": [
    "### Synthetic model (Buccino)"
   ]
  },
  {
   "cell_type": "code",
   "execution_count": 164,
   "metadata": {},
   "outputs": [
    {
     "data": {
      "image/png": "[encoded data removed]",
      "text/plain": [
       "<Figure size 90x70 with 1 Axes>"
      ]
     },
     "metadata": {},
     "output_type": "display_data"
    }
   ],
   "source": [
    "# plot\n",
    "fig, ax = plt.subplots(1, 1, figsize=FIG_SIZE)\n",
    "\n",
    "# calculate one seconde period\n",
    "one_sec_period = np.arange((ID_PERIOD_B - 1) * SF_B, ID_PERIOD_B * SF_B, 1)\n",
    "ax.plot(traces_b[one_sec_period, SITE_B], color=COLOR_B)\n",
    "\n",
    "# legend\n",
    "ax.spines[[\"right\", \"top\"]].set_visible(False)\n",
    "ax.set_ylabel(\"Voltage (\\u03bcV)\")\n",
    "ax.set_xlabel(\"Time (ms)\")\n",
    "ax.set_yticks([-170, 0, 50], [-170, 0, 50])\n",
    "ax.set_ylim([-170, 50])\n",
    "ax.set_xticks([0, SF_B / 2, SF_B], [0, 500, 1000])\n",
    "ax.set_xlim([0, SF_B])\n",
    "\n",
    "# disconnected\n",
    "ax.spines[\"bottom\"].set_position((\"axes\", -0.05))\n",
    "ax.yaxis.set_ticks_position(\"left\")\n",
    "ax.spines[\"left\"].set_position((\"axes\", -0.05))\n",
    "\n",
    "# save\n",
    "plt.savefig(\"figures/0_validation/1_components/fig2d_compo_synth_npx.svg\")"
   ]
  },
  {
   "cell_type": "markdown",
   "metadata": {},
   "source": [
    "### Evoked biophysical model \n",
    "\n",
    "* from stimulus start (STIM_START= 20110000 at the 5000th stimulus epoch, t=0 ms) to 1000 ms after.\n",
    "* plot trace from site 143 in layer 5, same as for the spontaneous model."
   ]
  },
  {
   "cell_type": "code",
   "execution_count": 154,
   "metadata": {},
   "outputs": [
    {
     "name": "stdout",
     "output_type": "stream",
     "text": [
      "Sites in layer 5: 143\n",
      "Identified stimulus sample index: 20110000\n"
     ]
    },
    {
     "data": {
      "image/png": "[encoded data removed]",
      "text/plain": [
       "<Figure size 90x70 with 1 Axes>"
      ]
     },
     "metadata": {},
     "output_type": "display_data"
    }
   ],
   "source": [
    "# set sample start at stimulus start (5000th epoch)\n",
    "STIM_START = 20110000\n",
    "SITE_IX = 21\n",
    "layers_e = RecE.get_property(\"layers\")\n",
    "L5_site = np.where(layers_e == LAYER)[0][SITE_IX]\n",
    "print(\"Sites in layer 5:\", L5_site)\n",
    "print(\"Identified stimulus sample index:\", STIM_START)\n",
    "\n",
    "# plot\n",
    "fig, ax = plt.subplots(1, 1, figsize=FIG_SIZE)\n",
    "\n",
    "# calculate one second period\n",
    "one_sec_period = np.arange(STIM_START, STIM_START + SF_E, 1)\n",
    "ax.plot(traces_e[one_sec_period, L5_site], color=COLOR_E)  # 21, 25, 40, 38\n",
    "\n",
    "# legend\n",
    "ax.spines[[\"right\", \"top\"]].set_visible(False)\n",
    "ax.set_ylabel(\"Voltage (\\u03bcV)\")\n",
    "ax.set_xlabel(\"Time after stimulus (ms)\")\n",
    "ax.set_yticks([-120, 0, 50], [-120, 0, 50])\n",
    "ax.set_ylim([-120, 50])\n",
    "ax.set_xticks([0, SF_E / 2, SF_E], [0, 500, 1000])\n",
    "ax.set_xlim([0, SF_E])\n",
    "\n",
    "# disconnected\n",
    "ax.spines[\"bottom\"].set_position((\"axes\", -0.05))\n",
    "ax.yaxis.set_ticks_position(\"left\")\n",
    "ax.spines[\"left\"].set_position((\"axes\", -0.05))\n",
    "\n",
    "# save\n",
    "plt.savefig(\"figures/0_validation/1_components/fig2e_compo_evoked_npx.svg\")"
   ]
  },
  {
   "cell_type": "code",
   "execution_count": null,
   "metadata": {},
   "outputs": [],
   "source": []
  }
 ],
 "metadata": {
  "kernelspec": {
   "display_name": "env_silico",
   "language": "python",
   "name": "python3"
  },
  "language_info": {
   "codemirror_mode": {
    "name": "ipython",
    "version": 3
   },
   "file_extension": ".py",
   "mimetype": "text/x-python",
   "name": "python",
   "nbconvert_exporter": "python",
   "pygments_lexer": "ipython3",
   "version": "3.9.7"
  },
  "orig_nbformat": 4,
  "vscode": {
   "interpreter": {
    "hash": "b73fd26bae2910668a6be88f948a34bfaf2ecd970df62c41a60ee29bb0e725b3"
   }
  }
 },
 "nbformat": 4,
 "nbformat_minor": 2
}
