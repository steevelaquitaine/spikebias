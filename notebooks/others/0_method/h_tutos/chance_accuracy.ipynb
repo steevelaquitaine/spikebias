{
 "cells": [
  {
   "cell_type": "markdown",
   "metadata": {},
   "source": [
    "# Chance accuracy"
   ]
  },
  {
   "cell_type": "markdown",
   "metadata": {},
   "source": [
    "### Custom functions"
   ]
  },
  {
   "cell_type": "code",
   "execution_count": 1,
   "metadata": {},
   "outputs": [],
   "source": [
    "from scipy.stats import poisson\n",
    "\n",
    "# import spikeinterface as si\n",
    "# import shutil\n",
    "# from spikeinterface import comparison\n",
    "# from src.nodes.postpro.cell_matching import get_SpikeInterface_matching_object\n",
    "\n",
    "\n",
    "def get_p_chance_hit(fr: float, delta_time: float):\n",
    "    \"\"\"derive the chance agreement score of hits\n",
    "    (coincidence between sorted and ground truth\n",
    "    units' spike trains)\n",
    "\n",
    "    Args:\n",
    "        fr (float): in spikes/ms\n",
    "        delta_time (float): SpikeInterface delta_time interval in ms\n",
    "\n",
    "    Returns:\n",
    "        _type_: _description_\n",
    "    \"\"\"\n",
    "    k = 0  # we want the probability of k=0 coincidences\n",
    "    interval_ms = 2 * delta_time  # time interval in ms\n",
    "    n_sp = interval_ms * fr  # expected nb of coincidences\n",
    "    return 1.0 - poisson.pmf(k=k, mu=n_sp)\n",
    "\n",
    "\n",
    "def get_unit_chance_agreement_score(\n",
    "    fr_gt: float, fr_s: float, rec_dur: float, p_chance_hit: float\n",
    "):\n",
    "    \"\"\"get unit chance scorey\n",
    "\n",
    "    The chance scorey metrics should change with the ground truth firing rate.\n",
    "    It is not the case with the current calculation.\n",
    "    Intuition: the more a ground truth unit spikes within the duration of recording (say 600 secs),\n",
    "    the more spikes will be missed when compared a sorting unit of a fixed firing rate.\n",
    "    The increasing number of misses should decrease the value of the chance score metrics,\n",
    "    which is currently not the case.\n",
    "\n",
    "    Args:\n",
    "        fr_gt (float): ground truth firing rate (spikes/secs)\n",
    "        fr_s (float): sorted unit firing rate (spikes/secs)\n",
    "        p_chance_hit (float): chance probability of hits\n",
    "        rec_dur (float): recording duration\n",
    "    \"\"\"\n",
    "    # nb of spikes\n",
    "    n_gt = fr_gt * rec_dur\n",
    "    n_s = fr_s * rec_dur\n",
    "\n",
    "    # nb of hits, false positives, misses\n",
    "    # - the smallers spike train min(n_gt, n_s) determines\n",
    "    # the maximum possible number of hits\n",
    "    n_h = p_chance_hit * min(n_gt, n_s)\n",
    "    n_fp = n_s - n_h\n",
    "    n_m = n_gt - n_h\n",
    "    return n_h / (n_h + n_m + n_fp)"
   ]
  },
  {
   "cell_type": "markdown",
   "metadata": {},
   "source": [
    "### Calculate for an example"
   ]
  },
  {
   "cell_type": "code",
   "execution_count": 3,
   "metadata": {},
   "outputs": [
    {
     "data": {
      "text/plain": [
       "0.0012999992676670962"
      ]
     },
     "execution_count": 3,
     "metadata": {},
     "output_type": "execute_result"
    }
   ],
   "source": [
    "# calculate chance score for a 1 Hz sorted unit (spikes/secs)\n",
    "fr_gt = 1\n",
    "fr_s = 1\n",
    "delta_time = 1.3  # in ms\n",
    "rec_dur = 600  # recording duration\n",
    "\n",
    "# calculate chance agreement score\n",
    "# - chance probability of hits\n",
    "# - chance score\n",
    "p_chance_hit = get_p_chance_hit(1 / 1000, 1.3)\n",
    "chance_acc = get_unit_chance_agreement_score(fr_gt, fr_s, 600, p_chance_hit)\n",
    "chance_acc"
   ]
  },
  {
   "cell_type": "markdown",
   "metadata": {},
   "source": [
    "## References"
   ]
  },
  {
   "cell_type": "markdown",
   "metadata": {},
   "source": [
    "**calculation of agreement score**: https://spikeinterface.readthedocs.io/en/0.100.5/modules/comparison.html?highlight=agreement%20score#more-information-about-hungarian-or-best-match-methods"
   ]
  }
 ],
 "metadata": {
  "kernelspec": {
   "display_name": "env_kilosort_silico",
   "language": "python",
   "name": "python3"
  },
  "language_info": {
   "codemirror_mode": {
    "name": "ipython",
    "version": 3
   },
   "file_extension": ".py",
   "mimetype": "text/x-python",
   "name": "python",
   "nbconvert_exporter": "python",
   "pygments_lexer": "ipython3",
   "version": "3.9.7"
  },
  "orig_nbformat": 4
 },
 "nbformat": 4,
 "nbformat_minor": 2
}
