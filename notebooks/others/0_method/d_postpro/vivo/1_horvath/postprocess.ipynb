{
 "cells": [
  {
   "cell_type": "markdown",
   "metadata": {},
   "source": [
    "# Postprocess"
   ]
  },
  {
   "cell_type": "markdown",
   "metadata": {},
   "source": [
    "activate npx..."
   ]
  },
  {
   "cell_type": "code",
   "execution_count": 1,
   "metadata": {},
   "outputs": [
    {
     "name": "stdout",
     "output_type": "stream",
     "text": [
      "2023-11-05 19:47:27,504 - root - utils.py - get_config - INFO - Reading experiment config.\n",
      "2023-11-05 19:47:27,512 - root - utils.py - get_config - INFO - Reading experiment config. - done\n",
      "2023-11-05 19:47:27,513 - root - utils.py - get_config - INFO - Reading experiment config.\n",
      "2023-11-05 19:47:27,520 - root - utils.py - get_config - INFO - Reading experiment config. - done\n",
      "2023-11-05 19:47:27,521 - root - utils.py - get_config - INFO - Reading experiment config.\n",
      "2023-11-05 19:47:27,528 - root - utils.py - get_config - INFO - Reading experiment config. - done\n"
     ]
    }
   ],
   "source": [
    "%load_ext autoreload\n",
    "%autoreload 2\n",
    "import os\n",
    "import spikeinterface as si\n",
    "\n",
    "PROJ_PATH = \"/gpfs/bbp.cscs.ch/project/proj68/home/laquitai/sfn_2023\"\n",
    "os.chdir(PROJ_PATH)\n",
    "\n",
    "from src.nodes.utils import get_config\n",
    "from src.nodes.postpro import biases, layer, spikestats\n",
    "\n",
    "EXPERIMENT = \"vivo_horvath\"\n",
    "DATE = \"2021_file_1\"\n",
    "data_conf, _ = get_config(EXPERIMENT, DATE).values()\n",
    "SORTING_PATH_1 = data_conf[\"sorting\"][\"sorters\"][\"kilosort3\"][\"output\"]\n",
    "RECORDING_PATH_1 = data_conf[\"probe_wiring\"][\"input\"]\n",
    "\n",
    "DATE = \"2021_file_2\"\n",
    "data_conf, _ = get_config(EXPERIMENT, DATE).values()\n",
    "SORTING_PATH_2 = data_conf[\"sorting\"][\"sorters\"][\"kilosort3\"][\"output\"]\n",
    "RECORDING_PATH_2 = data_conf[\"probe_wiring\"][\"input\"]\n",
    "\n",
    "DATE = \"2021_file_3\"\n",
    "data_conf, _ = get_config(EXPERIMENT, DATE).values()\n",
    "SORTING_PATH_3 = data_conf[\"sorting\"][\"sorters\"][\"kilosort3\"][\"output\"]\n",
    "RECORDING_PATH_3 = data_conf[\"probe_wiring\"][\"input\"]"
   ]
  },
  {
   "cell_type": "markdown",
   "metadata": {},
   "source": [
    "## Sorted units"
   ]
  },
  {
   "cell_type": "markdown",
   "metadata": {},
   "source": [
    "### `false positive` (impossible)"
   ]
  },
  {
   "cell_type": "markdown",
   "metadata": {},
   "source": [
    "### `layer` and `contact` (26m)"
   ]
  },
  {
   "cell_type": "markdown",
   "metadata": {},
   "source": [
    "note: this creates waveform extractors (extracts and saves waveforms)\n",
    "```bash\n",
    "sbatch cluster/postpro/label_sorted_unit_layer_vivo_horvath.sbatch\n",
    "```"
   ]
  },
  {
   "cell_type": "markdown",
   "metadata": {},
   "source": [
    "### `firing rate` (5s)"
   ]
  },
  {
   "cell_type": "code",
   "execution_count": 2,
   "metadata": {},
   "outputs": [],
   "source": [
    "# sorted\n",
    "spikestats.label_firing_rates(RECORDING_PATH_1, SORTING_PATH_1)\n",
    "spikestats.label_firing_rates(RECORDING_PATH_2, SORTING_PATH_2)\n",
    "spikestats.label_firing_rates(RECORDING_PATH_3, SORTING_PATH_3)"
   ]
  }
 ],
 "metadata": {
  "kernelspec": {
   "display_name": "npx_10m_384ch_unit_classes",
   "language": "python",
   "name": "python3"
  },
  "language_info": {
   "codemirror_mode": {
    "name": "ipython",
    "version": 3
   },
   "file_extension": ".py",
   "mimetype": "text/x-python",
   "name": "python",
   "nbconvert_exporter": "python",
   "pygments_lexer": "ipython3",
   "version": "3.9.7"
  }
 },
 "nbformat": 4,
 "nbformat_minor": 2
}
