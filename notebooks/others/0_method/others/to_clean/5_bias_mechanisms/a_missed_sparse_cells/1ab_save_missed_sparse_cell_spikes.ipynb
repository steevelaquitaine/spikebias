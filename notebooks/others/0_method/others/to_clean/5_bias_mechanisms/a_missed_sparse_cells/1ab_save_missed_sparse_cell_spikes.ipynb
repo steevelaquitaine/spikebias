{
 "cells": [
  {
   "attachments": {},
   "cell_type": "markdown",
   "metadata": {
    "slideshow": {
     "slide_type": "slide"
    }
   },
   "source": [
    "# Sort missed, detected sparse cells waveforms\n",
    "\n",
    "author: steeve.laquitaine@epfl.ch\n",
    "\n",
    "\n",
    "* `534` near-contact cells\n",
    "* `472` pyramidal cells\n"
   ]
  },
  {
   "cell_type": "markdown",
   "metadata": {},
   "source": [
    "setup virtual env env_kilosort_silico"
   ]
  },
  {
   "cell_type": "code",
   "execution_count": 3,
   "metadata": {},
   "outputs": [
    {
     "name": "stdout",
     "output_type": "stream",
     "text": [
      "The autoreload extension is already loaded. To reload it, use:\n",
      "  %reload_ext autoreload\n",
      "2023-05-26 14:45:26,536 - root - utils.py - get_config - INFO - Reading experiment config.\n",
      "2023-05-26 14:45:26,560 - root - utils.py - get_config - INFO - Reading experiment config. - done\n"
     ]
    }
   ],
   "source": [
    "# SETUP PACKAGES \n",
    "%load_ext autoreload\n",
    "%autoreload 2\n",
    "import os \n",
    "import numpy as np\n",
    "from matplotlib import pyplot as plt\n",
    "import pandas as pd\n",
    "import shutil\n",
    "import glob\n",
    "\n",
    "# SET PROJECT PATH\n",
    "PROJ_PATH = \"/gpfs/bbp.cscs.ch/project/proj68/home/laquitai/spike-sorting\"\n",
    "os.chdir(PROJ_PATH)\n",
    "from src.nodes.utils import get_config, write_metadata\n",
    "from src.nodes.prepro import preprocess\n",
    "from src.nodes.truth.silico import ground_truth\n",
    "from src.nodes.io.silico.loading import load_campaign_params\n",
    "from src.nodes.dataeng.silico import probe_wiring\n",
    "from src.pipes.sorting import match_sorted_to_true_neuropixels_2023_02_19 as match\n",
    "from src.nodes.postpro import waveform, feateng\n",
    "\n",
    "# SET PARAMETERS\n",
    "EXPERIMENT = \"silico_neuropixels\"   # specifies the experiment \n",
    "SIMULATION_DATE = \"2023_02_19\"      # specifies the run (date)\n",
    "MS_BEFORE = 3       # ms\n",
    "MS_AFTER = 3        # ms\n",
    "CELL_ID = 4229506   # the most active near-probe pyramidal cell\n",
    "CHANNEL_IDS = np.arange(64,80).tolist()   # plot traces from channels nearest to filtered neuron group\n",
    "LOAD_GROUND_TRUTH = True\n",
    "LOAD_WAVEFORMS = True\n",
    "\n",
    "\n",
    "# SETUP CONFIG\n",
    "data_conf, param_conf = get_config(EXPERIMENT, SIMULATION_DATE).values()\n",
    "\n",
    "\n",
    "# SETUP PATH\n",
    "SPIKE_FILE_PATH = data_conf[\"dataeng\"][\"campaign\"][\"output\"][\"spike_file_path\"]\n",
    "RAW_LFP_TRACE_FILE_PATH = data_conf[\"dataeng\"][\"campaign\"][\"output\"][\"trace_file_path\"]\n",
    "CELL_TRACE_FILE_PATH = data_conf[\"dataeng\"][\"campaign\"][\"output\"][\"unit_trace_path\"]+\"cell_3754013_trace.pkl\"\n",
    "CELL_MATCHING_PATH = data_conf[\"postprocessing\"][\"cell_matching\"]\n",
    "\n",
    "\n",
    "# SET WAVEFORM FOLDER\n",
    "STUDY_FOLDER = data_conf[\"postprocessing\"][\"waveform\"][\"study\"]\n",
    "\n",
    "\n",
    "# FIGURE \n",
    "FIG_PATH = data_conf[\"figures\"][\"silico\"][\"lfp_derived_waveforms_test\"]"
   ]
  },
  {
   "attachments": {},
   "cell_type": "markdown",
   "metadata": {},
   "source": [
    "## Get spike waveforms\n",
    "\n",
    "1. We preprocess the raw LFP traces\n",
    "2. We extract the waveforms within -3 to 3 ms centered on the spike timestamps of the most active pyramidal to have a large enough spike sample size.\n",
    "3. We plot the spike-triggered average of each contact\n",
    "4. We plot the neuron and contact locations associated with each spike triggered average\n",
    "\n",
    "TODO:\n",
    "- spike location conversion takes lots of time. Solve or parallelize."
   ]
  },
  {
   "cell_type": "code",
   "execution_count": 5,
   "metadata": {},
   "outputs": [],
   "source": [
    "# load existing waveform extractor\n",
    "if LOAD_WAVEFORMS:\n",
    "    lfp_recording = preprocess.load(data_conf)\n",
    "    WaveformExtractor = waveform.load(lfp_recording, study_folder=STUDY_FOLDER, ms_before=MS_BEFORE, ms_after=MS_AFTER)\n",
    "else:\n",
    "    # WARNING ! Preprocess recording and extract spikes (stats: 2 hours / 10 min recording, 534 near-contact cells)\n",
    "    WaveformExtractor = waveform.run_from_files(\n",
    "        experiment=EXPERIMENT,\n",
    "        simulation_date=SIMULATION_DATE,\n",
    "        lfp_trace_file=RAW_LFP_TRACE_FILE_PATH,\n",
    "        spike_file=SPIKE_FILE_PATH,\n",
    "        study_folder=STUDY_FOLDER,\n",
    "        ms_before=MS_BEFORE,\n",
    "        ms_after=MS_AFTER\n",
    "        )"
   ]
  },
  {
   "attachments": {},
   "cell_type": "markdown",
   "metadata": {},
   "source": [
    "## Get Ground truth sorting"
   ]
  },
  {
   "cell_type": "code",
   "execution_count": 6,
   "metadata": {},
   "outputs": [
    {
     "name": "stdout",
     "output_type": "stream",
     "text": [
      "2023-05-26 14:49:31,624 - root - ground_truth.py - load - INFO - loading already processed ground truth SortingExtractor ...\n",
      "2023-05-26 14:49:31,662 - root - ground_truth.py - load - INFO - loading already processed true sorting - done in 0.0\n",
      "near-contact pyramidal cells (count):  472\n"
     ]
    }
   ],
   "source": [
    "# filter all near-contact pyramidal cells\n",
    "simulation = load_campaign_params(data_conf)\n",
    "\n",
    "# load\n",
    "if LOAD_GROUND_TRUTH:\n",
    "    Truth = ground_truth.load(data_conf)\n",
    "else:\n",
    "    # or compute\n",
    "    Truth = ground_truth.run(simulation, data_conf, param_conf)[\"ground_truth_sorting_object\"]\n",
    "cell_morph = simulation[\"circuit\"].cells.get(Truth.unit_ids, properties=['morph_class'])\n",
    "CELL_IDS = cell_morph[cell_morph[\"morph_class\"] == \"PYR\"].index.values\n",
    "print(\"near-contact pyramidal cells (count): \", len(CELL_IDS))"
   ]
  },
  {
   "cell_type": "code",
   "execution_count": 9,
   "metadata": {},
   "outputs": [],
   "source": [
    "# for each pyramidal cell (15 min for 472 cells)\n",
    "for cell_i in CELL_IDS:\n",
    "    \n",
    "    # plot waveform\n",
    "    fig = waveform.plot(WaveformExtractor=WaveformExtractor, cell_id=cell_i)\n",
    "\n",
    "    # write\n",
    "    if not os.path.isdir(f\"{FIG_PATH}pyramidal/\"):\n",
    "        os.makedirs(f\"{FIG_PATH}pyramidal/\")\n",
    "    fig.savefig(f\"{FIG_PATH}pyramidal/cell_{cell_i}\", dpi=300, bbox_inches='tight')\n",
    "\n",
    "    # prevent display in notebook\n",
    "    plt.close()"
   ]
  },
  {
   "attachments": {},
   "cell_type": "markdown",
   "metadata": {},
   "source": [
    "## Sort missed, detected sparse firing cells"
   ]
  },
  {
   "cell_type": "code",
   "execution_count": 7,
   "metadata": {},
   "outputs": [
    {
     "name": "stdout",
     "output_type": "stream",
     "text": [
      "2023-05-26 14:50:44,033 - root - match_sorted_to_true_neuropixels_2023_02_19.py - run - INFO - loading kilosort3 Sorting Extractor\n",
      "2023-05-26 14:50:44,060 - root - match_sorted_to_true_neuropixels_2023_02_19.py - run - INFO - loading kilosort3 Sorting Extractor - done: 0.0\n",
      "2023-05-26 14:50:44,062 - root - match_sorted_to_true_neuropixels_2023_02_19.py - run - INFO - loading Ground truth Sorting Extractor\n",
      "2023-05-26 14:50:44,071 - root - match_sorted_to_true_neuropixels_2023_02_19.py - run - INFO - loading Ground truth Sorting Extractor - done: 0.0\n",
      "2023-05-26 14:52:56,592 - root - match_sorted_to_true_neuropixels_2023_02_19.py - run - INFO - Detecting true cell oversplit - done\n",
      "2023-05-26 14:52:56,599 - root - match_sorted_to_true_neuropixels_2023_02_19.py - run - INFO - Detecting true cell misses - done\n"
     ]
    },
    {
     "name": "stderr",
     "output_type": "stream",
     "text": [
      "/gpfs/bbp.cscs.ch/project/proj68/home/laquitai/spike-sorting/src/pipes/sorting/match_sorted_to_true_neuropixels_2023_02_19.py:93: SettingWithCopyWarning: \n",
      "A value is trying to be set on a copy of a slice from a DataFrame\n",
      "\n",
      "See the caveats in the documentation: https://pandas.pydata.org/pandas-docs/stable/user_guide/indexing.html#returning-a-view-versus-a-copy\n",
      "  cell_matching[\"oversplit_true_cell\"].iloc[oversplit.index] = True\n"
     ]
    },
    {
     "name": "stdout",
     "output_type": "stream",
     "text": [
      "2023-05-26 14:53:09,820 - root - match_sorted_to_true_neuropixels_2023_02_19.py - run - INFO - loading kilosort3 Sorting Extractor\n",
      "2023-05-26 14:53:09,832 - root - match_sorted_to_true_neuropixels_2023_02_19.py - run - INFO - loading kilosort3 Sorting Extractor - done: 0.0\n",
      "2023-05-26 14:53:09,833 - root - match_sorted_to_true_neuropixels_2023_02_19.py - run - INFO - loading Ground truth Sorting Extractor\n",
      "2023-05-26 14:53:09,844 - root - match_sorted_to_true_neuropixels_2023_02_19.py - run - INFO - loading Ground truth Sorting Extractor - done: 0.0\n",
      "2023-05-26 14:53:19,760 - root - match_sorted_to_true_neuropixels_2023_02_19.py - run - INFO - Detecting true cell oversplit - done\n",
      "2023-05-26 14:53:19,766 - root - match_sorted_to_true_neuropixels_2023_02_19.py - run - INFO - Detecting true cell misses - done\n"
     ]
    },
    {
     "name": "stderr",
     "output_type": "stream",
     "text": [
      "/gpfs/bbp.cscs.ch/project/proj68/home/laquitai/spike-sorting/src/pipes/sorting/match_sorted_to_true_neuropixels_2023_02_19.py:93: SettingWithCopyWarning: \n",
      "A value is trying to be set on a copy of a slice from a DataFrame\n",
      "\n",
      "See the caveats in the documentation: https://pandas.pydata.org/pandas-docs/stable/user_guide/indexing.html#returning-a-view-versus-a-copy\n",
      "  cell_matching[\"oversplit_true_cell\"].iloc[oversplit.index] = True\n"
     ]
    }
   ],
   "source": [
    "# stats: 40 secs, 534 cells, 1 sorter\n",
    "# create Matching object \n",
    "out = match.run()\n",
    "\n",
    "# load created Matching object\n",
    "cell_matching = pd.read_parquet(CELL_MATCHING_PATH)\n",
    "\n",
    "# label missed and detected cells\n",
    "cell_matching = feateng.add_is_missed(cell_matching, data_conf)"
   ]
  },
  {
   "cell_type": "code",
   "execution_count": 8,
   "metadata": {},
   "outputs": [],
   "source": [
    "# find missed and detected\n",
    "df = cell_matching.drop_duplicates(subset=['true_cell_match'])\n",
    "detected_sparse_cells = df[(df[\"true firing rate\"]<=0.2) & (df[\"detection_label\"]==\"detected\")][\"true_cell_match\"]\n",
    "missed_sparse_cells = df[(df[\"true firing rate\"]<=0.2) & (df[\"detection_label\"]==\"missed\")][\"true_cell_match\"]"
   ]
  },
  {
   "attachments": {},
   "cell_type": "markdown",
   "metadata": {},
   "source": [
    "## Write sorted cell waveform plots to disk"
   ]
  },
  {
   "cell_type": "code",
   "execution_count": 57,
   "metadata": {},
   "outputs": [],
   "source": [
    "# loop through waveform figures and sort\n",
    "waveform_figs = glob.glob(f\"{FIG_PATH}pyramidal/*.png\")\n",
    "\n",
    "# create path to sort figures\n",
    "os.makedirs(f\"{FIG_PATH}pyramidal/missed_sparse/\")\n",
    "os.makedirs(f\"{FIG_PATH}pyramidal/detected_sparse/\")\n",
    "\n",
    "# loop through waveform figures and sort\n",
    "for fig_i, fig_name in enumerate(waveform_figs):\n",
    "    \n",
    "    # get figure's cell id\n",
    "    fig_cell_id = int(os.path.basename(fig_name).removeprefix(\"cell_\").removesuffix(\".png\"))\n",
    "\n",
    "    # sort and copy missed and detected sparse cell figures\n",
    "    # in two folders\n",
    "    if fig_cell_id in missed_sparse_cells.values:\n",
    "        shutil.copy2(f\"{FIG_PATH}pyramidal/cell_{fig_cell_id}.png\", f\"{FIG_PATH}pyramidal/missed_sparse/cell_{fig_cell_id}.png\")\n",
    "    elif fig_cell_id in detected_sparse_cells.values:\n",
    "        shutil.copy2(f\"{FIG_PATH}pyramidal/cell_{fig_cell_id}.png\", f\"{FIG_PATH}pyramidal/detected_sparse/cell_{fig_cell_id}.png\")"
   ]
  }
 ],
 "metadata": {
  "kernelspec": {
   "display_name": "env_silico",
   "language": "python",
   "name": "python3"
  },
  "language_info": {
   "codemirror_mode": {
    "name": "ipython",
    "version": 3
   },
   "file_extension": ".py",
   "mimetype": "text/x-python",
   "name": "python",
   "nbconvert_exporter": "python",
   "pygments_lexer": "ipython3",
   "version": "3.9.7"
  },
  "orig_nbformat": 4,
  "vscode": {
   "interpreter": {
    "hash": "b73fd26bae2910668a6be88f948a34bfaf2ecd970df62c41a60ee29bb0e725b3"
   }
  }
 },
 "nbformat": 4,
 "nbformat_minor": 2
}
