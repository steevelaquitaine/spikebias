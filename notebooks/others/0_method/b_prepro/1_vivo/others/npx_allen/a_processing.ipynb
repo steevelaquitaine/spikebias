{
 "cells": [
  {
   "attachments": {},
   "cell_type": "markdown",
   "metadata": {},
   "source": [
    "# Data processing\n",
    "\n",
    "\n",
    "!! `PROBLEM: This is for low-pass filtered LFP signal only (below 1000 Hz)`!!\n",
    "\n",
    "`The raw neuropixels recording traces are not available for the Allen visual coding experiment`\n",
    "\n",
    "author: steeve.laquitaine@epfl.ch  \n",
    "date: 2023.09.06  \n",
    "last modified: 2023.09.07\n",
    "status: OK  \n",
    "display-status: OK  \n",
    "regression: None  \n",
    "duration: \n",
    "\n",
    "\n",
    "## Setup\n",
    "\n",
    "Activate env from `allensdk.txt`"
   ]
  },
  {
   "cell_type": "code",
   "execution_count": 18,
   "metadata": {},
   "outputs": [
    {
     "name": "stdout",
     "output_type": "stream",
     "text": [
      "The autoreload extension is already loaded. To reload it, use:\n",
      "  %reload_ext autoreload\n",
      "2023-09-07 10:20:43,201 - root - utils.py - get_config - INFO - Reading experiment config.\n",
      "2023-09-07 10:20:43,225 - root - utils.py - get_config - INFO - Reading experiment config. - done\n"
     ]
    }
   ],
   "source": [
    "%load_ext autoreload\n",
    "%autoreload 2\n",
    "\n",
    "import os\n",
    "import numpy as np\n",
    "import pandas as pd\n",
    "from matplotlib import pyplot as plt\n",
    "import spikeinterface.extractors as se \n",
    "\n",
    "# move to project path\n",
    "PROJ_PATH = \"/gpfs/bbp.cscs.ch/project/proj68/home/laquitai/bernstein_2023/\"\n",
    "os.chdir(PROJ_PATH)\n",
    "\n",
    "from src.nodes.utils import get_config\n",
    "from src.nodes.postpro.allen_cell_types import load_session_data\n",
    "from src.nodes.dataeng.allen import allen\n",
    "from src.nodes.prepro import preprocess\n",
    "from src.nodes.dataeng.silico import recording, probe_wiring\n",
    "\n",
    "# SETUP PARAMETERS\n",
    "\n",
    "EXPERIMENT = \"supp/allen_neuropixels\"  # the experiment \n",
    "SIMULATION_DATE = \"2023_08_30\"    # the run (date)\n",
    "PARV_SESSION_ID = 829720705       # optotagged for parvalbumin intern (reliable laser, 1.82 GB).\n",
    "PARV_PROBE_ID = 832129154         # there are 5 in this session. We take the first.\n",
    "data_conf, param_conf = get_config(EXPERIMENT, SIMULATION_DATE).values()\n",
    "RAW_DATA = data_conf[\"raw\"][\"input\"]\n",
    "manifest_path = os.path.join(RAW_DATA, \"manifest.json\")\n",
    "\n",
    "# NWB_PATH = data_conf[\"recording\"][\"input\"]\n",
    "# WRITE_PATH = data_conf[\"probe_wiring\"][\"output\"]\n",
    "# GT_SORTING_PATH = data_conf[\"sorting\"][\"simulation\"][\"ground_truth\"][\"input\"]"
   ]
  },
  {
   "attachments": {},
   "cell_type": "markdown",
   "metadata": {},
   "source": [
    "### Download dataset (on-a-needs-basis)"
   ]
  },
  {
   "attachments": {},
   "cell_type": "markdown",
   "metadata": {},
   "source": [
    "This below downloads on a needs basis: \n",
    "\n",
    "- channels.csv\n",
    "- manifest.json\n",
    "- probes.csv\n",
    "- sessions.csv\n",
    "- units.csv\n",
    "\n",
    "**Data description**:\n",
    "\n",
    "- index column is a unique ID, which serves as a key for accessing the physiology data for each session.\n",
    "- one session per mouse\n",
    "- the age, sex, and genotype of the mouse (in this dataset, there's only one session per mouse)\n",
    "- the number of probes, channels, and units for each session\n",
    "- the brain structures recorded (CCFv3 acronyms)\n",
    "- The gray period stimulus (just a blank gray screen) never gets a block. This is where spontaneous activity is collected."
   ]
  },
  {
   "cell_type": "code",
   "execution_count": 7,
   "metadata": {},
   "outputs": [
    {
     "ename": "TypeError",
     "evalue": "load_session_data() missing 1 required positional argument: 'manifest_path'",
     "output_type": "error",
     "traceback": [
      "\u001b[0;31m---------------------------------------------------------------------------\u001b[0m",
      "\u001b[0;31mTypeError\u001b[0m                                 Traceback (most recent call last)",
      "Cell \u001b[0;32mIn[7], line 2\u001b[0m\n\u001b[1;32m      1\u001b[0m \u001b[39m# get data from a mouse session optotagged for parvalbumin interneurons\u001b[39;00m\n\u001b[0;32m----> 2\u001b[0m session \u001b[39m=\u001b[39m load_session_data(manifest_path)\n",
      "\u001b[0;31mTypeError\u001b[0m: load_session_data() missing 1 required positional argument: 'manifest_path'"
     ]
    }
   ],
   "source": [
    "# get data from a mouse session optotagged for parvalbumin interneurons\n",
    "session = load_session_data(PARV_SESSION_ID, manifest_path)"
   ]
  },
  {
   "attachments": {},
   "cell_type": "markdown",
   "metadata": {},
   "source": [
    "### Download lfp trace for a session and a probe"
   ]
  },
  {
   "cell_type": "code",
   "execution_count": null,
   "metadata": {},
   "outputs": [],
   "source": [
    "# load cached (already downloaded) session (NWB file)\n",
    "session = allen.download_data_from_a_session(PARV_SESSION_ID, manifest_path)\n",
    "\n",
    "# list session's probe ids\n",
    "probe_ids = allen.find_probes_in_visual_cortex(session, manifest_path)\n",
    "\n",
    "# download PROBE_ID's lfp traces (NWB file)\n",
    "parv_lfp = session.get_lfp(PARV_PROBE_ID)"
   ]
  },
  {
   "attachments": {},
   "cell_type": "markdown",
   "metadata": {},
   "source": [
    "### Load raw recording"
   ]
  },
  {
   "cell_type": "code",
   "execution_count": 14,
   "metadata": {},
   "outputs": [
    {
     "name": "stderr",
     "output_type": "stream",
     "text": [
      "/gpfs/bbp.cscs.ch/project/proj68/scratch/laquitai/2_bernstein_2023/envs/allensdk/lib/python3.9/site-packages/hdmf/spec/namespace.py:531: UserWarning: Ignoring cached namespace 'hdmf-common' version 1.1.3 because version 1.5.1 is already loaded.\n",
      "  warn(\"Ignoring cached namespace '%s' version %s because version %s is already loaded.\"\n",
      "/gpfs/bbp.cscs.ch/project/proj68/scratch/laquitai/2_bernstein_2023/envs/allensdk/lib/python3.9/site-packages/hdmf/spec/namespace.py:531: UserWarning: Ignoring cached namespace 'core' version 2.2.2 because version 2.5.0 is already loaded.\n",
      "  warn(\"Ignoring cached namespace '%s' version %s because version %s is already loaded.\"\n"
     ]
    }
   ],
   "source": [
    "# load\n",
    "RecordingExtr = se.NwbRecordingExtractor(\n",
    "    \"/gpfs/bbp.cscs.ch/project/proj68/scratch/laquitai/raw/npx_allen/session_829720705/probe_832129154_lfp.nwb\"\n",
    ")"
   ]
  },
  {
   "attachments": {},
   "cell_type": "markdown",
   "metadata": {},
   "source": [
    "### Cast as SI recording extractor"
   ]
  },
  {
   "cell_type": "code",
   "execution_count": 15,
   "metadata": {},
   "outputs": [
    {
     "name": "stdout",
     "output_type": "stream",
     "text": [
      "write_binary_recording with n_jobs = 1 and chunk_size = None\n"
     ]
    }
   ],
   "source": [
    "# write (3 mins)\n",
    "recording.write(RecordingExtr, data_conf)"
   ]
  },
  {
   "attachments": {},
   "cell_type": "markdown",
   "metadata": {},
   "source": [
    "### Wire probe to recording\n",
    "\n",
    "The collected recording is already wired with a probe."
   ]
  },
  {
   "cell_type": "code",
   "execution_count": 19,
   "metadata": {},
   "outputs": [
    {
     "name": "stdout",
     "output_type": "stream",
     "text": [
      "write_binary_recording with n_jobs = 1 and chunk_size = None\n",
      "2023-09-07 10:24:56,267 - root - probe_wiring.py - write - INFO - Probe wiring done in  208.5 secs\n"
     ]
    }
   ],
   "source": [
    "# takes 3 min\n",
    "\n",
    "# write wired probe to designated path\n",
    "RecordingExtr = recording.load(data_conf)\n",
    "probe_wiring.write(RecordingExtr, data_conf)"
   ]
  },
  {
   "cell_type": "code",
   "execution_count": 21,
   "metadata": {},
   "outputs": [
    {
     "data": {
      "text/plain": [
       "1249.9998432394418"
      ]
     },
     "execution_count": 21,
     "metadata": {},
     "output_type": "execute_result"
    }
   ],
   "source": [
    "RecordingExtr.sampling_frequency"
   ]
  },
  {
   "attachments": {},
   "cell_type": "markdown",
   "metadata": {},
   "source": [
    "### Preprocess"
   ]
  },
  {
   "cell_type": "code",
   "execution_count": 20,
   "metadata": {},
   "outputs": [
    {
     "ename": "ValueError",
     "evalue": "Digital filter critical frequencies must be 0 < Wn < 1",
     "output_type": "error",
     "traceback": [
      "\u001b[0;31m---------------------------------------------------------------------------\u001b[0m",
      "\u001b[0;31mValueError\u001b[0m                                Traceback (most recent call last)",
      "Cell \u001b[0;32mIn[20], line 4\u001b[0m\n\u001b[1;32m      1\u001b[0m \u001b[39m# takes 32 min\u001b[39;00m\n\u001b[1;32m      2\u001b[0m \n\u001b[1;32m      3\u001b[0m \u001b[39m# preprocess (8 min)\u001b[39;00m\n\u001b[0;32m----> 4\u001b[0m Preprocessed \u001b[39m=\u001b[39m preprocess\u001b[39m.\u001b[39;49mrun(data_conf, param_conf)\n\u001b[1;32m      6\u001b[0m \u001b[39m# write\u001b[39;00m\n\u001b[1;32m      7\u001b[0m preprocess\u001b[39m.\u001b[39mwrite(Preprocessed, data_conf)\n",
      "File \u001b[0;32m/gpfs/bbp.cscs.ch/project/proj68/home/laquitai/bernstein_2023/src/nodes/prepro/preprocess.py:58\u001b[0m, in \u001b[0;36mrun\u001b[0;34m(dataset_conf, param_conf)\u001b[0m\n\u001b[1;32m     55\u001b[0m trace \u001b[39m=\u001b[39m probe_wiring\u001b[39m.\u001b[39mload(dataset_conf)\n\u001b[1;32m     57\u001b[0m \u001b[39m# bandpass\u001b[39;00m\n\u001b[0;32m---> 58\u001b[0m bandpassed \u001b[39m=\u001b[39m si\u001b[39m.\u001b[39;49mbandpass_filter(\n\u001b[1;32m     59\u001b[0m     trace, freq_min\u001b[39m=\u001b[39;49mFREQ_MIN, freq_max\u001b[39m=\u001b[39;49mFREQ_MAX\n\u001b[1;32m     60\u001b[0m )\n\u001b[1;32m     62\u001b[0m \u001b[39m# set common reference\u001b[39;00m\n\u001b[1;32m     63\u001b[0m referenced \u001b[39m=\u001b[39m si\u001b[39m.\u001b[39mcommon_reference(\n\u001b[1;32m     64\u001b[0m     bandpassed, reference\u001b[39m=\u001b[39m\u001b[39m\"\u001b[39m\u001b[39mglobal\u001b[39m\u001b[39m\"\u001b[39m, operator\u001b[39m=\u001b[39m\u001b[39m\"\u001b[39m\u001b[39mmedian\u001b[39m\u001b[39m\"\u001b[39m\n\u001b[1;32m     65\u001b[0m )\n",
      "File \u001b[0;32m/gpfs/bbp.cscs.ch/project/proj68/scratch/laquitai/2_bernstein_2023/envs/allensdk/lib/python3.9/site-packages/spikeinterface/core/core_tools.py:27\u001b[0m, in \u001b[0;36mdefine_function_from_class.<locals>.reader_func\u001b[0;34m(*args, **kwargs)\u001b[0m\n\u001b[1;32m     25\u001b[0m \u001b[39m@copy_signature\u001b[39m(source_class)\n\u001b[1;32m     26\u001b[0m \u001b[39mdef\u001b[39;00m \u001b[39mreader_func\u001b[39m(\u001b[39m*\u001b[39margs, \u001b[39m*\u001b[39m\u001b[39m*\u001b[39mkwargs):\n\u001b[0;32m---> 27\u001b[0m     \u001b[39mreturn\u001b[39;00m source_class(\u001b[39m*\u001b[39;49margs, \u001b[39m*\u001b[39;49m\u001b[39m*\u001b[39;49mkwargs)\n",
      "File \u001b[0;32m/gpfs/bbp.cscs.ch/project/proj68/scratch/laquitai/2_bernstein_2023/envs/allensdk/lib/python3.9/site-packages/spikeinterface/preprocessing/filter.py:156\u001b[0m, in \u001b[0;36mBandpassFilterRecording.__init__\u001b[0;34m(self, recording, freq_min, freq_max, margin_ms, dtype, **filter_kwargs)\u001b[0m\n\u001b[1;32m    155\u001b[0m \u001b[39mdef\u001b[39;00m \u001b[39m__init__\u001b[39m(\u001b[39mself\u001b[39m, recording, freq_min\u001b[39m=\u001b[39m\u001b[39m300.\u001b[39m, freq_max\u001b[39m=\u001b[39m\u001b[39m6000.\u001b[39m, margin_ms\u001b[39m=\u001b[39m\u001b[39m5.0\u001b[39m, dtype\u001b[39m=\u001b[39m\u001b[39mNone\u001b[39;00m, \u001b[39m*\u001b[39m\u001b[39m*\u001b[39mfilter_kwargs):\n\u001b[0;32m--> 156\u001b[0m     FilterRecording\u001b[39m.\u001b[39;49m\u001b[39m__init__\u001b[39;49m(\u001b[39mself\u001b[39;49m, recording, band\u001b[39m=\u001b[39;49m[freq_min, freq_max], margin_ms\u001b[39m=\u001b[39;49mmargin_ms, dtype\u001b[39m=\u001b[39;49mdtype,\n\u001b[1;32m    157\u001b[0m                              \u001b[39m*\u001b[39;49m\u001b[39m*\u001b[39;49mfilter_kwargs)\n\u001b[1;32m    158\u001b[0m     \u001b[39mself\u001b[39m\u001b[39m.\u001b[39m_kwargs \u001b[39m=\u001b[39m \u001b[39mdict\u001b[39m(recording\u001b[39m=\u001b[39mrecording\u001b[39m.\u001b[39mto_dict(), freq_min\u001b[39m=\u001b[39mfreq_min, freq_max\u001b[39m=\u001b[39mfreq_max, margin_ms\u001b[39m=\u001b[39mmargin_ms)\n\u001b[1;32m    159\u001b[0m     \u001b[39mself\u001b[39m\u001b[39m.\u001b[39m_kwargs\u001b[39m.\u001b[39mupdate(filter_kwargs)\n",
      "File \u001b[0;32m/gpfs/bbp.cscs.ch/project/proj68/scratch/laquitai/2_bernstein_2023/envs/allensdk/lib/python3.9/site-packages/spikeinterface/preprocessing/filter.py:73\u001b[0m, in \u001b[0;36mFilterRecording.__init__\u001b[0;34m(self, recording, band, btype, filter_order, ftype, filter_mode, margin_ms, coeff, dtype)\u001b[0m\n\u001b[1;32m     71\u001b[0m     N \u001b[39m=\u001b[39m filter_order\n\u001b[1;32m     72\u001b[0m     \u001b[39m# self.coeff is 'sos' or 'ab' style\u001b[39;00m\n\u001b[0;32m---> 73\u001b[0m     filter_coeff \u001b[39m=\u001b[39m scipy\u001b[39m.\u001b[39;49msignal\u001b[39m.\u001b[39;49miirfilter(N, Wn, analog\u001b[39m=\u001b[39;49m\u001b[39mFalse\u001b[39;49;00m, btype\u001b[39m=\u001b[39;49mbtype, ftype\u001b[39m=\u001b[39;49mftype, output\u001b[39m=\u001b[39;49mfilter_mode)\n\u001b[1;32m     74\u001b[0m \u001b[39melse\u001b[39;00m:\n\u001b[1;32m     75\u001b[0m     filter_coeff \u001b[39m=\u001b[39m coeff\n",
      "File \u001b[0;32m/gpfs/bbp.cscs.ch/project/proj68/scratch/laquitai/2_bernstein_2023/envs/allensdk/lib/python3.9/site-packages/scipy/signal/_filter_design.py:2556\u001b[0m, in \u001b[0;36miirfilter\u001b[0;34m(N, Wn, rp, rs, btype, analog, ftype, output, fs)\u001b[0m\n\u001b[1;32m   2553\u001b[0m     \u001b[39mif\u001b[39;00m fs \u001b[39mis\u001b[39;00m \u001b[39mnot\u001b[39;00m \u001b[39mNone\u001b[39;00m:\n\u001b[1;32m   2554\u001b[0m         \u001b[39mraise\u001b[39;00m \u001b[39mValueError\u001b[39;00m(\u001b[39m\"\u001b[39m\u001b[39mDigital filter critical frequencies must \u001b[39m\u001b[39m\"\u001b[39m\n\u001b[1;32m   2555\u001b[0m                          \u001b[39mf\u001b[39m\u001b[39m\"\u001b[39m\u001b[39mbe 0 < Wn < fs/2 (fs=\u001b[39m\u001b[39m{\u001b[39;00mfs\u001b[39m}\u001b[39;00m\u001b[39m -> fs/2=\u001b[39m\u001b[39m{\u001b[39;00mfs\u001b[39m/\u001b[39m\u001b[39m2\u001b[39m\u001b[39m}\u001b[39;00m\u001b[39m)\u001b[39m\u001b[39m\"\u001b[39m)\n\u001b[0;32m-> 2556\u001b[0m     \u001b[39mraise\u001b[39;00m \u001b[39mValueError\u001b[39;00m(\u001b[39m\"\u001b[39m\u001b[39mDigital filter critical frequencies \u001b[39m\u001b[39m\"\u001b[39m\n\u001b[1;32m   2557\u001b[0m                      \u001b[39m\"\u001b[39m\u001b[39mmust be 0 < Wn < 1\u001b[39m\u001b[39m\"\u001b[39m)\n\u001b[1;32m   2558\u001b[0m fs \u001b[39m=\u001b[39m \u001b[39m2.0\u001b[39m\n\u001b[1;32m   2559\u001b[0m warped \u001b[39m=\u001b[39m \u001b[39m2\u001b[39m \u001b[39m*\u001b[39m fs \u001b[39m*\u001b[39m tan(pi \u001b[39m*\u001b[39m Wn \u001b[39m/\u001b[39m fs)\n",
      "\u001b[0;31mValueError\u001b[0m: Digital filter critical frequencies must be 0 < Wn < 1"
     ]
    }
   ],
   "source": [
    "# takes 32 min\n",
    "\n",
    "# preprocess (8 min)\n",
    "Preprocessed = preprocess.run(data_conf, param_conf)\n",
    "\n",
    "# write\n",
    "preprocess.write(Preprocessed, data_conf)\n",
    "\n",
    "# sanity check is preprocessed\n",
    "print(Preprocessed.is_filtered())"
   ]
  },
  {
   "attachments": {},
   "cell_type": "markdown",
   "metadata": {},
   "source": [
    "### References\n",
    "\n",
    "\n",
    "https://allensdk.readthedocs.io/en/latest/_static/examples/nb/ecephys_session.html\n",
    "\n",
    "https://allensdk.readthedocs.io/en/latest/_static/examples/nb/ecephys_data_access.html\n",
    "\n",
    "Find FFI (Parvalbumin) neurons : https://allensdk.readthedocs.io/en/latest/_static/examples/nb/ecephys_optotagging.html"
   ]
  }
 ],
 "metadata": {
  "kernelspec": {
   "display_name": "npx_10m_384ch_unit_classes",
   "language": "python",
   "name": "python3"
  },
  "language_info": {
   "codemirror_mode": {
    "name": "ipython",
    "version": 3
   },
   "file_extension": ".py",
   "mimetype": "text/x-python",
   "name": "python",
   "nbconvert_exporter": "python",
   "pygments_lexer": "ipython3",
   "version": "3.9.7"
  },
  "orig_nbformat": 4
 },
 "nbformat": 4,
 "nbformat_minor": 2
}
