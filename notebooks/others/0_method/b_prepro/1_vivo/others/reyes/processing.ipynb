{
 "cells": [
  {
   "attachments": {},
   "cell_type": "markdown",
   "metadata": {},
   "source": [
    "# Processing\n",
    "\n",
    "date: 15.09.2023"
   ]
  },
  {
   "attachments": {},
   "cell_type": "markdown",
   "metadata": {},
   "source": [
    "# Setup\n",
    "\n",
    "Activate `npx_10m_384ch_unit_classes` venv"
   ]
  },
  {
   "cell_type": "code",
   "execution_count": 1,
   "metadata": {},
   "outputs": [
    {
     "name": "stdout",
     "output_type": "stream",
     "text": [
      "2023-09-15 13:00:40,818 - root - utils.py - get_config - INFO - Reading experiment config.\n",
      "2023-09-15 13:00:40,826 - root - utils.py - get_config - INFO - Reading experiment config. - done\n"
     ]
    }
   ],
   "source": [
    " # listen to changes\n",
    "%load_ext autoreload\n",
    "%autoreload 2\n",
    "\n",
    "from matplotlib import pyplot as plt\n",
    "import numpy as np\n",
    "import scipy\n",
    "import spikeinterface.extractors as se \n",
    "import os\n",
    "import spikeinterface as si\n",
    "import spikeinterface.preprocessing as spre\n",
    "import spikeinterface.widgets as sw\n",
    "import spikeinterface.extractors as se \n",
    "import shutil\n",
    "import probeinterface as pi\n",
    "\n",
    "# SET PROJECT PATH\n",
    "PROJ_PATH = \"/gpfs/bbp.cscs.ch/project/proj68/home/laquitai/bernstein_2023/\"\n",
    "os.chdir(PROJ_PATH)\n",
    "\n",
    "from src.nodes.utils import get_config\n",
    "from src.nodes.dataeng.silico import recording, probe_wiring\n",
    "from src.nodes.prepro import preprocess\n",
    "\n",
    "# SETUP PARAMETERS\n",
    "EXPERIMENT = \"vivo_reyes\" \n",
    "SIMULATION_DATE = \"2015\"   \n",
    "data_conf, param_conf = get_config(EXPERIMENT, SIMULATION_DATE).values()\n",
    "SAMPFREQ = param_conf[\"run\"][\"sampling_frequency\"]\n",
    "SPONTANEOUS_PERIOD = param_conf[\"S001E009F002_Raw\"][\"spontaneous_period\"]\n",
    "N_CONTACTS = param_conf[\"S001E009F002_Raw\"][\"probe\"][\"n_contacts\"]\n",
    "GOOD_CHANNELS = param_conf[\"S001E009F002_Raw\"][\"good_channels\"]"
   ]
  },
  {
   "cell_type": "markdown",
   "metadata": {},
   "source": [
    "### Load raw"
   ]
  },
  {
   "cell_type": "code",
   "execution_count": 219,
   "metadata": {},
   "outputs": [],
   "source": [
    "Recording = se.read_mcsraw(data_conf[\"raw\"])"
   ]
  },
  {
   "cell_type": "markdown",
   "metadata": {},
   "source": [
    "### Describe"
   ]
  },
  {
   "cell_type": "code",
   "execution_count": 220,
   "metadata": {},
   "outputs": [
    {
     "data": {
      "text/plain": [
       "dict_keys(['gain_to_uV', 'offset_to_uV', 'channel_name'])"
      ]
     },
     "execution_count": 220,
     "metadata": {},
     "output_type": "execute_result"
    }
   ],
   "source": [
    "# list properties\n",
    "Recording._properties.keys()"
   ]
  },
  {
   "cell_type": "code",
   "execution_count": 221,
   "metadata": {},
   "outputs": [
    {
     "data": {
      "text/plain": [
       "array([0.125, 0.125, 0.125, 0.125, 0.125, 0.125, 0.125, 0.125, 0.125,\n",
       "       0.125, 0.125, 0.125, 0.125, 0.125, 0.125, 0.125, 0.125, 0.125])"
      ]
     },
     "execution_count": 221,
     "metadata": {},
     "output_type": "execute_result"
    }
   ],
   "source": [
    "gain_to_uV = Recording.get_property('gain_to_uV')\n",
    "gain_to_uV"
   ]
  },
  {
   "cell_type": "code",
   "execution_count": 222,
   "metadata": {},
   "outputs": [
    {
     "data": {
      "text/plain": [
       "array([-4096., -4096., -4096., -4096., -4096., -4096., -4096., -4096.,\n",
       "       -4096., -4096., -4096., -4096., -4096., -4096., -4096., -4096.,\n",
       "       -4096., -4096.])"
      ]
     },
     "execution_count": 222,
     "metadata": {},
     "output_type": "execute_result"
    }
   ],
   "source": [
    "offset_to_uV = Recording.get_property('offset_to_uV')\n",
    "offset_to_uV"
   ]
  },
  {
   "cell_type": "code",
   "execution_count": 223,
   "metadata": {},
   "outputs": [
    {
     "data": {
      "text/plain": [
       "array(['El_01', 'El_02', 'El_03', 'El_04', 'El_05', 'El_06', 'El_07',\n",
       "       'El_08', 'El_09', 'El_10', 'El_11', 'El_12', 'El_13', 'El_14',\n",
       "       'El_15', 'El_16', 'El_48', 'El_255'], dtype='<U64')"
      ]
     },
     "execution_count": 223,
     "metadata": {},
     "output_type": "execute_result"
    }
   ],
   "source": [
    "channel_name = Recording.get_property('channel_name')\n",
    "channel_name"
   ]
  },
  {
   "cell_type": "code",
   "execution_count": 224,
   "metadata": {},
   "outputs": [
    {
     "data": {
      "text/plain": [
       "array(['0', '1', '2', '3', '4', '5', '6', '7', '8', '9', '10', '11', '12',\n",
       "       '13', '14', '15', '16', '17'], dtype='<U64')"
      ]
     },
     "execution_count": 224,
     "metadata": {},
     "output_type": "execute_result"
    }
   ],
   "source": [
    "channel_ids = Recording.get_channel_ids()\n",
    "channel_ids"
   ]
  },
  {
   "cell_type": "markdown",
   "metadata": {},
   "source": [
    "### Cast as RecordingExtractor"
   ]
  },
  {
   "cell_type": "code",
   "execution_count": 225,
   "metadata": {},
   "outputs": [],
   "source": [
    "# raw_recording.save(folder=data_conf[\"recording\"][\"output\"], format=\"binary\")"
   ]
  },
  {
   "cell_type": "markdown",
   "metadata": {},
   "source": [
    "### Curate RecordingExtractor"
   ]
  },
  {
   "cell_type": "markdown",
   "metadata": {},
   "source": [
    "1. Drop bad channels"
   ]
  },
  {
   "cell_type": "code",
   "execution_count": 226,
   "metadata": {},
   "outputs": [],
   "source": [
    "# load RecordingExtractor\n",
    "# Recording = si.load_extractor(data_conf[\"recording\"][\"output\"])\n",
    "traces = Recording.get_traces()\n",
    "traces = traces[:, GOOD_CHANNELS]\n",
    "\n",
    "# update properties\n",
    "channel_ids = np.array([str(ci) for ci in GOOD_CHANNELS])\n",
    "gain_to_uV = gain_to_uV[GOOD_CHANNELS]\n",
    "offset_to_uV = offset_to_uV[GOOD_CHANNELS]\n",
    "channel_name = channel_name[GOOD_CHANNELS]"
   ]
  },
  {
   "cell_type": "markdown",
   "metadata": {},
   "source": [
    "1. Keep spontaneous period only\n",
    "\n",
    "try simplifying with `Recording = Recording.frame_slice(start_frame=1200*fs, end_frame=1500*fs)`"
   ]
  },
  {
   "cell_type": "code",
   "execution_count": 227,
   "metadata": {},
   "outputs": [
    {
     "name": "stderr",
     "output_type": "stream",
     "text": [
      "/gpfs/bbp.cscs.ch/project/proj68/scratch/laquitai/2_bernstein_2023/envs/npx_10m_384ch_unit_classes/lib/python3.9/site-packages/spikeinterface/core/baserecording.py:194: UserWarning: Setting times with Recording.set_times() is not recommended because times are not always propagated to across preprocessingUse use this carefully!\n",
      "  warn('Setting times with Recording.set_times() is not recommended because '\n"
     ]
    }
   ],
   "source": [
    "# get sample times, locate spontaneous timepoints\n",
    "times = Recording.get_times()\n",
    "spontaneous_loc = (times >= SPONTANEOUS_PERIOD[0]) & (times < SPONTANEOUS_PERIOD[1])\n",
    "traces = traces[spontaneous_loc,:]\n",
    "\n",
    "# create spontaneous recording\n",
    "Recording = se.NumpyRecording([traces], sampling_frequency=SAMPFREQ, channel_ids=channel_ids)\n",
    "\n",
    "# reset times\n",
    "new_times = np.arange(0, SPONTANEOUS_PERIOD[1] - SPONTANEOUS_PERIOD[0], 1/SAMPFREQ)\n",
    "Recording.set_times(new_times)"
   ]
  },
  {
   "cell_type": "code",
   "execution_count": 228,
   "metadata": {},
   "outputs": [],
   "source": [
    "# unit-test spontaneous period duration\n",
    "assert sum(spontaneous_loc) / SAMPFREQ == SPONTANEOUS_PERIOD[1] - SPONTANEOUS_PERIOD[0], \"the period is wrong\""
   ]
  },
  {
   "cell_type": "markdown",
   "metadata": {},
   "source": [
    "3. Reset properties"
   ]
  },
  {
   "cell_type": "code",
   "execution_count": 229,
   "metadata": {},
   "outputs": [],
   "source": [
    "Recording.set_property('gain_to_uV', values=gain_to_uV) \n",
    "Recording.set_property('offset_to_uV', values=offset_to_uV)\n",
    "Recording.set_property('channel_name', values=channel_name)"
   ]
  },
  {
   "cell_type": "markdown",
   "metadata": {},
   "source": [
    "4. Rewrite"
   ]
  },
  {
   "cell_type": "code",
   "execution_count": 230,
   "metadata": {},
   "outputs": [
    {
     "name": "stdout",
     "output_type": "stream",
     "text": [
      "write_binary_recording with n_jobs = 1 and chunk_size = None\n"
     ]
    },
    {
     "data": {
      "text/plain": [
       "BinaryFolderRecording: 16 channels - 1 segments - 20.0kHz - 3300.000s"
      ]
     },
     "execution_count": 230,
     "metadata": {},
     "output_type": "execute_result"
    }
   ],
   "source": [
    "# rewrite\n",
    "shutil.rmtree(data_conf[\"recording\"][\"output\"], ignore_errors=True)\n",
    "Recording.save(folder=data_conf[\"recording\"][\"output\"], format=\"binary\")"
   ]
  },
  {
   "cell_type": "code",
   "execution_count": 232,
   "metadata": {},
   "outputs": [
    {
     "data": {
      "text/plain": [
       "'/gpfs/bbp.cscs.ch/project/proj68/scratch/laquitai/2_bernstein_2023/dataeng/1_vivo/reyes/campaign/recording/traces'"
      ]
     },
     "execution_count": 232,
     "metadata": {},
     "output_type": "execute_result"
    }
   ],
   "source": [
    "data_conf[\"recording\"][\"output\"]"
   ]
  },
  {
   "cell_type": "markdown",
   "metadata": {},
   "source": [
    "### Probe wiring\n",
    "\n",
    "see 1"
   ]
  },
  {
   "cell_type": "code",
   "execution_count": 155,
   "metadata": {},
   "outputs": [
    {
     "data": {
      "text/plain": [
       "NumpyRecording: 16 channels - 1 segments - 20.0kHz - 3300.000s"
      ]
     },
     "execution_count": 155,
     "metadata": {},
     "output_type": "execute_result"
    }
   ],
   "source": [
    "# mapping = np.flip(np.array([27, 26, 28, 25, 31, 22, 30, 23, 33, 20, 34, 19, 32, 21, 29, 24]))\n",
    "# mapping = mapping - min(mapping)\n",
    "# probe = pi.generator.generate_linear_probe(num_elec=16, ypitch=100, contact_shapes='circle', contact_shape_params={'radius': 12.5})\n",
    "# probe.create_auto_shape(probe_type='tip', margin = 50)\n",
    "# probe.set_device_channel_indices(mapping)\n",
    "# # pi.plotting.plot_probe(probe, with_channel_index=True, with_device_index=True) \n",
    "# Recording.set_probe(probe, in_place = True)"
   ]
  },
  {
   "cell_type": "markdown",
   "metadata": {},
   "source": [
    "### Check Probe"
   ]
  },
  {
   "cell_type": "code",
   "execution_count": 4,
   "metadata": {},
   "outputs": [
    {
     "name": "stdout",
     "output_type": "stream",
     "text": [
      "2023-09-15 13:16:51,197 - root - probe_wiring.py - run - INFO - probe: vivo_reyes\n",
      "write_binary_recording with n_jobs = 1 and chunk_size = None\n",
      "2023-09-15 13:19:12,101 - root - probe_wiring.py - write - INFO - Probe wiring done in  140.4 secs\n"
     ]
    }
   ],
   "source": [
    "# takes 15 min (5min rec)\n",
    "\n",
    "# run \n",
    "Recording = probe_wiring.run(data_conf, param_conf)\n",
    "\n",
    "# write \n",
    "probe_wiring.write(Recording, data_conf)"
   ]
  },
  {
   "cell_type": "code",
   "execution_count": 242,
   "metadata": {},
   "outputs": [],
   "source": [
    "# check is probe\n",
    "try: \n",
    "    Recording.get_probe() \n",
    "except: \n",
    "    print(\"there is no probe wired\")"
   ]
  },
  {
   "cell_type": "markdown",
   "metadata": {},
   "source": [
    "### Preprocess recording"
   ]
  },
  {
   "cell_type": "code",
   "execution_count": 5,
   "metadata": {},
   "outputs": [
    {
     "name": "stdout",
     "output_type": "stream",
     "text": [
      "write_binary_recording with n_jobs = 1 and chunk_size = None\n",
      "True\n"
     ]
    }
   ],
   "source": [
    "# takes 4 mins\n",
    "\n",
    "# preprocess (8 min)\n",
    "Preprocessed = preprocess.run(data_conf, param_conf)\n",
    "\n",
    "# write\n",
    "preprocess.write(Preprocessed, data_conf)\n",
    "\n",
    "# sanity check is preprocessed\n",
    "print(Preprocessed.is_filtered())"
   ]
  },
  {
   "cell_type": "markdown",
   "metadata": {},
   "source": [
    "# Reference\n",
    "\n",
    "(1) https://bbpgitlab.epfl.ch/conn/personal/imbeni/spike-sorting/-/blob/dev/legacy%20exploratory%20scripts/Reyes_16offline_spont.ipynb"
   ]
  }
 ],
 "metadata": {
  "kernelspec": {
   "display_name": "env_silico",
   "language": "python",
   "name": "python3"
  },
  "language_info": {
   "codemirror_mode": {
    "name": "ipython",
    "version": 3
   },
   "file_extension": ".py",
   "mimetype": "text/x-python",
   "name": "python",
   "nbconvert_exporter": "python",
   "pygments_lexer": "ipython3",
   "version": "3.9.7"
  },
  "orig_nbformat": 4,
  "vscode": {
   "interpreter": {
    "hash": "b73fd26bae2910668a6be88f948a34bfaf2ecd970df62c41a60ee29bb0e725b3"
   }
  }
 },
 "nbformat": 4,
 "nbformat_minor": 2
}
