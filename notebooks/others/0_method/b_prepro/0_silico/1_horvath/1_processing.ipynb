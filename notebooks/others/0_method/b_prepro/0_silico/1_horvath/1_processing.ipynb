{
 "cells": [
  {
   "attachments": {},
   "cell_type": "markdown",
   "metadata": {},
   "source": [
    "# Data processing\n",
    "\n",
    "author: steeve.laquitaine@epfl.ch  \n",
    "date: 2023.10.23  \n",
    "last modified: 2023.10.23  \n",
    "status: OK   \n",
    "display-status: OK  \n",
    "regression: None\n"
   ]
  },
  {
   "attachments": {},
   "cell_type": "markdown",
   "metadata": {},
   "source": [
    "### Concatenate and process recordings\n",
    "\n",
    "```bash\n",
    "# concat. all sims and campaigns/experiments into a single recording\n",
    "# process probes\n",
    "sbatch cluster/processing/process_silico_concat_horvath_probe1.sbatch\n",
    "sbatch cluster/processing/process_silico_concat_horvath_probe2.sbatch\n",
    "sbatch cluster/processing/process_silico_concat_horvath_probe3.sbatch\n",
    "```"
   ]
  }
 ],
 "metadata": {
  "kernelspec": {
   "display_name": "npx_10m_384ch_unit_classes",
   "language": "python",
   "name": "python3"
  },
  "language_info": {
   "codemirror_mode": {
    "name": "ipython",
    "version": 3
   },
   "file_extension": ".py",
   "mimetype": "text/x-python",
   "name": "python",
   "nbconvert_exporter": "python",
   "pygments_lexer": "ipython3",
   "version": "3.9.7"
  },
  "orig_nbformat": 4
 },
 "nbformat": 4,
 "nbformat_minor": 2
}
