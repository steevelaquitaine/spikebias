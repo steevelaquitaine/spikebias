{
 "cells": [
  {
   "attachments": {},
   "cell_type": "markdown",
   "metadata": {},
   "source": [
    "# Processing\n",
    "\n",
    "\n",
    "author: steeve.laquitaine@epfl.ch  \n",
    "date: 2023.10.19    \n",
    "last modified: 2024.01.08  \n",
    "status: OK   \n",
    "display-status: OK  \n",
    "regression: None\n"
   ]
  },
  {
   "attachments": {},
   "cell_type": "markdown",
   "metadata": {},
   "source": [
    "### Pipelines\n",
    "\n",
    "```bash\n",
    "# for 10 min trace - filter: Butterworth\n",
    "$ sbatch cluster/processing/marques_silico/process.sbatch \n",
    "\n",
    "# 40 min traces\n",
    "$ sbatch cluster/processing/marques_silico/process_concat.sbatch # noise: fitted - filter: Butterworth\n",
    "$ sbatch cluster/processing/marques_silico/process_40m_noise_0uV.sbatch # noise: 0uV - filter: Butterworth\n",
    "$ sbatch cluster/processing/marques_silico/process_40m_noise_20_perc_lower.sbatch # noise: 20% lower than fitted - filter: Butterworth\n",
    "```"
   ]
  }
 ],
 "metadata": {
  "kernelspec": {
   "display_name": "npx_10m_384ch_unit_classes",
   "language": "python",
   "name": "python3"
  },
  "language_info": {
   "codemirror_mode": {
    "name": "ipython",
    "version": 3
   },
   "file_extension": ".py",
   "mimetype": "text/x-python",
   "name": "python",
   "nbconvert_exporter": "python",
   "pygments_lexer": "ipython3",
   "version": "3.9.7"
  },
  "orig_nbformat": 4
 },
 "nbformat": 4,
 "nbformat_minor": 2
}
