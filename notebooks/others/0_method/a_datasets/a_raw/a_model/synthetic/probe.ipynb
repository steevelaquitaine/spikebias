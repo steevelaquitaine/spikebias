{
 "cells": [
  {
   "cell_type": "markdown",
   "metadata": {},
   "source": [
    "# Probe\n",
    "\n",
    "author: steeve.laquitaine@epfl.ch"
   ]
  },
  {
   "cell_type": "markdown",
   "metadata": {},
   "source": [
    "### Setup"
   ]
  },
  {
   "cell_type": "code",
   "execution_count": 1,
   "metadata": {},
   "outputs": [
    {
     "name": "stdout",
     "output_type": "stream",
     "text": [
      "2024-06-18 17:17:51,414 - root - utils.py - get_config - INFO - Reading experiment config.\n",
      "2024-06-18 17:17:51,436 - root - utils.py - get_config - INFO - Reading experiment config. - done\n"
     ]
    }
   ],
   "source": [
    "# listen to changes\n",
    "%load_ext autoreload\n",
    "%autoreload 2\n",
    "\n",
    "import os\n",
    "from matplotlib import pyplot as plt\n",
    "import pandas as pd\n",
    "import numpy as np \n",
    "import spikeinterface as si\n",
    "\n",
    "# set project path\n",
    "PROJ_PATH = \"/gpfs/bbp.cscs.ch/project/proj85/home/laquitai/spikebias/\"\n",
    "os.chdir(PROJ_PATH)\n",
    "\n",
    "from src.nodes.utils import get_config\n",
    "from src.nodes.prepro import preprocess\n",
    "\n",
    "# SETUP PARAMETERS\n",
    "\n",
    "# silico\n",
    "data_conf, _ = get_config(\"buccino_2020\", \"2020\").values()\n",
    "PREP_PATH = data_conf[\"preprocessing\"][\"output\"][\"trace_file_path_gain_ftd\"]\n",
    "\n",
    "\n",
    "# FIGURE SETTINGS\n",
    "FIG_SIZE = (0.9, 0.7)\n",
    "# colors\n",
    "COLOR_MV = [0.4, 0.4, 0.4]\n",
    "COLOR_MS = [0.9, 0.14, 0.15]\n",
    "COLOR_B = [0.22, 0.5, 0.72]\n",
    "COLOR_E = [1, 0.49, 0]\n",
    "# axes\n",
    "plt.rcParams[\"font.family\"] = \"Arial\"\n",
    "plt.rcParams[\"font.size\"] = 6  # 5-7 with Nature neuroscience as reference\n",
    "plt.rcParams[\"lines.linewidth\"] = 0.3\n",
    "plt.rcParams[\"axes.linewidth\"] = 0.3 #1\n",
    "plt.rcParams[\"axes.spines.top\"] = False\n",
    "plt.rcParams[\"xtick.major.width\"] = 0.3 #0.8 #* 1.3\n",
    "plt.rcParams[\"xtick.minor.width\"] = 0.3 #0.8 #* 1.3\n",
    "plt.rcParams[\"ytick.major.width\"] = 0.3 #0.8 #* 1.3\n",
    "plt.rcParams[\"ytick.minor.width\"] = 0.3 #0.8 #* 1.3\n",
    "plt.rcParams[\"xtick.major.size\"] = 3.5 * 1.1\n",
    "plt.rcParams[\"xtick.minor.size\"] = 2 * 1.1\n",
    "plt.rcParams[\"ytick.major.size\"] = 3.5 * 1.1\n",
    "plt.rcParams[\"ytick.minor.size\"] = 2 * 1.1\n",
    "# legend\n",
    "savefig_cfg = {\"transparent\":True, \"dpi\":300}\n",
    "legend_cfg = {\"frameon\": False, \"handletextpad\": 0.1}\n",
    "tight_layout_cfg = {\"pad\": 0.5}\n",
    "LG_FRAMEON = False              # no legend frame"
   ]
  },
  {
   "cell_type": "markdown",
   "metadata": {},
   "source": [
    "### Load dataset"
   ]
  },
  {
   "cell_type": "code",
   "execution_count": 2,
   "metadata": {},
   "outputs": [],
   "source": [
    "# get preprocessed\n",
    "Recording = si.load_extractor(PREP_PATH)"
   ]
  },
  {
   "cell_type": "markdown",
   "metadata": {},
   "source": [
    "### Plot"
   ]
  },
  {
   "cell_type": "code",
   "execution_count": 3,
   "metadata": {},
   "outputs": [
    {
     "data": {
      "text/plain": [
       "[<matplotlib.lines.Line2D at 0x7fff0067baf0>]"
      ]
     },
     "execution_count": 3,
     "metadata": {},
     "output_type": "execute_result"
    },
    {
     "data": {
      "image/png": "[encoded data removed]",
      "text/plain": [
       "<Figure size 640x480 with 1 Axes>"
      ]
     },
     "metadata": {},
     "output_type": "display_data"
    }
   ],
   "source": [
    "plt.plot(\n",
    "    Recording.get_channel_locations()[:, 0],\n",
    "    Recording.get_channel_locations()[:, 1],\n",
    "    \".\",\n",
    ")\n",
    "\n",
    "plt.plot(\n",
    "    Recording.get_channel_locations()[0, 0],\n",
    "    Recording.get_channel_locations()[0, 1],\n",
    "    \"ro\",\n",
    ")\n",
    "\n",
    "plt.plot(\n",
    "    Recording.get_channel_locations()[0, 0],\n",
    "    Recording.get_channel_locations()[0, 1],\n",
    "    \"g.\",\n",
    ")\n",
    "plt.plot(\n",
    "    Recording.get_channel_locations()[95, 0],\n",
    "    Recording.get_channel_locations()[95, 1],\n",
    "    \"ko\",\n",
    ")\n",
    "\n",
    "plt.plot(\n",
    "    Recording.get_channel_locations()[96, 0],\n",
    "    Recording.get_channel_locations()[96, 1],\n",
    "    \"yo\",\n",
    ")"
   ]
  }
 ],
 "metadata": {
  "kernelspec": {
   "display_name": "spikinterf0_100_5",
   "language": "python",
   "name": "python3"
  },
  "language_info": {
   "codemirror_mode": {
    "name": "ipython",
    "version": 3
   },
   "file_extension": ".py",
   "mimetype": "text/x-python",
   "name": "python",
   "nbconvert_exporter": "python",
   "pygments_lexer": "ipython3",
   "version": "3.9.7"
  }
 },
 "nbformat": 4,
 "nbformat_minor": 2
}
