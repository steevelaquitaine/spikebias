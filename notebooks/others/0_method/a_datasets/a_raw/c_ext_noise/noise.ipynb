{
 "cells": [
  {
   "cell_type": "markdown",
   "metadata": {},
   "source": [
    "activate spikeinterf..."
   ]
  },
  {
   "cell_type": "code",
   "execution_count": 24,
   "metadata": {},
   "outputs": [],
   "source": [
    "import os\n",
    "import json\n",
    "import numpy as np\n",
    "\n",
    "PROJ_PATH = \"/gpfs/bbp.cscs.ch/project/proj85/home/laquitai/preprint_2023\"\n",
    "os.chdir(PROJ_PATH)"
   ]
  },
  {
   "cell_type": "code",
   "execution_count": 68,
   "metadata": {},
   "outputs": [],
   "source": [
    "def save_fitting_data_to_json(fitting_file_oath: str, save_path: str):\n",
    "\n",
    "    noise = np.load(\n",
    "        fitting_file_oath,\n",
    "        allow_pickle=True,\n",
    "    ).item()\n",
    "    del noise[\"fit_history\"]\n",
    "\n",
    "    # save\n",
    "    with open(save_path, \"w\") as outfile:\n",
    "        json.dump(noise, outfile, indent=4, sort_keys=False)\n",
    "\n",
    "    return noise\n",
    "\n",
    "\n",
    "def data_migrate_dens_probe(probe: str, layers: list):\n",
    "\n",
    "    for layer in layers:\n",
    "\n",
    "        # fitted\n",
    "        READ_PATH = f\"/gpfs/bbp.cscs.ch/project/proj85/laquitai/spikebias_paper/0_silico/horvath/concatenated_campaigns/probe{probe}_hex0_rou04_pfr03_20Khz/preprocessed/fitted_noise_{layer}.npy\"\n",
    "        SAVE_PATH = os.path.join(\n",
    "            PROJ_PATH, f\"conf/dense_spont/probe_{probe}/noise_gain_{layer}_fit.json\"\n",
    "        )\n",
    "        noise = save_fitting_data_to_json(READ_PATH, SAVE_PATH)\n",
    "\n",
    "        # tuned\n",
    "        READ_PATH = f\"/gpfs/bbp.cscs.ch/project/proj85/laquitai/spikebias_paper/0_silico/horvath/concatenated_campaigns/probe{probe}_hex0_rou04_pfr03_20Khz/preprocessed/tuned_noise_{layer}.npy\"\n",
    "        SAVE_PATH = os.path.join(\n",
    "            PROJ_PATH, f\"conf/dense_spont/probe_{probe}/noise_gain_{layer}_tuned.json\"\n",
    "        )\n",
    "        noise = save_fitting_data_to_json(READ_PATH, SAVE_PATH)\n",
    "\n",
    "\n",
    "def data_migrate_npx_spont(layers: list):\n",
    "\n",
    "    for layer in layers:\n",
    "\n",
    "        # fitted\n",
    "        READ_PATH = f\"/gpfs/bbp.cscs.ch/project/proj85/laquitai/spikebias_paper/dataeng/0_silico/neuropixels_lfp_10m_384ch_hex0_40Khz_2023_10_18/be011315-9555-493e-a59c-27f42d1058ed/campaign/preprocessed/vers_04072024/missing_noise_{layer}.npy\"\n",
    "        SAVE_PATH = os.path.join(\n",
    "            PROJ_PATH,\n",
    "            f\"conf/silico_neuropixels/npx_spont/noise_gain_{layer}_fit.json\",\n",
    "        )\n",
    "        noise = save_fitting_data_to_json(READ_PATH, SAVE_PATH)\n",
    "\n",
    "        # tuned\n",
    "        READ_PATH = f\"/gpfs/bbp.cscs.ch/project/proj85/laquitai/spikebias_paper/dataeng/0_silico/neuropixels_lfp_10m_384ch_hex0_40Khz_2023_10_18/be011315-9555-493e-a59c-27f42d1058ed/campaign/preprocessed/missing_noise_{layer}.npy\"\n",
    "        SAVE_PATH = os.path.join(\n",
    "            PROJ_PATH,\n",
    "            f\"conf/silico_neuropixels/npx_spont/noise_gain_{layer}_tuned.json\",\n",
    "        )\n",
    "        noise = save_fitting_data_to_json(READ_PATH, SAVE_PATH)"
   ]
  },
  {
   "cell_type": "code",
   "execution_count": 69,
   "metadata": {},
   "outputs": [],
   "source": [
    "# dense probe\n",
    "data_migrate_dens_probe(\"1\", [\"L1\", \"L2_3\"])\n",
    "# data_migrate_dens_probe(\"2\", [\"L2_3\", \"L4\", \"L5\"])\n",
    "data_migrate_dens_probe(\"3\", [\"L6\"])\n",
    "\n",
    "# neuropixels\n",
    "data_migrate_npx_spont([\"L1\", \"L2_3\", \"L4\", \"L5\", \"L6\"])"
   ]
  }
 ],
 "metadata": {
  "kernelspec": {
   "display_name": "spikinterf0_100_5",
   "language": "python",
   "name": "python3"
  },
  "language_info": {
   "codemirror_mode": {
    "name": "ipython",
    "version": 3
   },
   "file_extension": ".py",
   "mimetype": "text/x-python",
   "name": "python",
   "nbconvert_exporter": "python",
   "pygments_lexer": "ipython3",
   "version": "3.9.7"
  }
 },
 "nbformat": 4,
 "nbformat_minor": 2
}
