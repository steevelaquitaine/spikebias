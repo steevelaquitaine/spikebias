{
 "cells": [
  {
   "cell_type": "markdown",
   "metadata": {},
   "source": [
    "# Getting the open source SSCX circuit data\n",
    "\n",
    "* O1 sonata circuit: https://zenodo.org/records/11113043 (51 GB)\n",
    "* full sonata circuit: https://dataverse.harvard.edu/dataset.xhtml?persistentId=doi:10.7910/DVN/HISHXN **(300 GB)**\n",
    "    * this is the largest circuit which includes the cortical column cells used for all biophysical simulations\n",
    "* note: cell id in the sonata circuit is the cell id in the old circuit - 1.\n",
    "* all the cell properties can be retrieved from these circuits.\n"
   ]
  },
  {
   "cell_type": "code",
   "execution_count": 40,
   "metadata": {},
   "outputs": [],
   "source": [
    "import bluepysnap\n",
    "import numpy as np\n",
    "\n",
    "CELL_ID = 3754013  # the most active pyramidal cell\n",
    "CELL_ID_SONATA = CELL_ID - 1\n",
    "\n",
    "# fill circuit local path\n",
    "circuit_path = \"/gpfs/bbp.cscs.ch/project/proj83/circuits/Bio_M/20200805-pure-sonata/circuit_config.json\"\n",
    "circuit = bluepysnap.Circuit(circuit_path)"
   ]
  },
  {
   "cell_type": "code",
   "execution_count": 43,
   "metadata": {},
   "outputs": [
    {
     "name": "stdout",
     "output_type": "stream",
     "text": [
      "neuron populations: ['POm', 'S1nonbarrel_neurons', 'VPM']\n",
      "nb of neurons: 4234929\n"
     ]
    },
    {
     "data": {
      "text/plain": [
       "{'@dynamics:holding_current',\n",
       " '@dynamics:input_resistance',\n",
       " '@dynamics:resting_potential',\n",
       " '@dynamics:threshold_current',\n",
       " 'etype',\n",
       " 'exc_mini_frequency',\n",
       " 'inh_mini_frequency',\n",
       " 'layer',\n",
       " 'me_combo',\n",
       " 'model_template',\n",
       " 'model_type',\n",
       " 'morph_class',\n",
       " 'morphology',\n",
       " 'mtype',\n",
       " 'orientation_w',\n",
       " 'orientation_x',\n",
       " 'orientation_y',\n",
       " 'orientation_z',\n",
       " 'region',\n",
       " 'synapse_class',\n",
       " 'x',\n",
       " 'y',\n",
       " 'z'}"
      ]
     },
     "metadata": {},
     "output_type": "display_data"
    },
    {
     "name": "stdout",
     "output_type": "stream",
     "text": [
      "cell coordinates: x    4944.973062\n",
      "y    -524.384125\n",
      "z   -3633.095322\n",
      "Name: 3754011, dtype: float64\n"
     ]
    }
   ],
   "source": [
    "print(\"neuron populations:\", circuit.nodes.population_names)\n",
    "\n",
    "node_population = circuit.nodes[\"S1nonbarrel_neurons\"]\n",
    "\n",
    "print(\"nb of neurons:\", node_population.size)\n",
    "\n",
    "display(node_population.property_names)\n",
    "\n",
    "cell_coord = node_population.get(CELL_ID_SONATA - 1, properties=[\"x\", \"y\", \"z\"])\n",
    "\n",
    "# unit-test\n",
    "# expect: x: 3820.476353 y: -1143.5028 z:-2538.452514\n",
    "(\n",
    "    cell_coord.values.astype(int)\n",
    "    == np.array(\n",
    "        [\n",
    "            3820.476353,\n",
    "            -1143.5028,\n",
    "            -2538.452514,\n",
    "        ]\n",
    "    ).astype(int)\n",
    ").all(), \"Coordinates has changed. Should not\"\n",
    "\n",
    "print(\"cell coordinates:\", cell_coord)"
   ]
  }
 ],
 "metadata": {
  "kernelspec": {
   "display_name": "spikinterf0_100_5",
   "language": "python",
   "name": "python3"
  },
  "language_info": {
   "codemirror_mode": {
    "name": "ipython",
    "version": 3
   },
   "file_extension": ".py",
   "mimetype": "text/x-python",
   "name": "python",
   "nbconvert_exporter": "python",
   "pygments_lexer": "ipython3",
   "version": "3.9.7"
  }
 },
 "nbformat": 4,
 "nbformat_minor": 2
}
