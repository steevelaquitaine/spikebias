{
 "cells": [
  {
   "cell_type": "markdown",
   "metadata": {},
   "source": [
    "# Calculate theoretical yield\n",
    "\n",
    "author: steeve.laquitaine@epfl.ch"
   ]
  },
  {
   "cell_type": "markdown",
   "metadata": {},
   "source": [
    "* rat: mean cortical neuron density of 108,662 neurons / mm3 (Markram 2015)\n",
    "* Defelife, Journal of neurocytology, 2002 (table 1)\n",
    "*  Human: 24,186 neurons / mm3\n",
    "*   Rat: 54,468 neurons / mm3 (108,662 neurons / mm3 (Markram 2015))\n",
    "*   Mouse: 120,315 neurons / mm3\n",
    "\n",
    "\n",
    "\n",
    "* Calculation of limit theoretical volume surrounding neuropixels electrodes.\n",
    "    * The neuropixels probe width from the first column to the fourth is 48 micrometers. So we should add a volume with 48 microns.\n",
    "    * Area covered with 60 um surrounding neuropixels the four columns electrodes is described by the (the areas of a rectangular surface of 48 um (probe width = separation between the electrodes of the first and 4th column) x 100 um (limit theoretical diameter) + the area of two half disks (formed by the areas at the right and 4th column) ) x the cortical thickness."
   ]
  },
  {
   "cell_type": "code",
   "execution_count": 19,
   "metadata": {},
   "outputs": [
    {
     "name": "stdout",
     "output_type": "stream",
     "text": [
      "volume (mm3): 0.3460081033625419\n",
      "density: 87252.29180071366 neurons/mm3\n"
     ]
    }
   ],
   "source": [
    "# data and parameters\n",
    "import numpy as np\n",
    "\n",
    "# the biophysical microcircuit's geometry\n",
    "num_neurons = 30190\n",
    "radius = 0.460 / 2  # millimeters\n",
    "length = 2.082  #  millimeters\n",
    "\n",
    "# cubic millimeters\n",
    "volume = np.pi * radius**2 * length\n",
    "print(\"volume (mm3):\", volume)\n",
    "\n",
    "# neuron density\n",
    "print(\"density:\", num_neurons / volume, \"neurons/mm3\")\n",
    "\n",
    "# neuropixels geometry\n",
    "probe_width = 0.048  # millimeters\n",
    "\n",
    "# Buzsaki theoretical limit\n",
    "theoretical_radius = 0.050  # millimeters\n",
    "\n",
    "# literature\n",
    "observed_yield = 200  # Jun, 2017, Nature\n",
    "\n",
    "# mouse\n",
    "density_mouse = 120315  # neurons / mm3 (table 1, see 1)\n",
    "thickness_mouse = 1.210  # millimeters (table 2, see 1)\n",
    "\n",
    "# rat\n",
    "density_rat = 54468  # neurons / mm3 (table 1, see 1)\n",
    "thickness_rat = 1.827  # millimeters (table 2, see 1)\n",
    "\n",
    "# human\n",
    "density_human = 24186  # neurons / mm3 (table 1, see 1)\n",
    "thickness_human = 2.622  # millimeters (table 2, see 1)"
   ]
  },
  {
   "cell_type": "markdown",
   "metadata": {},
   "source": [
    "### Custom functions"
   ]
  },
  {
   "cell_type": "code",
   "execution_count": 29,
   "metadata": {},
   "outputs": [],
   "source": [
    "def get_theoretical_volume_for_npx(radius, thickness, probe_width):\n",
    "\n",
    "    # combining the two half disks formed the first and 4th column\n",
    "    disk_area = np.pi * radius**2\n",
    "\n",
    "    # rectangle form in between by translating the disk up to the\n",
    "    # 4th column\n",
    "    rectangular_area = 2 * radius * probe_width\n",
    "\n",
    "    # combined area\n",
    "    combined_area = disk_area + rectangular_area\n",
    "\n",
    "    # volume\n",
    "    total_volume = combined_area * thickness\n",
    "    return total_volume\n",
    "\n",
    "\n",
    "def calculate_nb_of_neurons(density, volumne):\n",
    "    nb_neurons = density * volumne\n",
    "    return nb_neurons\n",
    "\n",
    "\n",
    "def get_ratio_to_theory_single_col(obs_yield, thickness, density, radius):\n",
    "\n",
    "    volume = np.pi * radius**2 * thickness\n",
    "    expected_yield_mouse = density * volume\n",
    "    ratio_to_theory = obs_yield / expected_yield_mouse\n",
    "\n",
    "    # report\n",
    "    print(\"- max sortable volume:\", volume, \"mm3\")\n",
    "    print(\n",
    "        \"- max theoretical yield w/n volume:\",\n",
    "        np.round(expected_yield_mouse),\n",
    "        \"neurons\",\n",
    "    )\n",
    "    print(\"- ratio to theory:\", ratio_to_theory)\n",
    "\n",
    "\n",
    "def get_ratio_to_theory(obs_yield, theoretical_yield):\n",
    "    return obs_yield / theoretical_yield"
   ]
  },
  {
   "cell_type": "markdown",
   "metadata": {},
   "source": [
    "### Theoretical yield for a single neuropixels column."
   ]
  },
  {
   "cell_type": "code",
   "execution_count": 31,
   "metadata": {},
   "outputs": [
    {
     "name": "stdout",
     "output_type": "stream",
     "text": [
      "human:\n",
      "- max sortable volume: 0.020593139844281096 mm3\n",
      "- max theoretical yield w/n volume: 498.0 neurons\n",
      "- ratio to theory: 0.40155346557920163\n",
      "rat:\n",
      "- max sortable volume: 0.014349224445271381 mm3\n",
      "- max theoretical yield w/n volume: 782.0 neurons\n",
      "- ratio to theory: 0.2558940207060234\n",
      "mouse:\n",
      "- max sortable volume: 0.009503317777109124 mm3\n",
      "- max theoretical yield w/n volume: 1143.0 neurons\n",
      "- ratio to theory: 0.17491818751743102\n"
     ]
    }
   ],
   "source": [
    "print(\"human:\")\n",
    "get_ratio_to_theory_single_col(\n",
    "    observed_yield, thickness_human, density_human, theoretical_radius\n",
    ")\n",
    "\n",
    "print(\"rat:\")\n",
    "get_ratio_to_theory_single_col(\n",
    "    observed_yield, thickness_rat, density_rat, theoretical_radius\n",
    ")\n",
    "\n",
    "print(\"mouse:\")\n",
    "get_ratio_to_theory_single_col(\n",
    "    observed_yield, thickness_mouse, density_mouse, theoretical_radius\n",
    ")"
   ]
  },
  {
   "cell_type": "markdown",
   "metadata": {},
   "source": [
    "### Theoretical yield for the four columns of neuropixels electrode  "
   ]
  },
  {
   "cell_type": "code",
   "execution_count": 28,
   "metadata": {},
   "outputs": [
    {
     "name": "stdout",
     "output_type": "stream",
     "text": [
      "Theoretical yield (human): 802.4610018737826\n",
      "Theoretical yield (rat): 1259.2361298850417\n",
      "Theoretical yield (mouse): 1842.1811983528844\n",
      "\n",
      "ratios:\n",
      "Obs / theory ratio (human): 0.24923329549098458\n",
      "Obs / theory ratio (rat): 0.15882644664766601\n",
      "Obs / theory ratio (mouse): 0.10856695322850017\n"
     ]
    }
   ],
   "source": [
    "# humans\n",
    "volume_human = get_theoretical_volume_for_npx(\n",
    "    theoretical_radius, thickness_human, probe_width=probe_width\n",
    ")\n",
    "yield_human = calculate_nb_of_neurons(density_human, volume_human)\n",
    "\n",
    "# rats\n",
    "volume_rat = get_theoretical_volume_for_npx(\n",
    "    theoretical_radius, thickness_rat, probe_width=probe_width\n",
    ")\n",
    "yield_rat = calculate_nb_of_neurons(density_rat, volume_rat)\n",
    "\n",
    "# mouse\n",
    "volume_mouse = get_theoretical_volume_for_npx(\n",
    "    theoretical_radius, thickness_mouse, probe_width=probe_width\n",
    ")\n",
    "yield_mouse = calculate_nb_of_neurons(density_mouse, volume_mouse)\n",
    "\n",
    "# report\n",
    "print(\"Theoretical yield (human):\", yield_human)\n",
    "print(\"Theoretical yield (rat):\", yield_rat)\n",
    "print(\"Theoretical yield (mouse):\", yield_mouse)\n",
    "\n",
    "print(\"\\nratios:\")\n",
    "print(\"Obs / theory ratio (human):\", get_ratio_to_theory(observed_yield, yield_human))\n",
    "print(\"Obs / theory ratio (rat):\", get_ratio_to_theory(observed_yield, yield_rat))\n",
    "print(\"Obs / theory ratio (mouse):\", get_ratio_to_theory(observed_yield, yield_mouse))"
   ]
  },
  {
   "cell_type": "markdown",
   "metadata": {},
   "source": [
    "# references \n",
    "\n",
    "(1) Defelife, Journal of neurocytology, 2002 (table 1)"
   ]
  },
  {
   "cell_type": "code",
   "execution_count": null,
   "metadata": {},
   "outputs": [],
   "source": []
  }
 ],
 "metadata": {
  "kernelspec": {
   "display_name": "spikinterf0_100_5",
   "language": "python",
   "name": "python3"
  },
  "language_info": {
   "codemirror_mode": {
    "name": "ipython",
    "version": 3
   },
   "file_extension": ".py",
   "mimetype": "text/x-python",
   "name": "python",
   "nbconvert_exporter": "python",
   "pygments_lexer": "ipython3",
   "version": "3.9.7"
  }
 },
 "nbformat": 4,
 "nbformat_minor": 2
}
