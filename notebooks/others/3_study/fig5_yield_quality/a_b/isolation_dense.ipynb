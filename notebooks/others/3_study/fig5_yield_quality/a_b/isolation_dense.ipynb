{
 "cells": [
  {
   "cell_type": "markdown",
   "metadata": {},
   "source": [
    "## Unit isolation quality\n",
    "\n",
    "**author**: steeve.laquitaine@epfl.ch\n",
    "\n",
    "**Prerequisites**:\n",
    "\n",
    "- processing: engineer recordings, fits noise and amplification, wires probe, records metadata, preprocesses, writes\n",
    "- sorting: sorts and records metadata to SortingExtractors\n",
    "\n",
    "* TODO: normalize by layer, because the dense probe has less coverage of some layers than npx."
   ]
  },
  {
   "cell_type": "code",
   "execution_count": 2,
   "metadata": {},
   "outputs": [
    {
     "name": "stdout",
     "output_type": "stream",
     "text": [
      "2024-08-28 11:46:21,695 - root - utils.py - get_config - INFO - Reading experiment config.\n",
      "2024-08-28 11:46:21,730 - root - utils.py - get_config - INFO - Reading experiment config. - done\n",
      "2024-08-28 11:46:21,733 - root - utils.py - get_config - INFO - Reading experiment config.\n",
      "2024-08-28 11:46:21,765 - root - utils.py - get_config - INFO - Reading experiment config. - done\n",
      "2024-08-28 11:46:21,767 - root - utils.py - get_config - INFO - Reading experiment config.\n",
      "2024-08-28 11:46:21,801 - root - utils.py - get_config - INFO - Reading experiment config. - done\n",
      "2024-08-28 11:46:21,803 - root - utils.py - get_config - INFO - Reading experiment config.\n",
      "2024-08-28 11:46:21,851 - root - utils.py - get_config - INFO - Reading experiment config. - done\n",
      "2024-08-28 11:46:21,853 - root - utils.py - get_config - INFO - Reading experiment config.\n",
      "2024-08-28 11:46:21,903 - root - utils.py - get_config - INFO - Reading experiment config. - done\n",
      "2024-08-28 11:46:21,905 - root - utils.py - get_config - INFO - Reading experiment config.\n",
      "2024-08-28 11:46:21,950 - root - utils.py - get_config - INFO - Reading experiment config. - done\n"
     ]
    }
   ],
   "source": [
    "%load_ext autoreload\n",
    "%autoreload 2\n",
    "from matplotlib import pyplot as plt\n",
    "import numpy as np\n",
    "import os\n",
    "import pandas as pd\n",
    "import spikeinterface as si\n",
    "from random import choices\n",
    "\n",
    "# SET PROJECT PATH\n",
    "\n",
    "PROJ_PATH = \"/gpfs/bbp.cscs.ch/project/proj85/home/laquitai/preprint_2023\"\n",
    "os.chdir(PROJ_PATH)\n",
    "from src.nodes.utils import get_config\n",
    "from src.nodes.validation import firing_rate as fr\n",
    "from src.nodes.analysis.failures import isolation\n",
    "\n",
    "# EXPERIMENTS\n",
    "\n",
    "# Horvath (vivo)\n",
    "cfg_hv1, _ = get_config(\"vivo_horvath\", \"probe_1\").values()\n",
    "PRE_HV1 = cfg_hv1[\"preprocessing\"][\"full\"][\"output\"][\"trace_file_path\"]\n",
    "SORTED_HV1 = cfg_hv1[\"sorting\"][\"sorters\"][\"kilosort4\"][\"10m\"][\"output\"]\n",
    "\n",
    "cfg_hv2, _ = get_config(\"vivo_horvath\", \"probe_2\").values()\n",
    "PRE_HV2 = cfg_hv2[\"preprocessing\"][\"full\"][\"output\"][\"trace_file_path\"]\n",
    "SORTED_HV2 = cfg_hv2[\"sorting\"][\"sorters\"][\"kilosort4\"][\"10m\"][\"output\"]\n",
    "\n",
    "cfg_hv3, _ = get_config(\"vivo_horvath\", \"probe_3\").values()\n",
    "PRE_HV3 = cfg_hv3[\"preprocessing\"][\"full\"][\"output\"][\"trace_file_path\"]\n",
    "SORTED_HV3 = cfg_hv3[\"sorting\"][\"sorters\"][\"kilosort4\"][\"10m\"][\"output\"]\n",
    "\n",
    "# Biophy spont.\n",
    "cfg_hs1, _ = get_config(\"silico_horvath\", \"concatenated/probe_1\").values()\n",
    "PRE_HS1 = cfg_hs1[\"preprocessing\"][\"full\"][\"output\"][\"trace_file_path\"]\n",
    "SORTED_HS1 = cfg_hs1[\"sorting\"][\"sorters\"][\"kilosort4\"][\"10m\"][\"output\"]\n",
    "\n",
    "cfg_hs2, _ = get_config(\"silico_horvath\", \"concatenated/probe_2\").values()\n",
    "PRE_HS2 = cfg_hs2[\"preprocessing\"][\"full\"][\"output\"][\"trace_file_path\"]\n",
    "SORTED_HS2 = cfg_hs2[\"sorting\"][\"sorters\"][\"kilosort4\"][\"10m\"][\"output\"]\n",
    "\n",
    "cfg_hs3, _ = get_config(\"silico_horvath\", \"concatenated/probe_3\").values()\n",
    "PRE_HS3 = cfg_hs3[\"preprocessing\"][\"full\"][\"output\"][\"trace_file_path\"]\n",
    "SORTED_HS3 = cfg_hs3[\"sorting\"][\"sorters\"][\"kilosort4\"][\"10m\"][\"output\"]\n",
    "\n",
    "# WAVEFORMS\n",
    "MS_BEFORE = 3\n",
    "MS_AFTER = 3\n",
    "\n",
    "# PLOT\n",
    "# set lognormal plot parameters\n",
    "log_x_min = -3.0\n",
    "log_x_max = 3.0\n",
    "nbins = 30\n",
    "\n",
    "# IF you don't want to use the feature, set the value to 1E100\n",
    "# t_dec = 3600 # seconds until experimenter decides a cell is silent\n",
    "t_dec = 1^100 # seconds until experimenter decides a cell is silent\n",
    "\n",
    "cl = dict()\n",
    "cl[\"COLOR_NV\"] = [0.6, 0.6, 0.6]\n",
    "cl[\"COLOR_NS\"] = [0.9, 0.14, 0.15]\n",
    "cl[\"COLOR_NB\"] = [0.22, 0.5, 0.72] # blue\n",
    "cl[\"COLOR_NE\"] = [1, 0.49, 0] # orange\n",
    "cl[\"COLOR_HV\"] = \"k\" # black\n",
    "cl[\"COLOR_HS\"] = np.array([26, 152, 80]) / 255 # green\n",
    "\n",
    "# axes\n",
    "plt.rcParams[\"font.family\"] = \"Arial\"\n",
    "plt.rcParams[\"font.size\"] = 6  # 5-7 with Nature neuroscience as reference\n",
    "plt.rcParams[\"lines.linewidth\"] = 0.5 # typically between 0.5 and 1\n",
    "plt.rcParams[\"axes.linewidth\"] = 0.5 #1\n",
    "plt.rcParams[\"axes.spines.top\"] = False\n",
    "plt.rcParams[\"xtick.major.width\"] = 0.5 #0.8 #* 1.3\n",
    "plt.rcParams[\"xtick.minor.width\"] = 0.5 #0.8 #* 1.3\n",
    "plt.rcParams[\"ytick.major.width\"] = 0.5 #0.8 #* 1.3\n",
    "plt.rcParams[\"ytick.minor.width\"] = 0.5 #0.8 #* 1.3\n",
    "plt.rcParams[\"xtick.major.size\"] = 3.5 * 1.1\n",
    "plt.rcParams[\"xtick.minor.size\"] = 2 * 1.1\n",
    "plt.rcParams[\"ytick.major.size\"] = 3.5 * 1.1\n",
    "plt.rcParams[\"ytick.minor.size\"] = 2 * 1.1\n",
    "# legend\n",
    "savefig_cfg = {\"transparent\":True, \"dpi\": 300}\n",
    "legend_cfg = {\"frameon\": False, \"handletextpad\": 0.5}\n",
    "tight_layout_cfg = {\"pad\": 0.001}\n",
    "LG_FRAMEON = False              # no legend frame"
   ]
  },
  {
   "cell_type": "markdown",
   "metadata": {},
   "source": [
    "## Get metadata"
   ]
  },
  {
   "cell_type": "code",
   "execution_count": 3,
   "metadata": {},
   "outputs": [],
   "source": [
    "# get metadata\n",
    "df_hv1 = fr.get_sorted_unit_meta(SORTED_HV1)\n",
    "df_hv2 = fr.get_sorted_unit_meta(SORTED_HV2)\n",
    "df_hv3 = fr.get_sorted_unit_meta(SORTED_HV3)\n",
    "df_hs1 = fr.get_sorted_unit_meta(SORTED_HS1)\n",
    "df_hs2 = fr.get_sorted_unit_meta(SORTED_HS2)\n",
    "df_hs3 = fr.get_sorted_unit_meta(SORTED_HS3)\n",
    "\n",
    "# keep units in cortex\n",
    "df_hv1 = df_hv1[np.isin(df_hv1[\"layer\"], [\"L1\", \"L2/3\", \"L4\", \"L5\", \"L6\"])]\n",
    "df_hv2 = df_hv2[np.isin(df_hv2[\"layer\"], [\"L1\", \"L2/3\", \"L4\", \"L5\", \"L6\"])]\n",
    "df_hv3 = df_hv3[np.isin(df_hv3[\"layer\"], [\"L1\", \"L2/3\", \"L4\", \"L5\", \"L6\"])]\n",
    "df_hs1 = df_hs1[np.isin(df_hs1[\"layer\"], [\"L1\", \"L2/3\", \"L4\", \"L5\", \"L6\"])]\n",
    "df_hs2 = df_hs2[np.isin(df_hs2[\"layer\"], [\"L1\", \"L2/3\", \"L4\", \"L5\", \"L6\"])]\n",
    "df_hs3 = df_hs3[np.isin(df_hs3[\"layer\"], [\"L1\", \"L2/3\", \"L4\", \"L5\", \"L6\"])]\n",
    "\n",
    "# unit-test: check all in cortex\n",
    "assert all(\n",
    "    np.isin(np.sort(df_hv1[\"layer\"].unique()), [\"L1\", \"L2/3\", \"L4\", \"L5\", \"L6\"])\n",
    "), \"nor all in cortex\"\n",
    "assert all(\n",
    "    np.isin(np.sort(df_hv2[\"layer\"].unique()), [\"L1\", \"L2/3\", \"L4\", \"L5\", \"L6\"])\n",
    "), \"nor all in cortex\"\n",
    "assert all(\n",
    "    np.isin(np.sort(df_hv3[\"layer\"].unique()), [\"L1\", \"L2/3\", \"L4\", \"L5\", \"L6\"])\n",
    "), \"nor all in cortex\"\n",
    "\n",
    "assert all(\n",
    "    np.isin(np.sort(df_hs1[\"layer\"].unique()), [\"L1\", \"L2/3\", \"L4\", \"L5\", \"L6\"])\n",
    "), \"nor all in cortex\"\n",
    "assert all(\n",
    "    np.isin(np.sort(df_hs2[\"layer\"].unique()), [\"L1\", \"L2/3\", \"L4\", \"L5\", \"L6\"])\n",
    "), \"nor all in cortex\"\n",
    "assert all(\n",
    "    np.isin(np.sort(df_hs3[\"layer\"].unique()), [\"L1\", \"L2/3\", \"L4\", \"L5\", \"L6\"])\n",
    "), \"nor all in cortex\""
   ]
  },
  {
   "cell_type": "markdown",
   "metadata": {},
   "source": [
    "## Plot unit isolation quality"
   ]
  },
  {
   "cell_type": "code",
   "execution_count": 5,
   "metadata": {},
   "outputs": [
    {
     "data": {
      "image/png": "[encoded data removed]",
      "text/plain": [
       "<Figure size 60x100 with 1 Axes>"
      ]
     },
     "metadata": {},
     "output_type": "display_data"
    }
   ],
   "source": [
    "# setup\n",
    "FIGSIZE = (0.6, 1)\n",
    "_, ax = plt.subplots(1, 1, figsize=FIGSIZE)\n",
    "\n",
    "# plot\n",
    "ax = isolation.plot_unit_isolation_dense_probe(\n",
    "    ax, df_hv1, df_hv2, df_hv3, df_hs1, df_hs2, df_hs3\n",
    ")\n",
    "ax.set_yticks([0, 0.25, 0.5, 0.75, 1], [0, 0.25, 0.5, 0.75, 1])\n",
    "\n",
    "# save figures\n",
    "plt.savefig(\n",
    "    \"figures/1_sorting_quality/yield/assets/fig5B_dense_unit_isolation.svg\",\n",
    "    **savefig_cfg,\n",
    ")"
   ]
  },
  {
   "cell_type": "code",
   "execution_count": null,
   "metadata": {},
   "outputs": [],
   "source": []
  }
 ],
 "metadata": {
  "kernelspec": {
   "display_name": "spikinterf0_100_5",
   "language": "python",
   "name": "python3"
  },
  "language_info": {
   "codemirror_mode": {
    "name": "ipython",
    "version": 3
   },
   "file_extension": ".py",
   "mimetype": "text/x-python",
   "name": "python",
   "nbconvert_exporter": "python",
   "pygments_lexer": "ipython3",
   "version": "3.9.7"
  }
 },
 "nbformat": 4,
 "nbformat_minor": 2
}
