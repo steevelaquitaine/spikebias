{
 "cells": [
  {
   "cell_type": "markdown",
   "metadata": {},
   "source": [
    "1. Login to dandiarchive\n",
    "2. New dandiset - name and description"
   ]
  },
  {
   "cell_type": "code",
   "execution_count": 1,
   "metadata": {},
   "outputs": [
    {
     "name": "stdout",
     "output_type": "stream",
     "text": [
      "2024-11-07 18:50:27,344 - root - utils.py - get_config - INFO - Reading experiment config.\n",
      "2024-11-07 18:50:27,376 - root - utils.py - get_config - INFO - Reading experiment config. - done\n"
     ]
    }
   ],
   "source": [
    "# SETUP PACKAGES \n",
    "%load_ext autoreload\n",
    "%autoreload 2\n",
    "\n",
    "\n",
    "# nwb software package\n",
    "from pynwb.file import NWBFile, Subject\n",
    "from pynwb.ecephys import ElectricalSeries\n",
    "from pynwb import NWBHDF5IO\n",
    "\n",
    "# other utils package\n",
    "import uuid\n",
    "from dateutil.tz import tzlocal\n",
    "from datetime import datetime\n",
    "import numpy as np\n",
    "from os import mkdir\n",
    "import os\n",
    "\n",
    "# SET PROJECT PATH\n",
    "PROJ_PATH = \"/gpfs/bbp.cscs.ch/project/proj85/home/laquitai/preprint_2023\"\n",
    "os.chdir(PROJ_PATH)\n",
    "from src.nodes.utils import get_config\n",
    "\n",
    "# SETUP CONFIG\n",
    "data_conf, param_conf = get_config(\"dense_spont\", \"probe_1\").values()\n",
    "DENSE_SP_P1 = data_conf[\"nwb\"]\n",
    "\n",
    "DENSE_SP_P1_PATH = os.path.dirname(DENSE_SP_P1)\n",
    "\n",
    "INIT_DANDISET = True"
   ]
  },
  {
   "cell_type": "code",
   "execution_count": 41,
   "metadata": {},
   "outputs": [
    {
     "data": {
      "text/plain": [
       "'/gpfs/bbp.cscs.ch/project/proj85/scratch/laquitai/4_preprint_2023/0_silico/horvath/concatenated_campaigns/probe1_hex0_rou04_pfr03_20Khz/nwb'"
      ]
     },
     "execution_count": 41,
     "metadata": {},
     "output_type": "execute_result"
    }
   ],
   "source": [
    "DENSE_SP_P1_PATH"
   ]
  },
  {
   "cell_type": "code",
   "execution_count": null,
   "metadata": {},
   "outputs": [],
   "source": [
    "def create_nwbfile(subject_id):\n",
    "\n",
    "    # parmaetrize session file\n",
    "    nwbfile = NWBFile(\n",
    "        session_description=\"test\",\n",
    "        identifier=str(uuid.uuid4()),\n",
    "        session_start_time=datetime.now(tzlocal()),\n",
    "        experimenter=\"Laquitaine Steeve\",\n",
    "        lab=\"Bag End Laboratory\",\n",
    "        institution=\"Your institution\",\n",
    "        experiment_description=\"Your description\",\n",
    "        session_id=\"001\",\n",
    "        keywords=[\"Biophysical simulation\"],\n",
    "    )\n",
    "\n",
    "    # subject metadata\n",
    "    # - mouse (latin -> no ambiguity)\n",
    "    # - 90 days old\n",
    "    # dandi archive pulls that info out\n",
    "    # to organize the files\n",
    "    nwbfile.subject = Subject(\n",
    "        subject_id=subject_id,\n",
    "        species=\"Rattus norvegicus\",\n",
    "        age=\"P14D\",\n",
    "        sex=\"M\",\n",
    "        description=\"Wistar Rat\",\n",
    "    )\n",
    "    return nwbfile"
   ]
  },
  {
   "cell_type": "code",
   "execution_count": 2,
   "metadata": {},
   "outputs": [
    {
     "name": "stdout",
     "output_type": "stream",
     "text": [
      "001250\tdense_biophy_spont.nwb\ttest.nwb\n"
     ]
    }
   ],
   "source": [
    "# create a first file\n",
    "os.chdir(os.path.dirname(DENSE_SP_P1))\n",
    "nwbfile = create_nwbfile(\"001\")\n",
    "with NWBHDF5IO(\"test.nwb\", \"w\") as io:\n",
    "    io.write(nwbfile)\n",
    "!ls"
   ]
  },
  {
   "cell_type": "code",
   "execution_count": 20,
   "metadata": {},
   "outputs": [
    {
     "name": "stdout",
     "output_type": "stream",
     "text": [
      "test2.nwb\n"
     ]
    }
   ],
   "source": [
    "# create a second file\n",
    "nwbfile = create_nwbfile(\"002\")\n",
    "with NWBHDF5IO(\"test2.nwb\", \"w\") as io:\n",
    "    io.write(nwbfile)\n",
    "!ls"
   ]
  },
  {
   "cell_type": "markdown",
   "metadata": {},
   "source": [
    "# Upload file\n",
    "\n",
    "check file with nwbinspector <source_folder> --config dandi"
   ]
  },
  {
   "cell_type": "code",
   "execution_count": 36,
   "metadata": {},
   "outputs": [
    {
     "name": "stdout",
     "output_type": "stream",
     "text": [
      "PATH                 SIZE DONE    DONE% CHECKSUM STATUS MESSAGE   \n",
      "001250/dandiset.yaml                             done   updated   \n",
      "Summary:                  0 Bytes                1 done 1 updated \n",
      "                          <0.00%                                  \n"
     ]
    },
    {
     "name": "stderr",
     "output_type": "stream",
     "text": [
      "2024-11-07 18:55:42,718 [    INFO] Logs saved in /gpfs/bbp.cscs.ch/home/laquitai/.local/state/dandi-cli/log/2024.11.07-17.55.40Z-140560.log\n",
      "2024-11-07 18:55:46,387 [    INFO] Loading metadata from 1 files\n",
      "2024-11-07 18:55:46,560 [    INFO] Organized 0 out of 1 paths. Visit /gpfs/bbp.cscs.ch/data/scratch/proj85/laquitai/4_preprint_2023/0_silico/horvath/concatenated_campaigns/probe1_hex0_rou04_pfr03_20Khz/nwb/001250/\n",
      "2024-11-07 18:55:46,560 [    INFO] Logs saved in /gpfs/bbp.cscs.ch/home/laquitai/.local/state/dandi-cli/log/2024.11.07-17.55.43Z-140572.log\n"
     ]
    },
    {
     "name": "stdout",
     "output_type": "stream",
     "text": [
      "DRY: /gpfs/bbp.cscs.ch/project/proj85/scratch/laquitai/4_preprint_2023/0_silico/horvath/concatenated_campaigns/probe1_hex0_rou04_pfr03_20Khz/nwb/test/test.nwb -> sub-test/sub-test.nwb\n"
     ]
    },
    {
     "name": "stderr",
     "output_type": "stream",
     "text": [
      "2024-11-07 18:55:49,996 [    INFO] Loading metadata from 1 files\n",
      "2024-11-07 18:55:49,999 [    INFO] Symlink support autodetected; setting files_mode='symlink'\n",
      "2024-11-07 18:55:50,006 [    INFO] Organized 1 paths. Visit /gpfs/bbp.cscs.ch/data/scratch/proj85/laquitai/4_preprint_2023/0_silico/horvath/concatenated_campaigns/probe1_hex0_rou04_pfr03_20Khz/nwb/001250/\n",
      "2024-11-07 18:55:50,006 [    INFO] Logs saved in /gpfs/bbp.cscs.ch/home/laquitai/.local/state/dandi-cli/log/2024.11.07-17.55.47Z-140606.log\n",
      "2024-11-07 18:55:54,280 [    INFO] Found 2 files to consider\n"
     ]
    },
    {
     "name": "stdout",
     "output_type": "stream",
     "text": [
      "PATH                  SIZE     ERRORS  PROGRESS STATUS                MESSAGE                  \n",
      "dandiset.yaml         1.3 kB                    skipped               should be edited online  \n",
      "sub-test/sub-test.nwb 187.3 kB   0         100% done                                           \n",
      "Summary:              188.6 kB        57.7 kB/s 1 skipped             1 should be edited online\n",
      "                                                1 done                                         \n"
     ]
    },
    {
     "name": "stderr",
     "output_type": "stream",
     "text": [
      "2024-11-07 18:55:57,560 [    INFO] Logs saved in /gpfs/bbp.cscs.ch/home/laquitai/.local/state/dandi-cli/log/2024.11.07-17.55.51Z-140613.log\n",
      "2024-11-07 18:56:01,033 [    INFO] Loading metadata from 1 files\n",
      "2024-11-07 18:56:01,200 [    INFO] Organized 0 out of 1 paths. Visit /gpfs/bbp.cscs.ch/data/scratch/proj85/laquitai/4_preprint_2023/0_silico/horvath/concatenated_campaigns/probe1_hex0_rou04_pfr03_20Khz/nwb/001250/\n",
      "2024-11-07 18:56:01,200 [    INFO] Logs saved in /gpfs/bbp.cscs.ch/home/laquitai/.local/state/dandi-cli/log/2024.11.07-17.55.58Z-140626.log\n"
     ]
    },
    {
     "name": "stdout",
     "output_type": "stream",
     "text": [
      "DRY: /gpfs/bbp.cscs.ch/project/proj85/scratch/laquitai/4_preprint_2023/0_silico/horvath/concatenated_campaigns/probe1_hex0_rou04_pfr03_20Khz/nwb/test2/test2.nwb -> sub-test2/sub-test2.nwb\n"
     ]
    },
    {
     "name": "stderr",
     "output_type": "stream",
     "text": [
      "2024-11-07 18:56:04,657 [    INFO] Loading metadata from 1 files\n",
      "2024-11-07 18:56:04,661 [    INFO] Symlink support autodetected; setting files_mode='symlink'\n",
      "2024-11-07 18:56:04,667 [    INFO] Organized 1 paths. Visit /gpfs/bbp.cscs.ch/data/scratch/proj85/laquitai/4_preprint_2023/0_silico/horvath/concatenated_campaigns/probe1_hex0_rou04_pfr03_20Khz/nwb/001250/\n",
      "2024-11-07 18:56:04,667 [    INFO] Logs saved in /gpfs/bbp.cscs.ch/home/laquitai/.local/state/dandi-cli/log/2024.11.07-17.56.02Z-140633.log\n",
      "2024-11-07 18:56:09,006 [    INFO] Found 3 files to consider\n"
     ]
    },
    {
     "name": "stdout",
     "output_type": "stream",
     "text": [
      "PATH                    SIZE     ERRORS  PROGRESS STATUS                MESSAGE                  \n",
      "dandiset.yaml           1.3 kB                    skipped               should be edited online  \n",
      "sub-test/sub-test.nwb   187.3 kB   0              skipped               file exists              \n",
      "sub-test2/sub-test2.nwb 187.3 kB   0         100% done                                           \n",
      "Summary:                375.9 kB        49.0 kB/s 2 skipped             1 should be edited online\n",
      "                                                  1 done                1 file exists            \n"
     ]
    },
    {
     "name": "stderr",
     "output_type": "stream",
     "text": [
      "2024-11-07 18:56:12,868 [    INFO] Logs saved in /gpfs/bbp.cscs.ch/home/laquitai/.local/state/dandi-cli/log/2024.11.07-17.56.05Z-140642.log\n"
     ]
    },
    {
     "data": {
      "text/plain": [
       "0"
      ]
     },
     "execution_count": 36,
     "metadata": {},
     "output_type": "execute_result"
    }
   ],
   "source": [
    "# 1. download the dandiset metadata\n",
    "# 2. move to downloaded folder\n",
    "# 3. organize files according to dandiset rules\n",
    "# 4. upload\n",
    "os.system(\n",
    "    f\"\"\"\n",
    "    export DANDI_API_KEY='210e68743286d64e84743bd8980d5771ef82bf4d'; \n",
    "    dandi download 'https://dandiarchive.org/dandiset/001250/draft';\n",
    "    cd 001250;\n",
    "    \n",
    "    dandi organize {DENSE_SP_P1_PATH + \"/test\"} -f dry;\n",
    "    dandi organize {DENSE_SP_P1_PATH + \"/test\"};   \n",
    "    dandi upload;       \n",
    "    \n",
    "    dandi organize {DENSE_SP_P1_PATH  + \"/test2\"} -f dry;\n",
    "    dandi organize {DENSE_SP_P1_PATH  + \"/test2\"};   \n",
    "    dandi upload;\n",
    "    \"\"\"\n",
    ")"
   ]
  },
  {
   "cell_type": "code",
   "execution_count": 40,
   "metadata": {},
   "outputs": [
    {
     "name": "stdout",
     "output_type": "stream",
     "text": [
      "\u001b[0m\u001b[01;34m001250\u001b[0m/  dense_biophy_spont.nwb  \u001b[01;34mtest\u001b[0m/  \u001b[01;34mtest2\u001b[0m/\n"
     ]
    }
   ],
   "source": [
    "ls"
   ]
  },
  {
   "cell_type": "markdown",
   "metadata": {},
   "source": [
    "https://www.dandiarchive.org/handbook/13_upload/"
   ]
  }
 ],
 "metadata": {
  "kernelspec": {
   "display_name": "dandi2",
   "language": "python",
   "name": "python3"
  },
  "language_info": {
   "codemirror_mode": {
    "name": "ipython",
    "version": 3
   },
   "file_extension": ".py",
   "mimetype": "text/x-python",
   "name": "python",
   "nbconvert_exporter": "python",
   "pygments_lexer": "ipython3",
   "version": "3.10.8"
  }
 },
 "nbformat": 4,
 "nbformat_minor": 2
}
