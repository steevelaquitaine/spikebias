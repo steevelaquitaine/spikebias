{
 "cells": [
  {
   "cell_type": "code",
   "execution_count": 1,
   "metadata": {},
   "outputs": [],
   "source": [
    "import spikeinterface as si\n",
    "import numpy as np\n",
    "import pandas as pd"
   ]
  },
  {
   "cell_type": "code",
   "execution_count": 59,
   "metadata": {},
   "outputs": [
    {
     "name": "stdout",
     "output_type": "stream",
     "text": [
      "205\n",
      "[  2   3   4   5  10  12  14  24  28  31  36  41  46  53  54  77  79  81\n",
      "  83  87  99 100 101 103 104 105 110 117 118 120 125 126 127 128 134 136\n",
      " 138 139 141 145 152 154 158 161 169 170 171 173 176 184 185 190 191 195\n",
      " 198 199 206 207 211 214 219 221 225 226 230 231 232 233 235 236 238 243\n",
      " 244 251 252 254 257 262 263 266 269 277 278 281 285 287 289 291 294 296\n",
      " 305 306 307 313 314 318 322 323 324 327 328 329 334 342 344 345 348 359\n",
      " 360 361 362 367 368 373 377 382 386 389 392 393 394 396 397 398 401 406\n",
      " 411 412 413 415 419 420 423 426 429 430 431 434 435 437 439 471 474 476\n",
      " 479 499 505 506 516 519 522 524 527 528 529 537 548 549 554 560 565 572\n",
      " 579 581 592 597 603 610 612 613 621 623 624 631 632 635 636 638 639 640\n",
      " 654 657 669 675 676 677 680 681 686 691 696 701 709 710 711 716 724 725\n",
      " 727 728 731 737 738 739 750]\n"
     ]
    }
   ],
   "source": [
    "sorting_root_path = \"/gpfs/bbp.cscs.ch/project/proj85/scratch/laquitai/preprint_2024/sorting/0_silico/8_spikesorting_stimulus_test_neuropixels_13-4-24__8slc_100f_72r_250t_200ms_0/12c5ef9a-1f3b-4b18-b3f5-ec6a417f645c/SortingKS2\"\n",
    "sorting = si.load_extractor(sorting_root_path)\n",
    "good_ids = sorting.unit_ids[sorting.get_property(\"KSLabel\") == \"good\"]\n",
    "print(len(good_ids))\n",
    "print(good_ids)"
   ]
  },
  {
   "cell_type": "code",
   "execution_count": 3,
   "metadata": {},
   "outputs": [
    {
     "name": "stdout",
     "output_type": "stream",
     "text": [
      "205\n"
     ]
    },
    {
     "data": {
      "text/plain": [
       "True"
      ]
     },
     "execution_count": 3,
     "metadata": {},
     "output_type": "execute_result"
    }
   ],
   "source": [
    "metrics_path = \"/gpfs/bbp.cscs.ch/project/proj85/scratch/laquitai/preprint_2024/postpro/0_silico/8_spikesorting_stimulus_test_neuropixels_13-4-24__8slc_100f_72r_250t_200ms_0/12c5ef9a-1f3b-4b18-b3f5-ec6a417f645c/analysis/sorting_quality/sorting_quality.csv\"\n",
    "sorting_quality_table = pd.read_csv(metrics_path)\n",
    "exp_sorting_quality_table = sorting_quality_table[\n",
    "    (sorting_quality_table[\"sorter\"] == \"KS2\")\n",
    "    & (sorting_quality_table[\"experiment\"] == \"E\")\n",
    "]\n",
    "print(len(exp_sorting_quality_table))\n",
    "\n",
    "all(list(np.sort(exp_sorting_quality_table.sorted)) == good_ids)"
   ]
  },
  {
   "cell_type": "code",
   "execution_count": 4,
   "metadata": {},
   "outputs": [
    {
     "name": "stderr",
     "output_type": "stream",
     "text": [
      "/tmp/ipykernel_138642/3976962284.py:2: DeprecationWarning: Sorting.get_total_num_spikes() is deprecated and will be removed in spikeinterface 0.102, use sorting.count_num_spikes_per_unit()\n",
      "  sum(pd.DataFrame.from_dict(data=sorting.get_total_num_spikes(), orient=\"index\") < 1)\n"
     ]
    },
    {
     "data": {
      "text/plain": [
       "0"
      ]
     },
     "execution_count": 4,
     "metadata": {},
     "output_type": "execute_result"
    }
   ],
   "source": [
    "# check minimum number of spikes\n",
    "sum(pd.DataFrame.from_dict(data=sorting.get_total_num_spikes(), orient=\"index\") < 1)"
   ]
  },
  {
   "cell_type": "code",
   "execution_count": 63,
   "metadata": {},
   "outputs": [
    {
     "name": "stdout",
     "output_type": "stream",
     "text": [
      "740\n",
      "750\n"
     ]
    }
   ],
   "source": [
    "scores_root = \"/gpfs/bbp.cscs.ch/project/proj85/scratch/laquitai/preprint_2024/postpro/0_silico/8_spikesorting_stimulus_test_neuropixels_13-4-24__8slc_100f_72r_250t_200ms_0/12c5ef9a-1f3b-4b18-b3f5-ec6a417f645c/analysis/scores/\"\n",
    "scores = pd.read_csv(scores_root + \"ks2.csv\")\n",
    "print(scores.shape[1])\n",
    "print(scores.columns[-1])"
   ]
  },
  {
   "cell_type": "code",
   "execution_count": 14,
   "metadata": {},
   "outputs": [
    {
     "name": "stdout",
     "output_type": "stream",
     "text": [
      "750\n"
     ]
    }
   ],
   "source": [
    "sorting_quality_table = pd.read_csv(\n",
    "    \"/gpfs/bbp.cscs.ch/project/proj85/scratch/laquitai/preprint_2024/postpro/0_silico/8_spikesorting_stimulus_test_neuropixels_13-4-24__8slc_100f_72r_250t_200ms_0/12c5ef9a-1f3b-4b18-b3f5-ec6a417f645c/analysis/sorting_quality/sorting_quality.csv\"\n",
    ")\n",
    "exp_sorting_quality_table = sorting_quality_table[\n",
    "    (sorting_quality_table[\"sorter\"] == \"KS2\")\n",
    "    & (sorting_quality_table[\"experiment\"] == \"E\")\n",
    "]\n",
    "print(exp_sorting_quality_table[\"sorted\"].max())"
   ]
  },
  {
   "cell_type": "code",
   "execution_count": 80,
   "metadata": {},
   "outputs": [
    {
     "name": "stdout",
     "output_type": "stream",
     "text": [
      "max sorted unit id in scores matrix: 750\n",
      "max sorted unit id in quality table: 750\n"
     ]
    }
   ],
   "source": [
    "print(\"max sorted unit id in scores matrix:\", scores.columns[1:].astype(int).max())\n",
    "print(\n",
    "    \"max sorted unit id in quality table:\",\n",
    "    exp_sorting_quality_table.sorted.values.max(),\n",
    ")"
   ]
  }
 ],
 "metadata": {
  "kernelspec": {
   "display_name": "spikinterf0_100_5",
   "language": "python",
   "name": "python3"
  },
  "language_info": {
   "codemirror_mode": {
    "name": "ipython",
    "version": 3
   },
   "file_extension": ".py",
   "mimetype": "text/x-python",
   "name": "python",
   "nbconvert_exporter": "python",
   "pygments_lexer": "ipython3",
   "version": "3.9.7"
  }
 },
 "nbformat": 4,
 "nbformat_minor": 4
}
