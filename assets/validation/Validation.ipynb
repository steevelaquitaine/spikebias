{
 "cells": [
  {
   "cell_type": "code",
   "execution_count": 1,
   "metadata": {},
   "outputs": [],
   "source": [
    "# SPDX-License-Identifier: GPL-3.0-or-later"
   ]
  },
  {
   "cell_type": "code",
   "execution_count": 2,
   "metadata": {},
   "outputs": [],
   "source": [
    "%matplotlib widget"
   ]
  },
  {
   "cell_type": "code",
   "execution_count": 3,
   "metadata": {},
   "outputs": [],
   "source": [
    "import numpy as np\n",
    "import pandas as pd\n",
    "import os\n",
    "from scipy.stats import linregress\n",
    "\n",
    "from matplotlib import pyplot as plt;\n",
    "plt.rcParams[\"font.family\"] = \"Arial\"\n",
    "plt.rcParams[\"font.size\"] = 6\n",
    "plt.rcParams[\"lines.linewidth\"] = 0.5\n",
    "plt.rcParams[\"axes.linewidth\"] = 0.5\n",
    "plt.rcParams[\"axes.spines.top\"] = False\n",
    "plt.rcParams[\"xtick.major.width\"] = 0.5 \n",
    "plt.rcParams[\"xtick.minor.width\"] = 0.5 \n",
    "plt.rcParams[\"ytick.major.width\"] = 0.5 \n",
    "plt.rcParams[\"ytick.minor.width\"] = 0.5\n",
    "plt.rcParams[\"xtick.major.size\"] = 3.5 * 1.1\n",
    "plt.rcParams[\"xtick.minor.size\"] = 2 * 1.1\n",
    "plt.rcParams[\"ytick.major.size\"] = 3.5 * 1.1\n",
    "plt.rcParams[\"ytick.minor.size\"] = 2 * 1.1\n",
    "\n",
    "\n",
    "import conntility\n"
   ]
  },
  {
   "cell_type": "code",
   "execution_count": 4,
   "metadata": {},
   "outputs": [],
   "source": [
    "savefig_cfg = {\"transparent\":True, \"dpi\": 300}\n",
    "legend_cfg = {\"frameon\": False, \"handletextpad\": 0.1}\n",
    "tight_layout_cfg = {\"pad\": 0.5}"
   ]
  },
  {
   "cell_type": "markdown",
   "metadata": {},
   "source": [
    "# Load Compartment weights"
   ]
  },
  {
   "cell_type": "code",
   "execution_count": 5,
   "metadata": {},
   "outputs": [],
   "source": [
    "import bluepysnap as bp\n",
    "path_to_simulation = '../csd_paper/electrodes/'\n",
    "s = bp.Simulation(path_to_simulation+'simulation_config.json') # Loads simulation object\n",
    "population_name = 'S1nonbarrel_neurons'\n"
   ]
  },
  {
   "cell_type": "code",
   "execution_count": 6,
   "metadata": {},
   "outputs": [],
   "source": [
    "c = s.circuit"
   ]
  },
  {
   "cell_type": "code",
   "execution_count": 7,
   "metadata": {},
   "outputs": [],
   "source": [
    "hex0Ids = c.nodes.ids('hex0').get_ids()"
   ]
  },
  {
   "cell_type": "code",
   "execution_count": 8,
   "metadata": {},
   "outputs": [],
   "source": [
    "n = c.nodes['S1nonbarrel_neurons']"
   ]
  },
  {
   "cell_type": "markdown",
   "metadata": {},
   "source": [
    "## Checks number of somas that are within 10 um of a neuropixels contact"
   ]
  },
  {
   "cell_type": "code",
   "execution_count": 9,
   "metadata": {},
   "outputs": [],
   "source": [
    "somaLocs = n.get(hex0Ids,properties=['x','y','z'])"
   ]
  },
  {
   "cell_type": "code",
   "execution_count": 5,
   "metadata": {},
   "outputs": [],
   "source": [
    "neuropixelsLocs = pd.read_csv('~/Downloads/electrode_csv.csv').iloc[:,1:4]"
   ]
  },
  {
   "cell_type": "code",
   "execution_count": 6,
   "metadata": {},
   "outputs": [],
   "source": [
    "import os\n",
    "\n",
    "def count_files(path):\n",
    "    count = 0\n",
    "    for _, _, files in os.walk(path):\n",
    "        count += len(files)\n",
    "    return count"
   ]
  },
  {
   "cell_type": "code",
   "execution_count": 10,
   "metadata": {},
   "outputs": [],
   "source": [
    "path_to_positions = '../csd_paper/electrodes/positions/'"
   ]
  },
  {
   "cell_type": "code",
   "execution_count": 11,
   "metadata": {},
   "outputs": [],
   "source": [
    "numPositionFiles = count_files(path_to_positions)"
   ]
  },
  {
   "cell_type": "code",
   "execution_count": 14,
   "metadata": {},
   "outputs": [],
   "source": [
    "filesPerFolder = 50\n",
    "positions = pd.read_pickle(path_to_positions+'0/positions0.pkl')\n",
    "for i in np.arange(1,numPositionFiles):\n",
    "    folder = int(i/filesPerFolder)\n",
    "    positions = pd.concat((positions,pd.read_pickle(path_to_positions+str(folder)+'/positions'+str(i)+'.pkl')),axis=1)"
   ]
  },
  {
   "cell_type": "code",
   "execution_count": 29,
   "metadata": {},
   "outputs": [
    {
     "data": {
      "text/plain": [
       "384"
      ]
     },
     "execution_count": 29,
     "metadata": {},
     "output_type": "execute_result"
    }
   ],
   "source": [
    "len(neuropixelsLocs)"
   ]
  },
  {
   "cell_type": "code",
   "execution_count": null,
   "metadata": {},
   "outputs": [],
   "source": []
  },
  {
   "cell_type": "code",
   "execution_count": 33,
   "metadata": {
    "scrolled": true
   },
   "outputs": [
    {
     "name": "stdout",
     "output_type": "stream",
     "text": [
      "0\n",
      "1\n",
      "2\n",
      "3\n",
      "4\n",
      "5\n",
      "6\n",
      "7\n",
      "8\n",
      "9\n",
      "10\n",
      "11\n",
      "12\n",
      "13\n",
      "14\n",
      "15\n",
      "16\n",
      "17\n",
      "18\n",
      "19\n",
      "20\n",
      "21\n",
      "22\n",
      "23\n",
      "24\n",
      "25\n",
      "26\n",
      "27\n",
      "28\n",
      "29\n",
      "30\n",
      "31\n",
      "32\n",
      "33\n",
      "34\n",
      "35\n",
      "36\n",
      "37\n",
      "38\n",
      "39\n",
      "40\n",
      "41\n",
      "42\n",
      "43\n",
      "44\n",
      "45\n",
      "46\n",
      "47\n",
      "48\n",
      "49\n",
      "50\n",
      "51\n",
      "52\n",
      "53\n",
      "54\n",
      "55\n",
      "56\n",
      "57\n",
      "58\n",
      "59\n",
      "60\n",
      "61\n",
      "62\n",
      "63\n",
      "64\n",
      "65\n",
      "66\n",
      "67\n",
      "68\n",
      "69\n",
      "70\n",
      "71\n",
      "72\n",
      "73\n",
      "74\n",
      "75\n",
      "76\n",
      "77\n",
      "78\n",
      "79\n",
      "80\n",
      "81\n",
      "82\n",
      "83\n",
      "84\n",
      "85\n",
      "86\n",
      "87\n",
      "88\n",
      "89\n",
      "90\n",
      "91\n",
      "92\n",
      "93\n",
      "94\n",
      "95\n",
      "96\n",
      "97\n",
      "98\n",
      "99\n",
      "100\n",
      "101\n",
      "102\n",
      "103\n",
      "104\n",
      "105\n",
      "106\n",
      "107\n",
      "108\n",
      "109\n",
      "110\n",
      "111\n",
      "112\n",
      "113\n",
      "114\n",
      "115\n",
      "116\n",
      "117\n",
      "118\n",
      "119\n",
      "120\n",
      "121\n",
      "122\n",
      "123\n",
      "124\n",
      "125\n",
      "126\n",
      "127\n",
      "128\n",
      "129\n",
      "130\n",
      "131\n",
      "132\n",
      "133\n",
      "134\n",
      "135\n",
      "136\n",
      "137\n",
      "138\n",
      "139\n",
      "140\n",
      "141\n",
      "142\n",
      "143\n",
      "144\n",
      "145\n",
      "146\n",
      "147\n",
      "148\n",
      "149\n",
      "150\n",
      "151\n",
      "152\n",
      "153\n",
      "154\n",
      "155\n",
      "156\n",
      "157\n",
      "158\n",
      "159\n",
      "160\n",
      "161\n",
      "162\n",
      "163\n",
      "164\n",
      "165\n",
      "166\n",
      "167\n",
      "168\n",
      "169\n",
      "170\n",
      "171\n",
      "172\n",
      "173\n",
      "174\n",
      "175\n",
      "176\n",
      "177\n",
      "178\n",
      "179\n",
      "180\n",
      "181\n",
      "182\n",
      "183\n",
      "184\n",
      "185\n",
      "186\n",
      "187\n",
      "188\n",
      "189\n",
      "190\n",
      "191\n",
      "192\n",
      "193\n",
      "194\n",
      "195\n",
      "196\n",
      "197\n",
      "198\n",
      "199\n",
      "200\n",
      "201\n",
      "202\n",
      "203\n",
      "204\n",
      "205\n",
      "206\n",
      "207\n",
      "208\n",
      "209\n",
      "210\n",
      "211\n",
      "212\n",
      "213\n",
      "214\n",
      "215\n",
      "216\n",
      "217\n",
      "218\n",
      "219\n",
      "220\n",
      "221\n",
      "222\n",
      "223\n",
      "224\n",
      "225\n",
      "226\n",
      "227\n",
      "228\n",
      "229\n",
      "230\n",
      "231\n",
      "232\n",
      "233\n",
      "234\n",
      "235\n",
      "236\n",
      "237\n",
      "238\n",
      "239\n",
      "240\n",
      "241\n",
      "242\n",
      "243\n",
      "244\n",
      "245\n",
      "246\n",
      "247\n",
      "248\n",
      "249\n",
      "250\n",
      "251\n",
      "252\n",
      "253\n",
      "254\n",
      "255\n",
      "256\n",
      "257\n",
      "258\n",
      "259\n",
      "260\n",
      "261\n",
      "262\n",
      "263\n",
      "264\n",
      "265\n",
      "266\n",
      "267\n",
      "268\n",
      "269\n",
      "270\n",
      "271\n",
      "272\n",
      "273\n",
      "274\n",
      "275\n",
      "276\n",
      "277\n",
      "278\n",
      "279\n",
      "280\n",
      "281\n",
      "282\n",
      "283\n",
      "284\n",
      "285\n",
      "286\n",
      "287\n",
      "288\n",
      "289\n",
      "290\n",
      "291\n",
      "292\n",
      "293\n",
      "294\n",
      "295\n",
      "296\n",
      "297\n",
      "298\n",
      "299\n",
      "300\n",
      "301\n",
      "302\n",
      "303\n",
      "304\n",
      "305\n",
      "306\n",
      "307\n",
      "308\n",
      "309\n",
      "310\n",
      "311\n",
      "312\n",
      "313\n",
      "314\n",
      "315\n",
      "316\n",
      "317\n",
      "318\n",
      "319\n",
      "320\n",
      "321\n",
      "322\n",
      "323\n",
      "324\n",
      "325\n",
      "326\n",
      "327\n",
      "328\n",
      "329\n",
      "330\n",
      "331\n",
      "332\n",
      "333\n",
      "334\n",
      "335\n",
      "336\n",
      "337\n",
      "338\n",
      "339\n",
      "340\n",
      "341\n",
      "342\n",
      "343\n",
      "344\n",
      "345\n",
      "346\n",
      "347\n",
      "348\n",
      "349\n",
      "350\n",
      "351\n",
      "352\n",
      "353\n",
      "354\n",
      "355\n",
      "356\n",
      "357\n",
      "358\n",
      "359\n",
      "360\n",
      "361\n",
      "362\n",
      "363\n",
      "364\n",
      "365\n",
      "366\n",
      "367\n",
      "368\n",
      "369\n",
      "370\n",
      "371\n",
      "372\n",
      "373\n",
      "374\n",
      "375\n",
      "376\n",
      "377\n",
      "378\n",
      "379\n",
      "380\n",
      "381\n",
      "382\n",
      "383\n"
     ]
    }
   ],
   "source": [
    "NumBad = []\n",
    "for n in range(len(neuropixelsLocs)):\n",
    "    d = positions.values - neuropixelsLocs.iloc[n].values[:,np.newaxis]\n",
    "    dis = np.linalg.norm(d,axis=0)\n",
    "    NumBad.append(np.sum(dis>6))\n",
    "    "
   ]
  },
  {
   "cell_type": "code",
   "execution_count": 36,
   "metadata": {},
   "outputs": [],
   "source": [
    "NumBad = np.array(NumBad)"
   ]
  },
  {
   "cell_type": "code",
   "execution_count": 40,
   "metadata": {},
   "outputs": [],
   "source": [
    "NumBad = NumBad - 100236528"
   ]
  },
  {
   "cell_type": "code",
   "execution_count": 47,
   "metadata": {},
   "outputs": [
    {
     "data": {
      "text/plain": [
       "-19.471354166666668"
      ]
     },
     "execution_count": 47,
     "metadata": {},
     "output_type": "execute_result"
    }
   ],
   "source": [
    "np.mean(NumBad)"
   ]
  },
  {
   "cell_type": "code",
   "execution_count": 44,
   "metadata": {},
   "outputs": [
    {
     "data": {
      "text/html": [
       "<div>\n",
       "<style scoped>\n",
       "    .dataframe tbody tr th:only-of-type {\n",
       "        vertical-align: middle;\n",
       "    }\n",
       "\n",
       "    .dataframe tbody tr th {\n",
       "        vertical-align: top;\n",
       "    }\n",
       "\n",
       "    .dataframe thead tr th {\n",
       "        text-align: left;\n",
       "    }\n",
       "</style>\n",
       "<table border=\"1\" class=\"dataframe\">\n",
       "  <thead>\n",
       "    <tr>\n",
       "      <th>id</th>\n",
       "      <th colspan=\"10\" halign=\"left\">0</th>\n",
       "      <th>...</th>\n",
       "      <th colspan=\"10\" halign=\"left\">211711</th>\n",
       "    </tr>\n",
       "    <tr>\n",
       "      <th>section</th>\n",
       "      <th>0</th>\n",
       "      <th>1</th>\n",
       "      <th>1</th>\n",
       "      <th>1</th>\n",
       "      <th>1</th>\n",
       "      <th>1</th>\n",
       "      <th>1</th>\n",
       "      <th>2</th>\n",
       "      <th>2</th>\n",
       "      <th>2</th>\n",
       "      <th>...</th>\n",
       "      <th>48</th>\n",
       "      <th>48</th>\n",
       "      <th>48</th>\n",
       "      <th>48</th>\n",
       "      <th>49</th>\n",
       "      <th>49</th>\n",
       "      <th>49</th>\n",
       "      <th>49</th>\n",
       "      <th>49</th>\n",
       "      <th>49</th>\n",
       "    </tr>\n",
       "  </thead>\n",
       "  <tbody>\n",
       "    <tr>\n",
       "      <th>0</th>\n",
       "      <td>4652.171846</td>\n",
       "      <td>4652.171846</td>\n",
       "      <td>4656.039573</td>\n",
       "      <td>4659.907301</td>\n",
       "      <td>4662.717122</td>\n",
       "      <td>4665.031698</td>\n",
       "      <td>4666.577364</td>\n",
       "      <td>4666.558924</td>\n",
       "      <td>4667.060199</td>\n",
       "      <td>4669.282444</td>\n",
       "      <td>...</td>\n",
       "      <td>3826.874292</td>\n",
       "      <td>3815.761413</td>\n",
       "      <td>3807.723381</td>\n",
       "      <td>3790.565727</td>\n",
       "      <td>3879.484739</td>\n",
       "      <td>3793.323366</td>\n",
       "      <td>3927.039366</td>\n",
       "      <td>4067.762787</td>\n",
       "      <td>4208.486208</td>\n",
       "      <td>4349.209629</td>\n",
       "    </tr>\n",
       "    <tr>\n",
       "      <th>1</th>\n",
       "      <td>-1930.525524</td>\n",
       "      <td>-1930.525524</td>\n",
       "      <td>-1932.036757</td>\n",
       "      <td>-1933.547989</td>\n",
       "      <td>-1931.768027</td>\n",
       "      <td>-1928.942230</td>\n",
       "      <td>-1926.092358</td>\n",
       "      <td>-1926.096984</td>\n",
       "      <td>-1923.306976</td>\n",
       "      <td>-1921.315842</td>\n",
       "      <td>...</td>\n",
       "      <td>-771.519013</td>\n",
       "      <td>-757.992465</td>\n",
       "      <td>-740.694084</td>\n",
       "      <td>-733.962018</td>\n",
       "      <td>-868.948318</td>\n",
       "      <td>-872.267981</td>\n",
       "      <td>-1006.556381</td>\n",
       "      <td>-1141.238675</td>\n",
       "      <td>-1275.920970</td>\n",
       "      <td>-1410.603264</td>\n",
       "    </tr>\n",
       "    <tr>\n",
       "      <th>2</th>\n",
       "      <td>-1836.395782</td>\n",
       "      <td>-1836.395782</td>\n",
       "      <td>-1840.726702</td>\n",
       "      <td>-1845.057621</td>\n",
       "      <td>-1849.562551</td>\n",
       "      <td>-1854.315929</td>\n",
       "      <td>-1859.358070</td>\n",
       "      <td>-1859.368768</td>\n",
       "      <td>-1864.653615</td>\n",
       "      <td>-1869.795049</td>\n",
       "      <td>...</td>\n",
       "      <td>-2242.578888</td>\n",
       "      <td>-2231.511090</td>\n",
       "      <td>-2223.039783</td>\n",
       "      <td>-2216.068382</td>\n",
       "      <td>-2251.602882</td>\n",
       "      <td>-2329.880819</td>\n",
       "      <td>-2378.370982</td>\n",
       "      <td>-2423.731741</td>\n",
       "      <td>-2469.092499</td>\n",
       "      <td>-2514.453258</td>\n",
       "    </tr>\n",
       "  </tbody>\n",
       "</table>\n",
       "<p>3 rows × 100236528 columns</p>\n",
       "</div>"
      ],
      "text/plain": [
       "id            0                                                           \\\n",
       "section           0            1            1            1            1    \n",
       "0        4652.171846  4652.171846  4656.039573  4659.907301  4662.717122   \n",
       "1       -1930.525524 -1930.525524 -1932.036757 -1933.547989 -1931.768027   \n",
       "2       -1836.395782 -1836.395782 -1840.726702 -1845.057621 -1849.562551   \n",
       "\n",
       "id                                                                        ...  \\\n",
       "section           1            1            2            2            2   ...   \n",
       "0        4665.031698  4666.577364  4666.558924  4667.060199  4669.282444  ...   \n",
       "1       -1928.942230 -1926.092358 -1926.096984 -1923.306976 -1921.315842  ...   \n",
       "2       -1854.315929 -1859.358070 -1859.368768 -1864.653615 -1869.795049  ...   \n",
       "\n",
       "id            211711                                                      \\\n",
       "section           48           48           48           48           49   \n",
       "0        3826.874292  3815.761413  3807.723381  3790.565727  3879.484739   \n",
       "1        -771.519013  -757.992465  -740.694084  -733.962018  -868.948318   \n",
       "2       -2242.578888 -2231.511090 -2223.039783 -2216.068382 -2251.602882   \n",
       "\n",
       "id                                                                        \n",
       "section           49           49           49           49           49  \n",
       "0        3793.323366  3927.039366  4067.762787  4208.486208  4349.209629  \n",
       "1        -872.267981 -1006.556381 -1141.238675 -1275.920970 -1410.603264  \n",
       "2       -2329.880819 -2378.370982 -2423.731741 -2469.092499 -2514.453258  \n",
       "\n",
       "[3 rows x 100236528 columns]"
      ]
     },
     "execution_count": 44,
     "metadata": {},
     "output_type": "execute_result"
    }
   ],
   "source": [
    "positions"
   ]
  },
  {
   "cell_type": "code",
   "execution_count": 37,
   "metadata": {},
   "outputs": [],
   "source": [
    "distances = []\n",
    "for s in np.array(somaLocs):\n",
    "    distances.append(np.linalg.norm(s-neuropixelsLocs,axis=1))\n",
    "distances = np.array(distances)"
   ]
  },
  {
   "cell_type": "code",
   "execution_count": 45,
   "metadata": {},
   "outputs": [
    {
     "data": {
      "application/vnd.jupyter.widget-view+json": {
       "model_id": "492bf00e8abf48f58d46bba08b5055b0",
       "version_major": 2,
       "version_minor": 0
      },
      "image/png": "[encoded data removed]",
      "text/html": [
       "\n",
       "            <div style=\"display: inline-block;\">\n",
       "                <div class=\"jupyter-widgets widget-label\" style=\"text-align: center;\">\n",
       "                    Figure\n",
       "                </div>\n",
       "                <img src='data:image/png;base64,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' width=640.0/>\n",
       "            </div>\n",
       "        "
      ],
      "text/plain": [
       "Canvas(toolbar=Toolbar(toolitems=[('Home', 'Reset original view', 'home', 'home'), ('Back', 'Back to previous …"
      ]
     },
     "metadata": {},
     "output_type": "display_data"
    }
   ],
   "source": [
    "plt.figure()\n",
    "plt.hist(distances.flatten(),bins=500)\n",
    "plt.show()"
   ]
  },
  {
   "cell_type": "code",
   "execution_count": 57,
   "metadata": {},
   "outputs": [
    {
     "data": {
      "text/plain": [
       "87"
      ]
     },
     "execution_count": 57,
     "metadata": {},
     "output_type": "execute_result"
    }
   ],
   "source": [
    "np.sum(np.any(distances<10,axis=1))"
   ]
  },
  {
   "cell_type": "code",
   "execution_count": 6,
   "metadata": {},
   "outputs": [],
   "source": [
    "import h5py"
   ]
  },
  {
   "cell_type": "code",
   "execution_count": 7,
   "metadata": {},
   "outputs": [],
   "source": [
    "# Loads the weights file\n",
    "coeffsFile = 'lfp_fullNeuropixels.h5'\n",
    "\n",
    "coeffs = h5py.File(coeffsFile)\n",
    "\n",
    "coeffsFileC = 'lfp_fullNeuropixels_test.h5'\n",
    "\n",
    "coeffs_pointsource = h5py.File(coeffsFileC)\n"
   ]
  },
  {
   "cell_type": "code",
   "execution_count": 8,
   "metadata": {},
   "outputs": [
    {
     "data": {
      "text/plain": [
       "5"
      ]
     },
     "execution_count": 8,
     "metadata": {},
     "output_type": "execute_result"
    }
   ],
   "source": [
    "coeffs_pointsource['electrodes']['23']['size'][()]"
   ]
  },
  {
   "cell_type": "code",
   "execution_count": 9,
   "metadata": {},
   "outputs": [],
   "source": [
    "# Node ids from weights file\n",
    "allNodeIds = coeffs['S1nonbarrel_neurons']['node_ids']\n",
    "\n",
    "offsets = [coeffs['S1nonbarrel_neurons']['offsets'][:][:-1],coeffs['S1nonbarrel_neurons']['offsets'][:][1:]]\n",
    "\n",
    "#hex0Idx = np.where(np.isin(allNodeIds,hex0Ids))[0]"
   ]
  },
  {
   "cell_type": "code",
   "execution_count": 10,
   "metadata": {},
   "outputs": [
    {
     "data": {
      "text/plain": [
       "<HDF5 dataset \"node_ids\": shape (30190,), type \"<i8\">"
      ]
     },
     "execution_count": 10,
     "metadata": {},
     "output_type": "execute_result"
    }
   ],
   "source": [
    "allNodeIds"
   ]
  },
  {
   "cell_type": "code",
   "execution_count": 11,
   "metadata": {},
   "outputs": [],
   "source": [
    "# Node ids from weights file\n",
    "allNodeIdsC = coeffs_pointsource['S1nonbarrel_neurons']['node_ids']\n",
    "\n",
    "offsetsC = [coeffs_pointsource['S1nonbarrel_neurons']['offsets'][:][:-1],coeffs_pointsource['S1nonbarrel_neurons']['offsets'][:][1:]]\n",
    "\n",
    "#hex0Idx = np.where(np.isin(allNodeIds,hex0Ids))[0]"
   ]
  },
  {
   "cell_type": "code",
   "execution_count": 12,
   "metadata": {},
   "outputs": [],
   "source": [
    "allValues = coeffs['electrodes']['S1nonbarrel_neurons']['scaling_factors'][:][:,:-1]\n",
    "allValuesC = coeffs_pointsource['electrodes']['S1nonbarrel_neurons']['scaling_factors'][:][:,:-1]\n"
   ]
  },
  {
   "cell_type": "code",
   "execution_count": 31,
   "metadata": {},
   "outputs": [
    {
     "data": {
      "text/plain": [
       "(11285758, 51)"
      ]
     },
     "execution_count": 31,
     "metadata": {},
     "output_type": "execute_result"
    }
   ],
   "source": [
    "allValues.shape"
   ]
  },
  {
   "cell_type": "code",
   "execution_count": 30,
   "metadata": {},
   "outputs": [
    {
     "data": {
      "text/plain": [
       "22"
      ]
     },
     "execution_count": 30,
     "metadata": {},
     "output_type": "execute_result"
    }
   ],
   "source": [
    "len(np.where(allValues[diffIdx]/allValuesC[diffIdx]>3)[0])"
   ]
  },
  {
   "cell_type": "code",
   "execution_count": null,
   "metadata": {},
   "outputs": [],
   "source": []
  },
  {
   "cell_type": "code",
   "execution_count": 27,
   "metadata": {},
   "outputs": [
    {
     "data": {
      "text/plain": [
       "(array([131., 100.,  85.,  68.,  65.,  55.,  33.,  25.,  22.,  20.,  23.,\n",
       "         12.,  25.,  21.,  10.,  12.,   7.,   8.,   6.,   8.,   5.,   3.,\n",
       "          4.,   1.,   1.,   5.,   4.,   2.,   6.,   2.,   3.,   1.,   1.,\n",
       "          1.,   1.,   1.,   2.,   1.,   0.,   1.,   1.,   0.,   0.,   0.,\n",
       "          0.,   0.,   2.,   2.,   0.,   1.,   0.,   0.,   0.,   0.,   0.,\n",
       "          1.,   0.,   0.,   1.,   0.,   0.,   0.,   0.,   0.,   0.,   0.,\n",
       "          0.,   0.,   0.,   0.,   0.,   0.,   0.,   1.,   0.,   0.,   0.,\n",
       "          1.,   0.,   0.,   0.,   0.,   0.,   1.,   0.,   0.,   0.,   0.,\n",
       "          0.,   0.,   0.,   0.,   0.,   0.,   0.,   0.,   1.,   0.,   0.,\n",
       "          1.]),\n",
       " array([1.00027318, 1.06307205, 1.12587091, 1.18866978, 1.25146865,\n",
       "        1.31426751, 1.37706638, 1.43986524, 1.50266411, 1.56546298,\n",
       "        1.62826184, 1.69106071, 1.75385957, 1.81665844, 1.87945731,\n",
       "        1.94225617, 2.00505504, 2.0678539 , 2.13065277, 2.19345164,\n",
       "        2.2562505 , 2.31904937, 2.38184824, 2.4446471 , 2.50744597,\n",
       "        2.57024483, 2.6330437 , 2.69584257, 2.75864143, 2.8214403 ,\n",
       "        2.88423916, 2.94703803, 3.0098369 , 3.07263576, 3.13543463,\n",
       "        3.19823349, 3.26103236, 3.32383123, 3.38663009, 3.44942896,\n",
       "        3.51222783, 3.57502669, 3.63782556, 3.70062442, 3.76342329,\n",
       "        3.82622216, 3.88902102, 3.95181989, 4.01461875, 4.07741762,\n",
       "        4.14021649, 4.20301535, 4.26581422, 4.32861308, 4.39141195,\n",
       "        4.45421082, 4.51700968, 4.57980855, 4.64260742, 4.70540628,\n",
       "        4.76820515, 4.83100401, 4.89380288, 4.95660175, 5.01940061,\n",
       "        5.08219948, 5.14499834, 5.20779721, 5.27059608, 5.33339494,\n",
       "        5.39619381, 5.45899267, 5.52179154, 5.58459041, 5.64738927,\n",
       "        5.71018814, 5.77298701, 5.83578587, 5.89858474, 5.9613836 ,\n",
       "        6.02418247, 6.08698134, 6.1497802 , 6.21257907, 6.27537793,\n",
       "        6.3381768 , 6.40097567, 6.46377453, 6.5265734 , 6.58937226,\n",
       "        6.65217113, 6.71497   , 6.77776886, 6.84056773, 6.9033666 ,\n",
       "        6.96616546, 7.02896433, 7.09176319, 7.15456206, 7.21736093,\n",
       "        7.28015979]),\n",
       " <BarContainer object of 100 artists>)"
      ]
     },
     "execution_count": 27,
     "metadata": {},
     "output_type": "execute_result"
    },
    {
     "data": {
      "application/vnd.jupyter.widget-view+json": {
       "model_id": "ba8ca6049282447f954281ad8caa9c01",
       "version_major": 2,
       "version_minor": 0
      },
      "image/png": "[encoded data removed]",
      "text/html": [
       "\n",
       "            <div style=\"display: inline-block;\">\n",
       "                <div class=\"jupyter-widgets widget-label\" style=\"text-align: center;\">\n",
       "                    Figure\n",
       "                </div>\n",
       "                <img src='data:image/png;base64,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' width=640.0/>\n",
       "            </div>\n",
       "        "
      ],
      "text/plain": [
       "Canvas(toolbar=Toolbar(toolitems=[('Home', 'Reset original view', 'home', 'home'), ('Back', 'Back to previous …"
      ]
     },
     "metadata": {},
     "output_type": "display_data"
    }
   ],
   "source": [
    "plt.figure()\n",
    "plt.hist(allValues[diffIdx]/allValuesC[diffIdx],bins=100)"
   ]
  },
  {
   "cell_type": "code",
   "execution_count": 25,
   "metadata": {},
   "outputs": [
    {
     "data": {
      "text/plain": [
       "array([1.58962226, 1.96137857, 1.06796235, 1.13508146, 1.20244161,\n",
       "       1.29738747, 1.07248983, 1.14483534, 1.94091727, 1.18387294,\n",
       "       1.37039025, 1.21080313, 1.06150705, 1.20304703, 1.56074334,\n",
       "       1.10292978, 1.0950938 , 2.20277949, 1.3207439 , 1.03044809,\n",
       "       1.0972912 , 1.73318873, 1.2563538 , 1.44947779, 1.20398088,\n",
       "       1.637092  , 1.58824501, 1.44548126, 1.11699976, 1.02671009,\n",
       "       1.09688814, 1.11106113, 1.06445198, 1.29965176, 1.33402907,\n",
       "       2.03696757, 1.2015302 , 1.73729715, 1.86590309, 1.86982956,\n",
       "       1.51977954, 1.08936519, 1.03217321, 1.0362494 , 1.13721107,\n",
       "       1.41383638, 1.9969392 , 1.90109742, 1.23643184, 2.23455236,\n",
       "       1.12421594, 2.65645351, 1.39518197, 2.92000451, 1.27090707,\n",
       "       2.09436131, 1.4139875 , 1.067124  , 1.99702787, 2.0379969 ,\n",
       "       4.68406249, 1.21013403, 1.79047075, 1.00422948, 1.58407796,\n",
       "       1.97939063, 1.34560453, 1.1016096 , 1.31697081, 2.40880784,\n",
       "       2.63204615, 1.53289192, 1.26323325, 1.1804982 , 1.30404949,\n",
       "       1.31679642, 2.38334332, 1.12244998, 1.81907201, 2.82184534,\n",
       "       1.18890332, 1.04756585, 1.27626876, 1.27115658, 1.11750193,\n",
       "       2.25600558, 1.89711301, 1.08490137, 1.31188717, 1.34696663,\n",
       "       1.14689195, 1.1051879 , 1.00087461, 1.07370794, 2.37329617,\n",
       "       1.6886466 , 1.00720813, 2.35697313, 1.17558273, 1.64503472,\n",
       "       1.32702075, 1.14345766, 2.26952861, 1.1067112 , 1.29186655,\n",
       "       1.21863109, 1.52728877, 1.66109349, 1.12543591, 1.00692145,\n",
       "       1.07641375, 1.1570715 , 1.35158459, 1.00916891, 1.16858002,\n",
       "       1.18899622, 1.31480975, 1.0355319 , 1.10498352, 1.03164683,\n",
       "       1.41018946, 2.78827608, 1.87377946, 1.05044605, 1.0952327 ,\n",
       "       1.23456128, 1.01125825, 1.06794388, 1.2868479 , 1.01488079,\n",
       "       1.19768519, 1.50789779, 1.09761168, 1.18840528, 1.68942154,\n",
       "       1.04137452, 1.07074247, 1.12386977, 1.1041653 , 1.32398239,\n",
       "       1.24476351, 1.34886962, 1.39500716, 1.20536161, 1.07772483,\n",
       "       1.17251722, 1.11533198, 1.16011225, 2.11975377, 1.00642682,\n",
       "       1.18977682, 1.25480948, 1.57968813, 1.79352484, 1.02735706,\n",
       "       1.42228472, 1.23096338, 1.03649307, 1.03377411, 1.16598191,\n",
       "       1.05525362, 2.30665925, 1.42558931, 1.04035348, 1.01215664,\n",
       "       1.25746405, 1.6336106 , 1.35092869, 1.04037025, 1.0924677 ,\n",
       "       1.14908869, 1.09279198, 1.72655772, 1.08846313, 1.38663997,\n",
       "       1.92063866, 1.10922059, 1.37669468, 2.43565663, 1.12249922,\n",
       "       1.18515469, 1.33728384, 1.78616591, 2.72817968, 1.02717586,\n",
       "       1.05984808, 1.26974268, 1.12151753, 1.44937782, 1.14349119,\n",
       "       1.2873938 , 1.03909308, 1.35506757, 1.05130544, 1.72315545,\n",
       "       1.61738941, 1.09889668, 1.46690606, 1.0628768 , 2.00949766,\n",
       "       1.06033321, 1.05932535, 1.01405574, 3.07604058, 1.04740882,\n",
       "       1.41525788, 1.2012686 , 1.06152702, 2.15049053, 2.14486796,\n",
       "       2.11396096, 1.12895226, 1.38735026, 1.14492859, 1.09879416,\n",
       "       1.50559934, 1.33931442, 1.12401548, 1.22680681, 2.12249849,\n",
       "       1.03993402, 1.13853331, 1.39437004, 1.80589559, 1.18483893,\n",
       "       1.08689401, 1.98252896, 1.09592854, 1.34555494, 1.01843654,\n",
       "       1.27650826, 1.6898179 , 1.01976588, 1.00282737, 3.99808711,\n",
       "       1.01906455, 1.30940152, 1.20168008, 2.31995345, 1.40910714,\n",
       "       1.25969664, 2.80519031, 1.46218541, 1.31265353, 1.07821654,\n",
       "       1.01421648, 2.112529  , 1.31253873, 1.23748847, 2.78777374,\n",
       "       1.09423893, 2.02894868, 1.16624424, 1.30068237, 1.15360796,\n",
       "       1.04185926, 1.65064668, 7.28015979, 1.21677386, 1.99000826,\n",
       "       2.60584797, 1.04900543, 2.27603093, 1.23748497, 1.11844162,\n",
       "       1.00556974, 1.52214354, 1.06011856, 1.30619684, 3.00109606,\n",
       "       1.87337604, 1.5136074 , 1.00826766, 1.17940867, 1.16989964,\n",
       "       1.96101123, 2.54094886, 1.17097367, 1.05270551, 1.12239471,\n",
       "       2.19838413, 1.07303642, 1.13654144, 1.12630447, 1.25699962,\n",
       "       3.537631  , 1.09467691, 1.25523849, 1.14576141, 1.26775558,\n",
       "       1.59696133, 1.23107245, 1.14491413, 1.23344272, 1.10252531,\n",
       "       1.80574504, 1.82929733, 1.28676516, 1.02744446, 1.27944526,\n",
       "       1.27139287, 1.1183804 , 1.04065046, 1.35395738, 1.23127382,\n",
       "       1.32524343, 1.04344974, 1.66620758, 1.81555704, 1.28545654,\n",
       "       1.23750344, 1.19602835, 1.19480364, 1.78031157, 1.16305254,\n",
       "       1.44130467, 1.00807331, 1.5592035 , 2.07536017, 1.37441802,\n",
       "       1.21670126, 1.04936157, 1.53370216, 1.02493564, 1.06623763,\n",
       "       1.01951844, 1.26721371, 1.48055003, 1.90670824, 1.00620058,\n",
       "       1.3869635 , 1.28318332, 1.09887817, 1.30176053, 1.67383995,\n",
       "       1.57749631, 1.31780714, 1.13029159, 1.38792664, 1.03685966,\n",
       "       1.30855141, 1.30310066, 1.81601983, 1.12095893, 1.08802362,\n",
       "       1.43253979, 1.01651926, 1.51307075, 1.03417328, 1.01970933,\n",
       "       2.0907222 , 1.01373518, 1.31634591, 1.95464731, 1.16919276,\n",
       "       1.19961268, 1.01300057, 1.26283011, 1.33166916, 1.0343019 ,\n",
       "       1.39456697, 2.45105872, 1.48280103, 1.78257879, 1.9573048 ,\n",
       "       1.18834253, 1.09103732, 1.06710495, 1.11413463, 1.02952332,\n",
       "       1.60827504, 1.17409257, 1.13362069, 1.14059472, 1.30908346,\n",
       "       1.02818921, 1.11929376, 2.78632076, 1.26119026, 1.29231386,\n",
       "       1.03432518, 1.87894486, 1.86039414, 1.28406586, 1.52039102,\n",
       "       1.24141962, 1.02215825, 1.44891109, 1.77281179, 1.87021028,\n",
       "       1.17700682, 1.09967676, 1.77954951, 1.14457812, 1.07355207,\n",
       "       2.20972498, 1.11465284, 1.15568926, 3.32313795, 1.46171558,\n",
       "       1.04245992, 4.13818227, 1.68280208, 1.17159825, 1.59425417,\n",
       "       6.22342094, 3.90142043, 1.93119508, 2.73606625, 1.92703752,\n",
       "       1.10797921, 1.2720582 , 4.49215648, 1.12965106, 1.56634383,\n",
       "       2.57551515, 1.5160368 , 1.03040337, 1.12280825, 1.00729782,\n",
       "       1.35298247, 1.03240209, 1.21789008, 1.04483079, 1.15862344,\n",
       "       1.20596961, 1.08950324, 2.19002849, 1.00027318, 1.07339645,\n",
       "       1.06891844, 1.13354446, 1.07151489, 1.15492984, 1.05874019,\n",
       "       1.21937071, 1.00464899, 1.73594654, 1.64537246, 1.75768211,\n",
       "       1.81667739, 1.53824268, 2.26809153, 5.62338719, 1.65108   ,\n",
       "       1.20481689, 1.47458297, 1.25798405, 1.0201322 , 1.62979861,\n",
       "       1.14728022, 1.22123481, 1.04032661, 1.30506036, 1.65389956,\n",
       "       2.608104  , 2.01047697, 1.05938351, 5.85827265, 1.0014137 ,\n",
       "       1.42156071, 1.54992317, 1.07750834, 1.31480308, 1.57409553,\n",
       "       1.03138384, 1.87129827, 1.04885259, 1.86332808, 1.05845279,\n",
       "       1.09409016, 1.51513157, 1.11813813, 1.41310876, 1.75963239,\n",
       "       1.24381507, 1.22974102, 1.86174833, 1.83186422, 3.06180967,\n",
       "       1.19768836, 1.24211709, 1.18034179, 1.00029314, 1.5400597 ,\n",
       "       1.16438527, 1.00657883, 1.10007915, 1.2673979 , 1.56289545,\n",
       "       1.33516279, 1.01165789, 1.60024752, 1.24921076, 1.64034406,\n",
       "       1.24413354, 1.08726144, 1.02366398, 1.16995087, 1.12569796,\n",
       "       1.54492938, 1.26491885, 1.03751662, 1.42215929, 1.29012307,\n",
       "       1.650877  , 1.02708671, 3.14244622, 1.32357003, 1.03382929,\n",
       "       2.24458196, 1.43695755, 1.30559128, 1.32658982, 1.92011102,\n",
       "       1.22139904, 1.25906994, 1.14009283, 2.66868789, 1.03654337,\n",
       "       2.1965927 , 1.39294953, 1.06099304, 1.25084325, 2.6914554 ,\n",
       "       1.11166272, 1.17951433, 1.56824815, 1.05882455, 1.10654981,\n",
       "       1.0194302 , 1.03236423, 1.80576178, 1.04167281, 1.15700675,\n",
       "       1.1423585 , 1.46149805, 1.16558248, 1.07334326, 1.07263027,\n",
       "       1.45867496, 1.15430853, 1.32454548, 2.93315894, 1.79526275,\n",
       "       1.14614732, 1.41598988, 1.22504106, 1.05104166, 1.18694837,\n",
       "       1.78925013, 1.11990636, 1.58890837, 1.41065015, 1.13530729,\n",
       "       1.57891402, 1.42988451, 1.69582277, 1.17040211, 1.4184613 ,\n",
       "       1.17516222, 2.22403135, 1.3730914 , 1.45485723, 1.8029325 ,\n",
       "       1.51717062, 1.01319378, 1.36617037, 1.11340243, 1.23612598,\n",
       "       1.23250366, 1.10171133, 1.10348942, 1.47793383, 1.32655844,\n",
       "       1.17862072, 1.70009866, 1.20000847, 1.40392908, 1.01757764,\n",
       "       1.34929947, 1.26602358, 1.48714681, 1.17599376, 2.13953011,\n",
       "       1.23803003, 2.1545237 , 1.8583951 , 1.77228807, 1.47467083,\n",
       "       1.20512041, 1.21422482, 1.84286186, 1.26110708, 3.4942555 ,\n",
       "       1.67481708, 1.34654232, 1.03046993, 1.35891702, 1.23132287,\n",
       "       1.14090089, 1.02098228, 1.83066959, 1.27421111, 1.02970367,\n",
       "       1.03874116, 1.12355922, 1.01689761, 1.21865856, 1.10776821,\n",
       "       1.28474007, 1.41030351, 1.85402692, 1.35212455, 1.68654407,\n",
       "       1.22644678, 1.27488207, 1.3374229 , 1.55697699, 2.78714496,\n",
       "       1.94353122, 1.93181656, 1.79169443, 1.37455974, 1.20405892,\n",
       "       2.85805971, 1.18850549, 1.19047473, 1.15925238, 7.07833229,\n",
       "       1.02132528, 1.04955422, 1.32036591, 1.98328614, 1.36183466,\n",
       "       1.43285587, 1.63218542, 1.02368115, 1.25951419, 1.02370444,\n",
       "       1.73216805, 1.57627911, 1.75654474, 1.69914494, 1.44919677,\n",
       "       1.13833787, 1.1179067 , 1.33448817, 1.02687855, 1.10774341,\n",
       "       1.25687236, 1.05288058, 1.86539031, 1.03072214, 1.1009119 ,\n",
       "       1.74174076, 1.48448016, 2.5944018 , 2.15292557, 1.26590103,\n",
       "       2.76842133, 1.31976189, 1.25715386, 1.01239542, 1.10867675,\n",
       "       1.14985845, 1.42177029, 1.04060649, 1.81316662, 1.21711574,\n",
       "       1.31261878, 1.1349926 , 1.03725954, 1.23732026, 1.83463242,\n",
       "       1.74716188, 1.05423877, 1.61328336, 3.94343764, 1.49550919,\n",
       "       1.37689185, 1.77968527, 1.01855341, 1.49394952, 1.33565921,\n",
       "       1.05025144, 1.0671322 , 1.034613  , 1.34934825, 1.2204404 ,\n",
       "       1.16557492, 1.3523808 , 1.43016171, 1.30041517, 1.75146012,\n",
       "       1.11153825, 1.8291544 , 1.19801195, 2.66259394, 1.3066158 ,\n",
       "       1.1726408 , 1.08330046, 1.34352251, 1.07973323, 1.42376852,\n",
       "       1.23634155, 2.11155998, 1.22753239, 1.01751895, 1.2705882 ,\n",
       "       1.09052276, 1.19502169, 1.11379058, 1.63972011, 1.12649153,\n",
       "       1.46052336, 1.13381412, 1.10297863, 1.61638221, 1.06367152,\n",
       "       1.32333964, 1.16546151, 1.18191192, 2.28047801, 1.18992409,\n",
       "       1.37317759, 2.04059844, 1.11250559, 1.12981291, 1.03895532,\n",
       "       1.65718329, 1.05088624, 1.01406899, 1.36100793, 1.23835434,\n",
       "       1.14382081, 1.27282208, 2.92326703, 1.43842655, 1.43255258,\n",
       "       1.48885121, 1.26547091, 2.05818891, 1.2041324 , 1.78140464,\n",
       "       1.11225976, 1.68356403, 1.02887341, 1.14351684, 1.17283317,\n",
       "       1.07436311, 1.13501619, 1.03049485, 1.14680595, 1.17733407,\n",
       "       1.01490608, 1.3725266 , 2.42591196, 1.46165252, 1.51819941,\n",
       "       1.27329153, 3.30697317, 1.1294953 , 3.33376728, 1.04455126,\n",
       "       1.0301971 , 1.31312815, 1.05208425, 1.31709514, 1.18210321,\n",
       "       3.985861  , 1.60169814, 1.49241638, 1.04590743, 1.08538436,\n",
       "       1.03162975, 1.93092778, 1.80910927, 1.02358283, 3.20976568,\n",
       "       1.11111285, 1.02769205, 1.76787198, 1.62171488, 1.02495625,\n",
       "       1.32751992, 1.07284466, 1.1925761 , 1.36005381, 1.1681093 ,\n",
       "       1.19308474, 1.15357915, 1.97239913, 1.26579687])"
      ]
     },
     "execution_count": 25,
     "metadata": {},
     "output_type": "execute_result"
    }
   ],
   "source": [
    "allValues[diffIdx]/allValuesC[diffIdx]"
   ]
  },
  {
   "cell_type": "code",
   "execution_count": 24,
   "metadata": {},
   "outputs": [
    {
     "data": {
      "text/plain": [
       "array([5.74566582e-05, 5.74566582e-05, 5.74566582e-05, 5.74566582e-05,\n",
       "       5.74566582e-05, 5.74566582e-05, 5.74566582e-05, 5.74566582e-05,\n",
       "       5.74566582e-05, 5.74566582e-05, 5.74566582e-05, 5.74566582e-05,\n",
       "       5.74566582e-05, 5.74566582e-05, 5.74566582e-05, 5.74566582e-05,\n",
       "       5.74566582e-05, 5.74566582e-05, 5.74566582e-05, 5.74566582e-05,\n",
       "       5.74566582e-05, 5.74566582e-05, 5.74566582e-05, 5.74566582e-05,\n",
       "       5.74566582e-05, 5.74566582e-05, 5.74566582e-05, 5.74566582e-05,\n",
       "       5.74566582e-05, 5.74566582e-05, 5.74566582e-05, 5.74566582e-05,\n",
       "       5.74566582e-05, 5.74566582e-05, 5.74566582e-05, 5.74566582e-05,\n",
       "       5.74566582e-05, 5.74566582e-05, 5.74566582e-05, 5.74566582e-05,\n",
       "       5.74566582e-05, 5.74566582e-05, 5.74566582e-05, 5.74566582e-05,\n",
       "       5.74566582e-05, 5.74566582e-05, 5.74566582e-05, 5.74566582e-05,\n",
       "       5.74566582e-05, 5.74566582e-05, 5.74566582e-05, 5.74566582e-05,\n",
       "       5.74566582e-05, 5.74566582e-05, 5.74566582e-05, 5.74566582e-05,\n",
       "       5.74566582e-05, 5.74566582e-05, 5.74566582e-05, 5.74566582e-05,\n",
       "       5.74566582e-05, 5.74566582e-05, 5.74566582e-05, 5.74566582e-05,\n",
       "       5.74566582e-05, 5.74566582e-05, 5.74566582e-05, 5.74566582e-05,\n",
       "       5.74566582e-05, 5.74566582e-05, 5.74566582e-05, 5.74566582e-05,\n",
       "       5.74566582e-05, 5.74566582e-05, 5.74566582e-05, 5.74566582e-05,\n",
       "       5.74566582e-05, 5.74566582e-05, 5.74566582e-05, 5.74566582e-05,\n",
       "       5.74566582e-05, 5.74566582e-05, 5.74566582e-05, 5.74566582e-05,\n",
       "       5.74566582e-05, 5.74566582e-05, 5.74566582e-05, 5.74566582e-05,\n",
       "       5.74566582e-05, 5.74566582e-05, 5.74566582e-05, 5.74566582e-05,\n",
       "       5.74566582e-05, 5.74566582e-05, 5.74566582e-05, 5.74566582e-05,\n",
       "       5.74566582e-05, 5.74566582e-05, 5.74566582e-05, 5.74566582e-05,\n",
       "       5.74566582e-05, 5.74566582e-05, 5.74566582e-05, 5.74566582e-05,\n",
       "       5.74566582e-05, 5.74566582e-05, 5.74566582e-05, 5.74566582e-05,\n",
       "       5.74566582e-05, 5.74566582e-05, 5.74566582e-05, 5.74566582e-05,\n",
       "       5.74566582e-05, 5.74566582e-05, 5.74566582e-05, 5.74566582e-05,\n",
       "       5.74566582e-05, 5.74566582e-05, 5.74566582e-05, 5.74566582e-05,\n",
       "       5.74566582e-05, 5.74566582e-05, 5.74566582e-05, 5.74566582e-05,\n",
       "       5.74566582e-05, 5.74566582e-05, 5.74566582e-05, 5.74566582e-05,\n",
       "       5.74566582e-05, 5.74566582e-05, 5.74566582e-05, 5.74566582e-05,\n",
       "       5.74566582e-05, 5.74566582e-05, 5.74566582e-05, 5.74566582e-05,\n",
       "       5.74566582e-05, 5.74566582e-05, 5.74566582e-05, 5.74566582e-05,\n",
       "       5.74566582e-05, 5.74566582e-05, 5.74566582e-05, 5.74566582e-05,\n",
       "       5.74566582e-05, 5.74566582e-05, 5.74566582e-05, 5.74566582e-05,\n",
       "       5.74566582e-05, 5.74566582e-05, 5.74566582e-05, 5.74566582e-05,\n",
       "       5.74566582e-05, 5.74566582e-05, 5.74566582e-05, 5.74566582e-05,\n",
       "       5.74566582e-05, 5.74566582e-05, 5.74566582e-05, 5.74566582e-05,\n",
       "       5.74566582e-05, 5.74566582e-05, 5.74566582e-05, 5.74566582e-05,\n",
       "       5.74566582e-05, 5.74566582e-05, 5.74566582e-05, 5.74566582e-05,\n",
       "       5.74566582e-05, 5.74566582e-05, 5.74566582e-05, 5.74566582e-05,\n",
       "       5.74566582e-05, 5.74566582e-05, 5.74566582e-05, 5.74566582e-05,\n",
       "       5.74566582e-05, 5.74566582e-05, 5.74566582e-05, 5.74566582e-05,\n",
       "       5.74566582e-05, 5.74566582e-05, 5.74566582e-05, 5.74566582e-05,\n",
       "       5.74566582e-05, 5.74566582e-05, 5.74566582e-05, 5.74566582e-05,\n",
       "       5.74566582e-05, 5.74566582e-05, 5.74566582e-05, 5.74566582e-05,\n",
       "       5.74566582e-05, 5.74566582e-05, 5.74566582e-05, 5.74566582e-05,\n",
       "       5.74566582e-05, 5.74566582e-05, 5.74566582e-05, 5.74566582e-05,\n",
       "       5.74566582e-05, 5.74566582e-05, 5.74566582e-05, 5.74566582e-05,\n",
       "       5.74566582e-05, 5.74566582e-05, 5.74566582e-05, 5.74566582e-05,\n",
       "       5.74566582e-05, 5.74566582e-05, 5.74566582e-05, 5.74566582e-05,\n",
       "       5.74566582e-05, 5.74566582e-05, 5.74566582e-05, 5.74566582e-05,\n",
       "       5.74566582e-05, 5.74566582e-05, 5.74566582e-05, 5.74566582e-05,\n",
       "       5.74566582e-05, 5.74566582e-05, 5.74566582e-05, 5.74566582e-05,\n",
       "       5.74566582e-05, 5.74566582e-05, 5.74566582e-05, 5.74566582e-05,\n",
       "       5.74566582e-05, 5.74566582e-05, 5.74566582e-05, 5.74566582e-05,\n",
       "       5.74566582e-05, 5.74566582e-05, 5.74566582e-05, 5.74566582e-05,\n",
       "       5.74566582e-05, 5.74566582e-05, 5.74566582e-05, 5.74566582e-05,\n",
       "       5.74566582e-05, 5.74566582e-05, 5.74566582e-05, 5.74566582e-05,\n",
       "       5.74566582e-05, 5.74566582e-05, 5.74566582e-05, 5.74566582e-05,\n",
       "       5.74566582e-05, 5.74566582e-05, 5.74566582e-05, 5.74566582e-05,\n",
       "       5.74566582e-05, 5.74566582e-05, 5.74566582e-05, 5.74566582e-05,\n",
       "       5.74566582e-05, 5.74566582e-05, 5.74566582e-05, 5.74566582e-05,\n",
       "       5.74566582e-05, 5.74566582e-05, 5.74566582e-05, 5.74566582e-05,\n",
       "       5.74566582e-05, 5.74566582e-05, 5.74566582e-05, 5.74566582e-05,\n",
       "       5.74566582e-05, 5.74566582e-05, 5.74566582e-05, 5.74566582e-05,\n",
       "       5.74566582e-05, 5.74566582e-05, 5.74566582e-05, 5.74566582e-05,\n",
       "       5.74566582e-05, 5.74566582e-05, 5.74566582e-05, 5.74566582e-05,\n",
       "       5.74566582e-05, 5.74566582e-05, 5.74566582e-05, 5.74566582e-05,\n",
       "       5.74566582e-05, 5.74566582e-05, 5.74566582e-05, 5.74566582e-05,\n",
       "       5.74566582e-05, 5.74566582e-05, 5.74566582e-05, 5.74566582e-05,\n",
       "       5.74566582e-05, 5.74566582e-05, 5.74566582e-05, 5.74566582e-05,\n",
       "       5.74566582e-05, 5.74566582e-05, 5.74566582e-05, 5.74566582e-05,\n",
       "       5.74566582e-05, 5.74566582e-05, 5.74566582e-05, 5.74566582e-05,\n",
       "       5.74566582e-05, 5.74566582e-05, 5.74566582e-05, 5.74566582e-05,\n",
       "       5.74566582e-05, 5.74566582e-05, 5.74566582e-05, 5.74566582e-05,\n",
       "       5.74566582e-05, 5.74566582e-05, 5.74566582e-05, 5.74566582e-05,\n",
       "       5.74566582e-05, 5.74566582e-05, 5.74566582e-05, 5.74566582e-05,\n",
       "       5.74566582e-05, 5.74566582e-05, 5.74566582e-05, 5.74566582e-05,\n",
       "       5.74566582e-05, 5.74566582e-05, 5.74566582e-05, 5.74566582e-05,\n",
       "       5.74566582e-05, 5.74566582e-05, 5.74566582e-05, 5.74566582e-05,\n",
       "       5.74566582e-05, 5.74566582e-05, 5.74566582e-05, 5.74566582e-05,\n",
       "       5.74566582e-05, 5.74566582e-05, 5.74566582e-05, 5.74566582e-05,\n",
       "       5.74566582e-05, 5.74566582e-05, 5.74566582e-05, 5.74566582e-05,\n",
       "       5.74566582e-05, 5.74566582e-05, 5.74566582e-05, 5.74566582e-05,\n",
       "       5.74566582e-05, 5.74566582e-05, 5.74566582e-05, 5.74566582e-05,\n",
       "       5.74566582e-05, 5.74566582e-05, 5.74566582e-05, 5.74566582e-05,\n",
       "       5.74566582e-05, 5.74566582e-05, 5.74566582e-05, 5.74566582e-05,\n",
       "       5.74566582e-05, 5.74566582e-05, 5.74566582e-05, 5.74566582e-05,\n",
       "       5.74566582e-05, 5.74566582e-05, 5.74566582e-05, 5.74566582e-05,\n",
       "       5.74566582e-05, 5.74566582e-05, 5.74566582e-05, 5.74566582e-05,\n",
       "       5.74566582e-05, 5.74566582e-05, 5.74566582e-05, 5.74566582e-05,\n",
       "       5.74566582e-05, 5.74566582e-05, 5.74566582e-05, 5.74566582e-05,\n",
       "       5.74566582e-05, 5.74566582e-05, 5.74566582e-05, 5.74566582e-05,\n",
       "       5.74566582e-05, 5.74566582e-05, 5.74566582e-05, 5.74566582e-05,\n",
       "       5.74566582e-05, 5.74566582e-05, 5.74566582e-05, 5.74566582e-05,\n",
       "       5.74566582e-05, 5.74566582e-05, 5.74566582e-05, 5.74566582e-05,\n",
       "       5.74566582e-05, 5.74566582e-05, 5.74566582e-05, 5.74566582e-05,\n",
       "       5.74566582e-05, 5.74566582e-05, 5.74566582e-05, 5.74566582e-05,\n",
       "       5.74566582e-05, 5.74566582e-05, 5.74566582e-05, 5.74566582e-05,\n",
       "       5.74566582e-05, 5.74566582e-05, 5.74566582e-05, 5.74566582e-05,\n",
       "       5.74566582e-05, 5.74566582e-05, 5.74566582e-05, 5.74566582e-05,\n",
       "       5.74566582e-05, 5.74566582e-05, 5.74566582e-05, 5.74566582e-05,\n",
       "       5.74566582e-05, 5.74566582e-05, 5.74566582e-05, 5.74566582e-05,\n",
       "       5.74566582e-05, 5.74566582e-05, 5.74566582e-05, 5.74566582e-05,\n",
       "       5.74566582e-05, 5.74566582e-05, 5.74566582e-05, 5.74566582e-05,\n",
       "       5.74566582e-05, 5.74566582e-05, 5.74566582e-05, 5.74566582e-05,\n",
       "       5.74566582e-05, 5.74566582e-05, 5.74566582e-05, 5.74566582e-05,\n",
       "       5.74566582e-05, 5.74566582e-05, 5.74566582e-05, 5.74566582e-05,\n",
       "       5.74566582e-05, 5.74566582e-05, 5.74566582e-05, 5.74566582e-05,\n",
       "       5.74566582e-05, 5.74566582e-05, 5.74566582e-05, 5.74566582e-05,\n",
       "       5.74566582e-05, 5.74566582e-05, 5.74566582e-05, 5.74566582e-05,\n",
       "       5.74566582e-05, 5.74566582e-05, 5.74566582e-05, 5.74566582e-05,\n",
       "       5.74566582e-05, 5.74566582e-05, 5.74566582e-05, 5.74566582e-05,\n",
       "       5.74566582e-05, 5.74566582e-05, 5.74566582e-05, 5.74566582e-05,\n",
       "       5.74566582e-05, 5.74566582e-05, 5.74566582e-05, 5.74566582e-05,\n",
       "       5.74566582e-05, 5.74566582e-05, 5.74566582e-05, 5.74566582e-05,\n",
       "       5.74566582e-05, 5.74566582e-05, 5.74566582e-05, 5.74566582e-05,\n",
       "       5.74566582e-05, 5.74566582e-05, 5.74566582e-05, 5.74566582e-05,\n",
       "       5.74566582e-05, 5.74566582e-05, 5.74566582e-05, 5.74566582e-05,\n",
       "       5.74566582e-05, 5.74566582e-05, 5.74566582e-05, 5.74566582e-05,\n",
       "       5.74566582e-05, 5.74566582e-05, 5.74566582e-05, 5.74566582e-05,\n",
       "       5.74566582e-05, 5.74566582e-05, 5.74566582e-05, 5.74566582e-05,\n",
       "       5.74566582e-05, 5.74566582e-05, 5.74566582e-05, 5.74566582e-05,\n",
       "       5.74566582e-05, 5.74566582e-05, 5.74566582e-05, 5.74566582e-05,\n",
       "       5.74566582e-05, 5.74566582e-05, 5.74566582e-05, 5.74566582e-05,\n",
       "       5.74566582e-05, 5.74566582e-05, 5.74566582e-05, 5.74566582e-05,\n",
       "       5.74566582e-05, 5.74566582e-05, 5.74566582e-05, 5.74566582e-05,\n",
       "       5.74566582e-05, 5.74566582e-05, 5.74566582e-05, 5.74566582e-05,\n",
       "       5.74566582e-05, 5.74566582e-05, 5.74566582e-05, 5.74566582e-05,\n",
       "       5.74566582e-05, 5.74566582e-05, 5.74566582e-05, 5.74566582e-05,\n",
       "       5.74566582e-05, 5.74566582e-05, 5.74566582e-05, 5.74566582e-05,\n",
       "       5.74566582e-05, 5.74566582e-05, 5.74566582e-05, 5.74566582e-05,\n",
       "       5.74566582e-05, 5.74566582e-05, 5.74566582e-05, 5.74566582e-05,\n",
       "       5.74566582e-05, 5.74566582e-05, 5.74566582e-05, 5.74566582e-05,\n",
       "       5.74566582e-05, 5.74566582e-05, 5.74566582e-05, 5.74566582e-05,\n",
       "       5.74566582e-05, 5.74566582e-05, 5.74566582e-05, 5.74566582e-05,\n",
       "       5.74566582e-05, 5.74566582e-05, 5.74566582e-05, 5.74566582e-05,\n",
       "       5.74566582e-05, 5.74566582e-05, 5.74566582e-05, 5.74566582e-05,\n",
       "       5.74566582e-05, 5.74566582e-05, 5.74566582e-05, 5.74566582e-05,\n",
       "       5.74566582e-05, 5.74566582e-05, 5.74566582e-05, 5.74566582e-05,\n",
       "       5.74566582e-05, 5.74566582e-05, 5.74566582e-05, 5.74566582e-05,\n",
       "       5.74566582e-05, 5.74566582e-05, 5.74566582e-05, 5.74566582e-05,\n",
       "       5.74566582e-05, 5.74566582e-05, 5.74566582e-05, 5.74566582e-05,\n",
       "       5.74566582e-05, 5.74566582e-05, 5.74566582e-05, 5.74566582e-05,\n",
       "       5.74566582e-05, 5.74566582e-05, 5.74566582e-05, 5.74566582e-05,\n",
       "       5.74566582e-05, 5.74566582e-05, 5.74566582e-05, 5.74566582e-05,\n",
       "       5.74566582e-05, 5.74566582e-05, 5.74566582e-05, 5.74566582e-05,\n",
       "       5.74566582e-05, 5.74566582e-05, 5.74566582e-05, 5.74566582e-05,\n",
       "       5.74566582e-05, 5.74566582e-05, 5.74566582e-05, 5.74566582e-05,\n",
       "       5.74566582e-05, 5.74566582e-05, 5.74566582e-05, 5.74566582e-05,\n",
       "       5.74566582e-05, 5.74566582e-05, 5.74566582e-05, 5.74566582e-05,\n",
       "       5.74566582e-05, 5.74566582e-05, 5.74566582e-05, 5.74566582e-05,\n",
       "       5.74566582e-05, 5.74566582e-05, 5.74566582e-05, 5.74566582e-05,\n",
       "       5.74566582e-05, 5.74566582e-05, 5.74566582e-05, 5.74566582e-05,\n",
       "       5.74566582e-05, 5.74566582e-05, 5.74566582e-05, 5.74566582e-05,\n",
       "       5.74566582e-05, 5.74566582e-05, 5.74566582e-05, 5.74566582e-05,\n",
       "       5.74566582e-05, 5.74566582e-05, 5.74566582e-05, 5.74566582e-05,\n",
       "       5.74566582e-05, 5.74566582e-05, 5.74566582e-05, 5.74566582e-05,\n",
       "       5.74566582e-05, 5.74566582e-05, 5.74566582e-05, 5.74566582e-05,\n",
       "       5.74566582e-05, 5.74566582e-05, 5.74566582e-05, 5.74566582e-05,\n",
       "       5.74566582e-05, 5.74566582e-05, 5.74566582e-05, 5.74566582e-05,\n",
       "       5.74566582e-05, 5.74566582e-05, 5.74566582e-05, 5.74566582e-05,\n",
       "       5.74566582e-05, 5.74566582e-05, 5.74566582e-05, 5.74566582e-05,\n",
       "       5.74566582e-05, 5.74566582e-05, 5.74566582e-05, 5.74566582e-05,\n",
       "       5.74566582e-05, 5.74566582e-05, 5.74566582e-05, 5.74566582e-05,\n",
       "       5.74566582e-05, 5.74566582e-05, 5.74566582e-05, 5.74566582e-05,\n",
       "       5.74566582e-05, 5.74566582e-05, 5.74566582e-05, 5.74566582e-05,\n",
       "       5.74566582e-05, 5.74566582e-05, 5.74566582e-05, 5.74566582e-05,\n",
       "       5.74566582e-05, 5.74566582e-05, 5.74566582e-05, 5.74566582e-05,\n",
       "       5.74566582e-05, 5.74566582e-05, 5.74566582e-05, 5.74566582e-05,\n",
       "       5.74566582e-05, 5.74566582e-05, 5.74566582e-05, 5.74566582e-05,\n",
       "       5.74566582e-05, 5.74566582e-05, 5.74566582e-05, 5.74566582e-05,\n",
       "       5.74566582e-05, 5.74566582e-05, 5.74566582e-05, 5.74566582e-05,\n",
       "       5.74566582e-05, 5.74566582e-05, 5.74566582e-05, 5.74566582e-05,\n",
       "       5.74566582e-05, 5.74566582e-05, 5.74566582e-05, 5.74566582e-05,\n",
       "       5.74566582e-05, 5.74566582e-05, 5.74566582e-05, 5.74566582e-05,\n",
       "       5.74566582e-05, 5.74566582e-05, 5.74566582e-05, 5.74566582e-05,\n",
       "       5.74566582e-05, 5.74566582e-05, 5.74566582e-05, 5.74566582e-05,\n",
       "       5.74566582e-05, 5.74566582e-05, 5.74566582e-05, 5.74566582e-05,\n",
       "       5.74566582e-05, 5.74566582e-05, 5.74566582e-05, 5.74566582e-05,\n",
       "       5.74566582e-05, 5.74566582e-05, 5.74566582e-05, 5.74566582e-05,\n",
       "       5.74566582e-05, 5.74566582e-05, 5.74566582e-05, 5.74566582e-05,\n",
       "       5.74566582e-05, 5.74566582e-05, 5.74566582e-05, 5.74566582e-05,\n",
       "       5.74566582e-05, 5.74566582e-05, 5.74566582e-05, 5.74566582e-05,\n",
       "       5.74566582e-05, 5.74566582e-05, 5.74566582e-05, 5.74566582e-05,\n",
       "       5.74566582e-05, 5.74566582e-05, 5.74566582e-05, 5.74566582e-05,\n",
       "       5.74566582e-05, 5.74566582e-05, 5.74566582e-05, 5.74566582e-05,\n",
       "       5.74566582e-05, 5.74566582e-05, 5.74566582e-05, 5.74566582e-05,\n",
       "       5.74566582e-05, 5.74566582e-05, 5.74566582e-05, 5.74566582e-05,\n",
       "       5.74566582e-05, 5.74566582e-05, 5.74566582e-05, 5.74566582e-05,\n",
       "       5.74566582e-05, 5.74566582e-05, 5.74566582e-05, 5.74566582e-05,\n",
       "       5.74566582e-05, 5.74566582e-05, 5.74566582e-05, 5.74566582e-05,\n",
       "       5.74566582e-05, 5.74566582e-05, 5.74566582e-05, 5.74566582e-05,\n",
       "       5.74566582e-05, 5.74566582e-05, 5.74566582e-05, 5.74566582e-05,\n",
       "       5.74566582e-05, 5.74566582e-05, 5.74566582e-05, 5.74566582e-05,\n",
       "       5.74566582e-05, 5.74566582e-05])"
      ]
     },
     "execution_count": 24,
     "metadata": {},
     "output_type": "execute_result"
    }
   ],
   "source": [
    "allValuesC[diffIdx]"
   ]
  },
  {
   "cell_type": "code",
   "execution_count": 19,
   "metadata": {},
   "outputs": [],
   "source": [
    "diffIdx = np.where(allValues != allValuesC)"
   ]
  },
  {
   "cell_type": "code",
   "execution_count": 24,
   "metadata": {},
   "outputs": [],
   "source": [
    "# Gets compartment weights for the selected nodes (shifted such that the minimum weight for each neuron is 0)\n",
    "\n",
    "scaleFac = []\n",
    "\n",
    "for i in range(len(offsets[0])):\n",
    "    \n",
    "    sfl = coeffs['electrodes']['S1nonbarrel_neurons']['scaling_factors'][offsets[0][i]:offsets[1][i]][:,:-1]\n",
    "    sfl -= np.min(sfl,axis=0)\n",
    "\n",
    "\n",
    "    scaleFac.append( sfl )\n",
    "\n",
    "scaleFacPoint = []\n",
    "\n",
    "for i in range(len(offsets[0])):\n",
    "    \n",
    "    sfl = coeffs_pointsource['electrodes']['S1nonbarrel_neurons']['scaling_factors'][offsets[0][i]:offsets[1][i]][:,:-1]\n",
    "    sfl -= np.min(sfl,axis=0)\n",
    "\n",
    "\n",
    "    scaleFacPoint.append( sfl )\n",
    "\n",
    "\n"
   ]
  },
  {
   "cell_type": "code",
   "execution_count": null,
   "metadata": {},
   "outputs": [],
   "source": []
  },
  {
   "cell_type": "code",
   "execution_count": 25,
   "metadata": {},
   "outputs": [],
   "source": [
    "scaleFacFlat = np.array([item for sublist in scaleFac for item in sublist])\n",
    "scaleFacPointFlat = np.array([item for sublist in scaleFacPoint for item in sublist])"
   ]
  },
  {
   "cell_type": "code",
   "execution_count": 15,
   "metadata": {},
   "outputs": [
    {
     "data": {
      "text/plain": [
       "array([[1.48267594e-07, 1.51392886e-07, 1.54652699e-07, ...,\n",
       "        1.01649217e-05, 4.43452637e-06, 1.00000000e+00],\n",
       "       [1.48317230e-07, 1.51444600e-07, 1.54706623e-07, ...,\n",
       "        9.49773722e-06, 4.34744911e-06, 1.00000000e+00],\n",
       "       [1.48415582e-07, 1.51547048e-07, 1.54813428e-07, ...,\n",
       "        8.28888500e-06, 4.16383360e-06, 1.00000000e+00],\n",
       "       ...,\n",
       "       [4.11928476e-07, 4.35494119e-07, 4.61709419e-07, ...,\n",
       "        2.17781842e-07, 2.11460854e-07, 1.00000000e+00],\n",
       "       [4.83917776e-07, 5.13584749e-07, 5.46286761e-07, ...,\n",
       "        1.94653918e-07, 1.89616934e-07, 1.00000000e+00],\n",
       "       [5.25833585e-07, 5.52243518e-07, 5.79273513e-07, ...,\n",
       "        1.74956456e-07, 1.70917585e-07, 1.00000000e+00]])"
      ]
     },
     "execution_count": 15,
     "metadata": {},
     "output_type": "execute_result"
    }
   ],
   "source": [
    "coeffs['electrodes']['S1nonbarrel_neurons']['scaling_factors'][:]"
   ]
  },
  {
   "cell_type": "code",
   "execution_count": 19,
   "metadata": {},
   "outputs": [
    {
     "data": {
      "text/plain": [
       "<HDF5 dataset \"scaling_factors\": shape (11285758, 52), type \"<f8\">"
      ]
     },
     "execution_count": 19,
     "metadata": {},
     "output_type": "execute_result"
    }
   ],
   "source": [
    "coeffs_pointsource['electrodes']['S1nonbarrel_neurons']['scaling_factors']"
   ]
  },
  {
   "cell_type": "code",
   "execution_count": 25,
   "metadata": {},
   "outputs": [
    {
     "data": {
      "text/plain": [
       "(array([], dtype=int64), array([], dtype=int64))"
      ]
     },
     "execution_count": 25,
     "metadata": {},
     "output_type": "execute_result"
    }
   ],
   "source": [
    "np.where(scaleFacPointFlat==1)"
   ]
  },
  {
   "cell_type": "code",
   "execution_count": 21,
   "metadata": {},
   "outputs": [
    {
     "data": {
      "application/vnd.jupyter.widget-view+json": {
       "model_id": "12318912cdcd42c4b3cc0497d843e013",
       "version_major": 2,
       "version_minor": 0
      },
      "image/png": "[encoded data removed]",
      "text/html": [
       "\n",
       "            <div style=\"display: inline-block;\">\n",
       "                <div class=\"jupyter-widgets widget-label\" style=\"text-align: center;\">\n",
       "                    Figure\n",
       "                </div>\n",
       "                <img src='data:image/png;base64,iVBORw0KGgoAAAANSUhEUgAAAMgAAADICAYAAACtWK6eAAAAOnRFWHRTb2Z0d2FyZQBNYXRwbG90bGliIHZlcnNpb24zLjEwLjYsIGh0dHBzOi8vbWF0cGxvdGxpYi5vcmcvq6yFwwAAAAlwSFlzAAAPYQAAD2EBqD+naQAAIWpJREFUeJztnQd4FGUax1/SO4TQAiG0AEqVQCIg0iVHCVWBo4gFURAOEbzzbCDlDhWVdiJwiqCo5yOKHnqIdFGR3hEIhC6QBBIS0pO55/8us2zC7qbs7O5k9/09zzy7M7sz883u/Odrb6mkKIpCgiCYxcP8ZkEQRCCCUAJSgwiCFUQggmAFEYggWEEEIghWEIEIghVEIIJgBbcUSFpaGsXGxlJQUBAdOXLE4vdycnLo6aefpu7du9OAAQMcWkZBH3iRGxIQEEDfffcdvfDCC1a/t2jRIurTp4+Iw41xyxrE29ubqlevXmTbRx99RA8++CB17NiRNm/ezNvWr19PO3bsoK5du9LSpUudVFrBmbilQIqTkpJCn3/+OW3fvp1+/PFHmjlzJm+/cOECN8U2btxIn376KV28eNHZRRUcjFs2sYpz+vRpOnr0KHXr1o3Xk5KS+LVKlSrc//Dy8uKa5cSJExQREeHk0gqORGoQImrYsCG1atWKtmzZQlu3bqUDBw7wj/PAAw8Y3x88eJAaNGjg0D9HcD6V3NXcHZ1v3Pz16tXjkSpPT09avnw5v7Zs2ZIWLlxIV69epccee4xu3rxJDz30EM2YMcPZxRYcjNsKRBBKgzSxBMEKIhBBsIIIRBDcUSDjx493dhEEF7gPXFYgly5dcnYRBBe4D1xWIIKgBTKTriMKCgooLy/P2cWo0Pj6+lKlSpU0O54IRCdkZGSwrZdMS9lGSEgI1alTh7TC7QRy4Xom1a0aQHqrOSAOmOHDyljLJ6A7cfPmTTY8rVmzJtvPaYHbCWTriWs0ukN90hNoVqHmgDj8/f2dXZwKi6IoLJD8/HzNBCKddB0hNYf+fj8RiCBYQQQiCFYQgbgpZ8+e5T4P3ImxqE5izuDIkSPsVgDggrBkyRLSC5r0ZM6fP0+RkZGUmZlJX331FfXs2ZNq1aqlxaEFO9KlSxf68ssv7f4bFxYWkodH6Z7F9913Hy8uVYOo6n/55ZfZj3vkyJFaHFawMz///DMHqnjppZeKzL/ghu7Ro4dxHTUMgLdlXFwcDRo0iFq3bk3/+c9/eB1++xg9MgXfjY+P5+++9dZb7M6Mcz388MM8rI2RpqFDh/LD9N133y2y37Rp04yvpjXMzp076f777+djOcp5TROB4IJBcnIy/f3vf+cfWK+Id5iB8PBwSkhI4EAV165d45pf5cyZM9SoUSN+f/36dQoNDTV+hv/266+/pmeffZYDXfzwww/8QPzmm2/Mxh/DcadMmcLBMH766SeexEPUmLVr11JUVBQHxIiJiSnVf4dQTdOnT2fX6Ndee40qTBMLP2anTp34R8OTQWaDbeflrw/T1ZvZ5d6/ZogfzRnU0qpJBhYwePBgfjoPGTKE1w8fPsw++uDQoUPsgqyibq9du7bxPW76c+fOUXHatWvHQ6+oXWBVe+PGDbp8+TJFR0fTH3/8QW3btuXvQSA4v6UhW/V+wv01e/ZsWr16NYsSbtMVQiCPPvooCwSTM3jC/OMf/9DisG6NtZtbC9LT0yk4OJjf48l+7733Gj+DQJo0acLvUQN07tzZ7I1r7iY2Re13IGRSv379aOzYsTRp0iT+LmqP/fv3syj37Nlz176otdQwSwiYASpXrkyLFy+m3NxcFpcjBKJJEwtxpNSZS/wopm1KQZ8gIB5uMvQLYBI+YsSIIgJBM2rw4MFcM+zatcumc6E/s2DBAo5QqY6WDRw4kH7//Xf+TI0cYwpqLQz6IFjG3r17eRuC90Gs6BOp/V67o9jAsmXLlHbt2inBwcFKTEwMv8frqFGjFGcTHx9vdvvKXxIVvZGVlaUcO3aMX/VA9+7dlYpIlpnf0dJ9UFpsamI99dRTvLz//vv0zDPPaKdawWlkZ2cb+yaCRn0QDOWhbYhOmNoWddQoQ1nxzb1ORPoyVtQTfn5+9P333zu7GLpBkz5I//79uQ+C0Qm0a9XRCT1SJ+lnZxdBcLcaBPb3FaWJJfMggsMF4uPjw0N4bdq0MQ79TZgwocT9MJGEUYpjx47xOHiLFi2Mn2EmdfTo0TzHgnCgmzZt0qKoguB4gcCkwB6JbIYNG0bz5s2zsXSC4OQ+yJgxY3jcGpM7o0aNKmLHU9ZENqasWbOGx+kxhi4IFVYgU6dOpX//+980a9Ysbg498cQTNh8TZgrIx4GmFTI9qZNFgnbm7jAcNAcm6DAZ17NnT/7tMWloiblz51JiYiIfb8OGDWUqQ0nHLgmUEcEudN/EgskADNDUBDSwx7IVJNg0bcLB3MDS6Nhnn33GiykSOK784LeGte6CUtTcL774orHPCIH06tWr1Of505/+RG5Rg6CTjqcIOugwd8dYuhYRKkzNImC7Y4k///nP9O233xZZtAz94srgKfz888+zCcfEiRN52+TJk9kGa8KECZy7EXNcAPZaaE7DXwMGgwAmHzBHh5MTzN9xPFgAm8v5+Pjjj/M2fAc1jrljo6m+atUqttHCe5jkA5QR/iswrTdnmmI3NJjhV86cOaMMHTpUadWqFb9ivbT07t1bCQ8PV9q3b6+sWLFCGTduHG9fvnw5m6106NBBmTZtWpnLZMnEYPsXCxS94QxTk8TERGXIkCFKly5dlG3btvE2/AepqanKli1blKlTp/I2/CeLFi3i91WqVFHS0tJ4iY2N5W1jxoxRDh8+XGSf5ORkJS4uTiksLFQyMjL4HLm5ufxfYhsoKCi469jp6enKiRMn+H7Ab3HgwAFl9OjR/PmtW7f4dd++fcqIESP4PY6LfXRraqKC1GR4epSH4rO2qhEaho2xuC3rphDd/KP8+4eEE/UrndEohucBat3U1FSrqepCQkKK+ACVNucjBmRgro6h+7CwMJozZ85dx0azGmb0jRs35lYIygPrDACnK/iOAK1C+pQGTc6EdGWoFtHUUvnll1+0OLT7UsqbWwtKMlsvTVgdCEAVjZrzcd26dbwP4n7hM3gQwo8D7hCmDlrFj128PPAngcMVmtoYrMGgUIUSyCeffEK//fYbj2DpH5lLtwctW7Zkb9JHHnmEcz0OHz6c+wxqzke4RMDcHTc/FvRhSjvqhemDqlWrct+lffv25FAUDZg0aZJy6NAhRU9Y7oPMV/SG3szdKypZeu2DoE0J7y74OaNKxBPCVicbQdADmggEjvsI/SOhMwVXQ5N5kA4dOnAf5NatWzwLi0UQXAFNapB9+/bxooKaRJ0cEso2Oao2UYWyk5WVRboUCLwH1TFvIEO8ZQMurphfwHBm8QBsQtnA/InpdIMuBAIjRVOBIKoJTAyE0oEaA5NicDzTwo7NnfHx8Sl1mFO7CwTj3cuWLWOrW9jIqM2Dpk2balZAdwIzxI6cJRZKxuaoJk8++SS9+eabRqtOQXAlbK6LUJ3BBEAQXBFN6nN4BSKoMGKsqu0/R4SFLB9iaiI4WCD16xviTJl6/elXIILgYIGg9qgoWDFWFYS70GQ8DJaZcIetUqUK2/Obhu8RBHJ3gWDeA66RcMWEswxMTwTBFdBEIMgzgRlM1UQCQRwEwRXQRCCYC0FU8L/85S/slI+8EoLgCmjSSUewOMyiI8vU7t27xdhOcBk0qUGQzBGR3VGToLNePEaVILh1DfLOO++wPwgMxXJycriZhVhVglDR0aQGQZgW1RYffRHThJCCUJHRzGGqbt26PKOOiHl4D7MTffqmy0yh4GCBHD9+XIvDCIJrCgSTgx9//HGRHIUIJmdLAh0EGoM5/alTp7jjP3/+fC2KKgiO74MgjD5GsR599FEOQIylLAl0zIXhR1Q+mK0gyT2CQfz666+kJaeTMqxGERQEzWqQiIgITuRZVqwl0IFfe9++fY1h8mHKopUJS0pGDvV4exvNGdSCRt5fT5NjCq6JJgJBQGJ0ytFEUs1NPvzwQ5uOieaaGii5cuXKHFLfEmXND7IjIZlmDWxB649coRGxkTKxKdg/aAPmQtAk0gpYBqs5QtBXQWxWS2DOpfi8i6UaDa2qHaeSaWqvppSUnkPbTiZR16Y1NCu34Fpo0gdp3rw5d7bxqi62gqgoarh7RG584IEHSCuSM3KoVmU/eqxjffp81wXNjiu4HprUIMgqBVE0a9aM19HM+uKLL0q1LzwPkTEIkVGefvpp7owvXbqU+vXrR2vXruVZeeSv0NKEXm0GVg30IW8vDxZMtSBfzY4vuA6aCOTTTz8t976WEugg/A1SdGlNdl4BVfb3Nq7HNa9J6w5epsceaKD5uYSKj4dW/QUk0EGERcyHoFOtV7KKCaTnvTVpR4JEMxTsKBCYuyMN20svvcTmJljXK9m5+RTid6fi9PP2JC+PSpSenefUcgkuLJD09HQWBSIq4hXreq5BQkxqENCpcTUe2RIEu/RBYJyI2gNzITB7x8ShXsnOLaSwYgLp3Lg6Ld1+mnq3DHdauQQXrkFWrlzJ9lInT55kkaA/olcyUYOYNLFAZFgAnUvJFNMTwT41CGaxkb0UwL4Jo1rqut7IKygkf5+7L7th9UAWSf1qgU4pl+DCNcgHH3xQZI7BVjMTe5JfoJC3590Jajo2qkY/JUg/RLCDQOBNCItbgFf1vR4pKCwkH8+7L/uBqDD6RQQi2KOJ9eqrr7IpSGRkJF28eJHmzJlDeiVfUcjH626BBPt5U25+IU8kYuhXEDQTCMxFevfuTUlJSWy+ruccewXcxDJfcd7fsCrtPnudHmxs3gRfcD80y1UFUdSoUUPX4gAFhZYF0q1pDdp0/JrDyyToF+2SuVUQCpE000wTC0TVCGJPQ0HQRCBwsQWzZ8+mioSlGgS1X72wAEq4JiIRNOiDJCQk0IIFC9hAsbhD04QJE0iPVCLznXSVuOa1aOPxq1ybCIJNNciXX37JqYuRdi0oKIgCAwONi54xNw+i0r5hGO08I9a9ggY1CFxshw8fTnFxcWygiPA/jRo14uHeitjEUj+DI9WVtGz2OhTcG0066ciVPm7cONqwYQPHspo7dy7pGXMThcWbWT8eu+Kw8gguLhDEsFq/fj3985//5Fes6xkPD+tD0bDu3XZSzE4EDYd5Yclr+lqR8ffxJD9vD7p+K9fZRRFcYSZ9yZIlNG3aNLpy5QrVqlWL3nvvParo9LrdzBoWo+/+lFABBIKAcd9++y25Et3vqUHPfX5ABOLmuN1MemkJ8vWiEH8vupRqyHsiuCciECsMbhNBa/ZedNy/IbieQOBBiHkQV6RjozD6LTGFCgslCry7YrNAYL9033330ZYtWygjI4MyMzN5KS1/+9vfOHoiAmDn5d0JvbN161YOBtG1a1fq0aOHrcW8U94yDgd3aBjGwa4F90STTjrSrJmmWoNoNm/eXOJ+Bw8e5CjsyAECJyuYrpgGoR42bBjNmzePnMnw2EjurHduIj4i7ogmAkHtUR6QA6RXr17GHCArVqwoIpA1a9ZwGCEk2Jk8eTI5A8TsjQj1p33nb1B0ZKhTyiBU8E46mkPdunWjVq1aceq05557zuYcIO3ateOA1ps2beLZ+b1795KzmNyzMX3wU6LTzi9U8BrklVdeYTssZITy9PSkQ4cO2ZwDBNbBKvHx8dwcQ+wtLRLolJXwyv485Hvs8k1qVtsgaME90KQGgbk78g2q7raoRWzNAaIKB+zYsYOioqIsHgfNMkxUmi516tQhLZnQNYrmbzwpweXcDE0E8uSTT3LQBjhQ4WkPi97SgNEv+JNgFOvo0aM0ZMgQzhECkF8kNjaWRYSbvXPnzuRM6lYNoBZ1KtP/joiVr1uhaERKSoqya9cuJTk5WdED8fHxZrf/9aWp5T5mVm6+Mnzpr0pGdp4NJRP0cB+UFk1qkD/++INef/11mjFjBs2cOVPT9r+eQLys8V0b0Vs/nHB2UQQHoYlA4FWI2FjwTcdr8YSargTmQ7JyC8Qt103QRCAYcYK5CUah8Kp3n3RbeS2+GS3enEDnU0pvMSC44TCv6vfh4+PDiXMwDLt//35dp2BDVBNbCfT1ojcfbkUvfHmQ3h/VlsOWCq6JTQJRa4qBAwcat2lpN6Vnalfxp2m9mtK4VXvpw8di2AtRcD1sEsiYMWOM78+ePcsz47Du1TNaBkZtExlKw2Lq0thVu+mDMTES9NoF0WQmHZ3y3NxcDgMEMGEYHR1NeqSEeA1lZmCbOpyUp+PczbT1ha4UIs0tl0ITgcAXvbwGi47GHsG1H2lXlycSn/l4L80e2IIaVpeojK6CJgKBWfqiRYvYWFG9AZ09820JDztFn0dExvphgdxx7xRVjZ7u0sgu5xEqoEBg+xQaGkrnz5/ndYhErwKxZ3YGRGJc/mg7euaTvRwl/rX45uzbLlRcNPv3Vq9eTRUBrfsg5mbbP3o8ln49nUJPrdxDQ9pG0JDoOrrPmyLYUSBhYWEcVdG0iYUZdT3St6VhIMHedGgURm0iq9Csdcdow9ErNLF7FLWKqOKQcws6EwhM0TGKtWfPHuM2vQqkXX3HeQWiNpkzqCXPuP/j++OcdmFS9yhqXDPYYWUQdCCQ6dOna3EYlyUyLIDeH92WjlxKo2c/3UfNwkNocHSE+Lm7i0BiYmK4aYVJQqRAiIiIKLVXoTsBf5INU7pQwrV0evfHU/TJznMU37o2R5O3ltRHqOAC2b17t/E98oQgTq9u0cFMf1SNYPrXyGhKzsihBRtP0ee7z1PjGsH0cNsIal47RDr0OkLzMUi435oKRrAeMWXWwBZc8+49d4O+2neJZnx7lO4JD6Z+rWpTTP2q5GnvYTfBsU0sLy8vmjJlihaHdRvw27WrX5UXRHH85XQKbT+ZRO9tPU1V/L0ppn4oxTYIo8Y1gkrMbSLovIkl2AYE0KlxNV5AamYu7Tl7g9bsu0iHL6ZRgI8nRdcL5egqrepUprAgX/nJ9SoQuNlamgB77bXXSLfMMPFXuW8kUd+3ibz9SY9UCfChns1q8gIyc/PpwIVU+iUhhQNrZ+YW8ORnRGgANakZTI1rBlHDaoGcZ1EmJ50sEAR3U8GfcfnyZVq4cCEVFhbqVyDHb+cxeSWJaP8qok2ziA7ctgL421kif31HTwzw8aKOjarxolJQqNCF65l08mo67Uq8Tl/svmDMjuXlWYnFE1k1gOpW9ef3NYP9OM6XCMjOAkGgOHDq1Cl66623eIgXMXYR+ke3JP5E9PR2Ii8fopixhiUvm+jrcURv1CfyDiT6yz6i4FpUUUBHvn61QF56NS/6WU5+AV26kUUXbmTR+euZ9FvidTp0wdBUw3ge6v+wIB+qEexH1YN9qQaWEF/jup+3ezuC2SQQzJy/+eablJ+fz0O7iGGlewrziGq2KLrN249o6CqiwgKijwcSvd2U6J5+RI26E8U8SRUZXy9PNr+3ZIKPQYGUW7mUlJ5D19Kz6Vp6Dp05c8u4npNXyN+DmLw8KlGVAG+q7O/N4gkL9KVqwb4UGuBNoQE+FBroQ4E+ni5VM1VC7B9bhnSbNWtG9957710/CgK/OZP+/fubTwuH/seMtJIPcO4XohW976z/+XOixnG4aHJX8goKKS0rj5tvyek5dD1Tfc2jm1l5LLRbOfnG71e6XbsF+XmxoKoH+bK40K+ClbOaxcsgLC+7DGlbvA8cUYMkJrpwQOd6HQ1Cyssi+ultoh9eIvps+J3Pg2sTPbKCKCKGyMM9miHenh48d4MFAwKlITe/kFKzcik1M48nRtNuv55NvkUZOfl0MzuPay0ILdiv6O3o5eHB20L8vfkVwTF43c+bQm6vQ2DqdpRPa2wSSL169WwuABLoIA1C/fr16cMPPyRvb29jfF+EMEX/BtFS5s+fT5pQ1k44Rre6v2JYQE460YZXiQ5+TvShmcxaNZob+i9omoXUIfINJqpc19DncUN8vDy4P4OltKIyFVd6dh6lZ+fzAjFhHa8Xb2Qat6vbMFihNU715rGWQGfdunXs4w7RQCi//vordejQwfaTtn/Wtv1xw8fPNyymFOQTXT1MlHKaKHE7UdIJot+/M4yQoZa5fICoQWeii3uIQiOJqtQzDBg06WUQUH4O0Z4PiOIXEmWmEIWEEwWEEV0/QxTagCg4nMg3iMg7wCBaD2+Xb+75eHnwPE9553rQexiwpgILxFoCHXymjpLhs59//lkbgXR5geyCpxdR7TaGpeXDd7YPtJAzviCPKOMqUUEuUXYa0c3LRDcSDS6PuRlEl/YS+VYm2jLb8P2ohwyiyb1lEBP2Qyu/EkSiGEQFQZ3ZRhRck6haU8Nn2J5yiqhOW6JKt5uChflEXn6Gc6F56OFlEBzWD35G1PYxouybREm/GwYqcJyjaw3X5QlhehnKceUQUYMud5qYLFpPw3GwD76HMvI2LB53zol13q8S0c1LhrL7Vb693+3t/P3b6+p7s0sls+8r8W9TgQWCMEHh4eFmE+hYS67jEuBGqxxxZx3CusfwQLC7oDEuoxQaRu3wCrFBNNje9e+GGxICzssk8vQ1fHZvPJFPoGE71vEK0QVWM6yD/FzD8ZTbx+XxH8XwOc4F8D4/+04Z8PkfBw01Ko6PGxzHxqtaviLL7f2KLziOuc8qskCsJdCx9pmjE+i4HPyUVZ/gt4e5VQLDHF+eto/Z79hL+9u0u1MbsdYS6Fj7zBkJdAT3xKkCsZZAp1+/fhwlBZ/5+flp0/8QBEdOFOoZWyeIBNfA1vvAtccJBcFGRCCC4I4CkU66oMV94LJ9EEHQApetQQRBC0QggmAFEYggWEEEIghWcLvkFT179qSAgACnnBv2Yc4aXXPXc2dmZhpNlsqD2wkE4nDWDLszZ/fd+dy2IE0sQbCCCEQQrCACEQQruJ1AVJdeObf85qVBTE0EwQpuV4MIQlkQgQiCFUQgguBOAkGkRvixjx49mvLy8ozbEanxiSee4M+ee+454/YFCxZwQAhMKKlRVLQ+93//+1+6//77qVOnTjR58mTj9uDgYOratSsvhw8ftunc1s6/detWqlu3Lp+nR48eDr32r7/+2niNkZGRfE7QuHFj4/Yff/yx3OdFxJvY2FgKCgqiI0eOFPlMi//cpQRiGqnxnnvu4UiNKmqkRnx269YtjtSYnJzMM7w7duygYcOG0b/+9S+7nLt169Yc+A7nuXbtmjGffNOmTfnmxdKyZUu7XTvA9eE8mzZt4nVHXfugQYOM19ioUSMaOHCgMdaZuv2hhx6yyTLiu+++o4cfNgnWp+F/7lICKR6pETeltc+QOq5Lly4cmb7497U8N56cyN0IfHx8OCo+QD6Vzp070/jx4yk7O7vc5y7p/GDNmjX8JFWf4I66dpUrV65QTk6OMZ5zRkYGn3/EiBE2BQVELOfq1aub/UyL/9ylBGItGqO5z7SM3liaY+HPQQ0SHR3N6wkJCbR9+3aOLmnLE7yk8yMT2IkTJ7j2WL9+Pe3du9fh1/7VV19xWCcV3Jjbtm3jm3T69OnlPndZy1XW63YpgZQ1UmNZojfacm5w8eJFbgevXLnSuC0szBDFEM0DNFNswdr50T5HzYUF2b9wLkdeO0Czy7QZpOW1W0KL/9ylBFLWSI1IX40nuLnva3nu9PR0Gj58OC1dupRq1KjB29AmRicSoI0cFRVV7nOXdH7Tjija3jiXo64dXL16tUjzKjc3l9e1unZLaPKfKy7GtGnTlE6dOikjRoxQcnJylHHjxvH2vLw8ZcyYMfzZpEmTjN9/5513lI4dOyp9+/ZVUlNT7XLumTNnKrVr11a6dOnCy9atW5X9+/crbdq0UR588EGlf//+Np/b2vmXL1+uxMTEKB06dODvOPLawXvvvae8/fbbisqVK1eU6OhovvaePXsq58+fV2yhd+/eSnh4uNK+fXtlxYoVmv7nYmoiCO7SxBIErRGBCIIVRCCCYAURiCBYQQQiCFYQgQi6IM2K0WFpwdwKEjB1796dBgwYoEm53C7sj6BPAm4bHb7wQvmTli5atIj69OmjmTiA1CB2ArPnMOuAOTfSx/3vf/+z+Zhqerq1a9eyTReAbRVMysuyT2nAzH96ejq1bdu2yHaYj2P2G7zyyitWzUQwg+/v72+cuQYwt4HZTWmMDj/66CM2sMSM+ObNm0ssM34LWArgN4fVgibYNIUpWGTx4sW8gMLCQuXGjRua/VqYHT58+LDd9tm2bZsye/Zsfj9gwADl6NGjxpnpFi1a8PWAfv36WT3Oxx9/rIwfP16ZOHGicduBAweUF198scRyJicnK3FxcXyujIwMtkAoiSZNmihffPEFl7Nz587KhQsXFFuRGsRO4Mm5c+dOtkOCaTWM5Cw9FfHEe/7559n0feLEibztm2++4TZ5t27daMmSJUar3MTERH5SPv744/TXv/6Vj7d48WI2BnzjjTeMpuRoh1vaZ/Dgwcan+LJly2j58uVFyo7aRvXReOSRR4z+HbAGRnlwPbguJGAFsE5GueEUppYBoGabOXMmHT9+nAoLC42+MTBDLwm4AiCxK87Xt29fSkpK4u1z5841OlqpC7YB/Ma4brgW4PeFBbPN2CwxwSy5ubnKrFmzlNatW7ON0O+//27xqYhXPLUBvgv7oFGjRhmf3AUFBfzatm3bu2oD2B4tWrRIyczM5KcmWL16tfLuu+9a3GfNmjXKG2+8we979ep1V+0G26akpCR+n5aWxnZcYOzYscr27dv5/cqVK/lpDRo0aKCcPXtWyc/PV5o3b27cD7WPaoum7gdgE4bvmkMtJ87fp08fY22F37MkpkyZomzcuNF4DadPn7b57pQaxE6gTY02+oEDB/gpCp8HS09F0KZNG35FkOfU1FR69dVXaf78+ezCumvXrlLVWHDMOnnyJD/xhw4davG7SLGNPhHSbMMnQq3dzBESEsL+KseOHeNyqNavcJNVa5nQ0FC21PX09OSU3aqbMa4X/h74bnEPR3Ogg71hwwZ66qmn2BsQ/SA4N+H3mjp1aqncfufNm8dlRO3bsGFDshUZxbIT586d4xsLPhgwcUemO/xhrVq14j8fzRRT322sq+C78CFH8+fy5cs0atSoIp1UiE81lTcFLqTYBxHN4Wpqiuk+KFPz5s35hho5cuRdx4Er8JkzZ6hatWrGZtakSZO4CQhvSDSX0AFXhWVadhUIAmVWO96Iqo/rwnfRBIKYivP999/ftQ0PiNKCJp8WgyGmiEDsBIIw4IbFExU3BjwGccOpT0XcIPBDX7hwodn9X3/9dfahhu8Ebk5TevfuzaNBuOlM0wrExcXxKBNqrOKY7vPyyy/TmDFj+Om+atWqu74Lv3E89WNjY3kdwQ3Gjh1r9PxDTQK/Cktg9AvCNh2VgugwwoQaCaN6FQabG2lChWTPnj3Ks88+a/HzoUOH8miQOXbu3KkkJCSU67yTJ0+22f/DkYg/iBuCUSqM/KxevZojjQiWEYEIghVkFEsQrCACEQQriEAEwQoiEEGwgghEEKwgAhEEK4hABMEKIhBBsIIIRBDIMv8Hy2OJUTiV/q8AAAAASUVORK5CYII=' width=200.0/>\n",
       "            </div>\n",
       "        "
      ],
      "text/plain": [
       "Canvas(toolbar=Toolbar(toolitems=[('Home', 'Reset original view', 'home', 'home'), ('Back', 'Back to previous …"
      ]
     },
     "metadata": {},
     "output_type": "display_data"
    }
   ],
   "source": [
    "hist,bins = np.histogram(scaleFacFlat,bins=int(1e6))\n",
    "histC,binsC = np.histogram(scaleFacPointFlat,bins=int(1e6))\n",
    "plt.figure(figsize=(2,2))\n",
    "ax = plt.gca()\n",
    "plt.plot(bins[1:],hist)\n",
    "plt.plot(binsC[1:],histC)\n",
    "\n",
    "ax.legend(\"\", frameon=False)\n",
    "ax.spines[\"bottom\"].set_position((\"axes\", -0.05))\n",
    "ax.yaxis.set_ticks_position(\"left\")\n",
    "ax.spines[\"left\"].set_position((\"axes\", -0.05))\n",
    "ax.set_xlabel('Sensitivity (V/nA)')\n",
    "ax.set_ylabel('Number of compartments')\n",
    "\n",
    "plt.legend(['5 $\\mu$m radius','Infinitesimal'])\n",
    "\n",
    "\n",
    "plt.xlim([0,1e-6])\n",
    "plt.tight_layout()\n",
    "\n",
    "\n",
    "plt.savefig('compartment_weight_histograms.png',dpi=600)"
   ]
  },
  {
   "cell_type": "code",
   "execution_count": 26,
   "metadata": {},
   "outputs": [
    {
     "name": "stderr",
     "output_type": "stream",
     "text": [
      "/tmp/ipykernel_508284/2132711279.py:13: UserWarning: Creating legend with loc=\"best\" can be slow with large amounts of data.\n",
      "  plt.tight_layout()\n",
      "/tmp/ipykernel_508284/2132711279.py:15: UserWarning: Creating legend with loc=\"best\" can be slow with large amounts of data.\n",
      "  plt.savefig('sensitivity_scatter_plot.png',dpi=600)\n"
     ]
    },
    {
     "ename": "KeyboardInterrupt",
     "evalue": "",
     "output_type": "error",
     "traceback": [
      "\u001b[31m---------------------------------------------------------------------------\u001b[39m",
      "\u001b[31mKeyboardInterrupt\u001b[39m                         Traceback (most recent call last)",
      "\u001b[36mCell\u001b[39m\u001b[36m \u001b[39m\u001b[32mIn[26]\u001b[39m\u001b[32m, line 15\u001b[39m\n\u001b[32m     11\u001b[39m ax.set_ylabel(\u001b[33m'\u001b[39m\u001b[33mSensitivity for\u001b[39m\u001b[38;5;130;01m\\n\u001b[39;00m\u001b[33minfinitesimal electrodes (V/nA)\u001b[39m\u001b[33m'\u001b[39m)\n\u001b[32m     13\u001b[39m plt.tight_layout()\n\u001b[32m---> \u001b[39m\u001b[32m15\u001b[39m \u001b[43mplt\u001b[49m\u001b[43m.\u001b[49m\u001b[43msavefig\u001b[49m\u001b[43m(\u001b[49m\u001b[33;43m'\u001b[39;49m\u001b[33;43msensitivity_scatter_plot.png\u001b[39;49m\u001b[33;43m'\u001b[39;49m\u001b[43m,\u001b[49m\u001b[43mdpi\u001b[49m\u001b[43m=\u001b[49m\u001b[32;43m600\u001b[39;49m\u001b[43m)\u001b[49m\n",
      "\u001b[36mFile \u001b[39m\u001b[32m~/Documents/bluebrainStuff/bbpEnv/lib/python3.11/site-packages/matplotlib/pyplot.py:1251\u001b[39m, in \u001b[36msavefig\u001b[39m\u001b[34m(*args, **kwargs)\u001b[39m\n\u001b[32m   1248\u001b[39m fig = gcf()\n\u001b[32m   1249\u001b[39m \u001b[38;5;66;03m# savefig default implementation has no return, so mypy is unhappy\u001b[39;00m\n\u001b[32m   1250\u001b[39m \u001b[38;5;66;03m# presumably this is here because subclasses can return?\u001b[39;00m\n\u001b[32m-> \u001b[39m\u001b[32m1251\u001b[39m res = \u001b[43mfig\u001b[49m\u001b[43m.\u001b[49m\u001b[43msavefig\u001b[49m\u001b[43m(\u001b[49m\u001b[43m*\u001b[49m\u001b[43margs\u001b[49m\u001b[43m,\u001b[49m\u001b[43m \u001b[49m\u001b[43m*\u001b[49m\u001b[43m*\u001b[49m\u001b[43mkwargs\u001b[49m\u001b[43m)\u001b[49m  \u001b[38;5;66;03m# type: ignore[func-returns-value]\u001b[39;00m\n\u001b[32m   1252\u001b[39m fig.canvas.draw_idle()  \u001b[38;5;66;03m# Need this if 'transparent=True', to reset colors.\u001b[39;00m\n\u001b[32m   1253\u001b[39m \u001b[38;5;28;01mreturn\u001b[39;00m res\n",
      "\u001b[36mFile \u001b[39m\u001b[32m~/Documents/bluebrainStuff/bbpEnv/lib/python3.11/site-packages/matplotlib/figure.py:3490\u001b[39m, in \u001b[36mFigure.savefig\u001b[39m\u001b[34m(self, fname, transparent, **kwargs)\u001b[39m\n\u001b[32m   3488\u001b[39m     \u001b[38;5;28;01mfor\u001b[39;00m ax \u001b[38;5;129;01min\u001b[39;00m \u001b[38;5;28mself\u001b[39m.axes:\n\u001b[32m   3489\u001b[39m         _recursively_make_axes_transparent(stack, ax)\n\u001b[32m-> \u001b[39m\u001b[32m3490\u001b[39m \u001b[38;5;28;43mself\u001b[39;49m\u001b[43m.\u001b[49m\u001b[43mcanvas\u001b[49m\u001b[43m.\u001b[49m\u001b[43mprint_figure\u001b[49m\u001b[43m(\u001b[49m\u001b[43mfname\u001b[49m\u001b[43m,\u001b[49m\u001b[43m \u001b[49m\u001b[43m*\u001b[49m\u001b[43m*\u001b[49m\u001b[43mkwargs\u001b[49m\u001b[43m)\u001b[49m\n",
      "\u001b[36mFile \u001b[39m\u001b[32m~/Documents/bluebrainStuff/bbpEnv/lib/python3.11/site-packages/matplotlib/backend_bases.py:2186\u001b[39m, in \u001b[36mFigureCanvasBase.print_figure\u001b[39m\u001b[34m(self, filename, dpi, facecolor, edgecolor, orientation, format, bbox_inches, pad_inches, bbox_extra_artists, backend, **kwargs)\u001b[39m\n\u001b[32m   2182\u001b[39m \u001b[38;5;28;01mtry\u001b[39;00m:\n\u001b[32m   2183\u001b[39m     \u001b[38;5;66;03m# _get_renderer may change the figure dpi (as vector formats\u001b[39;00m\n\u001b[32m   2184\u001b[39m     \u001b[38;5;66;03m# force the figure dpi to 72), so we need to set it again here.\u001b[39;00m\n\u001b[32m   2185\u001b[39m     \u001b[38;5;28;01mwith\u001b[39;00m cbook._setattr_cm(\u001b[38;5;28mself\u001b[39m.figure, dpi=dpi):\n\u001b[32m-> \u001b[39m\u001b[32m2186\u001b[39m         result = \u001b[43mprint_method\u001b[49m\u001b[43m(\u001b[49m\n\u001b[32m   2187\u001b[39m \u001b[43m            \u001b[49m\u001b[43mfilename\u001b[49m\u001b[43m,\u001b[49m\n\u001b[32m   2188\u001b[39m \u001b[43m            \u001b[49m\u001b[43mfacecolor\u001b[49m\u001b[43m=\u001b[49m\u001b[43mfacecolor\u001b[49m\u001b[43m,\u001b[49m\n\u001b[32m   2189\u001b[39m \u001b[43m            \u001b[49m\u001b[43medgecolor\u001b[49m\u001b[43m=\u001b[49m\u001b[43medgecolor\u001b[49m\u001b[43m,\u001b[49m\n\u001b[32m   2190\u001b[39m \u001b[43m            \u001b[49m\u001b[43morientation\u001b[49m\u001b[43m=\u001b[49m\u001b[43morientation\u001b[49m\u001b[43m,\u001b[49m\n\u001b[32m   2191\u001b[39m \u001b[43m            \u001b[49m\u001b[43mbbox_inches_restore\u001b[49m\u001b[43m=\u001b[49m\u001b[43m_bbox_inches_restore\u001b[49m\u001b[43m,\u001b[49m\n\u001b[32m   2192\u001b[39m \u001b[43m            \u001b[49m\u001b[43m*\u001b[49m\u001b[43m*\u001b[49m\u001b[43mkwargs\u001b[49m\u001b[43m)\u001b[49m\n\u001b[32m   2193\u001b[39m \u001b[38;5;28;01mfinally\u001b[39;00m:\n\u001b[32m   2194\u001b[39m     \u001b[38;5;28;01mif\u001b[39;00m bbox_inches \u001b[38;5;129;01mand\u001b[39;00m restore_bbox:\n",
      "\u001b[36mFile \u001b[39m\u001b[32m~/Documents/bluebrainStuff/bbpEnv/lib/python3.11/site-packages/matplotlib/backend_bases.py:2042\u001b[39m, in \u001b[36mFigureCanvasBase._switch_canvas_and_return_print_method.<locals>.<lambda>\u001b[39m\u001b[34m(*args, **kwargs)\u001b[39m\n\u001b[32m   2038\u001b[39m     optional_kws = {  \u001b[38;5;66;03m# Passed by print_figure for other renderers.\u001b[39;00m\n\u001b[32m   2039\u001b[39m         \u001b[33m\"\u001b[39m\u001b[33mdpi\u001b[39m\u001b[33m\"\u001b[39m, \u001b[33m\"\u001b[39m\u001b[33mfacecolor\u001b[39m\u001b[33m\"\u001b[39m, \u001b[33m\"\u001b[39m\u001b[33medgecolor\u001b[39m\u001b[33m\"\u001b[39m, \u001b[33m\"\u001b[39m\u001b[33morientation\u001b[39m\u001b[33m\"\u001b[39m,\n\u001b[32m   2040\u001b[39m         \u001b[33m\"\u001b[39m\u001b[33mbbox_inches_restore\u001b[39m\u001b[33m\"\u001b[39m}\n\u001b[32m   2041\u001b[39m     skip = optional_kws - {*inspect.signature(meth).parameters}\n\u001b[32m-> \u001b[39m\u001b[32m2042\u001b[39m     print_method = functools.wraps(meth)(\u001b[38;5;28;01mlambda\u001b[39;00m *args, **kwargs: \u001b[43mmeth\u001b[49m\u001b[43m(\u001b[49m\n\u001b[32m   2043\u001b[39m \u001b[43m        \u001b[49m\u001b[43m*\u001b[49m\u001b[43margs\u001b[49m\u001b[43m,\u001b[49m\u001b[43m \u001b[49m\u001b[43m*\u001b[49m\u001b[43m*\u001b[49m\u001b[43m{\u001b[49m\u001b[43mk\u001b[49m\u001b[43m:\u001b[49m\u001b[43m \u001b[49m\u001b[43mv\u001b[49m\u001b[43m \u001b[49m\u001b[38;5;28;43;01mfor\u001b[39;49;00m\u001b[43m \u001b[49m\u001b[43mk\u001b[49m\u001b[43m,\u001b[49m\u001b[43m \u001b[49m\u001b[43mv\u001b[49m\u001b[43m \u001b[49m\u001b[38;5;129;43;01min\u001b[39;49;00m\u001b[43m \u001b[49m\u001b[43mkwargs\u001b[49m\u001b[43m.\u001b[49m\u001b[43mitems\u001b[49m\u001b[43m(\u001b[49m\u001b[43m)\u001b[49m\u001b[43m \u001b[49m\u001b[38;5;28;43;01mif\u001b[39;49;00m\u001b[43m \u001b[49m\u001b[43mk\u001b[49m\u001b[43m \u001b[49m\u001b[38;5;129;43;01mnot\u001b[39;49;00m\u001b[43m \u001b[49m\u001b[38;5;129;43;01min\u001b[39;49;00m\u001b[43m \u001b[49m\u001b[43mskip\u001b[49m\u001b[43m}\u001b[49m\u001b[43m)\u001b[49m)\n\u001b[32m   2044\u001b[39m \u001b[38;5;28;01melse\u001b[39;00m:  \u001b[38;5;66;03m# Let third-parties do as they see fit.\u001b[39;00m\n\u001b[32m   2045\u001b[39m     print_method = meth\n",
      "\u001b[36mFile \u001b[39m\u001b[32m~/Documents/bluebrainStuff/bbpEnv/lib/python3.11/site-packages/matplotlib/backends/backend_agg.py:481\u001b[39m, in \u001b[36mFigureCanvasAgg.print_png\u001b[39m\u001b[34m(self, filename_or_obj, metadata, pil_kwargs)\u001b[39m\n\u001b[32m    434\u001b[39m \u001b[38;5;28;01mdef\u001b[39;00m\u001b[38;5;250m \u001b[39m\u001b[34mprint_png\u001b[39m(\u001b[38;5;28mself\u001b[39m, filename_or_obj, *, metadata=\u001b[38;5;28;01mNone\u001b[39;00m, pil_kwargs=\u001b[38;5;28;01mNone\u001b[39;00m):\n\u001b[32m    435\u001b[39m \u001b[38;5;250m    \u001b[39m\u001b[33;03m\"\"\"\u001b[39;00m\n\u001b[32m    436\u001b[39m \u001b[33;03m    Write the figure to a PNG file.\u001b[39;00m\n\u001b[32m    437\u001b[39m \n\u001b[32m   (...)\u001b[39m\u001b[32m    479\u001b[39m \u001b[33;03m        *metadata*, including the default 'Software' key.\u001b[39;00m\n\u001b[32m    480\u001b[39m \u001b[33;03m    \"\"\"\u001b[39;00m\n\u001b[32m--> \u001b[39m\u001b[32m481\u001b[39m     \u001b[38;5;28;43mself\u001b[39;49m\u001b[43m.\u001b[49m\u001b[43m_print_pil\u001b[49m\u001b[43m(\u001b[49m\u001b[43mfilename_or_obj\u001b[49m\u001b[43m,\u001b[49m\u001b[43m \u001b[49m\u001b[33;43m\"\u001b[39;49m\u001b[33;43mpng\u001b[39;49m\u001b[33;43m\"\u001b[39;49m\u001b[43m,\u001b[49m\u001b[43m \u001b[49m\u001b[43mpil_kwargs\u001b[49m\u001b[43m,\u001b[49m\u001b[43m \u001b[49m\u001b[43mmetadata\u001b[49m\u001b[43m)\u001b[49m\n",
      "\u001b[36mFile \u001b[39m\u001b[32m~/Documents/bluebrainStuff/bbpEnv/lib/python3.11/site-packages/matplotlib/backends/backend_agg.py:429\u001b[39m, in \u001b[36mFigureCanvasAgg._print_pil\u001b[39m\u001b[34m(self, filename_or_obj, fmt, pil_kwargs, metadata)\u001b[39m\n\u001b[32m    424\u001b[39m \u001b[38;5;28;01mdef\u001b[39;00m\u001b[38;5;250m \u001b[39m\u001b[34m_print_pil\u001b[39m(\u001b[38;5;28mself\u001b[39m, filename_or_obj, fmt, pil_kwargs, metadata=\u001b[38;5;28;01mNone\u001b[39;00m):\n\u001b[32m    425\u001b[39m \u001b[38;5;250m    \u001b[39m\u001b[33;03m\"\"\"\u001b[39;00m\n\u001b[32m    426\u001b[39m \u001b[33;03m    Draw the canvas, then save it using `.image.imsave` (to which\u001b[39;00m\n\u001b[32m    427\u001b[39m \u001b[33;03m    *pil_kwargs* and *metadata* are forwarded).\u001b[39;00m\n\u001b[32m    428\u001b[39m \u001b[33;03m    \"\"\"\u001b[39;00m\n\u001b[32m--> \u001b[39m\u001b[32m429\u001b[39m     \u001b[43mFigureCanvasAgg\u001b[49m\u001b[43m.\u001b[49m\u001b[43mdraw\u001b[49m\u001b[43m(\u001b[49m\u001b[38;5;28;43mself\u001b[39;49m\u001b[43m)\u001b[49m\n\u001b[32m    430\u001b[39m     mpl.image.imsave(\n\u001b[32m    431\u001b[39m         filename_or_obj, \u001b[38;5;28mself\u001b[39m.buffer_rgba(), \u001b[38;5;28mformat\u001b[39m=fmt, origin=\u001b[33m\"\u001b[39m\u001b[33mupper\u001b[39m\u001b[33m\"\u001b[39m,\n\u001b[32m    432\u001b[39m         dpi=\u001b[38;5;28mself\u001b[39m.figure.dpi, metadata=metadata, pil_kwargs=pil_kwargs)\n",
      "\u001b[36mFile \u001b[39m\u001b[32m~/Documents/bluebrainStuff/bbpEnv/lib/python3.11/site-packages/matplotlib/backends/backend_agg.py:382\u001b[39m, in \u001b[36mFigureCanvasAgg.draw\u001b[39m\u001b[34m(self)\u001b[39m\n\u001b[32m    379\u001b[39m \u001b[38;5;66;03m# Acquire a lock on the shared font cache.\u001b[39;00m\n\u001b[32m    380\u001b[39m \u001b[38;5;28;01mwith\u001b[39;00m (\u001b[38;5;28mself\u001b[39m.toolbar._wait_cursor_for_draw_cm() \u001b[38;5;28;01mif\u001b[39;00m \u001b[38;5;28mself\u001b[39m.toolbar\n\u001b[32m    381\u001b[39m       \u001b[38;5;28;01melse\u001b[39;00m nullcontext()):\n\u001b[32m--> \u001b[39m\u001b[32m382\u001b[39m     \u001b[38;5;28;43mself\u001b[39;49m\u001b[43m.\u001b[49m\u001b[43mfigure\u001b[49m\u001b[43m.\u001b[49m\u001b[43mdraw\u001b[49m\u001b[43m(\u001b[49m\u001b[38;5;28;43mself\u001b[39;49m\u001b[43m.\u001b[49m\u001b[43mrenderer\u001b[49m\u001b[43m)\u001b[49m\n\u001b[32m    383\u001b[39m     \u001b[38;5;66;03m# A GUI class may be need to update a window using this draw, so\u001b[39;00m\n\u001b[32m    384\u001b[39m     \u001b[38;5;66;03m# don't forget to call the superclass.\u001b[39;00m\n\u001b[32m    385\u001b[39m     \u001b[38;5;28msuper\u001b[39m().draw()\n",
      "\u001b[36mFile \u001b[39m\u001b[32m~/Documents/bluebrainStuff/bbpEnv/lib/python3.11/site-packages/matplotlib/artist.py:94\u001b[39m, in \u001b[36m_finalize_rasterization.<locals>.draw_wrapper\u001b[39m\u001b[34m(artist, renderer, *args, **kwargs)\u001b[39m\n\u001b[32m     92\u001b[39m \u001b[38;5;129m@wraps\u001b[39m(draw)\n\u001b[32m     93\u001b[39m \u001b[38;5;28;01mdef\u001b[39;00m\u001b[38;5;250m \u001b[39m\u001b[34mdraw_wrapper\u001b[39m(artist, renderer, *args, **kwargs):\n\u001b[32m---> \u001b[39m\u001b[32m94\u001b[39m     result = \u001b[43mdraw\u001b[49m\u001b[43m(\u001b[49m\u001b[43martist\u001b[49m\u001b[43m,\u001b[49m\u001b[43m \u001b[49m\u001b[43mrenderer\u001b[49m\u001b[43m,\u001b[49m\u001b[43m \u001b[49m\u001b[43m*\u001b[49m\u001b[43margs\u001b[49m\u001b[43m,\u001b[49m\u001b[43m \u001b[49m\u001b[43m*\u001b[49m\u001b[43m*\u001b[49m\u001b[43mkwargs\u001b[49m\u001b[43m)\u001b[49m\n\u001b[32m     95\u001b[39m     \u001b[38;5;28;01mif\u001b[39;00m renderer._rasterizing:\n\u001b[32m     96\u001b[39m         renderer.stop_rasterizing()\n",
      "\u001b[36mFile \u001b[39m\u001b[32m~/Documents/bluebrainStuff/bbpEnv/lib/python3.11/site-packages/matplotlib/artist.py:71\u001b[39m, in \u001b[36mallow_rasterization.<locals>.draw_wrapper\u001b[39m\u001b[34m(artist, renderer)\u001b[39m\n\u001b[32m     68\u001b[39m     \u001b[38;5;28;01mif\u001b[39;00m artist.get_agg_filter() \u001b[38;5;129;01mis\u001b[39;00m \u001b[38;5;129;01mnot\u001b[39;00m \u001b[38;5;28;01mNone\u001b[39;00m:\n\u001b[32m     69\u001b[39m         renderer.start_filter()\n\u001b[32m---> \u001b[39m\u001b[32m71\u001b[39m     \u001b[38;5;28;01mreturn\u001b[39;00m \u001b[43mdraw\u001b[49m\u001b[43m(\u001b[49m\u001b[43martist\u001b[49m\u001b[43m,\u001b[49m\u001b[43m \u001b[49m\u001b[43mrenderer\u001b[49m\u001b[43m)\u001b[49m\n\u001b[32m     72\u001b[39m \u001b[38;5;28;01mfinally\u001b[39;00m:\n\u001b[32m     73\u001b[39m     \u001b[38;5;28;01mif\u001b[39;00m artist.get_agg_filter() \u001b[38;5;129;01mis\u001b[39;00m \u001b[38;5;129;01mnot\u001b[39;00m \u001b[38;5;28;01mNone\u001b[39;00m:\n",
      "\u001b[36mFile \u001b[39m\u001b[32m~/Documents/bluebrainStuff/bbpEnv/lib/python3.11/site-packages/matplotlib/figure.py:3257\u001b[39m, in \u001b[36mFigure.draw\u001b[39m\u001b[34m(self, renderer)\u001b[39m\n\u001b[32m   3254\u001b[39m             \u001b[38;5;66;03m# ValueError can occur when resizing a window.\u001b[39;00m\n\u001b[32m   3256\u001b[39m     \u001b[38;5;28mself\u001b[39m.patch.draw(renderer)\n\u001b[32m-> \u001b[39m\u001b[32m3257\u001b[39m     \u001b[43mmimage\u001b[49m\u001b[43m.\u001b[49m\u001b[43m_draw_list_compositing_images\u001b[49m\u001b[43m(\u001b[49m\n\u001b[32m   3258\u001b[39m \u001b[43m        \u001b[49m\u001b[43mrenderer\u001b[49m\u001b[43m,\u001b[49m\u001b[43m \u001b[49m\u001b[38;5;28;43mself\u001b[39;49m\u001b[43m,\u001b[49m\u001b[43m \u001b[49m\u001b[43martists\u001b[49m\u001b[43m,\u001b[49m\u001b[43m \u001b[49m\u001b[38;5;28;43mself\u001b[39;49m\u001b[43m.\u001b[49m\u001b[43msuppressComposite\u001b[49m\u001b[43m)\u001b[49m\n\u001b[32m   3260\u001b[39m     renderer.close_group(\u001b[33m'\u001b[39m\u001b[33mfigure\u001b[39m\u001b[33m'\u001b[39m)\n\u001b[32m   3261\u001b[39m \u001b[38;5;28;01mfinally\u001b[39;00m:\n",
      "\u001b[36mFile \u001b[39m\u001b[32m~/Documents/bluebrainStuff/bbpEnv/lib/python3.11/site-packages/matplotlib/image.py:134\u001b[39m, in \u001b[36m_draw_list_compositing_images\u001b[39m\u001b[34m(renderer, parent, artists, suppress_composite)\u001b[39m\n\u001b[32m    132\u001b[39m \u001b[38;5;28;01mif\u001b[39;00m not_composite \u001b[38;5;129;01mor\u001b[39;00m \u001b[38;5;129;01mnot\u001b[39;00m has_images:\n\u001b[32m    133\u001b[39m     \u001b[38;5;28;01mfor\u001b[39;00m a \u001b[38;5;129;01min\u001b[39;00m artists:\n\u001b[32m--> \u001b[39m\u001b[32m134\u001b[39m         \u001b[43ma\u001b[49m\u001b[43m.\u001b[49m\u001b[43mdraw\u001b[49m\u001b[43m(\u001b[49m\u001b[43mrenderer\u001b[49m\u001b[43m)\u001b[49m\n\u001b[32m    135\u001b[39m \u001b[38;5;28;01melse\u001b[39;00m:\n\u001b[32m    136\u001b[39m     \u001b[38;5;66;03m# Composite any adjacent images together\u001b[39;00m\n\u001b[32m    137\u001b[39m     image_group = []\n",
      "\u001b[36mFile \u001b[39m\u001b[32m~/Documents/bluebrainStuff/bbpEnv/lib/python3.11/site-packages/matplotlib/artist.py:71\u001b[39m, in \u001b[36mallow_rasterization.<locals>.draw_wrapper\u001b[39m\u001b[34m(artist, renderer)\u001b[39m\n\u001b[32m     68\u001b[39m     \u001b[38;5;28;01mif\u001b[39;00m artist.get_agg_filter() \u001b[38;5;129;01mis\u001b[39;00m \u001b[38;5;129;01mnot\u001b[39;00m \u001b[38;5;28;01mNone\u001b[39;00m:\n\u001b[32m     69\u001b[39m         renderer.start_filter()\n\u001b[32m---> \u001b[39m\u001b[32m71\u001b[39m     \u001b[38;5;28;01mreturn\u001b[39;00m \u001b[43mdraw\u001b[49m\u001b[43m(\u001b[49m\u001b[43martist\u001b[49m\u001b[43m,\u001b[49m\u001b[43m \u001b[49m\u001b[43mrenderer\u001b[49m\u001b[43m)\u001b[49m\n\u001b[32m     72\u001b[39m \u001b[38;5;28;01mfinally\u001b[39;00m:\n\u001b[32m     73\u001b[39m     \u001b[38;5;28;01mif\u001b[39;00m artist.get_agg_filter() \u001b[38;5;129;01mis\u001b[39;00m \u001b[38;5;129;01mnot\u001b[39;00m \u001b[38;5;28;01mNone\u001b[39;00m:\n",
      "\u001b[36mFile \u001b[39m\u001b[32m~/Documents/bluebrainStuff/bbpEnv/lib/python3.11/site-packages/matplotlib/axes/_base.py:3226\u001b[39m, in \u001b[36m_AxesBase.draw\u001b[39m\u001b[34m(self, renderer)\u001b[39m\n\u001b[32m   3223\u001b[39m \u001b[38;5;28;01mif\u001b[39;00m artists_rasterized:\n\u001b[32m   3224\u001b[39m     _draw_rasterized(\u001b[38;5;28mself\u001b[39m.get_figure(root=\u001b[38;5;28;01mTrue\u001b[39;00m), artists_rasterized, renderer)\n\u001b[32m-> \u001b[39m\u001b[32m3226\u001b[39m \u001b[43mmimage\u001b[49m\u001b[43m.\u001b[49m\u001b[43m_draw_list_compositing_images\u001b[49m\u001b[43m(\u001b[49m\n\u001b[32m   3227\u001b[39m \u001b[43m    \u001b[49m\u001b[43mrenderer\u001b[49m\u001b[43m,\u001b[49m\u001b[43m \u001b[49m\u001b[38;5;28;43mself\u001b[39;49m\u001b[43m,\u001b[49m\u001b[43m \u001b[49m\u001b[43martists\u001b[49m\u001b[43m,\u001b[49m\u001b[43m \u001b[49m\u001b[38;5;28;43mself\u001b[39;49m\u001b[43m.\u001b[49m\u001b[43mget_figure\u001b[49m\u001b[43m(\u001b[49m\u001b[43mroot\u001b[49m\u001b[43m=\u001b[49m\u001b[38;5;28;43;01mTrue\u001b[39;49;00m\u001b[43m)\u001b[49m\u001b[43m.\u001b[49m\u001b[43msuppressComposite\u001b[49m\u001b[43m)\u001b[49m\n\u001b[32m   3229\u001b[39m renderer.close_group(\u001b[33m'\u001b[39m\u001b[33maxes\u001b[39m\u001b[33m'\u001b[39m)\n\u001b[32m   3230\u001b[39m \u001b[38;5;28mself\u001b[39m.stale = \u001b[38;5;28;01mFalse\u001b[39;00m\n",
      "\u001b[36mFile \u001b[39m\u001b[32m~/Documents/bluebrainStuff/bbpEnv/lib/python3.11/site-packages/matplotlib/image.py:134\u001b[39m, in \u001b[36m_draw_list_compositing_images\u001b[39m\u001b[34m(renderer, parent, artists, suppress_composite)\u001b[39m\n\u001b[32m    132\u001b[39m \u001b[38;5;28;01mif\u001b[39;00m not_composite \u001b[38;5;129;01mor\u001b[39;00m \u001b[38;5;129;01mnot\u001b[39;00m has_images:\n\u001b[32m    133\u001b[39m     \u001b[38;5;28;01mfor\u001b[39;00m a \u001b[38;5;129;01min\u001b[39;00m artists:\n\u001b[32m--> \u001b[39m\u001b[32m134\u001b[39m         \u001b[43ma\u001b[49m\u001b[43m.\u001b[49m\u001b[43mdraw\u001b[49m\u001b[43m(\u001b[49m\u001b[43mrenderer\u001b[49m\u001b[43m)\u001b[49m\n\u001b[32m    135\u001b[39m \u001b[38;5;28;01melse\u001b[39;00m:\n\u001b[32m    136\u001b[39m     \u001b[38;5;66;03m# Composite any adjacent images together\u001b[39;00m\n\u001b[32m    137\u001b[39m     image_group = []\n",
      "\u001b[36mFile \u001b[39m\u001b[32m~/Documents/bluebrainStuff/bbpEnv/lib/python3.11/site-packages/matplotlib/artist.py:71\u001b[39m, in \u001b[36mallow_rasterization.<locals>.draw_wrapper\u001b[39m\u001b[34m(artist, renderer)\u001b[39m\n\u001b[32m     68\u001b[39m     \u001b[38;5;28;01mif\u001b[39;00m artist.get_agg_filter() \u001b[38;5;129;01mis\u001b[39;00m \u001b[38;5;129;01mnot\u001b[39;00m \u001b[38;5;28;01mNone\u001b[39;00m:\n\u001b[32m     69\u001b[39m         renderer.start_filter()\n\u001b[32m---> \u001b[39m\u001b[32m71\u001b[39m     \u001b[38;5;28;01mreturn\u001b[39;00m \u001b[43mdraw\u001b[49m\u001b[43m(\u001b[49m\u001b[43martist\u001b[49m\u001b[43m,\u001b[49m\u001b[43m \u001b[49m\u001b[43mrenderer\u001b[49m\u001b[43m)\u001b[49m\n\u001b[32m     72\u001b[39m \u001b[38;5;28;01mfinally\u001b[39;00m:\n\u001b[32m     73\u001b[39m     \u001b[38;5;28;01mif\u001b[39;00m artist.get_agg_filter() \u001b[38;5;129;01mis\u001b[39;00m \u001b[38;5;129;01mnot\u001b[39;00m \u001b[38;5;28;01mNone\u001b[39;00m:\n",
      "\u001b[36mFile \u001b[39m\u001b[32m~/Documents/bluebrainStuff/bbpEnv/lib/python3.11/site-packages/matplotlib/lines.py:887\u001b[39m, in \u001b[36mLine2D.draw\u001b[39m\u001b[34m(self, renderer)\u001b[39m\n\u001b[32m    884\u001b[39m \u001b[38;5;28;01melse\u001b[39;00m:\n\u001b[32m    885\u001b[39m     \u001b[38;5;66;03m# Don't scale for pixels, and don't stroke them\u001b[39;00m\n\u001b[32m    886\u001b[39m     marker_trans = marker_trans.scale(w)\n\u001b[32m--> \u001b[39m\u001b[32m887\u001b[39m \u001b[43mrenderer\u001b[49m\u001b[43m.\u001b[49m\u001b[43mdraw_markers\u001b[49m\u001b[43m(\u001b[49m\u001b[43mgc\u001b[49m\u001b[43m,\u001b[49m\u001b[43m \u001b[49m\u001b[43mmarker_path\u001b[49m\u001b[43m,\u001b[49m\u001b[43m \u001b[49m\u001b[43mmarker_trans\u001b[49m\u001b[43m,\u001b[49m\n\u001b[32m    888\u001b[39m \u001b[43m                      \u001b[49m\u001b[43msubsampled\u001b[49m\u001b[43m,\u001b[49m\u001b[43m \u001b[49m\u001b[43maffine\u001b[49m\u001b[43m.\u001b[49m\u001b[43mfrozen\u001b[49m\u001b[43m(\u001b[49m\u001b[43m)\u001b[49m\u001b[43m,\u001b[49m\n\u001b[32m    889\u001b[39m \u001b[43m                      \u001b[49m\u001b[43mfc_rgba\u001b[49m\u001b[43m)\u001b[49m\n\u001b[32m    891\u001b[39m alt_marker_path = marker.get_alt_path()\n\u001b[32m    892\u001b[39m \u001b[38;5;28;01mif\u001b[39;00m alt_marker_path:\n",
      "\u001b[31mKeyboardInterrupt\u001b[39m: "
     ]
    },
    {
     "name": "stderr",
     "output_type": "stream",
     "text": [
      "/home/joseph-tharayil/Documents/bluebrainStuff/bbpEnv/lib/python3.11/site-packages/ipympl/backend_nbagg.py:335: UserWarning: Creating legend with loc=\"best\" can be slow with large amounts of data.\n",
      "  self.figure.savefig(buf, format='png', dpi='figure')\n"
     ]
    },
    {
     "name": "stdout",
     "output_type": "stream",
     "text": [
      "Error in callback <function flush_figures at 0x728d209a9260> (for post_execute), with arguments args (),kwargs {}:\n"
     ]
    },
    {
     "ename": "KeyboardInterrupt",
     "evalue": "",
     "output_type": "error",
     "traceback": [
      "\u001b[31m---------------------------------------------------------------------------\u001b[39m",
      "\u001b[31mKeyboardInterrupt\u001b[39m                         Traceback (most recent call last)",
      "\u001b[36mFile \u001b[39m\u001b[32m~/Documents/bluebrainStuff/bbpEnv/lib/python3.11/site-packages/ipympl/backend_nbagg.py:488\u001b[39m, in \u001b[36mflush_figures\u001b[39m\u001b[34m()\u001b[39m\n\u001b[32m    484\u001b[39m     active = {fm.canvas.figure \u001b[38;5;28;01mfor\u001b[39;00m fm \u001b[38;5;129;01min\u001b[39;00m Gcf.get_all_fig_managers()}\n\u001b[32m    486\u001b[39m     \u001b[38;5;28;01mfor\u001b[39;00m fig \u001b[38;5;129;01min\u001b[39;00m [fig \u001b[38;5;28;01mfor\u001b[39;00m fig \u001b[38;5;129;01min\u001b[39;00m _Backend_ipympl._to_show \u001b[38;5;28;01mif\u001b[39;00m fig \u001b[38;5;129;01min\u001b[39;00m active]:\n\u001b[32m    487\u001b[39m         \u001b[38;5;66;03m# display(fig.canvas, metadata=_fetch_figure_metadata(fig))\u001b[39;00m\n\u001b[32m--> \u001b[39m\u001b[32m488\u001b[39m         \u001b[43mdisplay\u001b[49m\u001b[43m(\u001b[49m\u001b[43mfig\u001b[49m\u001b[43m.\u001b[49m\u001b[43mcanvas\u001b[49m\u001b[43m)\u001b[49m\n\u001b[32m    489\u001b[39m \u001b[38;5;28;01mfinally\u001b[39;00m:\n\u001b[32m    490\u001b[39m     \u001b[38;5;66;03m# clear flags for next round\u001b[39;00m\n\u001b[32m    491\u001b[39m     _Backend_ipympl._to_show = []\n",
      "\u001b[36mFile \u001b[39m\u001b[32m~/Documents/bluebrainStuff/bbpEnv/lib/python3.11/site-packages/IPython/core/display_functions.py:278\u001b[39m, in \u001b[36mdisplay\u001b[39m\u001b[34m(include, exclude, metadata, transient, display_id, raw, clear, *objs, **kwargs)\u001b[39m\n\u001b[32m    276\u001b[39m     publish_display_data(data=obj, metadata=metadata, **kwargs)\n\u001b[32m    277\u001b[39m \u001b[38;5;28;01melse\u001b[39;00m:\n\u001b[32m--> \u001b[39m\u001b[32m278\u001b[39m     format_dict, md_dict = \u001b[38;5;28;43mformat\u001b[39;49m\u001b[43m(\u001b[49m\u001b[43mobj\u001b[49m\u001b[43m,\u001b[49m\u001b[43m \u001b[49m\u001b[43minclude\u001b[49m\u001b[43m=\u001b[49m\u001b[43minclude\u001b[49m\u001b[43m,\u001b[49m\u001b[43m \u001b[49m\u001b[43mexclude\u001b[49m\u001b[43m=\u001b[49m\u001b[43mexclude\u001b[49m\u001b[43m)\u001b[49m\n\u001b[32m    279\u001b[39m     \u001b[38;5;28;01mif\u001b[39;00m \u001b[38;5;129;01mnot\u001b[39;00m format_dict:\n\u001b[32m    280\u001b[39m         \u001b[38;5;66;03m# nothing to display (e.g. _ipython_display_ took over)\u001b[39;00m\n\u001b[32m    281\u001b[39m         \u001b[38;5;28;01mcontinue\u001b[39;00m\n",
      "\u001b[36mFile \u001b[39m\u001b[32m~/Documents/bluebrainStuff/bbpEnv/lib/python3.11/site-packages/IPython/core/formatters.py:208\u001b[39m, in \u001b[36mDisplayFormatter.format\u001b[39m\u001b[34m(self, obj, include, exclude)\u001b[39m\n\u001b[32m    204\u001b[39m \u001b[38;5;28;01mif\u001b[39;00m \u001b[38;5;28mself\u001b[39m.ipython_display_formatter(obj):\n\u001b[32m    205\u001b[39m     \u001b[38;5;66;03m# object handled itself, don't proceed\u001b[39;00m\n\u001b[32m    206\u001b[39m     \u001b[38;5;28;01mreturn\u001b[39;00m {}, {}\n\u001b[32m--> \u001b[39m\u001b[32m208\u001b[39m format_dict, md_dict = \u001b[38;5;28;43mself\u001b[39;49m\u001b[43m.\u001b[49m\u001b[43mmimebundle_formatter\u001b[49m\u001b[43m(\u001b[49m\u001b[43mobj\u001b[49m\u001b[43m,\u001b[49m\u001b[43m \u001b[49m\u001b[43minclude\u001b[49m\u001b[43m=\u001b[49m\u001b[43minclude\u001b[49m\u001b[43m,\u001b[49m\u001b[43m \u001b[49m\u001b[43mexclude\u001b[49m\u001b[43m=\u001b[49m\u001b[43mexclude\u001b[49m\u001b[43m)\u001b[49m\n\u001b[32m    210\u001b[39m \u001b[38;5;28;01mif\u001b[39;00m format_dict \u001b[38;5;129;01mor\u001b[39;00m md_dict:\n\u001b[32m    211\u001b[39m     \u001b[38;5;28;01mif\u001b[39;00m include:\n",
      "\u001b[36mFile \u001b[39m\u001b[32m~/Documents/bluebrainStuff/bbpEnv/lib/python3.11/site-packages/decorator.py:235\u001b[39m, in \u001b[36mdecorate.<locals>.fun\u001b[39m\u001b[34m(*args, **kw)\u001b[39m\n\u001b[32m    233\u001b[39m \u001b[38;5;28;01mif\u001b[39;00m \u001b[38;5;129;01mnot\u001b[39;00m kwsyntax:\n\u001b[32m    234\u001b[39m     args, kw = fix(args, kw, sig)\n\u001b[32m--> \u001b[39m\u001b[32m235\u001b[39m \u001b[38;5;28;01mreturn\u001b[39;00m \u001b[43mcaller\u001b[49m\u001b[43m(\u001b[49m\u001b[43mfunc\u001b[49m\u001b[43m,\u001b[49m\u001b[43m \u001b[49m\u001b[43m*\u001b[49m\u001b[43m(\u001b[49m\u001b[43mextras\u001b[49m\u001b[43m \u001b[49m\u001b[43m+\u001b[49m\u001b[43m \u001b[49m\u001b[43margs\u001b[49m\u001b[43m)\u001b[49m\u001b[43m,\u001b[49m\u001b[43m \u001b[49m\u001b[43m*\u001b[49m\u001b[43m*\u001b[49m\u001b[43mkw\u001b[49m\u001b[43m)\u001b[49m\n",
      "\u001b[36mFile \u001b[39m\u001b[32m~/Documents/bluebrainStuff/bbpEnv/lib/python3.11/site-packages/IPython/core/formatters.py:282\u001b[39m, in \u001b[36mcatch_format_error\u001b[39m\u001b[34m(method, self, *args, **kwargs)\u001b[39m\n\u001b[32m    280\u001b[39m \u001b[38;5;250m\u001b[39m\u001b[33;03m\"\"\"show traceback on failed format call\"\"\"\u001b[39;00m\n\u001b[32m    281\u001b[39m \u001b[38;5;28;01mtry\u001b[39;00m:\n\u001b[32m--> \u001b[39m\u001b[32m282\u001b[39m     r = \u001b[43mmethod\u001b[49m\u001b[43m(\u001b[49m\u001b[38;5;28;43mself\u001b[39;49m\u001b[43m,\u001b[49m\u001b[43m \u001b[49m\u001b[43m*\u001b[49m\u001b[43margs\u001b[49m\u001b[43m,\u001b[49m\u001b[43m \u001b[49m\u001b[43m*\u001b[49m\u001b[43m*\u001b[49m\u001b[43mkwargs\u001b[49m\u001b[43m)\u001b[49m\n\u001b[32m    283\u001b[39m \u001b[38;5;28;01mexcept\u001b[39;00m \u001b[38;5;167;01mNotImplementedError\u001b[39;00m:\n\u001b[32m    284\u001b[39m     \u001b[38;5;66;03m# don't warn on NotImplementedErrors\u001b[39;00m\n\u001b[32m    285\u001b[39m     \u001b[38;5;28;01mreturn\u001b[39;00m \u001b[38;5;28mself\u001b[39m._check_return(\u001b[38;5;28;01mNone\u001b[39;00m, args[\u001b[32m0\u001b[39m])\n",
      "\u001b[36mFile \u001b[39m\u001b[32m~/Documents/bluebrainStuff/bbpEnv/lib/python3.11/site-packages/IPython/core/formatters.py:1036\u001b[39m, in \u001b[36mMimeBundleFormatter.__call__\u001b[39m\u001b[34m(self, obj, include, exclude)\u001b[39m\n\u001b[32m   1033\u001b[39m     method = get_real_method(obj, \u001b[38;5;28mself\u001b[39m.print_method)\n\u001b[32m   1035\u001b[39m     \u001b[38;5;28;01mif\u001b[39;00m method \u001b[38;5;129;01mis\u001b[39;00m \u001b[38;5;129;01mnot\u001b[39;00m \u001b[38;5;28;01mNone\u001b[39;00m:\n\u001b[32m-> \u001b[39m\u001b[32m1036\u001b[39m         \u001b[38;5;28;01mreturn\u001b[39;00m \u001b[43mmethod\u001b[49m\u001b[43m(\u001b[49m\u001b[43minclude\u001b[49m\u001b[43m=\u001b[49m\u001b[43minclude\u001b[49m\u001b[43m,\u001b[49m\u001b[43m \u001b[49m\u001b[43mexclude\u001b[49m\u001b[43m=\u001b[49m\u001b[43mexclude\u001b[49m\u001b[43m)\u001b[49m\n\u001b[32m   1037\u001b[39m     \u001b[38;5;28;01mreturn\u001b[39;00m \u001b[38;5;28;01mNone\u001b[39;00m\n\u001b[32m   1038\u001b[39m \u001b[38;5;28;01melse\u001b[39;00m:\n",
      "\u001b[36mFile \u001b[39m\u001b[32m~/Documents/bluebrainStuff/bbpEnv/lib/python3.11/site-packages/ipympl/backend_nbagg.py:335\u001b[39m, in \u001b[36mCanvas._repr_mimebundle_\u001b[39m\u001b[34m(self, **kwargs)\u001b[39m\n\u001b[32m    332\u001b[39m     plaintext = plaintext[:\u001b[32m110\u001b[39m] + \u001b[33m'\u001b[39m\u001b[33m…\u001b[39m\u001b[33m'\u001b[39m\n\u001b[32m    334\u001b[39m buf = io.BytesIO()\n\u001b[32m--> \u001b[39m\u001b[32m335\u001b[39m \u001b[38;5;28;43mself\u001b[39;49m\u001b[43m.\u001b[49m\u001b[43mfigure\u001b[49m\u001b[43m.\u001b[49m\u001b[43msavefig\u001b[49m\u001b[43m(\u001b[49m\u001b[43mbuf\u001b[49m\u001b[43m,\u001b[49m\u001b[43m \u001b[49m\u001b[38;5;28;43mformat\u001b[39;49m\u001b[43m=\u001b[49m\u001b[33;43m'\u001b[39;49m\u001b[33;43mpng\u001b[39;49m\u001b[33;43m'\u001b[39;49m\u001b[43m,\u001b[49m\u001b[43m \u001b[49m\u001b[43mdpi\u001b[49m\u001b[43m=\u001b[49m\u001b[33;43m'\u001b[39;49m\u001b[33;43mfigure\u001b[39;49m\u001b[33;43m'\u001b[39;49m\u001b[43m)\u001b[49m\n\u001b[32m    337\u001b[39m base64_image = b64encode(buf.getvalue()).decode(\u001b[33m'\u001b[39m\u001b[33mutf-8\u001b[39m\u001b[33m'\u001b[39m)\n\u001b[32m    338\u001b[39m \u001b[38;5;28mself\u001b[39m._data_url = \u001b[33mf\u001b[39m\u001b[33m'\u001b[39m\u001b[33mdata:image/png;base64,\u001b[39m\u001b[38;5;132;01m{\u001b[39;00mbase64_image\u001b[38;5;132;01m}\u001b[39;00m\u001b[33m'\u001b[39m\n",
      "\u001b[36mFile \u001b[39m\u001b[32m~/Documents/bluebrainStuff/bbpEnv/lib/python3.11/site-packages/matplotlib/figure.py:3490\u001b[39m, in \u001b[36mFigure.savefig\u001b[39m\u001b[34m(self, fname, transparent, **kwargs)\u001b[39m\n\u001b[32m   3488\u001b[39m     \u001b[38;5;28;01mfor\u001b[39;00m ax \u001b[38;5;129;01min\u001b[39;00m \u001b[38;5;28mself\u001b[39m.axes:\n\u001b[32m   3489\u001b[39m         _recursively_make_axes_transparent(stack, ax)\n\u001b[32m-> \u001b[39m\u001b[32m3490\u001b[39m \u001b[38;5;28;43mself\u001b[39;49m\u001b[43m.\u001b[49m\u001b[43mcanvas\u001b[49m\u001b[43m.\u001b[49m\u001b[43mprint_figure\u001b[49m\u001b[43m(\u001b[49m\u001b[43mfname\u001b[49m\u001b[43m,\u001b[49m\u001b[43m \u001b[49m\u001b[43m*\u001b[49m\u001b[43m*\u001b[49m\u001b[43mkwargs\u001b[49m\u001b[43m)\u001b[49m\n",
      "\u001b[36mFile \u001b[39m\u001b[32m~/Documents/bluebrainStuff/bbpEnv/lib/python3.11/site-packages/matplotlib/backend_bases.py:2186\u001b[39m, in \u001b[36mFigureCanvasBase.print_figure\u001b[39m\u001b[34m(self, filename, dpi, facecolor, edgecolor, orientation, format, bbox_inches, pad_inches, bbox_extra_artists, backend, **kwargs)\u001b[39m\n\u001b[32m   2182\u001b[39m \u001b[38;5;28;01mtry\u001b[39;00m:\n\u001b[32m   2183\u001b[39m     \u001b[38;5;66;03m# _get_renderer may change the figure dpi (as vector formats\u001b[39;00m\n\u001b[32m   2184\u001b[39m     \u001b[38;5;66;03m# force the figure dpi to 72), so we need to set it again here.\u001b[39;00m\n\u001b[32m   2185\u001b[39m     \u001b[38;5;28;01mwith\u001b[39;00m cbook._setattr_cm(\u001b[38;5;28mself\u001b[39m.figure, dpi=dpi):\n\u001b[32m-> \u001b[39m\u001b[32m2186\u001b[39m         result = \u001b[43mprint_method\u001b[49m\u001b[43m(\u001b[49m\n\u001b[32m   2187\u001b[39m \u001b[43m            \u001b[49m\u001b[43mfilename\u001b[49m\u001b[43m,\u001b[49m\n\u001b[32m   2188\u001b[39m \u001b[43m            \u001b[49m\u001b[43mfacecolor\u001b[49m\u001b[43m=\u001b[49m\u001b[43mfacecolor\u001b[49m\u001b[43m,\u001b[49m\n\u001b[32m   2189\u001b[39m \u001b[43m            \u001b[49m\u001b[43medgecolor\u001b[49m\u001b[43m=\u001b[49m\u001b[43medgecolor\u001b[49m\u001b[43m,\u001b[49m\n\u001b[32m   2190\u001b[39m \u001b[43m            \u001b[49m\u001b[43morientation\u001b[49m\u001b[43m=\u001b[49m\u001b[43morientation\u001b[49m\u001b[43m,\u001b[49m\n\u001b[32m   2191\u001b[39m \u001b[43m            \u001b[49m\u001b[43mbbox_inches_restore\u001b[49m\u001b[43m=\u001b[49m\u001b[43m_bbox_inches_restore\u001b[49m\u001b[43m,\u001b[49m\n\u001b[32m   2192\u001b[39m \u001b[43m            \u001b[49m\u001b[43m*\u001b[49m\u001b[43m*\u001b[49m\u001b[43mkwargs\u001b[49m\u001b[43m)\u001b[49m\n\u001b[32m   2193\u001b[39m \u001b[38;5;28;01mfinally\u001b[39;00m:\n\u001b[32m   2194\u001b[39m     \u001b[38;5;28;01mif\u001b[39;00m bbox_inches \u001b[38;5;129;01mand\u001b[39;00m restore_bbox:\n",
      "\u001b[36mFile \u001b[39m\u001b[32m~/Documents/bluebrainStuff/bbpEnv/lib/python3.11/site-packages/matplotlib/backend_bases.py:2042\u001b[39m, in \u001b[36mFigureCanvasBase._switch_canvas_and_return_print_method.<locals>.<lambda>\u001b[39m\u001b[34m(*args, **kwargs)\u001b[39m\n\u001b[32m   2038\u001b[39m     optional_kws = {  \u001b[38;5;66;03m# Passed by print_figure for other renderers.\u001b[39;00m\n\u001b[32m   2039\u001b[39m         \u001b[33m\"\u001b[39m\u001b[33mdpi\u001b[39m\u001b[33m\"\u001b[39m, \u001b[33m\"\u001b[39m\u001b[33mfacecolor\u001b[39m\u001b[33m\"\u001b[39m, \u001b[33m\"\u001b[39m\u001b[33medgecolor\u001b[39m\u001b[33m\"\u001b[39m, \u001b[33m\"\u001b[39m\u001b[33morientation\u001b[39m\u001b[33m\"\u001b[39m,\n\u001b[32m   2040\u001b[39m         \u001b[33m\"\u001b[39m\u001b[33mbbox_inches_restore\u001b[39m\u001b[33m\"\u001b[39m}\n\u001b[32m   2041\u001b[39m     skip = optional_kws - {*inspect.signature(meth).parameters}\n\u001b[32m-> \u001b[39m\u001b[32m2042\u001b[39m     print_method = functools.wraps(meth)(\u001b[38;5;28;01mlambda\u001b[39;00m *args, **kwargs: \u001b[43mmeth\u001b[49m\u001b[43m(\u001b[49m\n\u001b[32m   2043\u001b[39m \u001b[43m        \u001b[49m\u001b[43m*\u001b[49m\u001b[43margs\u001b[49m\u001b[43m,\u001b[49m\u001b[43m \u001b[49m\u001b[43m*\u001b[49m\u001b[43m*\u001b[49m\u001b[43m{\u001b[49m\u001b[43mk\u001b[49m\u001b[43m:\u001b[49m\u001b[43m \u001b[49m\u001b[43mv\u001b[49m\u001b[43m \u001b[49m\u001b[38;5;28;43;01mfor\u001b[39;49;00m\u001b[43m \u001b[49m\u001b[43mk\u001b[49m\u001b[43m,\u001b[49m\u001b[43m \u001b[49m\u001b[43mv\u001b[49m\u001b[43m \u001b[49m\u001b[38;5;129;43;01min\u001b[39;49;00m\u001b[43m \u001b[49m\u001b[43mkwargs\u001b[49m\u001b[43m.\u001b[49m\u001b[43mitems\u001b[49m\u001b[43m(\u001b[49m\u001b[43m)\u001b[49m\u001b[43m \u001b[49m\u001b[38;5;28;43;01mif\u001b[39;49;00m\u001b[43m \u001b[49m\u001b[43mk\u001b[49m\u001b[43m \u001b[49m\u001b[38;5;129;43;01mnot\u001b[39;49;00m\u001b[43m \u001b[49m\u001b[38;5;129;43;01min\u001b[39;49;00m\u001b[43m \u001b[49m\u001b[43mskip\u001b[49m\u001b[43m}\u001b[49m\u001b[43m)\u001b[49m)\n\u001b[32m   2044\u001b[39m \u001b[38;5;28;01melse\u001b[39;00m:  \u001b[38;5;66;03m# Let third-parties do as they see fit.\u001b[39;00m\n\u001b[32m   2045\u001b[39m     print_method = meth\n",
      "\u001b[36mFile \u001b[39m\u001b[32m~/Documents/bluebrainStuff/bbpEnv/lib/python3.11/site-packages/matplotlib/backends/backend_agg.py:481\u001b[39m, in \u001b[36mFigureCanvasAgg.print_png\u001b[39m\u001b[34m(self, filename_or_obj, metadata, pil_kwargs)\u001b[39m\n\u001b[32m    434\u001b[39m \u001b[38;5;28;01mdef\u001b[39;00m\u001b[38;5;250m \u001b[39m\u001b[34mprint_png\u001b[39m(\u001b[38;5;28mself\u001b[39m, filename_or_obj, *, metadata=\u001b[38;5;28;01mNone\u001b[39;00m, pil_kwargs=\u001b[38;5;28;01mNone\u001b[39;00m):\n\u001b[32m    435\u001b[39m \u001b[38;5;250m    \u001b[39m\u001b[33;03m\"\"\"\u001b[39;00m\n\u001b[32m    436\u001b[39m \u001b[33;03m    Write the figure to a PNG file.\u001b[39;00m\n\u001b[32m    437\u001b[39m \n\u001b[32m   (...)\u001b[39m\u001b[32m    479\u001b[39m \u001b[33;03m        *metadata*, including the default 'Software' key.\u001b[39;00m\n\u001b[32m    480\u001b[39m \u001b[33;03m    \"\"\"\u001b[39;00m\n\u001b[32m--> \u001b[39m\u001b[32m481\u001b[39m     \u001b[38;5;28;43mself\u001b[39;49m\u001b[43m.\u001b[49m\u001b[43m_print_pil\u001b[49m\u001b[43m(\u001b[49m\u001b[43mfilename_or_obj\u001b[49m\u001b[43m,\u001b[49m\u001b[43m \u001b[49m\u001b[33;43m\"\u001b[39;49m\u001b[33;43mpng\u001b[39;49m\u001b[33;43m\"\u001b[39;49m\u001b[43m,\u001b[49m\u001b[43m \u001b[49m\u001b[43mpil_kwargs\u001b[49m\u001b[43m,\u001b[49m\u001b[43m \u001b[49m\u001b[43mmetadata\u001b[49m\u001b[43m)\u001b[49m\n",
      "\u001b[36mFile \u001b[39m\u001b[32m~/Documents/bluebrainStuff/bbpEnv/lib/python3.11/site-packages/matplotlib/backends/backend_agg.py:429\u001b[39m, in \u001b[36mFigureCanvasAgg._print_pil\u001b[39m\u001b[34m(self, filename_or_obj, fmt, pil_kwargs, metadata)\u001b[39m\n\u001b[32m    424\u001b[39m \u001b[38;5;28;01mdef\u001b[39;00m\u001b[38;5;250m \u001b[39m\u001b[34m_print_pil\u001b[39m(\u001b[38;5;28mself\u001b[39m, filename_or_obj, fmt, pil_kwargs, metadata=\u001b[38;5;28;01mNone\u001b[39;00m):\n\u001b[32m    425\u001b[39m \u001b[38;5;250m    \u001b[39m\u001b[33;03m\"\"\"\u001b[39;00m\n\u001b[32m    426\u001b[39m \u001b[33;03m    Draw the canvas, then save it using `.image.imsave` (to which\u001b[39;00m\n\u001b[32m    427\u001b[39m \u001b[33;03m    *pil_kwargs* and *metadata* are forwarded).\u001b[39;00m\n\u001b[32m    428\u001b[39m \u001b[33;03m    \"\"\"\u001b[39;00m\n\u001b[32m--> \u001b[39m\u001b[32m429\u001b[39m     \u001b[43mFigureCanvasAgg\u001b[49m\u001b[43m.\u001b[49m\u001b[43mdraw\u001b[49m\u001b[43m(\u001b[49m\u001b[38;5;28;43mself\u001b[39;49m\u001b[43m)\u001b[49m\n\u001b[32m    430\u001b[39m     mpl.image.imsave(\n\u001b[32m    431\u001b[39m         filename_or_obj, \u001b[38;5;28mself\u001b[39m.buffer_rgba(), \u001b[38;5;28mformat\u001b[39m=fmt, origin=\u001b[33m\"\u001b[39m\u001b[33mupper\u001b[39m\u001b[33m\"\u001b[39m,\n\u001b[32m    432\u001b[39m         dpi=\u001b[38;5;28mself\u001b[39m.figure.dpi, metadata=metadata, pil_kwargs=pil_kwargs)\n",
      "\u001b[36mFile \u001b[39m\u001b[32m~/Documents/bluebrainStuff/bbpEnv/lib/python3.11/site-packages/matplotlib/backends/backend_agg.py:382\u001b[39m, in \u001b[36mFigureCanvasAgg.draw\u001b[39m\u001b[34m(self)\u001b[39m\n\u001b[32m    379\u001b[39m \u001b[38;5;66;03m# Acquire a lock on the shared font cache.\u001b[39;00m\n\u001b[32m    380\u001b[39m \u001b[38;5;28;01mwith\u001b[39;00m (\u001b[38;5;28mself\u001b[39m.toolbar._wait_cursor_for_draw_cm() \u001b[38;5;28;01mif\u001b[39;00m \u001b[38;5;28mself\u001b[39m.toolbar\n\u001b[32m    381\u001b[39m       \u001b[38;5;28;01melse\u001b[39;00m nullcontext()):\n\u001b[32m--> \u001b[39m\u001b[32m382\u001b[39m     \u001b[38;5;28;43mself\u001b[39;49m\u001b[43m.\u001b[49m\u001b[43mfigure\u001b[49m\u001b[43m.\u001b[49m\u001b[43mdraw\u001b[49m\u001b[43m(\u001b[49m\u001b[38;5;28;43mself\u001b[39;49m\u001b[43m.\u001b[49m\u001b[43mrenderer\u001b[49m\u001b[43m)\u001b[49m\n\u001b[32m    383\u001b[39m     \u001b[38;5;66;03m# A GUI class may be need to update a window using this draw, so\u001b[39;00m\n\u001b[32m    384\u001b[39m     \u001b[38;5;66;03m# don't forget to call the superclass.\u001b[39;00m\n\u001b[32m    385\u001b[39m     \u001b[38;5;28msuper\u001b[39m().draw()\n",
      "\u001b[36mFile \u001b[39m\u001b[32m~/Documents/bluebrainStuff/bbpEnv/lib/python3.11/site-packages/matplotlib/artist.py:94\u001b[39m, in \u001b[36m_finalize_rasterization.<locals>.draw_wrapper\u001b[39m\u001b[34m(artist, renderer, *args, **kwargs)\u001b[39m\n\u001b[32m     92\u001b[39m \u001b[38;5;129m@wraps\u001b[39m(draw)\n\u001b[32m     93\u001b[39m \u001b[38;5;28;01mdef\u001b[39;00m\u001b[38;5;250m \u001b[39m\u001b[34mdraw_wrapper\u001b[39m(artist, renderer, *args, **kwargs):\n\u001b[32m---> \u001b[39m\u001b[32m94\u001b[39m     result = \u001b[43mdraw\u001b[49m\u001b[43m(\u001b[49m\u001b[43martist\u001b[49m\u001b[43m,\u001b[49m\u001b[43m \u001b[49m\u001b[43mrenderer\u001b[49m\u001b[43m,\u001b[49m\u001b[43m \u001b[49m\u001b[43m*\u001b[49m\u001b[43margs\u001b[49m\u001b[43m,\u001b[49m\u001b[43m \u001b[49m\u001b[43m*\u001b[49m\u001b[43m*\u001b[49m\u001b[43mkwargs\u001b[49m\u001b[43m)\u001b[49m\n\u001b[32m     95\u001b[39m     \u001b[38;5;28;01mif\u001b[39;00m renderer._rasterizing:\n\u001b[32m     96\u001b[39m         renderer.stop_rasterizing()\n",
      "\u001b[36mFile \u001b[39m\u001b[32m~/Documents/bluebrainStuff/bbpEnv/lib/python3.11/site-packages/matplotlib/artist.py:71\u001b[39m, in \u001b[36mallow_rasterization.<locals>.draw_wrapper\u001b[39m\u001b[34m(artist, renderer)\u001b[39m\n\u001b[32m     68\u001b[39m     \u001b[38;5;28;01mif\u001b[39;00m artist.get_agg_filter() \u001b[38;5;129;01mis\u001b[39;00m \u001b[38;5;129;01mnot\u001b[39;00m \u001b[38;5;28;01mNone\u001b[39;00m:\n\u001b[32m     69\u001b[39m         renderer.start_filter()\n\u001b[32m---> \u001b[39m\u001b[32m71\u001b[39m     \u001b[38;5;28;01mreturn\u001b[39;00m \u001b[43mdraw\u001b[49m\u001b[43m(\u001b[49m\u001b[43martist\u001b[49m\u001b[43m,\u001b[49m\u001b[43m \u001b[49m\u001b[43mrenderer\u001b[49m\u001b[43m)\u001b[49m\n\u001b[32m     72\u001b[39m \u001b[38;5;28;01mfinally\u001b[39;00m:\n\u001b[32m     73\u001b[39m     \u001b[38;5;28;01mif\u001b[39;00m artist.get_agg_filter() \u001b[38;5;129;01mis\u001b[39;00m \u001b[38;5;129;01mnot\u001b[39;00m \u001b[38;5;28;01mNone\u001b[39;00m:\n",
      "\u001b[36mFile \u001b[39m\u001b[32m~/Documents/bluebrainStuff/bbpEnv/lib/python3.11/site-packages/matplotlib/figure.py:3257\u001b[39m, in \u001b[36mFigure.draw\u001b[39m\u001b[34m(self, renderer)\u001b[39m\n\u001b[32m   3254\u001b[39m             \u001b[38;5;66;03m# ValueError can occur when resizing a window.\u001b[39;00m\n\u001b[32m   3256\u001b[39m     \u001b[38;5;28mself\u001b[39m.patch.draw(renderer)\n\u001b[32m-> \u001b[39m\u001b[32m3257\u001b[39m     \u001b[43mmimage\u001b[49m\u001b[43m.\u001b[49m\u001b[43m_draw_list_compositing_images\u001b[49m\u001b[43m(\u001b[49m\n\u001b[32m   3258\u001b[39m \u001b[43m        \u001b[49m\u001b[43mrenderer\u001b[49m\u001b[43m,\u001b[49m\u001b[43m \u001b[49m\u001b[38;5;28;43mself\u001b[39;49m\u001b[43m,\u001b[49m\u001b[43m \u001b[49m\u001b[43martists\u001b[49m\u001b[43m,\u001b[49m\u001b[43m \u001b[49m\u001b[38;5;28;43mself\u001b[39;49m\u001b[43m.\u001b[49m\u001b[43msuppressComposite\u001b[49m\u001b[43m)\u001b[49m\n\u001b[32m   3260\u001b[39m     renderer.close_group(\u001b[33m'\u001b[39m\u001b[33mfigure\u001b[39m\u001b[33m'\u001b[39m)\n\u001b[32m   3261\u001b[39m \u001b[38;5;28;01mfinally\u001b[39;00m:\n",
      "\u001b[36mFile \u001b[39m\u001b[32m~/Documents/bluebrainStuff/bbpEnv/lib/python3.11/site-packages/matplotlib/image.py:134\u001b[39m, in \u001b[36m_draw_list_compositing_images\u001b[39m\u001b[34m(renderer, parent, artists, suppress_composite)\u001b[39m\n\u001b[32m    132\u001b[39m \u001b[38;5;28;01mif\u001b[39;00m not_composite \u001b[38;5;129;01mor\u001b[39;00m \u001b[38;5;129;01mnot\u001b[39;00m has_images:\n\u001b[32m    133\u001b[39m     \u001b[38;5;28;01mfor\u001b[39;00m a \u001b[38;5;129;01min\u001b[39;00m artists:\n\u001b[32m--> \u001b[39m\u001b[32m134\u001b[39m         \u001b[43ma\u001b[49m\u001b[43m.\u001b[49m\u001b[43mdraw\u001b[49m\u001b[43m(\u001b[49m\u001b[43mrenderer\u001b[49m\u001b[43m)\u001b[49m\n\u001b[32m    135\u001b[39m \u001b[38;5;28;01melse\u001b[39;00m:\n\u001b[32m    136\u001b[39m     \u001b[38;5;66;03m# Composite any adjacent images together\u001b[39;00m\n\u001b[32m    137\u001b[39m     image_group = []\n",
      "\u001b[36mFile \u001b[39m\u001b[32m~/Documents/bluebrainStuff/bbpEnv/lib/python3.11/site-packages/matplotlib/artist.py:71\u001b[39m, in \u001b[36mallow_rasterization.<locals>.draw_wrapper\u001b[39m\u001b[34m(artist, renderer)\u001b[39m\n\u001b[32m     68\u001b[39m     \u001b[38;5;28;01mif\u001b[39;00m artist.get_agg_filter() \u001b[38;5;129;01mis\u001b[39;00m \u001b[38;5;129;01mnot\u001b[39;00m \u001b[38;5;28;01mNone\u001b[39;00m:\n\u001b[32m     69\u001b[39m         renderer.start_filter()\n\u001b[32m---> \u001b[39m\u001b[32m71\u001b[39m     \u001b[38;5;28;01mreturn\u001b[39;00m \u001b[43mdraw\u001b[49m\u001b[43m(\u001b[49m\u001b[43martist\u001b[49m\u001b[43m,\u001b[49m\u001b[43m \u001b[49m\u001b[43mrenderer\u001b[49m\u001b[43m)\u001b[49m\n\u001b[32m     72\u001b[39m \u001b[38;5;28;01mfinally\u001b[39;00m:\n\u001b[32m     73\u001b[39m     \u001b[38;5;28;01mif\u001b[39;00m artist.get_agg_filter() \u001b[38;5;129;01mis\u001b[39;00m \u001b[38;5;129;01mnot\u001b[39;00m \u001b[38;5;28;01mNone\u001b[39;00m:\n",
      "\u001b[36mFile \u001b[39m\u001b[32m~/Documents/bluebrainStuff/bbpEnv/lib/python3.11/site-packages/matplotlib/axes/_base.py:3226\u001b[39m, in \u001b[36m_AxesBase.draw\u001b[39m\u001b[34m(self, renderer)\u001b[39m\n\u001b[32m   3223\u001b[39m \u001b[38;5;28;01mif\u001b[39;00m artists_rasterized:\n\u001b[32m   3224\u001b[39m     _draw_rasterized(\u001b[38;5;28mself\u001b[39m.get_figure(root=\u001b[38;5;28;01mTrue\u001b[39;00m), artists_rasterized, renderer)\n\u001b[32m-> \u001b[39m\u001b[32m3226\u001b[39m \u001b[43mmimage\u001b[49m\u001b[43m.\u001b[49m\u001b[43m_draw_list_compositing_images\u001b[49m\u001b[43m(\u001b[49m\n\u001b[32m   3227\u001b[39m \u001b[43m    \u001b[49m\u001b[43mrenderer\u001b[49m\u001b[43m,\u001b[49m\u001b[43m \u001b[49m\u001b[38;5;28;43mself\u001b[39;49m\u001b[43m,\u001b[49m\u001b[43m \u001b[49m\u001b[43martists\u001b[49m\u001b[43m,\u001b[49m\u001b[43m \u001b[49m\u001b[38;5;28;43mself\u001b[39;49m\u001b[43m.\u001b[49m\u001b[43mget_figure\u001b[49m\u001b[43m(\u001b[49m\u001b[43mroot\u001b[49m\u001b[43m=\u001b[49m\u001b[38;5;28;43;01mTrue\u001b[39;49;00m\u001b[43m)\u001b[49m\u001b[43m.\u001b[49m\u001b[43msuppressComposite\u001b[49m\u001b[43m)\u001b[49m\n\u001b[32m   3229\u001b[39m renderer.close_group(\u001b[33m'\u001b[39m\u001b[33maxes\u001b[39m\u001b[33m'\u001b[39m)\n\u001b[32m   3230\u001b[39m \u001b[38;5;28mself\u001b[39m.stale = \u001b[38;5;28;01mFalse\u001b[39;00m\n",
      "\u001b[36mFile \u001b[39m\u001b[32m~/Documents/bluebrainStuff/bbpEnv/lib/python3.11/site-packages/matplotlib/image.py:134\u001b[39m, in \u001b[36m_draw_list_compositing_images\u001b[39m\u001b[34m(renderer, parent, artists, suppress_composite)\u001b[39m\n\u001b[32m    132\u001b[39m \u001b[38;5;28;01mif\u001b[39;00m not_composite \u001b[38;5;129;01mor\u001b[39;00m \u001b[38;5;129;01mnot\u001b[39;00m has_images:\n\u001b[32m    133\u001b[39m     \u001b[38;5;28;01mfor\u001b[39;00m a \u001b[38;5;129;01min\u001b[39;00m artists:\n\u001b[32m--> \u001b[39m\u001b[32m134\u001b[39m         \u001b[43ma\u001b[49m\u001b[43m.\u001b[49m\u001b[43mdraw\u001b[49m\u001b[43m(\u001b[49m\u001b[43mrenderer\u001b[49m\u001b[43m)\u001b[49m\n\u001b[32m    135\u001b[39m \u001b[38;5;28;01melse\u001b[39;00m:\n\u001b[32m    136\u001b[39m     \u001b[38;5;66;03m# Composite any adjacent images together\u001b[39;00m\n\u001b[32m    137\u001b[39m     image_group = []\n",
      "\u001b[36mFile \u001b[39m\u001b[32m~/Documents/bluebrainStuff/bbpEnv/lib/python3.11/site-packages/matplotlib/artist.py:71\u001b[39m, in \u001b[36mallow_rasterization.<locals>.draw_wrapper\u001b[39m\u001b[34m(artist, renderer)\u001b[39m\n\u001b[32m     68\u001b[39m     \u001b[38;5;28;01mif\u001b[39;00m artist.get_agg_filter() \u001b[38;5;129;01mis\u001b[39;00m \u001b[38;5;129;01mnot\u001b[39;00m \u001b[38;5;28;01mNone\u001b[39;00m:\n\u001b[32m     69\u001b[39m         renderer.start_filter()\n\u001b[32m---> \u001b[39m\u001b[32m71\u001b[39m     \u001b[38;5;28;01mreturn\u001b[39;00m \u001b[43mdraw\u001b[49m\u001b[43m(\u001b[49m\u001b[43martist\u001b[49m\u001b[43m,\u001b[49m\u001b[43m \u001b[49m\u001b[43mrenderer\u001b[49m\u001b[43m)\u001b[49m\n\u001b[32m     72\u001b[39m \u001b[38;5;28;01mfinally\u001b[39;00m:\n\u001b[32m     73\u001b[39m     \u001b[38;5;28;01mif\u001b[39;00m artist.get_agg_filter() \u001b[38;5;129;01mis\u001b[39;00m \u001b[38;5;129;01mnot\u001b[39;00m \u001b[38;5;28;01mNone\u001b[39;00m:\n",
      "\u001b[36mFile \u001b[39m\u001b[32m~/Documents/bluebrainStuff/bbpEnv/lib/python3.11/site-packages/matplotlib/lines.py:887\u001b[39m, in \u001b[36mLine2D.draw\u001b[39m\u001b[34m(self, renderer)\u001b[39m\n\u001b[32m    884\u001b[39m \u001b[38;5;28;01melse\u001b[39;00m:\n\u001b[32m    885\u001b[39m     \u001b[38;5;66;03m# Don't scale for pixels, and don't stroke them\u001b[39;00m\n\u001b[32m    886\u001b[39m     marker_trans = marker_trans.scale(w)\n\u001b[32m--> \u001b[39m\u001b[32m887\u001b[39m \u001b[43mrenderer\u001b[49m\u001b[43m.\u001b[49m\u001b[43mdraw_markers\u001b[49m\u001b[43m(\u001b[49m\u001b[43mgc\u001b[49m\u001b[43m,\u001b[49m\u001b[43m \u001b[49m\u001b[43mmarker_path\u001b[49m\u001b[43m,\u001b[49m\u001b[43m \u001b[49m\u001b[43mmarker_trans\u001b[49m\u001b[43m,\u001b[49m\n\u001b[32m    888\u001b[39m \u001b[43m                      \u001b[49m\u001b[43msubsampled\u001b[49m\u001b[43m,\u001b[49m\u001b[43m \u001b[49m\u001b[43maffine\u001b[49m\u001b[43m.\u001b[49m\u001b[43mfrozen\u001b[49m\u001b[43m(\u001b[49m\u001b[43m)\u001b[49m\u001b[43m,\u001b[49m\n\u001b[32m    889\u001b[39m \u001b[43m                      \u001b[49m\u001b[43mfc_rgba\u001b[49m\u001b[43m)\u001b[49m\n\u001b[32m    891\u001b[39m alt_marker_path = marker.get_alt_path()\n\u001b[32m    892\u001b[39m \u001b[38;5;28;01mif\u001b[39;00m alt_marker_path:\n",
      "\u001b[31mKeyboardInterrupt\u001b[39m: "
     ]
    }
   ],
   "source": [
    "plt.figure(figsize=(2,2))\n",
    "ax = plt.gca()\n",
    "plt.plot(scaleFacFlat,scaleFacPointFlat,'o')\n",
    "plt.plot([0,6e-5],[0,6e-5],'k')\n",
    "\n",
    "ax.legend(\"\", frameon=False)\n",
    "ax.spines[\"bottom\"].set_position((\"axes\", -0.05))\n",
    "ax.yaxis.set_ticks_position(\"left\")\n",
    "ax.spines[\"left\"].set_position((\"axes\", -0.05))\n",
    "ax.set_xlabel('Sensitivity for\\n5 $\\mu$m electrodes (V/nA)')\n",
    "ax.set_ylabel('Sensitivity for\\ninfinitesimal electrodes (V/nA)')\n",
    "\n",
    "plt.tight_layout()\n",
    "\n",
    "plt.savefig('sensitivity_scatter_plot.png',dpi=600)"
   ]
  },
  {
   "cell_type": "code",
   "execution_count": 39,
   "metadata": {},
   "outputs": [],
   "source": [
    "from scipy.stats import linregress\n",
    "reg = linregress(scaleFacFlat,scaleFacPointFlat)"
   ]
  },
  {
   "cell_type": "code",
   "execution_count": 40,
   "metadata": {},
   "outputs": [
    {
     "data": {
      "text/plain": [
       "LinregressResult(slope=1.0158702173438134, intercept=-6.922534510260422e-09, rvalue=0.9936400811589363, pvalue=0.0, stderr=3.426833179848138e-05, intercept_stderr=2.7081976859758525e-11)"
      ]
     },
     "execution_count": 40,
     "metadata": {},
     "output_type": "execute_result"
    }
   ],
   "source": [
    "reg"
   ]
  },
  {
   "cell_type": "code",
   "execution_count": 41,
   "metadata": {},
   "outputs": [],
   "source": [
    "diffs = (scaleFacFlat-scaleFacPointFlat)"
   ]
  },
  {
   "cell_type": "code",
   "execution_count": 42,
   "metadata": {},
   "outputs": [],
   "source": [
    "maxima = []\n",
    "for s in scaleFac:\n",
    "    maxima.append(np.max(s))\n",
    "maxima = np.array(maxima)\n",
    "meanMax = np.mean(maxima)"
   ]
  },
  {
   "cell_type": "code",
   "execution_count": 46,
   "metadata": {},
   "outputs": [
    {
     "data": {
      "application/vnd.jupyter.widget-view+json": {
       "model_id": "a6f051e8bd44471c84d60fc238a16704",
       "version_major": 2,
       "version_minor": 0
      },
      "image/png": "[encoded data removed]",
      "text/html": [
       "\n",
       "            <div style=\"display: inline-block;\">\n",
       "                <div class=\"jupyter-widgets widget-label\" style=\"text-align: center;\">\n",
       "                    Figure\n",
       "                </div>\n",
       "                <img src='data:image/png;base64,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' width=200.0/>\n",
       "            </div>\n",
       "        "
      ],
      "text/plain": [
       "Canvas(toolbar=Toolbar(toolitems=[('Home', 'Reset original view', 'home', 'home'), ('Back', 'Back to previous …"
      ]
     },
     "metadata": {},
     "output_type": "display_data"
    }
   ],
   "source": [
    "h, b = np.histogram(np.abs(diffs/meanMax),bins=100000)\n",
    "plt.figure(figsize=(2,2))\n",
    "ax = plt.gca()\n",
    "\n",
    "plt.plot(b[1:]*1e2,np.cumsum(h)/np.sum(h)*100)\n",
    "\n",
    "ax.legend(\"\", frameon=False)\n",
    "ax.spines[\"bottom\"].set_position((\"axes\", -0.05))\n",
    "ax.yaxis.set_ticks_position(\"left\")\n",
    "ax.spines[\"left\"].set_position((\"axes\", -0.05))\n",
    "ax.set_xlabel('Percent difference relative\\nto average within-neuron range')\n",
    "ax.set_ylabel('Percentage of compartments')\n",
    "\n",
    "plt.xlim([0,1])\n",
    "plt.tight_layout()\n",
    "\n",
    "plt.savefig('cumulative_histogram.png',dpi=600)"
   ]
  },
  {
   "cell_type": "code",
   "execution_count": null,
   "metadata": {},
   "outputs": [],
   "source": []
  }
 ],
 "metadata": {
  "kernelspec": {
   "display_name": "Python 3 (ipykernel)",
   "language": "python",
   "name": "python3"
  },
  "language_info": {
   "codemirror_mode": {
    "name": "ipython",
    "version": 3
   },
   "file_extension": ".py",
   "mimetype": "text/x-python",
   "name": "python",
   "nbconvert_exporter": "python",
   "pygments_lexer": "ipython3",
   "version": "3.11.6"
  }
 },
 "nbformat": 4,
 "nbformat_minor": 4
}
