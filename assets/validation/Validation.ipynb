{
 "cells": [
  {
   "cell_type": "code",
   "execution_count": 1,
   "metadata": {},
   "outputs": [],
   "source": [
    "# SPDX-License-Identifier: GPL-3.0-or-later"
   ]
  },
  {
   "cell_type": "markdown",
   "metadata": {},
   "source": [
    "## In this notebook we test the effects of some assumptions in the electrostatic forward model"
   ]
  },
  {
   "cell_type": "code",
   "execution_count": 1,
   "metadata": {},
   "outputs": [],
   "source": [
    "%matplotlib widget"
   ]
  },
  {
   "cell_type": "code",
   "execution_count": 3,
   "metadata": {},
   "outputs": [],
   "source": [
    "import numpy as np\n",
    "import pandas as pd\n",
    "import os\n",
    "from scipy.stats import linregress\n",
    "\n",
    "from matplotlib import pyplot as plt;\n",
    "plt.rcParams[\"font.family\"] = \"Arial\"\n",
    "plt.rcParams[\"font.size\"] = 6\n",
    "plt.rcParams[\"lines.linewidth\"] = 0.5\n",
    "plt.rcParams[\"axes.linewidth\"] = 0.5\n",
    "plt.rcParams[\"axes.spines.top\"] = False\n",
    "plt.rcParams[\"xtick.major.width\"] = 0.5 \n",
    "plt.rcParams[\"xtick.minor.width\"] = 0.5 \n",
    "plt.rcParams[\"ytick.major.width\"] = 0.5 \n",
    "plt.rcParams[\"ytick.minor.width\"] = 0.5\n",
    "plt.rcParams[\"xtick.major.size\"] = 3.5 * 1.1\n",
    "plt.rcParams[\"xtick.minor.size\"] = 2 * 1.1\n",
    "plt.rcParams[\"ytick.major.size\"] = 3.5 * 1.1\n",
    "plt.rcParams[\"ytick.minor.size\"] = 2 * 1.1\n",
    "\n",
    "\n",
    "import conntility\n"
   ]
  },
  {
   "cell_type": "code",
   "execution_count": 4,
   "metadata": {},
   "outputs": [],
   "source": [
    "savefig_cfg = {\"transparent\":True, \"dpi\": 300}\n",
    "legend_cfg = {\"frameon\": False, \"handletextpad\": 0.1}\n",
    "tight_layout_cfg = {\"pad\": 0.5}"
   ]
  },
  {
   "cell_type": "markdown",
   "metadata": {},
   "source": [
    "## First, we check the number of somas that are within 10 $\\mu$m of a neuropixels contact\n",
    "### This shows that the assumption that somas are infinitesimal points have a limited impact on the results"
   ]
  },
  {
   "cell_type": "code",
   "execution_count": 5,
   "metadata": {},
   "outputs": [],
   "source": [
    "import bluepysnap as bp\n",
    "path_to_simulation = '/home/joseph-tharayil/Documents/bluebrainStuff/csd_paper/electrodes/'\n",
    "s = bp.Simulation(path_to_simulation+'simulation_config.json') # Loads simulation object\n",
    "population_name = 'S1nonbarrel_neurons'\n"
   ]
  },
  {
   "cell_type": "code",
   "execution_count": 6,
   "metadata": {},
   "outputs": [],
   "source": [
    "c = s.circuit"
   ]
  },
  {
   "cell_type": "code",
   "execution_count": 7,
   "metadata": {},
   "outputs": [],
   "source": [
    "hex0Ids = c.nodes.ids('hex0').get_ids()"
   ]
  },
  {
   "cell_type": "code",
   "execution_count": 8,
   "metadata": {},
   "outputs": [],
   "source": [
    "n = c.nodes['S1nonbarrel_neurons']"
   ]
  },
  {
   "cell_type": "code",
   "execution_count": 9,
   "metadata": {},
   "outputs": [],
   "source": [
    "somaLocs = n.get(hex0Ids,properties=['x','y','z'])"
   ]
  },
  {
   "cell_type": "code",
   "execution_count": 10,
   "metadata": {},
   "outputs": [],
   "source": [
    "neuropixelsLocs = pd.read_csv('~/Downloads/electrode_csv.csv').iloc[:,1:4]"
   ]
  },
  {
   "cell_type": "code",
   "execution_count": 11,
   "metadata": {},
   "outputs": [],
   "source": [
    "distances = []\n",
    "for s in np.array(somaLocs):\n",
    "    distances.append(np.linalg.norm(s-neuropixelsLocs,axis=1))\n",
    "distances = np.array(distances)"
   ]
  },
  {
   "cell_type": "code",
   "execution_count": 12,
   "metadata": {},
   "outputs": [
    {
     "data": {
      "text/plain": [
       "87"
      ]
     },
     "execution_count": 12,
     "metadata": {},
     "output_type": "execute_result"
    }
   ],
   "source": [
    "np.sum(np.any(distances<10,axis=1))"
   ]
  },
  {
   "cell_type": "markdown",
   "metadata": {},
   "source": [
    "### Next, we compare the weights obtained with infinitesimal electrodes with those calculated with a minimum 6 $\\mu$m distance between the neural segment and the electrode"
   ]
  },
  {
   "cell_type": "code",
   "execution_count": 13,
   "metadata": {},
   "outputs": [],
   "source": [
    "import h5py"
   ]
  },
  {
   "cell_type": "code",
   "execution_count": 14,
   "metadata": {},
   "outputs": [],
   "source": [
    "# Loads the weights file\n",
    "coeffsFile = 'lfp_fullNeuropixels.h5'\n",
    "\n",
    "coeffs = h5py.File(coeffsFile)\n",
    "\n",
    "coeffsFileC = 'lfp_fullNeuropixels_finite.h5'\n",
    "\n",
    "coeffs_finite = h5py.File(coeffsFileC)\n"
   ]
  },
  {
   "cell_type": "code",
   "execution_count": 15,
   "metadata": {},
   "outputs": [],
   "source": [
    "allValues = coeffs['electrodes']['S1nonbarrel_neurons']['scaling_factors'][:][:,:-1]\n",
    "allValuesFinite = coeffs_finite['electrodes']['S1nonbarrel_neurons']['scaling_factors'][:][:,:-1]\n"
   ]
  },
  {
   "cell_type": "code",
   "execution_count": 16,
   "metadata": {},
   "outputs": [],
   "source": [
    "diffs = allValues - allValuesFinite"
   ]
  },
  {
   "cell_type": "code",
   "execution_count": 2,
   "metadata": {},
   "outputs": [
    {
     "ename": "NameError",
     "evalue": "name 'diffs' is not defined",
     "output_type": "error",
     "traceback": [
      "\u001b[31m---------------------------------------------------------------------------\u001b[39m",
      "\u001b[31mNameError\u001b[39m                                 Traceback (most recent call last)",
      "\u001b[36mCell\u001b[39m\u001b[36m \u001b[39m\u001b[32mIn[2]\u001b[39m\u001b[32m, line 1\u001b[39m\n\u001b[32m----> \u001b[39m\u001b[32m1\u001b[39m segmentsWithinSphere = (\u001b[43mdiffs\u001b[49m!=\u001b[32m0\u001b[39m).astype(\u001b[38;5;28mint\u001b[39m) \u001b[38;5;66;03m# Segments within a spherical electrode will have a different coefficient under the assumption that electrodes are infinitesimal\u001b[39;00m\n",
      "\u001b[31mNameError\u001b[39m: name 'diffs' is not defined"
     ]
    }
   ],
   "source": [
    "segmentsWithinSphere = (diffs!=0).astype(int) # Segments within a spherical electrode will have a different coefficient under the assumption that electrodes are infinitesimal\n"
   ]
  },
  {
   "cell_type": "code",
   "execution_count": 18,
   "metadata": {},
   "outputs": [],
   "source": [
    "segmentsOutsideSphere = np.ones_like(segmentsWithinSphere)-segmentsWithinSphere # In contrast, segments outside of the spheres will have the same coefficient under the assumption that electrodes are infinitesimal \n"
   ]
  },
  {
   "cell_type": "code",
   "execution_count": 19,
   "metadata": {},
   "outputs": [],
   "source": [
    "diffIdx = np.where(diffs != 0)"
   ]
  },
  {
   "cell_type": "code",
   "execution_count": 20,
   "metadata": {},
   "outputs": [],
   "source": [
    "# In this cell, we find the IDs of neurons which have at least one segment within a spherical electrode\n",
    "gidsWithinSpheres = []\n",
    "offsets = coeffs['S1nonbarrel_neurons']['offsets'][:]\n",
    "for idx in diffIdx[0]:\n",
    "    gid = np.where(idx>offsets)[0][-1]\n",
    "    gidsWithinSpheres.append(gid)"
   ]
  },
  {
   "cell_type": "code",
   "execution_count": 27,
   "metadata": {},
   "outputs": [],
   "source": []
  },
  {
   "cell_type": "code",
   "execution_count": 32,
   "metadata": {},
   "outputs": [
    {
     "name": "stdout",
     "output_type": "stream",
     "text": [
      "180725\n",
      "[28]\n"
     ]
    }
   ],
   "source": [
    "# Here, we iterate through the segments within spheres, and find the segment with the smallest distance to the electrode that is part of a cell that spikes within the first two seconds of the simulation\n",
    "\n",
    "spikes = np.genfromtxt('out.dat',skip_header=1)\n",
    "spikingGids = spikes[:,1]\n",
    "\n",
    "offsets = coeffs['S1nonbarrel_neurons']['offsets'][:]\n",
    "sortedDiffs = np.sort(np.abs(diffs.flatten()))\n",
    "for i in np.arange(1,1000):\n",
    "    segIdx = np.where(np.abs(diffs)==sortedDiffs[-i])[0]\n",
    "    offsetIdx = np.min(np.where(offsets>segIdx))\n",
    "    gid = coeffs['S1nonbarrel_neurons']['node_ids'][offsetIdx]\n",
    "    if gid in spikingGids:\n",
    "        print(gid)\n",
    "        print(np.where(np.abs(diffs)==sortedDiffs[-i])[1])\n",
    "        break"
   ]
  },
  {
   "cell_type": "code",
   "execution_count": 21,
   "metadata": {},
   "outputs": [
    {
     "data": {
      "text/plain": [
       "4.222574924772946e-05"
      ]
     },
     "execution_count": 21,
     "metadata": {},
     "output_type": "execute_result"
    }
   ],
   "source": [
    "np.sort(np.abs(diffs.flatten()))[-i] # This is the difference in the coefficient between the finite and infinitesimal electrode, for the selected gid"
   ]
  },
  {
   "cell_type": "code",
   "execution_count": 22,
   "metadata": {},
   "outputs": [
    {
     "data": {
      "text/plain": [
       "407140066"
      ]
     },
     "execution_count": 22,
     "metadata": {},
     "output_type": "execute_result"
    }
   ],
   "source": [
    "coeffIdx = np.argsort(np.abs(diffs.flatten()))[-209] #"
   ]
  },
  {
   "cell_type": "code",
   "execution_count": 23,
   "metadata": {},
   "outputs": [
    {
     "data": {
      "text/plain": [
       "9.01062977109952e-05"
      ]
     },
     "execution_count": 23,
     "metadata": {},
     "output_type": "execute_result"
    }
   ],
   "source": [
    "coeffInfinitesimal = allValues.flatten()[coeffIdx]"
   ]
  },
  {
   "cell_type": "code",
   "execution_count": 24,
   "metadata": {},
   "outputs": [
    {
     "data": {
      "text/plain": [
       "3188.2709430701507"
      ]
     },
     "execution_count": 24,
     "metadata": {},
     "output_type": "execute_result"
    }
   ],
   "source": [
    "distance = 1/(coeffInfinitesimal * 4 *np.pi * 0.277)*1e-3 # Distance between the segment and the electrode, in um"
   ]
  },
  {
   "cell_type": "code",
   "execution_count": 38,
   "metadata": {},
   "outputs": [
    {
     "name": "stdout",
     "output_type": "stream",
     "text": [
      "0.6867981119867946\n"
     ]
    }
   ],
   "source": [
    "minDistanceInModel = 1/(4*np.pi*.277*np.max(allValues[diffIdx])) * 1e-3\n",
    "print(minDistanceInModel) # Minimum segment-electrode distance, in um"
   ]
  },
  {
   "cell_type": "code",
   "execution_count": 28,
   "metadata": {},
   "outputs": [
    {
     "data": {
      "text/plain": [
       "4.11764705882353"
      ]
     },
     "execution_count": 28,
     "metadata": {},
     "output_type": "execute_result"
    }
   ],
   "source": [
    "distanceRatio = distance / minDistanceInModel"
   ]
  },
  {
   "cell_type": "code",
   "execution_count": 29,
   "metadata": {},
   "outputs": [],
   "source": []
  }
 ],
 "metadata": {
  "kernelspec": {
   "display_name": "Python 3 (ipykernel)",
   "language": "python",
   "name": "python3"
  },
  "language_info": {
   "codemirror_mode": {
    "name": "ipython",
    "version": 3
   },
   "file_extension": ".py",
   "mimetype": "text/x-python",
   "name": "python",
   "nbconvert_exporter": "python",
   "pygments_lexer": "ipython3",
   "version": "3.11.6"
  }
 },
 "nbformat": 4,
 "nbformat_minor": 4
}
