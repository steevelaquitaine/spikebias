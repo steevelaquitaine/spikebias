{
 "cells": [
  {
   "cell_type": "code",
   "execution_count": 1,
   "metadata": {},
   "outputs": [],
   "source": [
    "# SPDX-License-Identifier: GPL-3.0-or-later"
   ]
  },
  {
   "cell_type": "code",
   "execution_count": 2,
   "metadata": {},
   "outputs": [],
   "source": [
    "%matplotlib widget"
   ]
  },
  {
   "cell_type": "code",
   "execution_count": 3,
   "metadata": {},
   "outputs": [],
   "source": [
    "import numpy as np\n",
    "import pandas as pd\n",
    "import os\n",
    "from scipy.stats import linregress\n",
    "\n",
    "from matplotlib import pyplot as plt;\n",
    "plt.rcParams[\"font.family\"] = \"Arial\"\n",
    "plt.rcParams[\"font.size\"] = 6\n",
    "plt.rcParams[\"lines.linewidth\"] = 0.5\n",
    "plt.rcParams[\"axes.linewidth\"] = 0.5\n",
    "plt.rcParams[\"axes.spines.top\"] = False\n",
    "plt.rcParams[\"xtick.major.width\"] = 0.5 \n",
    "plt.rcParams[\"xtick.minor.width\"] = 0.5 \n",
    "plt.rcParams[\"ytick.major.width\"] = 0.5 \n",
    "plt.rcParams[\"ytick.minor.width\"] = 0.5\n",
    "plt.rcParams[\"xtick.major.size\"] = 3.5 * 1.1\n",
    "plt.rcParams[\"xtick.minor.size\"] = 2 * 1.1\n",
    "plt.rcParams[\"ytick.major.size\"] = 3.5 * 1.1\n",
    "plt.rcParams[\"ytick.minor.size\"] = 2 * 1.1\n",
    "\n",
    "\n",
    "import conntility\n"
   ]
  },
  {
   "cell_type": "code",
   "execution_count": 4,
   "metadata": {},
   "outputs": [],
   "source": [
    "savefig_cfg = {\"transparent\":True, \"dpi\": 300}\n",
    "legend_cfg = {\"frameon\": False, \"handletextpad\": 0.1}\n",
    "tight_layout_cfg = {\"pad\": 0.5}"
   ]
  },
  {
   "cell_type": "markdown",
   "metadata": {},
   "source": [
    "## First, we check the number of somas that are within 10 $\\mu$m of a neuropixels contact\n",
    "### This shows that the assumption that somas are infinitesimal points have a limited impact on the results"
   ]
  },
  {
   "cell_type": "code",
   "execution_count": 5,
   "metadata": {},
   "outputs": [],
   "source": [
    "import bluepysnap as bp\n",
    "path_to_simulation = '/home/joseph-tharayil/Documents/bluebrainStuff/csd_paper/electrodes/'\n",
    "s = bp.Simulation(path_to_simulation+'simulation_config.json') # Loads simulation object\n",
    "population_name = 'S1nonbarrel_neurons'\n"
   ]
  },
  {
   "cell_type": "code",
   "execution_count": 6,
   "metadata": {},
   "outputs": [],
   "source": [
    "c = s.circuit"
   ]
  },
  {
   "cell_type": "code",
   "execution_count": 7,
   "metadata": {},
   "outputs": [],
   "source": [
    "hex0Ids = c.nodes.ids('hex0').get_ids()"
   ]
  },
  {
   "cell_type": "code",
   "execution_count": 8,
   "metadata": {},
   "outputs": [],
   "source": [
    "n = c.nodes['S1nonbarrel_neurons']"
   ]
  },
  {
   "cell_type": "code",
   "execution_count": 9,
   "metadata": {},
   "outputs": [],
   "source": [
    "somaLocs = n.get(hex0Ids,properties=['x','y','z'])"
   ]
  },
  {
   "cell_type": "code",
   "execution_count": 10,
   "metadata": {},
   "outputs": [],
   "source": [
    "neuropixelsLocs = pd.read_csv('~/Downloads/electrode_csv.csv').iloc[:,1:4]"
   ]
  },
  {
   "cell_type": "code",
   "execution_count": 11,
   "metadata": {},
   "outputs": [],
   "source": [
    "distances = []\n",
    "for s in np.array(somaLocs):\n",
    "    distances.append(np.linalg.norm(s-neuropixelsLocs,axis=1))\n",
    "distances = np.array(distances)"
   ]
  },
  {
   "cell_type": "code",
   "execution_count": 12,
   "metadata": {},
   "outputs": [
    {
     "data": {
      "text/plain": [
       "87"
      ]
     },
     "execution_count": 12,
     "metadata": {},
     "output_type": "execute_result"
    }
   ],
   "source": [
    "np.sum(np.any(distances<10,axis=1))"
   ]
  },
  {
   "cell_type": "markdown",
   "metadata": {},
   "source": [
    "## Next, we check the impact of the assumption that electrode contacts are inifitesimal\n",
    "### We do this by comparing the weights obtained with infinitesimal electrodes with those calculated with a minimum 6 $\\mu$m distance between the neural segment and the electrode"
   ]
  },
  {
   "cell_type": "code",
   "execution_count": 13,
   "metadata": {},
   "outputs": [],
   "source": [
    "import h5py"
   ]
  },
  {
   "cell_type": "code",
   "execution_count": 14,
   "metadata": {},
   "outputs": [],
   "source": [
    "# Loads the weights file\n",
    "coeffsFile = 'lfp_fullNeuropixels.h5'\n",
    "\n",
    "coeffs = h5py.File(coeffsFile)\n",
    "\n",
    "coeffsFileC = 'lfp_fullNeuropixels_finite.h5'\n",
    "\n",
    "coeffs_finite = h5py.File(coeffsFileC)\n"
   ]
  },
  {
   "cell_type": "code",
   "execution_count": 15,
   "metadata": {},
   "outputs": [],
   "source": [
    "allValues = coeffs['electrodes']['S1nonbarrel_neurons']['scaling_factors'][:][:,:-1]\n",
    "allValuesFinite = coeffs_finite['electrodes']['S1nonbarrel_neurons']['scaling_factors'][:][:,:-1]\n"
   ]
  },
  {
   "cell_type": "code",
   "execution_count": 16,
   "metadata": {},
   "outputs": [],
   "source": [
    "diffs = allValues - allValuesFinite"
   ]
  },
  {
   "cell_type": "code",
   "execution_count": 17,
   "metadata": {},
   "outputs": [],
   "source": [
    "segmentsWithinSphere = (diffs!=0).astype(int)"
   ]
  },
  {
   "cell_type": "code",
   "execution_count": 18,
   "metadata": {},
   "outputs": [],
   "source": [
    "segmentsOutsideSphere = np.ones_like(segmentsWithinSphere)-segmentsWithinSphere"
   ]
  },
  {
   "cell_type": "code",
   "execution_count": 19,
   "metadata": {},
   "outputs": [],
   "source": [
    "diffIdx = np.where(diffs != 0)"
   ]
  },
  {
   "cell_type": "code",
   "execution_count": 20,
   "metadata": {},
   "outputs": [],
   "source": [
    "gidsWithinSpheres = []\n",
    "offsets = coeffs['S1nonbarrel_neurons']['offsets'][:]\n",
    "for idx in diffIdx[0]:\n",
    "    gid = np.where(idx>offsets)[0][-1]\n",
    "    gidsWithinSpheres.append(gid)"
   ]
  },
  {
   "cell_type": "code",
   "execution_count": 21,
   "metadata": {},
   "outputs": [
    {
     "data": {
      "text/plain": [
       "array([0.        , 0.        , 0.        , ..., 0.0003097 , 0.00035882,\n",
       "       0.00037041])"
      ]
     },
     "execution_count": 21,
     "metadata": {},
     "output_type": "execute_result"
    }
   ],
   "source": [
    "np.sort(np.abs(diffs.flatten()))"
   ]
  },
  {
   "cell_type": "code",
   "execution_count": 27,
   "metadata": {},
   "outputs": [],
   "source": [
    "spikes = np.genfromtxt('out.dat',skip_header=1)"
   ]
  },
  {
   "cell_type": "code",
   "execution_count": 29,
   "metadata": {},
   "outputs": [],
   "source": [
    "spikingGids = spikes[:,1]"
   ]
  },
  {
   "cell_type": "code",
   "execution_count": 32,
   "metadata": {},
   "outputs": [
    {
     "name": "stdout",
     "output_type": "stream",
     "text": [
      "180725\n",
      "[28]\n"
     ]
    }
   ],
   "source": [
    "offsets = coeffs['S1nonbarrel_neurons']['offsets'][:]\n",
    "sortedDiffs = np.sort(np.abs(diffs.flatten()))\n",
    "for i in np.arange(1,1000):\n",
    "    segIdx = np.where(np.abs(diffs)==sortedDiffs[-i])[0]\n",
    "    offsetIdx = np.min(np.where(offsets>segIdx))\n",
    "    gid = coeffs['S1nonbarrel_neurons']['node_ids'][offsetIdx]\n",
    "    if gid in spikingGids:\n",
    "        print(gid)\n",
    "        print(np.where(np.abs(diffs)==sortedDiffs[-i])[1])\n",
    "        break"
   ]
  },
  {
   "cell_type": "code",
   "execution_count": 33,
   "metadata": {},
   "outputs": [
    {
     "data": {
      "text/plain": [
       "209"
      ]
     },
     "execution_count": 33,
     "metadata": {},
     "output_type": "execute_result"
    }
   ],
   "source": [
    "i"
   ]
  },
  {
   "cell_type": "code",
   "execution_count": 21,
   "metadata": {},
   "outputs": [
    {
     "data": {
      "text/plain": [
       "(4009399, 15)"
      ]
     },
     "execution_count": 21,
     "metadata": {},
     "output_type": "execute_result"
    }
   ],
   "source": [
    "np.unravel_index(np.argmax(np.abs(diffs)),np.shape(diffs))"
   ]
  },
  {
   "cell_type": "code",
   "execution_count": 55,
   "metadata": {},
   "outputs": [],
   "source": [
    "segmentIdx = 6097944"
   ]
  },
  {
   "cell_type": "code",
   "execution_count": 56,
   "metadata": {},
   "outputs": [],
   "source": []
  },
  {
   "cell_type": "code",
   "execution_count": 57,
   "metadata": {},
   "outputs": [],
   "source": [
    "offsetIdx = np.min(np.where(offsets>segmentIdx))"
   ]
  },
  {
   "cell_type": "code",
   "execution_count": 58,
   "metadata": {},
   "outputs": [],
   "source": [
    "gid = coeffs['S1nonbarrel_neurons']['node_ids'][offsetIdx]"
   ]
  },
  {
   "cell_type": "code",
   "execution_count": 59,
   "metadata": {},
   "outputs": [
    {
     "data": {
      "text/plain": [
       "134246"
      ]
     },
     "execution_count": 59,
     "metadata": {},
     "output_type": "execute_result"
    }
   ],
   "source": [
    "gid"
   ]
  },
  {
   "cell_type": "code",
   "execution_count": 23,
   "metadata": {},
   "outputs": [],
   "source": [
    "sameIdx = np.where(diffs == 0)"
   ]
  },
  {
   "cell_type": "code",
   "execution_count": 24,
   "metadata": {},
   "outputs": [],
   "source": [
    "allValuesOutsideSphere = allValues*segmentsOutsideSphere"
   ]
  },
  {
   "cell_type": "code",
   "execution_count": 25,
   "metadata": {},
   "outputs": [],
   "source": [
    "allValuesWithinSphere = allValues * segmentsWithinSphere"
   ]
  },
  {
   "cell_type": "code",
   "execution_count": 26,
   "metadata": {},
   "outputs": [],
   "source": [
    "contribWithinSphere = np.sum(allValuesWithinSphere,axis=0) # This corresponds to the total contribution to each electrode from the segments within 6 um of the electrode, assuming a unit current from each segment\n"
   ]
  },
  {
   "cell_type": "code",
   "execution_count": 27,
   "metadata": {},
   "outputs": [],
   "source": [
    "contribOutsideSphere = np.sum(allValuesOutsideSphere,axis=0) # This corresponds to the total contribution to each electrode from the segments outside of the spheres, assuming a unit current from each segment\n"
   ]
  },
  {
   "cell_type": "code",
   "execution_count": 28,
   "metadata": {},
   "outputs": [
    {
     "data": {
      "text/plain": [
       "6.55169005795568e-07"
      ]
     },
     "execution_count": 28,
     "metadata": {},
     "output_type": "execute_result"
    }
   ],
   "source": [
    "np.mean(allValuesOutsideSphere[allValuesOutsideSphere!=0])"
   ]
  },
  {
   "cell_type": "code",
   "execution_count": 29,
   "metadata": {},
   "outputs": [
    {
     "data": {
      "text/plain": [
       "7.090189846564688e-05"
      ]
     },
     "execution_count": 29,
     "metadata": {},
     "output_type": "execute_result"
    }
   ],
   "source": [
    "np.mean(allValuesWithinSphere[allValuesWithinSphere!=0])"
   ]
  },
  {
   "cell_type": "code",
   "execution_count": 30,
   "metadata": {},
   "outputs": [
    {
     "data": {
      "text/plain": [
       "0.00043032966831212013"
      ]
     },
     "execution_count": 30,
     "metadata": {},
     "output_type": "execute_result"
    }
   ],
   "source": [
    "np.max(contribWithinSphere/contribOutsideSphere)"
   ]
  },
  {
   "cell_type": "code",
   "execution_count": 31,
   "metadata": {},
   "outputs": [
    {
     "data": {
      "text/plain": [
       "array([4.62488689, 4.91899944, 5.2113153 , 5.49777154, 5.77400302,\n",
       "       6.03031277, 6.26708996, 6.47424509, 6.65793851, 6.81738889,\n",
       "       6.95163778, 7.06395367, 7.16079183, 7.25253258, 7.34464597,\n",
       "       7.4417617 , 7.54590542, 7.6527232 , 7.75217712, 7.84672175,\n",
       "       7.93785905, 8.02835502, 8.11436703, 8.19922248, 8.28047252,\n",
       "       8.35529433, 8.43037171, 8.50582064, 8.57647634, 8.64120034,\n",
       "       8.68428637, 8.69147988, 8.65103498, 8.5615906 , 8.43467057,\n",
       "       8.28472945, 8.13508496, 7.99923164, 7.88265108, 7.78946691,\n",
       "       7.71994034, 7.67390555, 7.64628585, 7.62752176, 7.59065786,\n",
       "       7.4974282 , 7.31239457, 7.02076952, 6.63841929, 6.18796242,\n",
       "       5.71137594])"
      ]
     },
     "execution_count": 31,
     "metadata": {},
     "output_type": "execute_result"
    }
   ],
   "source": [
    "contribOutsideSphere"
   ]
  },
  {
   "cell_type": "code",
   "execution_count": 32,
   "metadata": {},
   "outputs": [
    {
     "data": {
      "text/plain": [
       "(11285758, 51)"
      ]
     },
     "execution_count": 32,
     "metadata": {},
     "output_type": "execute_result"
    }
   ],
   "source": [
    "diffs.shape"
   ]
  },
  {
   "cell_type": "code",
   "execution_count": 33,
   "metadata": {},
   "outputs": [
    {
     "data": {
      "text/plain": [
       "1361"
      ]
     },
     "execution_count": 33,
     "metadata": {},
     "output_type": "execute_result"
    }
   ],
   "source": [
    "len(np.unique(diffIdx[0])) # Number of segments within 6 um of an electrode"
   ]
  },
  {
   "cell_type": "code",
   "execution_count": 34,
   "metadata": {},
   "outputs": [
    {
     "name": "stdout",
     "output_type": "stream",
     "text": [
      "2.3645974430608846e-06\n"
     ]
    }
   ],
   "source": [
    "print(len(diffIdx[0])/(allValues.shape[0]*allValues.shape[1])) # Fraction of segments within 6 um of an electrode"
   ]
  },
  {
   "cell_type": "code",
   "execution_count": 35,
   "metadata": {},
   "outputs": [],
   "source": [
    "assumptionEffect = allValues[diffIdx]/allValuesFinite[diffIdx] "
   ]
  },
  {
   "cell_type": "code",
   "execution_count": 36,
   "metadata": {},
   "outputs": [
    {
     "data": {
      "text/plain": [
       "8.736191750211692"
      ]
     },
     "execution_count": 36,
     "metadata": {},
     "output_type": "execute_result"
    }
   ],
   "source": [
    "np.max(assumptionEffect)"
   ]
  },
  {
   "cell_type": "code",
   "execution_count": 37,
   "metadata": {},
   "outputs": [
    {
     "data": {
      "text/plain": [
       "45"
      ]
     },
     "execution_count": 37,
     "metadata": {},
     "output_type": "execute_result"
    }
   ],
   "source": [
    "len(np.where(assumptionEffect > 3)[0])"
   ]
  },
  {
   "cell_type": "code",
   "execution_count": 38,
   "metadata": {},
   "outputs": [
    {
     "name": "stdout",
     "output_type": "stream",
     "text": [
      "0.6867981119867946\n"
     ]
    }
   ],
   "source": [
    "minDistanceInModel = 1/(4*np.pi*.277*np.max(allValues[diffIdx]))\n",
    "print(minDistanceInModel*1e-3) # Minimum segment-electrode distance, in um"
   ]
  },
  {
   "cell_type": "code",
   "execution_count": 39,
   "metadata": {},
   "outputs": [
    {
     "data": {
      "text/plain": [
       "920.7401045194955"
      ]
     },
     "execution_count": 39,
     "metadata": {},
     "output_type": "execute_result"
    }
   ],
   "source": [
    "np.max(allValues)/np.median(allValues)"
   ]
  },
  {
   "cell_type": "code",
   "execution_count": 28,
   "metadata": {},
   "outputs": [
    {
     "data": {
      "application/vnd.jupyter.widget-view+json": {
       "model_id": "711a563c5416429d889e97843e5c565a",
       "version_major": 2,
       "version_minor": 0
      },
      "image/png": "[encoded data removed]",
      "text/html": [
       "\n",
       "            <div style=\"display: inline-block;\">\n",
       "                <div class=\"jupyter-widgets widget-label\" style=\"text-align: center;\">\n",
       "                    Figure\n",
       "                </div>\n",
       "                <img src='data:image/png;base64,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' width=200.0/>\n",
       "            </div>\n",
       "        "
      ],
      "text/plain": [
       "Canvas(toolbar=Toolbar(toolitems=[('Home', 'Reset original view', 'home', 'home'), ('Back', 'Back to previous …"
      ]
     },
     "metadata": {},
     "output_type": "display_data"
    }
   ],
   "source": [
    "h, b = np.histogram(np.abs(diffs.flatten()/allValues.flatten()),bins=100000)\n",
    "plt.figure(figsize=(2,2))\n",
    "ax = plt.gca()\n",
    "\n",
    "plt.plot(b[1:]*1e2,np.cumsum(h)/np.sum(h)*100)\n",
    "\n",
    "ax.legend(\"\", frameon=False)\n",
    "ax.spines[\"bottom\"].set_position((\"axes\", -0.05))\n",
    "ax.yaxis.set_ticks_position(\"left\")\n",
    "ax.spines[\"left\"].set_position((\"axes\", -0.05))\n",
    "ax.set_xlabel('Percent difference relative\\nto average within-neuron range')\n",
    "ax.set_ylabel('Percentage of compartments')\n",
    "\n",
    "#plt.xlim([0,1])\n",
    "plt.tight_layout()\n",
    "\n",
    "plt.savefig('cumulative_histogram.png',dpi=600)"
   ]
  },
  {
   "cell_type": "code",
   "execution_count": 21,
   "metadata": {},
   "outputs": [
    {
     "data": {
      "application/vnd.jupyter.widget-view+json": {
       "model_id": "00871a3293674ca6a3c68eefaaed238c",
       "version_major": 2,
       "version_minor": 0
      },
      "image/png": "[encoded data removed]",
      "text/html": [
       "\n",
       "            <div style=\"display: inline-block;\">\n",
       "                <div class=\"jupyter-widgets widget-label\" style=\"text-align: center;\">\n",
       "                    Figure\n",
       "                </div>\n",
       "                <img src='data:image/png;base64,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' width=200.0/>\n",
       "            </div>\n",
       "        "
      ],
      "text/plain": [
       "Canvas(toolbar=Toolbar(toolitems=[('Home', 'Reset original view', 'home', 'home'), ('Back', 'Back to previous …"
      ]
     },
     "metadata": {},
     "output_type": "display_data"
    }
   ],
   "source": [
    "plt.figure(figsize=(2,2))\n",
    "ax = plt.gca()\n",
    "plt.plot(allValues[:,30],allValuesFinite[:,30],'o')\n",
    "plt.plot([0,6e-5],[0,6e-5],'k')\n",
    "\n",
    "ax.legend(\"\", frameon=False)\n",
    "ax.spines[\"bottom\"].set_position((\"axes\", -0.05))\n",
    "ax.yaxis.set_ticks_position(\"left\")\n",
    "ax.spines[\"left\"].set_position((\"axes\", -0.05))\n",
    "ax.set_xlabel('Sensitivity for\\n6 $\\mu$m electrodes (V/nA)')\n",
    "ax.set_ylabel('Sensitivity for\\ninfinitesimal electrodes (V/nA)')\n",
    "\n",
    "plt.tight_layout()\n",
    "\n",
    "plt.savefig('sensitivity_scatter_plot.png',dpi=600)"
   ]
  }
 ],
 "metadata": {
  "kernelspec": {
   "display_name": "Python 3 (ipykernel)",
   "language": "python",
   "name": "python3"
  },
  "language_info": {
   "codemirror_mode": {
    "name": "ipython",
    "version": 3
   },
   "file_extension": ".py",
   "mimetype": "text/x-python",
   "name": "python",
   "nbconvert_exporter": "python",
   "pygments_lexer": "ipython3",
   "version": "3.11.6"
  }
 },
 "nbformat": 4,
 "nbformat_minor": 4
}
